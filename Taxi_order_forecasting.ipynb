{
 "cells": [
  {
   "cell_type": "markdown",
   "metadata": {},
   "source": [
    "The transport company has collected historical data on taxi orders at the airports. To attract more drivers during peak times, it is necessary to forecast the number of taxi orders for the next hour. Build a model for such predictions.\n",
    "\n",
    "The RMSE metric on the test set should be no more than 48.\n",
    "\n",
    "You need to:\n",
    "\n",
    "-Load the data and resample it by hour.\n",
    "\n",
    "-Analyze the data.\n",
    "\n",
    "-Train different models with various hyperparameters. Create a test set that is 10% of the original data.\n",
    "\n",
    "-Validate the models on the test set and draw conclusions."
   ]
  },
  {
   "cell_type": "code",
   "execution_count": 1,
   "metadata": {},
   "outputs": [],
   "source": [
    "import pandas as pd\n",
    "import numpy as np\n",
    "import matplotlib.pyplot as plt\n",
    "from sklearn.model_selection import train_test_split, GridSearchCV\n",
    "from sklearn.ensemble import RandomForestRegressor\n",
    "from sklearn.linear_model import LinearRegression\n",
    "from sklearn.metrics import mean_squared_error\n",
    "from statsmodels.tsa.seasonal import seasonal_decompose\n",
    "from statsmodels.graphics.tsaplots import plot_acf\n",
    "from sklearn.model_selection import TimeSeriesSplit"
   ]
  },
  {
   "cell_type": "code",
   "execution_count": 2,
   "metadata": {},
   "outputs": [],
   "source": [
    "def make_features(data, max_lag, rolling_mean_size):\n",
    "    #data['month'] = data.index.month\n",
    "    data['day'] = data.index.day\n",
    "    data['dayofweek'] = data.index.dayofweek\n",
    "    data['hour'] = data.index.hour\n",
    "    \n",
    "    for lag in range(1, max_lag + 1):\n",
    "        data['lag_{}'.format(lag)] = data['num_orders'].shift(lag , fill_value=0)\n",
    "\n",
    "    data['rolling_mean'] = data['num_orders'].shift().rolling(rolling_mean_size).mean()"
   ]
  },
  {
   "cell_type": "code",
   "execution_count": 3,
   "metadata": {},
   "outputs": [],
   "source": [
    "def decompose_to_df(data):\n",
    "    decomposed = seasonal_decompose(data['num_orders'])\n",
    "    output = pd.DataFrame(columns = ['seasonal', 'resid', 'observed', 'dayofweek', 'hour', 'rol_mean'])\n",
    "    output['seasonal'] = decomposed.seasonal\n",
    "    output['resid'] = decomposed.resid\n",
    "    output['observed'] = decomposed.observed\n",
    "    output['dayofweek'] = data['dayofweek']\n",
    "    output['hour'] = data['hour']\n",
    "    output['rol_mean'] = data['rolling_mean']\n",
    "    return output"
   ]
  },
  {
   "cell_type": "markdown",
   "metadata": {},
   "source": [
    "## Data preparation"
   ]
  },
  {
   "cell_type": "code",
   "execution_count": 4,
   "metadata": {},
   "outputs": [],
   "source": [
    "taxi = pd.read_csv('/datasets/taxi.csv', index_col=0, parse_dates=[0])\n",
    "taxi.sort_index(inplace=True)"
   ]
  },
  {
   "cell_type": "code",
   "execution_count": 5,
   "metadata": {},
   "outputs": [
    {
     "data": {
      "text/html": [
       "<div>\n",
       "<style scoped>\n",
       "    .dataframe tbody tr th:only-of-type {\n",
       "        vertical-align: middle;\n",
       "    }\n",
       "\n",
       "    .dataframe tbody tr th {\n",
       "        vertical-align: top;\n",
       "    }\n",
       "\n",
       "    .dataframe thead th {\n",
       "        text-align: right;\n",
       "    }\n",
       "</style>\n",
       "<table border=\"1\" class=\"dataframe\">\n",
       "  <thead>\n",
       "    <tr style=\"text-align: right;\">\n",
       "      <th></th>\n",
       "      <th>num_orders</th>\n",
       "    </tr>\n",
       "    <tr>\n",
       "      <th>datetime</th>\n",
       "      <th></th>\n",
       "    </tr>\n",
       "  </thead>\n",
       "  <tbody>\n",
       "    <tr>\n",
       "      <th>2018-03-01 00:00:00</th>\n",
       "      <td>9</td>\n",
       "    </tr>\n",
       "    <tr>\n",
       "      <th>2018-03-01 00:10:00</th>\n",
       "      <td>14</td>\n",
       "    </tr>\n",
       "    <tr>\n",
       "      <th>2018-03-01 00:20:00</th>\n",
       "      <td>28</td>\n",
       "    </tr>\n",
       "    <tr>\n",
       "      <th>2018-03-01 00:30:00</th>\n",
       "      <td>20</td>\n",
       "    </tr>\n",
       "    <tr>\n",
       "      <th>2018-03-01 00:40:00</th>\n",
       "      <td>32</td>\n",
       "    </tr>\n",
       "  </tbody>\n",
       "</table>\n",
       "</div>"
      ],
      "text/plain": [
       "                     num_orders\n",
       "datetime                       \n",
       "2018-03-01 00:00:00           9\n",
       "2018-03-01 00:10:00          14\n",
       "2018-03-01 00:20:00          28\n",
       "2018-03-01 00:30:00          20\n",
       "2018-03-01 00:40:00          32"
      ]
     },
     "execution_count": 5,
     "metadata": {},
     "output_type": "execute_result"
    }
   ],
   "source": [
    "taxi.head()"
   ]
  },
  {
   "cell_type": "code",
   "execution_count": 6,
   "metadata": {},
   "outputs": [],
   "source": [
    "# 1h resampling\n",
    "\n",
    "taxi = taxi.resample('1H').sum()"
   ]
  },
  {
   "cell_type": "markdown",
   "metadata": {},
   "source": [
    "## Data analysis"
   ]
  },
  {
   "cell_type": "markdown",
   "metadata": {},
   "source": [
    "First, let's check for any missing values or implausible numbers of orders per hour:"
   ]
  },
  {
   "cell_type": "code",
   "execution_count": 7,
   "metadata": {},
   "outputs": [
    {
     "data": {
      "text/plain": [
       "0"
      ]
     },
     "execution_count": 7,
     "metadata": {},
     "output_type": "execute_result"
    }
   ],
   "source": [
    "taxi['num_orders'].isna().sum()"
   ]
  },
  {
   "cell_type": "code",
   "execution_count": 8,
   "metadata": {},
   "outputs": [
    {
     "data": {
      "image/png": "[encoded data removed]",
      "text/plain": [
       "<Figure size 432x288 with 1 Axes>"
      ]
     },
     "metadata": {
      "needs_background": "light"
     },
     "output_type": "display_data"
    }
   ],
   "source": [
    "plt.hist(taxi['num_orders'], bins=100)\n",
    "plt.title('N of orders per hour')\n",
    "plt.xlabel('n of orders')\n",
    "plt.ylabel('n')\n",
    "\n",
    "plt.show()"
   ]
  },
  {
   "cell_type": "markdown",
   "metadata": {},
   "source": [
    "Let's remove obvious outliers (there are single days when orders exceed 290 — these are difficult to predict, and attracting more drivers won’t be influenced by this; drivers need to be attracted for both 250 and >400 orders). We will also add features: month, date, and day of the week when the order was placed, as well as a moving average."
   ]
  },
  {
   "cell_type": "code",
   "execution_count": 9,
   "metadata": {},
   "outputs": [],
   "source": [
    "taxi=taxi[taxi['num_orders'] < 290]"
   ]
  },
  {
   "cell_type": "code",
   "execution_count": 10,
   "metadata": {},
   "outputs": [],
   "source": [
    "make_features(taxi, 1, 24)"
   ]
  },
  {
   "cell_type": "markdown",
   "metadata": {},
   "source": [
    "Let's conduct a time series analysis. We'll start by checking the assumption that there is weekly seasonality in the data:"
   ]
  },
  {
   "cell_type": "code",
   "execution_count": 11,
   "metadata": {},
   "outputs": [],
   "source": [
    "data = taxi.resample('1D').sum()\n",
    "make_features(data, 1, 7)\n",
    "data = data['2018-06-01':'2018-06-14']\n",
    "\n",
    "decomposed_df = decompose_to_df(data)"
   ]
  },
  {
   "cell_type": "code",
   "execution_count": 12,
   "metadata": {},
   "outputs": [
    {
     "data": {
      "image/png": "[encoded data removed]",
      "text/plain": [
       "<Figure size 432x288 with 1 Axes>"
      ]
     },
     "metadata": {
      "needs_background": "light"
     },
     "output_type": "display_data"
    }
   ],
   "source": [
    "decomposed_df[['seasonal', 'resid', 'observed', 'rol_mean']].plot()\n",
    "plt.xticks(decomposed_df.index, decomposed_df['dayofweek'])\n",
    "plt.title('Decomposition by days')\n",
    "plt.ylabel('n orders')\n",
    "plt.xlabel('day of the week')\n",
    "plt.show()"
   ]
  },
  {
   "cell_type": "markdown",
   "metadata": {},
   "source": [
    "So, we see a clear seasonality by days of the week: the minimum number of orders occurs at the beginning of the week (Monday-Tuesday), while the maximum is at the end of the week. Now, let's check for seasonality by hour:"
   ]
  },
  {
   "cell_type": "code",
   "execution_count": 13,
   "metadata": {},
   "outputs": [],
   "source": [
    "data = taxi.resample('1H').sum()\n",
    "make_features(data, 1, 24)\n",
    "data = data['2018-05-01':'2018-05-07']\n",
    "\n",
    "decomposed_df = decompose_to_df(data)"
   ]
  },
  {
   "cell_type": "code",
   "execution_count": 14,
   "metadata": {},
   "outputs": [
    {
     "data": {
      "image/png": "[encoded data removed]",
      "text/plain": [
       "<Figure size 432x288 with 1 Axes>"
      ]
     },
     "metadata": {
      "needs_background": "light"
     },
     "output_type": "display_data"
    }
   ],
   "source": [
    "decomposed_df[['seasonal', 'resid', 'observed', 'rol_mean']].plot()\n",
    "plt.title('Decomposition by hours')\n",
    "plt.ylabel('n orders')\n",
    "plt.xlabel('day')\n",
    "plt.show()"
   ]
  },
  {
   "cell_type": "code",
   "execution_count": 15,
   "metadata": {},
   "outputs": [],
   "source": [
    "data = taxi.resample('1H').sum()\n",
    "make_features(data, 1, 24)\n",
    "data = data['2018-05-01':'2018-05-02']\n",
    "\n",
    "decomposed_df = decompose_to_df(data)"
   ]
  },
  {
   "cell_type": "code",
   "execution_count": 16,
   "metadata": {},
   "outputs": [
    {
     "data": {
      "image/png": "[encoded data removed]",
      "text/plain": [
       "<Figure size 432x288 with 1 Axes>"
      ]
     },
     "metadata": {
      "needs_background": "light"
     },
     "output_type": "display_data"
    }
   ],
   "source": [
    "decomposed_df[['seasonal', 'resid', 'observed', 'rol_mean']].plot()\n",
    "plt.xticks(decomposed_df.index, decomposed_df['hour'], rotation=90, fontsize=7)\n",
    "plt.title('Decomposition by hours')\n",
    "plt.ylabel('n orders')\n",
    "plt.xlabel('hour of the day')\n",
    "plt.show()"
   ]
  },
  {
   "cell_type": "markdown",
   "metadata": {},
   "source": [
    "There is also a very clear trend by hour: the peak of orders occurs at midnight, while the minimum is at 6 AM.\n",
    "\n",
    "Now, let's check how the residuals behave across all data:"
   ]
  },
  {
   "cell_type": "code",
   "execution_count": 17,
   "metadata": {},
   "outputs": [],
   "source": [
    "data = taxi.resample('1D').sum()\n",
    "make_features(data, 1, 24)\n",
    "\n",
    "decomposed_df = decompose_to_df(data)"
   ]
  },
  {
   "cell_type": "code",
   "execution_count": 18,
   "metadata": {},
   "outputs": [
    {
     "data": {
      "image/png": "[encoded data removed]",
      "text/plain": [
       "<Figure size 432x288 with 1 Axes>"
      ]
     },
     "metadata": {
      "needs_background": "light"
     },
     "output_type": "display_data"
    }
   ],
   "source": [
    "decomposed_df[['seasonal', 'resid', 'observed', 'rol_mean']].plot()\n",
    "plt.title('Decomposition by hours')\n",
    "plt.ylabel('n orders')\n",
    "plt.xlabel('hour of the day')\n",
    "plt.show()"
   ]
  },
  {
   "cell_type": "markdown",
   "metadata": {},
   "source": [
    "The residuals remain consistent throughout the entire period."
   ]
  },
  {
   "cell_type": "markdown",
   "metadata": {},
   "source": [
    "## Model training"
   ]
  },
  {
   "cell_type": "markdown",
   "metadata": {},
   "source": [
    "We don't need to encode the features (all are numerical), and there’s no real need to scale them either—how would you scale the day of the week or the month? Therefore, we will directly split the data into training and test sets without shuffling."
   ]
  },
  {
   "cell_type": "code",
   "execution_count": 19,
   "metadata": {},
   "outputs": [],
   "source": [
    "train, test = train_test_split(taxi, test_size=.1, shuffle=False)\n",
    "train = train.dropna()"
   ]
  },
  {
   "cell_type": "code",
   "execution_count": 20,
   "metadata": {},
   "outputs": [],
   "source": [
    "X_train = train.drop(['num_orders'], axis=1)\n",
    "y_train = train['num_orders']\n",
    "X_test = test.drop(['num_orders'], axis=1)\n",
    "y_test = test['num_orders']"
   ]
  },
  {
   "cell_type": "markdown",
   "metadata": {},
   "source": [
    "### Linear regression"
   ]
  },
  {
   "cell_type": "code",
   "execution_count": 21,
   "metadata": {},
   "outputs": [
    {
     "data": {
      "text/plain": [
       "GridSearchCV(cv=TimeSeriesSplit(gap=0, max_train_size=None, n_splits=5, test_size=None),\n",
       "             estimator=LinearRegression(),\n",
       "             param_grid={'fit_intercept': [True, False],\n",
       "                         'normalize': [True, False]},\n",
       "             scoring='neg_mean_squared_error')"
      ]
     },
     "execution_count": 21,
     "metadata": {},
     "output_type": "execute_result"
    }
   ],
   "source": [
    "model = LinearRegression()\n",
    "\n",
    "param_grid = {\n",
    "    'fit_intercept': [True, False],\n",
    "    'normalize': [True, False],\n",
    "    \n",
    "}\n",
    "\n",
    "tscv = TimeSeriesSplit(n_splits=5)\n",
    "grid_search_lr = GridSearchCV(estimator=model, param_grid=param_grid, cv=tscv, scoring='neg_mean_squared_error')\n",
    "\n",
    "\n",
    "grid_search_lr.fit(X_train, y_train)"
   ]
  },
  {
   "cell_type": "code",
   "execution_count": 22,
   "metadata": {},
   "outputs": [
    {
     "name": "stdout",
     "output_type": "stream",
     "text": [
      "Best LR score: 31.67854473070821\n"
     ]
    }
   ],
   "source": [
    "print(f'Best LR score: {np.sqrt(-1*grid_search_lr.best_score_)}')"
   ]
  },
  {
   "cell_type": "markdown",
   "metadata": {},
   "source": [
    "### Random forest"
   ]
  },
  {
   "cell_type": "code",
   "execution_count": 23,
   "metadata": {},
   "outputs": [
    {
     "name": "stdout",
     "output_type": "stream",
     "text": [
      "Fitting 5 folds for each of 4 candidates, totalling 20 fits\n"
     ]
    },
    {
     "data": {
      "text/plain": [
       "GridSearchCV(cv=TimeSeriesSplit(gap=0, max_train_size=None, n_splits=5, test_size=None),\n",
       "             estimator=RandomForestRegressor(random_state=42), n_jobs=-1,\n",
       "             param_grid={'max_depth': [5, 7], 'n_estimators': [50, 100]},\n",
       "             scoring='neg_mean_squared_error', verbose=1)"
      ]
     },
     "execution_count": 23,
     "metadata": {},
     "output_type": "execute_result"
    }
   ],
   "source": [
    "model = RandomForestRegressor(random_state = 42)\n",
    "\n",
    "param_grid = {\n",
    "    'max_depth': [5, 7],\n",
    "    'n_estimators': [50, 100],\n",
    "    \n",
    "}\n",
    "\n",
    "tscv = TimeSeriesSplit(n_splits=5)\n",
    "grid_search_rf = GridSearchCV(\n",
    "    estimator=model, \n",
    "    param_grid=param_grid, \n",
    "    scoring='neg_mean_squared_error', \n",
    "    cv=tscv, \n",
    "    verbose=1, \n",
    "    n_jobs=-1\n",
    ")\n",
    "\n",
    "grid_search_rf.fit(X_train, y_train)"
   ]
  },
  {
   "cell_type": "code",
   "execution_count": 24,
   "metadata": {
    "scrolled": true
   },
   "outputs": [
    {
     "name": "stdout",
     "output_type": "stream",
     "text": [
      "Best RF score: 26.668736350489482\n"
     ]
    }
   ],
   "source": [
    "print(f'Best RF score: {np.sqrt(-1*grid_search_rf.best_score_)}')"
   ]
  },
  {
   "cell_type": "markdown",
   "metadata": {},
   "source": [
    "## Testing"
   ]
  },
  {
   "cell_type": "markdown",
   "metadata": {},
   "source": [
    "Both models performed well (the RMSE metric exceeded the threshold value specified in the task). I chose the random forest for testing, as the RMSE metric for this model was slightly better."
   ]
  },
  {
   "cell_type": "code",
   "execution_count": 25,
   "metadata": {
    "scrolled": true
   },
   "outputs": [
    {
     "name": "stdout",
     "output_type": "stream",
     "text": [
      "rmse on test samples for the best estimator: 45.20132611422132\n"
     ]
    }
   ],
   "source": [
    "y_pred = grid_search_rf.predict(X_test)\n",
    "\n",
    "print(f'rmse on test samples for the best estimator: {np.sqrt(mean_squared_error(y_test, y_pred))}')"
   ]
  },
  {
   "cell_type": "markdown",
   "metadata": {},
   "source": [
    "Residual analysis:"
   ]
  },
  {
   "cell_type": "code",
   "execution_count": 26,
   "metadata": {},
   "outputs": [
    {
     "data": {
      "image/png": "[encoded data removed]",
      "text/plain": [
       "<Figure size 432x288 with 1 Axes>"
      ]
     },
     "metadata": {
      "needs_background": "light"
     },
     "output_type": "display_data"
    }
   ],
   "source": [
    "plt.subplots()\n",
    "plt.plot(y_test.values, label='test values')\n",
    "plt.plot(y_pred, label='predicted values')\n",
    "plt.ylabel('value')\n",
    "plt.title('Predictions vs test values')\n",
    "plt.legend()\n",
    "plt.show()"
   ]
  },
  {
   "cell_type": "code",
   "execution_count": 27,
   "metadata": {},
   "outputs": [
    {
     "data": {
      "image/png": "[encoded data removed]",
      "text/plain": [
       "<Figure size 432x288 with 1 Axes>"
      ]
     },
     "metadata": {
      "needs_background": "light"
     },
     "output_type": "display_data"
    }
   ],
   "source": [
    "residuals = y_test - y_pred\n",
    "\n",
    "plot_acf(residuals)\n",
    "plt.title('Autocorrelation of Residuals')\n",
    "plt.show()"
   ]
  },
  {
   "cell_type": "markdown",
   "metadata": {},
   "source": [
    "So, the model starts to predict the number of orders somewhat worse toward the end of the available time series, but overall, the predictions are very accurate. In analyzing the residuals, I didn't notice any peaks on the 1/7-day intervals, which suggests that we accounted for seasonality correctly. However, there is an inexplicable complete absence of peaks at all points that are multiples of 5."
   ]
  },
  {
   "cell_type": "markdown",
   "metadata": {},
   "source": [
    "Conclusions:\n",
    "\n",
    "Resampling the data to an hourly frequency creates a time series optimal for forecasting.\n",
    "\n",
    "Training the linear regression and random forest models showed that both can be used for predictions; however, the random forest demonstrates a slightly lower RMSE value.\n",
    "\n",
    "The RMSE of the linear regression model on the test set was less than 48, which meets the requirements specified in the task.\n",
    "\n",
    "Overall, the model makes very accurate predictions, but it tends to err more as it approaches the end of the time series. This should be considered when deploying the model (it may be necessary to frequently retrain the model if this does not contradict the conditions set by the stakeholders)."
   ]
  },
  {
   "cell_type": "code",
   "execution_count": null,
   "metadata": {},
   "outputs": [],
   "source": []
  }
 ],
 "metadata": {
  "ExecuteTimeLog": [
   {
    "duration": 739,
    "start_time": "2024-06-23T10:15:54.313Z"
   },
   {
    "duration": 3,
    "start_time": "2024-06-23T10:16:22.816Z"
   },
   {
    "duration": 91,
    "start_time": "2024-06-23T10:16:32.782Z"
   },
   {
    "duration": 11,
    "start_time": "2024-06-23T10:16:38.091Z"
   },
   {
    "duration": 41,
    "start_time": "2024-06-23T10:17:24.097Z"
   },
   {
    "duration": 7,
    "start_time": "2024-06-23T10:17:24.881Z"
   },
   {
    "duration": 771,
    "start_time": "2024-06-24T14:49:47.186Z"
   },
   {
    "duration": 157,
    "start_time": "2024-06-24T14:49:48.510Z"
   },
   {
    "duration": 10,
    "start_time": "2024-06-24T14:49:53.859Z"
   },
   {
    "duration": 44,
    "start_time": "2024-06-24T14:51:03.607Z"
   },
   {
    "duration": 6,
    "start_time": "2024-06-24T14:51:04.340Z"
   },
   {
    "duration": 8,
    "start_time": "2024-06-24T14:51:22.753Z"
   },
   {
    "duration": 53,
    "start_time": "2024-06-24T14:51:25.126Z"
   },
   {
    "duration": 6,
    "start_time": "2024-06-24T14:51:25.598Z"
   },
   {
    "duration": 6,
    "start_time": "2024-06-24T14:51:26.138Z"
   },
   {
    "duration": 7,
    "start_time": "2024-06-24T14:51:32.150Z"
   },
   {
    "duration": 42,
    "start_time": "2024-06-24T14:51:42.993Z"
   },
   {
    "duration": 6,
    "start_time": "2024-06-24T14:51:43.563Z"
   },
   {
    "duration": 6,
    "start_time": "2024-06-24T14:51:44.435Z"
   },
   {
    "duration": 8,
    "start_time": "2024-06-24T14:51:45.074Z"
   },
   {
    "duration": 5,
    "start_time": "2024-06-24T14:53:31.600Z"
   },
   {
    "duration": 153,
    "start_time": "2024-06-24T14:53:44.938Z"
   },
   {
    "duration": 163,
    "start_time": "2024-06-24T14:53:54.810Z"
   },
   {
    "duration": 232,
    "start_time": "2024-06-24T14:54:00.374Z"
   },
   {
    "duration": 179,
    "start_time": "2024-06-24T14:55:20.509Z"
   },
   {
    "duration": 4,
    "start_time": "2024-06-24T14:57:08.928Z"
   },
   {
    "duration": 6,
    "start_time": "2024-06-24T14:57:22.228Z"
   },
   {
    "duration": 7,
    "start_time": "2024-06-24T14:57:28.344Z"
   },
   {
    "duration": 8,
    "start_time": "2024-06-24T14:57:33.550Z"
   },
   {
    "duration": 4,
    "start_time": "2024-06-24T14:57:51.999Z"
   },
   {
    "duration": 4,
    "start_time": "2024-06-24T14:58:07.214Z"
   },
   {
    "duration": 533,
    "start_time": "2024-06-24T14:59:08.726Z"
   },
   {
    "duration": 4,
    "start_time": "2024-06-24T14:59:09.260Z"
   },
   {
    "duration": 55,
    "start_time": "2024-06-24T14:59:09.265Z"
   },
   {
    "duration": 10,
    "start_time": "2024-06-24T14:59:09.322Z"
   },
   {
    "duration": 9,
    "start_time": "2024-06-24T14:59:09.333Z"
   },
   {
    "duration": 3,
    "start_time": "2024-06-24T14:59:09.343Z"
   },
   {
    "duration": 194,
    "start_time": "2024-06-24T14:59:09.348Z"
   },
   {
    "duration": 6,
    "start_time": "2024-06-24T14:59:09.543Z"
   },
   {
    "duration": 8,
    "start_time": "2024-06-24T14:59:09.550Z"
   },
   {
    "duration": 3,
    "start_time": "2024-06-24T15:00:31.115Z"
   },
   {
    "duration": 6,
    "start_time": "2024-06-24T15:00:35.485Z"
   },
   {
    "duration": 16,
    "start_time": "2024-06-24T15:00:36.362Z"
   },
   {
    "duration": 8,
    "start_time": "2024-06-24T15:00:50.396Z"
   },
   {
    "duration": 5,
    "start_time": "2024-06-24T15:00:55.731Z"
   },
   {
    "duration": 5,
    "start_time": "2024-06-24T15:01:02.395Z"
   },
   {
    "duration": 559,
    "start_time": "2024-06-24T15:03:01.231Z"
   },
   {
    "duration": 6,
    "start_time": "2024-06-24T15:03:43.041Z"
   },
   {
    "duration": 4,
    "start_time": "2024-06-24T15:04:05.714Z"
   },
   {
    "duration": 46,
    "start_time": "2024-06-24T15:07:36.162Z"
   },
   {
    "duration": 114,
    "start_time": "2024-06-24T15:07:43.816Z"
   },
   {
    "duration": 3,
    "start_time": "2024-06-24T15:08:00.650Z"
   },
   {
    "duration": 551,
    "start_time": "2024-06-24T15:08:04.216Z"
   },
   {
    "duration": 1705,
    "start_time": "2024-06-24T15:08:33.694Z"
   },
   {
    "duration": 1664,
    "start_time": "2024-06-24T15:08:39.759Z"
   },
   {
    "duration": 3,
    "start_time": "2024-06-24T15:09:03.851Z"
   },
   {
    "duration": 31,
    "start_time": "2024-06-24T15:11:41.695Z"
   },
   {
    "duration": 8,
    "start_time": "2024-06-24T15:12:06.426Z"
   },
   {
    "duration": 8,
    "start_time": "2024-06-24T15:12:17.485Z"
   },
   {
    "duration": 106,
    "start_time": "2024-06-24T15:12:22.312Z"
   },
   {
    "duration": 4,
    "start_time": "2024-06-24T15:12:30.062Z"
   },
   {
    "duration": 110,
    "start_time": "2024-06-24T15:12:32.041Z"
   },
   {
    "duration": 4,
    "start_time": "2024-06-24T15:12:43.353Z"
   },
   {
    "duration": 8,
    "start_time": "2024-06-24T15:15:21.461Z"
   },
   {
    "duration": 2,
    "start_time": "2024-06-24T15:15:49.447Z"
   },
   {
    "duration": 4,
    "start_time": "2024-06-24T15:15:53.123Z"
   },
   {
    "duration": 1218,
    "start_time": "2024-06-24T15:17:22.041Z"
   },
   {
    "duration": 4,
    "start_time": "2024-06-24T15:17:23.261Z"
   },
   {
    "duration": 80,
    "start_time": "2024-06-24T15:17:23.267Z"
   },
   {
    "duration": 8,
    "start_time": "2024-06-24T15:17:23.348Z"
   },
   {
    "duration": 37,
    "start_time": "2024-06-24T15:17:23.358Z"
   },
   {
    "duration": 18,
    "start_time": "2024-06-24T15:17:23.397Z"
   },
   {
    "duration": 235,
    "start_time": "2024-06-24T15:17:23.416Z"
   },
   {
    "duration": 7,
    "start_time": "2024-06-24T15:17:23.653Z"
   },
   {
    "duration": 33,
    "start_time": "2024-06-24T15:17:23.661Z"
   },
   {
    "duration": 6,
    "start_time": "2024-06-24T15:17:23.696Z"
   },
   {
    "duration": 29,
    "start_time": "2024-06-24T15:17:23.703Z"
   },
   {
    "duration": 109,
    "start_time": "2024-06-24T15:17:23.734Z"
   },
   {
    "duration": 3,
    "start_time": "2024-06-24T15:17:23.845Z"
   },
   {
    "duration": 1883,
    "start_time": "2024-06-24T15:17:23.850Z"
   },
   {
    "duration": 3,
    "start_time": "2024-06-24T15:17:25.734Z"
   },
   {
    "duration": 70,
    "start_time": "2024-06-24T15:17:25.738Z"
   },
   {
    "duration": 1271,
    "start_time": "2024-06-24T15:18:05.191Z"
   },
   {
    "duration": 3,
    "start_time": "2024-06-24T15:18:06.464Z"
   },
   {
    "duration": 58,
    "start_time": "2024-06-24T15:18:06.469Z"
   },
   {
    "duration": 8,
    "start_time": "2024-06-24T15:18:06.529Z"
   },
   {
    "duration": 11,
    "start_time": "2024-06-24T15:18:06.538Z"
   },
   {
    "duration": 15,
    "start_time": "2024-06-24T15:18:06.550Z"
   },
   {
    "duration": 229,
    "start_time": "2024-06-24T15:18:06.566Z"
   },
   {
    "duration": 8,
    "start_time": "2024-06-24T15:18:06.796Z"
   },
   {
    "duration": 21,
    "start_time": "2024-06-24T15:18:06.805Z"
   },
   {
    "duration": 6,
    "start_time": "2024-06-24T15:18:06.828Z"
   },
   {
    "duration": 4,
    "start_time": "2024-06-24T15:18:06.835Z"
   },
   {
    "duration": 113,
    "start_time": "2024-06-24T15:18:06.840Z"
   },
   {
    "duration": 4,
    "start_time": "2024-06-24T15:18:06.954Z"
   },
   {
    "duration": 3607,
    "start_time": "2024-06-24T15:18:06.960Z"
   },
   {
    "duration": 30,
    "start_time": "2024-06-24T15:18:10.569Z"
   },
   {
    "duration": 5,
    "start_time": "2024-06-24T15:18:10.600Z"
   },
   {
    "duration": 37,
    "start_time": "2024-06-24T15:18:32.913Z"
   },
   {
    "duration": 13,
    "start_time": "2024-06-24T15:20:01.591Z"
   },
   {
    "duration": 9,
    "start_time": "2024-06-24T15:20:04.983Z"
   },
   {
    "duration": 106,
    "start_time": "2024-06-24T15:20:14.048Z"
   },
   {
    "duration": 75387,
    "start_time": "2024-06-24T15:20:36.717Z"
   },
   {
    "duration": 0,
    "start_time": "2024-06-24T15:21:52.105Z"
   },
   {
    "duration": 0,
    "start_time": "2024-06-24T15:21:52.107Z"
   },
   {
    "duration": 4586,
    "start_time": "2024-06-24T15:21:53.935Z"
   },
   {
    "duration": 3,
    "start_time": "2024-06-24T15:21:58.523Z"
   },
   {
    "duration": 87,
    "start_time": "2024-06-24T15:22:08.316Z"
   },
   {
    "duration": 12,
    "start_time": "2024-06-24T15:22:09.197Z"
   },
   {
    "duration": 5,
    "start_time": "2024-06-24T15:22:15.916Z"
   },
   {
    "duration": 1721827,
    "start_time": "2024-06-24T15:22:30.951Z"
   },
   {
    "duration": 10,
    "start_time": "2024-06-24T15:51:12.788Z"
   },
   {
    "duration": 11,
    "start_time": "2024-06-24T15:52:02.999Z"
   },
   {
    "duration": 23,
    "start_time": "2024-06-24T15:52:11.263Z"
   },
   {
    "duration": 1206,
    "start_time": "2024-06-24T15:52:29.447Z"
   },
   {
    "duration": 4,
    "start_time": "2024-06-24T15:52:30.654Z"
   },
   {
    "duration": 124,
    "start_time": "2024-06-24T15:52:30.659Z"
   },
   {
    "duration": 9,
    "start_time": "2024-06-24T15:52:30.784Z"
   },
   {
    "duration": 26,
    "start_time": "2024-06-24T15:52:30.795Z"
   },
   {
    "duration": 33,
    "start_time": "2024-06-24T15:52:30.822Z"
   },
   {
    "duration": 233,
    "start_time": "2024-06-24T15:52:30.856Z"
   },
   {
    "duration": 7,
    "start_time": "2024-06-24T15:52:31.091Z"
   },
   {
    "duration": 42,
    "start_time": "2024-06-24T15:52:31.100Z"
   },
   {
    "duration": 52,
    "start_time": "2024-06-24T15:52:31.143Z"
   },
   {
    "duration": 31,
    "start_time": "2024-06-24T15:52:31.198Z"
   },
   {
    "duration": 138,
    "start_time": "2024-06-24T15:52:31.230Z"
   },
   {
    "duration": 6,
    "start_time": "2024-06-24T15:52:31.370Z"
   },
   {
    "duration": 4513,
    "start_time": "2024-06-24T15:52:31.378Z"
   },
   {
    "duration": 3,
    "start_time": "2024-06-24T15:52:35.893Z"
   },
   {
    "duration": 31,
    "start_time": "2024-06-24T15:52:35.897Z"
   },
   {
    "duration": 1206,
    "start_time": "2024-06-24T15:52:49.620Z"
   },
   {
    "duration": 3,
    "start_time": "2024-06-24T15:52:50.830Z"
   },
   {
    "duration": 52,
    "start_time": "2024-06-24T15:52:50.835Z"
   },
   {
    "duration": 10,
    "start_time": "2024-06-24T15:52:50.889Z"
   },
   {
    "duration": 9,
    "start_time": "2024-06-24T15:52:50.901Z"
   },
   {
    "duration": 4,
    "start_time": "2024-06-24T15:52:50.912Z"
   },
   {
    "duration": 219,
    "start_time": "2024-06-24T15:52:50.918Z"
   },
   {
    "duration": 8,
    "start_time": "2024-06-24T15:52:51.139Z"
   },
   {
    "duration": 7,
    "start_time": "2024-06-24T15:52:51.148Z"
   },
   {
    "duration": 27,
    "start_time": "2024-06-24T15:52:51.156Z"
   },
   {
    "duration": 11,
    "start_time": "2024-06-24T15:52:51.187Z"
   },
   {
    "duration": 99,
    "start_time": "2024-06-24T15:52:51.200Z"
   },
   {
    "duration": 4,
    "start_time": "2024-06-24T15:52:51.300Z"
   },
   {
    "duration": 4505,
    "start_time": "2024-06-24T15:52:51.306Z"
   },
   {
    "duration": 2,
    "start_time": "2024-06-24T15:52:55.813Z"
   },
   {
    "duration": 10,
    "start_time": "2024-06-24T15:52:55.816Z"
   },
   {
    "duration": 1212,
    "start_time": "2024-06-24T15:54:23.320Z"
   },
   {
    "duration": 4,
    "start_time": "2024-06-24T15:54:24.533Z"
   },
   {
    "duration": 59,
    "start_time": "2024-06-24T15:54:24.538Z"
   },
   {
    "duration": 9,
    "start_time": "2024-06-24T15:54:24.600Z"
   },
   {
    "duration": 9,
    "start_time": "2024-06-24T15:54:24.610Z"
   },
   {
    "duration": 4,
    "start_time": "2024-06-24T15:54:24.620Z"
   },
   {
    "duration": 202,
    "start_time": "2024-06-24T15:54:24.625Z"
   },
   {
    "duration": 7,
    "start_time": "2024-06-24T15:54:24.828Z"
   },
   {
    "duration": 9,
    "start_time": "2024-06-24T15:54:24.836Z"
   },
   {
    "duration": 5,
    "start_time": "2024-06-24T15:54:24.847Z"
   },
   {
    "duration": 4,
    "start_time": "2024-06-24T15:54:24.853Z"
   },
   {
    "duration": 99,
    "start_time": "2024-06-24T15:54:24.871Z"
   },
   {
    "duration": 23,
    "start_time": "2024-06-24T15:54:24.977Z"
   },
   {
    "duration": 4666,
    "start_time": "2024-06-24T15:54:25.001Z"
   },
   {
    "duration": 25,
    "start_time": "2024-06-24T15:54:29.669Z"
   },
   {
    "duration": 5,
    "start_time": "2024-06-24T15:54:29.696Z"
   },
   {
    "duration": 1237,
    "start_time": "2024-06-24T15:54:46.413Z"
   },
   {
    "duration": 4,
    "start_time": "2024-06-24T15:54:47.652Z"
   },
   {
    "duration": 64,
    "start_time": "2024-06-24T15:54:47.657Z"
   },
   {
    "duration": 10,
    "start_time": "2024-06-24T15:54:47.723Z"
   },
   {
    "duration": 11,
    "start_time": "2024-06-24T15:54:47.736Z"
   },
   {
    "duration": 6,
    "start_time": "2024-06-24T15:54:47.749Z"
   },
   {
    "duration": 211,
    "start_time": "2024-06-24T15:54:47.757Z"
   },
   {
    "duration": 23,
    "start_time": "2024-06-24T15:54:47.971Z"
   },
   {
    "duration": 10,
    "start_time": "2024-06-24T15:54:47.996Z"
   },
   {
    "duration": 7,
    "start_time": "2024-06-24T15:54:48.008Z"
   },
   {
    "duration": 4,
    "start_time": "2024-06-24T15:54:48.017Z"
   },
   {
    "duration": 129,
    "start_time": "2024-06-24T15:54:48.023Z"
   },
   {
    "duration": 4,
    "start_time": "2024-06-24T15:54:48.153Z"
   },
   {
    "duration": 4493,
    "start_time": "2024-06-24T15:54:48.160Z"
   },
   {
    "duration": 3,
    "start_time": "2024-06-24T15:54:52.655Z"
   },
   {
    "duration": 39,
    "start_time": "2024-06-24T15:54:52.659Z"
   },
   {
    "duration": 1212,
    "start_time": "2024-06-24T15:55:14.511Z"
   },
   {
    "duration": 4,
    "start_time": "2024-06-24T15:55:15.725Z"
   },
   {
    "duration": 76,
    "start_time": "2024-06-24T15:55:15.730Z"
   },
   {
    "duration": 9,
    "start_time": "2024-06-24T15:55:15.807Z"
   },
   {
    "duration": 30,
    "start_time": "2024-06-24T15:55:15.818Z"
   },
   {
    "duration": 16,
    "start_time": "2024-06-24T15:55:15.850Z"
   },
   {
    "duration": 226,
    "start_time": "2024-06-24T15:55:15.868Z"
   },
   {
    "duration": 7,
    "start_time": "2024-06-24T15:55:16.095Z"
   },
   {
    "duration": 7,
    "start_time": "2024-06-24T15:55:16.104Z"
   },
   {
    "duration": 7,
    "start_time": "2024-06-24T15:55:16.113Z"
   },
   {
    "duration": 6,
    "start_time": "2024-06-24T15:55:16.121Z"
   },
   {
    "duration": 109,
    "start_time": "2024-06-24T15:55:16.128Z"
   },
   {
    "duration": 4,
    "start_time": "2024-06-24T15:55:16.238Z"
   },
   {
    "duration": 4501,
    "start_time": "2024-06-24T15:55:16.244Z"
   },
   {
    "duration": 4,
    "start_time": "2024-06-24T15:55:20.746Z"
   },
   {
    "duration": 32,
    "start_time": "2024-06-24T15:55:20.752Z"
   },
   {
    "duration": 1282,
    "start_time": "2024-06-24T15:55:36.443Z"
   },
   {
    "duration": 4,
    "start_time": "2024-06-24T15:55:37.726Z"
   },
   {
    "duration": 56,
    "start_time": "2024-06-24T15:55:37.731Z"
   },
   {
    "duration": 10,
    "start_time": "2024-06-24T15:55:37.790Z"
   },
   {
    "duration": 12,
    "start_time": "2024-06-24T15:55:37.802Z"
   },
   {
    "duration": 7,
    "start_time": "2024-06-24T15:55:37.815Z"
   },
   {
    "duration": 201,
    "start_time": "2024-06-24T15:55:37.823Z"
   },
   {
    "duration": 8,
    "start_time": "2024-06-24T15:55:38.025Z"
   },
   {
    "duration": 23,
    "start_time": "2024-06-24T15:55:38.036Z"
   },
   {
    "duration": 19,
    "start_time": "2024-06-24T15:55:38.060Z"
   },
   {
    "duration": 13,
    "start_time": "2024-06-24T15:55:38.080Z"
   },
   {
    "duration": 101,
    "start_time": "2024-06-24T15:55:38.094Z"
   },
   {
    "duration": 4,
    "start_time": "2024-06-24T15:55:38.196Z"
   },
   {
    "duration": 4168,
    "start_time": "2024-06-24T15:55:38.202Z"
   },
   {
    "duration": 10,
    "start_time": "2024-06-24T15:55:42.376Z"
   },
   {
    "duration": 10,
    "start_time": "2024-06-24T15:55:42.387Z"
   },
   {
    "duration": 1274,
    "start_time": "2024-06-24T15:55:59.016Z"
   },
   {
    "duration": 4,
    "start_time": "2024-06-24T15:56:00.291Z"
   },
   {
    "duration": 120,
    "start_time": "2024-06-24T15:56:00.296Z"
   },
   {
    "duration": 33,
    "start_time": "2024-06-24T15:56:00.417Z"
   },
   {
    "duration": 97,
    "start_time": "2024-06-24T15:56:00.451Z"
   },
   {
    "duration": 47,
    "start_time": "2024-06-24T15:56:00.549Z"
   },
   {
    "duration": 292,
    "start_time": "2024-06-24T15:56:00.597Z"
   },
   {
    "duration": 10,
    "start_time": "2024-06-24T15:56:00.890Z"
   },
   {
    "duration": 52,
    "start_time": "2024-06-24T15:56:00.902Z"
   },
   {
    "duration": 34,
    "start_time": "2024-06-24T15:56:00.956Z"
   },
   {
    "duration": 28,
    "start_time": "2024-06-24T15:56:00.991Z"
   },
   {
    "duration": 191,
    "start_time": "2024-06-24T15:56:01.021Z"
   },
   {
    "duration": 4,
    "start_time": "2024-06-24T15:56:01.213Z"
   },
   {
    "duration": 5264,
    "start_time": "2024-06-24T15:56:01.218Z"
   },
   {
    "duration": 4,
    "start_time": "2024-06-24T15:56:06.484Z"
   },
   {
    "duration": 15,
    "start_time": "2024-06-24T15:56:06.489Z"
   },
   {
    "duration": 1220,
    "start_time": "2024-06-24T15:56:22.686Z"
   },
   {
    "duration": 3,
    "start_time": "2024-06-24T15:56:23.908Z"
   },
   {
    "duration": 48,
    "start_time": "2024-06-24T15:56:23.912Z"
   },
   {
    "duration": 8,
    "start_time": "2024-06-24T15:56:23.961Z"
   },
   {
    "duration": 15,
    "start_time": "2024-06-24T15:56:23.971Z"
   },
   {
    "duration": 14,
    "start_time": "2024-06-24T15:56:23.987Z"
   },
   {
    "duration": 191,
    "start_time": "2024-06-24T15:56:24.003Z"
   },
   {
    "duration": 8,
    "start_time": "2024-06-24T15:56:24.196Z"
   },
   {
    "duration": 10,
    "start_time": "2024-06-24T15:56:24.205Z"
   },
   {
    "duration": 9,
    "start_time": "2024-06-24T15:56:24.216Z"
   },
   {
    "duration": 4,
    "start_time": "2024-06-24T15:56:24.227Z"
   },
   {
    "duration": 163,
    "start_time": "2024-06-24T15:56:24.232Z"
   },
   {
    "duration": 4,
    "start_time": "2024-06-24T15:56:24.397Z"
   },
   {
    "duration": 5932,
    "start_time": "2024-06-24T15:56:24.403Z"
   },
   {
    "duration": 3,
    "start_time": "2024-06-24T15:56:30.336Z"
   },
   {
    "duration": 38,
    "start_time": "2024-06-24T15:56:30.340Z"
   },
   {
    "duration": 1224,
    "start_time": "2024-06-24T15:56:41.250Z"
   },
   {
    "duration": 3,
    "start_time": "2024-06-24T15:56:42.484Z"
   },
   {
    "duration": 57,
    "start_time": "2024-06-24T15:56:42.488Z"
   },
   {
    "duration": 9,
    "start_time": "2024-06-24T15:56:42.546Z"
   },
   {
    "duration": 11,
    "start_time": "2024-06-24T15:56:42.557Z"
   },
   {
    "duration": 16,
    "start_time": "2024-06-24T15:56:42.569Z"
   },
   {
    "duration": 206,
    "start_time": "2024-06-24T15:56:42.586Z"
   },
   {
    "duration": 9,
    "start_time": "2024-06-24T15:56:42.794Z"
   },
   {
    "duration": 19,
    "start_time": "2024-06-24T15:56:42.804Z"
   },
   {
    "duration": 15,
    "start_time": "2024-06-24T15:56:42.824Z"
   },
   {
    "duration": 8,
    "start_time": "2024-06-24T15:56:42.840Z"
   },
   {
    "duration": 345,
    "start_time": "2024-06-24T15:56:42.849Z"
   },
   {
    "duration": 4,
    "start_time": "2024-06-24T15:56:43.196Z"
   },
   {
    "duration": 9144,
    "start_time": "2024-06-24T15:56:43.204Z"
   },
   {
    "duration": 4,
    "start_time": "2024-06-24T15:56:52.349Z"
   },
   {
    "duration": 48,
    "start_time": "2024-06-24T15:56:52.354Z"
   },
   {
    "duration": 12,
    "start_time": "2024-06-24T16:50:06.625Z"
   },
   {
    "duration": 220,
    "start_time": "2024-06-24T16:50:28.054Z"
   },
   {
    "duration": 4,
    "start_time": "2024-06-24T16:50:33.065Z"
   },
   {
    "duration": 83,
    "start_time": "2024-06-24T16:50:42.690Z"
   },
   {
    "duration": 5,
    "start_time": "2024-06-24T16:50:53.386Z"
   },
   {
    "duration": 292,
    "start_time": "2024-06-24T16:51:07.486Z"
   },
   {
    "duration": 4,
    "start_time": "2024-06-24T16:51:08.522Z"
   },
   {
    "duration": 1187,
    "start_time": "2024-06-24T16:51:29.431Z"
   },
   {
    "duration": 3,
    "start_time": "2024-06-24T16:51:30.620Z"
   },
   {
    "duration": 94,
    "start_time": "2024-06-24T16:51:30.624Z"
   },
   {
    "duration": 34,
    "start_time": "2024-06-24T16:51:30.719Z"
   },
   {
    "duration": 42,
    "start_time": "2024-06-24T16:51:30.755Z"
   },
   {
    "duration": 69,
    "start_time": "2024-06-24T16:51:30.798Z"
   },
   {
    "duration": 257,
    "start_time": "2024-06-24T16:51:30.868Z"
   },
   {
    "duration": 7,
    "start_time": "2024-06-24T16:51:31.126Z"
   },
   {
    "duration": 40,
    "start_time": "2024-06-24T16:51:31.134Z"
   },
   {
    "duration": 56,
    "start_time": "2024-06-24T16:51:31.175Z"
   },
   {
    "duration": 40,
    "start_time": "2024-06-24T16:51:31.233Z"
   },
   {
    "duration": 46,
    "start_time": "2024-06-24T16:51:31.274Z"
   },
   {
    "duration": 116,
    "start_time": "2024-06-24T16:51:31.322Z"
   },
   {
    "duration": 4,
    "start_time": "2024-06-24T16:51:31.440Z"
   },
   {
    "duration": 3552,
    "start_time": "2024-06-24T16:51:31.445Z"
   },
   {
    "duration": 3,
    "start_time": "2024-06-24T16:51:34.998Z"
   },
   {
    "duration": 7,
    "start_time": "2024-06-24T16:51:35.002Z"
   },
   {
    "duration": 82,
    "start_time": "2024-06-24T16:51:44.937Z"
   },
   {
    "duration": 4,
    "start_time": "2024-06-24T16:51:45.506Z"
   },
   {
    "duration": 4,
    "start_time": "2024-06-24T16:51:48.659Z"
   },
   {
    "duration": 1167,
    "start_time": "2024-06-24T16:52:58.732Z"
   },
   {
    "duration": 3,
    "start_time": "2024-06-24T16:52:59.901Z"
   },
   {
    "duration": 46,
    "start_time": "2024-06-24T16:52:59.906Z"
   },
   {
    "duration": 8,
    "start_time": "2024-06-24T16:52:59.954Z"
   },
   {
    "duration": 7,
    "start_time": "2024-06-24T16:52:59.963Z"
   },
   {
    "duration": 4,
    "start_time": "2024-06-24T16:52:59.971Z"
   },
   {
    "duration": 196,
    "start_time": "2024-06-24T16:52:59.976Z"
   },
   {
    "duration": 9,
    "start_time": "2024-06-24T16:53:00.173Z"
   },
   {
    "duration": 28,
    "start_time": "2024-06-24T16:53:00.183Z"
   },
   {
    "duration": 67,
    "start_time": "2024-06-24T16:53:00.213Z"
   },
   {
    "duration": 118,
    "start_time": "2024-06-24T16:53:00.281Z"
   },
   {
    "duration": 77,
    "start_time": "2024-06-24T16:53:00.400Z"
   },
   {
    "duration": 314,
    "start_time": "2024-06-24T16:53:00.479Z"
   },
   {
    "duration": 3,
    "start_time": "2024-06-24T16:53:00.795Z"
   },
   {
    "duration": 7848,
    "start_time": "2024-06-24T16:53:00.799Z"
   },
   {
    "duration": 3,
    "start_time": "2024-06-24T16:53:08.648Z"
   },
   {
    "duration": 9,
    "start_time": "2024-06-24T16:53:08.652Z"
   },
   {
    "duration": 1208,
    "start_time": "2024-06-24T16:54:02.416Z"
   },
   {
    "duration": 3,
    "start_time": "2024-06-24T16:54:03.626Z"
   },
   {
    "duration": 60,
    "start_time": "2024-06-24T16:54:03.630Z"
   },
   {
    "duration": 8,
    "start_time": "2024-06-24T16:54:03.692Z"
   },
   {
    "duration": 12,
    "start_time": "2024-06-24T16:54:03.701Z"
   },
   {
    "duration": 8,
    "start_time": "2024-06-24T16:54:03.714Z"
   },
   {
    "duration": 190,
    "start_time": "2024-06-24T16:54:03.723Z"
   },
   {
    "duration": 9,
    "start_time": "2024-06-24T16:54:03.915Z"
   },
   {
    "duration": 8,
    "start_time": "2024-06-24T16:54:03.925Z"
   },
   {
    "duration": 7,
    "start_time": "2024-06-24T16:54:03.935Z"
   },
   {
    "duration": 3,
    "start_time": "2024-06-24T16:54:03.944Z"
   },
   {
    "duration": 28,
    "start_time": "2024-06-24T16:54:03.948Z"
   },
   {
    "duration": 224,
    "start_time": "2024-06-24T16:54:03.977Z"
   },
   {
    "duration": 4,
    "start_time": "2024-06-24T16:54:04.271Z"
   },
   {
    "duration": 7611,
    "start_time": "2024-06-24T16:54:04.276Z"
   },
   {
    "duration": 4,
    "start_time": "2024-06-24T16:54:11.888Z"
   },
   {
    "duration": 9,
    "start_time": "2024-06-24T16:54:11.893Z"
   },
   {
    "duration": 1193,
    "start_time": "2024-06-24T16:54:39.823Z"
   },
   {
    "duration": 4,
    "start_time": "2024-06-24T16:54:41.018Z"
   },
   {
    "duration": 50,
    "start_time": "2024-06-24T16:54:41.024Z"
   },
   {
    "duration": 9,
    "start_time": "2024-06-24T16:54:41.075Z"
   },
   {
    "duration": 9,
    "start_time": "2024-06-24T16:54:41.087Z"
   },
   {
    "duration": 4,
    "start_time": "2024-06-24T16:54:41.098Z"
   },
   {
    "duration": 205,
    "start_time": "2024-06-24T16:54:41.103Z"
   },
   {
    "duration": 8,
    "start_time": "2024-06-24T16:54:41.309Z"
   },
   {
    "duration": 8,
    "start_time": "2024-06-24T16:54:41.319Z"
   },
   {
    "duration": 7,
    "start_time": "2024-06-24T16:54:41.329Z"
   },
   {
    "duration": 4,
    "start_time": "2024-06-24T16:54:41.338Z"
   },
   {
    "duration": 35,
    "start_time": "2024-06-24T16:54:41.344Z"
   },
   {
    "duration": 130,
    "start_time": "2024-06-24T16:54:41.380Z"
   },
   {
    "duration": 4,
    "start_time": "2024-06-24T16:54:41.513Z"
   },
   {
    "duration": 14,
    "start_time": "2024-06-24T16:54:41.571Z"
   },
   {
    "duration": 10,
    "start_time": "2024-06-24T16:54:41.586Z"
   },
   {
    "duration": 19,
    "start_time": "2024-06-24T16:54:41.597Z"
   },
   {
    "duration": 1227,
    "start_time": "2024-06-24T16:54:53.215Z"
   },
   {
    "duration": 5,
    "start_time": "2024-06-24T16:54:54.444Z"
   },
   {
    "duration": 51,
    "start_time": "2024-06-24T16:54:54.450Z"
   },
   {
    "duration": 9,
    "start_time": "2024-06-24T16:54:54.505Z"
   },
   {
    "duration": 30,
    "start_time": "2024-06-24T16:54:54.516Z"
   },
   {
    "duration": 4,
    "start_time": "2024-06-24T16:54:54.547Z"
   },
   {
    "duration": 189,
    "start_time": "2024-06-24T16:54:54.552Z"
   },
   {
    "duration": 7,
    "start_time": "2024-06-24T16:54:54.743Z"
   },
   {
    "duration": 7,
    "start_time": "2024-06-24T16:54:54.751Z"
   },
   {
    "duration": 6,
    "start_time": "2024-06-24T16:54:54.771Z"
   },
   {
    "duration": 4,
    "start_time": "2024-06-24T16:54:54.778Z"
   },
   {
    "duration": 10,
    "start_time": "2024-06-24T16:54:54.783Z"
   },
   {
    "duration": 180,
    "start_time": "2024-06-24T16:54:54.794Z"
   },
   {
    "duration": 3,
    "start_time": "2024-06-24T16:54:54.976Z"
   },
   {
    "duration": 5,
    "start_time": "2024-06-24T16:54:54.980Z"
   },
   {
    "duration": 11,
    "start_time": "2024-06-24T16:54:54.986Z"
   },
   {
    "duration": 19,
    "start_time": "2024-06-24T16:54:54.998Z"
   },
   {
    "duration": 1259,
    "start_time": "2024-06-24T16:55:16.968Z"
   },
   {
    "duration": 3,
    "start_time": "2024-06-24T16:55:18.229Z"
   },
   {
    "duration": 47,
    "start_time": "2024-06-24T16:55:18.234Z"
   },
   {
    "duration": 8,
    "start_time": "2024-06-24T16:55:18.282Z"
   },
   {
    "duration": 7,
    "start_time": "2024-06-24T16:55:18.291Z"
   },
   {
    "duration": 3,
    "start_time": "2024-06-24T16:55:18.299Z"
   },
   {
    "duration": 199,
    "start_time": "2024-06-24T16:55:18.304Z"
   },
   {
    "duration": 10,
    "start_time": "2024-06-24T16:55:18.505Z"
   },
   {
    "duration": 10,
    "start_time": "2024-06-24T16:55:18.516Z"
   },
   {
    "duration": 7,
    "start_time": "2024-06-24T16:55:18.527Z"
   },
   {
    "duration": 4,
    "start_time": "2024-06-24T16:55:18.535Z"
   },
   {
    "duration": 37,
    "start_time": "2024-06-24T16:55:18.540Z"
   },
   {
    "duration": 222,
    "start_time": "2024-06-24T16:55:18.578Z"
   },
   {
    "duration": 72,
    "start_time": "2024-06-24T16:55:18.801Z"
   },
   {
    "duration": 5,
    "start_time": "2024-06-24T16:55:18.874Z"
   },
   {
    "duration": 2,
    "start_time": "2024-06-24T16:55:18.881Z"
   },
   {
    "duration": 14,
    "start_time": "2024-06-24T16:55:18.885Z"
   },
   {
    "duration": 1211,
    "start_time": "2024-06-24T16:55:31.713Z"
   },
   {
    "duration": 4,
    "start_time": "2024-06-24T16:55:32.925Z"
   },
   {
    "duration": 65,
    "start_time": "2024-06-24T16:55:32.930Z"
   },
   {
    "duration": 8,
    "start_time": "2024-06-24T16:55:32.996Z"
   },
   {
    "duration": 9,
    "start_time": "2024-06-24T16:55:33.006Z"
   },
   {
    "duration": 4,
    "start_time": "2024-06-24T16:55:33.017Z"
   },
   {
    "duration": 225,
    "start_time": "2024-06-24T16:55:33.024Z"
   },
   {
    "duration": 12,
    "start_time": "2024-06-24T16:55:33.250Z"
   },
   {
    "duration": 10,
    "start_time": "2024-06-24T16:55:33.271Z"
   },
   {
    "duration": 8,
    "start_time": "2024-06-24T16:55:33.283Z"
   },
   {
    "duration": 4,
    "start_time": "2024-06-24T16:55:33.292Z"
   },
   {
    "duration": 14,
    "start_time": "2024-06-24T16:55:33.298Z"
   },
   {
    "duration": 1257,
    "start_time": "2024-06-24T16:55:33.314Z"
   },
   {
    "duration": 5,
    "start_time": "2024-06-24T16:55:34.574Z"
   },
   {
    "duration": 6,
    "start_time": "2024-06-24T16:55:34.580Z"
   },
   {
    "duration": 4,
    "start_time": "2024-06-24T16:55:34.588Z"
   },
   {
    "duration": 5,
    "start_time": "2024-06-24T16:55:34.672Z"
   },
   {
    "duration": 1214,
    "start_time": "2024-06-24T16:55:56.800Z"
   },
   {
    "duration": 5,
    "start_time": "2024-06-24T16:55:58.015Z"
   },
   {
    "duration": 62,
    "start_time": "2024-06-24T16:55:58.021Z"
   },
   {
    "duration": 9,
    "start_time": "2024-06-24T16:55:58.085Z"
   },
   {
    "duration": 7,
    "start_time": "2024-06-24T16:55:58.096Z"
   },
   {
    "duration": 3,
    "start_time": "2024-06-24T16:55:58.104Z"
   },
   {
    "duration": 200,
    "start_time": "2024-06-24T16:55:58.109Z"
   },
   {
    "duration": 9,
    "start_time": "2024-06-24T16:55:58.311Z"
   },
   {
    "duration": 9,
    "start_time": "2024-06-24T16:55:58.321Z"
   },
   {
    "duration": 28,
    "start_time": "2024-06-24T16:55:58.331Z"
   },
   {
    "duration": 4,
    "start_time": "2024-06-24T16:55:58.361Z"
   },
   {
    "duration": 24,
    "start_time": "2024-06-24T16:55:58.366Z"
   },
   {
    "duration": 283,
    "start_time": "2024-06-24T16:55:58.391Z"
   },
   {
    "duration": 4,
    "start_time": "2024-06-24T16:55:58.676Z"
   },
   {
    "duration": 7,
    "start_time": "2024-06-24T16:55:58.682Z"
   },
   {
    "duration": 4,
    "start_time": "2024-06-24T16:55:58.690Z"
   },
   {
    "duration": 77,
    "start_time": "2024-06-24T16:55:58.695Z"
   },
   {
    "duration": 1201,
    "start_time": "2024-06-24T16:56:28.032Z"
   },
   {
    "duration": 4,
    "start_time": "2024-06-24T16:56:29.234Z"
   },
   {
    "duration": 55,
    "start_time": "2024-06-24T16:56:29.239Z"
   },
   {
    "duration": 8,
    "start_time": "2024-06-24T16:56:29.296Z"
   },
   {
    "duration": 20,
    "start_time": "2024-06-24T16:56:29.305Z"
   },
   {
    "duration": 34,
    "start_time": "2024-06-24T16:56:29.326Z"
   },
   {
    "duration": 200,
    "start_time": "2024-06-24T16:56:29.361Z"
   },
   {
    "duration": 9,
    "start_time": "2024-06-24T16:56:29.562Z"
   },
   {
    "duration": 17,
    "start_time": "2024-06-24T16:56:29.572Z"
   },
   {
    "duration": 11,
    "start_time": "2024-06-24T16:56:29.591Z"
   },
   {
    "duration": 18,
    "start_time": "2024-06-24T16:56:29.603Z"
   },
   {
    "duration": 17,
    "start_time": "2024-06-24T16:56:29.623Z"
   },
   {
    "duration": 255,
    "start_time": "2024-06-24T16:56:29.641Z"
   },
   {
    "duration": 3,
    "start_time": "2024-06-24T16:56:29.897Z"
   },
   {
    "duration": 4,
    "start_time": "2024-06-24T16:56:29.971Z"
   },
   {
    "duration": 4,
    "start_time": "2024-06-24T16:56:29.976Z"
   },
   {
    "duration": 20,
    "start_time": "2024-06-24T16:56:29.981Z"
   },
   {
    "duration": 1217,
    "start_time": "2024-06-24T16:56:52.101Z"
   },
   {
    "duration": 3,
    "start_time": "2024-06-24T16:56:53.320Z"
   },
   {
    "duration": 48,
    "start_time": "2024-06-24T16:56:53.324Z"
   },
   {
    "duration": 8,
    "start_time": "2024-06-24T16:56:53.374Z"
   },
   {
    "duration": 27,
    "start_time": "2024-06-24T16:56:53.383Z"
   },
   {
    "duration": 6,
    "start_time": "2024-06-24T16:56:53.411Z"
   },
   {
    "duration": 200,
    "start_time": "2024-06-24T16:56:53.418Z"
   },
   {
    "duration": 12,
    "start_time": "2024-06-24T16:56:53.619Z"
   },
   {
    "duration": 10,
    "start_time": "2024-06-24T16:56:53.632Z"
   },
   {
    "duration": 7,
    "start_time": "2024-06-24T16:56:53.645Z"
   },
   {
    "duration": 19,
    "start_time": "2024-06-24T16:56:53.653Z"
   },
   {
    "duration": 23,
    "start_time": "2024-06-24T16:56:53.673Z"
   },
   {
    "duration": 1182,
    "start_time": "2024-06-24T16:56:53.698Z"
   },
   {
    "duration": 90,
    "start_time": "2024-06-24T16:56:54.882Z"
   },
   {
    "duration": 6,
    "start_time": "2024-06-24T16:56:54.974Z"
   },
   {
    "duration": 3,
    "start_time": "2024-06-24T16:56:54.981Z"
   },
   {
    "duration": 7,
    "start_time": "2024-06-24T16:56:54.986Z"
   },
   {
    "duration": 1236,
    "start_time": "2024-06-24T16:57:13.099Z"
   },
   {
    "duration": 3,
    "start_time": "2024-06-24T16:57:14.337Z"
   },
   {
    "duration": 49,
    "start_time": "2024-06-24T16:57:14.341Z"
   },
   {
    "duration": 8,
    "start_time": "2024-06-24T16:57:14.392Z"
   },
   {
    "duration": 7,
    "start_time": "2024-06-24T16:57:14.403Z"
   },
   {
    "duration": 5,
    "start_time": "2024-06-24T16:57:14.411Z"
   },
   {
    "duration": 215,
    "start_time": "2024-06-24T16:57:14.417Z"
   },
   {
    "duration": 11,
    "start_time": "2024-06-24T16:57:14.633Z"
   },
   {
    "duration": 25,
    "start_time": "2024-06-24T16:57:14.646Z"
   },
   {
    "duration": 7,
    "start_time": "2024-06-24T16:57:14.672Z"
   },
   {
    "duration": 4,
    "start_time": "2024-06-24T16:57:14.680Z"
   },
   {
    "duration": 15,
    "start_time": "2024-06-24T16:57:14.685Z"
   },
   {
    "duration": 277,
    "start_time": "2024-06-24T16:57:14.701Z"
   },
   {
    "duration": 4,
    "start_time": "2024-06-24T16:57:14.981Z"
   },
   {
    "duration": 4,
    "start_time": "2024-06-24T16:57:14.986Z"
   },
   {
    "duration": 3,
    "start_time": "2024-06-24T16:57:14.992Z"
   },
   {
    "duration": 79,
    "start_time": "2024-06-24T16:57:14.996Z"
   },
   {
    "duration": 1236,
    "start_time": "2024-06-24T16:57:46.578Z"
   },
   {
    "duration": 3,
    "start_time": "2024-06-24T16:57:47.815Z"
   },
   {
    "duration": 48,
    "start_time": "2024-06-24T16:57:47.820Z"
   },
   {
    "duration": 8,
    "start_time": "2024-06-24T16:57:47.870Z"
   },
   {
    "duration": 17,
    "start_time": "2024-06-24T16:57:47.880Z"
   },
   {
    "duration": 8,
    "start_time": "2024-06-24T16:57:47.898Z"
   },
   {
    "duration": 219,
    "start_time": "2024-06-24T16:57:47.907Z"
   },
   {
    "duration": 4,
    "start_time": "2024-06-24T16:57:48.128Z"
   },
   {
    "duration": 20,
    "start_time": "2024-06-24T16:57:48.133Z"
   },
   {
    "duration": 8,
    "start_time": "2024-06-24T16:57:48.155Z"
   },
   {
    "duration": 12,
    "start_time": "2024-06-24T16:57:48.164Z"
   },
   {
    "duration": 4,
    "start_time": "2024-06-24T16:57:48.177Z"
   },
   {
    "duration": 13,
    "start_time": "2024-06-24T16:57:48.182Z"
   },
   {
    "duration": 206,
    "start_time": "2024-06-24T16:57:48.197Z"
   },
   {
    "duration": 4,
    "start_time": "2024-06-24T16:57:48.471Z"
   },
   {
    "duration": 19,
    "start_time": "2024-06-24T16:57:48.476Z"
   },
   {
    "duration": 8,
    "start_time": "2024-06-24T16:57:48.496Z"
   },
   {
    "duration": 79,
    "start_time": "2024-06-24T16:57:48.505Z"
   },
   {
    "duration": 1213,
    "start_time": "2024-06-24T16:58:15.297Z"
   },
   {
    "duration": 3,
    "start_time": "2024-06-24T16:58:16.512Z"
   },
   {
    "duration": 61,
    "start_time": "2024-06-24T16:58:16.517Z"
   },
   {
    "duration": 8,
    "start_time": "2024-06-24T16:58:16.579Z"
   },
   {
    "duration": 7,
    "start_time": "2024-06-24T16:58:16.589Z"
   },
   {
    "duration": 3,
    "start_time": "2024-06-24T16:58:16.597Z"
   },
   {
    "duration": 197,
    "start_time": "2024-06-24T16:58:16.601Z"
   },
   {
    "duration": 4,
    "start_time": "2024-06-24T16:58:16.800Z"
   },
   {
    "duration": 9,
    "start_time": "2024-06-24T16:58:16.805Z"
   },
   {
    "duration": 9,
    "start_time": "2024-06-24T16:58:16.815Z"
   },
   {
    "duration": 8,
    "start_time": "2024-06-24T16:58:16.825Z"
   },
   {
    "duration": 5,
    "start_time": "2024-06-24T16:58:16.834Z"
   },
   {
    "duration": 32,
    "start_time": "2024-06-24T16:58:16.840Z"
   },
   {
    "duration": 316,
    "start_time": "2024-06-24T16:58:16.874Z"
   },
   {
    "duration": 3,
    "start_time": "2024-06-24T16:58:17.192Z"
   },
   {
    "duration": 74,
    "start_time": "2024-06-24T16:58:17.197Z"
   },
   {
    "duration": 2,
    "start_time": "2024-06-24T16:58:17.273Z"
   },
   {
    "duration": 7,
    "start_time": "2024-06-24T16:58:17.276Z"
   },
   {
    "duration": 1273,
    "start_time": "2024-06-24T16:58:32.858Z"
   },
   {
    "duration": 3,
    "start_time": "2024-06-24T16:58:34.133Z"
   },
   {
    "duration": 52,
    "start_time": "2024-06-24T16:58:34.137Z"
   },
   {
    "duration": 8,
    "start_time": "2024-06-24T16:58:34.190Z"
   },
   {
    "duration": 7,
    "start_time": "2024-06-24T16:58:34.200Z"
   },
   {
    "duration": 4,
    "start_time": "2024-06-24T16:58:34.208Z"
   },
   {
    "duration": 198,
    "start_time": "2024-06-24T16:58:34.213Z"
   },
   {
    "duration": 4,
    "start_time": "2024-06-24T16:58:34.413Z"
   },
   {
    "duration": 14,
    "start_time": "2024-06-24T16:58:34.418Z"
   },
   {
    "duration": 9,
    "start_time": "2024-06-24T16:58:34.433Z"
   },
   {
    "duration": 6,
    "start_time": "2024-06-24T16:58:34.444Z"
   },
   {
    "duration": 22,
    "start_time": "2024-06-24T16:58:34.451Z"
   },
   {
    "duration": 12,
    "start_time": "2024-06-24T16:58:34.475Z"
   },
   {
    "duration": 1090,
    "start_time": "2024-06-24T16:58:34.490Z"
   },
   {
    "duration": 4,
    "start_time": "2024-06-24T16:58:35.672Z"
   },
   {
    "duration": 99,
    "start_time": "2024-06-24T16:58:35.677Z"
   },
   {
    "duration": 6,
    "start_time": "2024-06-24T16:58:35.778Z"
   },
   {
    "duration": 7,
    "start_time": "2024-06-24T16:58:35.785Z"
   },
   {
    "duration": 1185,
    "start_time": "2024-06-24T16:58:52.830Z"
   },
   {
    "duration": 3,
    "start_time": "2024-06-24T16:58:54.017Z"
   },
   {
    "duration": 46,
    "start_time": "2024-06-24T16:58:54.022Z"
   },
   {
    "duration": 8,
    "start_time": "2024-06-24T16:58:54.070Z"
   },
   {
    "duration": 22,
    "start_time": "2024-06-24T16:58:54.080Z"
   },
   {
    "duration": 4,
    "start_time": "2024-06-24T16:58:54.103Z"
   },
   {
    "duration": 191,
    "start_time": "2024-06-24T16:58:54.108Z"
   },
   {
    "duration": 4,
    "start_time": "2024-06-24T16:58:54.300Z"
   },
   {
    "duration": 9,
    "start_time": "2024-06-24T16:58:54.305Z"
   },
   {
    "duration": 14,
    "start_time": "2024-06-24T16:58:54.316Z"
   },
   {
    "duration": 5,
    "start_time": "2024-06-24T16:58:54.332Z"
   },
   {
    "duration": 4,
    "start_time": "2024-06-24T16:58:54.338Z"
   },
   {
    "duration": 17,
    "start_time": "2024-06-24T16:58:54.343Z"
   },
   {
    "duration": 315,
    "start_time": "2024-06-24T16:58:54.361Z"
   },
   {
    "duration": 4,
    "start_time": "2024-06-24T16:58:54.677Z"
   },
   {
    "duration": 3,
    "start_time": "2024-06-24T16:58:54.682Z"
   },
   {
    "duration": 2,
    "start_time": "2024-06-24T16:58:54.687Z"
   },
   {
    "duration": 10,
    "start_time": "2024-06-24T16:58:54.690Z"
   },
   {
    "duration": 1179,
    "start_time": "2024-06-24T17:02:06.473Z"
   },
   {
    "duration": 4,
    "start_time": "2024-06-24T17:02:07.654Z"
   },
   {
    "duration": 53,
    "start_time": "2024-06-24T17:02:07.659Z"
   },
   {
    "duration": 8,
    "start_time": "2024-06-24T17:02:07.713Z"
   },
   {
    "duration": 11,
    "start_time": "2024-06-24T17:02:07.723Z"
   },
   {
    "duration": 21,
    "start_time": "2024-06-24T17:02:07.735Z"
   },
   {
    "duration": 185,
    "start_time": "2024-06-24T17:02:07.757Z"
   },
   {
    "duration": 4,
    "start_time": "2024-06-24T17:02:07.943Z"
   },
   {
    "duration": 15,
    "start_time": "2024-06-24T17:02:07.948Z"
   },
   {
    "duration": 13,
    "start_time": "2024-06-24T17:02:07.964Z"
   },
   {
    "duration": 10,
    "start_time": "2024-06-24T17:02:07.978Z"
   },
   {
    "duration": 23,
    "start_time": "2024-06-24T17:02:07.989Z"
   },
   {
    "duration": 12,
    "start_time": "2024-06-24T17:02:08.013Z"
   },
   {
    "duration": 252,
    "start_time": "2024-06-24T17:02:08.027Z"
   },
   {
    "duration": 3,
    "start_time": "2024-06-24T17:02:08.280Z"
   },
   {
    "duration": 8777,
    "start_time": "2024-06-24T17:02:08.284Z"
   },
   {
    "duration": 3,
    "start_time": "2024-06-24T17:02:17.062Z"
   },
   {
    "duration": 10,
    "start_time": "2024-06-24T17:02:17.066Z"
   },
   {
    "duration": 1444,
    "start_time": "2024-06-25T18:19:53.587Z"
   },
   {
    "duration": 169,
    "start_time": "2024-06-25T18:22:11.238Z"
   },
   {
    "duration": 4,
    "start_time": "2024-06-25T18:22:18.549Z"
   },
   {
    "duration": 8,
    "start_time": "2024-06-25T18:22:22.800Z"
   },
   {
    "duration": 6,
    "start_time": "2024-06-25T18:22:29.157Z"
   },
   {
    "duration": 212,
    "start_time": "2024-06-25T18:22:56.102Z"
   },
   {
    "duration": 4,
    "start_time": "2024-06-25T18:23:11.181Z"
   },
   {
    "duration": 11,
    "start_time": "2024-06-25T18:23:11.839Z"
   },
   {
    "duration": 15,
    "start_time": "2024-06-25T18:23:22.894Z"
   },
   {
    "duration": 5,
    "start_time": "2024-06-25T18:27:12.378Z"
   },
   {
    "duration": 13,
    "start_time": "2024-06-25T18:27:40.478Z"
   },
   {
    "duration": 11,
    "start_time": "2024-06-25T18:28:04.897Z"
   },
   {
    "duration": 4,
    "start_time": "2024-06-25T18:29:12.290Z"
   },
   {
    "duration": 6,
    "start_time": "2024-06-25T18:29:21.189Z"
   },
   {
    "duration": 21,
    "start_time": "2024-06-25T18:29:25.219Z"
   },
   {
    "duration": 5,
    "start_time": "2024-06-25T18:31:03.095Z"
   },
   {
    "duration": 10,
    "start_time": "2024-06-25T18:31:06.583Z"
   },
   {
    "duration": 107,
    "start_time": "2024-06-25T18:35:14.237Z"
   },
   {
    "duration": 33,
    "start_time": "2024-06-25T18:35:25.915Z"
   },
   {
    "duration": 12,
    "start_time": "2024-06-25T18:36:13.492Z"
   },
   {
    "duration": 14,
    "start_time": "2024-06-25T18:36:26.520Z"
   },
   {
    "duration": 15,
    "start_time": "2024-06-25T18:36:44.073Z"
   },
   {
    "duration": 9,
    "start_time": "2024-06-25T18:37:01.511Z"
   },
   {
    "duration": 5,
    "start_time": "2024-06-25T18:37:07.445Z"
   },
   {
    "duration": 46,
    "start_time": "2024-06-25T18:37:37.928Z"
   },
   {
    "duration": 12,
    "start_time": "2024-06-25T18:37:41.786Z"
   },
   {
    "duration": 9,
    "start_time": "2024-06-25T18:37:54.220Z"
   },
   {
    "duration": 7,
    "start_time": "2024-06-25T18:38:03.274Z"
   },
   {
    "duration": 1237,
    "start_time": "2024-06-25T18:38:14.249Z"
   },
   {
    "duration": 4,
    "start_time": "2024-06-25T18:38:15.488Z"
   },
   {
    "duration": 78,
    "start_time": "2024-06-25T18:38:15.493Z"
   },
   {
    "duration": 9,
    "start_time": "2024-06-25T18:38:15.572Z"
   },
   {
    "duration": 26,
    "start_time": "2024-06-25T18:38:15.582Z"
   },
   {
    "duration": 6,
    "start_time": "2024-06-25T18:38:15.609Z"
   },
   {
    "duration": 209,
    "start_time": "2024-06-25T18:38:15.617Z"
   },
   {
    "duration": 4,
    "start_time": "2024-06-25T18:38:15.827Z"
   },
   {
    "duration": 14,
    "start_time": "2024-06-25T18:38:15.832Z"
   },
   {
    "duration": 9,
    "start_time": "2024-06-25T18:38:15.847Z"
   },
   {
    "duration": 130,
    "start_time": "2024-06-25T18:38:15.857Z"
   },
   {
    "duration": 0,
    "start_time": "2024-06-25T18:38:15.989Z"
   },
   {
    "duration": 0,
    "start_time": "2024-06-25T18:38:15.990Z"
   },
   {
    "duration": 0,
    "start_time": "2024-06-25T18:38:15.991Z"
   },
   {
    "duration": 0,
    "start_time": "2024-06-25T18:38:15.993Z"
   },
   {
    "duration": 0,
    "start_time": "2024-06-25T18:38:15.994Z"
   },
   {
    "duration": 0,
    "start_time": "2024-06-25T18:38:15.995Z"
   },
   {
    "duration": 0,
    "start_time": "2024-06-25T18:38:15.997Z"
   },
   {
    "duration": 0,
    "start_time": "2024-06-25T18:38:15.998Z"
   },
   {
    "duration": 12,
    "start_time": "2024-06-25T18:38:24.262Z"
   },
   {
    "duration": 13,
    "start_time": "2024-06-25T18:39:53.795Z"
   },
   {
    "duration": 24,
    "start_time": "2024-06-25T18:40:06.608Z"
   },
   {
    "duration": 14,
    "start_time": "2024-06-25T18:41:34.339Z"
   },
   {
    "duration": 20,
    "start_time": "2024-06-25T18:42:25.316Z"
   },
   {
    "duration": 11,
    "start_time": "2024-06-25T18:42:43.696Z"
   },
   {
    "duration": 8,
    "start_time": "2024-06-25T18:43:00.524Z"
   },
   {
    "duration": 189,
    "start_time": "2024-06-25T18:43:18.519Z"
   },
   {
    "duration": 190,
    "start_time": "2024-06-25T18:43:56.051Z"
   },
   {
    "duration": 179,
    "start_time": "2024-06-25T18:46:07.175Z"
   },
   {
    "duration": 10,
    "start_time": "2024-06-25T18:46:36.420Z"
   },
   {
    "duration": 220,
    "start_time": "2024-06-25T18:46:45.672Z"
   },
   {
    "duration": 172,
    "start_time": "2024-06-25T18:47:21.603Z"
   },
   {
    "duration": 13,
    "start_time": "2024-06-25T18:47:31.833Z"
   },
   {
    "duration": 11,
    "start_time": "2024-06-25T18:47:40.352Z"
   },
   {
    "duration": 279,
    "start_time": "2024-06-25T18:47:51.882Z"
   },
   {
    "duration": 12,
    "start_time": "2024-06-25T18:48:18.896Z"
   },
   {
    "duration": 143,
    "start_time": "2024-06-25T18:48:19.482Z"
   },
   {
    "duration": 10,
    "start_time": "2024-06-25T18:48:29.114Z"
   },
   {
    "duration": 219,
    "start_time": "2024-06-25T18:48:29.634Z"
   },
   {
    "duration": 1473,
    "start_time": "2024-06-26T11:51:25.862Z"
   },
   {
    "duration": 3,
    "start_time": "2024-06-26T11:51:27.337Z"
   },
   {
    "duration": 106,
    "start_time": "2024-06-26T11:51:27.342Z"
   },
   {
    "duration": 10,
    "start_time": "2024-06-26T11:51:27.450Z"
   },
   {
    "duration": 24,
    "start_time": "2024-06-26T11:51:27.462Z"
   },
   {
    "duration": 5,
    "start_time": "2024-06-26T11:51:27.488Z"
   },
   {
    "duration": 218,
    "start_time": "2024-06-26T11:51:27.494Z"
   },
   {
    "duration": 4,
    "start_time": "2024-06-26T11:51:27.714Z"
   },
   {
    "duration": 8,
    "start_time": "2024-06-26T11:51:27.720Z"
   },
   {
    "duration": 125,
    "start_time": "2024-06-26T11:51:27.730Z"
   },
   {
    "duration": 0,
    "start_time": "2024-06-26T11:51:27.856Z"
   },
   {
    "duration": 0,
    "start_time": "2024-06-26T11:51:27.858Z"
   },
   {
    "duration": 0,
    "start_time": "2024-06-26T11:51:27.859Z"
   },
   {
    "duration": 0,
    "start_time": "2024-06-26T11:51:27.861Z"
   },
   {
    "duration": 0,
    "start_time": "2024-06-26T11:51:27.862Z"
   },
   {
    "duration": 0,
    "start_time": "2024-06-26T11:51:27.863Z"
   },
   {
    "duration": 0,
    "start_time": "2024-06-26T11:51:27.864Z"
   },
   {
    "duration": 0,
    "start_time": "2024-06-26T11:51:27.866Z"
   },
   {
    "duration": 0,
    "start_time": "2024-06-26T11:51:27.867Z"
   },
   {
    "duration": 0,
    "start_time": "2024-06-26T11:51:27.868Z"
   },
   {
    "duration": 0,
    "start_time": "2024-06-26T11:51:27.870Z"
   },
   {
    "duration": 0,
    "start_time": "2024-06-26T11:51:27.871Z"
   },
   {
    "duration": 21,
    "start_time": "2024-06-26T11:52:06.221Z"
   },
   {
    "duration": 7,
    "start_time": "2024-06-26T11:52:11.172Z"
   },
   {
    "duration": 194,
    "start_time": "2024-06-26T11:52:12.974Z"
   },
   {
    "duration": 200,
    "start_time": "2024-06-26T11:52:41.181Z"
   },
   {
    "duration": 14,
    "start_time": "2024-06-26T11:52:43.609Z"
   },
   {
    "duration": 261,
    "start_time": "2024-06-26T11:52:44.277Z"
   },
   {
    "duration": 10,
    "start_time": "2024-06-26T11:52:59.985Z"
   },
   {
    "duration": 142,
    "start_time": "2024-06-26T11:53:09.909Z"
   },
   {
    "duration": 10,
    "start_time": "2024-06-26T11:54:00.871Z"
   },
   {
    "duration": 181,
    "start_time": "2024-06-26T11:54:01.320Z"
   },
   {
    "duration": 11,
    "start_time": "2024-06-26T11:56:12.972Z"
   },
   {
    "duration": 174,
    "start_time": "2024-06-26T11:56:13.491Z"
   },
   {
    "duration": 10,
    "start_time": "2024-06-26T11:58:45.399Z"
   },
   {
    "duration": 3,
    "start_time": "2024-06-26T11:58:51.833Z"
   },
   {
    "duration": 14,
    "start_time": "2024-06-26T11:59:00.789Z"
   },
   {
    "duration": 3,
    "start_time": "2024-06-26T12:02:42.120Z"
   },
   {
    "duration": 29,
    "start_time": "2024-06-26T12:03:02.319Z"
   },
   {
    "duration": 4,
    "start_time": "2024-06-26T12:03:33.706Z"
   },
   {
    "duration": 23,
    "start_time": "2024-06-26T12:03:34.389Z"
   },
   {
    "duration": 13,
    "start_time": "2024-06-26T12:03:52.043Z"
   },
   {
    "duration": 207,
    "start_time": "2024-06-26T12:03:59.782Z"
   },
   {
    "duration": 3,
    "start_time": "2024-06-26T12:05:01.269Z"
   },
   {
    "duration": 18,
    "start_time": "2024-06-26T12:05:32.731Z"
   },
   {
    "duration": 13,
    "start_time": "2024-06-26T12:05:51.703Z"
   },
   {
    "duration": 175,
    "start_time": "2024-06-26T12:05:58.360Z"
   },
   {
    "duration": 3,
    "start_time": "2024-06-26T12:08:42.582Z"
   },
   {
    "duration": 1230,
    "start_time": "2024-06-26T12:08:43.482Z"
   },
   {
    "duration": 12,
    "start_time": "2024-06-26T12:08:54.425Z"
   },
   {
    "duration": 5,
    "start_time": "2024-06-26T12:09:35.321Z"
   },
   {
    "duration": 13,
    "start_time": "2024-06-26T12:09:40.557Z"
   },
   {
    "duration": 193,
    "start_time": "2024-06-26T12:09:42.603Z"
   },
   {
    "duration": 10,
    "start_time": "2024-06-26T12:10:07.621Z"
   },
   {
    "duration": 5,
    "start_time": "2024-06-26T12:10:29.740Z"
   },
   {
    "duration": 16,
    "start_time": "2024-06-26T12:10:36.378Z"
   },
   {
    "duration": 11,
    "start_time": "2024-06-26T12:11:01.950Z"
   },
   {
    "duration": 10,
    "start_time": "2024-06-26T12:12:17.737Z"
   },
   {
    "duration": 8,
    "start_time": "2024-06-26T12:12:22.009Z"
   },
   {
    "duration": 4,
    "start_time": "2024-06-26T12:12:46.699Z"
   },
   {
    "duration": 14,
    "start_time": "2024-06-26T12:12:54.149Z"
   },
   {
    "duration": 195,
    "start_time": "2024-06-26T12:12:59.683Z"
   },
   {
    "duration": 5,
    "start_time": "2024-06-26T12:13:24.858Z"
   },
   {
    "duration": 199,
    "start_time": "2024-06-26T12:13:31.615Z"
   },
   {
    "duration": 252,
    "start_time": "2024-06-26T12:13:54.704Z"
   },
   {
    "duration": 175,
    "start_time": "2024-06-26T12:14:21.089Z"
   },
   {
    "duration": 172,
    "start_time": "2024-06-26T12:14:28.595Z"
   },
   {
    "duration": 170,
    "start_time": "2024-06-26T12:14:53.731Z"
   },
   {
    "duration": 144,
    "start_time": "2024-06-26T12:15:12.419Z"
   },
   {
    "duration": 19,
    "start_time": "2024-06-26T12:15:20.558Z"
   },
   {
    "duration": 160,
    "start_time": "2024-06-26T12:15:22.578Z"
   },
   {
    "duration": 15,
    "start_time": "2024-06-26T12:15:34.580Z"
   },
   {
    "duration": 185,
    "start_time": "2024-06-26T12:16:02.009Z"
   },
   {
    "duration": 178,
    "start_time": "2024-06-26T12:16:47.174Z"
   },
   {
    "duration": 9,
    "start_time": "2024-06-26T12:17:47.989Z"
   },
   {
    "duration": 4,
    "start_time": "2024-06-26T12:19:33.724Z"
   },
   {
    "duration": 13,
    "start_time": "2024-06-26T12:21:24.295Z"
   },
   {
    "duration": 9,
    "start_time": "2024-06-26T12:21:55.472Z"
   },
   {
    "duration": 4,
    "start_time": "2024-06-26T12:22:01.710Z"
   },
   {
    "duration": 13,
    "start_time": "2024-06-26T12:22:10.124Z"
   },
   {
    "duration": 269,
    "start_time": "2024-06-26T12:22:10.780Z"
   },
   {
    "duration": 15,
    "start_time": "2024-06-26T12:22:27.761Z"
   },
   {
    "duration": 220,
    "start_time": "2024-06-26T12:22:28.359Z"
   },
   {
    "duration": 20,
    "start_time": "2024-06-26T12:22:59.048Z"
   },
   {
    "duration": 197,
    "start_time": "2024-06-26T12:22:59.770Z"
   },
   {
    "duration": 16,
    "start_time": "2024-06-26T12:23:40.379Z"
   },
   {
    "duration": 1548,
    "start_time": "2024-06-26T12:23:52.206Z"
   },
   {
    "duration": 1571,
    "start_time": "2024-06-26T12:24:33.560Z"
   },
   {
    "duration": 16,
    "start_time": "2024-06-26T12:24:43.689Z"
   },
   {
    "duration": 794,
    "start_time": "2024-06-26T12:24:44.520Z"
   },
   {
    "duration": 869,
    "start_time": "2024-06-26T12:24:59.825Z"
   },
   {
    "duration": 16,
    "start_time": "2024-06-26T12:25:11.653Z"
   },
   {
    "duration": 192,
    "start_time": "2024-06-26T12:25:15.641Z"
   },
   {
    "duration": 196,
    "start_time": "2024-06-26T12:25:28.202Z"
   },
   {
    "duration": 17,
    "start_time": "2024-06-26T12:26:10.274Z"
   },
   {
    "duration": 422,
    "start_time": "2024-06-26T12:26:10.905Z"
   },
   {
    "duration": 21,
    "start_time": "2024-06-26T12:26:35.244Z"
   },
   {
    "duration": 10,
    "start_time": "2024-06-26T12:26:47.236Z"
   },
   {
    "duration": 20,
    "start_time": "2024-06-26T12:27:06.339Z"
   },
   {
    "duration": 18,
    "start_time": "2024-06-26T12:27:27.149Z"
   },
   {
    "duration": 414,
    "start_time": "2024-06-26T12:27:27.711Z"
   },
   {
    "duration": 422,
    "start_time": "2024-06-26T12:27:56.974Z"
   },
   {
    "duration": 408,
    "start_time": "2024-06-26T12:28:01.188Z"
   },
   {
    "duration": 29,
    "start_time": "2024-06-26T12:30:23.313Z"
   },
   {
    "duration": 413,
    "start_time": "2024-06-26T12:30:23.767Z"
   },
   {
    "duration": 260,
    "start_time": "2024-06-26T12:30:47.669Z"
   },
   {
    "duration": 17,
    "start_time": "2024-06-26T12:31:01.531Z"
   },
   {
    "duration": 216,
    "start_time": "2024-06-26T12:31:02.048Z"
   },
   {
    "duration": 235,
    "start_time": "2024-06-26T12:31:11.212Z"
   },
   {
    "duration": 6,
    "start_time": "2024-06-26T12:31:46.277Z"
   },
   {
    "duration": 5,
    "start_time": "2024-06-26T12:31:48.038Z"
   },
   {
    "duration": 3,
    "start_time": "2024-06-26T12:33:04.124Z"
   },
   {
    "duration": 94,
    "start_time": "2024-06-26T12:34:10.038Z"
   },
   {
    "duration": 4,
    "start_time": "2024-06-26T12:34:15.356Z"
   },
   {
    "duration": 5367,
    "start_time": "2024-06-26T12:34:25.397Z"
   },
   {
    "duration": 3928,
    "start_time": "2024-06-26T12:34:34.703Z"
   },
   {
    "duration": 3,
    "start_time": "2024-06-26T12:34:38.633Z"
   },
   {
    "duration": 13,
    "start_time": "2024-06-26T12:35:13.762Z"
   },
   {
    "duration": 3,
    "start_time": "2024-06-26T12:35:41.750Z"
   },
   {
    "duration": 4988,
    "start_time": "2024-06-26T12:35:52.309Z"
   },
   {
    "duration": 3,
    "start_time": "2024-06-26T12:35:58.406Z"
   },
   {
    "duration": 13,
    "start_time": "2024-06-26T12:36:01.683Z"
   },
   {
    "duration": 10,
    "start_time": "2024-06-26T12:38:20.764Z"
   },
   {
    "duration": 410,
    "start_time": "2024-06-26T12:38:31.089Z"
   },
   {
    "duration": 6,
    "start_time": "2024-06-26T12:38:53.573Z"
   },
   {
    "duration": 39,
    "start_time": "2024-06-26T12:39:06.221Z"
   },
   {
    "duration": 249,
    "start_time": "2024-06-26T12:39:19.292Z"
   },
   {
    "duration": 6,
    "start_time": "2024-06-26T12:39:40.240Z"
   },
   {
    "duration": 4,
    "start_time": "2024-06-26T12:40:00.381Z"
   },
   {
    "duration": 177,
    "start_time": "2024-06-26T12:42:31.231Z"
   },
   {
    "duration": 4,
    "start_time": "2024-06-26T12:42:42.133Z"
   },
   {
    "duration": 7,
    "start_time": "2024-06-26T12:42:50.509Z"
   },
   {
    "duration": 115,
    "start_time": "2024-06-26T12:43:09.421Z"
   },
   {
    "duration": 161,
    "start_time": "2024-06-26T12:43:53.432Z"
   },
   {
    "duration": 1302,
    "start_time": "2024-06-26T12:49:25.617Z"
   },
   {
    "duration": 4,
    "start_time": "2024-06-26T12:49:26.920Z"
   },
   {
    "duration": 13,
    "start_time": "2024-06-26T12:49:26.925Z"
   },
   {
    "duration": 58,
    "start_time": "2024-06-26T12:49:26.940Z"
   },
   {
    "duration": 9,
    "start_time": "2024-06-26T12:49:27.000Z"
   },
   {
    "duration": 12,
    "start_time": "2024-06-26T12:49:27.011Z"
   },
   {
    "duration": 9,
    "start_time": "2024-06-26T12:49:27.024Z"
   },
   {
    "duration": 209,
    "start_time": "2024-06-26T12:49:27.035Z"
   },
   {
    "duration": 4,
    "start_time": "2024-06-26T12:49:27.246Z"
   },
   {
    "duration": 7,
    "start_time": "2024-06-26T12:49:27.251Z"
   },
   {
    "duration": 16,
    "start_time": "2024-06-26T12:49:27.259Z"
   },
   {
    "duration": 211,
    "start_time": "2024-06-26T12:49:27.276Z"
   },
   {
    "duration": 23,
    "start_time": "2024-06-26T12:49:27.489Z"
   },
   {
    "duration": 275,
    "start_time": "2024-06-26T12:49:27.515Z"
   },
   {
    "duration": 15,
    "start_time": "2024-06-26T12:49:27.791Z"
   },
   {
    "duration": 401,
    "start_time": "2024-06-26T12:49:27.807Z"
   },
   {
    "duration": 11,
    "start_time": "2024-06-26T12:49:28.211Z"
   },
   {
    "duration": 231,
    "start_time": "2024-06-26T12:49:28.223Z"
   },
   {
    "duration": 5,
    "start_time": "2024-06-26T12:49:28.456Z"
   },
   {
    "duration": 15,
    "start_time": "2024-06-26T12:49:28.463Z"
   },
   {
    "duration": 95,
    "start_time": "2024-06-26T12:49:28.479Z"
   },
   {
    "duration": 3,
    "start_time": "2024-06-26T12:49:28.575Z"
   },
   {
    "duration": 5038,
    "start_time": "2024-06-26T12:49:28.580Z"
   },
   {
    "duration": 3,
    "start_time": "2024-06-26T12:49:33.620Z"
   },
   {
    "duration": 38,
    "start_time": "2024-06-26T12:49:33.625Z"
   },
   {
    "duration": 148,
    "start_time": "2024-06-26T12:49:33.664Z"
   },
   {
    "duration": 242,
    "start_time": "2024-06-26T12:49:33.813Z"
   }
  ],
  "kernelspec": {
   "display_name": "Python 3 (ipykernel)",
   "language": "python",
   "name": "python3"
  },
  "language_info": {
   "codemirror_mode": {
    "name": "ipython",
    "version": 3
   },
   "file_extension": ".py",
   "mimetype": "text/x-python",
   "name": "python",
   "nbconvert_exporter": "python",
   "pygments_lexer": "ipython3",
   "version": "3.11.5"
  },
  "toc": {
   "base_numbering": 1,
   "nav_menu": {},
   "number_sections": true,
   "sideBar": true,
   "skip_h1_title": true,
   "title_cell": "Содержание",
   "title_sidebar": "Contents",
   "toc_cell": true,
   "toc_position": {},
   "toc_section_display": true,
   "toc_window_display": true
  }
 },
 "nbformat": 4,
 "nbformat_minor": 2
}
