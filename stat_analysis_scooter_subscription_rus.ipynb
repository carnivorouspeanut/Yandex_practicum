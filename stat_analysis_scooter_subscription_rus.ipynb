{
 "cells": [
  {
   "cell_type": "markdown",
   "id": "7865c34d",
   "metadata": {},
   "source": [
    "<div class=\"alert alert-info\">\n",
    "\n",
    "Были переданы данные о некоторых пользователях из нескольких городов, а также об их поездках. \n",
    "Чтобы совершать поездки по городу, пользователи сервиса GoFast пользуются мобильным приложением. Сервисом можно пользоваться:\n",
    "без подписки, или с подпиской Ultra.\n",
    "\n",
    "Продакт-менеджеры сервиса хотят увеличить количество пользователей с подпиской. Для этого они будут проводить различные акции, но сначала нужно выяснить несколько важных моментов.\n",
    "\n",
    "1 Важно понять, тратят ли пользователи с подпиской больше времени на поездки? Если да, то пользователи с подпиской могут быть «выгоднее» для компании.\n",
    "\n",
    "2 Расстояние одной поездки в \n",
    "3130 метров — оптимальное с точки зрения износа самоката. Можно ли сказать, что среднее расстояние, которое проезжают пользователи с подпиской за одну поездку, не превышает \n",
    "3130 метров?\n",
    "\n",
    "3 Необходимо проверить гипотезу о том, будет ли помесячная выручка от пользователей с подпиской по месяцам выше, чем выручка от пользователей без подписки. "
   ]
  },
  {
   "cell_type": "code",
   "execution_count": 1,
   "id": "72576667",
   "metadata": {},
   "outputs": [],
   "source": [
    "import pandas as pd\n",
    "import seaborn as sns\n",
    "import numpy as np\n",
    "import scipy.stats as st\n",
    "import matplotlib.pyplot as plt"
   ]
  },
  {
   "cell_type": "markdown",
   "id": "c42cbe00",
   "metadata": {},
   "source": [
    "#### Шаг 1. Загрузка данных"
   ]
  },
  {
   "cell_type": "code",
   "execution_count": 2,
   "id": "eff9f206",
   "metadata": {},
   "outputs": [],
   "source": [
    "users = pd.read_csv('/datasets/users_go.csv')\n",
    "rides = pd.read_csv('/datasets/rides_go.csv')\n",
    "subscriptions = pd.read_csv('/datasets/subscriptions_go.csv')"
   ]
  },
  {
   "cell_type": "code",
   "execution_count": 3,
   "id": "d16c8b08",
   "metadata": {},
   "outputs": [
    {
     "data": {
      "text/html": [
       "<div>\n",
       "<style scoped>\n",
       "    .dataframe tbody tr th:only-of-type {\n",
       "        vertical-align: middle;\n",
       "    }\n",
       "\n",
       "    .dataframe tbody tr th {\n",
       "        vertical-align: top;\n",
       "    }\n",
       "\n",
       "    .dataframe thead th {\n",
       "        text-align: right;\n",
       "    }\n",
       "</style>\n",
       "<table border=\"1\" class=\"dataframe\">\n",
       "  <thead>\n",
       "    <tr style=\"text-align: right;\">\n",
       "      <th></th>\n",
       "      <th>user_id</th>\n",
       "      <th>name</th>\n",
       "      <th>age</th>\n",
       "      <th>city</th>\n",
       "      <th>subscription_type</th>\n",
       "    </tr>\n",
       "  </thead>\n",
       "  <tbody>\n",
       "    <tr>\n",
       "      <th>0</th>\n",
       "      <td>1</td>\n",
       "      <td>Кира</td>\n",
       "      <td>22</td>\n",
       "      <td>Тюмень</td>\n",
       "      <td>ultra</td>\n",
       "    </tr>\n",
       "    <tr>\n",
       "      <th>1</th>\n",
       "      <td>2</td>\n",
       "      <td>Станислав</td>\n",
       "      <td>31</td>\n",
       "      <td>Омск</td>\n",
       "      <td>ultra</td>\n",
       "    </tr>\n",
       "    <tr>\n",
       "      <th>2</th>\n",
       "      <td>3</td>\n",
       "      <td>Алексей</td>\n",
       "      <td>20</td>\n",
       "      <td>Москва</td>\n",
       "      <td>ultra</td>\n",
       "    </tr>\n",
       "    <tr>\n",
       "      <th>3</th>\n",
       "      <td>4</td>\n",
       "      <td>Константин</td>\n",
       "      <td>26</td>\n",
       "      <td>Ростов-на-Дону</td>\n",
       "      <td>ultra</td>\n",
       "    </tr>\n",
       "    <tr>\n",
       "      <th>4</th>\n",
       "      <td>5</td>\n",
       "      <td>Адель</td>\n",
       "      <td>28</td>\n",
       "      <td>Омск</td>\n",
       "      <td>ultra</td>\n",
       "    </tr>\n",
       "  </tbody>\n",
       "</table>\n",
       "</div>"
      ],
      "text/plain": [
       "   user_id        name  age            city subscription_type\n",
       "0        1        Кира   22          Тюмень             ultra\n",
       "1        2   Станислав   31            Омск             ultra\n",
       "2        3     Алексей   20          Москва             ultra\n",
       "3        4  Константин   26  Ростов-на-Дону             ultra\n",
       "4        5       Адель   28            Омск             ultra"
      ]
     },
     "execution_count": 3,
     "metadata": {},
     "output_type": "execute_result"
    }
   ],
   "source": [
    "users.head()"
   ]
  },
  {
   "cell_type": "code",
   "execution_count": 4,
   "id": "c1b94a00",
   "metadata": {},
   "outputs": [
    {
     "data": {
      "text/html": [
       "<div>\n",
       "<style scoped>\n",
       "    .dataframe tbody tr th:only-of-type {\n",
       "        vertical-align: middle;\n",
       "    }\n",
       "\n",
       "    .dataframe tbody tr th {\n",
       "        vertical-align: top;\n",
       "    }\n",
       "\n",
       "    .dataframe thead th {\n",
       "        text-align: right;\n",
       "    }\n",
       "</style>\n",
       "<table border=\"1\" class=\"dataframe\">\n",
       "  <thead>\n",
       "    <tr style=\"text-align: right;\">\n",
       "      <th></th>\n",
       "      <th>user_id</th>\n",
       "      <th>distance</th>\n",
       "      <th>duration</th>\n",
       "      <th>date</th>\n",
       "    </tr>\n",
       "  </thead>\n",
       "  <tbody>\n",
       "    <tr>\n",
       "      <th>0</th>\n",
       "      <td>1</td>\n",
       "      <td>4409.919140</td>\n",
       "      <td>25.599769</td>\n",
       "      <td>2021-01-01</td>\n",
       "    </tr>\n",
       "    <tr>\n",
       "      <th>1</th>\n",
       "      <td>1</td>\n",
       "      <td>2617.592153</td>\n",
       "      <td>15.816871</td>\n",
       "      <td>2021-01-18</td>\n",
       "    </tr>\n",
       "    <tr>\n",
       "      <th>2</th>\n",
       "      <td>1</td>\n",
       "      <td>754.159807</td>\n",
       "      <td>6.232113</td>\n",
       "      <td>2021-04-20</td>\n",
       "    </tr>\n",
       "    <tr>\n",
       "      <th>3</th>\n",
       "      <td>1</td>\n",
       "      <td>2694.783254</td>\n",
       "      <td>18.511000</td>\n",
       "      <td>2021-08-11</td>\n",
       "    </tr>\n",
       "    <tr>\n",
       "      <th>4</th>\n",
       "      <td>1</td>\n",
       "      <td>4028.687306</td>\n",
       "      <td>26.265803</td>\n",
       "      <td>2021-08-28</td>\n",
       "    </tr>\n",
       "  </tbody>\n",
       "</table>\n",
       "</div>"
      ],
      "text/plain": [
       "   user_id     distance   duration        date\n",
       "0        1  4409.919140  25.599769  2021-01-01\n",
       "1        1  2617.592153  15.816871  2021-01-18\n",
       "2        1   754.159807   6.232113  2021-04-20\n",
       "3        1  2694.783254  18.511000  2021-08-11\n",
       "4        1  4028.687306  26.265803  2021-08-28"
      ]
     },
     "execution_count": 4,
     "metadata": {},
     "output_type": "execute_result"
    }
   ],
   "source": [
    "rides.head()"
   ]
  },
  {
   "cell_type": "code",
   "execution_count": 5,
   "id": "94760d34",
   "metadata": {},
   "outputs": [
    {
     "data": {
      "text/html": [
       "<div>\n",
       "<style scoped>\n",
       "    .dataframe tbody tr th:only-of-type {\n",
       "        vertical-align: middle;\n",
       "    }\n",
       "\n",
       "    .dataframe tbody tr th {\n",
       "        vertical-align: top;\n",
       "    }\n",
       "\n",
       "    .dataframe thead th {\n",
       "        text-align: right;\n",
       "    }\n",
       "</style>\n",
       "<table border=\"1\" class=\"dataframe\">\n",
       "  <thead>\n",
       "    <tr style=\"text-align: right;\">\n",
       "      <th></th>\n",
       "      <th>subscription_type</th>\n",
       "      <th>minute_price</th>\n",
       "      <th>start_ride_price</th>\n",
       "      <th>subscription_fee</th>\n",
       "    </tr>\n",
       "  </thead>\n",
       "  <tbody>\n",
       "    <tr>\n",
       "      <th>0</th>\n",
       "      <td>free</td>\n",
       "      <td>8</td>\n",
       "      <td>50</td>\n",
       "      <td>0</td>\n",
       "    </tr>\n",
       "    <tr>\n",
       "      <th>1</th>\n",
       "      <td>ultra</td>\n",
       "      <td>6</td>\n",
       "      <td>0</td>\n",
       "      <td>199</td>\n",
       "    </tr>\n",
       "  </tbody>\n",
       "</table>\n",
       "</div>"
      ],
      "text/plain": [
       "  subscription_type  minute_price  start_ride_price  subscription_fee\n",
       "0              free             8                50                 0\n",
       "1             ultra             6                 0               199"
      ]
     },
     "execution_count": 5,
     "metadata": {},
     "output_type": "execute_result"
    }
   ],
   "source": [
    "subscriptions.head()"
   ]
  },
  {
   "cell_type": "markdown",
   "id": "7c72cf9e",
   "metadata": {},
   "source": [
    "<div class=\"alert alert-info\">\n",
    "Есть два типа подписки - бесплатная (без подписки), и ультра. Они отличаются ценой за мин поездки и ценой за старт поездки. \n",
    "У нас есть данные по некоторому количеству пользователей: у кого какая подписка, и кто в каком городе сколько раз вызывал такси (и сколько на нём проехал) за промежуток с 2021-01-01 по 2021-12-30"
   ]
  },
  {
   "cell_type": "markdown",
   "id": "e95ebca7",
   "metadata": {},
   "source": [
    "#### Шаг 2. Предобработка данных"
   ]
  },
  {
   "cell_type": "code",
   "execution_count": 6,
   "id": "af6d202c",
   "metadata": {},
   "outputs": [
    {
     "data": {
      "text/html": [
       "<div>\n",
       "<style scoped>\n",
       "    .dataframe tbody tr th:only-of-type {\n",
       "        vertical-align: middle;\n",
       "    }\n",
       "\n",
       "    .dataframe tbody tr th {\n",
       "        vertical-align: top;\n",
       "    }\n",
       "\n",
       "    .dataframe thead th {\n",
       "        text-align: right;\n",
       "    }\n",
       "</style>\n",
       "<table border=\"1\" class=\"dataframe\">\n",
       "  <thead>\n",
       "    <tr style=\"text-align: right;\">\n",
       "      <th></th>\n",
       "      <th>user_id</th>\n",
       "      <th>distance</th>\n",
       "      <th>duration</th>\n",
       "      <th>date</th>\n",
       "      <th>month</th>\n",
       "    </tr>\n",
       "  </thead>\n",
       "  <tbody>\n",
       "    <tr>\n",
       "      <th>0</th>\n",
       "      <td>1</td>\n",
       "      <td>4409.919140</td>\n",
       "      <td>25.599769</td>\n",
       "      <td>2021-01-01</td>\n",
       "      <td>1</td>\n",
       "    </tr>\n",
       "    <tr>\n",
       "      <th>1</th>\n",
       "      <td>1</td>\n",
       "      <td>2617.592153</td>\n",
       "      <td>15.816871</td>\n",
       "      <td>2021-01-18</td>\n",
       "      <td>1</td>\n",
       "    </tr>\n",
       "    <tr>\n",
       "      <th>2</th>\n",
       "      <td>1</td>\n",
       "      <td>754.159807</td>\n",
       "      <td>6.232113</td>\n",
       "      <td>2021-04-20</td>\n",
       "      <td>4</td>\n",
       "    </tr>\n",
       "    <tr>\n",
       "      <th>3</th>\n",
       "      <td>1</td>\n",
       "      <td>2694.783254</td>\n",
       "      <td>18.511000</td>\n",
       "      <td>2021-08-11</td>\n",
       "      <td>8</td>\n",
       "    </tr>\n",
       "    <tr>\n",
       "      <th>4</th>\n",
       "      <td>1</td>\n",
       "      <td>4028.687306</td>\n",
       "      <td>26.265803</td>\n",
       "      <td>2021-08-28</td>\n",
       "      <td>8</td>\n",
       "    </tr>\n",
       "  </tbody>\n",
       "</table>\n",
       "</div>"
      ],
      "text/plain": [
       "   user_id     distance   duration       date  month\n",
       "0        1  4409.919140  25.599769 2021-01-01      1\n",
       "1        1  2617.592153  15.816871 2021-01-18      1\n",
       "2        1   754.159807   6.232113 2021-04-20      4\n",
       "3        1  2694.783254  18.511000 2021-08-11      8\n",
       "4        1  4028.687306  26.265803 2021-08-28      8"
      ]
     },
     "execution_count": 6,
     "metadata": {},
     "output_type": "execute_result"
    }
   ],
   "source": [
    "rides['date'] = pd.to_datetime(rides['date'])\n",
    "rides['month'] = rides['date'].dt.month\n",
    "rides.head()"
   ]
  },
  {
   "cell_type": "code",
   "execution_count": 7,
   "id": "c3e4183a",
   "metadata": {},
   "outputs": [
    {
     "name": "stdout",
     "output_type": "stream",
     "text": [
      "user_id              0\n",
      "name                 0\n",
      "age                  0\n",
      "city                 0\n",
      "subscription_type    0\n",
      "dtype: int64\n",
      "user_id     0\n",
      "distance    0\n",
      "duration    0\n",
      "date        0\n",
      "month       0\n",
      "dtype: int64\n",
      "subscription_type    0\n",
      "minute_price         0\n",
      "start_ride_price     0\n",
      "subscription_fee     0\n",
      "dtype: int64\n"
     ]
    }
   ],
   "source": [
    "print(users.isna().sum())\n",
    "print(rides.isna().sum())\n",
    "print(subscriptions.isna().sum())"
   ]
  },
  {
   "cell_type": "code",
   "execution_count": 8,
   "id": "98f38f5f",
   "metadata": {},
   "outputs": [
    {
     "name": "stdout",
     "output_type": "stream",
     "text": [
      "31\n",
      "0\n",
      "0\n"
     ]
    }
   ],
   "source": [
    "print(users.duplicated().sum())\n",
    "print(rides.duplicated().sum())\n",
    "print(subscriptions.duplicated().sum())"
   ]
  },
  {
   "cell_type": "code",
   "execution_count": 9,
   "id": "7f090944",
   "metadata": {},
   "outputs": [],
   "source": [
    "users = users.drop_duplicates()"
   ]
  },
  {
   "cell_type": "markdown",
   "id": "772e6cfd",
   "metadata": {},
   "source": [
    "<div class=\"alert alert-info\">\n",
    "Вывод: проблем с отсутствующими значениями не было - все данные заполнены. Дубликаты были только в датафрейме users - и мы от них успешно избавились."
   ]
  },
  {
   "cell_type": "markdown",
   "id": "212593c7",
   "metadata": {},
   "source": [
    "#### Шаг 3. Исследовательский анализ данных"
   ]
  },
  {
   "cell_type": "markdown",
   "id": "80fed368",
   "metadata": {},
   "source": [
    "##### Частота встречаемости городов"
   ]
  },
  {
   "cell_type": "code",
   "execution_count": 10,
   "id": "360dbb49",
   "metadata": {},
   "outputs": [
    {
     "data": {
      "text/plain": [
       "Москва            0.109518\n",
       "Тюмень            0.117340\n",
       "Омск              0.119296\n",
       "Сочи              0.123207\n",
       "Краснодар         0.125815\n",
       "Ростов-на-Дону    0.129074\n",
       "Екатеринбург      0.132986\n",
       "Пятигорск         0.142764\n",
       "Name: city, dtype: float64"
      ]
     },
     "execution_count": 10,
     "metadata": {},
     "output_type": "execute_result"
    }
   ],
   "source": [
    "(users.city.value_counts()/users.city.count()).sort_values()"
   ]
  },
  {
   "cell_type": "code",
   "execution_count": 11,
   "id": "e3a4274c",
   "metadata": {},
   "outputs": [
    {
     "data": {
      "image/png": "[encoded data removed]",
      "text/plain": [
       "<Figure size 432x288 with 1 Axes>"
      ]
     },
     "metadata": {
      "needs_background": "light"
     },
     "output_type": "display_data"
    }
   ],
   "source": [
    "(users.city.value_counts()/users.city.count()).sort_values().plot(kind='bar')\n",
    "plt.ylabel('frequency')\n",
    "plt.xlabel('city')\n",
    "plt.title('Ride frequency among analyzed cities')\n",
    "plt.show()"
   ]
  },
  {
   "cell_type": "markdown",
   "id": "12f81963",
   "metadata": {},
   "source": [
    "<div class=\"alert alert-info\">\n",
    "как ни странно, из мск поступило меньше всего заказов, из пятигорска - больше всего (~14%)"
   ]
  },
  {
   "cell_type": "code",
   "execution_count": 12,
   "id": "d6ba99a7",
   "metadata": {},
   "outputs": [
    {
     "data": {
      "text/plain": [
       "<function matplotlib.pyplot.show(close=None, block=None)>"
      ]
     },
     "execution_count": 12,
     "metadata": {},
     "output_type": "execute_result"
    },
    {
     "data": {
      "image/png": "[encoded data removed]",
      "text/plain": [
       "<Figure size 432x288 with 1 Axes>"
      ]
     },
     "metadata": {},
     "output_type": "display_data"
    }
   ],
   "source": [
    "(users.subscription_type.value_counts()/users.city.count()).sort_values().plot(kind='pie')\n",
    "plt.title('Subscription proportions amongst analyzed users')\n",
    "plt.show"
   ]
  },
  {
   "cell_type": "markdown",
   "id": "3e60bd86",
   "metadata": {},
   "source": [
    "<div class=\"alert alert-info\">\n",
    "Чуть больше половины пользователей пользуются 'бесплатной' подпиской, остальные - подпиской 'ультра'"
   ]
  },
  {
   "cell_type": "code",
   "execution_count": 13,
   "id": "6cc44a20",
   "metadata": {},
   "outputs": [
    {
     "data": {
      "image/png": "[encoded data removed]",
      "text/plain": [
       "<Figure size 360x360 with 1 Axes>"
      ]
     },
     "metadata": {
      "needs_background": "light"
     },
     "output_type": "display_data"
    }
   ],
   "source": [
    "sns.displot(users.age)\n",
    "plt.title('Users age distribution')\n",
    "plt.show()"
   ]
  },
  {
   "cell_type": "markdown",
   "id": "9106beab",
   "metadata": {},
   "source": [
    "<div class=\"alert alert-info\">\n",
    "большинству пользователей - от 20 до 30 лет, средний возраст - 25. Старше сорока и младше тринадцати пользователей практически нет."
   ]
  },
  {
   "cell_type": "code",
   "execution_count": 14,
   "id": "354ef6f2",
   "metadata": {},
   "outputs": [
    {
     "data": {
      "image/png": "[encoded data removed]",
      "text/plain": [
       "<Figure size 360x360 with 1 Axes>"
      ]
     },
     "metadata": {
      "needs_background": "light"
     },
     "output_type": "display_data"
    }
   ],
   "source": [
    "sns.displot(rides.distance)\n",
    "plt.title('Distribution of ride distances')\n",
    "plt.show()"
   ]
  },
  {
   "cell_type": "markdown",
   "id": "76ad65ee",
   "metadata": {},
   "source": [
    "<div class=\"alert alert-info\">\n",
    "здесь мы наблюдаем два пика - 0-1500 и 1500-6000. Скорее всего, более левый пик описывает малые города, правый - большие (e.g., Москва)"
   ]
  },
  {
   "cell_type": "code",
   "execution_count": 15,
   "id": "d3f010c4",
   "metadata": {},
   "outputs": [
    {
     "data": {
      "image/png": "[encoded data removed]",
      "text/plain": [
       "<Figure size 360x360 with 1 Axes>"
      ]
     },
     "metadata": {
      "needs_background": "light"
     },
     "output_type": "display_data"
    }
   ],
   "source": [
    "sns.displot(rides.duration)\n",
    "plt.title('Distribution of ride duration')\n",
    "plt.show()"
   ]
  },
  {
   "cell_type": "markdown",
   "id": "479f0472",
   "metadata": {},
   "source": [
    "<div class=\"alert alert-info\">\n",
    "Продолжительность поездок имеет нормальное распределение со средним примерно 20 минут. Есть небольшой пик на 1 минуте, скорее всего, передумавшие клиенты (например, клиент взял самокат, но понял, что самокат сломан)."
   ]
  },
  {
   "cell_type": "markdown",
   "id": "06c2c074",
   "metadata": {},
   "source": [
    "<div class=\"alert alert-info\">\n",
    "Промежуточный вывод: был проведен исследовательский анализ исходных данных. Было выяснено, что большинство пользователей пользуются подпиской free, их средний возраст - около 25 лет, они чаще всего совершают поездки около 3 километров из небольших городов (чаще всего - из Пятигорска)"
   ]
  },
  {
   "cell_type": "markdown",
   "id": "4ef51331",
   "metadata": {},
   "source": [
    "#### Шаг 4. Объединение данных"
   ]
  },
  {
   "cell_type": "code",
   "execution_count": 16,
   "id": "3727f07c",
   "metadata": {},
   "outputs": [
    {
     "data": {
      "text/plain": [
       "(18068, 12)"
      ]
     },
     "execution_count": 16,
     "metadata": {},
     "output_type": "execute_result"
    }
   ],
   "source": [
    "users_rides_merged = users.merge(rides, on='user_id')\n",
    "users_rides_subscriptions_merged = users_rides_merged.merge(subscriptions, on='subscription_type')\n",
    "users_rides_subscriptions_merged.head()\n",
    "users_rides_subscriptions_merged.shape"
   ]
  },
  {
   "cell_type": "code",
   "execution_count": 17,
   "id": "6bf288b5",
   "metadata": {},
   "outputs": [
    {
     "data": {
      "text/plain": [
       "(6500, 12)"
      ]
     },
     "execution_count": 17,
     "metadata": {},
     "output_type": "execute_result"
    }
   ],
   "source": [
    "users_with_subscription = users.query('subscription_type == \"ultra\"').merge(rides, on='user_id')\n",
    "users_with_subscription = users_with_subscription.merge(subscriptions, on='subscription_type')\n",
    "users_with_subscription.head()\n",
    "users_with_subscription.shape"
   ]
  },
  {
   "cell_type": "code",
   "execution_count": 18,
   "id": "a69e2d2f",
   "metadata": {},
   "outputs": [
    {
     "data": {
      "text/plain": [
       "(11568, 12)"
      ]
     },
     "execution_count": 18,
     "metadata": {},
     "output_type": "execute_result"
    }
   ],
   "source": [
    "users_wo_subscription = users.query('subscription_type == \"free\"').merge(rides, on='user_id')\n",
    "users_wo_subscription = users_wo_subscription.merge(subscriptions, on='subscription_type')\n",
    "users_wo_subscription.head()\n",
    "users_wo_subscription.shape"
   ]
  },
  {
   "cell_type": "markdown",
   "id": "8c0daecc",
   "metadata": {},
   "source": [
    "<div class=\"alert alert-info\">\n",
    "Сумма размерностей двух новых таблиц равна размерности таблицы, смердженной по всем данным - ничего не потерялось"
   ]
  },
  {
   "cell_type": "code",
   "execution_count": 19,
   "id": "00cbf28e",
   "metadata": {},
   "outputs": [
    {
     "data": {
      "image/png": "[encoded data removed]",
      "text/plain": [
       "<Figure size 360x360 with 1 Axes>"
      ]
     },
     "metadata": {
      "needs_background": "light"
     },
     "output_type": "display_data"
    },
    {
     "data": {
      "image/png": "[encoded data removed]",
      "text/plain": [
       "<Figure size 360x360 with 1 Axes>"
      ]
     },
     "metadata": {
      "needs_background": "light"
     },
     "output_type": "display_data"
    },
    {
     "data": {
      "image/png": "[encoded data removed]",
      "text/plain": [
       "<Figure size 360x360 with 1 Axes>"
      ]
     },
     "metadata": {
      "needs_background": "light"
     },
     "output_type": "display_data"
    },
    {
     "data": {
      "image/png": "[encoded data removed]",
      "text/plain": [
       "<Figure size 360x360 with 1 Axes>"
      ]
     },
     "metadata": {
      "needs_background": "light"
     },
     "output_type": "display_data"
    }
   ],
   "source": [
    "#Визуализируйте информацию о расстоянии и времени поездок для пользователей обеих категорий.\n",
    "\n",
    "sns.displot(users_with_subscription.distance)\n",
    "plt.title('Distribution of ride distances for users with subscription')\n",
    "plt.show()\n",
    "\n",
    "sns.displot(users_wo_subscription.distance)\n",
    "plt.title('Distribution of ride distances for users without subscription')\n",
    "plt.show()\n",
    "\n",
    "sns.displot(users_with_subscription.duration)\n",
    "plt.title('Distribution of ride durations for users with subscription')\n",
    "plt.show()\n",
    "\n",
    "sns.displot(users_wo_subscription.duration)\n",
    "plt.title('Distribution of ride durations for users without subscription')\n",
    "plt.show()"
   ]
  },
  {
   "cell_type": "markdown",
   "id": "e06dfcfc",
   "metadata": {},
   "source": [
    "<div class=\"alert alert-info\">\n",
    "Люди без подписки чаще берут самокаты для коротких поездок (до 1.5 км), а максимальная дальность их поездок выше, чем у людей с пподпиской.\n",
    "\n",
    "Также примечательно, что пик на 1 минуте поездки, который мы видели в предыдущем задании, сохраняется только на распределении, построенном на данных о людях без подписки - может, они уже после начала поездки решают, что такая поездка им невыгодна, и они решают идти пешком. Также их средняя и максимальная продолжительность поездки немного ниже, чем у людей с подпиской (18 против примерно 20 минут для среднего и 35 против 40 для максиммального)"
   ]
  },
  {
   "cell_type": "markdown",
   "id": "402d620f",
   "metadata": {},
   "source": [
    "#### Шаг 5. Подсчёт выручки"
   ]
  },
  {
   "cell_type": "code",
   "execution_count": 20,
   "id": "7ce5e8ed",
   "metadata": {},
   "outputs": [
    {
     "data": {
      "text/html": [
       "<div>\n",
       "<style scoped>\n",
       "    .dataframe tbody tr th:only-of-type {\n",
       "        vertical-align: middle;\n",
       "    }\n",
       "\n",
       "    .dataframe tbody tr th {\n",
       "        vertical-align: top;\n",
       "    }\n",
       "\n",
       "    .dataframe thead th {\n",
       "        text-align: right;\n",
       "    }\n",
       "</style>\n",
       "<table border=\"1\" class=\"dataframe\">\n",
       "  <thead>\n",
       "    <tr style=\"text-align: right;\">\n",
       "      <th></th>\n",
       "      <th>user_id</th>\n",
       "      <th>name</th>\n",
       "      <th>age</th>\n",
       "      <th>city</th>\n",
       "      <th>subscription_type</th>\n",
       "      <th>distance</th>\n",
       "      <th>duration</th>\n",
       "      <th>date</th>\n",
       "      <th>month</th>\n",
       "      <th>minute_price</th>\n",
       "      <th>start_ride_price</th>\n",
       "      <th>subscription_fee</th>\n",
       "    </tr>\n",
       "  </thead>\n",
       "  <tbody>\n",
       "    <tr>\n",
       "      <th>0</th>\n",
       "      <td>1</td>\n",
       "      <td>Кира</td>\n",
       "      <td>22</td>\n",
       "      <td>Тюмень</td>\n",
       "      <td>ultra</td>\n",
       "      <td>4409.919140</td>\n",
       "      <td>25.599769</td>\n",
       "      <td>2021-01-01</td>\n",
       "      <td>1</td>\n",
       "      <td>6</td>\n",
       "      <td>0</td>\n",
       "      <td>199</td>\n",
       "    </tr>\n",
       "    <tr>\n",
       "      <th>1</th>\n",
       "      <td>1</td>\n",
       "      <td>Кира</td>\n",
       "      <td>22</td>\n",
       "      <td>Тюмень</td>\n",
       "      <td>ultra</td>\n",
       "      <td>2617.592153</td>\n",
       "      <td>15.816871</td>\n",
       "      <td>2021-01-18</td>\n",
       "      <td>1</td>\n",
       "      <td>6</td>\n",
       "      <td>0</td>\n",
       "      <td>199</td>\n",
       "    </tr>\n",
       "    <tr>\n",
       "      <th>2</th>\n",
       "      <td>1</td>\n",
       "      <td>Кира</td>\n",
       "      <td>22</td>\n",
       "      <td>Тюмень</td>\n",
       "      <td>ultra</td>\n",
       "      <td>754.159807</td>\n",
       "      <td>6.232113</td>\n",
       "      <td>2021-04-20</td>\n",
       "      <td>4</td>\n",
       "      <td>6</td>\n",
       "      <td>0</td>\n",
       "      <td>199</td>\n",
       "    </tr>\n",
       "    <tr>\n",
       "      <th>3</th>\n",
       "      <td>1</td>\n",
       "      <td>Кира</td>\n",
       "      <td>22</td>\n",
       "      <td>Тюмень</td>\n",
       "      <td>ultra</td>\n",
       "      <td>2694.783254</td>\n",
       "      <td>18.511000</td>\n",
       "      <td>2021-08-11</td>\n",
       "      <td>8</td>\n",
       "      <td>6</td>\n",
       "      <td>0</td>\n",
       "      <td>199</td>\n",
       "    </tr>\n",
       "    <tr>\n",
       "      <th>4</th>\n",
       "      <td>1</td>\n",
       "      <td>Кира</td>\n",
       "      <td>22</td>\n",
       "      <td>Тюмень</td>\n",
       "      <td>ultra</td>\n",
       "      <td>4028.687306</td>\n",
       "      <td>26.265803</td>\n",
       "      <td>2021-08-28</td>\n",
       "      <td>8</td>\n",
       "      <td>6</td>\n",
       "      <td>0</td>\n",
       "      <td>199</td>\n",
       "    </tr>\n",
       "  </tbody>\n",
       "</table>\n",
       "</div>"
      ],
      "text/plain": [
       "   user_id  name  age    city subscription_type     distance   duration  \\\n",
       "0        1  Кира   22  Тюмень             ultra  4409.919140  25.599769   \n",
       "1        1  Кира   22  Тюмень             ultra  2617.592153  15.816871   \n",
       "2        1  Кира   22  Тюмень             ultra   754.159807   6.232113   \n",
       "3        1  Кира   22  Тюмень             ultra  2694.783254  18.511000   \n",
       "4        1  Кира   22  Тюмень             ultra  4028.687306  26.265803   \n",
       "\n",
       "        date  month  minute_price  start_ride_price  subscription_fee  \n",
       "0 2021-01-01      1             6                 0               199  \n",
       "1 2021-01-18      1             6                 0               199  \n",
       "2 2021-04-20      4             6                 0               199  \n",
       "3 2021-08-11      8             6                 0               199  \n",
       "4 2021-08-28      8             6                 0               199  "
      ]
     },
     "execution_count": 20,
     "metadata": {},
     "output_type": "execute_result"
    }
   ],
   "source": [
    "users_rides_subscriptions_merged.head()"
   ]
  },
  {
   "cell_type": "markdown",
   "id": "447e9e16",
   "metadata": {},
   "source": [
    "<div class=\"alert alert-info\">\n",
    "Округление времени поездки"
   ]
  },
  {
   "cell_type": "code",
   "execution_count": 21,
   "id": "61e78401",
   "metadata": {},
   "outputs": [
    {
     "data": {
      "text/html": [
       "<div>\n",
       "<style scoped>\n",
       "    .dataframe tbody tr th:only-of-type {\n",
       "        vertical-align: middle;\n",
       "    }\n",
       "\n",
       "    .dataframe tbody tr th {\n",
       "        vertical-align: top;\n",
       "    }\n",
       "\n",
       "    .dataframe thead th {\n",
       "        text-align: right;\n",
       "    }\n",
       "</style>\n",
       "<table border=\"1\" class=\"dataframe\">\n",
       "  <thead>\n",
       "    <tr style=\"text-align: right;\">\n",
       "      <th></th>\n",
       "      <th>user_id</th>\n",
       "      <th>name</th>\n",
       "      <th>age</th>\n",
       "      <th>city</th>\n",
       "      <th>subscription_type</th>\n",
       "      <th>distance</th>\n",
       "      <th>duration</th>\n",
       "      <th>date</th>\n",
       "      <th>month</th>\n",
       "      <th>minute_price</th>\n",
       "      <th>start_ride_price</th>\n",
       "      <th>subscription_fee</th>\n",
       "    </tr>\n",
       "  </thead>\n",
       "  <tbody>\n",
       "    <tr>\n",
       "      <th>0</th>\n",
       "      <td>1</td>\n",
       "      <td>Кира</td>\n",
       "      <td>22</td>\n",
       "      <td>Тюмень</td>\n",
       "      <td>ultra</td>\n",
       "      <td>4409.919140</td>\n",
       "      <td>26.0</td>\n",
       "      <td>2021-01-01</td>\n",
       "      <td>1</td>\n",
       "      <td>6</td>\n",
       "      <td>0</td>\n",
       "      <td>199</td>\n",
       "    </tr>\n",
       "    <tr>\n",
       "      <th>1</th>\n",
       "      <td>1</td>\n",
       "      <td>Кира</td>\n",
       "      <td>22</td>\n",
       "      <td>Тюмень</td>\n",
       "      <td>ultra</td>\n",
       "      <td>2617.592153</td>\n",
       "      <td>16.0</td>\n",
       "      <td>2021-01-18</td>\n",
       "      <td>1</td>\n",
       "      <td>6</td>\n",
       "      <td>0</td>\n",
       "      <td>199</td>\n",
       "    </tr>\n",
       "    <tr>\n",
       "      <th>2</th>\n",
       "      <td>1</td>\n",
       "      <td>Кира</td>\n",
       "      <td>22</td>\n",
       "      <td>Тюмень</td>\n",
       "      <td>ultra</td>\n",
       "      <td>754.159807</td>\n",
       "      <td>6.0</td>\n",
       "      <td>2021-04-20</td>\n",
       "      <td>4</td>\n",
       "      <td>6</td>\n",
       "      <td>0</td>\n",
       "      <td>199</td>\n",
       "    </tr>\n",
       "    <tr>\n",
       "      <th>3</th>\n",
       "      <td>1</td>\n",
       "      <td>Кира</td>\n",
       "      <td>22</td>\n",
       "      <td>Тюмень</td>\n",
       "      <td>ultra</td>\n",
       "      <td>2694.783254</td>\n",
       "      <td>19.0</td>\n",
       "      <td>2021-08-11</td>\n",
       "      <td>8</td>\n",
       "      <td>6</td>\n",
       "      <td>0</td>\n",
       "      <td>199</td>\n",
       "    </tr>\n",
       "    <tr>\n",
       "      <th>4</th>\n",
       "      <td>1</td>\n",
       "      <td>Кира</td>\n",
       "      <td>22</td>\n",
       "      <td>Тюмень</td>\n",
       "      <td>ultra</td>\n",
       "      <td>4028.687306</td>\n",
       "      <td>26.0</td>\n",
       "      <td>2021-08-28</td>\n",
       "      <td>8</td>\n",
       "      <td>6</td>\n",
       "      <td>0</td>\n",
       "      <td>199</td>\n",
       "    </tr>\n",
       "  </tbody>\n",
       "</table>\n",
       "</div>"
      ],
      "text/plain": [
       "   user_id  name  age    city subscription_type     distance  duration  \\\n",
       "0        1  Кира   22  Тюмень             ultra  4409.919140      26.0   \n",
       "1        1  Кира   22  Тюмень             ultra  2617.592153      16.0   \n",
       "2        1  Кира   22  Тюмень             ultra   754.159807       6.0   \n",
       "3        1  Кира   22  Тюмень             ultra  2694.783254      19.0   \n",
       "4        1  Кира   22  Тюмень             ultra  4028.687306      26.0   \n",
       "\n",
       "        date  month  minute_price  start_ride_price  subscription_fee  \n",
       "0 2021-01-01      1             6                 0               199  \n",
       "1 2021-01-18      1             6                 0               199  \n",
       "2 2021-04-20      4             6                 0               199  \n",
       "3 2021-08-11      8             6                 0               199  \n",
       "4 2021-08-28      8             6                 0               199  "
      ]
     },
     "execution_count": 21,
     "metadata": {},
     "output_type": "execute_result"
    }
   ],
   "source": [
    "users_rides_subscriptions_merged['duration'] = np.round(users_rides_subscriptions_merged['duration'], 0)\n",
    "users_rides_subscriptions_merged.head()"
   ]
  },
  {
   "cell_type": "code",
   "execution_count": 24,
   "id": "e0984d94",
   "metadata": {},
   "outputs": [
    {
     "name": "stdout",
     "output_type": "stream",
     "text": [
      "free     6798\n",
      "ultra    4533\n",
      "Name: subscription, dtype: int64\n"
     ]
    },
    {
     "data": {
      "text/html": [
       "<div>\n",
       "<style scoped>\n",
       "    .dataframe tbody tr th:only-of-type {\n",
       "        vertical-align: middle;\n",
       "    }\n",
       "\n",
       "    .dataframe tbody tr th {\n",
       "        vertical-align: top;\n",
       "    }\n",
       "\n",
       "    .dataframe thead th {\n",
       "        text-align: right;\n",
       "    }\n",
       "</style>\n",
       "<table border=\"1\" class=\"dataframe\">\n",
       "  <thead>\n",
       "    <tr style=\"text-align: right;\">\n",
       "      <th></th>\n",
       "      <th>user_id</th>\n",
       "      <th>month</th>\n",
       "      <th>distance</th>\n",
       "      <th>n_rides</th>\n",
       "      <th>duration</th>\n",
       "      <th>subscription</th>\n",
       "    </tr>\n",
       "  </thead>\n",
       "  <tbody>\n",
       "    <tr>\n",
       "      <th>0</th>\n",
       "      <td>1</td>\n",
       "      <td>1</td>\n",
       "      <td>7027.511294</td>\n",
       "      <td>2</td>\n",
       "      <td>42.0</td>\n",
       "      <td>ultra</td>\n",
       "    </tr>\n",
       "    <tr>\n",
       "      <th>1</th>\n",
       "      <td>1</td>\n",
       "      <td>4</td>\n",
       "      <td>754.159807</td>\n",
       "      <td>1</td>\n",
       "      <td>6.0</td>\n",
       "      <td>ultra</td>\n",
       "    </tr>\n",
       "    <tr>\n",
       "      <th>2</th>\n",
       "      <td>1</td>\n",
       "      <td>8</td>\n",
       "      <td>6723.470560</td>\n",
       "      <td>2</td>\n",
       "      <td>45.0</td>\n",
       "      <td>ultra</td>\n",
       "    </tr>\n",
       "    <tr>\n",
       "      <th>3</th>\n",
       "      <td>1</td>\n",
       "      <td>10</td>\n",
       "      <td>5809.911100</td>\n",
       "      <td>2</td>\n",
       "      <td>32.0</td>\n",
       "      <td>ultra</td>\n",
       "    </tr>\n",
       "    <tr>\n",
       "      <th>4</th>\n",
       "      <td>1</td>\n",
       "      <td>11</td>\n",
       "      <td>7003.499363</td>\n",
       "      <td>3</td>\n",
       "      <td>53.0</td>\n",
       "      <td>ultra</td>\n",
       "    </tr>\n",
       "  </tbody>\n",
       "</table>\n",
       "</div>"
      ],
      "text/plain": [
       "   user_id  month     distance  n_rides  duration subscription\n",
       "0        1      1  7027.511294        2      42.0        ultra\n",
       "1        1      4   754.159807        1       6.0        ultra\n",
       "2        1      8  6723.470560        2      45.0        ultra\n",
       "3        1     10  5809.911100        2      32.0        ultra\n",
       "4        1     11  7003.499363        3      53.0        ultra"
      ]
     },
     "execution_count": 24,
     "metadata": {},
     "output_type": "execute_result"
    }
   ],
   "source": [
    "all_aggr = users_rides_subscriptions_merged.groupby(['user_id', 'month']).agg({\n",
    "    'distance': 'sum',\n",
    "    'date': 'count',\n",
    "    'duration': 'sum',\n",
    "    'subscription_type': 'unique'\n",
    "}).reset_index()\n",
    "all_aggr.columns = ['user_id', 'month', 'distance', 'n_rides', 'duration', 'subscription']\n",
    "\n",
    "all_aggr['subscription'] = [''.join(i) for i in all_aggr['subscription']]\n",
    "\n",
    "print(all_aggr['subscription'].value_counts())\n",
    "all_aggr.head()"
   ]
  },
  {
   "cell_type": "code",
   "execution_count": 25,
   "id": "2908787f",
   "metadata": {},
   "outputs": [],
   "source": [
    "def revenue_by_month(df, terms = ['ultra', 'free']):\n",
    "    if terms=='free':\n",
    "        revenue = np.ceil(df['duration'])*8 + df['n_rides']*50\n",
    "    else:\n",
    "        revenue = np.ceil(df['duration'])*6 + 199\n",
    "    return revenue"
   ]
  },
  {
   "cell_type": "markdown",
   "id": "4541a242",
   "metadata": {},
   "source": [
    "<div class=\"alert alert-success\">\n",
    "<b>✔️ Комментарий ревьюера v3:</b>\n",
    "<br>Отлично! Теперь всё верно)\n",
    "</div>"
   ]
  },
  {
   "cell_type": "code",
   "execution_count": 26,
   "id": "23f01193",
   "metadata": {},
   "outputs": [
    {
     "data": {
      "text/plain": [
       "\"with_subscription_aggr['revenue'] = revenue_by_month(with_subscription_aggr, 'ultra')\\nwith_subscription_aggr.head()\""
      ]
     },
     "execution_count": 26,
     "metadata": {},
     "output_type": "execute_result"
    }
   ],
   "source": [
    "'''with_subscription_aggr['revenue'] = revenue_by_month(with_subscription_aggr, 'ultra')\n",
    "with_subscription_aggr.head()'''"
   ]
  },
  {
   "cell_type": "code",
   "execution_count": 27,
   "id": "105711be",
   "metadata": {},
   "outputs": [
    {
     "data": {
      "text/plain": [
       "\"wo_subscription_aggr['revenue'] = revenue_by_month(wo_subscription_aggr, 'free')\\nwo_subscription_aggr.head()\""
      ]
     },
     "execution_count": 27,
     "metadata": {},
     "output_type": "execute_result"
    }
   ],
   "source": [
    "'''wo_subscription_aggr['revenue'] = revenue_by_month(wo_subscription_aggr, 'free')\n",
    "wo_subscription_aggr.head()'''"
   ]
  },
  {
   "cell_type": "code",
   "execution_count": 28,
   "id": "44eb5507",
   "metadata": {},
   "outputs": [
    {
     "data": {
      "text/html": [
       "<div>\n",
       "<style scoped>\n",
       "    .dataframe tbody tr th:only-of-type {\n",
       "        vertical-align: middle;\n",
       "    }\n",
       "\n",
       "    .dataframe tbody tr th {\n",
       "        vertical-align: top;\n",
       "    }\n",
       "\n",
       "    .dataframe thead th {\n",
       "        text-align: right;\n",
       "    }\n",
       "</style>\n",
       "<table border=\"1\" class=\"dataframe\">\n",
       "  <thead>\n",
       "    <tr style=\"text-align: right;\">\n",
       "      <th></th>\n",
       "      <th>user_id</th>\n",
       "      <th>month</th>\n",
       "      <th>distance</th>\n",
       "      <th>n_rides</th>\n",
       "      <th>duration</th>\n",
       "      <th>subscription</th>\n",
       "      <th>revenue</th>\n",
       "    </tr>\n",
       "  </thead>\n",
       "  <tbody>\n",
       "    <tr>\n",
       "      <th>0</th>\n",
       "      <td>1</td>\n",
       "      <td>1</td>\n",
       "      <td>7027.511294</td>\n",
       "      <td>2</td>\n",
       "      <td>42.0</td>\n",
       "      <td>ultra</td>\n",
       "      <td>451.0</td>\n",
       "    </tr>\n",
       "    <tr>\n",
       "      <th>1</th>\n",
       "      <td>1</td>\n",
       "      <td>4</td>\n",
       "      <td>754.159807</td>\n",
       "      <td>1</td>\n",
       "      <td>6.0</td>\n",
       "      <td>ultra</td>\n",
       "      <td>235.0</td>\n",
       "    </tr>\n",
       "    <tr>\n",
       "      <th>2</th>\n",
       "      <td>1</td>\n",
       "      <td>8</td>\n",
       "      <td>6723.470560</td>\n",
       "      <td>2</td>\n",
       "      <td>45.0</td>\n",
       "      <td>ultra</td>\n",
       "      <td>469.0</td>\n",
       "    </tr>\n",
       "    <tr>\n",
       "      <th>3</th>\n",
       "      <td>1</td>\n",
       "      <td>10</td>\n",
       "      <td>5809.911100</td>\n",
       "      <td>2</td>\n",
       "      <td>32.0</td>\n",
       "      <td>ultra</td>\n",
       "      <td>391.0</td>\n",
       "    </tr>\n",
       "    <tr>\n",
       "      <th>4</th>\n",
       "      <td>1</td>\n",
       "      <td>11</td>\n",
       "      <td>7003.499363</td>\n",
       "      <td>3</td>\n",
       "      <td>53.0</td>\n",
       "      <td>ultra</td>\n",
       "      <td>517.0</td>\n",
       "    </tr>\n",
       "  </tbody>\n",
       "</table>\n",
       "</div>"
      ],
      "text/plain": [
       "   user_id  month     distance  n_rides  duration subscription  revenue\n",
       "0        1      1  7027.511294        2      42.0        ultra    451.0\n",
       "1        1      4   754.159807        1       6.0        ultra    235.0\n",
       "2        1      8  6723.470560        2      45.0        ultra    469.0\n",
       "3        1     10  5809.911100        2      32.0        ultra    391.0\n",
       "4        1     11  7003.499363        3      53.0        ultra    517.0"
      ]
     },
     "execution_count": 28,
     "metadata": {},
     "output_type": "execute_result"
    }
   ],
   "source": [
    "all_aggr['revenue'] = all_aggr.apply(lambda x: revenue_by_month(x, x['subscription']), axis=1)\n",
    "all_aggr.head()"
   ]
  },
  {
   "cell_type": "code",
   "execution_count": 29,
   "id": "d86f77d9",
   "metadata": {},
   "outputs": [],
   "source": [
    "with_subscription_aggr = all_aggr.query('subscription==\"ultra\"')\n",
    "wo_subscription_aggr = all_aggr.query('subscription==\"free\"')"
   ]
  },
  {
   "cell_type": "code",
   "execution_count": 30,
   "id": "b620c664",
   "metadata": {},
   "outputs": [
    {
     "data": {
      "text/html": [
       "<div>\n",
       "<style scoped>\n",
       "    .dataframe tbody tr th:only-of-type {\n",
       "        vertical-align: middle;\n",
       "    }\n",
       "\n",
       "    .dataframe tbody tr th {\n",
       "        vertical-align: top;\n",
       "    }\n",
       "\n",
       "    .dataframe thead th {\n",
       "        text-align: right;\n",
       "    }\n",
       "</style>\n",
       "<table border=\"1\" class=\"dataframe\">\n",
       "  <thead>\n",
       "    <tr style=\"text-align: right;\">\n",
       "      <th></th>\n",
       "      <th>user_id</th>\n",
       "      <th>month</th>\n",
       "      <th>distance</th>\n",
       "      <th>n_rides</th>\n",
       "      <th>duration</th>\n",
       "      <th>subscription</th>\n",
       "      <th>revenue</th>\n",
       "    </tr>\n",
       "  </thead>\n",
       "  <tbody>\n",
       "    <tr>\n",
       "      <th>0</th>\n",
       "      <td>1</td>\n",
       "      <td>1</td>\n",
       "      <td>7027.511294</td>\n",
       "      <td>2</td>\n",
       "      <td>42.0</td>\n",
       "      <td>ultra</td>\n",
       "      <td>451.0</td>\n",
       "    </tr>\n",
       "    <tr>\n",
       "      <th>1</th>\n",
       "      <td>1</td>\n",
       "      <td>4</td>\n",
       "      <td>754.159807</td>\n",
       "      <td>1</td>\n",
       "      <td>6.0</td>\n",
       "      <td>ultra</td>\n",
       "      <td>235.0</td>\n",
       "    </tr>\n",
       "    <tr>\n",
       "      <th>2</th>\n",
       "      <td>1</td>\n",
       "      <td>8</td>\n",
       "      <td>6723.470560</td>\n",
       "      <td>2</td>\n",
       "      <td>45.0</td>\n",
       "      <td>ultra</td>\n",
       "      <td>469.0</td>\n",
       "    </tr>\n",
       "    <tr>\n",
       "      <th>3</th>\n",
       "      <td>1</td>\n",
       "      <td>10</td>\n",
       "      <td>5809.911100</td>\n",
       "      <td>2</td>\n",
       "      <td>32.0</td>\n",
       "      <td>ultra</td>\n",
       "      <td>391.0</td>\n",
       "    </tr>\n",
       "    <tr>\n",
       "      <th>4</th>\n",
       "      <td>1</td>\n",
       "      <td>11</td>\n",
       "      <td>7003.499363</td>\n",
       "      <td>3</td>\n",
       "      <td>53.0</td>\n",
       "      <td>ultra</td>\n",
       "      <td>517.0</td>\n",
       "    </tr>\n",
       "    <tr>\n",
       "      <th>...</th>\n",
       "      <td>...</td>\n",
       "      <td>...</td>\n",
       "      <td>...</td>\n",
       "      <td>...</td>\n",
       "      <td>...</td>\n",
       "      <td>...</td>\n",
       "      <td>...</td>\n",
       "    </tr>\n",
       "    <tr>\n",
       "      <th>4528</th>\n",
       "      <td>699</td>\n",
       "      <td>6</td>\n",
       "      <td>4072.797406</td>\n",
       "      <td>1</td>\n",
       "      <td>17.0</td>\n",
       "      <td>ultra</td>\n",
       "      <td>301.0</td>\n",
       "    </tr>\n",
       "    <tr>\n",
       "      <th>4529</th>\n",
       "      <td>699</td>\n",
       "      <td>8</td>\n",
       "      <td>7018.324143</td>\n",
       "      <td>2</td>\n",
       "      <td>45.0</td>\n",
       "      <td>ultra</td>\n",
       "      <td>469.0</td>\n",
       "    </tr>\n",
       "    <tr>\n",
       "      <th>4530</th>\n",
       "      <td>699</td>\n",
       "      <td>9</td>\n",
       "      <td>6364.861911</td>\n",
       "      <td>2</td>\n",
       "      <td>30.0</td>\n",
       "      <td>ultra</td>\n",
       "      <td>379.0</td>\n",
       "    </tr>\n",
       "    <tr>\n",
       "      <th>4531</th>\n",
       "      <td>699</td>\n",
       "      <td>10</td>\n",
       "      <td>4707.845501</td>\n",
       "      <td>1</td>\n",
       "      <td>16.0</td>\n",
       "      <td>ultra</td>\n",
       "      <td>295.0</td>\n",
       "    </tr>\n",
       "    <tr>\n",
       "      <th>4532</th>\n",
       "      <td>699</td>\n",
       "      <td>12</td>\n",
       "      <td>3202.890770</td>\n",
       "      <td>1</td>\n",
       "      <td>25.0</td>\n",
       "      <td>ultra</td>\n",
       "      <td>349.0</td>\n",
       "    </tr>\n",
       "  </tbody>\n",
       "</table>\n",
       "<p>4533 rows × 7 columns</p>\n",
       "</div>"
      ],
      "text/plain": [
       "      user_id  month     distance  n_rides  duration subscription  revenue\n",
       "0           1      1  7027.511294        2      42.0        ultra    451.0\n",
       "1           1      4   754.159807        1       6.0        ultra    235.0\n",
       "2           1      8  6723.470560        2      45.0        ultra    469.0\n",
       "3           1     10  5809.911100        2      32.0        ultra    391.0\n",
       "4           1     11  7003.499363        3      53.0        ultra    517.0\n",
       "...       ...    ...          ...      ...       ...          ...      ...\n",
       "4528      699      6  4072.797406        1      17.0        ultra    301.0\n",
       "4529      699      8  7018.324143        2      45.0        ultra    469.0\n",
       "4530      699      9  6364.861911        2      30.0        ultra    379.0\n",
       "4531      699     10  4707.845501        1      16.0        ultra    295.0\n",
       "4532      699     12  3202.890770        1      25.0        ultra    349.0\n",
       "\n",
       "[4533 rows x 7 columns]"
      ]
     },
     "execution_count": 30,
     "metadata": {},
     "output_type": "execute_result"
    }
   ],
   "source": [
    "with_subscription_aggr"
   ]
  },
  {
   "cell_type": "markdown",
   "id": "41545ac0",
   "metadata": {},
   "source": [
    "#### Шаг 6. Проверка гипотез"
   ]
  },
  {
   "cell_type": "markdown",
   "id": "975d1806",
   "metadata": {},
   "source": [
    "6.1 Важно понять, тратят ли пользователи с подпиской больше времени на поездки? Если да, то пользователи с подпиской могут быть «выгоднее» для компании. Проверьте гипотезу. Используйте исходные данные о продолжительности каждой сессии — отдельно для подписчиков и тех, у кого нет подписки."
   ]
  },
  {
   "cell_type": "markdown",
   "id": "391a6252",
   "metadata": {},
   "source": [
    "<div class=\"alert alert-info\">\n",
    "\n",
    "H0: среднее время поездки у пользователей с подпиской и без одинаковое, либо у пользователей с подпиской меньше, чем у пользователей без подписки\n",
    "\n",
    "H1: среднее время поездки у пользователей с подпиской больше, чем у пользователей без подписки"
   ]
  },
  {
   "cell_type": "code",
   "execution_count": 31,
   "id": "05b01804",
   "metadata": {},
   "outputs": [
    {
     "name": "stdout",
     "output_type": "stream",
     "text": [
      "Принимаем гипотезу о том, что пользователи с подпиской тратят больше времени на поездки: \n",
      "          вероятность того, что эта гипотеза верна при данных наблюдениях, составляет примерно 1.0 (p-value теста = 1.2804098316645618e-34)\n"
     ]
    }
   ],
   "source": [
    "t_stat, p_value = st.ttest_ind(users_with_subscription.duration, users_wo_subscription.duration, \n",
    "                              alternative='greater')\n",
    "\n",
    "if p_value < .05:\n",
    "    print(f'''Принимаем гипотезу о том, что пользователи с подпиской тратят больше времени на поездки: \n",
    "          вероятность того, что эта гипотеза верна при данных наблюдениях, составляет примерно {1-p_value} (p-value теста = {p_value})''')\n",
    "else:\n",
    "    print(f'''Отвергаем гипотезу о том, что пользователи с подпиской тратят больше времени на поездки: \n",
    "     вероятность того, что эта гипотезк верна при данных наблюдениях, составляет {p_value}''')"
   ]
  },
  {
   "cell_type": "markdown",
   "id": "1c11692d",
   "metadata": {},
   "source": [
    "6.2 Расстояние одной поездки в \n",
    "3130\n",
    "3130 метров — оптимальное с точки зрения износа самоката. Можно ли сказать, что среднее расстояние, которое проезжают пользователи с подпиской за одну поездку, не превышает \n",
    "3130\n",
    "3130 метров? Проверьте гипотезу и сделайте выводы."
   ]
  },
  {
   "cell_type": "markdown",
   "id": "cb619913",
   "metadata": {},
   "source": [
    "<div class=\"alert alert-info\">\n",
    "\n",
    "H0: Cреднее расстояние, которое проезжают пользователи с подпиской за одну поездку, не превышает 3130 метров\n",
    "\n",
    "H1: Cреднее расстояние, которое проезжают пользователи с подпиской за одну поездку, превышает 3130 метров"
   ]
  },
  {
   "cell_type": "code",
   "execution_count": 32,
   "id": "1aa18ef0",
   "metadata": {},
   "outputs": [
    {
     "name": "stdout",
     "output_type": "stream",
     "text": [
      "cреднее расстояние поездки пользователей с подпиской не превышает заданного порогового значения (3130 метров) \n",
      "    c вероятностью 0.9195368847849785\n"
     ]
    }
   ],
   "source": [
    "#насколько я поняла, тут опечатка, и оптимальное расстояние - 3130 м\n",
    "target_distance = 3130\n",
    "\n",
    "t_stat, p_value = st.ttest_1samp(users_with_subscription.distance, target_distance, alternative='greater')\n",
    "\n",
    "if p_value < .05:\n",
    "    print(f'''cреднее расстояние поездки пользователей с подпиской превышает заданное пороговое значения (3130 метров) \n",
    "    c вероятностью {1 - p_value}''')\n",
    "else:\n",
    "    print(f'''cреднее расстояние поездки пользователей с подпиской не превышает заданного порогового значения (3130 метров) \n",
    "    c вероятностью {p_value}''')"
   ]
  },
  {
   "cell_type": "markdown",
   "id": "8bc6b3d6",
   "metadata": {},
   "source": [
    "6.3 Проверьте гипотезу о том, будет ли помесячная выручка от пользователей с подпиской по месяцам выше, чем выручка от пользователей без подписки. Сделайте вывод."
   ]
  },
  {
   "cell_type": "markdown",
   "id": "c70f5fee",
   "metadata": {},
   "source": [
    "<div class=\"alert alert-info\">\n",
    "\n",
    "H0: Помесячная выручка от пользователей с подпиской по месяцам не выше, чем выручка от пользователей без подписки\n",
    "\n",
    "H1: Помесячная выручка от пользователей с подпиской по месяцам выше, чем выручка от пользователей без подписки"
   ]
  },
  {
   "cell_type": "code",
   "execution_count": 33,
   "id": "57736f3f",
   "metadata": {},
   "outputs": [
    {
     "name": "stdout",
     "output_type": "stream",
     "text": [
      "пользователи с подпиской приносят больше помесячной выручки: p-value этого теста 1.7274069878387966e-37\n"
     ]
    }
   ],
   "source": [
    "t_stat, p_value = st.ttest_ind(with_subscription_aggr.revenue, wo_subscription_aggr.revenue, \n",
    "                              alternative='greater')\n",
    "\n",
    "if p_value < .05:\n",
    "    print(f\"пользователи с подпиской приносят больше помесячной выручки: p-value этого теста {p_value}\")\n",
    "else:\n",
    "    print(f\"пользователи с подпиской приносят не больше помесячной выручки, чем пользователи без подписки,  с вероятностью {p_value}\")"
   ]
  },
  {
   "cell_type": "markdown",
   "id": "43cdeb89",
   "metadata": {},
   "source": [
    "<div class=\"alert alert-info\">\n",
    "\n",
    "Общий вывод: Были проанализированы данные сервиса GoFast о некоторых пользователях из нескольких городов, а также об их поездках.\n",
    "    \n",
    "    Данные были проверены на предмет пропущенных значений и дубликатов и очищены от них.\n",
    "    \n",
    "    Был проведен исследовательский анализ данных. Было выяснено, что большинство пользователей пользуются подпиской free, их средний возраст - около 25 лет, они чаще всего совершают поездки около 3 километров из небольших городов (чаще всего - из Пятигорска)\n",
    "    \n",
    "    Замечено, что люди без подписки чаще берут самокаты для коротких поездок (до 1.5 км), а максимальная дальность их поездок выше, чем у людей с подпиской.\n",
    "    \n",
    "    Была также подсчитана помесячная выручка для каждого пользователя и проверены три гипотезы: \n",
    "        \n",
    "        1) Пользователи с подпиской тратят больше времени на поездки (подтверждена).\n",
    "        2) Среднее расстояние, которое проезжают пользователи с подпиской за одну поездку, не превышает 3130 метров (подтверждена, самокаты изнашиваются с оптимальной скоростью).\n",
    "        3)  Помесячная выручка от пользователей с подпиской по месяцам выше, чем выручка от пользователей без подписки (подтверждена).\n",
    "        \n",
    "        Исходя из этого, можно следать вывод о том, что подписка в нынешнем виде выгодна компании - выручки они приносят больше, чем пользователи без подписки. Однако, они и расстояние в среднем проезжают бОльшее (а значит, и самокаты будут изнашиваться быстрее, хоть и в пределах ожидания) - нужно иметь это в виду и также проверить, не нивелируется ли выгода от подписки повышенными затратами на обслуживание самокатов."
   ]
  },
  {
   "cell_type": "markdown",
   "id": "c4d3670e",
   "metadata": {},
   "source": [
    "6.4 Представьте такую ситуацию: техническая команда сервиса обновила сервера, с которыми взаимодействует мобильное приложение. Она надеется, что из-за этого количество обращений в техподдержку значимо снизилось. Некоторый файл содержит для каждого пользователя данные о количестве обращений до обновления и после него. Какой тест вам понадобился бы для проверки этой гипотезы?"
   ]
  },
  {
   "cell_type": "markdown",
   "id": "4c434188",
   "metadata": {},
   "source": [
    "<div class=\"alert alert-info\">\n",
    "\n",
    "Ответ: H0: после обновления количество обращений в поддержку осталось на прежнем уровне или повысилось\n",
    "\n",
    "H1: после обновления количество обращений в поддержку снизилось\n",
    "\n",
    "Для ответа на вопрос разумно применить парный t-test (st.ttest_2samp), так как мы сравниваем количество обращений одного и того же пользователя до и после обновления. Альтернатива = 'less', так как мы хотим подтвердить или опровергнуть гипотезу о снижении количества обращений после обновления."
   ]
  }
 ],
 "metadata": {
  "ExecuteTimeLog": [
   {
    "duration": 46,
    "start_time": "2023-11-06T14:20:29.705Z"
   },
   {
    "duration": 406,
    "start_time": "2023-11-06T14:20:31.971Z"
   },
   {
    "duration": 273,
    "start_time": "2023-11-06T14:20:32.611Z"
   },
   {
    "duration": 13,
    "start_time": "2023-11-06T14:20:41.254Z"
   },
   {
    "duration": 9,
    "start_time": "2023-11-06T14:20:48.424Z"
   },
   {
    "duration": 8,
    "start_time": "2023-11-06T14:21:02.327Z"
   },
   {
    "duration": 17,
    "start_time": "2023-11-06T14:23:36.414Z"
   },
   {
    "duration": 6,
    "start_time": "2023-11-06T14:24:22.266Z"
   },
   {
    "duration": 31,
    "start_time": "2023-11-06T14:24:45.434Z"
   },
   {
    "duration": 10,
    "start_time": "2023-11-06T14:24:57.311Z"
   },
   {
    "duration": 6,
    "start_time": "2023-11-06T14:25:29.841Z"
   },
   {
    "duration": 7,
    "start_time": "2023-11-06T14:25:36.970Z"
   },
   {
    "duration": 12,
    "start_time": "2023-11-06T14:25:47.386Z"
   },
   {
    "duration": 13,
    "start_time": "2023-11-06T14:26:40.138Z"
   },
   {
    "duration": 6,
    "start_time": "2023-11-06T14:30:03.202Z"
   },
   {
    "duration": 4,
    "start_time": "2023-11-06T14:30:16.112Z"
   },
   {
    "duration": 5,
    "start_time": "2023-11-06T14:30:31.806Z"
   },
   {
    "duration": 4,
    "start_time": "2023-11-06T14:30:35.850Z"
   },
   {
    "duration": 3,
    "start_time": "2023-11-06T14:30:42.442Z"
   },
   {
    "duration": 4,
    "start_time": "2023-11-06T14:30:43.102Z"
   },
   {
    "duration": 5,
    "start_time": "2023-11-06T14:31:01.838Z"
   },
   {
    "duration": 5,
    "start_time": "2023-11-06T14:31:02.623Z"
   },
   {
    "duration": 4,
    "start_time": "2023-11-06T14:31:56.567Z"
   },
   {
    "duration": 7,
    "start_time": "2023-11-06T14:32:00.112Z"
   },
   {
    "duration": 4,
    "start_time": "2023-11-06T14:32:38.804Z"
   },
   {
    "duration": 5,
    "start_time": "2023-11-06T14:32:39.441Z"
   },
   {
    "duration": 4,
    "start_time": "2023-11-06T14:32:59.706Z"
   },
   {
    "duration": 6,
    "start_time": "2023-11-06T14:33:42.153Z"
   },
   {
    "duration": 15,
    "start_time": "2023-11-06T14:38:47.391Z"
   },
   {
    "duration": 4,
    "start_time": "2023-11-06T14:38:57.858Z"
   },
   {
    "duration": 12,
    "start_time": "2023-11-06T14:39:59.955Z"
   },
   {
    "duration": 13,
    "start_time": "2023-11-06T14:40:05.540Z"
   },
   {
    "duration": 12,
    "start_time": "2023-11-06T14:40:11.247Z"
   },
   {
    "duration": 11,
    "start_time": "2023-11-06T14:40:33.225Z"
   },
   {
    "duration": 5,
    "start_time": "2023-11-06T14:40:44.955Z"
   },
   {
    "duration": 10,
    "start_time": "2023-11-06T14:41:25.572Z"
   },
   {
    "duration": 8,
    "start_time": "2023-11-06T14:41:29.909Z"
   },
   {
    "duration": 666,
    "start_time": "2023-11-06T14:41:37.235Z"
   },
   {
    "duration": 143,
    "start_time": "2023-11-06T14:42:03.658Z"
   },
   {
    "duration": 101,
    "start_time": "2023-11-06T14:44:58.877Z"
   },
   {
    "duration": 311,
    "start_time": "2023-11-06T14:45:07.959Z"
   },
   {
    "duration": 225,
    "start_time": "2023-11-06T14:45:48.424Z"
   },
   {
    "duration": 242,
    "start_time": "2023-11-06T14:46:07.914Z"
   },
   {
    "duration": 667,
    "start_time": "2023-11-06T14:46:30.672Z"
   },
   {
    "duration": 46,
    "start_time": "2023-11-06T14:47:43.915Z"
   },
   {
    "duration": 9,
    "start_time": "2023-11-06T14:47:46.843Z"
   },
   {
    "duration": 556,
    "start_time": "2023-11-06T14:47:56.514Z"
   },
   {
    "duration": 426,
    "start_time": "2023-11-06T14:48:07.029Z"
   },
   {
    "duration": 392,
    "start_time": "2023-11-06T14:48:34.809Z"
   },
   {
    "duration": 417,
    "start_time": "2023-11-06T14:48:40.566Z"
   },
   {
    "duration": 9,
    "start_time": "2023-11-06T14:52:13.620Z"
   },
   {
    "duration": 8,
    "start_time": "2023-11-06T14:52:18.731Z"
   },
   {
    "duration": 8,
    "start_time": "2023-11-06T14:52:24.429Z"
   },
   {
    "duration": 12,
    "start_time": "2023-11-06T14:55:09.395Z"
   },
   {
    "duration": 18,
    "start_time": "2023-11-06T14:55:16.949Z"
   },
   {
    "duration": 10,
    "start_time": "2023-11-06T14:55:29.304Z"
   },
   {
    "duration": 18,
    "start_time": "2023-11-06T14:55:29.989Z"
   },
   {
    "duration": 12,
    "start_time": "2023-11-06T14:55:39.905Z"
   },
   {
    "duration": 14,
    "start_time": "2023-11-06T14:56:23.241Z"
   },
   {
    "duration": 10,
    "start_time": "2023-11-06T14:58:09.759Z"
   },
   {
    "duration": 18,
    "start_time": "2023-11-06T14:58:18.603Z"
   },
   {
    "duration": 12,
    "start_time": "2023-11-06T14:59:05.552Z"
   },
   {
    "duration": 19,
    "start_time": "2023-11-06T14:59:06.230Z"
   },
   {
    "duration": 23,
    "start_time": "2023-11-06T15:00:08.658Z"
   },
   {
    "duration": 26,
    "start_time": "2023-11-06T15:00:42.738Z"
   },
   {
    "duration": 24,
    "start_time": "2023-11-06T15:00:47.914Z"
   },
   {
    "duration": 50,
    "start_time": "2023-11-06T18:55:13.626Z"
   },
   {
    "duration": 484,
    "start_time": "2023-11-06T18:55:18.391Z"
   },
   {
    "duration": 193,
    "start_time": "2023-11-06T18:55:18.877Z"
   },
   {
    "duration": 21,
    "start_time": "2023-11-06T18:55:19.072Z"
   },
   {
    "duration": 12,
    "start_time": "2023-11-06T18:55:19.307Z"
   },
   {
    "duration": 8,
    "start_time": "2023-11-06T18:55:19.598Z"
   },
   {
    "duration": 26,
    "start_time": "2023-11-06T18:55:20.113Z"
   },
   {
    "duration": 15,
    "start_time": "2023-11-06T18:55:20.404Z"
   },
   {
    "duration": 13,
    "start_time": "2023-11-06T18:55:20.787Z"
   },
   {
    "duration": 6,
    "start_time": "2023-11-06T18:55:21.218Z"
   },
   {
    "duration": 702,
    "start_time": "2023-11-06T18:55:22.327Z"
   },
   {
    "duration": 115,
    "start_time": "2023-11-06T18:55:23.031Z"
   },
   {
    "duration": 704,
    "start_time": "2023-11-06T18:55:23.148Z"
   },
   {
    "duration": 630,
    "start_time": "2023-11-06T18:55:23.854Z"
   },
   {
    "duration": 481,
    "start_time": "2023-11-06T18:55:24.487Z"
   },
   {
    "duration": 361,
    "start_time": "2023-11-06T18:55:32.922Z"
   },
   {
    "duration": 463,
    "start_time": "2023-11-06T18:55:33.949Z"
   },
   {
    "duration": 482,
    "start_time": "2023-11-06T18:55:34.416Z"
   },
   {
    "duration": 28,
    "start_time": "2023-11-06T18:55:38.753Z"
   },
   {
    "duration": 29,
    "start_time": "2023-11-06T18:55:39.138Z"
   },
   {
    "duration": 78,
    "start_time": "2023-11-06T18:55:40.089Z"
   },
   {
    "duration": 979,
    "start_time": "2023-11-06T18:55:54.760Z"
   },
   {
    "duration": 759,
    "start_time": "2023-11-06T18:56:05.082Z"
   },
   {
    "duration": 334,
    "start_time": "2023-11-06T18:56:21.108Z"
   },
   {
    "duration": 433,
    "start_time": "2023-11-06T18:56:55.214Z"
   },
   {
    "duration": 651,
    "start_time": "2023-11-06T18:57:06.838Z"
   },
   {
    "duration": 998,
    "start_time": "2023-11-06T18:57:30.736Z"
   },
   {
    "duration": 1049,
    "start_time": "2023-11-06T18:59:09.118Z"
   },
   {
    "duration": 5,
    "start_time": "2023-11-06T19:00:25.987Z"
   },
   {
    "duration": 7,
    "start_time": "2023-11-06T19:00:32.299Z"
   },
   {
    "duration": 5,
    "start_time": "2023-11-06T19:00:41.170Z"
   },
   {
    "duration": 10,
    "start_time": "2023-11-06T19:00:41.722Z"
   },
   {
    "duration": 4,
    "start_time": "2023-11-06T19:02:10.383Z"
   },
   {
    "duration": 6,
    "start_time": "2023-11-06T19:02:10.772Z"
   },
   {
    "duration": 10,
    "start_time": "2023-11-06T19:03:13.407Z"
   },
   {
    "duration": 1599,
    "start_time": "2023-11-06T19:03:22.203Z"
   },
   {
    "duration": 21,
    "start_time": "2023-11-06T19:05:30.546Z"
   },
   {
    "duration": 16,
    "start_time": "2023-11-06T19:05:47.363Z"
   },
   {
    "duration": 13,
    "start_time": "2023-11-06T19:05:57.146Z"
   },
   {
    "duration": 11,
    "start_time": "2023-11-06T19:08:26.497Z"
   },
   {
    "duration": 18,
    "start_time": "2023-11-06T19:08:37.445Z"
   },
   {
    "duration": 18,
    "start_time": "2023-11-06T19:08:45.784Z"
   },
   {
    "duration": 22,
    "start_time": "2023-11-06T19:09:45.474Z"
   },
   {
    "duration": 19,
    "start_time": "2023-11-06T19:10:05.910Z"
   },
   {
    "duration": 22,
    "start_time": "2023-11-06T19:13:00.319Z"
   },
   {
    "duration": 26,
    "start_time": "2023-11-06T19:13:03.930Z"
   },
   {
    "duration": 15,
    "start_time": "2023-11-06T19:15:11.505Z"
   },
   {
    "duration": 16,
    "start_time": "2023-11-06T19:16:28.938Z"
   },
   {
    "duration": 20,
    "start_time": "2023-11-06T19:17:11.013Z"
   },
   {
    "duration": 20,
    "start_time": "2023-11-06T19:17:44.568Z"
   },
   {
    "duration": 18,
    "start_time": "2023-11-06T19:18:13.008Z"
   },
   {
    "duration": 19,
    "start_time": "2023-11-06T19:19:12.937Z"
   },
   {
    "duration": 23,
    "start_time": "2023-11-06T19:19:35.692Z"
   },
   {
    "duration": 12,
    "start_time": "2023-11-06T19:20:59.550Z"
   },
   {
    "duration": 3,
    "start_time": "2023-11-06T19:23:08.390Z"
   },
   {
    "duration": 17,
    "start_time": "2023-11-06T19:24:01.085Z"
   },
   {
    "duration": 17,
    "start_time": "2023-11-06T19:24:01.385Z"
   },
   {
    "duration": 4,
    "start_time": "2023-11-06T19:24:01.793Z"
   },
   {
    "duration": 4,
    "start_time": "2023-11-06T19:24:13.154Z"
   },
   {
    "duration": 4,
    "start_time": "2023-11-06T19:24:21.617Z"
   },
   {
    "duration": 7,
    "start_time": "2023-11-06T19:24:22.168Z"
   },
   {
    "duration": 5,
    "start_time": "2023-11-06T19:24:41.677Z"
   },
   {
    "duration": 11,
    "start_time": "2023-11-06T19:24:50.053Z"
   },
   {
    "duration": 13,
    "start_time": "2023-11-06T19:25:15.005Z"
   },
   {
    "duration": 10,
    "start_time": "2023-11-06T19:35:43.846Z"
   },
   {
    "duration": 6,
    "start_time": "2023-11-06T19:35:49.795Z"
   },
   {
    "duration": 6,
    "start_time": "2023-11-06T19:36:15.707Z"
   },
   {
    "duration": 5,
    "start_time": "2023-11-06T19:36:20.210Z"
   },
   {
    "duration": 6,
    "start_time": "2023-11-06T19:38:43.583Z"
   },
   {
    "duration": 6,
    "start_time": "2023-11-06T19:39:45.170Z"
   },
   {
    "duration": 6,
    "start_time": "2023-11-06T19:43:21.394Z"
   },
   {
    "duration": 6,
    "start_time": "2023-11-06T19:44:08.512Z"
   },
   {
    "duration": 12,
    "start_time": "2023-11-06T19:49:00.039Z"
   },
   {
    "duration": 5,
    "start_time": "2023-11-06T19:49:05.954Z"
   },
   {
    "duration": 5,
    "start_time": "2023-11-06T19:49:31.215Z"
   },
   {
    "duration": 4,
    "start_time": "2023-11-06T19:50:02.779Z"
   },
   {
    "duration": 5,
    "start_time": "2023-11-06T19:51:18.406Z"
   },
   {
    "duration": 6,
    "start_time": "2023-11-06T19:52:08.694Z"
   },
   {
    "duration": 5,
    "start_time": "2023-11-06T19:52:35.743Z"
   },
   {
    "duration": 393,
    "start_time": "2023-11-07T11:15:41.253Z"
   },
   {
    "duration": 280,
    "start_time": "2023-11-07T11:15:41.647Z"
   },
   {
    "duration": 14,
    "start_time": "2023-11-07T11:15:41.928Z"
   },
   {
    "duration": 8,
    "start_time": "2023-11-07T11:15:41.944Z"
   },
   {
    "duration": 8,
    "start_time": "2023-11-07T11:15:41.953Z"
   },
   {
    "duration": 24,
    "start_time": "2023-11-07T11:15:41.962Z"
   },
   {
    "duration": 7,
    "start_time": "2023-11-07T11:15:41.987Z"
   },
   {
    "duration": 18,
    "start_time": "2023-11-07T11:15:41.995Z"
   },
   {
    "duration": 5,
    "start_time": "2023-11-07T11:15:42.016Z"
   },
   {
    "duration": 614,
    "start_time": "2023-11-07T11:15:42.024Z"
   },
   {
    "duration": 74,
    "start_time": "2023-11-07T11:15:42.640Z"
   },
   {
    "duration": 883,
    "start_time": "2023-11-07T11:15:42.715Z"
   },
   {
    "duration": 424,
    "start_time": "2023-11-07T11:15:43.599Z"
   },
   {
    "duration": 453,
    "start_time": "2023-11-07T11:15:44.025Z"
   },
   {
    "duration": 24,
    "start_time": "2023-11-07T11:15:44.480Z"
   },
   {
    "duration": 102,
    "start_time": "2023-11-07T11:15:44.505Z"
   },
   {
    "duration": 1520,
    "start_time": "2023-11-07T11:15:44.609Z"
   },
   {
    "duration": 21,
    "start_time": "2023-11-07T11:15:46.131Z"
   },
   {
    "duration": 14,
    "start_time": "2023-11-07T11:15:46.153Z"
   },
   {
    "duration": 15,
    "start_time": "2023-11-07T11:15:46.169Z"
   },
   {
    "duration": 3,
    "start_time": "2023-11-07T11:15:46.186Z"
   },
   {
    "duration": 12,
    "start_time": "2023-11-07T11:15:46.191Z"
   },
   {
    "duration": 41,
    "start_time": "2023-11-07T11:15:46.205Z"
   },
   {
    "duration": 9,
    "start_time": "2023-11-07T11:15:46.247Z"
   },
   {
    "duration": 6,
    "start_time": "2023-11-07T11:15:46.258Z"
   },
   {
    "duration": 7,
    "start_time": "2023-11-07T11:15:46.266Z"
   },
   {
    "duration": 337,
    "start_time": "2023-11-07T14:41:01.486Z"
   },
   {
    "duration": 190,
    "start_time": "2023-11-07T14:41:01.824Z"
   },
   {
    "duration": 13,
    "start_time": "2023-11-07T14:41:02.015Z"
   },
   {
    "duration": 24,
    "start_time": "2023-11-07T14:41:02.029Z"
   },
   {
    "duration": 27,
    "start_time": "2023-11-07T14:41:02.055Z"
   },
   {
    "duration": 44,
    "start_time": "2023-11-07T14:41:02.083Z"
   },
   {
    "duration": 38,
    "start_time": "2023-11-07T14:41:02.128Z"
   },
   {
    "duration": 57,
    "start_time": "2023-11-07T14:41:02.167Z"
   },
   {
    "duration": 9,
    "start_time": "2023-11-07T14:41:02.225Z"
   },
   {
    "duration": 429,
    "start_time": "2023-11-07T14:41:02.235Z"
   },
   {
    "duration": 60,
    "start_time": "2023-11-07T14:41:02.666Z"
   },
   {
    "duration": 749,
    "start_time": "2023-11-07T14:41:02.740Z"
   },
   {
    "duration": 365,
    "start_time": "2023-11-07T14:41:03.490Z"
   },
   {
    "duration": 332,
    "start_time": "2023-11-07T14:41:03.858Z"
   },
   {
    "duration": 18,
    "start_time": "2023-11-07T14:41:04.192Z"
   },
   {
    "duration": 32,
    "start_time": "2023-11-07T14:41:04.211Z"
   },
   {
    "duration": 1350,
    "start_time": "2023-11-07T14:41:04.245Z"
   },
   {
    "duration": 18,
    "start_time": "2023-11-07T14:41:05.597Z"
   },
   {
    "duration": 29,
    "start_time": "2023-11-07T14:41:05.617Z"
   },
   {
    "duration": 13,
    "start_time": "2023-11-07T14:41:05.647Z"
   },
   {
    "duration": 11,
    "start_time": "2023-11-07T14:41:05.662Z"
   },
   {
    "duration": 14,
    "start_time": "2023-11-07T14:41:05.675Z"
   },
   {
    "duration": 10,
    "start_time": "2023-11-07T14:41:05.690Z"
   },
   {
    "duration": 4,
    "start_time": "2023-11-07T14:41:05.702Z"
   },
   {
    "duration": 23,
    "start_time": "2023-11-07T14:41:05.707Z"
   },
   {
    "duration": 6,
    "start_time": "2023-11-07T14:41:05.732Z"
   },
   {
    "duration": 21,
    "start_time": "2023-11-07T14:44:00.146Z"
   },
   {
    "duration": 16,
    "start_time": "2023-11-07T14:44:04.773Z"
   },
   {
    "duration": 20,
    "start_time": "2023-11-07T14:44:37.735Z"
   },
   {
    "duration": 12,
    "start_time": "2023-11-07T14:45:50.586Z"
   },
   {
    "duration": 12,
    "start_time": "2023-11-07T14:46:00.537Z"
   },
   {
    "duration": 95,
    "start_time": "2023-11-07T14:49:19.764Z"
   },
   {
    "duration": 13,
    "start_time": "2023-11-07T14:49:22.083Z"
   },
   {
    "duration": 5,
    "start_time": "2023-11-07T14:55:26.648Z"
   },
   {
    "duration": 10,
    "start_time": "2023-11-07T14:55:33.719Z"
   },
   {
    "duration": 4,
    "start_time": "2023-11-07T14:55:36.609Z"
   },
   {
    "duration": 6,
    "start_time": "2023-11-07T14:55:48.655Z"
   },
   {
    "duration": 1219,
    "start_time": "2023-11-17T14:31:05.783Z"
   },
   {
    "duration": 185,
    "start_time": "2023-11-17T14:31:07.435Z"
   },
   {
    "duration": 11,
    "start_time": "2023-11-17T14:31:08.289Z"
   },
   {
    "duration": 7,
    "start_time": "2023-11-17T14:31:09.055Z"
   },
   {
    "duration": 6,
    "start_time": "2023-11-17T14:31:10.128Z"
   },
   {
    "duration": 90,
    "start_time": "2023-11-17T14:31:28.657Z"
   },
   {
    "duration": 5,
    "start_time": "2023-11-17T14:31:31.229Z"
   },
   {
    "duration": 5,
    "start_time": "2023-11-17T14:31:42.741Z"
   },
   {
    "duration": 8,
    "start_time": "2023-11-17T14:35:04.171Z"
   },
   {
    "duration": 145,
    "start_time": "2023-11-17T14:35:37.903Z"
   },
   {
    "duration": 3,
    "start_time": "2023-11-17T14:35:51.947Z"
   },
   {
    "duration": 134,
    "start_time": "2023-11-17T14:35:56.234Z"
   },
   {
    "duration": 140,
    "start_time": "2023-11-17T14:36:09.202Z"
   },
   {
    "duration": 22,
    "start_time": "2023-11-17T19:15:38.716Z"
   },
   {
    "duration": 15,
    "start_time": "2023-11-17T19:15:55.893Z"
   },
   {
    "duration": 15,
    "start_time": "2023-11-17T19:16:03.213Z"
   },
   {
    "duration": 15,
    "start_time": "2023-11-17T19:16:15.905Z"
   },
   {
    "duration": 158,
    "start_time": "2023-11-17T19:18:57.961Z"
   },
   {
    "duration": 84,
    "start_time": "2023-11-17T19:24:01.284Z"
   },
   {
    "duration": 11,
    "start_time": "2023-11-17T19:30:54.729Z"
   },
   {
    "duration": 176,
    "start_time": "2023-11-17T19:31:46.202Z"
   },
   {
    "duration": 11,
    "start_time": "2023-11-17T19:31:56.969Z"
   },
   {
    "duration": 3,
    "start_time": "2023-11-17T19:36:35.217Z"
   },
   {
    "duration": 4,
    "start_time": "2023-11-17T19:36:39.017Z"
   },
   {
    "duration": 3,
    "start_time": "2023-11-17T19:37:25.772Z"
   },
   {
    "duration": 3,
    "start_time": "2023-11-17T19:37:28.990Z"
   },
   {
    "duration": 12,
    "start_time": "2023-11-17T19:37:59.984Z"
   },
   {
    "duration": 3,
    "start_time": "2023-11-17T19:38:42.278Z"
   },
   {
    "duration": 63,
    "start_time": "2023-11-17T19:38:42.994Z"
   },
   {
    "duration": 8,
    "start_time": "2023-11-17T19:38:43.222Z"
   },
   {
    "duration": 9,
    "start_time": "2023-11-17T19:38:43.458Z"
   },
   {
    "duration": 7,
    "start_time": "2023-11-17T19:38:44.097Z"
   },
   {
    "duration": 17,
    "start_time": "2023-11-17T19:38:45.523Z"
   },
   {
    "duration": 7,
    "start_time": "2023-11-17T19:38:46.472Z"
   },
   {
    "duration": 10,
    "start_time": "2023-11-17T19:38:47.022Z"
   },
   {
    "duration": 4,
    "start_time": "2023-11-17T19:38:47.511Z"
   },
   {
    "duration": 9,
    "start_time": "2023-11-17T19:38:49.355Z"
   },
   {
    "duration": 141,
    "start_time": "2023-11-17T19:38:49.828Z"
   },
   {
    "duration": 68,
    "start_time": "2023-11-17T19:38:51.891Z"
   },
   {
    "duration": 342,
    "start_time": "2023-11-17T19:38:53.358Z"
   },
   {
    "duration": 388,
    "start_time": "2023-11-17T19:38:54.583Z"
   },
   {
    "duration": 388,
    "start_time": "2023-11-17T19:38:55.841Z"
   },
   {
    "duration": 16,
    "start_time": "2023-11-17T19:39:00.791Z"
   },
   {
    "duration": 15,
    "start_time": "2023-11-17T19:39:01.516Z"
   },
   {
    "duration": 25,
    "start_time": "2023-11-17T19:39:01.933Z"
   },
   {
    "duration": 1475,
    "start_time": "2023-11-17T19:39:03.305Z"
   },
   {
    "duration": 11,
    "start_time": "2023-11-17T19:39:06.095Z"
   },
   {
    "duration": 12,
    "start_time": "2023-11-17T19:39:06.714Z"
   },
   {
    "duration": 3,
    "start_time": "2023-11-17T19:39:09.009Z"
   },
   {
    "duration": 4,
    "start_time": "2023-11-17T19:39:09.525Z"
   },
   {
    "duration": 16,
    "start_time": "2023-11-17T19:39:10.201Z"
   },
   {
    "duration": 3,
    "start_time": "2023-11-17T19:39:12.330Z"
   },
   {
    "duration": 15,
    "start_time": "2023-11-17T19:39:35.007Z"
   },
   {
    "duration": 115,
    "start_time": "2023-11-17T19:40:05.467Z"
   },
   {
    "duration": 14,
    "start_time": "2023-11-17T19:40:10.822Z"
   },
   {
    "duration": 12,
    "start_time": "2023-11-17T19:40:56.745Z"
   },
   {
    "duration": 4,
    "start_time": "2023-11-17T19:41:02.335Z"
   },
   {
    "duration": 49,
    "start_time": "2023-11-18T07:18:36.276Z"
   },
   {
    "duration": 1375,
    "start_time": "2023-11-18T07:18:45.251Z"
   },
   {
    "duration": 311,
    "start_time": "2023-11-18T07:18:46.628Z"
   },
   {
    "duration": 14,
    "start_time": "2023-11-18T07:18:46.940Z"
   },
   {
    "duration": 9,
    "start_time": "2023-11-18T07:18:46.956Z"
   },
   {
    "duration": 10,
    "start_time": "2023-11-18T07:18:46.966Z"
   },
   {
    "duration": 16,
    "start_time": "2023-11-18T07:18:48.058Z"
   },
   {
    "duration": 10,
    "start_time": "2023-11-18T07:18:48.676Z"
   },
   {
    "duration": 13,
    "start_time": "2023-11-18T07:18:48.964Z"
   },
   {
    "duration": 6,
    "start_time": "2023-11-18T07:18:49.362Z"
   },
   {
    "duration": 8,
    "start_time": "2023-11-18T07:18:51.944Z"
   },
   {
    "duration": 155,
    "start_time": "2023-11-18T07:18:52.295Z"
   },
   {
    "duration": 75,
    "start_time": "2023-11-18T07:18:54.273Z"
   },
   {
    "duration": 399,
    "start_time": "2023-11-18T07:18:55.454Z"
   },
   {
    "duration": 434,
    "start_time": "2023-11-18T07:18:56.460Z"
   },
   {
    "duration": 406,
    "start_time": "2023-11-18T07:18:57.593Z"
   },
   {
    "duration": 19,
    "start_time": "2023-11-18T07:19:02.455Z"
   },
   {
    "duration": 19,
    "start_time": "2023-11-18T07:19:03.520Z"
   },
   {
    "duration": 19,
    "start_time": "2023-11-18T07:19:03.894Z"
   },
   {
    "duration": 1583,
    "start_time": "2023-11-18T07:19:05.808Z"
   },
   {
    "duration": 12,
    "start_time": "2023-11-18T07:19:09.337Z"
   },
   {
    "duration": 14,
    "start_time": "2023-11-18T07:19:10.011Z"
   },
   {
    "duration": 5,
    "start_time": "2023-11-18T07:19:10.892Z"
   },
   {
    "duration": 5,
    "start_time": "2023-11-18T07:19:11.615Z"
   },
   {
    "duration": 68,
    "start_time": "2023-11-18T07:19:13.013Z"
   },
   {
    "duration": 20,
    "start_time": "2023-11-18T07:19:26.144Z"
   },
   {
    "duration": 25,
    "start_time": "2023-11-18T07:19:37.833Z"
   },
   {
    "duration": 598,
    "start_time": "2023-11-18T07:19:54.640Z"
   },
   {
    "duration": 20,
    "start_time": "2023-11-18T07:20:05.024Z"
   },
   {
    "duration": 613,
    "start_time": "2023-11-18T07:20:23.996Z"
   },
   {
    "duration": 577,
    "start_time": "2023-11-18T07:20:38.387Z"
   },
   {
    "duration": 692,
    "start_time": "2023-11-18T07:20:57.194Z"
   },
   {
    "duration": 18,
    "start_time": "2023-11-18T07:21:24.164Z"
   },
   {
    "duration": 3,
    "start_time": "2023-11-18T07:21:29.180Z"
   },
   {
    "duration": 18,
    "start_time": "2023-11-18T07:21:32.178Z"
   },
   {
    "duration": 178,
    "start_time": "2023-11-18T07:21:59.334Z"
   },
   {
    "duration": 767,
    "start_time": "2023-11-18T07:22:54.781Z"
   },
   {
    "duration": 608,
    "start_time": "2023-11-18T07:23:09.489Z"
   },
   {
    "duration": 644,
    "start_time": "2023-11-18T07:24:48.787Z"
   },
   {
    "duration": 701,
    "start_time": "2023-11-18T07:24:57.237Z"
   },
   {
    "duration": 619,
    "start_time": "2023-11-18T07:25:23.701Z"
   },
   {
    "duration": 3,
    "start_time": "2023-11-18T07:25:28.660Z"
   },
   {
    "duration": 157,
    "start_time": "2023-11-18T07:25:37.982Z"
   },
   {
    "duration": 9,
    "start_time": "2023-11-18T07:28:08.580Z"
   },
   {
    "duration": 8,
    "start_time": "2023-11-18T07:28:12.255Z"
   },
   {
    "duration": 6,
    "start_time": "2023-11-18T07:35:38.104Z"
   },
   {
    "duration": 6,
    "start_time": "2023-11-18T07:35:50.461Z"
   },
   {
    "duration": 5,
    "start_time": "2023-11-18T07:41:04.096Z"
   },
   {
    "duration": 3,
    "start_time": "2023-11-18T07:44:25.339Z"
   },
   {
    "duration": 3,
    "start_time": "2023-11-18T07:44:25.989Z"
   },
   {
    "duration": 8,
    "start_time": "2023-11-18T07:45:24.251Z"
   },
   {
    "duration": 5,
    "start_time": "2023-11-18T07:46:26.803Z"
   },
   {
    "duration": 113,
    "start_time": "2023-11-18T07:47:08.867Z"
   },
   {
    "duration": 6,
    "start_time": "2023-11-18T07:47:58.572Z"
   },
   {
    "duration": 6,
    "start_time": "2023-11-18T07:48:09.811Z"
   },
   {
    "duration": 6,
    "start_time": "2023-11-18T07:48:55.588Z"
   },
   {
    "duration": 5,
    "start_time": "2023-11-18T07:49:17.438Z"
   },
   {
    "duration": 5,
    "start_time": "2023-11-18T07:49:30.443Z"
   },
   {
    "duration": 126,
    "start_time": "2023-11-18T08:04:44.849Z"
   },
   {
    "duration": 111,
    "start_time": "2023-11-18T08:08:36.871Z"
   },
   {
    "duration": 1163,
    "start_time": "2023-11-18T08:09:52.509Z"
   },
   {
    "duration": 70,
    "start_time": "2023-11-18T08:09:53.674Z"
   },
   {
    "duration": 11,
    "start_time": "2023-11-18T08:09:53.745Z"
   },
   {
    "duration": 8,
    "start_time": "2023-11-18T08:09:53.758Z"
   },
   {
    "duration": 21,
    "start_time": "2023-11-18T08:09:53.768Z"
   },
   {
    "duration": 22,
    "start_time": "2023-11-18T08:09:53.790Z"
   },
   {
    "duration": 9,
    "start_time": "2023-11-18T08:09:53.814Z"
   },
   {
    "duration": 23,
    "start_time": "2023-11-18T08:09:53.825Z"
   },
   {
    "duration": 5,
    "start_time": "2023-11-18T08:09:53.850Z"
   },
   {
    "duration": 16,
    "start_time": "2023-11-18T08:09:53.856Z"
   },
   {
    "duration": 171,
    "start_time": "2023-11-18T08:09:53.873Z"
   },
   {
    "duration": 87,
    "start_time": "2023-11-18T08:09:54.046Z"
   },
   {
    "duration": 305,
    "start_time": "2023-11-18T08:09:54.135Z"
   },
   {
    "duration": 416,
    "start_time": "2023-11-18T08:09:54.443Z"
   },
   {
    "duration": 420,
    "start_time": "2023-11-18T08:09:54.860Z"
   },
   {
    "duration": 27,
    "start_time": "2023-11-18T08:09:55.281Z"
   },
   {
    "duration": 18,
    "start_time": "2023-11-18T08:09:55.309Z"
   },
   {
    "duration": 17,
    "start_time": "2023-11-18T08:09:55.329Z"
   },
   {
    "duration": 1505,
    "start_time": "2023-11-18T08:09:55.348Z"
   },
   {
    "duration": 12,
    "start_time": "2023-11-18T08:09:56.855Z"
   },
   {
    "duration": 14,
    "start_time": "2023-11-18T08:09:56.868Z"
   },
   {
    "duration": 4,
    "start_time": "2023-11-18T08:09:56.898Z"
   },
   {
    "duration": 32,
    "start_time": "2023-11-18T08:09:56.904Z"
   },
   {
    "duration": 615,
    "start_time": "2023-11-18T08:09:56.938Z"
   },
   {
    "duration": 4,
    "start_time": "2023-11-18T08:09:57.555Z"
   },
   {
    "duration": 16,
    "start_time": "2023-11-18T08:09:57.561Z"
   },
   {
    "duration": 4,
    "start_time": "2023-11-18T08:09:57.579Z"
   },
   {
    "duration": 166,
    "start_time": "2023-11-18T08:09:57.585Z"
   },
   {
    "duration": 8,
    "start_time": "2023-11-18T08:09:57.752Z"
   },
   {
    "duration": 5,
    "start_time": "2023-11-18T08:09:57.761Z"
   },
   {
    "duration": 14,
    "start_time": "2023-11-18T08:09:57.767Z"
   },
   {
    "duration": 16,
    "start_time": "2023-11-18T08:09:57.783Z"
   },
   {
    "duration": 1442,
    "start_time": "2023-11-18T21:02:48.852Z"
   },
   {
    "duration": 284,
    "start_time": "2023-11-18T21:02:50.296Z"
   },
   {
    "duration": 16,
    "start_time": "2023-11-18T21:02:50.582Z"
   },
   {
    "duration": 11,
    "start_time": "2023-11-18T21:02:50.601Z"
   },
   {
    "duration": 30,
    "start_time": "2023-11-18T21:02:50.614Z"
   },
   {
    "duration": 44,
    "start_time": "2023-11-18T21:02:50.646Z"
   },
   {
    "duration": 16,
    "start_time": "2023-11-18T21:02:50.691Z"
   },
   {
    "duration": 18,
    "start_time": "2023-11-18T21:02:50.709Z"
   },
   {
    "duration": 19,
    "start_time": "2023-11-18T21:02:50.728Z"
   },
   {
    "duration": 15,
    "start_time": "2023-11-18T21:02:50.749Z"
   },
   {
    "duration": 178,
    "start_time": "2023-11-18T21:02:50.765Z"
   },
   {
    "duration": 83,
    "start_time": "2023-11-18T21:02:50.945Z"
   },
   {
    "duration": 408,
    "start_time": "2023-11-18T21:02:51.030Z"
   },
   {
    "duration": 464,
    "start_time": "2023-11-18T21:02:51.439Z"
   },
   {
    "duration": 410,
    "start_time": "2023-11-18T21:02:51.905Z"
   },
   {
    "duration": 17,
    "start_time": "2023-11-18T21:02:52.316Z"
   },
   {
    "duration": 14,
    "start_time": "2023-11-18T21:02:52.335Z"
   },
   {
    "duration": 33,
    "start_time": "2023-11-18T21:02:52.351Z"
   },
   {
    "duration": 1631,
    "start_time": "2023-11-18T21:02:52.386Z"
   },
   {
    "duration": 12,
    "start_time": "2023-11-18T21:02:54.018Z"
   },
   {
    "duration": 14,
    "start_time": "2023-11-18T21:02:54.031Z"
   },
   {
    "duration": 15,
    "start_time": "2023-11-18T21:02:54.046Z"
   },
   {
    "duration": 28,
    "start_time": "2023-11-18T21:02:54.062Z"
   },
   {
    "duration": 625,
    "start_time": "2023-11-18T21:02:54.092Z"
   },
   {
    "duration": 3,
    "start_time": "2023-11-18T21:02:54.719Z"
   },
   {
    "duration": 7,
    "start_time": "2023-11-18T21:02:54.724Z"
   },
   {
    "duration": 8,
    "start_time": "2023-11-18T21:02:54.732Z"
   },
   {
    "duration": 183,
    "start_time": "2023-11-18T21:02:54.742Z"
   },
   {
    "duration": 7,
    "start_time": "2023-11-18T21:02:54.926Z"
   },
   {
    "duration": 11,
    "start_time": "2023-11-18T21:02:54.935Z"
   },
   {
    "duration": 11,
    "start_time": "2023-11-18T21:02:54.947Z"
   },
   {
    "duration": 19,
    "start_time": "2023-11-18T21:02:54.959Z"
   },
   {
    "duration": 97,
    "start_time": "2023-11-18T21:14:41.710Z"
   },
   {
    "duration": 7,
    "start_time": "2023-11-18T21:17:14.376Z"
   },
   {
    "duration": 6,
    "start_time": "2023-11-18T21:17:30.675Z"
   },
   {
    "duration": 8,
    "start_time": "2023-11-18T21:18:07.720Z"
   },
   {
    "duration": 18,
    "start_time": "2023-11-18T21:20:04.750Z"
   },
   {
    "duration": 14,
    "start_time": "2023-11-18T21:23:13.835Z"
   },
   {
    "duration": 16,
    "start_time": "2023-11-18T21:23:37.189Z"
   },
   {
    "duration": 3,
    "start_time": "2023-11-18T21:25:55.609Z"
   },
   {
    "duration": 125,
    "start_time": "2023-11-18T21:25:59.218Z"
   },
   {
    "duration": 3,
    "start_time": "2023-11-18T21:27:07.320Z"
   },
   {
    "duration": 164,
    "start_time": "2023-11-18T21:27:09.890Z"
   },
   {
    "duration": 3,
    "start_time": "2023-11-18T21:27:15.260Z"
   },
   {
    "duration": 13,
    "start_time": "2023-11-18T21:27:22.200Z"
   },
   {
    "duration": 5,
    "start_time": "2023-11-18T21:27:31.020Z"
   },
   {
    "duration": 9,
    "start_time": "2023-11-18T21:28:00.170Z"
   },
   {
    "duration": 8,
    "start_time": "2023-11-18T21:29:24.300Z"
   },
   {
    "duration": 23,
    "start_time": "2023-11-18T21:29:24.870Z"
   },
   {
    "duration": 7,
    "start_time": "2023-11-18T21:29:32.126Z"
   },
   {
    "duration": 1136,
    "start_time": "2023-11-18T21:29:54.826Z"
   },
   {
    "duration": 66,
    "start_time": "2023-11-18T21:29:55.964Z"
   },
   {
    "duration": 13,
    "start_time": "2023-11-18T21:29:56.032Z"
   },
   {
    "duration": 8,
    "start_time": "2023-11-18T21:29:56.047Z"
   },
   {
    "duration": 12,
    "start_time": "2023-11-18T21:29:56.058Z"
   },
   {
    "duration": 20,
    "start_time": "2023-11-18T21:29:56.071Z"
   },
   {
    "duration": 10,
    "start_time": "2023-11-18T21:29:56.093Z"
   },
   {
    "duration": 10,
    "start_time": "2023-11-18T21:29:56.105Z"
   },
   {
    "duration": 5,
    "start_time": "2023-11-18T21:29:56.116Z"
   },
   {
    "duration": 9,
    "start_time": "2023-11-18T21:29:56.122Z"
   },
   {
    "duration": 182,
    "start_time": "2023-11-18T21:29:56.132Z"
   },
   {
    "duration": 93,
    "start_time": "2023-11-18T21:29:56.315Z"
   },
   {
    "duration": 332,
    "start_time": "2023-11-18T21:29:56.409Z"
   },
   {
    "duration": 457,
    "start_time": "2023-11-18T21:29:56.743Z"
   },
   {
    "duration": 423,
    "start_time": "2023-11-18T21:29:57.201Z"
   },
   {
    "duration": 18,
    "start_time": "2023-11-18T21:29:57.626Z"
   },
   {
    "duration": 33,
    "start_time": "2023-11-18T21:29:57.646Z"
   },
   {
    "duration": 21,
    "start_time": "2023-11-18T21:29:57.681Z"
   },
   {
    "duration": 1817,
    "start_time": "2023-11-18T21:29:57.705Z"
   },
   {
    "duration": 13,
    "start_time": "2023-11-18T21:29:59.524Z"
   },
   {
    "duration": 13,
    "start_time": "2023-11-18T21:29:59.539Z"
   },
   {
    "duration": 28,
    "start_time": "2023-11-18T21:29:59.553Z"
   },
   {
    "duration": 9,
    "start_time": "2023-11-18T21:29:59.585Z"
   },
   {
    "duration": 708,
    "start_time": "2023-11-18T21:29:59.596Z"
   },
   {
    "duration": 4,
    "start_time": "2023-11-18T21:30:00.305Z"
   },
   {
    "duration": 70,
    "start_time": "2023-11-18T21:30:00.310Z"
   },
   {
    "duration": 24,
    "start_time": "2023-11-18T21:30:00.382Z"
   },
   {
    "duration": 173,
    "start_time": "2023-11-18T21:30:00.408Z"
   },
   {
    "duration": 11,
    "start_time": "2023-11-18T21:30:00.584Z"
   },
   {
    "duration": 93,
    "start_time": "2023-11-18T21:30:00.597Z"
   },
   {
    "duration": 39,
    "start_time": "2023-11-18T21:30:00.692Z"
   },
   {
    "duration": 35,
    "start_time": "2023-11-18T21:30:00.732Z"
   },
   {
    "duration": 61,
    "start_time": "2023-11-18T21:30:00.768Z"
   },
   {
    "duration": 48,
    "start_time": "2023-11-19T14:39:07.139Z"
   },
   {
    "duration": 15,
    "start_time": "2023-11-19T14:42:11.585Z"
   },
   {
    "duration": 8,
    "start_time": "2023-11-19T14:42:11.602Z"
   },
   {
    "duration": 12,
    "start_time": "2023-11-19T14:42:11.612Z"
   },
   {
    "duration": 5,
    "start_time": "2023-11-19T14:42:11.625Z"
   },
   {
    "duration": 9,
    "start_time": "2023-11-19T14:42:11.631Z"
   },
   {
    "duration": 158,
    "start_time": "2023-11-19T14:42:11.641Z"
   },
   {
    "duration": 61,
    "start_time": "2023-11-19T14:42:25.989Z"
   },
   {
    "duration": 87,
    "start_time": "2023-11-19T14:42:26.052Z"
   },
   {
    "duration": 8,
    "start_time": "2023-11-19T14:42:26.141Z"
   },
   {
    "duration": 30,
    "start_time": "2023-11-19T14:42:26.151Z"
   },
   {
    "duration": 23,
    "start_time": "2023-11-19T14:42:26.183Z"
   },
   {
    "duration": 36,
    "start_time": "2023-11-19T14:42:26.208Z"
   },
   {
    "duration": 12,
    "start_time": "2023-11-19T14:42:26.246Z"
   },
   {
    "duration": 18,
    "start_time": "2023-11-19T14:42:26.259Z"
   },
   {
    "duration": 30,
    "start_time": "2023-11-19T14:42:26.279Z"
   },
   {
    "duration": 16,
    "start_time": "2023-11-19T14:42:26.311Z"
   },
   {
    "duration": 164,
    "start_time": "2023-11-19T14:42:26.329Z"
   },
   {
    "duration": 81,
    "start_time": "2023-11-19T14:42:26.495Z"
   },
   {
    "duration": 340,
    "start_time": "2023-11-19T14:42:26.578Z"
   },
   {
    "duration": 384,
    "start_time": "2023-11-19T14:42:26.920Z"
   },
   {
    "duration": 389,
    "start_time": "2023-11-19T14:42:27.306Z"
   },
   {
    "duration": 27,
    "start_time": "2023-11-19T14:42:27.696Z"
   },
   {
    "duration": 18,
    "start_time": "2023-11-19T14:42:27.724Z"
   },
   {
    "duration": 17,
    "start_time": "2023-11-19T14:42:27.744Z"
   },
   {
    "duration": 1576,
    "start_time": "2023-11-19T14:42:27.762Z"
   },
   {
    "duration": 13,
    "start_time": "2023-11-19T14:42:29.339Z"
   },
   {
    "duration": 36,
    "start_time": "2023-11-19T14:42:29.353Z"
   },
   {
    "duration": 15,
    "start_time": "2023-11-19T14:42:29.390Z"
   },
   {
    "duration": 27,
    "start_time": "2023-11-19T14:42:29.411Z"
   },
   {
    "duration": 598,
    "start_time": "2023-11-19T14:42:29.439Z"
   },
   {
    "duration": 3,
    "start_time": "2023-11-19T14:42:30.039Z"
   },
   {
    "duration": 21,
    "start_time": "2023-11-19T14:42:30.043Z"
   },
   {
    "duration": 34,
    "start_time": "2023-11-19T14:42:30.065Z"
   },
   {
    "duration": 190,
    "start_time": "2023-11-19T14:42:30.101Z"
   },
   {
    "duration": 8,
    "start_time": "2023-11-19T14:42:30.293Z"
   },
   {
    "duration": 54,
    "start_time": "2023-11-19T14:42:30.303Z"
   },
   {
    "duration": 33,
    "start_time": "2023-11-19T14:42:30.359Z"
   },
   {
    "duration": 40,
    "start_time": "2023-11-19T14:42:30.393Z"
   },
   {
    "duration": 38,
    "start_time": "2023-11-19T14:42:30.435Z"
   },
   {
    "duration": 300,
    "start_time": "2023-11-19T14:43:39.539Z"
   },
   {
    "duration": 377,
    "start_time": "2023-11-19T14:44:01.852Z"
   },
   {
    "duration": 396,
    "start_time": "2023-11-19T14:44:22.191Z"
   },
   {
    "duration": 1521,
    "start_time": "2023-11-19T14:45:47.414Z"
   },
   {
    "duration": 12,
    "start_time": "2023-11-19T14:46:03.699Z"
   },
   {
    "duration": 12,
    "start_time": "2023-11-19T14:46:04.667Z"
   },
   {
    "duration": 4,
    "start_time": "2023-11-19T14:46:05.615Z"
   },
   {
    "duration": 4,
    "start_time": "2023-11-19T14:46:06.228Z"
   },
   {
    "duration": 601,
    "start_time": "2023-11-19T14:46:06.718Z"
   },
   {
    "duration": 3,
    "start_time": "2023-11-19T14:46:07.956Z"
   },
   {
    "duration": 4,
    "start_time": "2023-11-19T14:46:08.883Z"
   },
   {
    "duration": 4,
    "start_time": "2023-11-19T14:46:09.408Z"
   },
   {
    "duration": 155,
    "start_time": "2023-11-19T14:46:09.930Z"
   },
   {
    "duration": 8,
    "start_time": "2023-11-19T14:46:10.781Z"
   },
   {
    "duration": 16,
    "start_time": "2023-11-19T14:46:11.795Z"
   },
   {
    "duration": 6,
    "start_time": "2023-11-19T14:46:17.344Z"
   },
   {
    "duration": 5,
    "start_time": "2023-11-19T14:46:21.949Z"
   },
   {
    "duration": 6,
    "start_time": "2023-11-19T14:46:25.404Z"
   },
   {
    "duration": 1353,
    "start_time": "2023-11-20T13:27:41.680Z"
   },
   {
    "duration": 321,
    "start_time": "2023-11-20T13:27:43.034Z"
   },
   {
    "duration": 12,
    "start_time": "2023-11-20T13:27:43.356Z"
   },
   {
    "duration": 19,
    "start_time": "2023-11-20T13:27:43.370Z"
   },
   {
    "duration": 43,
    "start_time": "2023-11-20T13:27:43.391Z"
   },
   {
    "duration": 46,
    "start_time": "2023-11-20T13:27:43.436Z"
   },
   {
    "duration": 10,
    "start_time": "2023-11-20T13:27:43.484Z"
   },
   {
    "duration": 16,
    "start_time": "2023-11-20T13:27:43.496Z"
   },
   {
    "duration": 12,
    "start_time": "2023-11-20T13:27:43.514Z"
   },
   {
    "duration": 20,
    "start_time": "2023-11-20T13:27:43.529Z"
   },
   {
    "duration": 177,
    "start_time": "2023-11-20T13:27:43.551Z"
   },
   {
    "duration": 96,
    "start_time": "2023-11-20T13:27:43.730Z"
   },
   {
    "duration": 401,
    "start_time": "2023-11-20T13:27:43.828Z"
   },
   {
    "duration": 394,
    "start_time": "2023-11-20T13:27:44.232Z"
   },
   {
    "duration": 373,
    "start_time": "2023-11-20T13:27:44.627Z"
   },
   {
    "duration": 21,
    "start_time": "2023-11-20T13:27:45.002Z"
   },
   {
    "duration": 60,
    "start_time": "2023-11-20T13:27:45.025Z"
   },
   {
    "duration": 23,
    "start_time": "2023-11-20T13:27:45.086Z"
   },
   {
    "duration": 1521,
    "start_time": "2023-11-20T13:27:45.111Z"
   },
   {
    "duration": 12,
    "start_time": "2023-11-20T13:27:46.633Z"
   },
   {
    "duration": 34,
    "start_time": "2023-11-20T13:27:46.647Z"
   },
   {
    "duration": 10,
    "start_time": "2023-11-20T13:27:46.683Z"
   },
   {
    "duration": 26,
    "start_time": "2023-11-20T13:27:46.694Z"
   },
   {
    "duration": 638,
    "start_time": "2023-11-20T13:27:46.721Z"
   },
   {
    "duration": 2,
    "start_time": "2023-11-20T13:27:47.361Z"
   },
   {
    "duration": 25,
    "start_time": "2023-11-20T13:27:47.365Z"
   },
   {
    "duration": 24,
    "start_time": "2023-11-20T13:27:47.391Z"
   },
   {
    "duration": 200,
    "start_time": "2023-11-20T13:27:47.418Z"
   },
   {
    "duration": 9,
    "start_time": "2023-11-20T13:27:47.619Z"
   },
   {
    "duration": 17,
    "start_time": "2023-11-20T13:27:47.629Z"
   },
   {
    "duration": 5,
    "start_time": "2023-11-20T13:27:47.648Z"
   },
   {
    "duration": 13,
    "start_time": "2023-11-20T13:27:47.654Z"
   },
   {
    "duration": 6,
    "start_time": "2023-11-20T13:27:47.669Z"
   },
   {
    "duration": 125,
    "start_time": "2023-11-20T13:31:13.406Z"
   },
   {
    "duration": 5,
    "start_time": "2023-11-20T13:31:40.567Z"
   },
   {
    "duration": 5,
    "start_time": "2023-11-20T13:31:47.864Z"
   },
   {
    "duration": 7,
    "start_time": "2023-11-20T13:32:29.761Z"
   },
   {
    "duration": 5,
    "start_time": "2023-11-20T13:33:27.041Z"
   },
   {
    "duration": 9,
    "start_time": "2023-11-20T13:33:32.441Z"
   },
   {
    "duration": 7,
    "start_time": "2023-11-20T13:33:57.542Z"
   },
   {
    "duration": 5,
    "start_time": "2023-11-20T13:34:23.482Z"
   },
   {
    "duration": 47,
    "start_time": "2023-11-20T14:40:28.581Z"
   },
   {
    "duration": 1440,
    "start_time": "2023-11-20T14:40:48.645Z"
   },
   {
    "duration": 190,
    "start_time": "2023-11-20T14:40:50.087Z"
   },
   {
    "duration": 13,
    "start_time": "2023-11-20T14:40:50.278Z"
   },
   {
    "duration": 24,
    "start_time": "2023-11-20T14:40:50.292Z"
   },
   {
    "duration": 18,
    "start_time": "2023-11-20T14:40:50.318Z"
   },
   {
    "duration": 15,
    "start_time": "2023-11-20T14:40:50.337Z"
   },
   {
    "duration": 8,
    "start_time": "2023-11-20T14:40:50.354Z"
   },
   {
    "duration": 20,
    "start_time": "2023-11-20T14:40:50.364Z"
   },
   {
    "duration": 5,
    "start_time": "2023-11-20T14:40:50.386Z"
   },
   {
    "duration": 12,
    "start_time": "2023-11-20T14:40:50.392Z"
   },
   {
    "duration": 172,
    "start_time": "2023-11-20T14:40:50.406Z"
   },
   {
    "duration": 91,
    "start_time": "2023-11-20T14:40:50.579Z"
   },
   {
    "duration": 339,
    "start_time": "2023-11-20T14:40:50.671Z"
   },
   {
    "duration": 427,
    "start_time": "2023-11-20T14:40:51.013Z"
   },
   {
    "duration": 419,
    "start_time": "2023-11-20T14:40:51.442Z"
   },
   {
    "duration": 17,
    "start_time": "2023-11-20T14:40:51.863Z"
   },
   {
    "duration": 19,
    "start_time": "2023-11-20T14:40:51.881Z"
   },
   {
    "duration": 17,
    "start_time": "2023-11-20T14:40:51.901Z"
   },
   {
    "duration": 1574,
    "start_time": "2023-11-20T14:40:51.920Z"
   },
   {
    "duration": 12,
    "start_time": "2023-11-20T14:40:53.496Z"
   },
   {
    "duration": 13,
    "start_time": "2023-11-20T14:40:53.510Z"
   },
   {
    "duration": 4,
    "start_time": "2023-11-20T14:40:53.525Z"
   },
   {
    "duration": 29,
    "start_time": "2023-11-20T14:40:53.530Z"
   },
   {
    "duration": 631,
    "start_time": "2023-11-20T14:40:53.561Z"
   },
   {
    "duration": 3,
    "start_time": "2023-11-20T14:40:54.193Z"
   },
   {
    "duration": 7,
    "start_time": "2023-11-20T14:40:54.198Z"
   },
   {
    "duration": 9,
    "start_time": "2023-11-20T14:40:54.206Z"
   },
   {
    "duration": 172,
    "start_time": "2023-11-20T14:40:54.216Z"
   },
   {
    "duration": 12,
    "start_time": "2023-11-20T14:40:54.390Z"
   },
   {
    "duration": 23,
    "start_time": "2023-11-20T14:40:54.404Z"
   },
   {
    "duration": 7,
    "start_time": "2023-11-20T14:40:54.428Z"
   },
   {
    "duration": 25,
    "start_time": "2023-11-20T14:40:54.437Z"
   },
   {
    "duration": 10,
    "start_time": "2023-11-20T14:40:54.464Z"
   },
   {
    "duration": 5,
    "start_time": "2023-11-20T14:43:25.854Z"
   },
   {
    "duration": 5,
    "start_time": "2023-11-20T14:44:29.053Z"
   },
   {
    "duration": 1081,
    "start_time": "2023-11-20T17:02:25.475Z"
   },
   {
    "duration": 287,
    "start_time": "2023-11-20T17:02:26.558Z"
   },
   {
    "duration": 11,
    "start_time": "2023-11-20T17:02:26.846Z"
   },
   {
    "duration": 7,
    "start_time": "2023-11-20T17:02:26.859Z"
   },
   {
    "duration": 22,
    "start_time": "2023-11-20T17:02:26.867Z"
   },
   {
    "duration": 30,
    "start_time": "2023-11-20T17:02:26.890Z"
   },
   {
    "duration": 7,
    "start_time": "2023-11-20T17:02:26.921Z"
   },
   {
    "duration": 9,
    "start_time": "2023-11-20T17:02:26.929Z"
   },
   {
    "duration": 8,
    "start_time": "2023-11-20T17:02:26.940Z"
   },
   {
    "duration": 11,
    "start_time": "2023-11-20T17:02:26.950Z"
   },
   {
    "duration": 160,
    "start_time": "2023-11-20T17:02:26.962Z"
   },
   {
    "duration": 70,
    "start_time": "2023-11-20T17:02:27.123Z"
   },
   {
    "duration": 333,
    "start_time": "2023-11-20T17:02:27.194Z"
   },
   {
    "duration": 380,
    "start_time": "2023-11-20T17:02:27.528Z"
   },
   {
    "duration": 379,
    "start_time": "2023-11-20T17:02:27.909Z"
   },
   {
    "duration": 16,
    "start_time": "2023-11-20T17:02:28.289Z"
   },
   {
    "duration": 25,
    "start_time": "2023-11-20T17:02:28.307Z"
   },
   {
    "duration": 16,
    "start_time": "2023-11-20T17:02:28.333Z"
   },
   {
    "duration": 1409,
    "start_time": "2023-11-20T17:02:28.350Z"
   },
   {
    "duration": 11,
    "start_time": "2023-11-20T17:02:29.760Z"
   },
   {
    "duration": 17,
    "start_time": "2023-11-20T17:02:29.772Z"
   },
   {
    "duration": 4,
    "start_time": "2023-11-20T17:02:29.790Z"
   },
   {
    "duration": 5,
    "start_time": "2023-11-20T17:02:29.795Z"
   },
   {
    "duration": 587,
    "start_time": "2023-11-20T17:02:29.802Z"
   },
   {
    "duration": 3,
    "start_time": "2023-11-20T17:02:30.391Z"
   },
   {
    "duration": 35,
    "start_time": "2023-11-20T17:02:30.395Z"
   },
   {
    "duration": 20,
    "start_time": "2023-11-20T17:02:30.431Z"
   },
   {
    "duration": 184,
    "start_time": "2023-11-20T17:02:30.454Z"
   },
   {
    "duration": 8,
    "start_time": "2023-11-20T17:02:30.639Z"
   },
   {
    "duration": 56,
    "start_time": "2023-11-20T17:02:30.648Z"
   },
   {
    "duration": 78,
    "start_time": "2023-11-20T17:02:30.705Z"
   },
   {
    "duration": 60,
    "start_time": "2023-11-20T17:02:30.784Z"
   },
   {
    "duration": 54,
    "start_time": "2023-11-20T17:02:30.845Z"
   }
  ],
  "kernelspec": {
   "display_name": "Python 3 (ipykernel)",
   "language": "python",
   "name": "python3"
  },
  "language_info": {
   "codemirror_mode": {
    "name": "ipython",
    "version": 3
   },
   "file_extension": ".py",
   "mimetype": "text/x-python",
   "name": "python",
   "nbconvert_exporter": "python",
   "pygments_lexer": "ipython3",
   "version": "3.11.5"
  },
  "toc": {
   "base_numbering": 1,
   "nav_menu": {},
   "number_sections": true,
   "sideBar": true,
   "skip_h1_title": true,
   "title_cell": "Table of Contents",
   "title_sidebar": "Contents",
   "toc_cell": false,
   "toc_position": {},
   "toc_section_display": true,
   "toc_window_display": true
  }
 },
 "nbformat": 4,
 "nbformat_minor": 5
}
