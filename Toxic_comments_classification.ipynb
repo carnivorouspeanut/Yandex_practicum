{
 "cells": [
  {
   "cell_type": "markdown",
   "metadata": {},
   "source": [
    "# Project description"
   ]
  },
  {
   "cell_type": "markdown",
   "metadata": {},
   "source": [
    "The online store is launching a new service. Now users can edit product descriptions, just like in wiki communities. Particularly, customers suggest their edits and comment on others' changes. The store needs a tool that will detect toxic comments and send them for moderation.\n",
    "\n",
    "Train a model to classify comments as toxic and non-toxic. You have a dataset with toxicity annotations for the edits. Build two models with different architecture.\n",
    "\n",
    "Build a model with an F1-score of at least 0.75."
   ]
  },
  {
   "cell_type": "code",
   "execution_count": 1,
   "metadata": {},
   "outputs": [],
   "source": [
    "import pandas as pd\n",
    "import numpy as np\n",
    "import nltk\n",
    "import spacy\n",
    "from nltk.corpus import stopwords as nltk_stopwords\n",
    "from sklearn.feature_extraction.text import TfidfVectorizer\n",
    "from sklearn.model_selection import train_test_split\n",
    "from sklearn.ensemble import RandomForestClassifier\n",
    "from sklearn.linear_model import LogisticRegression\n",
    "from sklearn.metrics import f1_score\n",
    "from sklearn.model_selection import GridSearchCV, RandomizedSearchCV\n",
    "\n",
    "from tqdm import tqdm\n",
    "import re\n",
    "\n",
    "import warnings\n",
    "warnings.filterwarnings('ignore')"
   ]
  },
  {
   "cell_type": "markdown",
   "metadata": {},
   "source": [
    "## Data preparation"
   ]
  },
  {
   "cell_type": "code",
   "execution_count": 2,
   "metadata": {},
   "outputs": [],
   "source": [
    "toxic_comments = pd.read_csv('/datasets/toxic_comments.csv', index_col=0)"
   ]
  },
  {
   "cell_type": "code",
   "execution_count": 3,
   "metadata": {
    "scrolled": true
   },
   "outputs": [
    {
     "data": {
      "text/html": [
       "<div>\n",
       "<style scoped>\n",
       "    .dataframe tbody tr th:only-of-type {\n",
       "        vertical-align: middle;\n",
       "    }\n",
       "\n",
       "    .dataframe tbody tr th {\n",
       "        vertical-align: top;\n",
       "    }\n",
       "\n",
       "    .dataframe thead th {\n",
       "        text-align: right;\n",
       "    }\n",
       "</style>\n",
       "<table border=\"1\" class=\"dataframe\">\n",
       "  <thead>\n",
       "    <tr style=\"text-align: right;\">\n",
       "      <th></th>\n",
       "      <th>text</th>\n",
       "      <th>toxic</th>\n",
       "    </tr>\n",
       "  </thead>\n",
       "  <tbody>\n",
       "    <tr>\n",
       "      <th>0</th>\n",
       "      <td>Explanation\\nWhy the edits made under my usern...</td>\n",
       "      <td>0</td>\n",
       "    </tr>\n",
       "    <tr>\n",
       "      <th>1</th>\n",
       "      <td>D'aww! He matches this background colour I'm s...</td>\n",
       "      <td>0</td>\n",
       "    </tr>\n",
       "    <tr>\n",
       "      <th>2</th>\n",
       "      <td>Hey man, I'm really not trying to edit war. It...</td>\n",
       "      <td>0</td>\n",
       "    </tr>\n",
       "    <tr>\n",
       "      <th>3</th>\n",
       "      <td>\"\\nMore\\nI can't make any real suggestions on ...</td>\n",
       "      <td>0</td>\n",
       "    </tr>\n",
       "    <tr>\n",
       "      <th>4</th>\n",
       "      <td>You, sir, are my hero. Any chance you remember...</td>\n",
       "      <td>0</td>\n",
       "    </tr>\n",
       "  </tbody>\n",
       "</table>\n",
       "</div>"
      ],
      "text/plain": [
       "                                                text  toxic\n",
       "0  Explanation\\nWhy the edits made under my usern...      0\n",
       "1  D'aww! He matches this background colour I'm s...      0\n",
       "2  Hey man, I'm really not trying to edit war. It...      0\n",
       "3  \"\\nMore\\nI can't make any real suggestions on ...      0\n",
       "4  You, sir, are my hero. Any chance you remember...      0"
      ]
     },
     "execution_count": 3,
     "metadata": {},
     "output_type": "execute_result"
    }
   ],
   "source": [
    "toxic_comments.head()"
   ]
  },
  {
   "cell_type": "code",
   "execution_count": 4,
   "metadata": {
    "scrolled": true
   },
   "outputs": [
    {
     "data": {
      "text/plain": [
       "0    143106\n",
       "1     16186\n",
       "Name: toxic, dtype: int64"
      ]
     },
     "execution_count": 4,
     "metadata": {},
     "output_type": "execute_result"
    }
   ],
   "source": [
    "toxic_comments['toxic'].value_counts()"
   ]
  },
  {
   "cell_type": "code",
   "execution_count": 5,
   "metadata": {},
   "outputs": [],
   "source": [
    "#delete redundant symbols\n",
    "pattern = r\"[^a-zA-Z\\s]\"\n",
    "\n",
    "toxic_comments['text_cleaned'] = toxic_comments['text'].apply(lambda x: re.sub(pattern, '', x).replace('\\n', ' ').strip(' '))"
   ]
  },
  {
   "cell_type": "code",
   "execution_count": 6,
   "metadata": {},
   "outputs": [],
   "source": [
    "#all tokens are now lowercase\n",
    "toxic_comments['text_cleaned'] = toxic_comments['text_cleaned'].str.lower()"
   ]
  },
  {
   "cell_type": "markdown",
   "metadata": {},
   "source": [
    "### Text lemmatization"
   ]
  },
  {
   "cell_type": "code",
   "execution_count": 7,
   "metadata": {},
   "outputs": [
    {
     "name": "stderr",
     "output_type": "stream",
     "text": [
      "100%|██████████| 159292/159292 [15:52<00:00, 167.24it/s]\n"
     ]
    }
   ],
   "source": [
    "filtered = []\n",
    "\n",
    "nlp = spacy.load('en_core_web_sm', disable=['parser', 'ner'])\n",
    "\n",
    "for i in tqdm(toxic_comments['text_cleaned']):\n",
    "    doc = nlp(i)\n",
    "    filtered.append(\" \".join([token.lemma_ for token in doc]))"
   ]
  },
  {
   "cell_type": "code",
   "execution_count": 8,
   "metadata": {},
   "outputs": [
    {
     "data": {
      "text/html": [
       "<div>\n",
       "<style scoped>\n",
       "    .dataframe tbody tr th:only-of-type {\n",
       "        vertical-align: middle;\n",
       "    }\n",
       "\n",
       "    .dataframe tbody tr th {\n",
       "        vertical-align: top;\n",
       "    }\n",
       "\n",
       "    .dataframe thead th {\n",
       "        text-align: right;\n",
       "    }\n",
       "</style>\n",
       "<table border=\"1\" class=\"dataframe\">\n",
       "  <thead>\n",
       "    <tr style=\"text-align: right;\">\n",
       "      <th></th>\n",
       "      <th>text</th>\n",
       "      <th>toxic</th>\n",
       "      <th>text_cleaned</th>\n",
       "      <th>text_filtered</th>\n",
       "    </tr>\n",
       "  </thead>\n",
       "  <tbody>\n",
       "    <tr>\n",
       "      <th>0</th>\n",
       "      <td>Explanation\\nWhy the edits made under my usern...</td>\n",
       "      <td>0</td>\n",
       "      <td>explanation why the edits made under my userna...</td>\n",
       "      <td>explanation why the edit make under my usernam...</td>\n",
       "    </tr>\n",
       "    <tr>\n",
       "      <th>1</th>\n",
       "      <td>D'aww! He matches this background colour I'm s...</td>\n",
       "      <td>0</td>\n",
       "      <td>daww he matches this background colour im seem...</td>\n",
       "      <td>daww he match this background colour I m seemi...</td>\n",
       "    </tr>\n",
       "    <tr>\n",
       "      <th>2</th>\n",
       "      <td>Hey man, I'm really not trying to edit war. It...</td>\n",
       "      <td>0</td>\n",
       "      <td>hey man im really not trying to edit war its j...</td>\n",
       "      <td>hey man I m really not try to edit war its jus...</td>\n",
       "    </tr>\n",
       "    <tr>\n",
       "      <th>3</th>\n",
       "      <td>\"\\nMore\\nI can't make any real suggestions on ...</td>\n",
       "      <td>0</td>\n",
       "      <td>more i cant make any real suggestions on impro...</td>\n",
       "      <td>more I can not make any real suggestion on imp...</td>\n",
       "    </tr>\n",
       "    <tr>\n",
       "      <th>4</th>\n",
       "      <td>You, sir, are my hero. Any chance you remember...</td>\n",
       "      <td>0</td>\n",
       "      <td>you sir are my hero any chance you remember wh...</td>\n",
       "      <td>you sir be my hero any chance you remember wha...</td>\n",
       "    </tr>\n",
       "  </tbody>\n",
       "</table>\n",
       "</div>"
      ],
      "text/plain": [
       "                                                text  toxic  \\\n",
       "0  Explanation\\nWhy the edits made under my usern...      0   \n",
       "1  D'aww! He matches this background colour I'm s...      0   \n",
       "2  Hey man, I'm really not trying to edit war. It...      0   \n",
       "3  \"\\nMore\\nI can't make any real suggestions on ...      0   \n",
       "4  You, sir, are my hero. Any chance you remember...      0   \n",
       "\n",
       "                                        text_cleaned  \\\n",
       "0  explanation why the edits made under my userna...   \n",
       "1  daww he matches this background colour im seem...   \n",
       "2  hey man im really not trying to edit war its j...   \n",
       "3  more i cant make any real suggestions on impro...   \n",
       "4  you sir are my hero any chance you remember wh...   \n",
       "\n",
       "                                       text_filtered  \n",
       "0  explanation why the edit make under my usernam...  \n",
       "1  daww he match this background colour I m seemi...  \n",
       "2  hey man I m really not try to edit war its jus...  \n",
       "3  more I can not make any real suggestion on imp...  \n",
       "4  you sir be my hero any chance you remember wha...  "
      ]
     },
     "execution_count": 8,
     "metadata": {},
     "output_type": "execute_result"
    }
   ],
   "source": [
    "toxic_comments['text_filtered'] = filtered\n",
    "toxic_comments.head()"
   ]
  },
  {
   "cell_type": "markdown",
   "metadata": {},
   "source": [
    "Typos and proper names are inevitable in the comments. I suggest removing such words by calculating their frequency and adding it as the min_df argument in the TF-IDF. I removed all words that occur less than 5 times (assuming that each word appears on average once per comment), as this leads to the number of unique words in all comments being less than 30,000 but more than 20,000 — which, as far as I know, is the active vocabulary of the average English-speaking person."
   ]
  },
  {
   "cell_type": "markdown",
   "metadata": {},
   "source": [
    "### Stopwords"
   ]
  },
  {
   "cell_type": "code",
   "execution_count": 9,
   "metadata": {},
   "outputs": [
    {
     "name": "stderr",
     "output_type": "stream",
     "text": [
      "[nltk_data] Downloading package stopwords to /home/jovyan/nltk_data...\n",
      "[nltk_data]   Package stopwords is already up-to-date!\n"
     ]
    }
   ],
   "source": [
    "nltk.download('stopwords')\n",
    "stopwords = set(nltk_stopwords.words('english'))"
   ]
  },
  {
   "cell_type": "code",
   "execution_count": 10,
   "metadata": {},
   "outputs": [],
   "source": [
    "stopwords = list(stopwords)"
   ]
  },
  {
   "cell_type": "markdown",
   "metadata": {},
   "source": [
    "### Train-test split"
   ]
  },
  {
   "cell_type": "code",
   "execution_count": 11,
   "metadata": {},
   "outputs": [],
   "source": [
    "train, test = train_test_split(toxic_comments, test_size=.35, random_state=42, stratify=toxic_comments['toxic'])"
   ]
  },
  {
   "cell_type": "code",
   "execution_count": 12,
   "metadata": {},
   "outputs": [
    {
     "data": {
      "text/html": [
       "<div>\n",
       "<style scoped>\n",
       "    .dataframe tbody tr th:only-of-type {\n",
       "        vertical-align: middle;\n",
       "    }\n",
       "\n",
       "    .dataframe tbody tr th {\n",
       "        vertical-align: top;\n",
       "    }\n",
       "\n",
       "    .dataframe thead th {\n",
       "        text-align: right;\n",
       "    }\n",
       "</style>\n",
       "<table border=\"1\" class=\"dataframe\">\n",
       "  <thead>\n",
       "    <tr style=\"text-align: right;\">\n",
       "      <th></th>\n",
       "      <th>text</th>\n",
       "      <th>toxic</th>\n",
       "      <th>text_cleaned</th>\n",
       "      <th>text_filtered</th>\n",
       "    </tr>\n",
       "  </thead>\n",
       "  <tbody>\n",
       "    <tr>\n",
       "      <th>70971</th>\n",
       "      <td>Here is a short list of popular flood geology ...</td>\n",
       "      <td>0</td>\n",
       "      <td>here is a short list of popular flood geology ...</td>\n",
       "      <td>here be a short list of popular flood geology ...</td>\n",
       "    </tr>\n",
       "    <tr>\n",
       "      <th>73618</th>\n",
       "      <td>\"\\n\\nI noticed the comment about the IOC; I di...</td>\n",
       "      <td>0</td>\n",
       "      <td>i noticed the comment about the ioc i discount...</td>\n",
       "      <td>I notice the comment about the ioc I discount ...</td>\n",
       "    </tr>\n",
       "    <tr>\n",
       "      <th>132475</th>\n",
       "      <td>\"\\n\\n Super Bowl halftime \\n\\nBro, I couldn't ...</td>\n",
       "      <td>0</td>\n",
       "      <td>super bowl halftime   bro i couldnt help but n...</td>\n",
       "      <td>super bowl halftime    bro I could not help bu...</td>\n",
       "    </tr>\n",
       "    <tr>\n",
       "      <th>83502</th>\n",
       "      <td>\"\\n\\nThe word \"\"airbases\"\" appears in the arti...</td>\n",
       "      <td>0</td>\n",
       "      <td>the word airbases appears in the article histo...</td>\n",
       "      <td>the word airbase appear in the article history...</td>\n",
       "    </tr>\n",
       "    <tr>\n",
       "      <th>140265</th>\n",
       "      <td>\"\\n\\n Sich riflemen/Urainian Sich Riflemen/Ukr...</td>\n",
       "      <td>0</td>\n",
       "      <td>sich riflemenurainian sich riflemenukranian so...</td>\n",
       "      <td>sich riflemenurainian sich riflemenukranian so...</td>\n",
       "    </tr>\n",
       "  </tbody>\n",
       "</table>\n",
       "</div>"
      ],
      "text/plain": [
       "                                                     text  toxic  \\\n",
       "70971   Here is a short list of popular flood geology ...      0   \n",
       "73618   \"\\n\\nI noticed the comment about the IOC; I di...      0   \n",
       "132475  \"\\n\\n Super Bowl halftime \\n\\nBro, I couldn't ...      0   \n",
       "83502   \"\\n\\nThe word \"\"airbases\"\" appears in the arti...      0   \n",
       "140265  \"\\n\\n Sich riflemen/Urainian Sich Riflemen/Ukr...      0   \n",
       "\n",
       "                                             text_cleaned  \\\n",
       "70971   here is a short list of popular flood geology ...   \n",
       "73618   i noticed the comment about the ioc i discount...   \n",
       "132475  super bowl halftime   bro i couldnt help but n...   \n",
       "83502   the word airbases appears in the article histo...   \n",
       "140265  sich riflemenurainian sich riflemenukranian so...   \n",
       "\n",
       "                                            text_filtered  \n",
       "70971   here be a short list of popular flood geology ...  \n",
       "73618   I notice the comment about the ioc I discount ...  \n",
       "132475  super bowl halftime    bro I could not help bu...  \n",
       "83502   the word airbase appear in the article history...  \n",
       "140265  sich riflemenurainian sich riflemenukranian so...  "
      ]
     },
     "execution_count": 12,
     "metadata": {},
     "output_type": "execute_result"
    }
   ],
   "source": [
    "train.head()"
   ]
  },
  {
   "cell_type": "markdown",
   "metadata": {},
   "source": [
    "### TF-IDF calc"
   ]
  },
  {
   "cell_type": "code",
   "execution_count": 13,
   "metadata": {},
   "outputs": [],
   "source": [
    "count_tf_idf = TfidfVectorizer(stop_words=stopwords, lowercase=True, min_df=5)\n",
    "\n",
    "X_train = count_tf_idf.fit_transform(train['text_filtered'])\n",
    "X_test = count_tf_idf.transform(test['text_filtered'])\n",
    "\n",
    "y_train = train['toxic']\n",
    "y_test = test['toxic']"
   ]
  },
  {
   "cell_type": "code",
   "execution_count": 14,
   "metadata": {},
   "outputs": [
    {
     "data": {
      "text/plain": [
       "(103539, 22049)"
      ]
     },
     "execution_count": 14,
     "metadata": {},
     "output_type": "execute_result"
    }
   ],
   "source": [
    "X_train.shape"
   ]
  },
  {
   "cell_type": "markdown",
   "metadata": {},
   "source": [
    "## Model training"
   ]
  },
  {
   "cell_type": "markdown",
   "metadata": {},
   "source": [
    "### LogReg (w parameter search)"
   ]
  },
  {
   "cell_type": "code",
   "execution_count": 15,
   "metadata": {},
   "outputs": [
    {
     "name": "stdout",
     "output_type": "stream",
     "text": [
      "Fitting 3 folds for each of 2 candidates, totalling 6 fits\n",
      "[CV] END ..............................................C=0.1; total time=  10.1s\n",
      "[CV] END ..............................................C=0.1; total time=   7.7s\n",
      "[CV] END ..............................................C=0.1; total time=   9.0s\n",
      "[CV] END ................................................C=1; total time=  20.2s\n",
      "[CV] END ................................................C=1; total time=  18.7s\n",
      "[CV] END ................................................C=1; total time=  19.5s\n",
      "Best cross-validation score: 0.71\n"
     ]
    }
   ],
   "source": [
    "param_grid = {\n",
    "    'C': [0.1, 1],\n",
    "}\n",
    "\n",
    "\n",
    "grid_search_lr = GridSearchCV(LogisticRegression(), param_grid, cv=3, scoring='f1', verbose=2)\n",
    "\n",
    "\n",
    "grid_search_lr.fit(X_train, y_train)\n",
    "\n",
    "\n",
    "print(\"Best cross-validation score: {:.2f}\".format(grid_search_lr.best_score_))"
   ]
  },
  {
   "cell_type": "markdown",
   "metadata": {},
   "source": [
    "### Random forest (w parameter search)"
   ]
  },
  {
   "cell_type": "code",
   "execution_count": 16,
   "metadata": {},
   "outputs": [
    {
     "name": "stdout",
     "output_type": "stream",
     "text": [
      "Fitting 3 folds for each of 4 candidates, totalling 12 fits\n",
      "[CV] END ....................bootstrap=True, n_estimators=50; total time=  53.4s\n",
      "[CV] END ....................bootstrap=True, n_estimators=50; total time=  52.7s\n",
      "[CV] END ....................bootstrap=True, n_estimators=50; total time=  54.3s\n",
      "[CV] END ...................bootstrap=True, n_estimators=450; total time= 8.1min\n",
      "[CV] END ...................bootstrap=True, n_estimators=450; total time= 8.1min\n",
      "[CV] END ...................bootstrap=True, n_estimators=450; total time= 7.9min\n",
      "[CV] END ...................bootstrap=False, n_estimators=50; total time= 1.2min\n",
      "[CV] END ...................bootstrap=False, n_estimators=50; total time= 1.1min\n",
      "[CV] END ...................bootstrap=False, n_estimators=50; total time= 1.2min\n",
      "[CV] END ..................bootstrap=False, n_estimators=450; total time=10.7min\n",
      "[CV] END ..................bootstrap=False, n_estimators=450; total time=10.5min\n",
      "[CV] END ..................bootstrap=False, n_estimators=450; total time=10.4min\n",
      "Best cross-validation score: 0.75\n"
     ]
    }
   ],
   "source": [
    "model = RandomForestClassifier(random_state=42)\n",
    "\n",
    "param_grid = {\n",
    "    'n_estimators': [50, 450],\n",
    "    'bootstrap': [True, False]\n",
    "}\n",
    "\n",
    "\n",
    "grid_search = GridSearchCV(model, param_grid, cv=3, scoring='f1', verbose=2)\n",
    "\n",
    "\n",
    "grid_search.fit(X_train, y_train)\n",
    "\n",
    "\n",
    "print(\"Best cross-validation score: {:.2f}\".format(grid_search.best_score_))"
   ]
  },
  {
   "cell_type": "markdown",
   "metadata": {},
   "source": [
    "### Prediction on the test set"
   ]
  },
  {
   "cell_type": "code",
   "execution_count": 17,
   "metadata": {},
   "outputs": [
    {
     "data": {
      "text/plain": [
       "0.7501520989657271"
      ]
     },
     "execution_count": 17,
     "metadata": {},
     "output_type": "execute_result"
    }
   ],
   "source": [
    "y_pred = grid_search.best_estimator_.predict(X_test)\n",
    "f1_score(y_test, y_pred)"
   ]
  },
  {
   "cell_type": "markdown",
   "metadata": {},
   "source": [
    "## Conclusion"
   ]
  },
  {
   "cell_type": "markdown",
   "metadata": {},
   "source": [
    "The data provided for the task was preprocessed to minimize the amount of information without losing meaning, as it would have been impossible to train any model otherwise.\n",
    "\n",
    "Logistic regression and random forest models were trained with hyperparameter tuning. The best model (random forest) achieved an F1 score > 0.75 on the test set, meeting the task's requirements."
   ]
  },
  {
   "cell_type": "code",
   "execution_count": null,
   "metadata": {},
   "outputs": [],
   "source": []
  }
 ],
 "metadata": {
  "ExecuteTimeLog": [
   {
    "duration": 397,
    "start_time": "2024-07-09T16:16:14.290Z"
   },
   {
    "duration": 3414,
    "start_time": "2024-07-09T16:16:28.592Z"
   },
   {
    "duration": 23,
    "start_time": "2024-07-09T16:16:36.073Z"
   },
   {
    "duration": 973,
    "start_time": "2024-07-09T16:16:43.660Z"
   },
   {
    "duration": 7,
    "start_time": "2024-07-09T16:16:44.636Z"
   },
   {
    "duration": 8,
    "start_time": "2024-07-09T16:17:23.509Z"
   },
   {
    "duration": 66,
    "start_time": "2024-07-09T16:20:04.031Z"
   },
   {
    "duration": 2623,
    "start_time": "2024-07-09T16:20:11.774Z"
   },
   {
    "duration": 5,
    "start_time": "2024-07-09T16:20:18.916Z"
   },
   {
    "duration": 964,
    "start_time": "2024-07-09T16:20:45.513Z"
   },
   {
    "duration": 218,
    "start_time": "2024-07-09T16:20:50.394Z"
   },
   {
    "duration": 6,
    "start_time": "2024-07-09T16:20:57.056Z"
   },
   {
    "duration": 11160,
    "start_time": "2024-07-09T16:23:48.905Z"
   },
   {
    "duration": 7,
    "start_time": "2024-07-09T16:25:51.009Z"
   },
   {
    "duration": 4,
    "start_time": "2024-07-09T16:26:16.303Z"
   },
   {
    "duration": 35,
    "start_time": "2024-07-09T16:26:53.454Z"
   },
   {
    "duration": 11,
    "start_time": "2024-07-09T16:26:56.738Z"
   },
   {
    "duration": 4,
    "start_time": "2024-07-09T16:29:43.876Z"
   },
   {
    "duration": 93116,
    "start_time": "2024-07-09T16:30:37.977Z"
   },
   {
    "duration": 8,
    "start_time": "2024-07-09T16:33:37.582Z"
   },
   {
    "duration": 1395,
    "start_time": "2024-07-09T16:36:10.240Z"
   },
   {
    "duration": 3404,
    "start_time": "2024-07-09T16:36:11.637Z"
   },
   {
    "duration": 14,
    "start_time": "2024-07-09T16:36:15.043Z"
   },
   {
    "duration": 23,
    "start_time": "2024-07-09T16:36:15.059Z"
   },
   {
    "duration": 3393,
    "start_time": "2024-07-09T16:36:16.144Z"
   },
   {
    "duration": 484,
    "start_time": "2024-07-09T16:36:34.795Z"
   },
   {
    "duration": 492,
    "start_time": "2024-07-09T16:37:45.668Z"
   },
   {
    "duration": 618,
    "start_time": "2024-07-09T16:37:48.545Z"
   },
   {
    "duration": 1031719,
    "start_time": "2024-07-09T16:37:54.346Z"
   },
   {
    "duration": 0,
    "start_time": "2024-07-09T16:55:06.066Z"
   },
   {
    "duration": 0,
    "start_time": "2024-07-09T16:55:06.067Z"
   },
   {
    "duration": 18583,
    "start_time": "2024-07-09T16:56:53.355Z"
   },
   {
    "duration": 57,
    "start_time": "2024-07-09T16:57:12.555Z"
   },
   {
    "duration": 2,
    "start_time": "2024-07-09T17:00:20.641Z"
   },
   {
    "duration": 1474,
    "start_time": "2024-07-09T17:00:31.723Z"
   },
   {
    "duration": 14,
    "start_time": "2024-07-09T17:00:38.527Z"
   },
   {
    "duration": 1523,
    "start_time": "2024-07-09T17:01:24.635Z"
   },
   {
    "duration": 17,
    "start_time": "2024-07-09T17:01:26.160Z"
   },
   {
    "duration": 234,
    "start_time": "2024-07-09T17:01:40.295Z"
   },
   {
    "duration": 6,
    "start_time": "2024-07-09T17:01:40.696Z"
   },
   {
    "duration": 54,
    "start_time": "2024-07-09T17:01:45.186Z"
   },
   {
    "duration": 16,
    "start_time": "2024-07-09T17:01:45.692Z"
   },
   {
    "duration": 13102,
    "start_time": "2024-07-09T17:02:39.804Z"
   },
   {
    "duration": 4,
    "start_time": "2024-07-09T17:03:05.503Z"
   },
   {
    "duration": 4868,
    "start_time": "2024-07-09T17:03:15.923Z"
   },
   {
    "duration": 12849,
    "start_time": "2024-07-09T17:04:02.105Z"
   },
   {
    "duration": 24,
    "start_time": "2024-07-09T17:05:16.125Z"
   },
   {
    "duration": 2,
    "start_time": "2024-07-09T17:05:27.541Z"
   },
   {
    "duration": 34036,
    "start_time": "2024-07-09T17:05:28.059Z"
   },
   {
    "duration": 3,
    "start_time": "2024-07-09T17:06:02.546Z"
   },
   {
    "duration": 49,
    "start_time": "2024-07-09T17:06:09.555Z"
   },
   {
    "duration": 6,
    "start_time": "2024-07-09T17:08:07.648Z"
   },
   {
    "duration": 19127,
    "start_time": "2024-07-09T17:09:11.147Z"
   },
   {
    "duration": 207896,
    "start_time": "2024-07-09T17:09:32.407Z"
   },
   {
    "duration": 18,
    "start_time": "2024-07-09T17:13:42.974Z"
   },
   {
    "duration": 3,
    "start_time": "2024-07-09T17:14:21.748Z"
   },
   {
    "duration": 115718,
    "start_time": "2024-07-09T17:14:30.396Z"
   },
   {
    "duration": 4,
    "start_time": "2024-07-09T17:17:35.718Z"
   },
   {
    "duration": 4,
    "start_time": "2024-07-09T17:19:01.079Z"
   },
   {
    "duration": 5,
    "start_time": "2024-07-09T17:19:11.558Z"
   },
   {
    "duration": 80,
    "start_time": "2024-07-09T17:19:39.870Z"
   },
   {
    "duration": 6,
    "start_time": "2024-07-09T17:19:49.998Z"
   },
   {
    "duration": 13210,
    "start_time": "2024-07-09T17:19:57.999Z"
   },
   {
    "duration": 8,
    "start_time": "2024-07-09T17:20:16.702Z"
   },
   {
    "duration": 117185,
    "start_time": "2024-07-09T17:20:23.565Z"
   },
   {
    "duration": 5,
    "start_time": "2024-07-09T17:22:20.751Z"
   },
   {
    "duration": 12,
    "start_time": "2024-07-09T17:22:20.758Z"
   },
   {
    "duration": 1886,
    "start_time": "2024-07-09T17:23:21.740Z"
   },
   {
    "duration": 5,
    "start_time": "2024-07-09T17:23:38.042Z"
   },
   {
    "duration": 7873,
    "start_time": "2024-07-09T17:26:43.718Z"
   },
   {
    "duration": 4,
    "start_time": "2024-07-09T17:26:51.593Z"
   },
   {
    "duration": 1426,
    "start_time": "2024-07-09T17:27:20.702Z"
   },
   {
    "duration": 4,
    "start_time": "2024-07-09T17:28:01.981Z"
   },
   {
    "duration": 8249,
    "start_time": "2024-07-09T17:29:18.728Z"
   },
   {
    "duration": 4,
    "start_time": "2024-07-09T17:29:26.979Z"
   },
   {
    "duration": 1767,
    "start_time": "2024-07-09T17:29:42.526Z"
   },
   {
    "duration": 22,
    "start_time": "2024-07-09T17:30:26.304Z"
   },
   {
    "duration": 4192,
    "start_time": "2024-07-09T17:30:59.496Z"
   },
   {
    "duration": 3059,
    "start_time": "2024-07-09T17:34:45.557Z"
   },
   {
    "duration": 1370,
    "start_time": "2024-07-10T08:43:55.893Z"
   },
   {
    "duration": 3394,
    "start_time": "2024-07-10T08:43:57.264Z"
   },
   {
    "duration": 13,
    "start_time": "2024-07-10T08:44:04.339Z"
   },
   {
    "duration": 7,
    "start_time": "2024-07-10T08:44:08.686Z"
   },
   {
    "duration": 2,
    "start_time": "2024-07-10T08:44:09.486Z"
   },
   {
    "duration": 1547,
    "start_time": "2024-07-10T08:44:22.207Z"
   },
   {
    "duration": 15,
    "start_time": "2024-07-10T08:44:27.629Z"
   },
   {
    "duration": 187,
    "start_time": "2024-07-10T08:44:34.730Z"
   },
   {
    "duration": 6,
    "start_time": "2024-07-10T08:44:36.429Z"
   },
   {
    "duration": 87,
    "start_time": "2024-07-10T08:44:41.182Z"
   },
   {
    "duration": 7664,
    "start_time": "2024-07-10T08:45:11.932Z"
   },
   {
    "duration": 4,
    "start_time": "2024-07-10T08:45:19.598Z"
   },
   {
    "duration": 2925,
    "start_time": "2024-07-10T08:45:19.603Z"
   },
   {
    "duration": 615,
    "start_time": "2024-07-10T08:45:26.192Z"
   },
   {
    "duration": 120,
    "start_time": "2024-07-10T08:45:40.744Z"
   },
   {
    "duration": 7630,
    "start_time": "2024-07-10T08:45:50.399Z"
   },
   {
    "duration": 3180,
    "start_time": "2024-07-10T08:45:58.031Z"
   },
   {
    "duration": 7897,
    "start_time": "2024-07-10T08:46:22.275Z"
   },
   {
    "duration": 5987,
    "start_time": "2024-07-10T08:46:30.174Z"
   },
   {
    "duration": 3,
    "start_time": "2024-07-10T08:47:40.335Z"
   },
   {
    "duration": 56800,
    "start_time": "2024-07-10T08:48:03.457Z"
   },
   {
    "duration": 10428,
    "start_time": "2024-07-10T08:49:00.259Z"
   },
   {
    "duration": 18,
    "start_time": "2024-07-10T08:49:10.689Z"
   },
   {
    "duration": 5,
    "start_time": "2024-07-10T08:49:15.290Z"
   },
   {
    "duration": 11,
    "start_time": "2024-07-10T08:50:05.826Z"
   },
   {
    "duration": 31,
    "start_time": "2024-07-10T08:50:08.780Z"
   },
   {
    "duration": 262073,
    "start_time": "2024-07-10T08:50:09.149Z"
   },
   {
    "duration": 0,
    "start_time": "2024-07-10T08:54:31.224Z"
   },
   {
    "duration": 584735,
    "start_time": "2024-07-10T08:54:38.196Z"
   },
   {
    "duration": 12199,
    "start_time": "2024-07-10T09:04:22.934Z"
   },
   {
    "duration": 22,
    "start_time": "2024-07-10T09:04:35.135Z"
   },
   {
    "duration": 1938251,
    "start_time": "2024-07-10T09:06:59.632Z"
   },
   {
    "duration": 0,
    "start_time": "2024-07-10T09:39:17.886Z"
   },
   {
    "duration": 0,
    "start_time": "2024-07-10T09:39:17.887Z"
   },
   {
    "duration": 0,
    "start_time": "2024-07-10T09:39:17.888Z"
   },
   {
    "duration": 2035165,
    "start_time": "2024-07-10T09:39:24.391Z"
   },
   {
    "duration": 98,
    "start_time": "2024-07-10T10:13:19.559Z"
   },
   {
    "duration": 11,
    "start_time": "2024-07-10T10:16:02.992Z"
   },
   {
    "duration": 3,
    "start_time": "2024-07-10T10:16:10.546Z"
   },
   {
    "duration": 17,
    "start_time": "2024-07-10T10:16:16.229Z"
   },
   {
    "duration": 9456212,
    "start_time": "2024-07-10T10:17:19.276Z"
   },
   {
    "duration": 0,
    "start_time": "2024-07-10T12:54:55.585Z"
   },
   {
    "duration": 353,
    "start_time": "2024-07-10T14:25:55.922Z"
   },
   {
    "duration": 59,
    "start_time": "2024-07-10T14:27:14.293Z"
   },
   {
    "duration": 50,
    "start_time": "2024-07-10T14:29:12.415Z"
   },
   {
    "duration": 1454,
    "start_time": "2024-07-10T14:29:16.287Z"
   },
   {
    "duration": 3439,
    "start_time": "2024-07-10T14:29:17.743Z"
   },
   {
    "duration": 15,
    "start_time": "2024-07-10T14:29:21.183Z"
   },
   {
    "duration": 7,
    "start_time": "2024-07-10T14:29:21.201Z"
   },
   {
    "duration": 3,
    "start_time": "2024-07-10T14:29:21.210Z"
   },
   {
    "duration": 1543,
    "start_time": "2024-07-10T14:29:21.214Z"
   },
   {
    "duration": 12,
    "start_time": "2024-07-10T14:29:22.758Z"
   },
   {
    "duration": 152,
    "start_time": "2024-07-10T14:29:24.513Z"
   },
   {
    "duration": 6,
    "start_time": "2024-07-10T14:29:24.864Z"
   },
   {
    "duration": 93,
    "start_time": "2024-07-10T14:29:26.679Z"
   },
   {
    "duration": 12,
    "start_time": "2024-07-10T14:29:27.349Z"
   },
   {
    "duration": 7699,
    "start_time": "2024-07-10T14:29:28.942Z"
   },
   {
    "duration": 6014,
    "start_time": "2024-07-10T14:29:36.643Z"
   },
   {
    "duration": 64,
    "start_time": "2024-07-10T14:29:42.659Z"
   },
   {
    "duration": 1324,
    "start_time": "2024-07-10T19:03:02.318Z"
   },
   {
    "duration": 2522,
    "start_time": "2024-07-10T19:03:05.875Z"
   },
   {
    "duration": 14,
    "start_time": "2024-07-10T19:03:08.399Z"
   },
   {
    "duration": 7,
    "start_time": "2024-07-10T19:03:08.414Z"
   },
   {
    "duration": 3,
    "start_time": "2024-07-10T19:03:08.423Z"
   },
   {
    "duration": 1378,
    "start_time": "2024-07-10T19:03:08.427Z"
   },
   {
    "duration": 14,
    "start_time": "2024-07-10T19:03:09.807Z"
   },
   {
    "duration": 140,
    "start_time": "2024-07-10T19:03:11.640Z"
   },
   {
    "duration": 5,
    "start_time": "2024-07-10T19:03:12.124Z"
   },
   {
    "duration": 95,
    "start_time": "2024-07-10T19:03:15.017Z"
   },
   {
    "duration": 10,
    "start_time": "2024-07-10T19:03:15.460Z"
   },
   {
    "duration": 7040,
    "start_time": "2024-07-10T19:03:19.299Z"
   },
   {
    "duration": 5457,
    "start_time": "2024-07-10T19:03:26.341Z"
   },
   {
    "duration": 84,
    "start_time": "2024-07-10T19:03:31.800Z"
   },
   {
    "duration": 444514,
    "start_time": "2024-07-10T19:03:31.886Z"
   },
   {
    "duration": 0,
    "start_time": "2024-07-10T19:10:56.402Z"
   },
   {
    "duration": 209330,
    "start_time": "2024-07-10T19:11:20.608Z"
   },
   {
    "duration": 6339,
    "start_time": "2024-07-10T19:14:49.940Z"
   },
   {
    "duration": 3,
    "start_time": "2024-07-10T19:15:13.812Z"
   },
   {
    "duration": 1380,
    "start_time": "2024-07-10T19:15:17.788Z"
   },
   {
    "duration": 56766,
    "start_time": "2024-07-10T19:15:45.396Z"
   },
   {
    "duration": 3582,
    "start_time": "2024-07-10T19:16:42.163Z"
   },
   {
    "duration": 11,
    "start_time": "2024-07-10T19:20:00.935Z"
   },
   {
    "duration": 11350,
    "start_time": "2024-07-10T19:20:20.078Z"
   },
   {
    "duration": 12,
    "start_time": "2024-07-10T19:22:36.520Z"
   },
   {
    "duration": 12,
    "start_time": "2024-07-10T19:22:51.623Z"
   },
   {
    "duration": 4234,
    "start_time": "2024-07-10T19:23:09.490Z"
   },
   {
    "duration": 508,
    "start_time": "2024-07-10T19:23:14.653Z"
   },
   {
    "duration": 12,
    "start_time": "2024-07-10T19:23:40.295Z"
   },
   {
    "duration": 453,
    "start_time": "2024-07-10T19:24:11.183Z"
   },
   {
    "duration": 3274,
    "start_time": "2024-07-10T19:24:31.099Z"
   },
   {
    "duration": 33,
    "start_time": "2024-07-10T19:24:34.375Z"
   },
   {
    "duration": 46888,
    "start_time": "2024-07-10T19:24:40.000Z"
   },
   {
    "duration": 11,
    "start_time": "2024-07-10T19:26:14.526Z"
   },
   {
    "duration": 12,
    "start_time": "2024-07-10T19:26:26.637Z"
   },
   {
    "duration": 22682,
    "start_time": "2024-07-10T19:26:48.278Z"
   },
   {
    "duration": 5975,
    "start_time": "2024-07-10T19:27:15.033Z"
   },
   {
    "duration": 1219,
    "start_time": "2024-07-11T11:30:45.932Z"
   },
   {
    "duration": 3408,
    "start_time": "2024-07-11T11:30:47.153Z"
   },
   {
    "duration": 12,
    "start_time": "2024-07-11T11:30:50.562Z"
   },
   {
    "duration": 5,
    "start_time": "2024-07-11T11:30:50.577Z"
   },
   {
    "duration": 3,
    "start_time": "2024-07-11T11:30:50.583Z"
   },
   {
    "duration": 1387,
    "start_time": "2024-07-11T11:30:50.587Z"
   },
   {
    "duration": 10,
    "start_time": "2024-07-11T11:30:51.976Z"
   },
   {
    "duration": 255,
    "start_time": "2024-07-11T11:30:55.780Z"
   },
   {
    "duration": 7,
    "start_time": "2024-07-11T11:30:56.622Z"
   },
   {
    "duration": 80,
    "start_time": "2024-07-11T11:30:57.911Z"
   },
   {
    "duration": 10,
    "start_time": "2024-07-11T11:30:58.283Z"
   },
   {
    "duration": 6945,
    "start_time": "2024-07-11T11:31:02.972Z"
   },
   {
    "duration": 5138,
    "start_time": "2024-07-11T11:31:09.919Z"
   },
   {
    "duration": 3,
    "start_time": "2024-07-11T11:31:15.058Z"
   },
   {
    "duration": 1883459,
    "start_time": "2024-07-11T11:31:15.062Z"
   },
   {
    "duration": 4608,
    "start_time": "2024-07-11T12:02:38.601Z"
   },
   {
    "duration": 222,
    "start_time": "2024-07-11T12:02:43.211Z"
   },
   {
    "duration": 228,
    "start_time": "2024-07-11T13:05:45.240Z"
   },
   {
    "duration": 10,
    "start_time": "2024-07-11T13:05:46.256Z"
   },
   {
    "duration": 2681,
    "start_time": "2024-07-11T13:06:04.472Z"
   },
   {
    "duration": 548389,
    "start_time": "2024-07-11T13:06:07.155Z"
   },
   {
    "duration": 0,
    "start_time": "2024-07-11T13:15:15.546Z"
   },
   {
    "duration": 0,
    "start_time": "2024-07-11T13:15:15.547Z"
   },
   {
    "duration": 0,
    "start_time": "2024-07-11T13:15:15.548Z"
   },
   {
    "duration": 4,
    "start_time": "2024-07-11T13:15:22.603Z"
   },
   {
    "duration": 6959,
    "start_time": "2024-07-11T13:15:44.800Z"
   },
   {
    "duration": 6290,
    "start_time": "2024-07-11T13:15:51.761Z"
   },
   {
    "duration": 3,
    "start_time": "2024-07-11T13:15:58.053Z"
   },
   {
    "duration": 16,
    "start_time": "2024-07-11T13:16:11.582Z"
   },
   {
    "duration": 3,
    "start_time": "2024-07-11T13:19:14.914Z"
   },
   {
    "duration": 10,
    "start_time": "2024-07-11T13:20:28.803Z"
   },
   {
    "duration": 44243,
    "start_time": "2024-07-11T13:20:48.888Z"
   },
   {
    "duration": 48,
    "start_time": "2024-07-11T13:21:38.432Z"
   },
   {
    "duration": 11,
    "start_time": "2024-07-11T13:21:45.952Z"
   },
   {
    "duration": 3,
    "start_time": "2024-07-11T13:23:16.453Z"
   },
   {
    "duration": 15841,
    "start_time": "2024-07-11T13:23:17.973Z"
   },
   {
    "duration": 19,
    "start_time": "2024-07-11T13:23:37.342Z"
   },
   {
    "duration": 281,
    "start_time": "2024-07-11T13:25:47.902Z"
   },
   {
    "duration": 1509,
    "start_time": "2024-07-11T13:26:01.243Z"
   },
   {
    "duration": 159,
    "start_time": "2024-07-11T13:26:07.959Z"
   },
   {
    "duration": 9,
    "start_time": "2024-07-11T13:26:08.534Z"
   },
   {
    "duration": 3,
    "start_time": "2024-07-11T13:26:27.502Z"
   },
   {
    "duration": 32530,
    "start_time": "2024-07-11T13:26:55.030Z"
   },
   {
    "duration": 20,
    "start_time": "2024-07-11T13:27:30.355Z"
   },
   {
    "duration": 2141918,
    "start_time": "2024-07-11T13:27:59.833Z"
   },
   {
    "duration": 21,
    "start_time": "2024-07-11T14:03:41.752Z"
   },
   {
    "duration": 23,
    "start_time": "2024-07-11T14:03:41.774Z"
   },
   {
    "duration": 222,
    "start_time": "2024-07-11T14:04:38.767Z"
   },
   {
    "duration": 5,
    "start_time": "2024-07-11T14:04:39.446Z"
   },
   {
    "duration": 5,
    "start_time": "2024-07-11T14:04:59.211Z"
   },
   {
    "duration": 2,
    "start_time": "2024-07-11T14:05:06.407Z"
   },
   {
    "duration": 100,
    "start_time": "2024-07-11T14:05:15.329Z"
   },
   {
    "duration": 10,
    "start_time": "2024-07-11T14:05:18.477Z"
   },
   {
    "duration": 6864,
    "start_time": "2024-07-11T14:05:34.539Z"
   },
   {
    "duration": 5204,
    "start_time": "2024-07-11T14:05:41.405Z"
   },
   {
    "duration": 3,
    "start_time": "2024-07-11T14:05:46.611Z"
   },
   {
    "duration": 6562,
    "start_time": "2024-07-11T14:06:01.048Z"
   },
   {
    "duration": 3801,
    "start_time": "2024-07-11T14:06:07.612Z"
   },
   {
    "duration": 3,
    "start_time": "2024-07-11T14:06:11.415Z"
   },
   {
    "duration": 34559,
    "start_time": "2024-07-11T14:06:26.538Z"
   },
   {
    "duration": 7962,
    "start_time": "2024-07-11T14:07:01.099Z"
   },
   {
    "duration": 14,
    "start_time": "2024-07-11T14:07:14.976Z"
   },
   {
    "duration": 19,
    "start_time": "2024-07-11T14:07:21.476Z"
   },
   {
    "duration": 174588,
    "start_time": "2024-07-11T14:07:22.355Z"
   },
   {
    "duration": 1008,
    "start_time": "2024-07-11T14:10:16.945Z"
   },
   {
    "duration": 2,
    "start_time": "2024-07-11T14:10:48.057Z"
   },
   {
    "duration": 1152029,
    "start_time": "2024-07-11T14:10:53.577Z"
   },
   {
    "duration": 47,
    "start_time": "2024-07-11T15:50:03.374Z"
   },
   {
    "duration": 5,
    "start_time": "2024-07-11T15:50:06.887Z"
   },
   {
    "duration": 1283,
    "start_time": "2024-07-11T15:51:54.308Z"
   },
   {
    "duration": 3430,
    "start_time": "2024-07-11T15:51:55.592Z"
   },
   {
    "duration": 12,
    "start_time": "2024-07-11T15:51:59.024Z"
   },
   {
    "duration": 4,
    "start_time": "2024-07-11T15:52:07.410Z"
   },
   {
    "duration": 374,
    "start_time": "2024-07-11T15:54:00.621Z"
   },
   {
    "duration": 3,
    "start_time": "2024-07-11T15:54:05.766Z"
   },
   {
    "duration": 1448,
    "start_time": "2024-07-11T15:54:06.060Z"
   },
   {
    "duration": 195,
    "start_time": "2024-07-11T15:54:09.161Z"
   },
   {
    "duration": 13,
    "start_time": "2024-07-11T15:54:25.625Z"
   },
   {
    "duration": 9,
    "start_time": "2024-07-11T15:54:58.087Z"
   },
   {
    "duration": 346173,
    "start_time": "2024-07-11T15:55:09.285Z"
   },
   {
    "duration": 0,
    "start_time": "2024-07-11T16:00:55.460Z"
   },
   {
    "duration": 4,
    "start_time": "2024-07-11T16:00:58.443Z"
   },
   {
    "duration": 3708,
    "start_time": "2024-07-11T16:03:36.889Z"
   },
   {
    "duration": 19,
    "start_time": "2024-07-11T16:03:46.391Z"
   },
   {
    "duration": 607,
    "start_time": "2024-07-11T16:03:56.573Z"
   },
   {
    "duration": 601,
    "start_time": "2024-07-11T16:04:12.442Z"
   },
   {
    "duration": 8,
    "start_time": "2024-07-11T16:04:26.066Z"
   },
   {
    "duration": 19,
    "start_time": "2024-07-11T16:04:31.750Z"
   },
   {
    "duration": 139,
    "start_time": "2024-07-11T16:05:19.514Z"
   },
   {
    "duration": 75,
    "start_time": "2024-07-11T16:05:27.729Z"
   },
   {
    "duration": 79,
    "start_time": "2024-07-11T16:05:43.719Z"
   },
   {
    "duration": 21,
    "start_time": "2024-07-11T16:06:37.285Z"
   },
   {
    "duration": 11,
    "start_time": "2024-07-11T16:07:04.483Z"
   },
   {
    "duration": 11,
    "start_time": "2024-07-11T16:08:07.206Z"
   },
   {
    "duration": 12,
    "start_time": "2024-07-11T16:08:12.826Z"
   },
   {
    "duration": 137,
    "start_time": "2024-07-11T16:09:54.378Z"
   },
   {
    "duration": 742,
    "start_time": "2024-07-11T16:10:16.304Z"
   },
   {
    "duration": 96,
    "start_time": "2024-07-11T16:10:20.241Z"
   },
   {
    "duration": 94,
    "start_time": "2024-07-11T16:10:24.352Z"
   },
   {
    "duration": 10,
    "start_time": "2024-07-11T16:12:31.783Z"
   },
   {
    "duration": 3,
    "start_time": "2024-07-11T16:13:40.283Z"
   },
   {
    "duration": 8,
    "start_time": "2024-07-11T16:13:55.167Z"
   },
   {
    "duration": 7,
    "start_time": "2024-07-11T16:13:59.818Z"
   },
   {
    "duration": 7,
    "start_time": "2024-07-11T16:14:04.422Z"
   },
   {
    "duration": 3,
    "start_time": "2024-07-11T16:14:13.477Z"
   },
   {
    "duration": 7,
    "start_time": "2024-07-11T16:14:26.730Z"
   },
   {
    "duration": 9,
    "start_time": "2024-07-11T16:14:32.383Z"
   },
   {
    "duration": 72,
    "start_time": "2024-07-11T16:14:59.090Z"
   },
   {
    "duration": 22,
    "start_time": "2024-07-11T16:15:04.438Z"
   },
   {
    "duration": 11669,
    "start_time": "2024-07-11T16:16:41.927Z"
   },
   {
    "duration": 2797,
    "start_time": "2024-07-11T16:16:55.201Z"
   },
   {
    "duration": 3,
    "start_time": "2024-07-11T16:17:28.454Z"
   },
   {
    "duration": 8,
    "start_time": "2024-07-11T16:17:40.134Z"
   },
   {
    "duration": 3,
    "start_time": "2024-07-11T16:17:47.447Z"
   },
   {
    "duration": 4,
    "start_time": "2024-07-11T16:17:53.709Z"
   },
   {
    "duration": 7,
    "start_time": "2024-07-11T16:18:06.012Z"
   },
   {
    "duration": 14,
    "start_time": "2024-07-11T16:18:14.074Z"
   },
   {
    "duration": 6,
    "start_time": "2024-07-11T16:18:33.383Z"
   },
   {
    "duration": 16331,
    "start_time": "2024-07-11T16:20:11.020Z"
   },
   {
    "duration": 5,
    "start_time": "2024-07-11T16:20:30.579Z"
   },
   {
    "duration": 11,
    "start_time": "2024-07-11T16:20:35.781Z"
   },
   {
    "duration": 3,
    "start_time": "2024-07-11T16:20:48.527Z"
   },
   {
    "duration": 11,
    "start_time": "2024-07-11T16:21:04.416Z"
   },
   {
    "duration": 164,
    "start_time": "2024-07-11T16:22:10.138Z"
   },
   {
    "duration": 28230,
    "start_time": "2024-07-11T16:22:11.213Z"
   },
   {
    "duration": 9,
    "start_time": "2024-07-11T16:22:42.955Z"
   },
   {
    "duration": 112675,
    "start_time": "2024-07-11T16:22:54.667Z"
   },
   {
    "duration": 0,
    "start_time": "2024-07-11T16:24:47.344Z"
   },
   {
    "duration": 8569,
    "start_time": "2024-07-11T16:25:01.653Z"
   },
   {
    "duration": 223,
    "start_time": "2024-07-11T16:25:22.199Z"
   },
   {
    "duration": 9,
    "start_time": "2024-07-11T16:25:34.075Z"
   },
   {
    "duration": 5,
    "start_time": "2024-07-11T16:25:37.672Z"
   },
   {
    "duration": 9,
    "start_time": "2024-07-11T16:25:40.321Z"
   },
   {
    "duration": 4,
    "start_time": "2024-07-11T16:25:41.958Z"
   },
   {
    "duration": 112,
    "start_time": "2024-07-11T16:25:45.007Z"
   },
   {
    "duration": 12,
    "start_time": "2024-07-11T16:25:45.521Z"
   },
   {
    "duration": 880,
    "start_time": "2024-07-11T16:25:51.043Z"
   },
   {
    "duration": 0,
    "start_time": "2024-07-11T16:25:51.925Z"
   },
   {
    "duration": 6362,
    "start_time": "2024-07-11T16:26:06.007Z"
   },
   {
    "duration": 1380,
    "start_time": "2024-07-11T16:26:12.371Z"
   },
   {
    "duration": 3,
    "start_time": "2024-07-11T16:26:29.434Z"
   },
   {
    "duration": 4,
    "start_time": "2024-07-11T16:27:22.315Z"
   },
   {
    "duration": 19,
    "start_time": "2024-07-11T16:27:45.043Z"
   },
   {
    "duration": 3,
    "start_time": "2024-07-11T16:27:51.576Z"
   },
   {
    "duration": 137503,
    "start_time": "2024-07-11T16:27:51.953Z"
   },
   {
    "duration": 0,
    "start_time": "2024-07-11T16:30:09.458Z"
   },
   {
    "duration": 0,
    "start_time": "2024-07-11T16:30:09.459Z"
   },
   {
    "duration": 12,
    "start_time": "2024-07-11T16:30:24.829Z"
   },
   {
    "duration": 4,
    "start_time": "2024-07-11T16:30:33.187Z"
   },
   {
    "duration": 4,
    "start_time": "2024-07-11T16:30:41.199Z"
   },
   {
    "duration": 2,
    "start_time": "2024-07-11T16:30:45.685Z"
   },
   {
    "duration": 45,
    "start_time": "2024-07-11T16:30:46.875Z"
   },
   {
    "duration": 3,
    "start_time": "2024-07-11T16:30:47.534Z"
   },
   {
    "duration": 65,
    "start_time": "2024-07-11T16:30:57.026Z"
   },
   {
    "duration": 9,
    "start_time": "2024-07-11T16:30:57.559Z"
   },
   {
    "duration": 6432,
    "start_time": "2024-07-11T16:31:00.693Z"
   },
   {
    "duration": 945,
    "start_time": "2024-07-11T16:31:24.223Z"
   },
   {
    "duration": 3,
    "start_time": "2024-07-11T16:31:25.170Z"
   },
   {
    "duration": 2464,
    "start_time": "2024-07-11T16:31:54.894Z"
   },
   {
    "duration": 14169,
    "start_time": "2024-07-11T16:31:57.360Z"
   },
   {
    "duration": 342958,
    "start_time": "2024-07-11T16:32:29.439Z"
   },
   {
    "duration": 0,
    "start_time": "2024-07-11T16:38:12.399Z"
   },
   {
    "duration": 0,
    "start_time": "2024-07-11T16:38:12.401Z"
   },
   {
    "duration": 0,
    "start_time": "2024-07-11T16:38:12.402Z"
   },
   {
    "duration": 10,
    "start_time": "2024-07-11T16:38:15.351Z"
   },
   {
    "duration": 209948,
    "start_time": "2024-07-11T16:38:32.067Z"
   },
   {
    "duration": 9387,
    "start_time": "2024-07-11T16:42:02.016Z"
   },
   {
    "duration": 0,
    "start_time": "2024-07-11T18:02:08.428Z"
   },
   {
    "duration": 1312,
    "start_time": "2024-07-14T09:52:15.390Z"
   },
   {
    "duration": 3,
    "start_time": "2024-07-14T09:52:43.264Z"
   },
   {
    "duration": 8,
    "start_time": "2024-07-14T09:52:47.622Z"
   },
   {
    "duration": 195,
    "start_time": "2024-07-14T09:53:20.043Z"
   },
   {
    "duration": 13,
    "start_time": "2024-07-14T09:53:22.475Z"
   },
   {
    "duration": 3,
    "start_time": "2024-07-14T09:58:06.890Z"
   },
   {
    "duration": 3795,
    "start_time": "2024-07-14T09:58:07.456Z"
   },
   {
    "duration": 8,
    "start_time": "2024-07-14T09:58:11.253Z"
   },
   {
    "duration": 8,
    "start_time": "2024-07-14T09:58:11.263Z"
   },
   {
    "duration": 3,
    "start_time": "2024-07-14T09:58:11.272Z"
   },
   {
    "duration": 1514,
    "start_time": "2024-07-14T09:58:11.276Z"
   },
   {
    "duration": 232,
    "start_time": "2024-07-14T09:58:12.792Z"
   },
   {
    "duration": 11,
    "start_time": "2024-07-14T09:58:13.026Z"
   },
   {
    "duration": 4048,
    "start_time": "2024-07-14T09:58:13.143Z"
   },
   {
    "duration": 85,
    "start_time": "2024-07-14T09:58:17.193Z"
   },
   {
    "duration": 32,
    "start_time": "2024-07-14T09:58:17.281Z"
   },
   {
    "duration": 4,
    "start_time": "2024-07-14T09:58:17.316Z"
   },
   {
    "duration": 148,
    "start_time": "2024-07-14T09:58:29.607Z"
   },
   {
    "duration": 2,
    "start_time": "2024-07-14T09:58:31.689Z"
   },
   {
    "duration": 58,
    "start_time": "2024-07-14T09:58:32.195Z"
   },
   {
    "duration": 3,
    "start_time": "2024-07-14T09:58:32.682Z"
   },
   {
    "duration": 79,
    "start_time": "2024-07-14T09:58:35.728Z"
   },
   {
    "duration": 10,
    "start_time": "2024-07-14T09:58:36.444Z"
   },
   {
    "duration": 6868,
    "start_time": "2024-07-14T09:58:40.854Z"
   },
   {
    "duration": 811,
    "start_time": "2024-07-14T09:58:47.724Z"
   },
   {
    "duration": 3,
    "start_time": "2024-07-14T09:58:48.537Z"
   },
   {
    "duration": 117,
    "start_time": "2024-07-14T09:59:06.825Z"
   },
   {
    "duration": 2,
    "start_time": "2024-07-14T09:59:11.520Z"
   },
   {
    "duration": 415204,
    "start_time": "2024-07-14T09:59:12.207Z"
   },
   {
    "duration": 3,
    "start_time": "2024-07-14T10:06:07.414Z"
   },
   {
    "duration": 216477,
    "start_time": "2024-07-14T10:06:07.419Z"
   },
   {
    "duration": 9614,
    "start_time": "2024-07-14T10:09:43.898Z"
   },
   {
    "duration": 470029,
    "start_time": "2024-07-14T10:09:53.514Z"
   },
   {
    "duration": 400947,
    "start_time": "2024-07-14T10:18:51.816Z"
   },
   {
    "duration": 349817,
    "start_time": "2024-07-14T10:26:05.527Z"
   },
   {
    "duration": 302904,
    "start_time": "2024-07-14T10:32:22.696Z"
   },
   {
    "duration": 8,
    "start_time": "2024-07-14T10:37:25.601Z"
   },
   {
    "duration": 53,
    "start_time": "2024-07-14T10:37:25.610Z"
   },
   {
    "duration": 0,
    "start_time": "2024-07-14T10:37:25.665Z"
   },
   {
    "duration": 0,
    "start_time": "2024-07-14T10:37:25.666Z"
   },
   {
    "duration": 0,
    "start_time": "2024-07-14T10:37:25.667Z"
   },
   {
    "duration": 0,
    "start_time": "2024-07-14T10:37:25.668Z"
   },
   {
    "duration": 0,
    "start_time": "2024-07-14T10:37:25.669Z"
   },
   {
    "duration": 8,
    "start_time": "2024-07-14T10:38:08.800Z"
   },
   {
    "duration": 4,
    "start_time": "2024-07-14T10:38:32.232Z"
   },
   {
    "duration": 16,
    "start_time": "2024-07-14T10:38:46.194Z"
   },
   {
    "duration": 2933,
    "start_time": "2024-07-14T10:39:05.389Z"
   },
   {
    "duration": 479585,
    "start_time": "2024-07-14T10:39:08.324Z"
   },
   {
    "duration": 4,
    "start_time": "2024-07-14T10:47:17.925Z"
   },
   {
    "duration": 159179,
    "start_time": "2024-07-14T10:47:18.881Z"
   },
   {
    "duration": 26,
    "start_time": "2024-07-14T10:50:51.193Z"
   },
   {
    "duration": 64458,
    "start_time": "2024-07-14T10:51:01.582Z"
   },
   {
    "duration": 21,
    "start_time": "2024-07-14T10:52:06.042Z"
   },
   {
    "duration": 4359,
    "start_time": "2024-07-14T10:52:06.065Z"
   },
   {
    "duration": 87,
    "start_time": "2024-07-14T10:52:12.144Z"
   },
   {
    "duration": 69,
    "start_time": "2024-07-14T10:52:14.065Z"
   },
   {
    "duration": 67,
    "start_time": "2024-07-14T10:52:25.109Z"
   },
   {
    "duration": 98,
    "start_time": "2024-07-14T10:52:40.891Z"
   },
   {
    "duration": 13,
    "start_time": "2024-07-14T10:52:57.952Z"
   },
   {
    "duration": 14,
    "start_time": "2024-07-14T10:53:19.323Z"
   },
   {
    "duration": 9,
    "start_time": "2024-07-14T10:54:33.700Z"
   },
   {
    "duration": 15,
    "start_time": "2024-07-14T10:54:39.507Z"
   },
   {
    "duration": 4,
    "start_time": "2024-07-14T10:54:51.024Z"
   },
   {
    "duration": 3,
    "start_time": "2024-07-14T10:54:51.599Z"
   },
   {
    "duration": 61,
    "start_time": "2024-07-14T10:54:52.097Z"
   },
   {
    "duration": 5,
    "start_time": "2024-07-14T10:54:52.900Z"
   },
   {
    "duration": 123,
    "start_time": "2024-07-14T10:54:56.862Z"
   },
   {
    "duration": 11,
    "start_time": "2024-07-14T10:54:57.356Z"
   },
   {
    "duration": 16,
    "start_time": "2024-07-14T10:55:26.612Z"
   },
   {
    "duration": 1080,
    "start_time": "2024-07-14T10:55:37.031Z"
   },
   {
    "duration": 0,
    "start_time": "2024-07-14T10:55:38.112Z"
   },
   {
    "duration": 6903,
    "start_time": "2024-07-14T10:55:45.893Z"
   },
   {
    "duration": 1409,
    "start_time": "2024-07-14T10:55:52.798Z"
   },
   {
    "duration": 3,
    "start_time": "2024-07-14T10:55:54.209Z"
   },
   {
    "duration": 472108,
    "start_time": "2024-07-14T10:56:21.600Z"
   },
   {
    "duration": 233227,
    "start_time": "2024-07-14T11:04:34.997Z"
   },
   {
    "duration": 10034,
    "start_time": "2024-07-14T11:08:28.226Z"
   },
   {
    "duration": 350647,
    "start_time": "2024-07-14T11:08:38.261Z"
   },
   {
    "duration": 15,
    "start_time": "2024-07-14T11:14:28.910Z"
   },
   {
    "duration": 0,
    "start_time": "2024-07-14T11:14:28.926Z"
   },
   {
    "duration": 1645762,
    "start_time": "2024-07-14T11:17:00.179Z"
   },
   {
    "duration": 508,
    "start_time": "2024-07-14T11:44:25.943Z"
   },
   {
    "duration": 396902,
    "start_time": "2024-07-14T11:47:37.787Z"
   },
   {
    "duration": 470288,
    "start_time": "2024-07-14T11:54:39.236Z"
   },
   {
    "duration": 704324,
    "start_time": "2024-07-14T12:12:33.196Z"
   },
   {
    "duration": 929815,
    "start_time": "2024-07-14T12:24:43.793Z"
   },
   {
    "duration": 1389801,
    "start_time": "2024-07-14T12:45:51.100Z"
   },
   {
    "duration": 16304,
    "start_time": "2024-07-14T13:12:30.378Z"
   },
   {
    "duration": 242433,
    "start_time": "2024-07-14T13:12:58.865Z"
   },
   {
    "duration": 1233697,
    "start_time": "2024-07-14T13:18:32.400Z"
   },
   {
    "duration": 9792258,
    "start_time": "2024-07-14T13:48:24.509Z"
   },
   {
    "duration": 4,
    "start_time": "2024-07-14T16:31:36.769Z"
   },
   {
    "duration": 34671,
    "start_time": "2024-07-14T16:31:36.775Z"
   },
   {
    "duration": 4,
    "start_time": "2024-07-14T16:58:10.024Z"
   },
   {
    "duration": 48,
    "start_time": "2024-07-14T16:58:14.724Z"
   },
   {
    "duration": 1386,
    "start_time": "2024-07-14T16:58:22.396Z"
   },
   {
    "duration": 3818,
    "start_time": "2024-07-14T16:58:23.784Z"
   },
   {
    "duration": 13,
    "start_time": "2024-07-14T16:58:27.604Z"
   },
   {
    "duration": 9,
    "start_time": "2024-07-14T16:58:27.619Z"
   },
   {
    "duration": 1540,
    "start_time": "2024-07-14T16:58:35.123Z"
   },
   {
    "duration": 216,
    "start_time": "2024-07-14T16:59:11.689Z"
   },
   {
    "duration": 63724,
    "start_time": "2024-07-14T16:59:27.563Z"
   },
   {
    "duration": 30,
    "start_time": "2024-07-14T17:00:31.289Z"
   },
   {
    "duration": 4142,
    "start_time": "2024-07-14T17:01:51.941Z"
   },
   {
    "duration": 88,
    "start_time": "2024-07-14T17:02:12.636Z"
   },
   {
    "duration": 15,
    "start_time": "2024-07-14T17:02:25.052Z"
   },
   {
    "duration": 13,
    "start_time": "2024-07-14T17:02:30.636Z"
   },
   {
    "duration": 189,
    "start_time": "2024-07-14T17:02:40.155Z"
   },
   {
    "duration": 59,
    "start_time": "2024-07-14T17:02:53.335Z"
   },
   {
    "duration": 4,
    "start_time": "2024-07-14T17:02:54.120Z"
   },
   {
    "duration": 129,
    "start_time": "2024-07-14T17:02:58.971Z"
   },
   {
    "duration": 9,
    "start_time": "2024-07-14T17:03:05.701Z"
   },
   {
    "duration": 6980,
    "start_time": "2024-07-14T17:03:13.729Z"
   },
   {
    "duration": 1000,
    "start_time": "2024-07-14T17:03:20.711Z"
   },
   {
    "duration": 474021,
    "start_time": "2024-07-14T17:03:52.696Z"
   },
   {
    "duration": 89,
    "start_time": "2024-07-14T17:11:46.719Z"
   },
   {
    "duration": 2438,
    "start_time": "2024-07-15T06:47:59.574Z"
   },
   {
    "duration": 1140,
    "start_time": "2024-07-15T06:48:02.014Z"
   },
   {
    "duration": 12,
    "start_time": "2024-07-15T06:48:03.155Z"
   },
   {
    "duration": 6,
    "start_time": "2024-07-15T06:48:03.168Z"
   },
   {
    "duration": 11,
    "start_time": "2024-07-15T06:48:03.176Z"
   },
   {
    "duration": 11,
    "start_time": "2024-07-15T06:48:03.188Z"
   },
   {
    "duration": 650,
    "start_time": "2024-07-15T06:48:03.200Z"
   },
   {
    "duration": 9,
    "start_time": "2024-07-15T06:48:03.852Z"
   },
   {
    "duration": 1348,
    "start_time": "2024-07-15T21:21:13.861Z"
   },
   {
    "duration": 3796,
    "start_time": "2024-07-15T21:21:17.144Z"
   },
   {
    "duration": 13,
    "start_time": "2024-07-15T21:21:20.942Z"
   },
   {
    "duration": 9,
    "start_time": "2024-07-15T21:21:20.956Z"
   },
   {
    "duration": 1498,
    "start_time": "2024-07-15T21:21:27.840Z"
   },
   {
    "duration": 199,
    "start_time": "2024-07-15T21:21:29.340Z"
   },
   {
    "duration": 2675,
    "start_time": "2024-07-15T21:22:42.596Z"
   },
   {
    "duration": 27,
    "start_time": "2024-07-15T21:22:49.793Z"
   },
   {
    "duration": 2815,
    "start_time": "2024-07-15T21:24:58.642Z"
   },
   {
    "duration": 11100,
    "start_time": "2024-07-15T21:25:20.940Z"
   },
   {
    "duration": 50,
    "start_time": "2024-07-15T21:25:38.578Z"
   },
   {
    "duration": 3691,
    "start_time": "2024-07-15T21:26:26.203Z"
   },
   {
    "duration": 846,
    "start_time": "2024-07-15T21:26:29.897Z"
   },
   {
    "duration": 13,
    "start_time": "2024-07-15T21:26:30.745Z"
   },
   {
    "duration": 252,
    "start_time": "2024-07-15T21:26:30.760Z"
   },
   {
    "duration": 1531,
    "start_time": "2024-07-15T21:26:31.014Z"
   },
   {
    "duration": 206,
    "start_time": "2024-07-15T21:26:32.547Z"
   },
   {
    "duration": 915918,
    "start_time": "2024-07-15T21:26:42.115Z"
   },
   {
    "duration": 25,
    "start_time": "2024-07-15T21:41:58.035Z"
   },
   {
    "duration": 3867,
    "start_time": "2024-07-15T21:41:58.061Z"
   },
   {
    "duration": 83,
    "start_time": "2024-07-15T21:42:01.930Z"
   },
   {
    "duration": 3,
    "start_time": "2024-07-15T21:42:27.289Z"
   },
   {
    "duration": 213,
    "start_time": "2024-07-15T21:44:25.473Z"
   },
   {
    "duration": 2,
    "start_time": "2024-07-15T21:44:28.878Z"
   },
   {
    "duration": 2,
    "start_time": "2024-07-15T21:44:36.025Z"
   },
   {
    "duration": 3,
    "start_time": "2024-07-15T21:44:36.600Z"
   },
   {
    "duration": 91,
    "start_time": "2024-07-15T21:44:43.602Z"
   },
   {
    "duration": 8,
    "start_time": "2024-07-15T21:44:45.752Z"
   },
   {
    "duration": 6012,
    "start_time": "2024-07-15T21:45:00.914Z"
   },
   {
    "duration": 469,
    "start_time": "2024-07-15T21:45:06.927Z"
   },
   {
    "duration": 4,
    "start_time": "2024-07-15T21:45:13.092Z"
   },
   {
    "duration": 6166,
    "start_time": "2024-07-15T21:45:21.660Z"
   },
   {
    "duration": 503,
    "start_time": "2024-07-15T21:45:27.828Z"
   },
   {
    "duration": 4,
    "start_time": "2024-07-15T21:45:28.332Z"
   },
   {
    "duration": 6212,
    "start_time": "2024-07-15T21:45:34.129Z"
   },
   {
    "duration": 526,
    "start_time": "2024-07-15T21:45:40.343Z"
   },
   {
    "duration": 3,
    "start_time": "2024-07-15T21:45:43.444Z"
   },
   {
    "duration": 6171,
    "start_time": "2024-07-15T21:45:49.622Z"
   },
   {
    "duration": 889,
    "start_time": "2024-07-15T21:45:55.795Z"
   },
   {
    "duration": 4,
    "start_time": "2024-07-15T21:45:56.685Z"
   },
   {
    "duration": 12,
    "start_time": "2024-07-15T21:46:08.669Z"
   },
   {
    "duration": 12,
    "start_time": "2024-07-15T21:46:09.281Z"
   },
   {
    "duration": 6052,
    "start_time": "2024-07-15T21:46:42.656Z"
   },
   {
    "duration": 3,
    "start_time": "2024-07-15T21:46:49.622Z"
   },
   {
    "duration": 3,
    "start_time": "2024-07-15T21:46:49.947Z"
   },
   {
    "duration": 109405,
    "start_time": "2024-07-15T21:46:53.983Z"
   },
   {
    "duration": 4252460,
    "start_time": "2024-07-15T21:48:43.390Z"
   },
   {
    "duration": 24813,
    "start_time": "2024-07-15T22:59:35.852Z"
   },
   {
    "duration": 5,
    "start_time": "2024-07-15T23:00:36.128Z"
   },
   {
    "duration": 22,
    "start_time": "2024-07-15T23:01:29.085Z"
   },
   {
    "duration": 301,
    "start_time": "2024-07-15T23:01:37.484Z"
   },
   {
    "duration": 24770,
    "start_time": "2024-07-15T23:01:43.815Z"
   },
   {
    "duration": 1099553,
    "start_time": "2024-07-15T23:02:24.485Z"
   },
   {
    "duration": 27677,
    "start_time": "2024-07-15T23:20:44.040Z"
   },
   {
    "duration": 3631,
    "start_time": "2024-07-15T23:32:39.907Z"
   },
   {
    "duration": 808,
    "start_time": "2024-07-15T23:32:43.540Z"
   },
   {
    "duration": 13,
    "start_time": "2024-07-15T23:32:44.350Z"
   },
   {
    "duration": 20,
    "start_time": "2024-07-15T23:32:44.364Z"
   },
   {
    "duration": 1417,
    "start_time": "2024-07-15T23:32:44.386Z"
   },
   {
    "duration": 180,
    "start_time": "2024-07-15T23:32:45.804Z"
   },
   {
    "duration": 888845,
    "start_time": "2024-07-15T23:32:45.986Z"
   },
   {
    "duration": 25,
    "start_time": "2024-07-15T23:47:34.833Z"
   },
   {
    "duration": 233,
    "start_time": "2024-07-15T23:47:34.859Z"
   },
   {
    "duration": 3,
    "start_time": "2024-07-15T23:47:35.093Z"
   },
   {
    "duration": 94,
    "start_time": "2024-07-15T23:47:35.097Z"
   },
   {
    "duration": 8,
    "start_time": "2024-07-15T23:47:35.192Z"
   },
   {
    "duration": 5890,
    "start_time": "2024-07-15T23:47:35.201Z"
   },
   {
    "duration": 3,
    "start_time": "2024-07-15T23:47:41.093Z"
   },
   {
    "duration": 102993,
    "start_time": "2024-07-15T23:47:41.098Z"
   },
   {
    "duration": 4022,
    "start_time": "2024-07-16T07:39:51.960Z"
   },
   {
    "duration": 3724,
    "start_time": "2024-07-16T07:39:55.983Z"
   },
   {
    "duration": 14,
    "start_time": "2024-07-16T07:39:59.708Z"
   },
   {
    "duration": 5,
    "start_time": "2024-07-16T07:39:59.724Z"
   },
   {
    "duration": 1511,
    "start_time": "2024-07-16T07:39:59.730Z"
   },
   {
    "duration": 221,
    "start_time": "2024-07-16T07:40:01.243Z"
   },
   {
    "duration": 952952,
    "start_time": "2024-07-16T07:40:01.466Z"
   },
   {
    "duration": 29,
    "start_time": "2024-07-16T07:55:54.420Z"
   },
   {
    "duration": 170,
    "start_time": "2024-07-16T07:55:54.452Z"
   },
   {
    "duration": 3,
    "start_time": "2024-07-16T07:55:54.624Z"
   },
   {
    "duration": 108,
    "start_time": "2024-07-16T07:55:54.628Z"
   },
   {
    "duration": 8,
    "start_time": "2024-07-16T07:55:54.737Z"
   },
   {
    "duration": 6131,
    "start_time": "2024-07-16T07:55:54.747Z"
   },
   {
    "duration": 3,
    "start_time": "2024-07-16T07:56:00.881Z"
   },
   {
    "duration": 116304,
    "start_time": "2024-07-16T07:56:00.886Z"
   },
   {
    "duration": 4867136,
    "start_time": "2024-07-16T07:57:57.195Z"
   },
   {
    "duration": 28590,
    "start_time": "2024-07-16T09:19:04.333Z"
   }
  ],
  "kernelspec": {
   "display_name": "Python 3 (ipykernel)",
   "language": "python",
   "name": "python3"
  },
  "language_info": {
   "codemirror_mode": {
    "name": "ipython",
    "version": 3
   },
   "file_extension": ".py",
   "mimetype": "text/x-python",
   "name": "python",
   "nbconvert_exporter": "python",
   "pygments_lexer": "ipython3",
   "version": "3.11.5"
  },
  "toc": {
   "base_numbering": 1,
   "nav_menu": {},
   "number_sections": true,
   "sideBar": true,
   "skip_h1_title": true,
   "title_cell": "Содержание",
   "title_sidebar": "Contents",
   "toc_cell": true,
   "toc_position": {
    "height": "calc(100% - 180px)",
    "left": "10px",
    "top": "150px",
    "width": "201.788px"
   },
   "toc_section_display": true,
   "toc_window_display": true
  }
 },
 "nbformat": 4,
 "nbformat_minor": 2
}
