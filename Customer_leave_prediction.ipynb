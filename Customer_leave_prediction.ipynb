{
 "cells": [
  {
   "cell_type": "markdown",
   "id": "bfca60c8",
   "metadata": {},
   "source": [
    "Project Description\n",
    "\n",
    "The telecommunications operator wants to combat customer churn. To do this, their staff will start offering promo codes and special conditions to those who plan to discontinue their services. To proactively identify such users, \"TeleDom\" needs a model that will predict whether a subscriber will terminate their contract. The operator's team has gathered personal data about some clients, as well as information about their tariffs and services. Your task is to train a model on this data to predict customer churn."
   ]
  },
  {
   "cell_type": "code",
   "execution_count": 1,
   "id": "978ac7f2",
   "metadata": {},
   "outputs": [
    {
     "name": "stdout",
     "output_type": "stream",
     "text": [
      "Collecting phik\n",
      "  Downloading phik-0.12.4-cp39-cp39-manylinux_2_17_x86_64.manylinux2014_x86_64.whl (686 kB)\n",
      "\u001b[K     |████████████████████████████████| 686 kB 1.3 MB/s eta 0:00:01\n",
      "\u001b[?25hRequirement already satisfied: scipy>=1.5.2 in /opt/conda/lib/python3.9/site-packages (from phik) (1.9.1)\n",
      "Requirement already satisfied: pandas>=0.25.1 in /opt/conda/lib/python3.9/site-packages (from phik) (1.2.4)\n",
      "Requirement already satisfied: matplotlib>=2.2.3 in /opt/conda/lib/python3.9/site-packages (from phik) (3.3.4)\n",
      "Requirement already satisfied: joblib>=0.14.1 in /opt/conda/lib/python3.9/site-packages (from phik) (1.1.0)\n",
      "Requirement already satisfied: numpy>=1.18.0 in /opt/conda/lib/python3.9/site-packages (from phik) (1.21.1)\n",
      "Requirement already satisfied: python-dateutil>=2.1 in /opt/conda/lib/python3.9/site-packages (from matplotlib>=2.2.3->phik) (2.8.1)\n",
      "Requirement already satisfied: pillow>=6.2.0 in /opt/conda/lib/python3.9/site-packages (from matplotlib>=2.2.3->phik) (8.4.0)\n",
      "Requirement already satisfied: cycler>=0.10 in /opt/conda/lib/python3.9/site-packages (from matplotlib>=2.2.3->phik) (0.11.0)\n",
      "Requirement already satisfied: pyparsing!=2.0.4,!=2.1.2,!=2.1.6,>=2.0.3 in /opt/conda/lib/python3.9/site-packages (from matplotlib>=2.2.3->phik) (2.4.7)\n",
      "Requirement already satisfied: kiwisolver>=1.0.1 in /opt/conda/lib/python3.9/site-packages (from matplotlib>=2.2.3->phik) (1.4.4)\n",
      "Requirement already satisfied: pytz>=2017.3 in /opt/conda/lib/python3.9/site-packages (from pandas>=0.25.1->phik) (2021.1)\n",
      "Requirement already satisfied: six>=1.5 in /opt/conda/lib/python3.9/site-packages (from python-dateutil>=2.1->matplotlib>=2.2.3->phik) (1.16.0)\n",
      "Installing collected packages: phik\n",
      "Successfully installed phik-0.12.4\n"
     ]
    }
   ],
   "source": [
    "import pandas as pd\n",
    "import numpy as np\n",
    "import matplotlib.pyplot as plt\n",
    "import warnings\n",
    "warnings.filterwarnings('ignore')\n",
    "\n",
    "from statsmodels.tsa.seasonal import seasonal_decompose\n",
    "!pip install phik\n",
    "from phik import resources\n",
    "\n",
    "from sklearn.pipeline import Pipeline\n",
    "from sklearn.preprocessing import StandardScaler, OrdinalEncoder, OneHotEncoder\n",
    "from sklearn.impute import SimpleImputer\n",
    "from sklearn.compose import ColumnTransformer\n",
    "from sklearn.preprocessing import MaxAbsScaler\n",
    "import sklearn.metrics as metrics\n",
    "from sklearn.metrics import accuracy_score, confusion_matrix, roc_auc_score\n",
    "from sklearn.model_selection import train_test_split\n",
    "\n",
    "from sklearn.ensemble import RandomForestClassifier\n",
    "from sklearn.model_selection import RandomizedSearchCV\n",
    "from sklearn.model_selection import GridSearchCV\n",
    "from catboost import CatBoostClassifier\n",
    "\n",
    "import seaborn as sns\n",
    "\n",
    "RANDOM_STATE = 120824"
   ]
  },
  {
   "cell_type": "code",
   "execution_count": 2,
   "id": "5754b29d",
   "metadata": {},
   "outputs": [],
   "source": [
    "def get_column_names_from_ColumnTransformer(column_transformer):    \n",
    "    col_name = []\n",
    "    for transformer_in_columns in column_transformer.transformers_:\n",
    "        raw_col_name = transformer_in_columns[2]\n",
    "        if isinstance(transformer_in_columns[1],Pipeline): \n",
    "            transformer = transformer_in_columns[1].steps[-1][1]\n",
    "        else:\n",
    "            transformer = transformer_in_columns[1]\n",
    "        try:\n",
    "            names = transformer.get_feature_names()\n",
    "        except AttributeError: \n",
    "            names = raw_col_name  \n",
    "        \n",
    "        if isinstance(names,np.ndarray):\n",
    "            col_name += names.tolist()\n",
    "        elif isinstance(names,list):\n",
    "            col_name += names    \n",
    "        elif isinstance(names,str):\n",
    "            col_name.append(names)\n",
    "    return col_name"
   ]
  },
  {
   "cell_type": "markdown",
   "id": "f6693970",
   "metadata": {},
   "source": [
    "## Data upload"
   ]
  },
  {
   "cell_type": "markdown",
   "id": "cf0bff8e",
   "metadata": {},
   "source": [
    "The data consists of several files obtained from different sources:\n",
    "\n",
    "contract_new.csv — contract information;\n",
    "\n",
    "personal_new.csv — personal data of the client;\n",
    "\n",
    "internet_new.csv — information about internet services;\n",
    "\n",
    "phone_new.csv — information about telephony services."
   ]
  },
  {
   "cell_type": "code",
   "execution_count": 3,
   "id": "9e9c73b6",
   "metadata": {},
   "outputs": [],
   "source": [
    "contract = pd.read_csv('/datasets/contract_new.csv')\n",
    "personal = pd.read_csv('/datasets/personal_new.csv')\n",
    "internet = pd.read_csv('/datasets/internet_new.csv')\n",
    "phone = pd.read_csv('/datasets/phone_new.csv')"
   ]
  },
  {
   "cell_type": "markdown",
   "id": "dffdc522",
   "metadata": {},
   "source": [
    "### Contract_new"
   ]
  },
  {
   "cell_type": "code",
   "execution_count": 4,
   "id": "d610c25f",
   "metadata": {},
   "outputs": [
    {
     "data": {
      "text/html": [
       "<div>\n",
       "<style scoped>\n",
       "    .dataframe tbody tr th:only-of-type {\n",
       "        vertical-align: middle;\n",
       "    }\n",
       "\n",
       "    .dataframe tbody tr th {\n",
       "        vertical-align: top;\n",
       "    }\n",
       "\n",
       "    .dataframe thead th {\n",
       "        text-align: right;\n",
       "    }\n",
       "</style>\n",
       "<table border=\"1\" class=\"dataframe\">\n",
       "  <thead>\n",
       "    <tr style=\"text-align: right;\">\n",
       "      <th></th>\n",
       "      <th>customerID</th>\n",
       "      <th>BeginDate</th>\n",
       "      <th>EndDate</th>\n",
       "      <th>Type</th>\n",
       "      <th>PaperlessBilling</th>\n",
       "      <th>PaymentMethod</th>\n",
       "      <th>MonthlyCharges</th>\n",
       "      <th>TotalCharges</th>\n",
       "    </tr>\n",
       "  </thead>\n",
       "  <tbody>\n",
       "    <tr>\n",
       "      <th>0</th>\n",
       "      <td>7590-VHVEG</td>\n",
       "      <td>2020-01-01</td>\n",
       "      <td>No</td>\n",
       "      <td>Month-to-month</td>\n",
       "      <td>Yes</td>\n",
       "      <td>Electronic check</td>\n",
       "      <td>29.85</td>\n",
       "      <td>31.04</td>\n",
       "    </tr>\n",
       "    <tr>\n",
       "      <th>1</th>\n",
       "      <td>5575-GNVDE</td>\n",
       "      <td>2017-04-01</td>\n",
       "      <td>No</td>\n",
       "      <td>One year</td>\n",
       "      <td>No</td>\n",
       "      <td>Mailed check</td>\n",
       "      <td>56.95</td>\n",
       "      <td>2071.84</td>\n",
       "    </tr>\n",
       "    <tr>\n",
       "      <th>2</th>\n",
       "      <td>3668-QPYBK</td>\n",
       "      <td>2019-10-01</td>\n",
       "      <td>No</td>\n",
       "      <td>Month-to-month</td>\n",
       "      <td>Yes</td>\n",
       "      <td>Mailed check</td>\n",
       "      <td>53.85</td>\n",
       "      <td>226.17</td>\n",
       "    </tr>\n",
       "    <tr>\n",
       "      <th>3</th>\n",
       "      <td>7795-CFOCW</td>\n",
       "      <td>2016-05-01</td>\n",
       "      <td>No</td>\n",
       "      <td>One year</td>\n",
       "      <td>No</td>\n",
       "      <td>Bank transfer (automatic)</td>\n",
       "      <td>42.30</td>\n",
       "      <td>1960.6</td>\n",
       "    </tr>\n",
       "    <tr>\n",
       "      <th>4</th>\n",
       "      <td>9237-HQITU</td>\n",
       "      <td>2019-09-01</td>\n",
       "      <td>No</td>\n",
       "      <td>Month-to-month</td>\n",
       "      <td>Yes</td>\n",
       "      <td>Electronic check</td>\n",
       "      <td>70.70</td>\n",
       "      <td>353.5</td>\n",
       "    </tr>\n",
       "  </tbody>\n",
       "</table>\n",
       "</div>"
      ],
      "text/plain": [
       "   customerID   BeginDate EndDate            Type PaperlessBilling  \\\n",
       "0  7590-VHVEG  2020-01-01      No  Month-to-month              Yes   \n",
       "1  5575-GNVDE  2017-04-01      No        One year               No   \n",
       "2  3668-QPYBK  2019-10-01      No  Month-to-month              Yes   \n",
       "3  7795-CFOCW  2016-05-01      No        One year               No   \n",
       "4  9237-HQITU  2019-09-01      No  Month-to-month              Yes   \n",
       "\n",
       "               PaymentMethod  MonthlyCharges TotalCharges  \n",
       "0           Electronic check           29.85        31.04  \n",
       "1               Mailed check           56.95      2071.84  \n",
       "2               Mailed check           53.85       226.17  \n",
       "3  Bank transfer (automatic)           42.30       1960.6  \n",
       "4           Electronic check           70.70        353.5  "
      ]
     },
     "execution_count": 4,
     "metadata": {},
     "output_type": "execute_result"
    }
   ],
   "source": [
    "contract.head()"
   ]
  },
  {
   "cell_type": "raw",
   "id": "efcc35e0",
   "metadata": {},
   "source": [
    "rename all colnames using snake_case"
   ]
  },
  {
   "cell_type": "code",
   "execution_count": 5,
   "id": "0561507a",
   "metadata": {},
   "outputs": [],
   "source": [
    "contract.columns = ['customer_id', 'begin_date', 'end_date', 'type', 'paperless_billing',\n",
    "       'payment_method', 'monthly_charges', 'total_charges']"
   ]
  },
  {
   "cell_type": "code",
   "execution_count": 6,
   "id": "4c0f003e",
   "metadata": {},
   "outputs": [
    {
     "name": "stdout",
     "output_type": "stream",
     "text": [
      "<class 'pandas.core.frame.DataFrame'>\n",
      "RangeIndex: 7043 entries, 0 to 7042\n",
      "Data columns (total 8 columns):\n",
      " #   Column             Non-Null Count  Dtype  \n",
      "---  ------             --------------  -----  \n",
      " 0   customer_id        7043 non-null   object \n",
      " 1   begin_date         7043 non-null   object \n",
      " 2   end_date           7043 non-null   object \n",
      " 3   type               7043 non-null   object \n",
      " 4   paperless_billing  7043 non-null   object \n",
      " 5   payment_method     7043 non-null   object \n",
      " 6   monthly_charges    7043 non-null   float64\n",
      " 7   total_charges      7043 non-null   object \n",
      "dtypes: float64(1), object(7)\n",
      "memory usage: 440.3+ KB\n"
     ]
    }
   ],
   "source": [
    "contract.info()"
   ]
  },
  {
   "cell_type": "markdown",
   "id": "bda585bd",
   "metadata": {},
   "source": [
    "We see that some clients started their contracts on the day the data was extracted, so they haven't been charged for services yet. In the future, it would be reasonable to fill these 'gaps' with zero values."
   ]
  },
  {
   "cell_type": "code",
   "execution_count": 7,
   "id": "c5135bc0",
   "metadata": {},
   "outputs": [
    {
     "data": {
      "text/plain": [
       "           11\n",
       "20.45       6\n",
       "101.0       5\n",
       "255.0       4\n",
       "1007.5      4\n",
       "           ..\n",
       "192.5       1\n",
       "4112.35     1\n",
       "557.6       1\n",
       "3089.99     1\n",
       "20.24       1\n",
       "Name: total_charges, Length: 6658, dtype: int64"
      ]
     },
     "execution_count": 7,
     "metadata": {},
     "output_type": "execute_result"
    }
   ],
   "source": [
    "contract['total_charges'].value_counts()"
   ]
  },
  {
   "cell_type": "code",
   "execution_count": 8,
   "id": "822e43b4",
   "metadata": {},
   "outputs": [
    {
     "data": {
      "text/html": [
       "<div>\n",
       "<style scoped>\n",
       "    .dataframe tbody tr th:only-of-type {\n",
       "        vertical-align: middle;\n",
       "    }\n",
       "\n",
       "    .dataframe tbody tr th {\n",
       "        vertical-align: top;\n",
       "    }\n",
       "\n",
       "    .dataframe thead th {\n",
       "        text-align: right;\n",
       "    }\n",
       "</style>\n",
       "<table border=\"1\" class=\"dataframe\">\n",
       "  <thead>\n",
       "    <tr style=\"text-align: right;\">\n",
       "      <th></th>\n",
       "      <th>customer_id</th>\n",
       "      <th>begin_date</th>\n",
       "      <th>end_date</th>\n",
       "      <th>type</th>\n",
       "      <th>paperless_billing</th>\n",
       "      <th>payment_method</th>\n",
       "      <th>monthly_charges</th>\n",
       "      <th>total_charges</th>\n",
       "    </tr>\n",
       "  </thead>\n",
       "  <tbody>\n",
       "    <tr>\n",
       "      <th>488</th>\n",
       "      <td>4472-LVYGI</td>\n",
       "      <td>2020-02-01</td>\n",
       "      <td>No</td>\n",
       "      <td>Two year</td>\n",
       "      <td>Yes</td>\n",
       "      <td>Bank transfer (automatic)</td>\n",
       "      <td>52.55</td>\n",
       "      <td></td>\n",
       "    </tr>\n",
       "    <tr>\n",
       "      <th>753</th>\n",
       "      <td>3115-CZMZD</td>\n",
       "      <td>2020-02-01</td>\n",
       "      <td>No</td>\n",
       "      <td>Two year</td>\n",
       "      <td>No</td>\n",
       "      <td>Mailed check</td>\n",
       "      <td>20.25</td>\n",
       "      <td></td>\n",
       "    </tr>\n",
       "    <tr>\n",
       "      <th>936</th>\n",
       "      <td>5709-LVOEQ</td>\n",
       "      <td>2020-02-01</td>\n",
       "      <td>No</td>\n",
       "      <td>Two year</td>\n",
       "      <td>No</td>\n",
       "      <td>Mailed check</td>\n",
       "      <td>80.85</td>\n",
       "      <td></td>\n",
       "    </tr>\n",
       "    <tr>\n",
       "      <th>1082</th>\n",
       "      <td>4367-NUYAO</td>\n",
       "      <td>2020-02-01</td>\n",
       "      <td>No</td>\n",
       "      <td>Two year</td>\n",
       "      <td>No</td>\n",
       "      <td>Mailed check</td>\n",
       "      <td>25.75</td>\n",
       "      <td></td>\n",
       "    </tr>\n",
       "    <tr>\n",
       "      <th>1340</th>\n",
       "      <td>1371-DWPAZ</td>\n",
       "      <td>2020-02-01</td>\n",
       "      <td>No</td>\n",
       "      <td>Two year</td>\n",
       "      <td>No</td>\n",
       "      <td>Credit card (automatic)</td>\n",
       "      <td>56.05</td>\n",
       "      <td></td>\n",
       "    </tr>\n",
       "    <tr>\n",
       "      <th>3331</th>\n",
       "      <td>7644-OMVMY</td>\n",
       "      <td>2020-02-01</td>\n",
       "      <td>No</td>\n",
       "      <td>Two year</td>\n",
       "      <td>No</td>\n",
       "      <td>Mailed check</td>\n",
       "      <td>19.85</td>\n",
       "      <td></td>\n",
       "    </tr>\n",
       "    <tr>\n",
       "      <th>3826</th>\n",
       "      <td>3213-VVOLG</td>\n",
       "      <td>2020-02-01</td>\n",
       "      <td>No</td>\n",
       "      <td>Two year</td>\n",
       "      <td>No</td>\n",
       "      <td>Mailed check</td>\n",
       "      <td>25.35</td>\n",
       "      <td></td>\n",
       "    </tr>\n",
       "    <tr>\n",
       "      <th>4380</th>\n",
       "      <td>2520-SGTTA</td>\n",
       "      <td>2020-02-01</td>\n",
       "      <td>No</td>\n",
       "      <td>Two year</td>\n",
       "      <td>No</td>\n",
       "      <td>Mailed check</td>\n",
       "      <td>20.00</td>\n",
       "      <td></td>\n",
       "    </tr>\n",
       "    <tr>\n",
       "      <th>5218</th>\n",
       "      <td>2923-ARZLG</td>\n",
       "      <td>2020-02-01</td>\n",
       "      <td>No</td>\n",
       "      <td>One year</td>\n",
       "      <td>Yes</td>\n",
       "      <td>Mailed check</td>\n",
       "      <td>19.70</td>\n",
       "      <td></td>\n",
       "    </tr>\n",
       "    <tr>\n",
       "      <th>6670</th>\n",
       "      <td>4075-WKNIU</td>\n",
       "      <td>2020-02-01</td>\n",
       "      <td>No</td>\n",
       "      <td>Two year</td>\n",
       "      <td>No</td>\n",
       "      <td>Mailed check</td>\n",
       "      <td>73.35</td>\n",
       "      <td></td>\n",
       "    </tr>\n",
       "    <tr>\n",
       "      <th>6754</th>\n",
       "      <td>2775-SEFEE</td>\n",
       "      <td>2020-02-01</td>\n",
       "      <td>No</td>\n",
       "      <td>Two year</td>\n",
       "      <td>Yes</td>\n",
       "      <td>Bank transfer (automatic)</td>\n",
       "      <td>61.90</td>\n",
       "      <td></td>\n",
       "    </tr>\n",
       "  </tbody>\n",
       "</table>\n",
       "</div>"
      ],
      "text/plain": [
       "     customer_id  begin_date end_date      type paperless_billing  \\\n",
       "488   4472-LVYGI  2020-02-01       No  Two year               Yes   \n",
       "753   3115-CZMZD  2020-02-01       No  Two year                No   \n",
       "936   5709-LVOEQ  2020-02-01       No  Two year                No   \n",
       "1082  4367-NUYAO  2020-02-01       No  Two year                No   \n",
       "1340  1371-DWPAZ  2020-02-01       No  Two year                No   \n",
       "3331  7644-OMVMY  2020-02-01       No  Two year                No   \n",
       "3826  3213-VVOLG  2020-02-01       No  Two year                No   \n",
       "4380  2520-SGTTA  2020-02-01       No  Two year                No   \n",
       "5218  2923-ARZLG  2020-02-01       No  One year               Yes   \n",
       "6670  4075-WKNIU  2020-02-01       No  Two year                No   \n",
       "6754  2775-SEFEE  2020-02-01       No  Two year               Yes   \n",
       "\n",
       "                 payment_method  monthly_charges total_charges  \n",
       "488   Bank transfer (automatic)            52.55                \n",
       "753                Mailed check            20.25                \n",
       "936                Mailed check            80.85                \n",
       "1082               Mailed check            25.75                \n",
       "1340    Credit card (automatic)            56.05                \n",
       "3331               Mailed check            19.85                \n",
       "3826               Mailed check            25.35                \n",
       "4380               Mailed check            20.00                \n",
       "5218               Mailed check            19.70                \n",
       "6670               Mailed check            73.35                \n",
       "6754  Bank transfer (automatic)            61.90                "
      ]
     },
     "execution_count": 8,
     "metadata": {},
     "output_type": "execute_result"
    }
   ],
   "source": [
    "contract[contract['total_charges'] == ' ']"
   ]
  },
  {
   "cell_type": "markdown",
   "id": "bfcd505d",
   "metadata": {},
   "source": [
    "Let's conduct a brief check: do we only know the dates of contracts that have already ended, or do we have information about customers who will terminate their contracts in the near future?\n",
    "\n",
    "Answer: We only have information about contracts that have already been terminated."
   ]
  },
  {
   "cell_type": "code",
   "execution_count": 9,
   "id": "59f1b3b8",
   "metadata": {},
   "outputs": [
    {
     "name": "stdout",
     "output_type": "stream",
     "text": [
      "years of contract ending: 2019    333\n",
      "2018    285\n",
      "2017    235\n",
      "2016    140\n",
      "2015     62\n",
      "2020     39\n",
      "2014      7\n",
      "Name: end_date, dtype: int64\n",
      "latest date of contract ending: 2020-01-01 00:00:00\n"
     ]
    }
   ],
   "source": [
    "end_date_known = pd.to_datetime(contract['end_date'][contract['end_date'] != 'No'])\n",
    "print(f'years of contract ending: {end_date_known.dt.year.value_counts()}')\n",
    "print(f'latest date of contract ending: {end_date_known.max()}')"
   ]
  },
  {
   "cell_type": "markdown",
   "id": "350967b0",
   "metadata": {},
   "source": [
    "\n",
    "During the initial data review, we will immediately change the data types where it makes sense:\n",
    "\n",
    "Add a variable active_contract: This will store information on whether the client is terminating the contract — this will serve as the target variable for our prediction task.\n",
    "\n",
    "Convert date columns to datetime format, filling missing EndDate values with a placeholder (e.g., a null or default value).\n",
    "\n",
    "Convert TotalCharges to float64 format: We'll fill in zeros for cases where the contract has just started and no charges have been applied yet."
   ]
  },
  {
   "cell_type": "code",
   "execution_count": 10,
   "id": "84a48606",
   "metadata": {},
   "outputs": [],
   "source": [
    "contract['active_contract'] = contract['end_date'] == 'No'\n",
    "contract['begin_date'] = pd.to_datetime(contract['begin_date'])\n",
    "contract['end_date'] = pd.to_datetime(contract['end_date'].replace({'No':'2020-02-01'}))\n",
    "contract['total_charges'] = contract['total_charges'].replace({' ': 0}).astype('float64')"
   ]
  },
  {
   "cell_type": "code",
   "execution_count": null,
   "id": "36b1bd92",
   "metadata": {},
   "outputs": [],
   "source": []
  },
  {
   "cell_type": "code",
   "execution_count": 11,
   "id": "6abd45ea",
   "metadata": {},
   "outputs": [
    {
     "name": "stdout",
     "output_type": "stream",
     "text": [
      "<class 'pandas.core.frame.DataFrame'>\n",
      "RangeIndex: 7043 entries, 0 to 7042\n",
      "Data columns (total 9 columns):\n",
      " #   Column             Non-Null Count  Dtype         \n",
      "---  ------             --------------  -----         \n",
      " 0   customer_id        7043 non-null   object        \n",
      " 1   begin_date         7043 non-null   datetime64[ns]\n",
      " 2   end_date           7043 non-null   datetime64[ns]\n",
      " 3   type               7043 non-null   object        \n",
      " 4   paperless_billing  7043 non-null   object        \n",
      " 5   payment_method     7043 non-null   object        \n",
      " 6   monthly_charges    7043 non-null   float64       \n",
      " 7   total_charges      7043 non-null   float64       \n",
      " 8   active_contract    7043 non-null   bool          \n",
      "dtypes: bool(1), datetime64[ns](2), float64(2), object(4)\n",
      "memory usage: 447.2+ KB\n"
     ]
    }
   ],
   "source": [
    "contract.info()"
   ]
  },
  {
   "cell_type": "markdown",
   "id": "f10db216",
   "metadata": {},
   "source": [
    "### Personal_new"
   ]
  },
  {
   "cell_type": "code",
   "execution_count": 12,
   "id": "54693f15",
   "metadata": {},
   "outputs": [
    {
     "data": {
      "text/html": [
       "<div>\n",
       "<style scoped>\n",
       "    .dataframe tbody tr th:only-of-type {\n",
       "        vertical-align: middle;\n",
       "    }\n",
       "\n",
       "    .dataframe tbody tr th {\n",
       "        vertical-align: top;\n",
       "    }\n",
       "\n",
       "    .dataframe thead th {\n",
       "        text-align: right;\n",
       "    }\n",
       "</style>\n",
       "<table border=\"1\" class=\"dataframe\">\n",
       "  <thead>\n",
       "    <tr style=\"text-align: right;\">\n",
       "      <th></th>\n",
       "      <th>customerID</th>\n",
       "      <th>gender</th>\n",
       "      <th>SeniorCitizen</th>\n",
       "      <th>Partner</th>\n",
       "      <th>Dependents</th>\n",
       "    </tr>\n",
       "  </thead>\n",
       "  <tbody>\n",
       "    <tr>\n",
       "      <th>0</th>\n",
       "      <td>7590-VHVEG</td>\n",
       "      <td>Female</td>\n",
       "      <td>0</td>\n",
       "      <td>Yes</td>\n",
       "      <td>No</td>\n",
       "    </tr>\n",
       "    <tr>\n",
       "      <th>1</th>\n",
       "      <td>5575-GNVDE</td>\n",
       "      <td>Male</td>\n",
       "      <td>0</td>\n",
       "      <td>No</td>\n",
       "      <td>No</td>\n",
       "    </tr>\n",
       "    <tr>\n",
       "      <th>2</th>\n",
       "      <td>3668-QPYBK</td>\n",
       "      <td>Male</td>\n",
       "      <td>0</td>\n",
       "      <td>No</td>\n",
       "      <td>No</td>\n",
       "    </tr>\n",
       "    <tr>\n",
       "      <th>3</th>\n",
       "      <td>7795-CFOCW</td>\n",
       "      <td>Male</td>\n",
       "      <td>0</td>\n",
       "      <td>No</td>\n",
       "      <td>No</td>\n",
       "    </tr>\n",
       "    <tr>\n",
       "      <th>4</th>\n",
       "      <td>9237-HQITU</td>\n",
       "      <td>Female</td>\n",
       "      <td>0</td>\n",
       "      <td>No</td>\n",
       "      <td>No</td>\n",
       "    </tr>\n",
       "  </tbody>\n",
       "</table>\n",
       "</div>"
      ],
      "text/plain": [
       "   customerID  gender  SeniorCitizen Partner Dependents\n",
       "0  7590-VHVEG  Female              0     Yes         No\n",
       "1  5575-GNVDE    Male              0      No         No\n",
       "2  3668-QPYBK    Male              0      No         No\n",
       "3  7795-CFOCW    Male              0      No         No\n",
       "4  9237-HQITU  Female              0      No         No"
      ]
     },
     "execution_count": 12,
     "metadata": {},
     "output_type": "execute_result"
    }
   ],
   "source": [
    "personal.head()"
   ]
  },
  {
   "cell_type": "code",
   "execution_count": 13,
   "id": "498581cd",
   "metadata": {},
   "outputs": [],
   "source": [
    "personal.columns = ['customer_id', 'gender', 'senior_citizen', 'partner', 'dependents']"
   ]
  },
  {
   "cell_type": "code",
   "execution_count": 14,
   "id": "80bce57b",
   "metadata": {},
   "outputs": [
    {
     "name": "stdout",
     "output_type": "stream",
     "text": [
      "<class 'pandas.core.frame.DataFrame'>\n",
      "RangeIndex: 7043 entries, 0 to 7042\n",
      "Data columns (total 5 columns):\n",
      " #   Column          Non-Null Count  Dtype \n",
      "---  ------          --------------  ----- \n",
      " 0   customer_id     7043 non-null   object\n",
      " 1   gender          7043 non-null   object\n",
      " 2   senior_citizen  7043 non-null   int64 \n",
      " 3   partner         7043 non-null   object\n",
      " 4   dependents      7043 non-null   object\n",
      "dtypes: int64(1), object(4)\n",
      "memory usage: 275.2+ KB\n"
     ]
    }
   ],
   "source": [
    "personal.info()"
   ]
  },
  {
   "cell_type": "markdown",
   "id": "dab5a45f",
   "metadata": {},
   "source": [
    "In this dataframe, there is no need to change the data formats. The only adjustment I would make is to verify that all CustomerID values match with the CustomerID in the contracts dataframe and change the data type of the senior_citizen column."
   ]
  },
  {
   "cell_type": "code",
   "execution_count": 15,
   "id": "a2baf218",
   "metadata": {},
   "outputs": [
    {
     "data": {
      "text/plain": [
       "set()"
      ]
     },
     "execution_count": 15,
     "metadata": {},
     "output_type": "execute_result"
    }
   ],
   "source": [
    "set(personal['customer_id']).symmetric_difference(set(contract['customer_id']))"
   ]
  },
  {
   "cell_type": "code",
   "execution_count": 16,
   "id": "f94fe0bb",
   "metadata": {},
   "outputs": [],
   "source": [
    "personal['senior_citizen'] = personal['senior_citizen'].astype('bool')"
   ]
  },
  {
   "cell_type": "code",
   "execution_count": 17,
   "id": "435465cd",
   "metadata": {},
   "outputs": [
    {
     "name": "stdout",
     "output_type": "stream",
     "text": [
      "<class 'pandas.core.frame.DataFrame'>\n",
      "RangeIndex: 7043 entries, 0 to 7042\n",
      "Data columns (total 5 columns):\n",
      " #   Column          Non-Null Count  Dtype \n",
      "---  ------          --------------  ----- \n",
      " 0   customer_id     7043 non-null   object\n",
      " 1   gender          7043 non-null   object\n",
      " 2   senior_citizen  7043 non-null   bool  \n",
      " 3   partner         7043 non-null   object\n",
      " 4   dependents      7043 non-null   object\n",
      "dtypes: bool(1), object(4)\n",
      "memory usage: 227.1+ KB\n"
     ]
    }
   ],
   "source": [
    "personal.info()"
   ]
  },
  {
   "cell_type": "code",
   "execution_count": 18,
   "id": "9047bde8",
   "metadata": {},
   "outputs": [
    {
     "data": {
      "text/html": [
       "<div>\n",
       "<style scoped>\n",
       "    .dataframe tbody tr th:only-of-type {\n",
       "        vertical-align: middle;\n",
       "    }\n",
       "\n",
       "    .dataframe tbody tr th {\n",
       "        vertical-align: top;\n",
       "    }\n",
       "\n",
       "    .dataframe thead th {\n",
       "        text-align: right;\n",
       "    }\n",
       "</style>\n",
       "<table border=\"1\" class=\"dataframe\">\n",
       "  <thead>\n",
       "    <tr style=\"text-align: right;\">\n",
       "      <th></th>\n",
       "      <th>customer_id</th>\n",
       "      <th>gender</th>\n",
       "      <th>senior_citizen</th>\n",
       "      <th>partner</th>\n",
       "      <th>dependents</th>\n",
       "    </tr>\n",
       "  </thead>\n",
       "  <tbody>\n",
       "    <tr>\n",
       "      <th>0</th>\n",
       "      <td>7590-VHVEG</td>\n",
       "      <td>Female</td>\n",
       "      <td>False</td>\n",
       "      <td>Yes</td>\n",
       "      <td>No</td>\n",
       "    </tr>\n",
       "    <tr>\n",
       "      <th>1</th>\n",
       "      <td>5575-GNVDE</td>\n",
       "      <td>Male</td>\n",
       "      <td>False</td>\n",
       "      <td>No</td>\n",
       "      <td>No</td>\n",
       "    </tr>\n",
       "    <tr>\n",
       "      <th>2</th>\n",
       "      <td>3668-QPYBK</td>\n",
       "      <td>Male</td>\n",
       "      <td>False</td>\n",
       "      <td>No</td>\n",
       "      <td>No</td>\n",
       "    </tr>\n",
       "    <tr>\n",
       "      <th>3</th>\n",
       "      <td>7795-CFOCW</td>\n",
       "      <td>Male</td>\n",
       "      <td>False</td>\n",
       "      <td>No</td>\n",
       "      <td>No</td>\n",
       "    </tr>\n",
       "    <tr>\n",
       "      <th>4</th>\n",
       "      <td>9237-HQITU</td>\n",
       "      <td>Female</td>\n",
       "      <td>False</td>\n",
       "      <td>No</td>\n",
       "      <td>No</td>\n",
       "    </tr>\n",
       "  </tbody>\n",
       "</table>\n",
       "</div>"
      ],
      "text/plain": [
       "  customer_id  gender  senior_citizen partner dependents\n",
       "0  7590-VHVEG  Female           False     Yes         No\n",
       "1  5575-GNVDE    Male           False      No         No\n",
       "2  3668-QPYBK    Male           False      No         No\n",
       "3  7795-CFOCW    Male           False      No         No\n",
       "4  9237-HQITU  Female           False      No         No"
      ]
     },
     "execution_count": 18,
     "metadata": {},
     "output_type": "execute_result"
    }
   ],
   "source": [
    "personal.head()"
   ]
  },
  {
   "cell_type": "markdown",
   "id": "59ff8794",
   "metadata": {},
   "source": [
    "### Internet_new"
   ]
  },
  {
   "cell_type": "code",
   "execution_count": 19,
   "id": "472b9bb2",
   "metadata": {},
   "outputs": [
    {
     "data": {
      "text/html": [
       "<div>\n",
       "<style scoped>\n",
       "    .dataframe tbody tr th:only-of-type {\n",
       "        vertical-align: middle;\n",
       "    }\n",
       "\n",
       "    .dataframe tbody tr th {\n",
       "        vertical-align: top;\n",
       "    }\n",
       "\n",
       "    .dataframe thead th {\n",
       "        text-align: right;\n",
       "    }\n",
       "</style>\n",
       "<table border=\"1\" class=\"dataframe\">\n",
       "  <thead>\n",
       "    <tr style=\"text-align: right;\">\n",
       "      <th></th>\n",
       "      <th>customerID</th>\n",
       "      <th>InternetService</th>\n",
       "      <th>OnlineSecurity</th>\n",
       "      <th>OnlineBackup</th>\n",
       "      <th>DeviceProtection</th>\n",
       "      <th>TechSupport</th>\n",
       "      <th>StreamingTV</th>\n",
       "      <th>StreamingMovies</th>\n",
       "    </tr>\n",
       "  </thead>\n",
       "  <tbody>\n",
       "    <tr>\n",
       "      <th>0</th>\n",
       "      <td>7590-VHVEG</td>\n",
       "      <td>DSL</td>\n",
       "      <td>No</td>\n",
       "      <td>Yes</td>\n",
       "      <td>No</td>\n",
       "      <td>No</td>\n",
       "      <td>No</td>\n",
       "      <td>No</td>\n",
       "    </tr>\n",
       "    <tr>\n",
       "      <th>1</th>\n",
       "      <td>5575-GNVDE</td>\n",
       "      <td>DSL</td>\n",
       "      <td>Yes</td>\n",
       "      <td>No</td>\n",
       "      <td>Yes</td>\n",
       "      <td>No</td>\n",
       "      <td>No</td>\n",
       "      <td>No</td>\n",
       "    </tr>\n",
       "    <tr>\n",
       "      <th>2</th>\n",
       "      <td>3668-QPYBK</td>\n",
       "      <td>DSL</td>\n",
       "      <td>Yes</td>\n",
       "      <td>Yes</td>\n",
       "      <td>No</td>\n",
       "      <td>No</td>\n",
       "      <td>No</td>\n",
       "      <td>No</td>\n",
       "    </tr>\n",
       "    <tr>\n",
       "      <th>3</th>\n",
       "      <td>7795-CFOCW</td>\n",
       "      <td>DSL</td>\n",
       "      <td>Yes</td>\n",
       "      <td>No</td>\n",
       "      <td>Yes</td>\n",
       "      <td>Yes</td>\n",
       "      <td>No</td>\n",
       "      <td>No</td>\n",
       "    </tr>\n",
       "    <tr>\n",
       "      <th>4</th>\n",
       "      <td>9237-HQITU</td>\n",
       "      <td>Fiber optic</td>\n",
       "      <td>No</td>\n",
       "      <td>No</td>\n",
       "      <td>No</td>\n",
       "      <td>No</td>\n",
       "      <td>No</td>\n",
       "      <td>No</td>\n",
       "    </tr>\n",
       "  </tbody>\n",
       "</table>\n",
       "</div>"
      ],
      "text/plain": [
       "   customerID InternetService OnlineSecurity OnlineBackup DeviceProtection  \\\n",
       "0  7590-VHVEG             DSL             No          Yes               No   \n",
       "1  5575-GNVDE             DSL            Yes           No              Yes   \n",
       "2  3668-QPYBK             DSL            Yes          Yes               No   \n",
       "3  7795-CFOCW             DSL            Yes           No              Yes   \n",
       "4  9237-HQITU     Fiber optic             No           No               No   \n",
       "\n",
       "  TechSupport StreamingTV StreamingMovies  \n",
       "0          No          No              No  \n",
       "1          No          No              No  \n",
       "2          No          No              No  \n",
       "3         Yes          No              No  \n",
       "4          No          No              No  "
      ]
     },
     "execution_count": 19,
     "metadata": {},
     "output_type": "execute_result"
    }
   ],
   "source": [
    "internet.head()"
   ]
  },
  {
   "cell_type": "code",
   "execution_count": 20,
   "id": "95aa64ea",
   "metadata": {},
   "outputs": [],
   "source": [
    "internet.columns = ['customer_id', 'internet_service', 'online_security', 'online_backup',\n",
    "       'device_protection', 'tech_support', 'streaming_tv', 'streaming_movies']"
   ]
  },
  {
   "cell_type": "code",
   "execution_count": 21,
   "id": "1848de65",
   "metadata": {},
   "outputs": [
    {
     "name": "stdout",
     "output_type": "stream",
     "text": [
      "<class 'pandas.core.frame.DataFrame'>\n",
      "RangeIndex: 5517 entries, 0 to 5516\n",
      "Data columns (total 8 columns):\n",
      " #   Column             Non-Null Count  Dtype \n",
      "---  ------             --------------  ----- \n",
      " 0   customer_id        5517 non-null   object\n",
      " 1   internet_service   5517 non-null   object\n",
      " 2   online_security    5517 non-null   object\n",
      " 3   online_backup      5517 non-null   object\n",
      " 4   device_protection  5517 non-null   object\n",
      " 5   tech_support       5517 non-null   object\n",
      " 6   streaming_tv       5517 non-null   object\n",
      " 7   streaming_movies   5517 non-null   object\n",
      "dtypes: object(8)\n",
      "memory usage: 344.9+ KB\n"
     ]
    }
   ],
   "source": [
    "internet.info()"
   ]
  },
  {
   "cell_type": "markdown",
   "id": "3d92d663",
   "metadata": {},
   "source": [
    "Data format in this df suits our task."
   ]
  },
  {
   "cell_type": "markdown",
   "id": "e9869da8",
   "metadata": {},
   "source": [
    "### Phone_new"
   ]
  },
  {
   "cell_type": "code",
   "execution_count": 22,
   "id": "e634a9d9",
   "metadata": {},
   "outputs": [
    {
     "data": {
      "text/html": [
       "<div>\n",
       "<style scoped>\n",
       "    .dataframe tbody tr th:only-of-type {\n",
       "        vertical-align: middle;\n",
       "    }\n",
       "\n",
       "    .dataframe tbody tr th {\n",
       "        vertical-align: top;\n",
       "    }\n",
       "\n",
       "    .dataframe thead th {\n",
       "        text-align: right;\n",
       "    }\n",
       "</style>\n",
       "<table border=\"1\" class=\"dataframe\">\n",
       "  <thead>\n",
       "    <tr style=\"text-align: right;\">\n",
       "      <th></th>\n",
       "      <th>customerID</th>\n",
       "      <th>MultipleLines</th>\n",
       "    </tr>\n",
       "  </thead>\n",
       "  <tbody>\n",
       "    <tr>\n",
       "      <th>0</th>\n",
       "      <td>5575-GNVDE</td>\n",
       "      <td>No</td>\n",
       "    </tr>\n",
       "    <tr>\n",
       "      <th>1</th>\n",
       "      <td>3668-QPYBK</td>\n",
       "      <td>No</td>\n",
       "    </tr>\n",
       "    <tr>\n",
       "      <th>2</th>\n",
       "      <td>9237-HQITU</td>\n",
       "      <td>No</td>\n",
       "    </tr>\n",
       "    <tr>\n",
       "      <th>3</th>\n",
       "      <td>9305-CDSKC</td>\n",
       "      <td>Yes</td>\n",
       "    </tr>\n",
       "    <tr>\n",
       "      <th>4</th>\n",
       "      <td>1452-KIOVK</td>\n",
       "      <td>Yes</td>\n",
       "    </tr>\n",
       "  </tbody>\n",
       "</table>\n",
       "</div>"
      ],
      "text/plain": [
       "   customerID MultipleLines\n",
       "0  5575-GNVDE            No\n",
       "1  3668-QPYBK            No\n",
       "2  9237-HQITU            No\n",
       "3  9305-CDSKC           Yes\n",
       "4  1452-KIOVK           Yes"
      ]
     },
     "execution_count": 22,
     "metadata": {},
     "output_type": "execute_result"
    }
   ],
   "source": [
    "phone.head()"
   ]
  },
  {
   "cell_type": "code",
   "execution_count": 23,
   "id": "87e8d369",
   "metadata": {},
   "outputs": [],
   "source": [
    "phone.columns = ['customer_id', 'multiple_lines']"
   ]
  },
  {
   "cell_type": "code",
   "execution_count": 24,
   "id": "8e97b4f7",
   "metadata": {},
   "outputs": [
    {
     "name": "stdout",
     "output_type": "stream",
     "text": [
      "<class 'pandas.core.frame.DataFrame'>\n",
      "RangeIndex: 6361 entries, 0 to 6360\n",
      "Data columns (total 2 columns):\n",
      " #   Column          Non-Null Count  Dtype \n",
      "---  ------          --------------  ----- \n",
      " 0   customer_id     6361 non-null   object\n",
      " 1   multiple_lines  6361 non-null   object\n",
      "dtypes: object(2)\n",
      "memory usage: 99.5+ KB\n"
     ]
    }
   ],
   "source": [
    "phone.info()"
   ]
  },
  {
   "cell_type": "markdown",
   "id": "73872609",
   "metadata": {},
   "source": [
    "Data format in this df suits our task."
   ]
  },
  {
   "cell_type": "markdown",
   "id": "8f3e8719",
   "metadata": {},
   "source": [
    "Conclusion: Overall, the data is very user-friendly — there are no missing values, and the customer_id format is consistent across all dataframes. The only necessary adjustments at this stage were to change the format of certain data and rename columns for easier future processing."
   ]
  },
  {
   "cell_type": "markdown",
   "id": "eef29124",
   "metadata": {},
   "source": [
    "## Data preprocessing and exploratory data analysis"
   ]
  },
  {
   "cell_type": "markdown",
   "id": "9cef8ece",
   "metadata": {},
   "source": [
    "### Contract_new"
   ]
  },
  {
   "cell_type": "code",
   "execution_count": 25,
   "id": "494f8798",
   "metadata": {},
   "outputs": [
    {
     "data": {
      "text/html": [
       "<div>\n",
       "<style scoped>\n",
       "    .dataframe tbody tr th:only-of-type {\n",
       "        vertical-align: middle;\n",
       "    }\n",
       "\n",
       "    .dataframe tbody tr th {\n",
       "        vertical-align: top;\n",
       "    }\n",
       "\n",
       "    .dataframe thead th {\n",
       "        text-align: right;\n",
       "    }\n",
       "</style>\n",
       "<table border=\"1\" class=\"dataframe\">\n",
       "  <thead>\n",
       "    <tr style=\"text-align: right;\">\n",
       "      <th></th>\n",
       "      <th>customer_id</th>\n",
       "      <th>begin_date</th>\n",
       "      <th>end_date</th>\n",
       "      <th>type</th>\n",
       "      <th>paperless_billing</th>\n",
       "      <th>payment_method</th>\n",
       "      <th>monthly_charges</th>\n",
       "      <th>total_charges</th>\n",
       "      <th>active_contract</th>\n",
       "    </tr>\n",
       "  </thead>\n",
       "  <tbody>\n",
       "    <tr>\n",
       "      <th>0</th>\n",
       "      <td>7590-VHVEG</td>\n",
       "      <td>2020-01-01</td>\n",
       "      <td>2020-02-01</td>\n",
       "      <td>Month-to-month</td>\n",
       "      <td>Yes</td>\n",
       "      <td>Electronic check</td>\n",
       "      <td>29.85</td>\n",
       "      <td>31.04</td>\n",
       "      <td>True</td>\n",
       "    </tr>\n",
       "    <tr>\n",
       "      <th>1</th>\n",
       "      <td>5575-GNVDE</td>\n",
       "      <td>2017-04-01</td>\n",
       "      <td>2020-02-01</td>\n",
       "      <td>One year</td>\n",
       "      <td>No</td>\n",
       "      <td>Mailed check</td>\n",
       "      <td>56.95</td>\n",
       "      <td>2071.84</td>\n",
       "      <td>True</td>\n",
       "    </tr>\n",
       "    <tr>\n",
       "      <th>2</th>\n",
       "      <td>3668-QPYBK</td>\n",
       "      <td>2019-10-01</td>\n",
       "      <td>2020-02-01</td>\n",
       "      <td>Month-to-month</td>\n",
       "      <td>Yes</td>\n",
       "      <td>Mailed check</td>\n",
       "      <td>53.85</td>\n",
       "      <td>226.17</td>\n",
       "      <td>True</td>\n",
       "    </tr>\n",
       "    <tr>\n",
       "      <th>3</th>\n",
       "      <td>7795-CFOCW</td>\n",
       "      <td>2016-05-01</td>\n",
       "      <td>2020-02-01</td>\n",
       "      <td>One year</td>\n",
       "      <td>No</td>\n",
       "      <td>Bank transfer (automatic)</td>\n",
       "      <td>42.30</td>\n",
       "      <td>1960.60</td>\n",
       "      <td>True</td>\n",
       "    </tr>\n",
       "    <tr>\n",
       "      <th>4</th>\n",
       "      <td>9237-HQITU</td>\n",
       "      <td>2019-09-01</td>\n",
       "      <td>2020-02-01</td>\n",
       "      <td>Month-to-month</td>\n",
       "      <td>Yes</td>\n",
       "      <td>Electronic check</td>\n",
       "      <td>70.70</td>\n",
       "      <td>353.50</td>\n",
       "      <td>True</td>\n",
       "    </tr>\n",
       "  </tbody>\n",
       "</table>\n",
       "</div>"
      ],
      "text/plain": [
       "  customer_id begin_date   end_date            type paperless_billing  \\\n",
       "0  7590-VHVEG 2020-01-01 2020-02-01  Month-to-month               Yes   \n",
       "1  5575-GNVDE 2017-04-01 2020-02-01        One year                No   \n",
       "2  3668-QPYBK 2019-10-01 2020-02-01  Month-to-month               Yes   \n",
       "3  7795-CFOCW 2016-05-01 2020-02-01        One year                No   \n",
       "4  9237-HQITU 2019-09-01 2020-02-01  Month-to-month               Yes   \n",
       "\n",
       "              payment_method  monthly_charges  total_charges  active_contract  \n",
       "0           Electronic check            29.85          31.04             True  \n",
       "1               Mailed check            56.95        2071.84             True  \n",
       "2               Mailed check            53.85         226.17             True  \n",
       "3  Bank transfer (automatic)            42.30        1960.60             True  \n",
       "4           Electronic check            70.70         353.50             True  "
      ]
     },
     "execution_count": 25,
     "metadata": {},
     "output_type": "execute_result"
    }
   ],
   "source": [
    "contract.head()"
   ]
  },
  {
   "cell_type": "code",
   "execution_count": 26,
   "id": "6e1bba03",
   "metadata": {},
   "outputs": [],
   "source": [
    "numeric_columns = ['monthly_charges', 'total_charges']\n",
    "cat_columns = ['type', 'paperless_billing', 'payment_method', 'active_contract']"
   ]
  },
  {
   "cell_type": "code",
   "execution_count": 27,
   "id": "e28c9288",
   "metadata": {},
   "outputs": [
    {
     "data": {
      "image/png": "[encoded data removed]",
      "text/plain": [
       "<Figure size 432x288 with 1 Axes>"
      ]
     },
     "metadata": {
      "needs_background": "light"
     },
     "output_type": "display_data"
    },
    {
     "data": {
      "image/png": "[encoded data removed]",
      "text/plain": [
       "<Figure size 432x288 with 1 Axes>"
      ]
     },
     "metadata": {
      "needs_background": "light"
     },
     "output_type": "display_data"
    }
   ],
   "source": [
    "for i in numeric_columns:\n",
    "    plt.hist(contract[i], bins=100)\n",
    "    plt.title(i)\n",
    "    plt.xlabel(i)\n",
    "    plt.ylabel('n')\n",
    "    plt.show()"
   ]
  },
  {
   "cell_type": "markdown",
   "id": "b50fa82c",
   "metadata": {},
   "source": [
    "We note the bimodality in the distribution of monthly payments (with a peak around 20 and a more gradual peak around 80). Additionally, there's a tendency for charges to be rounded (observations tend to cluster around multiples of tens and fives, with local peaks at 70, 75, and 80)."
   ]
  },
  {
   "cell_type": "code",
   "execution_count": 28,
   "id": "36c1acc3",
   "metadata": {},
   "outputs": [
    {
     "data": {
      "image/png": "[encoded data removed]",
      "text/plain": [
       "<Figure size 432x288 with 1 Axes>"
      ]
     },
     "metadata": {
      "needs_background": "light"
     },
     "output_type": "display_data"
    },
    {
     "data": {
      "image/png": "[encoded data removed]",
      "text/plain": [
       "<Figure size 432x288 with 1 Axes>"
      ]
     },
     "metadata": {
      "needs_background": "light"
     },
     "output_type": "display_data"
    },
    {
     "data": {
      "image/png": "[encoded data removed]",
      "text/plain": [
       "<Figure size 432x288 with 1 Axes>"
      ]
     },
     "metadata": {
      "needs_background": "light"
     },
     "output_type": "display_data"
    },
    {
     "data": {
      "image/png": "[encoded data removed]",
      "text/plain": [
       "<Figure size 432x288 with 1 Axes>"
      ]
     },
     "metadata": {
      "needs_background": "light"
     },
     "output_type": "display_data"
    }
   ],
   "source": [
    "for i in cat_columns:\n",
    "    plt.bar(range(len(contract[i].unique())), contract[i].value_counts())\n",
    "    plt.title(i)\n",
    "    plt.xticks(range(len(contract[i].unique())), contract[i].unique(), rotation=90)\n",
    "    plt.ylabel('n')\n",
    "    plt.show()"
   ]
  },
  {
   "cell_type": "markdown",
   "id": "ad92482c",
   "metadata": {},
   "source": [
    "The only point worth noting here is the class imbalance in the task we are working on. This won’t be an issue, as the ROC AUC metric is not sensitive to class imbalance, so we will not augment the data."
   ]
  },
  {
   "cell_type": "markdown",
   "id": "97cea164",
   "metadata": {},
   "source": [
    "I have a hypothesis: the peak at monthly_charge ~ 20 consists of clients who joined very early, around 2014-2015, and are still on old pricing plans. Let's test this hypothesis:"
   ]
  },
  {
   "cell_type": "code",
   "execution_count": 29,
   "id": "7f38682e",
   "metadata": {},
   "outputs": [],
   "source": [
    "monthly_charge = pd.Series(contract['monthly_charges'])\n",
    "monthly_charge.index = contract['begin_date']"
   ]
  },
  {
   "cell_type": "markdown",
   "id": "bf774ad2",
   "metadata": {},
   "source": [
    "perform a seasonal decomposition (using seasonal_decompose), averaging the tariffs by month"
   ]
  },
  {
   "cell_type": "code",
   "execution_count": 30,
   "id": "e340fd18",
   "metadata": {},
   "outputs": [
    {
     "data": {
      "image/png": "[encoded data removed]",
      "text/plain": [
       "<Figure size 432x288 with 1 Axes>"
      ]
     },
     "metadata": {
      "needs_background": "light"
     },
     "output_type": "display_data"
    },
    {
     "data": {
      "image/png": "[encoded data removed]",
      "text/plain": [
       "<Figure size 432x288 with 1 Axes>"
      ]
     },
     "metadata": {
      "needs_background": "light"
     },
     "output_type": "display_data"
    }
   ],
   "source": [
    "monthly_charge = monthly_charge.resample('1M').mean()\n",
    "decomposed = seasonal_decompose(monthly_charge)\n",
    "\n",
    "decomposed.seasonal['2018-01-01':'2019-01-01'].plot()\n",
    "plt.title('seasonal price by month')\n",
    "plt.ylabel('mean price delta')\n",
    "plt.show()\n",
    "\n",
    "decomposed.trend.plot()\n",
    "plt.title('overall monthly charge trend')\n",
    "plt.ylabel('mean price')\n",
    "plt.show()"
   ]
  },
  {
   "cell_type": "raw",
   "id": "02241232",
   "metadata": {},
   "source": [
    "Actually, the trends indicate the opposite: the service price is constantly decreasing despite inflation. Perhaps the company is cutting costs very effectively and implementing innovations that allow servicing customers much more cheaply.\n",
    "\n",
    "I also noticed that there is no pronounced seasonality in the data — this means that the company is not using promotions like \"sign a contract in September and get a reduced rate that lasts until the end of the contract\" to attract customers.\n",
    "\n",
    "This means we do not need to engage in feature engineering (for example, if this were not the case and we observed strong seasonality, I would have added information about the month of contract signing to the data—most observant customers might realize that it would be more advantageous for them to terminate their current contract and sign a new one in the \"right month\").\n",
    "\n",
    "As for feature selection for training, I decided to proceed as follows: keep all features except for total_charges (realistically, no one will terminate their contract just because they looked at their total expenses over the previous 10 years), and convert the date column into the number of years the customer has been using the provider's services (from the analysis, we understood that \"early\" customers are serviced at higher rates, and this may influence their decision to terminate the contract)."
   ]
  },
  {
   "cell_type": "code",
   "execution_count": 31,
   "id": "f8c3e996",
   "metadata": {},
   "outputs": [],
   "source": [
    "contract['n_years'] = contract['end_date'].dt.year - contract['begin_date'].dt.year\n",
    "contract = contract[['customer_id', 'type', 'paperless_billing',\n",
    "       'payment_method', 'monthly_charges', 'active_contract',\n",
    "       'n_years']]"
   ]
  },
  {
   "cell_type": "code",
   "execution_count": 32,
   "id": "75ff3490",
   "metadata": {},
   "outputs": [
    {
     "data": {
      "text/html": [
       "<div>\n",
       "<style scoped>\n",
       "    .dataframe tbody tr th:only-of-type {\n",
       "        vertical-align: middle;\n",
       "    }\n",
       "\n",
       "    .dataframe tbody tr th {\n",
       "        vertical-align: top;\n",
       "    }\n",
       "\n",
       "    .dataframe thead th {\n",
       "        text-align: right;\n",
       "    }\n",
       "</style>\n",
       "<table border=\"1\" class=\"dataframe\">\n",
       "  <thead>\n",
       "    <tr style=\"text-align: right;\">\n",
       "      <th></th>\n",
       "      <th>customer_id</th>\n",
       "      <th>type</th>\n",
       "      <th>paperless_billing</th>\n",
       "      <th>payment_method</th>\n",
       "      <th>monthly_charges</th>\n",
       "      <th>active_contract</th>\n",
       "      <th>n_years</th>\n",
       "    </tr>\n",
       "  </thead>\n",
       "  <tbody>\n",
       "    <tr>\n",
       "      <th>0</th>\n",
       "      <td>7590-VHVEG</td>\n",
       "      <td>Month-to-month</td>\n",
       "      <td>Yes</td>\n",
       "      <td>Electronic check</td>\n",
       "      <td>29.85</td>\n",
       "      <td>True</td>\n",
       "      <td>0</td>\n",
       "    </tr>\n",
       "    <tr>\n",
       "      <th>1</th>\n",
       "      <td>5575-GNVDE</td>\n",
       "      <td>One year</td>\n",
       "      <td>No</td>\n",
       "      <td>Mailed check</td>\n",
       "      <td>56.95</td>\n",
       "      <td>True</td>\n",
       "      <td>3</td>\n",
       "    </tr>\n",
       "    <tr>\n",
       "      <th>2</th>\n",
       "      <td>3668-QPYBK</td>\n",
       "      <td>Month-to-month</td>\n",
       "      <td>Yes</td>\n",
       "      <td>Mailed check</td>\n",
       "      <td>53.85</td>\n",
       "      <td>True</td>\n",
       "      <td>1</td>\n",
       "    </tr>\n",
       "    <tr>\n",
       "      <th>3</th>\n",
       "      <td>7795-CFOCW</td>\n",
       "      <td>One year</td>\n",
       "      <td>No</td>\n",
       "      <td>Bank transfer (automatic)</td>\n",
       "      <td>42.30</td>\n",
       "      <td>True</td>\n",
       "      <td>4</td>\n",
       "    </tr>\n",
       "    <tr>\n",
       "      <th>4</th>\n",
       "      <td>9237-HQITU</td>\n",
       "      <td>Month-to-month</td>\n",
       "      <td>Yes</td>\n",
       "      <td>Electronic check</td>\n",
       "      <td>70.70</td>\n",
       "      <td>True</td>\n",
       "      <td>1</td>\n",
       "    </tr>\n",
       "  </tbody>\n",
       "</table>\n",
       "</div>"
      ],
      "text/plain": [
       "  customer_id            type paperless_billing             payment_method  \\\n",
       "0  7590-VHVEG  Month-to-month               Yes           Electronic check   \n",
       "1  5575-GNVDE        One year                No               Mailed check   \n",
       "2  3668-QPYBK  Month-to-month               Yes               Mailed check   \n",
       "3  7795-CFOCW        One year                No  Bank transfer (automatic)   \n",
       "4  9237-HQITU  Month-to-month               Yes           Electronic check   \n",
       "\n",
       "   monthly_charges  active_contract  n_years  \n",
       "0            29.85             True        0  \n",
       "1            56.95             True        3  \n",
       "2            53.85             True        1  \n",
       "3            42.30             True        4  \n",
       "4            70.70             True        1  "
      ]
     },
     "execution_count": 32,
     "metadata": {},
     "output_type": "execute_result"
    }
   ],
   "source": [
    "contract.head()"
   ]
  },
  {
   "cell_type": "markdown",
   "id": "2a9e2f77",
   "metadata": {},
   "source": [
    "### Personal_new"
   ]
  },
  {
   "cell_type": "code",
   "execution_count": 33,
   "id": "53f76083",
   "metadata": {},
   "outputs": [
    {
     "data": {
      "text/html": [
       "<div>\n",
       "<style scoped>\n",
       "    .dataframe tbody tr th:only-of-type {\n",
       "        vertical-align: middle;\n",
       "    }\n",
       "\n",
       "    .dataframe tbody tr th {\n",
       "        vertical-align: top;\n",
       "    }\n",
       "\n",
       "    .dataframe thead th {\n",
       "        text-align: right;\n",
       "    }\n",
       "</style>\n",
       "<table border=\"1\" class=\"dataframe\">\n",
       "  <thead>\n",
       "    <tr style=\"text-align: right;\">\n",
       "      <th></th>\n",
       "      <th>customer_id</th>\n",
       "      <th>gender</th>\n",
       "      <th>senior_citizen</th>\n",
       "      <th>partner</th>\n",
       "      <th>dependents</th>\n",
       "    </tr>\n",
       "  </thead>\n",
       "  <tbody>\n",
       "    <tr>\n",
       "      <th>0</th>\n",
       "      <td>7590-VHVEG</td>\n",
       "      <td>Female</td>\n",
       "      <td>False</td>\n",
       "      <td>Yes</td>\n",
       "      <td>No</td>\n",
       "    </tr>\n",
       "    <tr>\n",
       "      <th>1</th>\n",
       "      <td>5575-GNVDE</td>\n",
       "      <td>Male</td>\n",
       "      <td>False</td>\n",
       "      <td>No</td>\n",
       "      <td>No</td>\n",
       "    </tr>\n",
       "    <tr>\n",
       "      <th>2</th>\n",
       "      <td>3668-QPYBK</td>\n",
       "      <td>Male</td>\n",
       "      <td>False</td>\n",
       "      <td>No</td>\n",
       "      <td>No</td>\n",
       "    </tr>\n",
       "    <tr>\n",
       "      <th>3</th>\n",
       "      <td>7795-CFOCW</td>\n",
       "      <td>Male</td>\n",
       "      <td>False</td>\n",
       "      <td>No</td>\n",
       "      <td>No</td>\n",
       "    </tr>\n",
       "    <tr>\n",
       "      <th>4</th>\n",
       "      <td>9237-HQITU</td>\n",
       "      <td>Female</td>\n",
       "      <td>False</td>\n",
       "      <td>No</td>\n",
       "      <td>No</td>\n",
       "    </tr>\n",
       "  </tbody>\n",
       "</table>\n",
       "</div>"
      ],
      "text/plain": [
       "  customer_id  gender  senior_citizen partner dependents\n",
       "0  7590-VHVEG  Female           False     Yes         No\n",
       "1  5575-GNVDE    Male           False      No         No\n",
       "2  3668-QPYBK    Male           False      No         No\n",
       "3  7795-CFOCW    Male           False      No         No\n",
       "4  9237-HQITU  Female           False      No         No"
      ]
     },
     "execution_count": 33,
     "metadata": {},
     "output_type": "execute_result"
    }
   ],
   "source": [
    "personal.head()"
   ]
  },
  {
   "cell_type": "code",
   "execution_count": 34,
   "id": "08a56ffd",
   "metadata": {},
   "outputs": [],
   "source": [
    "cat_columns = ['gender', 'senior_citizen', 'partner', 'dependents']"
   ]
  },
  {
   "cell_type": "code",
   "execution_count": 35,
   "id": "29e4ffca",
   "metadata": {},
   "outputs": [
    {
     "data": {
      "image/png": "[encoded data removed]",
      "text/plain": [
       "<Figure size 432x288 with 1 Axes>"
      ]
     },
     "metadata": {
      "needs_background": "light"
     },
     "output_type": "display_data"
    },
    {
     "data": {
      "image/png": "[encoded data removed]",
      "text/plain": [
       "<Figure size 432x288 with 1 Axes>"
      ]
     },
     "metadata": {
      "needs_background": "light"
     },
     "output_type": "display_data"
    },
    {
     "data": {
      "image/png": "[encoded data removed]",
      "text/plain": [
       "<Figure size 432x288 with 1 Axes>"
      ]
     },
     "metadata": {
      "needs_background": "light"
     },
     "output_type": "display_data"
    },
    {
     "data": {
      "image/png": "[encoded data removed]",
      "text/plain": [
       "<Figure size 432x288 with 1 Axes>"
      ]
     },
     "metadata": {
      "needs_background": "light"
     },
     "output_type": "display_data"
    }
   ],
   "source": [
    "for i in cat_columns:\n",
    "    plt.bar(range(len(personal[i].unique())), personal[i].value_counts())\n",
    "    plt.title(i)\n",
    "    plt.xticks(range(len(personal[i].unique())), personal[i].unique(), rotation=90)\n",
    "    plt.ylabel('n')\n",
    "    plt.show()"
   ]
  },
  {
   "cell_type": "markdown",
   "id": "877856d9",
   "metadata": {},
   "source": [
    "it makes sense to keep all the features from this df — for example, seniors tend to monitor their finances more carefully, while dependents are generally very demanding regarding the streaming services and movies available in the catalog."
   ]
  },
  {
   "cell_type": "code",
   "execution_count": 36,
   "id": "268e3bc0",
   "metadata": {},
   "outputs": [
    {
     "data": {
      "text/html": [
       "<div>\n",
       "<style scoped>\n",
       "    .dataframe tbody tr th:only-of-type {\n",
       "        vertical-align: middle;\n",
       "    }\n",
       "\n",
       "    .dataframe tbody tr th {\n",
       "        vertical-align: top;\n",
       "    }\n",
       "\n",
       "    .dataframe thead th {\n",
       "        text-align: right;\n",
       "    }\n",
       "</style>\n",
       "<table border=\"1\" class=\"dataframe\">\n",
       "  <thead>\n",
       "    <tr style=\"text-align: right;\">\n",
       "      <th></th>\n",
       "      <th>customer_id</th>\n",
       "      <th>gender</th>\n",
       "      <th>senior_citizen</th>\n",
       "      <th>partner</th>\n",
       "      <th>dependents</th>\n",
       "    </tr>\n",
       "  </thead>\n",
       "  <tbody>\n",
       "    <tr>\n",
       "      <th>0</th>\n",
       "      <td>7590-VHVEG</td>\n",
       "      <td>Female</td>\n",
       "      <td>False</td>\n",
       "      <td>Yes</td>\n",
       "      <td>No</td>\n",
       "    </tr>\n",
       "    <tr>\n",
       "      <th>1</th>\n",
       "      <td>5575-GNVDE</td>\n",
       "      <td>Male</td>\n",
       "      <td>False</td>\n",
       "      <td>No</td>\n",
       "      <td>No</td>\n",
       "    </tr>\n",
       "    <tr>\n",
       "      <th>2</th>\n",
       "      <td>3668-QPYBK</td>\n",
       "      <td>Male</td>\n",
       "      <td>False</td>\n",
       "      <td>No</td>\n",
       "      <td>No</td>\n",
       "    </tr>\n",
       "    <tr>\n",
       "      <th>3</th>\n",
       "      <td>7795-CFOCW</td>\n",
       "      <td>Male</td>\n",
       "      <td>False</td>\n",
       "      <td>No</td>\n",
       "      <td>No</td>\n",
       "    </tr>\n",
       "    <tr>\n",
       "      <th>4</th>\n",
       "      <td>9237-HQITU</td>\n",
       "      <td>Female</td>\n",
       "      <td>False</td>\n",
       "      <td>No</td>\n",
       "      <td>No</td>\n",
       "    </tr>\n",
       "  </tbody>\n",
       "</table>\n",
       "</div>"
      ],
      "text/plain": [
       "  customer_id  gender  senior_citizen partner dependents\n",
       "0  7590-VHVEG  Female           False     Yes         No\n",
       "1  5575-GNVDE    Male           False      No         No\n",
       "2  3668-QPYBK    Male           False      No         No\n",
       "3  7795-CFOCW    Male           False      No         No\n",
       "4  9237-HQITU  Female           False      No         No"
      ]
     },
     "execution_count": 36,
     "metadata": {},
     "output_type": "execute_result"
    }
   ],
   "source": [
    "personal.head()"
   ]
  },
  {
   "cell_type": "markdown",
   "id": "5e1ecf57",
   "metadata": {},
   "source": [
    "### Internet_new"
   ]
  },
  {
   "cell_type": "code",
   "execution_count": 37,
   "id": "54e87830",
   "metadata": {},
   "outputs": [
    {
     "data": {
      "text/html": [
       "<div>\n",
       "<style scoped>\n",
       "    .dataframe tbody tr th:only-of-type {\n",
       "        vertical-align: middle;\n",
       "    }\n",
       "\n",
       "    .dataframe tbody tr th {\n",
       "        vertical-align: top;\n",
       "    }\n",
       "\n",
       "    .dataframe thead th {\n",
       "        text-align: right;\n",
       "    }\n",
       "</style>\n",
       "<table border=\"1\" class=\"dataframe\">\n",
       "  <thead>\n",
       "    <tr style=\"text-align: right;\">\n",
       "      <th></th>\n",
       "      <th>customer_id</th>\n",
       "      <th>internet_service</th>\n",
       "      <th>online_security</th>\n",
       "      <th>online_backup</th>\n",
       "      <th>device_protection</th>\n",
       "      <th>tech_support</th>\n",
       "      <th>streaming_tv</th>\n",
       "      <th>streaming_movies</th>\n",
       "    </tr>\n",
       "  </thead>\n",
       "  <tbody>\n",
       "    <tr>\n",
       "      <th>0</th>\n",
       "      <td>7590-VHVEG</td>\n",
       "      <td>DSL</td>\n",
       "      <td>No</td>\n",
       "      <td>Yes</td>\n",
       "      <td>No</td>\n",
       "      <td>No</td>\n",
       "      <td>No</td>\n",
       "      <td>No</td>\n",
       "    </tr>\n",
       "    <tr>\n",
       "      <th>1</th>\n",
       "      <td>5575-GNVDE</td>\n",
       "      <td>DSL</td>\n",
       "      <td>Yes</td>\n",
       "      <td>No</td>\n",
       "      <td>Yes</td>\n",
       "      <td>No</td>\n",
       "      <td>No</td>\n",
       "      <td>No</td>\n",
       "    </tr>\n",
       "    <tr>\n",
       "      <th>2</th>\n",
       "      <td>3668-QPYBK</td>\n",
       "      <td>DSL</td>\n",
       "      <td>Yes</td>\n",
       "      <td>Yes</td>\n",
       "      <td>No</td>\n",
       "      <td>No</td>\n",
       "      <td>No</td>\n",
       "      <td>No</td>\n",
       "    </tr>\n",
       "    <tr>\n",
       "      <th>3</th>\n",
       "      <td>7795-CFOCW</td>\n",
       "      <td>DSL</td>\n",
       "      <td>Yes</td>\n",
       "      <td>No</td>\n",
       "      <td>Yes</td>\n",
       "      <td>Yes</td>\n",
       "      <td>No</td>\n",
       "      <td>No</td>\n",
       "    </tr>\n",
       "    <tr>\n",
       "      <th>4</th>\n",
       "      <td>9237-HQITU</td>\n",
       "      <td>Fiber optic</td>\n",
       "      <td>No</td>\n",
       "      <td>No</td>\n",
       "      <td>No</td>\n",
       "      <td>No</td>\n",
       "      <td>No</td>\n",
       "      <td>No</td>\n",
       "    </tr>\n",
       "  </tbody>\n",
       "</table>\n",
       "</div>"
      ],
      "text/plain": [
       "  customer_id internet_service online_security online_backup  \\\n",
       "0  7590-VHVEG              DSL              No           Yes   \n",
       "1  5575-GNVDE              DSL             Yes            No   \n",
       "2  3668-QPYBK              DSL             Yes           Yes   \n",
       "3  7795-CFOCW              DSL             Yes            No   \n",
       "4  9237-HQITU      Fiber optic              No            No   \n",
       "\n",
       "  device_protection tech_support streaming_tv streaming_movies  \n",
       "0                No           No           No               No  \n",
       "1               Yes           No           No               No  \n",
       "2                No           No           No               No  \n",
       "3               Yes          Yes           No               No  \n",
       "4                No           No           No               No  "
      ]
     },
     "execution_count": 37,
     "metadata": {},
     "output_type": "execute_result"
    }
   ],
   "source": [
    "internet.head()"
   ]
  },
  {
   "cell_type": "code",
   "execution_count": 38,
   "id": "ba23206d",
   "metadata": {},
   "outputs": [],
   "source": [
    "cat_columns = ['internet_service', 'online_security', 'online_backup',\n",
    "       'device_protection', 'tech_support', 'streaming_tv',\n",
    "       'streaming_movies']"
   ]
  },
  {
   "cell_type": "code",
   "execution_count": 39,
   "id": "f93b1bd2",
   "metadata": {},
   "outputs": [
    {
     "data": {
      "image/png": "[encoded data removed]",
      "text/plain": [
       "<Figure size 432x288 with 1 Axes>"
      ]
     },
     "metadata": {
      "needs_background": "light"
     },
     "output_type": "display_data"
    },
    {
     "data": {
      "image/png": "[encoded data removed]",
      "text/plain": [
       "<Figure size 432x288 with 1 Axes>"
      ]
     },
     "metadata": {
      "needs_background": "light"
     },
     "output_type": "display_data"
    },
    {
     "data": {
      "image/png": "[encoded data removed]",
      "text/plain": [
       "<Figure size 432x288 with 1 Axes>"
      ]
     },
     "metadata": {
      "needs_background": "light"
     },
     "output_type": "display_data"
    },
    {
     "data": {
      "image/png": "[encoded data removed]",
      "text/plain": [
       "<Figure size 432x288 with 1 Axes>"
      ]
     },
     "metadata": {
      "needs_background": "light"
     },
     "output_type": "display_data"
    },
    {
     "data": {
      "image/png": "[encoded data removed]",
      "text/plain": [
       "<Figure size 432x288 with 1 Axes>"
      ]
     },
     "metadata": {
      "needs_background": "light"
     },
     "output_type": "display_data"
    },
    {
     "data": {
      "image/png": "[encoded data removed]",
      "text/plain": [
       "<Figure size 432x288 with 1 Axes>"
      ]
     },
     "metadata": {
      "needs_background": "light"
     },
     "output_type": "display_data"
    },
    {
     "data": {
      "image/png": "[encoded data removed]",
      "text/plain": [
       "<Figure size 432x288 with 1 Axes>"
      ]
     },
     "metadata": {
      "needs_background": "light"
     },
     "output_type": "display_data"
    }
   ],
   "source": [
    "for i in cat_columns:\n",
    "    plt.bar(range(len(internet[i].unique())), internet[i].value_counts())\n",
    "    plt.title(i)\n",
    "    plt.xticks(range(len(internet[i].unique())), internet[i].unique(), rotation=90)\n",
    "    plt.ylabel('n')\n",
    "    plt.show()"
   ]
  },
  {
   "cell_type": "markdown",
   "id": "cf1507c6",
   "metadata": {},
   "source": [
    "In this dataframe, I would keep all the features for further analysis—they all provide some value to the customer."
   ]
  },
  {
   "cell_type": "markdown",
   "id": "e67fb1f2",
   "metadata": {},
   "source": [
    "### Phone_new"
   ]
  },
  {
   "cell_type": "code",
   "execution_count": 40,
   "id": "33dce4c2",
   "metadata": {},
   "outputs": [
    {
     "data": {
      "text/html": [
       "<div>\n",
       "<style scoped>\n",
       "    .dataframe tbody tr th:only-of-type {\n",
       "        vertical-align: middle;\n",
       "    }\n",
       "\n",
       "    .dataframe tbody tr th {\n",
       "        vertical-align: top;\n",
       "    }\n",
       "\n",
       "    .dataframe thead th {\n",
       "        text-align: right;\n",
       "    }\n",
       "</style>\n",
       "<table border=\"1\" class=\"dataframe\">\n",
       "  <thead>\n",
       "    <tr style=\"text-align: right;\">\n",
       "      <th></th>\n",
       "      <th>customer_id</th>\n",
       "      <th>multiple_lines</th>\n",
       "    </tr>\n",
       "  </thead>\n",
       "  <tbody>\n",
       "    <tr>\n",
       "      <th>0</th>\n",
       "      <td>5575-GNVDE</td>\n",
       "      <td>No</td>\n",
       "    </tr>\n",
       "    <tr>\n",
       "      <th>1</th>\n",
       "      <td>3668-QPYBK</td>\n",
       "      <td>No</td>\n",
       "    </tr>\n",
       "    <tr>\n",
       "      <th>2</th>\n",
       "      <td>9237-HQITU</td>\n",
       "      <td>No</td>\n",
       "    </tr>\n",
       "    <tr>\n",
       "      <th>3</th>\n",
       "      <td>9305-CDSKC</td>\n",
       "      <td>Yes</td>\n",
       "    </tr>\n",
       "    <tr>\n",
       "      <th>4</th>\n",
       "      <td>1452-KIOVK</td>\n",
       "      <td>Yes</td>\n",
       "    </tr>\n",
       "  </tbody>\n",
       "</table>\n",
       "</div>"
      ],
      "text/plain": [
       "  customer_id multiple_lines\n",
       "0  5575-GNVDE             No\n",
       "1  3668-QPYBK             No\n",
       "2  9237-HQITU             No\n",
       "3  9305-CDSKC            Yes\n",
       "4  1452-KIOVK            Yes"
      ]
     },
     "execution_count": 40,
     "metadata": {},
     "output_type": "execute_result"
    }
   ],
   "source": [
    "phone.head()"
   ]
  },
  {
   "cell_type": "code",
   "execution_count": 41,
   "id": "2ff9e01c",
   "metadata": {},
   "outputs": [],
   "source": [
    "cat_columns = ['multiple_lines']"
   ]
  },
  {
   "cell_type": "code",
   "execution_count": 42,
   "id": "549fd1e9",
   "metadata": {},
   "outputs": [
    {
     "data": {
      "image/png": "[encoded data removed]",
      "text/plain": [
       "<Figure size 432x288 with 1 Axes>"
      ]
     },
     "metadata": {
      "needs_background": "light"
     },
     "output_type": "display_data"
    }
   ],
   "source": [
    "for i in cat_columns:\n",
    "    plt.bar(range(len(phone[i].unique())), phone[i].value_counts())\n",
    "    plt.title(i)\n",
    "    plt.xticks(range(len(phone[i].unique())), phone[i].unique(), rotation=90)\n",
    "    plt.ylabel('n')\n",
    "    plt.show()"
   ]
  },
  {
   "cell_type": "markdown",
   "id": "efba451c",
   "metadata": {},
   "source": [
    "In this dataframe, I would keep all the features for further analysis—they all provide some value to the customer."
   ]
  },
  {
   "cell_type": "markdown",
   "id": "b2ae5b1b",
   "metadata": {},
   "source": [
    "## Combining data"
   ]
  },
  {
   "cell_type": "markdown",
   "id": "544ce4e3",
   "metadata": {},
   "source": [
    "Let's combine all the data using an outer join to ensure we don't lose customers who only use phone services or only internet services."
   ]
  },
  {
   "cell_type": "code",
   "execution_count": 43,
   "id": "fb6e67c6",
   "metadata": {},
   "outputs": [],
   "source": [
    "contract.index = contract['customer_id']\n",
    "contract=contract.drop(columns = 'customer_id')\n",
    "\n",
    "personal.index = personal['customer_id']\n",
    "personal=personal.drop(columns = 'customer_id')\n",
    "\n",
    "internet.index = internet['customer_id']\n",
    "internet=internet.drop(columns = 'customer_id')\n",
    "\n",
    "phone.index = phone['customer_id']\n",
    "phone=phone.drop(columns = 'customer_id')\n",
    "\n",
    "total_df = pd.concat([contract, personal, internet, phone], axis=1, join='outer')"
   ]
  },
  {
   "cell_type": "code",
   "execution_count": 44,
   "id": "5b451ee7",
   "metadata": {},
   "outputs": [
    {
     "data": {
      "text/html": [
       "<div>\n",
       "<style scoped>\n",
       "    .dataframe tbody tr th:only-of-type {\n",
       "        vertical-align: middle;\n",
       "    }\n",
       "\n",
       "    .dataframe tbody tr th {\n",
       "        vertical-align: top;\n",
       "    }\n",
       "\n",
       "    .dataframe thead th {\n",
       "        text-align: right;\n",
       "    }\n",
       "</style>\n",
       "<table border=\"1\" class=\"dataframe\">\n",
       "  <thead>\n",
       "    <tr style=\"text-align: right;\">\n",
       "      <th></th>\n",
       "      <th>type</th>\n",
       "      <th>paperless_billing</th>\n",
       "      <th>payment_method</th>\n",
       "      <th>monthly_charges</th>\n",
       "      <th>active_contract</th>\n",
       "      <th>n_years</th>\n",
       "      <th>gender</th>\n",
       "      <th>senior_citizen</th>\n",
       "      <th>partner</th>\n",
       "      <th>dependents</th>\n",
       "      <th>internet_service</th>\n",
       "      <th>online_security</th>\n",
       "      <th>online_backup</th>\n",
       "      <th>device_protection</th>\n",
       "      <th>tech_support</th>\n",
       "      <th>streaming_tv</th>\n",
       "      <th>streaming_movies</th>\n",
       "      <th>multiple_lines</th>\n",
       "    </tr>\n",
       "    <tr>\n",
       "      <th>customer_id</th>\n",
       "      <th></th>\n",
       "      <th></th>\n",
       "      <th></th>\n",
       "      <th></th>\n",
       "      <th></th>\n",
       "      <th></th>\n",
       "      <th></th>\n",
       "      <th></th>\n",
       "      <th></th>\n",
       "      <th></th>\n",
       "      <th></th>\n",
       "      <th></th>\n",
       "      <th></th>\n",
       "      <th></th>\n",
       "      <th></th>\n",
       "      <th></th>\n",
       "      <th></th>\n",
       "      <th></th>\n",
       "    </tr>\n",
       "  </thead>\n",
       "  <tbody>\n",
       "    <tr>\n",
       "      <th>7590-VHVEG</th>\n",
       "      <td>Month-to-month</td>\n",
       "      <td>Yes</td>\n",
       "      <td>Electronic check</td>\n",
       "      <td>29.85</td>\n",
       "      <td>True</td>\n",
       "      <td>0</td>\n",
       "      <td>Female</td>\n",
       "      <td>False</td>\n",
       "      <td>Yes</td>\n",
       "      <td>No</td>\n",
       "      <td>DSL</td>\n",
       "      <td>No</td>\n",
       "      <td>Yes</td>\n",
       "      <td>No</td>\n",
       "      <td>No</td>\n",
       "      <td>No</td>\n",
       "      <td>No</td>\n",
       "      <td>NaN</td>\n",
       "    </tr>\n",
       "    <tr>\n",
       "      <th>5575-GNVDE</th>\n",
       "      <td>One year</td>\n",
       "      <td>No</td>\n",
       "      <td>Mailed check</td>\n",
       "      <td>56.95</td>\n",
       "      <td>True</td>\n",
       "      <td>3</td>\n",
       "      <td>Male</td>\n",
       "      <td>False</td>\n",
       "      <td>No</td>\n",
       "      <td>No</td>\n",
       "      <td>DSL</td>\n",
       "      <td>Yes</td>\n",
       "      <td>No</td>\n",
       "      <td>Yes</td>\n",
       "      <td>No</td>\n",
       "      <td>No</td>\n",
       "      <td>No</td>\n",
       "      <td>No</td>\n",
       "    </tr>\n",
       "    <tr>\n",
       "      <th>3668-QPYBK</th>\n",
       "      <td>Month-to-month</td>\n",
       "      <td>Yes</td>\n",
       "      <td>Mailed check</td>\n",
       "      <td>53.85</td>\n",
       "      <td>True</td>\n",
       "      <td>1</td>\n",
       "      <td>Male</td>\n",
       "      <td>False</td>\n",
       "      <td>No</td>\n",
       "      <td>No</td>\n",
       "      <td>DSL</td>\n",
       "      <td>Yes</td>\n",
       "      <td>Yes</td>\n",
       "      <td>No</td>\n",
       "      <td>No</td>\n",
       "      <td>No</td>\n",
       "      <td>No</td>\n",
       "      <td>No</td>\n",
       "    </tr>\n",
       "    <tr>\n",
       "      <th>7795-CFOCW</th>\n",
       "      <td>One year</td>\n",
       "      <td>No</td>\n",
       "      <td>Bank transfer (automatic)</td>\n",
       "      <td>42.30</td>\n",
       "      <td>True</td>\n",
       "      <td>4</td>\n",
       "      <td>Male</td>\n",
       "      <td>False</td>\n",
       "      <td>No</td>\n",
       "      <td>No</td>\n",
       "      <td>DSL</td>\n",
       "      <td>Yes</td>\n",
       "      <td>No</td>\n",
       "      <td>Yes</td>\n",
       "      <td>Yes</td>\n",
       "      <td>No</td>\n",
       "      <td>No</td>\n",
       "      <td>NaN</td>\n",
       "    </tr>\n",
       "    <tr>\n",
       "      <th>9237-HQITU</th>\n",
       "      <td>Month-to-month</td>\n",
       "      <td>Yes</td>\n",
       "      <td>Electronic check</td>\n",
       "      <td>70.70</td>\n",
       "      <td>True</td>\n",
       "      <td>1</td>\n",
       "      <td>Female</td>\n",
       "      <td>False</td>\n",
       "      <td>No</td>\n",
       "      <td>No</td>\n",
       "      <td>Fiber optic</td>\n",
       "      <td>No</td>\n",
       "      <td>No</td>\n",
       "      <td>No</td>\n",
       "      <td>No</td>\n",
       "      <td>No</td>\n",
       "      <td>No</td>\n",
       "      <td>No</td>\n",
       "    </tr>\n",
       "  </tbody>\n",
       "</table>\n",
       "</div>"
      ],
      "text/plain": [
       "                       type paperless_billing             payment_method  \\\n",
       "customer_id                                                                \n",
       "7590-VHVEG   Month-to-month               Yes           Electronic check   \n",
       "5575-GNVDE         One year                No               Mailed check   \n",
       "3668-QPYBK   Month-to-month               Yes               Mailed check   \n",
       "7795-CFOCW         One year                No  Bank transfer (automatic)   \n",
       "9237-HQITU   Month-to-month               Yes           Electronic check   \n",
       "\n",
       "             monthly_charges  active_contract  n_years  gender  \\\n",
       "customer_id                                                      \n",
       "7590-VHVEG             29.85             True        0  Female   \n",
       "5575-GNVDE             56.95             True        3    Male   \n",
       "3668-QPYBK             53.85             True        1    Male   \n",
       "7795-CFOCW             42.30             True        4    Male   \n",
       "9237-HQITU             70.70             True        1  Female   \n",
       "\n",
       "             senior_citizen partner dependents internet_service  \\\n",
       "customer_id                                                       \n",
       "7590-VHVEG            False     Yes         No              DSL   \n",
       "5575-GNVDE            False      No         No              DSL   \n",
       "3668-QPYBK            False      No         No              DSL   \n",
       "7795-CFOCW            False      No         No              DSL   \n",
       "9237-HQITU            False      No         No      Fiber optic   \n",
       "\n",
       "            online_security online_backup device_protection tech_support  \\\n",
       "customer_id                                                                \n",
       "7590-VHVEG               No           Yes                No           No   \n",
       "5575-GNVDE              Yes            No               Yes           No   \n",
       "3668-QPYBK              Yes           Yes                No           No   \n",
       "7795-CFOCW              Yes            No               Yes          Yes   \n",
       "9237-HQITU               No            No                No           No   \n",
       "\n",
       "            streaming_tv streaming_movies multiple_lines  \n",
       "customer_id                                               \n",
       "7590-VHVEG            No               No            NaN  \n",
       "5575-GNVDE            No               No             No  \n",
       "3668-QPYBK            No               No             No  \n",
       "7795-CFOCW            No               No            NaN  \n",
       "9237-HQITU            No               No             No  "
      ]
     },
     "execution_count": 44,
     "metadata": {},
     "output_type": "execute_result"
    }
   ],
   "source": [
    "total_df.head()"
   ]
  },
  {
   "cell_type": "markdown",
   "id": "62aaf935",
   "metadata": {},
   "source": [
    "Now we need to fill in the missing values for customers who do not use phone or internet services."
   ]
  },
  {
   "cell_type": "code",
   "execution_count": 45,
   "id": "df69b4df",
   "metadata": {},
   "outputs": [
    {
     "name": "stdout",
     "output_type": "stream",
     "text": [
      "<class 'pandas.core.frame.DataFrame'>\n",
      "Index: 7043 entries, 7590-VHVEG to 3186-AJIEK\n",
      "Data columns (total 18 columns):\n",
      " #   Column             Non-Null Count  Dtype  \n",
      "---  ------             --------------  -----  \n",
      " 0   type               7043 non-null   object \n",
      " 1   paperless_billing  7043 non-null   object \n",
      " 2   payment_method     7043 non-null   object \n",
      " 3   monthly_charges    7043 non-null   float64\n",
      " 4   active_contract    7043 non-null   bool   \n",
      " 5   n_years            7043 non-null   int64  \n",
      " 6   gender             7043 non-null   object \n",
      " 7   senior_citizen     7043 non-null   bool   \n",
      " 8   partner            7043 non-null   object \n",
      " 9   dependents         7043 non-null   object \n",
      " 10  internet_service   5517 non-null   object \n",
      " 11  online_security    5517 non-null   object \n",
      " 12  online_backup      5517 non-null   object \n",
      " 13  device_protection  5517 non-null   object \n",
      " 14  tech_support       5517 non-null   object \n",
      " 15  streaming_tv       5517 non-null   object \n",
      " 16  streaming_movies   5517 non-null   object \n",
      " 17  multiple_lines     6361 non-null   object \n",
      "dtypes: bool(2), float64(1), int64(1), object(14)\n",
      "memory usage: 949.2+ KB\n"
     ]
    }
   ],
   "source": [
    "total_df.info()"
   ]
  },
  {
   "cell_type": "code",
   "execution_count": 46,
   "id": "e935ef70",
   "metadata": {},
   "outputs": [],
   "source": [
    "total_df[internet.columns] = total_df[internet.columns].fillna('Not used')\n",
    "total_df[phone.columns] = total_df[phone.columns].fillna('Not used')"
   ]
  },
  {
   "cell_type": "code",
   "execution_count": 47,
   "id": "3f3b1912",
   "metadata": {},
   "outputs": [
    {
     "name": "stdout",
     "output_type": "stream",
     "text": [
      "<class 'pandas.core.frame.DataFrame'>\n",
      "Index: 7043 entries, 7590-VHVEG to 3186-AJIEK\n",
      "Data columns (total 18 columns):\n",
      " #   Column             Non-Null Count  Dtype  \n",
      "---  ------             --------------  -----  \n",
      " 0   type               7043 non-null   object \n",
      " 1   paperless_billing  7043 non-null   object \n",
      " 2   payment_method     7043 non-null   object \n",
      " 3   monthly_charges    7043 non-null   float64\n",
      " 4   active_contract    7043 non-null   bool   \n",
      " 5   n_years            7043 non-null   int64  \n",
      " 6   gender             7043 non-null   object \n",
      " 7   senior_citizen     7043 non-null   bool   \n",
      " 8   partner            7043 non-null   object \n",
      " 9   dependents         7043 non-null   object \n",
      " 10  internet_service   7043 non-null   object \n",
      " 11  online_security    7043 non-null   object \n",
      " 12  online_backup      7043 non-null   object \n",
      " 13  device_protection  7043 non-null   object \n",
      " 14  tech_support       7043 non-null   object \n",
      " 15  streaming_tv       7043 non-null   object \n",
      " 16  streaming_movies   7043 non-null   object \n",
      " 17  multiple_lines     7043 non-null   object \n",
      "dtypes: bool(2), float64(1), int64(1), object(14)\n",
      "memory usage: 949.2+ KB\n"
     ]
    }
   ],
   "source": [
    "total_df.info()"
   ]
  },
  {
   "cell_type": "markdown",
   "id": "6b8b3924",
   "metadata": {},
   "source": [
    "Let's check whether the features are correlated with each other."
   ]
  },
  {
   "cell_type": "code",
   "execution_count": 48,
   "id": "f9c57a37",
   "metadata": {},
   "outputs": [
    {
     "data": {
      "text/html": [
       "<div>\n",
       "<style scoped>\n",
       "    .dataframe tbody tr th:only-of-type {\n",
       "        vertical-align: middle;\n",
       "    }\n",
       "\n",
       "    .dataframe tbody tr th {\n",
       "        vertical-align: top;\n",
       "    }\n",
       "\n",
       "    .dataframe thead th {\n",
       "        text-align: right;\n",
       "    }\n",
       "</style>\n",
       "<table border=\"1\" class=\"dataframe\">\n",
       "  <thead>\n",
       "    <tr style=\"text-align: right;\">\n",
       "      <th></th>\n",
       "      <th>type</th>\n",
       "      <th>paperless_billing</th>\n",
       "      <th>payment_method</th>\n",
       "      <th>monthly_charges</th>\n",
       "      <th>active_contract</th>\n",
       "      <th>n_years</th>\n",
       "      <th>gender</th>\n",
       "      <th>senior_citizen</th>\n",
       "      <th>partner</th>\n",
       "      <th>dependents</th>\n",
       "      <th>internet_service</th>\n",
       "      <th>online_security</th>\n",
       "      <th>online_backup</th>\n",
       "      <th>device_protection</th>\n",
       "      <th>tech_support</th>\n",
       "      <th>streaming_tv</th>\n",
       "      <th>streaming_movies</th>\n",
       "      <th>multiple_lines</th>\n",
       "    </tr>\n",
       "  </thead>\n",
       "  <tbody>\n",
       "    <tr>\n",
       "      <th>type</th>\n",
       "      <td>1.000000</td>\n",
       "      <td>0.106860</td>\n",
       "      <td>0.277462</td>\n",
       "      <td>0.388266</td>\n",
       "      <td>0.094015</td>\n",
       "      <td>0.586767</td>\n",
       "      <td>0.000000</td>\n",
       "      <td>0.086231</td>\n",
       "      <td>0.179736</td>\n",
       "      <td>0.147680</td>\n",
       "      <td>0.505187</td>\n",
       "      <td>0.636884</td>\n",
       "      <td>0.581660</td>\n",
       "      <td>0.631531</td>\n",
       "      <td>0.671629</td>\n",
       "      <td>0.549564</td>\n",
       "      <td>0.553556</td>\n",
       "      <td>0.244410</td>\n",
       "    </tr>\n",
       "    <tr>\n",
       "      <th>paperless_billing</th>\n",
       "      <td>0.106860</td>\n",
       "      <td>1.000000</td>\n",
       "      <td>0.370495</td>\n",
       "      <td>0.467783</td>\n",
       "      <td>0.083398</td>\n",
       "      <td>0.070136</td>\n",
       "      <td>0.000000</td>\n",
       "      <td>0.242133</td>\n",
       "      <td>0.013218</td>\n",
       "      <td>0.172593</td>\n",
       "      <td>0.231438</td>\n",
       "      <td>0.208320</td>\n",
       "      <td>0.195321</td>\n",
       "      <td>0.195687</td>\n",
       "      <td>0.200621</td>\n",
       "      <td>0.204717</td>\n",
       "      <td>0.202241</td>\n",
       "      <td>0.099953</td>\n",
       "    </tr>\n",
       "    <tr>\n",
       "      <th>payment_method</th>\n",
       "      <td>0.277462</td>\n",
       "      <td>0.370495</td>\n",
       "      <td>1.000000</td>\n",
       "      <td>0.399536</td>\n",
       "      <td>0.214832</td>\n",
       "      <td>0.434303</td>\n",
       "      <td>0.000000</td>\n",
       "      <td>0.292725</td>\n",
       "      <td>0.243008</td>\n",
       "      <td>0.224903</td>\n",
       "      <td>0.323886</td>\n",
       "      <td>0.315799</td>\n",
       "      <td>0.293413</td>\n",
       "      <td>0.297923</td>\n",
       "      <td>0.317713</td>\n",
       "      <td>0.284531</td>\n",
       "      <td>0.285525</td>\n",
       "      <td>0.174849</td>\n",
       "    </tr>\n",
       "    <tr>\n",
       "      <th>monthly_charges</th>\n",
       "      <td>0.388266</td>\n",
       "      <td>0.467783</td>\n",
       "      <td>0.399536</td>\n",
       "      <td>1.000000</td>\n",
       "      <td>0.225925</td>\n",
       "      <td>0.285962</td>\n",
       "      <td>0.009025</td>\n",
       "      <td>0.304691</td>\n",
       "      <td>0.203237</td>\n",
       "      <td>0.184213</td>\n",
       "      <td>0.918980</td>\n",
       "      <td>0.812633</td>\n",
       "      <td>0.818858</td>\n",
       "      <td>0.827318</td>\n",
       "      <td>0.816603</td>\n",
       "      <td>0.864642</td>\n",
       "      <td>0.863641</td>\n",
       "      <td>0.710101</td>\n",
       "    </tr>\n",
       "    <tr>\n",
       "      <th>active_contract</th>\n",
       "      <td>0.094015</td>\n",
       "      <td>0.083398</td>\n",
       "      <td>0.214832</td>\n",
       "      <td>0.225925</td>\n",
       "      <td>1.000000</td>\n",
       "      <td>0.347844</td>\n",
       "      <td>0.008581</td>\n",
       "      <td>0.086159</td>\n",
       "      <td>0.226688</td>\n",
       "      <td>0.046871</td>\n",
       "      <td>0.056621</td>\n",
       "      <td>0.058659</td>\n",
       "      <td>0.089704</td>\n",
       "      <td>0.085608</td>\n",
       "      <td>0.051537</td>\n",
       "      <td>0.078545</td>\n",
       "      <td>0.086577</td>\n",
       "      <td>0.105101</td>\n",
       "    </tr>\n",
       "    <tr>\n",
       "      <th>n_years</th>\n",
       "      <td>0.586767</td>\n",
       "      <td>0.070136</td>\n",
       "      <td>0.434303</td>\n",
       "      <td>0.285962</td>\n",
       "      <td>0.347844</td>\n",
       "      <td>1.000000</td>\n",
       "      <td>0.028405</td>\n",
       "      <td>0.072704</td>\n",
       "      <td>0.425870</td>\n",
       "      <td>0.186889</td>\n",
       "      <td>0.111387</td>\n",
       "      <td>0.323101</td>\n",
       "      <td>0.341569</td>\n",
       "      <td>0.347090</td>\n",
       "      <td>0.330178</td>\n",
       "      <td>0.285367</td>\n",
       "      <td>0.282782</td>\n",
       "      <td>0.306823</td>\n",
       "    </tr>\n",
       "    <tr>\n",
       "      <th>gender</th>\n",
       "      <td>0.000000</td>\n",
       "      <td>0.000000</td>\n",
       "      <td>0.000000</td>\n",
       "      <td>0.009025</td>\n",
       "      <td>0.008581</td>\n",
       "      <td>0.028405</td>\n",
       "      <td>1.000000</td>\n",
       "      <td>0.000000</td>\n",
       "      <td>0.000000</td>\n",
       "      <td>0.000000</td>\n",
       "      <td>0.000000</td>\n",
       "      <td>0.001460</td>\n",
       "      <td>0.000000</td>\n",
       "      <td>0.000000</td>\n",
       "      <td>0.000000</td>\n",
       "      <td>0.000000</td>\n",
       "      <td>0.000000</td>\n",
       "      <td>0.000000</td>\n",
       "    </tr>\n",
       "    <tr>\n",
       "      <th>senior_citizen</th>\n",
       "      <td>0.086231</td>\n",
       "      <td>0.242133</td>\n",
       "      <td>0.292725</td>\n",
       "      <td>0.304691</td>\n",
       "      <td>0.086159</td>\n",
       "      <td>0.072704</td>\n",
       "      <td>0.000000</td>\n",
       "      <td>1.000000</td>\n",
       "      <td>0.016992</td>\n",
       "      <td>0.324576</td>\n",
       "      <td>0.160702</td>\n",
       "      <td>0.127319</td>\n",
       "      <td>0.109995</td>\n",
       "      <td>0.110177</td>\n",
       "      <td>0.135283</td>\n",
       "      <td>0.111714</td>\n",
       "      <td>0.113778</td>\n",
       "      <td>0.087925</td>\n",
       "    </tr>\n",
       "    <tr>\n",
       "      <th>partner</th>\n",
       "      <td>0.179736</td>\n",
       "      <td>0.013218</td>\n",
       "      <td>0.243008</td>\n",
       "      <td>0.203237</td>\n",
       "      <td>0.226688</td>\n",
       "      <td>0.425870</td>\n",
       "      <td>0.000000</td>\n",
       "      <td>0.016992</td>\n",
       "      <td>1.000000</td>\n",
       "      <td>0.652122</td>\n",
       "      <td>0.000000</td>\n",
       "      <td>0.091202</td>\n",
       "      <td>0.092012</td>\n",
       "      <td>0.100092</td>\n",
       "      <td>0.076326</td>\n",
       "      <td>0.082251</td>\n",
       "      <td>0.077506</td>\n",
       "      <td>0.086249</td>\n",
       "    </tr>\n",
       "    <tr>\n",
       "      <th>dependents</th>\n",
       "      <td>0.147680</td>\n",
       "      <td>0.172593</td>\n",
       "      <td>0.224903</td>\n",
       "      <td>0.184213</td>\n",
       "      <td>0.046871</td>\n",
       "      <td>0.186889</td>\n",
       "      <td>0.000000</td>\n",
       "      <td>0.324576</td>\n",
       "      <td>0.652122</td>\n",
       "      <td>1.000000</td>\n",
       "      <td>0.108463</td>\n",
       "      <td>0.117219</td>\n",
       "      <td>0.097766</td>\n",
       "      <td>0.094597</td>\n",
       "      <td>0.109753</td>\n",
       "      <td>0.088193</td>\n",
       "      <td>0.084684</td>\n",
       "      <td>0.011198</td>\n",
       "    </tr>\n",
       "    <tr>\n",
       "      <th>internet_service</th>\n",
       "      <td>0.505187</td>\n",
       "      <td>0.231438</td>\n",
       "      <td>0.323886</td>\n",
       "      <td>0.918980</td>\n",
       "      <td>0.056621</td>\n",
       "      <td>0.111387</td>\n",
       "      <td>0.000000</td>\n",
       "      <td>0.160702</td>\n",
       "      <td>0.000000</td>\n",
       "      <td>0.108463</td>\n",
       "      <td>1.000000</td>\n",
       "      <td>0.949498</td>\n",
       "      <td>0.942842</td>\n",
       "      <td>0.942811</td>\n",
       "      <td>0.948914</td>\n",
       "      <td>0.946713</td>\n",
       "      <td>0.946294</td>\n",
       "      <td>0.739808</td>\n",
       "    </tr>\n",
       "    <tr>\n",
       "      <th>online_security</th>\n",
       "      <td>0.636884</td>\n",
       "      <td>0.208320</td>\n",
       "      <td>0.315799</td>\n",
       "      <td>0.812633</td>\n",
       "      <td>0.058659</td>\n",
       "      <td>0.323101</td>\n",
       "      <td>0.001460</td>\n",
       "      <td>0.127319</td>\n",
       "      <td>0.091202</td>\n",
       "      <td>0.117219</td>\n",
       "      <td>0.949498</td>\n",
       "      <td>1.000000</td>\n",
       "      <td>0.947224</td>\n",
       "      <td>0.946787</td>\n",
       "      <td>0.952651</td>\n",
       "      <td>0.943082</td>\n",
       "      <td>0.943248</td>\n",
       "      <td>0.540261</td>\n",
       "    </tr>\n",
       "    <tr>\n",
       "      <th>online_backup</th>\n",
       "      <td>0.581660</td>\n",
       "      <td>0.195321</td>\n",
       "      <td>0.293413</td>\n",
       "      <td>0.818858</td>\n",
       "      <td>0.089704</td>\n",
       "      <td>0.341569</td>\n",
       "      <td>0.000000</td>\n",
       "      <td>0.109995</td>\n",
       "      <td>0.092012</td>\n",
       "      <td>0.097766</td>\n",
       "      <td>0.942842</td>\n",
       "      <td>0.947224</td>\n",
       "      <td>1.000000</td>\n",
       "      <td>0.947487</td>\n",
       "      <td>0.947756</td>\n",
       "      <td>0.945789</td>\n",
       "      <td>0.945395</td>\n",
       "      <td>0.562933</td>\n",
       "    </tr>\n",
       "    <tr>\n",
       "      <th>device_protection</th>\n",
       "      <td>0.631531</td>\n",
       "      <td>0.195687</td>\n",
       "      <td>0.297923</td>\n",
       "      <td>0.827318</td>\n",
       "      <td>0.085608</td>\n",
       "      <td>0.347090</td>\n",
       "      <td>0.000000</td>\n",
       "      <td>0.110177</td>\n",
       "      <td>0.100092</td>\n",
       "      <td>0.094597</td>\n",
       "      <td>0.942811</td>\n",
       "      <td>0.946787</td>\n",
       "      <td>0.947487</td>\n",
       "      <td>1.000000</td>\n",
       "      <td>0.950247</td>\n",
       "      <td>0.952863</td>\n",
       "      <td>0.953717</td>\n",
       "      <td>0.564610</td>\n",
       "    </tr>\n",
       "    <tr>\n",
       "      <th>tech_support</th>\n",
       "      <td>0.671629</td>\n",
       "      <td>0.200621</td>\n",
       "      <td>0.317713</td>\n",
       "      <td>0.816603</td>\n",
       "      <td>0.051537</td>\n",
       "      <td>0.330178</td>\n",
       "      <td>0.000000</td>\n",
       "      <td>0.135283</td>\n",
       "      <td>0.076326</td>\n",
       "      <td>0.109753</td>\n",
       "      <td>0.948914</td>\n",
       "      <td>0.952651</td>\n",
       "      <td>0.947756</td>\n",
       "      <td>0.950247</td>\n",
       "      <td>1.000000</td>\n",
       "      <td>0.946393</td>\n",
       "      <td>0.946417</td>\n",
       "      <td>0.541088</td>\n",
       "    </tr>\n",
       "    <tr>\n",
       "      <th>streaming_tv</th>\n",
       "      <td>0.549564</td>\n",
       "      <td>0.204717</td>\n",
       "      <td>0.284531</td>\n",
       "      <td>0.864642</td>\n",
       "      <td>0.078545</td>\n",
       "      <td>0.285367</td>\n",
       "      <td>0.000000</td>\n",
       "      <td>0.111714</td>\n",
       "      <td>0.082251</td>\n",
       "      <td>0.088193</td>\n",
       "      <td>0.946713</td>\n",
       "      <td>0.943082</td>\n",
       "      <td>0.945789</td>\n",
       "      <td>0.952863</td>\n",
       "      <td>0.946393</td>\n",
       "      <td>1.000000</td>\n",
       "      <td>0.965306</td>\n",
       "      <td>0.586049</td>\n",
       "    </tr>\n",
       "    <tr>\n",
       "      <th>streaming_movies</th>\n",
       "      <td>0.553556</td>\n",
       "      <td>0.202241</td>\n",
       "      <td>0.285525</td>\n",
       "      <td>0.863641</td>\n",
       "      <td>0.086577</td>\n",
       "      <td>0.282782</td>\n",
       "      <td>0.000000</td>\n",
       "      <td>0.113778</td>\n",
       "      <td>0.077506</td>\n",
       "      <td>0.084684</td>\n",
       "      <td>0.946294</td>\n",
       "      <td>0.943248</td>\n",
       "      <td>0.945395</td>\n",
       "      <td>0.953717</td>\n",
       "      <td>0.946417</td>\n",
       "      <td>0.965306</td>\n",
       "      <td>1.000000</td>\n",
       "      <td>0.586815</td>\n",
       "    </tr>\n",
       "    <tr>\n",
       "      <th>multiple_lines</th>\n",
       "      <td>0.244410</td>\n",
       "      <td>0.099953</td>\n",
       "      <td>0.174849</td>\n",
       "      <td>0.710101</td>\n",
       "      <td>0.105101</td>\n",
       "      <td>0.306823</td>\n",
       "      <td>0.000000</td>\n",
       "      <td>0.087925</td>\n",
       "      <td>0.086249</td>\n",
       "      <td>0.011198</td>\n",
       "      <td>0.739808</td>\n",
       "      <td>0.540261</td>\n",
       "      <td>0.562933</td>\n",
       "      <td>0.564610</td>\n",
       "      <td>0.541088</td>\n",
       "      <td>0.586049</td>\n",
       "      <td>0.586815</td>\n",
       "      <td>1.000000</td>\n",
       "    </tr>\n",
       "  </tbody>\n",
       "</table>\n",
       "</div>"
      ],
      "text/plain": [
       "                       type  paperless_billing  payment_method  \\\n",
       "type               1.000000           0.106860        0.277462   \n",
       "paperless_billing  0.106860           1.000000        0.370495   \n",
       "payment_method     0.277462           0.370495        1.000000   \n",
       "monthly_charges    0.388266           0.467783        0.399536   \n",
       "active_contract    0.094015           0.083398        0.214832   \n",
       "n_years            0.586767           0.070136        0.434303   \n",
       "gender             0.000000           0.000000        0.000000   \n",
       "senior_citizen     0.086231           0.242133        0.292725   \n",
       "partner            0.179736           0.013218        0.243008   \n",
       "dependents         0.147680           0.172593        0.224903   \n",
       "internet_service   0.505187           0.231438        0.323886   \n",
       "online_security    0.636884           0.208320        0.315799   \n",
       "online_backup      0.581660           0.195321        0.293413   \n",
       "device_protection  0.631531           0.195687        0.297923   \n",
       "tech_support       0.671629           0.200621        0.317713   \n",
       "streaming_tv       0.549564           0.204717        0.284531   \n",
       "streaming_movies   0.553556           0.202241        0.285525   \n",
       "multiple_lines     0.244410           0.099953        0.174849   \n",
       "\n",
       "                   monthly_charges  active_contract   n_years    gender  \\\n",
       "type                      0.388266         0.094015  0.586767  0.000000   \n",
       "paperless_billing         0.467783         0.083398  0.070136  0.000000   \n",
       "payment_method            0.399536         0.214832  0.434303  0.000000   \n",
       "monthly_charges           1.000000         0.225925  0.285962  0.009025   \n",
       "active_contract           0.225925         1.000000  0.347844  0.008581   \n",
       "n_years                   0.285962         0.347844  1.000000  0.028405   \n",
       "gender                    0.009025         0.008581  0.028405  1.000000   \n",
       "senior_citizen            0.304691         0.086159  0.072704  0.000000   \n",
       "partner                   0.203237         0.226688  0.425870  0.000000   \n",
       "dependents                0.184213         0.046871  0.186889  0.000000   \n",
       "internet_service          0.918980         0.056621  0.111387  0.000000   \n",
       "online_security           0.812633         0.058659  0.323101  0.001460   \n",
       "online_backup             0.818858         0.089704  0.341569  0.000000   \n",
       "device_protection         0.827318         0.085608  0.347090  0.000000   \n",
       "tech_support              0.816603         0.051537  0.330178  0.000000   \n",
       "streaming_tv              0.864642         0.078545  0.285367  0.000000   \n",
       "streaming_movies          0.863641         0.086577  0.282782  0.000000   \n",
       "multiple_lines            0.710101         0.105101  0.306823  0.000000   \n",
       "\n",
       "                   senior_citizen   partner  dependents  internet_service  \\\n",
       "type                     0.086231  0.179736    0.147680          0.505187   \n",
       "paperless_billing        0.242133  0.013218    0.172593          0.231438   \n",
       "payment_method           0.292725  0.243008    0.224903          0.323886   \n",
       "monthly_charges          0.304691  0.203237    0.184213          0.918980   \n",
       "active_contract          0.086159  0.226688    0.046871          0.056621   \n",
       "n_years                  0.072704  0.425870    0.186889          0.111387   \n",
       "gender                   0.000000  0.000000    0.000000          0.000000   \n",
       "senior_citizen           1.000000  0.016992    0.324576          0.160702   \n",
       "partner                  0.016992  1.000000    0.652122          0.000000   \n",
       "dependents               0.324576  0.652122    1.000000          0.108463   \n",
       "internet_service         0.160702  0.000000    0.108463          1.000000   \n",
       "online_security          0.127319  0.091202    0.117219          0.949498   \n",
       "online_backup            0.109995  0.092012    0.097766          0.942842   \n",
       "device_protection        0.110177  0.100092    0.094597          0.942811   \n",
       "tech_support             0.135283  0.076326    0.109753          0.948914   \n",
       "streaming_tv             0.111714  0.082251    0.088193          0.946713   \n",
       "streaming_movies         0.113778  0.077506    0.084684          0.946294   \n",
       "multiple_lines           0.087925  0.086249    0.011198          0.739808   \n",
       "\n",
       "                   online_security  online_backup  device_protection  \\\n",
       "type                      0.636884       0.581660           0.631531   \n",
       "paperless_billing         0.208320       0.195321           0.195687   \n",
       "payment_method            0.315799       0.293413           0.297923   \n",
       "monthly_charges           0.812633       0.818858           0.827318   \n",
       "active_contract           0.058659       0.089704           0.085608   \n",
       "n_years                   0.323101       0.341569           0.347090   \n",
       "gender                    0.001460       0.000000           0.000000   \n",
       "senior_citizen            0.127319       0.109995           0.110177   \n",
       "partner                   0.091202       0.092012           0.100092   \n",
       "dependents                0.117219       0.097766           0.094597   \n",
       "internet_service          0.949498       0.942842           0.942811   \n",
       "online_security           1.000000       0.947224           0.946787   \n",
       "online_backup             0.947224       1.000000           0.947487   \n",
       "device_protection         0.946787       0.947487           1.000000   \n",
       "tech_support              0.952651       0.947756           0.950247   \n",
       "streaming_tv              0.943082       0.945789           0.952863   \n",
       "streaming_movies          0.943248       0.945395           0.953717   \n",
       "multiple_lines            0.540261       0.562933           0.564610   \n",
       "\n",
       "                   tech_support  streaming_tv  streaming_movies  \\\n",
       "type                   0.671629      0.549564          0.553556   \n",
       "paperless_billing      0.200621      0.204717          0.202241   \n",
       "payment_method         0.317713      0.284531          0.285525   \n",
       "monthly_charges        0.816603      0.864642          0.863641   \n",
       "active_contract        0.051537      0.078545          0.086577   \n",
       "n_years                0.330178      0.285367          0.282782   \n",
       "gender                 0.000000      0.000000          0.000000   \n",
       "senior_citizen         0.135283      0.111714          0.113778   \n",
       "partner                0.076326      0.082251          0.077506   \n",
       "dependents             0.109753      0.088193          0.084684   \n",
       "internet_service       0.948914      0.946713          0.946294   \n",
       "online_security        0.952651      0.943082          0.943248   \n",
       "online_backup          0.947756      0.945789          0.945395   \n",
       "device_protection      0.950247      0.952863          0.953717   \n",
       "tech_support           1.000000      0.946393          0.946417   \n",
       "streaming_tv           0.946393      1.000000          0.965306   \n",
       "streaming_movies       0.946417      0.965306          1.000000   \n",
       "multiple_lines         0.541088      0.586049          0.586815   \n",
       "\n",
       "                   multiple_lines  \n",
       "type                     0.244410  \n",
       "paperless_billing        0.099953  \n",
       "payment_method           0.174849  \n",
       "monthly_charges          0.710101  \n",
       "active_contract          0.105101  \n",
       "n_years                  0.306823  \n",
       "gender                   0.000000  \n",
       "senior_citizen           0.087925  \n",
       "partner                  0.086249  \n",
       "dependents               0.011198  \n",
       "internet_service         0.739808  \n",
       "online_security          0.540261  \n",
       "online_backup            0.562933  \n",
       "device_protection        0.564610  \n",
       "tech_support             0.541088  \n",
       "streaming_tv             0.586049  \n",
       "streaming_movies         0.586815  \n",
       "multiple_lines           1.000000  "
      ]
     },
     "execution_count": 48,
     "metadata": {},
     "output_type": "execute_result"
    }
   ],
   "source": [
    "interval_cols=['monthly_charges', 'n_years']\n",
    "\n",
    "total_df.phik_matrix(interval_cols=interval_cols)"
   ]
  },
  {
   "cell_type": "code",
   "execution_count": 49,
   "id": "1fe4826e",
   "metadata": {},
   "outputs": [
    {
     "data": {
      "text/plain": [
       "<seaborn.matrix.ClusterGrid at 0x7f32fbde2d90>"
      ]
     },
     "execution_count": 49,
     "metadata": {},
     "output_type": "execute_result"
    },
    {
     "data": {
      "image/png": "[encoded data removed]",
      "text/plain": [
       "<Figure size 720x720 with 4 Axes>"
      ]
     },
     "metadata": {
      "needs_background": "light"
     },
     "output_type": "display_data"
    }
   ],
   "source": [
    "sns.clustermap(total_df.phik_matrix(interval_cols=interval_cols))"
   ]
  },
  {
   "cell_type": "markdown",
   "id": "1f0f0b46",
   "metadata": {},
   "source": [
    "The only strongly correlated variables are monthly_charges and the variables describing various internet services (it's obvious that internet fees are much higher than phone fees). We'll get rid of them."
   ]
  },
  {
   "cell_type": "code",
   "execution_count": 50,
   "id": "cad59753",
   "metadata": {},
   "outputs": [],
   "source": [
    "total_df = total_df.drop(['internet_service', 'online_backup', 'device_protection', 'tech_support', \n",
    "                         'streaming_tv', 'online_security'], axis=1)"
   ]
  },
  {
   "cell_type": "code",
   "execution_count": 51,
   "id": "107042cb",
   "metadata": {},
   "outputs": [
    {
     "data": {
      "text/html": [
       "<div>\n",
       "<style scoped>\n",
       "    .dataframe tbody tr th:only-of-type {\n",
       "        vertical-align: middle;\n",
       "    }\n",
       "\n",
       "    .dataframe tbody tr th {\n",
       "        vertical-align: top;\n",
       "    }\n",
       "\n",
       "    .dataframe thead th {\n",
       "        text-align: right;\n",
       "    }\n",
       "</style>\n",
       "<table border=\"1\" class=\"dataframe\">\n",
       "  <thead>\n",
       "    <tr style=\"text-align: right;\">\n",
       "      <th></th>\n",
       "      <th>type</th>\n",
       "      <th>paperless_billing</th>\n",
       "      <th>payment_method</th>\n",
       "      <th>monthly_charges</th>\n",
       "      <th>active_contract</th>\n",
       "      <th>n_years</th>\n",
       "      <th>gender</th>\n",
       "      <th>senior_citizen</th>\n",
       "      <th>partner</th>\n",
       "      <th>dependents</th>\n",
       "      <th>streaming_movies</th>\n",
       "      <th>multiple_lines</th>\n",
       "    </tr>\n",
       "  </thead>\n",
       "  <tbody>\n",
       "    <tr>\n",
       "      <th>type</th>\n",
       "      <td>1.000000</td>\n",
       "      <td>0.106860</td>\n",
       "      <td>0.277462</td>\n",
       "      <td>0.388266</td>\n",
       "      <td>0.094015</td>\n",
       "      <td>0.586767</td>\n",
       "      <td>0.000000</td>\n",
       "      <td>0.086231</td>\n",
       "      <td>0.179736</td>\n",
       "      <td>0.147680</td>\n",
       "      <td>0.553556</td>\n",
       "      <td>0.244410</td>\n",
       "    </tr>\n",
       "    <tr>\n",
       "      <th>paperless_billing</th>\n",
       "      <td>0.106860</td>\n",
       "      <td>1.000000</td>\n",
       "      <td>0.370495</td>\n",
       "      <td>0.467783</td>\n",
       "      <td>0.083398</td>\n",
       "      <td>0.070136</td>\n",
       "      <td>0.000000</td>\n",
       "      <td>0.242133</td>\n",
       "      <td>0.013218</td>\n",
       "      <td>0.172593</td>\n",
       "      <td>0.202241</td>\n",
       "      <td>0.099953</td>\n",
       "    </tr>\n",
       "    <tr>\n",
       "      <th>payment_method</th>\n",
       "      <td>0.277462</td>\n",
       "      <td>0.370495</td>\n",
       "      <td>1.000000</td>\n",
       "      <td>0.399536</td>\n",
       "      <td>0.214832</td>\n",
       "      <td>0.434303</td>\n",
       "      <td>0.000000</td>\n",
       "      <td>0.292725</td>\n",
       "      <td>0.243008</td>\n",
       "      <td>0.224903</td>\n",
       "      <td>0.285525</td>\n",
       "      <td>0.174849</td>\n",
       "    </tr>\n",
       "    <tr>\n",
       "      <th>monthly_charges</th>\n",
       "      <td>0.388266</td>\n",
       "      <td>0.467783</td>\n",
       "      <td>0.399536</td>\n",
       "      <td>1.000000</td>\n",
       "      <td>0.225925</td>\n",
       "      <td>0.285962</td>\n",
       "      <td>0.009025</td>\n",
       "      <td>0.304691</td>\n",
       "      <td>0.203237</td>\n",
       "      <td>0.184213</td>\n",
       "      <td>0.863641</td>\n",
       "      <td>0.710101</td>\n",
       "    </tr>\n",
       "    <tr>\n",
       "      <th>active_contract</th>\n",
       "      <td>0.094015</td>\n",
       "      <td>0.083398</td>\n",
       "      <td>0.214832</td>\n",
       "      <td>0.225925</td>\n",
       "      <td>1.000000</td>\n",
       "      <td>0.347844</td>\n",
       "      <td>0.008581</td>\n",
       "      <td>0.086159</td>\n",
       "      <td>0.226688</td>\n",
       "      <td>0.046871</td>\n",
       "      <td>0.086577</td>\n",
       "      <td>0.105101</td>\n",
       "    </tr>\n",
       "    <tr>\n",
       "      <th>n_years</th>\n",
       "      <td>0.586767</td>\n",
       "      <td>0.070136</td>\n",
       "      <td>0.434303</td>\n",
       "      <td>0.285962</td>\n",
       "      <td>0.347844</td>\n",
       "      <td>1.000000</td>\n",
       "      <td>0.028405</td>\n",
       "      <td>0.072704</td>\n",
       "      <td>0.425870</td>\n",
       "      <td>0.186889</td>\n",
       "      <td>0.282782</td>\n",
       "      <td>0.306823</td>\n",
       "    </tr>\n",
       "    <tr>\n",
       "      <th>gender</th>\n",
       "      <td>0.000000</td>\n",
       "      <td>0.000000</td>\n",
       "      <td>0.000000</td>\n",
       "      <td>0.009025</td>\n",
       "      <td>0.008581</td>\n",
       "      <td>0.028405</td>\n",
       "      <td>1.000000</td>\n",
       "      <td>0.000000</td>\n",
       "      <td>0.000000</td>\n",
       "      <td>0.000000</td>\n",
       "      <td>0.000000</td>\n",
       "      <td>0.000000</td>\n",
       "    </tr>\n",
       "    <tr>\n",
       "      <th>senior_citizen</th>\n",
       "      <td>0.086231</td>\n",
       "      <td>0.242133</td>\n",
       "      <td>0.292725</td>\n",
       "      <td>0.304691</td>\n",
       "      <td>0.086159</td>\n",
       "      <td>0.072704</td>\n",
       "      <td>0.000000</td>\n",
       "      <td>1.000000</td>\n",
       "      <td>0.016992</td>\n",
       "      <td>0.324576</td>\n",
       "      <td>0.113778</td>\n",
       "      <td>0.087925</td>\n",
       "    </tr>\n",
       "    <tr>\n",
       "      <th>partner</th>\n",
       "      <td>0.179736</td>\n",
       "      <td>0.013218</td>\n",
       "      <td>0.243008</td>\n",
       "      <td>0.203237</td>\n",
       "      <td>0.226688</td>\n",
       "      <td>0.425870</td>\n",
       "      <td>0.000000</td>\n",
       "      <td>0.016992</td>\n",
       "      <td>1.000000</td>\n",
       "      <td>0.652122</td>\n",
       "      <td>0.077506</td>\n",
       "      <td>0.086249</td>\n",
       "    </tr>\n",
       "    <tr>\n",
       "      <th>dependents</th>\n",
       "      <td>0.147680</td>\n",
       "      <td>0.172593</td>\n",
       "      <td>0.224903</td>\n",
       "      <td>0.184213</td>\n",
       "      <td>0.046871</td>\n",
       "      <td>0.186889</td>\n",
       "      <td>0.000000</td>\n",
       "      <td>0.324576</td>\n",
       "      <td>0.652122</td>\n",
       "      <td>1.000000</td>\n",
       "      <td>0.084684</td>\n",
       "      <td>0.011198</td>\n",
       "    </tr>\n",
       "    <tr>\n",
       "      <th>streaming_movies</th>\n",
       "      <td>0.553556</td>\n",
       "      <td>0.202241</td>\n",
       "      <td>0.285525</td>\n",
       "      <td>0.863641</td>\n",
       "      <td>0.086577</td>\n",
       "      <td>0.282782</td>\n",
       "      <td>0.000000</td>\n",
       "      <td>0.113778</td>\n",
       "      <td>0.077506</td>\n",
       "      <td>0.084684</td>\n",
       "      <td>1.000000</td>\n",
       "      <td>0.586815</td>\n",
       "    </tr>\n",
       "    <tr>\n",
       "      <th>multiple_lines</th>\n",
       "      <td>0.244410</td>\n",
       "      <td>0.099953</td>\n",
       "      <td>0.174849</td>\n",
       "      <td>0.710101</td>\n",
       "      <td>0.105101</td>\n",
       "      <td>0.306823</td>\n",
       "      <td>0.000000</td>\n",
       "      <td>0.087925</td>\n",
       "      <td>0.086249</td>\n",
       "      <td>0.011198</td>\n",
       "      <td>0.586815</td>\n",
       "      <td>1.000000</td>\n",
       "    </tr>\n",
       "  </tbody>\n",
       "</table>\n",
       "</div>"
      ],
      "text/plain": [
       "                       type  paperless_billing  payment_method  \\\n",
       "type               1.000000           0.106860        0.277462   \n",
       "paperless_billing  0.106860           1.000000        0.370495   \n",
       "payment_method     0.277462           0.370495        1.000000   \n",
       "monthly_charges    0.388266           0.467783        0.399536   \n",
       "active_contract    0.094015           0.083398        0.214832   \n",
       "n_years            0.586767           0.070136        0.434303   \n",
       "gender             0.000000           0.000000        0.000000   \n",
       "senior_citizen     0.086231           0.242133        0.292725   \n",
       "partner            0.179736           0.013218        0.243008   \n",
       "dependents         0.147680           0.172593        0.224903   \n",
       "streaming_movies   0.553556           0.202241        0.285525   \n",
       "multiple_lines     0.244410           0.099953        0.174849   \n",
       "\n",
       "                   monthly_charges  active_contract   n_years    gender  \\\n",
       "type                      0.388266         0.094015  0.586767  0.000000   \n",
       "paperless_billing         0.467783         0.083398  0.070136  0.000000   \n",
       "payment_method            0.399536         0.214832  0.434303  0.000000   \n",
       "monthly_charges           1.000000         0.225925  0.285962  0.009025   \n",
       "active_contract           0.225925         1.000000  0.347844  0.008581   \n",
       "n_years                   0.285962         0.347844  1.000000  0.028405   \n",
       "gender                    0.009025         0.008581  0.028405  1.000000   \n",
       "senior_citizen            0.304691         0.086159  0.072704  0.000000   \n",
       "partner                   0.203237         0.226688  0.425870  0.000000   \n",
       "dependents                0.184213         0.046871  0.186889  0.000000   \n",
       "streaming_movies          0.863641         0.086577  0.282782  0.000000   \n",
       "multiple_lines            0.710101         0.105101  0.306823  0.000000   \n",
       "\n",
       "                   senior_citizen   partner  dependents  streaming_movies  \\\n",
       "type                     0.086231  0.179736    0.147680          0.553556   \n",
       "paperless_billing        0.242133  0.013218    0.172593          0.202241   \n",
       "payment_method           0.292725  0.243008    0.224903          0.285525   \n",
       "monthly_charges          0.304691  0.203237    0.184213          0.863641   \n",
       "active_contract          0.086159  0.226688    0.046871          0.086577   \n",
       "n_years                  0.072704  0.425870    0.186889          0.282782   \n",
       "gender                   0.000000  0.000000    0.000000          0.000000   \n",
       "senior_citizen           1.000000  0.016992    0.324576          0.113778   \n",
       "partner                  0.016992  1.000000    0.652122          0.077506   \n",
       "dependents               0.324576  0.652122    1.000000          0.084684   \n",
       "streaming_movies         0.113778  0.077506    0.084684          1.000000   \n",
       "multiple_lines           0.087925  0.086249    0.011198          0.586815   \n",
       "\n",
       "                   multiple_lines  \n",
       "type                     0.244410  \n",
       "paperless_billing        0.099953  \n",
       "payment_method           0.174849  \n",
       "monthly_charges          0.710101  \n",
       "active_contract          0.105101  \n",
       "n_years                  0.306823  \n",
       "gender                   0.000000  \n",
       "senior_citizen           0.087925  \n",
       "partner                  0.086249  \n",
       "dependents               0.011198  \n",
       "streaming_movies         0.586815  \n",
       "multiple_lines           1.000000  "
      ]
     },
     "execution_count": 51,
     "metadata": {},
     "output_type": "execute_result"
    }
   ],
   "source": [
    "total_df.phik_matrix(interval_cols=interval_cols)"
   ]
  },
  {
   "cell_type": "code",
   "execution_count": 52,
   "id": "3c66fd70",
   "metadata": {},
   "outputs": [
    {
     "data": {
      "text/plain": [
       "<seaborn.matrix.ClusterGrid at 0x7f32fbb6c820>"
      ]
     },
     "execution_count": 52,
     "metadata": {},
     "output_type": "execute_result"
    },
    {
     "data": {
      "image/png": "[encoded data removed]",
      "text/plain": [
       "<Figure size 720x720 with 4 Axes>"
      ]
     },
     "metadata": {
      "needs_background": "light"
     },
     "output_type": "display_data"
    }
   ],
   "source": [
    "sns.clustermap(total_df.phik_matrix(interval_cols=interval_cols))"
   ]
  },
  {
   "cell_type": "markdown",
   "id": "61addb58",
   "metadata": {},
   "source": [
    "## Data preparation"
   ]
  },
  {
   "cell_type": "markdown",
   "id": "1caf74fe",
   "metadata": {},
   "source": [
    "### Train-test split"
   ]
  },
  {
   "cell_type": "code",
   "execution_count": 53,
   "id": "c679b065",
   "metadata": {},
   "outputs": [],
   "source": [
    "train, test = train_test_split(total_df, test_size = .25, stratify=total_df['active_contract'], \n",
    "                              random_state=RANDOM_STATE)"
   ]
  },
  {
   "cell_type": "code",
   "execution_count": 54,
   "id": "d3806410",
   "metadata": {},
   "outputs": [],
   "source": [
    "y_train = train['active_contract']\n",
    "X_train = train.drop('active_contract', axis=1)\n",
    "\n",
    "y_test = test['active_contract']\n",
    "X_test = test.drop('active_contract', axis=1)"
   ]
  },
  {
   "cell_type": "markdown",
   "id": "556b4749",
   "metadata": {},
   "source": [
    "### Transformers"
   ]
  },
  {
   "cell_type": "code",
   "execution_count": 55,
   "id": "5f111f7f",
   "metadata": {},
   "outputs": [],
   "source": [
    "categorical_features = ['type', 'paperless_billing', 'payment_method', 'senior_citizen', 'dependents', 'partner', 'gender']\n",
    "categorical_features_service_specific = ['streaming_movies', 'multiple_lines']\n",
    "numerical_features = ['monthly_charges', 'n_years'] "
   ]
  },
  {
   "cell_type": "code",
   "execution_count": 56,
   "id": "50c9bf66",
   "metadata": {},
   "outputs": [],
   "source": [
    "numerical_transformer = Pipeline([\n",
    "    ('scaler', MaxAbsScaler()),\n",
    "])\n",
    "\n",
    "\n",
    "categorical_transformer = categorical_transformer = Pipeline([\n",
    "    ('imputer', SimpleImputer(strategy='most_frequent')),\n",
    "    ('onehot', OneHotEncoder(drop='first', handle_unknown='error'))\n",
    "])\n",
    "\n",
    "categorical_service_specific_transformer = Pipeline([\n",
    "    ('imputer', SimpleImputer(strategy='most_frequent')),\n",
    "    ('onehot', OneHotEncoder(drop=['Not used']*len(categorical_features_service_specific), handle_unknown='error'))\n",
    "])"
   ]
  },
  {
   "cell_type": "code",
   "execution_count": 57,
   "id": "2240888a",
   "metadata": {},
   "outputs": [],
   "source": [
    "preprocessor_for_classifier = ColumnTransformer([\n",
    "    ('num', numerical_transformer, numerical_features),\n",
    "    ('cat', categorical_transformer, categorical_features), \n",
    "    ('cat_ss', categorical_service_specific_transformer, categorical_features_service_specific),\n",
    "], remainder='passthrough')"
   ]
  },
  {
   "cell_type": "code",
   "execution_count": 58,
   "id": "54f2082d",
   "metadata": {},
   "outputs": [],
   "source": [
    "train_transformed = preprocessor_for_classifier.fit_transform(X_train)\n",
    "X_train_transformed = pd.DataFrame(train_transformed, \n",
    "                                   columns = get_column_names_from_ColumnTransformer(preprocessor_for_classifier))\n",
    "\n",
    "test_transformed = preprocessor_for_classifier.transform(X_test)\n",
    "X_test_transformed = pd.DataFrame(test_transformed, \n",
    "                                   columns = get_column_names_from_ColumnTransformer(preprocessor_for_classifier))"
   ]
  },
  {
   "cell_type": "code",
   "execution_count": 59,
   "id": "86dfee81",
   "metadata": {},
   "outputs": [
    {
     "data": {
      "text/html": [
       "<div>\n",
       "<style scoped>\n",
       "    .dataframe tbody tr th:only-of-type {\n",
       "        vertical-align: middle;\n",
       "    }\n",
       "\n",
       "    .dataframe tbody tr th {\n",
       "        vertical-align: top;\n",
       "    }\n",
       "\n",
       "    .dataframe thead th {\n",
       "        text-align: right;\n",
       "    }\n",
       "</style>\n",
       "<table border=\"1\" class=\"dataframe\">\n",
       "  <thead>\n",
       "    <tr style=\"text-align: right;\">\n",
       "      <th></th>\n",
       "      <th>monthly_charges</th>\n",
       "      <th>n_years</th>\n",
       "      <th>x0_One year</th>\n",
       "      <th>x0_Two year</th>\n",
       "      <th>x1_Yes</th>\n",
       "      <th>x2_Credit card (automatic)</th>\n",
       "      <th>x2_Electronic check</th>\n",
       "      <th>x2_Mailed check</th>\n",
       "      <th>x3_True</th>\n",
       "      <th>x4_Yes</th>\n",
       "      <th>x5_Yes</th>\n",
       "      <th>x6_Male</th>\n",
       "      <th>x0_No</th>\n",
       "      <th>x0_Yes</th>\n",
       "      <th>x1_No</th>\n",
       "      <th>x1_Yes</th>\n",
       "    </tr>\n",
       "  </thead>\n",
       "  <tbody>\n",
       "    <tr>\n",
       "      <th>0</th>\n",
       "      <td>0.798737</td>\n",
       "      <td>0.142857</td>\n",
       "      <td>0.0</td>\n",
       "      <td>0.0</td>\n",
       "      <td>1.0</td>\n",
       "      <td>0.0</td>\n",
       "      <td>1.0</td>\n",
       "      <td>0.0</td>\n",
       "      <td>0.0</td>\n",
       "      <td>0.0</td>\n",
       "      <td>0.0</td>\n",
       "      <td>0.0</td>\n",
       "      <td>0.0</td>\n",
       "      <td>1.0</td>\n",
       "      <td>0.0</td>\n",
       "      <td>1.0</td>\n",
       "    </tr>\n",
       "    <tr>\n",
       "      <th>1</th>\n",
       "      <td>0.626105</td>\n",
       "      <td>0.000000</td>\n",
       "      <td>0.0</td>\n",
       "      <td>0.0</td>\n",
       "      <td>0.0</td>\n",
       "      <td>0.0</td>\n",
       "      <td>1.0</td>\n",
       "      <td>0.0</td>\n",
       "      <td>0.0</td>\n",
       "      <td>0.0</td>\n",
       "      <td>0.0</td>\n",
       "      <td>0.0</td>\n",
       "      <td>1.0</td>\n",
       "      <td>0.0</td>\n",
       "      <td>1.0</td>\n",
       "      <td>0.0</td>\n",
       "    </tr>\n",
       "    <tr>\n",
       "      <th>2</th>\n",
       "      <td>0.245474</td>\n",
       "      <td>0.142857</td>\n",
       "      <td>0.0</td>\n",
       "      <td>0.0</td>\n",
       "      <td>1.0</td>\n",
       "      <td>0.0</td>\n",
       "      <td>0.0</td>\n",
       "      <td>1.0</td>\n",
       "      <td>0.0</td>\n",
       "      <td>0.0</td>\n",
       "      <td>0.0</td>\n",
       "      <td>0.0</td>\n",
       "      <td>1.0</td>\n",
       "      <td>0.0</td>\n",
       "      <td>0.0</td>\n",
       "      <td>0.0</td>\n",
       "    </tr>\n",
       "    <tr>\n",
       "      <th>3</th>\n",
       "      <td>0.587368</td>\n",
       "      <td>0.142857</td>\n",
       "      <td>0.0</td>\n",
       "      <td>0.0</td>\n",
       "      <td>1.0</td>\n",
       "      <td>0.0</td>\n",
       "      <td>1.0</td>\n",
       "      <td>0.0</td>\n",
       "      <td>1.0</td>\n",
       "      <td>0.0</td>\n",
       "      <td>0.0</td>\n",
       "      <td>1.0</td>\n",
       "      <td>1.0</td>\n",
       "      <td>0.0</td>\n",
       "      <td>1.0</td>\n",
       "      <td>0.0</td>\n",
       "    </tr>\n",
       "    <tr>\n",
       "      <th>4</th>\n",
       "      <td>0.807158</td>\n",
       "      <td>0.142857</td>\n",
       "      <td>0.0</td>\n",
       "      <td>0.0</td>\n",
       "      <td>1.0</td>\n",
       "      <td>0.0</td>\n",
       "      <td>1.0</td>\n",
       "      <td>0.0</td>\n",
       "      <td>0.0</td>\n",
       "      <td>0.0</td>\n",
       "      <td>0.0</td>\n",
       "      <td>1.0</td>\n",
       "      <td>0.0</td>\n",
       "      <td>1.0</td>\n",
       "      <td>1.0</td>\n",
       "      <td>0.0</td>\n",
       "    </tr>\n",
       "  </tbody>\n",
       "</table>\n",
       "</div>"
      ],
      "text/plain": [
       "   monthly_charges   n_years  x0_One year  x0_Two year  x1_Yes  \\\n",
       "0         0.798737  0.142857          0.0          0.0     1.0   \n",
       "1         0.626105  0.000000          0.0          0.0     0.0   \n",
       "2         0.245474  0.142857          0.0          0.0     1.0   \n",
       "3         0.587368  0.142857          0.0          0.0     1.0   \n",
       "4         0.807158  0.142857          0.0          0.0     1.0   \n",
       "\n",
       "   x2_Credit card (automatic)  x2_Electronic check  x2_Mailed check  x3_True  \\\n",
       "0                         0.0                  1.0              0.0      0.0   \n",
       "1                         0.0                  1.0              0.0      0.0   \n",
       "2                         0.0                  0.0              1.0      0.0   \n",
       "3                         0.0                  1.0              0.0      1.0   \n",
       "4                         0.0                  1.0              0.0      0.0   \n",
       "\n",
       "   x4_Yes  x5_Yes  x6_Male  x0_No  x0_Yes  x1_No  x1_Yes  \n",
       "0     0.0     0.0      0.0    0.0     1.0    0.0     1.0  \n",
       "1     0.0     0.0      0.0    1.0     0.0    1.0     0.0  \n",
       "2     0.0     0.0      0.0    1.0     0.0    0.0     0.0  \n",
       "3     0.0     0.0      1.0    1.0     0.0    1.0     0.0  \n",
       "4     0.0     0.0      1.0    0.0     1.0    1.0     0.0  "
      ]
     },
     "execution_count": 59,
     "metadata": {},
     "output_type": "execute_result"
    }
   ],
   "source": [
    "X_train_transformed.head()"
   ]
  },
  {
   "cell_type": "markdown",
   "id": "e9f61cd7",
   "metadata": {},
   "source": [
    "I beautified the names of the encoded features to make the further analysis of the features more visually appealing "
   ]
  },
  {
   "cell_type": "code",
   "execution_count": 60,
   "id": "b3d921dd",
   "metadata": {},
   "outputs": [],
   "source": [
    "X_train_transformed.columns = X_test_transformed.columns = ['monthly_charges', 'n_years', 'type_one_year',\n",
    "'type_two_year',\n",
    "'payment_paperless_billing',\n",
    "'payment_method_credit_card',\n",
    "'payment_method_electronic_check',\n",
    "'payment_method_mailed_check',\n",
    "'is_senior',\n",
    "'dependents',\n",
    "'partner',\n",
    "'gender_male',\n",
    "'streaming_movies_no',\n",
    "'streaming_movies_yes',\n",
    "'multiple_lines_no',\n",
    "'multiple_lines_yes']"
   ]
  },
  {
   "cell_type": "code",
   "execution_count": 61,
   "id": "2a7920a4",
   "metadata": {},
   "outputs": [
    {
     "data": {
      "text/html": [
       "<div>\n",
       "<style scoped>\n",
       "    .dataframe tbody tr th:only-of-type {\n",
       "        vertical-align: middle;\n",
       "    }\n",
       "\n",
       "    .dataframe tbody tr th {\n",
       "        vertical-align: top;\n",
       "    }\n",
       "\n",
       "    .dataframe thead th {\n",
       "        text-align: right;\n",
       "    }\n",
       "</style>\n",
       "<table border=\"1\" class=\"dataframe\">\n",
       "  <thead>\n",
       "    <tr style=\"text-align: right;\">\n",
       "      <th></th>\n",
       "      <th>monthly_charges</th>\n",
       "      <th>n_years</th>\n",
       "      <th>type_one_year</th>\n",
       "      <th>type_two_year</th>\n",
       "      <th>payment_paperless_billing</th>\n",
       "      <th>payment_method_credit_card</th>\n",
       "      <th>payment_method_electronic_check</th>\n",
       "      <th>payment_method_mailed_check</th>\n",
       "      <th>is_senior</th>\n",
       "      <th>dependents</th>\n",
       "      <th>partner</th>\n",
       "      <th>gender_male</th>\n",
       "      <th>streaming_movies_no</th>\n",
       "      <th>streaming_movies_yes</th>\n",
       "      <th>multiple_lines_no</th>\n",
       "      <th>multiple_lines_yes</th>\n",
       "    </tr>\n",
       "  </thead>\n",
       "  <tbody>\n",
       "    <tr>\n",
       "      <th>0</th>\n",
       "      <td>0.798737</td>\n",
       "      <td>0.142857</td>\n",
       "      <td>0.0</td>\n",
       "      <td>0.0</td>\n",
       "      <td>1.0</td>\n",
       "      <td>0.0</td>\n",
       "      <td>1.0</td>\n",
       "      <td>0.0</td>\n",
       "      <td>0.0</td>\n",
       "      <td>0.0</td>\n",
       "      <td>0.0</td>\n",
       "      <td>0.0</td>\n",
       "      <td>0.0</td>\n",
       "      <td>1.0</td>\n",
       "      <td>0.0</td>\n",
       "      <td>1.0</td>\n",
       "    </tr>\n",
       "    <tr>\n",
       "      <th>1</th>\n",
       "      <td>0.626105</td>\n",
       "      <td>0.000000</td>\n",
       "      <td>0.0</td>\n",
       "      <td>0.0</td>\n",
       "      <td>0.0</td>\n",
       "      <td>0.0</td>\n",
       "      <td>1.0</td>\n",
       "      <td>0.0</td>\n",
       "      <td>0.0</td>\n",
       "      <td>0.0</td>\n",
       "      <td>0.0</td>\n",
       "      <td>0.0</td>\n",
       "      <td>1.0</td>\n",
       "      <td>0.0</td>\n",
       "      <td>1.0</td>\n",
       "      <td>0.0</td>\n",
       "    </tr>\n",
       "    <tr>\n",
       "      <th>2</th>\n",
       "      <td>0.245474</td>\n",
       "      <td>0.142857</td>\n",
       "      <td>0.0</td>\n",
       "      <td>0.0</td>\n",
       "      <td>1.0</td>\n",
       "      <td>0.0</td>\n",
       "      <td>0.0</td>\n",
       "      <td>1.0</td>\n",
       "      <td>0.0</td>\n",
       "      <td>0.0</td>\n",
       "      <td>0.0</td>\n",
       "      <td>0.0</td>\n",
       "      <td>1.0</td>\n",
       "      <td>0.0</td>\n",
       "      <td>0.0</td>\n",
       "      <td>0.0</td>\n",
       "    </tr>\n",
       "    <tr>\n",
       "      <th>3</th>\n",
       "      <td>0.587368</td>\n",
       "      <td>0.142857</td>\n",
       "      <td>0.0</td>\n",
       "      <td>0.0</td>\n",
       "      <td>1.0</td>\n",
       "      <td>0.0</td>\n",
       "      <td>1.0</td>\n",
       "      <td>0.0</td>\n",
       "      <td>1.0</td>\n",
       "      <td>0.0</td>\n",
       "      <td>0.0</td>\n",
       "      <td>1.0</td>\n",
       "      <td>1.0</td>\n",
       "      <td>0.0</td>\n",
       "      <td>1.0</td>\n",
       "      <td>0.0</td>\n",
       "    </tr>\n",
       "    <tr>\n",
       "      <th>4</th>\n",
       "      <td>0.807158</td>\n",
       "      <td>0.142857</td>\n",
       "      <td>0.0</td>\n",
       "      <td>0.0</td>\n",
       "      <td>1.0</td>\n",
       "      <td>0.0</td>\n",
       "      <td>1.0</td>\n",
       "      <td>0.0</td>\n",
       "      <td>0.0</td>\n",
       "      <td>0.0</td>\n",
       "      <td>0.0</td>\n",
       "      <td>1.0</td>\n",
       "      <td>0.0</td>\n",
       "      <td>1.0</td>\n",
       "      <td>1.0</td>\n",
       "      <td>0.0</td>\n",
       "    </tr>\n",
       "  </tbody>\n",
       "</table>\n",
       "</div>"
      ],
      "text/plain": [
       "   monthly_charges   n_years  type_one_year  type_two_year  \\\n",
       "0         0.798737  0.142857            0.0            0.0   \n",
       "1         0.626105  0.000000            0.0            0.0   \n",
       "2         0.245474  0.142857            0.0            0.0   \n",
       "3         0.587368  0.142857            0.0            0.0   \n",
       "4         0.807158  0.142857            0.0            0.0   \n",
       "\n",
       "   payment_paperless_billing  payment_method_credit_card  \\\n",
       "0                        1.0                         0.0   \n",
       "1                        0.0                         0.0   \n",
       "2                        1.0                         0.0   \n",
       "3                        1.0                         0.0   \n",
       "4                        1.0                         0.0   \n",
       "\n",
       "   payment_method_electronic_check  payment_method_mailed_check  is_senior  \\\n",
       "0                              1.0                          0.0        0.0   \n",
       "1                              1.0                          0.0        0.0   \n",
       "2                              0.0                          1.0        0.0   \n",
       "3                              1.0                          0.0        1.0   \n",
       "4                              1.0                          0.0        0.0   \n",
       "\n",
       "   dependents  partner  gender_male  streaming_movies_no  \\\n",
       "0         0.0      0.0          0.0                  0.0   \n",
       "1         0.0      0.0          0.0                  1.0   \n",
       "2         0.0      0.0          0.0                  1.0   \n",
       "3         0.0      0.0          1.0                  1.0   \n",
       "4         0.0      0.0          1.0                  0.0   \n",
       "\n",
       "   streaming_movies_yes  multiple_lines_no  multiple_lines_yes  \n",
       "0                   1.0                0.0                 1.0  \n",
       "1                   0.0                1.0                 0.0  \n",
       "2                   0.0                0.0                 0.0  \n",
       "3                   0.0                1.0                 0.0  \n",
       "4                   1.0                1.0                 0.0  "
      ]
     },
     "execution_count": 61,
     "metadata": {},
     "output_type": "execute_result"
    }
   ],
   "source": [
    "X_train_transformed.head()"
   ]
  },
  {
   "cell_type": "markdown",
   "id": "a122cf5a",
   "metadata": {},
   "source": [
    "## Model training"
   ]
  },
  {
   "cell_type": "markdown",
   "id": "82e1ed78",
   "metadata": {},
   "source": [
    "### Random forest"
   ]
  },
  {
   "cell_type": "code",
   "execution_count": 62,
   "id": "ab35fc8d",
   "metadata": {},
   "outputs": [
    {
     "name": "stdout",
     "output_type": "stream",
     "text": [
      "Best Parameters: {'n_estimators': 380, 'min_samples_split': 2, 'min_samples_leaf': 10, 'max_features': 'auto', 'bootstrap': False}\n",
      "Best Score: 0.8458175317632088\n"
     ]
    }
   ],
   "source": [
    "param_dist = {\n",
    "    'n_estimators': np.arange(150, 400, 10),\n",
    "    'max_features': ['auto', 'sqrt', 'log2'],\n",
    "    'min_samples_split': [2, 4],\n",
    "    'min_samples_leaf': [9, 10, 11], \n",
    "    'bootstrap': [True, False]\n",
    "}\n",
    "\n",
    "\n",
    "rf = RandomForestClassifier(random_state=RANDOM_STATE)\n",
    "\n",
    "\n",
    "rf_random = RandomizedSearchCV(estimator=rf,\n",
    "                               scoring='roc_auc',\n",
    "                               param_distributions=param_dist,\n",
    "                               n_iter=10,\n",
    "                               cv=5, \n",
    "                               verbose=0,\n",
    "                               random_state=RANDOM_STATE,\n",
    "                               n_jobs=-1)\n",
    "\n",
    "\n",
    "rf_random.fit(X_train_transformed, y_train)\n",
    "\n",
    "\n",
    "print(f\"Best Parameters: {rf_random.best_params_}\")\n",
    "print(f\"Best Score: {rf_random.best_score_}\")"
   ]
  },
  {
   "cell_type": "markdown",
   "id": "fcb05979",
   "metadata": {},
   "source": [
    "### CatBoost"
   ]
  },
  {
   "cell_type": "code",
   "execution_count": 63,
   "id": "685b5892",
   "metadata": {},
   "outputs": [
    {
     "name": "stdout",
     "output_type": "stream",
     "text": [
      "Best Parameters: {'depth': 4, 'learning_rate': 0.2, 'n_estimators': 50}\n",
      "Best Score: 0.8567662385261249\n"
     ]
    }
   ],
   "source": [
    "param_grid = {\n",
    "    'learning_rate': [0.05, 0.1, 0.2],\n",
    "    'n_estimators': [40 , 50, 100, 300, 500],\n",
    "    'depth': [2, 4]\n",
    "}\n",
    "\n",
    "model = CatBoostClassifier(random_state=RANDOM_STATE, verbose=0)\n",
    "\n",
    "cb_grid = GridSearchCV(model, param_grid, cv=5, scoring='roc_auc')\n",
    "cb_grid.fit(X_train_transformed, y_train)\n",
    "\n",
    "print(f\"Best Parameters: {cb_grid.best_params_}\")\n",
    "print(f\"Best Score: {cb_grid.best_score_}\")"
   ]
  },
  {
   "cell_type": "markdown",
   "id": "9e14ea44",
   "metadata": {},
   "source": [
    "## Best performance model analysis"
   ]
  },
  {
   "cell_type": "markdown",
   "id": "efc32146",
   "metadata": {},
   "source": [
    "In our case, this is a CatBoostClassifier with the parameters {'depth': 4, 'learning_rate': 0.2, 'n_estimators': 50}."
   ]
  },
  {
   "cell_type": "code",
   "execution_count": 64,
   "id": "43e1b0c8",
   "metadata": {},
   "outputs": [
    {
     "data": {
      "text/plain": [
       "0.8557163832130184"
      ]
     },
     "execution_count": 64,
     "metadata": {},
     "output_type": "execute_result"
    }
   ],
   "source": [
    "y_pred = cb_grid.best_estimator_.predict_proba(X_test_transformed)[:, 1]\n",
    "roc_auc_score(y_test, y_pred)"
   ]
  },
  {
   "cell_type": "code",
   "execution_count": 65,
   "id": "e77db6ab",
   "metadata": {},
   "outputs": [
    {
     "data": {
      "image/png": "[encoded data removed]",
      "text/plain": [
       "<Figure size 432x288 with 1 Axes>"
      ]
     },
     "metadata": {
      "needs_background": "light"
     },
     "output_type": "display_data"
    }
   ],
   "source": [
    "fpr, tpr, threshold = metrics.roc_curve(y_test, y_pred)\n",
    "roc_auc = metrics.auc(fpr, tpr)\n",
    "\n",
    "plt.title('Receiver Operating Characteristic')\n",
    "plt.plot(fpr, tpr, 'b', label = 'AUC = %0.2f' % roc_auc)\n",
    "plt.legend(loc = 'lower right')\n",
    "plt.plot([0, 1], [0, 1],'r--')\n",
    "plt.xlim([0, 1])\n",
    "plt.ylim([0, 1])\n",
    "plt.ylabel('True Positive Rate')\n",
    "plt.xlabel('False Positive Rate')\n",
    "plt.show()"
   ]
  },
  {
   "cell_type": "markdown",
   "id": "db43fb60",
   "metadata": {},
   "source": [
    "accuracy calculation:"
   ]
  },
  {
   "cell_type": "code",
   "execution_count": 66,
   "id": "9f10b3ad",
   "metadata": {},
   "outputs": [
    {
     "name": "stdout",
     "output_type": "stream",
     "text": [
      "CatBoost accuracy score on test set: 0.8705281090289608\n"
     ]
    }
   ],
   "source": [
    "y_pred_classes = pd.Series(y_pred > .5, index=X_test.index)\n",
    "print(f\"CatBoost accuracy score on test set: {accuracy_score(y_test, y_pred_classes.astype(bool))}\")"
   ]
  },
  {
   "cell_type": "markdown",
   "id": "ab4f4957",
   "metadata": {},
   "source": [
    "feature importance estimation:"
   ]
  },
  {
   "cell_type": "code",
   "execution_count": 67,
   "id": "67c10b13",
   "metadata": {},
   "outputs": [
    {
     "data": {
      "image/png": "[encoded data removed]",
      "text/plain": [
       "<Figure size 432x288 with 1 Axes>"
      ]
     },
     "metadata": {
      "needs_background": "light"
     },
     "output_type": "display_data"
    }
   ],
   "source": [
    "importances = cb_grid.best_estimator_.feature_importances_\n",
    "labels = cb_grid.best_estimator_.feature_names_\n",
    "importances = pd.Series(importances, index=labels)\n",
    "\n",
    "importances = importances.sort_values()\n",
    "\n",
    "plt.barh(range(len(importances)), importances)\n",
    "plt.yticks(range(len(importances)), importances.index)\n",
    "plt.xlabel('importance')\n",
    "plt.show()"
   ]
  },
  {
   "cell_type": "markdown",
   "id": "d11a4fa3",
   "metadata": {},
   "source": [
    "So, we see that the most significant factor influencing a customer's decision to terminate their contract is the number of years spent with the provider (which makes sense considering the trends observed during the initial data analysis). Additionally, the monthly fee and the payment type affect the customer's decision (if a customer pays annually or biannually, they are more likely to discontinue the services)."
   ]
  },
  {
   "cell_type": "code",
   "execution_count": 69,
   "id": "3e02894e",
   "metadata": {},
   "outputs": [
    {
     "data": {
      "text/html": [
       "<div>\n",
       "<style scoped>\n",
       "    .dataframe tbody tr th:only-of-type {\n",
       "        vertical-align: middle;\n",
       "    }\n",
       "\n",
       "    .dataframe tbody tr th {\n",
       "        vertical-align: top;\n",
       "    }\n",
       "\n",
       "    .dataframe thead th {\n",
       "        text-align: right;\n",
       "    }\n",
       "</style>\n",
       "<table border=\"1\" class=\"dataframe\">\n",
       "  <thead>\n",
       "    <tr style=\"text-align: right;\">\n",
       "      <th></th>\n",
       "      <th>observed_left</th>\n",
       "      <th>observed_stayed</th>\n",
       "    </tr>\n",
       "  </thead>\n",
       "  <tbody>\n",
       "    <tr>\n",
       "      <th>predicted_left</th>\n",
       "      <td>73</td>\n",
       "      <td>202</td>\n",
       "    </tr>\n",
       "    <tr>\n",
       "      <th>predicted_stayed</th>\n",
       "      <td>26</td>\n",
       "      <td>1460</td>\n",
       "    </tr>\n",
       "  </tbody>\n",
       "</table>\n",
       "</div>"
      ],
      "text/plain": [
       "                  observed_left  observed_stayed\n",
       "predicted_left               73              202\n",
       "predicted_stayed             26             1460"
      ]
     },
     "execution_count": 69,
     "metadata": {},
     "output_type": "execute_result"
    }
   ],
   "source": [
    "pd.DataFrame(confusion_matrix(y_test, y_pred_classes), columns=['observed_left', 'observed_stayed'], \n",
    "            index = ['predicted_left', 'predicted_stayed'])"
   ]
  },
  {
   "cell_type": "markdown",
   "id": "c1ba3e21",
   "metadata": {},
   "source": [
    "The analysis of the confusion matrix shows that the tested model accurately predicts most of the \"stayed\" class (contract not terminated). However, the prediction for the \"left\" class (contract terminated) is significantly worse, with only 3/4 of the values correctly predicted. This means that the model will effectively predict a user who does not intend to terminate their contract, but it will only predict whether a user will terminate the contract with 75% accuracy."
   ]
  },
  {
   "cell_type": "markdown",
   "id": "5af0afd4",
   "metadata": {},
   "source": [
    "## Conclusion and customer recomendations"
   ]
  },
  {
   "cell_type": "markdown",
   "id": "078d51b0",
   "metadata": {},
   "source": [
    "To complete the project, the following steps were taken:\n",
    "\n",
    "The initial data was analyzed. A new feature was created based on existing ones (the number of years the subscriber has been with the provider), while redundant features and those lacking relevance to the task (contract start and end years, detailed descriptions of services provided, total charges paid by the client throughout the contract) were removed.\n",
    "\n",
    "Two models were built using gradient boosting, and hyperparameters were tuned for each model using randomized search and grid search. The best model was selected based on the ROC AUC score (CatBoostClassifier with parameters {'depth': 4, 'learning_rate': 0.2, 'n_estimators': 50}).\n",
    "\n",
    "The best model was validated on a validation set, achieving a ROC AUC metric exceeding the required threshold of 0.85.\n",
    "\n",
    "An analysis was conducted on the features important for predicting contract termination by clients. Based on this analysis, the following recommendations can be made to the client:\n",
    "\n",
    "a) Review tariffs for loyal customers— the longer a client uses the provider's services, the more apparent it becomes that tariffs are increasingly advantageous, leading to potential overpayment for the same service package.\n",
    "\n",
    "b) Whenever possible, switch clients to monthly payments— even if tariffs for loyal clients are not revised, overpayment in monthly billing is less apparent compared to annual payments.\n",
    "\n",
    "c) If a client uses telephone services, the absence of multiple phone lines significantly influences their decision to change providers— offering the option to add lines could be beneficial."
   ]
  },
  {
   "cell_type": "code",
   "execution_count": null,
   "id": "d4969757",
   "metadata": {},
   "outputs": [],
   "source": []
  }
 ],
 "metadata": {
  "ExecuteTimeLog": [
   {
    "duration": 393,
    "start_time": "2024-08-12T09:14:24.294Z"
   },
   {
    "duration": 162,
    "start_time": "2024-08-12T09:18:17.141Z"
   },
   {
    "duration": 23,
    "start_time": "2024-08-12T09:18:21.943Z"
   },
   {
    "duration": 132,
    "start_time": "2024-08-12T09:21:31.190Z"
   },
   {
    "duration": 20,
    "start_time": "2024-08-12T09:21:33.475Z"
   },
   {
    "duration": 319,
    "start_time": "2024-08-12T09:22:34.305Z"
   },
   {
    "duration": 12,
    "start_time": "2024-08-12T09:23:58.695Z"
   },
   {
    "duration": 20,
    "start_time": "2024-08-12T09:24:06.439Z"
   },
   {
    "duration": 6,
    "start_time": "2024-08-12T09:25:49.082Z"
   },
   {
    "duration": 17,
    "start_time": "2024-08-12T09:25:52.905Z"
   },
   {
    "duration": 1840,
    "start_time": "2024-08-12T09:26:18.013Z"
   },
   {
    "duration": 6,
    "start_time": "2024-08-12T09:26:39.245Z"
   },
   {
    "duration": 15,
    "start_time": "2024-08-12T09:28:12.628Z"
   },
   {
    "duration": 20,
    "start_time": "2024-08-12T09:28:17.232Z"
   },
   {
    "duration": 30,
    "start_time": "2024-08-12T09:29:06.593Z"
   },
   {
    "duration": 7,
    "start_time": "2024-08-12T09:29:32.141Z"
   },
   {
    "duration": 6,
    "start_time": "2024-08-12T09:29:37.263Z"
   },
   {
    "duration": 10,
    "start_time": "2024-08-12T09:29:46.502Z"
   },
   {
    "duration": 10,
    "start_time": "2024-08-12T09:30:14.542Z"
   },
   {
    "duration": 9,
    "start_time": "2024-08-12T09:30:39.188Z"
   },
   {
    "duration": 15,
    "start_time": "2024-08-12T09:30:42.721Z"
   },
   {
    "duration": 21,
    "start_time": "2024-08-12T09:31:38.780Z"
   },
   {
    "duration": 18,
    "start_time": "2024-08-12T09:31:40.691Z"
   },
   {
    "duration": 14,
    "start_time": "2024-08-12T09:31:45.706Z"
   },
   {
    "duration": 8,
    "start_time": "2024-08-12T09:34:58.949Z"
   },
   {
    "duration": 10,
    "start_time": "2024-08-12T09:37:27.837Z"
   },
   {
    "duration": 9,
    "start_time": "2024-08-12T09:37:34.799Z"
   },
   {
    "duration": 12,
    "start_time": "2024-08-12T09:37:39.163Z"
   },
   {
    "duration": 7,
    "start_time": "2024-08-12T09:40:21.498Z"
   },
   {
    "duration": 12,
    "start_time": "2024-08-12T10:14:56.674Z"
   },
   {
    "duration": 14,
    "start_time": "2024-08-12T10:15:04.525Z"
   },
   {
    "duration": 335,
    "start_time": "2024-08-13T10:51:25.244Z"
   },
   {
    "duration": 425,
    "start_time": "2024-08-13T10:51:26.539Z"
   },
   {
    "duration": 16,
    "start_time": "2024-08-13T10:51:28.448Z"
   },
   {
    "duration": 12,
    "start_time": "2024-08-13T10:51:40.018Z"
   },
   {
    "duration": 4,
    "start_time": "2024-08-13T10:53:25.934Z"
   },
   {
    "duration": 3,
    "start_time": "2024-08-13T10:54:13.337Z"
   },
   {
    "duration": 14,
    "start_time": "2024-08-13T10:54:21.538Z"
   },
   {
    "duration": 7,
    "start_time": "2024-08-13T10:54:28.857Z"
   },
   {
    "duration": 12,
    "start_time": "2024-08-13T10:54:36.515Z"
   },
   {
    "duration": 16,
    "start_time": "2024-08-13T10:55:22.080Z"
   },
   {
    "duration": 13,
    "start_time": "2024-08-13T10:55:23.141Z"
   },
   {
    "duration": 7,
    "start_time": "2024-08-13T10:55:26.697Z"
   },
   {
    "duration": 4,
    "start_time": "2024-08-13T10:55:53.653Z"
   },
   {
    "duration": 3,
    "start_time": "2024-08-13T10:56:18.703Z"
   },
   {
    "duration": 10,
    "start_time": "2024-08-13T10:56:19.559Z"
   },
   {
    "duration": 8,
    "start_time": "2024-08-13T10:56:30.134Z"
   },
   {
    "duration": 9,
    "start_time": "2024-08-13T10:56:34.304Z"
   },
   {
    "duration": 4,
    "start_time": "2024-08-13T10:56:43.829Z"
   },
   {
    "duration": 2,
    "start_time": "2024-08-13T10:57:36.965Z"
   },
   {
    "duration": 11,
    "start_time": "2024-08-13T10:57:41.894Z"
   },
   {
    "duration": 14,
    "start_time": "2024-08-13T10:59:04.402Z"
   },
   {
    "duration": 6,
    "start_time": "2024-08-13T10:59:29.313Z"
   },
   {
    "duration": 13,
    "start_time": "2024-08-13T10:59:34.774Z"
   },
   {
    "duration": 6,
    "start_time": "2024-08-13T11:01:40.117Z"
   },
   {
    "duration": 3,
    "start_time": "2024-08-13T11:02:03.604Z"
   },
   {
    "duration": 8,
    "start_time": "2024-08-13T11:02:07.347Z"
   },
   {
    "duration": 10,
    "start_time": "2024-08-13T11:05:49.371Z"
   },
   {
    "duration": 405,
    "start_time": "2024-08-13T11:13:32.093Z"
   },
   {
    "duration": 97,
    "start_time": "2024-08-13T11:13:32.502Z"
   },
   {
    "duration": 20,
    "start_time": "2024-08-13T11:13:32.601Z"
   },
   {
    "duration": 3,
    "start_time": "2024-08-13T11:13:32.623Z"
   },
   {
    "duration": 14,
    "start_time": "2024-08-13T11:13:32.628Z"
   },
   {
    "duration": 15,
    "start_time": "2024-08-13T11:13:32.644Z"
   },
   {
    "duration": 26,
    "start_time": "2024-08-13T11:13:32.661Z"
   },
   {
    "duration": 21,
    "start_time": "2024-08-13T11:13:32.688Z"
   },
   {
    "duration": 31,
    "start_time": "2024-08-13T11:13:32.711Z"
   },
   {
    "duration": 9,
    "start_time": "2024-08-13T11:13:32.744Z"
   },
   {
    "duration": 72,
    "start_time": "2024-08-13T11:13:32.755Z"
   },
   {
    "duration": 49,
    "start_time": "2024-08-13T11:13:32.829Z"
   },
   {
    "duration": 20,
    "start_time": "2024-08-13T11:13:32.880Z"
   },
   {
    "duration": 22,
    "start_time": "2024-08-13T11:13:32.902Z"
   },
   {
    "duration": 10,
    "start_time": "2024-08-13T11:13:32.926Z"
   },
   {
    "duration": 25,
    "start_time": "2024-08-13T11:13:32.938Z"
   },
   {
    "duration": 22,
    "start_time": "2024-08-13T11:13:32.965Z"
   },
   {
    "duration": 5,
    "start_time": "2024-08-13T11:13:32.988Z"
   },
   {
    "duration": 14,
    "start_time": "2024-08-13T11:13:32.994Z"
   },
   {
    "duration": 25,
    "start_time": "2024-08-13T11:13:33.009Z"
   },
   {
    "duration": 6,
    "start_time": "2024-08-13T11:14:52.835Z"
   },
   {
    "duration": 459,
    "start_time": "2024-08-13T11:16:49.082Z"
   },
   {
    "duration": 188,
    "start_time": "2024-08-13T11:17:10.346Z"
   },
   {
    "duration": 96,
    "start_time": "2024-08-13T11:17:35.037Z"
   },
   {
    "duration": 10,
    "start_time": "2024-08-13T11:17:35.622Z"
   },
   {
    "duration": 3,
    "start_time": "2024-08-13T11:17:35.928Z"
   },
   {
    "duration": 20,
    "start_time": "2024-08-13T11:17:36.331Z"
   },
   {
    "duration": 8,
    "start_time": "2024-08-13T11:17:36.763Z"
   },
   {
    "duration": 12,
    "start_time": "2024-08-13T11:17:37.243Z"
   },
   {
    "duration": 754,
    "start_time": "2024-08-13T11:17:38.348Z"
   },
   {
    "duration": 899,
    "start_time": "2024-08-13T11:17:50.694Z"
   },
   {
    "duration": 847,
    "start_time": "2024-08-13T11:17:55.018Z"
   },
   {
    "duration": 1742,
    "start_time": "2024-08-13T11:18:18.071Z"
   },
   {
    "duration": 1377,
    "start_time": "2024-08-13T11:18:52.748Z"
   },
   {
    "duration": 4,
    "start_time": "2024-08-13T11:19:54.770Z"
   },
   {
    "duration": 5,
    "start_time": "2024-08-13T11:20:25.100Z"
   },
   {
    "duration": 34,
    "start_time": "2024-08-13T11:20:32.000Z"
   },
   {
    "duration": 5,
    "start_time": "2024-08-13T11:20:57.314Z"
   },
   {
    "duration": 7,
    "start_time": "2024-08-13T11:21:08.991Z"
   },
   {
    "duration": 11,
    "start_time": "2024-08-13T11:21:38.921Z"
   },
   {
    "duration": 7,
    "start_time": "2024-08-13T11:22:18.667Z"
   },
   {
    "duration": 7,
    "start_time": "2024-08-13T11:22:55.263Z"
   },
   {
    "duration": 5,
    "start_time": "2024-08-13T11:23:11.685Z"
   },
   {
    "duration": 4,
    "start_time": "2024-08-13T11:23:19.071Z"
   },
   {
    "duration": 9,
    "start_time": "2024-08-13T11:28:46.928Z"
   },
   {
    "duration": 9,
    "start_time": "2024-08-13T11:28:51.503Z"
   },
   {
    "duration": 7,
    "start_time": "2024-08-13T11:29:47.299Z"
   },
   {
    "duration": 6016,
    "start_time": "2024-08-13T11:30:53.971Z"
   },
   {
    "duration": 11,
    "start_time": "2024-08-13T11:31:13.689Z"
   },
   {
    "duration": 12,
    "start_time": "2024-08-13T11:31:16.530Z"
   },
   {
    "duration": 11,
    "start_time": "2024-08-13T11:31:28.221Z"
   },
   {
    "duration": 585,
    "start_time": "2024-08-13T11:31:54.216Z"
   },
   {
    "duration": 94,
    "start_time": "2024-08-13T11:31:54.802Z"
   },
   {
    "duration": 15,
    "start_time": "2024-08-13T11:31:54.898Z"
   },
   {
    "duration": 4,
    "start_time": "2024-08-13T11:31:54.914Z"
   },
   {
    "duration": 25,
    "start_time": "2024-08-13T11:31:54.920Z"
   },
   {
    "duration": 12,
    "start_time": "2024-08-13T11:31:54.947Z"
   },
   {
    "duration": 15,
    "start_time": "2024-08-13T11:31:54.961Z"
   },
   {
    "duration": 80,
    "start_time": "2024-08-13T11:31:54.977Z"
   },
   {
    "duration": 0,
    "start_time": "2024-08-13T11:31:55.059Z"
   },
   {
    "duration": 0,
    "start_time": "2024-08-13T11:31:55.060Z"
   },
   {
    "duration": 0,
    "start_time": "2024-08-13T11:31:55.061Z"
   },
   {
    "duration": 0,
    "start_time": "2024-08-13T11:31:55.062Z"
   },
   {
    "duration": 0,
    "start_time": "2024-08-13T11:31:55.063Z"
   },
   {
    "duration": 0,
    "start_time": "2024-08-13T11:31:55.064Z"
   },
   {
    "duration": 0,
    "start_time": "2024-08-13T11:31:55.065Z"
   },
   {
    "duration": 0,
    "start_time": "2024-08-13T11:31:55.065Z"
   },
   {
    "duration": 0,
    "start_time": "2024-08-13T11:31:55.066Z"
   },
   {
    "duration": 0,
    "start_time": "2024-08-13T11:31:55.067Z"
   },
   {
    "duration": 0,
    "start_time": "2024-08-13T11:31:55.068Z"
   },
   {
    "duration": 0,
    "start_time": "2024-08-13T11:31:55.069Z"
   },
   {
    "duration": 0,
    "start_time": "2024-08-13T11:31:55.070Z"
   },
   {
    "duration": 637,
    "start_time": "2024-08-13T11:32:32.378Z"
   },
   {
    "duration": 92,
    "start_time": "2024-08-13T11:32:33.016Z"
   },
   {
    "duration": 12,
    "start_time": "2024-08-13T11:32:33.110Z"
   },
   {
    "duration": 12,
    "start_time": "2024-08-13T11:32:33.124Z"
   },
   {
    "duration": 26,
    "start_time": "2024-08-13T11:32:33.137Z"
   },
   {
    "duration": 80,
    "start_time": "2024-08-13T11:32:33.164Z"
   },
   {
    "duration": 17,
    "start_time": "2024-08-13T11:32:33.246Z"
   },
   {
    "duration": 24,
    "start_time": "2024-08-13T11:32:33.265Z"
   },
   {
    "duration": 23,
    "start_time": "2024-08-13T11:32:33.290Z"
   },
   {
    "duration": 10,
    "start_time": "2024-08-13T11:32:33.316Z"
   },
   {
    "duration": 11,
    "start_time": "2024-08-13T11:32:33.328Z"
   },
   {
    "duration": 10,
    "start_time": "2024-08-13T11:32:33.340Z"
   },
   {
    "duration": 14,
    "start_time": "2024-08-13T11:32:33.351Z"
   },
   {
    "duration": 89,
    "start_time": "2024-08-13T11:32:33.367Z"
   },
   {
    "duration": 52,
    "start_time": "2024-08-13T11:32:33.457Z"
   },
   {
    "duration": 29,
    "start_time": "2024-08-13T11:32:33.511Z"
   },
   {
    "duration": 21,
    "start_time": "2024-08-13T11:32:33.541Z"
   },
   {
    "duration": 16,
    "start_time": "2024-08-13T11:32:33.564Z"
   },
   {
    "duration": 20,
    "start_time": "2024-08-13T11:32:33.582Z"
   },
   {
    "duration": 40,
    "start_time": "2024-08-13T11:32:33.604Z"
   },
   {
    "duration": 16,
    "start_time": "2024-08-13T11:32:33.645Z"
   },
   {
    "duration": 2,
    "start_time": "2024-08-13T11:34:22.432Z"
   },
   {
    "duration": 3,
    "start_time": "2024-08-13T11:35:47.152Z"
   },
   {
    "duration": 250,
    "start_time": "2024-08-13T11:36:13.193Z"
   },
   {
    "duration": 387,
    "start_time": "2024-08-13T11:36:41.660Z"
   },
   {
    "duration": 83,
    "start_time": "2024-08-13T11:37:42.536Z"
   },
   {
    "duration": 170,
    "start_time": "2024-08-13T11:38:01.496Z"
   },
   {
    "duration": 10,
    "start_time": "2024-08-13T11:38:16.546Z"
   },
   {
    "duration": 9435,
    "start_time": "2024-08-13T11:38:20.825Z"
   },
   {
    "duration": 408,
    "start_time": "2024-08-13T11:38:44.091Z"
   },
   {
    "duration": 369,
    "start_time": "2024-08-13T11:39:20.093Z"
   },
   {
    "duration": 5,
    "start_time": "2024-08-13T11:39:48.212Z"
   },
   {
    "duration": 1199,
    "start_time": "2024-08-13T11:39:57.674Z"
   },
   {
    "duration": 351,
    "start_time": "2024-08-13T11:40:22.474Z"
   },
   {
    "duration": 351,
    "start_time": "2024-08-13T11:40:32.818Z"
   },
   {
    "duration": 27,
    "start_time": "2024-08-13T11:49:10.955Z"
   },
   {
    "duration": 559,
    "start_time": "2024-08-13T11:49:57.994Z"
   },
   {
    "duration": 154,
    "start_time": "2024-08-13T11:50:31.249Z"
   },
   {
    "duration": 134,
    "start_time": "2024-08-13T11:50:41.538Z"
   },
   {
    "duration": 140,
    "start_time": "2024-08-13T11:50:52.027Z"
   },
   {
    "duration": 144,
    "start_time": "2024-08-13T11:51:20.073Z"
   },
   {
    "duration": 3,
    "start_time": "2024-08-13T11:51:30.379Z"
   },
   {
    "duration": 7,
    "start_time": "2024-08-13T11:51:35.474Z"
   },
   {
    "duration": 21,
    "start_time": "2024-08-13T11:51:51.966Z"
   },
   {
    "duration": 6,
    "start_time": "2024-08-13T11:51:57.639Z"
   },
   {
    "duration": 5,
    "start_time": "2024-08-13T11:52:06.898Z"
   },
   {
    "duration": 5,
    "start_time": "2024-08-13T11:52:18.364Z"
   },
   {
    "duration": 19,
    "start_time": "2024-08-13T11:52:49.630Z"
   },
   {
    "duration": 5,
    "start_time": "2024-08-13T11:52:50.535Z"
   },
   {
    "duration": 2,
    "start_time": "2024-08-13T11:53:01.481Z"
   },
   {
    "duration": 5,
    "start_time": "2024-08-13T11:53:02.028Z"
   },
   {
    "duration": 41,
    "start_time": "2024-08-13T11:53:16.320Z"
   },
   {
    "duration": 3,
    "start_time": "2024-08-13T11:53:23.583Z"
   },
   {
    "duration": 6,
    "start_time": "2024-08-13T11:53:24.198Z"
   },
   {
    "duration": 6,
    "start_time": "2024-08-13T11:53:34.683Z"
   },
   {
    "duration": 8,
    "start_time": "2024-08-13T11:53:38.711Z"
   },
   {
    "duration": 160,
    "start_time": "2024-08-13T11:53:39.342Z"
   },
   {
    "duration": 141,
    "start_time": "2024-08-13T11:53:43.025Z"
   },
   {
    "duration": 241,
    "start_time": "2024-08-13T11:53:53.016Z"
   },
   {
    "duration": 235,
    "start_time": "2024-08-13T11:54:28.088Z"
   },
   {
    "duration": 154,
    "start_time": "2024-08-13T11:54:39.790Z"
   },
   {
    "duration": 206,
    "start_time": "2024-08-13T11:55:24.291Z"
   },
   {
    "duration": 219,
    "start_time": "2024-08-13T11:56:19.367Z"
   },
   {
    "duration": 7,
    "start_time": "2024-08-13T11:56:32.241Z"
   },
   {
    "duration": 4,
    "start_time": "2024-08-13T11:56:36.938Z"
   },
   {
    "duration": 4,
    "start_time": "2024-08-13T11:56:48.258Z"
   },
   {
    "duration": 5,
    "start_time": "2024-08-13T11:56:58.545Z"
   },
   {
    "duration": 167,
    "start_time": "2024-08-13T11:57:20.726Z"
   },
   {
    "duration": 167,
    "start_time": "2024-08-13T11:57:59.799Z"
   },
   {
    "duration": 281,
    "start_time": "2024-08-13T11:58:13.454Z"
   },
   {
    "duration": 254,
    "start_time": "2024-08-13T11:58:26.319Z"
   },
   {
    "duration": 335,
    "start_time": "2024-08-13T11:58:40.844Z"
   },
   {
    "duration": 270,
    "start_time": "2024-08-13T11:58:50.596Z"
   },
   {
    "duration": 303,
    "start_time": "2024-08-13T11:59:52.147Z"
   },
   {
    "duration": 270,
    "start_time": "2024-08-13T12:00:00.021Z"
   },
   {
    "duration": 7,
    "start_time": "2024-08-13T12:00:51.272Z"
   },
   {
    "duration": 139,
    "start_time": "2024-08-13T12:00:58.173Z"
   },
   {
    "duration": 4,
    "start_time": "2024-08-13T12:02:46.040Z"
   },
   {
    "duration": 3,
    "start_time": "2024-08-13T12:03:41.586Z"
   },
   {
    "duration": 199,
    "start_time": "2024-08-13T12:03:41.950Z"
   },
   {
    "duration": 264,
    "start_time": "2024-08-13T12:05:05.622Z"
   },
   {
    "duration": 17,
    "start_time": "2024-08-13T12:07:19.275Z"
   },
   {
    "duration": 281,
    "start_time": "2024-08-13T12:09:40.712Z"
   },
   {
    "duration": 273,
    "start_time": "2024-08-13T12:10:15.443Z"
   },
   {
    "duration": 8,
    "start_time": "2024-08-13T12:25:53.392Z"
   },
   {
    "duration": 4,
    "start_time": "2024-08-13T12:27:55.778Z"
   },
   {
    "duration": 12,
    "start_time": "2024-08-13T12:28:02.887Z"
   },
   {
    "duration": 8,
    "start_time": "2024-08-13T12:28:15.960Z"
   },
   {
    "duration": 4,
    "start_time": "2024-08-13T12:28:20.627Z"
   },
   {
    "duration": 5,
    "start_time": "2024-08-13T12:28:47.346Z"
   },
   {
    "duration": 9,
    "start_time": "2024-08-13T12:28:52.044Z"
   },
   {
    "duration": 4,
    "start_time": "2024-08-13T12:29:57.781Z"
   },
   {
    "duration": 2,
    "start_time": "2024-08-13T12:30:08.092Z"
   },
   {
    "duration": 3,
    "start_time": "2024-08-13T12:30:16.208Z"
   },
   {
    "duration": 1181,
    "start_time": "2024-08-13T12:30:16.657Z"
   },
   {
    "duration": 313,
    "start_time": "2024-08-13T12:30:41.220Z"
   },
   {
    "duration": 10,
    "start_time": "2024-08-13T12:36:03.126Z"
   },
   {
    "duration": 3,
    "start_time": "2024-08-13T12:36:12.865Z"
   },
   {
    "duration": 5,
    "start_time": "2024-08-13T12:36:19.841Z"
   },
   {
    "duration": 8,
    "start_time": "2024-08-13T12:36:31.495Z"
   },
   {
    "duration": 4,
    "start_time": "2024-08-13T12:38:18.774Z"
   },
   {
    "duration": 3,
    "start_time": "2024-08-13T12:38:36.887Z"
   },
   {
    "duration": 670,
    "start_time": "2024-08-13T12:38:52.245Z"
   },
   {
    "duration": 6,
    "start_time": "2024-08-13T12:40:18.406Z"
   },
   {
    "duration": 2,
    "start_time": "2024-08-13T12:40:34.140Z"
   },
   {
    "duration": 96,
    "start_time": "2024-08-13T12:40:51.795Z"
   },
   {
    "duration": 371,
    "start_time": "2024-08-13T12:45:15.322Z"
   },
   {
    "duration": 12,
    "start_time": "2024-08-13T12:45:25.783Z"
   },
   {
    "duration": 1263,
    "start_time": "2024-08-13T12:47:27.247Z"
   },
   {
    "duration": 996,
    "start_time": "2024-08-13T12:47:35.146Z"
   },
   {
    "duration": 97,
    "start_time": "2024-08-13T12:47:36.144Z"
   },
   {
    "duration": 16,
    "start_time": "2024-08-13T12:47:36.243Z"
   },
   {
    "duration": 4,
    "start_time": "2024-08-13T12:47:36.260Z"
   },
   {
    "duration": 19,
    "start_time": "2024-08-13T12:47:36.265Z"
   },
   {
    "duration": 10,
    "start_time": "2024-08-13T12:47:36.286Z"
   },
   {
    "duration": 15,
    "start_time": "2024-08-13T12:47:36.298Z"
   },
   {
    "duration": 8,
    "start_time": "2024-08-13T12:47:36.315Z"
   },
   {
    "duration": 11,
    "start_time": "2024-08-13T12:47:36.325Z"
   },
   {
    "duration": 11,
    "start_time": "2024-08-13T12:47:36.338Z"
   },
   {
    "duration": 7,
    "start_time": "2024-08-13T12:47:36.350Z"
   },
   {
    "duration": 4,
    "start_time": "2024-08-13T12:47:36.358Z"
   },
   {
    "duration": 17,
    "start_time": "2024-08-13T12:47:36.363Z"
   },
   {
    "duration": 30,
    "start_time": "2024-08-13T12:47:36.381Z"
   },
   {
    "duration": 15,
    "start_time": "2024-08-13T12:47:36.413Z"
   },
   {
    "duration": 4,
    "start_time": "2024-08-13T12:47:36.430Z"
   },
   {
    "duration": 16,
    "start_time": "2024-08-13T12:47:36.435Z"
   },
   {
    "duration": 7,
    "start_time": "2024-08-13T12:47:36.453Z"
   },
   {
    "duration": 2,
    "start_time": "2024-08-13T12:47:36.462Z"
   },
   {
    "duration": 40,
    "start_time": "2024-08-13T12:47:36.466Z"
   },
   {
    "duration": 10,
    "start_time": "2024-08-13T12:47:36.507Z"
   },
   {
    "duration": 6,
    "start_time": "2024-08-13T12:47:36.518Z"
   },
   {
    "duration": 386,
    "start_time": "2024-08-13T12:47:36.526Z"
   },
   {
    "duration": 436,
    "start_time": "2024-08-13T12:47:36.913Z"
   },
   {
    "duration": 3,
    "start_time": "2024-08-13T12:47:37.350Z"
   },
   {
    "duration": 337,
    "start_time": "2024-08-13T12:47:37.354Z"
   },
   {
    "duration": 13,
    "start_time": "2024-08-13T12:47:37.693Z"
   },
   {
    "duration": 21,
    "start_time": "2024-08-13T12:47:37.709Z"
   },
   {
    "duration": 14,
    "start_time": "2024-08-13T12:47:37.732Z"
   },
   {
    "duration": 8,
    "start_time": "2024-08-13T12:47:37.748Z"
   },
   {
    "duration": 326,
    "start_time": "2024-08-13T12:47:37.758Z"
   },
   {
    "duration": 3,
    "start_time": "2024-08-13T12:47:38.086Z"
   },
   {
    "duration": 100,
    "start_time": "2024-08-13T12:47:38.091Z"
   },
   {
    "duration": 10,
    "start_time": "2024-08-13T12:47:38.193Z"
   },
   {
    "duration": 3,
    "start_time": "2024-08-13T12:47:38.205Z"
   },
   {
    "duration": 538,
    "start_time": "2024-08-13T12:47:38.209Z"
   },
   {
    "duration": 6,
    "start_time": "2024-08-13T12:47:38.748Z"
   },
   {
    "duration": 4,
    "start_time": "2024-08-13T12:47:38.755Z"
   },
   {
    "duration": 91,
    "start_time": "2024-08-13T12:47:38.760Z"
   },
   {
    "duration": 1172,
    "start_time": "2024-08-13T12:47:38.852Z"
   },
   {
    "duration": 8,
    "start_time": "2024-08-13T12:48:25.544Z"
   },
   {
    "duration": 1034,
    "start_time": "2024-08-13T12:49:01.998Z"
   },
   {
    "duration": 94,
    "start_time": "2024-08-13T12:49:03.033Z"
   },
   {
    "duration": 12,
    "start_time": "2024-08-13T12:49:03.129Z"
   },
   {
    "duration": 10,
    "start_time": "2024-08-13T12:49:03.142Z"
   },
   {
    "duration": 16,
    "start_time": "2024-08-13T12:49:03.155Z"
   },
   {
    "duration": 27,
    "start_time": "2024-08-13T12:49:03.173Z"
   },
   {
    "duration": 33,
    "start_time": "2024-08-13T12:49:03.202Z"
   },
   {
    "duration": 25,
    "start_time": "2024-08-13T12:49:03.236Z"
   },
   {
    "duration": 32,
    "start_time": "2024-08-13T12:49:03.262Z"
   },
   {
    "duration": 66,
    "start_time": "2024-08-13T12:49:03.295Z"
   },
   {
    "duration": 16,
    "start_time": "2024-08-13T12:49:03.363Z"
   },
   {
    "duration": 17,
    "start_time": "2024-08-13T12:49:03.381Z"
   },
   {
    "duration": 18,
    "start_time": "2024-08-13T12:49:03.399Z"
   },
   {
    "duration": 17,
    "start_time": "2024-08-13T12:49:03.420Z"
   },
   {
    "duration": 104,
    "start_time": "2024-08-13T12:49:03.438Z"
   },
   {
    "duration": 24,
    "start_time": "2024-08-13T12:49:03.543Z"
   },
   {
    "duration": 14,
    "start_time": "2024-08-13T12:49:03.569Z"
   },
   {
    "duration": 7,
    "start_time": "2024-08-13T12:49:03.584Z"
   },
   {
    "duration": 5,
    "start_time": "2024-08-13T12:49:03.592Z"
   },
   {
    "duration": 9,
    "start_time": "2024-08-13T12:49:03.599Z"
   },
   {
    "duration": 11,
    "start_time": "2024-08-13T12:49:03.610Z"
   },
   {
    "duration": 22,
    "start_time": "2024-08-13T12:49:03.623Z"
   },
   {
    "duration": 465,
    "start_time": "2024-08-13T12:49:03.647Z"
   },
   {
    "duration": 347,
    "start_time": "2024-08-13T12:49:04.113Z"
   },
   {
    "duration": 3,
    "start_time": "2024-08-13T12:49:04.461Z"
   },
   {
    "duration": 341,
    "start_time": "2024-08-13T12:49:04.465Z"
   },
   {
    "duration": 5,
    "start_time": "2024-08-13T12:49:04.808Z"
   },
   {
    "duration": 9,
    "start_time": "2024-08-13T12:49:04.814Z"
   },
   {
    "duration": 12,
    "start_time": "2024-08-13T12:49:04.824Z"
   },
   {
    "duration": 3,
    "start_time": "2024-08-13T12:49:04.837Z"
   },
   {
    "duration": 393,
    "start_time": "2024-08-13T12:49:04.841Z"
   },
   {
    "duration": 4,
    "start_time": "2024-08-13T12:49:05.235Z"
   },
   {
    "duration": 31,
    "start_time": "2024-08-13T12:49:05.240Z"
   },
   {
    "duration": 23,
    "start_time": "2024-08-13T12:49:05.273Z"
   },
   {
    "duration": 5,
    "start_time": "2024-08-13T12:49:05.297Z"
   },
   {
    "duration": 555,
    "start_time": "2024-08-13T12:49:05.304Z"
   },
   {
    "duration": 6,
    "start_time": "2024-08-13T12:49:05.860Z"
   },
   {
    "duration": 17,
    "start_time": "2024-08-13T12:49:05.867Z"
   },
   {
    "duration": 89,
    "start_time": "2024-08-13T12:49:05.885Z"
   },
   {
    "duration": 14,
    "start_time": "2024-08-13T12:49:05.975Z"
   },
   {
    "duration": 31,
    "start_time": "2024-08-13T12:49:11.904Z"
   },
   {
    "duration": 13,
    "start_time": "2024-08-13T12:49:37.362Z"
   },
   {
    "duration": 13,
    "start_time": "2024-08-13T12:49:53.948Z"
   },
   {
    "duration": 17,
    "start_time": "2024-08-13T12:49:58.544Z"
   },
   {
    "duration": 12,
    "start_time": "2024-08-13T12:51:28.884Z"
   },
   {
    "duration": 10,
    "start_time": "2024-08-13T12:54:12.078Z"
   },
   {
    "duration": 6,
    "start_time": "2024-08-13T12:54:52.726Z"
   },
   {
    "duration": 10,
    "start_time": "2024-08-13T12:55:10.433Z"
   },
   {
    "duration": 70,
    "start_time": "2024-08-13T12:55:18.872Z"
   },
   {
    "duration": 1011,
    "start_time": "2024-08-13T12:55:31.224Z"
   },
   {
    "duration": 94,
    "start_time": "2024-08-13T12:55:32.237Z"
   },
   {
    "duration": 13,
    "start_time": "2024-08-13T12:55:32.332Z"
   },
   {
    "duration": 16,
    "start_time": "2024-08-13T12:55:32.346Z"
   },
   {
    "duration": 34,
    "start_time": "2024-08-13T12:55:32.364Z"
   },
   {
    "duration": 36,
    "start_time": "2024-08-13T12:55:32.399Z"
   },
   {
    "duration": 18,
    "start_time": "2024-08-13T12:55:32.437Z"
   },
   {
    "duration": 8,
    "start_time": "2024-08-13T12:55:32.456Z"
   },
   {
    "duration": 34,
    "start_time": "2024-08-13T12:55:32.465Z"
   },
   {
    "duration": 35,
    "start_time": "2024-08-13T12:55:32.501Z"
   },
   {
    "duration": 25,
    "start_time": "2024-08-13T12:55:32.538Z"
   },
   {
    "duration": 11,
    "start_time": "2024-08-13T12:55:32.564Z"
   },
   {
    "duration": 43,
    "start_time": "2024-08-13T12:55:32.576Z"
   },
   {
    "duration": 25,
    "start_time": "2024-08-13T12:55:32.621Z"
   },
   {
    "duration": 26,
    "start_time": "2024-08-13T12:55:32.648Z"
   },
   {
    "duration": 38,
    "start_time": "2024-08-13T12:55:32.676Z"
   },
   {
    "duration": 33,
    "start_time": "2024-08-13T12:55:32.716Z"
   },
   {
    "duration": 24,
    "start_time": "2024-08-13T12:55:32.751Z"
   },
   {
    "duration": 30,
    "start_time": "2024-08-13T12:55:32.777Z"
   },
   {
    "duration": 19,
    "start_time": "2024-08-13T12:55:32.808Z"
   },
   {
    "duration": 16,
    "start_time": "2024-08-13T12:55:32.829Z"
   },
   {
    "duration": 16,
    "start_time": "2024-08-13T12:55:32.847Z"
   },
   {
    "duration": 413,
    "start_time": "2024-08-13T12:55:32.865Z"
   },
   {
    "duration": 349,
    "start_time": "2024-08-13T12:55:33.279Z"
   },
   {
    "duration": 2,
    "start_time": "2024-08-13T12:55:33.630Z"
   },
   {
    "duration": 344,
    "start_time": "2024-08-13T12:55:33.633Z"
   },
   {
    "duration": 6,
    "start_time": "2024-08-13T12:55:33.979Z"
   },
   {
    "duration": 19,
    "start_time": "2024-08-13T12:55:33.988Z"
   },
   {
    "duration": 6,
    "start_time": "2024-08-13T12:55:34.009Z"
   },
   {
    "duration": 12,
    "start_time": "2024-08-13T12:55:34.016Z"
   },
   {
    "duration": 321,
    "start_time": "2024-08-13T12:55:34.030Z"
   },
   {
    "duration": 3,
    "start_time": "2024-08-13T12:55:34.352Z"
   },
   {
    "duration": 12,
    "start_time": "2024-08-13T12:55:34.357Z"
   },
   {
    "duration": 17,
    "start_time": "2024-08-13T12:55:34.371Z"
   },
   {
    "duration": 16,
    "start_time": "2024-08-13T12:55:34.389Z"
   },
   {
    "duration": 568,
    "start_time": "2024-08-13T12:55:34.406Z"
   },
   {
    "duration": 5,
    "start_time": "2024-08-13T12:55:34.976Z"
   },
   {
    "duration": 8,
    "start_time": "2024-08-13T12:55:34.982Z"
   },
   {
    "duration": 108,
    "start_time": "2024-08-13T12:55:34.991Z"
   },
   {
    "duration": 14,
    "start_time": "2024-08-13T12:55:35.100Z"
   },
   {
    "duration": 19,
    "start_time": "2024-08-13T12:55:35.115Z"
   },
   {
    "duration": 25,
    "start_time": "2024-08-13T12:55:35.136Z"
   },
   {
    "duration": 32,
    "start_time": "2024-08-13T12:55:35.162Z"
   },
   {
    "duration": 79,
    "start_time": "2024-08-13T12:55:35.196Z"
   },
   {
    "duration": 110,
    "start_time": "2024-08-13T12:57:38.433Z"
   },
   {
    "duration": 4526,
    "start_time": "2024-08-13T12:57:53.447Z"
   },
   {
    "duration": 589,
    "start_time": "2024-08-13T12:58:05.567Z"
   },
   {
    "duration": 23,
    "start_time": "2024-08-13T13:01:32.526Z"
   },
   {
    "duration": 4,
    "start_time": "2024-08-13T13:01:36.395Z"
   },
   {
    "duration": 34,
    "start_time": "2024-08-13T13:02:03.005Z"
   },
   {
    "duration": 620,
    "start_time": "2024-08-13T13:02:43.025Z"
   },
   {
    "duration": 27,
    "start_time": "2024-08-13T13:08:14.556Z"
   },
   {
    "duration": 8,
    "start_time": "2024-08-13T13:45:10.297Z"
   },
   {
    "duration": 28,
    "start_time": "2024-08-13T13:45:19.883Z"
   },
   {
    "duration": 32,
    "start_time": "2024-08-13T13:46:24.112Z"
   },
   {
    "duration": 618,
    "start_time": "2024-08-13T13:46:48.176Z"
   },
   {
    "duration": 1067,
    "start_time": "2024-08-13T13:47:05.073Z"
   },
   {
    "duration": 93,
    "start_time": "2024-08-13T13:47:06.142Z"
   },
   {
    "duration": 13,
    "start_time": "2024-08-13T13:47:06.236Z"
   },
   {
    "duration": 190,
    "start_time": "2024-08-13T13:47:06.250Z"
   },
   {
    "duration": 26,
    "start_time": "2024-08-13T13:47:06.442Z"
   },
   {
    "duration": 13,
    "start_time": "2024-08-13T13:47:06.469Z"
   },
   {
    "duration": 17,
    "start_time": "2024-08-13T13:47:06.483Z"
   },
   {
    "duration": 19,
    "start_time": "2024-08-13T13:47:06.501Z"
   },
   {
    "duration": 14,
    "start_time": "2024-08-13T13:47:06.521Z"
   },
   {
    "duration": 19,
    "start_time": "2024-08-13T13:47:06.537Z"
   },
   {
    "duration": 7,
    "start_time": "2024-08-13T13:47:06.557Z"
   },
   {
    "duration": 3,
    "start_time": "2024-08-13T13:47:06.565Z"
   },
   {
    "duration": 11,
    "start_time": "2024-08-13T13:47:06.570Z"
   },
   {
    "duration": 10,
    "start_time": "2024-08-13T13:47:06.582Z"
   },
   {
    "duration": 11,
    "start_time": "2024-08-13T13:47:06.593Z"
   },
   {
    "duration": 5,
    "start_time": "2024-08-13T13:47:06.606Z"
   },
   {
    "duration": 13,
    "start_time": "2024-08-13T13:47:06.612Z"
   },
   {
    "duration": 15,
    "start_time": "2024-08-13T13:47:06.626Z"
   },
   {
    "duration": 9,
    "start_time": "2024-08-13T13:47:06.642Z"
   },
   {
    "duration": 15,
    "start_time": "2024-08-13T13:47:06.652Z"
   },
   {
    "duration": 32,
    "start_time": "2024-08-13T13:47:06.669Z"
   },
   {
    "duration": 13,
    "start_time": "2024-08-13T13:47:06.702Z"
   },
   {
    "duration": 410,
    "start_time": "2024-08-13T13:47:06.717Z"
   },
   {
    "duration": 388,
    "start_time": "2024-08-13T13:47:07.129Z"
   },
   {
    "duration": 3,
    "start_time": "2024-08-13T13:47:07.519Z"
   },
   {
    "duration": 361,
    "start_time": "2024-08-13T13:47:07.523Z"
   },
   {
    "duration": 6,
    "start_time": "2024-08-13T13:47:07.885Z"
   },
   {
    "duration": 54,
    "start_time": "2024-08-13T13:47:07.901Z"
   },
   {
    "duration": 23,
    "start_time": "2024-08-13T13:47:07.956Z"
   },
   {
    "duration": 5,
    "start_time": "2024-08-13T13:47:07.980Z"
   },
   {
    "duration": 303,
    "start_time": "2024-08-13T13:47:07.987Z"
   },
   {
    "duration": 11,
    "start_time": "2024-08-13T13:47:08.291Z"
   },
   {
    "duration": 98,
    "start_time": "2024-08-13T13:47:08.304Z"
   },
   {
    "duration": 14,
    "start_time": "2024-08-13T13:47:08.404Z"
   },
   {
    "duration": 8,
    "start_time": "2024-08-13T13:47:08.420Z"
   },
   {
    "duration": 543,
    "start_time": "2024-08-13T13:47:08.429Z"
   },
   {
    "duration": 5,
    "start_time": "2024-08-13T13:47:08.974Z"
   },
   {
    "duration": 9,
    "start_time": "2024-08-13T13:47:08.980Z"
   },
   {
    "duration": 93,
    "start_time": "2024-08-13T13:47:08.990Z"
   },
   {
    "duration": 20,
    "start_time": "2024-08-13T13:47:09.085Z"
   },
   {
    "duration": 29,
    "start_time": "2024-08-13T13:47:09.107Z"
   },
   {
    "duration": 29,
    "start_time": "2024-08-13T13:47:09.138Z"
   },
   {
    "duration": 15,
    "start_time": "2024-08-13T13:47:09.168Z"
   },
   {
    "duration": 12,
    "start_time": "2024-08-13T13:47:09.185Z"
   },
   {
    "duration": 3310,
    "start_time": "2024-08-13T13:47:09.199Z"
   },
   {
    "duration": 4,
    "start_time": "2024-08-13T13:47:12.511Z"
   },
   {
    "duration": 60,
    "start_time": "2024-08-13T13:47:12.517Z"
   },
   {
    "duration": 0,
    "start_time": "2024-08-13T13:47:12.602Z"
   },
   {
    "duration": 625,
    "start_time": "2024-08-13T13:47:26.677Z"
   },
   {
    "duration": 17,
    "start_time": "2024-08-13T13:51:47.354Z"
   },
   {
    "duration": 6382,
    "start_time": "2024-08-14T10:31:03.923Z"
   },
   {
    "duration": 454,
    "start_time": "2024-08-14T10:31:10.307Z"
   },
   {
    "duration": 24,
    "start_time": "2024-08-14T10:31:10.763Z"
   },
   {
    "duration": 4,
    "start_time": "2024-08-14T10:31:10.789Z"
   },
   {
    "duration": 74,
    "start_time": "2024-08-14T10:31:10.796Z"
   },
   {
    "duration": 14,
    "start_time": "2024-08-14T10:31:10.872Z"
   },
   {
    "duration": 73,
    "start_time": "2024-08-14T10:31:10.888Z"
   },
   {
    "duration": 13,
    "start_time": "2024-08-14T10:31:10.964Z"
   },
   {
    "duration": 18,
    "start_time": "2024-08-14T10:31:10.979Z"
   },
   {
    "duration": 81,
    "start_time": "2024-08-14T10:31:10.999Z"
   },
   {
    "duration": 12,
    "start_time": "2024-08-14T10:31:11.081Z"
   },
   {
    "duration": 3,
    "start_time": "2024-08-14T10:31:11.096Z"
   },
   {
    "duration": 90,
    "start_time": "2024-08-14T10:31:11.101Z"
   },
   {
    "duration": 11,
    "start_time": "2024-08-14T10:31:11.196Z"
   },
   {
    "duration": 1393,
    "start_time": "2024-08-14T10:31:11.208Z"
   },
   {
    "duration": 0,
    "start_time": "2024-08-14T10:31:12.604Z"
   },
   {
    "duration": 0,
    "start_time": "2024-08-14T10:31:12.605Z"
   },
   {
    "duration": 0,
    "start_time": "2024-08-14T10:31:12.606Z"
   },
   {
    "duration": 0,
    "start_time": "2024-08-14T10:31:12.607Z"
   },
   {
    "duration": 0,
    "start_time": "2024-08-14T10:31:12.608Z"
   },
   {
    "duration": 0,
    "start_time": "2024-08-14T10:31:12.609Z"
   },
   {
    "duration": 0,
    "start_time": "2024-08-14T10:31:12.611Z"
   },
   {
    "duration": 0,
    "start_time": "2024-08-14T10:31:12.612Z"
   },
   {
    "duration": 0,
    "start_time": "2024-08-14T10:31:12.613Z"
   },
   {
    "duration": 0,
    "start_time": "2024-08-14T10:31:12.614Z"
   },
   {
    "duration": 0,
    "start_time": "2024-08-14T10:31:12.615Z"
   },
   {
    "duration": 0,
    "start_time": "2024-08-14T10:31:12.616Z"
   },
   {
    "duration": 0,
    "start_time": "2024-08-14T10:31:12.617Z"
   },
   {
    "duration": 0,
    "start_time": "2024-08-14T10:31:12.618Z"
   },
   {
    "duration": 0,
    "start_time": "2024-08-14T10:31:12.619Z"
   },
   {
    "duration": 0,
    "start_time": "2024-08-14T10:31:12.620Z"
   },
   {
    "duration": 0,
    "start_time": "2024-08-14T10:31:12.621Z"
   },
   {
    "duration": 0,
    "start_time": "2024-08-14T10:31:12.622Z"
   },
   {
    "duration": 0,
    "start_time": "2024-08-14T10:31:12.623Z"
   },
   {
    "duration": 0,
    "start_time": "2024-08-14T10:31:12.624Z"
   },
   {
    "duration": 0,
    "start_time": "2024-08-14T10:31:12.625Z"
   },
   {
    "duration": 0,
    "start_time": "2024-08-14T10:31:12.626Z"
   },
   {
    "duration": 0,
    "start_time": "2024-08-14T10:31:12.627Z"
   },
   {
    "duration": 0,
    "start_time": "2024-08-14T10:31:12.628Z"
   },
   {
    "duration": 0,
    "start_time": "2024-08-14T10:31:12.631Z"
   },
   {
    "duration": 0,
    "start_time": "2024-08-14T10:31:12.632Z"
   },
   {
    "duration": 0,
    "start_time": "2024-08-14T10:31:12.633Z"
   },
   {
    "duration": 0,
    "start_time": "2024-08-14T10:31:12.634Z"
   },
   {
    "duration": 0,
    "start_time": "2024-08-14T10:31:12.635Z"
   },
   {
    "duration": 0,
    "start_time": "2024-08-14T10:31:12.636Z"
   },
   {
    "duration": 0,
    "start_time": "2024-08-14T10:31:12.637Z"
   },
   {
    "duration": 1099,
    "start_time": "2024-08-14T10:31:29.228Z"
   },
   {
    "duration": 4,
    "start_time": "2024-08-14T10:31:38.711Z"
   },
   {
    "duration": 16,
    "start_time": "2024-08-14T10:31:45.866Z"
   },
   {
    "duration": 9,
    "start_time": "2024-08-14T10:31:55.975Z"
   },
   {
    "duration": 3732,
    "start_time": "2024-08-14T10:33:04.279Z"
   },
   {
    "duration": 101,
    "start_time": "2024-08-14T10:33:08.014Z"
   },
   {
    "duration": 20,
    "start_time": "2024-08-14T10:33:08.118Z"
   },
   {
    "duration": 25,
    "start_time": "2024-08-14T10:33:08.140Z"
   },
   {
    "duration": 17,
    "start_time": "2024-08-14T10:33:08.167Z"
   },
   {
    "duration": 9,
    "start_time": "2024-08-14T10:33:08.185Z"
   },
   {
    "duration": 12,
    "start_time": "2024-08-14T10:33:08.196Z"
   },
   {
    "duration": 21,
    "start_time": "2024-08-14T10:33:08.210Z"
   },
   {
    "duration": 15,
    "start_time": "2024-08-14T10:33:08.233Z"
   },
   {
    "duration": 13,
    "start_time": "2024-08-14T10:33:08.260Z"
   },
   {
    "duration": 8,
    "start_time": "2024-08-14T10:33:08.275Z"
   },
   {
    "duration": 6,
    "start_time": "2024-08-14T10:33:08.285Z"
   },
   {
    "duration": 13,
    "start_time": "2024-08-14T10:33:08.292Z"
   },
   {
    "duration": 15,
    "start_time": "2024-08-14T10:33:08.307Z"
   },
   {
    "duration": 8,
    "start_time": "2024-08-14T10:33:08.324Z"
   },
   {
    "duration": 15,
    "start_time": "2024-08-14T10:33:08.362Z"
   },
   {
    "duration": 35,
    "start_time": "2024-08-14T10:33:08.379Z"
   },
   {
    "duration": 25,
    "start_time": "2024-08-14T10:33:08.416Z"
   },
   {
    "duration": 36,
    "start_time": "2024-08-14T10:33:08.443Z"
   },
   {
    "duration": 23,
    "start_time": "2024-08-14T10:33:08.481Z"
   },
   {
    "duration": 20,
    "start_time": "2024-08-14T10:33:08.505Z"
   },
   {
    "duration": 4,
    "start_time": "2024-08-14T10:33:08.526Z"
   },
   {
    "duration": 25,
    "start_time": "2024-08-14T10:33:08.532Z"
   },
   {
    "duration": 30,
    "start_time": "2024-08-14T10:33:08.559Z"
   },
   {
    "duration": 3,
    "start_time": "2024-08-14T10:33:08.590Z"
   },
   {
    "duration": 470,
    "start_time": "2024-08-14T10:33:08.595Z"
   },
   {
    "duration": 423,
    "start_time": "2024-08-14T10:33:09.066Z"
   },
   {
    "duration": 3,
    "start_time": "2024-08-14T10:33:09.493Z"
   },
   {
    "duration": 460,
    "start_time": "2024-08-14T10:33:09.497Z"
   },
   {
    "duration": 6,
    "start_time": "2024-08-14T10:33:09.959Z"
   },
   {
    "duration": 16,
    "start_time": "2024-08-14T10:33:09.967Z"
   },
   {
    "duration": 12,
    "start_time": "2024-08-14T10:33:09.985Z"
   },
   {
    "duration": 13,
    "start_time": "2024-08-14T10:33:09.998Z"
   },
   {
    "duration": 408,
    "start_time": "2024-08-14T10:33:10.013Z"
   },
   {
    "duration": 4,
    "start_time": "2024-08-14T10:33:10.422Z"
   },
   {
    "duration": 16,
    "start_time": "2024-08-14T10:33:10.428Z"
   },
   {
    "duration": 21,
    "start_time": "2024-08-14T10:33:10.446Z"
   },
   {
    "duration": 13,
    "start_time": "2024-08-14T10:33:10.469Z"
   },
   {
    "duration": 647,
    "start_time": "2024-08-14T10:33:10.483Z"
   },
   {
    "duration": 7,
    "start_time": "2024-08-14T10:33:11.132Z"
   },
   {
    "duration": 63,
    "start_time": "2024-08-14T10:33:11.140Z"
   },
   {
    "duration": 198,
    "start_time": "2024-08-14T10:33:11.204Z"
   },
   {
    "duration": 17,
    "start_time": "2024-08-14T10:33:11.403Z"
   },
   {
    "duration": 43,
    "start_time": "2024-08-14T10:33:11.422Z"
   },
   {
    "duration": 16,
    "start_time": "2024-08-14T10:33:11.467Z"
   },
   {
    "duration": 31,
    "start_time": "2024-08-14T10:33:11.485Z"
   },
   {
    "duration": 15,
    "start_time": "2024-08-14T10:33:11.517Z"
   },
   {
    "duration": 827,
    "start_time": "2024-08-14T10:33:11.534Z"
   },
   {
    "duration": 3746,
    "start_time": "2024-08-14T10:34:06.405Z"
   },
   {
    "duration": 103,
    "start_time": "2024-08-14T10:34:10.155Z"
   },
   {
    "duration": 16,
    "start_time": "2024-08-14T10:34:10.259Z"
   },
   {
    "duration": 3,
    "start_time": "2024-08-14T10:34:10.277Z"
   },
   {
    "duration": 38,
    "start_time": "2024-08-14T10:34:10.282Z"
   },
   {
    "duration": 14,
    "start_time": "2024-08-14T10:34:10.322Z"
   },
   {
    "duration": 29,
    "start_time": "2024-08-14T10:34:10.337Z"
   },
   {
    "duration": 11,
    "start_time": "2024-08-14T10:34:10.369Z"
   },
   {
    "duration": 15,
    "start_time": "2024-08-14T10:34:10.381Z"
   },
   {
    "duration": 14,
    "start_time": "2024-08-14T10:34:10.398Z"
   },
   {
    "duration": 9,
    "start_time": "2024-08-14T10:34:10.413Z"
   },
   {
    "duration": 37,
    "start_time": "2024-08-14T10:34:10.425Z"
   },
   {
    "duration": 13,
    "start_time": "2024-08-14T10:34:10.464Z"
   },
   {
    "duration": 8,
    "start_time": "2024-08-14T10:34:10.478Z"
   },
   {
    "duration": 5,
    "start_time": "2024-08-14T10:34:10.488Z"
   },
   {
    "duration": 15,
    "start_time": "2024-08-14T10:34:10.494Z"
   },
   {
    "duration": 13,
    "start_time": "2024-08-14T10:34:10.512Z"
   },
   {
    "duration": 40,
    "start_time": "2024-08-14T10:34:10.527Z"
   },
   {
    "duration": 4,
    "start_time": "2024-08-14T10:34:10.569Z"
   },
   {
    "duration": 15,
    "start_time": "2024-08-14T10:34:10.575Z"
   },
   {
    "duration": 10,
    "start_time": "2024-08-14T10:34:10.591Z"
   },
   {
    "duration": 6,
    "start_time": "2024-08-14T10:34:10.602Z"
   },
   {
    "duration": 10,
    "start_time": "2024-08-14T10:34:10.609Z"
   },
   {
    "duration": 41,
    "start_time": "2024-08-14T10:34:10.621Z"
   },
   {
    "duration": 3,
    "start_time": "2024-08-14T10:34:10.664Z"
   },
   {
    "duration": 502,
    "start_time": "2024-08-14T10:34:10.669Z"
   },
   {
    "duration": 433,
    "start_time": "2024-08-14T10:34:11.173Z"
   },
   {
    "duration": 3,
    "start_time": "2024-08-14T10:34:11.610Z"
   },
   {
    "duration": 453,
    "start_time": "2024-08-14T10:34:11.615Z"
   },
   {
    "duration": 7,
    "start_time": "2024-08-14T10:34:12.071Z"
   },
   {
    "duration": 14,
    "start_time": "2024-08-14T10:34:12.080Z"
   },
   {
    "duration": 35,
    "start_time": "2024-08-14T10:34:12.095Z"
   },
   {
    "duration": 5,
    "start_time": "2024-08-14T10:34:12.132Z"
   },
   {
    "duration": 394,
    "start_time": "2024-08-14T10:34:12.138Z"
   },
   {
    "duration": 4,
    "start_time": "2024-08-14T10:34:12.534Z"
   },
   {
    "duration": 9,
    "start_time": "2024-08-14T10:34:12.539Z"
   },
   {
    "duration": 11,
    "start_time": "2024-08-14T10:34:12.560Z"
   },
   {
    "duration": 3,
    "start_time": "2024-08-14T10:34:12.573Z"
   },
   {
    "duration": 670,
    "start_time": "2024-08-14T10:34:12.577Z"
   },
   {
    "duration": 12,
    "start_time": "2024-08-14T10:34:13.249Z"
   },
   {
    "duration": 3,
    "start_time": "2024-08-14T10:34:13.263Z"
   },
   {
    "duration": 226,
    "start_time": "2024-08-14T10:34:13.267Z"
   },
   {
    "duration": 17,
    "start_time": "2024-08-14T10:34:13.495Z"
   },
   {
    "duration": 28,
    "start_time": "2024-08-14T10:34:13.514Z"
   },
   {
    "duration": 51,
    "start_time": "2024-08-14T10:34:13.545Z"
   },
   {
    "duration": 13,
    "start_time": "2024-08-14T10:34:13.598Z"
   },
   {
    "duration": 16,
    "start_time": "2024-08-14T10:34:13.613Z"
   },
   {
    "duration": 765,
    "start_time": "2024-08-14T10:34:13.631Z"
   },
   {
    "duration": 3,
    "start_time": "2024-08-14T10:41:02.736Z"
   },
   {
    "duration": 11,
    "start_time": "2024-08-14T10:41:48.612Z"
   },
   {
    "duration": 23,
    "start_time": "2024-08-14T10:41:51.235Z"
   },
   {
    "duration": 126,
    "start_time": "2024-08-14T10:42:26.355Z"
   },
   {
    "duration": 4,
    "start_time": "2024-08-14T10:42:32.449Z"
   },
   {
    "duration": 22,
    "start_time": "2024-08-14T10:42:35.873Z"
   },
   {
    "duration": 12,
    "start_time": "2024-08-14T10:42:52.044Z"
   },
   {
    "duration": 5,
    "start_time": "2024-08-14T10:42:53.244Z"
   },
   {
    "duration": 33,
    "start_time": "2024-08-14T10:42:54.194Z"
   },
   {
    "duration": 6,
    "start_time": "2024-08-14T10:43:44.338Z"
   },
   {
    "duration": 6,
    "start_time": "2024-08-14T10:44:14.306Z"
   },
   {
    "duration": 15,
    "start_time": "2024-08-14T10:46:15.725Z"
   },
   {
    "duration": 5,
    "start_time": "2024-08-14T10:46:28.815Z"
   },
   {
    "duration": 6,
    "start_time": "2024-08-14T10:48:24.299Z"
   },
   {
    "duration": 53,
    "start_time": "2024-08-14T10:49:22.773Z"
   },
   {
    "duration": 4,
    "start_time": "2024-08-14T10:49:29.449Z"
   },
   {
    "duration": 3,
    "start_time": "2024-08-14T10:49:30.190Z"
   },
   {
    "duration": 173,
    "start_time": "2024-08-14T10:52:50.027Z"
   },
   {
    "duration": 5,
    "start_time": "2024-08-14T10:54:13.625Z"
   },
   {
    "duration": 23,
    "start_time": "2024-08-14T10:54:29.090Z"
   },
   {
    "duration": 57,
    "start_time": "2024-08-14T10:54:41.677Z"
   },
   {
    "duration": 3,
    "start_time": "2024-08-14T10:54:45.006Z"
   },
   {
    "duration": 3,
    "start_time": "2024-08-14T10:54:45.536Z"
   },
   {
    "duration": 5,
    "start_time": "2024-08-14T10:54:46.080Z"
   },
   {
    "duration": 5,
    "start_time": "2024-08-14T10:55:29.334Z"
   },
   {
    "duration": 13,
    "start_time": "2024-08-14T10:56:38.952Z"
   },
   {
    "duration": 5,
    "start_time": "2024-08-14T10:56:54.382Z"
   },
   {
    "duration": 9,
    "start_time": "2024-08-14T10:56:54.837Z"
   },
   {
    "duration": 3,
    "start_time": "2024-08-14T10:57:00.938Z"
   },
   {
    "duration": 6,
    "start_time": "2024-08-14T10:57:01.347Z"
   },
   {
    "duration": 4,
    "start_time": "2024-08-14T10:57:01.791Z"
   },
   {
    "duration": 35,
    "start_time": "2024-08-14T10:57:25.064Z"
   },
   {
    "duration": 4,
    "start_time": "2024-08-14T10:58:13.196Z"
   },
   {
    "duration": 3,
    "start_time": "2024-08-14T10:58:13.939Z"
   },
   {
    "duration": 34,
    "start_time": "2024-08-14T10:58:14.483Z"
   },
   {
    "duration": 4,
    "start_time": "2024-08-14T10:58:38.091Z"
   },
   {
    "duration": 4,
    "start_time": "2024-08-14T10:58:38.393Z"
   },
   {
    "duration": 36,
    "start_time": "2024-08-14T10:58:38.825Z"
   },
   {
    "duration": 4,
    "start_time": "2024-08-14T10:59:12.079Z"
   },
   {
    "duration": 3,
    "start_time": "2024-08-14T10:59:12.535Z"
   },
   {
    "duration": 67,
    "start_time": "2024-08-14T10:59:13.015Z"
   },
   {
    "duration": 5,
    "start_time": "2024-08-14T11:02:23.769Z"
   },
   {
    "duration": 3,
    "start_time": "2024-08-14T11:02:24.307Z"
   },
   {
    "duration": 51,
    "start_time": "2024-08-14T11:02:24.822Z"
   },
   {
    "duration": 5,
    "start_time": "2024-08-14T11:02:34.450Z"
   },
   {
    "duration": 3,
    "start_time": "2024-08-14T11:02:34.932Z"
   },
   {
    "duration": 52,
    "start_time": "2024-08-14T11:02:35.375Z"
   },
   {
    "duration": 5,
    "start_time": "2024-08-14T11:03:21.596Z"
   },
   {
    "duration": 4,
    "start_time": "2024-08-14T11:03:22.400Z"
   },
   {
    "duration": 56,
    "start_time": "2024-08-14T11:03:22.919Z"
   },
   {
    "duration": 4,
    "start_time": "2024-08-14T11:03:42.714Z"
   },
   {
    "duration": 3,
    "start_time": "2024-08-14T11:03:43.634Z"
   },
   {
    "duration": 64,
    "start_time": "2024-08-14T11:03:44.240Z"
   },
   {
    "duration": 4,
    "start_time": "2024-08-14T11:03:54.505Z"
   },
   {
    "duration": 19,
    "start_time": "2024-08-14T11:04:10.514Z"
   },
   {
    "duration": 10,
    "start_time": "2024-08-14T11:04:17.498Z"
   },
   {
    "duration": 15,
    "start_time": "2024-08-14T11:04:21.787Z"
   },
   {
    "duration": 17,
    "start_time": "2024-08-14T11:04:33.750Z"
   },
   {
    "duration": 18,
    "start_time": "2024-08-14T11:04:37.872Z"
   },
   {
    "duration": 4,
    "start_time": "2024-08-14T11:05:19.576Z"
   },
   {
    "duration": 9,
    "start_time": "2024-08-14T11:07:37.079Z"
   },
   {
    "duration": 5,
    "start_time": "2024-08-14T11:08:04.260Z"
   },
   {
    "duration": 31,
    "start_time": "2024-08-14T11:08:30.514Z"
   },
   {
    "duration": 4,
    "start_time": "2024-08-14T11:08:47.615Z"
   },
   {
    "duration": 4,
    "start_time": "2024-08-14T11:09:44.408Z"
   },
   {
    "duration": 3,
    "start_time": "2024-08-14T11:09:44.755Z"
   },
   {
    "duration": 62,
    "start_time": "2024-08-14T11:09:45.231Z"
   },
   {
    "duration": 4,
    "start_time": "2024-08-14T11:09:48.340Z"
   },
   {
    "duration": 4,
    "start_time": "2024-08-14T11:09:50.606Z"
   },
   {
    "duration": 43,
    "start_time": "2024-08-14T11:09:51.480Z"
   },
   {
    "duration": 14,
    "start_time": "2024-08-14T11:11:01.538Z"
   },
   {
    "duration": 13,
    "start_time": "2024-08-14T11:11:13.601Z"
   },
   {
    "duration": 12,
    "start_time": "2024-08-14T11:11:24.565Z"
   },
   {
    "duration": 9,
    "start_time": "2024-08-14T11:11:31.512Z"
   },
   {
    "duration": 9,
    "start_time": "2024-08-14T11:11:47.580Z"
   },
   {
    "duration": 14,
    "start_time": "2024-08-14T11:11:50.621Z"
   },
   {
    "duration": 13,
    "start_time": "2024-08-14T11:11:55.485Z"
   },
   {
    "duration": 13,
    "start_time": "2024-08-14T11:11:58.450Z"
   },
   {
    "duration": 19,
    "start_time": "2024-08-14T11:14:09.720Z"
   },
   {
    "duration": 14,
    "start_time": "2024-08-14T11:14:16.373Z"
   },
   {
    "duration": 29,
    "start_time": "2024-08-14T11:14:25.208Z"
   },
   {
    "duration": 18,
    "start_time": "2024-08-14T11:14:42.497Z"
   },
   {
    "duration": 9,
    "start_time": "2024-08-14T11:14:53.196Z"
   },
   {
    "duration": 11,
    "start_time": "2024-08-14T11:15:10.147Z"
   },
   {
    "duration": 9,
    "start_time": "2024-08-14T11:15:13.297Z"
   },
   {
    "duration": 14,
    "start_time": "2024-08-14T11:18:52.863Z"
   },
   {
    "duration": 12,
    "start_time": "2024-08-14T11:20:04.405Z"
   },
   {
    "duration": 5,
    "start_time": "2024-08-14T11:21:50.745Z"
   },
   {
    "duration": 5,
    "start_time": "2024-08-14T11:21:59.203Z"
   },
   {
    "duration": 12,
    "start_time": "2024-08-14T11:32:01.448Z"
   },
   {
    "duration": 5,
    "start_time": "2024-08-14T11:32:14.937Z"
   },
   {
    "duration": 7,
    "start_time": "2024-08-14T11:32:21.184Z"
   },
   {
    "duration": 11,
    "start_time": "2024-08-14T11:32:26.943Z"
   },
   {
    "duration": 10,
    "start_time": "2024-08-14T11:32:30.486Z"
   },
   {
    "duration": 11,
    "start_time": "2024-08-14T11:33:27.095Z"
   },
   {
    "duration": 4,
    "start_time": "2024-08-14T11:33:30.610Z"
   },
   {
    "duration": 14,
    "start_time": "2024-08-14T11:33:35.928Z"
   },
   {
    "duration": 12,
    "start_time": "2024-08-14T11:33:39.360Z"
   },
   {
    "duration": 4,
    "start_time": "2024-08-14T11:34:18.462Z"
   },
   {
    "duration": 4,
    "start_time": "2024-08-14T11:34:32.623Z"
   },
   {
    "duration": 7,
    "start_time": "2024-08-14T11:36:08.975Z"
   },
   {
    "duration": 6,
    "start_time": "2024-08-14T11:36:19.101Z"
   },
   {
    "duration": 31,
    "start_time": "2024-08-14T11:36:37.398Z"
   },
   {
    "duration": 10,
    "start_time": "2024-08-14T11:36:41.727Z"
   },
   {
    "duration": 32,
    "start_time": "2024-08-14T11:36:46.602Z"
   },
   {
    "duration": 10,
    "start_time": "2024-08-14T11:37:04.535Z"
   },
   {
    "duration": 23,
    "start_time": "2024-08-14T11:37:35.152Z"
   },
   {
    "duration": 11,
    "start_time": "2024-08-14T11:37:46.219Z"
   },
   {
    "duration": 11,
    "start_time": "2024-08-14T11:37:51.239Z"
   },
   {
    "duration": 19,
    "start_time": "2024-08-14T11:37:53.526Z"
   },
   {
    "duration": 15,
    "start_time": "2024-08-14T11:38:00.569Z"
   },
   {
    "duration": 11,
    "start_time": "2024-08-14T11:38:12.966Z"
   },
   {
    "duration": 15,
    "start_time": "2024-08-14T11:38:16.633Z"
   },
   {
    "duration": 20,
    "start_time": "2024-08-14T11:38:18.823Z"
   },
   {
    "duration": 11,
    "start_time": "2024-08-14T11:38:37.288Z"
   },
   {
    "duration": 14,
    "start_time": "2024-08-14T11:38:44.262Z"
   },
   {
    "duration": 5,
    "start_time": "2024-08-14T11:38:54.481Z"
   },
   {
    "duration": 12,
    "start_time": "2024-08-14T11:39:01.247Z"
   },
   {
    "duration": 56,
    "start_time": "2024-08-14T11:39:20.045Z"
   },
   {
    "duration": 5,
    "start_time": "2024-08-14T11:39:33.647Z"
   },
   {
    "duration": 11,
    "start_time": "2024-08-14T11:39:54.767Z"
   },
   {
    "duration": 5,
    "start_time": "2024-08-14T11:41:02.175Z"
   },
   {
    "duration": 5,
    "start_time": "2024-08-14T11:41:17.235Z"
   },
   {
    "duration": 21,
    "start_time": "2024-08-14T11:42:11.301Z"
   },
   {
    "duration": 57,
    "start_time": "2024-08-14T11:42:40.475Z"
   },
   {
    "duration": 4,
    "start_time": "2024-08-14T11:43:15.807Z"
   },
   {
    "duration": 66,
    "start_time": "2024-08-14T11:43:16.358Z"
   },
   {
    "duration": 7,
    "start_time": "2024-08-14T11:43:17.168Z"
   },
   {
    "duration": 5,
    "start_time": "2024-08-14T11:43:17.808Z"
   },
   {
    "duration": 53,
    "start_time": "2024-08-14T11:43:18.738Z"
   },
   {
    "duration": 18,
    "start_time": "2024-08-14T11:43:19.461Z"
   },
   {
    "duration": 5,
    "start_time": "2024-08-14T11:44:08.765Z"
   },
   {
    "duration": 5,
    "start_time": "2024-08-14T11:44:12.140Z"
   },
   {
    "duration": 7,
    "start_time": "2024-08-14T11:45:32.367Z"
   },
   {
    "duration": 7,
    "start_time": "2024-08-14T11:45:33.915Z"
   },
   {
    "duration": 33,
    "start_time": "2024-08-14T11:45:40.388Z"
   },
   {
    "duration": 4,
    "start_time": "2024-08-14T11:46:10.347Z"
   },
   {
    "duration": 5,
    "start_time": "2024-08-14T11:46:17.935Z"
   },
   {
    "duration": 4,
    "start_time": "2024-08-14T11:46:18.252Z"
   },
   {
    "duration": 15,
    "start_time": "2024-08-14T11:46:36.431Z"
   },
   {
    "duration": 111,
    "start_time": "2024-08-14T11:47:00.070Z"
   },
   {
    "duration": 34,
    "start_time": "2024-08-14T11:47:13.093Z"
   },
   {
    "duration": 18,
    "start_time": "2024-08-14T11:48:36.291Z"
   },
   {
    "duration": 43187,
    "start_time": "2024-08-14T11:49:20.124Z"
   },
   {
    "duration": 93136,
    "start_time": "2024-08-14T11:50:05.760Z"
   },
   {
    "duration": 50,
    "start_time": "2024-08-14T11:52:02.129Z"
   },
   {
    "duration": 94034,
    "start_time": "2024-08-14T11:52:49.539Z"
   },
   {
    "duration": 38,
    "start_time": "2024-08-14T11:54:23.575Z"
   },
   {
    "duration": 55,
    "start_time": "2024-08-14T12:22:52.890Z"
   },
   {
    "duration": 95714,
    "start_time": "2024-08-14T12:22:56.444Z"
   },
   {
    "duration": 24,
    "start_time": "2024-08-14T12:24:32.159Z"
   },
   {
    "duration": 89990,
    "start_time": "2024-08-14T12:32:45.695Z"
   },
   {
    "duration": 24,
    "start_time": "2024-08-14T12:34:15.687Z"
   },
   {
    "duration": 3948,
    "start_time": "2024-08-14T12:36:20.338Z"
   },
   {
    "duration": 113,
    "start_time": "2024-08-14T12:36:24.290Z"
   },
   {
    "duration": 17,
    "start_time": "2024-08-14T12:36:24.405Z"
   },
   {
    "duration": 4,
    "start_time": "2024-08-14T12:36:24.425Z"
   },
   {
    "duration": 18,
    "start_time": "2024-08-14T12:36:24.431Z"
   },
   {
    "duration": 15,
    "start_time": "2024-08-14T12:36:24.451Z"
   },
   {
    "duration": 22,
    "start_time": "2024-08-14T12:36:24.468Z"
   },
   {
    "duration": 32,
    "start_time": "2024-08-14T12:36:24.492Z"
   },
   {
    "duration": 16,
    "start_time": "2024-08-14T12:36:24.526Z"
   },
   {
    "duration": 30,
    "start_time": "2024-08-14T12:36:24.545Z"
   },
   {
    "duration": 12,
    "start_time": "2024-08-14T12:36:24.578Z"
   },
   {
    "duration": 6,
    "start_time": "2024-08-14T12:36:24.592Z"
   },
   {
    "duration": 30,
    "start_time": "2024-08-14T12:36:24.600Z"
   },
   {
    "duration": 33,
    "start_time": "2024-08-14T12:36:24.632Z"
   },
   {
    "duration": 5,
    "start_time": "2024-08-14T12:36:24.668Z"
   },
   {
    "duration": 15,
    "start_time": "2024-08-14T12:36:24.674Z"
   },
   {
    "duration": 18,
    "start_time": "2024-08-14T12:36:24.691Z"
   },
   {
    "duration": 16,
    "start_time": "2024-08-14T12:36:24.711Z"
   },
   {
    "duration": 32,
    "start_time": "2024-08-14T12:36:24.729Z"
   },
   {
    "duration": 17,
    "start_time": "2024-08-14T12:36:24.763Z"
   },
   {
    "duration": 16,
    "start_time": "2024-08-14T12:36:24.782Z"
   },
   {
    "duration": 3,
    "start_time": "2024-08-14T12:36:24.801Z"
   },
   {
    "duration": 14,
    "start_time": "2024-08-14T12:36:24.806Z"
   },
   {
    "duration": 46,
    "start_time": "2024-08-14T12:36:24.822Z"
   },
   {
    "duration": 5,
    "start_time": "2024-08-14T12:36:24.870Z"
   },
   {
    "duration": 530,
    "start_time": "2024-08-14T12:36:24.877Z"
   },
   {
    "duration": 459,
    "start_time": "2024-08-14T12:36:25.409Z"
   },
   {
    "duration": 3,
    "start_time": "2024-08-14T12:36:25.874Z"
   },
   {
    "duration": 494,
    "start_time": "2024-08-14T12:36:25.879Z"
   },
   {
    "duration": 7,
    "start_time": "2024-08-14T12:36:26.375Z"
   },
   {
    "duration": 32,
    "start_time": "2024-08-14T12:36:26.384Z"
   },
   {
    "duration": 22,
    "start_time": "2024-08-14T12:36:26.419Z"
   },
   {
    "duration": 7,
    "start_time": "2024-08-14T12:36:26.444Z"
   },
   {
    "duration": 491,
    "start_time": "2024-08-14T12:36:26.454Z"
   },
   {
    "duration": 5,
    "start_time": "2024-08-14T12:36:26.946Z"
   },
   {
    "duration": 18,
    "start_time": "2024-08-14T12:36:26.961Z"
   },
   {
    "duration": 29,
    "start_time": "2024-08-14T12:36:26.981Z"
   },
   {
    "duration": 10,
    "start_time": "2024-08-14T12:36:27.012Z"
   },
   {
    "duration": 725,
    "start_time": "2024-08-14T12:36:27.024Z"
   },
   {
    "duration": 16,
    "start_time": "2024-08-14T12:36:27.751Z"
   },
   {
    "duration": 20,
    "start_time": "2024-08-14T12:36:27.769Z"
   },
   {
    "duration": 205,
    "start_time": "2024-08-14T12:36:27.791Z"
   },
   {
    "duration": 18,
    "start_time": "2024-08-14T12:36:27.997Z"
   },
   {
    "duration": 32,
    "start_time": "2024-08-14T12:36:28.017Z"
   },
   {
    "duration": 58,
    "start_time": "2024-08-14T12:36:28.063Z"
   },
   {
    "duration": 40,
    "start_time": "2024-08-14T12:36:28.123Z"
   },
   {
    "duration": 78,
    "start_time": "2024-08-14T12:36:28.165Z"
   },
   {
    "duration": 1087,
    "start_time": "2024-08-14T12:36:28.246Z"
   },
   {
    "duration": 246,
    "start_time": "2024-08-14T12:36:29.336Z"
   },
   {
    "duration": 9,
    "start_time": "2024-08-14T12:36:29.584Z"
   },
   {
    "duration": 22,
    "start_time": "2024-08-14T12:36:29.594Z"
   },
   {
    "duration": 23,
    "start_time": "2024-08-14T12:36:29.617Z"
   },
   {
    "duration": 75,
    "start_time": "2024-08-14T12:36:29.642Z"
   },
   {
    "duration": 4,
    "start_time": "2024-08-14T12:36:29.719Z"
   },
   {
    "duration": 18,
    "start_time": "2024-08-14T12:36:29.725Z"
   },
   {
    "duration": 6,
    "start_time": "2024-08-14T12:36:29.746Z"
   },
   {
    "duration": 11,
    "start_time": "2024-08-14T12:36:29.755Z"
   },
   {
    "duration": 153,
    "start_time": "2024-08-14T12:36:29.769Z"
   },
   {
    "duration": 21,
    "start_time": "2024-08-14T12:36:29.924Z"
   },
   {
    "duration": 93174,
    "start_time": "2024-08-14T12:36:29.947Z"
   },
   {
    "duration": 42,
    "start_time": "2024-08-14T12:38:03.123Z"
   },
   {
    "duration": 26,
    "start_time": "2024-08-14T12:38:03.169Z"
   },
   {
    "duration": 3831,
    "start_time": "2024-08-14T12:43:13.927Z"
   },
   {
    "duration": 110,
    "start_time": "2024-08-14T12:43:17.761Z"
   },
   {
    "duration": 20,
    "start_time": "2024-08-14T12:43:17.873Z"
   },
   {
    "duration": 4,
    "start_time": "2024-08-14T12:43:17.895Z"
   },
   {
    "duration": 16,
    "start_time": "2024-08-14T12:43:17.901Z"
   },
   {
    "duration": 12,
    "start_time": "2024-08-14T12:43:17.919Z"
   },
   {
    "duration": 42,
    "start_time": "2024-08-14T12:43:17.933Z"
   },
   {
    "duration": 11,
    "start_time": "2024-08-14T12:43:17.977Z"
   },
   {
    "duration": 16,
    "start_time": "2024-08-14T12:43:17.990Z"
   },
   {
    "duration": 14,
    "start_time": "2024-08-14T12:43:18.010Z"
   },
   {
    "duration": 46,
    "start_time": "2024-08-14T12:43:18.026Z"
   },
   {
    "duration": 9,
    "start_time": "2024-08-14T12:43:18.074Z"
   },
   {
    "duration": 19,
    "start_time": "2024-08-14T12:43:18.086Z"
   },
   {
    "duration": 25,
    "start_time": "2024-08-14T12:43:18.107Z"
   },
   {
    "duration": 4,
    "start_time": "2024-08-14T12:43:18.134Z"
   },
   {
    "duration": 33,
    "start_time": "2024-08-14T12:43:18.140Z"
   },
   {
    "duration": 10,
    "start_time": "2024-08-14T12:43:18.176Z"
   },
   {
    "duration": 16,
    "start_time": "2024-08-14T12:43:18.188Z"
   },
   {
    "duration": 5,
    "start_time": "2024-08-14T12:43:18.206Z"
   },
   {
    "duration": 60,
    "start_time": "2024-08-14T12:43:18.212Z"
   },
   {
    "duration": 31,
    "start_time": "2024-08-14T12:43:18.274Z"
   },
   {
    "duration": 28,
    "start_time": "2024-08-14T12:43:18.307Z"
   },
   {
    "duration": 23,
    "start_time": "2024-08-14T12:43:18.337Z"
   },
   {
    "duration": 26,
    "start_time": "2024-08-14T12:43:18.362Z"
   },
   {
    "duration": 6,
    "start_time": "2024-08-14T12:43:18.390Z"
   },
   {
    "duration": 588,
    "start_time": "2024-08-14T12:43:18.397Z"
   },
   {
    "duration": 462,
    "start_time": "2024-08-14T12:43:18.987Z"
   },
   {
    "duration": 3,
    "start_time": "2024-08-14T12:43:19.460Z"
   },
   {
    "duration": 516,
    "start_time": "2024-08-14T12:43:19.465Z"
   },
   {
    "duration": 10,
    "start_time": "2024-08-14T12:43:19.982Z"
   },
   {
    "duration": 16,
    "start_time": "2024-08-14T12:43:19.994Z"
   },
   {
    "duration": 32,
    "start_time": "2024-08-14T12:43:20.012Z"
   },
   {
    "duration": 30,
    "start_time": "2024-08-14T12:43:20.046Z"
   },
   {
    "duration": 472,
    "start_time": "2024-08-14T12:43:20.080Z"
   },
   {
    "duration": 8,
    "start_time": "2024-08-14T12:43:20.554Z"
   },
   {
    "duration": 14,
    "start_time": "2024-08-14T12:43:20.564Z"
   },
   {
    "duration": 12,
    "start_time": "2024-08-14T12:43:20.580Z"
   },
   {
    "duration": 3,
    "start_time": "2024-08-14T12:43:20.594Z"
   },
   {
    "duration": 747,
    "start_time": "2024-08-14T12:43:20.599Z"
   },
   {
    "duration": 15,
    "start_time": "2024-08-14T12:43:21.347Z"
   },
   {
    "duration": 9,
    "start_time": "2024-08-14T12:43:21.364Z"
   },
   {
    "duration": 214,
    "start_time": "2024-08-14T12:43:21.375Z"
   },
   {
    "duration": 16,
    "start_time": "2024-08-14T12:43:21.591Z"
   },
   {
    "duration": 15,
    "start_time": "2024-08-14T12:43:21.609Z"
   },
   {
    "duration": 36,
    "start_time": "2024-08-14T12:43:21.626Z"
   },
   {
    "duration": 12,
    "start_time": "2024-08-14T12:43:21.663Z"
   },
   {
    "duration": 16,
    "start_time": "2024-08-14T12:43:21.676Z"
   },
   {
    "duration": 853,
    "start_time": "2024-08-14T12:43:21.693Z"
   },
   {
    "duration": 247,
    "start_time": "2024-08-14T12:43:22.548Z"
   },
   {
    "duration": 9,
    "start_time": "2024-08-14T12:43:22.797Z"
   },
   {
    "duration": 6,
    "start_time": "2024-08-14T12:43:22.807Z"
   },
   {
    "duration": 5,
    "start_time": "2024-08-14T12:43:22.815Z"
   },
   {
    "duration": 66,
    "start_time": "2024-08-14T12:43:22.821Z"
   },
   {
    "duration": 3,
    "start_time": "2024-08-14T12:43:22.889Z"
   },
   {
    "duration": 5,
    "start_time": "2024-08-14T12:43:22.893Z"
   },
   {
    "duration": 7,
    "start_time": "2024-08-14T12:43:22.899Z"
   },
   {
    "duration": 8,
    "start_time": "2024-08-14T12:43:22.907Z"
   },
   {
    "duration": 183,
    "start_time": "2024-08-14T12:43:22.917Z"
   },
   {
    "duration": 0,
    "start_time": "2024-08-14T12:43:23.102Z"
   },
   {
    "duration": 0,
    "start_time": "2024-08-14T12:43:23.103Z"
   },
   {
    "duration": 0,
    "start_time": "2024-08-14T12:43:23.104Z"
   },
   {
    "duration": 0,
    "start_time": "2024-08-14T12:43:23.105Z"
   },
   {
    "duration": 7,
    "start_time": "2024-08-14T12:44:24.561Z"
   },
   {
    "duration": 4,
    "start_time": "2024-08-14T12:44:24.860Z"
   },
   {
    "duration": 5,
    "start_time": "2024-08-14T12:44:25.199Z"
   },
   {
    "duration": 84,
    "start_time": "2024-08-14T12:44:25.600Z"
   },
   {
    "duration": 11,
    "start_time": "2024-08-14T12:44:26.067Z"
   },
   {
    "duration": 5,
    "start_time": "2024-08-14T12:53:00.695Z"
   },
   {
    "duration": 679,
    "start_time": "2024-08-14T12:53:12.465Z"
   },
   {
    "duration": 3,
    "start_time": "2024-08-14T12:53:52.605Z"
   },
   {
    "duration": 3,
    "start_time": "2024-08-14T12:53:52.933Z"
   },
   {
    "duration": 6,
    "start_time": "2024-08-14T12:53:53.300Z"
   },
   {
    "duration": 3,
    "start_time": "2024-08-14T12:53:53.755Z"
   },
   {
    "duration": 5,
    "start_time": "2024-08-14T12:53:54.209Z"
   },
   {
    "duration": 71,
    "start_time": "2024-08-14T12:53:54.765Z"
   },
   {
    "duration": 4,
    "start_time": "2024-08-14T12:54:25.375Z"
   },
   {
    "duration": 7,
    "start_time": "2024-08-14T12:54:26.253Z"
   },
   {
    "duration": 3,
    "start_time": "2024-08-14T12:54:28.423Z"
   },
   {
    "duration": 7,
    "start_time": "2024-08-14T12:54:29.368Z"
   },
   {
    "duration": 83,
    "start_time": "2024-08-14T12:54:30.030Z"
   },
   {
    "duration": 20,
    "start_time": "2024-08-14T12:54:46.809Z"
   },
   {
    "duration": 9,
    "start_time": "2024-08-14T12:55:07.933Z"
   },
   {
    "duration": 6,
    "start_time": "2024-08-14T12:55:08.180Z"
   },
   {
    "duration": 4,
    "start_time": "2024-08-14T12:55:08.718Z"
   },
   {
    "duration": 4,
    "start_time": "2024-08-14T12:55:09.071Z"
   },
   {
    "duration": 3,
    "start_time": "2024-08-14T12:55:09.442Z"
   },
   {
    "duration": 5,
    "start_time": "2024-08-14T12:55:09.863Z"
   },
   {
    "duration": 3,
    "start_time": "2024-08-14T12:55:10.865Z"
   },
   {
    "duration": 6,
    "start_time": "2024-08-14T12:55:11.733Z"
   },
   {
    "duration": 81,
    "start_time": "2024-08-14T12:55:12.218Z"
   },
   {
    "duration": 24,
    "start_time": "2024-08-14T12:55:13.101Z"
   },
   {
    "duration": 15,
    "start_time": "2024-08-14T12:55:17.700Z"
   },
   {
    "duration": 84616,
    "start_time": "2024-08-14T12:55:18.005Z"
   },
   {
    "duration": 22,
    "start_time": "2024-08-14T12:56:42.623Z"
   },
   {
    "duration": 20,
    "start_time": "2024-08-14T12:58:59.248Z"
   },
   {
    "duration": 1030,
    "start_time": "2024-08-14T12:59:09.906Z"
   },
   {
    "duration": 0,
    "start_time": "2024-08-14T12:59:10.938Z"
   },
   {
    "duration": 3746,
    "start_time": "2024-08-14T12:59:23.450Z"
   },
   {
    "duration": 100,
    "start_time": "2024-08-14T12:59:27.199Z"
   },
   {
    "duration": 23,
    "start_time": "2024-08-14T12:59:27.301Z"
   },
   {
    "duration": 3,
    "start_time": "2024-08-14T12:59:27.326Z"
   },
   {
    "duration": 18,
    "start_time": "2024-08-14T12:59:27.331Z"
   },
   {
    "duration": 14,
    "start_time": "2024-08-14T12:59:27.350Z"
   },
   {
    "duration": 18,
    "start_time": "2024-08-14T12:59:27.366Z"
   },
   {
    "duration": 18,
    "start_time": "2024-08-14T12:59:27.385Z"
   },
   {
    "duration": 16,
    "start_time": "2024-08-14T12:59:27.405Z"
   },
   {
    "duration": 14,
    "start_time": "2024-08-14T12:59:27.424Z"
   },
   {
    "duration": 27,
    "start_time": "2024-08-14T12:59:27.439Z"
   },
   {
    "duration": 7,
    "start_time": "2024-08-14T12:59:27.467Z"
   },
   {
    "duration": 14,
    "start_time": "2024-08-14T12:59:27.475Z"
   },
   {
    "duration": 13,
    "start_time": "2024-08-14T12:59:27.491Z"
   },
   {
    "duration": 16,
    "start_time": "2024-08-14T12:59:27.505Z"
   },
   {
    "duration": 41,
    "start_time": "2024-08-14T12:59:27.522Z"
   },
   {
    "duration": 12,
    "start_time": "2024-08-14T12:59:27.565Z"
   },
   {
    "duration": 13,
    "start_time": "2024-08-14T12:59:27.578Z"
   },
   {
    "duration": 4,
    "start_time": "2024-08-14T12:59:27.593Z"
   },
   {
    "duration": 18,
    "start_time": "2024-08-14T12:59:27.599Z"
   },
   {
    "duration": 8,
    "start_time": "2024-08-14T12:59:27.619Z"
   },
   {
    "duration": 32,
    "start_time": "2024-08-14T12:59:27.628Z"
   },
   {
    "duration": 11,
    "start_time": "2024-08-14T12:59:27.662Z"
   },
   {
    "duration": 25,
    "start_time": "2024-08-14T12:59:27.675Z"
   },
   {
    "duration": 12,
    "start_time": "2024-08-14T12:59:27.703Z"
   },
   {
    "duration": 526,
    "start_time": "2024-08-14T12:59:27.717Z"
   },
   {
    "duration": 532,
    "start_time": "2024-08-14T12:59:28.245Z"
   },
   {
    "duration": 3,
    "start_time": "2024-08-14T12:59:28.783Z"
   },
   {
    "duration": 511,
    "start_time": "2024-08-14T12:59:28.788Z"
   },
   {
    "duration": 7,
    "start_time": "2024-08-14T12:59:29.300Z"
   },
   {
    "duration": 11,
    "start_time": "2024-08-14T12:59:29.308Z"
   },
   {
    "duration": 11,
    "start_time": "2024-08-14T12:59:29.322Z"
   },
   {
    "duration": 26,
    "start_time": "2024-08-14T12:59:29.335Z"
   },
   {
    "duration": 428,
    "start_time": "2024-08-14T12:59:29.363Z"
   },
   {
    "duration": 4,
    "start_time": "2024-08-14T12:59:29.793Z"
   },
   {
    "duration": 13,
    "start_time": "2024-08-14T12:59:29.799Z"
   },
   {
    "duration": 19,
    "start_time": "2024-08-14T12:59:29.815Z"
   },
   {
    "duration": 28,
    "start_time": "2024-08-14T12:59:29.836Z"
   },
   {
    "duration": 730,
    "start_time": "2024-08-14T12:59:29.866Z"
   },
   {
    "duration": 8,
    "start_time": "2024-08-14T12:59:30.598Z"
   },
   {
    "duration": 80,
    "start_time": "2024-08-14T12:59:30.607Z"
   },
   {
    "duration": 212,
    "start_time": "2024-08-14T12:59:30.689Z"
   },
   {
    "duration": 22,
    "start_time": "2024-08-14T12:59:30.903Z"
   },
   {
    "duration": 41,
    "start_time": "2024-08-14T12:59:30.927Z"
   },
   {
    "duration": 44,
    "start_time": "2024-08-14T12:59:30.970Z"
   },
   {
    "duration": 30,
    "start_time": "2024-08-14T12:59:31.017Z"
   },
   {
    "duration": 51,
    "start_time": "2024-08-14T12:59:31.048Z"
   },
   {
    "duration": 956,
    "start_time": "2024-08-14T12:59:31.101Z"
   },
   {
    "duration": 5,
    "start_time": "2024-08-14T12:59:32.060Z"
   },
   {
    "duration": 531,
    "start_time": "2024-08-14T12:59:32.067Z"
   },
   {
    "duration": 209,
    "start_time": "2024-08-14T12:59:32.600Z"
   },
   {
    "duration": 11,
    "start_time": "2024-08-14T12:59:32.811Z"
   },
   {
    "duration": 6,
    "start_time": "2024-08-14T12:59:32.824Z"
   },
   {
    "duration": 6,
    "start_time": "2024-08-14T12:59:32.832Z"
   },
   {
    "duration": 57,
    "start_time": "2024-08-14T12:59:32.840Z"
   },
   {
    "duration": 5,
    "start_time": "2024-08-14T12:59:32.898Z"
   },
   {
    "duration": 8,
    "start_time": "2024-08-14T12:59:32.906Z"
   },
   {
    "duration": 6,
    "start_time": "2024-08-14T12:59:32.916Z"
   },
   {
    "duration": 13,
    "start_time": "2024-08-14T12:59:32.924Z"
   },
   {
    "duration": 1085,
    "start_time": "2024-08-14T12:59:32.939Z"
   },
   {
    "duration": 0,
    "start_time": "2024-08-14T12:59:34.027Z"
   },
   {
    "duration": 0,
    "start_time": "2024-08-14T12:59:34.028Z"
   },
   {
    "duration": 0,
    "start_time": "2024-08-14T12:59:34.029Z"
   },
   {
    "duration": 0,
    "start_time": "2024-08-14T12:59:34.031Z"
   },
   {
    "duration": 12,
    "start_time": "2024-08-14T13:00:44.905Z"
   },
   {
    "duration": 1779,
    "start_time": "2024-08-14T13:00:54.600Z"
   },
   {
    "duration": 22,
    "start_time": "2024-08-14T13:01:48.842Z"
   },
   {
    "duration": 561,
    "start_time": "2024-08-14T13:01:54.040Z"
   },
   {
    "duration": 4417,
    "start_time": "2024-08-14T13:01:59.305Z"
   },
   {
    "duration": 123,
    "start_time": "2024-08-14T13:02:03.726Z"
   },
   {
    "duration": 25,
    "start_time": "2024-08-14T13:02:03.851Z"
   },
   {
    "duration": 4,
    "start_time": "2024-08-14T13:02:03.878Z"
   },
   {
    "duration": 63,
    "start_time": "2024-08-14T13:02:03.883Z"
   },
   {
    "duration": 44,
    "start_time": "2024-08-14T13:02:03.948Z"
   },
   {
    "duration": 20,
    "start_time": "2024-08-14T13:02:03.994Z"
   },
   {
    "duration": 47,
    "start_time": "2024-08-14T13:02:04.016Z"
   },
   {
    "duration": 29,
    "start_time": "2024-08-14T13:02:04.065Z"
   },
   {
    "duration": 19,
    "start_time": "2024-08-14T13:02:04.097Z"
   },
   {
    "duration": 21,
    "start_time": "2024-08-14T13:02:04.118Z"
   },
   {
    "duration": 18,
    "start_time": "2024-08-14T13:02:04.141Z"
   },
   {
    "duration": 16,
    "start_time": "2024-08-14T13:02:04.161Z"
   },
   {
    "duration": 14,
    "start_time": "2024-08-14T13:02:04.179Z"
   },
   {
    "duration": 18,
    "start_time": "2024-08-14T13:02:04.195Z"
   },
   {
    "duration": 25,
    "start_time": "2024-08-14T13:02:04.215Z"
   },
   {
    "duration": 25,
    "start_time": "2024-08-14T13:02:04.242Z"
   },
   {
    "duration": 27,
    "start_time": "2024-08-14T13:02:04.269Z"
   },
   {
    "duration": 13,
    "start_time": "2024-08-14T13:02:04.298Z"
   },
   {
    "duration": 29,
    "start_time": "2024-08-14T13:02:04.313Z"
   },
   {
    "duration": 28,
    "start_time": "2024-08-14T13:02:04.343Z"
   },
   {
    "duration": 4,
    "start_time": "2024-08-14T13:02:04.373Z"
   },
   {
    "duration": 11,
    "start_time": "2024-08-14T13:02:04.379Z"
   },
   {
    "duration": 14,
    "start_time": "2024-08-14T13:02:04.392Z"
   },
   {
    "duration": 12,
    "start_time": "2024-08-14T13:02:04.407Z"
   },
   {
    "duration": 654,
    "start_time": "2024-08-14T13:02:04.421Z"
   },
   {
    "duration": 487,
    "start_time": "2024-08-14T13:02:05.077Z"
   },
   {
    "duration": 3,
    "start_time": "2024-08-14T13:02:05.568Z"
   },
   {
    "duration": 500,
    "start_time": "2024-08-14T13:02:05.573Z"
   },
   {
    "duration": 9,
    "start_time": "2024-08-14T13:02:06.075Z"
   },
   {
    "duration": 15,
    "start_time": "2024-08-14T13:02:06.086Z"
   },
   {
    "duration": 25,
    "start_time": "2024-08-14T13:02:06.103Z"
   },
   {
    "duration": 10,
    "start_time": "2024-08-14T13:02:06.130Z"
   },
   {
    "duration": 442,
    "start_time": "2024-08-14T13:02:06.143Z"
   },
   {
    "duration": 5,
    "start_time": "2024-08-14T13:02:06.587Z"
   },
   {
    "duration": 13,
    "start_time": "2024-08-14T13:02:06.594Z"
   },
   {
    "duration": 27,
    "start_time": "2024-08-14T13:02:06.608Z"
   },
   {
    "duration": 5,
    "start_time": "2024-08-14T13:02:06.638Z"
   },
   {
    "duration": 734,
    "start_time": "2024-08-14T13:02:06.645Z"
   },
   {
    "duration": 10,
    "start_time": "2024-08-14T13:02:07.381Z"
   },
   {
    "duration": 13,
    "start_time": "2024-08-14T13:02:07.393Z"
   },
   {
    "duration": 195,
    "start_time": "2024-08-14T13:02:07.408Z"
   },
   {
    "duration": 29,
    "start_time": "2024-08-14T13:02:07.605Z"
   },
   {
    "duration": 33,
    "start_time": "2024-08-14T13:02:07.636Z"
   },
   {
    "duration": 45,
    "start_time": "2024-08-14T13:02:07.671Z"
   },
   {
    "duration": 12,
    "start_time": "2024-08-14T13:02:07.718Z"
   },
   {
    "duration": 15,
    "start_time": "2024-08-14T13:02:07.732Z"
   },
   {
    "duration": 793,
    "start_time": "2024-08-14T13:02:07.749Z"
   },
   {
    "duration": 5,
    "start_time": "2024-08-14T13:02:08.544Z"
   },
   {
    "duration": 395,
    "start_time": "2024-08-14T13:02:08.561Z"
   },
   {
    "duration": 1402,
    "start_time": "2024-08-14T13:02:08.960Z"
   },
   {
    "duration": 207,
    "start_time": "2024-08-14T13:02:10.365Z"
   },
   {
    "duration": 11,
    "start_time": "2024-08-14T13:02:10.574Z"
   },
   {
    "duration": 9,
    "start_time": "2024-08-14T13:02:10.587Z"
   },
   {
    "duration": 9,
    "start_time": "2024-08-14T13:02:10.597Z"
   },
   {
    "duration": 63,
    "start_time": "2024-08-14T13:02:10.608Z"
   },
   {
    "duration": 3,
    "start_time": "2024-08-14T13:02:10.674Z"
   },
   {
    "duration": 8,
    "start_time": "2024-08-14T13:02:10.679Z"
   },
   {
    "duration": 10,
    "start_time": "2024-08-14T13:02:10.689Z"
   },
   {
    "duration": 11,
    "start_time": "2024-08-14T13:02:10.701Z"
   },
   {
    "duration": 1870,
    "start_time": "2024-08-14T13:02:10.714Z"
   },
   {
    "duration": 0,
    "start_time": "2024-08-14T13:02:12.586Z"
   },
   {
    "duration": 0,
    "start_time": "2024-08-14T13:02:12.587Z"
   },
   {
    "duration": 0,
    "start_time": "2024-08-14T13:02:12.589Z"
   },
   {
    "duration": 0,
    "start_time": "2024-08-14T13:02:12.590Z"
   },
   {
    "duration": 3961,
    "start_time": "2024-08-14T13:03:16.206Z"
   },
   {
    "duration": 117,
    "start_time": "2024-08-14T13:03:20.171Z"
   },
   {
    "duration": 20,
    "start_time": "2024-08-14T13:03:20.290Z"
   },
   {
    "duration": 3,
    "start_time": "2024-08-14T13:03:20.312Z"
   },
   {
    "duration": 16,
    "start_time": "2024-08-14T13:03:20.316Z"
   },
   {
    "duration": 29,
    "start_time": "2024-08-14T13:03:20.334Z"
   },
   {
    "duration": 26,
    "start_time": "2024-08-14T13:03:20.365Z"
   },
   {
    "duration": 15,
    "start_time": "2024-08-14T13:03:20.393Z"
   },
   {
    "duration": 36,
    "start_time": "2024-08-14T13:03:20.410Z"
   },
   {
    "duration": 24,
    "start_time": "2024-08-14T13:03:20.450Z"
   },
   {
    "duration": 15,
    "start_time": "2024-08-14T13:03:20.476Z"
   },
   {
    "duration": 4,
    "start_time": "2024-08-14T13:03:20.493Z"
   },
   {
    "duration": 21,
    "start_time": "2024-08-14T13:03:20.499Z"
   },
   {
    "duration": 45,
    "start_time": "2024-08-14T13:03:20.522Z"
   },
   {
    "duration": 10,
    "start_time": "2024-08-14T13:03:20.569Z"
   },
   {
    "duration": 29,
    "start_time": "2024-08-14T13:03:20.581Z"
   },
   {
    "duration": 16,
    "start_time": "2024-08-14T13:03:20.612Z"
   },
   {
    "duration": 11,
    "start_time": "2024-08-14T13:03:20.630Z"
   },
   {
    "duration": 3,
    "start_time": "2024-08-14T13:03:20.662Z"
   },
   {
    "duration": 20,
    "start_time": "2024-08-14T13:03:20.667Z"
   },
   {
    "duration": 11,
    "start_time": "2024-08-14T13:03:20.689Z"
   },
   {
    "duration": 10,
    "start_time": "2024-08-14T13:03:20.702Z"
   },
   {
    "duration": 16,
    "start_time": "2024-08-14T13:03:20.715Z"
   },
   {
    "duration": 42,
    "start_time": "2024-08-14T13:03:20.733Z"
   },
   {
    "duration": 17,
    "start_time": "2024-08-14T13:03:20.777Z"
   },
   {
    "duration": 635,
    "start_time": "2024-08-14T13:03:20.796Z"
   },
   {
    "duration": 442,
    "start_time": "2024-08-14T13:03:21.433Z"
   },
   {
    "duration": 3,
    "start_time": "2024-08-14T13:03:21.880Z"
   },
   {
    "duration": 565,
    "start_time": "2024-08-14T13:03:21.885Z"
   },
   {
    "duration": 13,
    "start_time": "2024-08-14T13:03:22.452Z"
   },
   {
    "duration": 18,
    "start_time": "2024-08-14T13:03:22.467Z"
   },
   {
    "duration": 14,
    "start_time": "2024-08-14T13:03:22.488Z"
   },
   {
    "duration": 5,
    "start_time": "2024-08-14T13:03:22.504Z"
   },
   {
    "duration": 509,
    "start_time": "2024-08-14T13:03:22.511Z"
   },
   {
    "duration": 4,
    "start_time": "2024-08-14T13:03:23.022Z"
   },
   {
    "duration": 9,
    "start_time": "2024-08-14T13:03:23.027Z"
   },
   {
    "duration": 29,
    "start_time": "2024-08-14T13:03:23.038Z"
   },
   {
    "duration": 3,
    "start_time": "2024-08-14T13:03:23.069Z"
   },
   {
    "duration": 757,
    "start_time": "2024-08-14T13:03:23.074Z"
   },
   {
    "duration": 8,
    "start_time": "2024-08-14T13:03:23.832Z"
   },
   {
    "duration": 3,
    "start_time": "2024-08-14T13:03:23.861Z"
   },
   {
    "duration": 200,
    "start_time": "2024-08-14T13:03:23.867Z"
   },
   {
    "duration": 19,
    "start_time": "2024-08-14T13:03:24.069Z"
   },
   {
    "duration": 17,
    "start_time": "2024-08-14T13:03:24.089Z"
   },
   {
    "duration": 33,
    "start_time": "2024-08-14T13:03:24.108Z"
   },
   {
    "duration": 30,
    "start_time": "2024-08-14T13:03:24.143Z"
   },
   {
    "duration": 22,
    "start_time": "2024-08-14T13:03:24.175Z"
   },
   {
    "duration": 946,
    "start_time": "2024-08-14T13:03:24.199Z"
   },
   {
    "duration": 5,
    "start_time": "2024-08-14T13:03:25.147Z"
   },
   {
    "duration": 324,
    "start_time": "2024-08-14T13:03:25.161Z"
   },
   {
    "duration": 1362,
    "start_time": "2024-08-14T13:03:25.486Z"
   },
   {
    "duration": 236,
    "start_time": "2024-08-14T13:03:26.850Z"
   },
   {
    "duration": 12,
    "start_time": "2024-08-14T13:03:27.088Z"
   },
   {
    "duration": 18,
    "start_time": "2024-08-14T13:03:27.102Z"
   },
   {
    "duration": 5,
    "start_time": "2024-08-14T13:03:27.123Z"
   },
   {
    "duration": 65,
    "start_time": "2024-08-14T13:03:27.130Z"
   },
   {
    "duration": 4,
    "start_time": "2024-08-14T13:03:27.197Z"
   },
   {
    "duration": 19,
    "start_time": "2024-08-14T13:03:27.202Z"
   },
   {
    "duration": 5,
    "start_time": "2024-08-14T13:03:27.223Z"
   },
   {
    "duration": 6,
    "start_time": "2024-08-14T13:03:27.230Z"
   },
   {
    "duration": 97,
    "start_time": "2024-08-14T13:03:27.238Z"
   },
   {
    "duration": 31,
    "start_time": "2024-08-14T13:03:27.337Z"
   },
   {
    "duration": 24,
    "start_time": "2024-08-14T13:03:27.371Z"
   },
   {
    "duration": 84658,
    "start_time": "2024-08-14T13:03:27.396Z"
   },
   {
    "duration": 22,
    "start_time": "2024-08-14T13:04:52.057Z"
   },
   {
    "duration": 3,
    "start_time": "2024-08-14T13:07:40.680Z"
   },
   {
    "duration": 84069,
    "start_time": "2024-08-14T13:08:11.451Z"
   },
   {
    "duration": 190882,
    "start_time": "2024-08-14T13:09:35.522Z"
   },
   {
    "duration": 153778,
    "start_time": "2024-08-14T13:12:46.407Z"
   },
   {
    "duration": 44,
    "start_time": "2024-08-14T13:15:20.186Z"
   },
   {
    "duration": 143434,
    "start_time": "2024-08-14T13:16:15.075Z"
   },
   {
    "duration": 61704,
    "start_time": "2024-08-14T13:18:38.511Z"
   },
   {
    "duration": 0,
    "start_time": "2024-08-14T13:19:40.218Z"
   },
   {
    "duration": 62543,
    "start_time": "2024-08-14T13:19:44.912Z"
   },
   {
    "duration": 189480,
    "start_time": "2024-08-14T13:21:27.239Z"
   },
   {
    "duration": 0,
    "start_time": "2024-08-14T13:24:36.721Z"
   },
   {
    "duration": 0,
    "start_time": "2024-08-14T13:24:36.723Z"
   },
   {
    "duration": 4794,
    "start_time": "2024-08-14T13:24:41.689Z"
   },
   {
    "duration": 38,
    "start_time": "2024-08-14T13:25:12.152Z"
   },
   {
    "duration": 5,
    "start_time": "2024-08-14T13:28:08.294Z"
   },
   {
    "duration": 76,
    "start_time": "2024-08-14T13:28:09.148Z"
   },
   {
    "duration": 5,
    "start_time": "2024-08-14T13:28:31.085Z"
   },
   {
    "duration": 79,
    "start_time": "2024-08-14T13:28:32.320Z"
   },
   {
    "duration": 6,
    "start_time": "2024-08-14T13:29:02.814Z"
   },
   {
    "duration": 61,
    "start_time": "2024-08-14T13:29:03.428Z"
   },
   {
    "duration": 19,
    "start_time": "2024-08-14T13:29:06.103Z"
   },
   {
    "duration": 8,
    "start_time": "2024-08-14T13:29:14.276Z"
   },
   {
    "duration": 78,
    "start_time": "2024-08-14T13:29:14.698Z"
   },
   {
    "duration": 18,
    "start_time": "2024-08-14T13:29:15.481Z"
   },
   {
    "duration": 25737,
    "start_time": "2024-08-14T13:29:31.983Z"
   },
   {
    "duration": 19,
    "start_time": "2024-08-14T13:30:03.493Z"
   },
   {
    "duration": 26,
    "start_time": "2024-08-14T13:30:35.721Z"
   },
   {
    "duration": 7,
    "start_time": "2024-08-14T13:30:43.757Z"
   },
   {
    "duration": 6,
    "start_time": "2024-08-14T13:30:51.884Z"
   },
   {
    "duration": 9,
    "start_time": "2024-08-14T13:31:22.362Z"
   },
   {
    "duration": 7,
    "start_time": "2024-08-14T13:31:46.997Z"
   },
   {
    "duration": 6,
    "start_time": "2024-08-14T13:31:52.621Z"
   },
   {
    "duration": 5,
    "start_time": "2024-08-14T13:32:21.801Z"
   },
   {
    "duration": 18,
    "start_time": "2024-08-14T13:32:22.362Z"
   },
   {
    "duration": 14,
    "start_time": "2024-08-14T13:32:34.951Z"
   },
   {
    "duration": 2,
    "start_time": "2024-08-14T13:32:56.374Z"
   },
   {
    "duration": 17,
    "start_time": "2024-08-14T13:33:04.418Z"
   },
   {
    "duration": 6,
    "start_time": "2024-08-14T13:33:19.842Z"
   },
   {
    "duration": 3,
    "start_time": "2024-08-14T13:33:20.354Z"
   },
   {
    "duration": 7,
    "start_time": "2024-08-14T13:33:20.826Z"
   },
   {
    "duration": 56088,
    "start_time": "2024-08-14T13:34:03.929Z"
   },
   {
    "duration": 6,
    "start_time": "2024-08-14T13:35:00.020Z"
   },
   {
    "duration": 93,
    "start_time": "2024-08-14T13:35:00.029Z"
   },
   {
    "duration": 89,
    "start_time": "2024-08-14T13:35:00.126Z"
   },
   {
    "duration": 3,
    "start_time": "2024-08-14T13:35:30.633Z"
   },
   {
    "duration": 259257,
    "start_time": "2024-08-14T13:35:31.534Z"
   },
   {
    "duration": 47,
    "start_time": "2024-08-14T13:39:50.793Z"
   },
   {
    "duration": 224579,
    "start_time": "2024-08-14T14:41:36.264Z"
   },
   {
    "duration": 81,
    "start_time": "2024-08-14T14:45:20.846Z"
   },
   {
    "duration": 17044,
    "start_time": "2024-08-14T14:45:20.928Z"
   },
   {
    "duration": 5,
    "start_time": "2024-08-14T14:45:37.974Z"
   },
   {
    "duration": 9,
    "start_time": "2024-08-14T14:45:37.981Z"
   },
   {
    "duration": 15,
    "start_time": "2024-08-14T14:45:37.992Z"
   },
   {
    "duration": 285923,
    "start_time": "2024-08-14T14:46:59.205Z"
   },
   {
    "duration": 94,
    "start_time": "2024-08-14T14:51:45.131Z"
   },
   {
    "duration": 29809,
    "start_time": "2024-08-14T14:55:08.239Z"
   },
   {
    "duration": 115,
    "start_time": "2024-08-14T14:55:38.050Z"
   },
   {
    "duration": 10,
    "start_time": "2024-08-14T14:58:29.752Z"
   },
   {
    "duration": 3706,
    "start_time": "2024-08-14T14:58:39.979Z"
   },
   {
    "duration": 68,
    "start_time": "2024-08-14T14:58:43.689Z"
   },
   {
    "duration": 479,
    "start_time": "2024-08-14T14:59:41.550Z"
   },
   {
    "duration": 3545,
    "start_time": "2024-08-14T15:00:01.694Z"
   },
   {
    "duration": 119,
    "start_time": "2024-08-14T15:00:47.227Z"
   },
   {
    "duration": 1235885,
    "start_time": "2024-08-14T15:00:51.128Z"
   },
   {
    "duration": 277,
    "start_time": "2024-08-14T15:21:27.015Z"
   },
   {
    "duration": 6,
    "start_time": "2024-08-14T18:18:04.197Z"
   },
   {
    "duration": 5,
    "start_time": "2024-08-14T18:18:04.746Z"
   },
   {
    "duration": 8,
    "start_time": "2024-08-14T18:18:05.391Z"
   },
   {
    "duration": 66,
    "start_time": "2024-08-14T18:18:05.986Z"
   },
   {
    "duration": 20,
    "start_time": "2024-08-14T18:18:06.881Z"
   },
   {
    "duration": 3,
    "start_time": "2024-08-14T18:18:12.225Z"
   },
   {
    "duration": 29106,
    "start_time": "2024-08-14T18:18:17.999Z"
   },
   {
    "duration": 95,
    "start_time": "2024-08-14T18:18:47.107Z"
   },
   {
    "duration": 3,
    "start_time": "2024-08-14T18:19:03.471Z"
   },
   {
    "duration": 6,
    "start_time": "2024-08-14T18:19:03.853Z"
   },
   {
    "duration": 3,
    "start_time": "2024-08-14T18:19:04.274Z"
   },
   {
    "duration": 6,
    "start_time": "2024-08-14T18:19:05.191Z"
   },
   {
    "duration": 60,
    "start_time": "2024-08-14T18:19:06.282Z"
   },
   {
    "duration": 26,
    "start_time": "2024-08-14T18:19:07.659Z"
   },
   {
    "duration": 33386,
    "start_time": "2024-08-14T18:19:22.345Z"
   },
   {
    "duration": 114,
    "start_time": "2024-08-14T18:19:55.733Z"
   },
   {
    "duration": 3,
    "start_time": "2024-08-14T18:19:55.848Z"
   },
   {
    "duration": 4345,
    "start_time": "2024-08-14T18:19:55.861Z"
   },
   {
    "duration": 9,
    "start_time": "2024-08-14T18:20:08.170Z"
   },
   {
    "duration": 8,
    "start_time": "2024-08-14T18:20:12.468Z"
   },
   {
    "duration": 32688,
    "start_time": "2024-08-14T18:20:22.122Z"
   },
   {
    "duration": 117,
    "start_time": "2024-08-14T18:20:54.812Z"
   },
   {
    "duration": 4,
    "start_time": "2024-08-14T18:20:54.930Z"
   },
   {
    "duration": 26,
    "start_time": "2024-08-14T18:20:54.936Z"
   },
   {
    "duration": 103,
    "start_time": "2024-08-14T18:23:32.616Z"
   },
   {
    "duration": 6,
    "start_time": "2024-08-14T18:23:33.192Z"
   },
   {
    "duration": 101,
    "start_time": "2024-08-14T18:23:59.436Z"
   },
   {
    "duration": 107,
    "start_time": "2024-08-14T18:24:00.011Z"
   },
   {
    "duration": 7,
    "start_time": "2024-08-14T18:24:00.460Z"
   },
   {
    "duration": 6,
    "start_time": "2024-08-14T18:24:37.164Z"
   },
   {
    "duration": 37211,
    "start_time": "2024-08-14T18:24:49.002Z"
   },
   {
    "duration": 70,
    "start_time": "2024-08-14T18:25:26.214Z"
   },
   {
    "duration": 6,
    "start_time": "2024-08-14T18:25:26.287Z"
   },
   {
    "duration": 79,
    "start_time": "2024-08-14T18:25:26.296Z"
   },
   {
    "duration": 9,
    "start_time": "2024-08-14T18:25:26.376Z"
   },
   {
    "duration": 14,
    "start_time": "2024-08-14T18:25:26.386Z"
   },
   {
    "duration": 19,
    "start_time": "2024-08-14T18:25:56.426Z"
   },
   {
    "duration": 3,
    "start_time": "2024-08-14T18:27:49.930Z"
   },
   {
    "duration": 50287,
    "start_time": "2024-08-14T18:27:55.465Z"
   },
   {
    "duration": 4,
    "start_time": "2024-08-14T18:28:45.755Z"
   },
   {
    "duration": 13,
    "start_time": "2024-08-14T18:28:45.761Z"
   },
   {
    "duration": 50735,
    "start_time": "2024-08-14T18:29:18.546Z"
   },
   {
    "duration": 4,
    "start_time": "2024-08-14T18:30:09.283Z"
   },
   {
    "duration": 7,
    "start_time": "2024-08-14T18:30:09.288Z"
   },
   {
    "duration": 22,
    "start_time": "2024-08-14T18:30:11.178Z"
   },
   {
    "duration": 4,
    "start_time": "2024-08-14T18:31:38.859Z"
   },
   {
    "duration": 4,
    "start_time": "2024-08-14T18:31:54.733Z"
   },
   {
    "duration": 5,
    "start_time": "2024-08-14T18:31:58.218Z"
   },
   {
    "duration": 20,
    "start_time": "2024-08-14T18:32:05.550Z"
   },
   {
    "duration": 18,
    "start_time": "2024-08-14T18:32:16.310Z"
   },
   {
    "duration": 12,
    "start_time": "2024-08-14T18:32:36.127Z"
   },
   {
    "duration": 18,
    "start_time": "2024-08-14T18:32:47.896Z"
   },
   {
    "duration": 10,
    "start_time": "2024-08-14T18:33:10.675Z"
   },
   {
    "duration": 17,
    "start_time": "2024-08-14T18:33:29.169Z"
   },
   {
    "duration": 7,
    "start_time": "2024-08-14T18:33:38.699Z"
   },
   {
    "duration": 4,
    "start_time": "2024-08-14T18:33:44.685Z"
   },
   {
    "duration": 8,
    "start_time": "2024-08-14T18:33:50.055Z"
   },
   {
    "duration": 7,
    "start_time": "2024-08-14T18:34:01.132Z"
   },
   {
    "duration": 20,
    "start_time": "2024-08-14T18:34:26.190Z"
   },
   {
    "duration": 5,
    "start_time": "2024-08-14T18:34:43.334Z"
   },
   {
    "duration": 55,
    "start_time": "2024-08-14T18:35:44.434Z"
   },
   {
    "duration": 70,
    "start_time": "2024-08-14T18:36:00.463Z"
   },
   {
    "duration": 11,
    "start_time": "2024-08-14T18:37:40.291Z"
   },
   {
    "duration": 9,
    "start_time": "2024-08-14T18:37:49.807Z"
   },
   {
    "duration": 6,
    "start_time": "2024-08-14T18:37:59.008Z"
   },
   {
    "duration": 24,
    "start_time": "2024-08-14T18:38:48.316Z"
   },
   {
    "duration": 3,
    "start_time": "2024-08-14T18:40:06.221Z"
   },
   {
    "duration": 5,
    "start_time": "2024-08-14T18:40:08.337Z"
   },
   {
    "duration": 4,
    "start_time": "2024-08-14T18:40:09.151Z"
   },
   {
    "duration": 7,
    "start_time": "2024-08-14T18:40:09.895Z"
   },
   {
    "duration": 55,
    "start_time": "2024-08-14T18:40:10.639Z"
   },
   {
    "duration": 8,
    "start_time": "2024-08-14T18:41:28.957Z"
   },
   {
    "duration": 54,
    "start_time": "2024-08-14T18:41:29.631Z"
   },
   {
    "duration": 3,
    "start_time": "2024-08-14T18:41:52.214Z"
   },
   {
    "duration": 6,
    "start_time": "2024-08-14T18:41:52.903Z"
   },
   {
    "duration": 57,
    "start_time": "2024-08-14T18:41:53.738Z"
   },
   {
    "duration": 17,
    "start_time": "2024-08-14T18:41:55.133Z"
   },
   {
    "duration": 20,
    "start_time": "2024-08-14T18:41:59.837Z"
   },
   {
    "duration": 3,
    "start_time": "2024-08-14T18:42:03.847Z"
   },
   {
    "duration": 36644,
    "start_time": "2024-08-14T18:42:04.458Z"
   },
   {
    "duration": 83,
    "start_time": "2024-08-14T18:42:41.103Z"
   },
   {
    "duration": 5,
    "start_time": "2024-08-14T18:42:41.187Z"
   },
   {
    "duration": 85,
    "start_time": "2024-08-14T18:42:41.193Z"
   },
   {
    "duration": 6,
    "start_time": "2024-08-14T18:42:41.280Z"
   },
   {
    "duration": 61,
    "start_time": "2024-08-14T18:48:31.835Z"
   },
   {
    "duration": 11,
    "start_time": "2024-08-14T18:48:36.706Z"
   },
   {
    "duration": 28,
    "start_time": "2024-08-14T18:48:43.339Z"
   },
   {
    "duration": 29279,
    "start_time": "2024-08-14T18:48:58.594Z"
   },
   {
    "duration": 6,
    "start_time": "2024-08-14T18:49:27.875Z"
   },
   {
    "duration": 11,
    "start_time": "2024-08-14T18:49:27.884Z"
   },
   {
    "duration": 68102,
    "start_time": "2024-08-14T18:50:20.927Z"
   },
   {
    "duration": 6,
    "start_time": "2024-08-14T18:51:29.031Z"
   },
   {
    "duration": 7,
    "start_time": "2024-08-14T18:51:29.038Z"
   },
   {
    "duration": 147363,
    "start_time": "2024-08-14T18:53:51.011Z"
   },
   {
    "duration": 3,
    "start_time": "2024-08-14T18:56:18.376Z"
   },
   {
    "duration": 10,
    "start_time": "2024-08-14T18:56:18.381Z"
   },
   {
    "duration": 4,
    "start_time": "2024-08-14T18:56:57.971Z"
   },
   {
    "duration": 5,
    "start_time": "2024-08-14T18:57:00.117Z"
   },
   {
    "duration": 3,
    "start_time": "2024-08-14T18:57:00.824Z"
   },
   {
    "duration": 5,
    "start_time": "2024-08-14T18:57:01.513Z"
   },
   {
    "duration": 61,
    "start_time": "2024-08-14T18:57:02.116Z"
   },
   {
    "duration": 26,
    "start_time": "2024-08-14T18:57:03.269Z"
   },
   {
    "duration": 25,
    "start_time": "2024-08-14T18:57:06.396Z"
   },
   {
    "duration": 145557,
    "start_time": "2024-08-14T18:57:14.645Z"
   },
   {
    "duration": 8,
    "start_time": "2024-08-14T18:59:40.205Z"
   },
   {
    "duration": 20,
    "start_time": "2024-08-14T18:59:40.215Z"
   },
   {
    "duration": 18,
    "start_time": "2024-08-14T18:59:40.237Z"
   },
   {
    "duration": 3908,
    "start_time": "2024-08-14T19:01:15.135Z"
   },
   {
    "duration": 100,
    "start_time": "2024-08-14T19:01:19.045Z"
   },
   {
    "duration": 16,
    "start_time": "2024-08-14T19:01:19.147Z"
   },
   {
    "duration": 29,
    "start_time": "2024-08-14T19:01:19.165Z"
   },
   {
    "duration": 45,
    "start_time": "2024-08-14T19:01:19.196Z"
   },
   {
    "duration": 16,
    "start_time": "2024-08-14T19:01:19.243Z"
   },
   {
    "duration": 35,
    "start_time": "2024-08-14T19:01:19.261Z"
   },
   {
    "duration": 27,
    "start_time": "2024-08-14T19:01:19.298Z"
   },
   {
    "duration": 31,
    "start_time": "2024-08-14T19:01:19.327Z"
   },
   {
    "duration": 19,
    "start_time": "2024-08-14T19:01:19.360Z"
   },
   {
    "duration": 24,
    "start_time": "2024-08-14T19:01:19.380Z"
   },
   {
    "duration": 14,
    "start_time": "2024-08-14T19:01:19.405Z"
   },
   {
    "duration": 43,
    "start_time": "2024-08-14T19:01:19.421Z"
   },
   {
    "duration": 10,
    "start_time": "2024-08-14T19:01:19.466Z"
   },
   {
    "duration": 35,
    "start_time": "2024-08-14T19:01:19.478Z"
   },
   {
    "duration": 45,
    "start_time": "2024-08-14T19:01:19.515Z"
   },
   {
    "duration": 31,
    "start_time": "2024-08-14T19:01:19.562Z"
   },
   {
    "duration": 32,
    "start_time": "2024-08-14T19:01:19.595Z"
   },
   {
    "duration": 32,
    "start_time": "2024-08-14T19:01:19.628Z"
   },
   {
    "duration": 35,
    "start_time": "2024-08-14T19:01:19.662Z"
   },
   {
    "duration": 48,
    "start_time": "2024-08-14T19:01:19.699Z"
   },
   {
    "duration": 24,
    "start_time": "2024-08-14T19:01:19.749Z"
   },
   {
    "duration": 55,
    "start_time": "2024-08-14T19:01:19.775Z"
   },
   {
    "duration": 44,
    "start_time": "2024-08-14T19:01:19.832Z"
   },
   {
    "duration": 23,
    "start_time": "2024-08-14T19:01:19.878Z"
   },
   {
    "duration": 625,
    "start_time": "2024-08-14T19:01:19.903Z"
   },
   {
    "duration": 439,
    "start_time": "2024-08-14T19:01:20.530Z"
   },
   {
    "duration": 3,
    "start_time": "2024-08-14T19:01:20.974Z"
   },
   {
    "duration": 435,
    "start_time": "2024-08-14T19:01:20.978Z"
   },
   {
    "duration": 115,
    "start_time": "2024-08-14T19:01:21.415Z"
   },
   {
    "duration": 0,
    "start_time": "2024-08-14T19:01:21.532Z"
   },
   {
    "duration": 0,
    "start_time": "2024-08-14T19:01:21.533Z"
   },
   {
    "duration": 0,
    "start_time": "2024-08-14T19:01:21.535Z"
   },
   {
    "duration": 0,
    "start_time": "2024-08-14T19:01:21.536Z"
   },
   {
    "duration": 0,
    "start_time": "2024-08-14T19:01:21.537Z"
   },
   {
    "duration": 0,
    "start_time": "2024-08-14T19:01:21.538Z"
   },
   {
    "duration": 0,
    "start_time": "2024-08-14T19:01:21.539Z"
   },
   {
    "duration": 0,
    "start_time": "2024-08-14T19:01:21.540Z"
   },
   {
    "duration": 0,
    "start_time": "2024-08-14T19:01:21.541Z"
   },
   {
    "duration": 0,
    "start_time": "2024-08-14T19:01:21.561Z"
   },
   {
    "duration": 0,
    "start_time": "2024-08-14T19:01:21.562Z"
   },
   {
    "duration": 0,
    "start_time": "2024-08-14T19:01:21.564Z"
   },
   {
    "duration": 0,
    "start_time": "2024-08-14T19:01:21.566Z"
   },
   {
    "duration": 0,
    "start_time": "2024-08-14T19:01:21.567Z"
   },
   {
    "duration": 0,
    "start_time": "2024-08-14T19:01:21.569Z"
   },
   {
    "duration": 0,
    "start_time": "2024-08-14T19:01:21.570Z"
   },
   {
    "duration": 0,
    "start_time": "2024-08-14T19:01:21.572Z"
   },
   {
    "duration": 0,
    "start_time": "2024-08-14T19:01:21.574Z"
   },
   {
    "duration": 0,
    "start_time": "2024-08-14T19:01:21.575Z"
   },
   {
    "duration": 0,
    "start_time": "2024-08-14T19:01:21.577Z"
   },
   {
    "duration": 0,
    "start_time": "2024-08-14T19:01:21.579Z"
   },
   {
    "duration": 0,
    "start_time": "2024-08-14T19:01:21.580Z"
   },
   {
    "duration": 0,
    "start_time": "2024-08-14T19:01:21.582Z"
   },
   {
    "duration": 0,
    "start_time": "2024-08-14T19:01:21.583Z"
   },
   {
    "duration": 0,
    "start_time": "2024-08-14T19:01:21.585Z"
   },
   {
    "duration": 0,
    "start_time": "2024-08-14T19:01:21.587Z"
   },
   {
    "duration": 0,
    "start_time": "2024-08-14T19:01:21.588Z"
   },
   {
    "duration": 0,
    "start_time": "2024-08-14T19:01:21.590Z"
   },
   {
    "duration": 0,
    "start_time": "2024-08-14T19:01:21.591Z"
   },
   {
    "duration": 0,
    "start_time": "2024-08-14T19:01:21.592Z"
   },
   {
    "duration": 0,
    "start_time": "2024-08-14T19:01:21.594Z"
   },
   {
    "duration": 0,
    "start_time": "2024-08-14T19:01:21.595Z"
   },
   {
    "duration": 0,
    "start_time": "2024-08-14T19:01:21.597Z"
   },
   {
    "duration": 0,
    "start_time": "2024-08-14T19:01:21.598Z"
   },
   {
    "duration": 0,
    "start_time": "2024-08-14T19:01:21.661Z"
   },
   {
    "duration": 0,
    "start_time": "2024-08-14T19:01:21.662Z"
   },
   {
    "duration": 0,
    "start_time": "2024-08-14T19:01:21.664Z"
   },
   {
    "duration": 0,
    "start_time": "2024-08-14T19:01:21.664Z"
   },
   {
    "duration": 0,
    "start_time": "2024-08-14T19:01:21.666Z"
   },
   {
    "duration": 0,
    "start_time": "2024-08-14T19:01:21.667Z"
   },
   {
    "duration": 0,
    "start_time": "2024-08-14T19:01:21.667Z"
   },
   {
    "duration": 0,
    "start_time": "2024-08-14T19:01:21.669Z"
   },
   {
    "duration": 0,
    "start_time": "2024-08-14T19:01:21.670Z"
   },
   {
    "duration": 0,
    "start_time": "2024-08-14T19:01:21.671Z"
   },
   {
    "duration": 0,
    "start_time": "2024-08-14T19:01:21.672Z"
   },
   {
    "duration": 0,
    "start_time": "2024-08-14T19:01:21.674Z"
   },
   {
    "duration": 0,
    "start_time": "2024-08-14T19:01:21.676Z"
   },
   {
    "duration": 9,
    "start_time": "2024-08-14T19:04:28.253Z"
   },
   {
    "duration": 11,
    "start_time": "2024-08-14T19:04:29.588Z"
   },
   {
    "duration": 9,
    "start_time": "2024-08-14T19:04:39.417Z"
   },
   {
    "duration": 3,
    "start_time": "2024-08-14T19:04:42.147Z"
   },
   {
    "duration": 397,
    "start_time": "2024-08-14T19:04:42.568Z"
   },
   {
    "duration": 4,
    "start_time": "2024-08-14T19:04:44.123Z"
   },
   {
    "duration": 7,
    "start_time": "2024-08-14T19:04:54.929Z"
   },
   {
    "duration": 11,
    "start_time": "2024-08-14T19:04:59.901Z"
   },
   {
    "duration": 4,
    "start_time": "2024-08-14T19:05:00.194Z"
   },
   {
    "duration": 698,
    "start_time": "2024-08-14T19:05:00.924Z"
   },
   {
    "duration": 8,
    "start_time": "2024-08-14T19:05:03.645Z"
   },
   {
    "duration": 4,
    "start_time": "2024-08-14T19:05:04.683Z"
   },
   {
    "duration": 183,
    "start_time": "2024-08-14T19:05:05.308Z"
   },
   {
    "duration": 26,
    "start_time": "2024-08-14T19:05:08.166Z"
   },
   {
    "duration": 15,
    "start_time": "2024-08-14T19:05:08.830Z"
   },
   {
    "duration": 15,
    "start_time": "2024-08-14T19:05:11.399Z"
   },
   {
    "duration": 11,
    "start_time": "2024-08-14T19:05:12.471Z"
   },
   {
    "duration": 22,
    "start_time": "2024-08-14T19:05:13.882Z"
   },
   {
    "duration": 752,
    "start_time": "2024-08-14T19:05:24.771Z"
   },
   {
    "duration": 1797,
    "start_time": "2024-08-14T19:06:04.403Z"
   },
   {
    "duration": 5,
    "start_time": "2024-08-14T19:06:28.350Z"
   },
   {
    "duration": 307,
    "start_time": "2024-08-14T19:06:30.655Z"
   },
   {
    "duration": 1215,
    "start_time": "2024-08-14T19:06:31.400Z"
   },
   {
    "duration": 234,
    "start_time": "2024-08-14T19:06:38.227Z"
   },
   {
    "duration": 8,
    "start_time": "2024-08-14T19:06:38.696Z"
   },
   {
    "duration": 5,
    "start_time": "2024-08-14T19:06:39.206Z"
   },
   {
    "duration": 5,
    "start_time": "2024-08-14T19:06:40.116Z"
   },
   {
    "duration": 38,
    "start_time": "2024-08-14T19:06:45.505Z"
   },
   {
    "duration": 4,
    "start_time": "2024-08-14T19:06:54.411Z"
   },
   {
    "duration": 5,
    "start_time": "2024-08-14T19:06:58.940Z"
   },
   {
    "duration": 3,
    "start_time": "2024-08-14T19:07:03.225Z"
   },
   {
    "duration": 4,
    "start_time": "2024-08-14T19:07:04.665Z"
   },
   {
    "duration": 71,
    "start_time": "2024-08-14T19:07:05.895Z"
   },
   {
    "duration": 19,
    "start_time": "2024-08-14T19:07:09.718Z"
   },
   {
    "duration": 15,
    "start_time": "2024-08-14T19:07:19.058Z"
   },
   {
    "duration": 37439,
    "start_time": "2024-08-14T19:07:19.821Z"
   },
   {
    "duration": 75,
    "start_time": "2024-08-14T19:07:57.262Z"
   },
   {
    "duration": 23,
    "start_time": "2024-08-14T19:07:57.339Z"
   },
   {
    "duration": 78,
    "start_time": "2024-08-14T19:07:57.365Z"
   },
   {
    "duration": 35,
    "start_time": "2024-08-14T19:07:57.445Z"
   },
   {
    "duration": 0,
    "start_time": "2024-08-14T19:07:57.481Z"
   },
   {
    "duration": 0,
    "start_time": "2024-08-14T19:07:57.483Z"
   },
   {
    "duration": 0,
    "start_time": "2024-08-14T19:07:57.484Z"
   },
   {
    "duration": 0,
    "start_time": "2024-08-14T19:07:57.485Z"
   },
   {
    "duration": 6,
    "start_time": "2024-08-14T19:08:42.634Z"
   },
   {
    "duration": 9,
    "start_time": "2024-08-14T19:08:43.291Z"
   },
   {
    "duration": 3,
    "start_time": "2024-08-14T19:08:55.174Z"
   },
   {
    "duration": 148956,
    "start_time": "2024-08-14T19:08:55.658Z"
   },
   {
    "duration": 7,
    "start_time": "2024-08-14T19:11:24.616Z"
   },
   {
    "duration": 8,
    "start_time": "2024-08-14T19:11:24.625Z"
   },
   {
    "duration": 103822,
    "start_time": "2024-08-14T19:11:50.216Z"
   },
   {
    "duration": 3,
    "start_time": "2024-08-14T19:13:34.040Z"
   },
   {
    "duration": 7,
    "start_time": "2024-08-14T19:13:34.045Z"
   },
   {
    "duration": 3945,
    "start_time": "2024-08-14T19:15:58.583Z"
   },
   {
    "duration": 98,
    "start_time": "2024-08-14T19:16:02.531Z"
   },
   {
    "duration": 16,
    "start_time": "2024-08-14T19:16:02.631Z"
   },
   {
    "duration": 16,
    "start_time": "2024-08-14T19:16:02.649Z"
   },
   {
    "duration": 32,
    "start_time": "2024-08-14T19:16:02.667Z"
   },
   {
    "duration": 11,
    "start_time": "2024-08-14T19:16:02.701Z"
   },
   {
    "duration": 20,
    "start_time": "2024-08-14T19:16:02.714Z"
   },
   {
    "duration": 14,
    "start_time": "2024-08-14T19:16:02.736Z"
   },
   {
    "duration": 71,
    "start_time": "2024-08-14T19:16:02.751Z"
   },
   {
    "duration": 28,
    "start_time": "2024-08-14T19:16:02.825Z"
   },
   {
    "duration": 14,
    "start_time": "2024-08-14T19:16:02.855Z"
   },
   {
    "duration": 16,
    "start_time": "2024-08-14T19:16:02.871Z"
   },
   {
    "duration": 14,
    "start_time": "2024-08-14T19:16:02.889Z"
   },
   {
    "duration": 15,
    "start_time": "2024-08-14T19:16:02.905Z"
   },
   {
    "duration": 5,
    "start_time": "2024-08-14T19:16:02.922Z"
   },
   {
    "duration": 33,
    "start_time": "2024-08-14T19:16:02.928Z"
   },
   {
    "duration": 34,
    "start_time": "2024-08-14T19:16:02.963Z"
   },
   {
    "duration": 42,
    "start_time": "2024-08-14T19:16:02.998Z"
   },
   {
    "duration": 21,
    "start_time": "2024-08-14T19:16:03.042Z"
   },
   {
    "duration": 30,
    "start_time": "2024-08-14T19:16:03.064Z"
   },
   {
    "duration": 25,
    "start_time": "2024-08-14T19:16:03.096Z"
   },
   {
    "duration": 54,
    "start_time": "2024-08-14T19:16:03.123Z"
   },
   {
    "duration": 39,
    "start_time": "2024-08-14T19:16:03.179Z"
   },
   {
    "duration": 27,
    "start_time": "2024-08-14T19:16:03.220Z"
   },
   {
    "duration": 33,
    "start_time": "2024-08-14T19:16:03.249Z"
   },
   {
    "duration": 562,
    "start_time": "2024-08-14T19:16:03.284Z"
   },
   {
    "duration": 439,
    "start_time": "2024-08-14T19:16:03.847Z"
   },
   {
    "duration": 4,
    "start_time": "2024-08-14T19:16:04.290Z"
   },
   {
    "duration": 444,
    "start_time": "2024-08-14T19:16:04.295Z"
   },
   {
    "duration": 8,
    "start_time": "2024-08-14T19:16:04.740Z"
   },
   {
    "duration": 10,
    "start_time": "2024-08-14T19:16:04.760Z"
   },
   {
    "duration": 28,
    "start_time": "2024-08-14T19:16:04.772Z"
   },
   {
    "duration": 34,
    "start_time": "2024-08-14T19:16:04.802Z"
   },
   {
    "duration": 401,
    "start_time": "2024-08-14T19:16:04.838Z"
   },
   {
    "duration": 3,
    "start_time": "2024-08-14T19:16:05.240Z"
   },
   {
    "duration": 49,
    "start_time": "2024-08-14T19:16:05.245Z"
   },
   {
    "duration": 41,
    "start_time": "2024-08-14T19:16:05.296Z"
   },
   {
    "duration": 39,
    "start_time": "2024-08-14T19:16:05.339Z"
   },
   {
    "duration": 705,
    "start_time": "2024-08-14T19:16:05.380Z"
   },
   {
    "duration": 7,
    "start_time": "2024-08-14T19:16:06.086Z"
   },
   {
    "duration": 52,
    "start_time": "2024-08-14T19:16:06.095Z"
   },
   {
    "duration": 230,
    "start_time": "2024-08-14T19:16:06.148Z"
   },
   {
    "duration": 18,
    "start_time": "2024-08-14T19:16:06.379Z"
   },
   {
    "duration": 18,
    "start_time": "2024-08-14T19:16:06.399Z"
   },
   {
    "duration": 21,
    "start_time": "2024-08-14T19:16:06.419Z"
   },
   {
    "duration": 13,
    "start_time": "2024-08-14T19:16:06.461Z"
   },
   {
    "duration": 17,
    "start_time": "2024-08-14T19:16:06.475Z"
   },
   {
    "duration": 1104,
    "start_time": "2024-08-14T19:16:06.494Z"
   },
   {
    "duration": 4,
    "start_time": "2024-08-14T19:16:07.600Z"
   },
   {
    "duration": 504,
    "start_time": "2024-08-14T19:16:07.606Z"
   },
   {
    "duration": 1457,
    "start_time": "2024-08-14T19:16:08.112Z"
   },
   {
    "duration": 226,
    "start_time": "2024-08-14T19:16:09.570Z"
   },
   {
    "duration": 12,
    "start_time": "2024-08-14T19:16:09.798Z"
   },
   {
    "duration": 8,
    "start_time": "2024-08-14T19:16:09.812Z"
   },
   {
    "duration": 7,
    "start_time": "2024-08-14T19:16:09.822Z"
   },
   {
    "duration": 67,
    "start_time": "2024-08-14T19:16:09.831Z"
   },
   {
    "duration": 4,
    "start_time": "2024-08-14T19:16:09.899Z"
   },
   {
    "duration": 6,
    "start_time": "2024-08-14T19:16:09.905Z"
   },
   {
    "duration": 25,
    "start_time": "2024-08-14T19:16:09.913Z"
   },
   {
    "duration": 6,
    "start_time": "2024-08-14T19:16:09.940Z"
   },
   {
    "duration": 68,
    "start_time": "2024-08-14T19:16:09.947Z"
   },
   {
    "duration": 22,
    "start_time": "2024-08-14T19:16:10.017Z"
   },
   {
    "duration": 28,
    "start_time": "2024-08-14T19:16:10.040Z"
   },
   {
    "duration": 41609,
    "start_time": "2024-08-14T19:16:10.069Z"
   },
   {
    "duration": 152,
    "start_time": "2024-08-14T19:16:51.680Z"
   },
   {
    "duration": 5,
    "start_time": "2024-08-14T19:16:51.834Z"
   },
   {
    "duration": 165,
    "start_time": "2024-08-14T19:16:51.841Z"
   },
   {
    "duration": 4,
    "start_time": "2024-08-14T19:16:52.008Z"
   },
   {
    "duration": 17,
    "start_time": "2024-08-14T19:16:52.014Z"
   },
   {
    "duration": 13,
    "start_time": "2024-08-14T19:16:52.034Z"
   },
   {
    "duration": 104431,
    "start_time": "2024-08-14T19:16:52.049Z"
   },
   {
    "duration": 6,
    "start_time": "2024-08-14T19:18:36.481Z"
   },
   {
    "duration": 8,
    "start_time": "2024-08-14T19:18:36.488Z"
   },
   {
    "duration": 5,
    "start_time": "2024-08-14T19:18:36.497Z"
   },
   {
    "duration": 4,
    "start_time": "2024-08-14T19:18:36.504Z"
   },
   {
    "duration": 6,
    "start_time": "2024-08-14T19:18:36.509Z"
   },
   {
    "duration": 83,
    "start_time": "2024-08-14T19:18:36.517Z"
   },
   {
    "duration": 1142,
    "start_time": "2024-08-14T19:21:30.627Z"
   },
   {
    "duration": 14,
    "start_time": "2024-08-14T19:21:36.594Z"
   },
   {
    "duration": 3939,
    "start_time": "2024-08-14T19:23:24.929Z"
   },
   {
    "duration": 99,
    "start_time": "2024-08-14T19:23:28.872Z"
   },
   {
    "duration": 16,
    "start_time": "2024-08-14T19:23:28.974Z"
   },
   {
    "duration": 3,
    "start_time": "2024-08-14T19:23:28.993Z"
   },
   {
    "duration": 15,
    "start_time": "2024-08-14T19:23:28.998Z"
   },
   {
    "duration": 14,
    "start_time": "2024-08-14T19:23:29.015Z"
   },
   {
    "duration": 46,
    "start_time": "2024-08-14T19:23:29.032Z"
   },
   {
    "duration": 9,
    "start_time": "2024-08-14T19:23:29.081Z"
   },
   {
    "duration": 14,
    "start_time": "2024-08-14T19:23:29.091Z"
   },
   {
    "duration": 12,
    "start_time": "2024-08-14T19:23:29.108Z"
   },
   {
    "duration": 48,
    "start_time": "2024-08-14T19:23:29.121Z"
   },
   {
    "duration": 6,
    "start_time": "2024-08-14T19:23:29.171Z"
   },
   {
    "duration": 44,
    "start_time": "2024-08-14T19:23:29.179Z"
   },
   {
    "duration": 10,
    "start_time": "2024-08-14T19:23:29.226Z"
   },
   {
    "duration": 4,
    "start_time": "2024-08-14T19:23:29.238Z"
   },
   {
    "duration": 20,
    "start_time": "2024-08-14T19:23:29.244Z"
   },
   {
    "duration": 10,
    "start_time": "2024-08-14T19:23:29.266Z"
   },
   {
    "duration": 10,
    "start_time": "2024-08-14T19:23:29.278Z"
   },
   {
    "duration": 3,
    "start_time": "2024-08-14T19:23:29.290Z"
   },
   {
    "duration": 14,
    "start_time": "2024-08-14T19:23:29.294Z"
   },
   {
    "duration": 9,
    "start_time": "2024-08-14T19:23:29.309Z"
   },
   {
    "duration": 4,
    "start_time": "2024-08-14T19:23:29.320Z"
   },
   {
    "duration": 14,
    "start_time": "2024-08-14T19:23:29.361Z"
   },
   {
    "duration": 14,
    "start_time": "2024-08-14T19:23:29.377Z"
   },
   {
    "duration": 3,
    "start_time": "2024-08-14T19:23:29.392Z"
   },
   {
    "duration": 526,
    "start_time": "2024-08-14T19:23:29.397Z"
   },
   {
    "duration": 488,
    "start_time": "2024-08-14T19:23:29.925Z"
   },
   {
    "duration": 4,
    "start_time": "2024-08-14T19:23:30.417Z"
   },
   {
    "duration": 457,
    "start_time": "2024-08-14T19:23:30.422Z"
   },
   {
    "duration": 9,
    "start_time": "2024-08-14T19:23:30.881Z"
   },
   {
    "duration": 55,
    "start_time": "2024-08-14T19:23:30.891Z"
   },
   {
    "duration": 107,
    "start_time": "2024-08-14T19:23:30.948Z"
   },
   {
    "duration": 40,
    "start_time": "2024-08-14T19:23:31.057Z"
   },
   {
    "duration": 423,
    "start_time": "2024-08-14T19:23:31.099Z"
   },
   {
    "duration": 3,
    "start_time": "2024-08-14T19:23:31.524Z"
   },
   {
    "duration": 13,
    "start_time": "2024-08-14T19:23:31.528Z"
   },
   {
    "duration": 27,
    "start_time": "2024-08-14T19:23:31.542Z"
   },
   {
    "duration": 5,
    "start_time": "2024-08-14T19:23:31.570Z"
   },
   {
    "duration": 828,
    "start_time": "2024-08-14T19:23:31.576Z"
   },
   {
    "duration": 8,
    "start_time": "2024-08-14T19:23:32.405Z"
   },
   {
    "duration": 9,
    "start_time": "2024-08-14T19:23:32.414Z"
   },
   {
    "duration": 126,
    "start_time": "2024-08-14T19:23:32.424Z"
   },
   {
    "duration": 27,
    "start_time": "2024-08-14T19:23:32.552Z"
   },
   {
    "duration": 19,
    "start_time": "2024-08-14T19:23:32.581Z"
   },
   {
    "duration": 17,
    "start_time": "2024-08-14T19:23:32.602Z"
   },
   {
    "duration": 12,
    "start_time": "2024-08-14T19:23:32.621Z"
   },
   {
    "duration": 16,
    "start_time": "2024-08-14T19:23:32.661Z"
   },
   {
    "duration": 1035,
    "start_time": "2024-08-14T19:23:32.679Z"
   },
   {
    "duration": 7,
    "start_time": "2024-08-14T19:23:33.717Z"
   },
   {
    "duration": 473,
    "start_time": "2024-08-14T19:23:33.726Z"
   },
   {
    "duration": 1435,
    "start_time": "2024-08-14T19:23:34.201Z"
   },
   {
    "duration": 261,
    "start_time": "2024-08-14T19:23:35.638Z"
   },
   {
    "duration": 10,
    "start_time": "2024-08-14T19:23:35.902Z"
   },
   {
    "duration": 25,
    "start_time": "2024-08-14T19:23:35.915Z"
   },
   {
    "duration": 75,
    "start_time": "2024-08-14T19:23:35.943Z"
   },
   {
    "duration": 4,
    "start_time": "2024-08-14T19:23:36.020Z"
   },
   {
    "duration": 33,
    "start_time": "2024-08-14T19:23:36.027Z"
   },
   {
    "duration": 34,
    "start_time": "2024-08-14T19:23:36.063Z"
   },
   {
    "duration": 31,
    "start_time": "2024-08-14T19:23:36.099Z"
   },
   {
    "duration": 104,
    "start_time": "2024-08-14T19:23:36.132Z"
   },
   {
    "duration": 22,
    "start_time": "2024-08-14T19:23:36.237Z"
   },
   {
    "duration": 19,
    "start_time": "2024-08-14T19:23:36.261Z"
   },
   {
    "duration": 44467,
    "start_time": "2024-08-14T19:23:36.282Z"
   },
   {
    "duration": 154,
    "start_time": "2024-08-14T19:24:20.751Z"
   },
   {
    "duration": 6,
    "start_time": "2024-08-14T19:24:20.906Z"
   },
   {
    "duration": 158,
    "start_time": "2024-08-14T19:24:20.913Z"
   },
   {
    "duration": 3,
    "start_time": "2024-08-14T19:24:21.073Z"
   },
   {
    "duration": 10,
    "start_time": "2024-08-14T19:24:21.078Z"
   },
   {
    "duration": 3,
    "start_time": "2024-08-14T19:24:21.090Z"
   },
   {
    "duration": 103054,
    "start_time": "2024-08-14T19:24:21.095Z"
   },
   {
    "duration": 6,
    "start_time": "2024-08-14T19:26:04.151Z"
   },
   {
    "duration": 6,
    "start_time": "2024-08-14T19:26:04.159Z"
   },
   {
    "duration": 114,
    "start_time": "2024-08-14T19:34:21.310Z"
   },
   {
    "duration": 103631,
    "start_time": "2024-08-14T19:34:25.397Z"
   },
   {
    "duration": 8,
    "start_time": "2024-08-14T19:36:09.030Z"
   },
   {
    "duration": 16,
    "start_time": "2024-08-14T19:36:17.158Z"
   },
   {
    "duration": 131,
    "start_time": "2024-08-14T19:36:36.609Z"
   },
   {
    "duration": 3,
    "start_time": "2024-08-14T19:37:16.423Z"
   },
   {
    "duration": 58,
    "start_time": "2024-08-14T19:37:25.601Z"
   },
   {
    "duration": 141,
    "start_time": "2024-08-14T19:38:10.047Z"
   },
   {
    "duration": 8,
    "start_time": "2024-08-14T19:38:27.622Z"
   },
   {
    "duration": 5,
    "start_time": "2024-08-14T19:39:35.144Z"
   },
   {
    "duration": 4,
    "start_time": "2024-08-14T19:39:44.333Z"
   },
   {
    "duration": 153,
    "start_time": "2024-08-14T19:40:48.873Z"
   },
   {
    "duration": 148,
    "start_time": "2024-08-14T19:41:25.107Z"
   },
   {
    "duration": 207,
    "start_time": "2024-08-14T19:41:47.530Z"
   },
   {
    "duration": 3,
    "start_time": "2024-08-14T19:42:41.988Z"
   },
   {
    "duration": 162,
    "start_time": "2024-08-14T19:43:00.535Z"
   },
   {
    "duration": 7,
    "start_time": "2024-08-14T19:43:11.220Z"
   },
   {
    "duration": 9,
    "start_time": "2024-08-14T19:43:39.554Z"
   },
   {
    "duration": 7,
    "start_time": "2024-08-14T19:44:12.868Z"
   },
   {
    "duration": 6,
    "start_time": "2024-08-14T19:44:19.506Z"
   },
   {
    "duration": 7,
    "start_time": "2024-08-14T19:44:23.078Z"
   },
   {
    "duration": 5,
    "start_time": "2024-08-14T19:44:36.508Z"
   },
   {
    "duration": 3,
    "start_time": "2024-08-14T19:44:41.602Z"
   },
   {
    "duration": 5,
    "start_time": "2024-08-14T19:45:22.203Z"
   },
   {
    "duration": 5,
    "start_time": "2024-08-14T19:45:29.728Z"
   },
   {
    "duration": 12,
    "start_time": "2024-08-14T19:45:33.978Z"
   },
   {
    "duration": 5,
    "start_time": "2024-08-14T19:45:42.014Z"
   },
   {
    "duration": 7,
    "start_time": "2024-08-14T19:46:10.224Z"
   },
   {
    "duration": 3,
    "start_time": "2024-08-14T19:46:11.324Z"
   },
   {
    "duration": 11,
    "start_time": "2024-08-14T19:46:32.720Z"
   },
   {
    "duration": 6,
    "start_time": "2024-08-14T19:47:17.146Z"
   },
   {
    "duration": 6,
    "start_time": "2024-08-14T19:47:33.624Z"
   },
   {
    "duration": 10,
    "start_time": "2024-08-14T19:47:44.762Z"
   },
   {
    "duration": 10,
    "start_time": "2024-08-14T19:49:04.311Z"
   },
   {
    "duration": 11,
    "start_time": "2024-08-14T19:49:47.932Z"
   },
   {
    "duration": 5,
    "start_time": "2024-08-14T19:53:24.094Z"
   },
   {
    "duration": 57,
    "start_time": "2024-08-14T19:53:24.923Z"
   },
   {
    "duration": 6,
    "start_time": "2024-08-14T19:55:21.903Z"
   },
   {
    "duration": 57,
    "start_time": "2024-08-14T19:55:22.685Z"
   },
   {
    "duration": 6,
    "start_time": "2024-08-14T19:55:47.663Z"
   },
   {
    "duration": 51,
    "start_time": "2024-08-14T19:55:48.826Z"
   },
   {
    "duration": 4,
    "start_time": "2024-08-14T19:56:09.505Z"
   },
   {
    "duration": 6,
    "start_time": "2024-08-14T19:57:22.071Z"
   },
   {
    "duration": 6,
    "start_time": "2024-08-14T19:57:22.486Z"
   },
   {
    "duration": 6,
    "start_time": "2024-08-14T19:57:45.123Z"
   },
   {
    "duration": 5,
    "start_time": "2024-08-14T19:57:45.559Z"
   },
   {
    "duration": 6,
    "start_time": "2024-08-14T19:58:13.282Z"
   },
   {
    "duration": 7,
    "start_time": "2024-08-14T19:58:13.778Z"
   },
   {
    "duration": 6,
    "start_time": "2024-08-14T19:58:27.027Z"
   },
   {
    "duration": 5,
    "start_time": "2024-08-14T19:58:27.731Z"
   },
   {
    "duration": 6,
    "start_time": "2024-08-14T20:00:57.815Z"
   },
   {
    "duration": 22,
    "start_time": "2024-08-14T20:00:58.848Z"
   },
   {
    "duration": 7,
    "start_time": "2024-08-14T20:01:25.018Z"
   },
   {
    "duration": 6,
    "start_time": "2024-08-14T20:01:25.577Z"
   },
   {
    "duration": 8,
    "start_time": "2024-08-14T20:01:47.521Z"
   },
   {
    "duration": 6,
    "start_time": "2024-08-14T20:01:48.101Z"
   },
   {
    "duration": 5,
    "start_time": "2024-08-14T20:03:14.446Z"
   },
   {
    "duration": 5,
    "start_time": "2024-08-14T20:03:14.904Z"
   },
   {
    "duration": 20,
    "start_time": "2024-08-14T20:05:16.101Z"
   },
   {
    "duration": 9,
    "start_time": "2024-08-14T20:05:20.782Z"
   },
   {
    "duration": 11,
    "start_time": "2024-08-14T20:05:24.649Z"
   },
   {
    "duration": 12,
    "start_time": "2024-08-14T20:05:40.435Z"
   },
   {
    "duration": 9,
    "start_time": "2024-08-14T20:06:30.860Z"
   },
   {
    "duration": 53,
    "start_time": "2024-08-14T20:08:01.573Z"
   },
   {
    "duration": 19,
    "start_time": "2024-08-14T20:08:03.664Z"
   },
   {
    "duration": 4,
    "start_time": "2024-08-14T20:09:15.629Z"
   },
   {
    "duration": 4,
    "start_time": "2024-08-14T20:09:42.919Z"
   },
   {
    "duration": 51,
    "start_time": "2024-08-15T09:36:56.757Z"
   },
   {
    "duration": 5132,
    "start_time": "2024-08-15T09:38:37.115Z"
   },
   {
    "duration": 425,
    "start_time": "2024-08-15T09:38:42.249Z"
   },
   {
    "duration": 16,
    "start_time": "2024-08-15T09:38:42.676Z"
   },
   {
    "duration": 3,
    "start_time": "2024-08-15T09:38:42.694Z"
   },
   {
    "duration": 17,
    "start_time": "2024-08-15T09:38:42.698Z"
   },
   {
    "duration": 10,
    "start_time": "2024-08-15T09:38:42.717Z"
   },
   {
    "duration": 17,
    "start_time": "2024-08-15T09:38:42.728Z"
   },
   {
    "duration": 9,
    "start_time": "2024-08-15T09:38:42.747Z"
   },
   {
    "duration": 40,
    "start_time": "2024-08-15T09:38:42.758Z"
   },
   {
    "duration": 12,
    "start_time": "2024-08-15T09:38:42.801Z"
   },
   {
    "duration": 16,
    "start_time": "2024-08-15T09:38:42.814Z"
   },
   {
    "duration": 18,
    "start_time": "2024-08-15T09:38:42.831Z"
   },
   {
    "duration": 38,
    "start_time": "2024-08-15T09:38:42.850Z"
   },
   {
    "duration": 26,
    "start_time": "2024-08-15T09:38:42.889Z"
   },
   {
    "duration": 19,
    "start_time": "2024-08-15T09:38:42.916Z"
   },
   {
    "duration": 35,
    "start_time": "2024-08-15T09:38:42.937Z"
   },
   {
    "duration": 45,
    "start_time": "2024-08-15T09:38:42.973Z"
   },
   {
    "duration": 23,
    "start_time": "2024-08-15T09:38:43.021Z"
   },
   {
    "duration": 29,
    "start_time": "2024-08-15T09:38:43.046Z"
   },
   {
    "duration": 25,
    "start_time": "2024-08-15T09:38:43.076Z"
   },
   {
    "duration": 23,
    "start_time": "2024-08-15T09:38:43.102Z"
   },
   {
    "duration": 34,
    "start_time": "2024-08-15T09:38:43.127Z"
   },
   {
    "duration": 20,
    "start_time": "2024-08-15T09:38:43.163Z"
   },
   {
    "duration": 39,
    "start_time": "2024-08-15T09:38:43.184Z"
   },
   {
    "duration": 34,
    "start_time": "2024-08-15T09:38:43.225Z"
   },
   {
    "duration": 580,
    "start_time": "2024-08-15T09:38:43.261Z"
   },
   {
    "duration": 440,
    "start_time": "2024-08-15T09:38:43.843Z"
   },
   {
    "duration": 3,
    "start_time": "2024-08-15T09:38:44.297Z"
   },
   {
    "duration": 364,
    "start_time": "2024-08-15T09:38:44.302Z"
   },
   {
    "duration": 9,
    "start_time": "2024-08-15T09:38:44.668Z"
   },
   {
    "duration": 27,
    "start_time": "2024-08-15T09:38:44.678Z"
   },
   {
    "duration": 15,
    "start_time": "2024-08-15T09:38:44.707Z"
   },
   {
    "duration": 3,
    "start_time": "2024-08-15T09:38:44.724Z"
   },
   {
    "duration": 407,
    "start_time": "2024-08-15T09:38:44.729Z"
   },
   {
    "duration": 9,
    "start_time": "2024-08-15T09:38:45.138Z"
   },
   {
    "duration": 32,
    "start_time": "2024-08-15T09:38:45.148Z"
   },
   {
    "duration": 18,
    "start_time": "2024-08-15T09:38:45.182Z"
   },
   {
    "duration": 800,
    "start_time": "2024-08-15T09:38:45.201Z"
   },
   {
    "duration": 7,
    "start_time": "2024-08-15T09:38:46.003Z"
   },
   {
    "duration": 8,
    "start_time": "2024-08-15T09:38:46.011Z"
   },
   {
    "duration": 115,
    "start_time": "2024-08-15T09:38:46.021Z"
   },
   {
    "duration": 18,
    "start_time": "2024-08-15T09:38:46.137Z"
   },
   {
    "duration": 17,
    "start_time": "2024-08-15T09:38:46.157Z"
   },
   {
    "duration": 33,
    "start_time": "2024-08-15T09:38:46.176Z"
   },
   {
    "duration": 13,
    "start_time": "2024-08-15T09:38:46.211Z"
   },
   {
    "duration": 15,
    "start_time": "2024-08-15T09:38:46.226Z"
   },
   {
    "duration": 961,
    "start_time": "2024-08-15T09:38:46.242Z"
   },
   {
    "duration": 2665,
    "start_time": "2024-08-15T09:38:47.205Z"
   },
   {
    "duration": 4,
    "start_time": "2024-08-15T09:38:49.871Z"
   },
   {
    "duration": 435,
    "start_time": "2024-08-15T09:38:49.877Z"
   },
   {
    "duration": 1250,
    "start_time": "2024-08-15T09:38:50.313Z"
   },
   {
    "duration": 2,
    "start_time": "2024-08-15T09:38:51.565Z"
   },
   {
    "duration": 16,
    "start_time": "2024-08-15T09:38:51.569Z"
   },
   {
    "duration": 11,
    "start_time": "2024-08-15T09:38:51.587Z"
   },
   {
    "duration": 4,
    "start_time": "2024-08-15T09:38:51.599Z"
   },
   {
    "duration": 5,
    "start_time": "2024-08-15T09:38:51.604Z"
   },
   {
    "duration": 8,
    "start_time": "2024-08-15T09:38:51.610Z"
   },
   {
    "duration": 15,
    "start_time": "2024-08-15T09:38:51.620Z"
   },
   {
    "duration": 66,
    "start_time": "2024-08-15T09:38:51.637Z"
   },
   {
    "duration": 19,
    "start_time": "2024-08-15T09:38:51.705Z"
   },
   {
    "duration": 10,
    "start_time": "2024-08-15T09:38:51.726Z"
   },
   {
    "duration": 16,
    "start_time": "2024-08-15T09:38:51.738Z"
   },
   {
    "duration": 73,
    "start_time": "2024-08-15T09:38:51.756Z"
   },
   {
    "duration": 0,
    "start_time": "2024-08-15T09:38:51.830Z"
   },
   {
    "duration": 0,
    "start_time": "2024-08-15T09:38:51.832Z"
   },
   {
    "duration": 0,
    "start_time": "2024-08-15T09:38:51.834Z"
   },
   {
    "duration": 0,
    "start_time": "2024-08-15T09:38:51.835Z"
   },
   {
    "duration": 0,
    "start_time": "2024-08-15T09:38:51.837Z"
   },
   {
    "duration": 0,
    "start_time": "2024-08-15T09:38:51.839Z"
   },
   {
    "duration": 0,
    "start_time": "2024-08-15T09:38:51.840Z"
   },
   {
    "duration": 0,
    "start_time": "2024-08-15T09:38:51.842Z"
   },
   {
    "duration": 0,
    "start_time": "2024-08-15T09:38:51.843Z"
   },
   {
    "duration": 5,
    "start_time": "2024-08-15T09:40:05.837Z"
   },
   {
    "duration": 6,
    "start_time": "2024-08-15T09:43:02.109Z"
   },
   {
    "duration": 4,
    "start_time": "2024-08-15T09:43:24.109Z"
   },
   {
    "duration": 19,
    "start_time": "2024-08-15T09:43:33.603Z"
   },
   {
    "duration": 4091,
    "start_time": "2024-08-15T09:44:27.208Z"
   },
   {
    "duration": 5,
    "start_time": "2024-08-15T09:44:31.302Z"
   },
   {
    "duration": 157,
    "start_time": "2024-08-15T09:44:31.309Z"
   },
   {
    "duration": 16,
    "start_time": "2024-08-15T09:44:31.469Z"
   },
   {
    "duration": 59,
    "start_time": "2024-08-15T09:44:31.487Z"
   },
   {
    "duration": 45,
    "start_time": "2024-08-15T09:44:31.547Z"
   },
   {
    "duration": 32,
    "start_time": "2024-08-15T09:44:31.594Z"
   },
   {
    "duration": 44,
    "start_time": "2024-08-15T09:44:31.629Z"
   },
   {
    "duration": 34,
    "start_time": "2024-08-15T09:44:31.675Z"
   },
   {
    "duration": 39,
    "start_time": "2024-08-15T09:44:31.713Z"
   },
   {
    "duration": 20,
    "start_time": "2024-08-15T09:44:31.753Z"
   },
   {
    "duration": 16,
    "start_time": "2024-08-15T09:44:31.775Z"
   },
   {
    "duration": 26,
    "start_time": "2024-08-15T09:44:31.793Z"
   },
   {
    "duration": 26,
    "start_time": "2024-08-15T09:44:31.821Z"
   },
   {
    "duration": 8,
    "start_time": "2024-08-15T09:44:31.849Z"
   },
   {
    "duration": 10,
    "start_time": "2024-08-15T09:44:31.859Z"
   },
   {
    "duration": 29,
    "start_time": "2024-08-15T09:44:31.871Z"
   },
   {
    "duration": 31,
    "start_time": "2024-08-15T09:44:31.902Z"
   },
   {
    "duration": 21,
    "start_time": "2024-08-15T09:44:31.935Z"
   },
   {
    "duration": 12,
    "start_time": "2024-08-15T09:44:31.958Z"
   },
   {
    "duration": 86,
    "start_time": "2024-08-15T09:44:31.972Z"
   },
   {
    "duration": 37,
    "start_time": "2024-08-15T09:44:32.060Z"
   },
   {
    "duration": 11,
    "start_time": "2024-08-15T09:44:32.099Z"
   },
   {
    "duration": 34,
    "start_time": "2024-08-15T09:44:32.111Z"
   },
   {
    "duration": 15,
    "start_time": "2024-08-15T09:44:32.147Z"
   },
   {
    "duration": 9,
    "start_time": "2024-08-15T09:44:32.164Z"
   },
   {
    "duration": 581,
    "start_time": "2024-08-15T09:44:32.174Z"
   },
   {
    "duration": 437,
    "start_time": "2024-08-15T09:44:32.759Z"
   },
   {
    "duration": 3,
    "start_time": "2024-08-15T09:44:33.198Z"
   },
   {
    "duration": 355,
    "start_time": "2024-08-15T09:44:33.202Z"
   },
   {
    "duration": 9,
    "start_time": "2024-08-15T09:44:33.558Z"
   },
   {
    "duration": 11,
    "start_time": "2024-08-15T09:44:33.568Z"
   },
   {
    "duration": 9,
    "start_time": "2024-08-15T09:44:33.596Z"
   },
   {
    "duration": 7,
    "start_time": "2024-08-15T09:44:33.606Z"
   },
   {
    "duration": 389,
    "start_time": "2024-08-15T09:44:33.615Z"
   },
   {
    "duration": 9,
    "start_time": "2024-08-15T09:44:34.006Z"
   },
   {
    "duration": 11,
    "start_time": "2024-08-15T09:44:34.016Z"
   },
   {
    "duration": 8,
    "start_time": "2024-08-15T09:44:34.028Z"
   },
   {
    "duration": 781,
    "start_time": "2024-08-15T09:44:34.038Z"
   },
   {
    "duration": 7,
    "start_time": "2024-08-15T09:44:34.821Z"
   },
   {
    "duration": 16,
    "start_time": "2024-08-15T09:44:34.829Z"
   },
   {
    "duration": 110,
    "start_time": "2024-08-15T09:44:34.847Z"
   },
   {
    "duration": 17,
    "start_time": "2024-08-15T09:44:34.959Z"
   },
   {
    "duration": 33,
    "start_time": "2024-08-15T09:44:34.978Z"
   },
   {
    "duration": 42,
    "start_time": "2024-08-15T09:44:35.013Z"
   },
   {
    "duration": 16,
    "start_time": "2024-08-15T09:44:35.057Z"
   },
   {
    "duration": 16,
    "start_time": "2024-08-15T09:44:35.075Z"
   },
   {
    "duration": 1047,
    "start_time": "2024-08-15T09:44:35.093Z"
   },
   {
    "duration": 1942,
    "start_time": "2024-08-15T09:44:36.142Z"
   },
   {
    "duration": 13,
    "start_time": "2024-08-15T09:44:38.086Z"
   },
   {
    "duration": 452,
    "start_time": "2024-08-15T09:44:38.101Z"
   },
   {
    "duration": 1316,
    "start_time": "2024-08-15T09:44:38.555Z"
   },
   {
    "duration": 3,
    "start_time": "2024-08-15T09:44:39.873Z"
   },
   {
    "duration": 20,
    "start_time": "2024-08-15T09:44:39.877Z"
   },
   {
    "duration": 5,
    "start_time": "2024-08-15T09:44:39.899Z"
   },
   {
    "duration": 34,
    "start_time": "2024-08-15T09:44:39.906Z"
   },
   {
    "duration": 19,
    "start_time": "2024-08-15T09:44:39.942Z"
   },
   {
    "duration": 9,
    "start_time": "2024-08-15T09:44:39.962Z"
   },
   {
    "duration": 61,
    "start_time": "2024-08-15T09:44:39.973Z"
   },
   {
    "duration": 21,
    "start_time": "2024-08-15T09:44:40.036Z"
   },
   {
    "duration": 12,
    "start_time": "2024-08-15T09:44:40.059Z"
   },
   {
    "duration": 26,
    "start_time": "2024-08-15T09:44:40.073Z"
   },
   {
    "duration": 44355,
    "start_time": "2024-08-15T09:44:40.101Z"
   },
   {
    "duration": 15799,
    "start_time": "2024-08-15T09:45:24.458Z"
   },
   {
    "duration": 0,
    "start_time": "2024-08-15T09:45:40.259Z"
   },
   {
    "duration": 0,
    "start_time": "2024-08-15T09:45:40.260Z"
   },
   {
    "duration": 0,
    "start_time": "2024-08-15T09:45:40.261Z"
   },
   {
    "duration": 0,
    "start_time": "2024-08-15T09:45:40.263Z"
   },
   {
    "duration": 0,
    "start_time": "2024-08-15T09:45:40.265Z"
   },
   {
    "duration": 0,
    "start_time": "2024-08-15T09:45:40.266Z"
   },
   {
    "duration": 0,
    "start_time": "2024-08-15T09:45:40.267Z"
   },
   {
    "duration": 74,
    "start_time": "2024-08-15T09:46:00.183Z"
   },
   {
    "duration": 27,
    "start_time": "2024-08-15T09:46:47.033Z"
   },
   {
    "duration": 4,
    "start_time": "2024-08-15T09:48:31.085Z"
   },
   {
    "duration": 22,
    "start_time": "2024-08-15T09:48:31.732Z"
   },
   {
    "duration": 4991,
    "start_time": "2024-08-15T09:48:47.312Z"
   },
   {
    "duration": 6,
    "start_time": "2024-08-15T09:48:52.306Z"
   },
   {
    "duration": 115,
    "start_time": "2024-08-15T09:48:52.313Z"
   },
   {
    "duration": 16,
    "start_time": "2024-08-15T09:48:52.430Z"
   },
   {
    "duration": 86,
    "start_time": "2024-08-15T09:48:52.448Z"
   },
   {
    "duration": 16,
    "start_time": "2024-08-15T09:48:52.536Z"
   },
   {
    "duration": 10,
    "start_time": "2024-08-15T09:48:52.554Z"
   },
   {
    "duration": 46,
    "start_time": "2024-08-15T09:48:52.565Z"
   },
   {
    "duration": 25,
    "start_time": "2024-08-15T09:48:52.613Z"
   },
   {
    "duration": 33,
    "start_time": "2024-08-15T09:48:52.641Z"
   },
   {
    "duration": 13,
    "start_time": "2024-08-15T09:48:52.676Z"
   },
   {
    "duration": 20,
    "start_time": "2024-08-15T09:48:52.690Z"
   },
   {
    "duration": 6,
    "start_time": "2024-08-15T09:48:52.711Z"
   },
   {
    "duration": 18,
    "start_time": "2024-08-15T09:48:52.718Z"
   },
   {
    "duration": 22,
    "start_time": "2024-08-15T09:48:52.738Z"
   },
   {
    "duration": 8,
    "start_time": "2024-08-15T09:48:52.762Z"
   },
   {
    "duration": 12,
    "start_time": "2024-08-15T09:48:52.772Z"
   },
   {
    "duration": 14,
    "start_time": "2024-08-15T09:48:52.786Z"
   },
   {
    "duration": 15,
    "start_time": "2024-08-15T09:48:52.802Z"
   },
   {
    "duration": 4,
    "start_time": "2024-08-15T09:48:52.819Z"
   },
   {
    "duration": 41,
    "start_time": "2024-08-15T09:48:52.824Z"
   },
   {
    "duration": 9,
    "start_time": "2024-08-15T09:48:52.866Z"
   },
   {
    "duration": 9,
    "start_time": "2024-08-15T09:48:52.876Z"
   },
   {
    "duration": 11,
    "start_time": "2024-08-15T09:48:52.887Z"
   },
   {
    "duration": 35,
    "start_time": "2024-08-15T09:48:52.900Z"
   },
   {
    "duration": 8,
    "start_time": "2024-08-15T09:48:52.937Z"
   },
   {
    "duration": 587,
    "start_time": "2024-08-15T09:48:52.947Z"
   },
   {
    "duration": 458,
    "start_time": "2024-08-15T09:48:53.538Z"
   },
   {
    "duration": 4,
    "start_time": "2024-08-15T09:48:53.998Z"
   },
   {
    "duration": 383,
    "start_time": "2024-08-15T09:48:54.005Z"
   },
   {
    "duration": 10,
    "start_time": "2024-08-15T09:48:54.395Z"
   },
   {
    "duration": 32,
    "start_time": "2024-08-15T09:48:54.407Z"
   },
   {
    "duration": 48,
    "start_time": "2024-08-15T09:48:54.440Z"
   },
   {
    "duration": 12,
    "start_time": "2024-08-15T09:48:54.490Z"
   },
   {
    "duration": 440,
    "start_time": "2024-08-15T09:48:54.504Z"
   },
   {
    "duration": 9,
    "start_time": "2024-08-15T09:48:54.946Z"
   },
   {
    "duration": 17,
    "start_time": "2024-08-15T09:48:54.957Z"
   },
   {
    "duration": 21,
    "start_time": "2024-08-15T09:48:54.977Z"
   },
   {
    "duration": 936,
    "start_time": "2024-08-15T09:48:55.000Z"
   },
   {
    "duration": 7,
    "start_time": "2024-08-15T09:48:55.938Z"
   },
   {
    "duration": 29,
    "start_time": "2024-08-15T09:48:55.947Z"
   },
   {
    "duration": 123,
    "start_time": "2024-08-15T09:48:55.977Z"
   },
   {
    "duration": 21,
    "start_time": "2024-08-15T09:48:56.103Z"
   },
   {
    "duration": 18,
    "start_time": "2024-08-15T09:48:56.125Z"
   },
   {
    "duration": 18,
    "start_time": "2024-08-15T09:48:56.145Z"
   },
   {
    "duration": 38,
    "start_time": "2024-08-15T09:48:56.165Z"
   },
   {
    "duration": 17,
    "start_time": "2024-08-15T09:48:56.205Z"
   },
   {
    "duration": 994,
    "start_time": "2024-08-15T09:48:56.223Z"
   },
   {
    "duration": 1963,
    "start_time": "2024-08-15T09:48:57.219Z"
   },
   {
    "duration": 13,
    "start_time": "2024-08-15T09:48:59.183Z"
   },
   {
    "duration": 452,
    "start_time": "2024-08-15T09:48:59.198Z"
   },
   {
    "duration": 1333,
    "start_time": "2024-08-15T09:48:59.651Z"
   },
   {
    "duration": 10,
    "start_time": "2024-08-15T09:49:00.986Z"
   },
   {
    "duration": 143,
    "start_time": "2024-08-15T09:49:00.998Z"
   },
   {
    "duration": 66,
    "start_time": "2024-08-15T09:49:01.142Z"
   },
   {
    "duration": 62,
    "start_time": "2024-08-15T09:49:01.210Z"
   },
   {
    "duration": 127,
    "start_time": "2024-08-15T09:49:01.274Z"
   },
   {
    "duration": 92,
    "start_time": "2024-08-15T09:49:01.402Z"
   },
   {
    "duration": 117,
    "start_time": "2024-08-15T09:49:01.496Z"
   },
   {
    "duration": 21,
    "start_time": "2024-08-15T09:49:01.615Z"
   },
   {
    "duration": 47,
    "start_time": "2024-08-15T09:49:01.639Z"
   },
   {
    "duration": 58,
    "start_time": "2024-08-15T09:49:01.688Z"
   },
   {
    "duration": 48296,
    "start_time": "2024-08-15T09:49:01.748Z"
   },
   {
    "duration": 107545,
    "start_time": "2024-08-15T09:49:50.046Z"
   },
   {
    "duration": 976,
    "start_time": "2024-08-15T09:51:37.593Z"
   },
   {
    "duration": 0,
    "start_time": "2024-08-15T09:51:38.571Z"
   },
   {
    "duration": 0,
    "start_time": "2024-08-15T09:51:38.573Z"
   },
   {
    "duration": 0,
    "start_time": "2024-08-15T09:51:38.573Z"
   },
   {
    "duration": 0,
    "start_time": "2024-08-15T09:51:38.575Z"
   },
   {
    "duration": 0,
    "start_time": "2024-08-15T09:51:38.576Z"
   },
   {
    "duration": 0,
    "start_time": "2024-08-15T09:51:38.577Z"
   },
   {
    "duration": 4,
    "start_time": "2024-08-15T09:52:53.688Z"
   },
   {
    "duration": 14,
    "start_time": "2024-08-15T09:52:57.811Z"
   },
   {
    "duration": 3396,
    "start_time": "2024-08-15T09:53:05.328Z"
   },
   {
    "duration": 18,
    "start_time": "2024-08-15T09:53:10.852Z"
   },
   {
    "duration": 2566,
    "start_time": "2024-08-15T09:53:57.415Z"
   },
   {
    "duration": 11,
    "start_time": "2024-08-15T09:54:03.136Z"
   },
   {
    "duration": 149,
    "start_time": "2024-08-15T09:54:06.197Z"
   },
   {
    "duration": 5,
    "start_time": "2024-08-15T09:54:09.897Z"
   },
   {
    "duration": 212,
    "start_time": "2024-08-15T09:54:12.497Z"
   },
   {
    "duration": 5,
    "start_time": "2024-08-15T09:56:48.115Z"
   },
   {
    "duration": 10,
    "start_time": "2024-08-15T09:58:27.557Z"
   },
   {
    "duration": 6,
    "start_time": "2024-08-15T09:59:47.521Z"
   },
   {
    "duration": 7,
    "start_time": "2024-08-15T10:00:02.690Z"
   },
   {
    "duration": 4183,
    "start_time": "2024-08-15T10:14:52.327Z"
   },
   {
    "duration": 5,
    "start_time": "2024-08-15T10:14:56.513Z"
   },
   {
    "duration": 168,
    "start_time": "2024-08-15T10:14:56.519Z"
   },
   {
    "duration": 16,
    "start_time": "2024-08-15T10:14:56.689Z"
   },
   {
    "duration": 3,
    "start_time": "2024-08-15T10:14:56.707Z"
   },
   {
    "duration": 15,
    "start_time": "2024-08-15T10:14:56.712Z"
   },
   {
    "duration": 10,
    "start_time": "2024-08-15T10:14:56.728Z"
   },
   {
    "duration": 29,
    "start_time": "2024-08-15T10:14:56.740Z"
   },
   {
    "duration": 33,
    "start_time": "2024-08-15T10:14:56.770Z"
   },
   {
    "duration": 17,
    "start_time": "2024-08-15T10:14:56.804Z"
   },
   {
    "duration": 13,
    "start_time": "2024-08-15T10:14:56.822Z"
   },
   {
    "duration": 9,
    "start_time": "2024-08-15T10:14:56.837Z"
   },
   {
    "duration": 11,
    "start_time": "2024-08-15T10:14:56.847Z"
   },
   {
    "duration": 35,
    "start_time": "2024-08-15T10:14:56.861Z"
   },
   {
    "duration": 8,
    "start_time": "2024-08-15T10:14:56.898Z"
   },
   {
    "duration": 4,
    "start_time": "2024-08-15T10:14:56.907Z"
   },
   {
    "duration": 18,
    "start_time": "2024-08-15T10:14:56.913Z"
   },
   {
    "duration": 12,
    "start_time": "2024-08-15T10:14:56.933Z"
   },
   {
    "duration": 14,
    "start_time": "2024-08-15T10:14:56.947Z"
   },
   {
    "duration": 13,
    "start_time": "2024-08-15T10:14:56.962Z"
   },
   {
    "duration": 12,
    "start_time": "2024-08-15T10:14:56.996Z"
   },
   {
    "duration": 9,
    "start_time": "2024-08-15T10:14:57.010Z"
   },
   {
    "duration": 4,
    "start_time": "2024-08-15T10:14:57.021Z"
   },
   {
    "duration": 14,
    "start_time": "2024-08-15T10:14:57.027Z"
   },
   {
    "duration": 15,
    "start_time": "2024-08-15T10:14:57.042Z"
   },
   {
    "duration": 27,
    "start_time": "2024-08-15T10:14:57.058Z"
   },
   {
    "duration": 603,
    "start_time": "2024-08-15T10:14:57.087Z"
   },
   {
    "duration": 463,
    "start_time": "2024-08-15T10:14:57.692Z"
   },
   {
    "duration": 4,
    "start_time": "2024-08-15T10:14:58.156Z"
   },
   {
    "duration": 375,
    "start_time": "2024-08-15T10:14:58.162Z"
   },
   {
    "duration": 8,
    "start_time": "2024-08-15T10:14:58.539Z"
   },
   {
    "duration": 49,
    "start_time": "2024-08-15T10:14:58.549Z"
   },
   {
    "duration": 17,
    "start_time": "2024-08-15T10:14:58.600Z"
   },
   {
    "duration": 3,
    "start_time": "2024-08-15T10:14:58.619Z"
   },
   {
    "duration": 430,
    "start_time": "2024-08-15T10:14:58.624Z"
   },
   {
    "duration": 11,
    "start_time": "2024-08-15T10:14:59.056Z"
   },
   {
    "duration": 28,
    "start_time": "2024-08-15T10:14:59.069Z"
   },
   {
    "duration": 3,
    "start_time": "2024-08-15T10:14:59.099Z"
   },
   {
    "duration": 797,
    "start_time": "2024-08-15T10:14:59.104Z"
   },
   {
    "duration": 7,
    "start_time": "2024-08-15T10:14:59.902Z"
   },
   {
    "duration": 3,
    "start_time": "2024-08-15T10:14:59.914Z"
   },
   {
    "duration": 125,
    "start_time": "2024-08-15T10:14:59.918Z"
   },
   {
    "duration": 19,
    "start_time": "2024-08-15T10:15:00.045Z"
   },
   {
    "duration": 61,
    "start_time": "2024-08-15T10:15:00.066Z"
   },
   {
    "duration": 78,
    "start_time": "2024-08-15T10:15:00.128Z"
   },
   {
    "duration": 25,
    "start_time": "2024-08-15T10:15:00.208Z"
   },
   {
    "duration": 55,
    "start_time": "2024-08-15T10:15:00.235Z"
   },
   {
    "duration": 1052,
    "start_time": "2024-08-15T10:15:00.291Z"
   },
   {
    "duration": 2057,
    "start_time": "2024-08-15T10:15:01.345Z"
   },
   {
    "duration": 4,
    "start_time": "2024-08-15T10:15:03.404Z"
   },
   {
    "duration": 458,
    "start_time": "2024-08-15T10:15:03.410Z"
   },
   {
    "duration": 1300,
    "start_time": "2024-08-15T10:15:03.870Z"
   },
   {
    "duration": 8,
    "start_time": "2024-08-15T10:15:05.172Z"
   },
   {
    "duration": 23,
    "start_time": "2024-08-15T10:15:05.182Z"
   },
   {
    "duration": 10,
    "start_time": "2024-08-15T10:15:05.207Z"
   },
   {
    "duration": 5,
    "start_time": "2024-08-15T10:15:05.218Z"
   },
   {
    "duration": 5,
    "start_time": "2024-08-15T10:15:05.224Z"
   },
   {
    "duration": 68,
    "start_time": "2024-08-15T10:15:05.231Z"
   },
   {
    "duration": 22,
    "start_time": "2024-08-15T10:15:05.301Z"
   },
   {
    "duration": 5,
    "start_time": "2024-08-15T10:15:05.325Z"
   },
   {
    "duration": 36,
    "start_time": "2024-08-15T10:15:05.332Z"
   },
   {
    "duration": 43900,
    "start_time": "2024-08-15T10:15:05.371Z"
   },
   {
    "duration": 103592,
    "start_time": "2024-08-15T10:15:49.273Z"
   },
   {
    "duration": 9,
    "start_time": "2024-08-15T10:17:32.867Z"
   },
   {
    "duration": 168,
    "start_time": "2024-08-15T10:17:32.877Z"
   },
   {
    "duration": 4,
    "start_time": "2024-08-15T10:17:33.047Z"
   },
   {
    "duration": 233,
    "start_time": "2024-08-15T10:17:33.053Z"
   },
   {
    "duration": 5,
    "start_time": "2024-08-15T10:17:33.287Z"
   },
   {
    "duration": 18,
    "start_time": "2024-08-15T10:17:33.296Z"
   },
   {
    "duration": 5222,
    "start_time": "2024-08-16T03:36:41.363Z"
   },
   {
    "duration": 5,
    "start_time": "2024-08-16T03:36:46.588Z"
   },
   {
    "duration": 444,
    "start_time": "2024-08-16T03:36:46.597Z"
   },
   {
    "duration": 15,
    "start_time": "2024-08-16T03:36:47.044Z"
   },
   {
    "duration": 3,
    "start_time": "2024-08-16T03:36:47.060Z"
   },
   {
    "duration": 14,
    "start_time": "2024-08-16T03:36:47.065Z"
   },
   {
    "duration": 10,
    "start_time": "2024-08-16T03:36:47.081Z"
   },
   {
    "duration": 14,
    "start_time": "2024-08-16T03:36:47.092Z"
   },
   {
    "duration": 40,
    "start_time": "2024-08-16T03:36:47.107Z"
   },
   {
    "duration": 14,
    "start_time": "2024-08-16T03:36:47.148Z"
   },
   {
    "duration": 12,
    "start_time": "2024-08-16T03:36:47.164Z"
   },
   {
    "duration": 8,
    "start_time": "2024-08-16T03:36:47.178Z"
   },
   {
    "duration": 6,
    "start_time": "2024-08-16T03:36:47.189Z"
   },
   {
    "duration": 11,
    "start_time": "2024-08-16T03:36:47.196Z"
   },
   {
    "duration": 43,
    "start_time": "2024-08-16T03:36:47.209Z"
   },
   {
    "duration": 7,
    "start_time": "2024-08-16T03:36:47.254Z"
   },
   {
    "duration": 13,
    "start_time": "2024-08-16T03:36:47.262Z"
   },
   {
    "duration": 10,
    "start_time": "2024-08-16T03:36:47.276Z"
   },
   {
    "duration": 14,
    "start_time": "2024-08-16T03:36:47.287Z"
   },
   {
    "duration": 17,
    "start_time": "2024-08-16T03:36:47.303Z"
   },
   {
    "duration": 28,
    "start_time": "2024-08-16T03:36:47.322Z"
   },
   {
    "duration": 6,
    "start_time": "2024-08-16T03:36:47.352Z"
   },
   {
    "duration": 4,
    "start_time": "2024-08-16T03:36:47.360Z"
   },
   {
    "duration": 22,
    "start_time": "2024-08-16T03:36:47.365Z"
   },
   {
    "duration": 16,
    "start_time": "2024-08-16T03:36:47.389Z"
   },
   {
    "duration": 4,
    "start_time": "2024-08-16T03:36:47.406Z"
   },
   {
    "duration": 629,
    "start_time": "2024-08-16T03:36:47.411Z"
   },
   {
    "duration": 430,
    "start_time": "2024-08-16T03:36:48.042Z"
   },
   {
    "duration": 3,
    "start_time": "2024-08-16T03:36:48.473Z"
   },
   {
    "duration": 373,
    "start_time": "2024-08-16T03:36:48.477Z"
   },
   {
    "duration": 8,
    "start_time": "2024-08-16T03:36:48.851Z"
   },
   {
    "duration": 31,
    "start_time": "2024-08-16T03:36:48.860Z"
   },
   {
    "duration": 28,
    "start_time": "2024-08-16T03:36:48.892Z"
   },
   {
    "duration": 3,
    "start_time": "2024-08-16T03:36:48.922Z"
   },
   {
    "duration": 375,
    "start_time": "2024-08-16T03:36:48.927Z"
   },
   {
    "duration": 9,
    "start_time": "2024-08-16T03:36:49.304Z"
   },
   {
    "duration": 10,
    "start_time": "2024-08-16T03:36:49.315Z"
   },
   {
    "duration": 20,
    "start_time": "2024-08-16T03:36:49.327Z"
   },
   {
    "duration": 763,
    "start_time": "2024-08-16T03:36:49.349Z"
   },
   {
    "duration": 7,
    "start_time": "2024-08-16T03:36:50.117Z"
   },
   {
    "duration": 8,
    "start_time": "2024-08-16T03:36:50.125Z"
   },
   {
    "duration": 113,
    "start_time": "2024-08-16T03:36:50.135Z"
   },
   {
    "duration": 17,
    "start_time": "2024-08-16T03:36:50.249Z"
   },
   {
    "duration": 20,
    "start_time": "2024-08-16T03:36:50.267Z"
   },
   {
    "duration": 20,
    "start_time": "2024-08-16T03:36:50.289Z"
   },
   {
    "duration": 12,
    "start_time": "2024-08-16T03:36:50.311Z"
   },
   {
    "duration": 16,
    "start_time": "2024-08-16T03:36:50.345Z"
   },
   {
    "duration": 970,
    "start_time": "2024-08-16T03:36:50.363Z"
   },
   {
    "duration": 1960,
    "start_time": "2024-08-16T03:36:51.336Z"
   },
   {
    "duration": 5,
    "start_time": "2024-08-16T03:36:53.297Z"
   },
   {
    "duration": 437,
    "start_time": "2024-08-16T03:36:53.304Z"
   },
   {
    "duration": 1286,
    "start_time": "2024-08-16T03:36:53.743Z"
   },
   {
    "duration": 15,
    "start_time": "2024-08-16T03:36:55.030Z"
   },
   {
    "duration": 21,
    "start_time": "2024-08-16T03:36:55.047Z"
   },
   {
    "duration": 18,
    "start_time": "2024-08-16T03:36:55.070Z"
   },
   {
    "duration": 41,
    "start_time": "2024-08-16T03:36:55.089Z"
   },
   {
    "duration": 28,
    "start_time": "2024-08-16T03:36:55.132Z"
   },
   {
    "duration": 62,
    "start_time": "2024-08-16T03:36:55.162Z"
   },
   {
    "duration": 19,
    "start_time": "2024-08-16T03:36:55.225Z"
   },
   {
    "duration": 27,
    "start_time": "2024-08-16T03:36:55.246Z"
   },
   {
    "duration": 57,
    "start_time": "2024-08-16T03:36:55.275Z"
   },
   {
    "duration": 43551,
    "start_time": "2024-08-16T03:36:55.333Z"
   },
   {
    "duration": 127745,
    "start_time": "2024-08-16T03:37:38.886Z"
   },
   {
    "duration": 9,
    "start_time": "2024-08-16T03:39:46.633Z"
   },
   {
    "duration": 137,
    "start_time": "2024-08-16T03:39:46.643Z"
   },
   {
    "duration": 4,
    "start_time": "2024-08-16T03:39:46.782Z"
   },
   {
    "duration": 254,
    "start_time": "2024-08-16T03:39:46.788Z"
   },
   {
    "duration": 4,
    "start_time": "2024-08-16T03:39:47.045Z"
   },
   {
    "duration": 11,
    "start_time": "2024-08-16T03:39:47.051Z"
   }
  ],
  "kernelspec": {
   "display_name": "Python 3 (ipykernel)",
   "language": "python",
   "name": "python3"
  },
  "language_info": {
   "codemirror_mode": {
    "name": "ipython",
    "version": 3
   },
   "file_extension": ".py",
   "mimetype": "text/x-python",
   "name": "python",
   "nbconvert_exporter": "python",
   "pygments_lexer": "ipython3",
   "version": "3.11.5"
  },
  "toc": {
   "base_numbering": 1,
   "nav_menu": {},
   "number_sections": true,
   "sideBar": true,
   "skip_h1_title": true,
   "title_cell": "Table of Contents",
   "title_sidebar": "Contents",
   "toc_cell": false,
   "toc_position": {},
   "toc_section_display": true,
   "toc_window_display": true
  }
 },
 "nbformat": 4,
 "nbformat_minor": 5
}
