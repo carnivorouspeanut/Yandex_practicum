{
 "cells": [
  {
   "cell_type": "code",
   "execution_count": 1,
   "metadata": {},
   "outputs": [],
   "source": [
    "import pandas as pd\n",
    "import numpy as np\n",
    "import matplotlib.pyplot as plt\n",
    "import seaborn as sns\n",
    "import scipy.stats as st"
   ]
  },
  {
   "cell_type": "markdown",
   "metadata": {},
   "source": [
    "Project Description\n",
    "\n",
    "You work for the online store which sells computer games worldwide. Historical data on game sales, user and expert ratings, genres, and platforms (e.g., Xbox or PlayStation) are available from open sources. You need to identify patterns that determine a game's success. This will help you focus on potentially popular products and plan marketing campaigns.\n",
    "\n",
    "You have data up to 2016. Assume it is December 2016, and you are planning a campaign for 2017. \n",
    "\n",
    "The dataset includes the acronym ESRB (Entertainment Software Rating Board) — an association that defines the age rating of computer games. The ESRB assesses game content and assigns an appropriate age category, such as \"Adults,\" \"Early Childhood,\" or \"Teen.\"\n",
    "\n",
    "Project Instructions\n",
    "\n",
    "Step 1: Open the Data File and Review General Information\n",
    "\n",
    "\n",
    "Step 2: Prepare the Data\n",
    "\n",
    "\n",
    "Step 3: Conduct Exploratory Data Analysis\n",
    "\n",
    "Examine how many games were released in different years. Are the data from all periods important?\n",
    "Analyze how sales changed across platforms. Choose platforms with the highest total sales and plot the distribution over the years. What is the typical lifespan of new and old platforms?\n",
    "Take data for the relevant current period. Determine the relevant period based on the results of the previous questions. The main factor is that this data will help build a forecast for 2017.\n",
    "Do not consider data from previous years in your analysis.\n",
    "Which platforms are leading in sales, growing, or declining? Select a few potentially profitable platforms.\n",
    "Plot a box plot of global game sales by platform. Describe the result.\n",
    "Examine how user and critic reviews influence sales within a popular platform. Create a scatter plot and calculate the correlation between reviews and sales. Formulate conclusions.\n",
    "Relate your findings to game sales on other platforms.\n",
    "Review the overall distribution of games by genre. What can be said about the most profitable genres? Are there genres with high and low sales?\n",
    "\n",
    "Step 4: Create a User Profile for Each Region\n",
    "\n",
    "Identify for each region (NA, EU, JP):\n",
    "The top 5 most popular platforms. Describe differences in sales shares.\n",
    "The top 5 most popular genres. Explain the differences.\n",
    "Does the ESRB rating affect sales in the specific region?\n",
    "\n",
    "Step 5: Test Hypotheses\n",
    "\n",
    "1) The average user ratings for Xbox One and PC platforms are the same.\n",
    "2) The average user ratings for Action (English: \"action\") and Sports (English: \"sports competitions\") genres are different."
   ]
  },
  {
   "cell_type": "markdown",
   "metadata": {},
   "source": [
    "## Read data"
   ]
  },
  {
   "cell_type": "code",
   "execution_count": 2,
   "metadata": {},
   "outputs": [
    {
     "data": {
      "text/html": [
       "<div>\n",
       "<style scoped>\n",
       "    .dataframe tbody tr th:only-of-type {\n",
       "        vertical-align: middle;\n",
       "    }\n",
       "\n",
       "    .dataframe tbody tr th {\n",
       "        vertical-align: top;\n",
       "    }\n",
       "\n",
       "    .dataframe thead th {\n",
       "        text-align: right;\n",
       "    }\n",
       "</style>\n",
       "<table border=\"1\" class=\"dataframe\">\n",
       "  <thead>\n",
       "    <tr style=\"text-align: right;\">\n",
       "      <th></th>\n",
       "      <th>Name</th>\n",
       "      <th>Platform</th>\n",
       "      <th>Year_of_Release</th>\n",
       "      <th>Genre</th>\n",
       "      <th>NA_sales</th>\n",
       "      <th>EU_sales</th>\n",
       "      <th>JP_sales</th>\n",
       "      <th>Other_sales</th>\n",
       "      <th>Critic_Score</th>\n",
       "      <th>User_Score</th>\n",
       "      <th>Rating</th>\n",
       "    </tr>\n",
       "  </thead>\n",
       "  <tbody>\n",
       "    <tr>\n",
       "      <th>0</th>\n",
       "      <td>Wii Sports</td>\n",
       "      <td>Wii</td>\n",
       "      <td>2006.0</td>\n",
       "      <td>Sports</td>\n",
       "      <td>41.36</td>\n",
       "      <td>28.96</td>\n",
       "      <td>3.77</td>\n",
       "      <td>8.45</td>\n",
       "      <td>76.0</td>\n",
       "      <td>8</td>\n",
       "      <td>E</td>\n",
       "    </tr>\n",
       "    <tr>\n",
       "      <th>1</th>\n",
       "      <td>Super Mario Bros.</td>\n",
       "      <td>NES</td>\n",
       "      <td>1985.0</td>\n",
       "      <td>Platform</td>\n",
       "      <td>29.08</td>\n",
       "      <td>3.58</td>\n",
       "      <td>6.81</td>\n",
       "      <td>0.77</td>\n",
       "      <td>NaN</td>\n",
       "      <td>NaN</td>\n",
       "      <td>NaN</td>\n",
       "    </tr>\n",
       "    <tr>\n",
       "      <th>2</th>\n",
       "      <td>Mario Kart Wii</td>\n",
       "      <td>Wii</td>\n",
       "      <td>2008.0</td>\n",
       "      <td>Racing</td>\n",
       "      <td>15.68</td>\n",
       "      <td>12.76</td>\n",
       "      <td>3.79</td>\n",
       "      <td>3.29</td>\n",
       "      <td>82.0</td>\n",
       "      <td>8.3</td>\n",
       "      <td>E</td>\n",
       "    </tr>\n",
       "    <tr>\n",
       "      <th>3</th>\n",
       "      <td>Wii Sports Resort</td>\n",
       "      <td>Wii</td>\n",
       "      <td>2009.0</td>\n",
       "      <td>Sports</td>\n",
       "      <td>15.61</td>\n",
       "      <td>10.93</td>\n",
       "      <td>3.28</td>\n",
       "      <td>2.95</td>\n",
       "      <td>80.0</td>\n",
       "      <td>8</td>\n",
       "      <td>E</td>\n",
       "    </tr>\n",
       "    <tr>\n",
       "      <th>4</th>\n",
       "      <td>Pokemon Red/Pokemon Blue</td>\n",
       "      <td>GB</td>\n",
       "      <td>1996.0</td>\n",
       "      <td>Role-Playing</td>\n",
       "      <td>11.27</td>\n",
       "      <td>8.89</td>\n",
       "      <td>10.22</td>\n",
       "      <td>1.00</td>\n",
       "      <td>NaN</td>\n",
       "      <td>NaN</td>\n",
       "      <td>NaN</td>\n",
       "    </tr>\n",
       "  </tbody>\n",
       "</table>\n",
       "</div>"
      ],
      "text/plain": [
       "                       Name Platform  Year_of_Release         Genre  NA_sales  \\\n",
       "0                Wii Sports      Wii           2006.0        Sports     41.36   \n",
       "1         Super Mario Bros.      NES           1985.0      Platform     29.08   \n",
       "2            Mario Kart Wii      Wii           2008.0        Racing     15.68   \n",
       "3         Wii Sports Resort      Wii           2009.0        Sports     15.61   \n",
       "4  Pokemon Red/Pokemon Blue       GB           1996.0  Role-Playing     11.27   \n",
       "\n",
       "   EU_sales  JP_sales  Other_sales  Critic_Score User_Score Rating  \n",
       "0     28.96      3.77         8.45          76.0          8      E  \n",
       "1      3.58      6.81         0.77           NaN        NaN    NaN  \n",
       "2     12.76      3.79         3.29          82.0        8.3      E  \n",
       "3     10.93      3.28         2.95          80.0          8      E  \n",
       "4      8.89     10.22         1.00           NaN        NaN    NaN  "
      ]
     },
     "execution_count": 2,
     "metadata": {},
     "output_type": "execute_result"
    }
   ],
   "source": [
    "data = pd.read_csv('/datasets/games.csv')\n",
    "data.head()"
   ]
  },
  {
   "cell_type": "markdown",
   "metadata": {},
   "source": [
    "We will be working with a dataset of games sold on various platforms in North America, Europe, and Japan from 1980 to 2016."
   ]
  },
  {
   "cell_type": "markdown",
   "metadata": {},
   "source": [
    "## Data preparation"
   ]
  },
  {
   "cell_type": "markdown",
   "metadata": {},
   "source": [
    "### Colnames unification"
   ]
  },
  {
   "cell_type": "code",
   "execution_count": 3,
   "metadata": {},
   "outputs": [
    {
     "data": {
      "text/html": [
       "<div>\n",
       "<style scoped>\n",
       "    .dataframe tbody tr th:only-of-type {\n",
       "        vertical-align: middle;\n",
       "    }\n",
       "\n",
       "    .dataframe tbody tr th {\n",
       "        vertical-align: top;\n",
       "    }\n",
       "\n",
       "    .dataframe thead th {\n",
       "        text-align: right;\n",
       "    }\n",
       "</style>\n",
       "<table border=\"1\" class=\"dataframe\">\n",
       "  <thead>\n",
       "    <tr style=\"text-align: right;\">\n",
       "      <th></th>\n",
       "      <th>name</th>\n",
       "      <th>platform</th>\n",
       "      <th>year_of_release</th>\n",
       "      <th>genre</th>\n",
       "      <th>na_sales</th>\n",
       "      <th>eu_sales</th>\n",
       "      <th>jp_sales</th>\n",
       "      <th>other_sales</th>\n",
       "      <th>critic_score</th>\n",
       "      <th>user_score</th>\n",
       "      <th>rating</th>\n",
       "    </tr>\n",
       "  </thead>\n",
       "  <tbody>\n",
       "    <tr>\n",
       "      <th>0</th>\n",
       "      <td>Wii Sports</td>\n",
       "      <td>Wii</td>\n",
       "      <td>2006.0</td>\n",
       "      <td>Sports</td>\n",
       "      <td>41.36</td>\n",
       "      <td>28.96</td>\n",
       "      <td>3.77</td>\n",
       "      <td>8.45</td>\n",
       "      <td>76.0</td>\n",
       "      <td>8</td>\n",
       "      <td>E</td>\n",
       "    </tr>\n",
       "    <tr>\n",
       "      <th>1</th>\n",
       "      <td>Super Mario Bros.</td>\n",
       "      <td>NES</td>\n",
       "      <td>1985.0</td>\n",
       "      <td>Platform</td>\n",
       "      <td>29.08</td>\n",
       "      <td>3.58</td>\n",
       "      <td>6.81</td>\n",
       "      <td>0.77</td>\n",
       "      <td>NaN</td>\n",
       "      <td>NaN</td>\n",
       "      <td>NaN</td>\n",
       "    </tr>\n",
       "    <tr>\n",
       "      <th>2</th>\n",
       "      <td>Mario Kart Wii</td>\n",
       "      <td>Wii</td>\n",
       "      <td>2008.0</td>\n",
       "      <td>Racing</td>\n",
       "      <td>15.68</td>\n",
       "      <td>12.76</td>\n",
       "      <td>3.79</td>\n",
       "      <td>3.29</td>\n",
       "      <td>82.0</td>\n",
       "      <td>8.3</td>\n",
       "      <td>E</td>\n",
       "    </tr>\n",
       "    <tr>\n",
       "      <th>3</th>\n",
       "      <td>Wii Sports Resort</td>\n",
       "      <td>Wii</td>\n",
       "      <td>2009.0</td>\n",
       "      <td>Sports</td>\n",
       "      <td>15.61</td>\n",
       "      <td>10.93</td>\n",
       "      <td>3.28</td>\n",
       "      <td>2.95</td>\n",
       "      <td>80.0</td>\n",
       "      <td>8</td>\n",
       "      <td>E</td>\n",
       "    </tr>\n",
       "    <tr>\n",
       "      <th>4</th>\n",
       "      <td>Pokemon Red/Pokemon Blue</td>\n",
       "      <td>GB</td>\n",
       "      <td>1996.0</td>\n",
       "      <td>Role-Playing</td>\n",
       "      <td>11.27</td>\n",
       "      <td>8.89</td>\n",
       "      <td>10.22</td>\n",
       "      <td>1.00</td>\n",
       "      <td>NaN</td>\n",
       "      <td>NaN</td>\n",
       "      <td>NaN</td>\n",
       "    </tr>\n",
       "  </tbody>\n",
       "</table>\n",
       "</div>"
      ],
      "text/plain": [
       "                       name platform  year_of_release         genre  na_sales  \\\n",
       "0                Wii Sports      Wii           2006.0        Sports     41.36   \n",
       "1         Super Mario Bros.      NES           1985.0      Platform     29.08   \n",
       "2            Mario Kart Wii      Wii           2008.0        Racing     15.68   \n",
       "3         Wii Sports Resort      Wii           2009.0        Sports     15.61   \n",
       "4  Pokemon Red/Pokemon Blue       GB           1996.0  Role-Playing     11.27   \n",
       "\n",
       "   eu_sales  jp_sales  other_sales  critic_score user_score rating  \n",
       "0     28.96      3.77         8.45          76.0          8      E  \n",
       "1      3.58      6.81         0.77           NaN        NaN    NaN  \n",
       "2     12.76      3.79         3.29          82.0        8.3      E  \n",
       "3     10.93      3.28         2.95          80.0          8      E  \n",
       "4      8.89     10.22         1.00           NaN        NaN    NaN  "
      ]
     },
     "execution_count": 3,
     "metadata": {},
     "output_type": "execute_result"
    }
   ],
   "source": [
    "data.columns = data.columns.str.lower()\n",
    "data.head()"
   ]
  },
  {
   "cell_type": "markdown",
   "metadata": {},
   "source": [
    "### Data type convertion"
   ]
  },
  {
   "cell_type": "code",
   "execution_count": 4,
   "metadata": {},
   "outputs": [
    {
     "name": "stdout",
     "output_type": "stream",
     "text": [
      "<class 'pandas.core.frame.DataFrame'>\n",
      "RangeIndex: 16715 entries, 0 to 16714\n",
      "Data columns (total 11 columns):\n",
      " #   Column           Non-Null Count  Dtype  \n",
      "---  ------           --------------  -----  \n",
      " 0   name             16713 non-null  object \n",
      " 1   platform         16715 non-null  object \n",
      " 2   year_of_release  16446 non-null  float64\n",
      " 3   genre            16713 non-null  object \n",
      " 4   na_sales         16715 non-null  float64\n",
      " 5   eu_sales         16715 non-null  float64\n",
      " 6   jp_sales         16715 non-null  float64\n",
      " 7   other_sales      16715 non-null  float64\n",
      " 8   critic_score     8137 non-null   float64\n",
      " 9   user_score       10014 non-null  object \n",
      " 10  rating           9949 non-null   object \n",
      "dtypes: float64(6), object(5)\n",
      "memory usage: 1.4+ MB\n"
     ]
    }
   ],
   "source": [
    "data.info()"
   ]
  },
  {
   "cell_type": "markdown",
   "metadata": {},
   "source": [
    "Let's change the data types in two columns:\n",
    "\n",
    "The  year_of_release is better represented as an integer — there's no particular reason to use the datetime format since we don't have data on days and months, and strings aren't appropriate in this context.\n",
    "\n",
    "The user_score should be converted to a float, to align it with the format used for critic scores and sales. It's clear that we'll need to perform arithmetic operations with this variable in the future."
   ]
  },
  {
   "cell_type": "code",
   "execution_count": 5,
   "metadata": {},
   "outputs": [
    {
     "name": "stdout",
     "output_type": "stream",
     "text": [
      "<class 'pandas.core.frame.DataFrame'>\n",
      "RangeIndex: 16715 entries, 0 to 16714\n",
      "Data columns (total 11 columns):\n",
      " #   Column           Non-Null Count  Dtype  \n",
      "---  ------           --------------  -----  \n",
      " 0   name             16713 non-null  object \n",
      " 1   platform         16715 non-null  object \n",
      " 2   year_of_release  16446 non-null  Int32  \n",
      " 3   genre            16713 non-null  object \n",
      " 4   na_sales         16715 non-null  float64\n",
      " 5   eu_sales         16715 non-null  float64\n",
      " 6   jp_sales         16715 non-null  float64\n",
      " 7   other_sales      16715 non-null  float64\n",
      " 8   critic_score     8137 non-null   float64\n",
      " 9   user_score       7590 non-null   float64\n",
      " 10  rating           9949 non-null   object \n",
      "dtypes: Int32(1), float64(6), object(4)\n",
      "memory usage: 1.4+ MB\n"
     ]
    }
   ],
   "source": [
    "data['year_of_release'] = data['year_of_release'].astype('Int32')\n",
    "data['user_score'] = pd.to_numeric(data['user_score'], errors='coerce').astype('float')\n",
    "data.info()"
   ]
  },
  {
   "cell_type": "markdown",
   "metadata": {},
   "source": [
    "### Handling nans"
   ]
  },
  {
   "cell_type": "code",
   "execution_count": 6,
   "metadata": {},
   "outputs": [
    {
     "data": {
      "text/plain": [
       "name                  2\n",
       "platform              0\n",
       "year_of_release     269\n",
       "genre                 2\n",
       "na_sales              0\n",
       "eu_sales              0\n",
       "jp_sales              0\n",
       "other_sales           0\n",
       "critic_score       8578\n",
       "user_score         9125\n",
       "rating             6766\n",
       "dtype: int64"
      ]
     },
     "execution_count": 6,
     "metadata": {},
     "output_type": "execute_result"
    }
   ],
   "source": [
    "data.isna().sum()"
   ]
  },
  {
   "cell_type": "markdown",
   "metadata": {},
   "source": [
    "I don't think we should fill in the missing values in columns like game title, release year, scores, and ratings — these data can't be reasonably inferred based on other games. For example, a score could be either very high or very low, and any method for filling in the gaps would result in something averaged (mean/median), which, given the number of missing values, could significantly skew the analysis.\n",
    "\n",
    "The missing data likely resulted from the imperfection of the parser used to compile the table. Given the number of missing scores and ratings, it's possible that the data was parsed from two different sources, where fields like ratings and scores might have been named differently.\n",
    "\n",
    "The abbreviation \"tbd\" usually stands for \"To Be Determined\" — since we can't extract meaningful information from such values, we'll treat them as NaN."
   ]
  },
  {
   "cell_type": "markdown",
   "metadata": {},
   "source": [
    "### Total revenue calculation"
   ]
  },
  {
   "cell_type": "code",
   "execution_count": 7,
   "metadata": {},
   "outputs": [
    {
     "data": {
      "text/html": [
       "<div>\n",
       "<style scoped>\n",
       "    .dataframe tbody tr th:only-of-type {\n",
       "        vertical-align: middle;\n",
       "    }\n",
       "\n",
       "    .dataframe tbody tr th {\n",
       "        vertical-align: top;\n",
       "    }\n",
       "\n",
       "    .dataframe thead th {\n",
       "        text-align: right;\n",
       "    }\n",
       "</style>\n",
       "<table border=\"1\" class=\"dataframe\">\n",
       "  <thead>\n",
       "    <tr style=\"text-align: right;\">\n",
       "      <th></th>\n",
       "      <th>name</th>\n",
       "      <th>platform</th>\n",
       "      <th>year_of_release</th>\n",
       "      <th>genre</th>\n",
       "      <th>na_sales</th>\n",
       "      <th>eu_sales</th>\n",
       "      <th>jp_sales</th>\n",
       "      <th>other_sales</th>\n",
       "      <th>critic_score</th>\n",
       "      <th>user_score</th>\n",
       "      <th>rating</th>\n",
       "      <th>total_revenue</th>\n",
       "    </tr>\n",
       "  </thead>\n",
       "  <tbody>\n",
       "    <tr>\n",
       "      <th>0</th>\n",
       "      <td>Wii Sports</td>\n",
       "      <td>Wii</td>\n",
       "      <td>2006</td>\n",
       "      <td>Sports</td>\n",
       "      <td>41.36</td>\n",
       "      <td>28.96</td>\n",
       "      <td>3.77</td>\n",
       "      <td>8.45</td>\n",
       "      <td>76.0</td>\n",
       "      <td>8.0</td>\n",
       "      <td>E</td>\n",
       "      <td>82.54</td>\n",
       "    </tr>\n",
       "    <tr>\n",
       "      <th>1</th>\n",
       "      <td>Super Mario Bros.</td>\n",
       "      <td>NES</td>\n",
       "      <td>1985</td>\n",
       "      <td>Platform</td>\n",
       "      <td>29.08</td>\n",
       "      <td>3.58</td>\n",
       "      <td>6.81</td>\n",
       "      <td>0.77</td>\n",
       "      <td>NaN</td>\n",
       "      <td>NaN</td>\n",
       "      <td>NaN</td>\n",
       "      <td>40.24</td>\n",
       "    </tr>\n",
       "    <tr>\n",
       "      <th>2</th>\n",
       "      <td>Mario Kart Wii</td>\n",
       "      <td>Wii</td>\n",
       "      <td>2008</td>\n",
       "      <td>Racing</td>\n",
       "      <td>15.68</td>\n",
       "      <td>12.76</td>\n",
       "      <td>3.79</td>\n",
       "      <td>3.29</td>\n",
       "      <td>82.0</td>\n",
       "      <td>8.3</td>\n",
       "      <td>E</td>\n",
       "      <td>35.52</td>\n",
       "    </tr>\n",
       "    <tr>\n",
       "      <th>3</th>\n",
       "      <td>Wii Sports Resort</td>\n",
       "      <td>Wii</td>\n",
       "      <td>2009</td>\n",
       "      <td>Sports</td>\n",
       "      <td>15.61</td>\n",
       "      <td>10.93</td>\n",
       "      <td>3.28</td>\n",
       "      <td>2.95</td>\n",
       "      <td>80.0</td>\n",
       "      <td>8.0</td>\n",
       "      <td>E</td>\n",
       "      <td>32.77</td>\n",
       "    </tr>\n",
       "    <tr>\n",
       "      <th>4</th>\n",
       "      <td>Pokemon Red/Pokemon Blue</td>\n",
       "      <td>GB</td>\n",
       "      <td>1996</td>\n",
       "      <td>Role-Playing</td>\n",
       "      <td>11.27</td>\n",
       "      <td>8.89</td>\n",
       "      <td>10.22</td>\n",
       "      <td>1.00</td>\n",
       "      <td>NaN</td>\n",
       "      <td>NaN</td>\n",
       "      <td>NaN</td>\n",
       "      <td>31.38</td>\n",
       "    </tr>\n",
       "  </tbody>\n",
       "</table>\n",
       "</div>"
      ],
      "text/plain": [
       "                       name platform  year_of_release         genre  na_sales  \\\n",
       "0                Wii Sports      Wii             2006        Sports     41.36   \n",
       "1         Super Mario Bros.      NES             1985      Platform     29.08   \n",
       "2            Mario Kart Wii      Wii             2008        Racing     15.68   \n",
       "3         Wii Sports Resort      Wii             2009        Sports     15.61   \n",
       "4  Pokemon Red/Pokemon Blue       GB             1996  Role-Playing     11.27   \n",
       "\n",
       "   eu_sales  jp_sales  other_sales  critic_score  user_score rating  \\\n",
       "0     28.96      3.77         8.45          76.0         8.0      E   \n",
       "1      3.58      6.81         0.77           NaN         NaN    NaN   \n",
       "2     12.76      3.79         3.29          82.0         8.3      E   \n",
       "3     10.93      3.28         2.95          80.0         8.0      E   \n",
       "4      8.89     10.22         1.00           NaN         NaN    NaN   \n",
       "\n",
       "   total_revenue  \n",
       "0          82.54  \n",
       "1          40.24  \n",
       "2          35.52  \n",
       "3          32.77  \n",
       "4          31.38  "
      ]
     },
     "execution_count": 7,
     "metadata": {},
     "output_type": "execute_result"
    }
   ],
   "source": [
    "data['total_revenue'] = data[['na_sales', 'eu_sales', 'jp_sales', 'other_sales']].sum(axis=1)\n",
    "data.head()"
   ]
  },
  {
   "cell_type": "code",
   "execution_count": 8,
   "metadata": {},
   "outputs": [
    {
     "data": {
      "text/plain": [
       "0"
      ]
     },
     "execution_count": 8,
     "metadata": {},
     "output_type": "execute_result"
    }
   ],
   "source": [
    "#no full duplicates found\n",
    "data.duplicated().sum()"
   ]
  },
  {
   "cell_type": "code",
   "execution_count": 9,
   "metadata": {},
   "outputs": [
    {
     "data": {
      "text/plain": [
       "array(['Sports', 'Platform', 'Racing', 'Role-Playing', 'Puzzle', 'Misc',\n",
       "       'Shooter', 'Simulation', 'Action', 'Fighting', 'Adventure',\n",
       "       'Strategy', nan], dtype=object)"
      ]
     },
     "execution_count": 9,
     "metadata": {},
     "output_type": "execute_result"
    }
   ],
   "source": [
    "data.genre.unique()"
   ]
  },
  {
   "cell_type": "code",
   "execution_count": 10,
   "metadata": {},
   "outputs": [
    {
     "data": {
      "text/plain": [
       "31"
      ]
     },
     "execution_count": 10,
     "metadata": {},
     "output_type": "execute_result"
    }
   ],
   "source": [
    "len(data['platform'].unique())"
   ]
  },
  {
   "cell_type": "code",
   "execution_count": 11,
   "metadata": {},
   "outputs": [
    {
     "data": {
      "text/plain": [
       "Final Fantasy I & II            1\n",
       "Jampack Volume 14 (RP-T)        1\n",
       "Automobili Lamborghini          1\n",
       "Ontamarama                      1\n",
       "Forever Kingdom                 1\n",
       "                               ..\n",
       "FIFA 14                         9\n",
       "Ratatouille                     9\n",
       "Madden NFL 07                   9\n",
       "LEGO Marvel Super Heroes        9\n",
       "Need for Speed: Most Wanted    12\n",
       "Name: name, Length: 11559, dtype: int64"
      ]
     },
     "execution_count": 11,
     "metadata": {},
     "output_type": "execute_result"
    }
   ],
   "source": [
    "#there are 11,599 unique game titles.\n",
    "#It's not realistic to manually check them for duplicates by eye.\n",
    "data.name.value_counts().sort_values()"
   ]
  },
  {
   "cell_type": "markdown",
   "metadata": {},
   "source": [
    "## Exploratory data analysis"
   ]
  },
  {
   "cell_type": "code",
   "execution_count": 24,
   "metadata": {},
   "outputs": [
    {
     "data": {
      "text/plain": [
       "1980       9\n",
       "1981      46\n",
       "1982      36\n",
       "1983      17\n",
       "1984      14\n",
       "1985      14\n",
       "1986      21\n",
       "1987      16\n",
       "1988      15\n",
       "1989      17\n",
       "1990      16\n",
       "1991      41\n",
       "1992      43\n",
       "1993      62\n",
       "1994     121\n",
       "1995     219\n",
       "1996     263\n",
       "1997     289\n",
       "1998     379\n",
       "1999     338\n",
       "2000     350\n",
       "2001     482\n",
       "2002     829\n",
       "2003     775\n",
       "2004     762\n",
       "2005     939\n",
       "2006    1006\n",
       "2007    1197\n",
       "2008    1427\n",
       "2009    1426\n",
       "2010    1255\n",
       "2011    1136\n",
       "2012     653\n",
       "2013     544\n",
       "2014     581\n",
       "2015     606\n",
       "2016     502\n",
       "Name: year_of_release, dtype: Int64"
      ]
     },
     "execution_count": 24,
     "metadata": {},
     "output_type": "execute_result"
    }
   ],
   "source": [
    "data['year_of_release'].value_counts().sort_index()"
   ]
  },
  {
   "cell_type": "code",
   "execution_count": 36,
   "metadata": {},
   "outputs": [
    {
     "data": {
      "image/png": "[encoded data removed]",
      "text/plain": [
       "<Figure size 432x288 with 1 Axes>"
      ]
     },
     "metadata": {
      "needs_background": "light"
     },
     "output_type": "display_data"
    }
   ],
   "source": [
    "plt.plot(range(data['year_of_release'].value_counts().shape[0]), \n",
    "         data['year_of_release'].value_counts().sort_index().tolist())\n",
    "plt.xticks(range(data['year_of_release'].value_counts().shape[0]), \n",
    "           data['year_of_release'].value_counts().sort_index().index, rotation=90, size=7)\n",
    "plt.ylabel('total sellings')\n",
    "plt.show()"
   ]
  },
  {
   "cell_type": "code",
   "execution_count": 37,
   "metadata": {},
   "outputs": [
    {
     "data": {
      "text/plain": [
       "822.3000000000001"
      ]
     },
     "execution_count": 37,
     "metadata": {},
     "output_type": "execute_result"
    }
   ],
   "source": [
    "data['year_of_release'].value_counts().sum()*0.05"
   ]
  },
  {
   "cell_type": "code",
   "execution_count": 38,
   "metadata": {},
   "outputs": [
    {
     "name": "stdout",
     "output_type": "stream",
     "text": [
      "Актуальный период для анализа начинается с 1996 года\n"
     ]
    }
   ],
   "source": [
    "c = 0\n",
    "\n",
    "for year, count in data['year_of_release'].value_counts().sort_values().iteritems():\n",
    "    c += count\n",
    "    if c >= data['year_of_release'].value_counts().sum()*0.05:\n",
    "        print(f'The relevant period for analysis begins in {year}')\n",
    "        break"
   ]
  },
  {
   "cell_type": "markdown",
   "metadata": {},
   "source": [
    "Until 1993, fewer than 100 games were released per year, and until 1996, fewer than 20 games per year. We can safely remove data for the years in which less than 5% of the total analyzed games (822 games) were released (see code above). In our case, it makes sense to start the analysis from 1996."
   ]
  },
  {
   "cell_type": "code",
   "execution_count": 39,
   "metadata": {},
   "outputs": [
    {
     "data": {
      "text/plain": [
       "GG         1\n",
       "PCFX       1\n",
       "TG16       2\n",
       "3DO        3\n",
       "WS         6\n",
       "SCD        6\n",
       "NG        12\n",
       "GEN       29\n",
       "DC        52\n",
       "NES       98\n",
       "GB        98\n",
       "2600     133\n",
       "WiiU     147\n",
       "SAT      173\n",
       "SNES     239\n",
       "XOne     247\n",
       "N64      319\n",
       "PS4      392\n",
       "PSV      430\n",
       "3DS      520\n",
       "GC       556\n",
       "GBA      822\n",
       "XB       824\n",
       "PC       974\n",
       "PS      1197\n",
       "PSP     1209\n",
       "X360    1262\n",
       "Wii     1320\n",
       "PS3     1331\n",
       "DS      2151\n",
       "PS2     2161\n",
       "Name: platform, dtype: int64"
      ]
     },
     "execution_count": 39,
     "metadata": {},
     "output_type": "execute_result"
    }
   ],
   "source": [
    "data['platform'].value_counts().sort_values()"
   ]
  },
  {
   "cell_type": "markdown",
   "metadata": {},
   "source": [
    "Let's build sales statistics by year for all platforms with more than 1,000 total sales per year:"
   ]
  },
  {
   "cell_type": "code",
   "execution_count": 40,
   "metadata": {},
   "outputs": [
    {
     "data": {
      "image/png": "[encoded data removed]",
      "text/plain": [
       "<Figure size 432x288 with 1 Axes>"
      ]
     },
     "metadata": {
      "needs_background": "light"
     },
     "output_type": "display_data"
    },
    {
     "data": {
      "image/png": "[encoded data removed]",
      "text/plain": [
       "<Figure size 432x288 with 1 Axes>"
      ]
     },
     "metadata": {
      "needs_background": "light"
     },
     "output_type": "display_data"
    },
    {
     "data": {
      "image/png": "[encoded data removed]",
      "text/plain": [
       "<Figure size 432x288 with 1 Axes>"
      ]
     },
     "metadata": {
      "needs_background": "light"
     },
     "output_type": "display_data"
    },
    {
     "data": {
      "image/png": "[encoded data removed]",
      "text/plain": [
       "<Figure size 432x288 with 1 Axes>"
      ]
     },
     "metadata": {
      "needs_background": "light"
     },
     "output_type": "display_data"
    },
    {
     "data": {
      "image/png": "[encoded data removed]",
      "text/plain": [
       "<Figure size 432x288 with 1 Axes>"
      ]
     },
     "metadata": {
      "needs_background": "light"
     },
     "output_type": "display_data"
    },
    {
     "data": {
      "image/png": "[encoded data removed]",
      "text/plain": [
       "<Figure size 432x288 with 1 Axes>"
      ]
     },
     "metadata": {
      "needs_background": "light"
     },
     "output_type": "display_data"
    },
    {
     "data": {
      "image/png": "[encoded data removed]",
      "text/plain": [
       "<Figure size 432x288 with 1 Axes>"
      ]
     },
     "metadata": {
      "needs_background": "light"
     },
     "output_type": "display_data"
    }
   ],
   "source": [
    "for platform, count in data['platform'].value_counts().sort_values().iteritems():\n",
    "    if count > 1000:\n",
    "        d = data.query('platform == @platform')\n",
    "        d['year_of_release'].plot.hist(bins = 30)\n",
    "        plt.title(platform)\n",
    "        plt.xlabel('year')\n",
    "        plt.show()"
   ]
  },
  {
   "cell_type": "markdown",
   "metadata": {},
   "source": [
    "Conclusion: Seven platforms lead in game sales. Sales on these platforms have a distribution close to normal, with a peak in sales occurring around the 5th year of their existence. New platforms emerge and old ones disappear, on average, every 10 years."
   ]
  },
  {
   "cell_type": "markdown",
   "metadata": {},
   "source": [
    "We are interested only in platforms that are likely to still exist in 2017 and games released after 1996. Given that the average lifespan of major platforms is around 10 years and the industry evolves rapidly with trends changing every 2-3 years, we will filter out games released before 2013."
   ]
  },
  {
   "cell_type": "code",
   "execution_count": 41,
   "metadata": {},
   "outputs": [
    {
     "data": {
      "text/plain": [
       "(16715, 12)"
      ]
     },
     "execution_count": 41,
     "metadata": {},
     "output_type": "execute_result"
    }
   ],
   "source": [
    "data.shape"
   ]
  },
  {
   "cell_type": "code",
   "execution_count": 42,
   "metadata": {},
   "outputs": [
    {
     "data": {
      "text/plain": [
       "(2233, 12)"
      ]
     },
     "execution_count": 42,
     "metadata": {},
     "output_type": "execute_result"
    }
   ],
   "source": [
    "data = data[data['year_of_release'] >= 2013]\n",
    "data.shape"
   ]
  },
  {
   "cell_type": "code",
   "execution_count": 43,
   "metadata": {},
   "outputs": [
    {
     "data": {
      "image/png": "[encoded data removed]",
      "text/plain": [
       "<Figure size 432x288 with 1 Axes>"
      ]
     },
     "metadata": {
      "needs_background": "light"
     },
     "output_type": "display_data"
    },
    {
     "data": {
      "image/png": "[encoded data removed]",
      "text/plain": [
       "<Figure size 432x288 with 1 Axes>"
      ]
     },
     "metadata": {
      "needs_background": "light"
     },
     "output_type": "display_data"
    },
    {
     "data": {
      "image/png": "[encoded data removed]",
      "text/plain": [
       "<Figure size 432x288 with 1 Axes>"
      ]
     },
     "metadata": {
      "needs_background": "light"
     },
     "output_type": "display_data"
    },
    {
     "data": {
      "image/png": "[encoded data removed]",
      "text/plain": [
       "<Figure size 432x288 with 1 Axes>"
      ]
     },
     "metadata": {
      "needs_background": "light"
     },
     "output_type": "display_data"
    },
    {
     "data": {
      "image/png": "[encoded data removed]",
      "text/plain": [
       "<Figure size 432x288 with 1 Axes>"
      ]
     },
     "metadata": {
      "needs_background": "light"
     },
     "output_type": "display_data"
    },
    {
     "data": {
      "image/png": "[encoded data removed]",
      "text/plain": [
       "<Figure size 432x288 with 1 Axes>"
      ]
     },
     "metadata": {
      "needs_background": "light"
     },
     "output_type": "display_data"
    },
    {
     "data": {
      "image/png": "[encoded data removed]",
      "text/plain": [
       "<Figure size 432x288 with 1 Axes>"
      ]
     },
     "metadata": {
      "needs_background": "light"
     },
     "output_type": "display_data"
    },
    {
     "data": {
      "image/png": "[encoded data removed]",
      "text/plain": [
       "<Figure size 432x288 with 1 Axes>"
      ]
     },
     "metadata": {
      "needs_background": "light"
     },
     "output_type": "display_data"
    },
    {
     "data": {
      "image/png": "[encoded data removed]",
      "text/plain": [
       "<Figure size 432x288 with 1 Axes>"
      ]
     },
     "metadata": {
      "needs_background": "light"
     },
     "output_type": "display_data"
    },
    {
     "data": {
      "image/png": "[encoded data removed]",
      "text/plain": [
       "<Figure size 432x288 with 1 Axes>"
      ]
     },
     "metadata": {
      "needs_background": "light"
     },
     "output_type": "display_data"
    },
    {
     "data": {
      "image/png": "[encoded data removed]",
      "text/plain": [
       "<Figure size 432x288 with 1 Axes>"
      ]
     },
     "metadata": {
      "needs_background": "light"
     },
     "output_type": "display_data"
    }
   ],
   "source": [
    "for platform, count in data['platform'].value_counts().sort_values().iteritems():\n",
    "    d = data.query('platform == @platform')\n",
    "    d['year_of_release'].plot.hist(bins = 30)\n",
    "    plt.title(platform)\n",
    "    plt.xticks(rotation=90)\n",
    "    plt.xlabel('year')\n",
    "    plt.show()"
   ]
  },
  {
   "cell_type": "markdown",
   "metadata": {},
   "source": [
    "I identified the following potentially profitable platforms:\n",
    "\n",
    "PS4: Sales are increasing.\n",
    "XOne: Sales are rising.\n",
    "PSV: Sales have been growing since 2013 and seem to have peaked in 2015.\n",
    "3DS: Sales are significant.\n",
    "PC: Sales are relatively low but evenly distributed since 2013."
   ]
  },
  {
   "cell_type": "code",
   "execution_count": 44,
   "metadata": {},
   "outputs": [
    {
     "data": {
      "text/html": [
       "<div>\n",
       "<style scoped>\n",
       "    .dataframe tbody tr th:only-of-type {\n",
       "        vertical-align: middle;\n",
       "    }\n",
       "\n",
       "    .dataframe tbody tr th {\n",
       "        vertical-align: top;\n",
       "    }\n",
       "\n",
       "    .dataframe thead th {\n",
       "        text-align: right;\n",
       "    }\n",
       "</style>\n",
       "<table border=\"1\" class=\"dataframe\">\n",
       "  <thead>\n",
       "    <tr style=\"text-align: right;\">\n",
       "      <th></th>\n",
       "      <th>name</th>\n",
       "      <th>platform</th>\n",
       "      <th>year_of_release</th>\n",
       "      <th>genre</th>\n",
       "      <th>na_sales</th>\n",
       "      <th>eu_sales</th>\n",
       "      <th>jp_sales</th>\n",
       "      <th>other_sales</th>\n",
       "      <th>critic_score</th>\n",
       "      <th>user_score</th>\n",
       "      <th>rating</th>\n",
       "      <th>total_revenue</th>\n",
       "    </tr>\n",
       "  </thead>\n",
       "  <tbody>\n",
       "    <tr>\n",
       "      <th>16</th>\n",
       "      <td>Grand Theft Auto V</td>\n",
       "      <td>PS3</td>\n",
       "      <td>2013</td>\n",
       "      <td>Action</td>\n",
       "      <td>7.02</td>\n",
       "      <td>9.09</td>\n",
       "      <td>0.98</td>\n",
       "      <td>3.96</td>\n",
       "      <td>97.0</td>\n",
       "      <td>8.2</td>\n",
       "      <td>M</td>\n",
       "      <td>21.05</td>\n",
       "    </tr>\n",
       "    <tr>\n",
       "      <th>23</th>\n",
       "      <td>Grand Theft Auto V</td>\n",
       "      <td>X360</td>\n",
       "      <td>2013</td>\n",
       "      <td>Action</td>\n",
       "      <td>9.66</td>\n",
       "      <td>5.14</td>\n",
       "      <td>0.06</td>\n",
       "      <td>1.41</td>\n",
       "      <td>97.0</td>\n",
       "      <td>8.1</td>\n",
       "      <td>M</td>\n",
       "      <td>16.27</td>\n",
       "    </tr>\n",
       "    <tr>\n",
       "      <th>31</th>\n",
       "      <td>Call of Duty: Black Ops 3</td>\n",
       "      <td>PS4</td>\n",
       "      <td>2015</td>\n",
       "      <td>Shooter</td>\n",
       "      <td>6.03</td>\n",
       "      <td>5.86</td>\n",
       "      <td>0.36</td>\n",
       "      <td>2.38</td>\n",
       "      <td>NaN</td>\n",
       "      <td>NaN</td>\n",
       "      <td>NaN</td>\n",
       "      <td>14.63</td>\n",
       "    </tr>\n",
       "    <tr>\n",
       "      <th>33</th>\n",
       "      <td>Pokemon X/Pokemon Y</td>\n",
       "      <td>3DS</td>\n",
       "      <td>2013</td>\n",
       "      <td>Role-Playing</td>\n",
       "      <td>5.28</td>\n",
       "      <td>4.19</td>\n",
       "      <td>4.35</td>\n",
       "      <td>0.78</td>\n",
       "      <td>NaN</td>\n",
       "      <td>NaN</td>\n",
       "      <td>NaN</td>\n",
       "      <td>14.60</td>\n",
       "    </tr>\n",
       "    <tr>\n",
       "      <th>42</th>\n",
       "      <td>Grand Theft Auto V</td>\n",
       "      <td>PS4</td>\n",
       "      <td>2014</td>\n",
       "      <td>Action</td>\n",
       "      <td>3.96</td>\n",
       "      <td>6.31</td>\n",
       "      <td>0.38</td>\n",
       "      <td>1.97</td>\n",
       "      <td>97.0</td>\n",
       "      <td>8.3</td>\n",
       "      <td>M</td>\n",
       "      <td>12.62</td>\n",
       "    </tr>\n",
       "  </tbody>\n",
       "</table>\n",
       "</div>"
      ],
      "text/plain": [
       "                         name platform  year_of_release         genre  \\\n",
       "16         Grand Theft Auto V      PS3             2013        Action   \n",
       "23         Grand Theft Auto V     X360             2013        Action   \n",
       "31  Call of Duty: Black Ops 3      PS4             2015       Shooter   \n",
       "33        Pokemon X/Pokemon Y      3DS             2013  Role-Playing   \n",
       "42         Grand Theft Auto V      PS4             2014        Action   \n",
       "\n",
       "    na_sales  eu_sales  jp_sales  other_sales  critic_score  user_score  \\\n",
       "16      7.02      9.09      0.98         3.96          97.0         8.2   \n",
       "23      9.66      5.14      0.06         1.41          97.0         8.1   \n",
       "31      6.03      5.86      0.36         2.38           NaN         NaN   \n",
       "33      5.28      4.19      4.35         0.78           NaN         NaN   \n",
       "42      3.96      6.31      0.38         1.97          97.0         8.3   \n",
       "\n",
       "   rating  total_revenue  \n",
       "16      M          21.05  \n",
       "23      M          16.27  \n",
       "31    NaN          14.63  \n",
       "33    NaN          14.60  \n",
       "42      M          12.62  "
      ]
     },
     "execution_count": 44,
     "metadata": {},
     "output_type": "execute_result"
    }
   ],
   "source": [
    "data.head()"
   ]
  },
  {
   "cell_type": "code",
   "execution_count": 47,
   "metadata": {},
   "outputs": [
    {
     "data": {
      "image/png": "[encoded data removed]",
      "text/plain": [
       "<Figure size 432x288 with 1 Axes>"
      ]
     },
     "metadata": {
      "needs_background": "light"
     },
     "output_type": "display_data"
    }
   ],
   "source": [
    "sns.boxplot(x = 'platform', y = 'total_revenue', data=data)\n",
    "\n",
    "plt.grid(True)\n",
    "plt.xticks(rotation=90)\n",
    "plt.ylim(0, 10)\n",
    "plt.title('total revenue for all platforms')\n",
    "plt.show()"
   ]
  },
  {
   "cell_type": "code",
   "execution_count": 48,
   "metadata": {},
   "outputs": [
    {
     "data": {
      "image/png": "[encoded data removed]",
      "text/plain": [
       "<Figure size 432x288 with 1 Axes>"
      ]
     },
     "metadata": {
      "needs_background": "light"
     },
     "output_type": "display_data"
    }
   ],
   "source": [
    "sns.boxplot(x = 'platform', y = 'total_revenue', data=data[data['platform'].isin(['PS4', 'XOne', 'PSV', '3DS', 'PC'])])\n",
    "\n",
    "plt.grid(True)\n",
    "plt.xticks(rotation=90)\n",
    "plt.ylim(0, 10)\n",
    "plt.title('total revenue for perspective platforms')\n",
    "plt.show()"
   ]
  },
  {
   "cell_type": "markdown",
   "metadata": {},
   "source": [
    "The boxplot reveals that the highest sales are on platforms such as Wii, X360, PS3, and DS, while the lowest sales are on XB, GC, and DC. Notably, the GBA platform has the most uniform sales, with no outliers beyond the whiskers, whereas other platforms have many games with exceptionally high sales that can be considered outliers."
   ]
  },
  {
   "cell_type": "markdown",
   "metadata": {},
   "source": [
    "Let's take a closer look at the example of one of the potentially promising platforms, PS4:"
   ]
  },
  {
   "cell_type": "code",
   "execution_count": 49,
   "metadata": {},
   "outputs": [
    {
     "data": {
      "text/html": [
       "<div>\n",
       "<style scoped>\n",
       "    .dataframe tbody tr th:only-of-type {\n",
       "        vertical-align: middle;\n",
       "    }\n",
       "\n",
       "    .dataframe tbody tr th {\n",
       "        vertical-align: top;\n",
       "    }\n",
       "\n",
       "    .dataframe thead th {\n",
       "        text-align: right;\n",
       "    }\n",
       "</style>\n",
       "<table border=\"1\" class=\"dataframe\">\n",
       "  <thead>\n",
       "    <tr style=\"text-align: right;\">\n",
       "      <th></th>\n",
       "      <th>name</th>\n",
       "      <th>platform</th>\n",
       "      <th>year_of_release</th>\n",
       "      <th>genre</th>\n",
       "      <th>na_sales</th>\n",
       "      <th>eu_sales</th>\n",
       "      <th>jp_sales</th>\n",
       "      <th>other_sales</th>\n",
       "      <th>critic_score</th>\n",
       "      <th>user_score</th>\n",
       "      <th>rating</th>\n",
       "      <th>total_revenue</th>\n",
       "    </tr>\n",
       "  </thead>\n",
       "  <tbody>\n",
       "    <tr>\n",
       "      <th>31</th>\n",
       "      <td>Call of Duty: Black Ops 3</td>\n",
       "      <td>PS4</td>\n",
       "      <td>2015</td>\n",
       "      <td>Shooter</td>\n",
       "      <td>6.03</td>\n",
       "      <td>5.86</td>\n",
       "      <td>0.36</td>\n",
       "      <td>2.38</td>\n",
       "      <td>NaN</td>\n",
       "      <td>NaN</td>\n",
       "      <td>NaN</td>\n",
       "      <td>14.63</td>\n",
       "    </tr>\n",
       "    <tr>\n",
       "      <th>42</th>\n",
       "      <td>Grand Theft Auto V</td>\n",
       "      <td>PS4</td>\n",
       "      <td>2014</td>\n",
       "      <td>Action</td>\n",
       "      <td>3.96</td>\n",
       "      <td>6.31</td>\n",
       "      <td>0.38</td>\n",
       "      <td>1.97</td>\n",
       "      <td>97.0</td>\n",
       "      <td>8.3</td>\n",
       "      <td>M</td>\n",
       "      <td>12.62</td>\n",
       "    </tr>\n",
       "    <tr>\n",
       "      <th>77</th>\n",
       "      <td>FIFA 16</td>\n",
       "      <td>PS4</td>\n",
       "      <td>2015</td>\n",
       "      <td>Sports</td>\n",
       "      <td>1.12</td>\n",
       "      <td>6.12</td>\n",
       "      <td>0.06</td>\n",
       "      <td>1.28</td>\n",
       "      <td>82.0</td>\n",
       "      <td>4.3</td>\n",
       "      <td>E</td>\n",
       "      <td>8.58</td>\n",
       "    </tr>\n",
       "    <tr>\n",
       "      <th>87</th>\n",
       "      <td>Star Wars Battlefront (2015)</td>\n",
       "      <td>PS4</td>\n",
       "      <td>2015</td>\n",
       "      <td>Shooter</td>\n",
       "      <td>2.99</td>\n",
       "      <td>3.49</td>\n",
       "      <td>0.22</td>\n",
       "      <td>1.28</td>\n",
       "      <td>NaN</td>\n",
       "      <td>NaN</td>\n",
       "      <td>NaN</td>\n",
       "      <td>7.98</td>\n",
       "    </tr>\n",
       "    <tr>\n",
       "      <th>92</th>\n",
       "      <td>Call of Duty: Advanced Warfare</td>\n",
       "      <td>PS4</td>\n",
       "      <td>2014</td>\n",
       "      <td>Shooter</td>\n",
       "      <td>2.81</td>\n",
       "      <td>3.48</td>\n",
       "      <td>0.14</td>\n",
       "      <td>1.23</td>\n",
       "      <td>83.0</td>\n",
       "      <td>5.7</td>\n",
       "      <td>M</td>\n",
       "      <td>7.66</td>\n",
       "    </tr>\n",
       "  </tbody>\n",
       "</table>\n",
       "</div>"
      ],
      "text/plain": [
       "                              name platform  year_of_release    genre  \\\n",
       "31       Call of Duty: Black Ops 3      PS4             2015  Shooter   \n",
       "42              Grand Theft Auto V      PS4             2014   Action   \n",
       "77                         FIFA 16      PS4             2015   Sports   \n",
       "87    Star Wars Battlefront (2015)      PS4             2015  Shooter   \n",
       "92  Call of Duty: Advanced Warfare      PS4             2014  Shooter   \n",
       "\n",
       "    na_sales  eu_sales  jp_sales  other_sales  critic_score  user_score  \\\n",
       "31      6.03      5.86      0.36         2.38           NaN         NaN   \n",
       "42      3.96      6.31      0.38         1.97          97.0         8.3   \n",
       "77      1.12      6.12      0.06         1.28          82.0         4.3   \n",
       "87      2.99      3.49      0.22         1.28           NaN         NaN   \n",
       "92      2.81      3.48      0.14         1.23          83.0         5.7   \n",
       "\n",
       "   rating  total_revenue  \n",
       "31    NaN          14.63  \n",
       "42      M          12.62  \n",
       "77      E           8.58  \n",
       "87    NaN           7.98  \n",
       "92      M           7.66  "
      ]
     },
     "execution_count": 49,
     "metadata": {},
     "output_type": "execute_result"
    }
   ],
   "source": [
    "d = data.query('platform == \"PS4\"')\n",
    "d.head()"
   ]
  },
  {
   "cell_type": "code",
   "execution_count": 50,
   "metadata": {},
   "outputs": [
    {
     "data": {
      "image/png": "[encoded data removed]",
      "text/plain": [
       "<Figure size 432x288 with 1 Axes>"
      ]
     },
     "metadata": {
      "needs_background": "light"
     },
     "output_type": "display_data"
    }
   ],
   "source": [
    "c = st.pearsonr(d.dropna(subset = ['user_score'])['user_score'], d.dropna(subset = ['user_score'])['total_revenue']).statistic\n",
    "\n",
    "plt.scatter(d['user_score'], d['total_revenue'])\n",
    "plt.title(f'User score vs total sales on PS4 platform (correlation = {c})')\n",
    "plt.xlabel('User score')\n",
    "plt.ylabel('Total sales')\n",
    "plt.show()"
   ]
  },
  {
   "cell_type": "code",
   "execution_count": 51,
   "metadata": {},
   "outputs": [
    {
     "data": {
      "image/png": "[encoded data removed]",
      "text/plain": [
       "<Figure size 432x288 with 1 Axes>"
      ]
     },
     "metadata": {
      "needs_background": "light"
     },
     "output_type": "display_data"
    }
   ],
   "source": [
    "c = st.pearsonr(d.dropna(subset = ['critic_score'])['critic_score'], d.dropna(subset = ['critic_score'])['total_revenue']).statistic\n",
    "\n",
    "plt.scatter(d['critic_score'], d['total_revenue'])\n",
    "plt.title(f'Critic score vs total sales on PS4 platform (correlation = {c})')\n",
    "plt.xlabel('Critic score')\n",
    "plt.ylabel('Total sales')\n",
    "plt.show()"
   ]
  },
  {
   "cell_type": "markdown",
   "metadata": {},
   "source": [
    "Conclusion: User ratings have little to no impact on sales, whereas critic ratings have a moderate influence on sales, with a correlation coefficient of 0.4."
   ]
  },
  {
   "cell_type": "code",
   "execution_count": 52,
   "metadata": {},
   "outputs": [
    {
     "name": "stdout",
     "output_type": "stream",
     "text": [
      "For 3DS platform, the correlation between user score and sales = 0.242; \n",
      "        the correlation between critics score and sales = 0.357\n",
      "\n",
      "Data is not sufficient for platform DS\n",
      "\n",
      "For PC platform, the correlation between user score and sales = -0.094; \n",
      "        the correlation between critics score and sales = 0.196\n",
      "\n",
      "For PS3 platform, the correlation between user score and sales = 0.002; \n",
      "        the correlation between critics score and sales = 0.334\n",
      "\n",
      "For PS4 platform, the correlation between user score and sales = -0.032; \n",
      "        the correlation between critics score and sales = 0.407\n",
      "\n",
      "Data is not sufficient for platform PSP\n",
      "\n",
      "For PSV platform, the correlation between user score and sales = 0.001; \n",
      "        the correlation between critics score and sales = 0.255\n",
      "\n",
      "Data is not sufficient for platform Wii\n",
      "\n",
      "For WiiU platform, the correlation between user score and sales = 0.419; \n",
      "        the correlation between critics score and sales = 0.376\n",
      "\n",
      "For X360 platform, the correlation between user score and sales = -0.012; \n",
      "        the correlation between critics score and sales = 0.35\n",
      "\n",
      "For XOne platform, the correlation between user score and sales = -0.069; \n",
      "        the correlation between critics score and sales = 0.417\n",
      "\n"
     ]
    }
   ],
   "source": [
    "for platform, d in data.groupby('platform'):\n",
    "    try:\n",
    "        u = st.pearsonr(d.dropna(subset = ['user_score'])['user_score'], d.dropna(subset = ['user_score'])['total_revenue']).statistic\n",
    "        c = st.pearsonr(d.dropna(subset = ['critic_score'])['critic_score'], d.dropna(subset = ['critic_score'])['total_revenue']).statistic\n",
    "        print(f'''For {platform} platform, the correlation between user score and sales = {np.round(u, 3)}; \n",
    "        the correlation between critics score and sales = {np.round(c, 3)}\\n''')\n",
    "    except Exception:\n",
    "        print(f'Data is not sufficient for platform {platform}\\n')\n",
    "        continue"
   ]
  },
  {
   "cell_type": "markdown",
   "metadata": {},
   "source": [
    "Conclusion: Overall, there is a trend indicating that critic ratings have a greater impact on sales than user ratings. The only exception to this rule is the WiiU platform."
   ]
  },
  {
   "cell_type": "code",
   "execution_count": 53,
   "metadata": {},
   "outputs": [
    {
     "data": {
      "image/png": "[encoded data removed]",
      "text/plain": [
       "<Figure size 432x288 with 1 Axes>"
      ]
     },
     "metadata": {
      "needs_background": "light"
     },
     "output_type": "display_data"
    }
   ],
   "source": [
    "data['genre'].value_counts().plot(kind = 'bar')\n",
    "plt.title('Game Distribution by Genres')\n",
    "plt.xlabel('Genre')\n",
    "plt.ylabel('N sold')\n",
    "plt.show()"
   ]
  },
  {
   "cell_type": "code",
   "execution_count": 56,
   "metadata": {},
   "outputs": [
    {
     "data": {
      "image/png": "[encoded data removed]",
      "text/plain": [
       "<Figure size 432x288 with 1 Axes>"
      ]
     },
     "metadata": {
      "needs_background": "light"
     },
     "output_type": "display_data"
    }
   ],
   "source": [
    "data.groupby('genre')['total_revenue'].median().plot(kind = 'bar')\n",
    "plt.title('Game Distribution by Genres')\n",
    "plt.xlabel('Genre')\n",
    "plt.ylabel('Total revenue')\n",
    "plt.show()"
   ]
  },
  {
   "cell_type": "markdown",
   "metadata": {},
   "source": [
    "The genre with the highest number of games produced is Action, by a significant margin.\n",
    "\n",
    "The genres with the fewest games produced are Fighting, Strategy, and Puzzle.\n",
    "\n",
    "The highest median revenue is observed in the Shooter and Sports genres.\n",
    "\n",
    "The lowest median revenue is found in the Adventure and Puzzle genres."
   ]
  },
  {
   "cell_type": "markdown",
   "metadata": {},
   "source": [
    "## Users portrait by region"
   ]
  },
  {
   "cell_type": "code",
   "execution_count": 57,
   "metadata": {},
   "outputs": [],
   "source": [
    "platform_sales = data.groupby('platform')[['na_sales', 'eu_sales', 'jp_sales']].sum()"
   ]
  },
  {
   "cell_type": "code",
   "execution_count": 58,
   "metadata": {},
   "outputs": [
    {
     "name": "stdout",
     "output_type": "stream",
     "text": [
      "na_sales: \n",
      "platform\n",
      "PS4     108.74\n",
      "XOne     93.12\n",
      "X360     81.66\n",
      "PS3      63.50\n",
      "3DS      38.20\n",
      "Name: na_sales, dtype: float64\n"
     ]
    },
    {
     "data": {
      "image/png": "[encoded data removed]",
      "text/plain": [
       "<Figure size 432x288 with 1 Axes>"
      ]
     },
     "metadata": {},
     "output_type": "display_data"
    },
    {
     "name": "stdout",
     "output_type": "stream",
     "text": [
      "\n",
      "eu_sales: \n",
      "platform\n",
      "PS4     141.09\n",
      "PS3      67.81\n",
      "XOne     51.59\n",
      "X360     42.52\n",
      "3DS      30.96\n",
      "Name: eu_sales, dtype: float64\n"
     ]
    },
    {
     "data": {
      "image/png": "[encoded data removed]",
      "text/plain": [
       "<Figure size 432x288 with 1 Axes>"
      ]
     },
     "metadata": {},
     "output_type": "display_data"
    },
    {
     "name": "stdout",
     "output_type": "stream",
     "text": [
      "\n",
      "jp_sales: \n",
      "platform\n",
      "3DS     67.81\n",
      "PS3     23.35\n",
      "PSV     18.59\n",
      "PS4     15.96\n",
      "WiiU    10.88\n",
      "Name: jp_sales, dtype: float64\n"
     ]
    },
    {
     "data": {
      "image/png": "[encoded data removed]",
      "text/plain": [
       "<Figure size 432x288 with 1 Axes>"
      ]
     },
     "metadata": {},
     "output_type": "display_data"
    },
    {
     "name": "stdout",
     "output_type": "stream",
     "text": [
      "\n"
     ]
    }
   ],
   "source": [
    "for s in ['na_sales', 'eu_sales', 'jp_sales']:\n",
    "    print(f'{s}: ')\n",
    "    print(platform_sales[s].sort_values(ascending = False)[:5])\n",
    "    plt.pie(platform_sales[s].sort_values(ascending = False)[:5], \n",
    "            labels = platform_sales[s].sort_values(ascending = False)[:5].index)\n",
    "    plt.show()\n",
    "    print()"
   ]
  },
  {
   "cell_type": "markdown",
   "metadata": {},
   "source": [
    "In Japan, sales on the top 5 platforms are distributed less evenly compared to Europe and North America.\n",
    "In America and Europe, the most popular games are on the PS4 platform, while in Japan, the DS platform is the most popular."
   ]
  },
  {
   "cell_type": "code",
   "execution_count": 59,
   "metadata": {},
   "outputs": [],
   "source": [
    "genre_sales = data.groupby('genre')[['na_sales', 'eu_sales', 'jp_sales']].sum()"
   ]
  },
  {
   "cell_type": "code",
   "execution_count": 60,
   "metadata": {},
   "outputs": [
    {
     "name": "stdout",
     "output_type": "stream",
     "text": [
      "na_sales: \n",
      "genre\n",
      "Action          126.05\n",
      "Shooter         109.74\n",
      "Sports           65.27\n",
      "Role-Playing     46.40\n",
      "Misc             27.49\n",
      "Name: na_sales, dtype: float64\n"
     ]
    },
    {
     "data": {
      "image/png": "[encoded data removed]",
      "text/plain": [
       "<Figure size 432x288 with 1 Axes>"
      ]
     },
     "metadata": {},
     "output_type": "display_data"
    },
    {
     "name": "stdout",
     "output_type": "stream",
     "text": [
      "\n",
      "eu_sales: \n",
      "genre\n",
      "Action          118.13\n",
      "Shooter          87.86\n",
      "Sports           60.52\n",
      "Role-Playing     36.97\n",
      "Racing           20.19\n",
      "Name: eu_sales, dtype: float64\n"
     ]
    },
    {
     "data": {
      "image/png": "[encoded data removed]",
      "text/plain": [
       "<Figure size 432x288 with 1 Axes>"
      ]
     },
     "metadata": {},
     "output_type": "display_data"
    },
    {
     "name": "stdout",
     "output_type": "stream",
     "text": [
      "\n",
      "jp_sales: \n",
      "genre\n",
      "Role-Playing    51.04\n",
      "Action          40.49\n",
      "Misc             9.20\n",
      "Fighting         7.65\n",
      "Shooter          6.61\n",
      "Name: jp_sales, dtype: float64\n"
     ]
    },
    {
     "data": {
      "image/png": "[encoded data removed]",
      "text/plain": [
       "<Figure size 432x288 with 1 Axes>"
      ]
     },
     "metadata": {},
     "output_type": "display_data"
    },
    {
     "name": "stdout",
     "output_type": "stream",
     "text": [
      "\n"
     ]
    }
   ],
   "source": [
    "for s in ['na_sales', 'eu_sales', 'jp_sales']:\n",
    "    print(f'{s}: ')\n",
    "    print(genre_sales[s].sort_values(ascending = False)[:5])\n",
    "    plt.pie(genre_sales[s].sort_values(ascending = False)[:5], \n",
    "            labels = genre_sales[s].sort_values(ascending = False)[:5].index)\n",
    "    plt.show()\n",
    "    print()"
   ]
  },
  {
   "cell_type": "markdown",
   "metadata": {},
   "source": [
    "In Europe and America, the most popular genre is Action.\n",
    "In Japan, Role Playing is the overwhelmingly most popular genre.\n",
    "The Racing genre is popular only in Europe."
   ]
  },
  {
   "cell_type": "code",
   "execution_count": 62,
   "metadata": {},
   "outputs": [
    {
     "data": {
      "image/png": "[encoded data removed]",
      "text/plain": [
       "<Figure size 432x288 with 1 Axes>"
      ]
     },
     "metadata": {
      "needs_background": "light"
     },
     "output_type": "display_data"
    },
    {
     "data": {
      "image/png": "[encoded data removed]",
      "text/plain": [
       "<Figure size 432x288 with 1 Axes>"
      ]
     },
     "metadata": {
      "needs_background": "light"
     },
     "output_type": "display_data"
    },
    {
     "data": {
      "image/png": "[encoded data removed]",
      "text/plain": [
       "<Figure size 432x288 with 1 Axes>"
      ]
     },
     "metadata": {
      "needs_background": "light"
     },
     "output_type": "display_data"
    }
   ],
   "source": [
    "for region in ['na_sales', 'eu_sales', 'jp_sales']:\n",
    "    data.boxplot(column = region, by = 'rating')\n",
    "    plt.ylabel('sales')\n",
    "    plt.show()"
   ]
  },
  {
   "cell_type": "markdown",
   "metadata": {},
   "source": [
    "Conclusion:\n",
    "\n",
    "ESRB Ratings do influence sales across regions.\n",
    "\n",
    "Games with an E10+ (Everyone older than 10) rating tend to sell the worst, likely because these are often children's games, and parents generally buy games for themselves.\n",
    "\n",
    "In America and Europe, games with an Mature rating sell the best, whereas in Japan, games with an Everyone rating are the most popular."
   ]
  },
  {
   "cell_type": "markdown",
   "metadata": {},
   "source": [
    "## Hypothesis testing"
   ]
  },
  {
   "cell_type": "markdown",
   "metadata": {},
   "source": [
    "Hypothesis: The average user ratings for the Xbox One and PC platforms are the same."
   ]
  },
  {
   "cell_type": "markdown",
   "metadata": {},
   "source": [
    "H0: The average user ratings for the Xbox One and PC platforms are the same.\n",
    "\n",
    "H1: The average user ratings for the Xbox One and PC platforms are different in either direction.\n",
    "\n",
    "To address this, it makes sense to use the two-sided independent t-test (st.ttest_ind) since we are not concerned with the direction of the difference in average ratings. We'll use the standard significance level of 5% for the p-value."
   ]
  },
  {
   "cell_type": "code",
   "execution_count": 63,
   "metadata": {},
   "outputs": [
    {
     "name": "stdout",
     "output_type": "stream",
     "text": [
      "Отвергаем гипотезу о том, что средние пользовательские рейтинги платформ Xbox One и PC одинаковые; \n",
      "    p-value теста = 0.14012658403611647\n"
     ]
    }
   ],
   "source": [
    "d = data.dropna(subset = ['user_score'])\n",
    "t_stat, p_value = st.ttest_ind(d.query('platform == \"XOne\"')['user_score'], d.query('platform == \"PC\"')['user_score'], \n",
    "                              alternative='two-sided')\n",
    "\n",
    "if p_value < .05:\n",
    "    print(f'''Не отвергаем гипотезу о том, что средние пользовательские рейтинги платформ Xbox One и PC одинаковые; \n",
    "    p-value теста = {p_value}''')\n",
    "else:\n",
    "    print(f'''Отвергаем гипотезу о том, что средние пользовательские рейтинги платформ Xbox One и PC одинаковые; \n",
    "    p-value теста = {p_value}''')"
   ]
  },
  {
   "cell_type": "markdown",
   "metadata": {},
   "source": [
    "Hypothesis: The average user ratings for the Action and Sports genres are different."
   ]
  },
  {
   "cell_type": "markdown",
   "metadata": {},
   "source": [
    "H0: The average user ratings for the Action and Sports genres are the same.\n",
    "\n",
    "H1: The average user ratings for the Action and Sports genres are different.\n",
    "\n",
    "As in the previous case, we use the test for equality of means with a two-sided alternative hypothesis."
   ]
  },
  {
   "cell_type": "code",
   "execution_count": 64,
   "metadata": {},
   "outputs": [
    {
     "name": "stdout",
     "output_type": "stream",
     "text": [
      "Не отвергаем гипотезу о том, что средние пользовательские рейтинги жанров Action и Sports одинаковые; \n",
      "    p-value теста = 1.0517832389140023e-27\n"
     ]
    }
   ],
   "source": [
    "d = data.dropna(subset = ['user_score'])\n",
    "t_stat, p_value = st.ttest_ind(d.query('genre == \"Action\"')['user_score'], d.query('genre == \"Sports\"')['user_score'], \n",
    "                              alternative='two-sided')\n",
    "\n",
    "if p_value < .05:\n",
    "    print(f'''Не отвергаем гипотезу о том, что средние пользовательские рейтинги жанров Action и Sports одинаковые; \n",
    "    p-value теста = {p_value}''')\n",
    "else:\n",
    "    print(f'''Отвергаем гипотезу о том, что средние пользовательские рейтинги жанров Action и Sports одинаковые; \n",
    "    p-value теста = {p_value}''')"
   ]
  },
  {
   "cell_type": "markdown",
   "metadata": {},
   "source": [
    "## Conclusion"
   ]
  },
  {
   "cell_type": "markdown",
   "metadata": {},
   "source": [
    "The analysis of the video game industry data revealed several key insights:\n",
    "\n",
    "It is important to note that since 1996, the number of games released has stabilized, allowing us to focus on this period for analysis and further narrow it down to 2013, considering the average lifespan of platforms and the rapid change in trends.\n",
    "\n",
    "The top-selling platforms are XOne, PC, and PS4, with their success defined both by the number of games released and total sales volumes. However, there are differences in platform popularity and genre preferences between regions: while Action games are popular in Europe and America, Role Playing games dominate in Japan. Overall, consumer behavior in America and Europe is similar, while it differs significantly in Japan.\n",
    "\n",
    "The analysis of the influence of the ESRB rating on sales revealed that game ratings impact user preferences: in North America and Europe, games with a Mature rating are more popular, whereas in Japan, games with an Everyone rating are more popular.\n",
    "\n",
    "Hypothesis tests showed a statistical difference between the average user ratings for the Xbox One and PC platforms but did not show a statistical difference between the average user ratings for the Action and Sports genres.\n",
    "\n",
    "These findings highlight the characteristics of the video game industry and the significance of regional preferences in choosing game platforms, genres, and ratings, which is potentially important for game promotion strategies in different parts of the world."
   ]
  },
  {
   "cell_type": "code",
   "execution_count": null,
   "metadata": {},
   "outputs": [],
   "source": []
  }
 ],
 "metadata": {
  "ExecuteTimeLog": [
   {
    "duration": 374,
    "start_time": "2023-11-20T18:29:35.159Z"
   },
   {
    "duration": 120,
    "start_time": "2023-11-20T18:30:31.481Z"
   },
   {
    "duration": 17,
    "start_time": "2023-11-20T18:32:15.974Z"
   },
   {
    "duration": 15,
    "start_time": "2023-11-20T18:33:22.695Z"
   },
   {
    "duration": 112,
    "start_time": "2023-11-20T18:35:06.382Z"
   },
   {
    "duration": 79,
    "start_time": "2023-11-20T18:37:40.631Z"
   },
   {
    "duration": 7,
    "start_time": "2023-11-20T18:38:24.850Z"
   },
   {
    "duration": 17,
    "start_time": "2023-11-20T18:38:31.460Z"
   },
   {
    "duration": 13,
    "start_time": "2023-11-20T18:38:45.571Z"
   },
   {
    "duration": 13,
    "start_time": "2023-11-20T18:38:56.847Z"
   },
   {
    "duration": 16,
    "start_time": "2023-11-20T18:39:00.624Z"
   },
   {
    "duration": 21,
    "start_time": "2023-11-20T18:41:30.562Z"
   },
   {
    "duration": 37,
    "start_time": "2023-11-20T18:44:43.212Z"
   },
   {
    "duration": 8,
    "start_time": "2023-11-20T18:47:04.424Z"
   },
   {
    "duration": 7,
    "start_time": "2023-11-20T18:47:19.799Z"
   },
   {
    "duration": 4,
    "start_time": "2023-11-20T18:49:26.756Z"
   },
   {
    "duration": 5,
    "start_time": "2023-11-20T18:49:40.524Z"
   },
   {
    "duration": 5,
    "start_time": "2023-11-20T18:49:58.153Z"
   },
   {
    "duration": 12,
    "start_time": "2023-11-20T18:52:04.335Z"
   },
   {
    "duration": 11,
    "start_time": "2023-11-20T18:52:31.666Z"
   },
   {
    "duration": 44,
    "start_time": "2023-11-20T18:52:36.902Z"
   },
   {
    "duration": 21,
    "start_time": "2023-11-20T18:52:43.637Z"
   },
   {
    "duration": 5,
    "start_time": "2023-11-20T18:55:24.345Z"
   },
   {
    "duration": 8,
    "start_time": "2023-11-20T18:56:09.915Z"
   },
   {
    "duration": 8,
    "start_time": "2023-11-20T18:56:18.306Z"
   },
   {
    "duration": 7,
    "start_time": "2023-11-20T18:56:45.016Z"
   },
   {
    "duration": 4,
    "start_time": "2023-11-20T18:56:52.923Z"
   },
   {
    "duration": 24,
    "start_time": "2023-11-20T19:00:05.212Z"
   },
   {
    "duration": 24,
    "start_time": "2023-11-20T19:00:07.422Z"
   },
   {
    "duration": 931,
    "start_time": "2023-11-20T19:00:42.382Z"
   },
   {
    "duration": 3,
    "start_time": "2023-11-20T19:01:05.948Z"
   },
   {
    "duration": 936,
    "start_time": "2023-11-20T19:01:13.966Z"
   },
   {
    "duration": 984,
    "start_time": "2023-11-20T19:01:45.079Z"
   },
   {
    "duration": 1174,
    "start_time": "2023-11-20T19:01:57.747Z"
   },
   {
    "duration": 639,
    "start_time": "2023-11-20T19:02:12.246Z"
   },
   {
    "duration": 72,
    "start_time": "2023-11-20T19:02:12.887Z"
   },
   {
    "duration": 15,
    "start_time": "2023-11-20T19:02:12.961Z"
   },
   {
    "duration": 37,
    "start_time": "2023-11-20T19:02:12.978Z"
   },
   {
    "duration": 36,
    "start_time": "2023-11-20T19:02:13.017Z"
   },
   {
    "duration": 19,
    "start_time": "2023-11-20T19:02:13.055Z"
   },
   {
    "duration": 4,
    "start_time": "2023-11-20T19:02:13.076Z"
   },
   {
    "duration": 27,
    "start_time": "2023-11-20T19:02:13.082Z"
   },
   {
    "duration": 14,
    "start_time": "2023-11-20T19:02:13.111Z"
   },
   {
    "duration": 43,
    "start_time": "2023-11-20T19:02:13.127Z"
   },
   {
    "duration": 9,
    "start_time": "2023-11-20T19:02:13.172Z"
   },
   {
    "duration": 1225,
    "start_time": "2023-11-20T19:02:13.183Z"
   },
   {
    "duration": 47,
    "start_time": "2023-11-21T08:06:00.893Z"
   },
   {
    "duration": 773,
    "start_time": "2023-11-21T08:06:09.584Z"
   },
   {
    "duration": 107,
    "start_time": "2023-11-21T08:06:10.360Z"
   },
   {
    "duration": 13,
    "start_time": "2023-11-21T08:06:10.469Z"
   },
   {
    "duration": 16,
    "start_time": "2023-11-21T08:06:10.484Z"
   },
   {
    "duration": 20,
    "start_time": "2023-11-21T08:06:10.502Z"
   },
   {
    "duration": 25,
    "start_time": "2023-11-21T08:06:10.523Z"
   },
   {
    "duration": 3,
    "start_time": "2023-11-21T08:06:10.550Z"
   },
   {
    "duration": 10,
    "start_time": "2023-11-21T08:06:10.555Z"
   },
   {
    "duration": 5,
    "start_time": "2023-11-21T08:06:10.566Z"
   },
   {
    "duration": 20,
    "start_time": "2023-11-21T08:06:10.573Z"
   },
   {
    "duration": 9,
    "start_time": "2023-11-21T08:06:10.594Z"
   },
   {
    "duration": 1178,
    "start_time": "2023-11-21T08:06:10.604Z"
   },
   {
    "duration": 3,
    "start_time": "2023-11-21T08:06:11.784Z"
   },
   {
    "duration": 2,
    "start_time": "2023-11-21T08:06:11.790Z"
   },
   {
    "duration": 7,
    "start_time": "2023-11-21T08:06:40.562Z"
   },
   {
    "duration": 627,
    "start_time": "2023-11-21T08:11:08.442Z"
   },
   {
    "duration": 68,
    "start_time": "2023-11-21T08:11:09.070Z"
   },
   {
    "duration": 13,
    "start_time": "2023-11-21T08:11:09.139Z"
   },
   {
    "duration": 42,
    "start_time": "2023-11-21T08:11:09.154Z"
   },
   {
    "duration": 39,
    "start_time": "2023-11-21T08:11:09.198Z"
   },
   {
    "duration": 39,
    "start_time": "2023-11-21T08:11:09.238Z"
   },
   {
    "duration": 16,
    "start_time": "2023-11-21T08:11:09.279Z"
   },
   {
    "duration": 34,
    "start_time": "2023-11-21T08:11:09.296Z"
   },
   {
    "duration": 18,
    "start_time": "2023-11-21T08:11:09.331Z"
   },
   {
    "duration": 40,
    "start_time": "2023-11-21T08:11:09.351Z"
   },
   {
    "duration": 22,
    "start_time": "2023-11-21T08:11:09.392Z"
   },
   {
    "duration": 1164,
    "start_time": "2023-11-21T08:11:09.416Z"
   },
   {
    "duration": 3,
    "start_time": "2023-11-21T08:11:10.582Z"
   },
   {
    "duration": 9,
    "start_time": "2023-11-21T08:11:10.587Z"
   },
   {
    "duration": 2528,
    "start_time": "2023-11-21T08:12:34.071Z"
   },
   {
    "duration": 74,
    "start_time": "2023-11-21T11:33:45.360Z"
   },
   {
    "duration": 8,
    "start_time": "2023-11-21T11:33:50.037Z"
   },
   {
    "duration": 3,
    "start_time": "2023-11-21T11:34:01.734Z"
   },
   {
    "duration": 65,
    "start_time": "2023-11-21T11:34:02.274Z"
   },
   {
    "duration": 16,
    "start_time": "2023-11-21T11:34:03.163Z"
   },
   {
    "duration": 14,
    "start_time": "2023-11-21T11:34:03.860Z"
   },
   {
    "duration": 20,
    "start_time": "2023-11-21T11:34:04.609Z"
   },
   {
    "duration": 9,
    "start_time": "2023-11-21T11:34:05.629Z"
   },
   {
    "duration": 18,
    "start_time": "2023-11-21T11:42:10.460Z"
   },
   {
    "duration": 7,
    "start_time": "2023-11-21T11:42:15.220Z"
   },
   {
    "duration": 6,
    "start_time": "2023-11-21T11:42:15.720Z"
   },
   {
    "duration": 28,
    "start_time": "2023-11-21T11:42:16.551Z"
   },
   {
    "duration": 6,
    "start_time": "2023-11-21T11:42:18.030Z"
   },
   {
    "duration": 1166,
    "start_time": "2023-11-21T11:42:19.203Z"
   },
   {
    "duration": 3,
    "start_time": "2023-11-21T11:42:21.495Z"
   },
   {
    "duration": 6,
    "start_time": "2023-11-21T11:42:21.950Z"
   },
   {
    "duration": 2548,
    "start_time": "2023-11-21T11:42:22.977Z"
   },
   {
    "duration": 2868,
    "start_time": "2023-11-21T11:43:05.224Z"
   },
   {
    "duration": 15,
    "start_time": "2023-11-21T11:46:05.937Z"
   },
   {
    "duration": 15,
    "start_time": "2023-11-21T11:46:34.914Z"
   },
   {
    "duration": 233,
    "start_time": "2023-11-21T11:46:40.222Z"
   },
   {
    "duration": 8,
    "start_time": "2023-11-21T11:47:40.189Z"
   },
   {
    "duration": 903,
    "start_time": "2023-11-21T11:47:57.587Z"
   },
   {
    "duration": 3,
    "start_time": "2023-11-21T11:48:06.263Z"
   },
   {
    "duration": 372,
    "start_time": "2023-11-21T11:48:26.907Z"
   },
   {
    "duration": 318,
    "start_time": "2023-11-21T11:48:30.715Z"
   },
   {
    "duration": 18,
    "start_time": "2023-11-21T11:56:16.658Z"
   },
   {
    "duration": 128,
    "start_time": "2023-11-21T11:56:59.602Z"
   },
   {
    "duration": 143,
    "start_time": "2023-11-21T11:58:32.473Z"
   },
   {
    "duration": 5,
    "start_time": "2023-11-21T11:58:48.781Z"
   },
   {
    "duration": 3,
    "start_time": "2023-11-21T12:00:11.637Z"
   },
   {
    "duration": 20,
    "start_time": "2023-11-21T12:00:22.558Z"
   },
   {
    "duration": 15,
    "start_time": "2023-11-21T12:00:39.802Z"
   },
   {
    "duration": 12,
    "start_time": "2023-11-21T12:00:58.529Z"
   },
   {
    "duration": 6,
    "start_time": "2023-11-21T12:01:11.243Z"
   },
   {
    "duration": 9,
    "start_time": "2023-11-21T12:01:37.392Z"
   },
   {
    "duration": 16,
    "start_time": "2023-11-21T12:01:44.854Z"
   },
   {
    "duration": 12,
    "start_time": "2023-11-21T12:01:58.259Z"
   },
   {
    "duration": 12,
    "start_time": "2023-11-21T12:02:15.168Z"
   },
   {
    "duration": 14,
    "start_time": "2023-11-21T12:02:25.059Z"
   },
   {
    "duration": 9,
    "start_time": "2023-11-21T12:03:14.447Z"
   },
   {
    "duration": 9,
    "start_time": "2023-11-21T12:03:26.408Z"
   },
   {
    "duration": 143,
    "start_time": "2023-11-21T12:03:35.945Z"
   },
   {
    "duration": 147,
    "start_time": "2023-11-21T12:04:16.532Z"
   },
   {
    "duration": 25,
    "start_time": "2023-11-21T12:07:58.961Z"
   },
   {
    "duration": 113,
    "start_time": "2023-11-21T12:08:43.753Z"
   },
   {
    "duration": 114,
    "start_time": "2023-11-21T12:08:50.883Z"
   },
   {
    "duration": 109,
    "start_time": "2023-11-21T12:08:58.755Z"
   },
   {
    "duration": 15,
    "start_time": "2023-11-21T12:18:23.997Z"
   },
   {
    "duration": 15,
    "start_time": "2023-11-21T12:18:31.132Z"
   },
   {
    "duration": 151,
    "start_time": "2023-11-21T12:18:37.288Z"
   },
   {
    "duration": 151,
    "start_time": "2023-11-21T12:18:44.966Z"
   },
   {
    "duration": 151,
    "start_time": "2023-11-21T12:20:50.316Z"
   },
   {
    "duration": 15,
    "start_time": "2023-11-21T12:26:48.865Z"
   },
   {
    "duration": 8,
    "start_time": "2023-11-21T12:29:05.942Z"
   },
   {
    "duration": 81,
    "start_time": "2023-11-21T12:31:12.397Z"
   },
   {
    "duration": 9,
    "start_time": "2023-11-21T12:33:30.035Z"
   },
   {
    "duration": 6,
    "start_time": "2023-11-21T12:33:34.138Z"
   },
   {
    "duration": 10,
    "start_time": "2023-11-21T12:33:43.644Z"
   },
   {
    "duration": 12,
    "start_time": "2023-11-21T12:35:26.864Z"
   },
   {
    "duration": 75,
    "start_time": "2023-11-21T12:35:38.019Z"
   },
   {
    "duration": 10,
    "start_time": "2023-11-21T12:35:40.916Z"
   },
   {
    "duration": 12,
    "start_time": "2023-11-21T12:35:52.824Z"
   },
   {
    "duration": 7,
    "start_time": "2023-11-21T12:36:00.955Z"
   },
   {
    "duration": 7,
    "start_time": "2023-11-21T12:36:28.931Z"
   },
   {
    "duration": 104,
    "start_time": "2023-11-21T12:37:07.030Z"
   },
   {
    "duration": 122,
    "start_time": "2023-11-21T12:37:25.005Z"
   },
   {
    "duration": 192,
    "start_time": "2023-11-21T12:37:32.008Z"
   },
   {
    "duration": 213,
    "start_time": "2023-11-21T12:38:50.153Z"
   },
   {
    "duration": 7,
    "start_time": "2023-11-21T12:42:29.319Z"
   },
   {
    "duration": 234,
    "start_time": "2023-11-21T12:42:44.188Z"
   },
   {
    "duration": 7,
    "start_time": "2023-11-21T12:44:39.294Z"
   },
   {
    "duration": 9,
    "start_time": "2023-11-21T12:44:41.335Z"
   },
   {
    "duration": 45,
    "start_time": "2023-11-21T12:47:11.030Z"
   },
   {
    "duration": 130,
    "start_time": "2023-11-21T12:47:44.458Z"
   },
   {
    "duration": 9,
    "start_time": "2023-11-21T12:47:54.135Z"
   },
   {
    "duration": 124,
    "start_time": "2023-11-21T12:48:52.894Z"
   },
   {
    "duration": 521,
    "start_time": "2023-11-21T12:49:10.873Z"
   },
   {
    "duration": 491,
    "start_time": "2023-11-21T12:49:56.014Z"
   },
   {
    "duration": 4,
    "start_time": "2023-11-21T12:50:20.684Z"
   },
   {
    "duration": 5,
    "start_time": "2023-11-21T12:58:06.369Z"
   },
   {
    "duration": 1704,
    "start_time": "2023-11-21T12:58:14.426Z"
   },
   {
    "duration": 21,
    "start_time": "2023-11-21T12:58:25.288Z"
   },
   {
    "duration": 10,
    "start_time": "2023-11-21T12:58:37.989Z"
   },
   {
    "duration": 9,
    "start_time": "2023-11-21T13:00:04.709Z"
   },
   {
    "duration": 8,
    "start_time": "2023-11-21T13:00:16.254Z"
   },
   {
    "duration": 9,
    "start_time": "2023-11-21T13:00:26.189Z"
   },
   {
    "duration": 13,
    "start_time": "2023-11-21T13:00:57.697Z"
   },
   {
    "duration": 12,
    "start_time": "2023-11-21T13:02:47.888Z"
   },
   {
    "duration": 13,
    "start_time": "2023-11-21T13:03:45.158Z"
   },
   {
    "duration": 22,
    "start_time": "2023-11-21T13:04:05.297Z"
   },
   {
    "duration": 15,
    "start_time": "2023-11-21T13:04:12.924Z"
   },
   {
    "duration": 13,
    "start_time": "2023-11-21T13:07:07.967Z"
   },
   {
    "duration": 51,
    "start_time": "2023-11-22T13:12:05.514Z"
   },
   {
    "duration": 1462,
    "start_time": "2023-11-22T13:12:12.598Z"
   },
   {
    "duration": 109,
    "start_time": "2023-11-22T13:12:14.062Z"
   },
   {
    "duration": 14,
    "start_time": "2023-11-22T13:12:14.173Z"
   },
   {
    "duration": 27,
    "start_time": "2023-11-22T13:12:14.189Z"
   },
   {
    "duration": 32,
    "start_time": "2023-11-22T13:12:14.218Z"
   },
   {
    "duration": 8,
    "start_time": "2023-11-22T13:12:14.252Z"
   },
   {
    "duration": 29,
    "start_time": "2023-11-22T13:12:14.261Z"
   },
   {
    "duration": 106,
    "start_time": "2023-11-22T13:12:14.292Z"
   },
   {
    "duration": 0,
    "start_time": "2023-11-22T13:12:14.400Z"
   },
   {
    "duration": 0,
    "start_time": "2023-11-22T13:12:14.401Z"
   },
   {
    "duration": 0,
    "start_time": "2023-11-22T13:12:14.402Z"
   },
   {
    "duration": 0,
    "start_time": "2023-11-22T13:12:14.403Z"
   },
   {
    "duration": 0,
    "start_time": "2023-11-22T13:12:14.404Z"
   },
   {
    "duration": 0,
    "start_time": "2023-11-22T13:12:14.405Z"
   },
   {
    "duration": 0,
    "start_time": "2023-11-22T13:12:14.406Z"
   },
   {
    "duration": 0,
    "start_time": "2023-11-22T13:12:14.407Z"
   },
   {
    "duration": 0,
    "start_time": "2023-11-22T13:12:14.408Z"
   },
   {
    "duration": 0,
    "start_time": "2023-11-22T13:12:14.409Z"
   },
   {
    "duration": 0,
    "start_time": "2023-11-22T13:12:14.410Z"
   },
   {
    "duration": 0,
    "start_time": "2023-11-22T13:12:14.411Z"
   },
   {
    "duration": 0,
    "start_time": "2023-11-22T13:12:14.412Z"
   },
   {
    "duration": 0,
    "start_time": "2023-11-22T13:12:14.413Z"
   },
   {
    "duration": 0,
    "start_time": "2023-11-22T13:12:14.414Z"
   },
   {
    "duration": 0,
    "start_time": "2023-11-22T13:12:14.415Z"
   },
   {
    "duration": 0,
    "start_time": "2023-11-22T13:12:14.415Z"
   },
   {
    "duration": 0,
    "start_time": "2023-11-22T13:12:14.417Z"
   },
   {
    "duration": 0,
    "start_time": "2023-11-22T13:12:14.418Z"
   },
   {
    "duration": 0,
    "start_time": "2023-11-22T13:12:14.419Z"
   },
   {
    "duration": 0,
    "start_time": "2023-11-22T13:12:14.420Z"
   },
   {
    "duration": 0,
    "start_time": "2023-11-22T13:12:14.421Z"
   },
   {
    "duration": 0,
    "start_time": "2023-11-22T13:12:14.422Z"
   },
   {
    "duration": 20,
    "start_time": "2023-11-22T13:12:43.055Z"
   },
   {
    "duration": 16,
    "start_time": "2023-11-22T13:12:47.397Z"
   },
   {
    "duration": 25,
    "start_time": "2023-11-22T13:13:27.548Z"
   },
   {
    "duration": 7,
    "start_time": "2023-11-22T13:13:36.188Z"
   },
   {
    "duration": 13,
    "start_time": "2023-11-22T13:13:47.633Z"
   },
   {
    "duration": 25,
    "start_time": "2023-11-22T13:14:15.336Z"
   },
   {
    "duration": 4,
    "start_time": "2023-11-22T13:14:35.821Z"
   },
   {
    "duration": 6,
    "start_time": "2023-11-22T13:15:47.154Z"
   },
   {
    "duration": 6,
    "start_time": "2023-11-22T13:15:52.706Z"
   },
   {
    "duration": 4,
    "start_time": "2023-11-22T13:15:59.976Z"
   },
   {
    "duration": 12,
    "start_time": "2023-11-22T13:16:11.958Z"
   },
   {
    "duration": 14,
    "start_time": "2023-11-22T13:18:20.312Z"
   },
   {
    "duration": 7,
    "start_time": "2023-11-22T13:18:39.391Z"
   },
   {
    "duration": 151,
    "start_time": "2023-11-22T13:19:20.758Z"
   },
   {
    "duration": 13,
    "start_time": "2023-11-22T13:19:38.719Z"
   },
   {
    "duration": 4,
    "start_time": "2023-11-22T13:20:52.012Z"
   },
   {
    "duration": 6,
    "start_time": "2023-11-22T13:20:55.743Z"
   },
   {
    "duration": 134,
    "start_time": "2023-11-22T13:21:18.725Z"
   },
   {
    "duration": 156,
    "start_time": "2023-11-22T13:21:32.638Z"
   },
   {
    "duration": 134,
    "start_time": "2023-11-22T13:22:13.144Z"
   },
   {
    "duration": 127,
    "start_time": "2023-11-22T13:22:30.673Z"
   },
   {
    "duration": 6,
    "start_time": "2023-11-22T13:22:52.591Z"
   },
   {
    "duration": 7,
    "start_time": "2023-11-22T13:23:12.801Z"
   },
   {
    "duration": 1220,
    "start_time": "2023-11-22T13:23:29.938Z"
   },
   {
    "duration": 73,
    "start_time": "2023-11-22T13:23:31.160Z"
   },
   {
    "duration": 17,
    "start_time": "2023-11-22T13:23:31.235Z"
   },
   {
    "duration": 70,
    "start_time": "2023-11-22T13:23:31.254Z"
   },
   {
    "duration": 23,
    "start_time": "2023-11-22T13:23:31.326Z"
   },
   {
    "duration": 14,
    "start_time": "2023-11-22T13:23:31.351Z"
   },
   {
    "duration": 43,
    "start_time": "2023-11-22T13:23:31.366Z"
   },
   {
    "duration": 45,
    "start_time": "2023-11-22T13:23:31.411Z"
   },
   {
    "duration": 35,
    "start_time": "2023-11-22T13:23:31.458Z"
   },
   {
    "duration": 30,
    "start_time": "2023-11-22T13:23:31.496Z"
   },
   {
    "duration": 61,
    "start_time": "2023-11-22T13:23:31.528Z"
   },
   {
    "duration": 127,
    "start_time": "2023-11-22T13:23:31.592Z"
   },
   {
    "duration": 270,
    "start_time": "2023-11-22T13:23:31.721Z"
   },
   {
    "duration": 0,
    "start_time": "2023-11-22T13:23:31.995Z"
   },
   {
    "duration": 0,
    "start_time": "2023-11-22T13:23:31.996Z"
   },
   {
    "duration": 0,
    "start_time": "2023-11-22T13:23:31.998Z"
   },
   {
    "duration": 0,
    "start_time": "2023-11-22T13:23:32.006Z"
   },
   {
    "duration": 0,
    "start_time": "2023-11-22T13:23:32.008Z"
   },
   {
    "duration": 0,
    "start_time": "2023-11-22T13:23:32.010Z"
   },
   {
    "duration": 0,
    "start_time": "2023-11-22T13:23:32.011Z"
   },
   {
    "duration": 0,
    "start_time": "2023-11-22T13:23:32.013Z"
   },
   {
    "duration": 0,
    "start_time": "2023-11-22T13:23:32.014Z"
   },
   {
    "duration": 0,
    "start_time": "2023-11-22T13:23:32.015Z"
   },
   {
    "duration": 0,
    "start_time": "2023-11-22T13:23:32.017Z"
   },
   {
    "duration": 0,
    "start_time": "2023-11-22T13:23:32.018Z"
   },
   {
    "duration": 0,
    "start_time": "2023-11-22T13:23:32.020Z"
   },
   {
    "duration": 0,
    "start_time": "2023-11-22T13:23:32.021Z"
   },
   {
    "duration": 1,
    "start_time": "2023-11-22T13:23:32.022Z"
   },
   {
    "duration": 0,
    "start_time": "2023-11-22T13:23:32.024Z"
   },
   {
    "duration": 0,
    "start_time": "2023-11-22T13:23:32.026Z"
   },
   {
    "duration": 0,
    "start_time": "2023-11-22T13:23:32.027Z"
   },
   {
    "duration": 0,
    "start_time": "2023-11-22T13:23:32.029Z"
   },
   {
    "duration": 0,
    "start_time": "2023-11-22T13:23:32.030Z"
   },
   {
    "duration": 1,
    "start_time": "2023-11-22T13:23:32.032Z"
   },
   {
    "duration": 0,
    "start_time": "2023-11-22T13:23:32.034Z"
   },
   {
    "duration": 117,
    "start_time": "2023-11-22T13:24:04.513Z"
   },
   {
    "duration": 7,
    "start_time": "2023-11-22T13:24:22.191Z"
   },
   {
    "duration": 6,
    "start_time": "2023-11-22T13:24:32.516Z"
   },
   {
    "duration": 12,
    "start_time": "2023-11-22T13:24:53.497Z"
   },
   {
    "duration": 127,
    "start_time": "2023-11-22T13:24:59.952Z"
   },
   {
    "duration": 163,
    "start_time": "2023-11-22T13:25:50.302Z"
   },
   {
    "duration": 124,
    "start_time": "2023-11-22T13:26:04.759Z"
   },
   {
    "duration": 6,
    "start_time": "2023-11-22T13:26:19.684Z"
   },
   {
    "duration": 11,
    "start_time": "2023-11-22T13:26:31.678Z"
   },
   {
    "duration": 10,
    "start_time": "2023-11-22T13:26:35.477Z"
   },
   {
    "duration": 8,
    "start_time": "2023-11-22T13:27:00.015Z"
   },
   {
    "duration": 127,
    "start_time": "2023-11-22T13:27:16.228Z"
   },
   {
    "duration": 137,
    "start_time": "2023-11-22T13:27:27.785Z"
   },
   {
    "duration": 37943,
    "start_time": "2023-11-22T13:27:40.520Z"
   },
   {
    "duration": 5,
    "start_time": "2023-11-22T13:28:28.565Z"
   },
   {
    "duration": 7,
    "start_time": "2023-11-22T13:28:47.989Z"
   },
   {
    "duration": 263,
    "start_time": "2023-11-22T13:28:55.772Z"
   },
   {
    "duration": 257,
    "start_time": "2023-11-22T13:29:13.778Z"
   },
   {
    "duration": 253,
    "start_time": "2023-11-22T13:29:21.315Z"
   },
   {
    "duration": 268,
    "start_time": "2023-11-22T13:29:38.527Z"
   },
   {
    "duration": 254,
    "start_time": "2023-11-22T13:29:42.299Z"
   },
   {
    "duration": 253,
    "start_time": "2023-11-22T13:29:47.559Z"
   },
   {
    "duration": 257,
    "start_time": "2023-11-22T13:29:52.318Z"
   },
   {
    "duration": 7,
    "start_time": "2023-11-22T13:29:56.540Z"
   },
   {
    "duration": 28,
    "start_time": "2023-11-22T13:30:01.307Z"
   },
   {
    "duration": 9,
    "start_time": "2023-11-22T13:30:04.325Z"
   },
   {
    "duration": 1171,
    "start_time": "2023-11-22T13:30:15.857Z"
   },
   {
    "duration": 4,
    "start_time": "2023-11-22T13:30:19.137Z"
   },
   {
    "duration": 6,
    "start_time": "2023-11-22T13:30:19.694Z"
   },
   {
    "duration": 1904,
    "start_time": "2023-11-22T13:30:22.986Z"
   },
   {
    "duration": 16,
    "start_time": "2023-11-22T13:38:04.747Z"
   },
   {
    "duration": 252,
    "start_time": "2023-11-22T13:38:09.792Z"
   },
   {
    "duration": 243,
    "start_time": "2023-11-22T13:39:05.191Z"
   },
   {
    "duration": 255,
    "start_time": "2023-11-22T13:39:37.593Z"
   },
   {
    "duration": 168,
    "start_time": "2023-11-22T13:40:39.657Z"
   },
   {
    "duration": 21,
    "start_time": "2023-11-22T13:40:51.220Z"
   },
   {
    "duration": 154,
    "start_time": "2023-11-22T13:40:51.565Z"
   },
   {
    "duration": 865,
    "start_time": "2023-11-22T13:40:52.332Z"
   },
   {
    "duration": 84,
    "start_time": "2023-11-22T13:40:59.036Z"
   },
   {
    "duration": 180,
    "start_time": "2023-11-22T13:55:13.873Z"
   },
   {
    "duration": 172,
    "start_time": "2023-11-22T13:57:08.793Z"
   },
   {
    "duration": 175,
    "start_time": "2023-11-22T13:57:21.898Z"
   },
   {
    "duration": 163,
    "start_time": "2023-11-22T13:58:49.525Z"
   },
   {
    "duration": 6,
    "start_time": "2023-11-22T13:59:50.212Z"
   },
   {
    "duration": 255,
    "start_time": "2023-11-22T13:59:51.091Z"
   },
   {
    "duration": 6,
    "start_time": "2023-11-22T14:00:53.796Z"
   },
   {
    "duration": 242,
    "start_time": "2023-11-22T14:00:54.852Z"
   },
   {
    "duration": 9,
    "start_time": "2023-11-22T14:01:12.819Z"
   },
   {
    "duration": 431,
    "start_time": "2023-11-22T14:01:24.893Z"
   },
   {
    "duration": 14,
    "start_time": "2023-11-22T14:03:23.471Z"
   },
   {
    "duration": 14,
    "start_time": "2023-11-22T14:03:30.422Z"
   }
  ],
  "kernelspec": {
   "display_name": "Python 3 (ipykernel)",
   "language": "python",
   "name": "python3"
  },
  "language_info": {
   "codemirror_mode": {
    "name": "ipython",
    "version": 3
   },
   "file_extension": ".py",
   "mimetype": "text/x-python",
   "name": "python",
   "nbconvert_exporter": "python",
   "pygments_lexer": "ipython3",
   "version": "3.11.5"
  },
  "toc": {
   "base_numbering": 1,
   "nav_menu": {},
   "number_sections": true,
   "sideBar": true,
   "skip_h1_title": true,
   "title_cell": "Table of Contents",
   "title_sidebar": "Contents",
   "toc_cell": false,
   "toc_position": {},
   "toc_section_display": true,
   "toc_window_display": true
  }
 },
 "nbformat": 4,
 "nbformat_minor": 2
}
