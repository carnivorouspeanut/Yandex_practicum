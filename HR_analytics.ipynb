{
 "cells": [
  {
   "cell_type": "code",
   "execution_count": 1,
   "id": "f863fef5",
   "metadata": {},
   "outputs": [
    {
     "name": "stdout",
     "output_type": "stream",
     "text": [
      "Requirement already satisfied: phik in /opt/conda/lib/python3.9/site-packages (0.12.4)\n",
      "Requirement already satisfied: scipy>=1.5.2 in /opt/conda/lib/python3.9/site-packages (from phik) (1.9.1)\n",
      "Requirement already satisfied: joblib>=0.14.1 in /opt/conda/lib/python3.9/site-packages (from phik) (1.4.0)\n",
      "Requirement already satisfied: pandas>=0.25.1 in /opt/conda/lib/python3.9/site-packages (from phik) (1.2.4)\n",
      "Requirement already satisfied: matplotlib>=2.2.3 in /opt/conda/lib/python3.9/site-packages (from phik) (3.3.4)\n",
      "Requirement already satisfied: numpy>=1.18.0 in /opt/conda/lib/python3.9/site-packages (from phik) (1.21.1)\n",
      "Requirement already satisfied: python-dateutil>=2.1 in /opt/conda/lib/python3.9/site-packages (from matplotlib>=2.2.3->phik) (2.8.1)\n",
      "Requirement already satisfied: kiwisolver>=1.0.1 in /opt/conda/lib/python3.9/site-packages (from matplotlib>=2.2.3->phik) (1.4.4)\n",
      "Requirement already satisfied: cycler>=0.10 in /opt/conda/lib/python3.9/site-packages (from matplotlib>=2.2.3->phik) (0.11.0)\n",
      "Requirement already satisfied: pillow>=6.2.0 in /opt/conda/lib/python3.9/site-packages (from matplotlib>=2.2.3->phik) (8.4.0)\n",
      "Requirement already satisfied: pyparsing!=2.0.4,!=2.1.2,!=2.1.6,>=2.0.3 in /opt/conda/lib/python3.9/site-packages (from matplotlib>=2.2.3->phik) (2.4.7)\n",
      "Requirement already satisfied: pytz>=2017.3 in /opt/conda/lib/python3.9/site-packages (from pandas>=0.25.1->phik) (2021.1)\n",
      "Requirement already satisfied: six>=1.5 in /opt/conda/lib/python3.9/site-packages (from python-dateutil>=2.1->matplotlib>=2.2.3->phik) (1.16.0)\n",
      "Requirement already satisfied: scikit-learn in /opt/conda/lib/python3.9/site-packages (1.4.2)\n",
      "Requirement already satisfied: threadpoolctl>=2.0.0 in /opt/conda/lib/python3.9/site-packages (from scikit-learn) (3.1.0)\n",
      "Requirement already satisfied: scipy>=1.6.0 in /opt/conda/lib/python3.9/site-packages (from scikit-learn) (1.9.1)\n",
      "Requirement already satisfied: joblib>=1.2.0 in /opt/conda/lib/python3.9/site-packages (from scikit-learn) (1.4.0)\n",
      "Requirement already satisfied: numpy>=1.19.5 in /opt/conda/lib/python3.9/site-packages (from scikit-learn) (1.21.1)\n"
     ]
    }
   ],
   "source": [
    "!pip install phik\n",
    "!pip install -U scikit-learn"
   ]
  },
  {
   "cell_type": "code",
   "execution_count": 2,
   "id": "f8e5ae51",
   "metadata": {},
   "outputs": [],
   "source": [
    "import pandas as pd\n",
    "import numpy as np\n",
    "import seaborn as sns\n",
    "import warnings\n",
    "warnings.filterwarnings('ignore')\n",
    "\n",
    "from sklearn.compose import ColumnTransformer\n",
    "from sklearn.impute import SimpleImputer\n",
    "from sklearn.pipeline import Pipeline\n",
    "from sklearn.preprocessing import StandardScaler, MinMaxScaler, OneHotEncoder, OrdinalEncoder\n",
    "from sklearn.linear_model import LinearRegression\n",
    "from sklearn.ensemble import RandomForestRegressor\n",
    "from sklearn.model_selection import GridSearchCV, cross_val_predict\n",
    "from sklearn.feature_selection import SelectFromModel\n",
    "from sklearn.ensemble import GradientBoostingClassifier\n",
    "from sklearn.linear_model import LogisticRegression\n",
    "from sklearn.metrics import roc_auc_score, make_scorer\n",
    "from sklearn.ensemble import RandomForestClassifier\n",
    "from sklearn.model_selection import RandomizedSearchCV\n",
    "from scipy.stats import randint\n",
    "from scipy.stats import uniform, loguniform\n",
    "\n",
    "import matplotlib.pyplot as plt\n",
    "import phik"
   ]
  },
  {
   "cell_type": "markdown",
   "id": "8f7726e2",
   "metadata": {},
   "source": [
    "HR analysts at the company \"Work with Care\" help businesses optimize personnel management: businesses provide data, and the analysts offer recommendations on how to avoid financial losses and employee turnover. In this, HR analysts benefit from machine learning, which allows them to respond to business questions more quickly and accurately.\n",
    "\n",
    "The company has provided data on the characteristics of its employees, including their level of job satisfaction within the company. This information was obtained from feedback forms: employees fill out a survey, and the results calculate their satisfaction level, ranging from 0 to 1, where 0 means completely dissatisfied and 1 means fully satisfied.\n",
    "\n",
    "Gathering data through such surveys is not easy: the company is large, and all employees must first be notified about the survey, and then it must be ensured that everyone completes it.\n",
    "\n",
    "Tasks:\n",
    "\n",
    "Build a model that can predict an employee’s level of satisfaction based on customer data.\n",
    "\n",
    "Build a model that can predict, based on customer data, whether an employee will leave the company."
   ]
  },
  {
   "cell_type": "markdown",
   "id": "20b2fc25",
   "metadata": {},
   "source": [
    "# Prediction of employee's satisfaction"
   ]
  },
  {
   "cell_type": "markdown",
   "id": "03da2a36",
   "metadata": {},
   "source": [
    "## Read data"
   ]
  },
  {
   "cell_type": "code",
   "execution_count": 3,
   "id": "a8929712",
   "metadata": {},
   "outputs": [],
   "source": [
    "train_job_satisfaction_rate = pd.read_csv('https://code.s3.yandex.net/datasets/train_job_satisfaction_rate.csv', index_col='id')\n",
    "test_features = pd.read_csv('https://code.s3.yandex.net/datasets/test_features.csv', index_col='id')\n",
    "test_target_job_satisfaction_rate =pd.read_csv('https://code.s3.yandex.net/datasets/test_target_job_satisfaction_rate.csv',\n",
    "                                               index_col='id')"
   ]
  },
  {
   "cell_type": "markdown",
   "id": "e5144f56",
   "metadata": {},
   "source": [
    "## Preprocess data"
   ]
  },
  {
   "cell_type": "markdown",
   "id": "db2c1146",
   "metadata": {},
   "source": [
    "### train_job_satisfaction_rate"
   ]
  },
  {
   "cell_type": "code",
   "execution_count": 4,
   "id": "2f8674c1",
   "metadata": {},
   "outputs": [
    {
     "data": {
      "text/html": [
       "<div>\n",
       "<style scoped>\n",
       "    .dataframe tbody tr th:only-of-type {\n",
       "        vertical-align: middle;\n",
       "    }\n",
       "\n",
       "    .dataframe tbody tr th {\n",
       "        vertical-align: top;\n",
       "    }\n",
       "\n",
       "    .dataframe thead th {\n",
       "        text-align: right;\n",
       "    }\n",
       "</style>\n",
       "<table border=\"1\" class=\"dataframe\">\n",
       "  <thead>\n",
       "    <tr style=\"text-align: right;\">\n",
       "      <th></th>\n",
       "      <th>dept</th>\n",
       "      <th>level</th>\n",
       "      <th>workload</th>\n",
       "      <th>employment_years</th>\n",
       "      <th>last_year_promo</th>\n",
       "      <th>last_year_violations</th>\n",
       "      <th>supervisor_evaluation</th>\n",
       "      <th>salary</th>\n",
       "      <th>job_satisfaction_rate</th>\n",
       "    </tr>\n",
       "    <tr>\n",
       "      <th>id</th>\n",
       "      <th></th>\n",
       "      <th></th>\n",
       "      <th></th>\n",
       "      <th></th>\n",
       "      <th></th>\n",
       "      <th></th>\n",
       "      <th></th>\n",
       "      <th></th>\n",
       "      <th></th>\n",
       "    </tr>\n",
       "  </thead>\n",
       "  <tbody>\n",
       "    <tr>\n",
       "      <th>155278</th>\n",
       "      <td>sales</td>\n",
       "      <td>junior</td>\n",
       "      <td>medium</td>\n",
       "      <td>2</td>\n",
       "      <td>no</td>\n",
       "      <td>no</td>\n",
       "      <td>1</td>\n",
       "      <td>24000</td>\n",
       "      <td>0.58</td>\n",
       "    </tr>\n",
       "    <tr>\n",
       "      <th>653870</th>\n",
       "      <td>hr</td>\n",
       "      <td>junior</td>\n",
       "      <td>high</td>\n",
       "      <td>2</td>\n",
       "      <td>no</td>\n",
       "      <td>no</td>\n",
       "      <td>5</td>\n",
       "      <td>38400</td>\n",
       "      <td>0.76</td>\n",
       "    </tr>\n",
       "    <tr>\n",
       "      <th>184592</th>\n",
       "      <td>sales</td>\n",
       "      <td>junior</td>\n",
       "      <td>low</td>\n",
       "      <td>1</td>\n",
       "      <td>no</td>\n",
       "      <td>no</td>\n",
       "      <td>2</td>\n",
       "      <td>12000</td>\n",
       "      <td>0.11</td>\n",
       "    </tr>\n",
       "    <tr>\n",
       "      <th>171431</th>\n",
       "      <td>technology</td>\n",
       "      <td>junior</td>\n",
       "      <td>low</td>\n",
       "      <td>4</td>\n",
       "      <td>no</td>\n",
       "      <td>no</td>\n",
       "      <td>2</td>\n",
       "      <td>18000</td>\n",
       "      <td>0.37</td>\n",
       "    </tr>\n",
       "    <tr>\n",
       "      <th>693419</th>\n",
       "      <td>hr</td>\n",
       "      <td>junior</td>\n",
       "      <td>medium</td>\n",
       "      <td>1</td>\n",
       "      <td>no</td>\n",
       "      <td>no</td>\n",
       "      <td>3</td>\n",
       "      <td>22800</td>\n",
       "      <td>0.20</td>\n",
       "    </tr>\n",
       "  </tbody>\n",
       "</table>\n",
       "</div>"
      ],
      "text/plain": [
       "              dept   level workload  employment_years last_year_promo  \\\n",
       "id                                                                      \n",
       "155278       sales  junior   medium                 2              no   \n",
       "653870          hr  junior     high                 2              no   \n",
       "184592       sales  junior      low                 1              no   \n",
       "171431  technology  junior      low                 4              no   \n",
       "693419          hr  junior   medium                 1              no   \n",
       "\n",
       "       last_year_violations  supervisor_evaluation  salary  \\\n",
       "id                                                           \n",
       "155278                   no                      1   24000   \n",
       "653870                   no                      5   38400   \n",
       "184592                   no                      2   12000   \n",
       "171431                   no                      2   18000   \n",
       "693419                   no                      3   22800   \n",
       "\n",
       "        job_satisfaction_rate  \n",
       "id                             \n",
       "155278                   0.58  \n",
       "653870                   0.76  \n",
       "184592                   0.11  \n",
       "171431                   0.37  \n",
       "693419                   0.20  "
      ]
     },
     "execution_count": 4,
     "metadata": {},
     "output_type": "execute_result"
    }
   ],
   "source": [
    "train_job_satisfaction_rate.head()"
   ]
  },
  {
   "cell_type": "code",
   "execution_count": 5,
   "id": "806d63f9",
   "metadata": {},
   "outputs": [
    {
     "name": "stdout",
     "output_type": "stream",
     "text": [
      "<class 'pandas.core.frame.DataFrame'>\n",
      "Int64Index: 4000 entries, 155278 to 338347\n",
      "Data columns (total 9 columns):\n",
      " #   Column                 Non-Null Count  Dtype  \n",
      "---  ------                 --------------  -----  \n",
      " 0   dept                   3994 non-null   object \n",
      " 1   level                  3996 non-null   object \n",
      " 2   workload               4000 non-null   object \n",
      " 3   employment_years       4000 non-null   int64  \n",
      " 4   last_year_promo        4000 non-null   object \n",
      " 5   last_year_violations   4000 non-null   object \n",
      " 6   supervisor_evaluation  4000 non-null   int64  \n",
      " 7   salary                 4000 non-null   int64  \n",
      " 8   job_satisfaction_rate  4000 non-null   float64\n",
      "dtypes: float64(1), int64(3), object(5)\n",
      "memory usage: 312.5+ KB\n"
     ]
    }
   ],
   "source": [
    "train_job_satisfaction_rate.info()"
   ]
  },
  {
   "cell_type": "code",
   "execution_count": 6,
   "id": "a37caad7",
   "metadata": {},
   "outputs": [
    {
     "data": {
      "text/html": [
       "<div>\n",
       "<style scoped>\n",
       "    .dataframe tbody tr th:only-of-type {\n",
       "        vertical-align: middle;\n",
       "    }\n",
       "\n",
       "    .dataframe tbody tr th {\n",
       "        vertical-align: top;\n",
       "    }\n",
       "\n",
       "    .dataframe thead th {\n",
       "        text-align: right;\n",
       "    }\n",
       "</style>\n",
       "<table border=\"1\" class=\"dataframe\">\n",
       "  <thead>\n",
       "    <tr style=\"text-align: right;\">\n",
       "      <th></th>\n",
       "      <th>dept</th>\n",
       "      <th>level</th>\n",
       "      <th>workload</th>\n",
       "      <th>employment_years</th>\n",
       "      <th>last_year_promo</th>\n",
       "      <th>last_year_violations</th>\n",
       "      <th>supervisor_evaluation</th>\n",
       "      <th>salary</th>\n",
       "      <th>job_satisfaction_rate</th>\n",
       "    </tr>\n",
       "    <tr>\n",
       "      <th>id</th>\n",
       "      <th></th>\n",
       "      <th></th>\n",
       "      <th></th>\n",
       "      <th></th>\n",
       "      <th></th>\n",
       "      <th></th>\n",
       "      <th></th>\n",
       "      <th></th>\n",
       "      <th></th>\n",
       "    </tr>\n",
       "  </thead>\n",
       "  <tbody>\n",
       "    <tr>\n",
       "      <th>694746</th>\n",
       "      <td>NaN</td>\n",
       "      <td>junior</td>\n",
       "      <td>medium</td>\n",
       "      <td>5</td>\n",
       "      <td>no</td>\n",
       "      <td>no</td>\n",
       "      <td>4</td>\n",
       "      <td>21600</td>\n",
       "      <td>0.62</td>\n",
       "    </tr>\n",
       "    <tr>\n",
       "      <th>814624</th>\n",
       "      <td>NaN</td>\n",
       "      <td>junior</td>\n",
       "      <td>medium</td>\n",
       "      <td>3</td>\n",
       "      <td>no</td>\n",
       "      <td>no</td>\n",
       "      <td>4</td>\n",
       "      <td>24000</td>\n",
       "      <td>0.88</td>\n",
       "    </tr>\n",
       "    <tr>\n",
       "      <th>475114</th>\n",
       "      <td>NaN</td>\n",
       "      <td>junior</td>\n",
       "      <td>high</td>\n",
       "      <td>4</td>\n",
       "      <td>no</td>\n",
       "      <td>no</td>\n",
       "      <td>4</td>\n",
       "      <td>31200</td>\n",
       "      <td>0.63</td>\n",
       "    </tr>\n",
       "    <tr>\n",
       "      <th>497243</th>\n",
       "      <td>NaN</td>\n",
       "      <td>junior</td>\n",
       "      <td>medium</td>\n",
       "      <td>1</td>\n",
       "      <td>no</td>\n",
       "      <td>no</td>\n",
       "      <td>3</td>\n",
       "      <td>26400</td>\n",
       "      <td>0.28</td>\n",
       "    </tr>\n",
       "    <tr>\n",
       "      <th>168668</th>\n",
       "      <td>NaN</td>\n",
       "      <td>junior</td>\n",
       "      <td>low</td>\n",
       "      <td>3</td>\n",
       "      <td>no</td>\n",
       "      <td>no</td>\n",
       "      <td>4</td>\n",
       "      <td>18000</td>\n",
       "      <td>0.88</td>\n",
       "    </tr>\n",
       "    <tr>\n",
       "      <th>641150</th>\n",
       "      <td>NaN</td>\n",
       "      <td>junior</td>\n",
       "      <td>low</td>\n",
       "      <td>3</td>\n",
       "      <td>no</td>\n",
       "      <td>yes</td>\n",
       "      <td>4</td>\n",
       "      <td>12000</td>\n",
       "      <td>0.54</td>\n",
       "    </tr>\n",
       "  </tbody>\n",
       "</table>\n",
       "</div>"
      ],
      "text/plain": [
       "       dept   level workload  employment_years last_year_promo  \\\n",
       "id                                                               \n",
       "694746  NaN  junior   medium                 5              no   \n",
       "814624  NaN  junior   medium                 3              no   \n",
       "475114  NaN  junior     high                 4              no   \n",
       "497243  NaN  junior   medium                 1              no   \n",
       "168668  NaN  junior      low                 3              no   \n",
       "641150  NaN  junior      low                 3              no   \n",
       "\n",
       "       last_year_violations  supervisor_evaluation  salary  \\\n",
       "id                                                           \n",
       "694746                   no                      4   21600   \n",
       "814624                   no                      4   24000   \n",
       "475114                   no                      4   31200   \n",
       "497243                   no                      3   26400   \n",
       "168668                   no                      4   18000   \n",
       "641150                  yes                      4   12000   \n",
       "\n",
       "        job_satisfaction_rate  \n",
       "id                             \n",
       "694746                   0.62  \n",
       "814624                   0.88  \n",
       "475114                   0.63  \n",
       "497243                   0.28  \n",
       "168668                   0.88  \n",
       "641150                   0.54  "
      ]
     },
     "execution_count": 6,
     "metadata": {},
     "output_type": "execute_result"
    }
   ],
   "source": [
    "train_job_satisfaction_rate[train_job_satisfaction_rate['dept'].isna()]"
   ]
  },
  {
   "cell_type": "code",
   "execution_count": 7,
   "id": "d009b9ee",
   "metadata": {},
   "outputs": [
    {
     "data": {
      "text/html": [
       "<div>\n",
       "<style scoped>\n",
       "    .dataframe tbody tr th:only-of-type {\n",
       "        vertical-align: middle;\n",
       "    }\n",
       "\n",
       "    .dataframe tbody tr th {\n",
       "        vertical-align: top;\n",
       "    }\n",
       "\n",
       "    .dataframe thead th {\n",
       "        text-align: right;\n",
       "    }\n",
       "</style>\n",
       "<table border=\"1\" class=\"dataframe\">\n",
       "  <thead>\n",
       "    <tr style=\"text-align: right;\">\n",
       "      <th></th>\n",
       "      <th>dept</th>\n",
       "      <th>level</th>\n",
       "      <th>workload</th>\n",
       "      <th>employment_years</th>\n",
       "      <th>last_year_promo</th>\n",
       "      <th>last_year_violations</th>\n",
       "      <th>supervisor_evaluation</th>\n",
       "      <th>salary</th>\n",
       "      <th>job_satisfaction_rate</th>\n",
       "    </tr>\n",
       "    <tr>\n",
       "      <th>id</th>\n",
       "      <th></th>\n",
       "      <th></th>\n",
       "      <th></th>\n",
       "      <th></th>\n",
       "      <th></th>\n",
       "      <th></th>\n",
       "      <th></th>\n",
       "      <th></th>\n",
       "      <th></th>\n",
       "    </tr>\n",
       "  </thead>\n",
       "  <tbody>\n",
       "    <tr>\n",
       "      <th>631073</th>\n",
       "      <td>sales</td>\n",
       "      <td>NaN</td>\n",
       "      <td>medium</td>\n",
       "      <td>1</td>\n",
       "      <td>no</td>\n",
       "      <td>no</td>\n",
       "      <td>4</td>\n",
       "      <td>27600</td>\n",
       "      <td>0.66</td>\n",
       "    </tr>\n",
       "    <tr>\n",
       "      <th>416327</th>\n",
       "      <td>sales</td>\n",
       "      <td>NaN</td>\n",
       "      <td>low</td>\n",
       "      <td>1</td>\n",
       "      <td>no</td>\n",
       "      <td>no</td>\n",
       "      <td>5</td>\n",
       "      <td>18000</td>\n",
       "      <td>0.73</td>\n",
       "    </tr>\n",
       "    <tr>\n",
       "      <th>135043</th>\n",
       "      <td>sales</td>\n",
       "      <td>NaN</td>\n",
       "      <td>medium</td>\n",
       "      <td>1</td>\n",
       "      <td>no</td>\n",
       "      <td>no</td>\n",
       "      <td>3</td>\n",
       "      <td>26400</td>\n",
       "      <td>0.30</td>\n",
       "    </tr>\n",
       "    <tr>\n",
       "      <th>998838</th>\n",
       "      <td>sales</td>\n",
       "      <td>NaN</td>\n",
       "      <td>medium</td>\n",
       "      <td>1</td>\n",
       "      <td>no</td>\n",
       "      <td>no</td>\n",
       "      <td>5</td>\n",
       "      <td>27600</td>\n",
       "      <td>0.71</td>\n",
       "    </tr>\n",
       "  </tbody>\n",
       "</table>\n",
       "</div>"
      ],
      "text/plain": [
       "         dept level workload  employment_years last_year_promo  \\\n",
       "id                                                               \n",
       "631073  sales   NaN   medium                 1              no   \n",
       "416327  sales   NaN      low                 1              no   \n",
       "135043  sales   NaN   medium                 1              no   \n",
       "998838  sales   NaN   medium                 1              no   \n",
       "\n",
       "       last_year_violations  supervisor_evaluation  salary  \\\n",
       "id                                                           \n",
       "631073                   no                      4   27600   \n",
       "416327                   no                      5   18000   \n",
       "135043                   no                      3   26400   \n",
       "998838                   no                      5   27600   \n",
       "\n",
       "        job_satisfaction_rate  \n",
       "id                             \n",
       "631073                   0.66  \n",
       "416327                   0.73  \n",
       "135043                   0.30  \n",
       "998838                   0.71  "
      ]
     },
     "execution_count": 7,
     "metadata": {},
     "output_type": "execute_result"
    }
   ],
   "source": [
    "train_job_satisfaction_rate[train_job_satisfaction_rate['level'].isna()]"
   ]
  },
  {
   "cell_type": "code",
   "execution_count": 8,
   "id": "952a4cc7",
   "metadata": {},
   "outputs": [
    {
     "data": {
      "text/plain": [
       "sales         1512\n",
       "technology     866\n",
       "purchasing     610\n",
       "marketing      550\n",
       "hr             456\n",
       "Name: dept, dtype: int64"
      ]
     },
     "execution_count": 8,
     "metadata": {},
     "output_type": "execute_result"
    }
   ],
   "source": [
    "train_job_satisfaction_rate.dept.value_counts()"
   ]
  },
  {
   "cell_type": "code",
   "execution_count": 9,
   "id": "adb93ba7",
   "metadata": {},
   "outputs": [
    {
     "data": {
      "text/plain": [
       "no     3880\n",
       "yes     120\n",
       "Name: last_year_promo, dtype: int64"
      ]
     },
     "execution_count": 9,
     "metadata": {},
     "output_type": "execute_result"
    }
   ],
   "source": [
    "train_job_satisfaction_rate.last_year_promo.value_counts()"
   ]
  },
  {
   "cell_type": "code",
   "execution_count": 10,
   "id": "27cb5b11",
   "metadata": {},
   "outputs": [
    {
     "data": {
      "text/plain": [
       "no     3441\n",
       "yes     559\n",
       "Name: last_year_violations, dtype: int64"
      ]
     },
     "execution_count": 10,
     "metadata": {},
     "output_type": "execute_result"
    }
   ],
   "source": [
    "train_job_satisfaction_rate.last_year_violations.value_counts()"
   ]
  },
  {
   "cell_type": "markdown",
   "id": "426e9c2d",
   "metadata": {},
   "source": [
    "For data preprocessing, we will create a simple pipeline that fills in all missing values in any column, complemented by OneHotEncoder and OrdinalEncoder for categorical variables. I decided to keep all categories (drop=None), as, from what I understand, dropping categories may create issues with training downstream models (models that are trained using the output of a model that used this data as input). We won't scale the values for now, as data analysis is yet to be done, and we don't want to train the scaler on outliers if any are present."
   ]
  },
  {
   "cell_type": "code",
   "execution_count": 11,
   "id": "8024a207",
   "metadata": {},
   "outputs": [
    {
     "data": {
      "text/html": [
       "<div>\n",
       "<style scoped>\n",
       "    .dataframe tbody tr th:only-of-type {\n",
       "        vertical-align: middle;\n",
       "    }\n",
       "\n",
       "    .dataframe tbody tr th {\n",
       "        vertical-align: top;\n",
       "    }\n",
       "\n",
       "    .dataframe thead th {\n",
       "        text-align: right;\n",
       "    }\n",
       "</style>\n",
       "<table border=\"1\" class=\"dataframe\">\n",
       "  <thead>\n",
       "    <tr style=\"text-align: right;\">\n",
       "      <th></th>\n",
       "      <th>dept</th>\n",
       "      <th>level</th>\n",
       "      <th>workload</th>\n",
       "      <th>employment_years</th>\n",
       "      <th>last_year_promo</th>\n",
       "      <th>last_year_violations</th>\n",
       "      <th>supervisor_evaluation</th>\n",
       "      <th>salary</th>\n",
       "      <th>job_satisfaction_rate</th>\n",
       "    </tr>\n",
       "    <tr>\n",
       "      <th>id</th>\n",
       "      <th></th>\n",
       "      <th></th>\n",
       "      <th></th>\n",
       "      <th></th>\n",
       "      <th></th>\n",
       "      <th></th>\n",
       "      <th></th>\n",
       "      <th></th>\n",
       "      <th></th>\n",
       "    </tr>\n",
       "  </thead>\n",
       "  <tbody>\n",
       "    <tr>\n",
       "      <th>155278</th>\n",
       "      <td>sales</td>\n",
       "      <td>junior</td>\n",
       "      <td>medium</td>\n",
       "      <td>2</td>\n",
       "      <td>no</td>\n",
       "      <td>no</td>\n",
       "      <td>1</td>\n",
       "      <td>24000</td>\n",
       "      <td>0.58</td>\n",
       "    </tr>\n",
       "    <tr>\n",
       "      <th>653870</th>\n",
       "      <td>hr</td>\n",
       "      <td>junior</td>\n",
       "      <td>high</td>\n",
       "      <td>2</td>\n",
       "      <td>no</td>\n",
       "      <td>no</td>\n",
       "      <td>5</td>\n",
       "      <td>38400</td>\n",
       "      <td>0.76</td>\n",
       "    </tr>\n",
       "    <tr>\n",
       "      <th>184592</th>\n",
       "      <td>sales</td>\n",
       "      <td>junior</td>\n",
       "      <td>low</td>\n",
       "      <td>1</td>\n",
       "      <td>no</td>\n",
       "      <td>no</td>\n",
       "      <td>2</td>\n",
       "      <td>12000</td>\n",
       "      <td>0.11</td>\n",
       "    </tr>\n",
       "    <tr>\n",
       "      <th>171431</th>\n",
       "      <td>technology</td>\n",
       "      <td>junior</td>\n",
       "      <td>low</td>\n",
       "      <td>4</td>\n",
       "      <td>no</td>\n",
       "      <td>no</td>\n",
       "      <td>2</td>\n",
       "      <td>18000</td>\n",
       "      <td>0.37</td>\n",
       "    </tr>\n",
       "    <tr>\n",
       "      <th>693419</th>\n",
       "      <td>hr</td>\n",
       "      <td>junior</td>\n",
       "      <td>medium</td>\n",
       "      <td>1</td>\n",
       "      <td>no</td>\n",
       "      <td>no</td>\n",
       "      <td>3</td>\n",
       "      <td>22800</td>\n",
       "      <td>0.20</td>\n",
       "    </tr>\n",
       "  </tbody>\n",
       "</table>\n",
       "</div>"
      ],
      "text/plain": [
       "              dept   level workload  employment_years last_year_promo  \\\n",
       "id                                                                      \n",
       "155278       sales  junior   medium                 2              no   \n",
       "653870          hr  junior     high                 2              no   \n",
       "184592       sales  junior      low                 1              no   \n",
       "171431  technology  junior      low                 4              no   \n",
       "693419          hr  junior   medium                 1              no   \n",
       "\n",
       "       last_year_violations  supervisor_evaluation  salary  \\\n",
       "id                                                           \n",
       "155278                   no                      1   24000   \n",
       "653870                   no                      5   38400   \n",
       "184592                   no                      2   12000   \n",
       "171431                   no                      2   18000   \n",
       "693419                   no                      3   22800   \n",
       "\n",
       "        job_satisfaction_rate  \n",
       "id                             \n",
       "155278                   0.58  \n",
       "653870                   0.76  \n",
       "184592                   0.11  \n",
       "171431                   0.37  \n",
       "693419                   0.20  "
      ]
     },
     "execution_count": 11,
     "metadata": {},
     "output_type": "execute_result"
    }
   ],
   "source": [
    "train_job_satisfaction_rate.head()"
   ]
  },
  {
   "cell_type": "code",
   "execution_count": 12,
   "id": "1663d6df",
   "metadata": {},
   "outputs": [],
   "source": [
    "categorical_features = ['dept', 'last_year_promo', 'last_year_violations']\n",
    "ordinal_features = ['level', 'workload']"
   ]
  },
  {
   "cell_type": "code",
   "execution_count": 13,
   "id": "444ba9b5",
   "metadata": {},
   "outputs": [],
   "source": [
    "numerical_features = ['employment_years', 'salary', 'job_satisfaction_rate', 'supervisor_evaluation'] "
   ]
  },
  {
   "cell_type": "code",
   "execution_count": 14,
   "id": "5b31ba6b",
   "metadata": {},
   "outputs": [],
   "source": [
    "numerical_transformer = Pipeline([\n",
    "    ('imputer', SimpleImputer(strategy='median')),\n",
    "])"
   ]
  },
  {
   "cell_type": "code",
   "execution_count": 15,
   "id": "1c2463f6",
   "metadata": {},
   "outputs": [],
   "source": [
    "categorical_transformer = Pipeline([\n",
    "    ('imputer', SimpleImputer(strategy='most_frequent')),\n",
    "    ('onehot', OneHotEncoder(drop='first', handle_unknown='ignore'))\n",
    "])"
   ]
  },
  {
   "cell_type": "code",
   "execution_count": 16,
   "id": "566c0a02",
   "metadata": {},
   "outputs": [],
   "source": [
    "ordinal_transformer = Pipeline([\n",
    "    ('imputer', SimpleImputer(strategy='most_frequent')),\n",
    "    ('ordinal', OrdinalEncoder(handle_unknown='use_encoded_value', unknown_value=np.nan))\n",
    "])"
   ]
  },
  {
   "cell_type": "code",
   "execution_count": 17,
   "id": "9f54f5a7",
   "metadata": {},
   "outputs": [],
   "source": [
    "preprocessor = ColumnTransformer([\n",
    "    ('num', numerical_transformer, numerical_features),\n",
    "    ('cat', categorical_transformer, categorical_features), \n",
    "    ('ord', ordinal_transformer, ordinal_features)\n",
    "], remainder='passthrough')"
   ]
  },
  {
   "cell_type": "code",
   "execution_count": 18,
   "id": "4c8a9452",
   "metadata": {},
   "outputs": [],
   "source": [
    "train_job_satisfaction_rate_transformed = preprocessor.fit_transform(train_job_satisfaction_rate.replace({' ': np.nan}))"
   ]
  },
  {
   "cell_type": "code",
   "execution_count": 19,
   "id": "9fdf4b57",
   "metadata": {},
   "outputs": [],
   "source": [
    "onehot_feature_names = preprocessor.named_transformers_['cat'].named_steps['onehot'].get_feature_names_out(input_features=categorical_features)\n",
    "\n",
    "new_column_names = list(numerical_features) + list(onehot_feature_names) + list(ordinal_features)"
   ]
  },
  {
   "cell_type": "code",
   "execution_count": 20,
   "id": "ea12970e",
   "metadata": {},
   "outputs": [],
   "source": [
    "train_job_satisfaction_rate_transformed = pd.DataFrame(train_job_satisfaction_rate_transformed, \n",
    "                                                       index=train_job_satisfaction_rate.index, columns = new_column_names)"
   ]
  },
  {
   "cell_type": "code",
   "execution_count": 21,
   "id": "8927fe73",
   "metadata": {},
   "outputs": [
    {
     "data": {
      "text/html": [
       "<div>\n",
       "<style scoped>\n",
       "    .dataframe tbody tr th:only-of-type {\n",
       "        vertical-align: middle;\n",
       "    }\n",
       "\n",
       "    .dataframe tbody tr th {\n",
       "        vertical-align: top;\n",
       "    }\n",
       "\n",
       "    .dataframe thead th {\n",
       "        text-align: right;\n",
       "    }\n",
       "</style>\n",
       "<table border=\"1\" class=\"dataframe\">\n",
       "  <thead>\n",
       "    <tr style=\"text-align: right;\">\n",
       "      <th></th>\n",
       "      <th>employment_years</th>\n",
       "      <th>salary</th>\n",
       "      <th>job_satisfaction_rate</th>\n",
       "      <th>supervisor_evaluation</th>\n",
       "      <th>dept_marketing</th>\n",
       "      <th>dept_purchasing</th>\n",
       "      <th>dept_sales</th>\n",
       "      <th>dept_technology</th>\n",
       "      <th>last_year_promo_yes</th>\n",
       "      <th>last_year_violations_yes</th>\n",
       "      <th>level</th>\n",
       "      <th>workload</th>\n",
       "    </tr>\n",
       "    <tr>\n",
       "      <th>id</th>\n",
       "      <th></th>\n",
       "      <th></th>\n",
       "      <th></th>\n",
       "      <th></th>\n",
       "      <th></th>\n",
       "      <th></th>\n",
       "      <th></th>\n",
       "      <th></th>\n",
       "      <th></th>\n",
       "      <th></th>\n",
       "      <th></th>\n",
       "      <th></th>\n",
       "    </tr>\n",
       "  </thead>\n",
       "  <tbody>\n",
       "    <tr>\n",
       "      <th>155278</th>\n",
       "      <td>2.0</td>\n",
       "      <td>24000.0</td>\n",
       "      <td>0.58</td>\n",
       "      <td>1.0</td>\n",
       "      <td>0.0</td>\n",
       "      <td>0.0</td>\n",
       "      <td>1.0</td>\n",
       "      <td>0.0</td>\n",
       "      <td>0.0</td>\n",
       "      <td>0.0</td>\n",
       "      <td>0.0</td>\n",
       "      <td>2.0</td>\n",
       "    </tr>\n",
       "    <tr>\n",
       "      <th>653870</th>\n",
       "      <td>2.0</td>\n",
       "      <td>38400.0</td>\n",
       "      <td>0.76</td>\n",
       "      <td>5.0</td>\n",
       "      <td>0.0</td>\n",
       "      <td>0.0</td>\n",
       "      <td>0.0</td>\n",
       "      <td>0.0</td>\n",
       "      <td>0.0</td>\n",
       "      <td>0.0</td>\n",
       "      <td>0.0</td>\n",
       "      <td>0.0</td>\n",
       "    </tr>\n",
       "    <tr>\n",
       "      <th>184592</th>\n",
       "      <td>1.0</td>\n",
       "      <td>12000.0</td>\n",
       "      <td>0.11</td>\n",
       "      <td>2.0</td>\n",
       "      <td>0.0</td>\n",
       "      <td>0.0</td>\n",
       "      <td>1.0</td>\n",
       "      <td>0.0</td>\n",
       "      <td>0.0</td>\n",
       "      <td>0.0</td>\n",
       "      <td>0.0</td>\n",
       "      <td>1.0</td>\n",
       "    </tr>\n",
       "    <tr>\n",
       "      <th>171431</th>\n",
       "      <td>4.0</td>\n",
       "      <td>18000.0</td>\n",
       "      <td>0.37</td>\n",
       "      <td>2.0</td>\n",
       "      <td>0.0</td>\n",
       "      <td>0.0</td>\n",
       "      <td>0.0</td>\n",
       "      <td>1.0</td>\n",
       "      <td>0.0</td>\n",
       "      <td>0.0</td>\n",
       "      <td>0.0</td>\n",
       "      <td>1.0</td>\n",
       "    </tr>\n",
       "    <tr>\n",
       "      <th>693419</th>\n",
       "      <td>1.0</td>\n",
       "      <td>22800.0</td>\n",
       "      <td>0.20</td>\n",
       "      <td>3.0</td>\n",
       "      <td>0.0</td>\n",
       "      <td>0.0</td>\n",
       "      <td>0.0</td>\n",
       "      <td>0.0</td>\n",
       "      <td>0.0</td>\n",
       "      <td>0.0</td>\n",
       "      <td>0.0</td>\n",
       "      <td>2.0</td>\n",
       "    </tr>\n",
       "  </tbody>\n",
       "</table>\n",
       "</div>"
      ],
      "text/plain": [
       "        employment_years   salary  job_satisfaction_rate  \\\n",
       "id                                                         \n",
       "155278               2.0  24000.0                   0.58   \n",
       "653870               2.0  38400.0                   0.76   \n",
       "184592               1.0  12000.0                   0.11   \n",
       "171431               4.0  18000.0                   0.37   \n",
       "693419               1.0  22800.0                   0.20   \n",
       "\n",
       "        supervisor_evaluation  dept_marketing  dept_purchasing  dept_sales  \\\n",
       "id                                                                           \n",
       "155278                    1.0             0.0              0.0         1.0   \n",
       "653870                    5.0             0.0              0.0         0.0   \n",
       "184592                    2.0             0.0              0.0         1.0   \n",
       "171431                    2.0             0.0              0.0         0.0   \n",
       "693419                    3.0             0.0              0.0         0.0   \n",
       "\n",
       "        dept_technology  last_year_promo_yes  last_year_violations_yes  level  \\\n",
       "id                                                                              \n",
       "155278              0.0                  0.0                       0.0    0.0   \n",
       "653870              0.0                  0.0                       0.0    0.0   \n",
       "184592              0.0                  0.0                       0.0    0.0   \n",
       "171431              1.0                  0.0                       0.0    0.0   \n",
       "693419              0.0                  0.0                       0.0    0.0   \n",
       "\n",
       "        workload  \n",
       "id                \n",
       "155278       2.0  \n",
       "653870       0.0  \n",
       "184592       1.0  \n",
       "171431       1.0  \n",
       "693419       2.0  "
      ]
     },
     "execution_count": 21,
     "metadata": {},
     "output_type": "execute_result"
    }
   ],
   "source": [
    "train_job_satisfaction_rate_transformed.head()"
   ]
  },
  {
   "cell_type": "markdown",
   "id": "acc8ce60",
   "metadata": {},
   "source": [
    "### test_features + test_target_job_satisfation_rate"
   ]
  },
  {
   "cell_type": "code",
   "execution_count": 22,
   "id": "f9da90fc",
   "metadata": {},
   "outputs": [
    {
     "data": {
      "text/html": [
       "<div>\n",
       "<style scoped>\n",
       "    .dataframe tbody tr th:only-of-type {\n",
       "        vertical-align: middle;\n",
       "    }\n",
       "\n",
       "    .dataframe tbody tr th {\n",
       "        vertical-align: top;\n",
       "    }\n",
       "\n",
       "    .dataframe thead th {\n",
       "        text-align: right;\n",
       "    }\n",
       "</style>\n",
       "<table border=\"1\" class=\"dataframe\">\n",
       "  <thead>\n",
       "    <tr style=\"text-align: right;\">\n",
       "      <th></th>\n",
       "      <th>dept</th>\n",
       "      <th>level</th>\n",
       "      <th>workload</th>\n",
       "      <th>employment_years</th>\n",
       "      <th>last_year_promo</th>\n",
       "      <th>last_year_violations</th>\n",
       "      <th>supervisor_evaluation</th>\n",
       "      <th>salary</th>\n",
       "    </tr>\n",
       "    <tr>\n",
       "      <th>id</th>\n",
       "      <th></th>\n",
       "      <th></th>\n",
       "      <th></th>\n",
       "      <th></th>\n",
       "      <th></th>\n",
       "      <th></th>\n",
       "      <th></th>\n",
       "      <th></th>\n",
       "    </tr>\n",
       "  </thead>\n",
       "  <tbody>\n",
       "    <tr>\n",
       "      <th>485046</th>\n",
       "      <td>marketing</td>\n",
       "      <td>junior</td>\n",
       "      <td>medium</td>\n",
       "      <td>2</td>\n",
       "      <td>no</td>\n",
       "      <td>no</td>\n",
       "      <td>5</td>\n",
       "      <td>28800</td>\n",
       "    </tr>\n",
       "    <tr>\n",
       "      <th>686555</th>\n",
       "      <td>hr</td>\n",
       "      <td>junior</td>\n",
       "      <td>medium</td>\n",
       "      <td>1</td>\n",
       "      <td>no</td>\n",
       "      <td>no</td>\n",
       "      <td>4</td>\n",
       "      <td>30000</td>\n",
       "    </tr>\n",
       "    <tr>\n",
       "      <th>467458</th>\n",
       "      <td>sales</td>\n",
       "      <td>middle</td>\n",
       "      <td>low</td>\n",
       "      <td>5</td>\n",
       "      <td>no</td>\n",
       "      <td>no</td>\n",
       "      <td>4</td>\n",
       "      <td>19200</td>\n",
       "    </tr>\n",
       "    <tr>\n",
       "      <th>418655</th>\n",
       "      <td>sales</td>\n",
       "      <td>middle</td>\n",
       "      <td>low</td>\n",
       "      <td>6</td>\n",
       "      <td>no</td>\n",
       "      <td>no</td>\n",
       "      <td>4</td>\n",
       "      <td>19200</td>\n",
       "    </tr>\n",
       "    <tr>\n",
       "      <th>789145</th>\n",
       "      <td>hr</td>\n",
       "      <td>middle</td>\n",
       "      <td>medium</td>\n",
       "      <td>5</td>\n",
       "      <td>no</td>\n",
       "      <td>no</td>\n",
       "      <td>5</td>\n",
       "      <td>40800</td>\n",
       "    </tr>\n",
       "  </tbody>\n",
       "</table>\n",
       "</div>"
      ],
      "text/plain": [
       "             dept   level workload  employment_years last_year_promo  \\\n",
       "id                                                                     \n",
       "485046  marketing  junior   medium                 2              no   \n",
       "686555         hr  junior   medium                 1              no   \n",
       "467458      sales  middle      low                 5              no   \n",
       "418655      sales  middle      low                 6              no   \n",
       "789145         hr  middle   medium                 5              no   \n",
       "\n",
       "       last_year_violations  supervisor_evaluation  salary  \n",
       "id                                                          \n",
       "485046                   no                      5   28800  \n",
       "686555                   no                      4   30000  \n",
       "467458                   no                      4   19200  \n",
       "418655                   no                      4   19200  \n",
       "789145                   no                      5   40800  "
      ]
     },
     "execution_count": 22,
     "metadata": {},
     "output_type": "execute_result"
    }
   ],
   "source": [
    "test_features.head()"
   ]
  },
  {
   "cell_type": "code",
   "execution_count": 23,
   "id": "3239238d",
   "metadata": {},
   "outputs": [
    {
     "name": "stdout",
     "output_type": "stream",
     "text": [
      "<class 'pandas.core.frame.DataFrame'>\n",
      "Int64Index: 2000 entries, 485046 to 771859\n",
      "Data columns (total 8 columns):\n",
      " #   Column                 Non-Null Count  Dtype \n",
      "---  ------                 --------------  ----- \n",
      " 0   dept                   1998 non-null   object\n",
      " 1   level                  1999 non-null   object\n",
      " 2   workload               2000 non-null   object\n",
      " 3   employment_years       2000 non-null   int64 \n",
      " 4   last_year_promo        2000 non-null   object\n",
      " 5   last_year_violations   2000 non-null   object\n",
      " 6   supervisor_evaluation  2000 non-null   int64 \n",
      " 7   salary                 2000 non-null   int64 \n",
      "dtypes: int64(3), object(5)\n",
      "memory usage: 140.6+ KB\n"
     ]
    }
   ],
   "source": [
    "test_features.info()"
   ]
  },
  {
   "cell_type": "markdown",
   "id": "e1c03138",
   "metadata": {},
   "source": [
    "We will use pre-trained transformer to process the data: "
   ]
  },
  {
   "cell_type": "code",
   "execution_count": 24,
   "id": "94fab065",
   "metadata": {},
   "outputs": [],
   "source": [
    "test_features['job_satisfaction_rate'] = test_target_job_satisfaction_rate['job_satisfaction_rate']"
   ]
  },
  {
   "cell_type": "code",
   "execution_count": 25,
   "id": "c7ce6802",
   "metadata": {},
   "outputs": [],
   "source": [
    "test_features_transformed = preprocessor.transform(test_features.replace({' ': np.nan}))"
   ]
  },
  {
   "cell_type": "code",
   "execution_count": 26,
   "id": "a6ee0c7b",
   "metadata": {},
   "outputs": [],
   "source": [
    "test_features_transformed = pd.DataFrame(test_features_transformed, index = test_features.index, columns = new_column_names)"
   ]
  },
  {
   "cell_type": "code",
   "execution_count": 27,
   "id": "a873f7d7",
   "metadata": {},
   "outputs": [
    {
     "data": {
      "text/html": [
       "<div>\n",
       "<style scoped>\n",
       "    .dataframe tbody tr th:only-of-type {\n",
       "        vertical-align: middle;\n",
       "    }\n",
       "\n",
       "    .dataframe tbody tr th {\n",
       "        vertical-align: top;\n",
       "    }\n",
       "\n",
       "    .dataframe thead th {\n",
       "        text-align: right;\n",
       "    }\n",
       "</style>\n",
       "<table border=\"1\" class=\"dataframe\">\n",
       "  <thead>\n",
       "    <tr style=\"text-align: right;\">\n",
       "      <th></th>\n",
       "      <th>employment_years</th>\n",
       "      <th>salary</th>\n",
       "      <th>job_satisfaction_rate</th>\n",
       "      <th>supervisor_evaluation</th>\n",
       "      <th>dept_marketing</th>\n",
       "      <th>dept_purchasing</th>\n",
       "      <th>dept_sales</th>\n",
       "      <th>dept_technology</th>\n",
       "      <th>last_year_promo_yes</th>\n",
       "      <th>last_year_violations_yes</th>\n",
       "      <th>level</th>\n",
       "      <th>workload</th>\n",
       "    </tr>\n",
       "    <tr>\n",
       "      <th>id</th>\n",
       "      <th></th>\n",
       "      <th></th>\n",
       "      <th></th>\n",
       "      <th></th>\n",
       "      <th></th>\n",
       "      <th></th>\n",
       "      <th></th>\n",
       "      <th></th>\n",
       "      <th></th>\n",
       "      <th></th>\n",
       "      <th></th>\n",
       "      <th></th>\n",
       "    </tr>\n",
       "  </thead>\n",
       "  <tbody>\n",
       "    <tr>\n",
       "      <th>485046</th>\n",
       "      <td>2.0</td>\n",
       "      <td>28800.0</td>\n",
       "      <td>0.79</td>\n",
       "      <td>5.0</td>\n",
       "      <td>1.0</td>\n",
       "      <td>0.0</td>\n",
       "      <td>0.0</td>\n",
       "      <td>0.0</td>\n",
       "      <td>0.0</td>\n",
       "      <td>0.0</td>\n",
       "      <td>0.0</td>\n",
       "      <td>2.0</td>\n",
       "    </tr>\n",
       "    <tr>\n",
       "      <th>686555</th>\n",
       "      <td>1.0</td>\n",
       "      <td>30000.0</td>\n",
       "      <td>0.72</td>\n",
       "      <td>4.0</td>\n",
       "      <td>0.0</td>\n",
       "      <td>0.0</td>\n",
       "      <td>0.0</td>\n",
       "      <td>0.0</td>\n",
       "      <td>0.0</td>\n",
       "      <td>0.0</td>\n",
       "      <td>0.0</td>\n",
       "      <td>2.0</td>\n",
       "    </tr>\n",
       "    <tr>\n",
       "      <th>467458</th>\n",
       "      <td>5.0</td>\n",
       "      <td>19200.0</td>\n",
       "      <td>0.64</td>\n",
       "      <td>4.0</td>\n",
       "      <td>0.0</td>\n",
       "      <td>0.0</td>\n",
       "      <td>1.0</td>\n",
       "      <td>0.0</td>\n",
       "      <td>0.0</td>\n",
       "      <td>0.0</td>\n",
       "      <td>1.0</td>\n",
       "      <td>1.0</td>\n",
       "    </tr>\n",
       "    <tr>\n",
       "      <th>418655</th>\n",
       "      <td>6.0</td>\n",
       "      <td>19200.0</td>\n",
       "      <td>0.60</td>\n",
       "      <td>4.0</td>\n",
       "      <td>0.0</td>\n",
       "      <td>0.0</td>\n",
       "      <td>1.0</td>\n",
       "      <td>0.0</td>\n",
       "      <td>0.0</td>\n",
       "      <td>0.0</td>\n",
       "      <td>1.0</td>\n",
       "      <td>1.0</td>\n",
       "    </tr>\n",
       "    <tr>\n",
       "      <th>789145</th>\n",
       "      <td>5.0</td>\n",
       "      <td>40800.0</td>\n",
       "      <td>0.75</td>\n",
       "      <td>5.0</td>\n",
       "      <td>0.0</td>\n",
       "      <td>0.0</td>\n",
       "      <td>0.0</td>\n",
       "      <td>0.0</td>\n",
       "      <td>0.0</td>\n",
       "      <td>0.0</td>\n",
       "      <td>1.0</td>\n",
       "      <td>2.0</td>\n",
       "    </tr>\n",
       "  </tbody>\n",
       "</table>\n",
       "</div>"
      ],
      "text/plain": [
       "        employment_years   salary  job_satisfaction_rate  \\\n",
       "id                                                         \n",
       "485046               2.0  28800.0                   0.79   \n",
       "686555               1.0  30000.0                   0.72   \n",
       "467458               5.0  19200.0                   0.64   \n",
       "418655               6.0  19200.0                   0.60   \n",
       "789145               5.0  40800.0                   0.75   \n",
       "\n",
       "        supervisor_evaluation  dept_marketing  dept_purchasing  dept_sales  \\\n",
       "id                                                                           \n",
       "485046                    5.0             1.0              0.0         0.0   \n",
       "686555                    4.0             0.0              0.0         0.0   \n",
       "467458                    4.0             0.0              0.0         1.0   \n",
       "418655                    4.0             0.0              0.0         1.0   \n",
       "789145                    5.0             0.0              0.0         0.0   \n",
       "\n",
       "        dept_technology  last_year_promo_yes  last_year_violations_yes  level  \\\n",
       "id                                                                              \n",
       "485046              0.0                  0.0                       0.0    0.0   \n",
       "686555              0.0                  0.0                       0.0    0.0   \n",
       "467458              0.0                  0.0                       0.0    1.0   \n",
       "418655              0.0                  0.0                       0.0    1.0   \n",
       "789145              0.0                  0.0                       0.0    1.0   \n",
       "\n",
       "        workload  \n",
       "id                \n",
       "485046       2.0  \n",
       "686555       2.0  \n",
       "467458       1.0  \n",
       "418655       1.0  \n",
       "789145       2.0  "
      ]
     },
     "execution_count": 27,
     "metadata": {},
     "output_type": "execute_result"
    }
   ],
   "source": [
    "test_features_transformed.head()"
   ]
  },
  {
   "cell_type": "markdown",
   "id": "026d2d5a",
   "metadata": {},
   "source": [
    "## Exploratory data analysis"
   ]
  },
  {
   "cell_type": "code",
   "execution_count": 28,
   "id": "698de75d",
   "metadata": {},
   "outputs": [
    {
     "data": {
      "text/html": [
       "<div>\n",
       "<style scoped>\n",
       "    .dataframe tbody tr th:only-of-type {\n",
       "        vertical-align: middle;\n",
       "    }\n",
       "\n",
       "    .dataframe tbody tr th {\n",
       "        vertical-align: top;\n",
       "    }\n",
       "\n",
       "    .dataframe thead th {\n",
       "        text-align: right;\n",
       "    }\n",
       "</style>\n",
       "<table border=\"1\" class=\"dataframe\">\n",
       "  <thead>\n",
       "    <tr style=\"text-align: right;\">\n",
       "      <th></th>\n",
       "      <th>employment_years</th>\n",
       "      <th>salary</th>\n",
       "      <th>job_satisfaction_rate</th>\n",
       "      <th>supervisor_evaluation</th>\n",
       "      <th>dept_marketing</th>\n",
       "      <th>dept_purchasing</th>\n",
       "      <th>dept_sales</th>\n",
       "      <th>dept_technology</th>\n",
       "      <th>last_year_promo_yes</th>\n",
       "      <th>last_year_violations_yes</th>\n",
       "      <th>level</th>\n",
       "      <th>workload</th>\n",
       "    </tr>\n",
       "  </thead>\n",
       "  <tbody>\n",
       "    <tr>\n",
       "      <th>count</th>\n",
       "      <td>4000.000000</td>\n",
       "      <td>4000.000000</td>\n",
       "      <td>4000.000000</td>\n",
       "      <td>4000.000000</td>\n",
       "      <td>4000.000000</td>\n",
       "      <td>4000.00000</td>\n",
       "      <td>4000.000000</td>\n",
       "      <td>4000.00000</td>\n",
       "      <td>4000.000000</td>\n",
       "      <td>4000.000000</td>\n",
       "      <td>4000.000000</td>\n",
       "      <td>4000.000000</td>\n",
       "    </tr>\n",
       "    <tr>\n",
       "      <th>mean</th>\n",
       "      <td>3.718500</td>\n",
       "      <td>33926.700000</td>\n",
       "      <td>0.533995</td>\n",
       "      <td>3.476500</td>\n",
       "      <td>0.137500</td>\n",
       "      <td>0.15250</td>\n",
       "      <td>0.379500</td>\n",
       "      <td>0.21650</td>\n",
       "      <td>0.030000</td>\n",
       "      <td>0.139750</td>\n",
       "      <td>0.615000</td>\n",
       "      <td>1.333000</td>\n",
       "    </tr>\n",
       "    <tr>\n",
       "      <th>std</th>\n",
       "      <td>2.542513</td>\n",
       "      <td>14900.703838</td>\n",
       "      <td>0.225327</td>\n",
       "      <td>1.008812</td>\n",
       "      <td>0.344417</td>\n",
       "      <td>0.35955</td>\n",
       "      <td>0.485323</td>\n",
       "      <td>0.41191</td>\n",
       "      <td>0.170609</td>\n",
       "      <td>0.346771</td>\n",
       "      <td>0.644887</td>\n",
       "      <td>0.767632</td>\n",
       "    </tr>\n",
       "    <tr>\n",
       "      <th>min</th>\n",
       "      <td>1.000000</td>\n",
       "      <td>12000.000000</td>\n",
       "      <td>0.030000</td>\n",
       "      <td>1.000000</td>\n",
       "      <td>0.000000</td>\n",
       "      <td>0.00000</td>\n",
       "      <td>0.000000</td>\n",
       "      <td>0.00000</td>\n",
       "      <td>0.000000</td>\n",
       "      <td>0.000000</td>\n",
       "      <td>0.000000</td>\n",
       "      <td>0.000000</td>\n",
       "    </tr>\n",
       "    <tr>\n",
       "      <th>25%</th>\n",
       "      <td>2.000000</td>\n",
       "      <td>22800.000000</td>\n",
       "      <td>0.360000</td>\n",
       "      <td>3.000000</td>\n",
       "      <td>0.000000</td>\n",
       "      <td>0.00000</td>\n",
       "      <td>0.000000</td>\n",
       "      <td>0.00000</td>\n",
       "      <td>0.000000</td>\n",
       "      <td>0.000000</td>\n",
       "      <td>0.000000</td>\n",
       "      <td>1.000000</td>\n",
       "    </tr>\n",
       "    <tr>\n",
       "      <th>50%</th>\n",
       "      <td>3.000000</td>\n",
       "      <td>30000.000000</td>\n",
       "      <td>0.560000</td>\n",
       "      <td>4.000000</td>\n",
       "      <td>0.000000</td>\n",
       "      <td>0.00000</td>\n",
       "      <td>0.000000</td>\n",
       "      <td>0.00000</td>\n",
       "      <td>0.000000</td>\n",
       "      <td>0.000000</td>\n",
       "      <td>1.000000</td>\n",
       "      <td>2.000000</td>\n",
       "    </tr>\n",
       "    <tr>\n",
       "      <th>75%</th>\n",
       "      <td>6.000000</td>\n",
       "      <td>43200.000000</td>\n",
       "      <td>0.710000</td>\n",
       "      <td>4.000000</td>\n",
       "      <td>0.000000</td>\n",
       "      <td>0.00000</td>\n",
       "      <td>1.000000</td>\n",
       "      <td>0.00000</td>\n",
       "      <td>0.000000</td>\n",
       "      <td>0.000000</td>\n",
       "      <td>1.000000</td>\n",
       "      <td>2.000000</td>\n",
       "    </tr>\n",
       "    <tr>\n",
       "      <th>max</th>\n",
       "      <td>10.000000</td>\n",
       "      <td>98400.000000</td>\n",
       "      <td>1.000000</td>\n",
       "      <td>5.000000</td>\n",
       "      <td>1.000000</td>\n",
       "      <td>1.00000</td>\n",
       "      <td>1.000000</td>\n",
       "      <td>1.00000</td>\n",
       "      <td>1.000000</td>\n",
       "      <td>1.000000</td>\n",
       "      <td>2.000000</td>\n",
       "      <td>2.000000</td>\n",
       "    </tr>\n",
       "  </tbody>\n",
       "</table>\n",
       "</div>"
      ],
      "text/plain": [
       "       employment_years        salary  job_satisfaction_rate  \\\n",
       "count       4000.000000   4000.000000            4000.000000   \n",
       "mean           3.718500  33926.700000               0.533995   \n",
       "std            2.542513  14900.703838               0.225327   \n",
       "min            1.000000  12000.000000               0.030000   \n",
       "25%            2.000000  22800.000000               0.360000   \n",
       "50%            3.000000  30000.000000               0.560000   \n",
       "75%            6.000000  43200.000000               0.710000   \n",
       "max           10.000000  98400.000000               1.000000   \n",
       "\n",
       "       supervisor_evaluation  dept_marketing  dept_purchasing   dept_sales  \\\n",
       "count            4000.000000     4000.000000       4000.00000  4000.000000   \n",
       "mean                3.476500        0.137500          0.15250     0.379500   \n",
       "std                 1.008812        0.344417          0.35955     0.485323   \n",
       "min                 1.000000        0.000000          0.00000     0.000000   \n",
       "25%                 3.000000        0.000000          0.00000     0.000000   \n",
       "50%                 4.000000        0.000000          0.00000     0.000000   \n",
       "75%                 4.000000        0.000000          0.00000     1.000000   \n",
       "max                 5.000000        1.000000          1.00000     1.000000   \n",
       "\n",
       "       dept_technology  last_year_promo_yes  last_year_violations_yes  \\\n",
       "count       4000.00000          4000.000000               4000.000000   \n",
       "mean           0.21650             0.030000                  0.139750   \n",
       "std            0.41191             0.170609                  0.346771   \n",
       "min            0.00000             0.000000                  0.000000   \n",
       "25%            0.00000             0.000000                  0.000000   \n",
       "50%            0.00000             0.000000                  0.000000   \n",
       "75%            0.00000             0.000000                  0.000000   \n",
       "max            1.00000             1.000000                  1.000000   \n",
       "\n",
       "             level     workload  \n",
       "count  4000.000000  4000.000000  \n",
       "mean      0.615000     1.333000  \n",
       "std       0.644887     0.767632  \n",
       "min       0.000000     0.000000  \n",
       "25%       0.000000     1.000000  \n",
       "50%       1.000000     2.000000  \n",
       "75%       1.000000     2.000000  \n",
       "max       2.000000     2.000000  "
      ]
     },
     "execution_count": 28,
     "metadata": {},
     "output_type": "execute_result"
    }
   ],
   "source": [
    "train_job_satisfaction_rate_transformed.describe()"
   ]
  },
  {
   "cell_type": "code",
   "execution_count": 29,
   "id": "73c84e08",
   "metadata": {},
   "outputs": [
    {
     "data": {
      "text/html": [
       "<div>\n",
       "<style scoped>\n",
       "    .dataframe tbody tr th:only-of-type {\n",
       "        vertical-align: middle;\n",
       "    }\n",
       "\n",
       "    .dataframe tbody tr th {\n",
       "        vertical-align: top;\n",
       "    }\n",
       "\n",
       "    .dataframe thead th {\n",
       "        text-align: right;\n",
       "    }\n",
       "</style>\n",
       "<table border=\"1\" class=\"dataframe\">\n",
       "  <thead>\n",
       "    <tr style=\"text-align: right;\">\n",
       "      <th></th>\n",
       "      <th>employment_years</th>\n",
       "      <th>salary</th>\n",
       "      <th>job_satisfaction_rate</th>\n",
       "      <th>supervisor_evaluation</th>\n",
       "      <th>dept_marketing</th>\n",
       "      <th>dept_purchasing</th>\n",
       "      <th>dept_sales</th>\n",
       "      <th>dept_technology</th>\n",
       "      <th>last_year_promo_yes</th>\n",
       "      <th>last_year_violations_yes</th>\n",
       "      <th>level</th>\n",
       "      <th>workload</th>\n",
       "    </tr>\n",
       "  </thead>\n",
       "  <tbody>\n",
       "    <tr>\n",
       "      <th>count</th>\n",
       "      <td>2000.000000</td>\n",
       "      <td>2000.000000</td>\n",
       "      <td>2000.00000</td>\n",
       "      <td>2000.000000</td>\n",
       "      <td>2000.000000</td>\n",
       "      <td>2000.000000</td>\n",
       "      <td>2000.00000</td>\n",
       "      <td>2000.000000</td>\n",
       "      <td>2000.000000</td>\n",
       "      <td>2000.000000</td>\n",
       "      <td>2000.000000</td>\n",
       "      <td>2000.000000</td>\n",
       "    </tr>\n",
       "    <tr>\n",
       "      <th>mean</th>\n",
       "      <td>3.666500</td>\n",
       "      <td>34066.800000</td>\n",
       "      <td>0.54878</td>\n",
       "      <td>3.526500</td>\n",
       "      <td>0.139500</td>\n",
       "      <td>0.136500</td>\n",
       "      <td>0.38300</td>\n",
       "      <td>0.227500</td>\n",
       "      <td>0.031500</td>\n",
       "      <td>0.131000</td>\n",
       "      <td>0.598000</td>\n",
       "      <td>1.340500</td>\n",
       "    </tr>\n",
       "    <tr>\n",
       "      <th>std</th>\n",
       "      <td>2.537222</td>\n",
       "      <td>15398.436729</td>\n",
       "      <td>0.22011</td>\n",
       "      <td>0.996892</td>\n",
       "      <td>0.346554</td>\n",
       "      <td>0.343405</td>\n",
       "      <td>0.48624</td>\n",
       "      <td>0.419323</td>\n",
       "      <td>0.174708</td>\n",
       "      <td>0.337485</td>\n",
       "      <td>0.641562</td>\n",
       "      <td>0.766716</td>\n",
       "    </tr>\n",
       "    <tr>\n",
       "      <th>min</th>\n",
       "      <td>1.000000</td>\n",
       "      <td>12000.000000</td>\n",
       "      <td>0.03000</td>\n",
       "      <td>1.000000</td>\n",
       "      <td>0.000000</td>\n",
       "      <td>0.000000</td>\n",
       "      <td>0.00000</td>\n",
       "      <td>0.000000</td>\n",
       "      <td>0.000000</td>\n",
       "      <td>0.000000</td>\n",
       "      <td>0.000000</td>\n",
       "      <td>0.000000</td>\n",
       "    </tr>\n",
       "    <tr>\n",
       "      <th>25%</th>\n",
       "      <td>1.000000</td>\n",
       "      <td>22800.000000</td>\n",
       "      <td>0.38000</td>\n",
       "      <td>3.000000</td>\n",
       "      <td>0.000000</td>\n",
       "      <td>0.000000</td>\n",
       "      <td>0.00000</td>\n",
       "      <td>0.000000</td>\n",
       "      <td>0.000000</td>\n",
       "      <td>0.000000</td>\n",
       "      <td>0.000000</td>\n",
       "      <td>1.000000</td>\n",
       "    </tr>\n",
       "    <tr>\n",
       "      <th>50%</th>\n",
       "      <td>3.000000</td>\n",
       "      <td>30000.000000</td>\n",
       "      <td>0.58000</td>\n",
       "      <td>4.000000</td>\n",
       "      <td>0.000000</td>\n",
       "      <td>0.000000</td>\n",
       "      <td>0.00000</td>\n",
       "      <td>0.000000</td>\n",
       "      <td>0.000000</td>\n",
       "      <td>0.000000</td>\n",
       "      <td>1.000000</td>\n",
       "      <td>2.000000</td>\n",
       "    </tr>\n",
       "    <tr>\n",
       "      <th>75%</th>\n",
       "      <td>6.000000</td>\n",
       "      <td>43200.000000</td>\n",
       "      <td>0.72000</td>\n",
       "      <td>4.000000</td>\n",
       "      <td>0.000000</td>\n",
       "      <td>0.000000</td>\n",
       "      <td>1.00000</td>\n",
       "      <td>0.000000</td>\n",
       "      <td>0.000000</td>\n",
       "      <td>0.000000</td>\n",
       "      <td>1.000000</td>\n",
       "      <td>2.000000</td>\n",
       "    </tr>\n",
       "    <tr>\n",
       "      <th>max</th>\n",
       "      <td>10.000000</td>\n",
       "      <td>96000.000000</td>\n",
       "      <td>1.00000</td>\n",
       "      <td>5.000000</td>\n",
       "      <td>1.000000</td>\n",
       "      <td>1.000000</td>\n",
       "      <td>1.00000</td>\n",
       "      <td>1.000000</td>\n",
       "      <td>1.000000</td>\n",
       "      <td>1.000000</td>\n",
       "      <td>2.000000</td>\n",
       "      <td>2.000000</td>\n",
       "    </tr>\n",
       "  </tbody>\n",
       "</table>\n",
       "</div>"
      ],
      "text/plain": [
       "       employment_years        salary  job_satisfaction_rate  \\\n",
       "count       2000.000000   2000.000000             2000.00000   \n",
       "mean           3.666500  34066.800000                0.54878   \n",
       "std            2.537222  15398.436729                0.22011   \n",
       "min            1.000000  12000.000000                0.03000   \n",
       "25%            1.000000  22800.000000                0.38000   \n",
       "50%            3.000000  30000.000000                0.58000   \n",
       "75%            6.000000  43200.000000                0.72000   \n",
       "max           10.000000  96000.000000                1.00000   \n",
       "\n",
       "       supervisor_evaluation  dept_marketing  dept_purchasing  dept_sales  \\\n",
       "count            2000.000000     2000.000000      2000.000000  2000.00000   \n",
       "mean                3.526500        0.139500         0.136500     0.38300   \n",
       "std                 0.996892        0.346554         0.343405     0.48624   \n",
       "min                 1.000000        0.000000         0.000000     0.00000   \n",
       "25%                 3.000000        0.000000         0.000000     0.00000   \n",
       "50%                 4.000000        0.000000         0.000000     0.00000   \n",
       "75%                 4.000000        0.000000         0.000000     1.00000   \n",
       "max                 5.000000        1.000000         1.000000     1.00000   \n",
       "\n",
       "       dept_technology  last_year_promo_yes  last_year_violations_yes  \\\n",
       "count      2000.000000          2000.000000               2000.000000   \n",
       "mean          0.227500             0.031500                  0.131000   \n",
       "std           0.419323             0.174708                  0.337485   \n",
       "min           0.000000             0.000000                  0.000000   \n",
       "25%           0.000000             0.000000                  0.000000   \n",
       "50%           0.000000             0.000000                  0.000000   \n",
       "75%           0.000000             0.000000                  0.000000   \n",
       "max           1.000000             1.000000                  1.000000   \n",
       "\n",
       "             level     workload  \n",
       "count  2000.000000  2000.000000  \n",
       "mean      0.598000     1.340500  \n",
       "std       0.641562     0.766716  \n",
       "min       0.000000     0.000000  \n",
       "25%       0.000000     1.000000  \n",
       "50%       1.000000     2.000000  \n",
       "75%       1.000000     2.000000  \n",
       "max       2.000000     2.000000  "
      ]
     },
     "execution_count": 29,
     "metadata": {},
     "output_type": "execute_result"
    }
   ],
   "source": [
    "test_features_transformed.describe()"
   ]
  },
  {
   "cell_type": "code",
   "execution_count": 30,
   "id": "51405754",
   "metadata": {},
   "outputs": [
    {
     "data": {
      "image/png": "[encoded data removed]",
      "text/plain": [
       "<Figure size 432x288 with 1 Axes>"
      ]
     },
     "metadata": {
      "needs_background": "light"
     },
     "output_type": "display_data"
    },
    {
     "data": {
      "image/png": "[encoded data removed]",
      "text/plain": [
       "<Figure size 432x288 with 1 Axes>"
      ]
     },
     "metadata": {
      "needs_background": "light"
     },
     "output_type": "display_data"
    }
   ],
   "source": [
    "for i in ['salary', 'job_satisfaction_rate']:\n",
    "    sns.distplot(train_job_satisfaction_rate_transformed[i], label='train')\n",
    "    sns.distplot(test_features_transformed[i], label='test')\n",
    "    plt.title(i)\n",
    "    plt.legend()\n",
    "    plt.show()"
   ]
  },
  {
   "cell_type": "code",
   "execution_count": 31,
   "id": "683bb27e",
   "metadata": {},
   "outputs": [
    {
     "data": {
      "image/png": "[encoded data removed]",
      "text/plain": [
       "<Figure size 432x288 with 1 Axes>"
      ]
     },
     "metadata": {
      "needs_background": "light"
     },
     "output_type": "display_data"
    },
    {
     "data": {
      "image/png": "[encoded data removed]",
      "text/plain": [
       "<Figure size 432x288 with 1 Axes>"
      ]
     },
     "metadata": {
      "needs_background": "light"
     },
     "output_type": "display_data"
    }
   ],
   "source": [
    "for i in ['employment_years', 'supervisor_evaluation']:\n",
    "    sns.countplot(train_job_satisfaction_rate_transformed[i], label='train', color='orange', alpha=.4)\n",
    "    sns.countplot(test_features_transformed[i], label='test', color='green', alpha=.4)\n",
    "    plt.title(i)\n",
    "    plt.legend()\n",
    "    plt.show()    "
   ]
  },
  {
   "cell_type": "code",
   "execution_count": 32,
   "id": "e62d18f2",
   "metadata": {},
   "outputs": [
    {
     "data": {
      "image/png": "[encoded data removed]",
      "text/plain": [
       "<Figure size 432x288 with 1 Axes>"
      ]
     },
     "metadata": {
      "needs_background": "light"
     },
     "output_type": "display_data"
    },
    {
     "data": {
      "image/png": "[encoded data removed]",
      "text/plain": [
       "<Figure size 432x288 with 1 Axes>"
      ]
     },
     "metadata": {
      "needs_background": "light"
     },
     "output_type": "display_data"
    }
   ],
   "source": [
    "v1 = pd.DataFrame(preprocessor.named_transformers_['ord'].named_steps['ordinal'].inverse_transform(train_job_satisfaction_rate_transformed[ordinal_features]), \n",
    "                 columns = ordinal_features)\n",
    "v2 = pd.DataFrame(preprocessor.named_transformers_['ord'].named_steps['ordinal'].inverse_transform(test_features_transformed[ordinal_features]), \n",
    "                 columns=ordinal_features)\n",
    "\n",
    "for i in ordinal_features:\n",
    "    sns.countplot(v1[i], label='train', color='orange', alpha=.4)\n",
    "    sns.countplot(v2[i], label='test', color='green', alpha=.4)\n",
    "    plt.title(i)\n",
    "    plt.legend()\n",
    "    plt.show()"
   ]
  },
  {
   "cell_type": "code",
   "execution_count": 33,
   "id": "e018dd82",
   "metadata": {},
   "outputs": [
    {
     "data": {
      "image/png": "[encoded data removed]",
      "text/plain": [
       "<Figure size 432x288 with 1 Axes>"
      ]
     },
     "metadata": {
      "needs_background": "light"
     },
     "output_type": "display_data"
    },
    {
     "data": {
      "image/png": "[encoded data removed]",
      "text/plain": [
       "<Figure size 432x288 with 1 Axes>"
      ]
     },
     "metadata": {
      "needs_background": "light"
     },
     "output_type": "display_data"
    },
    {
     "data": {
      "image/png": "[encoded data removed]",
      "text/plain": [
       "<Figure size 432x288 with 1 Axes>"
      ]
     },
     "metadata": {
      "needs_background": "light"
     },
     "output_type": "display_data"
    }
   ],
   "source": [
    "for i in categorical_features:\n",
    "    columns_of_interest = [c for c in train_job_satisfaction_rate_transformed.columns if i in c]\n",
    "    v1 = train_job_satisfaction_rate_transformed[columns_of_interest].idxmax(axis=1).str.replace(f'{i}_', '')\n",
    "    v2 = test_features_transformed[columns_of_interest].idxmax(axis=1).str.replace(f'{i}_', '')\n",
    "    sns.countplot(v1, label='train', color='orange', alpha=.4)\n",
    "    sns.countplot(v2, label='test', color='green', alpha=.4)\n",
    "    plt.title(i)\n",
    "    plt.legend()\n",
    "    plt.show()"
   ]
  },
  {
   "cell_type": "code",
   "execution_count": 34,
   "id": "20cfe123",
   "metadata": {},
   "outputs": [
    {
     "data": {
      "text/html": [
       "<div>\n",
       "<style scoped>\n",
       "    .dataframe tbody tr th:only-of-type {\n",
       "        vertical-align: middle;\n",
       "    }\n",
       "\n",
       "    .dataframe tbody tr th {\n",
       "        vertical-align: top;\n",
       "    }\n",
       "\n",
       "    .dataframe thead th {\n",
       "        text-align: right;\n",
       "    }\n",
       "</style>\n",
       "<table border=\"1\" class=\"dataframe\">\n",
       "  <thead>\n",
       "    <tr style=\"text-align: right;\">\n",
       "      <th></th>\n",
       "      <th>employment_years</th>\n",
       "      <th>salary</th>\n",
       "      <th>job_satisfaction_rate</th>\n",
       "      <th>supervisor_evaluation</th>\n",
       "      <th>dept_marketing</th>\n",
       "      <th>dept_purchasing</th>\n",
       "      <th>dept_sales</th>\n",
       "      <th>dept_technology</th>\n",
       "      <th>last_year_promo_yes</th>\n",
       "      <th>last_year_violations_yes</th>\n",
       "      <th>level</th>\n",
       "      <th>workload</th>\n",
       "    </tr>\n",
       "  </thead>\n",
       "  <tbody>\n",
       "    <tr>\n",
       "      <th>employment_years</th>\n",
       "      <td>1.000000</td>\n",
       "      <td>0.494701</td>\n",
       "      <td>0.313525</td>\n",
       "      <td>0.000000</td>\n",
       "      <td>0.000000</td>\n",
       "      <td>0.000000</td>\n",
       "      <td>0.011051</td>\n",
       "      <td>0.000000</td>\n",
       "      <td>0.173637</td>\n",
       "      <td>0.066371</td>\n",
       "      <td>0.689747</td>\n",
       "      <td>0.202096</td>\n",
       "    </tr>\n",
       "    <tr>\n",
       "      <th>salary</th>\n",
       "      <td>0.494701</td>\n",
       "      <td>1.000000</td>\n",
       "      <td>0.171903</td>\n",
       "      <td>0.114588</td>\n",
       "      <td>0.042750</td>\n",
       "      <td>0.101887</td>\n",
       "      <td>0.229807</td>\n",
       "      <td>0.353831</td>\n",
       "      <td>0.193727</td>\n",
       "      <td>0.000000</td>\n",
       "      <td>0.749068</td>\n",
       "      <td>0.785872</td>\n",
       "    </tr>\n",
       "    <tr>\n",
       "      <th>job_satisfaction_rate</th>\n",
       "      <td>0.313525</td>\n",
       "      <td>0.171903</td>\n",
       "      <td>1.000000</td>\n",
       "      <td>0.769857</td>\n",
       "      <td>0.000000</td>\n",
       "      <td>0.086959</td>\n",
       "      <td>0.038203</td>\n",
       "      <td>0.043618</td>\n",
       "      <td>0.337002</td>\n",
       "      <td>0.554811</td>\n",
       "      <td>0.097007</td>\n",
       "      <td>0.052157</td>\n",
       "    </tr>\n",
       "    <tr>\n",
       "      <th>supervisor_evaluation</th>\n",
       "      <td>0.000000</td>\n",
       "      <td>0.114588</td>\n",
       "      <td>0.769857</td>\n",
       "      <td>1.000000</td>\n",
       "      <td>0.020516</td>\n",
       "      <td>0.015554</td>\n",
       "      <td>0.023991</td>\n",
       "      <td>0.012295</td>\n",
       "      <td>0.011704</td>\n",
       "      <td>0.189719</td>\n",
       "      <td>0.000000</td>\n",
       "      <td>0.035920</td>\n",
       "    </tr>\n",
       "    <tr>\n",
       "      <th>dept_marketing</th>\n",
       "      <td>0.000000</td>\n",
       "      <td>0.042750</td>\n",
       "      <td>0.000000</td>\n",
       "      <td>0.020516</td>\n",
       "      <td>1.000000</td>\n",
       "      <td>0.243256</td>\n",
       "      <td>0.474895</td>\n",
       "      <td>0.332343</td>\n",
       "      <td>0.000000</td>\n",
       "      <td>0.000000</td>\n",
       "      <td>0.013073</td>\n",
       "      <td>0.006518</td>\n",
       "    </tr>\n",
       "    <tr>\n",
       "      <th>dept_purchasing</th>\n",
       "      <td>0.000000</td>\n",
       "      <td>0.101887</td>\n",
       "      <td>0.086959</td>\n",
       "      <td>0.015554</td>\n",
       "      <td>0.243256</td>\n",
       "      <td>1.000000</td>\n",
       "      <td>0.469356</td>\n",
       "      <td>0.328237</td>\n",
       "      <td>0.000000</td>\n",
       "      <td>0.000000</td>\n",
       "      <td>0.000000</td>\n",
       "      <td>0.000000</td>\n",
       "    </tr>\n",
       "    <tr>\n",
       "      <th>dept_sales</th>\n",
       "      <td>0.011051</td>\n",
       "      <td>0.229807</td>\n",
       "      <td>0.038203</td>\n",
       "      <td>0.023991</td>\n",
       "      <td>0.474895</td>\n",
       "      <td>0.469356</td>\n",
       "      <td>1.000000</td>\n",
       "      <td>0.620148</td>\n",
       "      <td>0.000000</td>\n",
       "      <td>0.000000</td>\n",
       "      <td>0.000000</td>\n",
       "      <td>0.020950</td>\n",
       "    </tr>\n",
       "    <tr>\n",
       "      <th>dept_technology</th>\n",
       "      <td>0.000000</td>\n",
       "      <td>0.353831</td>\n",
       "      <td>0.043618</td>\n",
       "      <td>0.012295</td>\n",
       "      <td>0.332343</td>\n",
       "      <td>0.328237</td>\n",
       "      <td>0.620148</td>\n",
       "      <td>1.000000</td>\n",
       "      <td>0.000000</td>\n",
       "      <td>0.026236</td>\n",
       "      <td>0.021286</td>\n",
       "      <td>0.021914</td>\n",
       "    </tr>\n",
       "    <tr>\n",
       "      <th>last_year_promo_yes</th>\n",
       "      <td>0.173637</td>\n",
       "      <td>0.193727</td>\n",
       "      <td>0.337002</td>\n",
       "      <td>0.011704</td>\n",
       "      <td>0.000000</td>\n",
       "      <td>0.000000</td>\n",
       "      <td>0.000000</td>\n",
       "      <td>0.000000</td>\n",
       "      <td>1.000000</td>\n",
       "      <td>0.000000</td>\n",
       "      <td>0.118283</td>\n",
       "      <td>0.035565</td>\n",
       "    </tr>\n",
       "    <tr>\n",
       "      <th>last_year_violations_yes</th>\n",
       "      <td>0.066371</td>\n",
       "      <td>0.000000</td>\n",
       "      <td>0.554811</td>\n",
       "      <td>0.189719</td>\n",
       "      <td>0.000000</td>\n",
       "      <td>0.000000</td>\n",
       "      <td>0.000000</td>\n",
       "      <td>0.026236</td>\n",
       "      <td>0.000000</td>\n",
       "      <td>1.000000</td>\n",
       "      <td>0.017551</td>\n",
       "      <td>0.000000</td>\n",
       "    </tr>\n",
       "    <tr>\n",
       "      <th>level</th>\n",
       "      <td>0.689747</td>\n",
       "      <td>0.749068</td>\n",
       "      <td>0.097007</td>\n",
       "      <td>0.000000</td>\n",
       "      <td>0.013073</td>\n",
       "      <td>0.000000</td>\n",
       "      <td>0.000000</td>\n",
       "      <td>0.021286</td>\n",
       "      <td>0.118283</td>\n",
       "      <td>0.017551</td>\n",
       "      <td>1.000000</td>\n",
       "      <td>0.474453</td>\n",
       "    </tr>\n",
       "    <tr>\n",
       "      <th>workload</th>\n",
       "      <td>0.202096</td>\n",
       "      <td>0.785872</td>\n",
       "      <td>0.052157</td>\n",
       "      <td>0.035920</td>\n",
       "      <td>0.006518</td>\n",
       "      <td>0.000000</td>\n",
       "      <td>0.020950</td>\n",
       "      <td>0.021914</td>\n",
       "      <td>0.035565</td>\n",
       "      <td>0.000000</td>\n",
       "      <td>0.474453</td>\n",
       "      <td>1.000000</td>\n",
       "    </tr>\n",
       "  </tbody>\n",
       "</table>\n",
       "</div>"
      ],
      "text/plain": [
       "                          employment_years    salary  job_satisfaction_rate  \\\n",
       "employment_years                  1.000000  0.494701               0.313525   \n",
       "salary                            0.494701  1.000000               0.171903   \n",
       "job_satisfaction_rate             0.313525  0.171903               1.000000   \n",
       "supervisor_evaluation             0.000000  0.114588               0.769857   \n",
       "dept_marketing                    0.000000  0.042750               0.000000   \n",
       "dept_purchasing                   0.000000  0.101887               0.086959   \n",
       "dept_sales                        0.011051  0.229807               0.038203   \n",
       "dept_technology                   0.000000  0.353831               0.043618   \n",
       "last_year_promo_yes               0.173637  0.193727               0.337002   \n",
       "last_year_violations_yes          0.066371  0.000000               0.554811   \n",
       "level                             0.689747  0.749068               0.097007   \n",
       "workload                          0.202096  0.785872               0.052157   \n",
       "\n",
       "                          supervisor_evaluation  dept_marketing  \\\n",
       "employment_years                       0.000000        0.000000   \n",
       "salary                                 0.114588        0.042750   \n",
       "job_satisfaction_rate                  0.769857        0.000000   \n",
       "supervisor_evaluation                  1.000000        0.020516   \n",
       "dept_marketing                         0.020516        1.000000   \n",
       "dept_purchasing                        0.015554        0.243256   \n",
       "dept_sales                             0.023991        0.474895   \n",
       "dept_technology                        0.012295        0.332343   \n",
       "last_year_promo_yes                    0.011704        0.000000   \n",
       "last_year_violations_yes               0.189719        0.000000   \n",
       "level                                  0.000000        0.013073   \n",
       "workload                               0.035920        0.006518   \n",
       "\n",
       "                          dept_purchasing  dept_sales  dept_technology  \\\n",
       "employment_years                 0.000000    0.011051         0.000000   \n",
       "salary                           0.101887    0.229807         0.353831   \n",
       "job_satisfaction_rate            0.086959    0.038203         0.043618   \n",
       "supervisor_evaluation            0.015554    0.023991         0.012295   \n",
       "dept_marketing                   0.243256    0.474895         0.332343   \n",
       "dept_purchasing                  1.000000    0.469356         0.328237   \n",
       "dept_sales                       0.469356    1.000000         0.620148   \n",
       "dept_technology                  0.328237    0.620148         1.000000   \n",
       "last_year_promo_yes              0.000000    0.000000         0.000000   \n",
       "last_year_violations_yes         0.000000    0.000000         0.026236   \n",
       "level                            0.000000    0.000000         0.021286   \n",
       "workload                         0.000000    0.020950         0.021914   \n",
       "\n",
       "                          last_year_promo_yes  last_year_violations_yes  \\\n",
       "employment_years                     0.173637                  0.066371   \n",
       "salary                               0.193727                  0.000000   \n",
       "job_satisfaction_rate                0.337002                  0.554811   \n",
       "supervisor_evaluation                0.011704                  0.189719   \n",
       "dept_marketing                       0.000000                  0.000000   \n",
       "dept_purchasing                      0.000000                  0.000000   \n",
       "dept_sales                           0.000000                  0.000000   \n",
       "dept_technology                      0.000000                  0.026236   \n",
       "last_year_promo_yes                  1.000000                  0.000000   \n",
       "last_year_violations_yes             0.000000                  1.000000   \n",
       "level                                0.118283                  0.017551   \n",
       "workload                             0.035565                  0.000000   \n",
       "\n",
       "                             level  workload  \n",
       "employment_years          0.689747  0.202096  \n",
       "salary                    0.749068  0.785872  \n",
       "job_satisfaction_rate     0.097007  0.052157  \n",
       "supervisor_evaluation     0.000000  0.035920  \n",
       "dept_marketing            0.013073  0.006518  \n",
       "dept_purchasing           0.000000  0.000000  \n",
       "dept_sales                0.000000  0.020950  \n",
       "dept_technology           0.021286  0.021914  \n",
       "last_year_promo_yes       0.118283  0.035565  \n",
       "last_year_violations_yes  0.017551  0.000000  \n",
       "level                     1.000000  0.474453  \n",
       "workload                  0.474453  1.000000  "
      ]
     },
     "execution_count": 34,
     "metadata": {},
     "output_type": "execute_result"
    }
   ],
   "source": [
    "test_features_transformed.phik_matrix(interval_cols = ['job_satisfaction_rate','salary'])"
   ]
  },
  {
   "cell_type": "code",
   "execution_count": 35,
   "id": "dda77485",
   "metadata": {},
   "outputs": [
    {
     "data": {
      "text/html": [
       "<div>\n",
       "<style scoped>\n",
       "    .dataframe tbody tr th:only-of-type {\n",
       "        vertical-align: middle;\n",
       "    }\n",
       "\n",
       "    .dataframe tbody tr th {\n",
       "        vertical-align: top;\n",
       "    }\n",
       "\n",
       "    .dataframe thead th {\n",
       "        text-align: right;\n",
       "    }\n",
       "</style>\n",
       "<table border=\"1\" class=\"dataframe\">\n",
       "  <thead>\n",
       "    <tr style=\"text-align: right;\">\n",
       "      <th></th>\n",
       "      <th>employment_years</th>\n",
       "      <th>salary</th>\n",
       "      <th>job_satisfaction_rate</th>\n",
       "      <th>supervisor_evaluation</th>\n",
       "      <th>dept_marketing</th>\n",
       "      <th>dept_purchasing</th>\n",
       "      <th>dept_sales</th>\n",
       "      <th>dept_technology</th>\n",
       "      <th>last_year_promo_yes</th>\n",
       "      <th>last_year_violations_yes</th>\n",
       "      <th>level</th>\n",
       "      <th>workload</th>\n",
       "    </tr>\n",
       "  </thead>\n",
       "  <tbody>\n",
       "    <tr>\n",
       "      <th>employment_years</th>\n",
       "      <td>1.000000</td>\n",
       "      <td>0.483419</td>\n",
       "      <td>0.325603</td>\n",
       "      <td>0.000000</td>\n",
       "      <td>0.026529</td>\n",
       "      <td>0.000000</td>\n",
       "      <td>0.000000</td>\n",
       "      <td>0.041082</td>\n",
       "      <td>0.183579</td>\n",
       "      <td>0.056808</td>\n",
       "      <td>0.682962</td>\n",
       "      <td>0.181941</td>\n",
       "    </tr>\n",
       "    <tr>\n",
       "      <th>salary</th>\n",
       "      <td>0.483419</td>\n",
       "      <td>1.000000</td>\n",
       "      <td>0.165830</td>\n",
       "      <td>0.000000</td>\n",
       "      <td>0.100427</td>\n",
       "      <td>0.065529</td>\n",
       "      <td>0.188538</td>\n",
       "      <td>0.285676</td>\n",
       "      <td>0.215025</td>\n",
       "      <td>0.010078</td>\n",
       "      <td>0.717761</td>\n",
       "      <td>0.788820</td>\n",
       "    </tr>\n",
       "    <tr>\n",
       "      <th>job_satisfaction_rate</th>\n",
       "      <td>0.325603</td>\n",
       "      <td>0.165830</td>\n",
       "      <td>1.000000</td>\n",
       "      <td>0.764364</td>\n",
       "      <td>0.057958</td>\n",
       "      <td>0.058312</td>\n",
       "      <td>0.020291</td>\n",
       "      <td>0.028991</td>\n",
       "      <td>0.190803</td>\n",
       "      <td>0.560348</td>\n",
       "      <td>0.080753</td>\n",
       "      <td>0.056128</td>\n",
       "    </tr>\n",
       "    <tr>\n",
       "      <th>supervisor_evaluation</th>\n",
       "      <td>0.000000</td>\n",
       "      <td>0.000000</td>\n",
       "      <td>0.764364</td>\n",
       "      <td>1.000000</td>\n",
       "      <td>0.009679</td>\n",
       "      <td>0.047272</td>\n",
       "      <td>0.029757</td>\n",
       "      <td>0.032968</td>\n",
       "      <td>0.013681</td>\n",
       "      <td>0.182042</td>\n",
       "      <td>0.000000</td>\n",
       "      <td>0.037023</td>\n",
       "    </tr>\n",
       "    <tr>\n",
       "      <th>dept_marketing</th>\n",
       "      <td>0.026529</td>\n",
       "      <td>0.100427</td>\n",
       "      <td>0.057958</td>\n",
       "      <td>0.009679</td>\n",
       "      <td>1.000000</td>\n",
       "      <td>0.260291</td>\n",
       "      <td>0.469516</td>\n",
       "      <td>0.321586</td>\n",
       "      <td>0.000000</td>\n",
       "      <td>0.013789</td>\n",
       "      <td>0.000000</td>\n",
       "      <td>0.000000</td>\n",
       "    </tr>\n",
       "    <tr>\n",
       "      <th>dept_purchasing</th>\n",
       "      <td>0.000000</td>\n",
       "      <td>0.065529</td>\n",
       "      <td>0.058312</td>\n",
       "      <td>0.047272</td>\n",
       "      <td>0.260291</td>\n",
       "      <td>1.000000</td>\n",
       "      <td>0.496399</td>\n",
       "      <td>0.341108</td>\n",
       "      <td>0.000000</td>\n",
       "      <td>0.000000</td>\n",
       "      <td>0.000000</td>\n",
       "      <td>0.012394</td>\n",
       "    </tr>\n",
       "    <tr>\n",
       "      <th>dept_sales</th>\n",
       "      <td>0.000000</td>\n",
       "      <td>0.188538</td>\n",
       "      <td>0.020291</td>\n",
       "      <td>0.029757</td>\n",
       "      <td>0.469516</td>\n",
       "      <td>0.496399</td>\n",
       "      <td>1.000000</td>\n",
       "      <td>0.600697</td>\n",
       "      <td>0.000000</td>\n",
       "      <td>0.000000</td>\n",
       "      <td>0.000000</td>\n",
       "      <td>0.000000</td>\n",
       "    </tr>\n",
       "    <tr>\n",
       "      <th>dept_technology</th>\n",
       "      <td>0.041082</td>\n",
       "      <td>0.285676</td>\n",
       "      <td>0.028991</td>\n",
       "      <td>0.032968</td>\n",
       "      <td>0.321586</td>\n",
       "      <td>0.341108</td>\n",
       "      <td>0.600697</td>\n",
       "      <td>1.000000</td>\n",
       "      <td>0.000000</td>\n",
       "      <td>0.000000</td>\n",
       "      <td>0.000000</td>\n",
       "      <td>0.000000</td>\n",
       "    </tr>\n",
       "    <tr>\n",
       "      <th>last_year_promo_yes</th>\n",
       "      <td>0.183579</td>\n",
       "      <td>0.215025</td>\n",
       "      <td>0.190803</td>\n",
       "      <td>0.013681</td>\n",
       "      <td>0.000000</td>\n",
       "      <td>0.000000</td>\n",
       "      <td>0.000000</td>\n",
       "      <td>0.000000</td>\n",
       "      <td>1.000000</td>\n",
       "      <td>0.000000</td>\n",
       "      <td>0.101668</td>\n",
       "      <td>0.058663</td>\n",
       "    </tr>\n",
       "    <tr>\n",
       "      <th>last_year_violations_yes</th>\n",
       "      <td>0.056808</td>\n",
       "      <td>0.010078</td>\n",
       "      <td>0.560348</td>\n",
       "      <td>0.182042</td>\n",
       "      <td>0.013789</td>\n",
       "      <td>0.000000</td>\n",
       "      <td>0.000000</td>\n",
       "      <td>0.000000</td>\n",
       "      <td>0.000000</td>\n",
       "      <td>1.000000</td>\n",
       "      <td>0.000000</td>\n",
       "      <td>0.000000</td>\n",
       "    </tr>\n",
       "    <tr>\n",
       "      <th>level</th>\n",
       "      <td>0.682962</td>\n",
       "      <td>0.717761</td>\n",
       "      <td>0.080753</td>\n",
       "      <td>0.000000</td>\n",
       "      <td>0.000000</td>\n",
       "      <td>0.000000</td>\n",
       "      <td>0.000000</td>\n",
       "      <td>0.000000</td>\n",
       "      <td>0.101668</td>\n",
       "      <td>0.000000</td>\n",
       "      <td>1.000000</td>\n",
       "      <td>0.419591</td>\n",
       "    </tr>\n",
       "    <tr>\n",
       "      <th>workload</th>\n",
       "      <td>0.181941</td>\n",
       "      <td>0.788820</td>\n",
       "      <td>0.056128</td>\n",
       "      <td>0.037023</td>\n",
       "      <td>0.000000</td>\n",
       "      <td>0.012394</td>\n",
       "      <td>0.000000</td>\n",
       "      <td>0.000000</td>\n",
       "      <td>0.058663</td>\n",
       "      <td>0.000000</td>\n",
       "      <td>0.419591</td>\n",
       "      <td>1.000000</td>\n",
       "    </tr>\n",
       "  </tbody>\n",
       "</table>\n",
       "</div>"
      ],
      "text/plain": [
       "                          employment_years    salary  job_satisfaction_rate  \\\n",
       "employment_years                  1.000000  0.483419               0.325603   \n",
       "salary                            0.483419  1.000000               0.165830   \n",
       "job_satisfaction_rate             0.325603  0.165830               1.000000   \n",
       "supervisor_evaluation             0.000000  0.000000               0.764364   \n",
       "dept_marketing                    0.026529  0.100427               0.057958   \n",
       "dept_purchasing                   0.000000  0.065529               0.058312   \n",
       "dept_sales                        0.000000  0.188538               0.020291   \n",
       "dept_technology                   0.041082  0.285676               0.028991   \n",
       "last_year_promo_yes               0.183579  0.215025               0.190803   \n",
       "last_year_violations_yes          0.056808  0.010078               0.560348   \n",
       "level                             0.682962  0.717761               0.080753   \n",
       "workload                          0.181941  0.788820               0.056128   \n",
       "\n",
       "                          supervisor_evaluation  dept_marketing  \\\n",
       "employment_years                       0.000000        0.026529   \n",
       "salary                                 0.000000        0.100427   \n",
       "job_satisfaction_rate                  0.764364        0.057958   \n",
       "supervisor_evaluation                  1.000000        0.009679   \n",
       "dept_marketing                         0.009679        1.000000   \n",
       "dept_purchasing                        0.047272        0.260291   \n",
       "dept_sales                             0.029757        0.469516   \n",
       "dept_technology                        0.032968        0.321586   \n",
       "last_year_promo_yes                    0.013681        0.000000   \n",
       "last_year_violations_yes               0.182042        0.013789   \n",
       "level                                  0.000000        0.000000   \n",
       "workload                               0.037023        0.000000   \n",
       "\n",
       "                          dept_purchasing  dept_sales  dept_technology  \\\n",
       "employment_years                 0.000000    0.000000         0.041082   \n",
       "salary                           0.065529    0.188538         0.285676   \n",
       "job_satisfaction_rate            0.058312    0.020291         0.028991   \n",
       "supervisor_evaluation            0.047272    0.029757         0.032968   \n",
       "dept_marketing                   0.260291    0.469516         0.321586   \n",
       "dept_purchasing                  1.000000    0.496399         0.341108   \n",
       "dept_sales                       0.496399    1.000000         0.600697   \n",
       "dept_technology                  0.341108    0.600697         1.000000   \n",
       "last_year_promo_yes              0.000000    0.000000         0.000000   \n",
       "last_year_violations_yes         0.000000    0.000000         0.000000   \n",
       "level                            0.000000    0.000000         0.000000   \n",
       "workload                         0.012394    0.000000         0.000000   \n",
       "\n",
       "                          last_year_promo_yes  last_year_violations_yes  \\\n",
       "employment_years                     0.183579                  0.056808   \n",
       "salary                               0.215025                  0.010078   \n",
       "job_satisfaction_rate                0.190803                  0.560348   \n",
       "supervisor_evaluation                0.013681                  0.182042   \n",
       "dept_marketing                       0.000000                  0.013789   \n",
       "dept_purchasing                      0.000000                  0.000000   \n",
       "dept_sales                           0.000000                  0.000000   \n",
       "dept_technology                      0.000000                  0.000000   \n",
       "last_year_promo_yes                  1.000000                  0.000000   \n",
       "last_year_violations_yes             0.000000                  1.000000   \n",
       "level                                0.101668                  0.000000   \n",
       "workload                             0.058663                  0.000000   \n",
       "\n",
       "                             level  workload  \n",
       "employment_years          0.682962  0.181941  \n",
       "salary                    0.717761  0.788820  \n",
       "job_satisfaction_rate     0.080753  0.056128  \n",
       "supervisor_evaluation     0.000000  0.037023  \n",
       "dept_marketing            0.000000  0.000000  \n",
       "dept_purchasing           0.000000  0.012394  \n",
       "dept_sales                0.000000  0.000000  \n",
       "dept_technology           0.000000  0.000000  \n",
       "last_year_promo_yes       0.101668  0.058663  \n",
       "last_year_violations_yes  0.000000  0.000000  \n",
       "level                     1.000000  0.419591  \n",
       "workload                  0.419591  1.000000  "
      ]
     },
     "execution_count": 35,
     "metadata": {},
     "output_type": "execute_result"
    }
   ],
   "source": [
    "train_job_satisfaction_rate_transformed.phik_matrix(interval_cols = ['job_satisfaction_rate','salary'])"
   ]
  },
  {
   "cell_type": "code",
   "execution_count": 36,
   "id": "29e6b7ec",
   "metadata": {},
   "outputs": [],
   "source": [
    "x = train_job_satisfaction_rate_transformed.phik_matrix(interval_cols = ['job_satisfaction_rate','salary'])"
   ]
  },
  {
   "cell_type": "code",
   "execution_count": 37,
   "id": "4f817325",
   "metadata": {},
   "outputs": [
    {
     "data": {
      "text/html": [
       "<div>\n",
       "<style scoped>\n",
       "    .dataframe tbody tr th:only-of-type {\n",
       "        vertical-align: middle;\n",
       "    }\n",
       "\n",
       "    .dataframe tbody tr th {\n",
       "        vertical-align: top;\n",
       "    }\n",
       "\n",
       "    .dataframe thead th {\n",
       "        text-align: right;\n",
       "    }\n",
       "</style>\n",
       "<table border=\"1\" class=\"dataframe\">\n",
       "  <thead>\n",
       "    <tr style=\"text-align: right;\">\n",
       "      <th></th>\n",
       "      <th>employment_years</th>\n",
       "      <th>salary</th>\n",
       "      <th>job_satisfaction_rate</th>\n",
       "      <th>supervisor_evaluation</th>\n",
       "      <th>dept_marketing</th>\n",
       "      <th>dept_purchasing</th>\n",
       "      <th>dept_sales</th>\n",
       "      <th>dept_technology</th>\n",
       "      <th>last_year_promo_yes</th>\n",
       "      <th>last_year_violations_yes</th>\n",
       "      <th>level</th>\n",
       "      <th>workload</th>\n",
       "    </tr>\n",
       "  </thead>\n",
       "  <tbody>\n",
       "    <tr>\n",
       "      <th>employment_years</th>\n",
       "      <td>1.000000</td>\n",
       "      <td>0.483419</td>\n",
       "      <td>0.325603</td>\n",
       "      <td>0.000000</td>\n",
       "      <td>0.026529</td>\n",
       "      <td>0.000000</td>\n",
       "      <td>0.000000</td>\n",
       "      <td>0.041082</td>\n",
       "      <td>0.183579</td>\n",
       "      <td>0.056808</td>\n",
       "      <td>0.682962</td>\n",
       "      <td>0.181941</td>\n",
       "    </tr>\n",
       "    <tr>\n",
       "      <th>salary</th>\n",
       "      <td>0.483419</td>\n",
       "      <td>1.000000</td>\n",
       "      <td>0.165830</td>\n",
       "      <td>0.000000</td>\n",
       "      <td>0.100427</td>\n",
       "      <td>0.065529</td>\n",
       "      <td>0.188538</td>\n",
       "      <td>0.285676</td>\n",
       "      <td>0.215025</td>\n",
       "      <td>0.010078</td>\n",
       "      <td>0.717761</td>\n",
       "      <td>0.788820</td>\n",
       "    </tr>\n",
       "    <tr>\n",
       "      <th>job_satisfaction_rate</th>\n",
       "      <td>0.325603</td>\n",
       "      <td>0.165830</td>\n",
       "      <td>1.000000</td>\n",
       "      <td>0.764364</td>\n",
       "      <td>0.057958</td>\n",
       "      <td>0.058312</td>\n",
       "      <td>0.020291</td>\n",
       "      <td>0.028991</td>\n",
       "      <td>0.190803</td>\n",
       "      <td>0.560348</td>\n",
       "      <td>0.080753</td>\n",
       "      <td>0.056128</td>\n",
       "    </tr>\n",
       "    <tr>\n",
       "      <th>supervisor_evaluation</th>\n",
       "      <td>0.000000</td>\n",
       "      <td>0.000000</td>\n",
       "      <td>0.764364</td>\n",
       "      <td>1.000000</td>\n",
       "      <td>0.009679</td>\n",
       "      <td>0.047272</td>\n",
       "      <td>0.029757</td>\n",
       "      <td>0.032968</td>\n",
       "      <td>0.013681</td>\n",
       "      <td>0.182042</td>\n",
       "      <td>0.000000</td>\n",
       "      <td>0.037023</td>\n",
       "    </tr>\n",
       "    <tr>\n",
       "      <th>dept_marketing</th>\n",
       "      <td>0.026529</td>\n",
       "      <td>0.100427</td>\n",
       "      <td>0.057958</td>\n",
       "      <td>0.009679</td>\n",
       "      <td>1.000000</td>\n",
       "      <td>0.260291</td>\n",
       "      <td>0.469516</td>\n",
       "      <td>0.321586</td>\n",
       "      <td>0.000000</td>\n",
       "      <td>0.013789</td>\n",
       "      <td>0.000000</td>\n",
       "      <td>0.000000</td>\n",
       "    </tr>\n",
       "    <tr>\n",
       "      <th>dept_purchasing</th>\n",
       "      <td>0.000000</td>\n",
       "      <td>0.065529</td>\n",
       "      <td>0.058312</td>\n",
       "      <td>0.047272</td>\n",
       "      <td>0.260291</td>\n",
       "      <td>1.000000</td>\n",
       "      <td>0.496399</td>\n",
       "      <td>0.341108</td>\n",
       "      <td>0.000000</td>\n",
       "      <td>0.000000</td>\n",
       "      <td>0.000000</td>\n",
       "      <td>0.012394</td>\n",
       "    </tr>\n",
       "    <tr>\n",
       "      <th>dept_sales</th>\n",
       "      <td>0.000000</td>\n",
       "      <td>0.188538</td>\n",
       "      <td>0.020291</td>\n",
       "      <td>0.029757</td>\n",
       "      <td>0.469516</td>\n",
       "      <td>0.496399</td>\n",
       "      <td>1.000000</td>\n",
       "      <td>0.600697</td>\n",
       "      <td>0.000000</td>\n",
       "      <td>0.000000</td>\n",
       "      <td>0.000000</td>\n",
       "      <td>0.000000</td>\n",
       "    </tr>\n",
       "    <tr>\n",
       "      <th>dept_technology</th>\n",
       "      <td>0.041082</td>\n",
       "      <td>0.285676</td>\n",
       "      <td>0.028991</td>\n",
       "      <td>0.032968</td>\n",
       "      <td>0.321586</td>\n",
       "      <td>0.341108</td>\n",
       "      <td>0.600697</td>\n",
       "      <td>1.000000</td>\n",
       "      <td>0.000000</td>\n",
       "      <td>0.000000</td>\n",
       "      <td>0.000000</td>\n",
       "      <td>0.000000</td>\n",
       "    </tr>\n",
       "    <tr>\n",
       "      <th>last_year_promo_yes</th>\n",
       "      <td>0.183579</td>\n",
       "      <td>0.215025</td>\n",
       "      <td>0.190803</td>\n",
       "      <td>0.013681</td>\n",
       "      <td>0.000000</td>\n",
       "      <td>0.000000</td>\n",
       "      <td>0.000000</td>\n",
       "      <td>0.000000</td>\n",
       "      <td>1.000000</td>\n",
       "      <td>0.000000</td>\n",
       "      <td>0.101668</td>\n",
       "      <td>0.058663</td>\n",
       "    </tr>\n",
       "    <tr>\n",
       "      <th>last_year_violations_yes</th>\n",
       "      <td>0.056808</td>\n",
       "      <td>0.010078</td>\n",
       "      <td>0.560348</td>\n",
       "      <td>0.182042</td>\n",
       "      <td>0.013789</td>\n",
       "      <td>0.000000</td>\n",
       "      <td>0.000000</td>\n",
       "      <td>0.000000</td>\n",
       "      <td>0.000000</td>\n",
       "      <td>1.000000</td>\n",
       "      <td>0.000000</td>\n",
       "      <td>0.000000</td>\n",
       "    </tr>\n",
       "    <tr>\n",
       "      <th>level</th>\n",
       "      <td>0.682962</td>\n",
       "      <td>0.717761</td>\n",
       "      <td>0.080753</td>\n",
       "      <td>0.000000</td>\n",
       "      <td>0.000000</td>\n",
       "      <td>0.000000</td>\n",
       "      <td>0.000000</td>\n",
       "      <td>0.000000</td>\n",
       "      <td>0.101668</td>\n",
       "      <td>0.000000</td>\n",
       "      <td>1.000000</td>\n",
       "      <td>0.419591</td>\n",
       "    </tr>\n",
       "    <tr>\n",
       "      <th>workload</th>\n",
       "      <td>0.181941</td>\n",
       "      <td>0.788820</td>\n",
       "      <td>0.056128</td>\n",
       "      <td>0.037023</td>\n",
       "      <td>0.000000</td>\n",
       "      <td>0.012394</td>\n",
       "      <td>0.000000</td>\n",
       "      <td>0.000000</td>\n",
       "      <td>0.058663</td>\n",
       "      <td>0.000000</td>\n",
       "      <td>0.419591</td>\n",
       "      <td>1.000000</td>\n",
       "    </tr>\n",
       "  </tbody>\n",
       "</table>\n",
       "</div>"
      ],
      "text/plain": [
       "                          employment_years    salary  job_satisfaction_rate  \\\n",
       "employment_years                  1.000000  0.483419               0.325603   \n",
       "salary                            0.483419  1.000000               0.165830   \n",
       "job_satisfaction_rate             0.325603  0.165830               1.000000   \n",
       "supervisor_evaluation             0.000000  0.000000               0.764364   \n",
       "dept_marketing                    0.026529  0.100427               0.057958   \n",
       "dept_purchasing                   0.000000  0.065529               0.058312   \n",
       "dept_sales                        0.000000  0.188538               0.020291   \n",
       "dept_technology                   0.041082  0.285676               0.028991   \n",
       "last_year_promo_yes               0.183579  0.215025               0.190803   \n",
       "last_year_violations_yes          0.056808  0.010078               0.560348   \n",
       "level                             0.682962  0.717761               0.080753   \n",
       "workload                          0.181941  0.788820               0.056128   \n",
       "\n",
       "                          supervisor_evaluation  dept_marketing  \\\n",
       "employment_years                       0.000000        0.026529   \n",
       "salary                                 0.000000        0.100427   \n",
       "job_satisfaction_rate                  0.764364        0.057958   \n",
       "supervisor_evaluation                  1.000000        0.009679   \n",
       "dept_marketing                         0.009679        1.000000   \n",
       "dept_purchasing                        0.047272        0.260291   \n",
       "dept_sales                             0.029757        0.469516   \n",
       "dept_technology                        0.032968        0.321586   \n",
       "last_year_promo_yes                    0.013681        0.000000   \n",
       "last_year_violations_yes               0.182042        0.013789   \n",
       "level                                  0.000000        0.000000   \n",
       "workload                               0.037023        0.000000   \n",
       "\n",
       "                          dept_purchasing  dept_sales  dept_technology  \\\n",
       "employment_years                 0.000000    0.000000         0.041082   \n",
       "salary                           0.065529    0.188538         0.285676   \n",
       "job_satisfaction_rate            0.058312    0.020291         0.028991   \n",
       "supervisor_evaluation            0.047272    0.029757         0.032968   \n",
       "dept_marketing                   0.260291    0.469516         0.321586   \n",
       "dept_purchasing                  1.000000    0.496399         0.341108   \n",
       "dept_sales                       0.496399    1.000000         0.600697   \n",
       "dept_technology                  0.341108    0.600697         1.000000   \n",
       "last_year_promo_yes              0.000000    0.000000         0.000000   \n",
       "last_year_violations_yes         0.000000    0.000000         0.000000   \n",
       "level                            0.000000    0.000000         0.000000   \n",
       "workload                         0.012394    0.000000         0.000000   \n",
       "\n",
       "                          last_year_promo_yes  last_year_violations_yes  \\\n",
       "employment_years                     0.183579                  0.056808   \n",
       "salary                               0.215025                  0.010078   \n",
       "job_satisfaction_rate                0.190803                  0.560348   \n",
       "supervisor_evaluation                0.013681                  0.182042   \n",
       "dept_marketing                       0.000000                  0.013789   \n",
       "dept_purchasing                      0.000000                  0.000000   \n",
       "dept_sales                           0.000000                  0.000000   \n",
       "dept_technology                      0.000000                  0.000000   \n",
       "last_year_promo_yes                  1.000000                  0.000000   \n",
       "last_year_violations_yes             0.000000                  1.000000   \n",
       "level                                0.101668                  0.000000   \n",
       "workload                             0.058663                  0.000000   \n",
       "\n",
       "                             level  workload  \n",
       "employment_years          0.682962  0.181941  \n",
       "salary                    0.717761  0.788820  \n",
       "job_satisfaction_rate     0.080753  0.056128  \n",
       "supervisor_evaluation     0.000000  0.037023  \n",
       "dept_marketing            0.000000  0.000000  \n",
       "dept_purchasing           0.000000  0.012394  \n",
       "dept_sales                0.000000  0.000000  \n",
       "dept_technology           0.000000  0.000000  \n",
       "last_year_promo_yes       0.101668  0.058663  \n",
       "last_year_violations_yes  0.000000  0.000000  \n",
       "level                     1.000000  0.419591  \n",
       "workload                  0.419591  1.000000  "
      ]
     },
     "execution_count": 37,
     "metadata": {},
     "output_type": "execute_result"
    }
   ],
   "source": [
    "x"
   ]
  },
  {
   "cell_type": "code",
   "execution_count": 38,
   "id": "c1a5567e",
   "metadata": {},
   "outputs": [
    {
     "name": "stdout",
     "output_type": "stream",
     "text": [
      "supervisor_evaluation       0.000000\n",
      "dept_purchasing             0.000000\n",
      "dept_sales                  0.000000\n",
      "dept_marketing              0.026529\n",
      "dept_technology             0.041082\n",
      "last_year_violations_yes    0.056808\n",
      "workload                    0.181941\n",
      "last_year_promo_yes         0.183579\n",
      "job_satisfaction_rate       0.325603\n",
      "salary                      0.483419\n",
      "level                       0.682962\n",
      "employment_years            1.000000\n",
      "Name: employment_years, dtype: float64\n",
      "supervisor_evaluation       0.000000\n",
      "last_year_violations_yes    0.010078\n",
      "dept_purchasing             0.065529\n",
      "dept_marketing              0.100427\n",
      "job_satisfaction_rate       0.165830\n",
      "dept_sales                  0.188538\n",
      "last_year_promo_yes         0.215025\n",
      "dept_technology             0.285676\n",
      "employment_years            0.483419\n",
      "level                       0.717761\n",
      "workload                    0.788820\n",
      "salary                      1.000000\n",
      "Name: salary, dtype: float64\n",
      "dept_sales                  0.020291\n",
      "dept_technology             0.028991\n",
      "workload                    0.056128\n",
      "dept_marketing              0.057958\n",
      "dept_purchasing             0.058312\n",
      "level                       0.080753\n",
      "salary                      0.165830\n",
      "last_year_promo_yes         0.190803\n",
      "employment_years            0.325603\n",
      "last_year_violations_yes    0.560348\n",
      "supervisor_evaluation       0.764364\n",
      "job_satisfaction_rate       1.000000\n",
      "Name: job_satisfaction_rate, dtype: float64\n",
      "employment_years            0.000000\n",
      "salary                      0.000000\n",
      "level                       0.000000\n",
      "dept_marketing              0.009679\n",
      "last_year_promo_yes         0.013681\n",
      "dept_sales                  0.029757\n",
      "dept_technology             0.032968\n",
      "workload                    0.037023\n",
      "dept_purchasing             0.047272\n",
      "last_year_violations_yes    0.182042\n",
      "job_satisfaction_rate       0.764364\n",
      "supervisor_evaluation       1.000000\n",
      "Name: supervisor_evaluation, dtype: float64\n",
      "last_year_promo_yes         0.000000\n",
      "level                       0.000000\n",
      "workload                    0.000000\n",
      "supervisor_evaluation       0.009679\n",
      "last_year_violations_yes    0.013789\n",
      "employment_years            0.026529\n",
      "job_satisfaction_rate       0.057958\n",
      "salary                      0.100427\n",
      "dept_purchasing             0.260291\n",
      "dept_technology             0.321586\n",
      "dept_sales                  0.469516\n",
      "dept_marketing              1.000000\n",
      "Name: dept_marketing, dtype: float64\n",
      "employment_years            0.000000\n",
      "last_year_promo_yes         0.000000\n",
      "last_year_violations_yes    0.000000\n",
      "level                       0.000000\n",
      "workload                    0.012394\n",
      "supervisor_evaluation       0.047272\n",
      "job_satisfaction_rate       0.058312\n",
      "salary                      0.065529\n",
      "dept_marketing              0.260291\n",
      "dept_technology             0.341108\n",
      "dept_sales                  0.496399\n",
      "dept_purchasing             1.000000\n",
      "Name: dept_purchasing, dtype: float64\n",
      "employment_years            0.000000\n",
      "last_year_promo_yes         0.000000\n",
      "last_year_violations_yes    0.000000\n",
      "level                       0.000000\n",
      "workload                    0.000000\n",
      "job_satisfaction_rate       0.020291\n",
      "supervisor_evaluation       0.029757\n",
      "salary                      0.188538\n",
      "dept_marketing              0.469516\n",
      "dept_purchasing             0.496399\n",
      "dept_technology             0.600697\n",
      "dept_sales                  1.000000\n",
      "Name: dept_sales, dtype: float64\n",
      "last_year_promo_yes         0.000000\n",
      "last_year_violations_yes    0.000000\n",
      "level                       0.000000\n",
      "workload                    0.000000\n",
      "job_satisfaction_rate       0.028991\n",
      "supervisor_evaluation       0.032968\n",
      "employment_years            0.041082\n",
      "salary                      0.285676\n",
      "dept_marketing              0.321586\n",
      "dept_purchasing             0.341108\n",
      "dept_sales                  0.600697\n",
      "dept_technology             1.000000\n",
      "Name: dept_technology, dtype: float64\n",
      "dept_marketing              0.000000\n",
      "dept_purchasing             0.000000\n",
      "dept_sales                  0.000000\n",
      "dept_technology             0.000000\n",
      "last_year_violations_yes    0.000000\n",
      "supervisor_evaluation       0.013681\n",
      "workload                    0.058663\n",
      "level                       0.101668\n",
      "employment_years            0.183579\n",
      "job_satisfaction_rate       0.190803\n",
      "salary                      0.215025\n",
      "last_year_promo_yes         1.000000\n",
      "Name: last_year_promo_yes, dtype: float64\n",
      "dept_purchasing             0.000000\n",
      "dept_sales                  0.000000\n",
      "dept_technology             0.000000\n",
      "last_year_promo_yes         0.000000\n",
      "level                       0.000000\n",
      "workload                    0.000000\n",
      "salary                      0.010078\n",
      "dept_marketing              0.013789\n",
      "employment_years            0.056808\n",
      "supervisor_evaluation       0.182042\n",
      "job_satisfaction_rate       0.560348\n",
      "last_year_violations_yes    1.000000\n",
      "Name: last_year_violations_yes, dtype: float64\n",
      "supervisor_evaluation       0.000000\n",
      "dept_marketing              0.000000\n",
      "dept_purchasing             0.000000\n",
      "dept_sales                  0.000000\n",
      "dept_technology             0.000000\n",
      "last_year_violations_yes    0.000000\n",
      "job_satisfaction_rate       0.080753\n",
      "last_year_promo_yes         0.101668\n",
      "workload                    0.419591\n",
      "employment_years            0.682962\n",
      "salary                      0.717761\n",
      "level                       1.000000\n",
      "Name: level, dtype: float64\n",
      "dept_marketing              0.000000\n",
      "dept_sales                  0.000000\n",
      "dept_technology             0.000000\n",
      "last_year_violations_yes    0.000000\n",
      "dept_purchasing             0.012394\n",
      "supervisor_evaluation       0.037023\n",
      "job_satisfaction_rate       0.056128\n",
      "last_year_promo_yes         0.058663\n",
      "employment_years            0.181941\n",
      "level                       0.419591\n",
      "salary                      0.788820\n",
      "workload                    1.000000\n",
      "Name: workload, dtype: float64\n"
     ]
    }
   ],
   "source": [
    "for i in x.columns:\n",
    "    print(x[i].sort_values())"
   ]
  },
  {
   "cell_type": "markdown",
   "id": "4d9f7d07",
   "metadata": {},
   "source": [
    "I would say that not all features in the training and test datasets have the same distribution: while salary and employment years are almost identical, dept and workload differ significantly. For example, in the test set, the percentage of workload=low is higher than in the training set. Also, the test set has more people from the sales department and fewer from the marketing department compared to the training set.\n",
    "\n",
    "We won't address this for now — we assume that the training and test data were selected randomly (though it would be better to clarify this with the team responsible for data collection). Our goal is to test how the models we trained perform on real data, which we haven't artificially adjusted to fit any particular distributions."
   ]
  },
  {
   "cell_type": "markdown",
   "id": "95e6b033",
   "metadata": {},
   "source": [
    "\n",
    "\n",
    "## Data preparation"
   ]
  },
  {
   "cell_type": "markdown",
   "id": "d41c9b4d",
   "metadata": {},
   "source": [
    "The only thing left to do for data preparation is to scale them."
   ]
  },
  {
   "cell_type": "code",
   "execution_count": 39,
   "id": "d3b769f6",
   "metadata": {},
   "outputs": [],
   "source": [
    "scaler_preprocessor = ColumnTransformer(\n",
    "    [\n",
    "     ('num', StandardScaler(), numerical_features)\n",
    "    ], \n",
    "    remainder='passthrough'\n",
    ")"
   ]
  },
  {
   "cell_type": "code",
   "execution_count": 40,
   "id": "2eb5cc49",
   "metadata": {},
   "outputs": [
    {
     "name": "stdout",
     "output_type": "stream",
     "text": [
      "(4000, 12)\n",
      "(3752, 12)\n"
     ]
    }
   ],
   "source": [
    "print(train_job_satisfaction_rate_transformed.shape)\n",
    "train_job_satisfaction_rate_transformed = train_job_satisfaction_rate_transformed.drop_duplicates()\n",
    "print(train_job_satisfaction_rate_transformed.shape)"
   ]
  },
  {
   "cell_type": "code",
   "execution_count": 41,
   "id": "d7ea4fe0",
   "metadata": {},
   "outputs": [],
   "source": [
    "X_train = pd.DataFrame(scaler_preprocessor.fit_transform(train_job_satisfaction_rate_transformed))\n",
    "X_train.index = train_job_satisfaction_rate_transformed.index\n",
    "X_train.columns = train_job_satisfaction_rate_transformed.columns\n",
    "\n",
    "y_train = train_job_satisfaction_rate_transformed['job_satisfaction_rate']\n",
    "X_train = X_train[[i for i in X_train.columns if i != 'job_satisfaction_rate']]"
   ]
  },
  {
   "cell_type": "code",
   "execution_count": 42,
   "id": "fdabde13",
   "metadata": {},
   "outputs": [
    {
     "data": {
      "text/html": [
       "<div>\n",
       "<style scoped>\n",
       "    .dataframe tbody tr th:only-of-type {\n",
       "        vertical-align: middle;\n",
       "    }\n",
       "\n",
       "    .dataframe tbody tr th {\n",
       "        vertical-align: top;\n",
       "    }\n",
       "\n",
       "    .dataframe thead th {\n",
       "        text-align: right;\n",
       "    }\n",
       "</style>\n",
       "<table border=\"1\" class=\"dataframe\">\n",
       "  <thead>\n",
       "    <tr style=\"text-align: right;\">\n",
       "      <th></th>\n",
       "      <th>employment_years</th>\n",
       "      <th>salary</th>\n",
       "      <th>supervisor_evaluation</th>\n",
       "      <th>dept_marketing</th>\n",
       "      <th>dept_purchasing</th>\n",
       "      <th>dept_sales</th>\n",
       "      <th>dept_technology</th>\n",
       "      <th>last_year_promo_yes</th>\n",
       "      <th>last_year_violations_yes</th>\n",
       "      <th>level</th>\n",
       "      <th>workload</th>\n",
       "    </tr>\n",
       "    <tr>\n",
       "      <th>id</th>\n",
       "      <th></th>\n",
       "      <th></th>\n",
       "      <th></th>\n",
       "      <th></th>\n",
       "      <th></th>\n",
       "      <th></th>\n",
       "      <th></th>\n",
       "      <th></th>\n",
       "      <th></th>\n",
       "      <th></th>\n",
       "      <th></th>\n",
       "    </tr>\n",
       "  </thead>\n",
       "  <tbody>\n",
       "    <tr>\n",
       "      <th>155278</th>\n",
       "      <td>-0.711613</td>\n",
       "      <td>-0.695081</td>\n",
       "      <td>-2.400409</td>\n",
       "      <td>0.0</td>\n",
       "      <td>0.0</td>\n",
       "      <td>1.0</td>\n",
       "      <td>0.0</td>\n",
       "      <td>0.0</td>\n",
       "      <td>0.0</td>\n",
       "      <td>0.0</td>\n",
       "      <td>2.0</td>\n",
       "    </tr>\n",
       "    <tr>\n",
       "      <th>653870</th>\n",
       "      <td>-0.711613</td>\n",
       "      <td>0.261524</td>\n",
       "      <td>1.497593</td>\n",
       "      <td>0.0</td>\n",
       "      <td>0.0</td>\n",
       "      <td>0.0</td>\n",
       "      <td>0.0</td>\n",
       "      <td>0.0</td>\n",
       "      <td>0.0</td>\n",
       "      <td>0.0</td>\n",
       "      <td>0.0</td>\n",
       "    </tr>\n",
       "    <tr>\n",
       "      <th>184592</th>\n",
       "      <td>-1.102760</td>\n",
       "      <td>-1.492251</td>\n",
       "      <td>-1.425908</td>\n",
       "      <td>0.0</td>\n",
       "      <td>0.0</td>\n",
       "      <td>1.0</td>\n",
       "      <td>0.0</td>\n",
       "      <td>0.0</td>\n",
       "      <td>0.0</td>\n",
       "      <td>0.0</td>\n",
       "      <td>1.0</td>\n",
       "    </tr>\n",
       "    <tr>\n",
       "      <th>171431</th>\n",
       "      <td>0.070682</td>\n",
       "      <td>-1.093666</td>\n",
       "      <td>-1.425908</td>\n",
       "      <td>0.0</td>\n",
       "      <td>0.0</td>\n",
       "      <td>0.0</td>\n",
       "      <td>1.0</td>\n",
       "      <td>0.0</td>\n",
       "      <td>0.0</td>\n",
       "      <td>0.0</td>\n",
       "      <td>1.0</td>\n",
       "    </tr>\n",
       "    <tr>\n",
       "      <th>693419</th>\n",
       "      <td>-1.102760</td>\n",
       "      <td>-0.774798</td>\n",
       "      <td>-0.451408</td>\n",
       "      <td>0.0</td>\n",
       "      <td>0.0</td>\n",
       "      <td>0.0</td>\n",
       "      <td>0.0</td>\n",
       "      <td>0.0</td>\n",
       "      <td>0.0</td>\n",
       "      <td>0.0</td>\n",
       "      <td>2.0</td>\n",
       "    </tr>\n",
       "  </tbody>\n",
       "</table>\n",
       "</div>"
      ],
      "text/plain": [
       "        employment_years    salary  supervisor_evaluation  dept_marketing  \\\n",
       "id                                                                          \n",
       "155278         -0.711613 -0.695081              -2.400409             0.0   \n",
       "653870         -0.711613  0.261524               1.497593             0.0   \n",
       "184592         -1.102760 -1.492251              -1.425908             0.0   \n",
       "171431          0.070682 -1.093666              -1.425908             0.0   \n",
       "693419         -1.102760 -0.774798              -0.451408             0.0   \n",
       "\n",
       "        dept_purchasing  dept_sales  dept_technology  last_year_promo_yes  \\\n",
       "id                                                                          \n",
       "155278              0.0         1.0              0.0                  0.0   \n",
       "653870              0.0         0.0              0.0                  0.0   \n",
       "184592              0.0         1.0              0.0                  0.0   \n",
       "171431              0.0         0.0              1.0                  0.0   \n",
       "693419              0.0         0.0              0.0                  0.0   \n",
       "\n",
       "        last_year_violations_yes  level  workload  \n",
       "id                                                 \n",
       "155278                       0.0    0.0       2.0  \n",
       "653870                       0.0    0.0       0.0  \n",
       "184592                       0.0    0.0       1.0  \n",
       "171431                       0.0    0.0       1.0  \n",
       "693419                       0.0    0.0       2.0  "
      ]
     },
     "execution_count": 42,
     "metadata": {},
     "output_type": "execute_result"
    }
   ],
   "source": [
    "X_train.head()"
   ]
  },
  {
   "cell_type": "code",
   "execution_count": 43,
   "id": "7b7e2c5c",
   "metadata": {},
   "outputs": [],
   "source": [
    "X_test = pd.DataFrame(scaler_preprocessor.transform(test_features_transformed))\n",
    "X_test.index = test_features_transformed.index\n",
    "X_test.columns = test_features_transformed.columns\n",
    "\n",
    "y_test = test_features_transformed['job_satisfaction_rate']\n",
    "X_test = X_test[[i for i in X_test.columns if i != 'job_satisfaction_rate']]"
   ]
  },
  {
   "cell_type": "code",
   "execution_count": 44,
   "id": "3c7e3bcb",
   "metadata": {},
   "outputs": [
    {
     "data": {
      "text/html": [
       "<div>\n",
       "<style scoped>\n",
       "    .dataframe tbody tr th:only-of-type {\n",
       "        vertical-align: middle;\n",
       "    }\n",
       "\n",
       "    .dataframe tbody tr th {\n",
       "        vertical-align: top;\n",
       "    }\n",
       "\n",
       "    .dataframe thead th {\n",
       "        text-align: right;\n",
       "    }\n",
       "</style>\n",
       "<table border=\"1\" class=\"dataframe\">\n",
       "  <thead>\n",
       "    <tr style=\"text-align: right;\">\n",
       "      <th></th>\n",
       "      <th>employment_years</th>\n",
       "      <th>salary</th>\n",
       "      <th>supervisor_evaluation</th>\n",
       "      <th>dept_marketing</th>\n",
       "      <th>dept_purchasing</th>\n",
       "      <th>dept_sales</th>\n",
       "      <th>dept_technology</th>\n",
       "      <th>last_year_promo_yes</th>\n",
       "      <th>last_year_violations_yes</th>\n",
       "      <th>level</th>\n",
       "      <th>workload</th>\n",
       "    </tr>\n",
       "    <tr>\n",
       "      <th>id</th>\n",
       "      <th></th>\n",
       "      <th></th>\n",
       "      <th></th>\n",
       "      <th></th>\n",
       "      <th></th>\n",
       "      <th></th>\n",
       "      <th></th>\n",
       "      <th></th>\n",
       "      <th></th>\n",
       "      <th></th>\n",
       "      <th></th>\n",
       "    </tr>\n",
       "  </thead>\n",
       "  <tbody>\n",
       "    <tr>\n",
       "      <th>485046</th>\n",
       "      <td>-0.711613</td>\n",
       "      <td>-0.376213</td>\n",
       "      <td>1.497593</td>\n",
       "      <td>1.0</td>\n",
       "      <td>0.0</td>\n",
       "      <td>0.0</td>\n",
       "      <td>0.0</td>\n",
       "      <td>0.0</td>\n",
       "      <td>0.0</td>\n",
       "      <td>0.0</td>\n",
       "      <td>2.0</td>\n",
       "    </tr>\n",
       "    <tr>\n",
       "      <th>686555</th>\n",
       "      <td>-1.102760</td>\n",
       "      <td>-0.296495</td>\n",
       "      <td>0.523093</td>\n",
       "      <td>0.0</td>\n",
       "      <td>0.0</td>\n",
       "      <td>0.0</td>\n",
       "      <td>0.0</td>\n",
       "      <td>0.0</td>\n",
       "      <td>0.0</td>\n",
       "      <td>0.0</td>\n",
       "      <td>2.0</td>\n",
       "    </tr>\n",
       "    <tr>\n",
       "      <th>467458</th>\n",
       "      <td>0.461829</td>\n",
       "      <td>-1.013949</td>\n",
       "      <td>0.523093</td>\n",
       "      <td>0.0</td>\n",
       "      <td>0.0</td>\n",
       "      <td>1.0</td>\n",
       "      <td>0.0</td>\n",
       "      <td>0.0</td>\n",
       "      <td>0.0</td>\n",
       "      <td>1.0</td>\n",
       "      <td>1.0</td>\n",
       "    </tr>\n",
       "    <tr>\n",
       "      <th>418655</th>\n",
       "      <td>0.852976</td>\n",
       "      <td>-1.013949</td>\n",
       "      <td>0.523093</td>\n",
       "      <td>0.0</td>\n",
       "      <td>0.0</td>\n",
       "      <td>1.0</td>\n",
       "      <td>0.0</td>\n",
       "      <td>0.0</td>\n",
       "      <td>0.0</td>\n",
       "      <td>1.0</td>\n",
       "      <td>1.0</td>\n",
       "    </tr>\n",
       "    <tr>\n",
       "      <th>789145</th>\n",
       "      <td>0.461829</td>\n",
       "      <td>0.420958</td>\n",
       "      <td>1.497593</td>\n",
       "      <td>0.0</td>\n",
       "      <td>0.0</td>\n",
       "      <td>0.0</td>\n",
       "      <td>0.0</td>\n",
       "      <td>0.0</td>\n",
       "      <td>0.0</td>\n",
       "      <td>1.0</td>\n",
       "      <td>2.0</td>\n",
       "    </tr>\n",
       "  </tbody>\n",
       "</table>\n",
       "</div>"
      ],
      "text/plain": [
       "        employment_years    salary  supervisor_evaluation  dept_marketing  \\\n",
       "id                                                                          \n",
       "485046         -0.711613 -0.376213               1.497593             1.0   \n",
       "686555         -1.102760 -0.296495               0.523093             0.0   \n",
       "467458          0.461829 -1.013949               0.523093             0.0   \n",
       "418655          0.852976 -1.013949               0.523093             0.0   \n",
       "789145          0.461829  0.420958               1.497593             0.0   \n",
       "\n",
       "        dept_purchasing  dept_sales  dept_technology  last_year_promo_yes  \\\n",
       "id                                                                          \n",
       "485046              0.0         0.0              0.0                  0.0   \n",
       "686555              0.0         0.0              0.0                  0.0   \n",
       "467458              0.0         1.0              0.0                  0.0   \n",
       "418655              0.0         1.0              0.0                  0.0   \n",
       "789145              0.0         0.0              0.0                  0.0   \n",
       "\n",
       "        last_year_violations_yes  level  workload  \n",
       "id                                                 \n",
       "485046                       0.0    0.0       2.0  \n",
       "686555                       0.0    0.0       2.0  \n",
       "467458                       0.0    1.0       1.0  \n",
       "418655                       0.0    1.0       1.0  \n",
       "789145                       0.0    1.0       2.0  "
      ]
     },
     "execution_count": 44,
     "metadata": {},
     "output_type": "execute_result"
    }
   ],
   "source": [
    "X_test.head()"
   ]
  },
  {
   "cell_type": "markdown",
   "id": "756625ec",
   "metadata": {},
   "source": [
    "## Training"
   ]
  },
  {
   "cell_type": "code",
   "execution_count": 45,
   "id": "e736e21c",
   "metadata": {},
   "outputs": [],
   "source": [
    "def smape(y_true, y_pred):\n",
    "    numerator = np.abs(y_true - y_pred)\n",
    "    denominator = (np.abs(y_true) + np.abs(y_pred)) / 2\n",
    "    smape_score = np.mean(numerator / denominator) * 100\n",
    "    return smape_score"
   ]
  },
  {
   "cell_type": "markdown",
   "id": "cb80024e",
   "metadata": {},
   "source": [
    "### Model 1 (without hyperparameter selection)"
   ]
  },
  {
   "cell_type": "code",
   "execution_count": 46,
   "id": "fabe9cf8",
   "metadata": {},
   "outputs": [],
   "source": [
    "lr = LinearRegression()\n",
    "\n",
    "y_pred = cross_val_predict(lr, X_train, y_train, cv=5)"
   ]
  },
  {
   "cell_type": "code",
   "execution_count": 47,
   "id": "bffaef3f",
   "metadata": {},
   "outputs": [
    {
     "data": {
      "text/plain": [
       "26.79872482288113"
      ]
     },
     "execution_count": 47,
     "metadata": {},
     "output_type": "execute_result"
    }
   ],
   "source": [
    "smape(y_train, y_pred)"
   ]
  },
  {
   "cell_type": "markdown",
   "id": "3c34fb40",
   "metadata": {},
   "source": [
    "### Model2 (with hyperparameter selection)"
   ]
  },
  {
   "cell_type": "code",
   "execution_count": 48,
   "id": "2d8ef2a2",
   "metadata": {},
   "outputs": [],
   "source": [
    "rf = RandomForestRegressor(random_state=42)"
   ]
  },
  {
   "cell_type": "code",
   "execution_count": 49,
   "id": "0a6658ec",
   "metadata": {},
   "outputs": [],
   "source": [
    "y_pred = cross_val_predict(rf, X_train, y_train, cv=5)"
   ]
  },
  {
   "cell_type": "code",
   "execution_count": 50,
   "id": "152f4f70",
   "metadata": {},
   "outputs": [
    {
     "data": {
      "text/plain": [
       "13.831612730649143"
      ]
     },
     "execution_count": 50,
     "metadata": {},
     "output_type": "execute_result"
    }
   ],
   "source": [
    "smape(y_train, y_pred)"
   ]
  },
  {
   "cell_type": "code",
   "execution_count": 51,
   "id": "ffd63ef7",
   "metadata": {},
   "outputs": [],
   "source": [
    "param_grid = {\n",
    "    'n_estimators': [100, 200, 300],\n",
    "    'max_depth': [5, 10, 20], \n",
    "    'min_samples_split': [2, 5, 10],\n",
    "    'min_samples_leaf': [1, 2, 4],\n",
    "    'max_features': ['auto', 'sqrt', 'log2']\n",
    "}"
   ]
  },
  {
   "cell_type": "code",
   "execution_count": 52,
   "id": "443d1533",
   "metadata": {},
   "outputs": [],
   "source": [
    "smape_score = make_scorer(smape, greater_is_better=False)"
   ]
  },
  {
   "cell_type": "code",
   "execution_count": 53,
   "id": "8f6bed53",
   "metadata": {},
   "outputs": [],
   "source": [
    "grid_search = GridSearchCV(estimator=rf, param_grid=param_grid, cv=5, n_jobs=-1, verbose=1, scoring=smape_score)"
   ]
  },
  {
   "cell_type": "code",
   "execution_count": 54,
   "id": "9d49a506",
   "metadata": {},
   "outputs": [
    {
     "name": "stdout",
     "output_type": "stream",
     "text": [
      "Fitting 5 folds for each of 243 candidates, totalling 1215 fits\n",
      "Best parameters: {'max_depth': 20, 'max_features': 'sqrt', 'min_samples_leaf': 1, 'min_samples_split': 2, 'n_estimators': 200}\n",
      "Best score: 13.85120836136323\n"
     ]
    }
   ],
   "source": [
    "grid_search.fit(X_train, y_train)\n",
    "\n",
    "best_params = grid_search.best_params_\n",
    "print(\"Best parameters:\", best_params)\n",
    "print(\"Best score:\", -1*grid_search.best_score_)"
   ]
  },
  {
   "cell_type": "markdown",
   "id": "2cc07d43",
   "metadata": {},
   "source": [
    "The best model among all those tested is the random forest with default parameters."
   ]
  },
  {
   "cell_type": "code",
   "execution_count": 55,
   "id": "e09afb91",
   "metadata": {},
   "outputs": [],
   "source": [
    "rf.fit(X_train, y_train)\n",
    "y_pred = rf.predict(X_test)"
   ]
  },
  {
   "cell_type": "code",
   "execution_count": 56,
   "id": "f9765c16",
   "metadata": {},
   "outputs": [
    {
     "data": {
      "text/plain": [
       "12.465971270322996"
      ]
     },
     "execution_count": 56,
     "metadata": {},
     "output_type": "execute_result"
    }
   ],
   "source": [
    "smape(y_test.reindex(X_test.index), y_pred)"
   ]
  },
  {
   "cell_type": "markdown",
   "id": "7e36561b",
   "metadata": {},
   "source": [
    "Intermediate conclusion: Data preparation and model training for predicting employee job satisfaction have been completed. The data arrived in excellent condition, requiring minimal preparation and processing. Two models were trained (linear regression and decision tree), and the decision tree successfully handled the task after hyperparameter tuning using grid search."
   ]
  },
  {
   "cell_type": "markdown",
   "id": "074004ae",
   "metadata": {},
   "source": [
    "# Employee resign prediction"
   ]
  },
  {
   "cell_type": "markdown",
   "id": "5d7648f7",
   "metadata": {},
   "source": [
    "## Read data"
   ]
  },
  {
   "cell_type": "code",
   "execution_count": 57,
   "id": "fb03c4c0",
   "metadata": {},
   "outputs": [],
   "source": [
    "train_quit = pd.read_csv('https://code.s3.yandex.net/datasets/train_quit.csv', index_col='id')\n",
    "test_features = pd.read_csv('https://code.s3.yandex.net/datasets/test_features.csv', index_col='id')\n",
    "test_target_quit = pd.read_csv('https://code.s3.yandex.net/datasets/test_target_quit.csv', index_col='id')"
   ]
  },
  {
   "cell_type": "markdown",
   "id": "982ce96a",
   "metadata": {},
   "source": [
    "## Preprocess data"
   ]
  },
  {
   "cell_type": "code",
   "execution_count": 58,
   "id": "c058e9bf",
   "metadata": {},
   "outputs": [
    {
     "data": {
      "text/html": [
       "<div>\n",
       "<style scoped>\n",
       "    .dataframe tbody tr th:only-of-type {\n",
       "        vertical-align: middle;\n",
       "    }\n",
       "\n",
       "    .dataframe tbody tr th {\n",
       "        vertical-align: top;\n",
       "    }\n",
       "\n",
       "    .dataframe thead th {\n",
       "        text-align: right;\n",
       "    }\n",
       "</style>\n",
       "<table border=\"1\" class=\"dataframe\">\n",
       "  <thead>\n",
       "    <tr style=\"text-align: right;\">\n",
       "      <th></th>\n",
       "      <th>dept</th>\n",
       "      <th>level</th>\n",
       "      <th>workload</th>\n",
       "      <th>employment_years</th>\n",
       "      <th>last_year_promo</th>\n",
       "      <th>last_year_violations</th>\n",
       "      <th>supervisor_evaluation</th>\n",
       "      <th>salary</th>\n",
       "      <th>quit</th>\n",
       "    </tr>\n",
       "    <tr>\n",
       "      <th>id</th>\n",
       "      <th></th>\n",
       "      <th></th>\n",
       "      <th></th>\n",
       "      <th></th>\n",
       "      <th></th>\n",
       "      <th></th>\n",
       "      <th></th>\n",
       "      <th></th>\n",
       "      <th></th>\n",
       "    </tr>\n",
       "  </thead>\n",
       "  <tbody>\n",
       "    <tr>\n",
       "      <th>723290</th>\n",
       "      <td>sales</td>\n",
       "      <td>middle</td>\n",
       "      <td>high</td>\n",
       "      <td>2</td>\n",
       "      <td>no</td>\n",
       "      <td>no</td>\n",
       "      <td>4</td>\n",
       "      <td>54000</td>\n",
       "      <td>no</td>\n",
       "    </tr>\n",
       "    <tr>\n",
       "      <th>814010</th>\n",
       "      <td>sales</td>\n",
       "      <td>junior</td>\n",
       "      <td>medium</td>\n",
       "      <td>2</td>\n",
       "      <td>no</td>\n",
       "      <td>no</td>\n",
       "      <td>4</td>\n",
       "      <td>27600</td>\n",
       "      <td>no</td>\n",
       "    </tr>\n",
       "    <tr>\n",
       "      <th>155091</th>\n",
       "      <td>purchasing</td>\n",
       "      <td>middle</td>\n",
       "      <td>medium</td>\n",
       "      <td>5</td>\n",
       "      <td>no</td>\n",
       "      <td>no</td>\n",
       "      <td>1</td>\n",
       "      <td>37200</td>\n",
       "      <td>no</td>\n",
       "    </tr>\n",
       "    <tr>\n",
       "      <th>257132</th>\n",
       "      <td>sales</td>\n",
       "      <td>junior</td>\n",
       "      <td>medium</td>\n",
       "      <td>2</td>\n",
       "      <td>no</td>\n",
       "      <td>yes</td>\n",
       "      <td>3</td>\n",
       "      <td>24000</td>\n",
       "      <td>yes</td>\n",
       "    </tr>\n",
       "    <tr>\n",
       "      <th>910140</th>\n",
       "      <td>marketing</td>\n",
       "      <td>junior</td>\n",
       "      <td>medium</td>\n",
       "      <td>2</td>\n",
       "      <td>no</td>\n",
       "      <td>no</td>\n",
       "      <td>5</td>\n",
       "      <td>25200</td>\n",
       "      <td>no</td>\n",
       "    </tr>\n",
       "  </tbody>\n",
       "</table>\n",
       "</div>"
      ],
      "text/plain": [
       "              dept   level workload  employment_years last_year_promo  \\\n",
       "id                                                                      \n",
       "723290       sales  middle     high                 2              no   \n",
       "814010       sales  junior   medium                 2              no   \n",
       "155091  purchasing  middle   medium                 5              no   \n",
       "257132       sales  junior   medium                 2              no   \n",
       "910140   marketing  junior   medium                 2              no   \n",
       "\n",
       "       last_year_violations  supervisor_evaluation  salary quit  \n",
       "id                                                               \n",
       "723290                   no                      4   54000   no  \n",
       "814010                   no                      4   27600   no  \n",
       "155091                   no                      1   37200   no  \n",
       "257132                  yes                      3   24000  yes  \n",
       "910140                   no                      5   25200   no  "
      ]
     },
     "metadata": {},
     "output_type": "display_data"
    },
    {
     "data": {
      "text/html": [
       "<div>\n",
       "<style scoped>\n",
       "    .dataframe tbody tr th:only-of-type {\n",
       "        vertical-align: middle;\n",
       "    }\n",
       "\n",
       "    .dataframe tbody tr th {\n",
       "        vertical-align: top;\n",
       "    }\n",
       "\n",
       "    .dataframe thead th {\n",
       "        text-align: right;\n",
       "    }\n",
       "</style>\n",
       "<table border=\"1\" class=\"dataframe\">\n",
       "  <thead>\n",
       "    <tr style=\"text-align: right;\">\n",
       "      <th></th>\n",
       "      <th>dept</th>\n",
       "      <th>level</th>\n",
       "      <th>workload</th>\n",
       "      <th>employment_years</th>\n",
       "      <th>last_year_promo</th>\n",
       "      <th>last_year_violations</th>\n",
       "      <th>supervisor_evaluation</th>\n",
       "      <th>salary</th>\n",
       "    </tr>\n",
       "    <tr>\n",
       "      <th>id</th>\n",
       "      <th></th>\n",
       "      <th></th>\n",
       "      <th></th>\n",
       "      <th></th>\n",
       "      <th></th>\n",
       "      <th></th>\n",
       "      <th></th>\n",
       "      <th></th>\n",
       "    </tr>\n",
       "  </thead>\n",
       "  <tbody>\n",
       "    <tr>\n",
       "      <th>485046</th>\n",
       "      <td>marketing</td>\n",
       "      <td>junior</td>\n",
       "      <td>medium</td>\n",
       "      <td>2</td>\n",
       "      <td>no</td>\n",
       "      <td>no</td>\n",
       "      <td>5</td>\n",
       "      <td>28800</td>\n",
       "    </tr>\n",
       "    <tr>\n",
       "      <th>686555</th>\n",
       "      <td>hr</td>\n",
       "      <td>junior</td>\n",
       "      <td>medium</td>\n",
       "      <td>1</td>\n",
       "      <td>no</td>\n",
       "      <td>no</td>\n",
       "      <td>4</td>\n",
       "      <td>30000</td>\n",
       "    </tr>\n",
       "    <tr>\n",
       "      <th>467458</th>\n",
       "      <td>sales</td>\n",
       "      <td>middle</td>\n",
       "      <td>low</td>\n",
       "      <td>5</td>\n",
       "      <td>no</td>\n",
       "      <td>no</td>\n",
       "      <td>4</td>\n",
       "      <td>19200</td>\n",
       "    </tr>\n",
       "    <tr>\n",
       "      <th>418655</th>\n",
       "      <td>sales</td>\n",
       "      <td>middle</td>\n",
       "      <td>low</td>\n",
       "      <td>6</td>\n",
       "      <td>no</td>\n",
       "      <td>no</td>\n",
       "      <td>4</td>\n",
       "      <td>19200</td>\n",
       "    </tr>\n",
       "    <tr>\n",
       "      <th>789145</th>\n",
       "      <td>hr</td>\n",
       "      <td>middle</td>\n",
       "      <td>medium</td>\n",
       "      <td>5</td>\n",
       "      <td>no</td>\n",
       "      <td>no</td>\n",
       "      <td>5</td>\n",
       "      <td>40800</td>\n",
       "    </tr>\n",
       "  </tbody>\n",
       "</table>\n",
       "</div>"
      ],
      "text/plain": [
       "             dept   level workload  employment_years last_year_promo  \\\n",
       "id                                                                     \n",
       "485046  marketing  junior   medium                 2              no   \n",
       "686555         hr  junior   medium                 1              no   \n",
       "467458      sales  middle      low                 5              no   \n",
       "418655      sales  middle      low                 6              no   \n",
       "789145         hr  middle   medium                 5              no   \n",
       "\n",
       "       last_year_violations  supervisor_evaluation  salary  \n",
       "id                                                          \n",
       "485046                   no                      5   28800  \n",
       "686555                   no                      4   30000  \n",
       "467458                   no                      4   19200  \n",
       "418655                   no                      4   19200  \n",
       "789145                   no                      5   40800  "
      ]
     },
     "metadata": {},
     "output_type": "display_data"
    },
    {
     "data": {
      "text/html": [
       "<div>\n",
       "<style scoped>\n",
       "    .dataframe tbody tr th:only-of-type {\n",
       "        vertical-align: middle;\n",
       "    }\n",
       "\n",
       "    .dataframe tbody tr th {\n",
       "        vertical-align: top;\n",
       "    }\n",
       "\n",
       "    .dataframe thead th {\n",
       "        text-align: right;\n",
       "    }\n",
       "</style>\n",
       "<table border=\"1\" class=\"dataframe\">\n",
       "  <thead>\n",
       "    <tr style=\"text-align: right;\">\n",
       "      <th></th>\n",
       "      <th>quit</th>\n",
       "    </tr>\n",
       "    <tr>\n",
       "      <th>id</th>\n",
       "      <th></th>\n",
       "    </tr>\n",
       "  </thead>\n",
       "  <tbody>\n",
       "    <tr>\n",
       "      <th>999029</th>\n",
       "      <td>yes</td>\n",
       "    </tr>\n",
       "    <tr>\n",
       "      <th>372846</th>\n",
       "      <td>no</td>\n",
       "    </tr>\n",
       "    <tr>\n",
       "      <th>726767</th>\n",
       "      <td>no</td>\n",
       "    </tr>\n",
       "    <tr>\n",
       "      <th>490105</th>\n",
       "      <td>no</td>\n",
       "    </tr>\n",
       "    <tr>\n",
       "      <th>416898</th>\n",
       "      <td>yes</td>\n",
       "    </tr>\n",
       "  </tbody>\n",
       "</table>\n",
       "</div>"
      ],
      "text/plain": [
       "       quit\n",
       "id         \n",
       "999029  yes\n",
       "372846   no\n",
       "726767   no\n",
       "490105   no\n",
       "416898  yes"
      ]
     },
     "metadata": {},
     "output_type": "display_data"
    }
   ],
   "source": [
    "for df in [train_quit, test_features, test_target_quit]:\n",
    "    display(df.head())"
   ]
  },
  {
   "cell_type": "code",
   "execution_count": 59,
   "id": "57e646bf",
   "metadata": {},
   "outputs": [
    {
     "name": "stdout",
     "output_type": "stream",
     "text": [
      "<class 'pandas.core.frame.DataFrame'>\n",
      "Int64Index: 4000 entries, 723290 to 853842\n",
      "Data columns (total 9 columns):\n",
      " #   Column                 Non-Null Count  Dtype \n",
      "---  ------                 --------------  ----- \n",
      " 0   dept                   4000 non-null   object\n",
      " 1   level                  4000 non-null   object\n",
      " 2   workload               4000 non-null   object\n",
      " 3   employment_years       4000 non-null   int64 \n",
      " 4   last_year_promo        4000 non-null   object\n",
      " 5   last_year_violations   4000 non-null   object\n",
      " 6   supervisor_evaluation  4000 non-null   int64 \n",
      " 7   salary                 4000 non-null   int64 \n",
      " 8   quit                   4000 non-null   object\n",
      "dtypes: int64(3), object(6)\n",
      "memory usage: 312.5+ KB\n"
     ]
    },
    {
     "data": {
      "text/plain": [
       "None"
      ]
     },
     "metadata": {},
     "output_type": "display_data"
    },
    {
     "name": "stdout",
     "output_type": "stream",
     "text": [
      "<class 'pandas.core.frame.DataFrame'>\n",
      "Int64Index: 2000 entries, 485046 to 771859\n",
      "Data columns (total 8 columns):\n",
      " #   Column                 Non-Null Count  Dtype \n",
      "---  ------                 --------------  ----- \n",
      " 0   dept                   1998 non-null   object\n",
      " 1   level                  1999 non-null   object\n",
      " 2   workload               2000 non-null   object\n",
      " 3   employment_years       2000 non-null   int64 \n",
      " 4   last_year_promo        2000 non-null   object\n",
      " 5   last_year_violations   2000 non-null   object\n",
      " 6   supervisor_evaluation  2000 non-null   int64 \n",
      " 7   salary                 2000 non-null   int64 \n",
      "dtypes: int64(3), object(5)\n",
      "memory usage: 140.6+ KB\n"
     ]
    },
    {
     "data": {
      "text/plain": [
       "None"
      ]
     },
     "metadata": {},
     "output_type": "display_data"
    },
    {
     "name": "stdout",
     "output_type": "stream",
     "text": [
      "<class 'pandas.core.frame.DataFrame'>\n",
      "Int64Index: 2000 entries, 999029 to 460332\n",
      "Data columns (total 1 columns):\n",
      " #   Column  Non-Null Count  Dtype \n",
      "---  ------  --------------  ----- \n",
      " 0   quit    2000 non-null   object\n",
      "dtypes: object(1)\n",
      "memory usage: 31.2+ KB\n"
     ]
    },
    {
     "data": {
      "text/plain": [
       "None"
      ]
     },
     "metadata": {},
     "output_type": "display_data"
    }
   ],
   "source": [
    "for df in [train_quit, test_features, test_target_quit]:\n",
    "    display(df.info())"
   ]
  },
  {
   "cell_type": "code",
   "execution_count": 60,
   "id": "b69ae05e",
   "metadata": {},
   "outputs": [
    {
     "data": {
      "text/plain": [
       "{'dept': array(['sales', 'purchasing', 'marketing', 'technology', 'hr'],\n",
       "       dtype=object),\n",
       " 'level': array(['middle', 'junior', 'sinior'], dtype=object),\n",
       " 'workload': array(['high', 'medium', 'low'], dtype=object),\n",
       " 'last_year_promo': array(['no', 'yes'], dtype=object),\n",
       " 'last_year_violations': array(['no', 'yes'], dtype=object),\n",
       " 'supervisor_evaluation': array([4, 1, 3, 5, 2]),\n",
       " 'quit': array(['no', 'yes'], dtype=object)}"
      ]
     },
     "metadata": {},
     "output_type": "display_data"
    },
    {
     "data": {
      "text/plain": [
       "{'dept': array(['marketing', 'hr', 'sales', 'purchasing', 'technology', nan, ' '],\n",
       "       dtype=object),\n",
       " 'level': array(['junior', 'middle', 'sinior', nan], dtype=object),\n",
       " 'workload': array(['medium', 'low', 'high', ' '], dtype=object),\n",
       " 'last_year_promo': array(['no', 'yes'], dtype=object),\n",
       " 'last_year_violations': array(['no', 'yes'], dtype=object),\n",
       " 'supervisor_evaluation': array([5, 4, 3, 1, 2])}"
      ]
     },
     "metadata": {},
     "output_type": "display_data"
    },
    {
     "data": {
      "text/plain": [
       "{'quit': array(['yes', 'no'], dtype=object)}"
      ]
     },
     "metadata": {},
     "output_type": "display_data"
    }
   ],
   "source": [
    "for df in [train_quit, test_features, test_target_quit]:\n",
    "    out = {}\n",
    "    for c in ['dept', 'level', 'workload', 'last_year_promo',\n",
    "       'last_year_violations', 'supervisor_evaluation', 'quit']:\n",
    "        if c in df.columns:\n",
    "            out[c] = df[c].unique()\n",
    "    display((out))"
   ]
  },
  {
   "cell_type": "code",
   "execution_count": 61,
   "id": "29eb784b",
   "metadata": {},
   "outputs": [
    {
     "data": {
      "text/html": [
       "<div>\n",
       "<style scoped>\n",
       "    .dataframe tbody tr th:only-of-type {\n",
       "        vertical-align: middle;\n",
       "    }\n",
       "\n",
       "    .dataframe tbody tr th {\n",
       "        vertical-align: top;\n",
       "    }\n",
       "\n",
       "    .dataframe thead th {\n",
       "        text-align: right;\n",
       "    }\n",
       "</style>\n",
       "<table border=\"1\" class=\"dataframe\">\n",
       "  <thead>\n",
       "    <tr style=\"text-align: right;\">\n",
       "      <th></th>\n",
       "      <th>dept</th>\n",
       "      <th>level</th>\n",
       "      <th>workload</th>\n",
       "      <th>employment_years</th>\n",
       "      <th>last_year_promo</th>\n",
       "      <th>last_year_violations</th>\n",
       "      <th>supervisor_evaluation</th>\n",
       "      <th>salary</th>\n",
       "      <th>quit</th>\n",
       "    </tr>\n",
       "    <tr>\n",
       "      <th>id</th>\n",
       "      <th></th>\n",
       "      <th></th>\n",
       "      <th></th>\n",
       "      <th></th>\n",
       "      <th></th>\n",
       "      <th></th>\n",
       "      <th></th>\n",
       "      <th></th>\n",
       "      <th></th>\n",
       "    </tr>\n",
       "  </thead>\n",
       "  <tbody>\n",
       "    <tr>\n",
       "      <th>723290</th>\n",
       "      <td>sales</td>\n",
       "      <td>middle</td>\n",
       "      <td>high</td>\n",
       "      <td>2</td>\n",
       "      <td>no</td>\n",
       "      <td>no</td>\n",
       "      <td>4</td>\n",
       "      <td>54000</td>\n",
       "      <td>no</td>\n",
       "    </tr>\n",
       "    <tr>\n",
       "      <th>814010</th>\n",
       "      <td>sales</td>\n",
       "      <td>junior</td>\n",
       "      <td>medium</td>\n",
       "      <td>2</td>\n",
       "      <td>no</td>\n",
       "      <td>no</td>\n",
       "      <td>4</td>\n",
       "      <td>27600</td>\n",
       "      <td>no</td>\n",
       "    </tr>\n",
       "    <tr>\n",
       "      <th>155091</th>\n",
       "      <td>purchasing</td>\n",
       "      <td>middle</td>\n",
       "      <td>medium</td>\n",
       "      <td>5</td>\n",
       "      <td>no</td>\n",
       "      <td>no</td>\n",
       "      <td>1</td>\n",
       "      <td>37200</td>\n",
       "      <td>no</td>\n",
       "    </tr>\n",
       "    <tr>\n",
       "      <th>257132</th>\n",
       "      <td>sales</td>\n",
       "      <td>junior</td>\n",
       "      <td>medium</td>\n",
       "      <td>2</td>\n",
       "      <td>no</td>\n",
       "      <td>yes</td>\n",
       "      <td>3</td>\n",
       "      <td>24000</td>\n",
       "      <td>yes</td>\n",
       "    </tr>\n",
       "    <tr>\n",
       "      <th>910140</th>\n",
       "      <td>marketing</td>\n",
       "      <td>junior</td>\n",
       "      <td>medium</td>\n",
       "      <td>2</td>\n",
       "      <td>no</td>\n",
       "      <td>no</td>\n",
       "      <td>5</td>\n",
       "      <td>25200</td>\n",
       "      <td>no</td>\n",
       "    </tr>\n",
       "  </tbody>\n",
       "</table>\n",
       "</div>"
      ],
      "text/plain": [
       "              dept   level workload  employment_years last_year_promo  \\\n",
       "id                                                                      \n",
       "723290       sales  middle     high                 2              no   \n",
       "814010       sales  junior   medium                 2              no   \n",
       "155091  purchasing  middle   medium                 5              no   \n",
       "257132       sales  junior   medium                 2              no   \n",
       "910140   marketing  junior   medium                 2              no   \n",
       "\n",
       "       last_year_violations  supervisor_evaluation  salary quit  \n",
       "id                                                               \n",
       "723290                   no                      4   54000   no  \n",
       "814010                   no                      4   27600   no  \n",
       "155091                   no                      1   37200   no  \n",
       "257132                  yes                      3   24000  yes  \n",
       "910140                   no                      5   25200   no  "
      ]
     },
     "execution_count": 61,
     "metadata": {},
     "output_type": "execute_result"
    }
   ],
   "source": [
    "train_quit.head()"
   ]
  },
  {
   "cell_type": "markdown",
   "id": "756d44ac",
   "metadata": {},
   "source": [
    "### Adding new feature"
   ]
  },
  {
   "cell_type": "markdown",
   "id": "c946cfef",
   "metadata": {},
   "source": [
    "Since we used the preprocessor from the previous task, including on the column train_job_satisfaction_rate, we will add a placeholder for it in the new data and later replace it with the prediction."
   ]
  },
  {
   "cell_type": "code",
   "execution_count": 62,
   "id": "1bf35bc5",
   "metadata": {},
   "outputs": [],
   "source": [
    "test_features['job_satisfaction_rate'] = 1"
   ]
  },
  {
   "cell_type": "code",
   "execution_count": 63,
   "id": "e7f1c188",
   "metadata": {},
   "outputs": [
    {
     "data": {
      "text/html": [
       "<div>\n",
       "<style scoped>\n",
       "    .dataframe tbody tr th:only-of-type {\n",
       "        vertical-align: middle;\n",
       "    }\n",
       "\n",
       "    .dataframe tbody tr th {\n",
       "        vertical-align: top;\n",
       "    }\n",
       "\n",
       "    .dataframe thead th {\n",
       "        text-align: right;\n",
       "    }\n",
       "</style>\n",
       "<table border=\"1\" class=\"dataframe\">\n",
       "  <thead>\n",
       "    <tr style=\"text-align: right;\">\n",
       "      <th></th>\n",
       "      <th>dept</th>\n",
       "      <th>level</th>\n",
       "      <th>workload</th>\n",
       "      <th>employment_years</th>\n",
       "      <th>last_year_promo</th>\n",
       "      <th>last_year_violations</th>\n",
       "      <th>supervisor_evaluation</th>\n",
       "      <th>salary</th>\n",
       "      <th>job_satisfaction_rate</th>\n",
       "    </tr>\n",
       "    <tr>\n",
       "      <th>id</th>\n",
       "      <th></th>\n",
       "      <th></th>\n",
       "      <th></th>\n",
       "      <th></th>\n",
       "      <th></th>\n",
       "      <th></th>\n",
       "      <th></th>\n",
       "      <th></th>\n",
       "      <th></th>\n",
       "    </tr>\n",
       "  </thead>\n",
       "  <tbody>\n",
       "    <tr>\n",
       "      <th>485046</th>\n",
       "      <td>marketing</td>\n",
       "      <td>junior</td>\n",
       "      <td>medium</td>\n",
       "      <td>2</td>\n",
       "      <td>no</td>\n",
       "      <td>no</td>\n",
       "      <td>5</td>\n",
       "      <td>28800</td>\n",
       "      <td>1</td>\n",
       "    </tr>\n",
       "    <tr>\n",
       "      <th>686555</th>\n",
       "      <td>hr</td>\n",
       "      <td>junior</td>\n",
       "      <td>medium</td>\n",
       "      <td>1</td>\n",
       "      <td>no</td>\n",
       "      <td>no</td>\n",
       "      <td>4</td>\n",
       "      <td>30000</td>\n",
       "      <td>1</td>\n",
       "    </tr>\n",
       "    <tr>\n",
       "      <th>467458</th>\n",
       "      <td>sales</td>\n",
       "      <td>middle</td>\n",
       "      <td>low</td>\n",
       "      <td>5</td>\n",
       "      <td>no</td>\n",
       "      <td>no</td>\n",
       "      <td>4</td>\n",
       "      <td>19200</td>\n",
       "      <td>1</td>\n",
       "    </tr>\n",
       "    <tr>\n",
       "      <th>418655</th>\n",
       "      <td>sales</td>\n",
       "      <td>middle</td>\n",
       "      <td>low</td>\n",
       "      <td>6</td>\n",
       "      <td>no</td>\n",
       "      <td>no</td>\n",
       "      <td>4</td>\n",
       "      <td>19200</td>\n",
       "      <td>1</td>\n",
       "    </tr>\n",
       "    <tr>\n",
       "      <th>789145</th>\n",
       "      <td>hr</td>\n",
       "      <td>middle</td>\n",
       "      <td>medium</td>\n",
       "      <td>5</td>\n",
       "      <td>no</td>\n",
       "      <td>no</td>\n",
       "      <td>5</td>\n",
       "      <td>40800</td>\n",
       "      <td>1</td>\n",
       "    </tr>\n",
       "    <tr>\n",
       "      <th>...</th>\n",
       "      <td>...</td>\n",
       "      <td>...</td>\n",
       "      <td>...</td>\n",
       "      <td>...</td>\n",
       "      <td>...</td>\n",
       "      <td>...</td>\n",
       "      <td>...</td>\n",
       "      <td>...</td>\n",
       "      <td>...</td>\n",
       "    </tr>\n",
       "    <tr>\n",
       "      <th>393147</th>\n",
       "      <td>marketing</td>\n",
       "      <td>junior</td>\n",
       "      <td>low</td>\n",
       "      <td>3</td>\n",
       "      <td>no</td>\n",
       "      <td>no</td>\n",
       "      <td>3</td>\n",
       "      <td>20400</td>\n",
       "      <td>1</td>\n",
       "    </tr>\n",
       "    <tr>\n",
       "      <th>109582</th>\n",
       "      <td>technology</td>\n",
       "      <td>middle</td>\n",
       "      <td>low</td>\n",
       "      <td>3</td>\n",
       "      <td>no</td>\n",
       "      <td>no</td>\n",
       "      <td>2</td>\n",
       "      <td>21600</td>\n",
       "      <td>1</td>\n",
       "    </tr>\n",
       "    <tr>\n",
       "      <th>305653</th>\n",
       "      <td>technology</td>\n",
       "      <td>junior</td>\n",
       "      <td>low</td>\n",
       "      <td>1</td>\n",
       "      <td>no</td>\n",
       "      <td>no</td>\n",
       "      <td>3</td>\n",
       "      <td>14400</td>\n",
       "      <td>1</td>\n",
       "    </tr>\n",
       "    <tr>\n",
       "      <th>160233</th>\n",
       "      <td>technology</td>\n",
       "      <td>middle</td>\n",
       "      <td>low</td>\n",
       "      <td>8</td>\n",
       "      <td>no</td>\n",
       "      <td>no</td>\n",
       "      <td>1</td>\n",
       "      <td>32400</td>\n",
       "      <td>1</td>\n",
       "    </tr>\n",
       "    <tr>\n",
       "      <th>771859</th>\n",
       "      <td>purchasing</td>\n",
       "      <td>middle</td>\n",
       "      <td>medium</td>\n",
       "      <td>1</td>\n",
       "      <td>no</td>\n",
       "      <td>no</td>\n",
       "      <td>4</td>\n",
       "      <td>38400</td>\n",
       "      <td>1</td>\n",
       "    </tr>\n",
       "  </tbody>\n",
       "</table>\n",
       "<p>2000 rows × 9 columns</p>\n",
       "</div>"
      ],
      "text/plain": [
       "              dept   level workload  employment_years last_year_promo  \\\n",
       "id                                                                      \n",
       "485046   marketing  junior   medium                 2              no   \n",
       "686555          hr  junior   medium                 1              no   \n",
       "467458       sales  middle      low                 5              no   \n",
       "418655       sales  middle      low                 6              no   \n",
       "789145          hr  middle   medium                 5              no   \n",
       "...            ...     ...      ...               ...             ...   \n",
       "393147   marketing  junior      low                 3              no   \n",
       "109582  technology  middle      low                 3              no   \n",
       "305653  technology  junior      low                 1              no   \n",
       "160233  technology  middle      low                 8              no   \n",
       "771859  purchasing  middle   medium                 1              no   \n",
       "\n",
       "       last_year_violations  supervisor_evaluation  salary  \\\n",
       "id                                                           \n",
       "485046                   no                      5   28800   \n",
       "686555                   no                      4   30000   \n",
       "467458                   no                      4   19200   \n",
       "418655                   no                      4   19200   \n",
       "789145                   no                      5   40800   \n",
       "...                     ...                    ...     ...   \n",
       "393147                   no                      3   20400   \n",
       "109582                   no                      2   21600   \n",
       "305653                   no                      3   14400   \n",
       "160233                   no                      1   32400   \n",
       "771859                   no                      4   38400   \n",
       "\n",
       "        job_satisfaction_rate  \n",
       "id                             \n",
       "485046                      1  \n",
       "686555                      1  \n",
       "467458                      1  \n",
       "418655                      1  \n",
       "789145                      1  \n",
       "...                       ...  \n",
       "393147                      1  \n",
       "109582                      1  \n",
       "305653                      1  \n",
       "160233                      1  \n",
       "771859                      1  \n",
       "\n",
       "[2000 rows x 9 columns]"
      ]
     },
     "execution_count": 63,
     "metadata": {},
     "output_type": "execute_result"
    }
   ],
   "source": [
    "test_features"
   ]
  },
  {
   "cell_type": "code",
   "execution_count": 64,
   "id": "821641e5",
   "metadata": {},
   "outputs": [],
   "source": [
    "tr = pd.DataFrame(preprocessor.transform(test_features[train_job_satisfaction_rate.columns].replace({' ': np.nan})), columns=new_column_names, \n",
    "                 index=test_features.index)"
   ]
  },
  {
   "cell_type": "code",
   "execution_count": 65,
   "id": "e53e50f8",
   "metadata": {},
   "outputs": [],
   "source": [
    "tr = pd.DataFrame(scaler_preprocessor.transform(tr), columns=tr.columns, \n",
    "                 index=test_features.index)"
   ]
  },
  {
   "cell_type": "code",
   "execution_count": 66,
   "id": "30d605d4",
   "metadata": {},
   "outputs": [],
   "source": [
    "p = pd.Series(rf.predict(tr[[i for i in tr.columns if i != 'job_satisfaction_rate']]), \n",
    "             index = tr.index)"
   ]
  },
  {
   "cell_type": "code",
   "execution_count": 67,
   "id": "9503929c",
   "metadata": {},
   "outputs": [],
   "source": [
    "test_features['job_satisfaction_rate'] = p"
   ]
  },
  {
   "cell_type": "code",
   "execution_count": 68,
   "id": "15022d42",
   "metadata": {},
   "outputs": [
    {
     "data": {
      "text/html": [
       "<div>\n",
       "<style scoped>\n",
       "    .dataframe tbody tr th:only-of-type {\n",
       "        vertical-align: middle;\n",
       "    }\n",
       "\n",
       "    .dataframe tbody tr th {\n",
       "        vertical-align: top;\n",
       "    }\n",
       "\n",
       "    .dataframe thead th {\n",
       "        text-align: right;\n",
       "    }\n",
       "</style>\n",
       "<table border=\"1\" class=\"dataframe\">\n",
       "  <thead>\n",
       "    <tr style=\"text-align: right;\">\n",
       "      <th></th>\n",
       "      <th>dept</th>\n",
       "      <th>level</th>\n",
       "      <th>workload</th>\n",
       "      <th>employment_years</th>\n",
       "      <th>last_year_promo</th>\n",
       "      <th>last_year_violations</th>\n",
       "      <th>supervisor_evaluation</th>\n",
       "      <th>salary</th>\n",
       "      <th>job_satisfaction_rate</th>\n",
       "    </tr>\n",
       "    <tr>\n",
       "      <th>id</th>\n",
       "      <th></th>\n",
       "      <th></th>\n",
       "      <th></th>\n",
       "      <th></th>\n",
       "      <th></th>\n",
       "      <th></th>\n",
       "      <th></th>\n",
       "      <th></th>\n",
       "      <th></th>\n",
       "    </tr>\n",
       "  </thead>\n",
       "  <tbody>\n",
       "    <tr>\n",
       "      <th>485046</th>\n",
       "      <td>marketing</td>\n",
       "      <td>junior</td>\n",
       "      <td>medium</td>\n",
       "      <td>2</td>\n",
       "      <td>no</td>\n",
       "      <td>no</td>\n",
       "      <td>5</td>\n",
       "      <td>28800</td>\n",
       "      <td>0.864156</td>\n",
       "    </tr>\n",
       "    <tr>\n",
       "      <th>686555</th>\n",
       "      <td>hr</td>\n",
       "      <td>junior</td>\n",
       "      <td>medium</td>\n",
       "      <td>1</td>\n",
       "      <td>no</td>\n",
       "      <td>no</td>\n",
       "      <td>4</td>\n",
       "      <td>30000</td>\n",
       "      <td>0.681098</td>\n",
       "    </tr>\n",
       "    <tr>\n",
       "      <th>467458</th>\n",
       "      <td>sales</td>\n",
       "      <td>middle</td>\n",
       "      <td>low</td>\n",
       "      <td>5</td>\n",
       "      <td>no</td>\n",
       "      <td>no</td>\n",
       "      <td>4</td>\n",
       "      <td>19200</td>\n",
       "      <td>0.654457</td>\n",
       "    </tr>\n",
       "    <tr>\n",
       "      <th>418655</th>\n",
       "      <td>sales</td>\n",
       "      <td>middle</td>\n",
       "      <td>low</td>\n",
       "      <td>6</td>\n",
       "      <td>no</td>\n",
       "      <td>no</td>\n",
       "      <td>4</td>\n",
       "      <td>19200</td>\n",
       "      <td>0.657834</td>\n",
       "    </tr>\n",
       "    <tr>\n",
       "      <th>789145</th>\n",
       "      <td>hr</td>\n",
       "      <td>middle</td>\n",
       "      <td>medium</td>\n",
       "      <td>5</td>\n",
       "      <td>no</td>\n",
       "      <td>no</td>\n",
       "      <td>5</td>\n",
       "      <td>40800</td>\n",
       "      <td>0.782663</td>\n",
       "    </tr>\n",
       "  </tbody>\n",
       "</table>\n",
       "</div>"
      ],
      "text/plain": [
       "             dept   level workload  employment_years last_year_promo  \\\n",
       "id                                                                     \n",
       "485046  marketing  junior   medium                 2              no   \n",
       "686555         hr  junior   medium                 1              no   \n",
       "467458      sales  middle      low                 5              no   \n",
       "418655      sales  middle      low                 6              no   \n",
       "789145         hr  middle   medium                 5              no   \n",
       "\n",
       "       last_year_violations  supervisor_evaluation  salary  \\\n",
       "id                                                           \n",
       "485046                   no                      5   28800   \n",
       "686555                   no                      4   30000   \n",
       "467458                   no                      4   19200   \n",
       "418655                   no                      4   19200   \n",
       "789145                   no                      5   40800   \n",
       "\n",
       "        job_satisfaction_rate  \n",
       "id                             \n",
       "485046               0.864156  \n",
       "686555               0.681098  \n",
       "467458               0.654457  \n",
       "418655               0.657834  \n",
       "789145               0.782663  "
      ]
     },
     "execution_count": 68,
     "metadata": {},
     "output_type": "execute_result"
    }
   ],
   "source": [
    "test_features.head()"
   ]
  },
  {
   "cell_type": "code",
   "execution_count": 69,
   "id": "19a0bdcb",
   "metadata": {},
   "outputs": [],
   "source": [
    "train_quit['job_satisfaction_rate'] = 1"
   ]
  },
  {
   "cell_type": "code",
   "execution_count": 70,
   "id": "86800220",
   "metadata": {},
   "outputs": [
    {
     "data": {
      "text/html": [
       "<div>\n",
       "<style scoped>\n",
       "    .dataframe tbody tr th:only-of-type {\n",
       "        vertical-align: middle;\n",
       "    }\n",
       "\n",
       "    .dataframe tbody tr th {\n",
       "        vertical-align: top;\n",
       "    }\n",
       "\n",
       "    .dataframe thead th {\n",
       "        text-align: right;\n",
       "    }\n",
       "</style>\n",
       "<table border=\"1\" class=\"dataframe\">\n",
       "  <thead>\n",
       "    <tr style=\"text-align: right;\">\n",
       "      <th></th>\n",
       "      <th>dept</th>\n",
       "      <th>level</th>\n",
       "      <th>workload</th>\n",
       "      <th>employment_years</th>\n",
       "      <th>last_year_promo</th>\n",
       "      <th>last_year_violations</th>\n",
       "      <th>supervisor_evaluation</th>\n",
       "      <th>salary</th>\n",
       "      <th>quit</th>\n",
       "      <th>job_satisfaction_rate</th>\n",
       "    </tr>\n",
       "    <tr>\n",
       "      <th>id</th>\n",
       "      <th></th>\n",
       "      <th></th>\n",
       "      <th></th>\n",
       "      <th></th>\n",
       "      <th></th>\n",
       "      <th></th>\n",
       "      <th></th>\n",
       "      <th></th>\n",
       "      <th></th>\n",
       "      <th></th>\n",
       "    </tr>\n",
       "  </thead>\n",
       "  <tbody>\n",
       "    <tr>\n",
       "      <th>723290</th>\n",
       "      <td>sales</td>\n",
       "      <td>middle</td>\n",
       "      <td>high</td>\n",
       "      <td>2</td>\n",
       "      <td>no</td>\n",
       "      <td>no</td>\n",
       "      <td>4</td>\n",
       "      <td>54000</td>\n",
       "      <td>no</td>\n",
       "      <td>1</td>\n",
       "    </tr>\n",
       "    <tr>\n",
       "      <th>814010</th>\n",
       "      <td>sales</td>\n",
       "      <td>junior</td>\n",
       "      <td>medium</td>\n",
       "      <td>2</td>\n",
       "      <td>no</td>\n",
       "      <td>no</td>\n",
       "      <td>4</td>\n",
       "      <td>27600</td>\n",
       "      <td>no</td>\n",
       "      <td>1</td>\n",
       "    </tr>\n",
       "    <tr>\n",
       "      <th>155091</th>\n",
       "      <td>purchasing</td>\n",
       "      <td>middle</td>\n",
       "      <td>medium</td>\n",
       "      <td>5</td>\n",
       "      <td>no</td>\n",
       "      <td>no</td>\n",
       "      <td>1</td>\n",
       "      <td>37200</td>\n",
       "      <td>no</td>\n",
       "      <td>1</td>\n",
       "    </tr>\n",
       "    <tr>\n",
       "      <th>257132</th>\n",
       "      <td>sales</td>\n",
       "      <td>junior</td>\n",
       "      <td>medium</td>\n",
       "      <td>2</td>\n",
       "      <td>no</td>\n",
       "      <td>yes</td>\n",
       "      <td>3</td>\n",
       "      <td>24000</td>\n",
       "      <td>yes</td>\n",
       "      <td>1</td>\n",
       "    </tr>\n",
       "    <tr>\n",
       "      <th>910140</th>\n",
       "      <td>marketing</td>\n",
       "      <td>junior</td>\n",
       "      <td>medium</td>\n",
       "      <td>2</td>\n",
       "      <td>no</td>\n",
       "      <td>no</td>\n",
       "      <td>5</td>\n",
       "      <td>25200</td>\n",
       "      <td>no</td>\n",
       "      <td>1</td>\n",
       "    </tr>\n",
       "  </tbody>\n",
       "</table>\n",
       "</div>"
      ],
      "text/plain": [
       "              dept   level workload  employment_years last_year_promo  \\\n",
       "id                                                                      \n",
       "723290       sales  middle     high                 2              no   \n",
       "814010       sales  junior   medium                 2              no   \n",
       "155091  purchasing  middle   medium                 5              no   \n",
       "257132       sales  junior   medium                 2              no   \n",
       "910140   marketing  junior   medium                 2              no   \n",
       "\n",
       "       last_year_violations  supervisor_evaluation  salary quit  \\\n",
       "id                                                                \n",
       "723290                   no                      4   54000   no   \n",
       "814010                   no                      4   27600   no   \n",
       "155091                   no                      1   37200   no   \n",
       "257132                  yes                      3   24000  yes   \n",
       "910140                   no                      5   25200   no   \n",
       "\n",
       "        job_satisfaction_rate  \n",
       "id                             \n",
       "723290                      1  \n",
       "814010                      1  \n",
       "155091                      1  \n",
       "257132                      1  \n",
       "910140                      1  "
      ]
     },
     "execution_count": 70,
     "metadata": {},
     "output_type": "execute_result"
    }
   ],
   "source": [
    "train_quit.head()"
   ]
  },
  {
   "cell_type": "code",
   "execution_count": 71,
   "id": "f9f9dc2f",
   "metadata": {},
   "outputs": [],
   "source": [
    "tr = pd.DataFrame(preprocessor.transform(train_quit[train_job_satisfaction_rate.columns]), columns=new_column_names, \n",
    "                 index=train_quit.index)"
   ]
  },
  {
   "cell_type": "code",
   "execution_count": 72,
   "id": "6dd8f3c1",
   "metadata": {},
   "outputs": [],
   "source": [
    "tr = pd.DataFrame(scaler_preprocessor.transform(tr), columns=tr.columns, \n",
    "                 index=train_quit.index)"
   ]
  },
  {
   "cell_type": "code",
   "execution_count": 73,
   "id": "cc721f42",
   "metadata": {},
   "outputs": [],
   "source": [
    "p = pd.Series(rf.predict(tr[[i for i in tr.columns if i != 'job_satisfaction_rate']]), \n",
    "             index = tr.index)"
   ]
  },
  {
   "cell_type": "code",
   "execution_count": 74,
   "id": "246b0ad2",
   "metadata": {},
   "outputs": [],
   "source": [
    "train_quit['job_satisfaction_rate'] = p"
   ]
  },
  {
   "cell_type": "code",
   "execution_count": 75,
   "id": "370e2134",
   "metadata": {},
   "outputs": [
    {
     "data": {
      "text/html": [
       "<div>\n",
       "<style scoped>\n",
       "    .dataframe tbody tr th:only-of-type {\n",
       "        vertical-align: middle;\n",
       "    }\n",
       "\n",
       "    .dataframe tbody tr th {\n",
       "        vertical-align: top;\n",
       "    }\n",
       "\n",
       "    .dataframe thead th {\n",
       "        text-align: right;\n",
       "    }\n",
       "</style>\n",
       "<table border=\"1\" class=\"dataframe\">\n",
       "  <thead>\n",
       "    <tr style=\"text-align: right;\">\n",
       "      <th></th>\n",
       "      <th>dept</th>\n",
       "      <th>level</th>\n",
       "      <th>workload</th>\n",
       "      <th>employment_years</th>\n",
       "      <th>last_year_promo</th>\n",
       "      <th>last_year_violations</th>\n",
       "      <th>supervisor_evaluation</th>\n",
       "      <th>salary</th>\n",
       "      <th>quit</th>\n",
       "      <th>job_satisfaction_rate</th>\n",
       "    </tr>\n",
       "    <tr>\n",
       "      <th>id</th>\n",
       "      <th></th>\n",
       "      <th></th>\n",
       "      <th></th>\n",
       "      <th></th>\n",
       "      <th></th>\n",
       "      <th></th>\n",
       "      <th></th>\n",
       "      <th></th>\n",
       "      <th></th>\n",
       "      <th></th>\n",
       "    </tr>\n",
       "  </thead>\n",
       "  <tbody>\n",
       "    <tr>\n",
       "      <th>723290</th>\n",
       "      <td>sales</td>\n",
       "      <td>middle</td>\n",
       "      <td>high</td>\n",
       "      <td>2</td>\n",
       "      <td>no</td>\n",
       "      <td>no</td>\n",
       "      <td>4</td>\n",
       "      <td>54000</td>\n",
       "      <td>no</td>\n",
       "      <td>0.630050</td>\n",
       "    </tr>\n",
       "    <tr>\n",
       "      <th>814010</th>\n",
       "      <td>sales</td>\n",
       "      <td>junior</td>\n",
       "      <td>medium</td>\n",
       "      <td>2</td>\n",
       "      <td>no</td>\n",
       "      <td>no</td>\n",
       "      <td>4</td>\n",
       "      <td>27600</td>\n",
       "      <td>no</td>\n",
       "      <td>0.843293</td>\n",
       "    </tr>\n",
       "    <tr>\n",
       "      <th>155091</th>\n",
       "      <td>purchasing</td>\n",
       "      <td>middle</td>\n",
       "      <td>medium</td>\n",
       "      <td>5</td>\n",
       "      <td>no</td>\n",
       "      <td>no</td>\n",
       "      <td>1</td>\n",
       "      <td>37200</td>\n",
       "      <td>no</td>\n",
       "      <td>0.376717</td>\n",
       "    </tr>\n",
       "    <tr>\n",
       "      <th>257132</th>\n",
       "      <td>sales</td>\n",
       "      <td>junior</td>\n",
       "      <td>medium</td>\n",
       "      <td>2</td>\n",
       "      <td>no</td>\n",
       "      <td>yes</td>\n",
       "      <td>3</td>\n",
       "      <td>24000</td>\n",
       "      <td>yes</td>\n",
       "      <td>0.349165</td>\n",
       "    </tr>\n",
       "    <tr>\n",
       "      <th>910140</th>\n",
       "      <td>marketing</td>\n",
       "      <td>junior</td>\n",
       "      <td>medium</td>\n",
       "      <td>2</td>\n",
       "      <td>no</td>\n",
       "      <td>no</td>\n",
       "      <td>5</td>\n",
       "      <td>25200</td>\n",
       "      <td>no</td>\n",
       "      <td>0.756315</td>\n",
       "    </tr>\n",
       "  </tbody>\n",
       "</table>\n",
       "</div>"
      ],
      "text/plain": [
       "              dept   level workload  employment_years last_year_promo  \\\n",
       "id                                                                      \n",
       "723290       sales  middle     high                 2              no   \n",
       "814010       sales  junior   medium                 2              no   \n",
       "155091  purchasing  middle   medium                 5              no   \n",
       "257132       sales  junior   medium                 2              no   \n",
       "910140   marketing  junior   medium                 2              no   \n",
       "\n",
       "       last_year_violations  supervisor_evaluation  salary quit  \\\n",
       "id                                                                \n",
       "723290                   no                      4   54000   no   \n",
       "814010                   no                      4   27600   no   \n",
       "155091                   no                      1   37200   no   \n",
       "257132                  yes                      3   24000  yes   \n",
       "910140                   no                      5   25200   no   \n",
       "\n",
       "        job_satisfaction_rate  \n",
       "id                             \n",
       "723290               0.630050  \n",
       "814010               0.843293  \n",
       "155091               0.376717  \n",
       "257132               0.349165  \n",
       "910140               0.756315  "
      ]
     },
     "execution_count": 75,
     "metadata": {},
     "output_type": "execute_result"
    }
   ],
   "source": [
    "train_quit.head()"
   ]
  },
  {
   "cell_type": "markdown",
   "id": "63e5d62b",
   "metadata": {},
   "source": [
    "### Transformer"
   ]
  },
  {
   "cell_type": "code",
   "execution_count": 76,
   "id": "c127d5e0",
   "metadata": {},
   "outputs": [],
   "source": [
    "categorical_features = ['dept', 'last_year_promo', 'last_year_violations']\n",
    "ordinal_features = ['level', 'workload', 'quit']\n",
    "numerical_features = ['employment_years', 'salary','job_satisfaction_rate', 'supervisor_evaluation'] "
   ]
  },
  {
   "cell_type": "code",
   "execution_count": 77,
   "id": "a1e45030",
   "metadata": {},
   "outputs": [],
   "source": [
    "numerical_transformer = Pipeline([\n",
    "    ('imputer', SimpleImputer(strategy='median')),\n",
    "])"
   ]
  },
  {
   "cell_type": "code",
   "execution_count": 78,
   "id": "20de0a31",
   "metadata": {},
   "outputs": [],
   "source": [
    "categorical_transformer = Pipeline([\n",
    "    ('imputer', SimpleImputer(strategy='most_frequent')),\n",
    "    ('onehot', OneHotEncoder(drop='first', handle_unknown='ignore'))\n",
    "])"
   ]
  },
  {
   "cell_type": "code",
   "execution_count": 79,
   "id": "8f530ddf",
   "metadata": {},
   "outputs": [],
   "source": [
    "ordinal_transformer = Pipeline([\n",
    "    ('imputer', SimpleImputer(strategy='most_frequent')),\n",
    "    ('ordinal', OrdinalEncoder(handle_unknown='use_encoded_value', unknown_value=np.nan))\n",
    "])"
   ]
  },
  {
   "cell_type": "code",
   "execution_count": 80,
   "id": "2980d232",
   "metadata": {},
   "outputs": [],
   "source": [
    "preprocessor_for_classifier = ColumnTransformer([\n",
    "    ('num', numerical_transformer, numerical_features),\n",
    "    ('cat', categorical_transformer, categorical_features), \n",
    "    ('ord', ordinal_transformer, ordinal_features)\n",
    "], remainder='passthrough')"
   ]
  },
  {
   "cell_type": "code",
   "execution_count": 81,
   "id": "0333a7e7",
   "metadata": {},
   "outputs": [],
   "source": [
    "train_quit_transformed = preprocessor_for_classifier.fit_transform(train_quit)"
   ]
  },
  {
   "cell_type": "code",
   "execution_count": 82,
   "id": "4384c47d",
   "metadata": {},
   "outputs": [],
   "source": [
    "onehot_feature_names = preprocessor_for_classifier.named_transformers_['cat'].named_steps['onehot'].get_feature_names_out(input_features=categorical_features)\n",
    "\n",
    "new_column_names_pr2 = list(numerical_features) + list(onehot_feature_names) + list(ordinal_features)"
   ]
  },
  {
   "cell_type": "code",
   "execution_count": 83,
   "id": "50e70277",
   "metadata": {},
   "outputs": [],
   "source": [
    "train_quit_transformed = pd.DataFrame(train_quit_transformed, \n",
    "                                                       index=train_quit.index, columns = new_column_names_pr2)"
   ]
  },
  {
   "cell_type": "code",
   "execution_count": 84,
   "id": "e50a548e",
   "metadata": {},
   "outputs": [
    {
     "data": {
      "text/html": [
       "<div>\n",
       "<style scoped>\n",
       "    .dataframe tbody tr th:only-of-type {\n",
       "        vertical-align: middle;\n",
       "    }\n",
       "\n",
       "    .dataframe tbody tr th {\n",
       "        vertical-align: top;\n",
       "    }\n",
       "\n",
       "    .dataframe thead th {\n",
       "        text-align: right;\n",
       "    }\n",
       "</style>\n",
       "<table border=\"1\" class=\"dataframe\">\n",
       "  <thead>\n",
       "    <tr style=\"text-align: right;\">\n",
       "      <th></th>\n",
       "      <th>employment_years</th>\n",
       "      <th>salary</th>\n",
       "      <th>job_satisfaction_rate</th>\n",
       "      <th>supervisor_evaluation</th>\n",
       "      <th>dept_marketing</th>\n",
       "      <th>dept_purchasing</th>\n",
       "      <th>dept_sales</th>\n",
       "      <th>dept_technology</th>\n",
       "      <th>last_year_promo_yes</th>\n",
       "      <th>last_year_violations_yes</th>\n",
       "      <th>level</th>\n",
       "      <th>workload</th>\n",
       "      <th>quit</th>\n",
       "    </tr>\n",
       "    <tr>\n",
       "      <th>id</th>\n",
       "      <th></th>\n",
       "      <th></th>\n",
       "      <th></th>\n",
       "      <th></th>\n",
       "      <th></th>\n",
       "      <th></th>\n",
       "      <th></th>\n",
       "      <th></th>\n",
       "      <th></th>\n",
       "      <th></th>\n",
       "      <th></th>\n",
       "      <th></th>\n",
       "      <th></th>\n",
       "    </tr>\n",
       "  </thead>\n",
       "  <tbody>\n",
       "    <tr>\n",
       "      <th>723290</th>\n",
       "      <td>2.0</td>\n",
       "      <td>54000.0</td>\n",
       "      <td>0.630050</td>\n",
       "      <td>4.0</td>\n",
       "      <td>0.0</td>\n",
       "      <td>0.0</td>\n",
       "      <td>1.0</td>\n",
       "      <td>0.0</td>\n",
       "      <td>0.0</td>\n",
       "      <td>0.0</td>\n",
       "      <td>1.0</td>\n",
       "      <td>0.0</td>\n",
       "      <td>0.0</td>\n",
       "    </tr>\n",
       "    <tr>\n",
       "      <th>814010</th>\n",
       "      <td>2.0</td>\n",
       "      <td>27600.0</td>\n",
       "      <td>0.843293</td>\n",
       "      <td>4.0</td>\n",
       "      <td>0.0</td>\n",
       "      <td>0.0</td>\n",
       "      <td>1.0</td>\n",
       "      <td>0.0</td>\n",
       "      <td>0.0</td>\n",
       "      <td>0.0</td>\n",
       "      <td>0.0</td>\n",
       "      <td>2.0</td>\n",
       "      <td>0.0</td>\n",
       "    </tr>\n",
       "    <tr>\n",
       "      <th>155091</th>\n",
       "      <td>5.0</td>\n",
       "      <td>37200.0</td>\n",
       "      <td>0.376717</td>\n",
       "      <td>1.0</td>\n",
       "      <td>0.0</td>\n",
       "      <td>1.0</td>\n",
       "      <td>0.0</td>\n",
       "      <td>0.0</td>\n",
       "      <td>0.0</td>\n",
       "      <td>0.0</td>\n",
       "      <td>1.0</td>\n",
       "      <td>2.0</td>\n",
       "      <td>0.0</td>\n",
       "    </tr>\n",
       "    <tr>\n",
       "      <th>257132</th>\n",
       "      <td>2.0</td>\n",
       "      <td>24000.0</td>\n",
       "      <td>0.349165</td>\n",
       "      <td>3.0</td>\n",
       "      <td>0.0</td>\n",
       "      <td>0.0</td>\n",
       "      <td>1.0</td>\n",
       "      <td>0.0</td>\n",
       "      <td>0.0</td>\n",
       "      <td>1.0</td>\n",
       "      <td>0.0</td>\n",
       "      <td>2.0</td>\n",
       "      <td>1.0</td>\n",
       "    </tr>\n",
       "    <tr>\n",
       "      <th>910140</th>\n",
       "      <td>2.0</td>\n",
       "      <td>25200.0</td>\n",
       "      <td>0.756315</td>\n",
       "      <td>5.0</td>\n",
       "      <td>1.0</td>\n",
       "      <td>0.0</td>\n",
       "      <td>0.0</td>\n",
       "      <td>0.0</td>\n",
       "      <td>0.0</td>\n",
       "      <td>0.0</td>\n",
       "      <td>0.0</td>\n",
       "      <td>2.0</td>\n",
       "      <td>0.0</td>\n",
       "    </tr>\n",
       "  </tbody>\n",
       "</table>\n",
       "</div>"
      ],
      "text/plain": [
       "        employment_years   salary  job_satisfaction_rate  \\\n",
       "id                                                         \n",
       "723290               2.0  54000.0               0.630050   \n",
       "814010               2.0  27600.0               0.843293   \n",
       "155091               5.0  37200.0               0.376717   \n",
       "257132               2.0  24000.0               0.349165   \n",
       "910140               2.0  25200.0               0.756315   \n",
       "\n",
       "        supervisor_evaluation  dept_marketing  dept_purchasing  dept_sales  \\\n",
       "id                                                                           \n",
       "723290                    4.0             0.0              0.0         1.0   \n",
       "814010                    4.0             0.0              0.0         1.0   \n",
       "155091                    1.0             0.0              1.0         0.0   \n",
       "257132                    3.0             0.0              0.0         1.0   \n",
       "910140                    5.0             1.0              0.0         0.0   \n",
       "\n",
       "        dept_technology  last_year_promo_yes  last_year_violations_yes  level  \\\n",
       "id                                                                              \n",
       "723290              0.0                  0.0                       0.0    1.0   \n",
       "814010              0.0                  0.0                       0.0    0.0   \n",
       "155091              0.0                  0.0                       0.0    1.0   \n",
       "257132              0.0                  0.0                       1.0    0.0   \n",
       "910140              0.0                  0.0                       0.0    0.0   \n",
       "\n",
       "        workload  quit  \n",
       "id                      \n",
       "723290       0.0   0.0  \n",
       "814010       2.0   0.0  \n",
       "155091       2.0   0.0  \n",
       "257132       2.0   1.0  \n",
       "910140       2.0   0.0  "
      ]
     },
     "execution_count": 84,
     "metadata": {},
     "output_type": "execute_result"
    }
   ],
   "source": [
    "train_quit_transformed.head()"
   ]
  },
  {
   "cell_type": "code",
   "execution_count": 85,
   "id": "ee6ea66d",
   "metadata": {},
   "outputs": [
    {
     "data": {
      "text/html": [
       "<div>\n",
       "<style scoped>\n",
       "    .dataframe tbody tr th:only-of-type {\n",
       "        vertical-align: middle;\n",
       "    }\n",
       "\n",
       "    .dataframe tbody tr th {\n",
       "        vertical-align: top;\n",
       "    }\n",
       "\n",
       "    .dataframe thead th {\n",
       "        text-align: right;\n",
       "    }\n",
       "</style>\n",
       "<table border=\"1\" class=\"dataframe\">\n",
       "  <thead>\n",
       "    <tr style=\"text-align: right;\">\n",
       "      <th></th>\n",
       "      <th>employment_years</th>\n",
       "      <th>salary</th>\n",
       "      <th>job_satisfaction_rate</th>\n",
       "      <th>supervisor_evaluation</th>\n",
       "      <th>dept_marketing</th>\n",
       "      <th>dept_purchasing</th>\n",
       "      <th>dept_sales</th>\n",
       "      <th>dept_technology</th>\n",
       "      <th>last_year_promo_yes</th>\n",
       "      <th>last_year_violations_yes</th>\n",
       "      <th>level</th>\n",
       "      <th>workload</th>\n",
       "      <th>quit</th>\n",
       "    </tr>\n",
       "    <tr>\n",
       "      <th>id</th>\n",
       "      <th></th>\n",
       "      <th></th>\n",
       "      <th></th>\n",
       "      <th></th>\n",
       "      <th></th>\n",
       "      <th></th>\n",
       "      <th></th>\n",
       "      <th></th>\n",
       "      <th></th>\n",
       "      <th></th>\n",
       "      <th></th>\n",
       "      <th></th>\n",
       "      <th></th>\n",
       "    </tr>\n",
       "  </thead>\n",
       "  <tbody>\n",
       "    <tr>\n",
       "      <th>485046</th>\n",
       "      <td>2.0</td>\n",
       "      <td>28800.0</td>\n",
       "      <td>0.864156</td>\n",
       "      <td>5.0</td>\n",
       "      <td>1.0</td>\n",
       "      <td>0.0</td>\n",
       "      <td>0.0</td>\n",
       "      <td>0.0</td>\n",
       "      <td>0.0</td>\n",
       "      <td>0.0</td>\n",
       "      <td>0.0</td>\n",
       "      <td>2.0</td>\n",
       "      <td>0.0</td>\n",
       "    </tr>\n",
       "    <tr>\n",
       "      <th>686555</th>\n",
       "      <td>1.0</td>\n",
       "      <td>30000.0</td>\n",
       "      <td>0.681098</td>\n",
       "      <td>4.0</td>\n",
       "      <td>0.0</td>\n",
       "      <td>0.0</td>\n",
       "      <td>0.0</td>\n",
       "      <td>0.0</td>\n",
       "      <td>0.0</td>\n",
       "      <td>0.0</td>\n",
       "      <td>0.0</td>\n",
       "      <td>2.0</td>\n",
       "      <td>0.0</td>\n",
       "    </tr>\n",
       "    <tr>\n",
       "      <th>467458</th>\n",
       "      <td>5.0</td>\n",
       "      <td>19200.0</td>\n",
       "      <td>0.654457</td>\n",
       "      <td>4.0</td>\n",
       "      <td>0.0</td>\n",
       "      <td>0.0</td>\n",
       "      <td>1.0</td>\n",
       "      <td>0.0</td>\n",
       "      <td>0.0</td>\n",
       "      <td>0.0</td>\n",
       "      <td>1.0</td>\n",
       "      <td>1.0</td>\n",
       "      <td>0.0</td>\n",
       "    </tr>\n",
       "    <tr>\n",
       "      <th>418655</th>\n",
       "      <td>6.0</td>\n",
       "      <td>19200.0</td>\n",
       "      <td>0.657834</td>\n",
       "      <td>4.0</td>\n",
       "      <td>0.0</td>\n",
       "      <td>0.0</td>\n",
       "      <td>1.0</td>\n",
       "      <td>0.0</td>\n",
       "      <td>0.0</td>\n",
       "      <td>0.0</td>\n",
       "      <td>1.0</td>\n",
       "      <td>1.0</td>\n",
       "      <td>0.0</td>\n",
       "    </tr>\n",
       "    <tr>\n",
       "      <th>789145</th>\n",
       "      <td>5.0</td>\n",
       "      <td>40800.0</td>\n",
       "      <td>0.782663</td>\n",
       "      <td>5.0</td>\n",
       "      <td>0.0</td>\n",
       "      <td>0.0</td>\n",
       "      <td>0.0</td>\n",
       "      <td>0.0</td>\n",
       "      <td>0.0</td>\n",
       "      <td>0.0</td>\n",
       "      <td>1.0</td>\n",
       "      <td>2.0</td>\n",
       "      <td>0.0</td>\n",
       "    </tr>\n",
       "  </tbody>\n",
       "</table>\n",
       "</div>"
      ],
      "text/plain": [
       "        employment_years   salary  job_satisfaction_rate  \\\n",
       "id                                                         \n",
       "485046               2.0  28800.0               0.864156   \n",
       "686555               1.0  30000.0               0.681098   \n",
       "467458               5.0  19200.0               0.654457   \n",
       "418655               6.0  19200.0               0.657834   \n",
       "789145               5.0  40800.0               0.782663   \n",
       "\n",
       "        supervisor_evaluation  dept_marketing  dept_purchasing  dept_sales  \\\n",
       "id                                                                           \n",
       "485046                    5.0             1.0              0.0         0.0   \n",
       "686555                    4.0             0.0              0.0         0.0   \n",
       "467458                    4.0             0.0              0.0         1.0   \n",
       "418655                    4.0             0.0              0.0         1.0   \n",
       "789145                    5.0             0.0              0.0         0.0   \n",
       "\n",
       "        dept_technology  last_year_promo_yes  last_year_violations_yes  level  \\\n",
       "id                                                                              \n",
       "485046              0.0                  0.0                       0.0    0.0   \n",
       "686555              0.0                  0.0                       0.0    0.0   \n",
       "467458              0.0                  0.0                       0.0    1.0   \n",
       "418655              0.0                  0.0                       0.0    1.0   \n",
       "789145              0.0                  0.0                       0.0    1.0   \n",
       "\n",
       "        workload  quit  \n",
       "id                      \n",
       "485046       2.0   0.0  \n",
       "686555       2.0   0.0  \n",
       "467458       1.0   0.0  \n",
       "418655       1.0   0.0  \n",
       "789145       2.0   0.0  "
      ]
     },
     "execution_count": 85,
     "metadata": {},
     "output_type": "execute_result"
    }
   ],
   "source": [
    "test_features['quit'] = test_target_quit['quit']\n",
    "\n",
    "test_features_transformed = preprocessor_for_classifier.transform(test_features.replace({' ': np.nan}))\n",
    "test_features_transformed = pd.DataFrame(test_features_transformed, \n",
    "                                                       index=test_features.index, columns = new_column_names_pr2)\n",
    "test_features_transformed.head()"
   ]
  },
  {
   "cell_type": "markdown",
   "id": "487c4093",
   "metadata": {},
   "source": [
    "## Exploratory_data analysis"
   ]
  },
  {
   "cell_type": "markdown",
   "id": "c6c6b557",
   "metadata": {},
   "source": [
    "### Train vs test comparison"
   ]
  },
  {
   "cell_type": "code",
   "execution_count": 86,
   "id": "733c1808",
   "metadata": {},
   "outputs": [
    {
     "data": {
      "image/png": "[encoded data removed]",
      "text/plain": [
       "<Figure size 432x288 with 1 Axes>"
      ]
     },
     "metadata": {
      "needs_background": "light"
     },
     "output_type": "display_data"
    },
    {
     "data": {
      "image/png": "[encoded data removed]",
      "text/plain": [
       "<Figure size 432x288 with 1 Axes>"
      ]
     },
     "metadata": {
      "needs_background": "light"
     },
     "output_type": "display_data"
    }
   ],
   "source": [
    "for i in ['salary','job_satisfaction_rate']:\n",
    "    sns.distplot(train_quit_transformed[i], label='train')\n",
    "    sns.distplot(test_features_transformed[i], label='test')\n",
    "    plt.title(i)\n",
    "    plt.legend()\n",
    "    plt.show()"
   ]
  },
  {
   "cell_type": "code",
   "execution_count": 87,
   "id": "4de7b873",
   "metadata": {},
   "outputs": [
    {
     "data": {
      "image/png": "[encoded data removed]",
      "text/plain": [
       "<Figure size 432x288 with 1 Axes>"
      ]
     },
     "metadata": {
      "needs_background": "light"
     },
     "output_type": "display_data"
    },
    {
     "data": {
      "image/png": "[encoded data removed]",
      "text/plain": [
       "<Figure size 432x288 with 1 Axes>"
      ]
     },
     "metadata": {
      "needs_background": "light"
     },
     "output_type": "display_data"
    }
   ],
   "source": [
    "for i in ['employment_years', 'supervisor_evaluation']:\n",
    "    sns.countplot(train_job_satisfaction_rate_transformed[i], label='train', color='orange', alpha=.4)\n",
    "    sns.countplot(test_features_transformed[i], label='test', color='green', alpha=.4)\n",
    "    plt.title(i)\n",
    "    plt.legend()\n",
    "    plt.show()   "
   ]
  },
  {
   "cell_type": "code",
   "execution_count": 88,
   "id": "465bbece",
   "metadata": {},
   "outputs": [
    {
     "data": {
      "image/png": "[encoded data removed]",
      "text/plain": [
       "<Figure size 432x288 with 1 Axes>"
      ]
     },
     "metadata": {
      "needs_background": "light"
     },
     "output_type": "display_data"
    },
    {
     "data": {
      "image/png": "[encoded data removed]",
      "text/plain": [
       "<Figure size 432x288 with 1 Axes>"
      ]
     },
     "metadata": {
      "needs_background": "light"
     },
     "output_type": "display_data"
    },
    {
     "data": {
      "image/png": "[encoded data removed]",
      "text/plain": [
       "<Figure size 432x288 with 1 Axes>"
      ]
     },
     "metadata": {
      "needs_background": "light"
     },
     "output_type": "display_data"
    }
   ],
   "source": [
    "v1 = pd.DataFrame(preprocessor_for_classifier.named_transformers_['ord'].named_steps['ordinal'].inverse_transform(train_quit_transformed[ordinal_features]), \n",
    "                 columns = ordinal_features)\n",
    "v2 = pd.DataFrame(preprocessor_for_classifier.named_transformers_['ord'].named_steps['ordinal'].inverse_transform(test_features_transformed[ordinal_features]), \n",
    "                 columns=ordinal_features)\n",
    "\n",
    "for i in ordinal_features:\n",
    "    sns.countplot(v1[i], label='train', color='orange', alpha=.4)\n",
    "    sns.countplot(v2[i], label='test', color='green', alpha=.4)\n",
    "    plt.title(i)\n",
    "    plt.legend()\n",
    "    plt.show()"
   ]
  },
  {
   "cell_type": "code",
   "execution_count": 89,
   "id": "2fe636b3",
   "metadata": {
    "scrolled": true
   },
   "outputs": [
    {
     "data": {
      "image/png": "[encoded data removed]",
      "text/plain": [
       "<Figure size 432x288 with 1 Axes>"
      ]
     },
     "metadata": {
      "needs_background": "light"
     },
     "output_type": "display_data"
    },
    {
     "data": {
      "image/png": "[encoded data removed]",
      "text/plain": [
       "<Figure size 432x288 with 1 Axes>"
      ]
     },
     "metadata": {
      "needs_background": "light"
     },
     "output_type": "display_data"
    },
    {
     "data": {
      "image/png": "[encoded data removed]",
      "text/plain": [
       "<Figure size 432x288 with 1 Axes>"
      ]
     },
     "metadata": {
      "needs_background": "light"
     },
     "output_type": "display_data"
    }
   ],
   "source": [
    "for i in categorical_features:\n",
    "    columns_of_interest = [c for c in train_quit_transformed.columns if i in c]\n",
    "    v1 = train_quit_transformed[columns_of_interest].idxmax(axis=1).str.replace(f'{i}_', '')\n",
    "    v2 = test_features_transformed[columns_of_interest].idxmax(axis=1).str.replace(f'{i}_', '')\n",
    "    sns.countplot(v1, label='train', color='orange', alpha=.4)\n",
    "    sns.countplot(v2, label='test', color='green', alpha=.4)\n",
    "    plt.title(i)\n",
    "    plt.legend()\n",
    "    plt.show()"
   ]
  },
  {
   "cell_type": "code",
   "execution_count": 90,
   "id": "6d00e49c",
   "metadata": {},
   "outputs": [
    {
     "data": {
      "text/html": [
       "<div>\n",
       "<style scoped>\n",
       "    .dataframe tbody tr th:only-of-type {\n",
       "        vertical-align: middle;\n",
       "    }\n",
       "\n",
       "    .dataframe tbody tr th {\n",
       "        vertical-align: top;\n",
       "    }\n",
       "\n",
       "    .dataframe thead th {\n",
       "        text-align: right;\n",
       "    }\n",
       "</style>\n",
       "<table border=\"1\" class=\"dataframe\">\n",
       "  <thead>\n",
       "    <tr style=\"text-align: right;\">\n",
       "      <th></th>\n",
       "      <th>employment_years</th>\n",
       "      <th>salary</th>\n",
       "      <th>job_satisfaction_rate</th>\n",
       "      <th>supervisor_evaluation</th>\n",
       "      <th>dept_marketing</th>\n",
       "      <th>dept_purchasing</th>\n",
       "      <th>dept_sales</th>\n",
       "      <th>dept_technology</th>\n",
       "      <th>last_year_promo_yes</th>\n",
       "      <th>last_year_violations_yes</th>\n",
       "      <th>level</th>\n",
       "      <th>workload</th>\n",
       "      <th>quit</th>\n",
       "    </tr>\n",
       "  </thead>\n",
       "  <tbody>\n",
       "    <tr>\n",
       "      <th>employment_years</th>\n",
       "      <td>1.000000</td>\n",
       "      <td>0.494701</td>\n",
       "      <td>0.438678</td>\n",
       "      <td>0.000000</td>\n",
       "      <td>0.000000</td>\n",
       "      <td>0.000000</td>\n",
       "      <td>0.011051</td>\n",
       "      <td>0.000000</td>\n",
       "      <td>0.173637</td>\n",
       "      <td>0.066371</td>\n",
       "      <td>0.689747</td>\n",
       "      <td>0.202096</td>\n",
       "      <td>0.605927</td>\n",
       "    </tr>\n",
       "    <tr>\n",
       "      <th>salary</th>\n",
       "      <td>0.494701</td>\n",
       "      <td>1.000000</td>\n",
       "      <td>0.288425</td>\n",
       "      <td>0.114588</td>\n",
       "      <td>0.042750</td>\n",
       "      <td>0.101887</td>\n",
       "      <td>0.229807</td>\n",
       "      <td>0.353831</td>\n",
       "      <td>0.193727</td>\n",
       "      <td>0.000000</td>\n",
       "      <td>0.749068</td>\n",
       "      <td>0.785872</td>\n",
       "      <td>0.508308</td>\n",
       "    </tr>\n",
       "    <tr>\n",
       "      <th>job_satisfaction_rate</th>\n",
       "      <td>0.438678</td>\n",
       "      <td>0.288425</td>\n",
       "      <td>1.000000</td>\n",
       "      <td>0.789693</td>\n",
       "      <td>0.051453</td>\n",
       "      <td>0.095374</td>\n",
       "      <td>0.077394</td>\n",
       "      <td>0.113314</td>\n",
       "      <td>0.444521</td>\n",
       "      <td>0.624296</td>\n",
       "      <td>0.216674</td>\n",
       "      <td>0.147077</td>\n",
       "      <td>0.572843</td>\n",
       "    </tr>\n",
       "    <tr>\n",
       "      <th>supervisor_evaluation</th>\n",
       "      <td>0.000000</td>\n",
       "      <td>0.114588</td>\n",
       "      <td>0.789693</td>\n",
       "      <td>1.000000</td>\n",
       "      <td>0.020516</td>\n",
       "      <td>0.015554</td>\n",
       "      <td>0.023991</td>\n",
       "      <td>0.012295</td>\n",
       "      <td>0.011704</td>\n",
       "      <td>0.189719</td>\n",
       "      <td>0.000000</td>\n",
       "      <td>0.035920</td>\n",
       "      <td>0.294738</td>\n",
       "    </tr>\n",
       "    <tr>\n",
       "      <th>dept_marketing</th>\n",
       "      <td>0.000000</td>\n",
       "      <td>0.042750</td>\n",
       "      <td>0.051453</td>\n",
       "      <td>0.020516</td>\n",
       "      <td>1.000000</td>\n",
       "      <td>0.243256</td>\n",
       "      <td>0.474895</td>\n",
       "      <td>0.332343</td>\n",
       "      <td>0.000000</td>\n",
       "      <td>0.000000</td>\n",
       "      <td>0.013073</td>\n",
       "      <td>0.006518</td>\n",
       "      <td>0.044013</td>\n",
       "    </tr>\n",
       "    <tr>\n",
       "      <th>dept_purchasing</th>\n",
       "      <td>0.000000</td>\n",
       "      <td>0.101887</td>\n",
       "      <td>0.095374</td>\n",
       "      <td>0.015554</td>\n",
       "      <td>0.243256</td>\n",
       "      <td>1.000000</td>\n",
       "      <td>0.469356</td>\n",
       "      <td>0.328237</td>\n",
       "      <td>0.000000</td>\n",
       "      <td>0.000000</td>\n",
       "      <td>0.000000</td>\n",
       "      <td>0.000000</td>\n",
       "      <td>0.000000</td>\n",
       "    </tr>\n",
       "    <tr>\n",
       "      <th>dept_sales</th>\n",
       "      <td>0.011051</td>\n",
       "      <td>0.229807</td>\n",
       "      <td>0.077394</td>\n",
       "      <td>0.023991</td>\n",
       "      <td>0.474895</td>\n",
       "      <td>0.469356</td>\n",
       "      <td>1.000000</td>\n",
       "      <td>0.620148</td>\n",
       "      <td>0.000000</td>\n",
       "      <td>0.000000</td>\n",
       "      <td>0.000000</td>\n",
       "      <td>0.020950</td>\n",
       "      <td>0.013582</td>\n",
       "    </tr>\n",
       "    <tr>\n",
       "      <th>dept_technology</th>\n",
       "      <td>0.000000</td>\n",
       "      <td>0.353831</td>\n",
       "      <td>0.113314</td>\n",
       "      <td>0.012295</td>\n",
       "      <td>0.332343</td>\n",
       "      <td>0.328237</td>\n",
       "      <td>0.620148</td>\n",
       "      <td>1.000000</td>\n",
       "      <td>0.000000</td>\n",
       "      <td>0.026236</td>\n",
       "      <td>0.021286</td>\n",
       "      <td>0.021914</td>\n",
       "      <td>0.000000</td>\n",
       "    </tr>\n",
       "    <tr>\n",
       "      <th>last_year_promo_yes</th>\n",
       "      <td>0.173637</td>\n",
       "      <td>0.193727</td>\n",
       "      <td>0.444521</td>\n",
       "      <td>0.011704</td>\n",
       "      <td>0.000000</td>\n",
       "      <td>0.000000</td>\n",
       "      <td>0.000000</td>\n",
       "      <td>0.000000</td>\n",
       "      <td>1.000000</td>\n",
       "      <td>0.000000</td>\n",
       "      <td>0.118283</td>\n",
       "      <td>0.035565</td>\n",
       "      <td>0.137762</td>\n",
       "    </tr>\n",
       "    <tr>\n",
       "      <th>last_year_violations_yes</th>\n",
       "      <td>0.066371</td>\n",
       "      <td>0.000000</td>\n",
       "      <td>0.624296</td>\n",
       "      <td>0.189719</td>\n",
       "      <td>0.000000</td>\n",
       "      <td>0.000000</td>\n",
       "      <td>0.000000</td>\n",
       "      <td>0.026236</td>\n",
       "      <td>0.000000</td>\n",
       "      <td>1.000000</td>\n",
       "      <td>0.017551</td>\n",
       "      <td>0.000000</td>\n",
       "      <td>0.174740</td>\n",
       "    </tr>\n",
       "    <tr>\n",
       "      <th>level</th>\n",
       "      <td>0.689747</td>\n",
       "      <td>0.749068</td>\n",
       "      <td>0.216674</td>\n",
       "      <td>0.000000</td>\n",
       "      <td>0.013073</td>\n",
       "      <td>0.000000</td>\n",
       "      <td>0.000000</td>\n",
       "      <td>0.021286</td>\n",
       "      <td>0.118283</td>\n",
       "      <td>0.017551</td>\n",
       "      <td>1.000000</td>\n",
       "      <td>0.474453</td>\n",
       "      <td>0.293881</td>\n",
       "    </tr>\n",
       "    <tr>\n",
       "      <th>workload</th>\n",
       "      <td>0.202096</td>\n",
       "      <td>0.785872</td>\n",
       "      <td>0.147077</td>\n",
       "      <td>0.035920</td>\n",
       "      <td>0.006518</td>\n",
       "      <td>0.000000</td>\n",
       "      <td>0.020950</td>\n",
       "      <td>0.021914</td>\n",
       "      <td>0.035565</td>\n",
       "      <td>0.000000</td>\n",
       "      <td>0.474453</td>\n",
       "      <td>1.000000</td>\n",
       "      <td>0.102236</td>\n",
       "    </tr>\n",
       "    <tr>\n",
       "      <th>quit</th>\n",
       "      <td>0.605927</td>\n",
       "      <td>0.508308</td>\n",
       "      <td>0.572843</td>\n",
       "      <td>0.294738</td>\n",
       "      <td>0.044013</td>\n",
       "      <td>0.000000</td>\n",
       "      <td>0.013582</td>\n",
       "      <td>0.000000</td>\n",
       "      <td>0.137762</td>\n",
       "      <td>0.174740</td>\n",
       "      <td>0.293881</td>\n",
       "      <td>0.102236</td>\n",
       "      <td>1.000000</td>\n",
       "    </tr>\n",
       "  </tbody>\n",
       "</table>\n",
       "</div>"
      ],
      "text/plain": [
       "                          employment_years    salary  job_satisfaction_rate  \\\n",
       "employment_years                  1.000000  0.494701               0.438678   \n",
       "salary                            0.494701  1.000000               0.288425   \n",
       "job_satisfaction_rate             0.438678  0.288425               1.000000   \n",
       "supervisor_evaluation             0.000000  0.114588               0.789693   \n",
       "dept_marketing                    0.000000  0.042750               0.051453   \n",
       "dept_purchasing                   0.000000  0.101887               0.095374   \n",
       "dept_sales                        0.011051  0.229807               0.077394   \n",
       "dept_technology                   0.000000  0.353831               0.113314   \n",
       "last_year_promo_yes               0.173637  0.193727               0.444521   \n",
       "last_year_violations_yes          0.066371  0.000000               0.624296   \n",
       "level                             0.689747  0.749068               0.216674   \n",
       "workload                          0.202096  0.785872               0.147077   \n",
       "quit                              0.605927  0.508308               0.572843   \n",
       "\n",
       "                          supervisor_evaluation  dept_marketing  \\\n",
       "employment_years                       0.000000        0.000000   \n",
       "salary                                 0.114588        0.042750   \n",
       "job_satisfaction_rate                  0.789693        0.051453   \n",
       "supervisor_evaluation                  1.000000        0.020516   \n",
       "dept_marketing                         0.020516        1.000000   \n",
       "dept_purchasing                        0.015554        0.243256   \n",
       "dept_sales                             0.023991        0.474895   \n",
       "dept_technology                        0.012295        0.332343   \n",
       "last_year_promo_yes                    0.011704        0.000000   \n",
       "last_year_violations_yes               0.189719        0.000000   \n",
       "level                                  0.000000        0.013073   \n",
       "workload                               0.035920        0.006518   \n",
       "quit                                   0.294738        0.044013   \n",
       "\n",
       "                          dept_purchasing  dept_sales  dept_technology  \\\n",
       "employment_years                 0.000000    0.011051         0.000000   \n",
       "salary                           0.101887    0.229807         0.353831   \n",
       "job_satisfaction_rate            0.095374    0.077394         0.113314   \n",
       "supervisor_evaluation            0.015554    0.023991         0.012295   \n",
       "dept_marketing                   0.243256    0.474895         0.332343   \n",
       "dept_purchasing                  1.000000    0.469356         0.328237   \n",
       "dept_sales                       0.469356    1.000000         0.620148   \n",
       "dept_technology                  0.328237    0.620148         1.000000   \n",
       "last_year_promo_yes              0.000000    0.000000         0.000000   \n",
       "last_year_violations_yes         0.000000    0.000000         0.026236   \n",
       "level                            0.000000    0.000000         0.021286   \n",
       "workload                         0.000000    0.020950         0.021914   \n",
       "quit                             0.000000    0.013582         0.000000   \n",
       "\n",
       "                          last_year_promo_yes  last_year_violations_yes  \\\n",
       "employment_years                     0.173637                  0.066371   \n",
       "salary                               0.193727                  0.000000   \n",
       "job_satisfaction_rate                0.444521                  0.624296   \n",
       "supervisor_evaluation                0.011704                  0.189719   \n",
       "dept_marketing                       0.000000                  0.000000   \n",
       "dept_purchasing                      0.000000                  0.000000   \n",
       "dept_sales                           0.000000                  0.000000   \n",
       "dept_technology                      0.000000                  0.026236   \n",
       "last_year_promo_yes                  1.000000                  0.000000   \n",
       "last_year_violations_yes             0.000000                  1.000000   \n",
       "level                                0.118283                  0.017551   \n",
       "workload                             0.035565                  0.000000   \n",
       "quit                                 0.137762                  0.174740   \n",
       "\n",
       "                             level  workload      quit  \n",
       "employment_years          0.689747  0.202096  0.605927  \n",
       "salary                    0.749068  0.785872  0.508308  \n",
       "job_satisfaction_rate     0.216674  0.147077  0.572843  \n",
       "supervisor_evaluation     0.000000  0.035920  0.294738  \n",
       "dept_marketing            0.013073  0.006518  0.044013  \n",
       "dept_purchasing           0.000000  0.000000  0.000000  \n",
       "dept_sales                0.000000  0.020950  0.013582  \n",
       "dept_technology           0.021286  0.021914  0.000000  \n",
       "last_year_promo_yes       0.118283  0.035565  0.137762  \n",
       "last_year_violations_yes  0.017551  0.000000  0.174740  \n",
       "level                     1.000000  0.474453  0.293881  \n",
       "workload                  0.474453  1.000000  0.102236  \n",
       "quit                      0.293881  0.102236  1.000000  "
      ]
     },
     "execution_count": 90,
     "metadata": {},
     "output_type": "execute_result"
    }
   ],
   "source": [
    "test_features_transformed.phik_matrix(interval_cols = ['salary', 'job_satisfaction_rate'])"
   ]
  },
  {
   "cell_type": "code",
   "execution_count": 91,
   "id": "e32e58de",
   "metadata": {},
   "outputs": [
    {
     "data": {
      "text/html": [
       "<div>\n",
       "<style scoped>\n",
       "    .dataframe tbody tr th:only-of-type {\n",
       "        vertical-align: middle;\n",
       "    }\n",
       "\n",
       "    .dataframe tbody tr th {\n",
       "        vertical-align: top;\n",
       "    }\n",
       "\n",
       "    .dataframe thead th {\n",
       "        text-align: right;\n",
       "    }\n",
       "</style>\n",
       "<table border=\"1\" class=\"dataframe\">\n",
       "  <thead>\n",
       "    <tr style=\"text-align: right;\">\n",
       "      <th></th>\n",
       "      <th>employment_years</th>\n",
       "      <th>salary</th>\n",
       "      <th>job_satisfaction_rate</th>\n",
       "      <th>supervisor_evaluation</th>\n",
       "      <th>dept_marketing</th>\n",
       "      <th>dept_purchasing</th>\n",
       "      <th>dept_sales</th>\n",
       "      <th>dept_technology</th>\n",
       "      <th>last_year_promo_yes</th>\n",
       "      <th>last_year_violations_yes</th>\n",
       "      <th>level</th>\n",
       "      <th>workload</th>\n",
       "      <th>quit</th>\n",
       "    </tr>\n",
       "  </thead>\n",
       "  <tbody>\n",
       "    <tr>\n",
       "      <th>employment_years</th>\n",
       "      <td>1.000000</td>\n",
       "      <td>0.491915</td>\n",
       "      <td>0.418025</td>\n",
       "      <td>0.000000</td>\n",
       "      <td>0.024791</td>\n",
       "      <td>0.000000</td>\n",
       "      <td>0.000000</td>\n",
       "      <td>0.000000</td>\n",
       "      <td>0.156494</td>\n",
       "      <td>0.000000</td>\n",
       "      <td>0.692676</td>\n",
       "      <td>0.213013</td>\n",
       "      <td>0.659093</td>\n",
       "    </tr>\n",
       "    <tr>\n",
       "      <th>salary</th>\n",
       "      <td>0.491915</td>\n",
       "      <td>1.000000</td>\n",
       "      <td>0.252089</td>\n",
       "      <td>0.055330</td>\n",
       "      <td>0.093166</td>\n",
       "      <td>0.068410</td>\n",
       "      <td>0.225068</td>\n",
       "      <td>0.264705</td>\n",
       "      <td>0.215043</td>\n",
       "      <td>0.086087</td>\n",
       "      <td>0.745104</td>\n",
       "      <td>0.793876</td>\n",
       "      <td>0.564154</td>\n",
       "    </tr>\n",
       "    <tr>\n",
       "      <th>job_satisfaction_rate</th>\n",
       "      <td>0.418025</td>\n",
       "      <td>0.252089</td>\n",
       "      <td>1.000000</td>\n",
       "      <td>0.782079</td>\n",
       "      <td>0.085571</td>\n",
       "      <td>0.000000</td>\n",
       "      <td>0.103630</td>\n",
       "      <td>0.086750</td>\n",
       "      <td>0.417208</td>\n",
       "      <td>0.608975</td>\n",
       "      <td>0.192479</td>\n",
       "      <td>0.160102</td>\n",
       "      <td>0.524015</td>\n",
       "    </tr>\n",
       "    <tr>\n",
       "      <th>supervisor_evaluation</th>\n",
       "      <td>0.000000</td>\n",
       "      <td>0.055330</td>\n",
       "      <td>0.782079</td>\n",
       "      <td>1.000000</td>\n",
       "      <td>0.016791</td>\n",
       "      <td>0.027559</td>\n",
       "      <td>0.000000</td>\n",
       "      <td>0.000000</td>\n",
       "      <td>0.032376</td>\n",
       "      <td>0.179228</td>\n",
       "      <td>0.007189</td>\n",
       "      <td>0.000000</td>\n",
       "      <td>0.245489</td>\n",
       "    </tr>\n",
       "    <tr>\n",
       "      <th>dept_marketing</th>\n",
       "      <td>0.024791</td>\n",
       "      <td>0.093166</td>\n",
       "      <td>0.085571</td>\n",
       "      <td>0.016791</td>\n",
       "      <td>1.000000</td>\n",
       "      <td>0.263245</td>\n",
       "      <td>0.465209</td>\n",
       "      <td>0.346753</td>\n",
       "      <td>0.000000</td>\n",
       "      <td>0.000000</td>\n",
       "      <td>0.000000</td>\n",
       "      <td>0.000000</td>\n",
       "      <td>0.000000</td>\n",
       "    </tr>\n",
       "    <tr>\n",
       "      <th>dept_purchasing</th>\n",
       "      <td>0.000000</td>\n",
       "      <td>0.068410</td>\n",
       "      <td>0.000000</td>\n",
       "      <td>0.027559</td>\n",
       "      <td>0.263245</td>\n",
       "      <td>1.000000</td>\n",
       "      <td>0.467805</td>\n",
       "      <td>0.348780</td>\n",
       "      <td>0.000000</td>\n",
       "      <td>0.071349</td>\n",
       "      <td>0.012676</td>\n",
       "      <td>0.000000</td>\n",
       "      <td>0.000000</td>\n",
       "    </tr>\n",
       "    <tr>\n",
       "      <th>dept_sales</th>\n",
       "      <td>0.000000</td>\n",
       "      <td>0.225068</td>\n",
       "      <td>0.103630</td>\n",
       "      <td>0.000000</td>\n",
       "      <td>0.465209</td>\n",
       "      <td>0.467805</td>\n",
       "      <td>1.000000</td>\n",
       "      <td>0.601551</td>\n",
       "      <td>0.000000</td>\n",
       "      <td>0.000000</td>\n",
       "      <td>0.000000</td>\n",
       "      <td>0.000000</td>\n",
       "      <td>0.000000</td>\n",
       "    </tr>\n",
       "    <tr>\n",
       "      <th>dept_technology</th>\n",
       "      <td>0.000000</td>\n",
       "      <td>0.264705</td>\n",
       "      <td>0.086750</td>\n",
       "      <td>0.000000</td>\n",
       "      <td>0.346753</td>\n",
       "      <td>0.348780</td>\n",
       "      <td>0.601551</td>\n",
       "      <td>1.000000</td>\n",
       "      <td>0.016232</td>\n",
       "      <td>0.065777</td>\n",
       "      <td>0.000000</td>\n",
       "      <td>0.000000</td>\n",
       "      <td>0.014061</td>\n",
       "    </tr>\n",
       "    <tr>\n",
       "      <th>last_year_promo_yes</th>\n",
       "      <td>0.156494</td>\n",
       "      <td>0.215043</td>\n",
       "      <td>0.417208</td>\n",
       "      <td>0.032376</td>\n",
       "      <td>0.000000</td>\n",
       "      <td>0.000000</td>\n",
       "      <td>0.000000</td>\n",
       "      <td>0.016232</td>\n",
       "      <td>1.000000</td>\n",
       "      <td>0.000000</td>\n",
       "      <td>0.110585</td>\n",
       "      <td>0.044388</td>\n",
       "      <td>0.157370</td>\n",
       "    </tr>\n",
       "    <tr>\n",
       "      <th>last_year_violations_yes</th>\n",
       "      <td>0.000000</td>\n",
       "      <td>0.086087</td>\n",
       "      <td>0.608975</td>\n",
       "      <td>0.179228</td>\n",
       "      <td>0.000000</td>\n",
       "      <td>0.071349</td>\n",
       "      <td>0.000000</td>\n",
       "      <td>0.065777</td>\n",
       "      <td>0.000000</td>\n",
       "      <td>1.000000</td>\n",
       "      <td>0.000000</td>\n",
       "      <td>0.014063</td>\n",
       "      <td>0.185071</td>\n",
       "    </tr>\n",
       "    <tr>\n",
       "      <th>level</th>\n",
       "      <td>0.692676</td>\n",
       "      <td>0.745104</td>\n",
       "      <td>0.192479</td>\n",
       "      <td>0.007189</td>\n",
       "      <td>0.000000</td>\n",
       "      <td>0.012676</td>\n",
       "      <td>0.000000</td>\n",
       "      <td>0.000000</td>\n",
       "      <td>0.110585</td>\n",
       "      <td>0.000000</td>\n",
       "      <td>1.000000</td>\n",
       "      <td>0.479480</td>\n",
       "      <td>0.312799</td>\n",
       "    </tr>\n",
       "    <tr>\n",
       "      <th>workload</th>\n",
       "      <td>0.213013</td>\n",
       "      <td>0.793876</td>\n",
       "      <td>0.160102</td>\n",
       "      <td>0.000000</td>\n",
       "      <td>0.000000</td>\n",
       "      <td>0.000000</td>\n",
       "      <td>0.000000</td>\n",
       "      <td>0.000000</td>\n",
       "      <td>0.044388</td>\n",
       "      <td>0.014063</td>\n",
       "      <td>0.479480</td>\n",
       "      <td>1.000000</td>\n",
       "      <td>0.132243</td>\n",
       "    </tr>\n",
       "    <tr>\n",
       "      <th>quit</th>\n",
       "      <td>0.659093</td>\n",
       "      <td>0.564154</td>\n",
       "      <td>0.524015</td>\n",
       "      <td>0.245489</td>\n",
       "      <td>0.000000</td>\n",
       "      <td>0.000000</td>\n",
       "      <td>0.000000</td>\n",
       "      <td>0.014061</td>\n",
       "      <td>0.157370</td>\n",
       "      <td>0.185071</td>\n",
       "      <td>0.312799</td>\n",
       "      <td>0.132243</td>\n",
       "      <td>1.000000</td>\n",
       "    </tr>\n",
       "  </tbody>\n",
       "</table>\n",
       "</div>"
      ],
      "text/plain": [
       "                          employment_years    salary  job_satisfaction_rate  \\\n",
       "employment_years                  1.000000  0.491915               0.418025   \n",
       "salary                            0.491915  1.000000               0.252089   \n",
       "job_satisfaction_rate             0.418025  0.252089               1.000000   \n",
       "supervisor_evaluation             0.000000  0.055330               0.782079   \n",
       "dept_marketing                    0.024791  0.093166               0.085571   \n",
       "dept_purchasing                   0.000000  0.068410               0.000000   \n",
       "dept_sales                        0.000000  0.225068               0.103630   \n",
       "dept_technology                   0.000000  0.264705               0.086750   \n",
       "last_year_promo_yes               0.156494  0.215043               0.417208   \n",
       "last_year_violations_yes          0.000000  0.086087               0.608975   \n",
       "level                             0.692676  0.745104               0.192479   \n",
       "workload                          0.213013  0.793876               0.160102   \n",
       "quit                              0.659093  0.564154               0.524015   \n",
       "\n",
       "                          supervisor_evaluation  dept_marketing  \\\n",
       "employment_years                       0.000000        0.024791   \n",
       "salary                                 0.055330        0.093166   \n",
       "job_satisfaction_rate                  0.782079        0.085571   \n",
       "supervisor_evaluation                  1.000000        0.016791   \n",
       "dept_marketing                         0.016791        1.000000   \n",
       "dept_purchasing                        0.027559        0.263245   \n",
       "dept_sales                             0.000000        0.465209   \n",
       "dept_technology                        0.000000        0.346753   \n",
       "last_year_promo_yes                    0.032376        0.000000   \n",
       "last_year_violations_yes               0.179228        0.000000   \n",
       "level                                  0.007189        0.000000   \n",
       "workload                               0.000000        0.000000   \n",
       "quit                                   0.245489        0.000000   \n",
       "\n",
       "                          dept_purchasing  dept_sales  dept_technology  \\\n",
       "employment_years                 0.000000    0.000000         0.000000   \n",
       "salary                           0.068410    0.225068         0.264705   \n",
       "job_satisfaction_rate            0.000000    0.103630         0.086750   \n",
       "supervisor_evaluation            0.027559    0.000000         0.000000   \n",
       "dept_marketing                   0.263245    0.465209         0.346753   \n",
       "dept_purchasing                  1.000000    0.467805         0.348780   \n",
       "dept_sales                       0.467805    1.000000         0.601551   \n",
       "dept_technology                  0.348780    0.601551         1.000000   \n",
       "last_year_promo_yes              0.000000    0.000000         0.016232   \n",
       "last_year_violations_yes         0.071349    0.000000         0.065777   \n",
       "level                            0.012676    0.000000         0.000000   \n",
       "workload                         0.000000    0.000000         0.000000   \n",
       "quit                             0.000000    0.000000         0.014061   \n",
       "\n",
       "                          last_year_promo_yes  last_year_violations_yes  \\\n",
       "employment_years                     0.156494                  0.000000   \n",
       "salary                               0.215043                  0.086087   \n",
       "job_satisfaction_rate                0.417208                  0.608975   \n",
       "supervisor_evaluation                0.032376                  0.179228   \n",
       "dept_marketing                       0.000000                  0.000000   \n",
       "dept_purchasing                      0.000000                  0.071349   \n",
       "dept_sales                           0.000000                  0.000000   \n",
       "dept_technology                      0.016232                  0.065777   \n",
       "last_year_promo_yes                  1.000000                  0.000000   \n",
       "last_year_violations_yes             0.000000                  1.000000   \n",
       "level                                0.110585                  0.000000   \n",
       "workload                             0.044388                  0.014063   \n",
       "quit                                 0.157370                  0.185071   \n",
       "\n",
       "                             level  workload      quit  \n",
       "employment_years          0.692676  0.213013  0.659093  \n",
       "salary                    0.745104  0.793876  0.564154  \n",
       "job_satisfaction_rate     0.192479  0.160102  0.524015  \n",
       "supervisor_evaluation     0.007189  0.000000  0.245489  \n",
       "dept_marketing            0.000000  0.000000  0.000000  \n",
       "dept_purchasing           0.012676  0.000000  0.000000  \n",
       "dept_sales                0.000000  0.000000  0.000000  \n",
       "dept_technology           0.000000  0.000000  0.014061  \n",
       "last_year_promo_yes       0.110585  0.044388  0.157370  \n",
       "last_year_violations_yes  0.000000  0.014063  0.185071  \n",
       "level                     1.000000  0.479480  0.312799  \n",
       "workload                  0.479480  1.000000  0.132243  \n",
       "quit                      0.312799  0.132243  1.000000  "
      ]
     },
     "execution_count": 91,
     "metadata": {},
     "output_type": "execute_result"
    }
   ],
   "source": [
    "train_quit_transformed.phik_matrix(interval_cols = ['salary', 'job_satisfaction_rate'])"
   ]
  },
  {
   "cell_type": "code",
   "execution_count": 92,
   "id": "aeaf0c32",
   "metadata": {},
   "outputs": [],
   "source": [
    "train_quit_transformed = train_quit_transformed.drop_duplicates()"
   ]
  },
  {
   "cell_type": "markdown",
   "id": "2446d77e",
   "metadata": {},
   "source": [
    "### Description of typical quit person"
   ]
  },
  {
   "cell_type": "code",
   "execution_count": 93,
   "id": "2ededef5",
   "metadata": {
    "scrolled": false
   },
   "outputs": [
    {
     "data": {
      "image/png": "[encoded data removed]",
      "text/plain": [
       "<Figure size 720x360 with 2 Axes>"
      ]
     },
     "metadata": {
      "needs_background": "light"
     },
     "output_type": "display_data"
    },
    {
     "data": {
      "image/png": "[encoded data removed]",
      "text/plain": [
       "<Figure size 720x360 with 2 Axes>"
      ]
     },
     "metadata": {
      "needs_background": "light"
     },
     "output_type": "display_data"
    },
    {
     "data": {
      "image/png": "[encoded data removed]",
      "text/plain": [
       "<Figure size 720x360 with 2 Axes>"
      ]
     },
     "metadata": {
      "needs_background": "light"
     },
     "output_type": "display_data"
    },
    {
     "data": {
      "image/png": "[encoded data removed]",
      "text/plain": [
       "<Figure size 432x288 with 1 Axes>"
      ]
     },
     "metadata": {
      "needs_background": "light"
     },
     "output_type": "display_data"
    },
    {
     "data": {
      "image/png": "[encoded data removed]",
      "text/plain": [
       "<Figure size 720x360 with 2 Axes>"
      ]
     },
     "metadata": {
      "needs_background": "light"
     },
     "output_type": "display_data"
    },
    {
     "data": {
      "image/png": "[encoded data removed]",
      "text/plain": [
       "<Figure size 720x360 with 2 Axes>"
      ]
     },
     "metadata": {
      "needs_background": "light"
     },
     "output_type": "display_data"
    },
    {
     "data": {
      "image/png": "[encoded data removed]",
      "text/plain": [
       "<Figure size 432x288 with 1 Axes>"
      ]
     },
     "metadata": {
      "needs_background": "light"
     },
     "output_type": "display_data"
    },
    {
     "data": {
      "image/png": "[encoded data removed]",
      "text/plain": [
       "<Figure size 432x288 with 1 Axes>"
      ]
     },
     "metadata": {
      "needs_background": "light"
     },
     "output_type": "display_data"
    },
    {
     "data": {
      "image/png": "[encoded data removed]",
      "text/plain": [
       "<Figure size 720x360 with 2 Axes>"
      ]
     },
     "metadata": {
      "needs_background": "light"
     },
     "output_type": "display_data"
    },
    {
     "data": {
      "image/png": "[encoded data removed]",
      "text/plain": [
       "<Figure size 432x288 with 1 Axes>"
      ]
     },
     "metadata": {
      "needs_background": "light"
     },
     "output_type": "display_data"
    }
   ],
   "source": [
    "quit_no = train_quit_transformed.query('quit == 0')\n",
    "quit_yes = train_quit_transformed.query('quit == 1')\n",
    "\n",
    "for c in train_quit.columns:\n",
    "    if c in categorical_features:\n",
    "        \n",
    "        fig, (ax1, ax2) = plt.subplots(1, 2, figsize=(10, 5))\n",
    "        no = train_quit.reindex(quit_no.index)\n",
    "        yes = train_quit.reindex(quit_yes.index)\n",
    "\n",
    "        ax1.bar(range(len(yes[c].value_counts(normalize=True))), yes[c].value_counts(normalize=True), \n",
    "               color='green', alpha=.4, label='did not quit')\n",
    "        ax1.set_title(f'{c}, did not quit')\n",
    "        ax1.set_ylim(0, 1)\n",
    "        ax1.set_xticks(range(len(no[c].value_counts(normalize=True))))\n",
    "        order = no[c].value_counts(normalize=True).index\n",
    "        ax1.set_xticklabels(order)\n",
    "        ax1.set_ylabel('density')\n",
    "        \n",
    "        ax2.bar(range(len(yes[c].value_counts(normalize=True))), yes[c].value_counts(normalize=True).reindex(order), \n",
    "               color='red', alpha=.4, label='quit')\n",
    "        ax2.set_title(f'{c}, quit')\n",
    "        ax2.set_ylabel('density')\n",
    "        ax2.set_ylim(0, 1)\n",
    "        ax2.set_xticks(range(len(yes[c].value_counts(normalize=True))))\n",
    "        ax2.set_xticklabels(order)\n",
    "\n",
    "        plt.tight_layout()\n",
    "        plt.show()\n",
    "        \n",
    "    elif c in numerical_features:\n",
    "        fig, ax = plt.subplots()\n",
    "        sns.kdeplot(quit_no[c], color='green', alpha=.4, label='did not quit')\n",
    "        sns.kdeplot(quit_yes[c], color='red', alpha=.4, label='quit', ax=ax)\n",
    "\n",
    "        plt.legend()\n",
    "        plt.xlabel(c)\n",
    "        plt.ylabel('density')\n",
    "        plt.title(c)\n",
    "        plt.show()\n",
    "        \n",
    "    elif c in ordinal_features and c in train_quit_transformed.columns:\n",
    "        pr = preprocessor_for_classifier.named_transformers_['ord']['ordinal']\n",
    "        no = pd.DataFrame(pr.inverse_transform(quit_no.T.reindex(ordinal_features).fillna(0).T), \n",
    "                          index=quit_no.index, columns = ordinal_features)\n",
    "        yes = pd.DataFrame(pr.inverse_transform(quit_yes.T.reindex(ordinal_features).fillna(0).T), \n",
    "                          index=quit_yes.index, columns = ordinal_features)\n",
    "        \n",
    "        fig, (ax1, ax2) = plt.subplots(1, 2, figsize=(10, 5))\n",
    "        \n",
    "        ax1.bar(range(len(no[c].value_counts(normalize=True))), no[c].value_counts(normalize=True), \n",
    "               color='green', alpha=.4, label='did not quit')\n",
    "        ax1.set_title(f'{c}, did not quit')\n",
    "        ax1.set_ylim(0, 1)\n",
    "        ax1.set_xticks(range(len(no[c].value_counts(normalize=True))))\n",
    "        order = no[c].value_counts(normalize=True).index\n",
    "        ax1.set_xticklabels(order)\n",
    "        ax1.set_ylabel('density')\n",
    "        \n",
    "        ax2.bar(range(len(yes[c].value_counts(normalize=True))), yes[c].value_counts(normalize=True).reindex(order), \n",
    "               color='red', alpha=.4, label='quit')\n",
    "        ax2.set_title(f'{c}, quit')\n",
    "        ax2.set_ylabel('density')\n",
    "        ax2.set_ylim(0, 1)\n",
    "        ax2.set_xticks(range(len(yes[c].value_counts(normalize=True))))\n",
    "        ax2.set_xticklabels(order)\n",
    "\n",
    "        plt.tight_layout()\n",
    "        plt.show()"
   ]
  },
  {
   "cell_type": "markdown",
   "id": "094da003",
   "metadata": {},
   "source": [
    "A typical profile of an employee who has left the company is the following: they work in the sales or technology departments at a junior level. They have a low workload, have been with the company for less than 4 years, have not received a promotion, but have received below-average performance reviews from their manager. Their salary ranges from 10,000 to 40,000 rubles."
   ]
  },
  {
   "cell_type": "code",
   "execution_count": 94,
   "id": "e038ddda",
   "metadata": {},
   "outputs": [
    {
     "data": {
      "image/png": "[encoded data removed]",
      "text/plain": [
       "<Figure size 432x288 with 1 Axes>"
      ]
     },
     "metadata": {
      "needs_background": "light"
     },
     "output_type": "display_data"
    }
   ],
   "source": [
    "for _, d in test_target_job_satisfaction_rate.groupby(test_target_quit.quit):\n",
    "    plt.hist(d['job_satisfaction_rate'], label = _, alpha=.4, density=True)\n",
    "plt.xlabel('satisfaction rate')\n",
    "plt.ylabel('density')\n",
    "plt.title('Satisfaction rate for people who quit and did not quit')\n",
    "plt.legend()\n",
    "plt.show()"
   ]
  },
  {
   "cell_type": "markdown",
   "id": "12bbb3fb",
   "metadata": {},
   "source": [
    "Indeed, job satisfaction level directly influences whether an employee will leave or not: employees who resigned had an average satisfaction level of around 0.4, while those who stayed have a satisfaction peak at approximately 0.7."
   ]
  },
  {
   "cell_type": "markdown",
   "id": "a8d9f6f8",
   "metadata": {},
   "source": [
    "## Data preparation"
   ]
  },
  {
   "cell_type": "code",
   "execution_count": 95,
   "id": "fc51c465",
   "metadata": {},
   "outputs": [],
   "source": [
    "numerical_features = ['employment_years', 'salary', 'job_satisfaction_rate']"
   ]
  },
  {
   "cell_type": "code",
   "execution_count": 96,
   "id": "9e3c8989",
   "metadata": {},
   "outputs": [],
   "source": [
    "scaler_preprocessor = ColumnTransformer(\n",
    "    [\n",
    "     ('num', StandardScaler(), numerical_features)\n",
    "    ], \n",
    "    remainder='passthrough'\n",
    ")"
   ]
  },
  {
   "cell_type": "code",
   "execution_count": 97,
   "id": "b70827e6",
   "metadata": {},
   "outputs": [],
   "source": [
    "X_train = pd.DataFrame(scaler_preprocessor.fit_transform(train_quit_transformed))\n",
    "X_train.index = train_quit_transformed.index\n",
    "X_train.columns = train_quit_transformed.columns\n",
    "\n",
    "y_train = train_quit_transformed['quit']\n",
    "X_train = X_train[[i for i in X_train.columns if i != 'quit']]"
   ]
  },
  {
   "cell_type": "code",
   "execution_count": 98,
   "id": "f1b364a3",
   "metadata": {},
   "outputs": [],
   "source": [
    "X_test = pd.DataFrame(scaler_preprocessor.transform(test_features_transformed))\n",
    "X_test.index = test_features_transformed.index\n",
    "X_test.columns = test_features_transformed.columns\n",
    "\n",
    "y_test = test_features_transformed['quit']\n",
    "X_test = X_test[[i for i in X_test.columns if i != 'quit']]"
   ]
  },
  {
   "cell_type": "markdown",
   "id": "76c41535",
   "metadata": {},
   "source": [
    "## Training"
   ]
  },
  {
   "cell_type": "markdown",
   "id": "04f07242",
   "metadata": {},
   "source": [
    "### Model 1(without hyperparameter selection)"
   ]
  },
  {
   "cell_type": "code",
   "execution_count": 99,
   "id": "b4b08811",
   "metadata": {},
   "outputs": [],
   "source": [
    "class proba_logreg(LogisticRegression):\n",
    "    def predict(self, X):\n",
    "        return LogisticRegression.predict_proba(self, X)"
   ]
  },
  {
   "cell_type": "code",
   "execution_count": 100,
   "id": "4d7b283b",
   "metadata": {},
   "outputs": [],
   "source": [
    "lr = LogisticRegression(random_state=42)\n",
    "y_pred = cross_val_predict(proba_logreg(random_state=42), X_train, y_train, cv=5)"
   ]
  },
  {
   "cell_type": "code",
   "execution_count": 101,
   "id": "da7e8f46",
   "metadata": {},
   "outputs": [
    {
     "data": {
      "text/plain": [
       "0.9089710461018128"
      ]
     },
     "execution_count": 101,
     "metadata": {},
     "output_type": "execute_result"
    }
   ],
   "source": [
    "roc_auc_score(y_train, y_pred[:, 1])"
   ]
  },
  {
   "cell_type": "markdown",
   "id": "c0d3b18e",
   "metadata": {},
   "source": [
    "### Model 2(with hyperparameter selection)"
   ]
  },
  {
   "cell_type": "code",
   "execution_count": 102,
   "id": "726f753b",
   "metadata": {},
   "outputs": [
    {
     "data": {
      "text/html": [
       "<style>#sk-container-id-1 {\n",
       "  /* Definition of color scheme common for light and dark mode */\n",
       "  --sklearn-color-text: black;\n",
       "  --sklearn-color-line: gray;\n",
       "  /* Definition of color scheme for unfitted estimators */\n",
       "  --sklearn-color-unfitted-level-0: #fff5e6;\n",
       "  --sklearn-color-unfitted-level-1: #f6e4d2;\n",
       "  --sklearn-color-unfitted-level-2: #ffe0b3;\n",
       "  --sklearn-color-unfitted-level-3: chocolate;\n",
       "  /* Definition of color scheme for fitted estimators */\n",
       "  --sklearn-color-fitted-level-0: #f0f8ff;\n",
       "  --sklearn-color-fitted-level-1: #d4ebff;\n",
       "  --sklearn-color-fitted-level-2: #b3dbfd;\n",
       "  --sklearn-color-fitted-level-3: cornflowerblue;\n",
       "\n",
       "  /* Specific color for light theme */\n",
       "  --sklearn-color-text-on-default-background: var(--sg-text-color, var(--theme-code-foreground, var(--jp-content-font-color1, black)));\n",
       "  --sklearn-color-background: var(--sg-background-color, var(--theme-background, var(--jp-layout-color0, white)));\n",
       "  --sklearn-color-border-box: var(--sg-text-color, var(--theme-code-foreground, var(--jp-content-font-color1, black)));\n",
       "  --sklearn-color-icon: #696969;\n",
       "\n",
       "  @media (prefers-color-scheme: dark) {\n",
       "    /* Redefinition of color scheme for dark theme */\n",
       "    --sklearn-color-text-on-default-background: var(--sg-text-color, var(--theme-code-foreground, var(--jp-content-font-color1, white)));\n",
       "    --sklearn-color-background: var(--sg-background-color, var(--theme-background, var(--jp-layout-color0, #111)));\n",
       "    --sklearn-color-border-box: var(--sg-text-color, var(--theme-code-foreground, var(--jp-content-font-color1, white)));\n",
       "    --sklearn-color-icon: #878787;\n",
       "  }\n",
       "}\n",
       "\n",
       "#sk-container-id-1 {\n",
       "  color: var(--sklearn-color-text);\n",
       "}\n",
       "\n",
       "#sk-container-id-1 pre {\n",
       "  padding: 0;\n",
       "}\n",
       "\n",
       "#sk-container-id-1 input.sk-hidden--visually {\n",
       "  border: 0;\n",
       "  clip: rect(1px 1px 1px 1px);\n",
       "  clip: rect(1px, 1px, 1px, 1px);\n",
       "  height: 1px;\n",
       "  margin: -1px;\n",
       "  overflow: hidden;\n",
       "  padding: 0;\n",
       "  position: absolute;\n",
       "  width: 1px;\n",
       "}\n",
       "\n",
       "#sk-container-id-1 div.sk-dashed-wrapped {\n",
       "  border: 1px dashed var(--sklearn-color-line);\n",
       "  margin: 0 0.4em 0.5em 0.4em;\n",
       "  box-sizing: border-box;\n",
       "  padding-bottom: 0.4em;\n",
       "  background-color: var(--sklearn-color-background);\n",
       "}\n",
       "\n",
       "#sk-container-id-1 div.sk-container {\n",
       "  /* jupyter's `normalize.less` sets `[hidden] { display: none; }`\n",
       "     but bootstrap.min.css set `[hidden] { display: none !important; }`\n",
       "     so we also need the `!important` here to be able to override the\n",
       "     default hidden behavior on the sphinx rendered scikit-learn.org.\n",
       "     See: https://github.com/scikit-learn/scikit-learn/issues/21755 */\n",
       "  display: inline-block !important;\n",
       "  position: relative;\n",
       "}\n",
       "\n",
       "#sk-container-id-1 div.sk-text-repr-fallback {\n",
       "  display: none;\n",
       "}\n",
       "\n",
       "div.sk-parallel-item,\n",
       "div.sk-serial,\n",
       "div.sk-item {\n",
       "  /* draw centered vertical line to link estimators */\n",
       "  background-image: linear-gradient(var(--sklearn-color-text-on-default-background), var(--sklearn-color-text-on-default-background));\n",
       "  background-size: 2px 100%;\n",
       "  background-repeat: no-repeat;\n",
       "  background-position: center center;\n",
       "}\n",
       "\n",
       "/* Parallel-specific style estimator block */\n",
       "\n",
       "#sk-container-id-1 div.sk-parallel-item::after {\n",
       "  content: \"\";\n",
       "  width: 100%;\n",
       "  border-bottom: 2px solid var(--sklearn-color-text-on-default-background);\n",
       "  flex-grow: 1;\n",
       "}\n",
       "\n",
       "#sk-container-id-1 div.sk-parallel {\n",
       "  display: flex;\n",
       "  align-items: stretch;\n",
       "  justify-content: center;\n",
       "  background-color: var(--sklearn-color-background);\n",
       "  position: relative;\n",
       "}\n",
       "\n",
       "#sk-container-id-1 div.sk-parallel-item {\n",
       "  display: flex;\n",
       "  flex-direction: column;\n",
       "}\n",
       "\n",
       "#sk-container-id-1 div.sk-parallel-item:first-child::after {\n",
       "  align-self: flex-end;\n",
       "  width: 50%;\n",
       "}\n",
       "\n",
       "#sk-container-id-1 div.sk-parallel-item:last-child::after {\n",
       "  align-self: flex-start;\n",
       "  width: 50%;\n",
       "}\n",
       "\n",
       "#sk-container-id-1 div.sk-parallel-item:only-child::after {\n",
       "  width: 0;\n",
       "}\n",
       "\n",
       "/* Serial-specific style estimator block */\n",
       "\n",
       "#sk-container-id-1 div.sk-serial {\n",
       "  display: flex;\n",
       "  flex-direction: column;\n",
       "  align-items: center;\n",
       "  background-color: var(--sklearn-color-background);\n",
       "  padding-right: 1em;\n",
       "  padding-left: 1em;\n",
       "}\n",
       "\n",
       "\n",
       "/* Toggleable style: style used for estimator/Pipeline/ColumnTransformer box that is\n",
       "clickable and can be expanded/collapsed.\n",
       "- Pipeline and ColumnTransformer use this feature and define the default style\n",
       "- Estimators will overwrite some part of the style using the `sk-estimator` class\n",
       "*/\n",
       "\n",
       "/* Pipeline and ColumnTransformer style (default) */\n",
       "\n",
       "#sk-container-id-1 div.sk-toggleable {\n",
       "  /* Default theme specific background. It is overwritten whether we have a\n",
       "  specific estimator or a Pipeline/ColumnTransformer */\n",
       "  background-color: var(--sklearn-color-background);\n",
       "}\n",
       "\n",
       "/* Toggleable label */\n",
       "#sk-container-id-1 label.sk-toggleable__label {\n",
       "  cursor: pointer;\n",
       "  display: block;\n",
       "  width: 100%;\n",
       "  margin-bottom: 0;\n",
       "  padding: 0.5em;\n",
       "  box-sizing: border-box;\n",
       "  text-align: center;\n",
       "}\n",
       "\n",
       "#sk-container-id-1 label.sk-toggleable__label-arrow:before {\n",
       "  /* Arrow on the left of the label */\n",
       "  content: \"▸\";\n",
       "  float: left;\n",
       "  margin-right: 0.25em;\n",
       "  color: var(--sklearn-color-icon);\n",
       "}\n",
       "\n",
       "#sk-container-id-1 label.sk-toggleable__label-arrow:hover:before {\n",
       "  color: var(--sklearn-color-text);\n",
       "}\n",
       "\n",
       "/* Toggleable content - dropdown */\n",
       "\n",
       "#sk-container-id-1 div.sk-toggleable__content {\n",
       "  max-height: 0;\n",
       "  max-width: 0;\n",
       "  overflow: hidden;\n",
       "  text-align: left;\n",
       "  /* unfitted */\n",
       "  background-color: var(--sklearn-color-unfitted-level-0);\n",
       "}\n",
       "\n",
       "#sk-container-id-1 div.sk-toggleable__content.fitted {\n",
       "  /* fitted */\n",
       "  background-color: var(--sklearn-color-fitted-level-0);\n",
       "}\n",
       "\n",
       "#sk-container-id-1 div.sk-toggleable__content pre {\n",
       "  margin: 0.2em;\n",
       "  border-radius: 0.25em;\n",
       "  color: var(--sklearn-color-text);\n",
       "  /* unfitted */\n",
       "  background-color: var(--sklearn-color-unfitted-level-0);\n",
       "}\n",
       "\n",
       "#sk-container-id-1 div.sk-toggleable__content.fitted pre {\n",
       "  /* unfitted */\n",
       "  background-color: var(--sklearn-color-fitted-level-0);\n",
       "}\n",
       "\n",
       "#sk-container-id-1 input.sk-toggleable__control:checked~div.sk-toggleable__content {\n",
       "  /* Expand drop-down */\n",
       "  max-height: 200px;\n",
       "  max-width: 100%;\n",
       "  overflow: auto;\n",
       "}\n",
       "\n",
       "#sk-container-id-1 input.sk-toggleable__control:checked~label.sk-toggleable__label-arrow:before {\n",
       "  content: \"▾\";\n",
       "}\n",
       "\n",
       "/* Pipeline/ColumnTransformer-specific style */\n",
       "\n",
       "#sk-container-id-1 div.sk-label input.sk-toggleable__control:checked~label.sk-toggleable__label {\n",
       "  color: var(--sklearn-color-text);\n",
       "  background-color: var(--sklearn-color-unfitted-level-2);\n",
       "}\n",
       "\n",
       "#sk-container-id-1 div.sk-label.fitted input.sk-toggleable__control:checked~label.sk-toggleable__label {\n",
       "  background-color: var(--sklearn-color-fitted-level-2);\n",
       "}\n",
       "\n",
       "/* Estimator-specific style */\n",
       "\n",
       "/* Colorize estimator box */\n",
       "#sk-container-id-1 div.sk-estimator input.sk-toggleable__control:checked~label.sk-toggleable__label {\n",
       "  /* unfitted */\n",
       "  background-color: var(--sklearn-color-unfitted-level-2);\n",
       "}\n",
       "\n",
       "#sk-container-id-1 div.sk-estimator.fitted input.sk-toggleable__control:checked~label.sk-toggleable__label {\n",
       "  /* fitted */\n",
       "  background-color: var(--sklearn-color-fitted-level-2);\n",
       "}\n",
       "\n",
       "#sk-container-id-1 div.sk-label label.sk-toggleable__label,\n",
       "#sk-container-id-1 div.sk-label label {\n",
       "  /* The background is the default theme color */\n",
       "  color: var(--sklearn-color-text-on-default-background);\n",
       "}\n",
       "\n",
       "/* On hover, darken the color of the background */\n",
       "#sk-container-id-1 div.sk-label:hover label.sk-toggleable__label {\n",
       "  color: var(--sklearn-color-text);\n",
       "  background-color: var(--sklearn-color-unfitted-level-2);\n",
       "}\n",
       "\n",
       "/* Label box, darken color on hover, fitted */\n",
       "#sk-container-id-1 div.sk-label.fitted:hover label.sk-toggleable__label.fitted {\n",
       "  color: var(--sklearn-color-text);\n",
       "  background-color: var(--sklearn-color-fitted-level-2);\n",
       "}\n",
       "\n",
       "/* Estimator label */\n",
       "\n",
       "#sk-container-id-1 div.sk-label label {\n",
       "  font-family: monospace;\n",
       "  font-weight: bold;\n",
       "  display: inline-block;\n",
       "  line-height: 1.2em;\n",
       "}\n",
       "\n",
       "#sk-container-id-1 div.sk-label-container {\n",
       "  text-align: center;\n",
       "}\n",
       "\n",
       "/* Estimator-specific */\n",
       "#sk-container-id-1 div.sk-estimator {\n",
       "  font-family: monospace;\n",
       "  border: 1px dotted var(--sklearn-color-border-box);\n",
       "  border-radius: 0.25em;\n",
       "  box-sizing: border-box;\n",
       "  margin-bottom: 0.5em;\n",
       "  /* unfitted */\n",
       "  background-color: var(--sklearn-color-unfitted-level-0);\n",
       "}\n",
       "\n",
       "#sk-container-id-1 div.sk-estimator.fitted {\n",
       "  /* fitted */\n",
       "  background-color: var(--sklearn-color-fitted-level-0);\n",
       "}\n",
       "\n",
       "/* on hover */\n",
       "#sk-container-id-1 div.sk-estimator:hover {\n",
       "  /* unfitted */\n",
       "  background-color: var(--sklearn-color-unfitted-level-2);\n",
       "}\n",
       "\n",
       "#sk-container-id-1 div.sk-estimator.fitted:hover {\n",
       "  /* fitted */\n",
       "  background-color: var(--sklearn-color-fitted-level-2);\n",
       "}\n",
       "\n",
       "/* Specification for estimator info (e.g. \"i\" and \"?\") */\n",
       "\n",
       "/* Common style for \"i\" and \"?\" */\n",
       "\n",
       ".sk-estimator-doc-link,\n",
       "a:link.sk-estimator-doc-link,\n",
       "a:visited.sk-estimator-doc-link {\n",
       "  float: right;\n",
       "  font-size: smaller;\n",
       "  line-height: 1em;\n",
       "  font-family: monospace;\n",
       "  background-color: var(--sklearn-color-background);\n",
       "  border-radius: 1em;\n",
       "  height: 1em;\n",
       "  width: 1em;\n",
       "  text-decoration: none !important;\n",
       "  margin-left: 1ex;\n",
       "  /* unfitted */\n",
       "  border: var(--sklearn-color-unfitted-level-1) 1pt solid;\n",
       "  color: var(--sklearn-color-unfitted-level-1);\n",
       "}\n",
       "\n",
       ".sk-estimator-doc-link.fitted,\n",
       "a:link.sk-estimator-doc-link.fitted,\n",
       "a:visited.sk-estimator-doc-link.fitted {\n",
       "  /* fitted */\n",
       "  border: var(--sklearn-color-fitted-level-1) 1pt solid;\n",
       "  color: var(--sklearn-color-fitted-level-1);\n",
       "}\n",
       "\n",
       "/* On hover */\n",
       "div.sk-estimator:hover .sk-estimator-doc-link:hover,\n",
       ".sk-estimator-doc-link:hover,\n",
       "div.sk-label-container:hover .sk-estimator-doc-link:hover,\n",
       ".sk-estimator-doc-link:hover {\n",
       "  /* unfitted */\n",
       "  background-color: var(--sklearn-color-unfitted-level-3);\n",
       "  color: var(--sklearn-color-background);\n",
       "  text-decoration: none;\n",
       "}\n",
       "\n",
       "div.sk-estimator.fitted:hover .sk-estimator-doc-link.fitted:hover,\n",
       ".sk-estimator-doc-link.fitted:hover,\n",
       "div.sk-label-container:hover .sk-estimator-doc-link.fitted:hover,\n",
       ".sk-estimator-doc-link.fitted:hover {\n",
       "  /* fitted */\n",
       "  background-color: var(--sklearn-color-fitted-level-3);\n",
       "  color: var(--sklearn-color-background);\n",
       "  text-decoration: none;\n",
       "}\n",
       "\n",
       "/* Span, style for the box shown on hovering the info icon */\n",
       ".sk-estimator-doc-link span {\n",
       "  display: none;\n",
       "  z-index: 9999;\n",
       "  position: relative;\n",
       "  font-weight: normal;\n",
       "  right: .2ex;\n",
       "  padding: .5ex;\n",
       "  margin: .5ex;\n",
       "  width: min-content;\n",
       "  min-width: 20ex;\n",
       "  max-width: 50ex;\n",
       "  color: var(--sklearn-color-text);\n",
       "  box-shadow: 2pt 2pt 4pt #999;\n",
       "  /* unfitted */\n",
       "  background: var(--sklearn-color-unfitted-level-0);\n",
       "  border: .5pt solid var(--sklearn-color-unfitted-level-3);\n",
       "}\n",
       "\n",
       ".sk-estimator-doc-link.fitted span {\n",
       "  /* fitted */\n",
       "  background: var(--sklearn-color-fitted-level-0);\n",
       "  border: var(--sklearn-color-fitted-level-3);\n",
       "}\n",
       "\n",
       ".sk-estimator-doc-link:hover span {\n",
       "  display: block;\n",
       "}\n",
       "\n",
       "/* \"?\"-specific style due to the `<a>` HTML tag */\n",
       "\n",
       "#sk-container-id-1 a.estimator_doc_link {\n",
       "  float: right;\n",
       "  font-size: 1rem;\n",
       "  line-height: 1em;\n",
       "  font-family: monospace;\n",
       "  background-color: var(--sklearn-color-background);\n",
       "  border-radius: 1rem;\n",
       "  height: 1rem;\n",
       "  width: 1rem;\n",
       "  text-decoration: none;\n",
       "  /* unfitted */\n",
       "  color: var(--sklearn-color-unfitted-level-1);\n",
       "  border: var(--sklearn-color-unfitted-level-1) 1pt solid;\n",
       "}\n",
       "\n",
       "#sk-container-id-1 a.estimator_doc_link.fitted {\n",
       "  /* fitted */\n",
       "  border: var(--sklearn-color-fitted-level-1) 1pt solid;\n",
       "  color: var(--sklearn-color-fitted-level-1);\n",
       "}\n",
       "\n",
       "/* On hover */\n",
       "#sk-container-id-1 a.estimator_doc_link:hover {\n",
       "  /* unfitted */\n",
       "  background-color: var(--sklearn-color-unfitted-level-3);\n",
       "  color: var(--sklearn-color-background);\n",
       "  text-decoration: none;\n",
       "}\n",
       "\n",
       "#sk-container-id-1 a.estimator_doc_link.fitted:hover {\n",
       "  /* fitted */\n",
       "  background-color: var(--sklearn-color-fitted-level-3);\n",
       "}\n",
       "</style><div id=\"sk-container-id-1\" class=\"sk-top-container\"><div class=\"sk-text-repr-fallback\"><pre>RandomizedSearchCV(cv=5, estimator=RandomForestClassifier(random_state=42),\n",
       "                   param_distributions={&#x27;bootstrap&#x27;: [True, False],\n",
       "                                        &#x27;ccp_alpha&#x27;: &lt;scipy.stats._distn_infrastructure.rv_continuous_frozen object at 0x7f624e963c10&gt;,\n",
       "                                        &#x27;class_weight&#x27;: [None, &#x27;balanced&#x27;,\n",
       "                                                         &#x27;balanced_subsample&#x27;],\n",
       "                                        &#x27;criterion&#x27;: [&#x27;gini&#x27;, &#x27;entropy&#x27;],\n",
       "                                        &#x27;max_depth&#x27;: [None, 10, 20, 30],\n",
       "                                        &#x27;max_features&#x27;: [&#x27;auto&#x27;, &#x27;sq...\n",
       "                                        &#x27;max_samples&#x27;: &lt;scipy.stats._distn_infrastructure.rv_continuous_frozen object at 0x7f624e9b1a60&gt;,\n",
       "                                        &#x27;min_samples_leaf&#x27;: &lt;scipy.stats._distn_infrastructure.rv_discrete_frozen object at 0x7f624e963160&gt;,\n",
       "                                        &#x27;min_samples_split&#x27;: &lt;scipy.stats._distn_infrastructure.rv_discrete_frozen object at 0x7f624e944cd0&gt;,\n",
       "                                        &#x27;n_estimators&#x27;: &lt;scipy.stats._distn_infrastructure.rv_discrete_frozen object at 0x7f624e963f70&gt;},\n",
       "                   random_state=42, scoring=&#x27;roc_auc&#x27;)</pre><b>In a Jupyter environment, please rerun this cell to show the HTML representation or trust the notebook. <br />On GitHub, the HTML representation is unable to render, please try loading this page with nbviewer.org.</b></div><div class=\"sk-container\" hidden><div class=\"sk-item sk-dashed-wrapped\"><div class=\"sk-label-container\"><div class=\"sk-label fitted sk-toggleable\"><input class=\"sk-toggleable__control sk-hidden--visually\" id=\"sk-estimator-id-1\" type=\"checkbox\" ><label for=\"sk-estimator-id-1\" class=\"sk-toggleable__label fitted sk-toggleable__label-arrow fitted\">&nbsp;&nbsp;RandomizedSearchCV<a class=\"sk-estimator-doc-link fitted\" rel=\"noreferrer\" target=\"_blank\" href=\"https://scikit-learn.org/1.4/modules/generated/sklearn.model_selection.RandomizedSearchCV.html\">?<span>Documentation for RandomizedSearchCV</span></a><span class=\"sk-estimator-doc-link fitted\">i<span>Fitted</span></span></label><div class=\"sk-toggleable__content fitted\"><pre>RandomizedSearchCV(cv=5, estimator=RandomForestClassifier(random_state=42),\n",
       "                   param_distributions={&#x27;bootstrap&#x27;: [True, False],\n",
       "                                        &#x27;ccp_alpha&#x27;: &lt;scipy.stats._distn_infrastructure.rv_continuous_frozen object at 0x7f624e963c10&gt;,\n",
       "                                        &#x27;class_weight&#x27;: [None, &#x27;balanced&#x27;,\n",
       "                                                         &#x27;balanced_subsample&#x27;],\n",
       "                                        &#x27;criterion&#x27;: [&#x27;gini&#x27;, &#x27;entropy&#x27;],\n",
       "                                        &#x27;max_depth&#x27;: [None, 10, 20, 30],\n",
       "                                        &#x27;max_features&#x27;: [&#x27;auto&#x27;, &#x27;sq...\n",
       "                                        &#x27;max_samples&#x27;: &lt;scipy.stats._distn_infrastructure.rv_continuous_frozen object at 0x7f624e9b1a60&gt;,\n",
       "                                        &#x27;min_samples_leaf&#x27;: &lt;scipy.stats._distn_infrastructure.rv_discrete_frozen object at 0x7f624e963160&gt;,\n",
       "                                        &#x27;min_samples_split&#x27;: &lt;scipy.stats._distn_infrastructure.rv_discrete_frozen object at 0x7f624e944cd0&gt;,\n",
       "                                        &#x27;n_estimators&#x27;: &lt;scipy.stats._distn_infrastructure.rv_discrete_frozen object at 0x7f624e963f70&gt;},\n",
       "                   random_state=42, scoring=&#x27;roc_auc&#x27;)</pre></div> </div></div><div class=\"sk-parallel\"><div class=\"sk-parallel-item\"><div class=\"sk-item\"><div class=\"sk-label-container\"><div class=\"sk-label fitted sk-toggleable\"><input class=\"sk-toggleable__control sk-hidden--visually\" id=\"sk-estimator-id-2\" type=\"checkbox\" ><label for=\"sk-estimator-id-2\" class=\"sk-toggleable__label fitted sk-toggleable__label-arrow fitted\">estimator: RandomForestClassifier</label><div class=\"sk-toggleable__content fitted\"><pre>RandomForestClassifier(random_state=42)</pre></div> </div></div><div class=\"sk-serial\"><div class=\"sk-item\"><div class=\"sk-estimator fitted sk-toggleable\"><input class=\"sk-toggleable__control sk-hidden--visually\" id=\"sk-estimator-id-3\" type=\"checkbox\" ><label for=\"sk-estimator-id-3\" class=\"sk-toggleable__label fitted sk-toggleable__label-arrow fitted\">&nbsp;RandomForestClassifier<a class=\"sk-estimator-doc-link fitted\" rel=\"noreferrer\" target=\"_blank\" href=\"https://scikit-learn.org/1.4/modules/generated/sklearn.ensemble.RandomForestClassifier.html\">?<span>Documentation for RandomForestClassifier</span></a></label><div class=\"sk-toggleable__content fitted\"><pre>RandomForestClassifier(random_state=42)</pre></div> </div></div></div></div></div></div></div></div></div>"
      ],
      "text/plain": [
       "RandomizedSearchCV(cv=5, estimator=RandomForestClassifier(random_state=42),\n",
       "                   param_distributions={'bootstrap': [True, False],\n",
       "                                        'ccp_alpha': <scipy.stats._distn_infrastructure.rv_continuous_frozen object at 0x7f624e963c10>,\n",
       "                                        'class_weight': [None, 'balanced',\n",
       "                                                         'balanced_subsample'],\n",
       "                                        'criterion': ['gini', 'entropy'],\n",
       "                                        'max_depth': [None, 10, 20, 30],\n",
       "                                        'max_features': ['auto', 'sq...\n",
       "                                        'max_samples': <scipy.stats._distn_infrastructure.rv_continuous_frozen object at 0x7f624e9b1a60>,\n",
       "                                        'min_samples_leaf': <scipy.stats._distn_infrastructure.rv_discrete_frozen object at 0x7f624e963160>,\n",
       "                                        'min_samples_split': <scipy.stats._distn_infrastructure.rv_discrete_frozen object at 0x7f624e944cd0>,\n",
       "                                        'n_estimators': <scipy.stats._distn_infrastructure.rv_discrete_frozen object at 0x7f624e963f70>},\n",
       "                   random_state=42, scoring='roc_auc')"
      ]
     },
     "execution_count": 102,
     "metadata": {},
     "output_type": "execute_result"
    }
   ],
   "source": [
    "param_dist = {\n",
    "    'n_estimators': randint(50, 200),\n",
    "    'criterion': ['gini', 'entropy'],\n",
    "    'max_depth': [None, 10, 20, 30],\n",
    "    'min_samples_split': randint(2, 20),\n",
    "    'min_samples_leaf': randint(1, 10),\n",
    "    'max_features': ['auto', 'sqrt', 'log2'],\n",
    "    'bootstrap': [True, False],\n",
    "    'class_weight': [None, 'balanced', 'balanced_subsample'],\n",
    "    'max_samples': uniform(0.1, 0.9),\n",
    "    'ccp_alpha': uniform(0.0, 0.1)\n",
    "}\n",
    "\n",
    "random_search_rf = RandomizedSearchCV(estimator=RandomForestClassifier(random_state=42),\n",
    "                                   param_distributions=param_dist,\n",
    "                                   n_iter=10,\n",
    "                                   cv=5,\n",
    "                                   random_state=42, \n",
    "                                  scoring='roc_auc')\n",
    "\n",
    "\n",
    "random_search_rf.fit(X_train, y_train)"
   ]
  },
  {
   "cell_type": "code",
   "execution_count": 103,
   "id": "7937f648",
   "metadata": {},
   "outputs": [
    {
     "data": {
      "text/plain": [
       "0.9145514328192459"
      ]
     },
     "execution_count": 103,
     "metadata": {},
     "output_type": "execute_result"
    }
   ],
   "source": [
    "random_search_rf.best_score_"
   ]
  },
  {
   "cell_type": "markdown",
   "id": "635927e8",
   "metadata": {},
   "source": [
    "### Model 3 (with hyperparameter selection)"
   ]
  },
  {
   "cell_type": "code",
   "execution_count": 104,
   "id": "a0b39289",
   "metadata": {},
   "outputs": [
    {
     "name": "stdout",
     "output_type": "stream",
     "text": [
      "0.9137875119282792\n"
     ]
    }
   ],
   "source": [
    "param_dist = {\n",
    "    'n_estimators': randint(50, 200),\n",
    "    'learning_rate': [0.05, 0.1, 0.2],\n",
    "    'max_depth': [3, 5, 7, 10],\n",
    "    'min_samples_split': randint(2, 20),\n",
    "    'min_samples_leaf': randint(1, 10),\n",
    "    'max_features': ['auto', 'sqrt'],\n",
    "    'subsample': [0.8, 0.9, 1.0],\n",
    "    'loss': ['deviance', 'exponential'],\n",
    "    'max_leaf_nodes': [None, 10, 50, 100],\n",
    "    'min_weight_fraction_leaf': [0.0, 0.1, 0.2],\n",
    "    'warm_start': [True, False],\n",
    "    'validation_fraction': [0.1, 0.2, 0.3],\n",
    "    'n_iter_no_change': [5, 10, 20], \n",
    "    'tol': loguniform(1e-5, 1e-3),\n",
    "    'ccp_alpha': uniform(0.0, 0.1) \n",
    "}\n",
    "\n",
    "\n",
    "random_search_gb = RandomizedSearchCV(estimator=GradientBoostingClassifier(random_state=42),\n",
    "                                   param_distributions=param_dist,\n",
    "                                   n_iter=10,\n",
    "                                   cv=5,\n",
    "                                   random_state=42, \n",
    "                                  scoring='roc_auc')\n",
    "\n",
    "\n",
    "random_search_gb.fit(X_train, y_train)\n",
    "print(random_search_gb.best_score_)"
   ]
  },
  {
   "cell_type": "code",
   "execution_count": 105,
   "id": "c631e2a8",
   "metadata": {},
   "outputs": [
    {
     "data": {
      "text/html": [
       "<style>#sk-container-id-2 {\n",
       "  /* Definition of color scheme common for light and dark mode */\n",
       "  --sklearn-color-text: black;\n",
       "  --sklearn-color-line: gray;\n",
       "  /* Definition of color scheme for unfitted estimators */\n",
       "  --sklearn-color-unfitted-level-0: #fff5e6;\n",
       "  --sklearn-color-unfitted-level-1: #f6e4d2;\n",
       "  --sklearn-color-unfitted-level-2: #ffe0b3;\n",
       "  --sklearn-color-unfitted-level-3: chocolate;\n",
       "  /* Definition of color scheme for fitted estimators */\n",
       "  --sklearn-color-fitted-level-0: #f0f8ff;\n",
       "  --sklearn-color-fitted-level-1: #d4ebff;\n",
       "  --sklearn-color-fitted-level-2: #b3dbfd;\n",
       "  --sklearn-color-fitted-level-3: cornflowerblue;\n",
       "\n",
       "  /* Specific color for light theme */\n",
       "  --sklearn-color-text-on-default-background: var(--sg-text-color, var(--theme-code-foreground, var(--jp-content-font-color1, black)));\n",
       "  --sklearn-color-background: var(--sg-background-color, var(--theme-background, var(--jp-layout-color0, white)));\n",
       "  --sklearn-color-border-box: var(--sg-text-color, var(--theme-code-foreground, var(--jp-content-font-color1, black)));\n",
       "  --sklearn-color-icon: #696969;\n",
       "\n",
       "  @media (prefers-color-scheme: dark) {\n",
       "    /* Redefinition of color scheme for dark theme */\n",
       "    --sklearn-color-text-on-default-background: var(--sg-text-color, var(--theme-code-foreground, var(--jp-content-font-color1, white)));\n",
       "    --sklearn-color-background: var(--sg-background-color, var(--theme-background, var(--jp-layout-color0, #111)));\n",
       "    --sklearn-color-border-box: var(--sg-text-color, var(--theme-code-foreground, var(--jp-content-font-color1, white)));\n",
       "    --sklearn-color-icon: #878787;\n",
       "  }\n",
       "}\n",
       "\n",
       "#sk-container-id-2 {\n",
       "  color: var(--sklearn-color-text);\n",
       "}\n",
       "\n",
       "#sk-container-id-2 pre {\n",
       "  padding: 0;\n",
       "}\n",
       "\n",
       "#sk-container-id-2 input.sk-hidden--visually {\n",
       "  border: 0;\n",
       "  clip: rect(1px 1px 1px 1px);\n",
       "  clip: rect(1px, 1px, 1px, 1px);\n",
       "  height: 1px;\n",
       "  margin: -1px;\n",
       "  overflow: hidden;\n",
       "  padding: 0;\n",
       "  position: absolute;\n",
       "  width: 1px;\n",
       "}\n",
       "\n",
       "#sk-container-id-2 div.sk-dashed-wrapped {\n",
       "  border: 1px dashed var(--sklearn-color-line);\n",
       "  margin: 0 0.4em 0.5em 0.4em;\n",
       "  box-sizing: border-box;\n",
       "  padding-bottom: 0.4em;\n",
       "  background-color: var(--sklearn-color-background);\n",
       "}\n",
       "\n",
       "#sk-container-id-2 div.sk-container {\n",
       "  /* jupyter's `normalize.less` sets `[hidden] { display: none; }`\n",
       "     but bootstrap.min.css set `[hidden] { display: none !important; }`\n",
       "     so we also need the `!important` here to be able to override the\n",
       "     default hidden behavior on the sphinx rendered scikit-learn.org.\n",
       "     See: https://github.com/scikit-learn/scikit-learn/issues/21755 */\n",
       "  display: inline-block !important;\n",
       "  position: relative;\n",
       "}\n",
       "\n",
       "#sk-container-id-2 div.sk-text-repr-fallback {\n",
       "  display: none;\n",
       "}\n",
       "\n",
       "div.sk-parallel-item,\n",
       "div.sk-serial,\n",
       "div.sk-item {\n",
       "  /* draw centered vertical line to link estimators */\n",
       "  background-image: linear-gradient(var(--sklearn-color-text-on-default-background), var(--sklearn-color-text-on-default-background));\n",
       "  background-size: 2px 100%;\n",
       "  background-repeat: no-repeat;\n",
       "  background-position: center center;\n",
       "}\n",
       "\n",
       "/* Parallel-specific style estimator block */\n",
       "\n",
       "#sk-container-id-2 div.sk-parallel-item::after {\n",
       "  content: \"\";\n",
       "  width: 100%;\n",
       "  border-bottom: 2px solid var(--sklearn-color-text-on-default-background);\n",
       "  flex-grow: 1;\n",
       "}\n",
       "\n",
       "#sk-container-id-2 div.sk-parallel {\n",
       "  display: flex;\n",
       "  align-items: stretch;\n",
       "  justify-content: center;\n",
       "  background-color: var(--sklearn-color-background);\n",
       "  position: relative;\n",
       "}\n",
       "\n",
       "#sk-container-id-2 div.sk-parallel-item {\n",
       "  display: flex;\n",
       "  flex-direction: column;\n",
       "}\n",
       "\n",
       "#sk-container-id-2 div.sk-parallel-item:first-child::after {\n",
       "  align-self: flex-end;\n",
       "  width: 50%;\n",
       "}\n",
       "\n",
       "#sk-container-id-2 div.sk-parallel-item:last-child::after {\n",
       "  align-self: flex-start;\n",
       "  width: 50%;\n",
       "}\n",
       "\n",
       "#sk-container-id-2 div.sk-parallel-item:only-child::after {\n",
       "  width: 0;\n",
       "}\n",
       "\n",
       "/* Serial-specific style estimator block */\n",
       "\n",
       "#sk-container-id-2 div.sk-serial {\n",
       "  display: flex;\n",
       "  flex-direction: column;\n",
       "  align-items: center;\n",
       "  background-color: var(--sklearn-color-background);\n",
       "  padding-right: 1em;\n",
       "  padding-left: 1em;\n",
       "}\n",
       "\n",
       "\n",
       "/* Toggleable style: style used for estimator/Pipeline/ColumnTransformer box that is\n",
       "clickable and can be expanded/collapsed.\n",
       "- Pipeline and ColumnTransformer use this feature and define the default style\n",
       "- Estimators will overwrite some part of the style using the `sk-estimator` class\n",
       "*/\n",
       "\n",
       "/* Pipeline and ColumnTransformer style (default) */\n",
       "\n",
       "#sk-container-id-2 div.sk-toggleable {\n",
       "  /* Default theme specific background. It is overwritten whether we have a\n",
       "  specific estimator or a Pipeline/ColumnTransformer */\n",
       "  background-color: var(--sklearn-color-background);\n",
       "}\n",
       "\n",
       "/* Toggleable label */\n",
       "#sk-container-id-2 label.sk-toggleable__label {\n",
       "  cursor: pointer;\n",
       "  display: block;\n",
       "  width: 100%;\n",
       "  margin-bottom: 0;\n",
       "  padding: 0.5em;\n",
       "  box-sizing: border-box;\n",
       "  text-align: center;\n",
       "}\n",
       "\n",
       "#sk-container-id-2 label.sk-toggleable__label-arrow:before {\n",
       "  /* Arrow on the left of the label */\n",
       "  content: \"▸\";\n",
       "  float: left;\n",
       "  margin-right: 0.25em;\n",
       "  color: var(--sklearn-color-icon);\n",
       "}\n",
       "\n",
       "#sk-container-id-2 label.sk-toggleable__label-arrow:hover:before {\n",
       "  color: var(--sklearn-color-text);\n",
       "}\n",
       "\n",
       "/* Toggleable content - dropdown */\n",
       "\n",
       "#sk-container-id-2 div.sk-toggleable__content {\n",
       "  max-height: 0;\n",
       "  max-width: 0;\n",
       "  overflow: hidden;\n",
       "  text-align: left;\n",
       "  /* unfitted */\n",
       "  background-color: var(--sklearn-color-unfitted-level-0);\n",
       "}\n",
       "\n",
       "#sk-container-id-2 div.sk-toggleable__content.fitted {\n",
       "  /* fitted */\n",
       "  background-color: var(--sklearn-color-fitted-level-0);\n",
       "}\n",
       "\n",
       "#sk-container-id-2 div.sk-toggleable__content pre {\n",
       "  margin: 0.2em;\n",
       "  border-radius: 0.25em;\n",
       "  color: var(--sklearn-color-text);\n",
       "  /* unfitted */\n",
       "  background-color: var(--sklearn-color-unfitted-level-0);\n",
       "}\n",
       "\n",
       "#sk-container-id-2 div.sk-toggleable__content.fitted pre {\n",
       "  /* unfitted */\n",
       "  background-color: var(--sklearn-color-fitted-level-0);\n",
       "}\n",
       "\n",
       "#sk-container-id-2 input.sk-toggleable__control:checked~div.sk-toggleable__content {\n",
       "  /* Expand drop-down */\n",
       "  max-height: 200px;\n",
       "  max-width: 100%;\n",
       "  overflow: auto;\n",
       "}\n",
       "\n",
       "#sk-container-id-2 input.sk-toggleable__control:checked~label.sk-toggleable__label-arrow:before {\n",
       "  content: \"▾\";\n",
       "}\n",
       "\n",
       "/* Pipeline/ColumnTransformer-specific style */\n",
       "\n",
       "#sk-container-id-2 div.sk-label input.sk-toggleable__control:checked~label.sk-toggleable__label {\n",
       "  color: var(--sklearn-color-text);\n",
       "  background-color: var(--sklearn-color-unfitted-level-2);\n",
       "}\n",
       "\n",
       "#sk-container-id-2 div.sk-label.fitted input.sk-toggleable__control:checked~label.sk-toggleable__label {\n",
       "  background-color: var(--sklearn-color-fitted-level-2);\n",
       "}\n",
       "\n",
       "/* Estimator-specific style */\n",
       "\n",
       "/* Colorize estimator box */\n",
       "#sk-container-id-2 div.sk-estimator input.sk-toggleable__control:checked~label.sk-toggleable__label {\n",
       "  /* unfitted */\n",
       "  background-color: var(--sklearn-color-unfitted-level-2);\n",
       "}\n",
       "\n",
       "#sk-container-id-2 div.sk-estimator.fitted input.sk-toggleable__control:checked~label.sk-toggleable__label {\n",
       "  /* fitted */\n",
       "  background-color: var(--sklearn-color-fitted-level-2);\n",
       "}\n",
       "\n",
       "#sk-container-id-2 div.sk-label label.sk-toggleable__label,\n",
       "#sk-container-id-2 div.sk-label label {\n",
       "  /* The background is the default theme color */\n",
       "  color: var(--sklearn-color-text-on-default-background);\n",
       "}\n",
       "\n",
       "/* On hover, darken the color of the background */\n",
       "#sk-container-id-2 div.sk-label:hover label.sk-toggleable__label {\n",
       "  color: var(--sklearn-color-text);\n",
       "  background-color: var(--sklearn-color-unfitted-level-2);\n",
       "}\n",
       "\n",
       "/* Label box, darken color on hover, fitted */\n",
       "#sk-container-id-2 div.sk-label.fitted:hover label.sk-toggleable__label.fitted {\n",
       "  color: var(--sklearn-color-text);\n",
       "  background-color: var(--sklearn-color-fitted-level-2);\n",
       "}\n",
       "\n",
       "/* Estimator label */\n",
       "\n",
       "#sk-container-id-2 div.sk-label label {\n",
       "  font-family: monospace;\n",
       "  font-weight: bold;\n",
       "  display: inline-block;\n",
       "  line-height: 1.2em;\n",
       "}\n",
       "\n",
       "#sk-container-id-2 div.sk-label-container {\n",
       "  text-align: center;\n",
       "}\n",
       "\n",
       "/* Estimator-specific */\n",
       "#sk-container-id-2 div.sk-estimator {\n",
       "  font-family: monospace;\n",
       "  border: 1px dotted var(--sklearn-color-border-box);\n",
       "  border-radius: 0.25em;\n",
       "  box-sizing: border-box;\n",
       "  margin-bottom: 0.5em;\n",
       "  /* unfitted */\n",
       "  background-color: var(--sklearn-color-unfitted-level-0);\n",
       "}\n",
       "\n",
       "#sk-container-id-2 div.sk-estimator.fitted {\n",
       "  /* fitted */\n",
       "  background-color: var(--sklearn-color-fitted-level-0);\n",
       "}\n",
       "\n",
       "/* on hover */\n",
       "#sk-container-id-2 div.sk-estimator:hover {\n",
       "  /* unfitted */\n",
       "  background-color: var(--sklearn-color-unfitted-level-2);\n",
       "}\n",
       "\n",
       "#sk-container-id-2 div.sk-estimator.fitted:hover {\n",
       "  /* fitted */\n",
       "  background-color: var(--sklearn-color-fitted-level-2);\n",
       "}\n",
       "\n",
       "/* Specification for estimator info (e.g. \"i\" and \"?\") */\n",
       "\n",
       "/* Common style for \"i\" and \"?\" */\n",
       "\n",
       ".sk-estimator-doc-link,\n",
       "a:link.sk-estimator-doc-link,\n",
       "a:visited.sk-estimator-doc-link {\n",
       "  float: right;\n",
       "  font-size: smaller;\n",
       "  line-height: 1em;\n",
       "  font-family: monospace;\n",
       "  background-color: var(--sklearn-color-background);\n",
       "  border-radius: 1em;\n",
       "  height: 1em;\n",
       "  width: 1em;\n",
       "  text-decoration: none !important;\n",
       "  margin-left: 1ex;\n",
       "  /* unfitted */\n",
       "  border: var(--sklearn-color-unfitted-level-1) 1pt solid;\n",
       "  color: var(--sklearn-color-unfitted-level-1);\n",
       "}\n",
       "\n",
       ".sk-estimator-doc-link.fitted,\n",
       "a:link.sk-estimator-doc-link.fitted,\n",
       "a:visited.sk-estimator-doc-link.fitted {\n",
       "  /* fitted */\n",
       "  border: var(--sklearn-color-fitted-level-1) 1pt solid;\n",
       "  color: var(--sklearn-color-fitted-level-1);\n",
       "}\n",
       "\n",
       "/* On hover */\n",
       "div.sk-estimator:hover .sk-estimator-doc-link:hover,\n",
       ".sk-estimator-doc-link:hover,\n",
       "div.sk-label-container:hover .sk-estimator-doc-link:hover,\n",
       ".sk-estimator-doc-link:hover {\n",
       "  /* unfitted */\n",
       "  background-color: var(--sklearn-color-unfitted-level-3);\n",
       "  color: var(--sklearn-color-background);\n",
       "  text-decoration: none;\n",
       "}\n",
       "\n",
       "div.sk-estimator.fitted:hover .sk-estimator-doc-link.fitted:hover,\n",
       ".sk-estimator-doc-link.fitted:hover,\n",
       "div.sk-label-container:hover .sk-estimator-doc-link.fitted:hover,\n",
       ".sk-estimator-doc-link.fitted:hover {\n",
       "  /* fitted */\n",
       "  background-color: var(--sklearn-color-fitted-level-3);\n",
       "  color: var(--sklearn-color-background);\n",
       "  text-decoration: none;\n",
       "}\n",
       "\n",
       "/* Span, style for the box shown on hovering the info icon */\n",
       ".sk-estimator-doc-link span {\n",
       "  display: none;\n",
       "  z-index: 9999;\n",
       "  position: relative;\n",
       "  font-weight: normal;\n",
       "  right: .2ex;\n",
       "  padding: .5ex;\n",
       "  margin: .5ex;\n",
       "  width: min-content;\n",
       "  min-width: 20ex;\n",
       "  max-width: 50ex;\n",
       "  color: var(--sklearn-color-text);\n",
       "  box-shadow: 2pt 2pt 4pt #999;\n",
       "  /* unfitted */\n",
       "  background: var(--sklearn-color-unfitted-level-0);\n",
       "  border: .5pt solid var(--sklearn-color-unfitted-level-3);\n",
       "}\n",
       "\n",
       ".sk-estimator-doc-link.fitted span {\n",
       "  /* fitted */\n",
       "  background: var(--sklearn-color-fitted-level-0);\n",
       "  border: var(--sklearn-color-fitted-level-3);\n",
       "}\n",
       "\n",
       ".sk-estimator-doc-link:hover span {\n",
       "  display: block;\n",
       "}\n",
       "\n",
       "/* \"?\"-specific style due to the `<a>` HTML tag */\n",
       "\n",
       "#sk-container-id-2 a.estimator_doc_link {\n",
       "  float: right;\n",
       "  font-size: 1rem;\n",
       "  line-height: 1em;\n",
       "  font-family: monospace;\n",
       "  background-color: var(--sklearn-color-background);\n",
       "  border-radius: 1rem;\n",
       "  height: 1rem;\n",
       "  width: 1rem;\n",
       "  text-decoration: none;\n",
       "  /* unfitted */\n",
       "  color: var(--sklearn-color-unfitted-level-1);\n",
       "  border: var(--sklearn-color-unfitted-level-1) 1pt solid;\n",
       "}\n",
       "\n",
       "#sk-container-id-2 a.estimator_doc_link.fitted {\n",
       "  /* fitted */\n",
       "  border: var(--sklearn-color-fitted-level-1) 1pt solid;\n",
       "  color: var(--sklearn-color-fitted-level-1);\n",
       "}\n",
       "\n",
       "/* On hover */\n",
       "#sk-container-id-2 a.estimator_doc_link:hover {\n",
       "  /* unfitted */\n",
       "  background-color: var(--sklearn-color-unfitted-level-3);\n",
       "  color: var(--sklearn-color-background);\n",
       "  text-decoration: none;\n",
       "}\n",
       "\n",
       "#sk-container-id-2 a.estimator_doc_link.fitted:hover {\n",
       "  /* fitted */\n",
       "  background-color: var(--sklearn-color-fitted-level-3);\n",
       "}\n",
       "</style><div id=\"sk-container-id-2\" class=\"sk-top-container\"><div class=\"sk-text-repr-fallback\"><pre>RandomForestClassifier(ccp_alpha=0.017336465350777208, criterion=&#x27;entropy&#x27;,\n",
       "                       max_depth=10, max_samples=0.48264028704212025,\n",
       "                       min_samples_leaf=6, min_samples_split=11,\n",
       "                       n_estimators=53, random_state=42)</pre><b>In a Jupyter environment, please rerun this cell to show the HTML representation or trust the notebook. <br />On GitHub, the HTML representation is unable to render, please try loading this page with nbviewer.org.</b></div><div class=\"sk-container\" hidden><div class=\"sk-item\"><div class=\"sk-estimator fitted sk-toggleable\"><input class=\"sk-toggleable__control sk-hidden--visually\" id=\"sk-estimator-id-4\" type=\"checkbox\" checked><label for=\"sk-estimator-id-4\" class=\"sk-toggleable__label fitted sk-toggleable__label-arrow fitted\">&nbsp;&nbsp;RandomForestClassifier<a class=\"sk-estimator-doc-link fitted\" rel=\"noreferrer\" target=\"_blank\" href=\"https://scikit-learn.org/1.4/modules/generated/sklearn.ensemble.RandomForestClassifier.html\">?<span>Documentation for RandomForestClassifier</span></a><span class=\"sk-estimator-doc-link fitted\">i<span>Fitted</span></span></label><div class=\"sk-toggleable__content fitted\"><pre>RandomForestClassifier(ccp_alpha=0.017336465350777208, criterion=&#x27;entropy&#x27;,\n",
       "                       max_depth=10, max_samples=0.48264028704212025,\n",
       "                       min_samples_leaf=6, min_samples_split=11,\n",
       "                       n_estimators=53, random_state=42)</pre></div> </div></div></div></div>"
      ],
      "text/plain": [
       "RandomForestClassifier(ccp_alpha=0.017336465350777208, criterion='entropy',\n",
       "                       max_depth=10, max_samples=0.48264028704212025,\n",
       "                       min_samples_leaf=6, min_samples_split=11,\n",
       "                       n_estimators=53, random_state=42)"
      ]
     },
     "execution_count": 105,
     "metadata": {},
     "output_type": "execute_result"
    }
   ],
   "source": [
    "random_search_rf.best_estimator_"
   ]
  },
  {
   "cell_type": "markdown",
   "id": "c86089b9",
   "metadata": {},
   "source": [
    "### Additional feature selection - attempt to improve the best model"
   ]
  },
  {
   "cell_type": "markdown",
   "id": "b0467021",
   "metadata": {},
   "source": [
    "Both classifiers, for which parameters were tuned, are handling the task well (ROC AUC > 0.91). Let's try to further improve the metric by selecting the most relevant features and retraining the best classifier."
   ]
  },
  {
   "cell_type": "code",
   "execution_count": 106,
   "id": "624849ca",
   "metadata": {},
   "outputs": [],
   "source": [
    "selector = SelectFromModel(random_search_gb.best_estimator_)\n",
    "selector.fit(X_train, y_train)\n",
    "X_train_selected = selector.transform(X_train)"
   ]
  },
  {
   "cell_type": "code",
   "execution_count": 107,
   "id": "d607c9f5",
   "metadata": {},
   "outputs": [
    {
     "data": {
      "text/html": [
       "<div>\n",
       "<style scoped>\n",
       "    .dataframe tbody tr th:only-of-type {\n",
       "        vertical-align: middle;\n",
       "    }\n",
       "\n",
       "    .dataframe tbody tr th {\n",
       "        vertical-align: top;\n",
       "    }\n",
       "\n",
       "    .dataframe thead th {\n",
       "        text-align: right;\n",
       "    }\n",
       "</style>\n",
       "<table border=\"1\" class=\"dataframe\">\n",
       "  <thead>\n",
       "    <tr style=\"text-align: right;\">\n",
       "      <th></th>\n",
       "      <th>employment_years</th>\n",
       "      <th>salary</th>\n",
       "      <th>job_satisfaction_rate</th>\n",
       "      <th>level</th>\n",
       "    </tr>\n",
       "    <tr>\n",
       "      <th>id</th>\n",
       "      <th></th>\n",
       "      <th></th>\n",
       "      <th></th>\n",
       "      <th></th>\n",
       "    </tr>\n",
       "  </thead>\n",
       "  <tbody>\n",
       "    <tr>\n",
       "      <th>723290</th>\n",
       "      <td>-0.851101</td>\n",
       "      <td>1.038618</td>\n",
       "      <td>0.518599</td>\n",
       "      <td>1.0</td>\n",
       "    </tr>\n",
       "    <tr>\n",
       "      <th>814010</th>\n",
       "      <td>-0.851101</td>\n",
       "      <td>-0.584578</td>\n",
       "      <td>1.502319</td>\n",
       "      <td>0.0</td>\n",
       "    </tr>\n",
       "    <tr>\n",
       "      <th>155091</th>\n",
       "      <td>0.302478</td>\n",
       "      <td>0.005676</td>\n",
       "      <td>-0.650065</td>\n",
       "      <td>1.0</td>\n",
       "    </tr>\n",
       "    <tr>\n",
       "      <th>257132</th>\n",
       "      <td>-0.851101</td>\n",
       "      <td>-0.805922</td>\n",
       "      <td>-0.777164</td>\n",
       "      <td>0.0</td>\n",
       "    </tr>\n",
       "    <tr>\n",
       "      <th>910140</th>\n",
       "      <td>-0.851101</td>\n",
       "      <td>-0.732141</td>\n",
       "      <td>1.101077</td>\n",
       "      <td>0.0</td>\n",
       "    </tr>\n",
       "    <tr>\n",
       "      <th>...</th>\n",
       "      <td>...</td>\n",
       "      <td>...</td>\n",
       "      <td>...</td>\n",
       "      <td>...</td>\n",
       "    </tr>\n",
       "    <tr>\n",
       "      <th>778735</th>\n",
       "      <td>-0.851101</td>\n",
       "      <td>-0.879704</td>\n",
       "      <td>1.497518</td>\n",
       "      <td>0.0</td>\n",
       "    </tr>\n",
       "    <tr>\n",
       "      <th>106936</th>\n",
       "      <td>-1.235627</td>\n",
       "      <td>-1.174831</td>\n",
       "      <td>1.576224</td>\n",
       "      <td>0.0</td>\n",
       "    </tr>\n",
       "    <tr>\n",
       "      <th>775320</th>\n",
       "      <td>-1.235627</td>\n",
       "      <td>0.300802</td>\n",
       "      <td>0.286565</td>\n",
       "      <td>0.0</td>\n",
       "    </tr>\n",
       "    <tr>\n",
       "      <th>536432</th>\n",
       "      <td>-0.851101</td>\n",
       "      <td>-1.543739</td>\n",
       "      <td>0.059053</td>\n",
       "      <td>0.0</td>\n",
       "    </tr>\n",
       "    <tr>\n",
       "      <th>692133</th>\n",
       "      <td>-0.851101</td>\n",
       "      <td>-0.215669</td>\n",
       "      <td>0.127404</td>\n",
       "      <td>1.0</td>\n",
       "    </tr>\n",
       "  </tbody>\n",
       "</table>\n",
       "<p>2587 rows × 4 columns</p>\n",
       "</div>"
      ],
      "text/plain": [
       "        employment_years    salary  job_satisfaction_rate  level\n",
       "id                                                              \n",
       "723290         -0.851101  1.038618               0.518599    1.0\n",
       "814010         -0.851101 -0.584578               1.502319    0.0\n",
       "155091          0.302478  0.005676              -0.650065    1.0\n",
       "257132         -0.851101 -0.805922              -0.777164    0.0\n",
       "910140         -0.851101 -0.732141               1.101077    0.0\n",
       "...                  ...       ...                    ...    ...\n",
       "778735         -0.851101 -0.879704               1.497518    0.0\n",
       "106936         -1.235627 -1.174831               1.576224    0.0\n",
       "775320         -1.235627  0.300802               0.286565    0.0\n",
       "536432         -0.851101 -1.543739               0.059053    0.0\n",
       "692133         -0.851101 -0.215669               0.127404    1.0\n",
       "\n",
       "[2587 rows x 4 columns]"
      ]
     },
     "execution_count": 107,
     "metadata": {},
     "output_type": "execute_result"
    }
   ],
   "source": [
    "X_train.iloc[:, selector.get_support()]"
   ]
  },
  {
   "cell_type": "code",
   "execution_count": 108,
   "id": "67f47a74",
   "metadata": {},
   "outputs": [
    {
     "name": "stdout",
     "output_type": "stream",
     "text": [
      "0.9142785170577078\n"
     ]
    }
   ],
   "source": [
    "rf_classifier_stripped = RandomForestClassifier(random_state=42)\n",
    "param_dist = {\n",
    "    'n_estimators': randint(50, 200),\n",
    "    'criterion': ['gini', 'entropy'],\n",
    "    'max_depth': [None, 10, 20, 30],\n",
    "    'min_samples_split': randint(2, 20),\n",
    "    'min_samples_leaf': randint(1, 10),\n",
    "    'max_features': ['auto', 'sqrt', 'log2'],\n",
    "    'bootstrap': [True, False],\n",
    "    'class_weight': [None, 'balanced', 'balanced_subsample'],\n",
    "    'max_samples': uniform(0.1, 0.9),\n",
    "    'ccp_alpha': uniform(0.0, 0.1)\n",
    "}\n",
    "\n",
    "random_search_rf_stripped = RandomizedSearchCV(estimator=rf_classifier_stripped,\n",
    "                                   param_distributions=param_dist,\n",
    "                                   n_iter=10,\n",
    "                                   cv=5,\n",
    "                                   random_state=42, \n",
    "                                  scoring='roc_auc')\n",
    "\n",
    "random_search_rf_stripped.fit(X_train.iloc[:, selector.get_support()], y_train)\n",
    "\n",
    "print(random_search_rf_stripped.best_score_)"
   ]
  },
  {
   "cell_type": "markdown",
   "id": "958a9b8a",
   "metadata": {},
   "source": [
    "Предскажем y_test, используя лучший классификатор:"
   ]
  },
  {
   "cell_type": "code",
   "execution_count": 109,
   "id": "e2b2daf3",
   "metadata": {},
   "outputs": [],
   "source": [
    "y_pred = random_search_rf.best_estimator_.predict_proba(X_test)"
   ]
  },
  {
   "cell_type": "code",
   "execution_count": 110,
   "id": "949a9de4",
   "metadata": {},
   "outputs": [
    {
     "data": {
      "text/plain": [
       "0.921661703115431"
      ]
     },
     "execution_count": 110,
     "metadata": {},
     "output_type": "execute_result"
    }
   ],
   "source": [
    "roc_auc_score(y_test, y_pred[:, 1])"
   ]
  },
  {
   "cell_type": "markdown",
   "id": "0b7a1013",
   "metadata": {},
   "source": [
    "Feature selection has slightly worsened the classification. Therefore, the best model is recognized as the random forest with the following parameters:\n",
    "\n",
    "ccp_alpha=0.017336465350777208\n",
    "criterion='entropy'\n",
    "max_depth=10\n",
    "max_samples=0.48264028704212025\n",
    "min_samples_leaf=6\n",
    "min_samples_split=11\n",
    "n_estimators=53\n",
    "random_state=42\n",
    "This model was trained using all available features."
   ]
  },
  {
   "cell_type": "markdown",
   "id": "f09ad1da",
   "metadata": {},
   "source": [
    "## Conclusion"
   ]
  },
  {
   "cell_type": "markdown",
   "id": "97dad62b",
   "metadata": {},
   "source": [
    "Two tasks were completed:\n",
    "\n",
    "-Build a model that can predict employee job satisfaction based on client data;\n",
    "\n",
    "-Build a model that can predict whether an employee will leave the company based on client data.\n",
    "\n",
    "For the first task, the data was processed (missing values were removed, and data types were changed where necessary), analyzed, and two regressors were trained on this data: linear regression and random forest, with hyperparameter tuning. The random forest was recognized as the best model.\n",
    "\n",
    "Additionally, data analysis revealed a significant pattern: employee satisfaction ratings are almost linearly dependent on the ratings given by their managers.\n",
    "\n",
    "For the second task, the data was prepared similarly. The employee satisfaction level was additionally predicted using the model trained in the previous task.\n",
    "\n",
    "For predicting employee turnover, three classifiers were trained: logistic regression, random forest, and gradient boosting (with hyperparameter tuning). The gradient boosting model was recognized as the best.\n",
    "\n",
    "Data analysis also revealed a key finding: employee satisfaction ratings were significantly lower in the group of employees who left the company. Additionally, in this group, tenure and workload were lower compared to those who remained.\n",
    "\n",
    "From this data analysis, several insights can be extracted for the business: in general, employees who leave are those who have started in new positions but do not feel that their knowledge and skills are valued. To enhance job satisfaction and reduce turnover, it may be beneficial to assign them higher workloads, even if their tenure is minimal—possibly by trusting them with simple projects. Evaluating their performance might also be approached more gently; it could be worthwhile to analyze how ratings are distributed among managers (some may evaluate performance much more strictly than others). It may be advisable to recommend that these stricter managers \"soften\" their evaluations for a trial period."
   ]
  },
  {
   "cell_type": "code",
   "execution_count": null,
   "id": "349f5484",
   "metadata": {},
   "outputs": [],
   "source": []
  }
 ],
 "metadata": {
  "ExecuteTimeLog": [
   {
    "duration": 372,
    "start_time": "2024-03-05T13:51:03.629Z"
   },
   {
    "duration": 108,
    "start_time": "2024-03-05T13:54:19.877Z"
   },
   {
    "duration": 45,
    "start_time": "2024-03-19T12:14:49.629Z"
   },
   {
    "duration": 388,
    "start_time": "2024-03-19T12:14:53.814Z"
   },
   {
    "duration": 45,
    "start_time": "2024-03-19T12:14:56.127Z"
   },
   {
    "duration": 20,
    "start_time": "2024-03-19T12:15:03.022Z"
   },
   {
    "duration": 121,
    "start_time": "2024-03-19T12:16:47.036Z"
   },
   {
    "duration": 114,
    "start_time": "2024-03-19T12:16:58.344Z"
   },
   {
    "duration": 251,
    "start_time": "2024-03-19T12:17:09.509Z"
   },
   {
    "duration": 10,
    "start_time": "2024-03-19T12:21:47.199Z"
   },
   {
    "duration": 9,
    "start_time": "2024-03-19T12:22:31.548Z"
   },
   {
    "duration": 10,
    "start_time": "2024-03-19T12:23:39.845Z"
   },
   {
    "duration": 10,
    "start_time": "2024-03-19T12:23:56.645Z"
   },
   {
    "duration": 5,
    "start_time": "2024-03-19T12:25:12.203Z"
   },
   {
    "duration": 4,
    "start_time": "2024-03-19T12:25:25.495Z"
   },
   {
    "duration": 17,
    "start_time": "2024-03-19T12:26:26.310Z"
   },
   {
    "duration": 16,
    "start_time": "2024-03-19T12:26:49.488Z"
   },
   {
    "duration": 5,
    "start_time": "2024-03-19T12:27:30.877Z"
   },
   {
    "duration": 6,
    "start_time": "2024-03-19T12:28:03.078Z"
   },
   {
    "duration": 6,
    "start_time": "2024-03-19T12:28:12.333Z"
   },
   {
    "duration": 9,
    "start_time": "2024-03-19T12:28:40.616Z"
   },
   {
    "duration": 3,
    "start_time": "2024-03-19T12:29:03.245Z"
   },
   {
    "duration": 127,
    "start_time": "2024-03-19T12:29:15.529Z"
   },
   {
    "duration": 13,
    "start_time": "2024-03-19T12:29:16.100Z"
   },
   {
    "duration": 14,
    "start_time": "2024-03-19T12:29:16.399Z"
   },
   {
    "duration": 15,
    "start_time": "2024-03-19T12:29:16.748Z"
   },
   {
    "duration": 10,
    "start_time": "2024-03-19T12:29:17.177Z"
   },
   {
    "duration": 5,
    "start_time": "2024-03-19T12:29:17.621Z"
   },
   {
    "duration": 6,
    "start_time": "2024-03-19T12:29:18.071Z"
   },
   {
    "duration": 8,
    "start_time": "2024-03-19T12:29:19.043Z"
   },
   {
    "duration": 15,
    "start_time": "2024-03-19T12:29:34.742Z"
   },
   {
    "duration": 11,
    "start_time": "2024-03-19T12:30:38.067Z"
   },
   {
    "duration": 10,
    "start_time": "2024-03-19T12:30:44.699Z"
   },
   {
    "duration": 6,
    "start_time": "2024-03-19T12:30:57.757Z"
   },
   {
    "duration": 11,
    "start_time": "2024-03-19T12:31:15.272Z"
   },
   {
    "duration": 7,
    "start_time": "2024-03-19T12:31:29.069Z"
   },
   {
    "duration": 6,
    "start_time": "2024-03-19T12:31:56.931Z"
   },
   {
    "duration": 4,
    "start_time": "2024-03-19T12:32:04.286Z"
   },
   {
    "duration": 8,
    "start_time": "2024-03-19T12:32:32.443Z"
   },
   {
    "duration": 16,
    "start_time": "2024-03-19T12:32:39.632Z"
   },
   {
    "duration": 8,
    "start_time": "2024-03-19T12:34:19.449Z"
   },
   {
    "duration": 8,
    "start_time": "2024-03-19T12:34:28.557Z"
   },
   {
    "duration": 10,
    "start_time": "2024-03-19T12:36:18.450Z"
   },
   {
    "duration": 9,
    "start_time": "2024-03-19T12:36:34.323Z"
   },
   {
    "duration": 3,
    "start_time": "2024-03-19T12:36:46.175Z"
   },
   {
    "duration": 9,
    "start_time": "2024-03-19T12:36:47.436Z"
   },
   {
    "duration": 21,
    "start_time": "2024-03-19T12:38:10.282Z"
   },
   {
    "duration": 17,
    "start_time": "2024-03-19T12:39:30.630Z"
   },
   {
    "duration": 5,
    "start_time": "2024-03-19T12:40:26.494Z"
   },
   {
    "duration": 12,
    "start_time": "2024-03-19T12:40:32.341Z"
   },
   {
    "duration": 11,
    "start_time": "2024-03-19T12:41:21.018Z"
   },
   {
    "duration": 12,
    "start_time": "2024-03-19T12:41:31.358Z"
   },
   {
    "duration": 1364,
    "start_time": "2024-03-19T12:42:21.298Z"
   },
   {
    "duration": 490,
    "start_time": "2024-03-19T12:42:46.427Z"
   },
   {
    "duration": 431,
    "start_time": "2024-03-19T12:43:27.905Z"
   },
   {
    "duration": 38,
    "start_time": "2024-03-19T13:04:54.227Z"
   },
   {
    "duration": 4,
    "start_time": "2024-03-19T13:04:59.303Z"
   },
   {
    "duration": 14,
    "start_time": "2024-03-19T13:05:30.586Z"
   },
   {
    "duration": 3,
    "start_time": "2024-03-19T13:05:54.667Z"
   },
   {
    "duration": 8,
    "start_time": "2024-03-19T13:06:47.368Z"
   },
   {
    "duration": 240,
    "start_time": "2024-03-19T13:07:27.259Z"
   },
   {
    "duration": 4,
    "start_time": "2024-03-19T13:07:44.210Z"
   },
   {
    "duration": 3,
    "start_time": "2024-03-19T13:08:54.551Z"
   },
   {
    "duration": 26,
    "start_time": "2024-03-19T13:09:51.069Z"
   },
   {
    "duration": 22,
    "start_time": "2024-03-19T13:10:05.824Z"
   },
   {
    "duration": 8,
    "start_time": "2024-03-19T13:11:21.753Z"
   },
   {
    "duration": 18,
    "start_time": "2024-03-19T13:11:28.481Z"
   },
   {
    "duration": 8,
    "start_time": "2024-03-19T13:11:33.187Z"
   },
   {
    "duration": 9,
    "start_time": "2024-03-19T13:11:46.270Z"
   },
   {
    "duration": 7,
    "start_time": "2024-03-19T13:11:51.484Z"
   },
   {
    "duration": 7,
    "start_time": "2024-03-19T13:12:18.827Z"
   },
   {
    "duration": 8,
    "start_time": "2024-03-19T13:13:37.881Z"
   },
   {
    "duration": 9,
    "start_time": "2024-03-19T13:13:47.274Z"
   },
   {
    "duration": 2,
    "start_time": "2024-03-19T13:14:03.385Z"
   },
   {
    "duration": 4,
    "start_time": "2024-03-19T13:14:03.825Z"
   },
   {
    "duration": 22,
    "start_time": "2024-03-19T13:14:04.554Z"
   },
   {
    "duration": 4,
    "start_time": "2024-03-19T13:14:07.758Z"
   },
   {
    "duration": 2,
    "start_time": "2024-03-19T13:15:46.436Z"
   },
   {
    "duration": 2,
    "start_time": "2024-03-19T13:16:20.281Z"
   },
   {
    "duration": 3,
    "start_time": "2024-03-19T13:16:24.537Z"
   },
   {
    "duration": 20,
    "start_time": "2024-03-19T13:16:36.267Z"
   },
   {
    "duration": 21,
    "start_time": "2024-03-19T13:16:40.238Z"
   },
   {
    "duration": 12,
    "start_time": "2024-03-19T13:18:13.654Z"
   },
   {
    "duration": 21,
    "start_time": "2024-03-19T13:19:04.623Z"
   },
   {
    "duration": 13,
    "start_time": "2024-03-19T13:19:07.899Z"
   },
   {
    "duration": 21,
    "start_time": "2024-03-19T13:19:31.625Z"
   },
   {
    "duration": 13,
    "start_time": "2024-03-19T13:19:32.172Z"
   },
   {
    "duration": 11,
    "start_time": "2024-03-19T13:19:52.458Z"
   },
   {
    "duration": 13,
    "start_time": "2024-03-19T13:20:47.627Z"
   },
   {
    "duration": 21,
    "start_time": "2024-03-19T13:20:57.170Z"
   },
   {
    "duration": 19,
    "start_time": "2024-03-19T13:21:02.788Z"
   },
   {
    "duration": 2,
    "start_time": "2024-03-19T13:21:54.293Z"
   },
   {
    "duration": 2,
    "start_time": "2024-03-19T13:21:54.857Z"
   },
   {
    "duration": 3,
    "start_time": "2024-03-19T13:21:55.373Z"
   },
   {
    "duration": 2,
    "start_time": "2024-03-19T13:22:07.128Z"
   },
   {
    "duration": 3,
    "start_time": "2024-03-19T13:22:07.497Z"
   },
   {
    "duration": 3,
    "start_time": "2024-03-19T13:22:07.836Z"
   },
   {
    "duration": 22,
    "start_time": "2024-03-19T13:22:35.211Z"
   },
   {
    "duration": 23,
    "start_time": "2024-03-19T13:22:36.608Z"
   },
   {
    "duration": 5,
    "start_time": "2024-03-19T13:26:27.439Z"
   },
   {
    "duration": 21,
    "start_time": "2024-03-19T13:28:31.948Z"
   },
   {
    "duration": 12,
    "start_time": "2024-03-19T13:28:55.248Z"
   },
   {
    "duration": 4,
    "start_time": "2024-03-19T13:29:07.429Z"
   },
   {
    "duration": 5,
    "start_time": "2024-03-19T13:35:06.380Z"
   },
   {
    "duration": 4,
    "start_time": "2024-03-19T13:35:28.846Z"
   },
   {
    "duration": 1214,
    "start_time": "2024-03-19T13:36:01.858Z"
   },
   {
    "duration": 255,
    "start_time": "2024-03-19T13:36:03.074Z"
   },
   {
    "duration": 11,
    "start_time": "2024-03-19T13:36:03.331Z"
   },
   {
    "duration": 26,
    "start_time": "2024-03-19T13:36:03.344Z"
   },
   {
    "duration": 22,
    "start_time": "2024-03-19T13:36:03.371Z"
   },
   {
    "duration": 24,
    "start_time": "2024-03-19T13:36:03.394Z"
   },
   {
    "duration": 8,
    "start_time": "2024-03-19T13:36:03.419Z"
   },
   {
    "duration": 8,
    "start_time": "2024-03-19T13:36:03.428Z"
   },
   {
    "duration": 5,
    "start_time": "2024-03-19T13:36:03.437Z"
   },
   {
    "duration": 9,
    "start_time": "2024-03-19T13:36:03.444Z"
   },
   {
    "duration": 12,
    "start_time": "2024-03-19T13:36:03.454Z"
   },
   {
    "duration": 8,
    "start_time": "2024-03-19T13:36:03.468Z"
   },
   {
    "duration": 28,
    "start_time": "2024-03-19T13:36:03.476Z"
   },
   {
    "duration": 8,
    "start_time": "2024-03-19T13:36:03.506Z"
   },
   {
    "duration": 5,
    "start_time": "2024-03-19T13:36:03.515Z"
   },
   {
    "duration": 20,
    "start_time": "2024-03-19T13:36:03.521Z"
   },
   {
    "duration": 5,
    "start_time": "2024-03-19T13:36:03.542Z"
   },
   {
    "duration": 9,
    "start_time": "2024-03-19T13:36:03.548Z"
   },
   {
    "duration": 8,
    "start_time": "2024-03-19T13:36:03.559Z"
   },
   {
    "duration": 34,
    "start_time": "2024-03-19T13:36:03.568Z"
   },
   {
    "duration": 5,
    "start_time": "2024-03-19T13:36:03.604Z"
   },
   {
    "duration": 18,
    "start_time": "2024-03-19T13:36:03.611Z"
   },
   {
    "duration": 10,
    "start_time": "2024-03-19T13:36:03.630Z"
   },
   {
    "duration": 15,
    "start_time": "2024-03-19T13:36:03.641Z"
   },
   {
    "duration": 23,
    "start_time": "2024-03-19T13:36:03.657Z"
   },
   {
    "duration": 29,
    "start_time": "2024-03-19T13:36:03.682Z"
   },
   {
    "duration": 12,
    "start_time": "2024-03-19T13:36:03.713Z"
   },
   {
    "duration": 569,
    "start_time": "2024-03-19T13:36:03.728Z"
   },
   {
    "duration": 430,
    "start_time": "2024-03-19T13:36:04.299Z"
   },
   {
    "duration": 2,
    "start_time": "2024-03-19T13:36:04.731Z"
   },
   {
    "duration": 26,
    "start_time": "2024-03-19T13:36:04.735Z"
   },
   {
    "duration": 23,
    "start_time": "2024-03-19T13:36:04.762Z"
   },
   {
    "duration": 15,
    "start_time": "2024-03-19T13:36:04.787Z"
   },
   {
    "duration": 954,
    "start_time": "2024-03-19T13:36:04.803Z"
   },
   {
    "duration": 0,
    "start_time": "2024-03-19T13:36:05.758Z"
   },
   {
    "duration": 1303,
    "start_time": "2024-03-19T13:36:43.576Z"
   },
   {
    "duration": 106,
    "start_time": "2024-03-19T13:36:44.880Z"
   },
   {
    "duration": 14,
    "start_time": "2024-03-19T13:36:44.987Z"
   },
   {
    "duration": 22,
    "start_time": "2024-03-19T13:36:45.003Z"
   },
   {
    "duration": 36,
    "start_time": "2024-03-19T13:36:45.026Z"
   },
   {
    "duration": 79,
    "start_time": "2024-03-19T13:36:45.063Z"
   },
   {
    "duration": 40,
    "start_time": "2024-03-19T13:36:45.143Z"
   },
   {
    "duration": 39,
    "start_time": "2024-03-19T13:36:45.185Z"
   },
   {
    "duration": 39,
    "start_time": "2024-03-19T13:36:45.225Z"
   },
   {
    "duration": 37,
    "start_time": "2024-03-19T13:36:45.267Z"
   },
   {
    "duration": 35,
    "start_time": "2024-03-19T13:36:45.305Z"
   },
   {
    "duration": 19,
    "start_time": "2024-03-19T13:36:45.342Z"
   },
   {
    "duration": 47,
    "start_time": "2024-03-19T13:36:45.363Z"
   },
   {
    "duration": 63,
    "start_time": "2024-03-19T13:36:45.412Z"
   },
   {
    "duration": 30,
    "start_time": "2024-03-19T13:36:45.476Z"
   },
   {
    "duration": 64,
    "start_time": "2024-03-19T13:36:45.507Z"
   },
   {
    "duration": 22,
    "start_time": "2024-03-19T13:36:45.572Z"
   },
   {
    "duration": 23,
    "start_time": "2024-03-19T13:36:45.596Z"
   },
   {
    "duration": 24,
    "start_time": "2024-03-19T13:36:45.620Z"
   },
   {
    "duration": 18,
    "start_time": "2024-03-19T13:36:45.645Z"
   },
   {
    "duration": 13,
    "start_time": "2024-03-19T13:36:45.664Z"
   },
   {
    "duration": 21,
    "start_time": "2024-03-19T13:36:45.679Z"
   },
   {
    "duration": 8,
    "start_time": "2024-03-19T13:36:45.702Z"
   },
   {
    "duration": 14,
    "start_time": "2024-03-19T13:36:45.711Z"
   },
   {
    "duration": 60,
    "start_time": "2024-03-19T13:36:45.726Z"
   },
   {
    "duration": 21,
    "start_time": "2024-03-19T13:36:45.787Z"
   },
   {
    "duration": 34,
    "start_time": "2024-03-19T13:36:45.809Z"
   },
   {
    "duration": 537,
    "start_time": "2024-03-19T13:36:45.846Z"
   },
   {
    "duration": 470,
    "start_time": "2024-03-19T13:36:46.390Z"
   },
   {
    "duration": 2,
    "start_time": "2024-03-19T13:36:46.862Z"
   },
   {
    "duration": 34,
    "start_time": "2024-03-19T13:36:46.866Z"
   },
   {
    "duration": 51,
    "start_time": "2024-03-19T13:36:46.901Z"
   },
   {
    "duration": 14,
    "start_time": "2024-03-19T13:36:46.954Z"
   },
   {
    "duration": 39,
    "start_time": "2024-03-19T13:36:46.970Z"
   },
   {
    "duration": 5,
    "start_time": "2024-03-19T13:36:47.010Z"
   },
   {
    "duration": 8,
    "start_time": "2024-03-19T13:37:06.924Z"
   },
   {
    "duration": 15,
    "start_time": "2024-03-19T13:37:19.284Z"
   },
   {
    "duration": 5,
    "start_time": "2024-03-19T13:37:28.572Z"
   },
   {
    "duration": 102,
    "start_time": "2024-03-19T13:37:39.284Z"
   },
   {
    "duration": 6,
    "start_time": "2024-03-19T13:37:44.193Z"
   },
   {
    "duration": 4,
    "start_time": "2024-03-19T13:38:13.388Z"
   },
   {
    "duration": 3,
    "start_time": "2024-03-19T15:26:08.993Z"
   },
   {
    "duration": 11,
    "start_time": "2024-03-19T15:26:45.032Z"
   },
   {
    "duration": 30,
    "start_time": "2024-03-19T15:26:58.818Z"
   },
   {
    "duration": 8,
    "start_time": "2024-03-19T15:27:56.248Z"
   },
   {
    "duration": 4,
    "start_time": "2024-03-19T15:28:10.414Z"
   },
   {
    "duration": 11,
    "start_time": "2024-03-19T15:28:14.445Z"
   },
   {
    "duration": 8,
    "start_time": "2024-03-19T15:28:39.104Z"
   },
   {
    "duration": 3,
    "start_time": "2024-03-19T15:28:42.332Z"
   },
   {
    "duration": 3,
    "start_time": "2024-03-19T15:32:29.357Z"
   },
   {
    "duration": 7,
    "start_time": "2024-03-19T15:32:41.291Z"
   },
   {
    "duration": 22,
    "start_time": "2024-03-19T15:32:49.798Z"
   },
   {
    "duration": 5,
    "start_time": "2024-03-19T15:32:50.289Z"
   },
   {
    "duration": 73,
    "start_time": "2024-03-19T15:35:40.078Z"
   },
   {
    "duration": 13,
    "start_time": "2024-03-19T15:35:44.064Z"
   },
   {
    "duration": 3,
    "start_time": "2024-03-19T15:35:50.980Z"
   },
   {
    "duration": 12,
    "start_time": "2024-03-19T15:35:58.328Z"
   },
   {
    "duration": 3,
    "start_time": "2024-03-19T15:36:16.092Z"
   },
   {
    "duration": 671,
    "start_time": "2024-03-19T15:36:20.820Z"
   },
   {
    "duration": 4,
    "start_time": "2024-03-19T15:36:26.255Z"
   },
   {
    "duration": 3,
    "start_time": "2024-03-19T15:38:08.913Z"
   },
   {
    "duration": 8,
    "start_time": "2024-03-19T15:38:09.457Z"
   },
   {
    "duration": 4,
    "start_time": "2024-03-19T15:38:21.912Z"
   },
   {
    "duration": 290798,
    "start_time": "2024-03-19T15:38:25.694Z"
   },
   {
    "duration": 0,
    "start_time": "2024-03-19T15:43:16.493Z"
   },
   {
    "duration": 5,
    "start_time": "2024-03-19T15:43:20.819Z"
   },
   {
    "duration": 3,
    "start_time": "2024-03-19T15:43:26.927Z"
   },
   {
    "duration": 280557,
    "start_time": "2024-03-19T15:43:28.819Z"
   },
   {
    "duration": 3,
    "start_time": "2024-03-19T15:48:32.297Z"
   },
   {
    "duration": 290,
    "start_time": "2024-03-19T15:49:13.652Z"
   },
   {
    "duration": 4,
    "start_time": "2024-03-19T15:49:14.889Z"
   },
   {
    "duration": 4,
    "start_time": "2024-03-19T15:49:46.130Z"
   },
   {
    "duration": 4,
    "start_time": "2024-03-19T15:49:54.124Z"
   },
   {
    "duration": 322,
    "start_time": "2024-03-19T15:51:41.089Z"
   },
   {
    "duration": 4,
    "start_time": "2024-03-19T15:51:41.486Z"
   },
   {
    "duration": 5,
    "start_time": "2024-03-19T15:51:59.907Z"
   },
   {
    "duration": 12762,
    "start_time": "2024-03-19T15:53:42.704Z"
   },
   {
    "duration": 90539,
    "start_time": "2024-03-19T15:54:00.097Z"
   },
   {
    "duration": 2,
    "start_time": "2024-03-19T15:55:32.141Z"
   },
   {
    "duration": 7528,
    "start_time": "2024-03-19T15:55:32.912Z"
   },
   {
    "duration": 4,
    "start_time": "2024-03-19T15:55:43.712Z"
   },
   {
    "duration": 8,
    "start_time": "2024-03-19T15:55:53.784Z"
   },
   {
    "duration": 8305,
    "start_time": "2024-03-19T15:56:00.727Z"
   },
   {
    "duration": 3,
    "start_time": "2024-03-19T15:56:09.034Z"
   },
   {
    "duration": 33,
    "start_time": "2024-03-19T15:56:25.617Z"
   },
   {
    "duration": 3,
    "start_time": "2024-03-19T15:57:33.212Z"
   },
   {
    "duration": 592834,
    "start_time": "2024-03-19T15:57:36.174Z"
   },
   {
    "duration": 4,
    "start_time": "2024-03-19T16:07:29.016Z"
   },
   {
    "duration": 105,
    "start_time": "2024-03-19T16:08:03.472Z"
   },
   {
    "duration": 5,
    "start_time": "2024-03-19T16:08:17.174Z"
   },
   {
    "duration": 113,
    "start_time": "2024-03-19T16:08:32.036Z"
   },
   {
    "duration": 12,
    "start_time": "2024-03-19T16:08:57.913Z"
   },
   {
    "duration": 105,
    "start_time": "2024-03-19T16:09:03.349Z"
   },
   {
    "duration": 4,
    "start_time": "2024-03-19T16:09:05.249Z"
   },
   {
    "duration": 1696,
    "start_time": "2024-03-19T18:34:39.440Z"
   },
   {
    "duration": 95,
    "start_time": "2024-03-19T18:35:23.942Z"
   },
   {
    "duration": 292,
    "start_time": "2024-03-19T18:36:07.751Z"
   },
   {
    "duration": 24,
    "start_time": "2024-03-19T18:36:13.418Z"
   },
   {
    "duration": 151,
    "start_time": "2024-03-19T18:37:32.277Z"
   },
   {
    "duration": 15,
    "start_time": "2024-03-19T18:37:34.364Z"
   },
   {
    "duration": 129,
    "start_time": "2024-03-19T18:37:44.489Z"
   },
   {
    "duration": 11,
    "start_time": "2024-03-19T18:38:10.249Z"
   },
   {
    "duration": 13,
    "start_time": "2024-03-19T18:38:16.416Z"
   },
   {
    "duration": 103,
    "start_time": "2024-03-19T18:39:47.518Z"
   },
   {
    "duration": 112,
    "start_time": "2024-03-19T18:39:51.181Z"
   },
   {
    "duration": 22,
    "start_time": "2024-03-19T18:39:57.780Z"
   },
   {
    "duration": 30,
    "start_time": "2024-03-19T18:40:10.150Z"
   },
   {
    "duration": 21,
    "start_time": "2024-03-19T18:40:27.925Z"
   },
   {
    "duration": 4,
    "start_time": "2024-03-19T18:41:14.940Z"
   },
   {
    "duration": 54,
    "start_time": "2024-03-19T18:42:34.978Z"
   },
   {
    "duration": 4,
    "start_time": "2024-03-19T18:43:05.213Z"
   },
   {
    "duration": 5,
    "start_time": "2024-03-19T18:43:17.705Z"
   },
   {
    "duration": 17,
    "start_time": "2024-03-19T18:43:22.473Z"
   },
   {
    "duration": 4,
    "start_time": "2024-03-19T18:43:29.044Z"
   },
   {
    "duration": 12,
    "start_time": "2024-03-19T18:43:41.434Z"
   },
   {
    "duration": 29,
    "start_time": "2024-03-19T18:43:51.645Z"
   },
   {
    "duration": 14,
    "start_time": "2024-03-19T18:44:08.483Z"
   },
   {
    "duration": 16,
    "start_time": "2024-03-19T18:44:12.904Z"
   },
   {
    "duration": 11,
    "start_time": "2024-03-19T18:44:24.194Z"
   },
   {
    "duration": 24,
    "start_time": "2024-03-19T18:47:56.037Z"
   },
   {
    "duration": 8,
    "start_time": "2024-03-19T18:49:37.682Z"
   },
   {
    "duration": 8,
    "start_time": "2024-03-19T18:49:43.589Z"
   },
   {
    "duration": 6,
    "start_time": "2024-03-19T18:49:52.757Z"
   },
   {
    "duration": 13,
    "start_time": "2024-03-19T18:52:22.802Z"
   },
   {
    "duration": 20,
    "start_time": "2024-03-19T18:53:36.652Z"
   },
   {
    "duration": 15,
    "start_time": "2024-03-19T18:53:53.700Z"
   },
   {
    "duration": 5,
    "start_time": "2024-03-19T18:55:36.942Z"
   },
   {
    "duration": 14,
    "start_time": "2024-03-19T18:55:46.005Z"
   },
   {
    "duration": 4,
    "start_time": "2024-03-19T18:55:53.412Z"
   },
   {
    "duration": 3,
    "start_time": "2024-03-19T18:56:38.085Z"
   },
   {
    "duration": 164,
    "start_time": "2024-03-19T18:56:53.602Z"
   },
   {
    "duration": 381,
    "start_time": "2024-03-19T18:57:05.808Z"
   },
   {
    "duration": 424,
    "start_time": "2024-03-19T18:58:20.510Z"
   },
   {
    "duration": 445,
    "start_time": "2024-03-19T18:58:49.748Z"
   },
   {
    "duration": 265,
    "start_time": "2024-03-19T19:00:09.640Z"
   },
   {
    "duration": 2073,
    "start_time": "2024-03-19T19:01:03.086Z"
   },
   {
    "duration": 2219,
    "start_time": "2024-03-19T19:01:16.910Z"
   },
   {
    "duration": 3247,
    "start_time": "2024-03-19T19:01:55.470Z"
   },
   {
    "duration": 3376,
    "start_time": "2024-03-19T19:02:08.571Z"
   },
   {
    "duration": 3340,
    "start_time": "2024-03-19T19:03:14.550Z"
   },
   {
    "duration": 172,
    "start_time": "2024-03-19T19:08:58.196Z"
   },
   {
    "duration": 15,
    "start_time": "2024-03-19T19:08:59.093Z"
   },
   {
    "duration": 12,
    "start_time": "2024-03-19T19:08:59.551Z"
   },
   {
    "duration": 13,
    "start_time": "2024-03-19T19:08:59.986Z"
   },
   {
    "duration": 11,
    "start_time": "2024-03-19T19:09:00.482Z"
   },
   {
    "duration": 6,
    "start_time": "2024-03-19T19:09:00.888Z"
   },
   {
    "duration": 6,
    "start_time": "2024-03-19T19:09:01.331Z"
   },
   {
    "duration": 6,
    "start_time": "2024-03-19T19:09:01.786Z"
   },
   {
    "duration": 9,
    "start_time": "2024-03-19T19:09:03.196Z"
   },
   {
    "duration": 18,
    "start_time": "2024-03-19T19:09:03.750Z"
   },
   {
    "duration": 10,
    "start_time": "2024-03-19T19:09:04.969Z"
   },
   {
    "duration": 12,
    "start_time": "2024-03-19T19:09:05.730Z"
   },
   {
    "duration": 11,
    "start_time": "2024-03-19T19:09:06.190Z"
   },
   {
    "duration": 6,
    "start_time": "2024-03-19T19:09:06.592Z"
   },
   {
    "duration": 11,
    "start_time": "2024-03-19T19:09:06.905Z"
   },
   {
    "duration": 5,
    "start_time": "2024-03-19T19:09:07.249Z"
   },
   {
    "duration": 6,
    "start_time": "2024-03-19T19:09:07.661Z"
   },
   {
    "duration": 12,
    "start_time": "2024-03-19T19:09:08.353Z"
   },
   {
    "duration": 15,
    "start_time": "2024-03-19T19:09:08.719Z"
   },
   {
    "duration": 8,
    "start_time": "2024-03-19T19:09:10.622Z"
   },
   {
    "duration": 10,
    "start_time": "2024-03-19T19:09:11.458Z"
   },
   {
    "duration": 5,
    "start_time": "2024-03-19T19:09:12.861Z"
   },
   {
    "duration": 11,
    "start_time": "2024-03-19T19:09:13.248Z"
   },
   {
    "duration": 152,
    "start_time": "2024-03-19T19:09:17.571Z"
   },
   {
    "duration": 20,
    "start_time": "2024-03-19T19:09:18.099Z"
   },
   {
    "duration": 27,
    "start_time": "2024-03-19T19:09:18.383Z"
   },
   {
    "duration": 11,
    "start_time": "2024-03-19T19:09:18.938Z"
   },
   {
    "duration": 8,
    "start_time": "2024-03-19T19:09:19.902Z"
   },
   {
    "duration": 6,
    "start_time": "2024-03-19T19:09:20.274Z"
   },
   {
    "duration": 12,
    "start_time": "2024-03-19T19:09:20.680Z"
   },
   {
    "duration": 3434,
    "start_time": "2024-03-19T19:09:21.543Z"
   },
   {
    "duration": 19,
    "start_time": "2024-03-19T19:09:26.977Z"
   },
   {
    "duration": 11,
    "start_time": "2024-03-19T19:09:37.970Z"
   },
   {
    "duration": 17,
    "start_time": "2024-03-19T19:09:44.455Z"
   },
   {
    "duration": 5,
    "start_time": "2024-03-19T19:10:29.603Z"
   },
   {
    "duration": 8,
    "start_time": "2024-03-19T19:10:38.867Z"
   },
   {
    "duration": 9,
    "start_time": "2024-03-19T19:12:42.825Z"
   },
   {
    "duration": 5,
    "start_time": "2024-03-19T19:12:54.181Z"
   },
   {
    "duration": 5,
    "start_time": "2024-03-19T19:13:07.681Z"
   },
   {
    "duration": 8,
    "start_time": "2024-03-19T19:13:10.474Z"
   },
   {
    "duration": 5,
    "start_time": "2024-03-19T19:13:20.269Z"
   },
   {
    "duration": 9,
    "start_time": "2024-03-19T19:13:22.787Z"
   },
   {
    "duration": 5,
    "start_time": "2024-03-19T19:13:31.983Z"
   },
   {
    "duration": 6,
    "start_time": "2024-03-19T19:13:48.999Z"
   },
   {
    "duration": 6,
    "start_time": "2024-03-19T19:13:56.781Z"
   },
   {
    "duration": 18,
    "start_time": "2024-03-19T19:14:42.383Z"
   },
   {
    "duration": 13,
    "start_time": "2024-03-19T19:15:03.139Z"
   },
   {
    "duration": 5,
    "start_time": "2024-03-19T19:15:16.418Z"
   },
   {
    "duration": 9,
    "start_time": "2024-03-19T19:15:30.880Z"
   },
   {
    "duration": 11,
    "start_time": "2024-03-19T19:15:40.206Z"
   },
   {
    "duration": 8,
    "start_time": "2024-03-19T19:15:49.612Z"
   },
   {
    "duration": 8,
    "start_time": "2024-03-19T19:15:58.585Z"
   },
   {
    "duration": 16,
    "start_time": "2024-03-19T19:16:01.866Z"
   },
   {
    "duration": 9,
    "start_time": "2024-03-19T19:16:28.483Z"
   },
   {
    "duration": 1621,
    "start_time": "2024-03-19T19:16:47.519Z"
   },
   {
    "duration": 1446,
    "start_time": "2024-03-19T19:17:14.912Z"
   },
   {
    "duration": 277,
    "start_time": "2024-03-19T19:17:16.359Z"
   },
   {
    "duration": 16,
    "start_time": "2024-03-19T19:17:16.637Z"
   },
   {
    "duration": 23,
    "start_time": "2024-03-19T19:17:16.654Z"
   },
   {
    "duration": 20,
    "start_time": "2024-03-19T19:17:16.679Z"
   },
   {
    "duration": 19,
    "start_time": "2024-03-19T19:17:16.700Z"
   },
   {
    "duration": 37,
    "start_time": "2024-03-19T19:17:16.720Z"
   },
   {
    "duration": 45,
    "start_time": "2024-03-19T19:17:16.758Z"
   },
   {
    "duration": 33,
    "start_time": "2024-03-19T19:17:16.805Z"
   },
   {
    "duration": 27,
    "start_time": "2024-03-19T19:17:16.841Z"
   },
   {
    "duration": 40,
    "start_time": "2024-03-19T19:17:16.869Z"
   },
   {
    "duration": 18,
    "start_time": "2024-03-19T19:17:16.910Z"
   },
   {
    "duration": 38,
    "start_time": "2024-03-19T19:17:16.929Z"
   },
   {
    "duration": 16,
    "start_time": "2024-03-19T19:17:16.969Z"
   },
   {
    "duration": 20,
    "start_time": "2024-03-19T19:17:16.987Z"
   },
   {
    "duration": 34,
    "start_time": "2024-03-19T19:17:17.008Z"
   },
   {
    "duration": 20,
    "start_time": "2024-03-19T19:17:17.044Z"
   },
   {
    "duration": 30,
    "start_time": "2024-03-19T19:17:17.066Z"
   },
   {
    "duration": 21,
    "start_time": "2024-03-19T19:17:17.098Z"
   },
   {
    "duration": 32,
    "start_time": "2024-03-19T19:17:17.121Z"
   },
   {
    "duration": 20,
    "start_time": "2024-03-19T19:17:17.154Z"
   },
   {
    "duration": 33,
    "start_time": "2024-03-19T19:17:17.176Z"
   },
   {
    "duration": 9,
    "start_time": "2024-03-19T19:17:17.212Z"
   },
   {
    "duration": 28,
    "start_time": "2024-03-19T19:17:17.223Z"
   },
   {
    "duration": 31,
    "start_time": "2024-03-19T19:17:17.253Z"
   },
   {
    "duration": 21,
    "start_time": "2024-03-19T19:17:17.285Z"
   },
   {
    "duration": 14,
    "start_time": "2024-03-19T19:17:17.308Z"
   },
   {
    "duration": 672,
    "start_time": "2024-03-19T19:17:17.327Z"
   },
   {
    "duration": 493,
    "start_time": "2024-03-19T19:17:18.001Z"
   },
   {
    "duration": 3,
    "start_time": "2024-03-19T19:17:18.495Z"
   },
   {
    "duration": 6,
    "start_time": "2024-03-19T19:17:18.499Z"
   },
   {
    "duration": 29,
    "start_time": "2024-03-19T19:17:18.506Z"
   },
   {
    "duration": 36,
    "start_time": "2024-03-19T19:17:18.537Z"
   },
   {
    "duration": 16,
    "start_time": "2024-03-19T19:17:18.575Z"
   },
   {
    "duration": 3,
    "start_time": "2024-03-19T19:17:18.593Z"
   },
   {
    "duration": 175,
    "start_time": "2024-03-19T19:17:18.598Z"
   },
   {
    "duration": 9,
    "start_time": "2024-03-19T19:17:18.775Z"
   },
   {
    "duration": 1230,
    "start_time": "2024-03-19T19:17:18.786Z"
   },
   {
    "duration": 4,
    "start_time": "2024-03-19T19:17:20.072Z"
   },
   {
    "duration": 34163,
    "start_time": "2024-03-19T19:17:20.078Z"
   },
   {
    "duration": 0,
    "start_time": "2024-03-19T19:17:54.242Z"
   },
   {
    "duration": 0,
    "start_time": "2024-03-19T19:17:54.244Z"
   },
   {
    "duration": 0,
    "start_time": "2024-03-19T19:17:54.244Z"
   },
   {
    "duration": 0,
    "start_time": "2024-03-19T19:17:54.245Z"
   },
   {
    "duration": 0,
    "start_time": "2024-03-19T19:17:54.246Z"
   },
   {
    "duration": 0,
    "start_time": "2024-03-19T19:17:54.247Z"
   },
   {
    "duration": 0,
    "start_time": "2024-03-19T19:17:54.248Z"
   },
   {
    "duration": 0,
    "start_time": "2024-03-19T19:17:54.249Z"
   },
   {
    "duration": 0,
    "start_time": "2024-03-19T19:17:54.250Z"
   },
   {
    "duration": 0,
    "start_time": "2024-03-19T19:17:54.251Z"
   },
   {
    "duration": 0,
    "start_time": "2024-03-19T19:17:54.252Z"
   },
   {
    "duration": 0,
    "start_time": "2024-03-19T19:17:54.253Z"
   },
   {
    "duration": 145,
    "start_time": "2024-03-19T19:17:56.000Z"
   },
   {
    "duration": 22,
    "start_time": "2024-03-19T19:17:56.458Z"
   },
   {
    "duration": 27,
    "start_time": "2024-03-19T19:17:56.684Z"
   },
   {
    "duration": 11,
    "start_time": "2024-03-19T19:17:56.925Z"
   },
   {
    "duration": 9,
    "start_time": "2024-03-19T19:17:58.127Z"
   },
   {
    "duration": 5,
    "start_time": "2024-03-19T19:17:58.589Z"
   },
   {
    "duration": 12,
    "start_time": "2024-03-19T19:17:59.163Z"
   },
   {
    "duration": 3457,
    "start_time": "2024-03-19T19:18:01.379Z"
   },
   {
    "duration": 12,
    "start_time": "2024-03-19T19:18:04.839Z"
   },
   {
    "duration": 271,
    "start_time": "2024-03-19T19:19:10.503Z"
   },
   {
    "duration": 424,
    "start_time": "2024-03-19T19:19:19.165Z"
   },
   {
    "duration": 18,
    "start_time": "2024-03-19T19:23:22.678Z"
   },
   {
    "duration": 14,
    "start_time": "2024-03-19T19:25:20.424Z"
   },
   {
    "duration": 10,
    "start_time": "2024-03-19T19:25:42.088Z"
   },
   {
    "duration": 5,
    "start_time": "2024-03-19T19:26:24.182Z"
   },
   {
    "duration": 16,
    "start_time": "2024-03-19T19:26:32.614Z"
   },
   {
    "duration": 7,
    "start_time": "2024-03-19T19:26:46.833Z"
   },
   {
    "duration": 1570,
    "start_time": "2024-03-19T19:27:30.091Z"
   },
   {
    "duration": 129,
    "start_time": "2024-03-19T19:27:31.663Z"
   },
   {
    "duration": 18,
    "start_time": "2024-03-19T19:27:31.793Z"
   },
   {
    "duration": 49,
    "start_time": "2024-03-19T19:27:31.814Z"
   },
   {
    "duration": 33,
    "start_time": "2024-03-19T19:27:31.865Z"
   },
   {
    "duration": 51,
    "start_time": "2024-03-19T19:27:31.900Z"
   },
   {
    "duration": 25,
    "start_time": "2024-03-19T19:27:31.953Z"
   },
   {
    "duration": 27,
    "start_time": "2024-03-19T19:27:31.980Z"
   },
   {
    "duration": 38,
    "start_time": "2024-03-19T19:27:32.009Z"
   },
   {
    "duration": 31,
    "start_time": "2024-03-19T19:27:32.050Z"
   },
   {
    "duration": 50,
    "start_time": "2024-03-19T19:27:32.083Z"
   },
   {
    "duration": 30,
    "start_time": "2024-03-19T19:27:32.135Z"
   },
   {
    "duration": 17,
    "start_time": "2024-03-19T19:27:32.167Z"
   },
   {
    "duration": 28,
    "start_time": "2024-03-19T19:27:32.186Z"
   },
   {
    "duration": 15,
    "start_time": "2024-03-19T19:27:32.216Z"
   },
   {
    "duration": 17,
    "start_time": "2024-03-19T19:27:32.232Z"
   },
   {
    "duration": 17,
    "start_time": "2024-03-19T19:27:32.251Z"
   },
   {
    "duration": 9,
    "start_time": "2024-03-19T19:27:32.269Z"
   },
   {
    "duration": 17,
    "start_time": "2024-03-19T19:27:32.280Z"
   },
   {
    "duration": 17,
    "start_time": "2024-03-19T19:27:32.298Z"
   },
   {
    "duration": 8,
    "start_time": "2024-03-19T19:27:32.316Z"
   },
   {
    "duration": 21,
    "start_time": "2024-03-19T19:27:32.325Z"
   },
   {
    "duration": 9,
    "start_time": "2024-03-19T19:27:32.347Z"
   },
   {
    "duration": 22,
    "start_time": "2024-03-19T19:27:32.357Z"
   },
   {
    "duration": 30,
    "start_time": "2024-03-19T19:27:32.380Z"
   },
   {
    "duration": 23,
    "start_time": "2024-03-19T19:27:32.412Z"
   },
   {
    "duration": 37,
    "start_time": "2024-03-19T19:27:32.437Z"
   },
   {
    "duration": 663,
    "start_time": "2024-03-19T19:27:32.478Z"
   },
   {
    "duration": 543,
    "start_time": "2024-03-19T19:27:33.143Z"
   },
   {
    "duration": 3,
    "start_time": "2024-03-19T19:27:33.688Z"
   },
   {
    "duration": 10,
    "start_time": "2024-03-19T19:27:33.692Z"
   },
   {
    "duration": 29,
    "start_time": "2024-03-19T19:27:33.703Z"
   },
   {
    "duration": 19,
    "start_time": "2024-03-19T19:27:33.733Z"
   },
   {
    "duration": 15,
    "start_time": "2024-03-19T19:27:33.774Z"
   },
   {
    "duration": 4,
    "start_time": "2024-03-19T19:27:33.790Z"
   },
   {
    "duration": 79,
    "start_time": "2024-03-19T19:27:33.795Z"
   },
   {
    "duration": 97,
    "start_time": "2024-03-19T19:27:33.877Z"
   },
   {
    "duration": 803,
    "start_time": "2024-03-19T19:27:33.977Z"
   },
   {
    "duration": 4,
    "start_time": "2024-03-19T19:27:34.782Z"
   },
   {
    "duration": 668919,
    "start_time": "2024-03-19T19:27:34.788Z"
   },
   {
    "duration": 145,
    "start_time": "2024-03-19T19:38:43.708Z"
   },
   {
    "duration": 5,
    "start_time": "2024-03-19T19:38:43.855Z"
   },
   {
    "duration": 338,
    "start_time": "2024-03-19T19:38:43.862Z"
   },
   {
    "duration": 21,
    "start_time": "2024-03-19T19:38:44.202Z"
   },
   {
    "duration": 29,
    "start_time": "2024-03-19T19:38:44.225Z"
   },
   {
    "duration": 21,
    "start_time": "2024-03-19T19:38:44.256Z"
   },
   {
    "duration": 8,
    "start_time": "2024-03-19T19:38:44.279Z"
   },
   {
    "duration": 6,
    "start_time": "2024-03-19T19:38:44.288Z"
   },
   {
    "duration": 11,
    "start_time": "2024-03-19T19:38:44.295Z"
   },
   {
    "duration": 3448,
    "start_time": "2024-03-19T19:38:44.308Z"
   },
   {
    "duration": 169,
    "start_time": "2024-03-19T19:38:47.758Z"
   },
   {
    "duration": 4,
    "start_time": "2024-03-19T19:38:47.928Z"
   },
   {
    "duration": 32,
    "start_time": "2024-03-19T19:38:47.933Z"
   },
   {
    "duration": 47,
    "start_time": "2024-03-20T18:22:00.419Z"
   },
   {
    "duration": 1696,
    "start_time": "2024-03-20T18:22:07.332Z"
   },
   {
    "duration": 287,
    "start_time": "2024-03-20T18:22:09.030Z"
   },
   {
    "duration": 16,
    "start_time": "2024-03-20T18:22:09.319Z"
   },
   {
    "duration": 13,
    "start_time": "2024-03-20T18:22:09.336Z"
   },
   {
    "duration": 16,
    "start_time": "2024-03-20T18:22:09.350Z"
   },
   {
    "duration": 16,
    "start_time": "2024-03-20T18:22:09.368Z"
   },
   {
    "duration": 9,
    "start_time": "2024-03-20T18:22:09.385Z"
   },
   {
    "duration": 7,
    "start_time": "2024-03-20T18:22:09.396Z"
   },
   {
    "duration": 6,
    "start_time": "2024-03-20T18:22:09.405Z"
   },
   {
    "duration": 12,
    "start_time": "2024-03-20T18:22:09.413Z"
   },
   {
    "duration": 18,
    "start_time": "2024-03-20T18:22:09.427Z"
   },
   {
    "duration": 37,
    "start_time": "2024-03-20T18:22:09.447Z"
   },
   {
    "duration": 12,
    "start_time": "2024-03-20T18:22:09.486Z"
   },
   {
    "duration": 9,
    "start_time": "2024-03-20T18:22:09.501Z"
   },
   {
    "duration": 12,
    "start_time": "2024-03-20T18:22:09.512Z"
   },
   {
    "duration": 9,
    "start_time": "2024-03-20T18:22:09.526Z"
   },
   {
    "duration": 8,
    "start_time": "2024-03-20T18:22:09.537Z"
   },
   {
    "duration": 37,
    "start_time": "2024-03-20T18:22:09.547Z"
   },
   {
    "duration": 13,
    "start_time": "2024-03-20T18:22:09.586Z"
   },
   {
    "duration": 14,
    "start_time": "2024-03-20T18:22:09.600Z"
   },
   {
    "duration": 19,
    "start_time": "2024-03-20T18:22:09.615Z"
   },
   {
    "duration": 12,
    "start_time": "2024-03-20T18:22:09.636Z"
   },
   {
    "duration": 14,
    "start_time": "2024-03-20T18:22:09.650Z"
   },
   {
    "duration": 23,
    "start_time": "2024-03-20T18:22:09.666Z"
   },
   {
    "duration": 26,
    "start_time": "2024-03-20T18:22:09.691Z"
   },
   {
    "duration": 19,
    "start_time": "2024-03-20T18:22:09.718Z"
   },
   {
    "duration": 43,
    "start_time": "2024-03-20T18:22:09.738Z"
   },
   {
    "duration": 683,
    "start_time": "2024-03-20T18:22:09.783Z"
   },
   {
    "duration": 542,
    "start_time": "2024-03-20T18:22:10.467Z"
   },
   {
    "duration": 3,
    "start_time": "2024-03-20T18:22:11.011Z"
   },
   {
    "duration": 19,
    "start_time": "2024-03-20T18:22:11.015Z"
   },
   {
    "duration": 46,
    "start_time": "2024-03-20T18:22:11.036Z"
   },
   {
    "duration": 23,
    "start_time": "2024-03-20T18:22:11.084Z"
   },
   {
    "duration": 19,
    "start_time": "2024-03-20T18:22:11.109Z"
   },
   {
    "duration": 3,
    "start_time": "2024-03-20T18:22:11.130Z"
   },
   {
    "duration": 47,
    "start_time": "2024-03-20T18:22:11.134Z"
   },
   {
    "duration": 94,
    "start_time": "2024-03-20T18:22:11.190Z"
   },
   {
    "duration": 809,
    "start_time": "2024-03-20T18:22:11.286Z"
   },
   {
    "duration": 3,
    "start_time": "2024-03-20T18:22:12.096Z"
   },
   {
    "duration": 645818,
    "start_time": "2024-03-20T18:22:12.101Z"
   },
   {
    "duration": 128,
    "start_time": "2024-03-20T18:32:57.923Z"
   },
   {
    "duration": 5,
    "start_time": "2024-03-20T18:32:58.055Z"
   },
   {
    "duration": 277,
    "start_time": "2024-03-20T18:32:58.079Z"
   },
   {
    "duration": 20,
    "start_time": "2024-03-20T18:32:58.358Z"
   },
   {
    "duration": 40,
    "start_time": "2024-03-20T18:32:58.379Z"
   },
   {
    "duration": 11,
    "start_time": "2024-03-20T18:32:58.421Z"
   },
   {
    "duration": 15,
    "start_time": "2024-03-20T18:32:58.434Z"
   },
   {
    "duration": 12,
    "start_time": "2024-03-20T18:32:58.451Z"
   },
   {
    "duration": 25,
    "start_time": "2024-03-20T18:32:58.464Z"
   },
   {
    "duration": 3378,
    "start_time": "2024-03-20T18:32:58.491Z"
   },
   {
    "duration": 180,
    "start_time": "2024-03-20T18:33:01.871Z"
   },
   {
    "duration": 5,
    "start_time": "2024-03-20T18:33:02.053Z"
   },
   {
    "duration": 130,
    "start_time": "2024-03-20T18:33:02.060Z"
   },
   {
    "duration": 15,
    "start_time": "2024-03-20T18:43:10.920Z"
   },
   {
    "duration": 19,
    "start_time": "2024-03-20T18:43:42.423Z"
   },
   {
    "duration": 3,
    "start_time": "2024-03-20T18:48:35.839Z"
   },
   {
    "duration": 4,
    "start_time": "2024-03-20T18:48:37.017Z"
   },
   {
    "duration": 114,
    "start_time": "2024-03-20T18:49:06.740Z"
   },
   {
    "duration": 436,
    "start_time": "2024-03-20T18:49:52.125Z"
   },
   {
    "duration": 26,
    "start_time": "2024-03-20T18:50:09.654Z"
   },
   {
    "duration": 29,
    "start_time": "2024-03-20T18:50:13.635Z"
   },
   {
    "duration": 6,
    "start_time": "2024-03-20T18:50:18.876Z"
   },
   {
    "duration": 1441,
    "start_time": "2024-03-20T18:53:54.053Z"
   },
   {
    "duration": 133,
    "start_time": "2024-03-20T18:53:55.496Z"
   },
   {
    "duration": 19,
    "start_time": "2024-03-20T18:53:55.631Z"
   },
   {
    "duration": 13,
    "start_time": "2024-03-20T18:53:55.652Z"
   },
   {
    "duration": 28,
    "start_time": "2024-03-20T18:53:55.667Z"
   },
   {
    "duration": 15,
    "start_time": "2024-03-20T18:53:55.697Z"
   },
   {
    "duration": 27,
    "start_time": "2024-03-20T18:53:55.714Z"
   },
   {
    "duration": 19,
    "start_time": "2024-03-20T18:53:55.742Z"
   },
   {
    "duration": 9,
    "start_time": "2024-03-20T18:53:55.763Z"
   },
   {
    "duration": 27,
    "start_time": "2024-03-20T18:53:55.774Z"
   },
   {
    "duration": 16,
    "start_time": "2024-03-20T18:53:55.803Z"
   },
   {
    "duration": 9,
    "start_time": "2024-03-20T18:53:55.820Z"
   },
   {
    "duration": 14,
    "start_time": "2024-03-20T18:53:55.830Z"
   },
   {
    "duration": 11,
    "start_time": "2024-03-20T18:53:55.845Z"
   },
   {
    "duration": 6,
    "start_time": "2024-03-20T18:53:55.857Z"
   },
   {
    "duration": 9,
    "start_time": "2024-03-20T18:53:55.881Z"
   },
   {
    "duration": 18,
    "start_time": "2024-03-20T18:53:55.891Z"
   },
   {
    "duration": 7,
    "start_time": "2024-03-20T18:53:55.910Z"
   },
   {
    "duration": 14,
    "start_time": "2024-03-20T18:53:55.918Z"
   },
   {
    "duration": 17,
    "start_time": "2024-03-20T18:53:55.933Z"
   },
   {
    "duration": 6,
    "start_time": "2024-03-20T18:53:55.951Z"
   },
   {
    "duration": 30,
    "start_time": "2024-03-20T18:53:55.958Z"
   },
   {
    "duration": 10,
    "start_time": "2024-03-20T18:53:55.989Z"
   },
   {
    "duration": 28,
    "start_time": "2024-03-20T18:53:56.000Z"
   },
   {
    "duration": 25,
    "start_time": "2024-03-20T18:53:56.029Z"
   },
   {
    "duration": 25,
    "start_time": "2024-03-20T18:53:56.056Z"
   },
   {
    "duration": 14,
    "start_time": "2024-03-20T18:53:56.082Z"
   },
   {
    "duration": 611,
    "start_time": "2024-03-20T18:53:56.099Z"
   },
   {
    "duration": 517,
    "start_time": "2024-03-20T18:53:56.712Z"
   },
   {
    "duration": 3,
    "start_time": "2024-03-20T18:53:57.230Z"
   },
   {
    "duration": 15,
    "start_time": "2024-03-20T18:53:57.234Z"
   },
   {
    "duration": 43,
    "start_time": "2024-03-20T18:53:57.251Z"
   },
   {
    "duration": 20,
    "start_time": "2024-03-20T18:53:57.295Z"
   },
   {
    "duration": 44,
    "start_time": "2024-03-20T18:53:57.317Z"
   },
   {
    "duration": 23,
    "start_time": "2024-03-20T18:53:57.362Z"
   },
   {
    "duration": 24,
    "start_time": "2024-03-20T18:53:57.386Z"
   },
   {
    "duration": 169,
    "start_time": "2024-03-20T18:53:57.412Z"
   },
   {
    "duration": 737,
    "start_time": "2024-03-20T18:53:57.583Z"
   },
   {
    "duration": 3,
    "start_time": "2024-03-20T18:53:58.322Z"
   },
   {
    "duration": 647574,
    "start_time": "2024-03-20T18:53:58.326Z"
   },
   {
    "duration": 143,
    "start_time": "2024-03-20T19:04:45.902Z"
   },
   {
    "duration": 5,
    "start_time": "2024-03-20T19:04:46.046Z"
   },
   {
    "duration": 131,
    "start_time": "2024-03-20T19:04:46.052Z"
   },
   {
    "duration": 22,
    "start_time": "2024-03-20T19:04:46.185Z"
   },
   {
    "duration": 39,
    "start_time": "2024-03-20T19:04:46.209Z"
   },
   {
    "duration": 39,
    "start_time": "2024-03-20T19:04:46.250Z"
   },
   {
    "duration": 8,
    "start_time": "2024-03-20T19:04:46.291Z"
   },
   {
    "duration": 9,
    "start_time": "2024-03-20T19:04:46.300Z"
   },
   {
    "duration": 12,
    "start_time": "2024-03-20T19:04:46.310Z"
   },
   {
    "duration": 3515,
    "start_time": "2024-03-20T19:04:46.323Z"
   },
   {
    "duration": 169,
    "start_time": "2024-03-20T19:04:49.839Z"
   },
   {
    "duration": 5,
    "start_time": "2024-03-20T19:04:50.009Z"
   },
   {
    "duration": 14,
    "start_time": "2024-03-20T19:04:50.015Z"
   },
   {
    "duration": 127,
    "start_time": "2024-03-20T19:04:50.031Z"
   },
   {
    "duration": 0,
    "start_time": "2024-03-20T19:04:50.159Z"
   },
   {
    "duration": 0,
    "start_time": "2024-03-20T19:04:50.161Z"
   },
   {
    "duration": 0,
    "start_time": "2024-03-20T19:04:50.162Z"
   },
   {
    "duration": 0,
    "start_time": "2024-03-20T19:04:50.164Z"
   },
   {
    "duration": 0,
    "start_time": "2024-03-20T19:04:50.165Z"
   },
   {
    "duration": 0,
    "start_time": "2024-03-20T19:04:50.180Z"
   },
   {
    "duration": 0,
    "start_time": "2024-03-20T19:04:50.181Z"
   },
   {
    "duration": 0,
    "start_time": "2024-03-20T19:04:50.182Z"
   },
   {
    "duration": 0,
    "start_time": "2024-03-20T19:04:50.183Z"
   },
   {
    "duration": 9,
    "start_time": "2024-03-20T20:01:42.476Z"
   },
   {
    "duration": 3,
    "start_time": "2024-03-20T20:10:47.273Z"
   },
   {
    "duration": 15,
    "start_time": "2024-03-20T20:11:13.528Z"
   },
   {
    "duration": 22,
    "start_time": "2024-03-20T20:11:21.627Z"
   },
   {
    "duration": 259,
    "start_time": "2024-03-20T20:11:37.809Z"
   },
   {
    "duration": 223,
    "start_time": "2024-03-20T20:11:47.939Z"
   },
   {
    "duration": 12,
    "start_time": "2024-03-20T20:12:00.259Z"
   },
   {
    "duration": 3,
    "start_time": "2024-03-20T20:15:20.011Z"
   },
   {
    "duration": 4,
    "start_time": "2024-03-20T20:15:20.723Z"
   },
   {
    "duration": 28,
    "start_time": "2024-03-20T20:19:15.557Z"
   },
   {
    "duration": 25,
    "start_time": "2024-03-20T20:19:18.152Z"
   },
   {
    "duration": 36,
    "start_time": "2024-03-20T20:19:20.168Z"
   },
   {
    "duration": 26,
    "start_time": "2024-03-20T20:19:25.646Z"
   },
   {
    "duration": 5,
    "start_time": "2024-03-20T20:19:29.689Z"
   },
   {
    "duration": 63,
    "start_time": "2024-03-20T20:21:13.218Z"
   },
   {
    "duration": 5,
    "start_time": "2024-03-20T20:21:16.333Z"
   },
   {
    "duration": 5,
    "start_time": "2024-03-20T20:21:20.211Z"
   },
   {
    "duration": 102,
    "start_time": "2024-03-20T20:21:59.567Z"
   },
   {
    "duration": 621,
    "start_time": "2024-03-20T20:22:05.467Z"
   },
   {
    "duration": 4,
    "start_time": "2024-03-20T20:22:08.353Z"
   },
   {
    "duration": 15,
    "start_time": "2024-03-20T20:22:36.086Z"
   },
   {
    "duration": 240,
    "start_time": "2024-03-20T20:22:44.659Z"
   },
   {
    "duration": 68,
    "start_time": "2024-03-20T20:22:51.381Z"
   },
   {
    "duration": 6,
    "start_time": "2024-03-20T20:23:13.055Z"
   },
   {
    "duration": 16,
    "start_time": "2024-03-20T20:25:25.882Z"
   },
   {
    "duration": 36208,
    "start_time": "2024-03-20T20:25:45.373Z"
   },
   {
    "duration": 66683,
    "start_time": "2024-03-20T20:26:31.482Z"
   },
   {
    "duration": 64,
    "start_time": "2024-03-20T20:27:38.167Z"
   },
   {
    "duration": 47,
    "start_time": "2024-03-20T20:28:36.054Z"
   },
   {
    "duration": 19,
    "start_time": "2024-03-20T20:28:58.564Z"
   },
   {
    "duration": 44,
    "start_time": "2024-03-20T20:29:03.193Z"
   },
   {
    "duration": 19,
    "start_time": "2024-03-20T20:29:03.481Z"
   },
   {
    "duration": 16,
    "start_time": "2024-03-20T20:29:11.750Z"
   },
   {
    "duration": 5,
    "start_time": "2024-03-20T20:29:21.951Z"
   },
   {
    "duration": 5,
    "start_time": "2024-03-20T20:29:27.788Z"
   },
   {
    "duration": 6,
    "start_time": "2024-03-20T20:29:31.121Z"
   },
   {
    "duration": 98920,
    "start_time": "2024-03-20T20:30:12.590Z"
   },
   {
    "duration": 44,
    "start_time": "2024-03-20T20:31:51.512Z"
   },
   {
    "duration": 20,
    "start_time": "2024-03-20T20:32:32.642Z"
   },
   {
    "duration": 361,
    "start_time": "2024-03-20T20:33:01.831Z"
   },
   {
    "duration": 11,
    "start_time": "2024-03-20T20:33:24.066Z"
   },
   {
    "duration": 6,
    "start_time": "2024-03-20T20:33:30.671Z"
   },
   {
    "duration": 6,
    "start_time": "2024-03-20T20:33:50.237Z"
   },
   {
    "duration": 7,
    "start_time": "2024-03-20T20:34:48.104Z"
   },
   {
    "duration": 20,
    "start_time": "2024-03-20T20:34:53.921Z"
   },
   {
    "duration": 34,
    "start_time": "2024-03-20T20:35:24.405Z"
   },
   {
    "duration": 27,
    "start_time": "2024-03-20T20:35:29.459Z"
   },
   {
    "duration": 26,
    "start_time": "2024-03-20T20:35:38.007Z"
   },
   {
    "duration": 40,
    "start_time": "2024-03-20T20:35:59.224Z"
   },
   {
    "duration": 70862,
    "start_time": "2024-03-20T20:36:40.582Z"
   },
   {
    "duration": 79,
    "start_time": "2024-03-20T20:37:51.446Z"
   },
   {
    "duration": 8,
    "start_time": "2024-03-20T20:37:51.527Z"
   },
   {
    "duration": 1429,
    "start_time": "2024-03-20T20:40:26.925Z"
   },
   {
    "duration": 253,
    "start_time": "2024-03-20T20:40:28.356Z"
   },
   {
    "duration": 17,
    "start_time": "2024-03-20T20:40:28.610Z"
   },
   {
    "duration": 13,
    "start_time": "2024-03-20T20:40:28.628Z"
   },
   {
    "duration": 13,
    "start_time": "2024-03-20T20:40:28.643Z"
   },
   {
    "duration": 15,
    "start_time": "2024-03-20T20:40:28.658Z"
   },
   {
    "duration": 6,
    "start_time": "2024-03-20T20:40:28.680Z"
   },
   {
    "duration": 6,
    "start_time": "2024-03-20T20:40:28.688Z"
   },
   {
    "duration": 6,
    "start_time": "2024-03-20T20:40:28.696Z"
   },
   {
    "duration": 10,
    "start_time": "2024-03-20T20:40:28.704Z"
   },
   {
    "duration": 18,
    "start_time": "2024-03-20T20:40:28.715Z"
   },
   {
    "duration": 51,
    "start_time": "2024-03-20T20:40:28.735Z"
   },
   {
    "duration": 14,
    "start_time": "2024-03-20T20:40:28.787Z"
   },
   {
    "duration": 10,
    "start_time": "2024-03-20T20:40:28.802Z"
   },
   {
    "duration": 7,
    "start_time": "2024-03-20T20:40:28.813Z"
   },
   {
    "duration": 11,
    "start_time": "2024-03-20T20:40:28.821Z"
   },
   {
    "duration": 7,
    "start_time": "2024-03-20T20:40:28.833Z"
   },
   {
    "duration": 40,
    "start_time": "2024-03-20T20:40:28.841Z"
   },
   {
    "duration": 11,
    "start_time": "2024-03-20T20:40:28.883Z"
   },
   {
    "duration": 15,
    "start_time": "2024-03-20T20:40:28.895Z"
   },
   {
    "duration": 7,
    "start_time": "2024-03-20T20:40:28.911Z"
   },
   {
    "duration": 25,
    "start_time": "2024-03-20T20:40:28.919Z"
   },
   {
    "duration": 34,
    "start_time": "2024-03-20T20:40:28.946Z"
   },
   {
    "duration": 11,
    "start_time": "2024-03-20T20:40:28.982Z"
   },
   {
    "duration": 24,
    "start_time": "2024-03-20T20:40:28.994Z"
   },
   {
    "duration": 19,
    "start_time": "2024-03-20T20:40:29.019Z"
   },
   {
    "duration": 48,
    "start_time": "2024-03-20T20:40:29.039Z"
   },
   {
    "duration": 635,
    "start_time": "2024-03-20T20:40:29.092Z"
   },
   {
    "duration": 508,
    "start_time": "2024-03-20T20:40:29.729Z"
   },
   {
    "duration": 3,
    "start_time": "2024-03-20T20:40:30.238Z"
   },
   {
    "duration": 99,
    "start_time": "2024-03-20T20:40:30.243Z"
   },
   {
    "duration": 219,
    "start_time": "2024-03-20T20:40:30.343Z"
   },
   {
    "duration": 181,
    "start_time": "2024-03-20T20:40:30.564Z"
   },
   {
    "duration": 121,
    "start_time": "2024-03-20T20:40:30.747Z"
   },
   {
    "duration": 113,
    "start_time": "2024-03-20T20:40:30.870Z"
   },
   {
    "duration": 468,
    "start_time": "2024-03-20T20:40:30.985Z"
   },
   {
    "duration": 135,
    "start_time": "2024-03-20T20:40:31.481Z"
   },
   {
    "duration": 794,
    "start_time": "2024-03-20T20:40:31.618Z"
   },
   {
    "duration": 3,
    "start_time": "2024-03-20T20:40:32.414Z"
   },
   {
    "duration": 641953,
    "start_time": "2024-03-20T20:40:32.418Z"
   },
   {
    "duration": 86,
    "start_time": "2024-03-20T20:51:14.372Z"
   },
   {
    "duration": 5,
    "start_time": "2024-03-20T20:51:14.460Z"
   },
   {
    "duration": 209,
    "start_time": "2024-03-20T20:51:14.467Z"
   },
   {
    "duration": 23,
    "start_time": "2024-03-20T20:51:14.678Z"
   },
   {
    "duration": 27,
    "start_time": "2024-03-20T20:51:14.703Z"
   },
   {
    "duration": 54,
    "start_time": "2024-03-20T20:51:14.732Z"
   },
   {
    "duration": 10,
    "start_time": "2024-03-20T20:51:14.788Z"
   },
   {
    "duration": 6,
    "start_time": "2024-03-20T20:51:14.799Z"
   },
   {
    "duration": 11,
    "start_time": "2024-03-20T20:51:14.806Z"
   },
   {
    "duration": 3420,
    "start_time": "2024-03-20T20:51:14.819Z"
   },
   {
    "duration": 159,
    "start_time": "2024-03-20T20:51:18.241Z"
   },
   {
    "duration": 4,
    "start_time": "2024-03-20T20:51:18.401Z"
   },
   {
    "duration": 17,
    "start_time": "2024-03-20T20:51:18.406Z"
   },
   {
    "duration": 16,
    "start_time": "2024-03-20T20:51:18.424Z"
   },
   {
    "duration": 18,
    "start_time": "2024-03-20T20:51:18.441Z"
   },
   {
    "duration": 137,
    "start_time": "2024-03-20T20:51:18.461Z"
   },
   {
    "duration": 11,
    "start_time": "2024-03-20T20:51:18.599Z"
   },
   {
    "duration": 14,
    "start_time": "2024-03-20T20:51:18.612Z"
   },
   {
    "duration": 5,
    "start_time": "2024-03-20T20:51:18.628Z"
   },
   {
    "duration": 28,
    "start_time": "2024-03-20T20:51:18.634Z"
   },
   {
    "duration": 28,
    "start_time": "2024-03-20T20:51:18.663Z"
   },
   {
    "duration": 394,
    "start_time": "2024-03-20T20:51:18.692Z"
   },
   {
    "duration": 308,
    "start_time": "2024-03-20T20:51:19.088Z"
   },
   {
    "duration": 0,
    "start_time": "2024-03-20T20:51:19.398Z"
   },
   {
    "duration": 0,
    "start_time": "2024-03-20T20:51:19.400Z"
   },
   {
    "duration": 0,
    "start_time": "2024-03-20T20:51:19.401Z"
   },
   {
    "duration": 0,
    "start_time": "2024-03-20T20:51:19.402Z"
   },
   {
    "duration": 0,
    "start_time": "2024-03-20T20:51:19.403Z"
   },
   {
    "duration": 0,
    "start_time": "2024-03-20T20:51:19.404Z"
   },
   {
    "duration": 0,
    "start_time": "2024-03-20T20:51:19.405Z"
   },
   {
    "duration": 0,
    "start_time": "2024-03-20T20:51:19.406Z"
   },
   {
    "duration": 0,
    "start_time": "2024-03-20T20:51:19.407Z"
   },
   {
    "duration": 0,
    "start_time": "2024-03-20T20:51:19.409Z"
   },
   {
    "duration": 7,
    "start_time": "2024-03-20T20:51:48.586Z"
   },
   {
    "duration": 64524,
    "start_time": "2024-03-20T20:52:00.754Z"
   },
   {
    "duration": 41,
    "start_time": "2024-03-20T20:53:05.281Z"
   },
   {
    "duration": 7,
    "start_time": "2024-03-20T20:53:05.324Z"
   },
   {
    "duration": 97623,
    "start_time": "2024-03-20T20:53:05.333Z"
   },
   {
    "duration": 33,
    "start_time": "2024-03-20T20:54:42.957Z"
   },
   {
    "duration": 1811,
    "start_time": "2024-03-20T20:55:52.142Z"
   },
   {
    "duration": 19,
    "start_time": "2024-03-20T20:55:56.066Z"
   },
   {
    "duration": 99246,
    "start_time": "2024-03-20T20:56:14.818Z"
   },
   {
    "duration": 30,
    "start_time": "2024-03-20T20:57:54.065Z"
   },
   {
    "duration": 0,
    "start_time": "2024-03-20T20:57:54.097Z"
   },
   {
    "duration": 77112,
    "start_time": "2024-03-20T20:58:26.046Z"
   },
   {
    "duration": 28,
    "start_time": "2024-03-20T20:59:43.160Z"
   },
   {
    "duration": 6,
    "start_time": "2024-03-20T20:59:43.190Z"
   },
   {
    "duration": 8,
    "start_time": "2024-03-21T19:43:17.072Z"
   },
   {
    "duration": 178,
    "start_time": "2024-03-21T19:43:24.027Z"
   },
   {
    "duration": 1567,
    "start_time": "2024-03-24T18:25:02.913Z"
   },
   {
    "duration": 167,
    "start_time": "2024-03-24T18:25:43.236Z"
   },
   {
    "duration": 18,
    "start_time": "2024-03-24T18:25:48.984Z"
   },
   {
    "duration": 12,
    "start_time": "2024-03-24T18:25:50.800Z"
   },
   {
    "duration": 11,
    "start_time": "2024-03-24T18:25:55.979Z"
   },
   {
    "duration": 12,
    "start_time": "2024-03-24T18:25:56.549Z"
   },
   {
    "duration": 6,
    "start_time": "2024-03-24T18:25:57.164Z"
   },
   {
    "duration": 6,
    "start_time": "2024-03-24T18:25:57.941Z"
   },
   {
    "duration": 5,
    "start_time": "2024-03-24T18:25:58.431Z"
   },
   {
    "duration": 6,
    "start_time": "2024-03-24T18:32:13.548Z"
   },
   {
    "duration": 17,
    "start_time": "2024-03-24T18:32:22.552Z"
   },
   {
    "duration": 3,
    "start_time": "2024-03-24T18:33:55.456Z"
   },
   {
    "duration": 3,
    "start_time": "2024-03-24T18:45:17.263Z"
   },
   {
    "duration": 3,
    "start_time": "2024-03-24T18:45:17.688Z"
   },
   {
    "duration": 3,
    "start_time": "2024-03-24T18:46:03.206Z"
   },
   {
    "duration": 28,
    "start_time": "2024-03-24T18:46:25.413Z"
   },
   {
    "duration": 12,
    "start_time": "2024-03-24T18:46:50.564Z"
   },
   {
    "duration": 105,
    "start_time": "2024-03-24T18:47:34.121Z"
   },
   {
    "duration": 4,
    "start_time": "2024-03-24T18:49:27.117Z"
   },
   {
    "duration": 4,
    "start_time": "2024-03-24T18:49:42.970Z"
   },
   {
    "duration": 3,
    "start_time": "2024-03-24T18:50:08.973Z"
   },
   {
    "duration": 10,
    "start_time": "2024-03-24T18:50:09.669Z"
   },
   {
    "duration": 3,
    "start_time": "2024-03-24T18:50:24.214Z"
   },
   {
    "duration": 26,
    "start_time": "2024-03-24T18:50:24.778Z"
   },
   {
    "duration": 4,
    "start_time": "2024-03-24T18:50:26.631Z"
   },
   {
    "duration": 14,
    "start_time": "2024-03-24T18:50:51.783Z"
   },
   {
    "duration": 10,
    "start_time": "2024-03-24T18:51:02.241Z"
   },
   {
    "duration": 11,
    "start_time": "2024-03-24T18:51:12.051Z"
   },
   {
    "duration": 12,
    "start_time": "2024-03-24T18:51:15.857Z"
   },
   {
    "duration": 9,
    "start_time": "2024-03-24T18:52:19.021Z"
   },
   {
    "duration": 15,
    "start_time": "2024-03-24T18:52:24.305Z"
   },
   {
    "duration": 10,
    "start_time": "2024-03-24T18:52:28.891Z"
   },
   {
    "duration": 11,
    "start_time": "2024-03-24T18:52:32.847Z"
   },
   {
    "duration": 10,
    "start_time": "2024-03-24T18:54:27.959Z"
   },
   {
    "duration": 10,
    "start_time": "2024-03-24T18:54:33.890Z"
   },
   {
    "duration": 10,
    "start_time": "2024-03-24T18:57:02.656Z"
   },
   {
    "duration": 3,
    "start_time": "2024-03-24T18:57:17.453Z"
   },
   {
    "duration": 5,
    "start_time": "2024-03-24T18:57:25.234Z"
   },
   {
    "duration": 3,
    "start_time": "2024-03-24T18:57:33.366Z"
   },
   {
    "duration": 4,
    "start_time": "2024-03-24T18:57:33.754Z"
   },
   {
    "duration": 35,
    "start_time": "2024-03-24T19:13:26.976Z"
   },
   {
    "duration": 164,
    "start_time": "2024-03-24T19:13:55.255Z"
   },
   {
    "duration": 12,
    "start_time": "2024-03-24T19:13:56.294Z"
   },
   {
    "duration": 13,
    "start_time": "2024-03-24T19:13:56.565Z"
   },
   {
    "duration": 12,
    "start_time": "2024-03-24T19:13:56.868Z"
   },
   {
    "duration": 11,
    "start_time": "2024-03-24T19:13:57.152Z"
   },
   {
    "duration": 6,
    "start_time": "2024-03-24T19:13:57.474Z"
   },
   {
    "duration": 7,
    "start_time": "2024-03-24T19:13:57.862Z"
   },
   {
    "duration": 5,
    "start_time": "2024-03-24T19:13:58.178Z"
   },
   {
    "duration": 11,
    "start_time": "2024-03-24T19:13:59.062Z"
   },
   {
    "duration": 3,
    "start_time": "2024-03-24T19:13:59.325Z"
   },
   {
    "duration": 3,
    "start_time": "2024-03-24T19:14:01.273Z"
   },
   {
    "duration": 4,
    "start_time": "2024-03-24T19:14:01.916Z"
   },
   {
    "duration": 3,
    "start_time": "2024-03-24T19:14:06.484Z"
   },
   {
    "duration": 37,
    "start_time": "2024-03-24T19:14:07.837Z"
   },
   {
    "duration": 4,
    "start_time": "2024-03-24T19:14:08.364Z"
   },
   {
    "duration": 20,
    "start_time": "2024-03-24T19:14:49.129Z"
   },
   {
    "duration": 33,
    "start_time": "2024-03-24T19:15:16.214Z"
   },
   {
    "duration": 3,
    "start_time": "2024-03-24T19:15:42.741Z"
   },
   {
    "duration": 5,
    "start_time": "2024-03-24T19:15:43.060Z"
   },
   {
    "duration": 4,
    "start_time": "2024-03-24T19:15:43.409Z"
   },
   {
    "duration": 3,
    "start_time": "2024-03-24T19:15:43.764Z"
   },
   {
    "duration": 23,
    "start_time": "2024-03-24T19:15:44.189Z"
   },
   {
    "duration": 3,
    "start_time": "2024-03-24T19:15:44.609Z"
   },
   {
    "duration": 3,
    "start_time": "2024-03-24T19:15:45.130Z"
   },
   {
    "duration": 30,
    "start_time": "2024-03-24T19:15:46.282Z"
   },
   {
    "duration": 32,
    "start_time": "2024-03-24T19:15:47.865Z"
   },
   {
    "duration": 2,
    "start_time": "2024-03-24T19:16:06.907Z"
   },
   {
    "duration": 24,
    "start_time": "2024-03-24T19:16:16.073Z"
   },
   {
    "duration": 10,
    "start_time": "2024-03-24T19:16:44.538Z"
   },
   {
    "duration": 11,
    "start_time": "2024-03-24T19:16:45.485Z"
   },
   {
    "duration": 10,
    "start_time": "2024-03-24T19:16:56.583Z"
   },
   {
    "duration": 5,
    "start_time": "2024-03-24T19:16:56.993Z"
   },
   {
    "duration": 9,
    "start_time": "2024-03-24T19:16:57.389Z"
   },
   {
    "duration": 6,
    "start_time": "2024-03-24T19:17:02.730Z"
   },
   {
    "duration": 5,
    "start_time": "2024-03-24T19:17:03.435Z"
   },
   {
    "duration": 15,
    "start_time": "2024-03-24T19:18:24.257Z"
   },
   {
    "duration": 15,
    "start_time": "2024-03-24T19:19:32.533Z"
   },
   {
    "duration": 4,
    "start_time": "2024-03-24T19:20:10.091Z"
   },
   {
    "duration": 31,
    "start_time": "2024-03-24T19:20:12.372Z"
   },
   {
    "duration": 41,
    "start_time": "2024-03-24T19:21:29.688Z"
   },
   {
    "duration": 5,
    "start_time": "2024-03-24T19:22:11.653Z"
   },
   {
    "duration": 878,
    "start_time": "2024-03-24T19:23:58.928Z"
   },
   {
    "duration": 4,
    "start_time": "2024-03-24T19:24:07.176Z"
   },
   {
    "duration": 4,
    "start_time": "2024-03-24T19:25:26.086Z"
   },
   {
    "duration": 29,
    "start_time": "2024-03-24T19:25:39.328Z"
   },
   {
    "duration": 5,
    "start_time": "2024-03-24T19:26:09.028Z"
   },
   {
    "duration": 31,
    "start_time": "2024-03-24T19:26:09.615Z"
   },
   {
    "duration": 8,
    "start_time": "2024-03-24T19:26:23.158Z"
   },
   {
    "duration": 16,
    "start_time": "2024-03-24T19:26:45.524Z"
   },
   {
    "duration": 7,
    "start_time": "2024-03-24T19:27:10.271Z"
   },
   {
    "duration": 5,
    "start_time": "2024-03-24T19:27:12.216Z"
   },
   {
    "duration": 27,
    "start_time": "2024-03-24T19:27:19.971Z"
   },
   {
    "duration": 5,
    "start_time": "2024-03-24T19:27:40.848Z"
   },
   {
    "duration": 16,
    "start_time": "2024-03-24T19:27:53.759Z"
   },
   {
    "duration": 6,
    "start_time": "2024-03-24T19:28:02.985Z"
   },
   {
    "duration": 8,
    "start_time": "2024-03-24T19:28:32.737Z"
   },
   {
    "duration": 12,
    "start_time": "2024-03-24T19:28:33.273Z"
   },
   {
    "duration": 4,
    "start_time": "2024-03-24T19:29:13.230Z"
   },
   {
    "duration": 35,
    "start_time": "2024-03-24T19:29:21.139Z"
   },
   {
    "duration": 84,
    "start_time": "2024-03-24T19:29:42.701Z"
   },
   {
    "duration": 67,
    "start_time": "2024-03-24T19:29:51.360Z"
   },
   {
    "duration": 3,
    "start_time": "2024-03-24T19:32:11.967Z"
   },
   {
    "duration": 1805,
    "start_time": "2024-03-24T19:38:23.239Z"
   },
   {
    "duration": 2255,
    "start_time": "2024-03-24T19:38:43.487Z"
   },
   {
    "duration": 1449,
    "start_time": "2024-03-24T19:38:52.489Z"
   },
   {
    "duration": 625,
    "start_time": "2024-03-24T19:39:04.824Z"
   },
   {
    "duration": 921,
    "start_time": "2024-03-24T19:39:20.067Z"
   },
   {
    "duration": 4,
    "start_time": "2024-03-24T19:40:46.934Z"
   },
   {
    "duration": 11,
    "start_time": "2024-03-24T19:41:30.817Z"
   },
   {
    "duration": 5,
    "start_time": "2024-03-24T19:41:36.271Z"
   },
   {
    "duration": 58,
    "start_time": "2024-03-24T19:43:49.473Z"
   },
   {
    "duration": 268,
    "start_time": "2024-03-24T20:43:40.310Z"
   },
   {
    "duration": 870,
    "start_time": "2024-03-24T20:44:22.051Z"
   },
   {
    "duration": 187,
    "start_time": "2024-03-24T20:44:50.369Z"
   },
   {
    "duration": 178,
    "start_time": "2024-03-24T20:45:06.156Z"
   },
   {
    "duration": 173,
    "start_time": "2024-03-24T20:45:16.307Z"
   },
   {
    "duration": 173,
    "start_time": "2024-03-24T20:45:31.102Z"
   },
   {
    "duration": 926,
    "start_time": "2024-03-24T20:46:07.368Z"
   },
   {
    "duration": 177,
    "start_time": "2024-03-24T20:47:15.891Z"
   },
   {
    "duration": 1072,
    "start_time": "2024-03-24T20:47:29.472Z"
   },
   {
    "duration": 3,
    "start_time": "2024-03-24T21:25:46.119Z"
   },
   {
    "duration": 3,
    "start_time": "2024-03-24T21:25:46.648Z"
   },
   {
    "duration": 3,
    "start_time": "2024-03-24T21:25:52.454Z"
   },
   {
    "duration": 10,
    "start_time": "2024-03-24T21:25:59.432Z"
   },
   {
    "duration": 4,
    "start_time": "2024-03-24T21:26:14.938Z"
   },
   {
    "duration": 3,
    "start_time": "2024-03-24T21:26:35.975Z"
   },
   {
    "duration": 42,
    "start_time": "2024-03-24T21:26:37.044Z"
   },
   {
    "duration": 4,
    "start_time": "2024-03-24T21:28:32.439Z"
   },
   {
    "duration": 4,
    "start_time": "2024-03-24T21:28:32.961Z"
   },
   {
    "duration": 50,
    "start_time": "2024-03-24T21:28:36.875Z"
   },
   {
    "duration": 4,
    "start_time": "2024-03-24T21:29:56.879Z"
   },
   {
    "duration": 3,
    "start_time": "2024-03-24T21:29:58.141Z"
   },
   {
    "duration": 27,
    "start_time": "2024-03-24T21:29:58.696Z"
   },
   {
    "duration": 12,
    "start_time": "2024-03-24T21:30:36.928Z"
   },
   {
    "duration": 9,
    "start_time": "2024-03-24T21:30:50.487Z"
   },
   {
    "duration": 11,
    "start_time": "2024-03-24T21:30:53.006Z"
   },
   {
    "duration": 5,
    "start_time": "2024-03-24T21:31:35.368Z"
   },
   {
    "duration": 3,
    "start_time": "2024-03-24T21:34:20.783Z"
   },
   {
    "duration": 25,
    "start_time": "2024-03-24T21:34:31.007Z"
   },
   {
    "duration": 1710,
    "start_time": "2024-03-25T12:53:16.085Z"
   },
   {
    "duration": 358,
    "start_time": "2024-03-25T12:53:18.054Z"
   },
   {
    "duration": 15,
    "start_time": "2024-03-25T12:53:19.732Z"
   },
   {
    "duration": 12,
    "start_time": "2024-03-25T12:53:20.329Z"
   },
   {
    "duration": 16,
    "start_time": "2024-03-25T12:53:20.881Z"
   },
   {
    "duration": 17,
    "start_time": "2024-03-25T12:53:21.430Z"
   },
   {
    "duration": 6,
    "start_time": "2024-03-25T12:53:21.966Z"
   },
   {
    "duration": 5,
    "start_time": "2024-03-25T12:53:22.673Z"
   },
   {
    "duration": 5,
    "start_time": "2024-03-25T12:53:23.067Z"
   },
   {
    "duration": 11,
    "start_time": "2024-03-25T12:53:24.545Z"
   },
   {
    "duration": 3,
    "start_time": "2024-03-25T12:53:30.525Z"
   },
   {
    "duration": 9,
    "start_time": "2024-03-25T12:53:33.598Z"
   },
   {
    "duration": 4,
    "start_time": "2024-03-25T12:53:35.128Z"
   },
   {
    "duration": 3,
    "start_time": "2024-03-25T12:53:40.827Z"
   },
   {
    "duration": 1781,
    "start_time": "2024-03-25T19:05:35.125Z"
   },
   {
    "duration": 300,
    "start_time": "2024-03-25T19:05:37.418Z"
   },
   {
    "duration": 15,
    "start_time": "2024-03-25T19:05:40.926Z"
   },
   {
    "duration": 14,
    "start_time": "2024-03-25T19:05:42.120Z"
   },
   {
    "duration": 20,
    "start_time": "2024-03-25T19:05:42.473Z"
   },
   {
    "duration": 11,
    "start_time": "2024-03-25T19:05:42.895Z"
   },
   {
    "duration": 5,
    "start_time": "2024-03-25T19:05:43.348Z"
   },
   {
    "duration": 9,
    "start_time": "2024-03-25T19:05:43.782Z"
   },
   {
    "duration": 5,
    "start_time": "2024-03-25T19:05:44.124Z"
   },
   {
    "duration": 11,
    "start_time": "2024-03-25T19:05:44.843Z"
   },
   {
    "duration": 2,
    "start_time": "2024-03-25T19:05:45.642Z"
   },
   {
    "duration": 2,
    "start_time": "2024-03-25T19:05:46.013Z"
   },
   {
    "duration": 5,
    "start_time": "2024-03-25T19:05:46.478Z"
   },
   {
    "duration": 111,
    "start_time": "2024-03-25T19:09:29.223Z"
   },
   {
    "duration": 3,
    "start_time": "2024-03-25T19:09:35.550Z"
   },
   {
    "duration": 3,
    "start_time": "2024-03-25T19:09:36.241Z"
   },
   {
    "duration": 3,
    "start_time": "2024-03-25T19:09:39.641Z"
   },
   {
    "duration": 41,
    "start_time": "2024-03-25T19:09:40.901Z"
   },
   {
    "duration": 3,
    "start_time": "2024-03-25T19:10:06.487Z"
   },
   {
    "duration": 2,
    "start_time": "2024-03-25T19:10:07.019Z"
   },
   {
    "duration": 27,
    "start_time": "2024-03-25T19:10:07.539Z"
   },
   {
    "duration": 24,
    "start_time": "2024-03-25T19:10:10.752Z"
   },
   {
    "duration": 11,
    "start_time": "2024-03-25T19:12:30.396Z"
   },
   {
    "duration": 10,
    "start_time": "2024-03-25T19:12:58.723Z"
   },
   {
    "duration": 9,
    "start_time": "2024-03-25T19:13:06.328Z"
   },
   {
    "duration": 10,
    "start_time": "2024-03-25T19:13:27.852Z"
   },
   {
    "duration": 5,
    "start_time": "2024-03-25T19:13:39.797Z"
   },
   {
    "duration": 10,
    "start_time": "2024-03-25T19:14:07.477Z"
   },
   {
    "duration": 10,
    "start_time": "2024-03-25T19:14:13.415Z"
   },
   {
    "duration": 4,
    "start_time": "2024-03-25T19:15:08.898Z"
   },
   {
    "duration": 9,
    "start_time": "2024-03-25T19:15:54.541Z"
   },
   {
    "duration": 3,
    "start_time": "2024-03-25T19:16:07.166Z"
   },
   {
    "duration": 3,
    "start_time": "2024-03-25T19:16:07.408Z"
   },
   {
    "duration": 3,
    "start_time": "2024-03-25T19:16:07.622Z"
   },
   {
    "duration": 2,
    "start_time": "2024-03-25T19:16:07.870Z"
   },
   {
    "duration": 3,
    "start_time": "2024-03-25T19:16:08.117Z"
   },
   {
    "duration": 3,
    "start_time": "2024-03-25T19:16:08.359Z"
   },
   {
    "duration": 28,
    "start_time": "2024-03-25T19:16:08.669Z"
   },
   {
    "duration": 24,
    "start_time": "2024-03-25T19:16:08.975Z"
   },
   {
    "duration": 9,
    "start_time": "2024-03-25T19:16:09.737Z"
   },
   {
    "duration": 90,
    "start_time": "2024-03-25T19:16:15.412Z"
   },
   {
    "duration": 4,
    "start_time": "2024-03-25T19:16:51.526Z"
   },
   {
    "duration": 3,
    "start_time": "2024-03-25T19:17:21.308Z"
   },
   {
    "duration": 3,
    "start_time": "2024-03-25T19:18:16.828Z"
   },
   {
    "duration": 2,
    "start_time": "2024-03-25T19:18:19.136Z"
   },
   {
    "duration": 19,
    "start_time": "2024-03-25T19:18:26.614Z"
   },
   {
    "duration": 9,
    "start_time": "2024-03-25T19:18:43.003Z"
   },
   {
    "duration": 11,
    "start_time": "2024-03-25T19:18:43.910Z"
   },
   {
    "duration": 10,
    "start_time": "2024-03-25T19:18:47.440Z"
   },
   {
    "duration": 6,
    "start_time": "2024-03-25T19:18:47.916Z"
   },
   {
    "duration": 10,
    "start_time": "2024-03-25T19:18:48.433Z"
   },
   {
    "duration": 6,
    "start_time": "2024-03-25T19:18:48.950Z"
   },
   {
    "duration": 5,
    "start_time": "2024-03-25T19:18:50.531Z"
   },
   {
    "duration": 4,
    "start_time": "2024-03-25T19:18:53.020Z"
   },
   {
    "duration": 18,
    "start_time": "2024-03-25T19:18:53.761Z"
   },
   {
    "duration": 3,
    "start_time": "2024-03-25T19:19:10.674Z"
   },
   {
    "duration": 20,
    "start_time": "2024-03-25T19:19:11.416Z"
   },
   {
    "duration": 61,
    "start_time": "2024-03-25T19:19:21.269Z"
   },
   {
    "duration": 48,
    "start_time": "2024-03-25T19:19:21.961Z"
   },
   {
    "duration": 880,
    "start_time": "2024-03-25T19:19:36.349Z"
   },
   {
    "duration": 501,
    "start_time": "2024-03-25T19:19:49.821Z"
   },
   {
    "duration": 472,
    "start_time": "2024-03-25T19:20:03.434Z"
   },
   {
    "duration": 5,
    "start_time": "2024-03-25T19:20:43.431Z"
   },
   {
    "duration": 3,
    "start_time": "2024-03-25T19:20:55.096Z"
   },
   {
    "duration": 4,
    "start_time": "2024-03-25T19:21:29.618Z"
   },
   {
    "duration": 10,
    "start_time": "2024-03-25T19:21:33.353Z"
   },
   {
    "duration": 12,
    "start_time": "2024-03-25T19:24:55.925Z"
   },
   {
    "duration": 7,
    "start_time": "2024-03-25T19:25:23.323Z"
   },
   {
    "duration": 12,
    "start_time": "2024-03-25T19:25:38.936Z"
   },
   {
    "duration": 19,
    "start_time": "2024-03-25T19:27:15.370Z"
   },
   {
    "duration": 15,
    "start_time": "2024-03-25T19:28:05.963Z"
   },
   {
    "duration": 8,
    "start_time": "2024-03-25T19:29:07.705Z"
   },
   {
    "duration": 669,
    "start_time": "2024-03-25T19:29:16.678Z"
   },
   {
    "duration": 4,
    "start_time": "2024-03-25T19:43:42.036Z"
   },
   {
    "duration": 3,
    "start_time": "2024-03-25T19:45:05.951Z"
   },
   {
    "duration": 99,
    "start_time": "2024-03-25T19:46:58.618Z"
   },
   {
    "duration": 16,
    "start_time": "2024-03-25T19:47:05.310Z"
   },
   {
    "duration": 10,
    "start_time": "2024-03-25T19:47:09.498Z"
   },
   {
    "duration": 19,
    "start_time": "2024-03-25T19:47:11.456Z"
   },
   {
    "duration": 12,
    "start_time": "2024-03-25T19:48:12.839Z"
   },
   {
    "duration": 18,
    "start_time": "2024-03-25T19:48:20.345Z"
   },
   {
    "duration": 3,
    "start_time": "2024-03-25T19:48:38.542Z"
   },
   {
    "duration": 9,
    "start_time": "2024-03-25T19:51:39.659Z"
   },
   {
    "duration": 57,
    "start_time": "2024-03-25T19:52:10.714Z"
   },
   {
    "duration": 5,
    "start_time": "2024-03-25T19:52:53.646Z"
   },
   {
    "duration": 85,
    "start_time": "2024-03-25T19:54:43.085Z"
   },
   {
    "duration": 18,
    "start_time": "2024-03-25T19:54:45.100Z"
   },
   {
    "duration": 9,
    "start_time": "2024-03-25T19:55:02.708Z"
   },
   {
    "duration": 8,
    "start_time": "2024-03-25T19:55:14.728Z"
   },
   {
    "duration": 3,
    "start_time": "2024-03-25T19:55:44.480Z"
   },
   {
    "duration": 29,
    "start_time": "2024-03-25T19:56:05.640Z"
   },
   {
    "duration": 16,
    "start_time": "2024-03-25T19:56:09.586Z"
   },
   {
    "duration": 5,
    "start_time": "2024-03-25T19:56:24.053Z"
   },
   {
    "duration": 390,
    "start_time": "2024-03-25T19:57:19.181Z"
   },
   {
    "duration": 6,
    "start_time": "2024-03-25T19:57:20.083Z"
   },
   {
    "duration": 294,
    "start_time": "2024-03-25T19:57:36.680Z"
   },
   {
    "duration": 5,
    "start_time": "2024-03-25T19:57:41.464Z"
   },
   {
    "duration": 3,
    "start_time": "2024-03-25T19:58:26.058Z"
   },
   {
    "duration": 3,
    "start_time": "2024-03-25T19:59:28.243Z"
   },
   {
    "duration": 3,
    "start_time": "2024-03-25T20:00:06.003Z"
   },
   {
    "duration": 86834,
    "start_time": "2024-03-25T20:00:23.719Z"
   },
   {
    "duration": 640518,
    "start_time": "2024-03-25T20:01:56.061Z"
   },
   {
    "duration": 642082,
    "start_time": "2024-03-25T20:13:12.474Z"
   },
   {
    "duration": 19,
    "start_time": "2024-03-25T20:23:54.558Z"
   },
   {
    "duration": 0,
    "start_time": "2024-03-25T20:23:54.578Z"
   },
   {
    "duration": 16,
    "start_time": "2024-03-25T20:40:45.862Z"
   },
   {
    "duration": 162,
    "start_time": "2024-03-25T20:40:56.348Z"
   },
   {
    "duration": 8,
    "start_time": "2024-03-25T20:41:11.538Z"
   },
   {
    "duration": 441,
    "start_time": "2024-03-25T20:51:21.595Z"
   },
   {
    "duration": 22,
    "start_time": "2024-03-25T20:51:22.406Z"
   },
   {
    "duration": 26,
    "start_time": "2024-03-25T20:51:23.370Z"
   },
   {
    "duration": 10,
    "start_time": "2024-03-25T20:51:24.264Z"
   },
   {
    "duration": 11,
    "start_time": "2024-03-25T20:52:25.796Z"
   },
   {
    "duration": 3,
    "start_time": "2024-03-25T20:52:56.933Z"
   },
   {
    "duration": 3,
    "start_time": "2024-03-25T20:53:00.595Z"
   },
   {
    "duration": 3,
    "start_time": "2024-03-25T20:53:00.874Z"
   },
   {
    "duration": 2,
    "start_time": "2024-03-25T20:53:08.735Z"
   },
   {
    "duration": 3,
    "start_time": "2024-03-25T20:53:17.486Z"
   },
   {
    "duration": 1274,
    "start_time": "2024-03-25T20:53:20.387Z"
   },
   {
    "duration": 28,
    "start_time": "2024-03-25T20:53:36.490Z"
   },
   {
    "duration": 2,
    "start_time": "2024-03-25T20:53:39.981Z"
   },
   {
    "duration": 3,
    "start_time": "2024-03-25T20:53:57.620Z"
   },
   {
    "duration": 20,
    "start_time": "2024-03-25T20:54:06.202Z"
   },
   {
    "duration": 39,
    "start_time": "2024-03-25T20:55:54.124Z"
   },
   {
    "duration": 496,
    "start_time": "2024-03-25T20:57:00.108Z"
   },
   {
    "duration": 570,
    "start_time": "2024-03-25T20:57:18.104Z"
   },
   {
    "duration": 453,
    "start_time": "2024-03-25T20:58:10.437Z"
   },
   {
    "duration": 2855,
    "start_time": "2024-03-25T20:59:30.992Z"
   },
   {
    "duration": 159,
    "start_time": "2024-03-25T21:00:42.874Z"
   },
   {
    "duration": 173,
    "start_time": "2024-03-25T21:02:16.160Z"
   },
   {
    "duration": 15,
    "start_time": "2024-03-25T21:02:53.668Z"
   },
   {
    "duration": 3058,
    "start_time": "2024-03-25T21:03:06.971Z"
   },
   {
    "duration": 3085,
    "start_time": "2024-03-25T21:05:06.643Z"
   },
   {
    "duration": 3382,
    "start_time": "2024-03-25T21:05:43.618Z"
   },
   {
    "duration": 3361,
    "start_time": "2024-03-25T21:06:15.257Z"
   },
   {
    "duration": 3657,
    "start_time": "2024-03-25T21:07:32.138Z"
   },
   {
    "duration": 1312,
    "start_time": "2024-03-25T21:08:33.025Z"
   },
   {
    "duration": 1511,
    "start_time": "2024-03-25T21:10:20.753Z"
   },
   {
    "duration": 378,
    "start_time": "2024-03-25T21:10:28.729Z"
   },
   {
    "duration": 2557,
    "start_time": "2024-03-25T21:11:33.126Z"
   },
   {
    "duration": 2825,
    "start_time": "2024-03-25T21:12:25.100Z"
   },
   {
    "duration": 130,
    "start_time": "2024-03-25T21:14:03.176Z"
   },
   {
    "duration": 143,
    "start_time": "2024-03-25T21:14:20.331Z"
   },
   {
    "duration": 48,
    "start_time": "2024-03-25T21:14:39.880Z"
   },
   {
    "duration": 174,
    "start_time": "2024-03-25T21:15:08.795Z"
   },
   {
    "duration": 2527,
    "start_time": "2024-03-25T21:15:47.242Z"
   },
   {
    "duration": 2496,
    "start_time": "2024-03-25T21:16:03.769Z"
   },
   {
    "duration": 2795,
    "start_time": "2024-03-25T21:16:50.152Z"
   },
   {
    "duration": 220,
    "start_time": "2024-03-25T21:17:27.679Z"
   },
   {
    "duration": 3047,
    "start_time": "2024-03-25T21:17:34.307Z"
   },
   {
    "duration": 2598,
    "start_time": "2024-03-25T21:17:44.361Z"
   },
   {
    "duration": 1597,
    "start_time": "2024-03-26T08:13:21.161Z"
   },
   {
    "duration": 233,
    "start_time": "2024-03-26T08:13:22.774Z"
   },
   {
    "duration": 18,
    "start_time": "2024-03-26T08:13:24.309Z"
   },
   {
    "duration": 14,
    "start_time": "2024-03-26T08:13:24.688Z"
   },
   {
    "duration": 12,
    "start_time": "2024-03-26T08:13:25.133Z"
   },
   {
    "duration": 11,
    "start_time": "2024-03-26T08:13:25.538Z"
   },
   {
    "duration": 6,
    "start_time": "2024-03-26T08:13:25.972Z"
   },
   {
    "duration": 6,
    "start_time": "2024-03-26T08:13:26.394Z"
   },
   {
    "duration": 6,
    "start_time": "2024-03-26T08:13:26.737Z"
   },
   {
    "duration": 10,
    "start_time": "2024-03-26T08:13:27.658Z"
   },
   {
    "duration": 3,
    "start_time": "2024-03-26T08:13:28.136Z"
   },
   {
    "duration": 3,
    "start_time": "2024-03-26T08:13:28.650Z"
   },
   {
    "duration": 3,
    "start_time": "2024-03-26T08:13:31.455Z"
   },
   {
    "duration": 3,
    "start_time": "2024-03-26T08:13:32.104Z"
   },
   {
    "duration": 3,
    "start_time": "2024-03-26T08:13:32.804Z"
   },
   {
    "duration": 3,
    "start_time": "2024-03-26T08:13:35.410Z"
   },
   {
    "duration": 27,
    "start_time": "2024-03-26T08:13:36.726Z"
   },
   {
    "duration": 3,
    "start_time": "2024-03-26T08:13:37.589Z"
   },
   {
    "duration": 4,
    "start_time": "2024-03-26T08:13:38.356Z"
   },
   {
    "duration": 4,
    "start_time": "2024-03-26T08:13:40.538Z"
   },
   {
    "duration": 21,
    "start_time": "2024-03-26T08:13:41.695Z"
   },
   {
    "duration": 10,
    "start_time": "2024-03-26T08:13:44.240Z"
   },
   {
    "duration": 11,
    "start_time": "2024-03-26T08:13:44.794Z"
   },
   {
    "duration": 9,
    "start_time": "2024-03-26T08:13:45.280Z"
   },
   {
    "duration": 6,
    "start_time": "2024-03-26T08:13:45.852Z"
   },
   {
    "duration": 11,
    "start_time": "2024-03-26T08:13:46.397Z"
   },
   {
    "duration": 5,
    "start_time": "2024-03-26T08:13:47.852Z"
   },
   {
    "duration": 5,
    "start_time": "2024-03-26T08:13:50.024Z"
   },
   {
    "duration": 4,
    "start_time": "2024-03-26T08:13:51.575Z"
   },
   {
    "duration": 16,
    "start_time": "2024-03-26T08:13:52.026Z"
   },
   {
    "duration": 3,
    "start_time": "2024-03-26T08:13:52.558Z"
   },
   {
    "duration": 20,
    "start_time": "2024-03-26T08:13:53.131Z"
   },
   {
    "duration": 50,
    "start_time": "2024-03-26T08:13:55.494Z"
   },
   {
    "duration": 48,
    "start_time": "2024-03-26T08:13:57.449Z"
   },
   {
    "duration": 791,
    "start_time": "2024-03-26T08:13:59.199Z"
   },
   {
    "duration": 565,
    "start_time": "2024-03-26T08:14:00.576Z"
   },
   {
    "duration": 487,
    "start_time": "2024-03-26T08:14:02.495Z"
   },
   {
    "duration": 3,
    "start_time": "2024-03-26T08:14:11.431Z"
   },
   {
    "duration": 11,
    "start_time": "2024-03-26T08:14:18.787Z"
   },
   {
    "duration": 19,
    "start_time": "2024-03-26T08:14:19.210Z"
   },
   {
    "duration": 8,
    "start_time": "2024-03-26T08:14:19.862Z"
   },
   {
    "duration": 18,
    "start_time": "2024-03-26T08:14:24.100Z"
   },
   {
    "duration": 4,
    "start_time": "2024-03-26T08:14:25.117Z"
   },
   {
    "duration": 458,
    "start_time": "2024-03-26T08:14:26.967Z"
   },
   {
    "duration": 92,
    "start_time": "2024-03-26T08:14:27.428Z"
   },
   {
    "duration": 3,
    "start_time": "2024-03-26T08:14:28.791Z"
   },
   {
    "duration": 256,
    "start_time": "2024-03-26T08:14:29.659Z"
   },
   {
    "duration": 6,
    "start_time": "2024-03-26T08:14:30.197Z"
   },
   {
    "duration": 4,
    "start_time": "2024-03-26T08:14:31.095Z"
   },
   {
    "duration": 3,
    "start_time": "2024-03-26T08:14:31.871Z"
   },
   {
    "duration": 4,
    "start_time": "2024-03-26T08:14:32.673Z"
   },
   {
    "duration": 675628,
    "start_time": "2024-03-26T08:14:35.481Z"
   },
   {
    "duration": 174,
    "start_time": "2024-03-26T08:25:51.112Z"
   },
   {
    "duration": 7,
    "start_time": "2024-03-26T08:25:51.288Z"
   },
   {
    "duration": 131,
    "start_time": "2024-03-26T08:25:51.314Z"
   },
   {
    "duration": 21,
    "start_time": "2024-03-26T08:25:51.447Z"
   },
   {
    "duration": 46,
    "start_time": "2024-03-26T08:25:51.469Z"
   },
   {
    "duration": 12,
    "start_time": "2024-03-26T08:25:51.517Z"
   },
   {
    "duration": 32,
    "start_time": "2024-03-26T08:25:51.531Z"
   },
   {
    "duration": 4,
    "start_time": "2024-03-26T08:25:51.565Z"
   },
   {
    "duration": 4,
    "start_time": "2024-03-26T08:25:51.573Z"
   },
   {
    "duration": 6,
    "start_time": "2024-03-26T08:25:51.578Z"
   },
   {
    "duration": 29,
    "start_time": "2024-03-26T08:25:51.586Z"
   },
   {
    "duration": 18,
    "start_time": "2024-03-26T08:25:51.617Z"
   },
   {
    "duration": 45,
    "start_time": "2024-03-26T08:25:51.637Z"
   },
   {
    "duration": 3,
    "start_time": "2024-03-26T08:25:51.684Z"
   },
   {
    "duration": 47,
    "start_time": "2024-03-26T08:25:51.689Z"
   },
   {
    "duration": 41,
    "start_time": "2024-03-26T08:25:51.738Z"
   },
   {
    "duration": 34,
    "start_time": "2024-03-26T08:25:51.782Z"
   },
   {
    "duration": 514,
    "start_time": "2024-03-26T08:25:51.818Z"
   },
   {
    "duration": 131,
    "start_time": "2024-03-26T08:25:52.334Z"
   },
   {
    "duration": 0,
    "start_time": "2024-03-26T08:25:52.467Z"
   },
   {
    "duration": 0,
    "start_time": "2024-03-26T08:25:52.468Z"
   },
   {
    "duration": 0,
    "start_time": "2024-03-26T08:25:52.470Z"
   },
   {
    "duration": 628,
    "start_time": "2024-03-26T08:27:34.443Z"
   },
   {
    "duration": 573,
    "start_time": "2024-03-26T08:27:40.700Z"
   },
   {
    "duration": 2604,
    "start_time": "2024-03-26T08:27:57.818Z"
   },
   {
    "duration": 261,
    "start_time": "2024-03-26T08:28:05.316Z"
   },
   {
    "duration": 9,
    "start_time": "2024-03-26T08:31:57.266Z"
   },
   {
    "duration": 12,
    "start_time": "2024-03-26T08:32:30.812Z"
   },
   {
    "duration": 15,
    "start_time": "2024-03-26T08:33:27.787Z"
   },
   {
    "duration": 5,
    "start_time": "2024-03-26T08:38:18.459Z"
   },
   {
    "duration": 22,
    "start_time": "2024-03-26T08:38:19.651Z"
   },
   {
    "duration": 15,
    "start_time": "2024-03-26T08:38:24.792Z"
   },
   {
    "duration": 18,
    "start_time": "2024-03-26T08:38:57.766Z"
   },
   {
    "duration": 21,
    "start_time": "2024-03-26T08:39:45.723Z"
   },
   {
    "duration": 26,
    "start_time": "2024-03-26T08:39:51.633Z"
   },
   {
    "duration": 12,
    "start_time": "2024-03-26T08:42:06.425Z"
   },
   {
    "duration": 8,
    "start_time": "2024-03-26T08:43:47.933Z"
   },
   {
    "duration": 25,
    "start_time": "2024-03-26T08:43:51.011Z"
   },
   {
    "duration": 70,
    "start_time": "2024-03-26T08:45:01.337Z"
   },
   {
    "duration": 27,
    "start_time": "2024-03-26T08:45:07.747Z"
   },
   {
    "duration": 22,
    "start_time": "2024-03-26T08:45:18.405Z"
   },
   {
    "duration": 26,
    "start_time": "2024-03-26T08:45:38.846Z"
   },
   {
    "duration": 18,
    "start_time": "2024-03-26T08:46:04.555Z"
   },
   {
    "duration": 24,
    "start_time": "2024-03-26T08:46:11.088Z"
   },
   {
    "duration": 26,
    "start_time": "2024-03-26T08:46:22.116Z"
   },
   {
    "duration": 19,
    "start_time": "2024-03-26T08:46:32.637Z"
   },
   {
    "duration": 21,
    "start_time": "2024-03-26T08:46:39.740Z"
   },
   {
    "duration": 159,
    "start_time": "2024-03-26T08:46:50.162Z"
   },
   {
    "duration": 19,
    "start_time": "2024-03-26T08:47:28.875Z"
   },
   {
    "duration": 5,
    "start_time": "2024-03-26T08:47:32.404Z"
   },
   {
    "duration": 150,
    "start_time": "2024-03-26T08:47:51.705Z"
   },
   {
    "duration": 4,
    "start_time": "2024-03-26T08:48:15.130Z"
   },
   {
    "duration": 6,
    "start_time": "2024-03-26T08:48:16.021Z"
   },
   {
    "duration": 20,
    "start_time": "2024-03-26T08:48:27.580Z"
   },
   {
    "duration": 4,
    "start_time": "2024-03-26T08:49:24.043Z"
   },
   {
    "duration": 10,
    "start_time": "2024-03-26T08:49:24.743Z"
   },
   {
    "duration": 21,
    "start_time": "2024-03-26T08:49:29.107Z"
   },
   {
    "duration": 19,
    "start_time": "2024-03-26T08:49:49.672Z"
   },
   {
    "duration": 7,
    "start_time": "2024-03-26T08:49:54.354Z"
   },
   {
    "duration": 229,
    "start_time": "2024-03-26T08:49:59.569Z"
   },
   {
    "duration": 3,
    "start_time": "2024-03-26T08:50:11.786Z"
   },
   {
    "duration": 30,
    "start_time": "2024-03-26T08:50:19.810Z"
   },
   {
    "duration": 4,
    "start_time": "2024-03-26T09:33:18.725Z"
   },
   {
    "duration": 21,
    "start_time": "2024-03-26T09:33:34.095Z"
   },
   {
    "duration": 3,
    "start_time": "2024-03-26T09:33:53.381Z"
   },
   {
    "duration": 3,
    "start_time": "2024-03-26T09:33:53.706Z"
   },
   {
    "duration": 11,
    "start_time": "2024-03-26T09:35:08.505Z"
   },
   {
    "duration": 30,
    "start_time": "2024-03-26T09:35:14.009Z"
   },
   {
    "duration": 9,
    "start_time": "2024-03-26T09:36:51.779Z"
   },
   {
    "duration": 23,
    "start_time": "2024-03-26T09:36:58.497Z"
   },
   {
    "duration": 6,
    "start_time": "2024-03-26T09:37:04.147Z"
   },
   {
    "duration": 5297,
    "start_time": "2024-03-26T09:37:45.525Z"
   },
   {
    "duration": 5,
    "start_time": "2024-03-26T09:37:57.564Z"
   },
   {
    "duration": 3,
    "start_time": "2024-03-26T09:45:30.968Z"
   },
   {
    "duration": 5512,
    "start_time": "2024-03-26T09:45:31.508Z"
   },
   {
    "duration": 4,
    "start_time": "2024-03-26T09:45:37.759Z"
   },
   {
    "duration": 5011,
    "start_time": "2024-03-26T09:45:54.712Z"
   },
   {
    "duration": 6,
    "start_time": "2024-03-26T09:46:00.613Z"
   },
   {
    "duration": 26,
    "start_time": "2024-03-26T09:46:19.431Z"
   },
   {
    "duration": 4773,
    "start_time": "2024-03-26T09:46:33.142Z"
   },
   {
    "duration": 15,
    "start_time": "2024-03-26T09:46:48.443Z"
   },
   {
    "duration": 66172,
    "start_time": "2024-03-26T10:06:41.724Z"
   },
   {
    "duration": 100693,
    "start_time": "2024-03-26T10:08:44.475Z"
   },
   {
    "duration": 101671,
    "start_time": "2024-03-26T10:18:31.487Z"
   },
   {
    "duration": 302,
    "start_time": "2024-03-26T10:21:57.754Z"
   },
   {
    "duration": 270,
    "start_time": "2024-03-26T10:22:06.991Z"
   },
   {
    "duration": 30,
    "start_time": "2024-03-26T10:22:08.420Z"
   },
   {
    "duration": 70206,
    "start_time": "2024-03-26T10:23:37.319Z"
   },
   {
    "duration": 4,
    "start_time": "2024-03-26T10:25:53.747Z"
   },
   {
    "duration": 22,
    "start_time": "2024-03-26T10:26:34.725Z"
   },
   {
    "duration": 46,
    "start_time": "2024-03-26T10:26:44.296Z"
   },
   {
    "duration": 47,
    "start_time": "2024-03-26T10:26:55.797Z"
   },
   {
    "duration": 10,
    "start_time": "2024-03-26T10:27:28.839Z"
   },
   {
    "duration": 1629,
    "start_time": "2024-03-28T18:26:53.519Z"
   },
   {
    "duration": 254,
    "start_time": "2024-03-28T18:26:56.093Z"
   },
   {
    "duration": 14,
    "start_time": "2024-03-28T18:29:17.916Z"
   },
   {
    "duration": 13,
    "start_time": "2024-03-28T18:29:18.426Z"
   },
   {
    "duration": 12,
    "start_time": "2024-03-28T18:29:18.991Z"
   },
   {
    "duration": 11,
    "start_time": "2024-03-28T18:29:19.761Z"
   },
   {
    "duration": 7,
    "start_time": "2024-03-28T18:29:20.390Z"
   },
   {
    "duration": 8,
    "start_time": "2024-03-28T18:29:21.075Z"
   },
   {
    "duration": 5,
    "start_time": "2024-03-28T18:29:21.573Z"
   },
   {
    "duration": 10,
    "start_time": "2024-03-28T18:29:27.006Z"
   },
   {
    "duration": 4,
    "start_time": "2024-03-28T18:29:35.413Z"
   },
   {
    "duration": 3,
    "start_time": "2024-03-28T18:29:40.220Z"
   },
   {
    "duration": 3,
    "start_time": "2024-03-28T18:29:40.694Z"
   },
   {
    "duration": 3,
    "start_time": "2024-03-28T18:29:41.589Z"
   },
   {
    "duration": 3,
    "start_time": "2024-03-28T18:29:42.246Z"
   },
   {
    "duration": 5,
    "start_time": "2024-03-28T18:29:42.898Z"
   },
   {
    "duration": 24,
    "start_time": "2024-03-28T18:29:43.335Z"
   },
   {
    "duration": 3,
    "start_time": "2024-03-28T18:29:43.887Z"
   },
   {
    "duration": 3,
    "start_time": "2024-03-28T18:29:44.445Z"
   },
   {
    "duration": 16,
    "start_time": "2024-03-28T18:29:52.941Z"
   },
   {
    "duration": 9,
    "start_time": "2024-03-28T18:29:58.434Z"
   },
   {
    "duration": 11,
    "start_time": "2024-03-28T18:29:58.769Z"
   },
   {
    "duration": 13,
    "start_time": "2024-03-28T18:30:02.531Z"
   },
   {
    "duration": 150,
    "start_time": "2024-03-28T18:30:02.888Z"
   },
   {
    "duration": 334,
    "start_time": "2024-03-28T18:30:03.237Z"
   },
   {
    "duration": 7,
    "start_time": "2024-03-28T18:30:04.187Z"
   },
   {
    "duration": 6,
    "start_time": "2024-03-28T18:30:05.182Z"
   },
   {
    "duration": 4,
    "start_time": "2024-03-28T18:30:08.093Z"
   },
   {
    "duration": 13,
    "start_time": "2024-03-28T18:30:08.508Z"
   },
   {
    "duration": 3,
    "start_time": "2024-03-28T18:30:08.926Z"
   },
   {
    "duration": 27,
    "start_time": "2024-03-28T18:30:09.394Z"
   },
   {
    "duration": 45,
    "start_time": "2024-03-28T18:30:16.730Z"
   },
   {
    "duration": 44,
    "start_time": "2024-03-28T18:30:17.301Z"
   },
   {
    "duration": 765,
    "start_time": "2024-03-28T18:38:09.118Z"
   },
   {
    "duration": 6,
    "start_time": "2024-03-28T18:45:39.518Z"
   },
   {
    "duration": 4,
    "start_time": "2024-03-28T18:46:21.360Z"
   },
   {
    "duration": 3,
    "start_time": "2024-03-28T18:47:01.795Z"
   },
   {
    "duration": 471,
    "start_time": "2024-03-28T18:47:09.987Z"
   },
   {
    "duration": 263,
    "start_time": "2024-03-28T18:47:24.373Z"
   },
   {
    "duration": 662,
    "start_time": "2024-03-28T18:47:25.273Z"
   },
   {
    "duration": 412,
    "start_time": "2024-03-28T18:47:43.956Z"
   },
   {
    "duration": 187,
    "start_time": "2024-03-28T18:49:27.457Z"
   },
   {
    "duration": 106,
    "start_time": "2024-03-28T18:54:50.984Z"
   },
   {
    "duration": 3186,
    "start_time": "2024-03-28T18:55:15.186Z"
   },
   {
    "duration": 29,
    "start_time": "2024-03-28T18:55:24.513Z"
   },
   {
    "duration": 449,
    "start_time": "2024-03-28T18:56:00.314Z"
   },
   {
    "duration": 389,
    "start_time": "2024-03-28T19:55:12.612Z"
   },
   {
    "duration": 405,
    "start_time": "2024-03-28T19:55:54.722Z"
   },
   {
    "duration": 8,
    "start_time": "2024-03-28T20:02:57.223Z"
   },
   {
    "duration": 6,
    "start_time": "2024-03-28T20:03:02.312Z"
   },
   {
    "duration": 27,
    "start_time": "2024-03-28T20:03:17.619Z"
   },
   {
    "duration": 5,
    "start_time": "2024-03-28T20:04:06.106Z"
   },
   {
    "duration": 3,
    "start_time": "2024-03-28T20:04:52.750Z"
   },
   {
    "duration": 2319,
    "start_time": "2024-03-28T20:05:07.724Z"
   },
   {
    "duration": 6,
    "start_time": "2024-03-28T20:05:10.046Z"
   },
   {
    "duration": 274,
    "start_time": "2024-03-28T20:05:10.054Z"
   },
   {
    "duration": 12,
    "start_time": "2024-03-28T20:05:10.996Z"
   },
   {
    "duration": 11,
    "start_time": "2024-03-28T20:05:11.292Z"
   },
   {
    "duration": 11,
    "start_time": "2024-03-28T20:05:11.745Z"
   },
   {
    "duration": 10,
    "start_time": "2024-03-28T20:05:12.112Z"
   },
   {
    "duration": 5,
    "start_time": "2024-03-28T20:05:12.840Z"
   },
   {
    "duration": 6,
    "start_time": "2024-03-28T20:05:16.732Z"
   },
   {
    "duration": 6,
    "start_time": "2024-03-28T20:05:17.000Z"
   },
   {
    "duration": 10,
    "start_time": "2024-03-28T20:05:18.214Z"
   },
   {
    "duration": 3,
    "start_time": "2024-03-28T20:05:19.250Z"
   },
   {
    "duration": 2,
    "start_time": "2024-03-28T20:05:20.997Z"
   },
   {
    "duration": 3,
    "start_time": "2024-03-28T20:05:21.436Z"
   },
   {
    "duration": 3,
    "start_time": "2024-03-28T20:05:22.026Z"
   },
   {
    "duration": 3,
    "start_time": "2024-03-28T20:05:22.619Z"
   },
   {
    "duration": 3,
    "start_time": "2024-03-28T20:05:23.119Z"
   },
   {
    "duration": 39,
    "start_time": "2024-03-28T20:05:23.770Z"
   },
   {
    "duration": 11,
    "start_time": "2024-03-28T20:05:24.152Z"
   },
   {
    "duration": 7874,
    "start_time": "2024-03-28T20:05:42.999Z"
   },
   {
    "duration": 8304,
    "start_time": "2024-03-28T20:06:00.306Z"
   },
   {
    "duration": 5,
    "start_time": "2024-03-28T20:06:11.119Z"
   },
   {
    "duration": 133,
    "start_time": "2024-03-28T20:06:12.568Z"
   },
   {
    "duration": 15,
    "start_time": "2024-03-28T20:06:13.508Z"
   },
   {
    "duration": 12,
    "start_time": "2024-03-28T20:06:13.732Z"
   },
   {
    "duration": 10,
    "start_time": "2024-03-28T20:06:14.522Z"
   },
   {
    "duration": 20,
    "start_time": "2024-03-28T20:06:14.534Z"
   },
   {
    "duration": 5,
    "start_time": "2024-03-28T20:06:14.620Z"
   },
   {
    "duration": 5,
    "start_time": "2024-03-28T20:06:14.920Z"
   },
   {
    "duration": 5,
    "start_time": "2024-03-28T20:06:15.285Z"
   },
   {
    "duration": 9,
    "start_time": "2024-03-28T20:06:16.013Z"
   },
   {
    "duration": 3,
    "start_time": "2024-03-28T20:06:16.366Z"
   },
   {
    "duration": 2,
    "start_time": "2024-03-28T20:06:23.875Z"
   },
   {
    "duration": 3,
    "start_time": "2024-03-28T20:06:33.381Z"
   },
   {
    "duration": 3,
    "start_time": "2024-03-28T20:06:33.880Z"
   },
   {
    "duration": 3,
    "start_time": "2024-03-28T20:06:34.212Z"
   },
   {
    "duration": 2,
    "start_time": "2024-03-28T20:06:34.476Z"
   },
   {
    "duration": 36,
    "start_time": "2024-03-28T20:06:35.312Z"
   },
   {
    "duration": 3,
    "start_time": "2024-03-28T20:10:22.961Z"
   },
   {
    "duration": 2,
    "start_time": "2024-03-28T20:10:23.697Z"
   },
   {
    "duration": 3,
    "start_time": "2024-03-28T20:10:24.281Z"
   },
   {
    "duration": 31,
    "start_time": "2024-03-28T20:10:24.856Z"
   },
   {
    "duration": 3,
    "start_time": "2024-03-28T20:10:59.193Z"
   },
   {
    "duration": 3,
    "start_time": "2024-03-28T20:10:59.673Z"
   },
   {
    "duration": 3,
    "start_time": "2024-03-28T20:11:00.067Z"
   },
   {
    "duration": 33,
    "start_time": "2024-03-28T20:11:00.409Z"
   },
   {
    "duration": 3,
    "start_time": "2024-03-28T20:13:12.747Z"
   },
   {
    "duration": 3,
    "start_time": "2024-03-28T20:13:13.121Z"
   },
   {
    "duration": 4,
    "start_time": "2024-03-28T20:13:13.482Z"
   },
   {
    "duration": 24,
    "start_time": "2024-03-28T20:13:14.203Z"
   },
   {
    "duration": 3,
    "start_time": "2024-03-28T20:13:15.603Z"
   },
   {
    "duration": 3,
    "start_time": "2024-03-28T20:14:26.936Z"
   },
   {
    "duration": 3,
    "start_time": "2024-03-28T20:14:28.095Z"
   },
   {
    "duration": 3,
    "start_time": "2024-03-28T20:14:28.570Z"
   },
   {
    "duration": 24,
    "start_time": "2024-03-28T20:14:28.919Z"
   },
   {
    "duration": 2,
    "start_time": "2024-03-28T20:14:29.326Z"
   },
   {
    "duration": 3,
    "start_time": "2024-03-28T20:14:29.806Z"
   },
   {
    "duration": 20,
    "start_time": "2024-03-28T20:14:30.339Z"
   },
   {
    "duration": 9,
    "start_time": "2024-03-28T20:14:33.503Z"
   },
   {
    "duration": 11,
    "start_time": "2024-03-28T20:14:33.919Z"
   },
   {
    "duration": 10,
    "start_time": "2024-03-28T20:14:34.432Z"
   },
   {
    "duration": 5,
    "start_time": "2024-03-28T20:14:34.912Z"
   },
   {
    "duration": 9,
    "start_time": "2024-03-28T20:14:35.376Z"
   },
   {
    "duration": 6,
    "start_time": "2024-03-28T20:14:35.879Z"
   },
   {
    "duration": 5,
    "start_time": "2024-03-28T20:14:36.363Z"
   },
   {
    "duration": 4,
    "start_time": "2024-03-28T20:14:37.342Z"
   },
   {
    "duration": 13,
    "start_time": "2024-03-28T20:14:37.812Z"
   },
   {
    "duration": 3,
    "start_time": "2024-03-28T20:14:38.208Z"
   },
   {
    "duration": 18,
    "start_time": "2024-03-28T20:14:38.715Z"
   },
   {
    "duration": 51,
    "start_time": "2024-03-28T20:14:41.135Z"
   },
   {
    "duration": 39,
    "start_time": "2024-03-28T20:14:41.677Z"
   },
   {
    "duration": 510,
    "start_time": "2024-03-28T20:14:43.291Z"
   },
   {
    "duration": 192,
    "start_time": "2024-03-28T20:14:43.803Z"
   },
   {
    "duration": 264,
    "start_time": "2024-03-28T20:14:44.476Z"
   },
   {
    "duration": 580,
    "start_time": "2024-03-28T20:14:45.082Z"
   },
   {
    "duration": 397,
    "start_time": "2024-03-28T20:14:45.850Z"
   },
   {
    "duration": 413,
    "start_time": "2024-03-28T20:14:46.580Z"
   },
   {
    "duration": 4,
    "start_time": "2024-03-28T20:18:31.011Z"
   },
   {
    "duration": 4,
    "start_time": "2024-03-28T20:18:31.430Z"
   },
   {
    "duration": 81,
    "start_time": "2024-03-28T20:18:31.440Z"
   },
   {
    "duration": 24,
    "start_time": "2024-03-28T20:18:31.733Z"
   },
   {
    "duration": 4,
    "start_time": "2024-03-28T20:18:32.045Z"
   },
   {
    "duration": 4,
    "start_time": "2024-03-28T20:18:32.385Z"
   },
   {
    "duration": 15,
    "start_time": "2024-03-28T20:18:32.665Z"
   },
   {
    "duration": 11,
    "start_time": "2024-03-28T20:18:34.504Z"
   },
   {
    "duration": 11,
    "start_time": "2024-03-28T20:18:34.834Z"
   },
   {
    "duration": 10,
    "start_time": "2024-03-28T20:18:35.218Z"
   },
   {
    "duration": 5,
    "start_time": "2024-03-28T20:18:35.562Z"
   },
   {
    "duration": 9,
    "start_time": "2024-03-28T20:18:35.812Z"
   },
   {
    "duration": 5,
    "start_time": "2024-03-28T20:18:36.151Z"
   },
   {
    "duration": 6,
    "start_time": "2024-03-28T20:18:36.470Z"
   },
   {
    "duration": 4,
    "start_time": "2024-03-28T20:18:37.108Z"
   },
   {
    "duration": 29,
    "start_time": "2024-03-28T20:18:37.349Z"
   },
   {
    "duration": 3,
    "start_time": "2024-03-28T20:18:37.655Z"
   },
   {
    "duration": 15,
    "start_time": "2024-03-28T20:18:37.961Z"
   },
   {
    "duration": 4,
    "start_time": "2024-03-28T20:19:18.376Z"
   },
   {
    "duration": 14,
    "start_time": "2024-03-28T20:19:28.315Z"
   },
   {
    "duration": 5,
    "start_time": "2024-03-28T20:19:34.240Z"
   },
   {
    "duration": 7,
    "start_time": "2024-03-28T20:19:42.864Z"
   },
   {
    "duration": 7,
    "start_time": "2024-03-28T20:19:47.566Z"
   },
   {
    "duration": 7,
    "start_time": "2024-03-28T20:19:55.221Z"
   },
   {
    "duration": 28,
    "start_time": "2024-03-28T20:20:01.615Z"
   },
   {
    "duration": 17,
    "start_time": "2024-03-28T20:20:11.336Z"
   },
   {
    "duration": 16,
    "start_time": "2024-03-28T20:20:18.691Z"
   },
   {
    "duration": 7,
    "start_time": "2024-03-28T20:20:31.958Z"
   },
   {
    "duration": 14,
    "start_time": "2024-03-28T20:20:37.055Z"
   },
   {
    "duration": 6,
    "start_time": "2024-03-28T20:21:03.956Z"
   },
   {
    "duration": 3,
    "start_time": "2024-03-28T20:22:55.422Z"
   },
   {
    "duration": 3,
    "start_time": "2024-03-28T20:22:56.181Z"
   },
   {
    "duration": 3,
    "start_time": "2024-03-28T20:22:56.561Z"
   },
   {
    "duration": 40,
    "start_time": "2024-03-28T20:22:57.062Z"
   },
   {
    "duration": 144,
    "start_time": "2024-03-28T20:23:14.380Z"
   },
   {
    "duration": 3,
    "start_time": "2024-03-28T20:23:20.117Z"
   },
   {
    "duration": 3,
    "start_time": "2024-03-28T20:23:20.843Z"
   },
   {
    "duration": 3,
    "start_time": "2024-03-28T20:23:21.889Z"
   },
   {
    "duration": 35,
    "start_time": "2024-03-28T20:23:22.295Z"
   },
   {
    "duration": 3,
    "start_time": "2024-03-28T20:24:09.011Z"
   },
   {
    "duration": 3,
    "start_time": "2024-03-28T20:24:09.348Z"
   },
   {
    "duration": 2,
    "start_time": "2024-03-28T20:24:09.731Z"
   },
   {
    "duration": 48,
    "start_time": "2024-03-28T20:24:10.203Z"
   },
   {
    "duration": 3,
    "start_time": "2024-03-28T20:24:35.288Z"
   },
   {
    "duration": 3,
    "start_time": "2024-03-28T20:24:35.808Z"
   },
   {
    "duration": 24,
    "start_time": "2024-03-28T20:24:36.217Z"
   },
   {
    "duration": 3,
    "start_time": "2024-03-28T20:25:03.652Z"
   },
   {
    "duration": 3,
    "start_time": "2024-03-28T20:25:04.328Z"
   },
   {
    "duration": 19,
    "start_time": "2024-03-28T20:25:28.674Z"
   },
   {
    "duration": 30,
    "start_time": "2024-03-28T20:25:35.438Z"
   },
   {
    "duration": 9,
    "start_time": "2024-03-28T20:25:51.457Z"
   },
   {
    "duration": 3,
    "start_time": "2024-03-28T20:26:12.982Z"
   },
   {
    "duration": 3,
    "start_time": "2024-03-28T20:26:14.114Z"
   },
   {
    "duration": 14,
    "start_time": "2024-03-28T20:26:14.824Z"
   },
   {
    "duration": 10,
    "start_time": "2024-03-28T20:26:19.019Z"
   },
   {
    "duration": 10,
    "start_time": "2024-03-28T20:26:19.880Z"
   },
   {
    "duration": 9,
    "start_time": "2024-03-28T20:26:24.071Z"
   },
   {
    "duration": 5,
    "start_time": "2024-03-28T20:26:25.620Z"
   },
   {
    "duration": 10,
    "start_time": "2024-03-28T20:26:26.424Z"
   },
   {
    "duration": 6,
    "start_time": "2024-03-28T20:26:27.246Z"
   },
   {
    "duration": 6,
    "start_time": "2024-03-28T20:26:30.795Z"
   },
   {
    "duration": 3,
    "start_time": "2024-03-28T20:26:33.141Z"
   },
   {
    "duration": 26,
    "start_time": "2024-03-28T20:26:45.554Z"
   },
   {
    "duration": 104,
    "start_time": "2024-03-28T20:27:04.824Z"
   },
   {
    "duration": 15,
    "start_time": "2024-03-28T20:27:12.148Z"
   },
   {
    "duration": 3,
    "start_time": "2024-03-28T20:27:29.487Z"
   },
   {
    "duration": 15,
    "start_time": "2024-03-28T20:27:30.213Z"
   },
   {
    "duration": 34,
    "start_time": "2024-03-28T20:27:33.441Z"
   },
   {
    "duration": 34,
    "start_time": "2024-03-28T20:27:34.762Z"
   },
   {
    "duration": 447,
    "start_time": "2024-03-28T20:27:36.904Z"
   },
   {
    "duration": 175,
    "start_time": "2024-03-28T20:27:38.247Z"
   },
   {
    "duration": 254,
    "start_time": "2024-03-28T20:27:39.054Z"
   },
   {
    "duration": 397,
    "start_time": "2024-03-28T20:27:39.929Z"
   },
   {
    "duration": 256,
    "start_time": "2024-03-28T20:27:47.078Z"
   },
   {
    "duration": 260,
    "start_time": "2024-03-28T20:27:52.114Z"
   },
   {
    "duration": 2,
    "start_time": "2024-03-28T20:28:18.356Z"
   },
   {
    "duration": 7,
    "start_time": "2024-03-28T20:28:22.098Z"
   },
   {
    "duration": 10,
    "start_time": "2024-03-28T20:28:23.441Z"
   },
   {
    "duration": 13,
    "start_time": "2024-03-28T20:28:24.221Z"
   },
   {
    "duration": 9,
    "start_time": "2024-03-28T20:28:27.850Z"
   },
   {
    "duration": 13,
    "start_time": "2024-03-28T20:28:28.521Z"
   },
   {
    "duration": 3,
    "start_time": "2024-03-28T20:28:31.276Z"
   },
   {
    "duration": 176,
    "start_time": "2024-03-28T20:28:34.985Z"
   },
   {
    "duration": 6,
    "start_time": "2024-03-28T20:28:35.719Z"
   },
   {
    "duration": 3,
    "start_time": "2024-03-28T20:28:40.423Z"
   },
   {
    "duration": 27,
    "start_time": "2024-03-28T20:28:42.629Z"
   },
   {
    "duration": 5,
    "start_time": "2024-03-28T20:28:43.142Z"
   },
   {
    "duration": 3,
    "start_time": "2024-03-28T20:28:45.452Z"
   },
   {
    "duration": 2,
    "start_time": "2024-03-28T20:28:45.825Z"
   },
   {
    "duration": 3,
    "start_time": "2024-03-28T20:28:46.291Z"
   },
   {
    "duration": 525923,
    "start_time": "2024-03-28T20:28:55.987Z"
   },
   {
    "duration": 5360,
    "start_time": "2024-03-28T20:42:02.878Z"
   },
   {
    "duration": 1344,
    "start_time": "2024-03-28T20:42:08.241Z"
   },
   {
    "duration": 130,
    "start_time": "2024-03-28T20:42:09.587Z"
   },
   {
    "duration": 13,
    "start_time": "2024-03-28T20:42:09.719Z"
   },
   {
    "duration": 15,
    "start_time": "2024-03-28T20:42:09.733Z"
   },
   {
    "duration": 16,
    "start_time": "2024-03-28T20:42:09.749Z"
   },
   {
    "duration": 10,
    "start_time": "2024-03-28T20:42:09.766Z"
   },
   {
    "duration": 6,
    "start_time": "2024-03-28T20:42:09.777Z"
   },
   {
    "duration": 26,
    "start_time": "2024-03-28T20:42:09.784Z"
   },
   {
    "duration": 6,
    "start_time": "2024-03-28T20:42:09.812Z"
   },
   {
    "duration": 9,
    "start_time": "2024-03-28T20:42:09.819Z"
   },
   {
    "duration": 4,
    "start_time": "2024-03-28T20:42:09.829Z"
   },
   {
    "duration": 4,
    "start_time": "2024-03-28T20:42:09.834Z"
   },
   {
    "duration": 3,
    "start_time": "2024-03-28T20:42:09.839Z"
   },
   {
    "duration": 16,
    "start_time": "2024-03-28T20:42:09.843Z"
   },
   {
    "duration": 3,
    "start_time": "2024-03-28T20:42:09.860Z"
   },
   {
    "duration": 2,
    "start_time": "2024-03-28T20:42:09.864Z"
   },
   {
    "duration": 29,
    "start_time": "2024-03-28T20:42:09.868Z"
   },
   {
    "duration": 124,
    "start_time": "2024-03-28T20:42:09.899Z"
   },
   {
    "duration": 0,
    "start_time": "2024-03-28T20:42:10.026Z"
   },
   {
    "duration": 0,
    "start_time": "2024-03-28T20:42:10.028Z"
   },
   {
    "duration": 0,
    "start_time": "2024-03-28T20:42:10.029Z"
   },
   {
    "duration": 0,
    "start_time": "2024-03-28T20:42:10.030Z"
   },
   {
    "duration": 0,
    "start_time": "2024-03-28T20:42:10.031Z"
   },
   {
    "duration": 0,
    "start_time": "2024-03-28T20:42:10.032Z"
   },
   {
    "duration": 0,
    "start_time": "2024-03-28T20:42:10.033Z"
   },
   {
    "duration": 0,
    "start_time": "2024-03-28T20:42:10.034Z"
   },
   {
    "duration": 0,
    "start_time": "2024-03-28T20:42:10.035Z"
   },
   {
    "duration": 0,
    "start_time": "2024-03-28T20:42:10.036Z"
   },
   {
    "duration": 0,
    "start_time": "2024-03-28T20:42:10.037Z"
   },
   {
    "duration": 0,
    "start_time": "2024-03-28T20:42:10.038Z"
   },
   {
    "duration": 0,
    "start_time": "2024-03-28T20:42:10.058Z"
   },
   {
    "duration": 0,
    "start_time": "2024-03-28T20:42:10.059Z"
   },
   {
    "duration": 0,
    "start_time": "2024-03-28T20:42:10.060Z"
   },
   {
    "duration": 0,
    "start_time": "2024-03-28T20:42:10.061Z"
   },
   {
    "duration": 0,
    "start_time": "2024-03-28T20:42:10.062Z"
   },
   {
    "duration": 0,
    "start_time": "2024-03-28T20:42:10.063Z"
   },
   {
    "duration": 0,
    "start_time": "2024-03-28T20:42:10.064Z"
   },
   {
    "duration": 0,
    "start_time": "2024-03-28T20:42:10.065Z"
   },
   {
    "duration": 0,
    "start_time": "2024-03-28T20:42:10.066Z"
   },
   {
    "duration": 0,
    "start_time": "2024-03-28T20:42:10.067Z"
   },
   {
    "duration": 0,
    "start_time": "2024-03-28T20:42:10.068Z"
   },
   {
    "duration": 0,
    "start_time": "2024-03-28T20:42:10.069Z"
   },
   {
    "duration": 0,
    "start_time": "2024-03-28T20:42:10.070Z"
   },
   {
    "duration": 0,
    "start_time": "2024-03-28T20:42:10.071Z"
   },
   {
    "duration": 0,
    "start_time": "2024-03-28T20:42:10.072Z"
   },
   {
    "duration": 0,
    "start_time": "2024-03-28T20:42:10.073Z"
   },
   {
    "duration": 0,
    "start_time": "2024-03-28T20:42:10.074Z"
   },
   {
    "duration": 0,
    "start_time": "2024-03-28T20:42:10.075Z"
   },
   {
    "duration": 0,
    "start_time": "2024-03-28T20:42:10.076Z"
   },
   {
    "duration": 0,
    "start_time": "2024-03-28T20:42:10.077Z"
   },
   {
    "duration": 0,
    "start_time": "2024-03-28T20:42:10.078Z"
   },
   {
    "duration": 0,
    "start_time": "2024-03-28T20:42:10.078Z"
   },
   {
    "duration": 0,
    "start_time": "2024-03-28T20:42:10.079Z"
   },
   {
    "duration": 0,
    "start_time": "2024-03-28T20:42:10.080Z"
   },
   {
    "duration": 0,
    "start_time": "2024-03-28T20:42:10.081Z"
   },
   {
    "duration": 0,
    "start_time": "2024-03-28T20:42:10.082Z"
   },
   {
    "duration": 0,
    "start_time": "2024-03-28T20:42:10.083Z"
   },
   {
    "duration": 0,
    "start_time": "2024-03-28T20:42:10.084Z"
   },
   {
    "duration": 0,
    "start_time": "2024-03-28T20:42:10.084Z"
   },
   {
    "duration": 0,
    "start_time": "2024-03-28T20:42:10.085Z"
   },
   {
    "duration": 0,
    "start_time": "2024-03-28T20:42:10.086Z"
   },
   {
    "duration": 0,
    "start_time": "2024-03-28T20:42:10.087Z"
   },
   {
    "duration": 0,
    "start_time": "2024-03-28T20:42:10.088Z"
   },
   {
    "duration": 0,
    "start_time": "2024-03-28T20:42:10.089Z"
   },
   {
    "duration": 0,
    "start_time": "2024-03-28T20:42:10.090Z"
   },
   {
    "duration": 0,
    "start_time": "2024-03-28T20:42:10.091Z"
   },
   {
    "duration": 0,
    "start_time": "2024-03-28T20:42:10.092Z"
   },
   {
    "duration": 0,
    "start_time": "2024-03-28T20:42:10.093Z"
   },
   {
    "duration": 0,
    "start_time": "2024-03-28T20:42:10.094Z"
   },
   {
    "duration": 0,
    "start_time": "2024-03-28T20:42:10.095Z"
   },
   {
    "duration": 0,
    "start_time": "2024-03-28T20:42:10.096Z"
   },
   {
    "duration": 0,
    "start_time": "2024-03-28T20:42:10.097Z"
   },
   {
    "duration": 0,
    "start_time": "2024-03-28T20:42:10.159Z"
   },
   {
    "duration": 0,
    "start_time": "2024-03-28T20:42:10.160Z"
   },
   {
    "duration": 0,
    "start_time": "2024-03-28T20:42:10.161Z"
   },
   {
    "duration": 0,
    "start_time": "2024-03-28T20:42:10.161Z"
   },
   {
    "duration": 0,
    "start_time": "2024-03-28T20:42:10.162Z"
   },
   {
    "duration": 0,
    "start_time": "2024-03-28T20:42:10.163Z"
   },
   {
    "duration": 0,
    "start_time": "2024-03-28T20:42:10.164Z"
   },
   {
    "duration": 0,
    "start_time": "2024-03-28T20:42:10.165Z"
   },
   {
    "duration": 0,
    "start_time": "2024-03-28T20:42:10.166Z"
   },
   {
    "duration": 0,
    "start_time": "2024-03-28T20:42:10.167Z"
   },
   {
    "duration": 0,
    "start_time": "2024-03-28T20:42:10.168Z"
   },
   {
    "duration": 0,
    "start_time": "2024-03-28T20:42:10.169Z"
   },
   {
    "duration": 0,
    "start_time": "2024-03-28T20:42:10.170Z"
   },
   {
    "duration": 0,
    "start_time": "2024-03-28T20:42:10.171Z"
   },
   {
    "duration": 0,
    "start_time": "2024-03-28T20:42:10.172Z"
   },
   {
    "duration": 0,
    "start_time": "2024-03-28T20:42:10.172Z"
   },
   {
    "duration": 0,
    "start_time": "2024-03-28T20:42:10.173Z"
   },
   {
    "duration": 0,
    "start_time": "2024-03-28T20:42:10.174Z"
   },
   {
    "duration": 0,
    "start_time": "2024-03-28T20:42:10.175Z"
   },
   {
    "duration": 0,
    "start_time": "2024-03-28T20:42:10.176Z"
   },
   {
    "duration": 0,
    "start_time": "2024-03-28T20:42:10.177Z"
   },
   {
    "duration": 0,
    "start_time": "2024-03-28T20:42:10.178Z"
   },
   {
    "duration": 0,
    "start_time": "2024-03-28T20:42:10.179Z"
   },
   {
    "duration": 0,
    "start_time": "2024-03-28T20:42:10.180Z"
   },
   {
    "duration": 0,
    "start_time": "2024-03-28T20:42:10.181Z"
   },
   {
    "duration": 0,
    "start_time": "2024-03-28T20:42:10.182Z"
   },
   {
    "duration": 0,
    "start_time": "2024-03-28T20:42:10.183Z"
   },
   {
    "duration": 0,
    "start_time": "2024-03-28T20:42:10.184Z"
   },
   {
    "duration": 0,
    "start_time": "2024-03-28T20:42:10.185Z"
   },
   {
    "duration": 0,
    "start_time": "2024-03-28T20:42:10.186Z"
   },
   {
    "duration": 0,
    "start_time": "2024-03-28T20:42:10.187Z"
   },
   {
    "duration": 0,
    "start_time": "2024-03-28T20:42:10.188Z"
   },
   {
    "duration": 0,
    "start_time": "2024-03-28T20:42:10.189Z"
   },
   {
    "duration": 0,
    "start_time": "2024-03-28T20:42:10.189Z"
   },
   {
    "duration": 10,
    "start_time": "2024-03-28T20:44:47.471Z"
   },
   {
    "duration": 8,
    "start_time": "2024-03-28T20:44:52.432Z"
   },
   {
    "duration": 5204,
    "start_time": "2024-03-28T20:45:35.913Z"
   },
   {
    "duration": 1256,
    "start_time": "2024-03-28T20:45:41.119Z"
   },
   {
    "duration": 127,
    "start_time": "2024-03-28T20:45:42.377Z"
   },
   {
    "duration": 17,
    "start_time": "2024-03-28T20:45:42.507Z"
   },
   {
    "duration": 11,
    "start_time": "2024-03-28T20:45:42.525Z"
   },
   {
    "duration": 12,
    "start_time": "2024-03-28T20:45:42.538Z"
   },
   {
    "duration": 12,
    "start_time": "2024-03-28T20:45:42.551Z"
   },
   {
    "duration": 5,
    "start_time": "2024-03-28T20:45:42.564Z"
   },
   {
    "duration": 7,
    "start_time": "2024-03-28T20:45:42.570Z"
   },
   {
    "duration": 4,
    "start_time": "2024-03-28T20:45:42.579Z"
   },
   {
    "duration": 9,
    "start_time": "2024-03-28T20:45:42.585Z"
   },
   {
    "duration": 9,
    "start_time": "2024-03-28T20:45:42.596Z"
   },
   {
    "duration": 4,
    "start_time": "2024-03-28T20:45:42.606Z"
   },
   {
    "duration": 3,
    "start_time": "2024-03-28T20:45:42.611Z"
   },
   {
    "duration": 8,
    "start_time": "2024-03-28T20:45:42.615Z"
   },
   {
    "duration": 15,
    "start_time": "2024-03-28T20:45:42.625Z"
   },
   {
    "duration": 7,
    "start_time": "2024-03-28T20:45:42.641Z"
   },
   {
    "duration": 32,
    "start_time": "2024-03-28T20:45:42.659Z"
   },
   {
    "duration": 108,
    "start_time": "2024-03-28T20:45:42.693Z"
   },
   {
    "duration": 1,
    "start_time": "2024-03-28T20:45:42.804Z"
   },
   {
    "duration": 0,
    "start_time": "2024-03-28T20:45:42.806Z"
   },
   {
    "duration": 0,
    "start_time": "2024-03-28T20:45:42.807Z"
   },
   {
    "duration": 0,
    "start_time": "2024-03-28T20:45:42.808Z"
   },
   {
    "duration": 0,
    "start_time": "2024-03-28T20:45:42.809Z"
   },
   {
    "duration": 0,
    "start_time": "2024-03-28T20:45:42.810Z"
   },
   {
    "duration": 0,
    "start_time": "2024-03-28T20:45:42.811Z"
   },
   {
    "duration": 0,
    "start_time": "2024-03-28T20:45:42.812Z"
   },
   {
    "duration": 0,
    "start_time": "2024-03-28T20:45:42.813Z"
   },
   {
    "duration": 1,
    "start_time": "2024-03-28T20:45:42.813Z"
   },
   {
    "duration": 0,
    "start_time": "2024-03-28T20:45:42.814Z"
   },
   {
    "duration": 0,
    "start_time": "2024-03-28T20:45:42.815Z"
   },
   {
    "duration": 0,
    "start_time": "2024-03-28T20:45:42.816Z"
   },
   {
    "duration": 0,
    "start_time": "2024-03-28T20:45:42.817Z"
   },
   {
    "duration": 0,
    "start_time": "2024-03-28T20:45:42.818Z"
   },
   {
    "duration": 0,
    "start_time": "2024-03-28T20:45:42.819Z"
   },
   {
    "duration": 0,
    "start_time": "2024-03-28T20:45:42.820Z"
   },
   {
    "duration": 0,
    "start_time": "2024-03-28T20:45:42.820Z"
   },
   {
    "duration": 0,
    "start_time": "2024-03-28T20:45:42.821Z"
   },
   {
    "duration": 0,
    "start_time": "2024-03-28T20:45:42.822Z"
   },
   {
    "duration": 0,
    "start_time": "2024-03-28T20:45:42.823Z"
   },
   {
    "duration": 0,
    "start_time": "2024-03-28T20:45:42.824Z"
   },
   {
    "duration": 0,
    "start_time": "2024-03-28T20:45:42.859Z"
   },
   {
    "duration": 0,
    "start_time": "2024-03-28T20:45:42.860Z"
   },
   {
    "duration": 0,
    "start_time": "2024-03-28T20:45:42.861Z"
   },
   {
    "duration": 0,
    "start_time": "2024-03-28T20:45:42.862Z"
   },
   {
    "duration": 0,
    "start_time": "2024-03-28T20:45:42.863Z"
   },
   {
    "duration": 0,
    "start_time": "2024-03-28T20:45:42.864Z"
   },
   {
    "duration": 0,
    "start_time": "2024-03-28T20:45:42.865Z"
   },
   {
    "duration": 0,
    "start_time": "2024-03-28T20:45:42.866Z"
   },
   {
    "duration": 0,
    "start_time": "2024-03-28T20:45:42.867Z"
   },
   {
    "duration": 0,
    "start_time": "2024-03-28T20:45:42.868Z"
   },
   {
    "duration": 0,
    "start_time": "2024-03-28T20:45:42.869Z"
   },
   {
    "duration": 0,
    "start_time": "2024-03-28T20:45:42.870Z"
   },
   {
    "duration": 0,
    "start_time": "2024-03-28T20:45:42.871Z"
   },
   {
    "duration": 0,
    "start_time": "2024-03-28T20:45:42.872Z"
   },
   {
    "duration": 0,
    "start_time": "2024-03-28T20:45:42.873Z"
   },
   {
    "duration": 0,
    "start_time": "2024-03-28T20:45:42.874Z"
   },
   {
    "duration": 0,
    "start_time": "2024-03-28T20:45:42.875Z"
   },
   {
    "duration": 0,
    "start_time": "2024-03-28T20:45:42.876Z"
   },
   {
    "duration": 0,
    "start_time": "2024-03-28T20:45:42.877Z"
   },
   {
    "duration": 0,
    "start_time": "2024-03-28T20:45:42.877Z"
   },
   {
    "duration": 0,
    "start_time": "2024-03-28T20:45:42.878Z"
   },
   {
    "duration": 0,
    "start_time": "2024-03-28T20:45:42.879Z"
   },
   {
    "duration": 0,
    "start_time": "2024-03-28T20:45:42.880Z"
   },
   {
    "duration": 0,
    "start_time": "2024-03-28T20:45:42.881Z"
   },
   {
    "duration": 0,
    "start_time": "2024-03-28T20:45:42.882Z"
   },
   {
    "duration": 0,
    "start_time": "2024-03-28T20:45:42.883Z"
   },
   {
    "duration": 0,
    "start_time": "2024-03-28T20:45:42.883Z"
   },
   {
    "duration": 0,
    "start_time": "2024-03-28T20:45:42.884Z"
   },
   {
    "duration": 0,
    "start_time": "2024-03-28T20:45:42.885Z"
   },
   {
    "duration": 0,
    "start_time": "2024-03-28T20:45:42.886Z"
   },
   {
    "duration": 0,
    "start_time": "2024-03-28T20:45:42.887Z"
   },
   {
    "duration": 0,
    "start_time": "2024-03-28T20:45:42.888Z"
   },
   {
    "duration": 0,
    "start_time": "2024-03-28T20:45:42.889Z"
   },
   {
    "duration": 0,
    "start_time": "2024-03-28T20:45:42.890Z"
   },
   {
    "duration": 0,
    "start_time": "2024-03-28T20:45:42.891Z"
   },
   {
    "duration": 0,
    "start_time": "2024-03-28T20:45:42.892Z"
   },
   {
    "duration": 0,
    "start_time": "2024-03-28T20:45:42.893Z"
   },
   {
    "duration": 1,
    "start_time": "2024-03-28T20:45:42.893Z"
   },
   {
    "duration": 0,
    "start_time": "2024-03-28T20:45:42.959Z"
   },
   {
    "duration": 0,
    "start_time": "2024-03-28T20:45:42.960Z"
   },
   {
    "duration": 0,
    "start_time": "2024-03-28T20:45:42.961Z"
   },
   {
    "duration": 0,
    "start_time": "2024-03-28T20:45:42.962Z"
   },
   {
    "duration": 0,
    "start_time": "2024-03-28T20:45:42.963Z"
   },
   {
    "duration": 0,
    "start_time": "2024-03-28T20:45:42.964Z"
   },
   {
    "duration": 0,
    "start_time": "2024-03-28T20:45:42.965Z"
   },
   {
    "duration": 0,
    "start_time": "2024-03-28T20:45:42.966Z"
   },
   {
    "duration": 0,
    "start_time": "2024-03-28T20:45:42.967Z"
   },
   {
    "duration": 0,
    "start_time": "2024-03-28T20:45:42.968Z"
   },
   {
    "duration": 0,
    "start_time": "2024-03-28T20:45:42.969Z"
   },
   {
    "duration": 0,
    "start_time": "2024-03-28T20:45:42.970Z"
   },
   {
    "duration": 0,
    "start_time": "2024-03-28T20:45:42.971Z"
   },
   {
    "duration": 0,
    "start_time": "2024-03-28T20:45:42.972Z"
   },
   {
    "duration": 0,
    "start_time": "2024-03-28T20:45:42.973Z"
   },
   {
    "duration": 0,
    "start_time": "2024-03-28T20:45:42.974Z"
   },
   {
    "duration": 0,
    "start_time": "2024-03-28T20:45:42.975Z"
   },
   {
    "duration": 0,
    "start_time": "2024-03-28T20:45:42.976Z"
   },
   {
    "duration": 0,
    "start_time": "2024-03-28T20:45:42.977Z"
   },
   {
    "duration": 0,
    "start_time": "2024-03-28T20:45:42.978Z"
   },
   {
    "duration": 0,
    "start_time": "2024-03-28T20:45:42.979Z"
   },
   {
    "duration": 0,
    "start_time": "2024-03-28T20:45:42.980Z"
   },
   {
    "duration": 0,
    "start_time": "2024-03-28T20:45:42.980Z"
   },
   {
    "duration": 0,
    "start_time": "2024-03-28T20:45:42.981Z"
   },
   {
    "duration": 0,
    "start_time": "2024-03-28T20:45:42.982Z"
   },
   {
    "duration": 0,
    "start_time": "2024-03-28T20:45:42.983Z"
   },
   {
    "duration": 0,
    "start_time": "2024-03-28T20:45:42.984Z"
   },
   {
    "duration": 0,
    "start_time": "2024-03-28T20:45:42.985Z"
   },
   {
    "duration": 0,
    "start_time": "2024-03-28T20:45:42.986Z"
   },
   {
    "duration": 9,
    "start_time": "2024-03-28T20:46:26.739Z"
   },
   {
    "duration": 4,
    "start_time": "2024-03-28T20:46:36.655Z"
   },
   {
    "duration": 4,
    "start_time": "2024-03-28T20:46:41.136Z"
   },
   {
    "duration": 3,
    "start_time": "2024-03-28T20:46:41.818Z"
   },
   {
    "duration": 14,
    "start_time": "2024-03-28T20:46:42.471Z"
   },
   {
    "duration": 3,
    "start_time": "2024-03-28T20:46:49.226Z"
   },
   {
    "duration": 14,
    "start_time": "2024-03-28T20:46:49.770Z"
   },
   {
    "duration": 9,
    "start_time": "2024-03-28T20:46:51.824Z"
   },
   {
    "duration": 10,
    "start_time": "2024-03-28T20:46:52.231Z"
   },
   {
    "duration": 10,
    "start_time": "2024-03-28T20:46:53.063Z"
   },
   {
    "duration": 5,
    "start_time": "2024-03-28T20:46:53.770Z"
   },
   {
    "duration": 9,
    "start_time": "2024-03-28T20:46:54.478Z"
   },
   {
    "duration": 6,
    "start_time": "2024-03-28T20:46:54.747Z"
   },
   {
    "duration": 6,
    "start_time": "2024-03-28T20:46:55.289Z"
   },
   {
    "duration": 4,
    "start_time": "2024-03-28T20:46:58.582Z"
   },
   {
    "duration": 14,
    "start_time": "2024-03-28T20:46:58.906Z"
   },
   {
    "duration": 3,
    "start_time": "2024-03-28T20:47:02.125Z"
   },
   {
    "duration": 15,
    "start_time": "2024-03-28T20:47:02.569Z"
   },
   {
    "duration": 37,
    "start_time": "2024-03-28T20:47:06.445Z"
   },
   {
    "duration": 35,
    "start_time": "2024-03-28T20:47:07.081Z"
   },
   {
    "duration": 471,
    "start_time": "2024-03-28T20:47:08.848Z"
   },
   {
    "duration": 205,
    "start_time": "2024-03-28T20:47:09.346Z"
   },
   {
    "duration": 332,
    "start_time": "2024-03-28T20:47:09.974Z"
   },
   {
    "duration": 411,
    "start_time": "2024-03-28T20:47:10.538Z"
   },
   {
    "duration": 258,
    "start_time": "2024-03-28T20:47:11.214Z"
   },
   {
    "duration": 302,
    "start_time": "2024-03-28T20:47:11.958Z"
   },
   {
    "duration": 18,
    "start_time": "2024-03-28T20:49:12.302Z"
   },
   {
    "duration": 4,
    "start_time": "2024-03-28T20:49:22.723Z"
   },
   {
    "duration": 3,
    "start_time": "2024-03-28T20:49:28.762Z"
   },
   {
    "duration": 9,
    "start_time": "2024-03-28T20:49:35.492Z"
   },
   {
    "duration": 12,
    "start_time": "2024-03-28T20:49:38.780Z"
   },
   {
    "duration": 13,
    "start_time": "2024-03-28T20:49:39.122Z"
   },
   {
    "duration": 9,
    "start_time": "2024-03-28T20:49:39.723Z"
   },
   {
    "duration": 13,
    "start_time": "2024-03-28T20:49:40.354Z"
   },
   {
    "duration": 3,
    "start_time": "2024-03-28T20:49:41.230Z"
   },
   {
    "duration": 30,
    "start_time": "2024-03-28T20:49:47.563Z"
   },
   {
    "duration": 6,
    "start_time": "2024-03-28T20:49:48.331Z"
   },
   {
    "duration": 4,
    "start_time": "2024-03-28T20:49:52.085Z"
   },
   {
    "duration": 27,
    "start_time": "2024-03-28T20:49:53.675Z"
   },
   {
    "duration": 8,
    "start_time": "2024-03-28T20:49:54.855Z"
   },
   {
    "duration": 2292,
    "start_time": "2024-03-28T20:50:08.094Z"
   },
   {
    "duration": 4,
    "start_time": "2024-03-28T20:50:12.220Z"
   },
   {
    "duration": 4,
    "start_time": "2024-03-28T20:50:18.203Z"
   },
   {
    "duration": 3,
    "start_time": "2024-03-28T20:50:24.642Z"
   },
   {
    "duration": 3,
    "start_time": "2024-03-28T20:50:24.851Z"
   },
   {
    "duration": 308457,
    "start_time": "2024-03-28T20:50:26.506Z"
   },
   {
    "duration": 18,
    "start_time": "2024-03-28T21:01:01.831Z"
   },
   {
    "duration": 19,
    "start_time": "2024-03-28T21:01:49.110Z"
   },
   {
    "duration": 5254,
    "start_time": "2024-03-28T21:03:21.018Z"
   },
   {
    "duration": 1265,
    "start_time": "2024-03-28T21:03:26.274Z"
   },
   {
    "duration": 146,
    "start_time": "2024-03-28T21:03:27.541Z"
   },
   {
    "duration": 14,
    "start_time": "2024-03-28T21:03:27.689Z"
   },
   {
    "duration": 16,
    "start_time": "2024-03-28T21:03:27.704Z"
   },
   {
    "duration": 11,
    "start_time": "2024-03-28T21:03:27.722Z"
   },
   {
    "duration": 12,
    "start_time": "2024-03-28T21:03:27.734Z"
   },
   {
    "duration": 6,
    "start_time": "2024-03-28T21:03:27.748Z"
   },
   {
    "duration": 7,
    "start_time": "2024-03-28T21:03:27.755Z"
   },
   {
    "duration": 6,
    "start_time": "2024-03-28T21:03:27.765Z"
   },
   {
    "duration": 11,
    "start_time": "2024-03-28T21:03:27.773Z"
   },
   {
    "duration": 3,
    "start_time": "2024-03-28T21:03:27.786Z"
   },
   {
    "duration": 4,
    "start_time": "2024-03-28T21:03:27.791Z"
   },
   {
    "duration": 4,
    "start_time": "2024-03-28T21:03:27.797Z"
   },
   {
    "duration": 8,
    "start_time": "2024-03-28T21:03:27.802Z"
   },
   {
    "duration": 8,
    "start_time": "2024-03-28T21:03:27.812Z"
   },
   {
    "duration": 8,
    "start_time": "2024-03-28T21:03:27.821Z"
   },
   {
    "duration": 51,
    "start_time": "2024-03-28T21:03:27.830Z"
   },
   {
    "duration": 3,
    "start_time": "2024-03-28T21:03:27.883Z"
   },
   {
    "duration": 131,
    "start_time": "2024-03-28T21:03:27.888Z"
   },
   {
    "duration": 0,
    "start_time": "2024-03-28T21:03:28.025Z"
   },
   {
    "duration": 0,
    "start_time": "2024-03-28T21:03:28.027Z"
   },
   {
    "duration": 0,
    "start_time": "2024-03-28T21:03:28.028Z"
   },
   {
    "duration": 0,
    "start_time": "2024-03-28T21:03:28.030Z"
   },
   {
    "duration": 0,
    "start_time": "2024-03-28T21:03:28.030Z"
   },
   {
    "duration": 0,
    "start_time": "2024-03-28T21:03:28.031Z"
   },
   {
    "duration": 0,
    "start_time": "2024-03-28T21:03:28.033Z"
   },
   {
    "duration": 0,
    "start_time": "2024-03-28T21:03:28.034Z"
   },
   {
    "duration": 0,
    "start_time": "2024-03-28T21:03:28.035Z"
   },
   {
    "duration": 0,
    "start_time": "2024-03-28T21:03:28.036Z"
   },
   {
    "duration": 0,
    "start_time": "2024-03-28T21:03:28.059Z"
   },
   {
    "duration": 0,
    "start_time": "2024-03-28T21:03:28.060Z"
   },
   {
    "duration": 0,
    "start_time": "2024-03-28T21:03:28.061Z"
   },
   {
    "duration": 0,
    "start_time": "2024-03-28T21:03:28.063Z"
   },
   {
    "duration": 0,
    "start_time": "2024-03-28T21:03:28.064Z"
   },
   {
    "duration": 0,
    "start_time": "2024-03-28T21:03:28.065Z"
   },
   {
    "duration": 0,
    "start_time": "2024-03-28T21:03:28.066Z"
   },
   {
    "duration": 0,
    "start_time": "2024-03-28T21:03:28.067Z"
   },
   {
    "duration": 0,
    "start_time": "2024-03-28T21:03:28.068Z"
   },
   {
    "duration": 0,
    "start_time": "2024-03-28T21:03:28.069Z"
   },
   {
    "duration": 0,
    "start_time": "2024-03-28T21:03:28.070Z"
   },
   {
    "duration": 0,
    "start_time": "2024-03-28T21:03:28.071Z"
   },
   {
    "duration": 0,
    "start_time": "2024-03-28T21:03:28.072Z"
   },
   {
    "duration": 0,
    "start_time": "2024-03-28T21:03:28.073Z"
   },
   {
    "duration": 0,
    "start_time": "2024-03-28T21:03:28.075Z"
   },
   {
    "duration": 0,
    "start_time": "2024-03-28T21:03:28.076Z"
   },
   {
    "duration": 0,
    "start_time": "2024-03-28T21:03:28.077Z"
   },
   {
    "duration": 0,
    "start_time": "2024-03-28T21:03:28.078Z"
   },
   {
    "duration": 0,
    "start_time": "2024-03-28T21:03:28.079Z"
   },
   {
    "duration": 0,
    "start_time": "2024-03-28T21:03:28.080Z"
   },
   {
    "duration": 0,
    "start_time": "2024-03-28T21:03:28.081Z"
   },
   {
    "duration": 0,
    "start_time": "2024-03-28T21:03:28.082Z"
   },
   {
    "duration": 0,
    "start_time": "2024-03-28T21:03:28.083Z"
   },
   {
    "duration": 0,
    "start_time": "2024-03-28T21:03:28.084Z"
   },
   {
    "duration": 0,
    "start_time": "2024-03-28T21:03:28.085Z"
   },
   {
    "duration": 0,
    "start_time": "2024-03-28T21:03:28.086Z"
   },
   {
    "duration": 0,
    "start_time": "2024-03-28T21:03:28.088Z"
   },
   {
    "duration": 0,
    "start_time": "2024-03-28T21:03:28.089Z"
   },
   {
    "duration": 0,
    "start_time": "2024-03-28T21:03:28.090Z"
   },
   {
    "duration": 0,
    "start_time": "2024-03-28T21:03:28.091Z"
   },
   {
    "duration": 0,
    "start_time": "2024-03-28T21:03:28.093Z"
   },
   {
    "duration": 0,
    "start_time": "2024-03-28T21:03:28.098Z"
   },
   {
    "duration": 0,
    "start_time": "2024-03-28T21:03:28.160Z"
   },
   {
    "duration": 0,
    "start_time": "2024-03-28T21:03:28.161Z"
   },
   {
    "duration": 0,
    "start_time": "2024-03-28T21:03:28.162Z"
   },
   {
    "duration": 0,
    "start_time": "2024-03-28T21:03:28.163Z"
   },
   {
    "duration": 0,
    "start_time": "2024-03-28T21:03:28.164Z"
   },
   {
    "duration": 0,
    "start_time": "2024-03-28T21:03:28.165Z"
   },
   {
    "duration": 0,
    "start_time": "2024-03-28T21:03:28.166Z"
   },
   {
    "duration": 1,
    "start_time": "2024-03-28T21:03:28.166Z"
   },
   {
    "duration": 0,
    "start_time": "2024-03-28T21:03:28.167Z"
   },
   {
    "duration": 0,
    "start_time": "2024-03-28T21:03:28.168Z"
   },
   {
    "duration": 0,
    "start_time": "2024-03-28T21:03:28.169Z"
   },
   {
    "duration": 0,
    "start_time": "2024-03-28T21:03:28.170Z"
   },
   {
    "duration": 0,
    "start_time": "2024-03-28T21:03:28.171Z"
   },
   {
    "duration": 0,
    "start_time": "2024-03-28T21:03:28.172Z"
   },
   {
    "duration": 0,
    "start_time": "2024-03-28T21:03:28.173Z"
   },
   {
    "duration": 0,
    "start_time": "2024-03-28T21:03:28.174Z"
   },
   {
    "duration": 0,
    "start_time": "2024-03-28T21:03:28.175Z"
   },
   {
    "duration": 0,
    "start_time": "2024-03-28T21:03:28.176Z"
   },
   {
    "duration": 0,
    "start_time": "2024-03-28T21:03:28.177Z"
   },
   {
    "duration": 0,
    "start_time": "2024-03-28T21:03:28.178Z"
   },
   {
    "duration": 0,
    "start_time": "2024-03-28T21:03:28.179Z"
   },
   {
    "duration": 0,
    "start_time": "2024-03-28T21:03:28.180Z"
   },
   {
    "duration": 0,
    "start_time": "2024-03-28T21:03:28.181Z"
   },
   {
    "duration": 0,
    "start_time": "2024-03-28T21:03:28.182Z"
   },
   {
    "duration": 0,
    "start_time": "2024-03-28T21:03:28.183Z"
   },
   {
    "duration": 0,
    "start_time": "2024-03-28T21:03:28.184Z"
   },
   {
    "duration": 0,
    "start_time": "2024-03-28T21:03:28.185Z"
   },
   {
    "duration": 0,
    "start_time": "2024-03-28T21:03:28.185Z"
   },
   {
    "duration": 0,
    "start_time": "2024-03-28T21:03:28.186Z"
   },
   {
    "duration": 0,
    "start_time": "2024-03-28T21:03:28.187Z"
   },
   {
    "duration": 0,
    "start_time": "2024-03-28T21:03:28.188Z"
   },
   {
    "duration": 0,
    "start_time": "2024-03-28T21:03:28.189Z"
   },
   {
    "duration": 0,
    "start_time": "2024-03-28T21:03:28.190Z"
   },
   {
    "duration": 0,
    "start_time": "2024-03-28T21:03:28.191Z"
   },
   {
    "duration": 0,
    "start_time": "2024-03-28T21:03:28.192Z"
   },
   {
    "duration": 0,
    "start_time": "2024-03-28T21:03:28.193Z"
   },
   {
    "duration": 0,
    "start_time": "2024-03-28T21:03:28.194Z"
   },
   {
    "duration": 0,
    "start_time": "2024-03-28T21:03:28.194Z"
   },
   {
    "duration": 0,
    "start_time": "2024-03-28T21:03:28.195Z"
   },
   {
    "duration": 0,
    "start_time": "2024-03-28T21:03:28.260Z"
   },
   {
    "duration": 0,
    "start_time": "2024-03-28T21:03:28.261Z"
   },
   {
    "duration": 0,
    "start_time": "2024-03-28T21:03:28.262Z"
   },
   {
    "duration": 0,
    "start_time": "2024-03-28T21:03:28.263Z"
   },
   {
    "duration": 0,
    "start_time": "2024-03-28T21:03:28.265Z"
   },
   {
    "duration": 0,
    "start_time": "2024-03-28T21:03:28.266Z"
   },
   {
    "duration": 0,
    "start_time": "2024-03-28T21:03:28.267Z"
   },
   {
    "duration": 0,
    "start_time": "2024-03-28T21:03:28.268Z"
   },
   {
    "duration": 0,
    "start_time": "2024-03-28T21:03:28.269Z"
   },
   {
    "duration": 20,
    "start_time": "2024-03-28T21:04:21.329Z"
   },
   {
    "duration": 3,
    "start_time": "2024-03-28T21:04:36.522Z"
   },
   {
    "duration": 3,
    "start_time": "2024-03-28T21:04:41.080Z"
   },
   {
    "duration": 16,
    "start_time": "2024-03-28T21:04:43.196Z"
   },
   {
    "duration": 9,
    "start_time": "2024-03-28T21:04:49.494Z"
   },
   {
    "duration": 10,
    "start_time": "2024-03-28T21:04:49.722Z"
   },
   {
    "duration": 13,
    "start_time": "2024-03-28T21:04:49.918Z"
   },
   {
    "duration": 5,
    "start_time": "2024-03-28T21:04:50.161Z"
   },
   {
    "duration": 10,
    "start_time": "2024-03-28T21:04:50.583Z"
   },
   {
    "duration": 5,
    "start_time": "2024-03-28T21:04:50.784Z"
   },
   {
    "duration": 6,
    "start_time": "2024-03-28T21:04:51.576Z"
   },
   {
    "duration": 4,
    "start_time": "2024-03-28T21:04:52.818Z"
   },
   {
    "duration": 20,
    "start_time": "2024-03-28T21:04:52.824Z"
   },
   {
    "duration": 3,
    "start_time": "2024-03-28T21:04:52.846Z"
   },
   {
    "duration": 15,
    "start_time": "2024-03-28T21:04:52.925Z"
   },
   {
    "duration": 39,
    "start_time": "2024-03-28T21:04:55.639Z"
   },
   {
    "duration": 39,
    "start_time": "2024-03-28T21:04:56.259Z"
   },
   {
    "duration": 526,
    "start_time": "2024-03-28T21:04:57.368Z"
   },
   {
    "duration": 21,
    "start_time": "2024-03-28T21:04:57.895Z"
   },
   {
    "duration": 387,
    "start_time": "2024-03-28T21:05:10.708Z"
   },
   {
    "duration": 277,
    "start_time": "2024-03-28T21:05:15.450Z"
   },
   {
    "duration": 407,
    "start_time": "2024-03-28T21:05:16.136Z"
   },
   {
    "duration": 319,
    "start_time": "2024-03-28T21:05:16.896Z"
   },
   {
    "duration": 316,
    "start_time": "2024-03-28T21:05:17.401Z"
   },
   {
    "duration": 4,
    "start_time": "2024-03-28T21:05:18.534Z"
   },
   {
    "duration": 3,
    "start_time": "2024-03-28T21:05:28.061Z"
   },
   {
    "duration": 6,
    "start_time": "2024-03-28T21:05:32.757Z"
   },
   {
    "duration": 11,
    "start_time": "2024-03-28T21:05:34.647Z"
   },
   {
    "duration": 14,
    "start_time": "2024-03-28T21:05:35.577Z"
   },
   {
    "duration": 9,
    "start_time": "2024-03-28T21:05:36.488Z"
   },
   {
    "duration": 14,
    "start_time": "2024-03-28T21:05:37.341Z"
   },
   {
    "duration": 3,
    "start_time": "2024-03-28T21:05:38.091Z"
   },
   {
    "duration": 28,
    "start_time": "2024-03-28T21:05:40.262Z"
   },
   {
    "duration": 6,
    "start_time": "2024-03-28T21:05:40.836Z"
   },
   {
    "duration": 3,
    "start_time": "2024-03-28T21:05:44.449Z"
   },
   {
    "duration": 2669,
    "start_time": "2024-03-28T21:05:47.279Z"
   },
   {
    "duration": 9,
    "start_time": "2024-03-28T21:05:49.950Z"
   },
   {
    "duration": 3,
    "start_time": "2024-03-28T21:05:50.643Z"
   },
   {
    "duration": 3,
    "start_time": "2024-03-28T21:05:52.267Z"
   },
   {
    "duration": 3,
    "start_time": "2024-03-28T21:05:53.004Z"
   },
   {
    "duration": 318686,
    "start_time": "2024-03-28T21:06:01.254Z"
   },
   {
    "duration": 17,
    "start_time": "2024-03-28T21:21:14.222Z"
   },
   {
    "duration": 664,
    "start_time": "2024-03-28T21:21:32.224Z"
   },
   {
    "duration": 7,
    "start_time": "2024-03-28T21:21:35.227Z"
   },
   {
    "duration": 253,
    "start_time": "2024-03-28T21:21:49.197Z"
   },
   {
    "duration": 19,
    "start_time": "2024-03-28T21:21:50.230Z"
   },
   {
    "duration": 28,
    "start_time": "2024-03-28T21:21:51.020Z"
   },
   {
    "duration": 10,
    "start_time": "2024-03-28T21:21:51.980Z"
   },
   {
    "duration": 9,
    "start_time": "2024-03-28T21:21:52.739Z"
   },
   {
    "duration": 3,
    "start_time": "2024-03-28T21:21:54.120Z"
   },
   {
    "duration": 4,
    "start_time": "2024-03-28T21:22:41.401Z"
   },
   {
    "duration": 3,
    "start_time": "2024-03-28T21:22:48.789Z"
   },
   {
    "duration": 3,
    "start_time": "2024-03-28T21:22:57.843Z"
   },
   {
    "duration": 3,
    "start_time": "2024-03-28T21:22:59.132Z"
   },
   {
    "duration": 3,
    "start_time": "2024-03-28T21:23:05.937Z"
   },
   {
    "duration": 29,
    "start_time": "2024-03-28T21:23:07.209Z"
   },
   {
    "duration": 10,
    "start_time": "2024-03-28T21:23:23.566Z"
   },
   {
    "duration": 3,
    "start_time": "2024-03-28T21:23:30.505Z"
   },
   {
    "duration": 4,
    "start_time": "2024-03-28T21:23:35.066Z"
   },
   {
    "duration": 16,
    "start_time": "2024-03-28T21:23:39.205Z"
   },
   {
    "duration": 27,
    "start_time": "2024-03-28T21:23:43.254Z"
   },
   {
    "duration": 41,
    "start_time": "2024-03-28T21:24:04.567Z"
   },
   {
    "duration": 536,
    "start_time": "2024-03-28T21:24:15.020Z"
   },
   {
    "duration": 370,
    "start_time": "2024-03-28T21:24:57.509Z"
   },
   {
    "duration": 514,
    "start_time": "2024-03-28T21:24:58.562Z"
   },
   {
    "duration": 317,
    "start_time": "2024-03-28T21:25:34.708Z"
   },
   {
    "duration": 316,
    "start_time": "2024-03-28T21:25:48.391Z"
   },
   {
    "duration": 319,
    "start_time": "2024-03-28T21:27:49.875Z"
   },
   {
    "duration": 29,
    "start_time": "2024-03-28T21:28:54.719Z"
   },
   {
    "duration": 3,
    "start_time": "2024-03-28T21:32:10.760Z"
   },
   {
    "duration": 3,
    "start_time": "2024-03-28T21:32:11.062Z"
   },
   {
    "duration": 3,
    "start_time": "2024-03-28T21:32:11.356Z"
   },
   {
    "duration": 3,
    "start_time": "2024-03-28T21:32:11.642Z"
   },
   {
    "duration": 29,
    "start_time": "2024-03-28T21:32:12.137Z"
   },
   {
    "duration": 3,
    "start_time": "2024-03-28T21:32:12.516Z"
   },
   {
    "duration": 4,
    "start_time": "2024-03-28T21:32:12.977Z"
   },
   {
    "duration": 17,
    "start_time": "2024-03-28T21:32:13.839Z"
   },
   {
    "duration": 30,
    "start_time": "2024-03-28T21:32:14.418Z"
   },
   {
    "duration": 257,
    "start_time": "2024-03-28T21:32:23.385Z"
   },
   {
    "duration": 312,
    "start_time": "2024-03-28T21:32:23.949Z"
   },
   {
    "duration": 377,
    "start_time": "2024-03-28T21:32:24.585Z"
   },
   {
    "duration": 524,
    "start_time": "2024-03-28T21:32:25.470Z"
   },
   {
    "duration": 437,
    "start_time": "2024-03-28T21:32:29.253Z"
   },
   {
    "duration": 3,
    "start_time": "2024-03-28T21:32:56.442Z"
   },
   {
    "duration": 3,
    "start_time": "2024-03-28T21:32:56.742Z"
   },
   {
    "duration": 2,
    "start_time": "2024-03-28T21:32:57.017Z"
   },
   {
    "duration": 3,
    "start_time": "2024-03-28T21:32:57.313Z"
   },
   {
    "duration": 28,
    "start_time": "2024-03-28T21:32:59.254Z"
   },
   {
    "duration": 3,
    "start_time": "2024-03-28T21:33:00.596Z"
   },
   {
    "duration": 4,
    "start_time": "2024-03-28T21:33:02.040Z"
   },
   {
    "duration": 17,
    "start_time": "2024-03-28T21:33:11.307Z"
   },
   {
    "duration": 10,
    "start_time": "2024-03-28T21:33:49.153Z"
   },
   {
    "duration": 3,
    "start_time": "2024-03-28T21:33:55.058Z"
   },
   {
    "duration": 3,
    "start_time": "2024-03-28T21:33:58.396Z"
   },
   {
    "duration": 2,
    "start_time": "2024-03-28T21:33:59.163Z"
   },
   {
    "duration": 3,
    "start_time": "2024-03-28T21:34:00.477Z"
   },
   {
    "duration": 3,
    "start_time": "2024-03-28T21:34:02.086Z"
   },
   {
    "duration": 15,
    "start_time": "2024-03-28T21:34:09.499Z"
   },
   {
    "duration": 26,
    "start_time": "2024-03-28T21:34:13.897Z"
   },
   {
    "duration": 4,
    "start_time": "2024-03-28T21:34:27.094Z"
   },
   {
    "duration": 3,
    "start_time": "2024-03-28T21:34:36.854Z"
   },
   {
    "duration": 4,
    "start_time": "2024-03-28T21:34:44.465Z"
   },
   {
    "duration": 3,
    "start_time": "2024-03-28T21:34:49.476Z"
   },
   {
    "duration": 15,
    "start_time": "2024-03-28T21:34:50.612Z"
   },
   {
    "duration": 32,
    "start_time": "2024-03-28T21:34:53.863Z"
   },
   {
    "duration": 264,
    "start_time": "2024-03-28T21:35:01.871Z"
   },
   {
    "duration": 322,
    "start_time": "2024-03-28T21:35:02.166Z"
   },
   {
    "duration": 404,
    "start_time": "2024-03-28T21:35:02.491Z"
   },
   {
    "duration": 397,
    "start_time": "2024-03-28T21:35:02.954Z"
   },
   {
    "duration": 271,
    "start_time": "2024-03-28T21:35:03.673Z"
   },
   {
    "duration": 446,
    "start_time": "2024-03-28T21:35:21.874Z"
   },
   {
    "duration": 2446,
    "start_time": "2024-03-28T21:35:30.159Z"
   },
   {
    "duration": 4,
    "start_time": "2024-03-28T21:35:39.211Z"
   },
   {
    "duration": 16,
    "start_time": "2024-03-28T21:35:40.150Z"
   },
   {
    "duration": 25,
    "start_time": "2024-03-28T21:35:48.164Z"
   },
   {
    "duration": 100,
    "start_time": "2024-03-28T21:36:09.497Z"
   },
   {
    "duration": 17,
    "start_time": "2024-03-28T21:36:38.308Z"
   },
   {
    "duration": 17,
    "start_time": "2024-03-28T21:36:45.311Z"
   },
   {
    "duration": 9,
    "start_time": "2024-03-28T21:37:41.183Z"
   },
   {
    "duration": 144,
    "start_time": "2024-03-28T21:37:44.479Z"
   },
   {
    "duration": 4,
    "start_time": "2024-03-28T21:37:45.500Z"
   },
   {
    "duration": 16,
    "start_time": "2024-03-28T21:37:46.430Z"
   },
   {
    "duration": 4,
    "start_time": "2024-03-28T21:38:03.246Z"
   },
   {
    "duration": 9,
    "start_time": "2024-03-28T21:38:04.366Z"
   },
   {
    "duration": 18,
    "start_time": "2024-03-28T21:38:07.163Z"
   },
   {
    "duration": 9,
    "start_time": "2024-03-28T21:38:19.622Z"
   },
   {
    "duration": 210,
    "start_time": "2024-03-28T21:38:21.840Z"
   },
   {
    "duration": 3,
    "start_time": "2024-03-28T21:38:22.540Z"
   },
   {
    "duration": 16,
    "start_time": "2024-03-28T21:38:23.551Z"
   },
   {
    "duration": 2,
    "start_time": "2024-03-28T21:38:38.044Z"
   },
   {
    "duration": 3,
    "start_time": "2024-03-28T21:38:38.841Z"
   },
   {
    "duration": 11,
    "start_time": "2024-03-28T21:38:40.222Z"
   },
   {
    "duration": 9,
    "start_time": "2024-03-28T21:38:47.823Z"
   },
   {
    "duration": 3,
    "start_time": "2024-03-28T21:39:25.653Z"
   },
   {
    "duration": 3,
    "start_time": "2024-03-28T21:39:26.163Z"
   },
   {
    "duration": 11,
    "start_time": "2024-03-28T21:39:27.402Z"
   },
   {
    "duration": 8,
    "start_time": "2024-03-28T21:39:27.966Z"
   },
   {
    "duration": 3,
    "start_time": "2024-03-28T21:39:31.686Z"
   },
   {
    "duration": 926,
    "start_time": "2024-03-28T21:39:32.233Z"
   },
   {
    "duration": 8,
    "start_time": "2024-03-28T21:39:38.293Z"
   },
   {
    "duration": 9,
    "start_time": "2024-03-28T21:41:21.536Z"
   },
   {
    "duration": 19,
    "start_time": "2024-03-28T21:41:25.194Z"
   },
   {
    "duration": 41778,
    "start_time": "2024-03-28T21:42:59.724Z"
   },
   {
    "duration": 0,
    "start_time": "2024-03-28T21:43:41.503Z"
   },
   {
    "duration": 0,
    "start_time": "2024-03-28T21:43:41.504Z"
   },
   {
    "duration": 0,
    "start_time": "2024-03-28T21:43:41.505Z"
   },
   {
    "duration": 0,
    "start_time": "2024-03-28T21:43:41.506Z"
   },
   {
    "duration": 0,
    "start_time": "2024-03-28T21:43:41.507Z"
   },
   {
    "duration": 3,
    "start_time": "2024-03-28T21:43:44.227Z"
   },
   {
    "duration": 16,
    "start_time": "2024-03-28T21:43:44.518Z"
   },
   {
    "duration": 17,
    "start_time": "2024-03-28T21:43:44.784Z"
   },
   {
    "duration": 13,
    "start_time": "2024-03-28T21:43:45.338Z"
   },
   {
    "duration": 161,
    "start_time": "2024-03-28T21:44:07.087Z"
   },
   {
    "duration": 2,
    "start_time": "2024-03-28T21:44:49.436Z"
   },
   {
    "duration": 3,
    "start_time": "2024-03-28T21:44:56.984Z"
   },
   {
    "duration": 17,
    "start_time": "2024-03-28T21:44:57.311Z"
   },
   {
    "duration": 18,
    "start_time": "2024-03-28T21:44:57.808Z"
   },
   {
    "duration": 14,
    "start_time": "2024-03-28T21:44:58.426Z"
   },
   {
    "duration": 3,
    "start_time": "2024-03-28T21:45:08.030Z"
   },
   {
    "duration": 11,
    "start_time": "2024-03-28T21:45:16.784Z"
   },
   {
    "duration": 3,
    "start_time": "2024-03-28T21:45:23.612Z"
   },
   {
    "duration": 14,
    "start_time": "2024-03-28T21:45:24.080Z"
   },
   {
    "duration": 17,
    "start_time": "2024-03-28T21:45:24.799Z"
   },
   {
    "duration": 10,
    "start_time": "2024-03-28T21:45:25.367Z"
   },
   {
    "duration": 53,
    "start_time": "2024-03-28T21:45:28.538Z"
   },
   {
    "duration": 3,
    "start_time": "2024-03-28T21:45:29.094Z"
   },
   {
    "duration": 17,
    "start_time": "2024-03-28T21:45:30.028Z"
   },
   {
    "duration": 3,
    "start_time": "2024-03-28T21:46:08.772Z"
   },
   {
    "duration": 10,
    "start_time": "2024-03-28T21:46:09.281Z"
   },
   {
    "duration": 26,
    "start_time": "2024-03-28T21:46:09.897Z"
   },
   {
    "duration": 9,
    "start_time": "2024-03-28T21:46:10.438Z"
   },
   {
    "duration": 76,
    "start_time": "2024-03-28T21:46:14.411Z"
   },
   {
    "duration": 7,
    "start_time": "2024-03-28T21:46:32.406Z"
   },
   {
    "duration": 14,
    "start_time": "2024-03-28T21:46:33.229Z"
   },
   {
    "duration": 3,
    "start_time": "2024-03-28T21:46:36.615Z"
   },
   {
    "duration": 3,
    "start_time": "2024-03-28T21:46:37.005Z"
   },
   {
    "duration": 10,
    "start_time": "2024-03-28T21:46:37.867Z"
   },
   {
    "duration": 8,
    "start_time": "2024-03-28T21:46:38.496Z"
   },
   {
    "duration": 2,
    "start_time": "2024-03-28T21:46:49.127Z"
   },
   {
    "duration": 712,
    "start_time": "2024-03-28T21:46:49.647Z"
   },
   {
    "duration": 7,
    "start_time": "2024-03-28T21:46:52.407Z"
   },
   {
    "duration": 41692,
    "start_time": "2024-03-28T21:47:01.744Z"
   },
   {
    "duration": 24141,
    "start_time": "2024-03-28T21:47:43.438Z"
   },
   {
    "duration": 203,
    "start_time": "2024-03-28T21:48:21.178Z"
   },
   {
    "duration": 20,
    "start_time": "2024-03-28T21:48:21.788Z"
   },
   {
    "duration": 33672,
    "start_time": "2024-03-28T21:48:22.650Z"
   },
   {
    "duration": 6,
    "start_time": "2024-03-28T21:48:56.323Z"
   },
   {
    "duration": 30,
    "start_time": "2024-03-28T21:48:56.330Z"
   },
   {
    "duration": 9,
    "start_time": "2024-03-28T21:48:56.362Z"
   },
   {
    "duration": 6199,
    "start_time": "2024-03-29T17:53:11.781Z"
   },
   {
    "duration": 1895,
    "start_time": "2024-03-29T17:53:17.982Z"
   },
   {
    "duration": 287,
    "start_time": "2024-03-29T17:53:19.879Z"
   },
   {
    "duration": 19,
    "start_time": "2024-03-29T17:53:20.167Z"
   },
   {
    "duration": 15,
    "start_time": "2024-03-29T17:53:20.187Z"
   },
   {
    "duration": 19,
    "start_time": "2024-03-29T17:53:20.204Z"
   },
   {
    "duration": 16,
    "start_time": "2024-03-29T17:53:20.224Z"
   },
   {
    "duration": 24,
    "start_time": "2024-03-29T17:53:20.241Z"
   },
   {
    "duration": 8,
    "start_time": "2024-03-29T17:53:20.267Z"
   },
   {
    "duration": 5,
    "start_time": "2024-03-29T17:53:20.278Z"
   },
   {
    "duration": 11,
    "start_time": "2024-03-29T17:53:20.284Z"
   },
   {
    "duration": 21,
    "start_time": "2024-03-29T17:53:20.296Z"
   },
   {
    "duration": 29,
    "start_time": "2024-03-29T17:53:20.319Z"
   },
   {
    "duration": 14,
    "start_time": "2024-03-29T17:53:20.349Z"
   },
   {
    "duration": 12,
    "start_time": "2024-03-29T17:53:20.365Z"
   },
   {
    "duration": 13,
    "start_time": "2024-03-29T17:53:20.379Z"
   },
   {
    "duration": 25,
    "start_time": "2024-03-29T17:53:20.393Z"
   },
   {
    "duration": 34,
    "start_time": "2024-03-29T17:53:20.420Z"
   },
   {
    "duration": 3,
    "start_time": "2024-03-29T17:53:20.455Z"
   },
   {
    "duration": 13,
    "start_time": "2024-03-29T17:53:20.459Z"
   },
   {
    "duration": 54,
    "start_time": "2024-03-29T17:53:20.473Z"
   },
   {
    "duration": 24,
    "start_time": "2024-03-29T17:53:20.529Z"
   },
   {
    "duration": 21,
    "start_time": "2024-03-29T17:53:20.554Z"
   },
   {
    "duration": 14,
    "start_time": "2024-03-29T17:53:20.577Z"
   },
   {
    "duration": 22,
    "start_time": "2024-03-29T17:53:20.593Z"
   },
   {
    "duration": 18,
    "start_time": "2024-03-29T17:53:20.617Z"
   },
   {
    "duration": 14,
    "start_time": "2024-03-29T17:53:20.637Z"
   },
   {
    "duration": 5,
    "start_time": "2024-03-29T17:53:20.655Z"
   },
   {
    "duration": 4,
    "start_time": "2024-03-29T17:53:20.662Z"
   },
   {
    "duration": 17,
    "start_time": "2024-03-29T17:53:20.667Z"
   },
   {
    "duration": 4,
    "start_time": "2024-03-29T17:53:20.685Z"
   },
   {
    "duration": 17,
    "start_time": "2024-03-29T17:53:20.691Z"
   },
   {
    "duration": 60,
    "start_time": "2024-03-29T17:53:20.710Z"
   },
   {
    "duration": 40,
    "start_time": "2024-03-29T17:53:20.772Z"
   },
   {
    "duration": 817,
    "start_time": "2024-03-29T17:53:20.813Z"
   },
   {
    "duration": 732,
    "start_time": "2024-03-29T17:53:21.632Z"
   },
   {
    "duration": 562,
    "start_time": "2024-03-29T17:53:22.365Z"
   },
   {
    "duration": 880,
    "start_time": "2024-03-29T17:53:22.929Z"
   },
   {
    "duration": 326,
    "start_time": "2024-03-29T17:53:23.811Z"
   },
   {
    "duration": 332,
    "start_time": "2024-03-29T17:53:24.139Z"
   },
   {
    "duration": 4,
    "start_time": "2024-03-29T17:53:24.472Z"
   },
   {
    "duration": 12,
    "start_time": "2024-03-29T17:53:24.477Z"
   },
   {
    "duration": 22,
    "start_time": "2024-03-29T17:53:24.491Z"
   },
   {
    "duration": 11,
    "start_time": "2024-03-29T17:53:24.515Z"
   },
   {
    "duration": 32,
    "start_time": "2024-03-29T17:53:24.527Z"
   },
   {
    "duration": 9,
    "start_time": "2024-03-29T17:53:24.561Z"
   },
   {
    "duration": 15,
    "start_time": "2024-03-29T17:53:24.571Z"
   },
   {
    "duration": 19,
    "start_time": "2024-03-29T17:53:24.587Z"
   },
   {
    "duration": 61,
    "start_time": "2024-03-29T17:53:24.608Z"
   },
   {
    "duration": 8,
    "start_time": "2024-03-29T17:53:24.670Z"
   },
   {
    "duration": 79,
    "start_time": "2024-03-29T17:53:24.680Z"
   },
   {
    "duration": 2958,
    "start_time": "2024-03-29T17:53:24.760Z"
   },
   {
    "duration": 5,
    "start_time": "2024-03-29T17:53:27.720Z"
   },
   {
    "duration": 11,
    "start_time": "2024-03-29T17:53:27.726Z"
   },
   {
    "duration": 3,
    "start_time": "2024-03-29T17:53:27.739Z"
   },
   {
    "duration": 6,
    "start_time": "2024-03-29T17:53:27.743Z"
   },
   {
    "duration": 354015,
    "start_time": "2024-03-29T17:53:27.758Z"
   },
   {
    "duration": 750,
    "start_time": "2024-03-29T17:59:21.774Z"
   },
   {
    "duration": 7,
    "start_time": "2024-03-29T17:59:22.526Z"
   },
   {
    "duration": 198,
    "start_time": "2024-03-29T17:59:22.534Z"
   },
   {
    "duration": 22,
    "start_time": "2024-03-29T17:59:22.733Z"
   },
   {
    "duration": 30,
    "start_time": "2024-03-29T17:59:22.756Z"
   },
   {
    "duration": 11,
    "start_time": "2024-03-29T17:59:22.788Z"
   },
   {
    "duration": 10,
    "start_time": "2024-03-29T17:59:22.801Z"
   },
   {
    "duration": 4,
    "start_time": "2024-03-29T17:59:22.813Z"
   },
   {
    "duration": 40,
    "start_time": "2024-03-29T17:59:22.818Z"
   },
   {
    "duration": 5,
    "start_time": "2024-03-29T17:59:22.860Z"
   },
   {
    "duration": 3,
    "start_time": "2024-03-29T17:59:22.867Z"
   },
   {
    "duration": 9,
    "start_time": "2024-03-29T17:59:22.872Z"
   },
   {
    "duration": 29,
    "start_time": "2024-03-29T17:59:22.882Z"
   },
   {
    "duration": 3,
    "start_time": "2024-03-29T17:59:22.913Z"
   },
   {
    "duration": 5,
    "start_time": "2024-03-29T17:59:22.917Z"
   },
   {
    "duration": 44,
    "start_time": "2024-03-29T17:59:22.923Z"
   },
   {
    "duration": 33,
    "start_time": "2024-03-29T17:59:22.968Z"
   },
   {
    "duration": 460,
    "start_time": "2024-03-29T17:59:23.003Z"
   },
   {
    "duration": 583,
    "start_time": "2024-03-29T17:59:23.464Z"
   },
   {
    "duration": 968,
    "start_time": "2024-03-29T17:59:24.049Z"
   },
   {
    "duration": 910,
    "start_time": "2024-03-29T17:59:25.018Z"
   },
   {
    "duration": 322,
    "start_time": "2024-03-29T17:59:25.930Z"
   },
   {
    "duration": 364,
    "start_time": "2024-03-29T17:59:26.253Z"
   },
   {
    "duration": 3993,
    "start_time": "2024-03-29T17:59:26.618Z"
   },
   {
    "duration": 324,
    "start_time": "2024-03-29T17:59:30.617Z"
   },
   {
    "duration": 4,
    "start_time": "2024-03-29T17:59:30.943Z"
   },
   {
    "duration": 74,
    "start_time": "2024-03-29T17:59:30.948Z"
   },
   {
    "duration": 56,
    "start_time": "2024-03-29T17:59:31.024Z"
   },
   {
    "duration": 81,
    "start_time": "2024-03-29T17:59:31.082Z"
   },
   {
    "duration": 104,
    "start_time": "2024-03-29T17:59:31.165Z"
   },
   {
    "duration": 37,
    "start_time": "2024-03-29T17:59:31.271Z"
   },
   {
    "duration": 92,
    "start_time": "2024-03-29T17:59:31.310Z"
   },
   {
    "duration": 40,
    "start_time": "2024-03-29T17:59:31.403Z"
   },
   {
    "duration": 42,
    "start_time": "2024-03-29T17:59:31.445Z"
   },
   {
    "duration": 50,
    "start_time": "2024-03-29T17:59:31.489Z"
   },
   {
    "duration": 86,
    "start_time": "2024-03-29T17:59:31.541Z"
   },
   {
    "duration": 133,
    "start_time": "2024-03-29T17:59:31.628Z"
   },
   {
    "duration": 49,
    "start_time": "2024-03-29T17:59:31.763Z"
   },
   {
    "duration": 44,
    "start_time": "2024-03-29T17:59:31.814Z"
   },
   {
    "duration": 36,
    "start_time": "2024-03-29T17:59:31.860Z"
   },
   {
    "duration": 19,
    "start_time": "2024-03-29T17:59:31.897Z"
   },
   {
    "duration": 14,
    "start_time": "2024-03-29T17:59:31.918Z"
   },
   {
    "duration": 25,
    "start_time": "2024-03-29T17:59:31.934Z"
   },
   {
    "duration": 30,
    "start_time": "2024-03-29T17:59:31.960Z"
   },
   {
    "duration": 872,
    "start_time": "2024-03-29T17:59:31.992Z"
   },
   {
    "duration": 194,
    "start_time": "2024-03-29T17:59:32.866Z"
   },
   {
    "duration": 45911,
    "start_time": "2024-03-29T17:59:33.061Z"
   },
   {
    "duration": 27358,
    "start_time": "2024-03-29T18:00:18.973Z"
   },
   {
    "duration": 213,
    "start_time": "2024-03-29T18:00:46.332Z"
   },
   {
    "duration": 28,
    "start_time": "2024-03-29T18:00:46.547Z"
   },
   {
    "duration": 37653,
    "start_time": "2024-03-29T18:00:46.577Z"
   },
   {
    "duration": 6,
    "start_time": "2024-03-29T18:01:24.232Z"
   },
   {
    "duration": 34,
    "start_time": "2024-03-29T18:01:24.239Z"
   },
   {
    "duration": 9,
    "start_time": "2024-03-29T18:01:24.275Z"
   },
   {
    "duration": 26,
    "start_time": "2024-03-29T18:56:05.173Z"
   },
   {
    "duration": 6,
    "start_time": "2024-03-29T18:56:10.919Z"
   },
   {
    "duration": 27,
    "start_time": "2024-03-29T18:56:46.899Z"
   },
   {
    "duration": 9715,
    "start_time": "2024-03-31T17:10:18.704Z"
   },
   {
    "duration": 1552,
    "start_time": "2024-03-31T17:10:40.880Z"
   },
   {
    "duration": 270,
    "start_time": "2024-03-31T17:10:45.718Z"
   },
   {
    "duration": 14,
    "start_time": "2024-03-31T17:10:49.331Z"
   },
   {
    "duration": 14,
    "start_time": "2024-03-31T17:10:49.853Z"
   },
   {
    "duration": 12,
    "start_time": "2024-03-31T17:10:50.341Z"
   },
   {
    "duration": 11,
    "start_time": "2024-03-31T17:10:50.867Z"
   },
   {
    "duration": 8,
    "start_time": "2024-03-31T17:10:51.342Z"
   },
   {
    "duration": 7,
    "start_time": "2024-03-31T17:10:52.057Z"
   },
   {
    "duration": 9,
    "start_time": "2024-03-31T17:10:52.519Z"
   },
   {
    "duration": 11,
    "start_time": "2024-03-31T17:11:08.101Z"
   },
   {
    "duration": 3,
    "start_time": "2024-03-31T17:11:33.750Z"
   },
   {
    "duration": 3,
    "start_time": "2024-03-31T17:11:36.328Z"
   },
   {
    "duration": 3,
    "start_time": "2024-03-31T17:11:43.380Z"
   },
   {
    "duration": 2,
    "start_time": "2024-03-31T17:11:44.308Z"
   },
   {
    "duration": 3,
    "start_time": "2024-03-31T17:12:07.337Z"
   },
   {
    "duration": 3,
    "start_time": "2024-03-31T17:12:08.924Z"
   },
   {
    "duration": 3,
    "start_time": "2024-03-31T17:12:09.671Z"
   },
   {
    "duration": 31,
    "start_time": "2024-03-31T17:12:33.903Z"
   },
   {
    "duration": 3,
    "start_time": "2024-03-31T17:12:41.395Z"
   },
   {
    "duration": 3,
    "start_time": "2024-03-31T17:12:42.619Z"
   },
   {
    "duration": 16,
    "start_time": "2024-03-31T17:12:43.365Z"
   },
   {
    "duration": 10,
    "start_time": "2024-03-31T17:13:14.408Z"
   },
   {
    "duration": 12,
    "start_time": "2024-03-31T17:13:15.832Z"
   },
   {
    "duration": 4,
    "start_time": "2024-03-31T17:13:26.826Z"
   },
   {
    "duration": 17,
    "start_time": "2024-03-31T17:13:27.390Z"
   },
   {
    "duration": 4,
    "start_time": "2024-03-31T17:13:28.067Z"
   },
   {
    "duration": 18,
    "start_time": "2024-03-31T17:13:28.665Z"
   },
   {
    "duration": 42,
    "start_time": "2024-03-31T17:13:35.243Z"
   },
   {
    "duration": 40,
    "start_time": "2024-03-31T17:13:42.663Z"
   },
   {
    "duration": 46,
    "start_time": "2024-03-31T17:24:27.992Z"
   },
   {
    "duration": 40,
    "start_time": "2024-03-31T17:24:29.027Z"
   },
   {
    "duration": 549,
    "start_time": "2024-03-31T17:24:48.680Z"
   },
   {
    "duration": 353,
    "start_time": "2024-03-31T17:24:51.641Z"
   },
   {
    "duration": 321,
    "start_time": "2024-03-31T17:24:55.044Z"
   },
   {
    "duration": 568,
    "start_time": "2024-03-31T17:25:05.454Z"
   },
   {
    "duration": 349,
    "start_time": "2024-03-31T17:25:11.404Z"
   },
   {
    "duration": 4,
    "start_time": "2024-03-31T17:25:18.306Z"
   },
   {
    "duration": 375,
    "start_time": "2024-03-31T17:25:47.905Z"
   },
   {
    "duration": 383,
    "start_time": "2024-03-31T17:25:57.732Z"
   },
   {
    "duration": 5,
    "start_time": "2024-03-31T17:26:36.725Z"
   },
   {
    "duration": 122,
    "start_time": "2024-03-31T17:28:02.331Z"
   },
   {
    "duration": 5695,
    "start_time": "2024-03-31T17:28:22.000Z"
   },
   {
    "duration": 1280,
    "start_time": "2024-03-31T17:28:27.697Z"
   },
   {
    "duration": 127,
    "start_time": "2024-03-31T17:28:28.978Z"
   },
   {
    "duration": 14,
    "start_time": "2024-03-31T17:28:29.107Z"
   },
   {
    "duration": 12,
    "start_time": "2024-03-31T17:28:29.123Z"
   },
   {
    "duration": 14,
    "start_time": "2024-03-31T17:28:29.138Z"
   },
   {
    "duration": 17,
    "start_time": "2024-03-31T17:28:29.154Z"
   },
   {
    "duration": 9,
    "start_time": "2024-03-31T17:28:29.174Z"
   },
   {
    "duration": 12,
    "start_time": "2024-03-31T17:28:29.184Z"
   },
   {
    "duration": 7,
    "start_time": "2024-03-31T17:28:29.199Z"
   },
   {
    "duration": 13,
    "start_time": "2024-03-31T17:28:29.207Z"
   },
   {
    "duration": 4,
    "start_time": "2024-03-31T17:28:29.222Z"
   },
   {
    "duration": 31,
    "start_time": "2024-03-31T17:28:29.228Z"
   },
   {
    "duration": 12,
    "start_time": "2024-03-31T17:28:29.261Z"
   },
   {
    "duration": 9,
    "start_time": "2024-03-31T17:28:29.275Z"
   },
   {
    "duration": 14,
    "start_time": "2024-03-31T17:28:29.285Z"
   },
   {
    "duration": 3,
    "start_time": "2024-03-31T17:28:29.301Z"
   },
   {
    "duration": 31,
    "start_time": "2024-03-31T17:28:29.305Z"
   },
   {
    "duration": 3,
    "start_time": "2024-03-31T17:28:29.338Z"
   },
   {
    "duration": 5,
    "start_time": "2024-03-31T17:28:29.343Z"
   },
   {
    "duration": 23,
    "start_time": "2024-03-31T17:28:29.349Z"
   },
   {
    "duration": 11,
    "start_time": "2024-03-31T17:28:29.374Z"
   },
   {
    "duration": 11,
    "start_time": "2024-03-31T17:28:29.386Z"
   },
   {
    "duration": 11,
    "start_time": "2024-03-31T17:28:29.399Z"
   },
   {
    "duration": 28,
    "start_time": "2024-03-31T17:28:29.411Z"
   },
   {
    "duration": 3,
    "start_time": "2024-03-31T17:28:29.441Z"
   },
   {
    "duration": 16,
    "start_time": "2024-03-31T17:28:29.459Z"
   },
   {
    "duration": 41,
    "start_time": "2024-03-31T17:28:29.479Z"
   },
   {
    "duration": 61,
    "start_time": "2024-03-31T17:28:29.521Z"
   },
   {
    "duration": 540,
    "start_time": "2024-03-31T17:28:29.583Z"
   },
   {
    "duration": 394,
    "start_time": "2024-03-31T17:28:30.125Z"
   },
   {
    "duration": 394,
    "start_time": "2024-03-31T17:28:30.521Z"
   },
   {
    "duration": 494,
    "start_time": "2024-03-31T17:28:30.918Z"
   },
   {
    "duration": 420,
    "start_time": "2024-03-31T17:28:31.414Z"
   },
   {
    "duration": 434,
    "start_time": "2024-03-31T17:28:31.836Z"
   },
   {
    "duration": 5,
    "start_time": "2024-03-31T17:28:32.272Z"
   },
   {
    "duration": 13,
    "start_time": "2024-03-31T17:28:32.278Z"
   },
   {
    "duration": 15,
    "start_time": "2024-03-31T17:28:32.293Z"
   },
   {
    "duration": 12,
    "start_time": "2024-03-31T17:28:32.309Z"
   },
   {
    "duration": 13,
    "start_time": "2024-03-31T17:28:32.323Z"
   },
   {
    "duration": 8,
    "start_time": "2024-03-31T17:28:32.358Z"
   },
   {
    "duration": 16,
    "start_time": "2024-03-31T17:28:32.368Z"
   },
   {
    "duration": 5,
    "start_time": "2024-03-31T17:28:32.385Z"
   },
   {
    "duration": 79,
    "start_time": "2024-03-31T17:28:32.391Z"
   },
   {
    "duration": 11,
    "start_time": "2024-03-31T17:28:32.472Z"
   },
   {
    "duration": 21,
    "start_time": "2024-03-31T17:28:32.485Z"
   },
   {
    "duration": 2880,
    "start_time": "2024-03-31T17:28:32.508Z"
   },
   {
    "duration": 6,
    "start_time": "2024-03-31T17:28:35.390Z"
   },
   {
    "duration": 17,
    "start_time": "2024-03-31T17:28:35.398Z"
   },
   {
    "duration": 17,
    "start_time": "2024-03-31T17:28:35.416Z"
   },
   {
    "duration": 10,
    "start_time": "2024-03-31T17:28:35.435Z"
   },
   {
    "duration": 10380,
    "start_time": "2024-03-31T17:28:35.447Z"
   },
   {
    "duration": 0,
    "start_time": "2024-03-31T17:28:45.830Z"
   },
   {
    "duration": 0,
    "start_time": "2024-03-31T17:28:45.831Z"
   },
   {
    "duration": 0,
    "start_time": "2024-03-31T17:28:45.832Z"
   },
   {
    "duration": 0,
    "start_time": "2024-03-31T17:28:45.833Z"
   },
   {
    "duration": 0,
    "start_time": "2024-03-31T17:28:45.835Z"
   },
   {
    "duration": 0,
    "start_time": "2024-03-31T17:28:45.835Z"
   },
   {
    "duration": 0,
    "start_time": "2024-03-31T17:28:45.836Z"
   },
   {
    "duration": 0,
    "start_time": "2024-03-31T17:28:45.837Z"
   },
   {
    "duration": 0,
    "start_time": "2024-03-31T17:28:45.839Z"
   },
   {
    "duration": 0,
    "start_time": "2024-03-31T17:28:45.839Z"
   },
   {
    "duration": 0,
    "start_time": "2024-03-31T17:28:45.840Z"
   },
   {
    "duration": 0,
    "start_time": "2024-03-31T17:28:45.858Z"
   },
   {
    "duration": 0,
    "start_time": "2024-03-31T17:28:45.860Z"
   },
   {
    "duration": 0,
    "start_time": "2024-03-31T17:28:45.861Z"
   },
   {
    "duration": 0,
    "start_time": "2024-03-31T17:28:45.862Z"
   },
   {
    "duration": 0,
    "start_time": "2024-03-31T17:28:45.863Z"
   },
   {
    "duration": 0,
    "start_time": "2024-03-31T17:28:45.864Z"
   },
   {
    "duration": 0,
    "start_time": "2024-03-31T17:28:45.865Z"
   },
   {
    "duration": 0,
    "start_time": "2024-03-31T17:28:45.866Z"
   },
   {
    "duration": 0,
    "start_time": "2024-03-31T17:28:45.867Z"
   },
   {
    "duration": 0,
    "start_time": "2024-03-31T17:28:45.868Z"
   },
   {
    "duration": 0,
    "start_time": "2024-03-31T17:28:45.870Z"
   },
   {
    "duration": 0,
    "start_time": "2024-03-31T17:28:45.871Z"
   },
   {
    "duration": 0,
    "start_time": "2024-03-31T17:28:45.872Z"
   },
   {
    "duration": 0,
    "start_time": "2024-03-31T17:28:45.873Z"
   },
   {
    "duration": 0,
    "start_time": "2024-03-31T17:28:45.874Z"
   },
   {
    "duration": 0,
    "start_time": "2024-03-31T17:28:45.875Z"
   },
   {
    "duration": 0,
    "start_time": "2024-03-31T17:28:45.876Z"
   },
   {
    "duration": 0,
    "start_time": "2024-03-31T17:28:45.878Z"
   },
   {
    "duration": 0,
    "start_time": "2024-03-31T17:28:45.879Z"
   },
   {
    "duration": 0,
    "start_time": "2024-03-31T17:28:45.880Z"
   },
   {
    "duration": 0,
    "start_time": "2024-03-31T17:28:45.881Z"
   },
   {
    "duration": 0,
    "start_time": "2024-03-31T17:28:45.882Z"
   },
   {
    "duration": 0,
    "start_time": "2024-03-31T17:28:45.883Z"
   },
   {
    "duration": 0,
    "start_time": "2024-03-31T17:28:45.884Z"
   },
   {
    "duration": 0,
    "start_time": "2024-03-31T17:28:45.885Z"
   },
   {
    "duration": 0,
    "start_time": "2024-03-31T17:28:45.886Z"
   },
   {
    "duration": 0,
    "start_time": "2024-03-31T17:28:45.887Z"
   },
   {
    "duration": 0,
    "start_time": "2024-03-31T17:28:45.889Z"
   },
   {
    "duration": 0,
    "start_time": "2024-03-31T17:28:45.889Z"
   },
   {
    "duration": 0,
    "start_time": "2024-03-31T17:28:45.891Z"
   },
   {
    "duration": 0,
    "start_time": "2024-03-31T17:28:45.891Z"
   },
   {
    "duration": 0,
    "start_time": "2024-03-31T17:28:45.893Z"
   },
   {
    "duration": 0,
    "start_time": "2024-03-31T17:28:45.894Z"
   },
   {
    "duration": 0,
    "start_time": "2024-03-31T17:28:45.959Z"
   },
   {
    "duration": 0,
    "start_time": "2024-03-31T17:28:45.960Z"
   },
   {
    "duration": 0,
    "start_time": "2024-03-31T17:28:45.961Z"
   },
   {
    "duration": 0,
    "start_time": "2024-03-31T17:28:45.962Z"
   },
   {
    "duration": 0,
    "start_time": "2024-03-31T17:28:45.963Z"
   },
   {
    "duration": 0,
    "start_time": "2024-03-31T17:28:45.964Z"
   },
   {
    "duration": 0,
    "start_time": "2024-03-31T17:28:45.965Z"
   },
   {
    "duration": 0,
    "start_time": "2024-03-31T17:28:45.967Z"
   },
   {
    "duration": 0,
    "start_time": "2024-03-31T17:28:45.968Z"
   },
   {
    "duration": 0,
    "start_time": "2024-03-31T17:28:45.969Z"
   },
   {
    "duration": 0,
    "start_time": "2024-03-31T17:28:45.970Z"
   },
   {
    "duration": 2,
    "start_time": "2024-03-31T17:29:32.364Z"
   },
   {
    "duration": 8,
    "start_time": "2024-03-31T17:29:36.925Z"
   },
   {
    "duration": 12,
    "start_time": "2024-03-31T17:29:51.399Z"
   },
   {
    "duration": 14,
    "start_time": "2024-03-31T17:29:51.975Z"
   },
   {
    "duration": 8,
    "start_time": "2024-03-31T17:29:55.009Z"
   },
   {
    "duration": 12,
    "start_time": "2024-03-31T17:29:55.590Z"
   },
   {
    "duration": 3,
    "start_time": "2024-03-31T17:29:59.467Z"
   },
   {
    "duration": 42,
    "start_time": "2024-03-31T17:30:03.621Z"
   },
   {
    "duration": 7,
    "start_time": "2024-03-31T17:30:04.216Z"
   },
   {
    "duration": 3,
    "start_time": "2024-03-31T17:30:07.038Z"
   },
   {
    "duration": 2778,
    "start_time": "2024-03-31T17:30:09.341Z"
   },
   {
    "duration": 8,
    "start_time": "2024-03-31T17:30:14.326Z"
   },
   {
    "duration": 3,
    "start_time": "2024-03-31T17:30:16.004Z"
   },
   {
    "duration": 3,
    "start_time": "2024-03-31T17:30:17.742Z"
   },
   {
    "duration": 4,
    "start_time": "2024-03-31T17:30:18.325Z"
   },
   {
    "duration": 356061,
    "start_time": "2024-03-31T17:30:23.904Z"
   },
   {
    "duration": 18,
    "start_time": "2024-03-31T17:36:48.600Z"
   },
   {
    "duration": 5585,
    "start_time": "2024-03-31T17:39:25.805Z"
   },
   {
    "duration": 1302,
    "start_time": "2024-03-31T17:39:31.393Z"
   },
   {
    "duration": 212,
    "start_time": "2024-03-31T17:39:32.696Z"
   },
   {
    "duration": 16,
    "start_time": "2024-03-31T17:39:32.910Z"
   },
   {
    "duration": 22,
    "start_time": "2024-03-31T17:39:32.927Z"
   },
   {
    "duration": 42,
    "start_time": "2024-03-31T17:39:32.951Z"
   },
   {
    "duration": 22,
    "start_time": "2024-03-31T17:39:32.995Z"
   },
   {
    "duration": 13,
    "start_time": "2024-03-31T17:39:33.018Z"
   },
   {
    "duration": 9,
    "start_time": "2024-03-31T17:39:33.033Z"
   },
   {
    "duration": 12,
    "start_time": "2024-03-31T17:39:33.046Z"
   },
   {
    "duration": 19,
    "start_time": "2024-03-31T17:39:33.060Z"
   },
   {
    "duration": 7,
    "start_time": "2024-03-31T17:39:33.082Z"
   },
   {
    "duration": 4,
    "start_time": "2024-03-31T17:39:33.091Z"
   },
   {
    "duration": 8,
    "start_time": "2024-03-31T17:39:33.097Z"
   },
   {
    "duration": 7,
    "start_time": "2024-03-31T17:39:33.106Z"
   },
   {
    "duration": 12,
    "start_time": "2024-03-31T17:39:33.114Z"
   },
   {
    "duration": 13,
    "start_time": "2024-03-31T17:39:33.128Z"
   },
   {
    "duration": 43,
    "start_time": "2024-03-31T17:39:33.143Z"
   },
   {
    "duration": 4,
    "start_time": "2024-03-31T17:39:33.188Z"
   },
   {
    "duration": 19,
    "start_time": "2024-03-31T17:39:33.194Z"
   },
   {
    "duration": 49,
    "start_time": "2024-03-31T17:39:33.214Z"
   },
   {
    "duration": 25,
    "start_time": "2024-03-31T17:39:33.264Z"
   },
   {
    "duration": 22,
    "start_time": "2024-03-31T17:39:33.291Z"
   },
   {
    "duration": 20,
    "start_time": "2024-03-31T17:39:33.314Z"
   },
   {
    "duration": 16,
    "start_time": "2024-03-31T17:39:33.336Z"
   },
   {
    "duration": 3,
    "start_time": "2024-03-31T17:39:33.354Z"
   },
   {
    "duration": 25,
    "start_time": "2024-03-31T17:39:33.359Z"
   },
   {
    "duration": 43,
    "start_time": "2024-03-31T17:39:33.388Z"
   },
   {
    "duration": 57,
    "start_time": "2024-03-31T17:39:33.432Z"
   },
   {
    "duration": 541,
    "start_time": "2024-03-31T17:39:33.491Z"
   },
   {
    "duration": 383,
    "start_time": "2024-03-31T17:39:34.033Z"
   },
   {
    "duration": 373,
    "start_time": "2024-03-31T17:39:34.417Z"
   },
   {
    "duration": 470,
    "start_time": "2024-03-31T17:39:34.791Z"
   },
   {
    "duration": 396,
    "start_time": "2024-03-31T17:39:35.262Z"
   },
   {
    "duration": 399,
    "start_time": "2024-03-31T17:39:35.660Z"
   },
   {
    "duration": 4,
    "start_time": "2024-03-31T17:39:36.061Z"
   },
   {
    "duration": 30,
    "start_time": "2024-03-31T17:39:36.066Z"
   },
   {
    "duration": 22,
    "start_time": "2024-03-31T17:39:36.098Z"
   },
   {
    "duration": 11,
    "start_time": "2024-03-31T17:39:36.122Z"
   },
   {
    "duration": 32,
    "start_time": "2024-03-31T17:39:36.135Z"
   },
   {
    "duration": 18,
    "start_time": "2024-03-31T17:39:36.169Z"
   },
   {
    "duration": 24,
    "start_time": "2024-03-31T17:39:36.188Z"
   },
   {
    "duration": 12,
    "start_time": "2024-03-31T17:39:36.213Z"
   },
   {
    "duration": 58,
    "start_time": "2024-03-31T17:39:36.226Z"
   },
   {
    "duration": 76,
    "start_time": "2024-03-31T17:39:36.287Z"
   },
   {
    "duration": 10,
    "start_time": "2024-03-31T17:39:36.364Z"
   },
   {
    "duration": 2953,
    "start_time": "2024-03-31T17:39:36.375Z"
   },
   {
    "duration": 6,
    "start_time": "2024-03-31T17:39:39.330Z"
   },
   {
    "duration": 6,
    "start_time": "2024-03-31T17:39:39.338Z"
   },
   {
    "duration": 14,
    "start_time": "2024-03-31T17:39:39.346Z"
   },
   {
    "duration": 9,
    "start_time": "2024-03-31T17:39:39.362Z"
   },
   {
    "duration": 346979,
    "start_time": "2024-03-31T17:39:39.373Z"
   },
   {
    "duration": 724,
    "start_time": "2024-03-31T17:45:26.353Z"
   },
   {
    "duration": 8,
    "start_time": "2024-03-31T17:45:27.079Z"
   },
   {
    "duration": 196,
    "start_time": "2024-03-31T17:45:27.088Z"
   },
   {
    "duration": 20,
    "start_time": "2024-03-31T17:45:27.285Z"
   },
   {
    "duration": 27,
    "start_time": "2024-03-31T17:45:27.306Z"
   },
   {
    "duration": 10,
    "start_time": "2024-03-31T17:45:27.335Z"
   },
   {
    "duration": 19,
    "start_time": "2024-03-31T17:45:27.358Z"
   },
   {
    "duration": 16,
    "start_time": "2024-03-31T17:45:27.378Z"
   },
   {
    "duration": 14,
    "start_time": "2024-03-31T17:45:27.396Z"
   },
   {
    "duration": 5,
    "start_time": "2024-03-31T17:45:27.412Z"
   },
   {
    "duration": 11,
    "start_time": "2024-03-31T17:45:27.418Z"
   },
   {
    "duration": 6,
    "start_time": "2024-03-31T17:45:27.431Z"
   },
   {
    "duration": 31,
    "start_time": "2024-03-31T17:45:27.438Z"
   },
   {
    "duration": 3,
    "start_time": "2024-03-31T17:45:27.470Z"
   },
   {
    "duration": 9,
    "start_time": "2024-03-31T17:45:27.475Z"
   },
   {
    "duration": 31,
    "start_time": "2024-03-31T17:45:27.486Z"
   },
   {
    "duration": 47,
    "start_time": "2024-03-31T17:45:27.518Z"
   },
   {
    "duration": 277,
    "start_time": "2024-03-31T17:45:27.567Z"
   },
   {
    "duration": 438,
    "start_time": "2024-03-31T17:45:27.846Z"
   },
   {
    "duration": 401,
    "start_time": "2024-03-31T17:45:28.286Z"
   },
   {
    "duration": 442,
    "start_time": "2024-03-31T17:45:28.689Z"
   },
   {
    "duration": 325,
    "start_time": "2024-03-31T17:45:29.133Z"
   },
   {
    "duration": 364,
    "start_time": "2024-03-31T17:45:29.460Z"
   },
   {
    "duration": 2655,
    "start_time": "2024-03-31T17:45:29.825Z"
   },
   {
    "duration": 169,
    "start_time": "2024-03-31T17:45:32.481Z"
   },
   {
    "duration": 8,
    "start_time": "2024-03-31T17:45:32.651Z"
   },
   {
    "duration": 18,
    "start_time": "2024-03-31T17:45:32.660Z"
   },
   {
    "duration": 16,
    "start_time": "2024-03-31T17:45:32.679Z"
   },
   {
    "duration": 8,
    "start_time": "2024-03-31T17:45:32.696Z"
   },
   {
    "duration": 73,
    "start_time": "2024-03-31T17:45:32.709Z"
   },
   {
    "duration": 4,
    "start_time": "2024-03-31T17:45:32.784Z"
   },
   {
    "duration": 23,
    "start_time": "2024-03-31T17:45:32.790Z"
   },
   {
    "duration": 25,
    "start_time": "2024-03-31T17:45:32.815Z"
   },
   {
    "duration": 74,
    "start_time": "2024-03-31T17:45:32.841Z"
   },
   {
    "duration": 72,
    "start_time": "2024-03-31T17:45:32.916Z"
   },
   {
    "duration": 42,
    "start_time": "2024-03-31T17:45:32.989Z"
   },
   {
    "duration": 84,
    "start_time": "2024-03-31T17:45:33.033Z"
   },
   {
    "duration": 9,
    "start_time": "2024-03-31T17:45:33.118Z"
   },
   {
    "duration": 77,
    "start_time": "2024-03-31T17:45:33.128Z"
   },
   {
    "duration": 78,
    "start_time": "2024-03-31T17:45:33.207Z"
   },
   {
    "duration": 40,
    "start_time": "2024-03-31T17:45:33.286Z"
   },
   {
    "duration": 24,
    "start_time": "2024-03-31T17:45:33.328Z"
   },
   {
    "duration": 16,
    "start_time": "2024-03-31T17:45:33.353Z"
   },
   {
    "duration": 9,
    "start_time": "2024-03-31T17:45:33.371Z"
   },
   {
    "duration": 777,
    "start_time": "2024-03-31T17:45:33.382Z"
   },
   {
    "duration": 114,
    "start_time": "2024-03-31T17:45:34.162Z"
   },
   {
    "duration": 7,
    "start_time": "2024-03-31T17:45:34.278Z"
   },
   {
    "duration": 44831,
    "start_time": "2024-03-31T17:45:34.287Z"
   },
   {
    "duration": 25841,
    "start_time": "2024-03-31T17:46:19.120Z"
   },
   {
    "duration": 212,
    "start_time": "2024-03-31T17:46:44.963Z"
   },
   {
    "duration": 21,
    "start_time": "2024-03-31T17:46:45.176Z"
   },
   {
    "duration": 36477,
    "start_time": "2024-03-31T17:46:45.199Z"
   },
   {
    "duration": 6,
    "start_time": "2024-03-31T17:47:21.677Z"
   },
   {
    "duration": 35,
    "start_time": "2024-03-31T17:47:21.684Z"
   },
   {
    "duration": 9,
    "start_time": "2024-03-31T17:47:21.721Z"
   },
   {
    "duration": 4,
    "start_time": "2024-03-31T18:02:32.902Z"
   },
   {
    "duration": 16,
    "start_time": "2024-03-31T18:02:35.988Z"
   },
   {
    "duration": 18,
    "start_time": "2024-03-31T18:02:41.463Z"
   },
   {
    "duration": 113,
    "start_time": "2024-03-31T18:02:42.649Z"
   },
   {
    "duration": 5,
    "start_time": "2024-03-31T18:04:27.803Z"
   },
   {
    "duration": 22,
    "start_time": "2024-03-31T18:04:44.323Z"
   },
   {
    "duration": 16,
    "start_time": "2024-03-31T18:05:09.567Z"
   },
   {
    "duration": 21,
    "start_time": "2024-03-31T18:05:52.701Z"
   },
   {
    "duration": 4,
    "start_time": "2024-03-31T18:06:36.488Z"
   },
   {
    "duration": 3,
    "start_time": "2024-03-31T18:06:40.483Z"
   },
   {
    "duration": 8,
    "start_time": "2024-03-31T18:07:00.718Z"
   },
   {
    "duration": 11,
    "start_time": "2024-03-31T18:07:01.351Z"
   },
   {
    "duration": 9,
    "start_time": "2024-03-31T18:07:09.525Z"
   },
   {
    "duration": 50,
    "start_time": "2024-03-31T18:07:13.600Z"
   },
   {
    "duration": 3,
    "start_time": "2024-03-31T18:07:15.763Z"
   },
   {
    "duration": 17,
    "start_time": "2024-03-31T18:07:17.795Z"
   },
   {
    "duration": 3,
    "start_time": "2024-03-31T18:07:18.390Z"
   },
   {
    "duration": 12,
    "start_time": "2024-03-31T18:07:19.104Z"
   },
   {
    "duration": 19,
    "start_time": "2024-03-31T18:07:19.806Z"
   },
   {
    "duration": 9,
    "start_time": "2024-03-31T18:07:20.503Z"
   },
   {
    "duration": 72,
    "start_time": "2024-03-31T18:07:21.071Z"
   },
   {
    "duration": 9,
    "start_time": "2024-03-31T18:07:21.436Z"
   },
   {
    "duration": 17,
    "start_time": "2024-03-31T18:07:21.841Z"
   },
   {
    "duration": 3,
    "start_time": "2024-03-31T18:10:00.994Z"
   },
   {
    "duration": 4,
    "start_time": "2024-03-31T18:10:01.514Z"
   },
   {
    "duration": 3,
    "start_time": "2024-03-31T18:10:10.772Z"
   },
   {
    "duration": 3,
    "start_time": "2024-03-31T18:10:14.231Z"
   },
   {
    "duration": 3,
    "start_time": "2024-03-31T18:10:15.356Z"
   },
   {
    "duration": 27,
    "start_time": "2024-03-31T18:10:15.981Z"
   },
   {
    "duration": 4,
    "start_time": "2024-03-31T18:10:21.228Z"
   },
   {
    "duration": 3,
    "start_time": "2024-03-31T18:10:25.707Z"
   },
   {
    "duration": 16,
    "start_time": "2024-03-31T18:10:26.744Z"
   },
   {
    "duration": 32,
    "start_time": "2024-03-31T18:10:27.557Z"
   },
   {
    "duration": 838,
    "start_time": "2024-03-31T18:11:03.156Z"
   },
   {
    "duration": 6,
    "start_time": "2024-03-31T18:11:25.291Z"
   },
   {
    "duration": 501,
    "start_time": "2024-03-31T18:12:03.180Z"
   },
   {
    "duration": 558,
    "start_time": "2024-03-31T18:12:09.426Z"
   },
   {
    "duration": 24,
    "start_time": "2024-03-31T18:12:18.042Z"
   },
   {
    "duration": 16,
    "start_time": "2024-03-31T18:12:29.435Z"
   },
   {
    "duration": 3,
    "start_time": "2024-03-31T18:13:26.145Z"
   },
   {
    "duration": 16,
    "start_time": "2024-03-31T18:13:26.477Z"
   },
   {
    "duration": 19,
    "start_time": "2024-03-31T18:13:26.995Z"
   },
   {
    "duration": 8,
    "start_time": "2024-03-31T18:13:27.569Z"
   },
   {
    "duration": 46,
    "start_time": "2024-03-31T18:13:28.129Z"
   },
   {
    "duration": 3,
    "start_time": "2024-03-31T18:13:28.810Z"
   },
   {
    "duration": 11,
    "start_time": "2024-03-31T18:13:34.746Z"
   },
   {
    "duration": 3,
    "start_time": "2024-03-31T18:13:37.806Z"
   },
   {
    "duration": 10,
    "start_time": "2024-03-31T18:13:38.084Z"
   },
   {
    "duration": 18,
    "start_time": "2024-03-31T18:13:40.288Z"
   },
   {
    "duration": 9,
    "start_time": "2024-03-31T18:13:40.678Z"
   },
   {
    "duration": 66,
    "start_time": "2024-03-31T18:13:41.321Z"
   },
   {
    "duration": 3,
    "start_time": "2024-03-31T18:13:50.966Z"
   },
   {
    "duration": 11,
    "start_time": "2024-03-31T18:13:54.147Z"
   },
   {
    "duration": 3,
    "start_time": "2024-03-31T18:13:57.892Z"
   },
   {
    "duration": 3,
    "start_time": "2024-03-31T18:13:58.215Z"
   },
   {
    "duration": 4,
    "start_time": "2024-03-31T18:13:58.526Z"
   },
   {
    "duration": 3,
    "start_time": "2024-03-31T18:13:58.894Z"
   },
   {
    "duration": 3,
    "start_time": "2024-03-31T18:13:59.608Z"
   },
   {
    "duration": 28,
    "start_time": "2024-03-31T18:14:00.596Z"
   },
   {
    "duration": 4,
    "start_time": "2024-03-31T18:14:02.659Z"
   },
   {
    "duration": 3,
    "start_time": "2024-03-31T18:14:03.323Z"
   },
   {
    "duration": 17,
    "start_time": "2024-03-31T18:14:04.039Z"
   },
   {
    "duration": 31,
    "start_time": "2024-03-31T18:14:08.162Z"
   },
   {
    "duration": 553,
    "start_time": "2024-03-31T18:14:10.581Z"
   },
   {
    "duration": 380,
    "start_time": "2024-03-31T18:14:19.809Z"
   },
   {
    "duration": 421,
    "start_time": "2024-03-31T18:14:23.583Z"
   },
   {
    "duration": 608,
    "start_time": "2024-03-31T18:14:30.030Z"
   },
   {
    "duration": 375,
    "start_time": "2024-03-31T18:14:38.541Z"
   },
   {
    "duration": 17,
    "start_time": "2024-03-31T18:14:50.752Z"
   },
   {
    "duration": 4,
    "start_time": "2024-03-31T18:15:02.995Z"
   },
   {
    "duration": 391,
    "start_time": "2024-03-31T18:15:21.933Z"
   },
   {
    "duration": 273,
    "start_time": "2024-03-31T18:15:31.572Z"
   },
   {
    "duration": 373,
    "start_time": "2024-03-31T18:16:43.717Z"
   },
   {
    "duration": 5,
    "start_time": "2024-03-31T18:18:15.975Z"
   },
   {
    "duration": 3857,
    "start_time": "2024-03-31T18:18:35.864Z"
   },
   {
    "duration": 22,
    "start_time": "2024-03-31T18:20:22.035Z"
   },
   {
    "duration": 11,
    "start_time": "2024-03-31T18:20:33.081Z"
   },
   {
    "duration": 8,
    "start_time": "2024-03-31T18:20:42.081Z"
   },
   {
    "duration": 9,
    "start_time": "2024-03-31T18:20:49.663Z"
   },
   {
    "duration": 10,
    "start_time": "2024-03-31T18:20:53.609Z"
   },
   {
    "duration": 10,
    "start_time": "2024-03-31T18:21:09.452Z"
   },
   {
    "duration": 4,
    "start_time": "2024-03-31T18:21:12.697Z"
   },
   {
    "duration": 4,
    "start_time": "2024-03-31T18:21:47.847Z"
   },
   {
    "duration": 183,
    "start_time": "2024-03-31T18:22:53.054Z"
   },
   {
    "duration": 16,
    "start_time": "2024-03-31T18:23:38.650Z"
   },
   {
    "duration": 29,
    "start_time": "2024-03-31T20:08:26.353Z"
   },
   {
    "duration": 4,
    "start_time": "2024-03-31T20:10:51.035Z"
   },
   {
    "duration": 19,
    "start_time": "2024-03-31T20:11:23.829Z"
   },
   {
    "duration": 651,
    "start_time": "2024-03-31T20:12:16.059Z"
   },
   {
    "duration": 637,
    "start_time": "2024-03-31T20:12:19.200Z"
   },
   {
    "duration": 9,
    "start_time": "2024-03-31T20:12:57.796Z"
   },
   {
    "duration": 16,
    "start_time": "2024-03-31T20:13:00.323Z"
   },
   {
    "duration": 18,
    "start_time": "2024-03-31T20:13:11.398Z"
   },
   {
    "duration": 4,
    "start_time": "2024-03-31T20:14:30.169Z"
   },
   {
    "duration": 67,
    "start_time": "2024-03-31T20:15:50.631Z"
   },
   {
    "duration": 497,
    "start_time": "2024-03-31T20:15:57.589Z"
   },
   {
    "duration": 576,
    "start_time": "2024-03-31T20:16:11.651Z"
   },
   {
    "duration": 11,
    "start_time": "2024-03-31T20:16:38.606Z"
   },
   {
    "duration": 4,
    "start_time": "2024-03-31T20:16:50.164Z"
   },
   {
    "duration": 9,
    "start_time": "2024-03-31T20:18:21.827Z"
   },
   {
    "duration": 10,
    "start_time": "2024-03-31T20:19:43.477Z"
   },
   {
    "duration": 9,
    "start_time": "2024-03-31T20:19:49.679Z"
   },
   {
    "duration": 6,
    "start_time": "2024-03-31T20:19:55.085Z"
   },
   {
    "duration": 13,
    "start_time": "2024-03-31T20:20:01.104Z"
   },
   {
    "duration": 14,
    "start_time": "2024-03-31T20:20:24.929Z"
   },
   {
    "duration": 14,
    "start_time": "2024-03-31T20:20:52.141Z"
   },
   {
    "duration": 4,
    "start_time": "2024-03-31T20:21:30.031Z"
   },
   {
    "duration": 14,
    "start_time": "2024-03-31T20:21:45.123Z"
   },
   {
    "duration": 23,
    "start_time": "2024-03-31T20:22:18.484Z"
   },
   {
    "duration": 61,
    "start_time": "2024-03-31T20:23:18.839Z"
   },
   {
    "duration": 483,
    "start_time": "2024-03-31T20:23:25.461Z"
   },
   {
    "duration": 1248,
    "start_time": "2024-03-31T20:24:11.367Z"
   },
   {
    "duration": 8,
    "start_time": "2024-03-31T20:24:44.124Z"
   },
   {
    "duration": 490,
    "start_time": "2024-03-31T20:24:59.349Z"
   },
   {
    "duration": 9,
    "start_time": "2024-03-31T20:25:01.876Z"
   },
   {
    "duration": 6,
    "start_time": "2024-03-31T20:25:15.706Z"
   },
   {
    "duration": 304,
    "start_time": "2024-03-31T20:25:40.410Z"
   },
   {
    "duration": 204,
    "start_time": "2024-03-31T20:26:13.041Z"
   },
   {
    "duration": 6,
    "start_time": "2024-03-31T20:26:25.764Z"
   },
   {
    "duration": 457,
    "start_time": "2024-03-31T20:26:43.069Z"
   },
   {
    "duration": 480,
    "start_time": "2024-03-31T20:26:51.159Z"
   },
   {
    "duration": 10,
    "start_time": "2024-03-31T20:27:25.102Z"
   },
   {
    "duration": 4,
    "start_time": "2024-03-31T20:27:32.404Z"
   },
   {
    "duration": 4,
    "start_time": "2024-03-31T20:27:44.764Z"
   },
   {
    "duration": 489,
    "start_time": "2024-03-31T20:28:21.638Z"
   },
   {
    "duration": 1888,
    "start_time": "2024-03-31T20:28:33.610Z"
   },
   {
    "duration": 75,
    "start_time": "2024-03-31T20:29:55.602Z"
   },
   {
    "duration": 1985,
    "start_time": "2024-03-31T20:30:01.443Z"
   },
   {
    "duration": 5,
    "start_time": "2024-03-31T20:30:53.226Z"
   },
   {
    "duration": 2278,
    "start_time": "2024-03-31T20:31:09.053Z"
   },
   {
    "duration": 1883,
    "start_time": "2024-03-31T20:31:48.156Z"
   },
   {
    "duration": 665,
    "start_time": "2024-03-31T20:33:39.244Z"
   },
   {
    "duration": 4003,
    "start_time": "2024-03-31T20:33:49.095Z"
   },
   {
    "duration": 3983,
    "start_time": "2024-03-31T20:34:10.419Z"
   },
   {
    "duration": 3712,
    "start_time": "2024-03-31T20:34:18.475Z"
   },
   {
    "duration": 765,
    "start_time": "2024-03-31T20:34:36.751Z"
   },
   {
    "duration": 4202,
    "start_time": "2024-03-31T20:34:43.271Z"
   },
   {
    "duration": 4107,
    "start_time": "2024-03-31T20:36:48.962Z"
   },
   {
    "duration": 4559,
    "start_time": "2024-03-31T20:38:01.223Z"
   },
   {
    "duration": 2036,
    "start_time": "2024-03-31T20:38:28.334Z"
   },
   {
    "duration": 1855,
    "start_time": "2024-03-31T20:40:56.132Z"
   },
   {
    "duration": 2206,
    "start_time": "2024-03-31T20:42:03.598Z"
   },
   {
    "duration": 1921,
    "start_time": "2024-03-31T20:42:17.266Z"
   },
   {
    "duration": 10,
    "start_time": "2024-03-31T20:43:51.896Z"
   },
   {
    "duration": 7,
    "start_time": "2024-03-31T20:44:33.581Z"
   },
   {
    "duration": 6,
    "start_time": "2024-03-31T20:44:50.362Z"
   },
   {
    "duration": 13,
    "start_time": "2024-03-31T20:45:26.740Z"
   },
   {
    "duration": 8,
    "start_time": "2024-03-31T20:45:43.695Z"
   },
   {
    "duration": 72,
    "start_time": "2024-03-31T20:46:31.128Z"
   },
   {
    "duration": 9,
    "start_time": "2024-03-31T20:46:35.088Z"
   },
   {
    "duration": 2,
    "start_time": "2024-03-31T20:46:44.124Z"
   },
   {
    "duration": 14,
    "start_time": "2024-03-31T20:46:58.203Z"
   },
   {
    "duration": 10,
    "start_time": "2024-03-31T20:47:08.196Z"
   },
   {
    "duration": 11,
    "start_time": "2024-03-31T20:47:14.545Z"
   },
   {
    "duration": 21,
    "start_time": "2024-03-31T20:47:28.480Z"
   },
   {
    "duration": 26,
    "start_time": "2024-03-31T20:47:36.546Z"
   },
   {
    "duration": 13,
    "start_time": "2024-03-31T20:47:44.403Z"
   },
   {
    "duration": 33,
    "start_time": "2024-03-31T20:47:48.716Z"
   },
   {
    "duration": 21,
    "start_time": "2024-03-31T20:47:56.313Z"
   },
   {
    "duration": 10,
    "start_time": "2024-03-31T20:48:02.484Z"
   },
   {
    "duration": 16,
    "start_time": "2024-03-31T20:48:37.416Z"
   },
   {
    "duration": 6,
    "start_time": "2024-03-31T20:50:44.807Z"
   },
   {
    "duration": 3070,
    "start_time": "2024-03-31T20:51:09.561Z"
   },
   {
    "duration": 2656,
    "start_time": "2024-03-31T20:51:43.320Z"
   },
   {
    "duration": 1145,
    "start_time": "2024-03-31T20:52:43.452Z"
   },
   {
    "duration": 9,
    "start_time": "2024-03-31T20:52:53.547Z"
   },
   {
    "duration": 7,
    "start_time": "2024-03-31T20:53:11.131Z"
   },
   {
    "duration": 836,
    "start_time": "2024-03-31T20:54:03.211Z"
   },
   {
    "duration": 899,
    "start_time": "2024-03-31T20:54:53.642Z"
   },
   {
    "duration": 782,
    "start_time": "2024-03-31T20:55:36.129Z"
   },
   {
    "duration": 6,
    "start_time": "2024-03-31T20:56:11.333Z"
   },
   {
    "duration": 159,
    "start_time": "2024-03-31T20:56:22.104Z"
   },
   {
    "duration": 136,
    "start_time": "2024-03-31T20:56:33.658Z"
   },
   {
    "duration": 115,
    "start_time": "2024-03-31T20:56:50.192Z"
   },
   {
    "duration": 147,
    "start_time": "2024-03-31T20:57:00.332Z"
   },
   {
    "duration": 11,
    "start_time": "2024-03-31T20:57:19.002Z"
   },
   {
    "duration": 127,
    "start_time": "2024-03-31T20:57:34.998Z"
   },
   {
    "duration": 109,
    "start_time": "2024-03-31T20:57:58.015Z"
   },
   {
    "duration": 82,
    "start_time": "2024-03-31T20:59:00.529Z"
   },
   {
    "duration": 178,
    "start_time": "2024-03-31T20:59:07.308Z"
   },
   {
    "duration": 10,
    "start_time": "2024-03-31T20:59:13.524Z"
   },
   {
    "duration": 191,
    "start_time": "2024-03-31T20:59:18.891Z"
   },
   {
    "duration": 133,
    "start_time": "2024-03-31T20:59:52.257Z"
   },
   {
    "duration": 124,
    "start_time": "2024-03-31T21:00:06.238Z"
   },
   {
    "duration": 138,
    "start_time": "2024-03-31T21:00:13.363Z"
   },
   {
    "duration": 131,
    "start_time": "2024-03-31T21:00:22.257Z"
   },
   {
    "duration": 623,
    "start_time": "2024-03-31T21:01:20.583Z"
   },
   {
    "duration": 821,
    "start_time": "2024-03-31T21:01:38.592Z"
   },
   {
    "duration": 818,
    "start_time": "2024-03-31T21:02:12.915Z"
   },
   {
    "duration": 617,
    "start_time": "2024-03-31T21:02:44.883Z"
   },
   {
    "duration": 596,
    "start_time": "2024-03-31T21:03:03.509Z"
   },
   {
    "duration": 1025,
    "start_time": "2024-03-31T21:03:29.699Z"
   },
   {
    "duration": 641,
    "start_time": "2024-03-31T21:03:41.462Z"
   },
   {
    "duration": 611,
    "start_time": "2024-03-31T21:04:43.689Z"
   },
   {
    "duration": 5,
    "start_time": "2024-03-31T21:04:58.464Z"
   },
   {
    "duration": 606,
    "start_time": "2024-03-31T21:05:12.094Z"
   },
   {
    "duration": 827,
    "start_time": "2024-03-31T21:05:22.083Z"
   },
   {
    "duration": 804,
    "start_time": "2024-03-31T21:06:14.177Z"
   },
   {
    "duration": 739,
    "start_time": "2024-03-31T21:07:14.303Z"
   },
   {
    "duration": 2260,
    "start_time": "2024-03-31T21:09:50.453Z"
   },
   {
    "duration": 2647,
    "start_time": "2024-03-31T21:10:42.763Z"
   },
   {
    "duration": 2180,
    "start_time": "2024-03-31T21:11:56.519Z"
   },
   {
    "duration": 2146,
    "start_time": "2024-03-31T21:13:06.452Z"
   },
   {
    "duration": 3,
    "start_time": "2024-03-31T21:13:39.882Z"
   },
   {
    "duration": 2,
    "start_time": "2024-03-31T21:13:40.412Z"
   },
   {
    "duration": 11,
    "start_time": "2024-03-31T21:13:43.085Z"
   },
   {
    "duration": 8,
    "start_time": "2024-03-31T21:13:45.808Z"
   },
   {
    "duration": 19,
    "start_time": "2024-03-31T21:13:51.623Z"
   },
   {
    "duration": 4,
    "start_time": "2024-03-31T21:14:02.098Z"
   },
   {
    "duration": 1721,
    "start_time": "2024-03-31T21:14:03.337Z"
   },
   {
    "duration": 9,
    "start_time": "2024-03-31T21:14:09.818Z"
   },
   {
    "duration": 57441,
    "start_time": "2024-03-31T21:14:31.776Z"
   },
   {
    "duration": 94796,
    "start_time": "2024-03-31T21:15:29.219Z"
   },
   {
    "duration": 1003,
    "start_time": "2024-03-31T21:17:51.528Z"
   },
   {
    "duration": 17,
    "start_time": "2024-03-31T21:17:53.549Z"
   },
   {
    "duration": 71121,
    "start_time": "2024-03-31T21:18:59.739Z"
   },
   {
    "duration": 6,
    "start_time": "2024-03-31T21:20:10.862Z"
   },
   {
    "duration": 16,
    "start_time": "2024-03-31T21:20:10.870Z"
   },
   {
    "duration": 9,
    "start_time": "2024-03-31T21:20:10.888Z"
   },
   {
    "duration": 5761,
    "start_time": "2024-04-01T19:59:31.142Z"
   },
   {
    "duration": 1690,
    "start_time": "2024-04-01T19:59:36.905Z"
   },
   {
    "duration": 285,
    "start_time": "2024-04-01T19:59:38.597Z"
   },
   {
    "duration": 17,
    "start_time": "2024-04-01T19:59:38.884Z"
   },
   {
    "duration": 14,
    "start_time": "2024-04-01T19:59:38.902Z"
   },
   {
    "duration": 29,
    "start_time": "2024-04-01T19:59:38.918Z"
   },
   {
    "duration": 15,
    "start_time": "2024-04-01T19:59:38.950Z"
   },
   {
    "duration": 9,
    "start_time": "2024-04-01T19:59:38.968Z"
   },
   {
    "duration": 10,
    "start_time": "2024-04-01T19:59:38.978Z"
   },
   {
    "duration": 6,
    "start_time": "2024-04-01T19:59:38.992Z"
   },
   {
    "duration": 13,
    "start_time": "2024-04-01T19:59:39.000Z"
   },
   {
    "duration": 16,
    "start_time": "2024-04-01T19:59:39.014Z"
   },
   {
    "duration": 31,
    "start_time": "2024-04-01T19:59:39.032Z"
   },
   {
    "duration": 3,
    "start_time": "2024-04-01T19:59:39.065Z"
   },
   {
    "duration": 5,
    "start_time": "2024-04-01T19:59:39.070Z"
   },
   {
    "duration": 8,
    "start_time": "2024-04-01T19:59:39.076Z"
   },
   {
    "duration": 6,
    "start_time": "2024-04-01T19:59:39.085Z"
   },
   {
    "duration": 29,
    "start_time": "2024-04-01T19:59:39.092Z"
   },
   {
    "duration": 3,
    "start_time": "2024-04-01T19:59:39.122Z"
   },
   {
    "duration": 8,
    "start_time": "2024-04-01T19:59:39.127Z"
   },
   {
    "duration": 29,
    "start_time": "2024-04-01T19:59:39.136Z"
   },
   {
    "duration": 9,
    "start_time": "2024-04-01T19:59:39.167Z"
   },
   {
    "duration": 11,
    "start_time": "2024-04-01T19:59:39.177Z"
   },
   {
    "duration": 4,
    "start_time": "2024-04-01T19:59:39.189Z"
   },
   {
    "duration": 19,
    "start_time": "2024-04-01T19:59:39.194Z"
   },
   {
    "duration": 7,
    "start_time": "2024-04-01T19:59:39.214Z"
   },
   {
    "duration": 26,
    "start_time": "2024-04-01T19:59:39.223Z"
   },
   {
    "duration": 42,
    "start_time": "2024-04-01T19:59:39.264Z"
   },
   {
    "duration": 39,
    "start_time": "2024-04-01T19:59:39.307Z"
   },
   {
    "duration": 751,
    "start_time": "2024-04-01T19:59:39.365Z"
   },
   {
    "duration": 689,
    "start_time": "2024-04-01T19:59:40.118Z"
   },
   {
    "duration": 521,
    "start_time": "2024-04-01T19:59:40.808Z"
   },
   {
    "duration": 841,
    "start_time": "2024-04-01T19:59:41.331Z"
   },
   {
    "duration": 312,
    "start_time": "2024-04-01T19:59:42.174Z"
   },
   {
    "duration": 302,
    "start_time": "2024-04-01T19:59:42.487Z"
   },
   {
    "duration": 3,
    "start_time": "2024-04-01T19:59:42.791Z"
   },
   {
    "duration": 4,
    "start_time": "2024-04-01T19:59:42.796Z"
   },
   {
    "duration": 16,
    "start_time": "2024-04-01T19:59:42.801Z"
   },
   {
    "duration": 13,
    "start_time": "2024-04-01T19:59:42.819Z"
   },
   {
    "duration": 14,
    "start_time": "2024-04-01T19:59:42.834Z"
   },
   {
    "duration": 21,
    "start_time": "2024-04-01T19:59:42.850Z"
   },
   {
    "duration": 37,
    "start_time": "2024-04-01T19:59:42.873Z"
   },
   {
    "duration": 4,
    "start_time": "2024-04-01T19:59:42.912Z"
   },
   {
    "duration": 55,
    "start_time": "2024-04-01T19:59:42.918Z"
   },
   {
    "duration": 7,
    "start_time": "2024-04-01T19:59:42.974Z"
   },
   {
    "duration": 5,
    "start_time": "2024-04-01T19:59:42.983Z"
   },
   {
    "duration": 2853,
    "start_time": "2024-04-01T19:59:42.990Z"
   },
   {
    "duration": 5,
    "start_time": "2024-04-01T19:59:45.845Z"
   },
   {
    "duration": 21,
    "start_time": "2024-04-01T19:59:45.851Z"
   },
   {
    "duration": 10,
    "start_time": "2024-04-01T19:59:45.874Z"
   },
   {
    "duration": 6,
    "start_time": "2024-04-01T19:59:45.885Z"
   },
   {
    "duration": 250613,
    "start_time": "2024-04-01T19:59:45.893Z"
   },
   {
    "duration": 0,
    "start_time": "2024-04-01T20:03:56.508Z"
   },
   {
    "duration": 0,
    "start_time": "2024-04-01T20:03:56.510Z"
   },
   {
    "duration": 0,
    "start_time": "2024-04-01T20:03:56.511Z"
   },
   {
    "duration": 0,
    "start_time": "2024-04-01T20:03:56.513Z"
   },
   {
    "duration": 0,
    "start_time": "2024-04-01T20:03:56.514Z"
   },
   {
    "duration": 0,
    "start_time": "2024-04-01T20:03:56.515Z"
   },
   {
    "duration": 0,
    "start_time": "2024-04-01T20:03:56.516Z"
   },
   {
    "duration": 0,
    "start_time": "2024-04-01T20:03:56.517Z"
   },
   {
    "duration": 0,
    "start_time": "2024-04-01T20:03:56.518Z"
   },
   {
    "duration": 0,
    "start_time": "2024-04-01T20:03:56.519Z"
   },
   {
    "duration": 0,
    "start_time": "2024-04-01T20:03:56.520Z"
   },
   {
    "duration": 0,
    "start_time": "2024-04-01T20:03:56.521Z"
   },
   {
    "duration": 0,
    "start_time": "2024-04-01T20:03:56.522Z"
   },
   {
    "duration": 0,
    "start_time": "2024-04-01T20:03:56.523Z"
   },
   {
    "duration": 0,
    "start_time": "2024-04-01T20:03:56.524Z"
   },
   {
    "duration": 0,
    "start_time": "2024-04-01T20:03:56.525Z"
   },
   {
    "duration": 0,
    "start_time": "2024-04-01T20:03:56.526Z"
   },
   {
    "duration": 0,
    "start_time": "2024-04-01T20:03:56.528Z"
   },
   {
    "duration": 0,
    "start_time": "2024-04-01T20:03:56.565Z"
   },
   {
    "duration": 0,
    "start_time": "2024-04-01T20:03:56.566Z"
   },
   {
    "duration": 0,
    "start_time": "2024-04-01T20:03:56.567Z"
   },
   {
    "duration": 0,
    "start_time": "2024-04-01T20:03:56.568Z"
   },
   {
    "duration": 0,
    "start_time": "2024-04-01T20:03:56.569Z"
   },
   {
    "duration": 0,
    "start_time": "2024-04-01T20:03:56.571Z"
   },
   {
    "duration": 0,
    "start_time": "2024-04-01T20:03:56.572Z"
   },
   {
    "duration": 0,
    "start_time": "2024-04-01T20:03:56.573Z"
   },
   {
    "duration": 0,
    "start_time": "2024-04-01T20:03:56.574Z"
   },
   {
    "duration": 0,
    "start_time": "2024-04-01T20:03:56.575Z"
   },
   {
    "duration": 0,
    "start_time": "2024-04-01T20:03:56.576Z"
   },
   {
    "duration": 0,
    "start_time": "2024-04-01T20:03:56.577Z"
   },
   {
    "duration": 0,
    "start_time": "2024-04-01T20:03:56.577Z"
   },
   {
    "duration": 0,
    "start_time": "2024-04-01T20:03:56.578Z"
   },
   {
    "duration": 0,
    "start_time": "2024-04-01T20:03:56.579Z"
   },
   {
    "duration": 0,
    "start_time": "2024-04-01T20:03:56.581Z"
   },
   {
    "duration": 0,
    "start_time": "2024-04-01T20:03:56.582Z"
   },
   {
    "duration": 0,
    "start_time": "2024-04-01T20:03:56.583Z"
   },
   {
    "duration": 0,
    "start_time": "2024-04-01T20:03:56.584Z"
   },
   {
    "duration": 0,
    "start_time": "2024-04-01T20:03:56.585Z"
   },
   {
    "duration": 0,
    "start_time": "2024-04-01T20:03:56.586Z"
   },
   {
    "duration": 0,
    "start_time": "2024-04-01T20:03:56.586Z"
   },
   {
    "duration": 0,
    "start_time": "2024-04-01T20:03:56.587Z"
   },
   {
    "duration": 0,
    "start_time": "2024-04-01T20:03:56.588Z"
   },
   {
    "duration": 0,
    "start_time": "2024-04-01T20:03:56.589Z"
   },
   {
    "duration": 0,
    "start_time": "2024-04-01T20:03:56.590Z"
   },
   {
    "duration": 0,
    "start_time": "2024-04-01T20:03:56.592Z"
   },
   {
    "duration": 0,
    "start_time": "2024-04-01T20:03:56.593Z"
   },
   {
    "duration": 0,
    "start_time": "2024-04-01T20:03:56.594Z"
   },
   {
    "duration": 0,
    "start_time": "2024-04-01T20:03:56.595Z"
   },
   {
    "duration": 0,
    "start_time": "2024-04-01T20:03:56.596Z"
   },
   {
    "duration": 0,
    "start_time": "2024-04-01T20:03:56.597Z"
   },
   {
    "duration": 0,
    "start_time": "2024-04-01T20:03:56.598Z"
   },
   {
    "duration": 0,
    "start_time": "2024-04-01T20:03:56.599Z"
   },
   {
    "duration": 0,
    "start_time": "2024-04-01T20:03:56.600Z"
   },
   {
    "duration": 0,
    "start_time": "2024-04-01T20:03:56.665Z"
   },
   {
    "duration": 0,
    "start_time": "2024-04-01T20:03:56.666Z"
   },
   {
    "duration": 0,
    "start_time": "2024-04-01T20:03:56.667Z"
   },
   {
    "duration": 0,
    "start_time": "2024-04-01T20:03:56.668Z"
   },
   {
    "duration": 0,
    "start_time": "2024-04-01T20:03:56.669Z"
   },
   {
    "duration": 9344,
    "start_time": "2024-04-01T20:34:41.787Z"
   },
   {
    "duration": 1302,
    "start_time": "2024-04-01T20:34:51.133Z"
   },
   {
    "duration": 169,
    "start_time": "2024-04-01T20:34:52.436Z"
   },
   {
    "duration": 11,
    "start_time": "2024-04-01T20:34:52.607Z"
   },
   {
    "duration": 13,
    "start_time": "2024-04-01T20:34:52.620Z"
   },
   {
    "duration": 9,
    "start_time": "2024-04-01T20:34:52.634Z"
   },
   {
    "duration": 16,
    "start_time": "2024-04-01T20:34:52.644Z"
   },
   {
    "duration": 7,
    "start_time": "2024-04-01T20:34:52.661Z"
   },
   {
    "duration": 16,
    "start_time": "2024-04-01T20:34:52.669Z"
   },
   {
    "duration": 10,
    "start_time": "2024-04-01T20:34:52.687Z"
   },
   {
    "duration": 21,
    "start_time": "2024-04-01T20:34:52.698Z"
   },
   {
    "duration": 9,
    "start_time": "2024-04-01T20:34:52.721Z"
   },
   {
    "duration": 6,
    "start_time": "2024-04-01T20:34:52.731Z"
   },
   {
    "duration": 5,
    "start_time": "2024-04-01T20:34:52.738Z"
   },
   {
    "duration": 8,
    "start_time": "2024-04-01T20:34:52.744Z"
   },
   {
    "duration": 7,
    "start_time": "2024-04-01T20:34:52.753Z"
   },
   {
    "duration": 10,
    "start_time": "2024-04-01T20:34:52.761Z"
   },
   {
    "duration": 35,
    "start_time": "2024-04-01T20:34:52.772Z"
   },
   {
    "duration": 3,
    "start_time": "2024-04-01T20:34:52.808Z"
   },
   {
    "duration": 7,
    "start_time": "2024-04-01T20:34:52.812Z"
   },
   {
    "duration": 17,
    "start_time": "2024-04-01T20:34:52.820Z"
   },
   {
    "duration": 7,
    "start_time": "2024-04-01T20:34:52.838Z"
   },
   {
    "duration": 12,
    "start_time": "2024-04-01T20:34:52.846Z"
   },
   {
    "duration": 3,
    "start_time": "2024-04-01T20:34:52.859Z"
   },
   {
    "duration": 14,
    "start_time": "2024-04-01T20:34:52.863Z"
   },
   {
    "duration": 4,
    "start_time": "2024-04-01T20:34:52.878Z"
   },
   {
    "duration": 38,
    "start_time": "2024-04-01T20:34:52.883Z"
   },
   {
    "duration": 30,
    "start_time": "2024-04-01T20:34:52.925Z"
   },
   {
    "duration": 28,
    "start_time": "2024-04-01T20:34:52.957Z"
   },
   {
    "duration": 423,
    "start_time": "2024-04-01T20:34:52.986Z"
   },
   {
    "duration": 332,
    "start_time": "2024-04-01T20:34:53.411Z"
   },
   {
    "duration": 242,
    "start_time": "2024-04-01T20:34:53.745Z"
   },
   {
    "duration": 369,
    "start_time": "2024-04-01T20:34:53.988Z"
   },
   {
    "duration": 268,
    "start_time": "2024-04-01T20:34:54.358Z"
   },
   {
    "duration": 260,
    "start_time": "2024-04-01T20:34:54.627Z"
   },
   {
    "duration": 3,
    "start_time": "2024-04-01T20:34:54.888Z"
   },
   {
    "duration": 14,
    "start_time": "2024-04-01T20:34:54.892Z"
   },
   {
    "duration": 14,
    "start_time": "2024-04-01T20:34:54.907Z"
   },
   {
    "duration": 9,
    "start_time": "2024-04-01T20:34:54.923Z"
   },
   {
    "duration": 16,
    "start_time": "2024-04-01T20:34:54.934Z"
   },
   {
    "duration": 10,
    "start_time": "2024-04-01T20:34:54.952Z"
   },
   {
    "duration": 14,
    "start_time": "2024-04-01T20:34:54.963Z"
   },
   {
    "duration": 3,
    "start_time": "2024-04-01T20:34:54.979Z"
   },
   {
    "duration": 126,
    "start_time": "2024-04-01T20:34:54.983Z"
   },
   {
    "duration": 93,
    "start_time": "2024-04-01T20:34:55.110Z"
   },
   {
    "duration": 9,
    "start_time": "2024-04-01T20:34:55.204Z"
   },
   {
    "duration": 2606,
    "start_time": "2024-04-01T20:34:55.215Z"
   },
   {
    "duration": 5,
    "start_time": "2024-04-01T20:34:57.822Z"
   },
   {
    "duration": 11,
    "start_time": "2024-04-01T20:34:57.828Z"
   },
   {
    "duration": 7,
    "start_time": "2024-04-01T20:34:57.840Z"
   },
   {
    "duration": 4,
    "start_time": "2024-04-01T20:34:57.849Z"
   },
   {
    "duration": 295180,
    "start_time": "2024-04-01T20:34:57.854Z"
   },
   {
    "duration": 655,
    "start_time": "2024-04-01T20:39:53.035Z"
   },
   {
    "duration": 5,
    "start_time": "2024-04-01T20:39:53.692Z"
   },
   {
    "duration": 217,
    "start_time": "2024-04-01T20:39:53.698Z"
   },
   {
    "duration": 17,
    "start_time": "2024-04-01T20:39:53.916Z"
   },
   {
    "duration": 22,
    "start_time": "2024-04-01T20:39:53.934Z"
   },
   {
    "duration": 9,
    "start_time": "2024-04-01T20:39:53.958Z"
   },
   {
    "duration": 10,
    "start_time": "2024-04-01T20:39:53.968Z"
   },
   {
    "duration": 23,
    "start_time": "2024-04-01T20:39:53.979Z"
   },
   {
    "duration": 17,
    "start_time": "2024-04-01T20:39:54.003Z"
   },
   {
    "duration": 13,
    "start_time": "2024-04-01T20:39:54.021Z"
   },
   {
    "duration": 12,
    "start_time": "2024-04-01T20:39:54.036Z"
   },
   {
    "duration": 61,
    "start_time": "2024-04-01T20:39:54.049Z"
   },
   {
    "duration": 3,
    "start_time": "2024-04-01T20:39:54.111Z"
   },
   {
    "duration": 20,
    "start_time": "2024-04-01T20:39:54.116Z"
   },
   {
    "duration": 4,
    "start_time": "2024-04-01T20:39:54.137Z"
   },
   {
    "duration": 11,
    "start_time": "2024-04-01T20:39:54.142Z"
   },
   {
    "duration": 17,
    "start_time": "2024-04-01T20:39:54.154Z"
   },
   {
    "duration": 21,
    "start_time": "2024-04-01T20:39:54.172Z"
   },
   {
    "duration": 81,
    "start_time": "2024-04-01T20:39:54.194Z"
   },
   {
    "duration": 3,
    "start_time": "2024-04-01T20:39:54.276Z"
   },
   {
    "duration": 20,
    "start_time": "2024-04-01T20:39:54.280Z"
   },
   {
    "duration": 16,
    "start_time": "2024-04-01T20:39:54.301Z"
   },
   {
    "duration": 33,
    "start_time": "2024-04-01T20:39:54.318Z"
   },
   {
    "duration": 23,
    "start_time": "2024-04-01T20:39:54.353Z"
   },
   {
    "duration": 16,
    "start_time": "2024-04-01T20:39:54.377Z"
   },
   {
    "duration": 24,
    "start_time": "2024-04-01T20:39:54.394Z"
   },
   {
    "duration": 32,
    "start_time": "2024-04-01T20:39:54.420Z"
   },
   {
    "duration": 4,
    "start_time": "2024-04-01T20:39:54.453Z"
   },
   {
    "duration": 12,
    "start_time": "2024-04-01T20:39:54.458Z"
   },
   {
    "duration": 14,
    "start_time": "2024-04-01T20:39:54.476Z"
   },
   {
    "duration": 32,
    "start_time": "2024-04-01T20:39:54.493Z"
   },
   {
    "duration": 467,
    "start_time": "2024-04-01T20:39:54.527Z"
   },
   {
    "duration": 296,
    "start_time": "2024-04-01T20:39:54.996Z"
   },
   {
    "duration": 332,
    "start_time": "2024-04-01T20:39:55.294Z"
   },
   {
    "duration": 360,
    "start_time": "2024-04-01T20:39:55.627Z"
   },
   {
    "duration": 317,
    "start_time": "2024-04-01T20:39:55.988Z"
   },
   {
    "duration": 321,
    "start_time": "2024-04-01T20:39:56.306Z"
   },
   {
    "duration": 4,
    "start_time": "2024-04-01T20:39:56.629Z"
   },
   {
    "duration": 9,
    "start_time": "2024-04-01T20:39:56.634Z"
   },
   {
    "duration": 107,
    "start_time": "2024-04-01T20:39:56.644Z"
   },
   {
    "duration": 0,
    "start_time": "2024-04-01T20:39:56.752Z"
   },
   {
    "duration": 0,
    "start_time": "2024-04-01T20:39:56.754Z"
   },
   {
    "duration": 0,
    "start_time": "2024-04-01T20:39:56.755Z"
   },
   {
    "duration": 0,
    "start_time": "2024-04-01T20:39:56.756Z"
   },
   {
    "duration": 0,
    "start_time": "2024-04-01T20:39:56.757Z"
   },
   {
    "duration": 0,
    "start_time": "2024-04-01T20:39:56.758Z"
   },
   {
    "duration": 0,
    "start_time": "2024-04-01T20:39:56.759Z"
   },
   {
    "duration": 0,
    "start_time": "2024-04-01T20:39:56.760Z"
   },
   {
    "duration": 0,
    "start_time": "2024-04-01T20:39:56.761Z"
   },
   {
    "duration": 0,
    "start_time": "2024-04-01T20:39:56.763Z"
   },
   {
    "duration": 0,
    "start_time": "2024-04-01T20:39:56.764Z"
   },
   {
    "duration": 0,
    "start_time": "2024-04-01T20:39:56.765Z"
   },
   {
    "duration": 0,
    "start_time": "2024-04-01T20:39:56.766Z"
   },
   {
    "duration": 1,
    "start_time": "2024-04-01T20:39:56.767Z"
   },
   {
    "duration": 0,
    "start_time": "2024-04-01T20:39:56.768Z"
   },
   {
    "duration": 0,
    "start_time": "2024-04-01T20:39:56.770Z"
   },
   {
    "duration": 0,
    "start_time": "2024-04-01T20:39:56.802Z"
   },
   {
    "duration": 0,
    "start_time": "2024-04-01T20:39:56.803Z"
   },
   {
    "duration": 1969,
    "start_time": "2024-04-01T20:47:23.610Z"
   },
   {
    "duration": 134,
    "start_time": "2024-04-01T20:47:29.426Z"
   },
   {
    "duration": 2,
    "start_time": "2024-04-01T20:47:32.863Z"
   },
   {
    "duration": 3,
    "start_time": "2024-04-01T20:47:33.234Z"
   },
   {
    "duration": 9,
    "start_time": "2024-04-01T20:47:33.422Z"
   },
   {
    "duration": 7,
    "start_time": "2024-04-01T20:47:33.896Z"
   },
   {
    "duration": 3,
    "start_time": "2024-04-01T20:47:36.718Z"
   },
   {
    "duration": 479,
    "start_time": "2024-04-01T20:47:37.123Z"
   },
   {
    "duration": 6,
    "start_time": "2024-04-01T20:47:43.455Z"
   },
   {
    "duration": 50832,
    "start_time": "2024-04-01T20:47:45.735Z"
   },
   {
    "duration": 81575,
    "start_time": "2024-04-01T20:48:36.568Z"
   },
   {
    "duration": 898,
    "start_time": "2024-04-01T20:50:22.986Z"
   },
   {
    "duration": 12,
    "start_time": "2024-04-01T20:50:24.343Z"
   },
   {
    "duration": 8039,
    "start_time": "2024-04-01T20:50:25.078Z"
   },
   {
    "duration": 0,
    "start_time": "2024-04-01T20:50:33.118Z"
   },
   {
    "duration": 0,
    "start_time": "2024-04-01T20:50:33.119Z"
   },
   {
    "duration": 0,
    "start_time": "2024-04-01T20:50:33.120Z"
   },
   {
    "duration": 11,
    "start_time": "2024-04-01T20:50:36.261Z"
   },
   {
    "duration": 6,
    "start_time": "2024-04-01T20:50:36.805Z"
   },
   {
    "duration": 343996,
    "start_time": "2024-04-01T20:51:16.173Z"
   },
   {
    "duration": 6,
    "start_time": "2024-04-01T20:58:07.282Z"
   },
   {
    "duration": 6,
    "start_time": "2024-04-01T20:58:07.783Z"
   },
   {
    "duration": 6,
    "start_time": "2024-04-01T20:58:15.217Z"
   },
   {
    "duration": 5,
    "start_time": "2024-04-01T20:59:07.821Z"
   },
   {
    "duration": 118051,
    "start_time": "2024-04-01T20:59:36.905Z"
   },
   {
    "duration": 7,
    "start_time": "2024-04-01T21:02:24.620Z"
   },
   {
    "duration": 6,
    "start_time": "2024-04-01T21:02:25.093Z"
   },
   {
    "duration": 5,
    "start_time": "2024-04-01T21:02:33.901Z"
   },
   {
    "duration": 123399,
    "start_time": "2024-04-01T21:03:12.965Z"
   },
   {
    "duration": 7,
    "start_time": "2024-04-01T21:05:16.366Z"
   },
   {
    "duration": 24,
    "start_time": "2024-04-01T21:05:16.374Z"
   },
   {
    "duration": 17,
    "start_time": "2024-04-01T21:06:21.116Z"
   },
   {
    "duration": 186372,
    "start_time": "2024-04-01T21:06:59.865Z"
   },
   {
    "duration": 5,
    "start_time": "2024-04-01T21:10:35.174Z"
   },
   {
    "duration": 2,
    "start_time": "2024-04-01T21:13:00.661Z"
   },
   {
    "duration": 9,
    "start_time": "2024-04-01T21:13:17.504Z"
   },
   {
    "duration": 2,
    "start_time": "2024-04-01T21:13:26.482Z"
   },
   {
    "duration": 9397,
    "start_time": "2024-04-01T21:13:26.922Z"
   },
   {
    "duration": 7,
    "start_time": "2024-04-01T21:13:54.258Z"
   },
   {
    "duration": 5,
    "start_time": "2024-04-01T21:13:58.141Z"
   },
   {
    "duration": 7,
    "start_time": "2024-04-01T21:14:21.713Z"
   },
   {
    "duration": 5,
    "start_time": "2024-04-01T21:14:22.478Z"
   },
   {
    "duration": 11,
    "start_time": "2024-04-01T21:15:52.065Z"
   },
   {
    "duration": 11,
    "start_time": "2024-04-01T21:16:08.607Z"
   },
   {
    "duration": 2,
    "start_time": "2024-04-01T21:16:19.614Z"
   },
   {
    "duration": 1102,
    "start_time": "2024-04-01T21:16:20.139Z"
   },
   {
    "duration": 4,
    "start_time": "2024-04-01T21:16:24.015Z"
   },
   {
    "duration": 5,
    "start_time": "2024-04-01T21:16:28.841Z"
   },
   {
    "duration": 6,
    "start_time": "2024-04-01T21:16:29.328Z"
   },
   {
    "duration": 4,
    "start_time": "2024-04-01T21:18:25.768Z"
   },
   {
    "duration": 1945,
    "start_time": "2024-04-01T21:19:39.439Z"
   },
   {
    "duration": 4,
    "start_time": "2024-04-01T21:19:41.386Z"
   },
   {
    "duration": 8,
    "start_time": "2024-04-01T21:19:47.796Z"
   },
   {
    "duration": 6,
    "start_time": "2024-04-01T21:19:48.201Z"
   },
   {
    "duration": 1054,
    "start_time": "2024-04-01T21:20:06.390Z"
   },
   {
    "duration": 5,
    "start_time": "2024-04-01T21:22:08.814Z"
   },
   {
    "duration": 5,
    "start_time": "2024-04-01T21:22:15.369Z"
   },
   {
    "duration": 8,
    "start_time": "2024-04-01T21:23:30.028Z"
   },
   {
    "duration": 3316,
    "start_time": "2024-04-01T21:23:42.076Z"
   },
   {
    "duration": 690,
    "start_time": "2024-04-01T21:23:48.114Z"
   },
   {
    "duration": 303,
    "start_time": "2024-04-01T21:24:00.620Z"
   },
   {
    "duration": 24,
    "start_time": "2024-04-01T21:24:04.253Z"
   },
   {
    "duration": 7,
    "start_time": "2024-04-01T21:24:21.420Z"
   },
   {
    "duration": 1543,
    "start_time": "2024-04-01T21:24:43.121Z"
   },
   {
    "duration": 3,
    "start_time": "2024-04-01T21:24:54.333Z"
   },
   {
    "duration": 979,
    "start_time": "2024-04-01T21:25:03.851Z"
   },
   {
    "duration": 5,
    "start_time": "2024-04-01T21:25:16.617Z"
   },
   {
    "duration": 7,
    "start_time": "2024-04-01T21:25:17.097Z"
   },
   {
    "duration": 4,
    "start_time": "2024-04-01T21:25:47.877Z"
   },
   {
    "duration": 5,
    "start_time": "2024-04-01T21:26:02.770Z"
   },
   {
    "duration": 7,
    "start_time": "2024-04-01T21:26:50.757Z"
   },
   {
    "duration": 7,
    "start_time": "2024-04-01T21:26:54.789Z"
   },
   {
    "duration": 6,
    "start_time": "2024-04-01T21:26:58.791Z"
   },
   {
    "duration": 6,
    "start_time": "2024-04-01T21:28:49.379Z"
   },
   {
    "duration": 1540,
    "start_time": "2024-04-01T21:29:15.986Z"
   },
   {
    "duration": 8,
    "start_time": "2024-04-01T21:29:20.090Z"
   },
   {
    "duration": 6,
    "start_time": "2024-04-01T21:29:20.492Z"
   },
   {
    "duration": 5,
    "start_time": "2024-04-01T21:29:28.365Z"
   },
   {
    "duration": 106,
    "start_time": "2024-04-01T21:29:57.440Z"
   },
   {
    "duration": 15,
    "start_time": "2024-04-01T21:30:00.808Z"
   },
   {
    "duration": 84,
    "start_time": "2024-04-01T21:30:56.528Z"
   },
   {
    "duration": 4,
    "start_time": "2024-04-01T21:31:09.016Z"
   },
   {
    "duration": 13,
    "start_time": "2024-04-01T21:31:21.086Z"
   },
   {
    "duration": 21,
    "start_time": "2024-04-01T21:33:06.346Z"
   },
   {
    "duration": 10454,
    "start_time": "2024-04-01T21:33:14.731Z"
   },
   {
    "duration": 491,
    "start_time": "2024-04-01T21:33:58.416Z"
   },
   {
    "duration": 3,
    "start_time": "2024-04-01T21:34:01.521Z"
   },
   {
    "duration": 372,
    "start_time": "2024-04-01T21:34:02.237Z"
   },
   {
    "duration": 6,
    "start_time": "2024-04-01T21:34:05.451Z"
   },
   {
    "duration": 1527,
    "start_time": "2024-04-01T21:34:11.650Z"
   },
   {
    "duration": 3,
    "start_time": "2024-04-01T21:34:13.178Z"
   },
   {
    "duration": 477,
    "start_time": "2024-04-01T21:34:25.774Z"
   },
   {
    "duration": 2,
    "start_time": "2024-04-01T21:34:26.396Z"
   },
   {
    "duration": 434,
    "start_time": "2024-04-01T21:34:26.772Z"
   },
   {
    "duration": 5,
    "start_time": "2024-04-01T21:34:29.296Z"
   },
   {
    "duration": 1583,
    "start_time": "2024-04-01T21:34:32.400Z"
   },
   {
    "duration": 3,
    "start_time": "2024-04-01T21:34:33.984Z"
   },
   {
    "duration": 7,
    "start_time": "2024-04-01T21:35:57.332Z"
   },
   {
    "duration": 5,
    "start_time": "2024-04-01T21:36:09.564Z"
   },
   {
    "duration": 3,
    "start_time": "2024-04-01T21:36:13.481Z"
   },
   {
    "duration": 452,
    "start_time": "2024-04-01T21:36:13.855Z"
   },
   {
    "duration": 6,
    "start_time": "2024-04-01T21:36:16.939Z"
   },
   {
    "duration": 2343,
    "start_time": "2024-04-01T21:36:22.981Z"
   },
   {
    "duration": 3,
    "start_time": "2024-04-01T21:36:25.325Z"
   },
   {
    "duration": 1321,
    "start_time": "2024-04-01T21:36:30.516Z"
   },
   {
    "duration": 5,
    "start_time": "2024-04-01T21:36:35.105Z"
   },
   {
    "duration": 5,
    "start_time": "2024-04-01T21:36:40.784Z"
   },
   {
    "duration": 5,
    "start_time": "2024-04-01T21:36:41.269Z"
   },
   {
    "duration": 4,
    "start_time": "2024-04-01T21:37:38.466Z"
   },
   {
    "duration": 11853,
    "start_time": "2024-04-28T12:34:55.212Z"
   },
   {
    "duration": 1800,
    "start_time": "2024-04-28T12:35:07.067Z"
   },
   {
    "duration": 253,
    "start_time": "2024-04-28T12:35:08.869Z"
   },
   {
    "duration": 17,
    "start_time": "2024-04-28T12:35:12.130Z"
   },
   {
    "duration": 23,
    "start_time": "2024-04-28T12:35:14.988Z"
   },
   {
    "duration": 16,
    "start_time": "2024-04-28T12:35:15.592Z"
   },
   {
    "duration": 17,
    "start_time": "2024-04-28T12:35:20.572Z"
   },
   {
    "duration": 9,
    "start_time": "2024-04-28T12:35:23.699Z"
   },
   {
    "duration": 5,
    "start_time": "2024-04-28T12:35:24.343Z"
   },
   {
    "duration": 6,
    "start_time": "2024-04-28T12:35:24.853Z"
   },
   {
    "duration": 11,
    "start_time": "2024-04-28T12:35:29.449Z"
   },
   {
    "duration": 3,
    "start_time": "2024-04-28T12:35:43.425Z"
   },
   {
    "duration": 2,
    "start_time": "2024-04-28T12:35:46.968Z"
   },
   {
    "duration": 2,
    "start_time": "2024-04-28T12:35:48.256Z"
   },
   {
    "duration": 3,
    "start_time": "2024-04-28T12:35:49.535Z"
   },
   {
    "duration": 3,
    "start_time": "2024-04-28T12:35:50.830Z"
   },
   {
    "duration": 3,
    "start_time": "2024-04-28T12:35:56.471Z"
   },
   {
    "duration": 38,
    "start_time": "2024-04-28T12:35:57.594Z"
   },
   {
    "duration": 5,
    "start_time": "2024-04-28T12:35:58.405Z"
   },
   {
    "duration": 7,
    "start_time": "2024-04-28T12:35:59.078Z"
   },
   {
    "duration": 26,
    "start_time": "2024-04-28T12:35:59.792Z"
   },
   {
    "duration": 12,
    "start_time": "2024-04-28T12:36:04.622Z"
   },
   {
    "duration": 24,
    "start_time": "2024-04-28T12:36:05.269Z"
   },
   {
    "duration": 5,
    "start_time": "2024-04-28T12:36:09.850Z"
   },
   {
    "duration": 17,
    "start_time": "2024-04-28T12:36:16.311Z"
   },
   {
    "duration": 3,
    "start_time": "2024-04-28T12:36:17.036Z"
   },
   {
    "duration": 17,
    "start_time": "2024-04-28T12:36:17.823Z"
   },
   {
    "duration": 62,
    "start_time": "2024-04-28T12:36:22.544Z"
   },
   {
    "duration": 50,
    "start_time": "2024-04-28T12:36:23.456Z"
   },
   {
    "duration": 647,
    "start_time": "2024-04-28T12:36:54.472Z"
   },
   {
    "duration": 493,
    "start_time": "2024-04-28T12:37:41.060Z"
   },
   {
    "duration": 363,
    "start_time": "2024-04-28T12:37:59.070Z"
   },
   {
    "duration": 558,
    "start_time": "2024-04-28T12:38:09.489Z"
   },
   {
    "duration": 393,
    "start_time": "2024-04-28T12:38:16.750Z"
   },
   {
    "duration": 406,
    "start_time": "2024-04-28T12:38:17.882Z"
   },
   {
    "duration": 609,
    "start_time": "2024-04-28T12:38:55.353Z"
   },
   {
    "duration": 385,
    "start_time": "2024-04-28T12:39:57.241Z"
   },
   {
    "duration": 18,
    "start_time": "2024-04-28T12:40:00.743Z"
   },
   {
    "duration": 105,
    "start_time": "2024-04-28T12:40:03.833Z"
   },
   {
    "duration": 93,
    "start_time": "2024-04-28T12:40:14.400Z"
   },
   {
    "duration": 9,
    "start_time": "2024-04-28T12:41:19.114Z"
   },
   {
    "duration": 28,
    "start_time": "2024-04-28T12:41:24.359Z"
   },
   {
    "duration": 5,
    "start_time": "2024-04-28T12:42:40.981Z"
   },
   {
    "duration": 4,
    "start_time": "2024-04-28T12:42:46.697Z"
   },
   {
    "duration": 9,
    "start_time": "2024-04-28T12:42:50.546Z"
   },
   {
    "duration": 14,
    "start_time": "2024-04-28T12:42:57.105Z"
   },
   {
    "duration": 17,
    "start_time": "2024-04-28T12:42:58.360Z"
   },
   {
    "duration": 10,
    "start_time": "2024-04-28T12:43:00.838Z"
   },
   {
    "duration": 16,
    "start_time": "2024-04-28T12:43:01.431Z"
   },
   {
    "duration": 3,
    "start_time": "2024-04-28T12:43:05.638Z"
   },
   {
    "duration": 181,
    "start_time": "2024-04-28T12:43:08.219Z"
   },
   {
    "duration": 6,
    "start_time": "2024-04-28T12:43:09.127Z"
   },
   {
    "duration": 3,
    "start_time": "2024-04-28T12:43:17.422Z"
   },
   {
    "duration": 3696,
    "start_time": "2024-04-28T12:43:21.246Z"
   },
   {
    "duration": 5,
    "start_time": "2024-04-28T12:43:25.774Z"
   },
   {
    "duration": 5,
    "start_time": "2024-04-28T12:43:58.843Z"
   },
   {
    "duration": 5,
    "start_time": "2024-04-28T12:44:10.563Z"
   },
   {
    "duration": 3,
    "start_time": "2024-04-28T12:44:12.437Z"
   },
   {
    "duration": 4,
    "start_time": "2024-04-28T12:44:13.843Z"
   },
   {
    "duration": 414660,
    "start_time": "2024-04-28T12:44:18.355Z"
   },
   {
    "duration": 886,
    "start_time": "2024-04-28T12:52:05.642Z"
   },
   {
    "duration": 6,
    "start_time": "2024-04-28T12:52:07.618Z"
   },
   {
    "duration": 223,
    "start_time": "2024-04-28T12:52:21.707Z"
   },
   {
    "duration": 20,
    "start_time": "2024-04-28T12:52:22.810Z"
   },
   {
    "duration": 29,
    "start_time": "2024-04-28T12:52:25.808Z"
   },
   {
    "duration": 12,
    "start_time": "2024-04-28T12:52:55.830Z"
   },
   {
    "duration": 11,
    "start_time": "2024-04-28T12:52:58.896Z"
   },
   {
    "duration": 5,
    "start_time": "2024-04-28T12:53:07.787Z"
   },
   {
    "duration": 18,
    "start_time": "2024-04-28T12:53:08.398Z"
   },
   {
    "duration": 28,
    "start_time": "2024-04-28T12:53:44.375Z"
   },
   {
    "duration": 7,
    "start_time": "2024-04-28T12:53:59.540Z"
   },
   {
    "duration": 55,
    "start_time": "2024-04-28T12:54:00.257Z"
   },
   {
    "duration": 3,
    "start_time": "2024-04-28T12:54:01.033Z"
   },
   {
    "duration": 13,
    "start_time": "2024-04-28T12:54:02.601Z"
   },
   {
    "duration": 3,
    "start_time": "2024-04-28T12:54:07.449Z"
   },
   {
    "duration": 12,
    "start_time": "2024-04-28T12:54:07.874Z"
   },
   {
    "duration": 34,
    "start_time": "2024-04-28T12:54:08.579Z"
   },
   {
    "duration": 9,
    "start_time": "2024-04-28T12:54:18.801Z"
   },
   {
    "duration": 83,
    "start_time": "2024-04-28T12:54:19.815Z"
   },
   {
    "duration": 3,
    "start_time": "2024-04-28T12:54:20.310Z"
   },
   {
    "duration": 16,
    "start_time": "2024-04-28T12:54:20.987Z"
   },
   {
    "duration": 4,
    "start_time": "2024-04-28T12:54:40.872Z"
   },
   {
    "duration": 3,
    "start_time": "2024-04-28T12:54:41.342Z"
   },
   {
    "duration": 3,
    "start_time": "2024-04-28T12:54:41.778Z"
   },
   {
    "duration": 4,
    "start_time": "2024-04-28T12:54:42.303Z"
   },
   {
    "duration": 3,
    "start_time": "2024-04-28T12:54:42.916Z"
   },
   {
    "duration": 41,
    "start_time": "2024-04-28T12:54:43.812Z"
   },
   {
    "duration": 3,
    "start_time": "2024-04-28T12:54:44.569Z"
   },
   {
    "duration": 4,
    "start_time": "2024-04-28T12:54:45.193Z"
   },
   {
    "duration": 19,
    "start_time": "2024-04-28T12:54:45.909Z"
   },
   {
    "duration": 51,
    "start_time": "2024-04-28T12:54:47.113Z"
   },
   {
    "duration": 601,
    "start_time": "2024-04-28T12:54:50.987Z"
   },
   {
    "duration": 432,
    "start_time": "2024-04-28T12:54:52.165Z"
   },
   {
    "duration": 602,
    "start_time": "2024-04-28T12:54:53.457Z"
   },
   {
    "duration": 521,
    "start_time": "2024-04-28T12:54:58.703Z"
   },
   {
    "duration": 445,
    "start_time": "2024-04-28T12:55:00.074Z"
   },
   {
    "duration": 485,
    "start_time": "2024-04-28T12:55:08.692Z"
   },
   {
    "duration": 2,
    "start_time": "2024-04-28T12:55:23.359Z"
   },
   {
    "duration": 12,
    "start_time": "2024-04-28T12:55:23.899Z"
   },
   {
    "duration": 3002,
    "start_time": "2024-04-28T12:55:24.724Z"
   },
   {
    "duration": 215,
    "start_time": "2024-04-28T12:55:33.456Z"
   },
   {
    "duration": 33,
    "start_time": "2024-04-28T12:56:01.874Z"
   },
   {
    "duration": 3,
    "start_time": "2024-04-28T12:57:49.698Z"
   },
   {
    "duration": 4,
    "start_time": "2024-04-28T12:57:50.471Z"
   },
   {
    "duration": 17,
    "start_time": "2024-04-28T12:57:51.116Z"
   },
   {
    "duration": 12,
    "start_time": "2024-04-28T12:57:51.595Z"
   },
   {
    "duration": 4333,
    "start_time": "2024-04-28T12:57:55.301Z"
   },
   {
    "duration": 1015,
    "start_time": "2024-04-28T12:58:02.481Z"
   },
   {
    "duration": 4,
    "start_time": "2024-04-28T12:58:03.650Z"
   },
   {
    "duration": 2130,
    "start_time": "2024-04-28T12:58:04.355Z"
   },
   {
    "duration": 11,
    "start_time": "2024-04-28T12:58:10.545Z"
   },
   {
    "duration": 13,
    "start_time": "2024-04-28T12:58:11.982Z"
   },
   {
    "duration": 2327,
    "start_time": "2024-04-28T12:58:20.766Z"
   },
   {
    "duration": 4,
    "start_time": "2024-04-28T12:58:27.567Z"
   },
   {
    "duration": 1556,
    "start_time": "2024-04-28T12:58:45.597Z"
   },
   {
    "duration": 1581,
    "start_time": "2024-04-28T13:00:13.149Z"
   },
   {
    "duration": 2339,
    "start_time": "2024-04-28T13:00:24.929Z"
   },
   {
    "duration": 5,
    "start_time": "2024-04-28T13:00:30.066Z"
   },
   {
    "duration": 7,
    "start_time": "2024-04-28T13:00:38.720Z"
   },
   {
    "duration": 109,
    "start_time": "2024-04-28T13:00:49.262Z"
   },
   {
    "duration": 15,
    "start_time": "2024-04-28T13:00:50.006Z"
   },
   {
    "duration": 76383,
    "start_time": "2024-04-28T13:00:56.935Z"
   },
   {
    "duration": 7,
    "start_time": "2024-04-28T13:02:46.570Z"
   },
   {
    "duration": 9,
    "start_time": "2024-04-28T13:02:47.150Z"
   },
   {
    "duration": 7,
    "start_time": "2024-04-28T13:04:03.729Z"
   },
   {
    "duration": 7,
    "start_time": "2024-04-28T13:04:04.445Z"
   },
   {
    "duration": 6546,
    "start_time": "2024-04-28T13:07:51.063Z"
   },
   {
    "duration": 1492,
    "start_time": "2024-04-28T13:07:57.612Z"
   },
   {
    "duration": 148,
    "start_time": "2024-04-28T13:07:59.106Z"
   },
   {
    "duration": 15,
    "start_time": "2024-04-28T13:07:59.256Z"
   },
   {
    "duration": 15,
    "start_time": "2024-04-28T13:07:59.273Z"
   },
   {
    "duration": 17,
    "start_time": "2024-04-28T13:07:59.290Z"
   },
   {
    "duration": 15,
    "start_time": "2024-04-28T13:07:59.309Z"
   },
   {
    "duration": 30,
    "start_time": "2024-04-28T13:07:59.325Z"
   },
   {
    "duration": 9,
    "start_time": "2024-04-28T13:07:59.356Z"
   },
   {
    "duration": 15,
    "start_time": "2024-04-28T13:07:59.368Z"
   },
   {
    "duration": 22,
    "start_time": "2024-04-28T13:07:59.385Z"
   },
   {
    "duration": 13,
    "start_time": "2024-04-28T13:07:59.409Z"
   },
   {
    "duration": 13,
    "start_time": "2024-04-28T13:07:59.424Z"
   },
   {
    "duration": 10,
    "start_time": "2024-04-28T13:07:59.438Z"
   },
   {
    "duration": 6,
    "start_time": "2024-04-28T13:07:59.450Z"
   },
   {
    "duration": 18,
    "start_time": "2024-04-28T13:07:59.458Z"
   },
   {
    "duration": 10,
    "start_time": "2024-04-28T13:07:59.478Z"
   },
   {
    "duration": 40,
    "start_time": "2024-04-28T13:07:59.491Z"
   },
   {
    "duration": 3,
    "start_time": "2024-04-28T13:07:59.533Z"
   },
   {
    "duration": 9,
    "start_time": "2024-04-28T13:07:59.538Z"
   },
   {
    "duration": 19,
    "start_time": "2024-04-28T13:07:59.549Z"
   },
   {
    "duration": 21,
    "start_time": "2024-04-28T13:07:59.570Z"
   },
   {
    "duration": 18,
    "start_time": "2024-04-28T13:07:59.595Z"
   },
   {
    "duration": 4,
    "start_time": "2024-04-28T13:07:59.615Z"
   },
   {
    "duration": 17,
    "start_time": "2024-04-28T13:07:59.621Z"
   },
   {
    "duration": 3,
    "start_time": "2024-04-28T13:07:59.639Z"
   },
   {
    "duration": 55,
    "start_time": "2024-04-28T13:07:59.644Z"
   },
   {
    "duration": 46,
    "start_time": "2024-04-28T13:07:59.707Z"
   },
   {
    "duration": 71,
    "start_time": "2024-04-28T13:07:59.754Z"
   },
   {
    "duration": 619,
    "start_time": "2024-04-28T13:07:59.827Z"
   },
   {
    "duration": 395,
    "start_time": "2024-04-28T13:08:00.448Z"
   },
   {
    "duration": 466,
    "start_time": "2024-04-28T13:08:00.844Z"
   },
   {
    "duration": 575,
    "start_time": "2024-04-28T13:08:01.313Z"
   },
   {
    "duration": 418,
    "start_time": "2024-04-28T13:08:01.890Z"
   },
   {
    "duration": 408,
    "start_time": "2024-04-28T13:08:02.309Z"
   },
   {
    "duration": 391,
    "start_time": "2024-04-28T13:08:02.719Z"
   },
   {
    "duration": 16,
    "start_time": "2024-04-28T13:08:03.112Z"
   },
   {
    "duration": 18,
    "start_time": "2024-04-28T13:08:03.129Z"
   },
   {
    "duration": 8,
    "start_time": "2024-04-28T13:08:03.148Z"
   },
   {
    "duration": 9,
    "start_time": "2024-04-28T13:08:03.158Z"
   },
   {
    "duration": 11,
    "start_time": "2024-04-28T13:08:03.181Z"
   },
   {
    "duration": 13,
    "start_time": "2024-04-28T13:08:03.199Z"
   },
   {
    "duration": 27,
    "start_time": "2024-04-28T13:08:03.214Z"
   },
   {
    "duration": 16,
    "start_time": "2024-04-28T13:08:03.243Z"
   },
   {
    "duration": 33,
    "start_time": "2024-04-28T13:08:03.261Z"
   },
   {
    "duration": 8,
    "start_time": "2024-04-28T13:08:03.297Z"
   },
   {
    "duration": 90,
    "start_time": "2024-04-28T13:08:03.308Z"
   },
   {
    "duration": 82,
    "start_time": "2024-04-28T13:08:03.400Z"
   },
   {
    "duration": 18,
    "start_time": "2024-04-28T13:08:03.484Z"
   },
   {
    "duration": 3644,
    "start_time": "2024-04-28T13:08:03.504Z"
   },
   {
    "duration": 6,
    "start_time": "2024-04-28T13:08:07.149Z"
   },
   {
    "duration": 16,
    "start_time": "2024-04-28T13:08:07.157Z"
   },
   {
    "duration": 16,
    "start_time": "2024-04-28T13:08:07.175Z"
   },
   {
    "duration": 23,
    "start_time": "2024-04-28T13:08:07.193Z"
   },
   {
    "duration": 391217,
    "start_time": "2024-04-28T13:08:07.217Z"
   },
   {
    "duration": 918,
    "start_time": "2024-04-28T13:14:38.436Z"
   },
   {
    "duration": 7,
    "start_time": "2024-04-28T13:14:39.356Z"
   },
   {
    "duration": 141,
    "start_time": "2024-04-28T13:14:39.365Z"
   },
   {
    "duration": 22,
    "start_time": "2024-04-28T13:14:39.509Z"
   },
   {
    "duration": 30,
    "start_time": "2024-04-28T13:14:39.533Z"
   },
   {
    "duration": 27,
    "start_time": "2024-04-28T13:14:39.564Z"
   },
   {
    "duration": 15,
    "start_time": "2024-04-28T13:14:39.593Z"
   },
   {
    "duration": 31,
    "start_time": "2024-04-28T13:14:39.610Z"
   },
   {
    "duration": 22,
    "start_time": "2024-04-28T13:14:39.643Z"
   },
   {
    "duration": 27,
    "start_time": "2024-04-28T13:14:39.666Z"
   },
   {
    "duration": 10,
    "start_time": "2024-04-28T13:14:39.695Z"
   },
   {
    "duration": 57,
    "start_time": "2024-04-28T13:14:39.707Z"
   },
   {
    "duration": 18,
    "start_time": "2024-04-28T13:14:39.766Z"
   },
   {
    "duration": 33,
    "start_time": "2024-04-28T13:14:39.787Z"
   },
   {
    "duration": 21,
    "start_time": "2024-04-28T13:14:39.822Z"
   },
   {
    "duration": 55,
    "start_time": "2024-04-28T13:14:39.844Z"
   },
   {
    "duration": 27,
    "start_time": "2024-04-28T13:14:39.902Z"
   },
   {
    "duration": 7,
    "start_time": "2024-04-28T13:14:39.931Z"
   },
   {
    "duration": 86,
    "start_time": "2024-04-28T13:14:39.940Z"
   },
   {
    "duration": 3,
    "start_time": "2024-04-28T13:14:40.028Z"
   },
   {
    "duration": 29,
    "start_time": "2024-04-28T13:14:40.032Z"
   },
   {
    "duration": 17,
    "start_time": "2024-04-28T13:14:40.063Z"
   },
   {
    "duration": 16,
    "start_time": "2024-04-28T13:14:40.082Z"
   },
   {
    "duration": 21,
    "start_time": "2024-04-28T13:14:40.100Z"
   },
   {
    "duration": 15,
    "start_time": "2024-04-28T13:14:40.123Z"
   },
   {
    "duration": 9,
    "start_time": "2024-04-28T13:14:40.140Z"
   },
   {
    "duration": 39,
    "start_time": "2024-04-28T13:14:40.155Z"
   },
   {
    "duration": 6,
    "start_time": "2024-04-28T13:14:40.196Z"
   },
   {
    "duration": 6,
    "start_time": "2024-04-28T13:14:40.204Z"
   },
   {
    "duration": 21,
    "start_time": "2024-04-28T13:14:40.211Z"
   },
   {
    "duration": 75,
    "start_time": "2024-04-28T13:14:40.234Z"
   },
   {
    "duration": 691,
    "start_time": "2024-04-28T13:14:40.311Z"
   },
   {
    "duration": 398,
    "start_time": "2024-04-28T13:14:41.004Z"
   },
   {
    "duration": 463,
    "start_time": "2024-04-28T13:14:41.405Z"
   },
   {
    "duration": 531,
    "start_time": "2024-04-28T13:14:41.870Z"
   },
   {
    "duration": 526,
    "start_time": "2024-04-28T13:14:42.404Z"
   },
   {
    "duration": 460,
    "start_time": "2024-04-28T13:14:42.931Z"
   },
   {
    "duration": 4,
    "start_time": "2024-04-28T13:14:43.394Z"
   },
   {
    "duration": 11,
    "start_time": "2024-04-28T13:14:43.399Z"
   },
   {
    "duration": 2900,
    "start_time": "2024-04-28T13:14:43.411Z"
   },
   {
    "duration": 222,
    "start_time": "2024-04-28T13:14:46.313Z"
   },
   {
    "duration": 3,
    "start_time": "2024-04-28T13:14:46.537Z"
   },
   {
    "duration": 16,
    "start_time": "2024-04-28T13:14:46.542Z"
   },
   {
    "duration": 17,
    "start_time": "2024-04-28T13:14:46.560Z"
   },
   {
    "duration": 25,
    "start_time": "2024-04-28T13:14:46.578Z"
   },
   {
    "duration": 3238,
    "start_time": "2024-04-28T13:14:46.605Z"
   },
   {
    "duration": 948,
    "start_time": "2024-04-28T13:14:49.846Z"
   },
   {
    "duration": 6,
    "start_time": "2024-04-28T13:14:50.798Z"
   },
   {
    "duration": 1775,
    "start_time": "2024-04-28T13:14:50.806Z"
   },
   {
    "duration": 20,
    "start_time": "2024-04-28T13:14:52.584Z"
   },
   {
    "duration": 2377,
    "start_time": "2024-04-28T13:14:52.681Z"
   },
   {
    "duration": 3,
    "start_time": "2024-04-28T13:14:55.060Z"
   },
   {
    "duration": 1470,
    "start_time": "2024-04-28T13:14:55.065Z"
   },
   {
    "duration": 7,
    "start_time": "2024-04-28T13:14:56.537Z"
   },
   {
    "duration": 148,
    "start_time": "2024-04-28T13:14:56.545Z"
   },
   {
    "duration": 16,
    "start_time": "2024-04-28T13:14:56.695Z"
   },
   {
    "duration": 73661,
    "start_time": "2024-04-28T13:14:56.713Z"
   },
   {
    "duration": 11,
    "start_time": "2024-04-28T13:16:10.375Z"
   },
   {
    "duration": 20,
    "start_time": "2024-04-28T13:16:10.389Z"
   },
   {
    "duration": 6120,
    "start_time": "2024-04-28T13:19:37.171Z"
   },
   {
    "duration": 1467,
    "start_time": "2024-04-28T13:19:43.294Z"
   },
   {
    "duration": 150,
    "start_time": "2024-04-28T13:19:44.763Z"
   },
   {
    "duration": 17,
    "start_time": "2024-04-28T13:19:44.916Z"
   },
   {
    "duration": 14,
    "start_time": "2024-04-28T13:19:44.934Z"
   },
   {
    "duration": 12,
    "start_time": "2024-04-28T13:19:44.950Z"
   },
   {
    "duration": 23,
    "start_time": "2024-04-28T13:19:44.964Z"
   },
   {
    "duration": 12,
    "start_time": "2024-04-28T13:19:44.989Z"
   },
   {
    "duration": 58,
    "start_time": "2024-04-28T13:19:45.002Z"
   },
   {
    "duration": 36,
    "start_time": "2024-04-28T13:19:45.063Z"
   },
   {
    "duration": 22,
    "start_time": "2024-04-28T13:19:45.101Z"
   },
   {
    "duration": 23,
    "start_time": "2024-04-28T13:19:45.124Z"
   },
   {
    "duration": 14,
    "start_time": "2024-04-28T13:19:45.149Z"
   },
   {
    "duration": 15,
    "start_time": "2024-04-28T13:19:45.166Z"
   },
   {
    "duration": 18,
    "start_time": "2024-04-28T13:19:45.183Z"
   },
   {
    "duration": 36,
    "start_time": "2024-04-28T13:19:45.203Z"
   },
   {
    "duration": 37,
    "start_time": "2024-04-28T13:19:45.241Z"
   },
   {
    "duration": 91,
    "start_time": "2024-04-28T13:19:45.281Z"
   },
   {
    "duration": 5,
    "start_time": "2024-04-28T13:19:45.373Z"
   },
   {
    "duration": 10,
    "start_time": "2024-04-28T13:19:45.380Z"
   },
   {
    "duration": 22,
    "start_time": "2024-04-28T13:19:45.392Z"
   },
   {
    "duration": 42,
    "start_time": "2024-04-28T13:19:45.416Z"
   },
   {
    "duration": 19,
    "start_time": "2024-04-28T13:19:45.460Z"
   },
   {
    "duration": 18,
    "start_time": "2024-04-28T13:19:45.480Z"
   },
   {
    "duration": 23,
    "start_time": "2024-04-28T13:19:45.500Z"
   },
   {
    "duration": 16,
    "start_time": "2024-04-28T13:19:45.525Z"
   },
   {
    "duration": 43,
    "start_time": "2024-04-28T13:19:45.543Z"
   },
   {
    "duration": 54,
    "start_time": "2024-04-28T13:19:45.593Z"
   },
   {
    "duration": 68,
    "start_time": "2024-04-28T13:19:45.649Z"
   },
   {
    "duration": 569,
    "start_time": "2024-04-28T13:19:45.718Z"
   },
   {
    "duration": 398,
    "start_time": "2024-04-28T13:19:46.289Z"
   },
   {
    "duration": 407,
    "start_time": "2024-04-28T13:19:46.689Z"
   },
   {
    "duration": 508,
    "start_time": "2024-04-28T13:19:47.098Z"
   },
   {
    "duration": 362,
    "start_time": "2024-04-28T13:19:47.608Z"
   },
   {
    "duration": 369,
    "start_time": "2024-04-28T13:19:47.979Z"
   },
   {
    "duration": 391,
    "start_time": "2024-04-28T13:19:48.350Z"
   },
   {
    "duration": 20,
    "start_time": "2024-04-28T13:19:48.743Z"
   },
   {
    "duration": 33,
    "start_time": "2024-04-28T13:19:48.764Z"
   },
   {
    "duration": 3,
    "start_time": "2024-04-28T13:19:48.799Z"
   },
   {
    "duration": 18,
    "start_time": "2024-04-28T13:19:48.803Z"
   },
   {
    "duration": 13,
    "start_time": "2024-04-28T13:19:48.823Z"
   },
   {
    "duration": 44,
    "start_time": "2024-04-28T13:19:48.838Z"
   },
   {
    "duration": 21,
    "start_time": "2024-04-28T13:19:48.885Z"
   },
   {
    "duration": 23,
    "start_time": "2024-04-28T13:19:48.908Z"
   },
   {
    "duration": 28,
    "start_time": "2024-04-28T13:19:48.933Z"
   },
   {
    "duration": 117,
    "start_time": "2024-04-28T13:19:48.963Z"
   },
   {
    "duration": 7,
    "start_time": "2024-04-28T13:19:49.083Z"
   },
   {
    "duration": 19,
    "start_time": "2024-04-28T13:19:49.094Z"
   },
   {
    "duration": 3401,
    "start_time": "2024-04-28T13:19:49.181Z"
   },
   {
    "duration": 5,
    "start_time": "2024-04-28T13:19:52.584Z"
   },
   {
    "duration": 32,
    "start_time": "2024-04-28T13:19:52.591Z"
   },
   {
    "duration": 24,
    "start_time": "2024-04-28T13:19:52.625Z"
   },
   {
    "duration": 12,
    "start_time": "2024-04-28T13:19:52.651Z"
   },
   {
    "duration": 377891,
    "start_time": "2024-04-28T13:19:52.665Z"
   },
   {
    "duration": 881,
    "start_time": "2024-04-28T13:26:10.558Z"
   },
   {
    "duration": 6,
    "start_time": "2024-04-28T13:26:11.441Z"
   },
   {
    "duration": 145,
    "start_time": "2024-04-28T13:26:11.449Z"
   },
   {
    "duration": 21,
    "start_time": "2024-04-28T13:26:11.596Z"
   },
   {
    "duration": 31,
    "start_time": "2024-04-28T13:26:11.619Z"
   },
   {
    "duration": 43,
    "start_time": "2024-04-28T13:26:11.651Z"
   },
   {
    "duration": 11,
    "start_time": "2024-04-28T13:26:11.696Z"
   },
   {
    "duration": 5,
    "start_time": "2024-04-28T13:26:11.709Z"
   },
   {
    "duration": 33,
    "start_time": "2024-04-28T13:26:11.716Z"
   },
   {
    "duration": 18,
    "start_time": "2024-04-28T13:26:11.751Z"
   },
   {
    "duration": 12,
    "start_time": "2024-04-28T13:26:11.771Z"
   },
   {
    "duration": 58,
    "start_time": "2024-04-28T13:26:11.787Z"
   },
   {
    "duration": 3,
    "start_time": "2024-04-28T13:26:11.847Z"
   },
   {
    "duration": 18,
    "start_time": "2024-04-28T13:26:11.852Z"
   },
   {
    "duration": 16,
    "start_time": "2024-04-28T13:26:11.872Z"
   },
   {
    "duration": 18,
    "start_time": "2024-04-28T13:26:11.890Z"
   },
   {
    "duration": 25,
    "start_time": "2024-04-28T13:26:11.910Z"
   },
   {
    "duration": 7,
    "start_time": "2024-04-28T13:26:11.937Z"
   },
   {
    "duration": 94,
    "start_time": "2024-04-28T13:26:11.945Z"
   },
   {
    "duration": 3,
    "start_time": "2024-04-28T13:26:12.041Z"
   },
   {
    "duration": 14,
    "start_time": "2024-04-28T13:26:12.046Z"
   },
   {
    "duration": 11,
    "start_time": "2024-04-28T13:26:12.062Z"
   },
   {
    "duration": 20,
    "start_time": "2024-04-28T13:26:12.075Z"
   },
   {
    "duration": 4,
    "start_time": "2024-04-28T13:26:12.097Z"
   },
   {
    "duration": 4,
    "start_time": "2024-04-28T13:26:12.103Z"
   },
   {
    "duration": 10,
    "start_time": "2024-04-28T13:26:12.109Z"
   },
   {
    "duration": 38,
    "start_time": "2024-04-28T13:26:12.121Z"
   },
   {
    "duration": 4,
    "start_time": "2024-04-28T13:26:12.165Z"
   },
   {
    "duration": 24,
    "start_time": "2024-04-28T13:26:12.170Z"
   },
   {
    "duration": 18,
    "start_time": "2024-04-28T13:26:12.196Z"
   },
   {
    "duration": 47,
    "start_time": "2024-04-28T13:26:12.216Z"
   },
   {
    "duration": 695,
    "start_time": "2024-04-28T13:26:12.265Z"
   },
   {
    "duration": 413,
    "start_time": "2024-04-28T13:26:12.961Z"
   },
   {
    "duration": 463,
    "start_time": "2024-04-28T13:26:13.376Z"
   },
   {
    "duration": 494,
    "start_time": "2024-04-28T13:26:13.841Z"
   },
   {
    "duration": 461,
    "start_time": "2024-04-28T13:26:14.337Z"
   },
   {
    "duration": 423,
    "start_time": "2024-04-28T13:26:14.800Z"
   },
   {
    "duration": 7,
    "start_time": "2024-04-28T13:26:15.225Z"
   },
   {
    "duration": 2866,
    "start_time": "2024-04-28T13:26:15.233Z"
   },
   {
    "duration": 218,
    "start_time": "2024-04-28T13:26:18.101Z"
   },
   {
    "duration": 2,
    "start_time": "2024-04-28T13:26:18.321Z"
   },
   {
    "duration": 8,
    "start_time": "2024-04-28T13:26:18.324Z"
   },
   {
    "duration": 12,
    "start_time": "2024-04-28T13:26:18.334Z"
   },
   {
    "duration": 9,
    "start_time": "2024-04-28T13:26:18.347Z"
   },
   {
    "duration": 2789,
    "start_time": "2024-04-28T13:26:18.357Z"
   },
   {
    "duration": 940,
    "start_time": "2024-04-28T13:26:21.148Z"
   },
   {
    "duration": 7,
    "start_time": "2024-04-28T13:26:22.094Z"
   },
   {
    "duration": 1682,
    "start_time": "2024-04-28T13:26:22.103Z"
   },
   {
    "duration": 95,
    "start_time": "2024-04-28T13:26:23.792Z"
   },
   {
    "duration": 2343,
    "start_time": "2024-04-28T13:26:23.890Z"
   },
   {
    "duration": 4,
    "start_time": "2024-04-28T13:26:26.234Z"
   },
   {
    "duration": 1499,
    "start_time": "2024-04-28T13:26:26.240Z"
   },
   {
    "duration": 6,
    "start_time": "2024-04-28T13:26:27.741Z"
   },
   {
    "duration": 116,
    "start_time": "2024-04-28T13:26:27.748Z"
   },
   {
    "duration": 31,
    "start_time": "2024-04-28T13:26:27.865Z"
   },
   {
    "duration": 71638,
    "start_time": "2024-04-28T13:26:27.897Z"
   },
   {
    "duration": 8,
    "start_time": "2024-04-28T13:27:39.537Z"
   },
   {
    "duration": 23,
    "start_time": "2024-04-28T13:27:39.546Z"
   },
   {
    "duration": 10109,
    "start_time": "2024-04-30T08:36:03.559Z"
   },
   {
    "duration": 1642,
    "start_time": "2024-04-30T08:36:13.670Z"
   },
   {
    "duration": 262,
    "start_time": "2024-04-30T08:36:15.314Z"
   },
   {
    "duration": 15,
    "start_time": "2024-04-30T08:36:15.578Z"
   },
   {
    "duration": 13,
    "start_time": "2024-04-30T08:36:15.594Z"
   },
   {
    "duration": 19,
    "start_time": "2024-04-30T08:36:15.608Z"
   },
   {
    "duration": 51,
    "start_time": "2024-04-30T08:36:15.628Z"
   },
   {
    "duration": 15,
    "start_time": "2024-04-30T08:36:15.681Z"
   },
   {
    "duration": 21,
    "start_time": "2024-04-30T08:36:15.698Z"
   },
   {
    "duration": 14,
    "start_time": "2024-04-30T08:36:15.722Z"
   },
   {
    "duration": 14,
    "start_time": "2024-04-30T08:36:15.738Z"
   },
   {
    "duration": 11,
    "start_time": "2024-04-30T08:36:15.754Z"
   },
   {
    "duration": 12,
    "start_time": "2024-04-30T08:36:15.767Z"
   },
   {
    "duration": 11,
    "start_time": "2024-04-30T08:36:15.781Z"
   },
   {
    "duration": 21,
    "start_time": "2024-04-30T08:36:15.793Z"
   },
   {
    "duration": 6,
    "start_time": "2024-04-30T08:36:15.815Z"
   },
   {
    "duration": 16,
    "start_time": "2024-04-30T08:36:15.823Z"
   },
   {
    "duration": 61,
    "start_time": "2024-04-30T08:36:15.841Z"
   },
   {
    "duration": 3,
    "start_time": "2024-04-30T08:36:15.904Z"
   },
   {
    "duration": 12,
    "start_time": "2024-04-30T08:36:15.909Z"
   },
   {
    "duration": 22,
    "start_time": "2024-04-30T08:36:15.923Z"
   },
   {
    "duration": 27,
    "start_time": "2024-04-30T08:36:15.947Z"
   },
   {
    "duration": 16,
    "start_time": "2024-04-30T08:36:15.976Z"
   },
   {
    "duration": 10,
    "start_time": "2024-04-30T08:36:15.993Z"
   },
   {
    "duration": 47,
    "start_time": "2024-04-30T08:36:16.005Z"
   },
   {
    "duration": 13,
    "start_time": "2024-04-30T08:36:16.054Z"
   },
   {
    "duration": 42,
    "start_time": "2024-04-30T08:36:16.069Z"
   },
   {
    "duration": 76,
    "start_time": "2024-04-30T08:36:16.118Z"
   },
   {
    "duration": 66,
    "start_time": "2024-04-30T08:36:16.196Z"
   },
   {
    "duration": 580,
    "start_time": "2024-04-30T08:36:16.264Z"
   },
   {
    "duration": 407,
    "start_time": "2024-04-30T08:36:16.846Z"
   },
   {
    "duration": 383,
    "start_time": "2024-04-30T08:36:17.255Z"
   },
   {
    "duration": 495,
    "start_time": "2024-04-30T08:36:17.639Z"
   },
   {
    "duration": 379,
    "start_time": "2024-04-30T08:36:18.136Z"
   },
   {
    "duration": 371,
    "start_time": "2024-04-30T08:36:18.517Z"
   },
   {
    "duration": 342,
    "start_time": "2024-04-30T08:36:18.889Z"
   },
   {
    "duration": 17,
    "start_time": "2024-04-30T08:36:19.232Z"
   },
   {
    "duration": 21,
    "start_time": "2024-04-30T08:36:19.261Z"
   },
   {
    "duration": 3,
    "start_time": "2024-04-30T08:36:19.284Z"
   },
   {
    "duration": 22,
    "start_time": "2024-04-30T08:36:19.288Z"
   },
   {
    "duration": 12,
    "start_time": "2024-04-30T08:36:19.312Z"
   },
   {
    "duration": 16,
    "start_time": "2024-04-30T08:36:19.325Z"
   },
   {
    "duration": 33,
    "start_time": "2024-04-30T08:36:19.362Z"
   },
   {
    "duration": 27,
    "start_time": "2024-04-30T08:36:19.397Z"
   },
   {
    "duration": 4,
    "start_time": "2024-04-30T08:36:19.426Z"
   },
   {
    "duration": 144,
    "start_time": "2024-04-30T08:36:19.431Z"
   },
   {
    "duration": 87,
    "start_time": "2024-04-30T08:36:19.578Z"
   },
   {
    "duration": 3,
    "start_time": "2024-04-30T08:36:19.667Z"
   },
   {
    "duration": 3191,
    "start_time": "2024-04-30T08:36:19.671Z"
   },
   {
    "duration": 5,
    "start_time": "2024-04-30T08:36:22.864Z"
   },
   {
    "duration": 13,
    "start_time": "2024-04-30T08:36:22.871Z"
   },
   {
    "duration": 4,
    "start_time": "2024-04-30T08:36:22.886Z"
   },
   {
    "duration": 21,
    "start_time": "2024-04-30T08:36:22.891Z"
   },
   {
    "duration": 353213,
    "start_time": "2024-04-30T08:36:22.914Z"
   },
   {
    "duration": 800,
    "start_time": "2024-04-30T08:42:16.129Z"
   },
   {
    "duration": 7,
    "start_time": "2024-04-30T08:42:16.931Z"
   },
   {
    "duration": 217,
    "start_time": "2024-04-30T08:42:16.940Z"
   },
   {
    "duration": 25,
    "start_time": "2024-04-30T08:42:17.159Z"
   },
   {
    "duration": 51,
    "start_time": "2024-04-30T08:42:17.186Z"
   },
   {
    "duration": 36,
    "start_time": "2024-04-30T08:42:17.238Z"
   },
   {
    "duration": 25,
    "start_time": "2024-04-30T08:42:17.276Z"
   },
   {
    "duration": 22,
    "start_time": "2024-04-30T08:42:17.302Z"
   },
   {
    "duration": 19,
    "start_time": "2024-04-30T08:42:17.326Z"
   },
   {
    "duration": 24,
    "start_time": "2024-04-30T08:42:17.347Z"
   },
   {
    "duration": 7,
    "start_time": "2024-04-30T08:42:17.373Z"
   },
   {
    "duration": 69,
    "start_time": "2024-04-30T08:42:17.382Z"
   },
   {
    "duration": 8,
    "start_time": "2024-04-30T08:42:17.453Z"
   },
   {
    "duration": 23,
    "start_time": "2024-04-30T08:42:17.463Z"
   },
   {
    "duration": 9,
    "start_time": "2024-04-30T08:42:17.487Z"
   },
   {
    "duration": 15,
    "start_time": "2024-04-30T08:42:17.497Z"
   },
   {
    "duration": 25,
    "start_time": "2024-04-30T08:42:17.514Z"
   },
   {
    "duration": 22,
    "start_time": "2024-04-30T08:42:17.541Z"
   },
   {
    "duration": 80,
    "start_time": "2024-04-30T08:42:17.564Z"
   },
   {
    "duration": 16,
    "start_time": "2024-04-30T08:42:17.646Z"
   },
   {
    "duration": 28,
    "start_time": "2024-04-30T08:42:17.664Z"
   },
   {
    "duration": 22,
    "start_time": "2024-04-30T08:42:17.694Z"
   },
   {
    "duration": 22,
    "start_time": "2024-04-30T08:42:17.718Z"
   },
   {
    "duration": 10,
    "start_time": "2024-04-30T08:42:17.741Z"
   },
   {
    "duration": 14,
    "start_time": "2024-04-30T08:42:17.753Z"
   },
   {
    "duration": 23,
    "start_time": "2024-04-30T08:42:17.769Z"
   },
   {
    "duration": 36,
    "start_time": "2024-04-30T08:42:17.795Z"
   },
   {
    "duration": 3,
    "start_time": "2024-04-30T08:42:17.839Z"
   },
   {
    "duration": 6,
    "start_time": "2024-04-30T08:42:17.844Z"
   },
   {
    "duration": 47,
    "start_time": "2024-04-30T08:42:17.852Z"
   },
   {
    "duration": 65,
    "start_time": "2024-04-30T08:42:17.901Z"
   },
   {
    "duration": 627,
    "start_time": "2024-04-30T08:42:17.967Z"
   },
   {
    "duration": 399,
    "start_time": "2024-04-30T08:42:18.595Z"
   },
   {
    "duration": 443,
    "start_time": "2024-04-30T08:42:18.995Z"
   },
   {
    "duration": 453,
    "start_time": "2024-04-30T08:42:19.440Z"
   },
   {
    "duration": 378,
    "start_time": "2024-04-30T08:42:19.895Z"
   },
   {
    "duration": 414,
    "start_time": "2024-04-30T08:42:20.275Z"
   },
   {
    "duration": 10,
    "start_time": "2024-04-30T08:42:20.692Z"
   },
   {
    "duration": 2715,
    "start_time": "2024-04-30T08:42:20.704Z"
   },
   {
    "duration": 197,
    "start_time": "2024-04-30T08:42:23.421Z"
   },
   {
    "duration": 3,
    "start_time": "2024-04-30T08:42:23.620Z"
   },
   {
    "duration": 13,
    "start_time": "2024-04-30T08:42:23.625Z"
   },
   {
    "duration": 21,
    "start_time": "2024-04-30T08:42:23.640Z"
   },
   {
    "duration": 14,
    "start_time": "2024-04-30T08:42:23.663Z"
   },
   {
    "duration": 8,
    "start_time": "2024-04-30T08:42:23.678Z"
   },
   {
    "duration": 13,
    "start_time": "2024-04-30T08:42:23.688Z"
   },
   {
    "duration": 13,
    "start_time": "2024-04-30T08:42:23.703Z"
   },
   {
    "duration": 8,
    "start_time": "2024-04-30T08:42:23.718Z"
   },
   {
    "duration": 1039,
    "start_time": "2024-04-30T08:42:23.727Z"
   },
   {
    "duration": 102,
    "start_time": "2024-04-30T08:42:24.861Z"
   },
   {
    "duration": 2510,
    "start_time": "2024-04-30T08:42:24.964Z"
   },
   {
    "duration": 3,
    "start_time": "2024-04-30T08:42:27.476Z"
   },
   {
    "duration": 1381,
    "start_time": "2024-04-30T08:42:27.481Z"
   },
   {
    "duration": 7,
    "start_time": "2024-04-30T08:42:28.863Z"
   },
   {
    "duration": 101,
    "start_time": "2024-04-30T08:42:28.872Z"
   },
   {
    "duration": 12,
    "start_time": "2024-04-30T08:42:28.975Z"
   },
   {
    "duration": 90195,
    "start_time": "2024-04-30T08:42:28.989Z"
   },
   {
    "duration": 6,
    "start_time": "2024-04-30T08:43:59.187Z"
   },
   {
    "duration": 16,
    "start_time": "2024-04-30T08:43:59.195Z"
   },
   {
    "duration": 6,
    "start_time": "2024-04-30T08:45:00.793Z"
   },
   {
    "duration": 12,
    "start_time": "2024-04-30T08:45:28.503Z"
   },
   {
    "duration": 8,
    "start_time": "2024-04-30T08:45:29.211Z"
   },
   {
    "duration": 2703,
    "start_time": "2024-04-30T08:48:13.189Z"
   },
   {
    "duration": 5754,
    "start_time": "2024-04-30T08:49:22.801Z"
   },
   {
    "duration": 1363,
    "start_time": "2024-04-30T08:49:28.557Z"
   },
   {
    "duration": 144,
    "start_time": "2024-04-30T08:49:29.922Z"
   },
   {
    "duration": 16,
    "start_time": "2024-04-30T08:49:30.068Z"
   },
   {
    "duration": 47,
    "start_time": "2024-04-30T08:49:30.085Z"
   },
   {
    "duration": 51,
    "start_time": "2024-04-30T08:49:30.134Z"
   },
   {
    "duration": 48,
    "start_time": "2024-04-30T08:49:30.187Z"
   },
   {
    "duration": 46,
    "start_time": "2024-04-30T08:49:30.237Z"
   },
   {
    "duration": 125,
    "start_time": "2024-04-30T08:49:30.285Z"
   },
   {
    "duration": 36,
    "start_time": "2024-04-30T08:49:30.413Z"
   },
   {
    "duration": 108,
    "start_time": "2024-04-30T08:49:30.451Z"
   },
   {
    "duration": 56,
    "start_time": "2024-04-30T08:49:30.561Z"
   },
   {
    "duration": 39,
    "start_time": "2024-04-30T08:49:30.620Z"
   },
   {
    "duration": 45,
    "start_time": "2024-04-30T08:49:30.661Z"
   },
   {
    "duration": 47,
    "start_time": "2024-04-30T08:49:30.709Z"
   },
   {
    "duration": 25,
    "start_time": "2024-04-30T08:49:30.758Z"
   },
   {
    "duration": 43,
    "start_time": "2024-04-30T08:49:30.785Z"
   },
   {
    "duration": 71,
    "start_time": "2024-04-30T08:49:30.831Z"
   },
   {
    "duration": 4,
    "start_time": "2024-04-30T08:49:30.903Z"
   },
   {
    "duration": 73,
    "start_time": "2024-04-30T08:49:30.908Z"
   },
   {
    "duration": 37,
    "start_time": "2024-04-30T08:49:30.983Z"
   },
   {
    "duration": 40,
    "start_time": "2024-04-30T08:49:31.022Z"
   },
   {
    "duration": 40,
    "start_time": "2024-04-30T08:49:31.063Z"
   },
   {
    "duration": 30,
    "start_time": "2024-04-30T08:49:31.105Z"
   },
   {
    "duration": 37,
    "start_time": "2024-04-30T08:49:31.137Z"
   },
   {
    "duration": 28,
    "start_time": "2024-04-30T08:49:31.176Z"
   },
   {
    "duration": 52,
    "start_time": "2024-04-30T08:49:31.205Z"
   },
   {
    "duration": 82,
    "start_time": "2024-04-30T08:49:31.261Z"
   },
   {
    "duration": 42,
    "start_time": "2024-04-30T08:49:31.344Z"
   },
   {
    "duration": 561,
    "start_time": "2024-04-30T08:49:31.388Z"
   },
   {
    "duration": 379,
    "start_time": "2024-04-30T08:49:31.951Z"
   },
   {
    "duration": 402,
    "start_time": "2024-04-30T08:49:32.332Z"
   },
   {
    "duration": 484,
    "start_time": "2024-04-30T08:49:32.736Z"
   },
   {
    "duration": 339,
    "start_time": "2024-04-30T08:49:33.222Z"
   },
   {
    "duration": 352,
    "start_time": "2024-04-30T08:49:33.563Z"
   },
   {
    "duration": 359,
    "start_time": "2024-04-30T08:49:33.918Z"
   },
   {
    "duration": 17,
    "start_time": "2024-04-30T08:49:34.278Z"
   },
   {
    "duration": 23,
    "start_time": "2024-04-30T08:49:34.297Z"
   },
   {
    "duration": 3,
    "start_time": "2024-04-30T08:49:34.322Z"
   },
   {
    "duration": 35,
    "start_time": "2024-04-30T08:49:34.327Z"
   },
   {
    "duration": 18,
    "start_time": "2024-04-30T08:49:34.363Z"
   },
   {
    "duration": 29,
    "start_time": "2024-04-30T08:49:34.383Z"
   },
   {
    "duration": 10,
    "start_time": "2024-04-30T08:49:34.415Z"
   },
   {
    "duration": 15,
    "start_time": "2024-04-30T08:49:34.427Z"
   },
   {
    "duration": 4,
    "start_time": "2024-04-30T08:49:34.443Z"
   },
   {
    "duration": 32,
    "start_time": "2024-04-30T08:49:34.461Z"
   },
   {
    "duration": 71,
    "start_time": "2024-04-30T08:49:34.495Z"
   },
   {
    "duration": 5,
    "start_time": "2024-04-30T08:49:34.568Z"
   },
   {
    "duration": 3299,
    "start_time": "2024-04-30T08:49:34.575Z"
   },
   {
    "duration": 6,
    "start_time": "2024-04-30T08:49:37.876Z"
   },
   {
    "duration": 7,
    "start_time": "2024-04-30T08:49:37.883Z"
   },
   {
    "duration": 7,
    "start_time": "2024-04-30T08:49:37.893Z"
   },
   {
    "duration": 31,
    "start_time": "2024-04-30T08:49:37.902Z"
   },
   {
    "duration": 5739,
    "start_time": "2024-05-01T09:09:39.716Z"
   },
   {
    "duration": 1719,
    "start_time": "2024-05-01T09:09:45.457Z"
   },
   {
    "duration": 550,
    "start_time": "2024-05-01T09:09:47.178Z"
   },
   {
    "duration": 16,
    "start_time": "2024-05-01T09:09:47.730Z"
   },
   {
    "duration": 12,
    "start_time": "2024-05-01T09:09:47.748Z"
   },
   {
    "duration": 11,
    "start_time": "2024-05-01T09:09:47.762Z"
   },
   {
    "duration": 32,
    "start_time": "2024-05-01T09:09:47.775Z"
   },
   {
    "duration": 22,
    "start_time": "2024-05-01T09:09:47.808Z"
   },
   {
    "duration": 11,
    "start_time": "2024-05-01T09:09:47.832Z"
   },
   {
    "duration": 11,
    "start_time": "2024-05-01T09:09:47.846Z"
   },
   {
    "duration": 36,
    "start_time": "2024-05-01T09:09:47.859Z"
   },
   {
    "duration": 14,
    "start_time": "2024-05-01T09:09:47.896Z"
   },
   {
    "duration": 6,
    "start_time": "2024-05-01T09:09:47.912Z"
   },
   {
    "duration": 31,
    "start_time": "2024-05-01T09:09:47.921Z"
   },
   {
    "duration": 7,
    "start_time": "2024-05-01T09:09:47.954Z"
   },
   {
    "duration": 12,
    "start_time": "2024-05-01T09:09:47.963Z"
   },
   {
    "duration": 8,
    "start_time": "2024-05-01T09:09:47.977Z"
   },
   {
    "duration": 39,
    "start_time": "2024-05-01T09:09:47.987Z"
   },
   {
    "duration": 3,
    "start_time": "2024-05-01T09:09:48.028Z"
   },
   {
    "duration": 7,
    "start_time": "2024-05-01T09:09:48.033Z"
   },
   {
    "duration": 27,
    "start_time": "2024-05-01T09:09:48.041Z"
   },
   {
    "duration": 14,
    "start_time": "2024-05-01T09:09:48.070Z"
   },
   {
    "duration": 12,
    "start_time": "2024-05-01T09:09:48.086Z"
   },
   {
    "duration": 32,
    "start_time": "2024-05-01T09:09:48.100Z"
   },
   {
    "duration": 33,
    "start_time": "2024-05-01T09:09:48.134Z"
   },
   {
    "duration": 3,
    "start_time": "2024-05-01T09:09:48.169Z"
   },
   {
    "duration": 19,
    "start_time": "2024-05-01T09:09:48.174Z"
   },
   {
    "duration": 54,
    "start_time": "2024-05-01T09:09:48.198Z"
   },
   {
    "duration": 41,
    "start_time": "2024-05-01T09:09:48.254Z"
   },
   {
    "duration": 572,
    "start_time": "2024-05-01T09:09:48.298Z"
   },
   {
    "duration": 376,
    "start_time": "2024-05-01T09:09:48.872Z"
   },
   {
    "duration": 393,
    "start_time": "2024-05-01T09:09:49.249Z"
   },
   {
    "duration": 491,
    "start_time": "2024-05-01T09:09:49.644Z"
   },
   {
    "duration": 345,
    "start_time": "2024-05-01T09:09:50.136Z"
   },
   {
    "duration": 372,
    "start_time": "2024-05-01T09:09:50.483Z"
   },
   {
    "duration": 341,
    "start_time": "2024-05-01T09:09:50.857Z"
   },
   {
    "duration": 17,
    "start_time": "2024-05-01T09:09:51.200Z"
   },
   {
    "duration": 31,
    "start_time": "2024-05-01T09:09:51.218Z"
   },
   {
    "duration": 25,
    "start_time": "2024-05-01T09:09:51.251Z"
   },
   {
    "duration": 28,
    "start_time": "2024-05-01T09:09:51.277Z"
   },
   {
    "duration": 33,
    "start_time": "2024-05-01T09:09:51.308Z"
   },
   {
    "duration": 42,
    "start_time": "2024-05-01T09:09:51.343Z"
   },
   {
    "duration": 28,
    "start_time": "2024-05-01T09:09:51.388Z"
   },
   {
    "duration": 21,
    "start_time": "2024-05-01T09:09:51.418Z"
   },
   {
    "duration": 37,
    "start_time": "2024-05-01T09:09:51.441Z"
   },
   {
    "duration": 74,
    "start_time": "2024-05-01T09:09:51.480Z"
   },
   {
    "duration": 78,
    "start_time": "2024-05-01T09:09:51.556Z"
   },
   {
    "duration": 15,
    "start_time": "2024-05-01T09:09:51.635Z"
   },
   {
    "duration": 3367,
    "start_time": "2024-05-01T09:09:51.652Z"
   },
   {
    "duration": 9,
    "start_time": "2024-05-01T09:09:55.021Z"
   },
   {
    "duration": 62,
    "start_time": "2024-05-01T09:09:55.031Z"
   },
   {
    "duration": 51,
    "start_time": "2024-05-01T09:09:55.094Z"
   },
   {
    "duration": 32,
    "start_time": "2024-05-01T09:09:55.147Z"
   },
   {
    "duration": 372845,
    "start_time": "2024-05-01T09:09:55.181Z"
   },
   {
    "duration": 798,
    "start_time": "2024-05-01T09:16:08.028Z"
   },
   {
    "duration": 7,
    "start_time": "2024-05-01T09:16:08.828Z"
   },
   {
    "duration": 222,
    "start_time": "2024-05-01T09:16:08.837Z"
   },
   {
    "duration": 29,
    "start_time": "2024-05-01T09:16:09.061Z"
   },
   {
    "duration": 32,
    "start_time": "2024-05-01T09:16:09.092Z"
   },
   {
    "duration": 16,
    "start_time": "2024-05-01T09:16:09.132Z"
   },
   {
    "duration": 16,
    "start_time": "2024-05-01T09:16:09.150Z"
   },
   {
    "duration": 10,
    "start_time": "2024-05-01T09:16:09.167Z"
   },
   {
    "duration": 35,
    "start_time": "2024-05-01T09:16:09.178Z"
   },
   {
    "duration": 31,
    "start_time": "2024-05-01T09:16:09.215Z"
   },
   {
    "duration": 6,
    "start_time": "2024-05-01T09:16:09.248Z"
   },
   {
    "duration": 63,
    "start_time": "2024-05-01T09:16:09.256Z"
   },
   {
    "duration": 3,
    "start_time": "2024-05-01T09:16:09.321Z"
   },
   {
    "duration": 11,
    "start_time": "2024-05-01T09:16:09.329Z"
   },
   {
    "duration": 8,
    "start_time": "2024-05-01T09:16:09.342Z"
   },
   {
    "duration": 19,
    "start_time": "2024-05-01T09:16:09.352Z"
   },
   {
    "duration": 30,
    "start_time": "2024-05-01T09:16:09.373Z"
   },
   {
    "duration": 7,
    "start_time": "2024-05-01T09:16:09.405Z"
   },
   {
    "duration": 85,
    "start_time": "2024-05-01T09:16:09.413Z"
   },
   {
    "duration": 4,
    "start_time": "2024-05-01T09:16:09.499Z"
   },
   {
    "duration": 38,
    "start_time": "2024-05-01T09:16:09.504Z"
   },
   {
    "duration": 13,
    "start_time": "2024-05-01T09:16:09.544Z"
   },
   {
    "duration": 4,
    "start_time": "2024-05-01T09:16:09.559Z"
   },
   {
    "duration": 17,
    "start_time": "2024-05-01T09:16:09.565Z"
   },
   {
    "duration": 10,
    "start_time": "2024-05-01T09:16:09.584Z"
   },
   {
    "duration": 5,
    "start_time": "2024-05-01T09:16:09.596Z"
   },
   {
    "duration": 28,
    "start_time": "2024-05-01T09:16:09.603Z"
   },
   {
    "duration": 4,
    "start_time": "2024-05-01T09:16:09.637Z"
   },
   {
    "duration": 5,
    "start_time": "2024-05-01T09:16:09.642Z"
   },
   {
    "duration": 30,
    "start_time": "2024-05-01T09:16:09.649Z"
   },
   {
    "duration": 57,
    "start_time": "2024-05-01T09:16:09.680Z"
   },
   {
    "duration": 625,
    "start_time": "2024-05-01T09:16:09.739Z"
   },
   {
    "duration": 401,
    "start_time": "2024-05-01T09:16:10.366Z"
   },
   {
    "duration": 447,
    "start_time": "2024-05-01T09:16:10.768Z"
   },
   {
    "duration": 481,
    "start_time": "2024-05-01T09:16:11.217Z"
   },
   {
    "duration": 419,
    "start_time": "2024-05-01T09:16:11.700Z"
   },
   {
    "duration": 428,
    "start_time": "2024-05-01T09:16:12.121Z"
   },
   {
    "duration": 7,
    "start_time": "2024-05-01T09:16:12.551Z"
   },
   {
    "duration": 2661,
    "start_time": "2024-05-01T09:16:12.560Z"
   },
   {
    "duration": 208,
    "start_time": "2024-05-01T09:16:15.223Z"
   },
   {
    "duration": 2,
    "start_time": "2024-05-01T09:16:15.433Z"
   },
   {
    "duration": 24,
    "start_time": "2024-05-01T09:16:15.437Z"
   },
   {
    "duration": 20,
    "start_time": "2024-05-01T09:16:15.463Z"
   },
   {
    "duration": 39,
    "start_time": "2024-05-01T09:16:15.485Z"
   },
   {
    "duration": 35,
    "start_time": "2024-05-01T09:16:15.526Z"
   },
   {
    "duration": 1166,
    "start_time": "2024-05-01T09:16:15.563Z"
   },
   {
    "duration": 101,
    "start_time": "2024-05-01T09:16:16.732Z"
   },
   {
    "duration": 2568,
    "start_time": "2024-05-01T09:16:16.835Z"
   },
   {
    "duration": 4,
    "start_time": "2024-05-01T09:16:19.404Z"
   },
   {
    "duration": 1423,
    "start_time": "2024-05-01T09:16:19.409Z"
   },
   {
    "duration": 5,
    "start_time": "2024-05-01T09:16:20.834Z"
   },
   {
    "duration": 110,
    "start_time": "2024-05-01T09:16:20.841Z"
   },
   {
    "duration": 12,
    "start_time": "2024-05-01T09:16:20.953Z"
   },
   {
    "duration": 2676,
    "start_time": "2024-05-01T09:16:20.967Z"
   },
   {
    "duration": 12,
    "start_time": "2024-05-01T09:16:23.645Z"
   },
   {
    "duration": 15,
    "start_time": "2024-05-01T09:16:23.658Z"
   }
  ],
  "kernelspec": {
   "display_name": "Python 3 (ipykernel)",
   "language": "python",
   "name": "python3"
  },
  "language_info": {
   "codemirror_mode": {
    "name": "ipython",
    "version": 3
   },
   "file_extension": ".py",
   "mimetype": "text/x-python",
   "name": "python",
   "nbconvert_exporter": "python",
   "pygments_lexer": "ipython3",
   "version": "3.11.5"
  },
  "toc": {
   "base_numbering": 1,
   "nav_menu": {},
   "number_sections": true,
   "sideBar": true,
   "skip_h1_title": true,
   "title_cell": "Table of Contents",
   "title_sidebar": "Contents",
   "toc_cell": false,
   "toc_position": {
    "height": "calc(100% - 180px)",
    "left": "10px",
    "top": "150px",
    "width": "307px"
   },
   "toc_section_display": true,
   "toc_window_display": true
  }
 },
 "nbformat": 4,
 "nbformat_minor": 5
}
