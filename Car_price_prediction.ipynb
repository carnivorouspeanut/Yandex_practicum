{
 "cells": [
  {
   "cell_type": "markdown",
   "metadata": {},
   "source": [
    "# Car price prediction"
   ]
  },
  {
   "cell_type": "markdown",
   "metadata": {},
   "source": [
    "The used car sales service is developing an application to attract new clients. In this app, users can quickly find out the market value of their car. You have access to historical data: technical specifications, configurations, and car prices. You need to build a model to determine the car's price.\n",
    "\n",
    "The customer values the following:\n",
    "\n",
    "-prediction quality;\n",
    "\n",
    "-prediction speed;\n",
    "\n",
    "-training time."
   ]
  },
  {
   "cell_type": "code",
   "execution_count": 1,
   "metadata": {},
   "outputs": [
    {
     "name": "stdout",
     "output_type": "stream",
     "text": [
      "Requirement already satisfied: phik in /opt/conda/lib/python3.9/site-packages (0.12.4)\n",
      "Requirement already satisfied: numpy>=1.18.0 in /opt/conda/lib/python3.9/site-packages (from phik) (1.21.1)\n",
      "Requirement already satisfied: pandas>=0.25.1 in /opt/conda/lib/python3.9/site-packages (from phik) (1.2.4)\n",
      "Requirement already satisfied: scipy>=1.5.2 in /opt/conda/lib/python3.9/site-packages (from phik) (1.9.1)\n",
      "Requirement already satisfied: joblib>=0.14.1 in /opt/conda/lib/python3.9/site-packages (from phik) (1.4.2)\n",
      "Requirement already satisfied: matplotlib>=2.2.3 in /opt/conda/lib/python3.9/site-packages (from phik) (3.3.4)\n",
      "Requirement already satisfied: pillow>=6.2.0 in /opt/conda/lib/python3.9/site-packages (from matplotlib>=2.2.3->phik) (8.4.0)\n",
      "Requirement already satisfied: cycler>=0.10 in /opt/conda/lib/python3.9/site-packages (from matplotlib>=2.2.3->phik) (0.11.0)\n",
      "Requirement already satisfied: python-dateutil>=2.1 in /opt/conda/lib/python3.9/site-packages (from matplotlib>=2.2.3->phik) (2.8.1)\n",
      "Requirement already satisfied: pyparsing!=2.0.4,!=2.1.2,!=2.1.6,>=2.0.3 in /opt/conda/lib/python3.9/site-packages (from matplotlib>=2.2.3->phik) (2.4.7)\n",
      "Requirement already satisfied: kiwisolver>=1.0.1 in /opt/conda/lib/python3.9/site-packages (from matplotlib>=2.2.3->phik) (1.4.4)\n",
      "Requirement already satisfied: pytz>=2017.3 in /opt/conda/lib/python3.9/site-packages (from pandas>=0.25.1->phik) (2021.1)\n",
      "Requirement already satisfied: six>=1.5 in /opt/conda/lib/python3.9/site-packages (from python-dateutil>=2.1->matplotlib>=2.2.3->phik) (1.16.0)\n",
      "Requirement already satisfied: scikit-learn in /opt/conda/lib/python3.9/site-packages (1.5.0)\n",
      "Requirement already satisfied: scipy>=1.6.0 in /opt/conda/lib/python3.9/site-packages (from scikit-learn) (1.9.1)\n",
      "Requirement already satisfied: numpy>=1.19.5 in /opt/conda/lib/python3.9/site-packages (from scikit-learn) (1.21.1)\n",
      "Requirement already satisfied: threadpoolctl>=3.1.0 in /opt/conda/lib/python3.9/site-packages (from scikit-learn) (3.1.0)\n",
      "Requirement already satisfied: joblib>=1.2.0 in /opt/conda/lib/python3.9/site-packages (from scikit-learn) (1.4.2)\n"
     ]
    }
   ],
   "source": [
    "!pip install phik\n",
    "!pip install -U scikit-learn"
   ]
  },
  {
   "cell_type": "code",
   "execution_count": 2,
   "metadata": {},
   "outputs": [],
   "source": [
    "import pandas as pd\n",
    "import seaborn as sns\n",
    "import matplotlib.pyplot as plt\n",
    "plt.rcParams[\"figure.figsize\"] = (10, 8)\n",
    "\n",
    "import numpy as np\n",
    "\n",
    "from sklearn.base import BaseEstimator, TransformerMixin\n",
    "from sklearn.pipeline import Pipeline\n",
    "from sklearn.impute import SimpleImputer\n",
    "from scipy.stats import zscore\n",
    "from sklearn.preprocessing import OneHotEncoder, FunctionTransformer\n",
    "from sklearn.metrics import mean_squared_error\n",
    "from sklearn.ensemble import RandomForestRegressor\n",
    "from lightgbm import LGBMRegressor\n",
    "from sklearn.preprocessing import OrdinalEncoder\n",
    "from sklearn.compose import ColumnTransformer\n",
    "from sklearn.dummy import DummyRegressor\n",
    "\n",
    "import time\n",
    "\n",
    "import phik\n",
    "from sklearn.model_selection import train_test_split, GridSearchCV"
   ]
  },
  {
   "cell_type": "markdown",
   "metadata": {},
   "source": [
    "## Data preparation"
   ]
  },
  {
   "cell_type": "code",
   "execution_count": 3,
   "metadata": {},
   "outputs": [],
   "source": [
    "autos = pd.read_csv('/datasets/autos.csv', parse_dates=['DateCrawled', 'DateCreated', 'LastSeen'])"
   ]
  },
  {
   "cell_type": "code",
   "execution_count": 4,
   "metadata": {},
   "outputs": [
    {
     "data": {
      "text/html": [
       "<div>\n",
       "<style scoped>\n",
       "    .dataframe tbody tr th:only-of-type {\n",
       "        vertical-align: middle;\n",
       "    }\n",
       "\n",
       "    .dataframe tbody tr th {\n",
       "        vertical-align: top;\n",
       "    }\n",
       "\n",
       "    .dataframe thead th {\n",
       "        text-align: right;\n",
       "    }\n",
       "</style>\n",
       "<table border=\"1\" class=\"dataframe\">\n",
       "  <thead>\n",
       "    <tr style=\"text-align: right;\">\n",
       "      <th></th>\n",
       "      <th>DateCrawled</th>\n",
       "      <th>Price</th>\n",
       "      <th>VehicleType</th>\n",
       "      <th>RegistrationYear</th>\n",
       "      <th>Gearbox</th>\n",
       "      <th>Power</th>\n",
       "      <th>Model</th>\n",
       "      <th>Kilometer</th>\n",
       "      <th>RegistrationMonth</th>\n",
       "      <th>FuelType</th>\n",
       "      <th>Brand</th>\n",
       "      <th>Repaired</th>\n",
       "      <th>DateCreated</th>\n",
       "      <th>NumberOfPictures</th>\n",
       "      <th>PostalCode</th>\n",
       "      <th>LastSeen</th>\n",
       "    </tr>\n",
       "  </thead>\n",
       "  <tbody>\n",
       "    <tr>\n",
       "      <th>0</th>\n",
       "      <td>2016-03-24 11:52:17</td>\n",
       "      <td>480</td>\n",
       "      <td>NaN</td>\n",
       "      <td>1993</td>\n",
       "      <td>manual</td>\n",
       "      <td>0</td>\n",
       "      <td>golf</td>\n",
       "      <td>150000</td>\n",
       "      <td>0</td>\n",
       "      <td>petrol</td>\n",
       "      <td>volkswagen</td>\n",
       "      <td>NaN</td>\n",
       "      <td>2016-03-24</td>\n",
       "      <td>0</td>\n",
       "      <td>70435</td>\n",
       "      <td>2016-04-07 03:16:57</td>\n",
       "    </tr>\n",
       "    <tr>\n",
       "      <th>1</th>\n",
       "      <td>2016-03-24 10:58:45</td>\n",
       "      <td>18300</td>\n",
       "      <td>coupe</td>\n",
       "      <td>2011</td>\n",
       "      <td>manual</td>\n",
       "      <td>190</td>\n",
       "      <td>NaN</td>\n",
       "      <td>125000</td>\n",
       "      <td>5</td>\n",
       "      <td>gasoline</td>\n",
       "      <td>audi</td>\n",
       "      <td>yes</td>\n",
       "      <td>2016-03-24</td>\n",
       "      <td>0</td>\n",
       "      <td>66954</td>\n",
       "      <td>2016-04-07 01:46:50</td>\n",
       "    </tr>\n",
       "    <tr>\n",
       "      <th>2</th>\n",
       "      <td>2016-03-14 12:52:21</td>\n",
       "      <td>9800</td>\n",
       "      <td>suv</td>\n",
       "      <td>2004</td>\n",
       "      <td>auto</td>\n",
       "      <td>163</td>\n",
       "      <td>grand</td>\n",
       "      <td>125000</td>\n",
       "      <td>8</td>\n",
       "      <td>gasoline</td>\n",
       "      <td>jeep</td>\n",
       "      <td>NaN</td>\n",
       "      <td>2016-03-14</td>\n",
       "      <td>0</td>\n",
       "      <td>90480</td>\n",
       "      <td>2016-04-05 12:47:46</td>\n",
       "    </tr>\n",
       "    <tr>\n",
       "      <th>3</th>\n",
       "      <td>2016-03-17 16:54:04</td>\n",
       "      <td>1500</td>\n",
       "      <td>small</td>\n",
       "      <td>2001</td>\n",
       "      <td>manual</td>\n",
       "      <td>75</td>\n",
       "      <td>golf</td>\n",
       "      <td>150000</td>\n",
       "      <td>6</td>\n",
       "      <td>petrol</td>\n",
       "      <td>volkswagen</td>\n",
       "      <td>no</td>\n",
       "      <td>2016-03-17</td>\n",
       "      <td>0</td>\n",
       "      <td>91074</td>\n",
       "      <td>2016-03-17 17:40:17</td>\n",
       "    </tr>\n",
       "    <tr>\n",
       "      <th>4</th>\n",
       "      <td>2016-03-31 17:25:20</td>\n",
       "      <td>3600</td>\n",
       "      <td>small</td>\n",
       "      <td>2008</td>\n",
       "      <td>manual</td>\n",
       "      <td>69</td>\n",
       "      <td>fabia</td>\n",
       "      <td>90000</td>\n",
       "      <td>7</td>\n",
       "      <td>gasoline</td>\n",
       "      <td>skoda</td>\n",
       "      <td>no</td>\n",
       "      <td>2016-03-31</td>\n",
       "      <td>0</td>\n",
       "      <td>60437</td>\n",
       "      <td>2016-04-06 10:17:21</td>\n",
       "    </tr>\n",
       "  </tbody>\n",
       "</table>\n",
       "</div>"
      ],
      "text/plain": [
       "          DateCrawled  Price VehicleType  RegistrationYear Gearbox  Power  \\\n",
       "0 2016-03-24 11:52:17    480         NaN              1993  manual      0   \n",
       "1 2016-03-24 10:58:45  18300       coupe              2011  manual    190   \n",
       "2 2016-03-14 12:52:21   9800         suv              2004    auto    163   \n",
       "3 2016-03-17 16:54:04   1500       small              2001  manual     75   \n",
       "4 2016-03-31 17:25:20   3600       small              2008  manual     69   \n",
       "\n",
       "   Model  Kilometer  RegistrationMonth  FuelType       Brand Repaired  \\\n",
       "0   golf     150000                  0    petrol  volkswagen      NaN   \n",
       "1    NaN     125000                  5  gasoline        audi      yes   \n",
       "2  grand     125000                  8  gasoline        jeep      NaN   \n",
       "3   golf     150000                  6    petrol  volkswagen       no   \n",
       "4  fabia      90000                  7  gasoline       skoda       no   \n",
       "\n",
       "  DateCreated  NumberOfPictures  PostalCode            LastSeen  \n",
       "0  2016-03-24                 0       70435 2016-04-07 03:16:57  \n",
       "1  2016-03-24                 0       66954 2016-04-07 01:46:50  \n",
       "2  2016-03-14                 0       90480 2016-04-05 12:47:46  \n",
       "3  2016-03-17                 0       91074 2016-03-17 17:40:17  \n",
       "4  2016-03-31                 0       60437 2016-04-06 10:17:21  "
      ]
     },
     "execution_count": 4,
     "metadata": {},
     "output_type": "execute_result"
    }
   ],
   "source": [
    "autos.head()"
   ]
  },
  {
   "cell_type": "markdown",
   "metadata": {},
   "source": [
    "\n",
    "We will immediately filter out records with errors (database export date < registration year, ad creation date > export date)."
   ]
  },
  {
   "cell_type": "code",
   "execution_count": 5,
   "metadata": {},
   "outputs": [],
   "source": [
    "autos = autos[autos['DateCrawled'].dt.year >= autos.RegistrationYear]\n",
    "autos = autos[autos['DateCrawled'] >= autos['DateCreated']]"
   ]
  },
  {
   "cell_type": "code",
   "execution_count": 6,
   "metadata": {},
   "outputs": [
    {
     "name": "stdout",
     "output_type": "stream",
     "text": [
      "<class 'pandas.core.frame.DataFrame'>\n",
      "Int64Index: 339839 entries, 0 to 354368\n",
      "Data columns (total 16 columns):\n",
      " #   Column             Non-Null Count   Dtype         \n",
      "---  ------             --------------   -----         \n",
      " 0   DateCrawled        339839 non-null  datetime64[ns]\n",
      " 1   Price              339839 non-null  int64         \n",
      " 2   VehicleType        316859 non-null  object        \n",
      " 3   RegistrationYear   339839 non-null  int64         \n",
      " 4   Gearbox            321873 non-null  object        \n",
      " 5   Power              339839 non-null  int64         \n",
      " 6   Model              322181 non-null  object        \n",
      " 7   Kilometer          339839 non-null  int64         \n",
      " 8   RegistrationMonth  339839 non-null  int64         \n",
      " 9   FuelType           312538 non-null  object        \n",
      " 10  Brand              339839 non-null  object        \n",
      " 11  Repaired           274984 non-null  object        \n",
      " 12  DateCreated        339839 non-null  datetime64[ns]\n",
      " 13  NumberOfPictures   339839 non-null  int64         \n",
      " 14  PostalCode         339839 non-null  int64         \n",
      " 15  LastSeen           339839 non-null  datetime64[ns]\n",
      "dtypes: datetime64[ns](3), int64(7), object(6)\n",
      "memory usage: 44.1+ MB\n"
     ]
    }
   ],
   "source": [
    "autos.info()"
   ]
  },
  {
   "cell_type": "markdown",
   "metadata": {},
   "source": [
    "### Removal of non-informative features."
   ]
  },
  {
   "cell_type": "markdown",
   "metadata": {},
   "source": [
    "For price prediction, neither the month of car registration nor information about the owner's address/activity matters. I would keep the information about the number of photos in the listing — this could potentially influence the buyer's decision to purchase the car at the listed price."
   ]
  },
  {
   "cell_type": "code",
   "execution_count": 7,
   "metadata": {},
   "outputs": [],
   "source": [
    "autos = autos.drop(['DateCrawled', 'DateCreated', 'PostalCode',\n",
    "       'LastSeen', 'RegistrationMonth'], axis=1)"
   ]
  },
  {
   "cell_type": "markdown",
   "metadata": {},
   "source": [
    "### Correlation analysis"
   ]
  },
  {
   "cell_type": "code",
   "execution_count": 8,
   "metadata": {},
   "outputs": [
    {
     "name": "stderr",
     "output_type": "stream",
     "text": [
      "/opt/conda/lib/python3.9/site-packages/phik/data_quality.py:82: UserWarning: Not enough unique value for variable NumberOfPictures for analysis 1. Dropping this column\n",
      "  warnings.warn(\n"
     ]
    },
    {
     "data": {
      "text/html": [
       "<div>\n",
       "<style scoped>\n",
       "    .dataframe tbody tr th:only-of-type {\n",
       "        vertical-align: middle;\n",
       "    }\n",
       "\n",
       "    .dataframe tbody tr th {\n",
       "        vertical-align: top;\n",
       "    }\n",
       "\n",
       "    .dataframe thead th {\n",
       "        text-align: right;\n",
       "    }\n",
       "</style>\n",
       "<table border=\"1\" class=\"dataframe\">\n",
       "  <thead>\n",
       "    <tr style=\"text-align: right;\">\n",
       "      <th></th>\n",
       "      <th>Price</th>\n",
       "      <th>VehicleType</th>\n",
       "      <th>RegistrationYear</th>\n",
       "      <th>Gearbox</th>\n",
       "      <th>Power</th>\n",
       "      <th>Model</th>\n",
       "      <th>Kilometer</th>\n",
       "      <th>FuelType</th>\n",
       "      <th>Brand</th>\n",
       "      <th>Repaired</th>\n",
       "    </tr>\n",
       "  </thead>\n",
       "  <tbody>\n",
       "    <tr>\n",
       "      <th>Price</th>\n",
       "      <td>1.000000</td>\n",
       "      <td>0.268160</td>\n",
       "      <td>0.687691</td>\n",
       "      <td>0.325259</td>\n",
       "      <td>0.005624</td>\n",
       "      <td>0.578856</td>\n",
       "      <td>0.323962</td>\n",
       "      <td>0.257157</td>\n",
       "      <td>0.356385</td>\n",
       "      <td>0.383108</td>\n",
       "    </tr>\n",
       "    <tr>\n",
       "      <th>VehicleType</th>\n",
       "      <td>0.268160</td>\n",
       "      <td>1.000000</td>\n",
       "      <td>0.278273</td>\n",
       "      <td>0.289225</td>\n",
       "      <td>0.011766</td>\n",
       "      <td>0.917258</td>\n",
       "      <td>0.189550</td>\n",
       "      <td>0.330173</td>\n",
       "      <td>0.633336</td>\n",
       "      <td>0.084338</td>\n",
       "    </tr>\n",
       "    <tr>\n",
       "      <th>RegistrationYear</th>\n",
       "      <td>0.687691</td>\n",
       "      <td>0.278273</td>\n",
       "      <td>1.000000</td>\n",
       "      <td>0.139250</td>\n",
       "      <td>0.000000</td>\n",
       "      <td>0.676274</td>\n",
       "      <td>0.638404</td>\n",
       "      <td>0.386917</td>\n",
       "      <td>0.420174</td>\n",
       "      <td>0.224264</td>\n",
       "    </tr>\n",
       "    <tr>\n",
       "      <th>Gearbox</th>\n",
       "      <td>0.325259</td>\n",
       "      <td>0.289225</td>\n",
       "      <td>0.139250</td>\n",
       "      <td>1.000000</td>\n",
       "      <td>0.010680</td>\n",
       "      <td>0.647755</td>\n",
       "      <td>0.021265</td>\n",
       "      <td>0.152485</td>\n",
       "      <td>0.522150</td>\n",
       "      <td>0.044657</td>\n",
       "    </tr>\n",
       "    <tr>\n",
       "      <th>Power</th>\n",
       "      <td>0.005624</td>\n",
       "      <td>0.011766</td>\n",
       "      <td>0.000000</td>\n",
       "      <td>0.010680</td>\n",
       "      <td>1.000000</td>\n",
       "      <td>0.000000</td>\n",
       "      <td>0.010755</td>\n",
       "      <td>0.011468</td>\n",
       "      <td>0.007633</td>\n",
       "      <td>0.010694</td>\n",
       "    </tr>\n",
       "    <tr>\n",
       "      <th>Model</th>\n",
       "      <td>0.578856</td>\n",
       "      <td>0.917258</td>\n",
       "      <td>0.676274</td>\n",
       "      <td>0.647755</td>\n",
       "      <td>0.000000</td>\n",
       "      <td>1.000000</td>\n",
       "      <td>0.440250</td>\n",
       "      <td>0.556286</td>\n",
       "      <td>0.998352</td>\n",
       "      <td>0.160278</td>\n",
       "    </tr>\n",
       "    <tr>\n",
       "      <th>Kilometer</th>\n",
       "      <td>0.323962</td>\n",
       "      <td>0.189550</td>\n",
       "      <td>0.638404</td>\n",
       "      <td>0.021265</td>\n",
       "      <td>0.010755</td>\n",
       "      <td>0.440250</td>\n",
       "      <td>1.000000</td>\n",
       "      <td>0.173412</td>\n",
       "      <td>0.285946</td>\n",
       "      <td>0.125711</td>\n",
       "    </tr>\n",
       "    <tr>\n",
       "      <th>FuelType</th>\n",
       "      <td>0.257157</td>\n",
       "      <td>0.330173</td>\n",
       "      <td>0.386917</td>\n",
       "      <td>0.152485</td>\n",
       "      <td>0.011468</td>\n",
       "      <td>0.556286</td>\n",
       "      <td>0.173412</td>\n",
       "      <td>1.000000</td>\n",
       "      <td>0.323578</td>\n",
       "      <td>0.044866</td>\n",
       "    </tr>\n",
       "    <tr>\n",
       "      <th>Brand</th>\n",
       "      <td>0.356385</td>\n",
       "      <td>0.633336</td>\n",
       "      <td>0.420174</td>\n",
       "      <td>0.522150</td>\n",
       "      <td>0.007633</td>\n",
       "      <td>0.998352</td>\n",
       "      <td>0.285946</td>\n",
       "      <td>0.323578</td>\n",
       "      <td>1.000000</td>\n",
       "      <td>0.106134</td>\n",
       "    </tr>\n",
       "    <tr>\n",
       "      <th>Repaired</th>\n",
       "      <td>0.383108</td>\n",
       "      <td>0.084338</td>\n",
       "      <td>0.224264</td>\n",
       "      <td>0.044657</td>\n",
       "      <td>0.010694</td>\n",
       "      <td>0.160278</td>\n",
       "      <td>0.125711</td>\n",
       "      <td>0.044866</td>\n",
       "      <td>0.106134</td>\n",
       "      <td>1.000000</td>\n",
       "    </tr>\n",
       "  </tbody>\n",
       "</table>\n",
       "</div>"
      ],
      "text/plain": [
       "                     Price  VehicleType  RegistrationYear   Gearbox     Power  \\\n",
       "Price             1.000000     0.268160          0.687691  0.325259  0.005624   \n",
       "VehicleType       0.268160     1.000000          0.278273  0.289225  0.011766   \n",
       "RegistrationYear  0.687691     0.278273          1.000000  0.139250  0.000000   \n",
       "Gearbox           0.325259     0.289225          0.139250  1.000000  0.010680   \n",
       "Power             0.005624     0.011766          0.000000  0.010680  1.000000   \n",
       "Model             0.578856     0.917258          0.676274  0.647755  0.000000   \n",
       "Kilometer         0.323962     0.189550          0.638404  0.021265  0.010755   \n",
       "FuelType          0.257157     0.330173          0.386917  0.152485  0.011468   \n",
       "Brand             0.356385     0.633336          0.420174  0.522150  0.007633   \n",
       "Repaired          0.383108     0.084338          0.224264  0.044657  0.010694   \n",
       "\n",
       "                     Model  Kilometer  FuelType     Brand  Repaired  \n",
       "Price             0.578856   0.323962  0.257157  0.356385  0.383108  \n",
       "VehicleType       0.917258   0.189550  0.330173  0.633336  0.084338  \n",
       "RegistrationYear  0.676274   0.638404  0.386917  0.420174  0.224264  \n",
       "Gearbox           0.647755   0.021265  0.152485  0.522150  0.044657  \n",
       "Power             0.000000   0.010755  0.011468  0.007633  0.010694  \n",
       "Model             1.000000   0.440250  0.556286  0.998352  0.160278  \n",
       "Kilometer         0.440250   1.000000  0.173412  0.285946  0.125711  \n",
       "FuelType          0.556286   0.173412  1.000000  0.323578  0.044866  \n",
       "Brand             0.998352   0.285946  0.323578  1.000000  0.106134  \n",
       "Repaired          0.160278   0.125711  0.044866  0.106134  1.000000  "
      ]
     },
     "execution_count": 8,
     "metadata": {},
     "output_type": "execute_result"
    }
   ],
   "source": [
    "autos.phik_matrix(interval_cols = ['Price', 'Power'])"
   ]
  },
  {
   "cell_type": "markdown",
   "metadata": {},
   "source": [
    "It makes sense that the brand, model (and car type) are highly correlated (different brands usually don't give the same name to models). However, I wouldn't merge these variables into one or remove the brand — after all, just from the brand name alone, you can roughly estimate the price, and the specific model only refines it further."
   ]
  },
  {
   "cell_type": "markdown",
   "metadata": {},
   "source": [
    "### Anomaly detection"
   ]
  },
  {
   "cell_type": "code",
   "execution_count": 9,
   "metadata": {},
   "outputs": [],
   "source": [
    "numeric_columns = ['Price', 'Kilometer', 'Power', 'NumberOfPictures', 'RegistrationYear']\n",
    "categorial_columns = ['VehicleType', 'Gearbox', 'Model',\n",
    "       'FuelType', 'Brand', 'Repaired']"
   ]
  },
  {
   "cell_type": "code",
   "execution_count": 10,
   "metadata": {},
   "outputs": [
    {
     "data": {
      "image/png": "[encoded data removed]",
      "text/plain": [
       "<Figure size 720x576 with 1 Axes>"
      ]
     },
     "metadata": {
      "needs_background": "light"
     },
     "output_type": "display_data"
    },
    {
     "data": {
      "image/png": "[encoded data removed]",
      "text/plain": [
       "<Figure size 720x576 with 1 Axes>"
      ]
     },
     "metadata": {
      "needs_background": "light"
     },
     "output_type": "display_data"
    },
    {
     "data": {
      "image/png": "[encoded data removed]",
      "text/plain": [
       "<Figure size 720x576 with 1 Axes>"
      ]
     },
     "metadata": {
      "needs_background": "light"
     },
     "output_type": "display_data"
    },
    {
     "data": {
      "image/png": "[encoded data removed]",
      "text/plain": [
       "<Figure size 720x576 with 1 Axes>"
      ]
     },
     "metadata": {
      "needs_background": "light"
     },
     "output_type": "display_data"
    },
    {
     "data": {
      "image/png": "[encoded data removed]",
      "text/plain": [
       "<Figure size 720x576 with 1 Axes>"
      ]
     },
     "metadata": {
      "needs_background": "light"
     },
     "output_type": "display_data"
    }
   ],
   "source": [
    "for i in numeric_columns:\n",
    "    plt.hist(autos[i], bins=100)\n",
    "    plt.ylabel('n data points')\n",
    "    plt.xlabel(f'{i}')\n",
    "    plt.title(f'{i}, min value = {autos[i].min()}, max value = {autos[i].max()}')\n",
    "    plt.show()"
   ]
  },
  {
   "cell_type": "code",
   "execution_count": 11,
   "metadata": {},
   "outputs": [
    {
     "data": {
      "image/png": "[encoded data removed]",
      "text/plain": [
       "<Figure size 720x576 with 1 Axes>"
      ]
     },
     "metadata": {
      "needs_background": "light"
     },
     "output_type": "display_data"
    }
   ],
   "source": [
    "#Let's take a closer look at the anomaly charts – we'll simply sort the records by registration year and plot it.\n",
    "plt.scatter(range(len(autos['RegistrationYear'])), autos['RegistrationYear'].sort_values())\n",
    "plt.title('RegistrationYear')\n",
    "plt.ylabel('year')\n",
    "plt.show()"
   ]
  },
  {
   "cell_type": "code",
   "execution_count": 12,
   "metadata": {},
   "outputs": [
    {
     "data": {
      "image/png": "[encoded data removed]",
      "text/plain": [
       "<Figure size 720x576 with 1 Axes>"
      ]
     },
     "metadata": {
      "needs_background": "light"
     },
     "output_type": "display_data"
    }
   ],
   "source": [
    "#same for engine power\n",
    "plt.scatter(range(len(autos['Power'])), autos['Power'].sort_values())\n",
    "plt.title('Power')\n",
    "plt.ylabel('power')\n",
    "plt.show()"
   ]
  },
  {
   "cell_type": "code",
   "execution_count": 13,
   "metadata": {},
   "outputs": [
    {
     "data": {
      "image/png": "[encoded data removed]",
      "text/plain": [
       "<Figure size 720x576 with 1 Axes>"
      ]
     },
     "metadata": {
      "needs_background": "light"
     },
     "output_type": "display_data"
    },
    {
     "data": {
      "image/png": "[encoded data removed]",
      "text/plain": [
       "<Figure size 720x576 with 1 Axes>"
      ]
     },
     "metadata": {
      "needs_background": "light"
     },
     "output_type": "display_data"
    },
    {
     "data": {
      "image/png": "[encoded data removed]",
      "text/plain": [
       "<Figure size 720x576 with 1 Axes>"
      ]
     },
     "metadata": {
      "needs_background": "light"
     },
     "output_type": "display_data"
    },
    {
     "data": {
      "image/png": "[encoded data removed]",
      "text/plain": [
       "<Figure size 720x576 with 1 Axes>"
      ]
     },
     "metadata": {
      "needs_background": "light"
     },
     "output_type": "display_data"
    },
    {
     "data": {
      "image/png": "[encoded data removed]",
      "text/plain": [
       "<Figure size 720x576 with 1 Axes>"
      ]
     },
     "metadata": {
      "needs_background": "light"
     },
     "output_type": "display_data"
    },
    {
     "data": {
      "image/png": "[encoded data removed]",
      "text/plain": [
       "<Figure size 720x576 with 1 Axes>"
      ]
     },
     "metadata": {
      "needs_background": "light"
     },
     "output_type": "display_data"
    }
   ],
   "source": [
    "too_many_bars_thr = 40\n",
    "\n",
    "for i in categorial_columns:\n",
    "        thr = min(too_many_bars_thr, len(autos[i].unique()))\n",
    "        plt.bar(range(1, thr), autos[i].value_counts()[:thr-1])\n",
    "        plt.title(f'{i}')\n",
    "        plt.xticks(range(1, thr), autos[i].value_counts()[:thr-1].index, rotation=90)\n",
    "        plt.show() "
   ]
  },
  {
   "cell_type": "code",
   "execution_count": 14,
   "metadata": {},
   "outputs": [
    {
     "data": {
      "image/png": "[encoded data removed]",
      "text/plain": [
       "<Figure size 360x360 with 1 Axes>"
      ]
     },
     "metadata": {
      "needs_background": "light"
     },
     "output_type": "display_data"
    }
   ],
   "source": [
    "sns.displot(autos.Price)\n",
    "plt.title('Autos Price')\n",
    "plt.show()"
   ]
  },
  {
   "cell_type": "markdown",
   "metadata": {},
   "source": [
    "We see that none of the listings contain photos, so we'll also remove this feature as uninformative.\n",
    "We'll delete all records with a price ≤ 500.\n",
    "\n",
    "There are also ambiguous data in the RegistrationYear column — there are cars from both the early Middle Ages and the future. These data will not be included in further analysis (we'll remove all cars registered before 1985 — vehicles from the future were already filtered out at the beginning).\n",
    "\n",
    "Additionally, we'll delete all rows where engine power equals zero. The remaining outliers will be filtered using z-score.\n",
    "Unfortunately, I couldn't wrap this into a complete transformer, so these operations will need to be done manually, even before splitting into train and test sets."
   ]
  },
  {
   "cell_type": "code",
   "execution_count": 15,
   "metadata": {},
   "outputs": [],
   "source": [
    "autos = autos.drop('NumberOfPictures', axis=1)"
   ]
  },
  {
   "cell_type": "code",
   "execution_count": 16,
   "metadata": {},
   "outputs": [],
   "source": [
    "price_thr = 500\n",
    "autos = autos[autos['Price'] > price_thr]"
   ]
  },
  {
   "cell_type": "code",
   "execution_count": 17,
   "metadata": {},
   "outputs": [],
   "source": [
    "year_lower = 1985\n",
    "autos = autos[(autos['RegistrationYear'] >= year_lower)]"
   ]
  },
  {
   "cell_type": "code",
   "execution_count": 18,
   "metadata": {},
   "outputs": [],
   "source": [
    "autos = autos[(~autos['Model'].isna()) & (~autos['Brand'].isna())]"
   ]
  },
  {
   "cell_type": "code",
   "execution_count": 19,
   "metadata": {},
   "outputs": [],
   "source": [
    "power_thr = 500\n",
    "\n",
    "autos = autos[(autos['Power'] > 0) & (autos['Power'] < power_thr)]"
   ]
  },
  {
   "cell_type": "markdown",
   "metadata": {},
   "source": [
    "Filtering suspiciously high/low engine power values using z-score: for each brand and model, I calculated the average engine power, manually verified that the resulting average is reasonable, and used it in the z-score formula."
   ]
  },
  {
   "cell_type": "code",
   "execution_count": 20,
   "metadata": {},
   "outputs": [
    {
     "data": {
      "text/plain": [
       "Model               Brand     \n",
       "601                 trabant        26.310078\n",
       "kaefer              volkswagen     47.020000\n",
       "arosa               seat           52.804598\n",
       "seicento            fiat           53.168044\n",
       "other               smart          54.434783\n",
       "                                     ...    \n",
       "911                 porsche       293.756098\n",
       "range_rover_evoque  land_rover    296.000000\n",
       "6er                 bmw           310.500000\n",
       "cayenne             porsche       334.404762\n",
       "m_reihe             bmw           341.270833\n",
       "Name: Power, Length: 294, dtype: float64"
      ]
     },
     "execution_count": 20,
     "metadata": {},
     "output_type": "execute_result"
    }
   ],
   "source": [
    "# The average engine power for the groups looks reasonable.\n",
    "autos.groupby(['Model', 'Brand'])['Power'].mean().sort_values()"
   ]
  },
  {
   "cell_type": "code",
   "execution_count": 21,
   "metadata": {},
   "outputs": [],
   "source": [
    "zscore_thr = 3\n",
    "\n",
    "idx_to_leave = []\n",
    "for spec, df in autos.groupby(['Model', 'Brand']):\n",
    "    mean = df['Power'].mean()\n",
    "    std = df['Power'].std()\n",
    "    zscore = np.abs((df['Power'] - mean)/std)\n",
    "    idx_to_leave.extend(zscore[zscore < zscore_thr].index.tolist())"
   ]
  },
  {
   "cell_type": "code",
   "execution_count": 22,
   "metadata": {},
   "outputs": [],
   "source": [
    "autos = autos.reindex(idx_to_leave)"
   ]
  },
  {
   "cell_type": "code",
   "execution_count": 23,
   "metadata": {},
   "outputs": [
    {
     "data": {
      "image/png": "[encoded data removed]",
      "text/plain": [
       "<Figure size 720x576 with 1 Axes>"
      ]
     },
     "metadata": {
      "needs_background": "light"
     },
     "output_type": "display_data"
    },
    {
     "data": {
      "image/png": "[encoded data removed]",
      "text/plain": [
       "<Figure size 720x576 with 1 Axes>"
      ]
     },
     "metadata": {
      "needs_background": "light"
     },
     "output_type": "display_data"
    }
   ],
   "source": [
    "for i in ['Power', 'Price']:\n",
    "    plt.hist(autos[i], bins=100)\n",
    "    plt.title(f'{i} after filtering, min value = {autos[i].min()}, max value = {autos[i].max()}')\n",
    "    plt.show()"
   ]
  },
  {
   "cell_type": "code",
   "execution_count": 24,
   "metadata": {},
   "outputs": [],
   "source": [
    "train, test = train_test_split(autos, random_state=42, test_size=.25)"
   ]
  },
  {
   "cell_type": "code",
   "execution_count": 25,
   "metadata": {},
   "outputs": [],
   "source": [
    "X_train = train.drop(['Price'], axis=1)\n",
    "y_train = train['Price']\n",
    "\n",
    "X_test = test.drop(['Price'], axis=1)\n",
    "y_test = test['Price']"
   ]
  },
  {
   "cell_type": "markdown",
   "metadata": {},
   "source": [
    "Final transformer:"
   ]
  },
  {
   "cell_type": "code",
   "execution_count": 26,
   "metadata": {},
   "outputs": [],
   "source": [
    "numeric_columns = ['Kilometer', 'Power', 'RegistrationYear']\n",
    "ordinal_columns = ['VehicleType', 'Gearbox', 'FuelType', 'Repaired', 'Brand', 'Model']"
   ]
  },
  {
   "cell_type": "code",
   "execution_count": 27,
   "metadata": {},
   "outputs": [],
   "source": [
    "categorical_transformer = Pipeline([\n",
    "    ('imputer', SimpleImputer(strategy='most_frequent')),\n",
    "    ('onehot', OneHotEncoder(drop='first', handle_unknown='ignore'))\n",
    "])"
   ]
  },
  {
   "cell_type": "code",
   "execution_count": 28,
   "metadata": {},
   "outputs": [],
   "source": [
    "numerical_transformer = Pipeline([\n",
    "    ('imputer', SimpleImputer(strategy='median')),\n",
    "])"
   ]
  },
  {
   "cell_type": "code",
   "execution_count": 29,
   "metadata": {},
   "outputs": [],
   "source": [
    "ordinal_transformer = Pipeline([('encoder', OrdinalEncoder(handle_unknown='use_encoded_value', unknown_value=np.nan))])"
   ]
  },
  {
   "cell_type": "code",
   "execution_count": 30,
   "metadata": {},
   "outputs": [],
   "source": [
    "preprocessor = ColumnTransformer([\n",
    "    ('num', numerical_transformer, numeric_columns),\n",
    "    ('ord', ordinal_transformer, ordinal_columns)\n",
    "], remainder='drop')"
   ]
  },
  {
   "cell_type": "code",
   "execution_count": 31,
   "metadata": {},
   "outputs": [
    {
     "data": {
      "text/html": [
       "<style>#sk-container-id-1 {\n",
       "  /* Definition of color scheme common for light and dark mode */\n",
       "  --sklearn-color-text: black;\n",
       "  --sklearn-color-line: gray;\n",
       "  /* Definition of color scheme for unfitted estimators */\n",
       "  --sklearn-color-unfitted-level-0: #fff5e6;\n",
       "  --sklearn-color-unfitted-level-1: #f6e4d2;\n",
       "  --sklearn-color-unfitted-level-2: #ffe0b3;\n",
       "  --sklearn-color-unfitted-level-3: chocolate;\n",
       "  /* Definition of color scheme for fitted estimators */\n",
       "  --sklearn-color-fitted-level-0: #f0f8ff;\n",
       "  --sklearn-color-fitted-level-1: #d4ebff;\n",
       "  --sklearn-color-fitted-level-2: #b3dbfd;\n",
       "  --sklearn-color-fitted-level-3: cornflowerblue;\n",
       "\n",
       "  /* Specific color for light theme */\n",
       "  --sklearn-color-text-on-default-background: var(--sg-text-color, var(--theme-code-foreground, var(--jp-content-font-color1, black)));\n",
       "  --sklearn-color-background: var(--sg-background-color, var(--theme-background, var(--jp-layout-color0, white)));\n",
       "  --sklearn-color-border-box: var(--sg-text-color, var(--theme-code-foreground, var(--jp-content-font-color1, black)));\n",
       "  --sklearn-color-icon: #696969;\n",
       "\n",
       "  @media (prefers-color-scheme: dark) {\n",
       "    /* Redefinition of color scheme for dark theme */\n",
       "    --sklearn-color-text-on-default-background: var(--sg-text-color, var(--theme-code-foreground, var(--jp-content-font-color1, white)));\n",
       "    --sklearn-color-background: var(--sg-background-color, var(--theme-background, var(--jp-layout-color0, #111)));\n",
       "    --sklearn-color-border-box: var(--sg-text-color, var(--theme-code-foreground, var(--jp-content-font-color1, white)));\n",
       "    --sklearn-color-icon: #878787;\n",
       "  }\n",
       "}\n",
       "\n",
       "#sk-container-id-1 {\n",
       "  color: var(--sklearn-color-text);\n",
       "}\n",
       "\n",
       "#sk-container-id-1 pre {\n",
       "  padding: 0;\n",
       "}\n",
       "\n",
       "#sk-container-id-1 input.sk-hidden--visually {\n",
       "  border: 0;\n",
       "  clip: rect(1px 1px 1px 1px);\n",
       "  clip: rect(1px, 1px, 1px, 1px);\n",
       "  height: 1px;\n",
       "  margin: -1px;\n",
       "  overflow: hidden;\n",
       "  padding: 0;\n",
       "  position: absolute;\n",
       "  width: 1px;\n",
       "}\n",
       "\n",
       "#sk-container-id-1 div.sk-dashed-wrapped {\n",
       "  border: 1px dashed var(--sklearn-color-line);\n",
       "  margin: 0 0.4em 0.5em 0.4em;\n",
       "  box-sizing: border-box;\n",
       "  padding-bottom: 0.4em;\n",
       "  background-color: var(--sklearn-color-background);\n",
       "}\n",
       "\n",
       "#sk-container-id-1 div.sk-container {\n",
       "  /* jupyter's `normalize.less` sets `[hidden] { display: none; }`\n",
       "     but bootstrap.min.css set `[hidden] { display: none !important; }`\n",
       "     so we also need the `!important` here to be able to override the\n",
       "     default hidden behavior on the sphinx rendered scikit-learn.org.\n",
       "     See: https://github.com/scikit-learn/scikit-learn/issues/21755 */\n",
       "  display: inline-block !important;\n",
       "  position: relative;\n",
       "}\n",
       "\n",
       "#sk-container-id-1 div.sk-text-repr-fallback {\n",
       "  display: none;\n",
       "}\n",
       "\n",
       "div.sk-parallel-item,\n",
       "div.sk-serial,\n",
       "div.sk-item {\n",
       "  /* draw centered vertical line to link estimators */\n",
       "  background-image: linear-gradient(var(--sklearn-color-text-on-default-background), var(--sklearn-color-text-on-default-background));\n",
       "  background-size: 2px 100%;\n",
       "  background-repeat: no-repeat;\n",
       "  background-position: center center;\n",
       "}\n",
       "\n",
       "/* Parallel-specific style estimator block */\n",
       "\n",
       "#sk-container-id-1 div.sk-parallel-item::after {\n",
       "  content: \"\";\n",
       "  width: 100%;\n",
       "  border-bottom: 2px solid var(--sklearn-color-text-on-default-background);\n",
       "  flex-grow: 1;\n",
       "}\n",
       "\n",
       "#sk-container-id-1 div.sk-parallel {\n",
       "  display: flex;\n",
       "  align-items: stretch;\n",
       "  justify-content: center;\n",
       "  background-color: var(--sklearn-color-background);\n",
       "  position: relative;\n",
       "}\n",
       "\n",
       "#sk-container-id-1 div.sk-parallel-item {\n",
       "  display: flex;\n",
       "  flex-direction: column;\n",
       "}\n",
       "\n",
       "#sk-container-id-1 div.sk-parallel-item:first-child::after {\n",
       "  align-self: flex-end;\n",
       "  width: 50%;\n",
       "}\n",
       "\n",
       "#sk-container-id-1 div.sk-parallel-item:last-child::after {\n",
       "  align-self: flex-start;\n",
       "  width: 50%;\n",
       "}\n",
       "\n",
       "#sk-container-id-1 div.sk-parallel-item:only-child::after {\n",
       "  width: 0;\n",
       "}\n",
       "\n",
       "/* Serial-specific style estimator block */\n",
       "\n",
       "#sk-container-id-1 div.sk-serial {\n",
       "  display: flex;\n",
       "  flex-direction: column;\n",
       "  align-items: center;\n",
       "  background-color: var(--sklearn-color-background);\n",
       "  padding-right: 1em;\n",
       "  padding-left: 1em;\n",
       "}\n",
       "\n",
       "\n",
       "/* Toggleable style: style used for estimator/Pipeline/ColumnTransformer box that is\n",
       "clickable and can be expanded/collapsed.\n",
       "- Pipeline and ColumnTransformer use this feature and define the default style\n",
       "- Estimators will overwrite some part of the style using the `sk-estimator` class\n",
       "*/\n",
       "\n",
       "/* Pipeline and ColumnTransformer style (default) */\n",
       "\n",
       "#sk-container-id-1 div.sk-toggleable {\n",
       "  /* Default theme specific background. It is overwritten whether we have a\n",
       "  specific estimator or a Pipeline/ColumnTransformer */\n",
       "  background-color: var(--sklearn-color-background);\n",
       "}\n",
       "\n",
       "/* Toggleable label */\n",
       "#sk-container-id-1 label.sk-toggleable__label {\n",
       "  cursor: pointer;\n",
       "  display: block;\n",
       "  width: 100%;\n",
       "  margin-bottom: 0;\n",
       "  padding: 0.5em;\n",
       "  box-sizing: border-box;\n",
       "  text-align: center;\n",
       "}\n",
       "\n",
       "#sk-container-id-1 label.sk-toggleable__label-arrow:before {\n",
       "  /* Arrow on the left of the label */\n",
       "  content: \"▸\";\n",
       "  float: left;\n",
       "  margin-right: 0.25em;\n",
       "  color: var(--sklearn-color-icon);\n",
       "}\n",
       "\n",
       "#sk-container-id-1 label.sk-toggleable__label-arrow:hover:before {\n",
       "  color: var(--sklearn-color-text);\n",
       "}\n",
       "\n",
       "/* Toggleable content - dropdown */\n",
       "\n",
       "#sk-container-id-1 div.sk-toggleable__content {\n",
       "  max-height: 0;\n",
       "  max-width: 0;\n",
       "  overflow: hidden;\n",
       "  text-align: left;\n",
       "  /* unfitted */\n",
       "  background-color: var(--sklearn-color-unfitted-level-0);\n",
       "}\n",
       "\n",
       "#sk-container-id-1 div.sk-toggleable__content.fitted {\n",
       "  /* fitted */\n",
       "  background-color: var(--sklearn-color-fitted-level-0);\n",
       "}\n",
       "\n",
       "#sk-container-id-1 div.sk-toggleable__content pre {\n",
       "  margin: 0.2em;\n",
       "  border-radius: 0.25em;\n",
       "  color: var(--sklearn-color-text);\n",
       "  /* unfitted */\n",
       "  background-color: var(--sklearn-color-unfitted-level-0);\n",
       "}\n",
       "\n",
       "#sk-container-id-1 div.sk-toggleable__content.fitted pre {\n",
       "  /* unfitted */\n",
       "  background-color: var(--sklearn-color-fitted-level-0);\n",
       "}\n",
       "\n",
       "#sk-container-id-1 input.sk-toggleable__control:checked~div.sk-toggleable__content {\n",
       "  /* Expand drop-down */\n",
       "  max-height: 200px;\n",
       "  max-width: 100%;\n",
       "  overflow: auto;\n",
       "}\n",
       "\n",
       "#sk-container-id-1 input.sk-toggleable__control:checked~label.sk-toggleable__label-arrow:before {\n",
       "  content: \"▾\";\n",
       "}\n",
       "\n",
       "/* Pipeline/ColumnTransformer-specific style */\n",
       "\n",
       "#sk-container-id-1 div.sk-label input.sk-toggleable__control:checked~label.sk-toggleable__label {\n",
       "  color: var(--sklearn-color-text);\n",
       "  background-color: var(--sklearn-color-unfitted-level-2);\n",
       "}\n",
       "\n",
       "#sk-container-id-1 div.sk-label.fitted input.sk-toggleable__control:checked~label.sk-toggleable__label {\n",
       "  background-color: var(--sklearn-color-fitted-level-2);\n",
       "}\n",
       "\n",
       "/* Estimator-specific style */\n",
       "\n",
       "/* Colorize estimator box */\n",
       "#sk-container-id-1 div.sk-estimator input.sk-toggleable__control:checked~label.sk-toggleable__label {\n",
       "  /* unfitted */\n",
       "  background-color: var(--sklearn-color-unfitted-level-2);\n",
       "}\n",
       "\n",
       "#sk-container-id-1 div.sk-estimator.fitted input.sk-toggleable__control:checked~label.sk-toggleable__label {\n",
       "  /* fitted */\n",
       "  background-color: var(--sklearn-color-fitted-level-2);\n",
       "}\n",
       "\n",
       "#sk-container-id-1 div.sk-label label.sk-toggleable__label,\n",
       "#sk-container-id-1 div.sk-label label {\n",
       "  /* The background is the default theme color */\n",
       "  color: var(--sklearn-color-text-on-default-background);\n",
       "}\n",
       "\n",
       "/* On hover, darken the color of the background */\n",
       "#sk-container-id-1 div.sk-label:hover label.sk-toggleable__label {\n",
       "  color: var(--sklearn-color-text);\n",
       "  background-color: var(--sklearn-color-unfitted-level-2);\n",
       "}\n",
       "\n",
       "/* Label box, darken color on hover, fitted */\n",
       "#sk-container-id-1 div.sk-label.fitted:hover label.sk-toggleable__label.fitted {\n",
       "  color: var(--sklearn-color-text);\n",
       "  background-color: var(--sklearn-color-fitted-level-2);\n",
       "}\n",
       "\n",
       "/* Estimator label */\n",
       "\n",
       "#sk-container-id-1 div.sk-label label {\n",
       "  font-family: monospace;\n",
       "  font-weight: bold;\n",
       "  display: inline-block;\n",
       "  line-height: 1.2em;\n",
       "}\n",
       "\n",
       "#sk-container-id-1 div.sk-label-container {\n",
       "  text-align: center;\n",
       "}\n",
       "\n",
       "/* Estimator-specific */\n",
       "#sk-container-id-1 div.sk-estimator {\n",
       "  font-family: monospace;\n",
       "  border: 1px dotted var(--sklearn-color-border-box);\n",
       "  border-radius: 0.25em;\n",
       "  box-sizing: border-box;\n",
       "  margin-bottom: 0.5em;\n",
       "  /* unfitted */\n",
       "  background-color: var(--sklearn-color-unfitted-level-0);\n",
       "}\n",
       "\n",
       "#sk-container-id-1 div.sk-estimator.fitted {\n",
       "  /* fitted */\n",
       "  background-color: var(--sklearn-color-fitted-level-0);\n",
       "}\n",
       "\n",
       "/* on hover */\n",
       "#sk-container-id-1 div.sk-estimator:hover {\n",
       "  /* unfitted */\n",
       "  background-color: var(--sklearn-color-unfitted-level-2);\n",
       "}\n",
       "\n",
       "#sk-container-id-1 div.sk-estimator.fitted:hover {\n",
       "  /* fitted */\n",
       "  background-color: var(--sklearn-color-fitted-level-2);\n",
       "}\n",
       "\n",
       "/* Specification for estimator info (e.g. \"i\" and \"?\") */\n",
       "\n",
       "/* Common style for \"i\" and \"?\" */\n",
       "\n",
       ".sk-estimator-doc-link,\n",
       "a:link.sk-estimator-doc-link,\n",
       "a:visited.sk-estimator-doc-link {\n",
       "  float: right;\n",
       "  font-size: smaller;\n",
       "  line-height: 1em;\n",
       "  font-family: monospace;\n",
       "  background-color: var(--sklearn-color-background);\n",
       "  border-radius: 1em;\n",
       "  height: 1em;\n",
       "  width: 1em;\n",
       "  text-decoration: none !important;\n",
       "  margin-left: 1ex;\n",
       "  /* unfitted */\n",
       "  border: var(--sklearn-color-unfitted-level-1) 1pt solid;\n",
       "  color: var(--sklearn-color-unfitted-level-1);\n",
       "}\n",
       "\n",
       ".sk-estimator-doc-link.fitted,\n",
       "a:link.sk-estimator-doc-link.fitted,\n",
       "a:visited.sk-estimator-doc-link.fitted {\n",
       "  /* fitted */\n",
       "  border: var(--sklearn-color-fitted-level-1) 1pt solid;\n",
       "  color: var(--sklearn-color-fitted-level-1);\n",
       "}\n",
       "\n",
       "/* On hover */\n",
       "div.sk-estimator:hover .sk-estimator-doc-link:hover,\n",
       ".sk-estimator-doc-link:hover,\n",
       "div.sk-label-container:hover .sk-estimator-doc-link:hover,\n",
       ".sk-estimator-doc-link:hover {\n",
       "  /* unfitted */\n",
       "  background-color: var(--sklearn-color-unfitted-level-3);\n",
       "  color: var(--sklearn-color-background);\n",
       "  text-decoration: none;\n",
       "}\n",
       "\n",
       "div.sk-estimator.fitted:hover .sk-estimator-doc-link.fitted:hover,\n",
       ".sk-estimator-doc-link.fitted:hover,\n",
       "div.sk-label-container:hover .sk-estimator-doc-link.fitted:hover,\n",
       ".sk-estimator-doc-link.fitted:hover {\n",
       "  /* fitted */\n",
       "  background-color: var(--sklearn-color-fitted-level-3);\n",
       "  color: var(--sklearn-color-background);\n",
       "  text-decoration: none;\n",
       "}\n",
       "\n",
       "/* Span, style for the box shown on hovering the info icon */\n",
       ".sk-estimator-doc-link span {\n",
       "  display: none;\n",
       "  z-index: 9999;\n",
       "  position: relative;\n",
       "  font-weight: normal;\n",
       "  right: .2ex;\n",
       "  padding: .5ex;\n",
       "  margin: .5ex;\n",
       "  width: min-content;\n",
       "  min-width: 20ex;\n",
       "  max-width: 50ex;\n",
       "  color: var(--sklearn-color-text);\n",
       "  box-shadow: 2pt 2pt 4pt #999;\n",
       "  /* unfitted */\n",
       "  background: var(--sklearn-color-unfitted-level-0);\n",
       "  border: .5pt solid var(--sklearn-color-unfitted-level-3);\n",
       "}\n",
       "\n",
       ".sk-estimator-doc-link.fitted span {\n",
       "  /* fitted */\n",
       "  background: var(--sklearn-color-fitted-level-0);\n",
       "  border: var(--sklearn-color-fitted-level-3);\n",
       "}\n",
       "\n",
       ".sk-estimator-doc-link:hover span {\n",
       "  display: block;\n",
       "}\n",
       "\n",
       "/* \"?\"-specific style due to the `<a>` HTML tag */\n",
       "\n",
       "#sk-container-id-1 a.estimator_doc_link {\n",
       "  float: right;\n",
       "  font-size: 1rem;\n",
       "  line-height: 1em;\n",
       "  font-family: monospace;\n",
       "  background-color: var(--sklearn-color-background);\n",
       "  border-radius: 1rem;\n",
       "  height: 1rem;\n",
       "  width: 1rem;\n",
       "  text-decoration: none;\n",
       "  /* unfitted */\n",
       "  color: var(--sklearn-color-unfitted-level-1);\n",
       "  border: var(--sklearn-color-unfitted-level-1) 1pt solid;\n",
       "}\n",
       "\n",
       "#sk-container-id-1 a.estimator_doc_link.fitted {\n",
       "  /* fitted */\n",
       "  border: var(--sklearn-color-fitted-level-1) 1pt solid;\n",
       "  color: var(--sklearn-color-fitted-level-1);\n",
       "}\n",
       "\n",
       "/* On hover */\n",
       "#sk-container-id-1 a.estimator_doc_link:hover {\n",
       "  /* unfitted */\n",
       "  background-color: var(--sklearn-color-unfitted-level-3);\n",
       "  color: var(--sklearn-color-background);\n",
       "  text-decoration: none;\n",
       "}\n",
       "\n",
       "#sk-container-id-1 a.estimator_doc_link.fitted:hover {\n",
       "  /* fitted */\n",
       "  background-color: var(--sklearn-color-fitted-level-3);\n",
       "}\n",
       "</style><div id=\"sk-container-id-1\" class=\"sk-top-container\"><div class=\"sk-text-repr-fallback\"><pre>ColumnTransformer(transformers=[(&#x27;num&#x27;,\n",
       "                                 Pipeline(steps=[(&#x27;imputer&#x27;,\n",
       "                                                  SimpleImputer(strategy=&#x27;median&#x27;))]),\n",
       "                                 [&#x27;Kilometer&#x27;, &#x27;Power&#x27;, &#x27;RegistrationYear&#x27;]),\n",
       "                                (&#x27;ord&#x27;,\n",
       "                                 Pipeline(steps=[(&#x27;encoder&#x27;,\n",
       "                                                  OrdinalEncoder(handle_unknown=&#x27;use_encoded_value&#x27;,\n",
       "                                                                 unknown_value=nan))]),\n",
       "                                 [&#x27;VehicleType&#x27;, &#x27;Gearbox&#x27;, &#x27;FuelType&#x27;,\n",
       "                                  &#x27;Repaired&#x27;, &#x27;Brand&#x27;, &#x27;Model&#x27;])])</pre><b>In a Jupyter environment, please rerun this cell to show the HTML representation or trust the notebook. <br />On GitHub, the HTML representation is unable to render, please try loading this page with nbviewer.org.</b></div><div class=\"sk-container\" hidden><div class=\"sk-item sk-dashed-wrapped\"><div class=\"sk-label-container\"><div class=\"sk-label  sk-toggleable\"><input class=\"sk-toggleable__control sk-hidden--visually\" id=\"sk-estimator-id-1\" type=\"checkbox\" ><label for=\"sk-estimator-id-1\" class=\"sk-toggleable__label  sk-toggleable__label-arrow \">&nbsp;&nbsp;ColumnTransformer<a class=\"sk-estimator-doc-link \" rel=\"noreferrer\" target=\"_blank\" href=\"https://scikit-learn.org/1.5/modules/generated/sklearn.compose.ColumnTransformer.html\">?<span>Documentation for ColumnTransformer</span></a><span class=\"sk-estimator-doc-link \">i<span>Not fitted</span></span></label><div class=\"sk-toggleable__content \"><pre>ColumnTransformer(transformers=[(&#x27;num&#x27;,\n",
       "                                 Pipeline(steps=[(&#x27;imputer&#x27;,\n",
       "                                                  SimpleImputer(strategy=&#x27;median&#x27;))]),\n",
       "                                 [&#x27;Kilometer&#x27;, &#x27;Power&#x27;, &#x27;RegistrationYear&#x27;]),\n",
       "                                (&#x27;ord&#x27;,\n",
       "                                 Pipeline(steps=[(&#x27;encoder&#x27;,\n",
       "                                                  OrdinalEncoder(handle_unknown=&#x27;use_encoded_value&#x27;,\n",
       "                                                                 unknown_value=nan))]),\n",
       "                                 [&#x27;VehicleType&#x27;, &#x27;Gearbox&#x27;, &#x27;FuelType&#x27;,\n",
       "                                  &#x27;Repaired&#x27;, &#x27;Brand&#x27;, &#x27;Model&#x27;])])</pre></div> </div></div><div class=\"sk-parallel\"><div class=\"sk-parallel-item\"><div class=\"sk-item\"><div class=\"sk-label-container\"><div class=\"sk-label  sk-toggleable\"><input class=\"sk-toggleable__control sk-hidden--visually\" id=\"sk-estimator-id-2\" type=\"checkbox\" ><label for=\"sk-estimator-id-2\" class=\"sk-toggleable__label  sk-toggleable__label-arrow \">num</label><div class=\"sk-toggleable__content \"><pre>[&#x27;Kilometer&#x27;, &#x27;Power&#x27;, &#x27;RegistrationYear&#x27;]</pre></div> </div></div><div class=\"sk-serial\"><div class=\"sk-item\"><div class=\"sk-serial\"><div class=\"sk-item\"><div class=\"sk-estimator  sk-toggleable\"><input class=\"sk-toggleable__control sk-hidden--visually\" id=\"sk-estimator-id-3\" type=\"checkbox\" ><label for=\"sk-estimator-id-3\" class=\"sk-toggleable__label  sk-toggleable__label-arrow \">&nbsp;SimpleImputer<a class=\"sk-estimator-doc-link \" rel=\"noreferrer\" target=\"_blank\" href=\"https://scikit-learn.org/1.5/modules/generated/sklearn.impute.SimpleImputer.html\">?<span>Documentation for SimpleImputer</span></a></label><div class=\"sk-toggleable__content \"><pre>SimpleImputer(strategy=&#x27;median&#x27;)</pre></div> </div></div></div></div></div></div></div><div class=\"sk-parallel-item\"><div class=\"sk-item\"><div class=\"sk-label-container\"><div class=\"sk-label  sk-toggleable\"><input class=\"sk-toggleable__control sk-hidden--visually\" id=\"sk-estimator-id-4\" type=\"checkbox\" ><label for=\"sk-estimator-id-4\" class=\"sk-toggleable__label  sk-toggleable__label-arrow \">ord</label><div class=\"sk-toggleable__content \"><pre>[&#x27;VehicleType&#x27;, &#x27;Gearbox&#x27;, &#x27;FuelType&#x27;, &#x27;Repaired&#x27;, &#x27;Brand&#x27;, &#x27;Model&#x27;]</pre></div> </div></div><div class=\"sk-serial\"><div class=\"sk-item\"><div class=\"sk-serial\"><div class=\"sk-item\"><div class=\"sk-estimator  sk-toggleable\"><input class=\"sk-toggleable__control sk-hidden--visually\" id=\"sk-estimator-id-5\" type=\"checkbox\" ><label for=\"sk-estimator-id-5\" class=\"sk-toggleable__label  sk-toggleable__label-arrow \">&nbsp;OrdinalEncoder<a class=\"sk-estimator-doc-link \" rel=\"noreferrer\" target=\"_blank\" href=\"https://scikit-learn.org/1.5/modules/generated/sklearn.preprocessing.OrdinalEncoder.html\">?<span>Documentation for OrdinalEncoder</span></a></label><div class=\"sk-toggleable__content \"><pre>OrdinalEncoder(handle_unknown=&#x27;use_encoded_value&#x27;, unknown_value=nan)</pre></div> </div></div></div></div></div></div></div></div></div></div></div>"
      ],
      "text/plain": [
       "ColumnTransformer(transformers=[('num',\n",
       "                                 Pipeline(steps=[('imputer',\n",
       "                                                  SimpleImputer(strategy='median'))]),\n",
       "                                 ['Kilometer', 'Power', 'RegistrationYear']),\n",
       "                                ('ord',\n",
       "                                 Pipeline(steps=[('encoder',\n",
       "                                                  OrdinalEncoder(handle_unknown='use_encoded_value',\n",
       "                                                                 unknown_value=nan))]),\n",
       "                                 ['VehicleType', 'Gearbox', 'FuelType',\n",
       "                                  'Repaired', 'Brand', 'Model'])])"
      ]
     },
     "execution_count": 31,
     "metadata": {},
     "output_type": "execute_result"
    }
   ],
   "source": [
    "preprocessor"
   ]
  },
  {
   "cell_type": "code",
   "execution_count": 32,
   "metadata": {},
   "outputs": [],
   "source": [
    "X_train_transformed = preprocessor.fit_transform(X_train)\n",
    "X_train_transformed = pd.DataFrame(X_train_transformed, index = train.index, columns = preprocessor.get_feature_names_out()).astype(float)"
   ]
  },
  {
   "cell_type": "code",
   "execution_count": 33,
   "metadata": {},
   "outputs": [],
   "source": [
    "X_test_transformed = preprocessor.transform(X_test)\n",
    "X_test_transformed = pd.DataFrame(X_test_transformed, index = test.index, columns = preprocessor.get_feature_names_out()).astype(float)"
   ]
  },
  {
   "cell_type": "markdown",
   "metadata": {},
   "source": [
    "## Model training"
   ]
  },
  {
   "cell_type": "code",
   "execution_count": 34,
   "metadata": {},
   "outputs": [],
   "source": [
    "del autos\n",
    "del X_train\n",
    "del X_test\n",
    "del train\n",
    "del test"
   ]
  },
  {
   "cell_type": "markdown",
   "metadata": {},
   "source": [
    "### LightGBM"
   ]
  },
  {
   "cell_type": "code",
   "execution_count": 35,
   "metadata": {},
   "outputs": [
    {
     "name": "stdout",
     "output_type": "stream",
     "text": [
      "Fitting 3 folds for each of 4 candidates, totalling 12 fits\n",
      "[CV] END ................learning_rate=0.05, n_estimators=50; total time=   2.5s\n",
      "[CV] END ................learning_rate=0.05, n_estimators=50; total time=   2.7s\n",
      "[CV] END ................learning_rate=0.05, n_estimators=50; total time=   2.4s\n",
      "[CV] END ...............learning_rate=0.05, n_estimators=100; total time=   5.2s\n",
      "[CV] END ...............learning_rate=0.05, n_estimators=100; total time=   5.4s\n",
      "[CV] END ...............learning_rate=0.05, n_estimators=100; total time=   5.0s\n",
      "[CV] END .................learning_rate=0.2, n_estimators=50; total time=   2.4s\n",
      "[CV] END .................learning_rate=0.2, n_estimators=50; total time=   2.6s\n",
      "[CV] END .................learning_rate=0.2, n_estimators=50; total time=   2.3s\n",
      "[CV] END ................learning_rate=0.2, n_estimators=100; total time=   4.1s\n",
      "[CV] END ................learning_rate=0.2, n_estimators=100; total time=   4.3s\n",
      "[CV] END ................learning_rate=0.2, n_estimators=100; total time=   5.3s\n"
     ]
    },
    {
     "data": {
      "text/html": [
       "<style>#sk-container-id-2 {\n",
       "  /* Definition of color scheme common for light and dark mode */\n",
       "  --sklearn-color-text: black;\n",
       "  --sklearn-color-line: gray;\n",
       "  /* Definition of color scheme for unfitted estimators */\n",
       "  --sklearn-color-unfitted-level-0: #fff5e6;\n",
       "  --sklearn-color-unfitted-level-1: #f6e4d2;\n",
       "  --sklearn-color-unfitted-level-2: #ffe0b3;\n",
       "  --sklearn-color-unfitted-level-3: chocolate;\n",
       "  /* Definition of color scheme for fitted estimators */\n",
       "  --sklearn-color-fitted-level-0: #f0f8ff;\n",
       "  --sklearn-color-fitted-level-1: #d4ebff;\n",
       "  --sklearn-color-fitted-level-2: #b3dbfd;\n",
       "  --sklearn-color-fitted-level-3: cornflowerblue;\n",
       "\n",
       "  /* Specific color for light theme */\n",
       "  --sklearn-color-text-on-default-background: var(--sg-text-color, var(--theme-code-foreground, var(--jp-content-font-color1, black)));\n",
       "  --sklearn-color-background: var(--sg-background-color, var(--theme-background, var(--jp-layout-color0, white)));\n",
       "  --sklearn-color-border-box: var(--sg-text-color, var(--theme-code-foreground, var(--jp-content-font-color1, black)));\n",
       "  --sklearn-color-icon: #696969;\n",
       "\n",
       "  @media (prefers-color-scheme: dark) {\n",
       "    /* Redefinition of color scheme for dark theme */\n",
       "    --sklearn-color-text-on-default-background: var(--sg-text-color, var(--theme-code-foreground, var(--jp-content-font-color1, white)));\n",
       "    --sklearn-color-background: var(--sg-background-color, var(--theme-background, var(--jp-layout-color0, #111)));\n",
       "    --sklearn-color-border-box: var(--sg-text-color, var(--theme-code-foreground, var(--jp-content-font-color1, white)));\n",
       "    --sklearn-color-icon: #878787;\n",
       "  }\n",
       "}\n",
       "\n",
       "#sk-container-id-2 {\n",
       "  color: var(--sklearn-color-text);\n",
       "}\n",
       "\n",
       "#sk-container-id-2 pre {\n",
       "  padding: 0;\n",
       "}\n",
       "\n",
       "#sk-container-id-2 input.sk-hidden--visually {\n",
       "  border: 0;\n",
       "  clip: rect(1px 1px 1px 1px);\n",
       "  clip: rect(1px, 1px, 1px, 1px);\n",
       "  height: 1px;\n",
       "  margin: -1px;\n",
       "  overflow: hidden;\n",
       "  padding: 0;\n",
       "  position: absolute;\n",
       "  width: 1px;\n",
       "}\n",
       "\n",
       "#sk-container-id-2 div.sk-dashed-wrapped {\n",
       "  border: 1px dashed var(--sklearn-color-line);\n",
       "  margin: 0 0.4em 0.5em 0.4em;\n",
       "  box-sizing: border-box;\n",
       "  padding-bottom: 0.4em;\n",
       "  background-color: var(--sklearn-color-background);\n",
       "}\n",
       "\n",
       "#sk-container-id-2 div.sk-container {\n",
       "  /* jupyter's `normalize.less` sets `[hidden] { display: none; }`\n",
       "     but bootstrap.min.css set `[hidden] { display: none !important; }`\n",
       "     so we also need the `!important` here to be able to override the\n",
       "     default hidden behavior on the sphinx rendered scikit-learn.org.\n",
       "     See: https://github.com/scikit-learn/scikit-learn/issues/21755 */\n",
       "  display: inline-block !important;\n",
       "  position: relative;\n",
       "}\n",
       "\n",
       "#sk-container-id-2 div.sk-text-repr-fallback {\n",
       "  display: none;\n",
       "}\n",
       "\n",
       "div.sk-parallel-item,\n",
       "div.sk-serial,\n",
       "div.sk-item {\n",
       "  /* draw centered vertical line to link estimators */\n",
       "  background-image: linear-gradient(var(--sklearn-color-text-on-default-background), var(--sklearn-color-text-on-default-background));\n",
       "  background-size: 2px 100%;\n",
       "  background-repeat: no-repeat;\n",
       "  background-position: center center;\n",
       "}\n",
       "\n",
       "/* Parallel-specific style estimator block */\n",
       "\n",
       "#sk-container-id-2 div.sk-parallel-item::after {\n",
       "  content: \"\";\n",
       "  width: 100%;\n",
       "  border-bottom: 2px solid var(--sklearn-color-text-on-default-background);\n",
       "  flex-grow: 1;\n",
       "}\n",
       "\n",
       "#sk-container-id-2 div.sk-parallel {\n",
       "  display: flex;\n",
       "  align-items: stretch;\n",
       "  justify-content: center;\n",
       "  background-color: var(--sklearn-color-background);\n",
       "  position: relative;\n",
       "}\n",
       "\n",
       "#sk-container-id-2 div.sk-parallel-item {\n",
       "  display: flex;\n",
       "  flex-direction: column;\n",
       "}\n",
       "\n",
       "#sk-container-id-2 div.sk-parallel-item:first-child::after {\n",
       "  align-self: flex-end;\n",
       "  width: 50%;\n",
       "}\n",
       "\n",
       "#sk-container-id-2 div.sk-parallel-item:last-child::after {\n",
       "  align-self: flex-start;\n",
       "  width: 50%;\n",
       "}\n",
       "\n",
       "#sk-container-id-2 div.sk-parallel-item:only-child::after {\n",
       "  width: 0;\n",
       "}\n",
       "\n",
       "/* Serial-specific style estimator block */\n",
       "\n",
       "#sk-container-id-2 div.sk-serial {\n",
       "  display: flex;\n",
       "  flex-direction: column;\n",
       "  align-items: center;\n",
       "  background-color: var(--sklearn-color-background);\n",
       "  padding-right: 1em;\n",
       "  padding-left: 1em;\n",
       "}\n",
       "\n",
       "\n",
       "/* Toggleable style: style used for estimator/Pipeline/ColumnTransformer box that is\n",
       "clickable and can be expanded/collapsed.\n",
       "- Pipeline and ColumnTransformer use this feature and define the default style\n",
       "- Estimators will overwrite some part of the style using the `sk-estimator` class\n",
       "*/\n",
       "\n",
       "/* Pipeline and ColumnTransformer style (default) */\n",
       "\n",
       "#sk-container-id-2 div.sk-toggleable {\n",
       "  /* Default theme specific background. It is overwritten whether we have a\n",
       "  specific estimator or a Pipeline/ColumnTransformer */\n",
       "  background-color: var(--sklearn-color-background);\n",
       "}\n",
       "\n",
       "/* Toggleable label */\n",
       "#sk-container-id-2 label.sk-toggleable__label {\n",
       "  cursor: pointer;\n",
       "  display: block;\n",
       "  width: 100%;\n",
       "  margin-bottom: 0;\n",
       "  padding: 0.5em;\n",
       "  box-sizing: border-box;\n",
       "  text-align: center;\n",
       "}\n",
       "\n",
       "#sk-container-id-2 label.sk-toggleable__label-arrow:before {\n",
       "  /* Arrow on the left of the label */\n",
       "  content: \"▸\";\n",
       "  float: left;\n",
       "  margin-right: 0.25em;\n",
       "  color: var(--sklearn-color-icon);\n",
       "}\n",
       "\n",
       "#sk-container-id-2 label.sk-toggleable__label-arrow:hover:before {\n",
       "  color: var(--sklearn-color-text);\n",
       "}\n",
       "\n",
       "/* Toggleable content - dropdown */\n",
       "\n",
       "#sk-container-id-2 div.sk-toggleable__content {\n",
       "  max-height: 0;\n",
       "  max-width: 0;\n",
       "  overflow: hidden;\n",
       "  text-align: left;\n",
       "  /* unfitted */\n",
       "  background-color: var(--sklearn-color-unfitted-level-0);\n",
       "}\n",
       "\n",
       "#sk-container-id-2 div.sk-toggleable__content.fitted {\n",
       "  /* fitted */\n",
       "  background-color: var(--sklearn-color-fitted-level-0);\n",
       "}\n",
       "\n",
       "#sk-container-id-2 div.sk-toggleable__content pre {\n",
       "  margin: 0.2em;\n",
       "  border-radius: 0.25em;\n",
       "  color: var(--sklearn-color-text);\n",
       "  /* unfitted */\n",
       "  background-color: var(--sklearn-color-unfitted-level-0);\n",
       "}\n",
       "\n",
       "#sk-container-id-2 div.sk-toggleable__content.fitted pre {\n",
       "  /* unfitted */\n",
       "  background-color: var(--sklearn-color-fitted-level-0);\n",
       "}\n",
       "\n",
       "#sk-container-id-2 input.sk-toggleable__control:checked~div.sk-toggleable__content {\n",
       "  /* Expand drop-down */\n",
       "  max-height: 200px;\n",
       "  max-width: 100%;\n",
       "  overflow: auto;\n",
       "}\n",
       "\n",
       "#sk-container-id-2 input.sk-toggleable__control:checked~label.sk-toggleable__label-arrow:before {\n",
       "  content: \"▾\";\n",
       "}\n",
       "\n",
       "/* Pipeline/ColumnTransformer-specific style */\n",
       "\n",
       "#sk-container-id-2 div.sk-label input.sk-toggleable__control:checked~label.sk-toggleable__label {\n",
       "  color: var(--sklearn-color-text);\n",
       "  background-color: var(--sklearn-color-unfitted-level-2);\n",
       "}\n",
       "\n",
       "#sk-container-id-2 div.sk-label.fitted input.sk-toggleable__control:checked~label.sk-toggleable__label {\n",
       "  background-color: var(--sklearn-color-fitted-level-2);\n",
       "}\n",
       "\n",
       "/* Estimator-specific style */\n",
       "\n",
       "/* Colorize estimator box */\n",
       "#sk-container-id-2 div.sk-estimator input.sk-toggleable__control:checked~label.sk-toggleable__label {\n",
       "  /* unfitted */\n",
       "  background-color: var(--sklearn-color-unfitted-level-2);\n",
       "}\n",
       "\n",
       "#sk-container-id-2 div.sk-estimator.fitted input.sk-toggleable__control:checked~label.sk-toggleable__label {\n",
       "  /* fitted */\n",
       "  background-color: var(--sklearn-color-fitted-level-2);\n",
       "}\n",
       "\n",
       "#sk-container-id-2 div.sk-label label.sk-toggleable__label,\n",
       "#sk-container-id-2 div.sk-label label {\n",
       "  /* The background is the default theme color */\n",
       "  color: var(--sklearn-color-text-on-default-background);\n",
       "}\n",
       "\n",
       "/* On hover, darken the color of the background */\n",
       "#sk-container-id-2 div.sk-label:hover label.sk-toggleable__label {\n",
       "  color: var(--sklearn-color-text);\n",
       "  background-color: var(--sklearn-color-unfitted-level-2);\n",
       "}\n",
       "\n",
       "/* Label box, darken color on hover, fitted */\n",
       "#sk-container-id-2 div.sk-label.fitted:hover label.sk-toggleable__label.fitted {\n",
       "  color: var(--sklearn-color-text);\n",
       "  background-color: var(--sklearn-color-fitted-level-2);\n",
       "}\n",
       "\n",
       "/* Estimator label */\n",
       "\n",
       "#sk-container-id-2 div.sk-label label {\n",
       "  font-family: monospace;\n",
       "  font-weight: bold;\n",
       "  display: inline-block;\n",
       "  line-height: 1.2em;\n",
       "}\n",
       "\n",
       "#sk-container-id-2 div.sk-label-container {\n",
       "  text-align: center;\n",
       "}\n",
       "\n",
       "/* Estimator-specific */\n",
       "#sk-container-id-2 div.sk-estimator {\n",
       "  font-family: monospace;\n",
       "  border: 1px dotted var(--sklearn-color-border-box);\n",
       "  border-radius: 0.25em;\n",
       "  box-sizing: border-box;\n",
       "  margin-bottom: 0.5em;\n",
       "  /* unfitted */\n",
       "  background-color: var(--sklearn-color-unfitted-level-0);\n",
       "}\n",
       "\n",
       "#sk-container-id-2 div.sk-estimator.fitted {\n",
       "  /* fitted */\n",
       "  background-color: var(--sklearn-color-fitted-level-0);\n",
       "}\n",
       "\n",
       "/* on hover */\n",
       "#sk-container-id-2 div.sk-estimator:hover {\n",
       "  /* unfitted */\n",
       "  background-color: var(--sklearn-color-unfitted-level-2);\n",
       "}\n",
       "\n",
       "#sk-container-id-2 div.sk-estimator.fitted:hover {\n",
       "  /* fitted */\n",
       "  background-color: var(--sklearn-color-fitted-level-2);\n",
       "}\n",
       "\n",
       "/* Specification for estimator info (e.g. \"i\" and \"?\") */\n",
       "\n",
       "/* Common style for \"i\" and \"?\" */\n",
       "\n",
       ".sk-estimator-doc-link,\n",
       "a:link.sk-estimator-doc-link,\n",
       "a:visited.sk-estimator-doc-link {\n",
       "  float: right;\n",
       "  font-size: smaller;\n",
       "  line-height: 1em;\n",
       "  font-family: monospace;\n",
       "  background-color: var(--sklearn-color-background);\n",
       "  border-radius: 1em;\n",
       "  height: 1em;\n",
       "  width: 1em;\n",
       "  text-decoration: none !important;\n",
       "  margin-left: 1ex;\n",
       "  /* unfitted */\n",
       "  border: var(--sklearn-color-unfitted-level-1) 1pt solid;\n",
       "  color: var(--sklearn-color-unfitted-level-1);\n",
       "}\n",
       "\n",
       ".sk-estimator-doc-link.fitted,\n",
       "a:link.sk-estimator-doc-link.fitted,\n",
       "a:visited.sk-estimator-doc-link.fitted {\n",
       "  /* fitted */\n",
       "  border: var(--sklearn-color-fitted-level-1) 1pt solid;\n",
       "  color: var(--sklearn-color-fitted-level-1);\n",
       "}\n",
       "\n",
       "/* On hover */\n",
       "div.sk-estimator:hover .sk-estimator-doc-link:hover,\n",
       ".sk-estimator-doc-link:hover,\n",
       "div.sk-label-container:hover .sk-estimator-doc-link:hover,\n",
       ".sk-estimator-doc-link:hover {\n",
       "  /* unfitted */\n",
       "  background-color: var(--sklearn-color-unfitted-level-3);\n",
       "  color: var(--sklearn-color-background);\n",
       "  text-decoration: none;\n",
       "}\n",
       "\n",
       "div.sk-estimator.fitted:hover .sk-estimator-doc-link.fitted:hover,\n",
       ".sk-estimator-doc-link.fitted:hover,\n",
       "div.sk-label-container:hover .sk-estimator-doc-link.fitted:hover,\n",
       ".sk-estimator-doc-link.fitted:hover {\n",
       "  /* fitted */\n",
       "  background-color: var(--sklearn-color-fitted-level-3);\n",
       "  color: var(--sklearn-color-background);\n",
       "  text-decoration: none;\n",
       "}\n",
       "\n",
       "/* Span, style for the box shown on hovering the info icon */\n",
       ".sk-estimator-doc-link span {\n",
       "  display: none;\n",
       "  z-index: 9999;\n",
       "  position: relative;\n",
       "  font-weight: normal;\n",
       "  right: .2ex;\n",
       "  padding: .5ex;\n",
       "  margin: .5ex;\n",
       "  width: min-content;\n",
       "  min-width: 20ex;\n",
       "  max-width: 50ex;\n",
       "  color: var(--sklearn-color-text);\n",
       "  box-shadow: 2pt 2pt 4pt #999;\n",
       "  /* unfitted */\n",
       "  background: var(--sklearn-color-unfitted-level-0);\n",
       "  border: .5pt solid var(--sklearn-color-unfitted-level-3);\n",
       "}\n",
       "\n",
       ".sk-estimator-doc-link.fitted span {\n",
       "  /* fitted */\n",
       "  background: var(--sklearn-color-fitted-level-0);\n",
       "  border: var(--sklearn-color-fitted-level-3);\n",
       "}\n",
       "\n",
       ".sk-estimator-doc-link:hover span {\n",
       "  display: block;\n",
       "}\n",
       "\n",
       "/* \"?\"-specific style due to the `<a>` HTML tag */\n",
       "\n",
       "#sk-container-id-2 a.estimator_doc_link {\n",
       "  float: right;\n",
       "  font-size: 1rem;\n",
       "  line-height: 1em;\n",
       "  font-family: monospace;\n",
       "  background-color: var(--sklearn-color-background);\n",
       "  border-radius: 1rem;\n",
       "  height: 1rem;\n",
       "  width: 1rem;\n",
       "  text-decoration: none;\n",
       "  /* unfitted */\n",
       "  color: var(--sklearn-color-unfitted-level-1);\n",
       "  border: var(--sklearn-color-unfitted-level-1) 1pt solid;\n",
       "}\n",
       "\n",
       "#sk-container-id-2 a.estimator_doc_link.fitted {\n",
       "  /* fitted */\n",
       "  border: var(--sklearn-color-fitted-level-1) 1pt solid;\n",
       "  color: var(--sklearn-color-fitted-level-1);\n",
       "}\n",
       "\n",
       "/* On hover */\n",
       "#sk-container-id-2 a.estimator_doc_link:hover {\n",
       "  /* unfitted */\n",
       "  background-color: var(--sklearn-color-unfitted-level-3);\n",
       "  color: var(--sklearn-color-background);\n",
       "  text-decoration: none;\n",
       "}\n",
       "\n",
       "#sk-container-id-2 a.estimator_doc_link.fitted:hover {\n",
       "  /* fitted */\n",
       "  background-color: var(--sklearn-color-fitted-level-3);\n",
       "}\n",
       "</style><div id=\"sk-container-id-2\" class=\"sk-top-container\"><div class=\"sk-text-repr-fallback\"><pre>GridSearchCV(cv=3, estimator=LGBMRegressor(random_state=42), n_jobs=-1,\n",
       "             param_grid={&#x27;learning_rate&#x27;: [0.05, 0.2],\n",
       "                         &#x27;n_estimators&#x27;: [50, 100]},\n",
       "             scoring=&#x27;neg_mean_squared_error&#x27;, verbose=2)</pre><b>In a Jupyter environment, please rerun this cell to show the HTML representation or trust the notebook. <br />On GitHub, the HTML representation is unable to render, please try loading this page with nbviewer.org.</b></div><div class=\"sk-container\" hidden><div class=\"sk-item sk-dashed-wrapped\"><div class=\"sk-label-container\"><div class=\"sk-label fitted sk-toggleable\"><input class=\"sk-toggleable__control sk-hidden--visually\" id=\"sk-estimator-id-6\" type=\"checkbox\" ><label for=\"sk-estimator-id-6\" class=\"sk-toggleable__label fitted sk-toggleable__label-arrow fitted\">&nbsp;&nbsp;GridSearchCV<a class=\"sk-estimator-doc-link fitted\" rel=\"noreferrer\" target=\"_blank\" href=\"https://scikit-learn.org/1.5/modules/generated/sklearn.model_selection.GridSearchCV.html\">?<span>Documentation for GridSearchCV</span></a><span class=\"sk-estimator-doc-link fitted\">i<span>Fitted</span></span></label><div class=\"sk-toggleable__content fitted\"><pre>GridSearchCV(cv=3, estimator=LGBMRegressor(random_state=42), n_jobs=-1,\n",
       "             param_grid={&#x27;learning_rate&#x27;: [0.05, 0.2],\n",
       "                         &#x27;n_estimators&#x27;: [50, 100]},\n",
       "             scoring=&#x27;neg_mean_squared_error&#x27;, verbose=2)</pre></div> </div></div><div class=\"sk-parallel\"><div class=\"sk-parallel-item\"><div class=\"sk-item\"><div class=\"sk-label-container\"><div class=\"sk-label fitted sk-toggleable\"><input class=\"sk-toggleable__control sk-hidden--visually\" id=\"sk-estimator-id-7\" type=\"checkbox\" ><label for=\"sk-estimator-id-7\" class=\"sk-toggleable__label fitted sk-toggleable__label-arrow fitted\">best_estimator_: LGBMRegressor</label><div class=\"sk-toggleable__content fitted\"><pre>LGBMRegressor(learning_rate=0.2, random_state=42)</pre></div> </div></div><div class=\"sk-serial\"><div class=\"sk-item\"><div class=\"sk-estimator fitted sk-toggleable\"><input class=\"sk-toggleable__control sk-hidden--visually\" id=\"sk-estimator-id-8\" type=\"checkbox\" ><label for=\"sk-estimator-id-8\" class=\"sk-toggleable__label fitted sk-toggleable__label-arrow fitted\">LGBMRegressor</label><div class=\"sk-toggleable__content fitted\"><pre>LGBMRegressor(learning_rate=0.2, random_state=42)</pre></div> </div></div></div></div></div></div></div></div></div>"
      ],
      "text/plain": [
       "GridSearchCV(cv=3, estimator=LGBMRegressor(random_state=42), n_jobs=-1,\n",
       "             param_grid={'learning_rate': [0.05, 0.2],\n",
       "                         'n_estimators': [50, 100]},\n",
       "             scoring='neg_mean_squared_error', verbose=2)"
      ]
     },
     "execution_count": 35,
     "metadata": {},
     "output_type": "execute_result"
    }
   ],
   "source": [
    "model = LGBMRegressor(random_state = 42)\n",
    "\n",
    "param_grid = {\n",
    "    'learning_rate': [0.05, 0.2],\n",
    "    'n_estimators': [50, 100],\n",
    "}\n",
    "\n",
    "grid_search_lg = GridSearchCV(\n",
    "    estimator=model, \n",
    "    param_grid=param_grid, \n",
    "    scoring='neg_mean_squared_error', \n",
    "    cv=3, \n",
    "    verbose=2, \n",
    "    n_jobs=-1\n",
    ")\n",
    "\n",
    "grid_search_lg.fit(X_train_transformed, y_train)"
   ]
  },
  {
   "cell_type": "code",
   "execution_count": 36,
   "metadata": {},
   "outputs": [
    {
     "name": "stdout",
     "output_type": "stream",
     "text": [
      "Lightgbm best rmse: 1546.8679108448214\n"
     ]
    }
   ],
   "source": [
    "print(f'Lightgbm best rmse: {np.sqrt(-1*grid_search_lg.best_score_)}')"
   ]
  },
  {
   "cell_type": "code",
   "execution_count": 37,
   "metadata": {},
   "outputs": [
    {
     "data": {
      "text/html": [
       "<style>#sk-container-id-3 {\n",
       "  /* Definition of color scheme common for light and dark mode */\n",
       "  --sklearn-color-text: black;\n",
       "  --sklearn-color-line: gray;\n",
       "  /* Definition of color scheme for unfitted estimators */\n",
       "  --sklearn-color-unfitted-level-0: #fff5e6;\n",
       "  --sklearn-color-unfitted-level-1: #f6e4d2;\n",
       "  --sklearn-color-unfitted-level-2: #ffe0b3;\n",
       "  --sklearn-color-unfitted-level-3: chocolate;\n",
       "  /* Definition of color scheme for fitted estimators */\n",
       "  --sklearn-color-fitted-level-0: #f0f8ff;\n",
       "  --sklearn-color-fitted-level-1: #d4ebff;\n",
       "  --sklearn-color-fitted-level-2: #b3dbfd;\n",
       "  --sklearn-color-fitted-level-3: cornflowerblue;\n",
       "\n",
       "  /* Specific color for light theme */\n",
       "  --sklearn-color-text-on-default-background: var(--sg-text-color, var(--theme-code-foreground, var(--jp-content-font-color1, black)));\n",
       "  --sklearn-color-background: var(--sg-background-color, var(--theme-background, var(--jp-layout-color0, white)));\n",
       "  --sklearn-color-border-box: var(--sg-text-color, var(--theme-code-foreground, var(--jp-content-font-color1, black)));\n",
       "  --sklearn-color-icon: #696969;\n",
       "\n",
       "  @media (prefers-color-scheme: dark) {\n",
       "    /* Redefinition of color scheme for dark theme */\n",
       "    --sklearn-color-text-on-default-background: var(--sg-text-color, var(--theme-code-foreground, var(--jp-content-font-color1, white)));\n",
       "    --sklearn-color-background: var(--sg-background-color, var(--theme-background, var(--jp-layout-color0, #111)));\n",
       "    --sklearn-color-border-box: var(--sg-text-color, var(--theme-code-foreground, var(--jp-content-font-color1, white)));\n",
       "    --sklearn-color-icon: #878787;\n",
       "  }\n",
       "}\n",
       "\n",
       "#sk-container-id-3 {\n",
       "  color: var(--sklearn-color-text);\n",
       "}\n",
       "\n",
       "#sk-container-id-3 pre {\n",
       "  padding: 0;\n",
       "}\n",
       "\n",
       "#sk-container-id-3 input.sk-hidden--visually {\n",
       "  border: 0;\n",
       "  clip: rect(1px 1px 1px 1px);\n",
       "  clip: rect(1px, 1px, 1px, 1px);\n",
       "  height: 1px;\n",
       "  margin: -1px;\n",
       "  overflow: hidden;\n",
       "  padding: 0;\n",
       "  position: absolute;\n",
       "  width: 1px;\n",
       "}\n",
       "\n",
       "#sk-container-id-3 div.sk-dashed-wrapped {\n",
       "  border: 1px dashed var(--sklearn-color-line);\n",
       "  margin: 0 0.4em 0.5em 0.4em;\n",
       "  box-sizing: border-box;\n",
       "  padding-bottom: 0.4em;\n",
       "  background-color: var(--sklearn-color-background);\n",
       "}\n",
       "\n",
       "#sk-container-id-3 div.sk-container {\n",
       "  /* jupyter's `normalize.less` sets `[hidden] { display: none; }`\n",
       "     but bootstrap.min.css set `[hidden] { display: none !important; }`\n",
       "     so we also need the `!important` here to be able to override the\n",
       "     default hidden behavior on the sphinx rendered scikit-learn.org.\n",
       "     See: https://github.com/scikit-learn/scikit-learn/issues/21755 */\n",
       "  display: inline-block !important;\n",
       "  position: relative;\n",
       "}\n",
       "\n",
       "#sk-container-id-3 div.sk-text-repr-fallback {\n",
       "  display: none;\n",
       "}\n",
       "\n",
       "div.sk-parallel-item,\n",
       "div.sk-serial,\n",
       "div.sk-item {\n",
       "  /* draw centered vertical line to link estimators */\n",
       "  background-image: linear-gradient(var(--sklearn-color-text-on-default-background), var(--sklearn-color-text-on-default-background));\n",
       "  background-size: 2px 100%;\n",
       "  background-repeat: no-repeat;\n",
       "  background-position: center center;\n",
       "}\n",
       "\n",
       "/* Parallel-specific style estimator block */\n",
       "\n",
       "#sk-container-id-3 div.sk-parallel-item::after {\n",
       "  content: \"\";\n",
       "  width: 100%;\n",
       "  border-bottom: 2px solid var(--sklearn-color-text-on-default-background);\n",
       "  flex-grow: 1;\n",
       "}\n",
       "\n",
       "#sk-container-id-3 div.sk-parallel {\n",
       "  display: flex;\n",
       "  align-items: stretch;\n",
       "  justify-content: center;\n",
       "  background-color: var(--sklearn-color-background);\n",
       "  position: relative;\n",
       "}\n",
       "\n",
       "#sk-container-id-3 div.sk-parallel-item {\n",
       "  display: flex;\n",
       "  flex-direction: column;\n",
       "}\n",
       "\n",
       "#sk-container-id-3 div.sk-parallel-item:first-child::after {\n",
       "  align-self: flex-end;\n",
       "  width: 50%;\n",
       "}\n",
       "\n",
       "#sk-container-id-3 div.sk-parallel-item:last-child::after {\n",
       "  align-self: flex-start;\n",
       "  width: 50%;\n",
       "}\n",
       "\n",
       "#sk-container-id-3 div.sk-parallel-item:only-child::after {\n",
       "  width: 0;\n",
       "}\n",
       "\n",
       "/* Serial-specific style estimator block */\n",
       "\n",
       "#sk-container-id-3 div.sk-serial {\n",
       "  display: flex;\n",
       "  flex-direction: column;\n",
       "  align-items: center;\n",
       "  background-color: var(--sklearn-color-background);\n",
       "  padding-right: 1em;\n",
       "  padding-left: 1em;\n",
       "}\n",
       "\n",
       "\n",
       "/* Toggleable style: style used for estimator/Pipeline/ColumnTransformer box that is\n",
       "clickable and can be expanded/collapsed.\n",
       "- Pipeline and ColumnTransformer use this feature and define the default style\n",
       "- Estimators will overwrite some part of the style using the `sk-estimator` class\n",
       "*/\n",
       "\n",
       "/* Pipeline and ColumnTransformer style (default) */\n",
       "\n",
       "#sk-container-id-3 div.sk-toggleable {\n",
       "  /* Default theme specific background. It is overwritten whether we have a\n",
       "  specific estimator or a Pipeline/ColumnTransformer */\n",
       "  background-color: var(--sklearn-color-background);\n",
       "}\n",
       "\n",
       "/* Toggleable label */\n",
       "#sk-container-id-3 label.sk-toggleable__label {\n",
       "  cursor: pointer;\n",
       "  display: block;\n",
       "  width: 100%;\n",
       "  margin-bottom: 0;\n",
       "  padding: 0.5em;\n",
       "  box-sizing: border-box;\n",
       "  text-align: center;\n",
       "}\n",
       "\n",
       "#sk-container-id-3 label.sk-toggleable__label-arrow:before {\n",
       "  /* Arrow on the left of the label */\n",
       "  content: \"▸\";\n",
       "  float: left;\n",
       "  margin-right: 0.25em;\n",
       "  color: var(--sklearn-color-icon);\n",
       "}\n",
       "\n",
       "#sk-container-id-3 label.sk-toggleable__label-arrow:hover:before {\n",
       "  color: var(--sklearn-color-text);\n",
       "}\n",
       "\n",
       "/* Toggleable content - dropdown */\n",
       "\n",
       "#sk-container-id-3 div.sk-toggleable__content {\n",
       "  max-height: 0;\n",
       "  max-width: 0;\n",
       "  overflow: hidden;\n",
       "  text-align: left;\n",
       "  /* unfitted */\n",
       "  background-color: var(--sklearn-color-unfitted-level-0);\n",
       "}\n",
       "\n",
       "#sk-container-id-3 div.sk-toggleable__content.fitted {\n",
       "  /* fitted */\n",
       "  background-color: var(--sklearn-color-fitted-level-0);\n",
       "}\n",
       "\n",
       "#sk-container-id-3 div.sk-toggleable__content pre {\n",
       "  margin: 0.2em;\n",
       "  border-radius: 0.25em;\n",
       "  color: var(--sklearn-color-text);\n",
       "  /* unfitted */\n",
       "  background-color: var(--sklearn-color-unfitted-level-0);\n",
       "}\n",
       "\n",
       "#sk-container-id-3 div.sk-toggleable__content.fitted pre {\n",
       "  /* unfitted */\n",
       "  background-color: var(--sklearn-color-fitted-level-0);\n",
       "}\n",
       "\n",
       "#sk-container-id-3 input.sk-toggleable__control:checked~div.sk-toggleable__content {\n",
       "  /* Expand drop-down */\n",
       "  max-height: 200px;\n",
       "  max-width: 100%;\n",
       "  overflow: auto;\n",
       "}\n",
       "\n",
       "#sk-container-id-3 input.sk-toggleable__control:checked~label.sk-toggleable__label-arrow:before {\n",
       "  content: \"▾\";\n",
       "}\n",
       "\n",
       "/* Pipeline/ColumnTransformer-specific style */\n",
       "\n",
       "#sk-container-id-3 div.sk-label input.sk-toggleable__control:checked~label.sk-toggleable__label {\n",
       "  color: var(--sklearn-color-text);\n",
       "  background-color: var(--sklearn-color-unfitted-level-2);\n",
       "}\n",
       "\n",
       "#sk-container-id-3 div.sk-label.fitted input.sk-toggleable__control:checked~label.sk-toggleable__label {\n",
       "  background-color: var(--sklearn-color-fitted-level-2);\n",
       "}\n",
       "\n",
       "/* Estimator-specific style */\n",
       "\n",
       "/* Colorize estimator box */\n",
       "#sk-container-id-3 div.sk-estimator input.sk-toggleable__control:checked~label.sk-toggleable__label {\n",
       "  /* unfitted */\n",
       "  background-color: var(--sklearn-color-unfitted-level-2);\n",
       "}\n",
       "\n",
       "#sk-container-id-3 div.sk-estimator.fitted input.sk-toggleable__control:checked~label.sk-toggleable__label {\n",
       "  /* fitted */\n",
       "  background-color: var(--sklearn-color-fitted-level-2);\n",
       "}\n",
       "\n",
       "#sk-container-id-3 div.sk-label label.sk-toggleable__label,\n",
       "#sk-container-id-3 div.sk-label label {\n",
       "  /* The background is the default theme color */\n",
       "  color: var(--sklearn-color-text-on-default-background);\n",
       "}\n",
       "\n",
       "/* On hover, darken the color of the background */\n",
       "#sk-container-id-3 div.sk-label:hover label.sk-toggleable__label {\n",
       "  color: var(--sklearn-color-text);\n",
       "  background-color: var(--sklearn-color-unfitted-level-2);\n",
       "}\n",
       "\n",
       "/* Label box, darken color on hover, fitted */\n",
       "#sk-container-id-3 div.sk-label.fitted:hover label.sk-toggleable__label.fitted {\n",
       "  color: var(--sklearn-color-text);\n",
       "  background-color: var(--sklearn-color-fitted-level-2);\n",
       "}\n",
       "\n",
       "/* Estimator label */\n",
       "\n",
       "#sk-container-id-3 div.sk-label label {\n",
       "  font-family: monospace;\n",
       "  font-weight: bold;\n",
       "  display: inline-block;\n",
       "  line-height: 1.2em;\n",
       "}\n",
       "\n",
       "#sk-container-id-3 div.sk-label-container {\n",
       "  text-align: center;\n",
       "}\n",
       "\n",
       "/* Estimator-specific */\n",
       "#sk-container-id-3 div.sk-estimator {\n",
       "  font-family: monospace;\n",
       "  border: 1px dotted var(--sklearn-color-border-box);\n",
       "  border-radius: 0.25em;\n",
       "  box-sizing: border-box;\n",
       "  margin-bottom: 0.5em;\n",
       "  /* unfitted */\n",
       "  background-color: var(--sklearn-color-unfitted-level-0);\n",
       "}\n",
       "\n",
       "#sk-container-id-3 div.sk-estimator.fitted {\n",
       "  /* fitted */\n",
       "  background-color: var(--sklearn-color-fitted-level-0);\n",
       "}\n",
       "\n",
       "/* on hover */\n",
       "#sk-container-id-3 div.sk-estimator:hover {\n",
       "  /* unfitted */\n",
       "  background-color: var(--sklearn-color-unfitted-level-2);\n",
       "}\n",
       "\n",
       "#sk-container-id-3 div.sk-estimator.fitted:hover {\n",
       "  /* fitted */\n",
       "  background-color: var(--sklearn-color-fitted-level-2);\n",
       "}\n",
       "\n",
       "/* Specification for estimator info (e.g. \"i\" and \"?\") */\n",
       "\n",
       "/* Common style for \"i\" and \"?\" */\n",
       "\n",
       ".sk-estimator-doc-link,\n",
       "a:link.sk-estimator-doc-link,\n",
       "a:visited.sk-estimator-doc-link {\n",
       "  float: right;\n",
       "  font-size: smaller;\n",
       "  line-height: 1em;\n",
       "  font-family: monospace;\n",
       "  background-color: var(--sklearn-color-background);\n",
       "  border-radius: 1em;\n",
       "  height: 1em;\n",
       "  width: 1em;\n",
       "  text-decoration: none !important;\n",
       "  margin-left: 1ex;\n",
       "  /* unfitted */\n",
       "  border: var(--sklearn-color-unfitted-level-1) 1pt solid;\n",
       "  color: var(--sklearn-color-unfitted-level-1);\n",
       "}\n",
       "\n",
       ".sk-estimator-doc-link.fitted,\n",
       "a:link.sk-estimator-doc-link.fitted,\n",
       "a:visited.sk-estimator-doc-link.fitted {\n",
       "  /* fitted */\n",
       "  border: var(--sklearn-color-fitted-level-1) 1pt solid;\n",
       "  color: var(--sklearn-color-fitted-level-1);\n",
       "}\n",
       "\n",
       "/* On hover */\n",
       "div.sk-estimator:hover .sk-estimator-doc-link:hover,\n",
       ".sk-estimator-doc-link:hover,\n",
       "div.sk-label-container:hover .sk-estimator-doc-link:hover,\n",
       ".sk-estimator-doc-link:hover {\n",
       "  /* unfitted */\n",
       "  background-color: var(--sklearn-color-unfitted-level-3);\n",
       "  color: var(--sklearn-color-background);\n",
       "  text-decoration: none;\n",
       "}\n",
       "\n",
       "div.sk-estimator.fitted:hover .sk-estimator-doc-link.fitted:hover,\n",
       ".sk-estimator-doc-link.fitted:hover,\n",
       "div.sk-label-container:hover .sk-estimator-doc-link.fitted:hover,\n",
       ".sk-estimator-doc-link.fitted:hover {\n",
       "  /* fitted */\n",
       "  background-color: var(--sklearn-color-fitted-level-3);\n",
       "  color: var(--sklearn-color-background);\n",
       "  text-decoration: none;\n",
       "}\n",
       "\n",
       "/* Span, style for the box shown on hovering the info icon */\n",
       ".sk-estimator-doc-link span {\n",
       "  display: none;\n",
       "  z-index: 9999;\n",
       "  position: relative;\n",
       "  font-weight: normal;\n",
       "  right: .2ex;\n",
       "  padding: .5ex;\n",
       "  margin: .5ex;\n",
       "  width: min-content;\n",
       "  min-width: 20ex;\n",
       "  max-width: 50ex;\n",
       "  color: var(--sklearn-color-text);\n",
       "  box-shadow: 2pt 2pt 4pt #999;\n",
       "  /* unfitted */\n",
       "  background: var(--sklearn-color-unfitted-level-0);\n",
       "  border: .5pt solid var(--sklearn-color-unfitted-level-3);\n",
       "}\n",
       "\n",
       ".sk-estimator-doc-link.fitted span {\n",
       "  /* fitted */\n",
       "  background: var(--sklearn-color-fitted-level-0);\n",
       "  border: var(--sklearn-color-fitted-level-3);\n",
       "}\n",
       "\n",
       ".sk-estimator-doc-link:hover span {\n",
       "  display: block;\n",
       "}\n",
       "\n",
       "/* \"?\"-specific style due to the `<a>` HTML tag */\n",
       "\n",
       "#sk-container-id-3 a.estimator_doc_link {\n",
       "  float: right;\n",
       "  font-size: 1rem;\n",
       "  line-height: 1em;\n",
       "  font-family: monospace;\n",
       "  background-color: var(--sklearn-color-background);\n",
       "  border-radius: 1rem;\n",
       "  height: 1rem;\n",
       "  width: 1rem;\n",
       "  text-decoration: none;\n",
       "  /* unfitted */\n",
       "  color: var(--sklearn-color-unfitted-level-1);\n",
       "  border: var(--sklearn-color-unfitted-level-1) 1pt solid;\n",
       "}\n",
       "\n",
       "#sk-container-id-3 a.estimator_doc_link.fitted {\n",
       "  /* fitted */\n",
       "  border: var(--sklearn-color-fitted-level-1) 1pt solid;\n",
       "  color: var(--sklearn-color-fitted-level-1);\n",
       "}\n",
       "\n",
       "/* On hover */\n",
       "#sk-container-id-3 a.estimator_doc_link:hover {\n",
       "  /* unfitted */\n",
       "  background-color: var(--sklearn-color-unfitted-level-3);\n",
       "  color: var(--sklearn-color-background);\n",
       "  text-decoration: none;\n",
       "}\n",
       "\n",
       "#sk-container-id-3 a.estimator_doc_link.fitted:hover {\n",
       "  /* fitted */\n",
       "  background-color: var(--sklearn-color-fitted-level-3);\n",
       "}\n",
       "</style><div id=\"sk-container-id-3\" class=\"sk-top-container\"><div class=\"sk-text-repr-fallback\"><pre>LGBMRegressor(learning_rate=0.2, random_state=42)</pre><b>In a Jupyter environment, please rerun this cell to show the HTML representation or trust the notebook. <br />On GitHub, the HTML representation is unable to render, please try loading this page with nbviewer.org.</b></div><div class=\"sk-container\" hidden><div class=\"sk-item\"><div class=\"sk-estimator fitted sk-toggleable\"><input class=\"sk-toggleable__control sk-hidden--visually\" id=\"sk-estimator-id-9\" type=\"checkbox\" checked><label for=\"sk-estimator-id-9\" class=\"sk-toggleable__label fitted sk-toggleable__label-arrow fitted\">&nbsp;LGBMRegressor<span class=\"sk-estimator-doc-link fitted\">i<span>Fitted</span></span></label><div class=\"sk-toggleable__content fitted\"><pre>LGBMRegressor(learning_rate=0.2, random_state=42)</pre></div> </div></div></div></div>"
      ],
      "text/plain": [
       "LGBMRegressor(learning_rate=0.2, random_state=42)"
      ]
     },
     "execution_count": 37,
     "metadata": {},
     "output_type": "execute_result"
    }
   ],
   "source": [
    "grid_search_lg.best_estimator_"
   ]
  },
  {
   "cell_type": "code",
   "execution_count": 38,
   "metadata": {},
   "outputs": [],
   "source": [
    "#training time estimation\n",
    "\n",
    "start_time = time.time()\n",
    "model = grid_search_lg.best_estimator_\n",
    "\n",
    "model.fit(X_train_transformed, y_train)\n",
    "train_time = time.time()\n",
    "model.predict(X_train_transformed)\n",
    "pred_time = time.time()"
   ]
  },
  {
   "cell_type": "code",
   "execution_count": 39,
   "metadata": {},
   "outputs": [
    {
     "name": "stdout",
     "output_type": "stream",
     "text": [
      "Lightgbm training time: 0.08390659093856812 min\n",
      "\n",
      "Lightgbm prediction time: 0.020069320996602375 min\n"
     ]
    }
   ],
   "source": [
    "print(f'''Lightgbm training time: {(train_time - start_time)/60} min\\n\n",
    "Lightgbm prediction time: {(pred_time - train_time)/60} min''')"
   ]
  },
  {
   "cell_type": "markdown",
   "metadata": {},
   "source": [
    "### Random forest"
   ]
  },
  {
   "cell_type": "code",
   "execution_count": 40,
   "metadata": {},
   "outputs": [
    {
     "name": "stdout",
     "output_type": "stream",
     "text": [
      "Fitting 3 folds for each of 4 candidates, totalling 12 fits\n",
      "[CV] END .......................max_depth=3, n_estimators=50; total time=   3.1s\n",
      "[CV] END .......................max_depth=3, n_estimators=50; total time=   3.0s\n",
      "[CV] END .......................max_depth=3, n_estimators=50; total time=   3.1s\n",
      "[CV] END .......................max_depth=3, n_estimators=60; total time=   3.8s\n",
      "[CV] END .......................max_depth=3, n_estimators=60; total time=   3.9s\n",
      "[CV] END .......................max_depth=3, n_estimators=60; total time=   3.7s\n",
      "[CV] END .......................max_depth=5, n_estimators=50; total time=   5.2s\n",
      "[CV] END .......................max_depth=5, n_estimators=50; total time=   5.1s\n",
      "[CV] END .......................max_depth=5, n_estimators=50; total time=   4.8s\n",
      "[CV] END .......................max_depth=5, n_estimators=60; total time=   5.7s\n",
      "[CV] END .......................max_depth=5, n_estimators=60; total time=   5.8s\n",
      "[CV] END .......................max_depth=5, n_estimators=60; total time=   5.7s\n"
     ]
    },
    {
     "data": {
      "text/html": [
       "<style>#sk-container-id-4 {\n",
       "  /* Definition of color scheme common for light and dark mode */\n",
       "  --sklearn-color-text: black;\n",
       "  --sklearn-color-line: gray;\n",
       "  /* Definition of color scheme for unfitted estimators */\n",
       "  --sklearn-color-unfitted-level-0: #fff5e6;\n",
       "  --sklearn-color-unfitted-level-1: #f6e4d2;\n",
       "  --sklearn-color-unfitted-level-2: #ffe0b3;\n",
       "  --sklearn-color-unfitted-level-3: chocolate;\n",
       "  /* Definition of color scheme for fitted estimators */\n",
       "  --sklearn-color-fitted-level-0: #f0f8ff;\n",
       "  --sklearn-color-fitted-level-1: #d4ebff;\n",
       "  --sklearn-color-fitted-level-2: #b3dbfd;\n",
       "  --sklearn-color-fitted-level-3: cornflowerblue;\n",
       "\n",
       "  /* Specific color for light theme */\n",
       "  --sklearn-color-text-on-default-background: var(--sg-text-color, var(--theme-code-foreground, var(--jp-content-font-color1, black)));\n",
       "  --sklearn-color-background: var(--sg-background-color, var(--theme-background, var(--jp-layout-color0, white)));\n",
       "  --sklearn-color-border-box: var(--sg-text-color, var(--theme-code-foreground, var(--jp-content-font-color1, black)));\n",
       "  --sklearn-color-icon: #696969;\n",
       "\n",
       "  @media (prefers-color-scheme: dark) {\n",
       "    /* Redefinition of color scheme for dark theme */\n",
       "    --sklearn-color-text-on-default-background: var(--sg-text-color, var(--theme-code-foreground, var(--jp-content-font-color1, white)));\n",
       "    --sklearn-color-background: var(--sg-background-color, var(--theme-background, var(--jp-layout-color0, #111)));\n",
       "    --sklearn-color-border-box: var(--sg-text-color, var(--theme-code-foreground, var(--jp-content-font-color1, white)));\n",
       "    --sklearn-color-icon: #878787;\n",
       "  }\n",
       "}\n",
       "\n",
       "#sk-container-id-4 {\n",
       "  color: var(--sklearn-color-text);\n",
       "}\n",
       "\n",
       "#sk-container-id-4 pre {\n",
       "  padding: 0;\n",
       "}\n",
       "\n",
       "#sk-container-id-4 input.sk-hidden--visually {\n",
       "  border: 0;\n",
       "  clip: rect(1px 1px 1px 1px);\n",
       "  clip: rect(1px, 1px, 1px, 1px);\n",
       "  height: 1px;\n",
       "  margin: -1px;\n",
       "  overflow: hidden;\n",
       "  padding: 0;\n",
       "  position: absolute;\n",
       "  width: 1px;\n",
       "}\n",
       "\n",
       "#sk-container-id-4 div.sk-dashed-wrapped {\n",
       "  border: 1px dashed var(--sklearn-color-line);\n",
       "  margin: 0 0.4em 0.5em 0.4em;\n",
       "  box-sizing: border-box;\n",
       "  padding-bottom: 0.4em;\n",
       "  background-color: var(--sklearn-color-background);\n",
       "}\n",
       "\n",
       "#sk-container-id-4 div.sk-container {\n",
       "  /* jupyter's `normalize.less` sets `[hidden] { display: none; }`\n",
       "     but bootstrap.min.css set `[hidden] { display: none !important; }`\n",
       "     so we also need the `!important` here to be able to override the\n",
       "     default hidden behavior on the sphinx rendered scikit-learn.org.\n",
       "     See: https://github.com/scikit-learn/scikit-learn/issues/21755 */\n",
       "  display: inline-block !important;\n",
       "  position: relative;\n",
       "}\n",
       "\n",
       "#sk-container-id-4 div.sk-text-repr-fallback {\n",
       "  display: none;\n",
       "}\n",
       "\n",
       "div.sk-parallel-item,\n",
       "div.sk-serial,\n",
       "div.sk-item {\n",
       "  /* draw centered vertical line to link estimators */\n",
       "  background-image: linear-gradient(var(--sklearn-color-text-on-default-background), var(--sklearn-color-text-on-default-background));\n",
       "  background-size: 2px 100%;\n",
       "  background-repeat: no-repeat;\n",
       "  background-position: center center;\n",
       "}\n",
       "\n",
       "/* Parallel-specific style estimator block */\n",
       "\n",
       "#sk-container-id-4 div.sk-parallel-item::after {\n",
       "  content: \"\";\n",
       "  width: 100%;\n",
       "  border-bottom: 2px solid var(--sklearn-color-text-on-default-background);\n",
       "  flex-grow: 1;\n",
       "}\n",
       "\n",
       "#sk-container-id-4 div.sk-parallel {\n",
       "  display: flex;\n",
       "  align-items: stretch;\n",
       "  justify-content: center;\n",
       "  background-color: var(--sklearn-color-background);\n",
       "  position: relative;\n",
       "}\n",
       "\n",
       "#sk-container-id-4 div.sk-parallel-item {\n",
       "  display: flex;\n",
       "  flex-direction: column;\n",
       "}\n",
       "\n",
       "#sk-container-id-4 div.sk-parallel-item:first-child::after {\n",
       "  align-self: flex-end;\n",
       "  width: 50%;\n",
       "}\n",
       "\n",
       "#sk-container-id-4 div.sk-parallel-item:last-child::after {\n",
       "  align-self: flex-start;\n",
       "  width: 50%;\n",
       "}\n",
       "\n",
       "#sk-container-id-4 div.sk-parallel-item:only-child::after {\n",
       "  width: 0;\n",
       "}\n",
       "\n",
       "/* Serial-specific style estimator block */\n",
       "\n",
       "#sk-container-id-4 div.sk-serial {\n",
       "  display: flex;\n",
       "  flex-direction: column;\n",
       "  align-items: center;\n",
       "  background-color: var(--sklearn-color-background);\n",
       "  padding-right: 1em;\n",
       "  padding-left: 1em;\n",
       "}\n",
       "\n",
       "\n",
       "/* Toggleable style: style used for estimator/Pipeline/ColumnTransformer box that is\n",
       "clickable and can be expanded/collapsed.\n",
       "- Pipeline and ColumnTransformer use this feature and define the default style\n",
       "- Estimators will overwrite some part of the style using the `sk-estimator` class\n",
       "*/\n",
       "\n",
       "/* Pipeline and ColumnTransformer style (default) */\n",
       "\n",
       "#sk-container-id-4 div.sk-toggleable {\n",
       "  /* Default theme specific background. It is overwritten whether we have a\n",
       "  specific estimator or a Pipeline/ColumnTransformer */\n",
       "  background-color: var(--sklearn-color-background);\n",
       "}\n",
       "\n",
       "/* Toggleable label */\n",
       "#sk-container-id-4 label.sk-toggleable__label {\n",
       "  cursor: pointer;\n",
       "  display: block;\n",
       "  width: 100%;\n",
       "  margin-bottom: 0;\n",
       "  padding: 0.5em;\n",
       "  box-sizing: border-box;\n",
       "  text-align: center;\n",
       "}\n",
       "\n",
       "#sk-container-id-4 label.sk-toggleable__label-arrow:before {\n",
       "  /* Arrow on the left of the label */\n",
       "  content: \"▸\";\n",
       "  float: left;\n",
       "  margin-right: 0.25em;\n",
       "  color: var(--sklearn-color-icon);\n",
       "}\n",
       "\n",
       "#sk-container-id-4 label.sk-toggleable__label-arrow:hover:before {\n",
       "  color: var(--sklearn-color-text);\n",
       "}\n",
       "\n",
       "/* Toggleable content - dropdown */\n",
       "\n",
       "#sk-container-id-4 div.sk-toggleable__content {\n",
       "  max-height: 0;\n",
       "  max-width: 0;\n",
       "  overflow: hidden;\n",
       "  text-align: left;\n",
       "  /* unfitted */\n",
       "  background-color: var(--sklearn-color-unfitted-level-0);\n",
       "}\n",
       "\n",
       "#sk-container-id-4 div.sk-toggleable__content.fitted {\n",
       "  /* fitted */\n",
       "  background-color: var(--sklearn-color-fitted-level-0);\n",
       "}\n",
       "\n",
       "#sk-container-id-4 div.sk-toggleable__content pre {\n",
       "  margin: 0.2em;\n",
       "  border-radius: 0.25em;\n",
       "  color: var(--sklearn-color-text);\n",
       "  /* unfitted */\n",
       "  background-color: var(--sklearn-color-unfitted-level-0);\n",
       "}\n",
       "\n",
       "#sk-container-id-4 div.sk-toggleable__content.fitted pre {\n",
       "  /* unfitted */\n",
       "  background-color: var(--sklearn-color-fitted-level-0);\n",
       "}\n",
       "\n",
       "#sk-container-id-4 input.sk-toggleable__control:checked~div.sk-toggleable__content {\n",
       "  /* Expand drop-down */\n",
       "  max-height: 200px;\n",
       "  max-width: 100%;\n",
       "  overflow: auto;\n",
       "}\n",
       "\n",
       "#sk-container-id-4 input.sk-toggleable__control:checked~label.sk-toggleable__label-arrow:before {\n",
       "  content: \"▾\";\n",
       "}\n",
       "\n",
       "/* Pipeline/ColumnTransformer-specific style */\n",
       "\n",
       "#sk-container-id-4 div.sk-label input.sk-toggleable__control:checked~label.sk-toggleable__label {\n",
       "  color: var(--sklearn-color-text);\n",
       "  background-color: var(--sklearn-color-unfitted-level-2);\n",
       "}\n",
       "\n",
       "#sk-container-id-4 div.sk-label.fitted input.sk-toggleable__control:checked~label.sk-toggleable__label {\n",
       "  background-color: var(--sklearn-color-fitted-level-2);\n",
       "}\n",
       "\n",
       "/* Estimator-specific style */\n",
       "\n",
       "/* Colorize estimator box */\n",
       "#sk-container-id-4 div.sk-estimator input.sk-toggleable__control:checked~label.sk-toggleable__label {\n",
       "  /* unfitted */\n",
       "  background-color: var(--sklearn-color-unfitted-level-2);\n",
       "}\n",
       "\n",
       "#sk-container-id-4 div.sk-estimator.fitted input.sk-toggleable__control:checked~label.sk-toggleable__label {\n",
       "  /* fitted */\n",
       "  background-color: var(--sklearn-color-fitted-level-2);\n",
       "}\n",
       "\n",
       "#sk-container-id-4 div.sk-label label.sk-toggleable__label,\n",
       "#sk-container-id-4 div.sk-label label {\n",
       "  /* The background is the default theme color */\n",
       "  color: var(--sklearn-color-text-on-default-background);\n",
       "}\n",
       "\n",
       "/* On hover, darken the color of the background */\n",
       "#sk-container-id-4 div.sk-label:hover label.sk-toggleable__label {\n",
       "  color: var(--sklearn-color-text);\n",
       "  background-color: var(--sklearn-color-unfitted-level-2);\n",
       "}\n",
       "\n",
       "/* Label box, darken color on hover, fitted */\n",
       "#sk-container-id-4 div.sk-label.fitted:hover label.sk-toggleable__label.fitted {\n",
       "  color: var(--sklearn-color-text);\n",
       "  background-color: var(--sklearn-color-fitted-level-2);\n",
       "}\n",
       "\n",
       "/* Estimator label */\n",
       "\n",
       "#sk-container-id-4 div.sk-label label {\n",
       "  font-family: monospace;\n",
       "  font-weight: bold;\n",
       "  display: inline-block;\n",
       "  line-height: 1.2em;\n",
       "}\n",
       "\n",
       "#sk-container-id-4 div.sk-label-container {\n",
       "  text-align: center;\n",
       "}\n",
       "\n",
       "/* Estimator-specific */\n",
       "#sk-container-id-4 div.sk-estimator {\n",
       "  font-family: monospace;\n",
       "  border: 1px dotted var(--sklearn-color-border-box);\n",
       "  border-radius: 0.25em;\n",
       "  box-sizing: border-box;\n",
       "  margin-bottom: 0.5em;\n",
       "  /* unfitted */\n",
       "  background-color: var(--sklearn-color-unfitted-level-0);\n",
       "}\n",
       "\n",
       "#sk-container-id-4 div.sk-estimator.fitted {\n",
       "  /* fitted */\n",
       "  background-color: var(--sklearn-color-fitted-level-0);\n",
       "}\n",
       "\n",
       "/* on hover */\n",
       "#sk-container-id-4 div.sk-estimator:hover {\n",
       "  /* unfitted */\n",
       "  background-color: var(--sklearn-color-unfitted-level-2);\n",
       "}\n",
       "\n",
       "#sk-container-id-4 div.sk-estimator.fitted:hover {\n",
       "  /* fitted */\n",
       "  background-color: var(--sklearn-color-fitted-level-2);\n",
       "}\n",
       "\n",
       "/* Specification for estimator info (e.g. \"i\" and \"?\") */\n",
       "\n",
       "/* Common style for \"i\" and \"?\" */\n",
       "\n",
       ".sk-estimator-doc-link,\n",
       "a:link.sk-estimator-doc-link,\n",
       "a:visited.sk-estimator-doc-link {\n",
       "  float: right;\n",
       "  font-size: smaller;\n",
       "  line-height: 1em;\n",
       "  font-family: monospace;\n",
       "  background-color: var(--sklearn-color-background);\n",
       "  border-radius: 1em;\n",
       "  height: 1em;\n",
       "  width: 1em;\n",
       "  text-decoration: none !important;\n",
       "  margin-left: 1ex;\n",
       "  /* unfitted */\n",
       "  border: var(--sklearn-color-unfitted-level-1) 1pt solid;\n",
       "  color: var(--sklearn-color-unfitted-level-1);\n",
       "}\n",
       "\n",
       ".sk-estimator-doc-link.fitted,\n",
       "a:link.sk-estimator-doc-link.fitted,\n",
       "a:visited.sk-estimator-doc-link.fitted {\n",
       "  /* fitted */\n",
       "  border: var(--sklearn-color-fitted-level-1) 1pt solid;\n",
       "  color: var(--sklearn-color-fitted-level-1);\n",
       "}\n",
       "\n",
       "/* On hover */\n",
       "div.sk-estimator:hover .sk-estimator-doc-link:hover,\n",
       ".sk-estimator-doc-link:hover,\n",
       "div.sk-label-container:hover .sk-estimator-doc-link:hover,\n",
       ".sk-estimator-doc-link:hover {\n",
       "  /* unfitted */\n",
       "  background-color: var(--sklearn-color-unfitted-level-3);\n",
       "  color: var(--sklearn-color-background);\n",
       "  text-decoration: none;\n",
       "}\n",
       "\n",
       "div.sk-estimator.fitted:hover .sk-estimator-doc-link.fitted:hover,\n",
       ".sk-estimator-doc-link.fitted:hover,\n",
       "div.sk-label-container:hover .sk-estimator-doc-link.fitted:hover,\n",
       ".sk-estimator-doc-link.fitted:hover {\n",
       "  /* fitted */\n",
       "  background-color: var(--sklearn-color-fitted-level-3);\n",
       "  color: var(--sklearn-color-background);\n",
       "  text-decoration: none;\n",
       "}\n",
       "\n",
       "/* Span, style for the box shown on hovering the info icon */\n",
       ".sk-estimator-doc-link span {\n",
       "  display: none;\n",
       "  z-index: 9999;\n",
       "  position: relative;\n",
       "  font-weight: normal;\n",
       "  right: .2ex;\n",
       "  padding: .5ex;\n",
       "  margin: .5ex;\n",
       "  width: min-content;\n",
       "  min-width: 20ex;\n",
       "  max-width: 50ex;\n",
       "  color: var(--sklearn-color-text);\n",
       "  box-shadow: 2pt 2pt 4pt #999;\n",
       "  /* unfitted */\n",
       "  background: var(--sklearn-color-unfitted-level-0);\n",
       "  border: .5pt solid var(--sklearn-color-unfitted-level-3);\n",
       "}\n",
       "\n",
       ".sk-estimator-doc-link.fitted span {\n",
       "  /* fitted */\n",
       "  background: var(--sklearn-color-fitted-level-0);\n",
       "  border: var(--sklearn-color-fitted-level-3);\n",
       "}\n",
       "\n",
       ".sk-estimator-doc-link:hover span {\n",
       "  display: block;\n",
       "}\n",
       "\n",
       "/* \"?\"-specific style due to the `<a>` HTML tag */\n",
       "\n",
       "#sk-container-id-4 a.estimator_doc_link {\n",
       "  float: right;\n",
       "  font-size: 1rem;\n",
       "  line-height: 1em;\n",
       "  font-family: monospace;\n",
       "  background-color: var(--sklearn-color-background);\n",
       "  border-radius: 1rem;\n",
       "  height: 1rem;\n",
       "  width: 1rem;\n",
       "  text-decoration: none;\n",
       "  /* unfitted */\n",
       "  color: var(--sklearn-color-unfitted-level-1);\n",
       "  border: var(--sklearn-color-unfitted-level-1) 1pt solid;\n",
       "}\n",
       "\n",
       "#sk-container-id-4 a.estimator_doc_link.fitted {\n",
       "  /* fitted */\n",
       "  border: var(--sklearn-color-fitted-level-1) 1pt solid;\n",
       "  color: var(--sklearn-color-fitted-level-1);\n",
       "}\n",
       "\n",
       "/* On hover */\n",
       "#sk-container-id-4 a.estimator_doc_link:hover {\n",
       "  /* unfitted */\n",
       "  background-color: var(--sklearn-color-unfitted-level-3);\n",
       "  color: var(--sklearn-color-background);\n",
       "  text-decoration: none;\n",
       "}\n",
       "\n",
       "#sk-container-id-4 a.estimator_doc_link.fitted:hover {\n",
       "  /* fitted */\n",
       "  background-color: var(--sklearn-color-fitted-level-3);\n",
       "}\n",
       "</style><div id=\"sk-container-id-4\" class=\"sk-top-container\"><div class=\"sk-text-repr-fallback\"><pre>GridSearchCV(cv=3, estimator=RandomForestRegressor(random_state=42), n_jobs=-1,\n",
       "             param_grid={&#x27;max_depth&#x27;: [3, 5], &#x27;n_estimators&#x27;: [50, 60]},\n",
       "             scoring=&#x27;neg_mean_squared_error&#x27;, verbose=2)</pre><b>In a Jupyter environment, please rerun this cell to show the HTML representation or trust the notebook. <br />On GitHub, the HTML representation is unable to render, please try loading this page with nbviewer.org.</b></div><div class=\"sk-container\" hidden><div class=\"sk-item sk-dashed-wrapped\"><div class=\"sk-label-container\"><div class=\"sk-label fitted sk-toggleable\"><input class=\"sk-toggleable__control sk-hidden--visually\" id=\"sk-estimator-id-10\" type=\"checkbox\" ><label for=\"sk-estimator-id-10\" class=\"sk-toggleable__label fitted sk-toggleable__label-arrow fitted\">&nbsp;&nbsp;GridSearchCV<a class=\"sk-estimator-doc-link fitted\" rel=\"noreferrer\" target=\"_blank\" href=\"https://scikit-learn.org/1.5/modules/generated/sklearn.model_selection.GridSearchCV.html\">?<span>Documentation for GridSearchCV</span></a><span class=\"sk-estimator-doc-link fitted\">i<span>Fitted</span></span></label><div class=\"sk-toggleable__content fitted\"><pre>GridSearchCV(cv=3, estimator=RandomForestRegressor(random_state=42), n_jobs=-1,\n",
       "             param_grid={&#x27;max_depth&#x27;: [3, 5], &#x27;n_estimators&#x27;: [50, 60]},\n",
       "             scoring=&#x27;neg_mean_squared_error&#x27;, verbose=2)</pre></div> </div></div><div class=\"sk-parallel\"><div class=\"sk-parallel-item\"><div class=\"sk-item\"><div class=\"sk-label-container\"><div class=\"sk-label fitted sk-toggleable\"><input class=\"sk-toggleable__control sk-hidden--visually\" id=\"sk-estimator-id-11\" type=\"checkbox\" ><label for=\"sk-estimator-id-11\" class=\"sk-toggleable__label fitted sk-toggleable__label-arrow fitted\">best_estimator_: RandomForestRegressor</label><div class=\"sk-toggleable__content fitted\"><pre>RandomForestRegressor(max_depth=5, n_estimators=50, random_state=42)</pre></div> </div></div><div class=\"sk-serial\"><div class=\"sk-item\"><div class=\"sk-estimator fitted sk-toggleable\"><input class=\"sk-toggleable__control sk-hidden--visually\" id=\"sk-estimator-id-12\" type=\"checkbox\" ><label for=\"sk-estimator-id-12\" class=\"sk-toggleable__label fitted sk-toggleable__label-arrow fitted\">&nbsp;RandomForestRegressor<a class=\"sk-estimator-doc-link fitted\" rel=\"noreferrer\" target=\"_blank\" href=\"https://scikit-learn.org/1.5/modules/generated/sklearn.ensemble.RandomForestRegressor.html\">?<span>Documentation for RandomForestRegressor</span></a></label><div class=\"sk-toggleable__content fitted\"><pre>RandomForestRegressor(max_depth=5, n_estimators=50, random_state=42)</pre></div> </div></div></div></div></div></div></div></div></div>"
      ],
      "text/plain": [
       "GridSearchCV(cv=3, estimator=RandomForestRegressor(random_state=42), n_jobs=-1,\n",
       "             param_grid={'max_depth': [3, 5], 'n_estimators': [50, 60]},\n",
       "             scoring='neg_mean_squared_error', verbose=2)"
      ]
     },
     "execution_count": 40,
     "metadata": {},
     "output_type": "execute_result"
    }
   ],
   "source": [
    "model = RandomForestRegressor(random_state = 42)\n",
    "\n",
    "\n",
    "param_grid = {\n",
    "    'max_depth': [3, 5],\n",
    "    'n_estimators': [50, 60],\n",
    "}\n",
    "\n",
    "grid_search_rf = GridSearchCV(\n",
    "    estimator=model, \n",
    "    param_grid=param_grid, \n",
    "    scoring='neg_mean_squared_error', \n",
    "    cv=3, \n",
    "    verbose=2, \n",
    "    n_jobs=-1\n",
    ")\n",
    "\n",
    "grid_search_rf.fit(X_train_transformed, y_train)"
   ]
  },
  {
   "cell_type": "code",
   "execution_count": 41,
   "metadata": {},
   "outputs": [
    {
     "name": "stdout",
     "output_type": "stream",
     "text": [
      "Random Forest best rmse: 2291.1046085539992\n"
     ]
    }
   ],
   "source": [
    "print(f'Random Forest best rmse: {np.sqrt(-1*grid_search_rf.best_score_)}')"
   ]
  },
  {
   "cell_type": "code",
   "execution_count": 42,
   "metadata": {},
   "outputs": [],
   "source": [
    "#training time estimatioin\n",
    "\n",
    "start_time = time.time()\n",
    "model = grid_search_rf.best_estimator_\n",
    "\n",
    "model.fit(X_train_transformed, y_train)\n",
    "train_time = time.time()\n",
    "model.predict(X_train_transformed)\n",
    "pred_time = time.time()"
   ]
  },
  {
   "cell_type": "code",
   "execution_count": 43,
   "metadata": {},
   "outputs": [
    {
     "name": "stdout",
     "output_type": "stream",
     "text": [
      "Random Forest training time: 0.12346815665562948 min\n",
      "\n",
      "Random Forest prediction time: 0.005691047509511312 min\n"
     ]
    }
   ],
   "source": [
    "print(f'''Random Forest training time: {(train_time - start_time)/60} min\\n\n",
    "Random Forest prediction time: {(pred_time - train_time)/60} min''')"
   ]
  },
  {
   "cell_type": "markdown",
   "metadata": {},
   "source": [
    "## Model analysis"
   ]
  },
  {
   "cell_type": "markdown",
   "metadata": {},
   "source": [
    "The random forest model demonstrated significantly better prediction time (less than a minute).\n",
    "\n",
    "In terms of performance and training time, LGBM clearly wins — we'll take this model as the best. Let's obtain the values on the test set:"
   ]
  },
  {
   "cell_type": "code",
   "execution_count": 44,
   "metadata": {},
   "outputs": [
    {
     "name": "stdout",
     "output_type": "stream",
     "text": [
      "rmse on test samples for the best estimator: 1535.4483786537394\n"
     ]
    }
   ],
   "source": [
    "y_pred = grid_search_lg.predict(X_test_transformed)\n",
    "\n",
    "print(f'rmse on test samples for the best estimator: {np.sqrt(mean_squared_error(y_test, y_pred))}')"
   ]
  },
  {
   "cell_type": "markdown",
   "metadata": {},
   "source": [
    "The necessary condition (RMSE < 2500) is also met on the test set."
   ]
  },
  {
   "cell_type": "markdown",
   "metadata": {},
   "source": [
    "Let's compare the predictions of the best model with those of the DummyRegressor."
   ]
  },
  {
   "cell_type": "code",
   "execution_count": 45,
   "metadata": {},
   "outputs": [],
   "source": [
    "dummy_regr = DummyRegressor(strategy=\"mean\")\n",
    "dummy_regr.fit(X_train_transformed, y_train)\n",
    "y_pred_dummy = dummy_regr.predict(X_test_transformed)"
   ]
  },
  {
   "cell_type": "code",
   "execution_count": 46,
   "metadata": {},
   "outputs": [
    {
     "name": "stdout",
     "output_type": "stream",
     "text": [
      "rmse on test samples for the dummy estimator: 4539.8092458149795\n"
     ]
    }
   ],
   "source": [
    "print(f'rmse on test samples for the dummy estimator: {np.sqrt(mean_squared_error(y_test, y_pred_dummy))}')"
   ]
  },
  {
   "cell_type": "markdown",
   "metadata": {},
   "source": [
    "Conclusions: The following steps were taken:\n",
    "\n",
    "The input data was analyzed — a sanity check was conducted, missing values were filled, and columns that do not contribute meaningfully to the task were filtered out.\n",
    "\n",
    "Two car price prediction models were built. Among them, the best one was chosen based on RMSE and prediction time.\n",
    "\n",
    "The quality of the model was checked on test data. The RMSE metric on the test data does not exceed the specified threshold.\n",
    "\n",
    "A comparison was made between the best model and the DummyRegressor. As a result, we found that our model's performance on the test set was better than that of the constant model."
   ]
  },
  {
   "cell_type": "code",
   "execution_count": null,
   "metadata": {},
   "outputs": [],
   "source": []
  }
 ],
 "metadata": {
  "ExecuteTimeLog": [
   {
    "duration": 44,
    "start_time": "2024-06-14T15:01:15.486Z"
   },
   {
    "duration": 418,
    "start_time": "2024-06-14T15:01:25.893Z"
   },
   {
    "duration": 980,
    "start_time": "2024-06-14T15:01:27.532Z"
   },
   {
    "duration": 27,
    "start_time": "2024-06-14T15:01:33.302Z"
   },
   {
    "duration": 11,
    "start_time": "2024-06-14T15:03:07.593Z"
   },
   {
    "duration": 3,
    "start_time": "2024-06-14T15:09:12.730Z"
   },
   {
    "duration": 54,
    "start_time": "2024-06-14T15:10:41.139Z"
   },
   {
    "duration": 26,
    "start_time": "2024-06-14T15:10:49.099Z"
   },
   {
    "duration": 3,
    "start_time": "2024-06-14T15:10:52.396Z"
   },
   {
    "duration": 6,
    "start_time": "2024-06-14T15:11:18.247Z"
   },
   {
    "duration": 809,
    "start_time": "2024-06-14T15:11:28.183Z"
   },
   {
    "duration": 656,
    "start_time": "2024-06-14T15:11:31.017Z"
   },
   {
    "duration": 2,
    "start_time": "2024-06-14T15:11:46.781Z"
   },
   {
    "duration": 1066,
    "start_time": "2024-06-14T15:11:51.886Z"
   },
   {
    "duration": 3,
    "start_time": "2024-06-14T15:12:22.637Z"
   },
   {
    "duration": 2,
    "start_time": "2024-06-14T15:13:54.544Z"
   },
   {
    "duration": 465,
    "start_time": "2024-06-14T15:14:40.275Z"
   },
   {
    "duration": 820,
    "start_time": "2024-06-14T15:18:51.888Z"
   },
   {
    "duration": 911,
    "start_time": "2024-06-14T15:19:09.242Z"
   },
   {
    "duration": 894,
    "start_time": "2024-06-14T15:19:59.215Z"
   },
   {
    "duration": 3,
    "start_time": "2024-06-14T15:21:12.029Z"
   },
   {
    "duration": 8,
    "start_time": "2024-06-14T15:22:11.253Z"
   },
   {
    "duration": 8,
    "start_time": "2024-06-14T15:23:09.866Z"
   },
   {
    "duration": 740,
    "start_time": "2024-06-14T15:23:16.235Z"
   },
   {
    "duration": 713,
    "start_time": "2024-06-14T15:23:46.485Z"
   },
   {
    "duration": 667,
    "start_time": "2024-06-14T15:23:59.879Z"
   },
   {
    "duration": 726,
    "start_time": "2024-06-14T15:24:22.515Z"
   },
   {
    "duration": 676,
    "start_time": "2024-06-14T15:24:44.549Z"
   },
   {
    "duration": 25,
    "start_time": "2024-06-14T15:26:43.718Z"
   },
   {
    "duration": 35,
    "start_time": "2024-06-14T15:28:43.430Z"
   },
   {
    "duration": 4,
    "start_time": "2024-06-14T15:28:49.822Z"
   },
   {
    "duration": 198,
    "start_time": "2024-06-14T15:29:59.786Z"
   },
   {
    "duration": 39,
    "start_time": "2024-06-14T15:30:16.901Z"
   },
   {
    "duration": 20,
    "start_time": "2024-06-14T15:30:34.833Z"
   },
   {
    "duration": 30,
    "start_time": "2024-06-14T15:30:42.505Z"
   },
   {
    "duration": 19,
    "start_time": "2024-06-14T15:30:55.112Z"
   },
   {
    "duration": 25,
    "start_time": "2024-06-14T15:31:01.664Z"
   },
   {
    "duration": 425,
    "start_time": "2024-06-14T15:31:24.757Z"
   },
   {
    "duration": 3,
    "start_time": "2024-06-14T15:31:37.021Z"
   },
   {
    "duration": 7,
    "start_time": "2024-06-14T15:31:46.177Z"
   },
   {
    "duration": 674,
    "start_time": "2024-06-14T15:32:13.830Z"
   },
   {
    "duration": 39,
    "start_time": "2024-06-14T15:32:16.550Z"
   },
   {
    "duration": 3,
    "start_time": "2024-06-14T15:32:23.303Z"
   },
   {
    "duration": 1138,
    "start_time": "2024-06-14T15:32:25.466Z"
   },
   {
    "duration": 717,
    "start_time": "2024-06-14T15:33:09.295Z"
   },
   {
    "duration": 11790,
    "start_time": "2024-06-14T15:37:18.875Z"
   },
   {
    "duration": 27,
    "start_time": "2024-06-14T15:37:46.221Z"
   },
   {
    "duration": 142,
    "start_time": "2024-06-14T15:38:43.046Z"
   },
   {
    "duration": 32,
    "start_time": "2024-06-14T15:39:14.794Z"
   },
   {
    "duration": 8,
    "start_time": "2024-06-14T15:39:30.799Z"
   },
   {
    "duration": 295,
    "start_time": "2024-06-14T15:39:34.125Z"
   },
   {
    "duration": 104,
    "start_time": "2024-06-14T15:39:40.952Z"
   },
   {
    "duration": 140,
    "start_time": "2024-06-14T15:39:47.997Z"
   },
   {
    "duration": 16,
    "start_time": "2024-06-14T15:40:59.471Z"
   },
   {
    "duration": 74,
    "start_time": "2024-06-14T15:41:23.786Z"
   },
   {
    "duration": 93,
    "start_time": "2024-06-14T15:44:35.381Z"
   },
   {
    "duration": 94,
    "start_time": "2024-06-14T15:45:19.695Z"
   },
   {
    "duration": 24,
    "start_time": "2024-06-14T15:46:38.827Z"
   },
   {
    "duration": 31,
    "start_time": "2024-06-14T15:46:39.486Z"
   },
   {
    "duration": 73,
    "start_time": "2024-06-14T15:46:45.500Z"
   },
   {
    "duration": 20,
    "start_time": "2024-06-14T15:47:13.017Z"
   },
   {
    "duration": 68,
    "start_time": "2024-06-14T15:47:13.765Z"
   },
   {
    "duration": 2,
    "start_time": "2024-06-14T15:48:09.707Z"
   },
   {
    "duration": 136,
    "start_time": "2024-06-14T15:48:10.257Z"
   },
   {
    "duration": 176,
    "start_time": "2024-06-14T15:48:25.701Z"
   },
   {
    "duration": 67,
    "start_time": "2024-06-14T15:49:43.529Z"
   },
   {
    "duration": 773,
    "start_time": "2024-06-14T15:58:29.149Z"
   },
   {
    "duration": 6,
    "start_time": "2024-06-14T15:58:43.738Z"
   },
   {
    "duration": 7,
    "start_time": "2024-06-14T15:58:52.694Z"
   },
   {
    "duration": 4,
    "start_time": "2024-06-14T15:58:57.417Z"
   },
   {
    "duration": 9,
    "start_time": "2024-06-14T16:00:13.533Z"
   },
   {
    "duration": 647,
    "start_time": "2024-06-14T16:00:16.697Z"
   },
   {
    "duration": 31,
    "start_time": "2024-06-14T16:00:19.639Z"
   },
   {
    "duration": 2,
    "start_time": "2024-06-14T16:00:20.822Z"
   },
   {
    "duration": 1384,
    "start_time": "2024-06-14T16:00:21.805Z"
   },
   {
    "duration": 651,
    "start_time": "2024-06-14T16:00:23.191Z"
   },
   {
    "duration": 684,
    "start_time": "2024-06-14T16:00:23.844Z"
   },
   {
    "duration": 659,
    "start_time": "2024-06-14T16:00:24.529Z"
   },
   {
    "duration": 26,
    "start_time": "2024-06-14T16:00:32.289Z"
   },
   {
    "duration": 21,
    "start_time": "2024-06-14T16:00:32.801Z"
   },
   {
    "duration": 20,
    "start_time": "2024-06-14T16:00:33.739Z"
   },
   {
    "duration": 1002,
    "start_time": "2024-06-14T16:00:42.020Z"
   },
   {
    "duration": 3,
    "start_time": "2024-06-14T16:00:50.710Z"
   },
   {
    "duration": 26,
    "start_time": "2024-06-14T16:00:58.043Z"
   },
   {
    "duration": 24,
    "start_time": "2024-06-14T16:02:22.817Z"
   },
   {
    "duration": 19,
    "start_time": "2024-06-14T16:02:34.230Z"
   },
   {
    "duration": 23,
    "start_time": "2024-06-14T16:02:40.037Z"
   },
   {
    "duration": 196,
    "start_time": "2024-06-14T16:03:42.779Z"
   },
   {
    "duration": 924,
    "start_time": "2024-06-14T16:03:49.664Z"
   },
   {
    "duration": 184,
    "start_time": "2024-06-14T16:04:00.216Z"
   },
   {
    "duration": 919,
    "start_time": "2024-06-14T16:04:11.571Z"
   },
   {
    "duration": 3,
    "start_time": "2024-06-14T16:04:24.513Z"
   },
   {
    "duration": 1296,
    "start_time": "2024-06-15T11:25:03.391Z"
   },
   {
    "duration": 2834,
    "start_time": "2024-06-15T11:25:04.689Z"
   },
   {
    "duration": 17,
    "start_time": "2024-06-15T11:25:07.524Z"
   },
   {
    "duration": 48,
    "start_time": "2024-06-15T11:25:07.543Z"
   },
   {
    "duration": 23,
    "start_time": "2024-06-15T11:25:07.594Z"
   },
   {
    "duration": 1260,
    "start_time": "2024-06-15T11:25:07.618Z"
   },
   {
    "duration": 725,
    "start_time": "2024-06-15T11:25:08.880Z"
   },
   {
    "duration": 693,
    "start_time": "2024-06-15T11:25:09.607Z"
   },
   {
    "duration": 705,
    "start_time": "2024-06-15T11:25:10.302Z"
   },
   {
    "duration": 30,
    "start_time": "2024-06-15T11:25:11.008Z"
   },
   {
    "duration": 37,
    "start_time": "2024-06-15T11:25:11.040Z"
   },
   {
    "duration": 27,
    "start_time": "2024-06-15T11:25:11.079Z"
   },
   {
    "duration": 4,
    "start_time": "2024-06-15T11:25:11.107Z"
   },
   {
    "duration": 6,
    "start_time": "2024-06-15T11:25:11.114Z"
   },
   {
    "duration": 5,
    "start_time": "2024-06-15T11:25:11.121Z"
   },
   {
    "duration": 1299,
    "start_time": "2024-06-15T11:25:11.127Z"
   },
   {
    "duration": 1276,
    "start_time": "2024-06-15T11:32:29.885Z"
   },
   {
    "duration": 15,
    "start_time": "2024-06-15T11:37:10.118Z"
   },
   {
    "duration": 13,
    "start_time": "2024-06-15T11:37:17.626Z"
   },
   {
    "duration": 64,
    "start_time": "2024-06-15T11:37:38.929Z"
   },
   {
    "duration": 55,
    "start_time": "2024-06-15T11:37:48.446Z"
   },
   {
    "duration": 55,
    "start_time": "2024-06-15T11:38:01.614Z"
   },
   {
    "duration": 23,
    "start_time": "2024-06-15T11:39:06.661Z"
   },
   {
    "duration": 22,
    "start_time": "2024-06-15T11:39:17.972Z"
   },
   {
    "duration": 27,
    "start_time": "2024-06-15T11:39:20.692Z"
   },
   {
    "duration": 93,
    "start_time": "2024-06-15T11:40:15.651Z"
   },
   {
    "duration": 97,
    "start_time": "2024-06-15T11:40:24.640Z"
   },
   {
    "duration": 96,
    "start_time": "2024-06-15T11:40:38.146Z"
   },
   {
    "duration": 48,
    "start_time": "2024-06-15T11:41:26.404Z"
   },
   {
    "duration": 38,
    "start_time": "2024-06-15T11:41:39.426Z"
   },
   {
    "duration": 87,
    "start_time": "2024-06-15T11:43:05.509Z"
   },
   {
    "duration": 38,
    "start_time": "2024-06-15T11:43:17.977Z"
   },
   {
    "duration": 89,
    "start_time": "2024-06-15T11:49:30.515Z"
   },
   {
    "duration": 110,
    "start_time": "2024-06-15T11:49:36.381Z"
   },
   {
    "duration": 94,
    "start_time": "2024-06-15T11:50:04.327Z"
   },
   {
    "duration": 2,
    "start_time": "2024-06-15T11:50:16.515Z"
   },
   {
    "duration": 375,
    "start_time": "2024-06-15T11:50:17.303Z"
   },
   {
    "duration": 12,
    "start_time": "2024-06-15T11:50:23.433Z"
   },
   {
    "duration": 21,
    "start_time": "2024-06-15T11:50:44.236Z"
   },
   {
    "duration": 20,
    "start_time": "2024-06-15T11:51:03.654Z"
   },
   {
    "duration": 4,
    "start_time": "2024-06-15T11:53:09.580Z"
   },
   {
    "duration": 3717,
    "start_time": "2024-06-15T11:53:10.180Z"
   },
   {
    "duration": 4,
    "start_time": "2024-06-15T11:53:16.428Z"
   },
   {
    "duration": 1640,
    "start_time": "2024-06-15T11:53:20.919Z"
   },
   {
    "duration": 377,
    "start_time": "2024-06-15T11:54:39.724Z"
   },
   {
    "duration": 22,
    "start_time": "2024-06-15T11:54:52.552Z"
   },
   {
    "duration": 13,
    "start_time": "2024-06-15T11:55:22.487Z"
   },
   {
    "duration": 1155,
    "start_time": "2024-06-15T12:03:12.771Z"
   },
   {
    "duration": 788,
    "start_time": "2024-06-15T12:03:13.928Z"
   },
   {
    "duration": 14,
    "start_time": "2024-06-15T12:03:14.718Z"
   },
   {
    "duration": 35,
    "start_time": "2024-06-15T12:03:14.735Z"
   },
   {
    "duration": 3,
    "start_time": "2024-06-15T12:03:14.771Z"
   },
   {
    "duration": 1221,
    "start_time": "2024-06-15T12:03:14.776Z"
   },
   {
    "duration": 682,
    "start_time": "2024-06-15T12:03:15.999Z"
   },
   {
    "duration": 712,
    "start_time": "2024-06-15T12:03:16.683Z"
   },
   {
    "duration": 723,
    "start_time": "2024-06-15T12:03:17.397Z"
   },
   {
    "duration": 1388,
    "start_time": "2024-06-15T12:03:18.122Z"
   },
   {
    "duration": 245,
    "start_time": "2024-06-15T12:03:19.512Z"
   },
   {
    "duration": 0,
    "start_time": "2024-06-15T12:03:19.758Z"
   },
   {
    "duration": 238,
    "start_time": "2024-06-15T12:18:04.417Z"
   },
   {
    "duration": 3,
    "start_time": "2024-06-15T12:20:19.823Z"
   },
   {
    "duration": 103,
    "start_time": "2024-06-15T12:20:27.707Z"
   },
   {
    "duration": 9,
    "start_time": "2024-06-15T12:20:28.047Z"
   },
   {
    "duration": 3,
    "start_time": "2024-06-15T12:21:10.212Z"
   },
   {
    "duration": 3,
    "start_time": "2024-06-15T12:21:15.289Z"
   },
   {
    "duration": 4,
    "start_time": "2024-06-15T12:21:22.410Z"
   },
   {
    "duration": 8,
    "start_time": "2024-06-15T12:21:24.974Z"
   },
   {
    "duration": 11,
    "start_time": "2024-06-15T12:22:04.339Z"
   },
   {
    "duration": 3,
    "start_time": "2024-06-15T12:22:30.904Z"
   },
   {
    "duration": 3,
    "start_time": "2024-06-15T12:22:37.635Z"
   },
   {
    "duration": 5,
    "start_time": "2024-06-15T12:22:38.486Z"
   },
   {
    "duration": 3,
    "start_time": "2024-06-15T12:22:57.428Z"
   },
   {
    "duration": 23,
    "start_time": "2024-06-15T12:23:11.124Z"
   },
   {
    "duration": 11,
    "start_time": "2024-06-15T12:25:16.062Z"
   },
   {
    "duration": 9,
    "start_time": "2024-06-15T12:26:00.191Z"
   },
   {
    "duration": 9534,
    "start_time": "2024-06-15T12:26:13.572Z"
   },
   {
    "duration": 337,
    "start_time": "2024-06-15T12:26:23.108Z"
   },
   {
    "duration": 4,
    "start_time": "2024-06-15T12:27:02.415Z"
   },
   {
    "duration": 5095,
    "start_time": "2024-06-15T12:27:21.939Z"
   },
   {
    "duration": 5,
    "start_time": "2024-06-15T12:30:45.860Z"
   },
   {
    "duration": 3,
    "start_time": "2024-06-15T12:30:46.282Z"
   },
   {
    "duration": 11,
    "start_time": "2024-06-15T12:33:06.607Z"
   },
   {
    "duration": 10,
    "start_time": "2024-06-15T12:33:39.226Z"
   },
   {
    "duration": 11,
    "start_time": "2024-06-15T12:33:52.570Z"
   },
   {
    "duration": 11,
    "start_time": "2024-06-15T12:34:12.354Z"
   },
   {
    "duration": 1439,
    "start_time": "2024-06-15T12:34:54.583Z"
   },
   {
    "duration": 3383,
    "start_time": "2024-06-15T12:35:00.426Z"
   },
   {
    "duration": 21,
    "start_time": "2024-06-15T12:35:08.913Z"
   },
   {
    "duration": 5579,
    "start_time": "2024-06-15T12:35:47.186Z"
   },
   {
    "duration": 16,
    "start_time": "2024-06-15T12:35:57.789Z"
   },
   {
    "duration": 1058,
    "start_time": "2024-06-15T12:36:10.831Z"
   },
   {
    "duration": 845,
    "start_time": "2024-06-15T12:36:11.891Z"
   },
   {
    "duration": 16,
    "start_time": "2024-06-15T12:36:12.737Z"
   },
   {
    "duration": 32,
    "start_time": "2024-06-15T12:36:12.754Z"
   },
   {
    "duration": 5023,
    "start_time": "2024-06-15T12:36:12.788Z"
   },
   {
    "duration": 5169,
    "start_time": "2024-06-15T12:36:17.813Z"
   },
   {
    "duration": 3,
    "start_time": "2024-06-15T12:36:22.984Z"
   },
   {
    "duration": 1200,
    "start_time": "2024-06-15T12:36:22.991Z"
   },
   {
    "duration": 666,
    "start_time": "2024-06-15T12:36:24.193Z"
   },
   {
    "duration": 713,
    "start_time": "2024-06-15T12:36:24.860Z"
   },
   {
    "duration": 697,
    "start_time": "2024-06-15T12:36:25.575Z"
   },
   {
    "duration": 1330,
    "start_time": "2024-06-15T12:36:26.274Z"
   },
   {
    "duration": 18,
    "start_time": "2024-06-15T12:36:27.606Z"
   },
   {
    "duration": 226,
    "start_time": "2024-06-15T12:36:27.627Z"
   },
   {
    "duration": 3,
    "start_time": "2024-06-15T12:36:27.855Z"
   },
   {
    "duration": 56,
    "start_time": "2024-06-15T12:36:27.859Z"
   },
   {
    "duration": 12,
    "start_time": "2024-06-15T12:36:27.917Z"
   },
   {
    "duration": 20,
    "start_time": "2024-06-15T12:36:27.930Z"
   },
   {
    "duration": 9,
    "start_time": "2024-06-15T12:36:27.951Z"
   },
   {
    "duration": 2536,
    "start_time": "2024-06-15T12:36:27.961Z"
   },
   {
    "duration": 2,
    "start_time": "2024-06-15T12:36:30.499Z"
   },
   {
    "duration": 29,
    "start_time": "2024-06-15T12:36:30.503Z"
   },
   {
    "duration": 134,
    "start_time": "2024-06-15T12:36:30.534Z"
   },
   {
    "duration": 5,
    "start_time": "2024-06-15T12:37:21.440Z"
   },
   {
    "duration": 3,
    "start_time": "2024-06-15T12:37:23.811Z"
   },
   {
    "duration": 4,
    "start_time": "2024-06-15T12:37:25.303Z"
   },
   {
    "duration": 643,
    "start_time": "2024-06-15T12:37:53.528Z"
   },
   {
    "duration": 52,
    "start_time": "2024-06-15T12:38:13.685Z"
   },
   {
    "duration": 7,
    "start_time": "2024-06-15T12:40:28.977Z"
   },
   {
    "duration": 3,
    "start_time": "2024-06-15T12:40:29.820Z"
   },
   {
    "duration": 3,
    "start_time": "2024-06-15T12:40:33.554Z"
   },
   {
    "duration": 3,
    "start_time": "2024-06-15T12:40:33.871Z"
   },
   {
    "duration": 53,
    "start_time": "2024-06-15T12:40:34.366Z"
   },
   {
    "duration": 3,
    "start_time": "2024-06-15T12:42:17.094Z"
   },
   {
    "duration": 2,
    "start_time": "2024-06-15T12:42:17.595Z"
   },
   {
    "duration": 602,
    "start_time": "2024-06-15T12:42:22.194Z"
   },
   {
    "duration": 44,
    "start_time": "2024-06-15T12:43:43.345Z"
   },
   {
    "duration": 49,
    "start_time": "2024-06-15T12:44:48.613Z"
   },
   {
    "duration": 1159,
    "start_time": "2024-06-15T12:45:21.854Z"
   },
   {
    "duration": 799,
    "start_time": "2024-06-15T12:45:23.015Z"
   },
   {
    "duration": 15,
    "start_time": "2024-06-15T12:45:23.816Z"
   },
   {
    "duration": 123,
    "start_time": "2024-06-15T12:45:23.833Z"
   },
   {
    "duration": 5245,
    "start_time": "2024-06-15T12:45:23.957Z"
   },
   {
    "duration": 5334,
    "start_time": "2024-06-15T12:45:29.204Z"
   },
   {
    "duration": 4,
    "start_time": "2024-06-15T12:45:34.540Z"
   },
   {
    "duration": 1275,
    "start_time": "2024-06-15T12:45:34.546Z"
   },
   {
    "duration": 699,
    "start_time": "2024-06-15T12:45:35.823Z"
   },
   {
    "duration": 699,
    "start_time": "2024-06-15T12:45:36.525Z"
   },
   {
    "duration": 729,
    "start_time": "2024-06-15T12:45:37.225Z"
   },
   {
    "duration": 1401,
    "start_time": "2024-06-15T12:45:37.956Z"
   },
   {
    "duration": 20,
    "start_time": "2024-06-15T12:45:39.359Z"
   },
   {
    "duration": 165,
    "start_time": "2024-06-15T12:45:39.380Z"
   },
   {
    "duration": 3,
    "start_time": "2024-06-15T12:45:39.546Z"
   },
   {
    "duration": 4,
    "start_time": "2024-06-15T12:45:39.551Z"
   },
   {
    "duration": 4,
    "start_time": "2024-06-15T12:45:39.556Z"
   },
   {
    "duration": 7,
    "start_time": "2024-06-15T12:45:39.565Z"
   },
   {
    "duration": 3,
    "start_time": "2024-06-15T12:45:39.573Z"
   },
   {
    "duration": 3,
    "start_time": "2024-06-15T12:45:39.577Z"
   },
   {
    "duration": 5,
    "start_time": "2024-06-15T12:45:39.581Z"
   },
   {
    "duration": 10,
    "start_time": "2024-06-15T12:45:39.587Z"
   },
   {
    "duration": 2,
    "start_time": "2024-06-15T12:45:39.598Z"
   },
   {
    "duration": 72,
    "start_time": "2024-06-15T12:45:39.602Z"
   },
   {
    "duration": 763,
    "start_time": "2024-06-15T12:45:39.675Z"
   },
   {
    "duration": 3,
    "start_time": "2024-06-15T12:48:41.403Z"
   },
   {
    "duration": 3,
    "start_time": "2024-06-15T12:48:44.264Z"
   },
   {
    "duration": 60,
    "start_time": "2024-06-15T12:48:44.891Z"
   },
   {
    "duration": 3,
    "start_time": "2024-06-15T12:48:56.726Z"
   },
   {
    "duration": 33,
    "start_time": "2024-06-15T12:48:57.298Z"
   },
   {
    "duration": 4,
    "start_time": "2024-06-15T12:49:04.076Z"
   },
   {
    "duration": 20,
    "start_time": "2024-06-15T12:49:04.659Z"
   },
   {
    "duration": 3,
    "start_time": "2024-06-15T12:52:25.107Z"
   },
   {
    "duration": 71,
    "start_time": "2024-06-15T12:52:28.726Z"
   },
   {
    "duration": 6,
    "start_time": "2024-06-15T12:59:54.877Z"
   },
   {
    "duration": 2,
    "start_time": "2024-06-15T13:00:01.298Z"
   },
   {
    "duration": 2,
    "start_time": "2024-06-15T13:00:01.951Z"
   },
   {
    "duration": 3,
    "start_time": "2024-06-15T13:00:02.189Z"
   },
   {
    "duration": 4,
    "start_time": "2024-06-15T13:00:02.566Z"
   },
   {
    "duration": 3,
    "start_time": "2024-06-15T13:00:03.150Z"
   },
   {
    "duration": 52,
    "start_time": "2024-06-15T13:00:04.295Z"
   },
   {
    "duration": 7,
    "start_time": "2024-06-15T13:04:51.254Z"
   },
   {
    "duration": 3,
    "start_time": "2024-06-15T13:04:51.673Z"
   },
   {
    "duration": 3,
    "start_time": "2024-06-15T13:04:52.099Z"
   },
   {
    "duration": 3,
    "start_time": "2024-06-15T13:04:52.493Z"
   },
   {
    "duration": 2,
    "start_time": "2024-06-15T13:04:56.427Z"
   },
   {
    "duration": 3,
    "start_time": "2024-06-15T13:04:56.760Z"
   },
   {
    "duration": 49,
    "start_time": "2024-06-15T13:04:57.216Z"
   },
   {
    "duration": 14,
    "start_time": "2024-06-15T13:06:27.269Z"
   },
   {
    "duration": 5,
    "start_time": "2024-06-15T13:06:39.724Z"
   },
   {
    "duration": 3,
    "start_time": "2024-06-15T13:06:40.279Z"
   },
   {
    "duration": 10,
    "start_time": "2024-06-15T13:06:56.942Z"
   },
   {
    "duration": 3,
    "start_time": "2024-06-15T13:07:13.803Z"
   },
   {
    "duration": 11,
    "start_time": "2024-06-15T13:07:25.545Z"
   },
   {
    "duration": 6,
    "start_time": "2024-06-15T13:08:14.903Z"
   },
   {
    "duration": 3,
    "start_time": "2024-06-15T13:08:27.190Z"
   },
   {
    "duration": 3,
    "start_time": "2024-06-15T13:08:27.889Z"
   },
   {
    "duration": 6,
    "start_time": "2024-06-15T13:08:31.468Z"
   },
   {
    "duration": 2,
    "start_time": "2024-06-15T13:08:31.776Z"
   },
   {
    "duration": 6,
    "start_time": "2024-06-15T13:08:39.226Z"
   },
   {
    "duration": 3,
    "start_time": "2024-06-15T13:08:49.296Z"
   },
   {
    "duration": 2,
    "start_time": "2024-06-15T13:08:51.889Z"
   },
   {
    "duration": 3,
    "start_time": "2024-06-15T13:08:52.083Z"
   },
   {
    "duration": 3,
    "start_time": "2024-06-15T13:08:52.379Z"
   },
   {
    "duration": 3,
    "start_time": "2024-06-15T13:08:52.737Z"
   },
   {
    "duration": 21,
    "start_time": "2024-06-15T13:08:53.322Z"
   },
   {
    "duration": 8,
    "start_time": "2024-06-15T13:09:34.534Z"
   },
   {
    "duration": 5,
    "start_time": "2024-06-15T13:09:46.498Z"
   },
   {
    "duration": 3,
    "start_time": "2024-06-15T13:09:51.414Z"
   },
   {
    "duration": 2,
    "start_time": "2024-06-15T13:09:53.486Z"
   },
   {
    "duration": 5,
    "start_time": "2024-06-15T13:10:01.441Z"
   },
   {
    "duration": 3,
    "start_time": "2024-06-15T13:10:01.818Z"
   },
   {
    "duration": 50,
    "start_time": "2024-06-15T13:10:02.203Z"
   },
   {
    "duration": 5,
    "start_time": "2024-06-15T13:10:08.577Z"
   },
   {
    "duration": 4,
    "start_time": "2024-06-15T13:10:09.066Z"
   },
   {
    "duration": 3,
    "start_time": "2024-06-15T13:10:11.510Z"
   },
   {
    "duration": 2,
    "start_time": "2024-06-15T13:10:11.783Z"
   },
   {
    "duration": 3,
    "start_time": "2024-06-15T13:10:12.024Z"
   },
   {
    "duration": 4,
    "start_time": "2024-06-15T13:10:12.302Z"
   },
   {
    "duration": 47,
    "start_time": "2024-06-15T13:10:12.817Z"
   },
   {
    "duration": 3,
    "start_time": "2024-06-15T13:10:19.947Z"
   },
   {
    "duration": 23,
    "start_time": "2024-06-15T13:10:22.518Z"
   },
   {
    "duration": 622,
    "start_time": "2024-06-15T13:10:24.380Z"
   },
   {
    "duration": 5,
    "start_time": "2024-06-15T13:11:30.642Z"
   },
   {
    "duration": 2,
    "start_time": "2024-06-15T13:11:31.584Z"
   },
   {
    "duration": 3,
    "start_time": "2024-06-15T13:11:33.098Z"
   },
   {
    "duration": 20,
    "start_time": "2024-06-15T13:11:33.402Z"
   },
   {
    "duration": 682,
    "start_time": "2024-06-15T13:11:35.194Z"
   },
   {
    "duration": 19,
    "start_time": "2024-06-15T13:12:05.730Z"
   },
   {
    "duration": 4,
    "start_time": "2024-06-15T13:12:15.212Z"
   },
   {
    "duration": 8,
    "start_time": "2024-06-15T13:12:34.006Z"
   },
   {
    "duration": 2,
    "start_time": "2024-06-15T13:12:36.258Z"
   },
   {
    "duration": 2,
    "start_time": "2024-06-15T13:12:37.395Z"
   },
   {
    "duration": 2,
    "start_time": "2024-06-15T13:12:37.844Z"
   },
   {
    "duration": 3,
    "start_time": "2024-06-15T13:12:38.111Z"
   },
   {
    "duration": 2,
    "start_time": "2024-06-15T13:12:38.829Z"
   },
   {
    "duration": 21,
    "start_time": "2024-06-15T13:12:39.235Z"
   },
   {
    "duration": 675,
    "start_time": "2024-06-15T13:12:42.968Z"
   },
   {
    "duration": 1342,
    "start_time": "2024-06-15T13:13:53.624Z"
   },
   {
    "duration": 15,
    "start_time": "2024-06-15T13:16:33.976Z"
   },
   {
    "duration": 8,
    "start_time": "2024-06-15T13:22:58.714Z"
   },
   {
    "duration": 2,
    "start_time": "2024-06-15T13:23:05.902Z"
   },
   {
    "duration": 3,
    "start_time": "2024-06-15T13:23:06.335Z"
   },
   {
    "duration": 4,
    "start_time": "2024-06-15T13:23:06.615Z"
   },
   {
    "duration": 3,
    "start_time": "2024-06-15T13:23:06.903Z"
   },
   {
    "duration": 2,
    "start_time": "2024-06-15T13:23:07.246Z"
   },
   {
    "duration": 28,
    "start_time": "2024-06-15T13:23:07.801Z"
   },
   {
    "duration": 682,
    "start_time": "2024-06-15T13:23:11.556Z"
   },
   {
    "duration": 6,
    "start_time": "2024-06-15T13:23:30.603Z"
   },
   {
    "duration": 3,
    "start_time": "2024-06-15T13:23:33.563Z"
   },
   {
    "duration": 3,
    "start_time": "2024-06-15T13:23:33.998Z"
   },
   {
    "duration": 3,
    "start_time": "2024-06-15T13:23:34.298Z"
   },
   {
    "duration": 2,
    "start_time": "2024-06-15T13:23:34.593Z"
   },
   {
    "duration": 3,
    "start_time": "2024-06-15T13:23:34.913Z"
   },
   {
    "duration": 21,
    "start_time": "2024-06-15T13:23:35.286Z"
   },
   {
    "duration": 669,
    "start_time": "2024-06-15T13:23:36.018Z"
   },
   {
    "duration": 4,
    "start_time": "2024-06-15T13:24:09.977Z"
   },
   {
    "duration": 2,
    "start_time": "2024-06-15T13:24:16.303Z"
   },
   {
    "duration": 20,
    "start_time": "2024-06-15T13:24:16.821Z"
   },
   {
    "duration": 1243,
    "start_time": "2024-06-15T13:24:17.418Z"
   },
   {
    "duration": 1362,
    "start_time": "2024-06-16T18:41:41.374Z"
   },
   {
    "duration": 2986,
    "start_time": "2024-06-16T18:41:42.738Z"
   },
   {
    "duration": 17,
    "start_time": "2024-06-16T18:41:45.725Z"
   },
   {
    "duration": 65,
    "start_time": "2024-06-16T18:41:45.744Z"
   },
   {
    "duration": 9615,
    "start_time": "2024-06-16T18:41:45.811Z"
   },
   {
    "duration": 5147,
    "start_time": "2024-06-16T18:41:55.428Z"
   },
   {
    "duration": 2,
    "start_time": "2024-06-16T18:42:00.577Z"
   },
   {
    "duration": 1348,
    "start_time": "2024-06-16T18:42:00.581Z"
   },
   {
    "duration": 695,
    "start_time": "2024-06-16T18:42:01.931Z"
   },
   {
    "duration": 696,
    "start_time": "2024-06-16T18:42:02.628Z"
   },
   {
    "duration": 678,
    "start_time": "2024-06-16T18:42:03.326Z"
   },
   {
    "duration": 1373,
    "start_time": "2024-06-16T18:42:04.006Z"
   },
   {
    "duration": 19,
    "start_time": "2024-06-16T18:42:05.380Z"
   },
   {
    "duration": 154,
    "start_time": "2024-06-16T18:42:05.401Z"
   },
   {
    "duration": 3,
    "start_time": "2024-06-16T18:42:05.557Z"
   },
   {
    "duration": 34,
    "start_time": "2024-06-16T18:42:05.564Z"
   },
   {
    "duration": 4,
    "start_time": "2024-06-16T18:42:05.600Z"
   },
   {
    "duration": 7,
    "start_time": "2024-06-16T18:42:05.605Z"
   },
   {
    "duration": 23,
    "start_time": "2024-06-16T18:42:05.613Z"
   },
   {
    "duration": 3,
    "start_time": "2024-06-16T18:42:05.637Z"
   },
   {
    "duration": 28,
    "start_time": "2024-06-16T18:42:05.641Z"
   },
   {
    "duration": 1040,
    "start_time": "2024-06-16T18:42:05.671Z"
   },
   {
    "duration": 17,
    "start_time": "2024-06-16T18:42:39.578Z"
   },
   {
    "duration": 3,
    "start_time": "2024-06-16T18:43:33.910Z"
   },
   {
    "duration": 19,
    "start_time": "2024-06-16T18:43:34.926Z"
   },
   {
    "duration": 16,
    "start_time": "2024-06-16T18:43:36.149Z"
   },
   {
    "duration": 626,
    "start_time": "2024-06-16T18:43:40.174Z"
   },
   {
    "duration": 45,
    "start_time": "2024-06-16T18:45:15.841Z"
   },
   {
    "duration": 3,
    "start_time": "2024-06-16T18:45:16.707Z"
   },
   {
    "duration": 3,
    "start_time": "2024-06-16T18:45:17.424Z"
   },
   {
    "duration": 4,
    "start_time": "2024-06-16T18:45:18.066Z"
   },
   {
    "duration": 2,
    "start_time": "2024-06-16T18:45:18.513Z"
   },
   {
    "duration": 4,
    "start_time": "2024-06-16T18:45:18.927Z"
   },
   {
    "duration": 2,
    "start_time": "2024-06-16T18:45:20.011Z"
   },
   {
    "duration": 13,
    "start_time": "2024-06-16T18:45:20.839Z"
   },
   {
    "duration": 17,
    "start_time": "2024-06-16T18:45:21.480Z"
   },
   {
    "duration": 12,
    "start_time": "2024-06-16T18:45:23.825Z"
   },
   {
    "duration": 3,
    "start_time": "2024-06-16T18:45:36.888Z"
   },
   {
    "duration": 17,
    "start_time": "2024-06-16T18:45:37.747Z"
   },
   {
    "duration": 17,
    "start_time": "2024-06-16T18:45:38.772Z"
   },
   {
    "duration": 12,
    "start_time": "2024-06-16T18:45:39.421Z"
   },
   {
    "duration": 3,
    "start_time": "2024-06-16T18:45:59.628Z"
   },
   {
    "duration": 16,
    "start_time": "2024-06-16T18:46:00.007Z"
   },
   {
    "duration": 16,
    "start_time": "2024-06-16T18:46:00.585Z"
   },
   {
    "duration": 1021,
    "start_time": "2024-06-16T18:46:01.188Z"
   },
   {
    "duration": 22,
    "start_time": "2024-06-16T18:47:13.328Z"
   },
   {
    "duration": 57,
    "start_time": "2024-06-16T18:47:59.380Z"
   },
   {
    "duration": 47,
    "start_time": "2024-06-16T18:48:04.593Z"
   },
   {
    "duration": 26,
    "start_time": "2024-06-16T18:51:19.438Z"
   },
   {
    "duration": 95,
    "start_time": "2024-06-16T18:51:56.780Z"
   },
   {
    "duration": 96,
    "start_time": "2024-06-16T18:52:06.969Z"
   },
   {
    "duration": 384,
    "start_time": "2024-06-16T18:52:16.001Z"
   },
   {
    "duration": 11,
    "start_time": "2024-06-16T18:52:22.306Z"
   },
   {
    "duration": 3,
    "start_time": "2024-06-16T18:52:29.553Z"
   },
   {
    "duration": 81,
    "start_time": "2024-06-16T18:52:44.962Z"
   },
   {
    "duration": 17,
    "start_time": "2024-06-16T18:52:49.165Z"
   },
   {
    "duration": 265,
    "start_time": "2024-06-16T18:53:27.256Z"
   },
   {
    "duration": 82,
    "start_time": "2024-06-16T18:53:50.825Z"
   },
   {
    "duration": 354,
    "start_time": "2024-06-16T18:53:51.432Z"
   },
   {
    "duration": 3,
    "start_time": "2024-06-16T18:54:28.752Z"
   },
   {
    "duration": 51,
    "start_time": "2024-06-16T18:55:53.657Z"
   },
   {
    "duration": 10,
    "start_time": "2024-06-16T18:56:28.796Z"
   },
   {
    "duration": 5,
    "start_time": "2024-06-16T18:56:34.272Z"
   },
   {
    "duration": 14,
    "start_time": "2024-06-16T18:56:55.767Z"
   },
   {
    "duration": 5,
    "start_time": "2024-06-16T18:56:59.599Z"
   },
   {
    "duration": 3,
    "start_time": "2024-06-16T18:57:00.336Z"
   },
   {
    "duration": 2,
    "start_time": "2024-06-16T18:57:00.730Z"
   },
   {
    "duration": 3,
    "start_time": "2024-06-16T18:57:01.098Z"
   },
   {
    "duration": 3,
    "start_time": "2024-06-16T18:57:02.126Z"
   },
   {
    "duration": 18,
    "start_time": "2024-06-16T18:57:02.702Z"
   },
   {
    "duration": 910,
    "start_time": "2024-06-16T18:57:03.530Z"
   },
   {
    "duration": 637,
    "start_time": "2024-06-16T18:57:35.204Z"
   },
   {
    "duration": 5,
    "start_time": "2024-06-16T18:57:40.689Z"
   },
   {
    "duration": 9,
    "start_time": "2024-06-16T18:57:53.198Z"
   },
   {
    "duration": 5,
    "start_time": "2024-06-16T18:57:58.847Z"
   },
   {
    "duration": 1118,
    "start_time": "2024-06-16T18:58:24.555Z"
   },
   {
    "duration": 19,
    "start_time": "2024-06-16T18:58:29.903Z"
   },
   {
    "duration": 221,
    "start_time": "2024-06-16T18:59:15.595Z"
   },
   {
    "duration": 20,
    "start_time": "2024-06-16T18:59:19.771Z"
   },
   {
    "duration": 128,
    "start_time": "2024-06-16T19:01:05.180Z"
   },
   {
    "duration": 18,
    "start_time": "2024-06-16T19:02:01.521Z"
   },
   {
    "duration": 59,
    "start_time": "2024-06-16T19:02:15.301Z"
   },
   {
    "duration": 3,
    "start_time": "2024-06-16T19:02:17.723Z"
   },
   {
    "duration": 13761,
    "start_time": "2024-06-16T19:02:20.882Z"
   },
   {
    "duration": 11,
    "start_time": "2024-06-16T19:02:47.313Z"
   },
   {
    "duration": 9,
    "start_time": "2024-06-16T19:03:02.992Z"
   },
   {
    "duration": 3,
    "start_time": "2024-06-16T19:03:07.259Z"
   },
   {
    "duration": 4422,
    "start_time": "2024-06-16T19:03:07.675Z"
   },
   {
    "duration": 4290,
    "start_time": "2024-06-16T19:04:08.458Z"
   },
   {
    "duration": 70078,
    "start_time": "2024-06-16T19:05:34.496Z"
   },
   {
    "duration": 21,
    "start_time": "2024-06-16T19:07:08.968Z"
   },
   {
    "duration": 980,
    "start_time": "2024-06-16T19:07:34.410Z"
   },
   {
    "duration": 314,
    "start_time": "2024-06-16T19:07:47.302Z"
   },
   {
    "duration": 3,
    "start_time": "2024-06-16T19:10:00.938Z"
   },
   {
    "duration": 3,
    "start_time": "2024-06-16T19:10:24.742Z"
   },
   {
    "duration": 3,
    "start_time": "2024-06-16T19:10:27.256Z"
   },
   {
    "duration": 23,
    "start_time": "2024-06-16T19:10:29.802Z"
   },
   {
    "duration": 551,
    "start_time": "2024-06-16T19:10:34.180Z"
   },
   {
    "duration": 137,
    "start_time": "2024-06-16T19:10:35.317Z"
   },
   {
    "duration": 30,
    "start_time": "2024-06-16T19:10:41.505Z"
   },
   {
    "duration": 35,
    "start_time": "2024-06-16T19:10:52.989Z"
   },
   {
    "duration": 588,
    "start_time": "2024-06-16T19:11:06.647Z"
   },
   {
    "duration": 132,
    "start_time": "2024-06-16T19:11:09.891Z"
   },
   {
    "duration": 137120,
    "start_time": "2024-06-16T19:11:17.246Z"
   },
   {
    "duration": 0,
    "start_time": "2024-06-16T19:13:34.367Z"
   },
   {
    "duration": 376333,
    "start_time": "2024-06-16T19:13:44.064Z"
   },
   {
    "duration": 0,
    "start_time": "2024-06-16T19:20:00.398Z"
   },
   {
    "duration": 0,
    "start_time": "2024-06-16T19:20:00.399Z"
   },
   {
    "duration": 3,
    "start_time": "2024-06-16T19:20:09.166Z"
   },
   {
    "duration": 29588,
    "start_time": "2024-06-16T19:20:38.000Z"
   },
   {
    "duration": 3,
    "start_time": "2024-06-16T19:21:09.265Z"
   },
   {
    "duration": 10,
    "start_time": "2024-06-16T19:21:12.796Z"
   },
   {
    "duration": 9,
    "start_time": "2024-06-16T19:21:30.469Z"
   },
   {
    "duration": 9,
    "start_time": "2024-06-16T19:21:36.282Z"
   },
   {
    "duration": 908902,
    "start_time": "2024-06-16T19:21:41.275Z"
   },
   {
    "duration": 4,
    "start_time": "2024-06-16T19:36:50.179Z"
   },
   {
    "duration": 6,
    "start_time": "2024-06-16T19:36:50.184Z"
   },
   {
    "duration": 9,
    "start_time": "2024-06-16T19:36:50.192Z"
   },
   {
    "duration": 0,
    "start_time": "2024-06-16T19:36:50.203Z"
   },
   {
    "duration": 5,
    "start_time": "2024-06-16T19:37:49.175Z"
   },
   {
    "duration": 4,
    "start_time": "2024-06-16T19:37:53.909Z"
   },
   {
    "duration": 9,
    "start_time": "2024-06-16T19:38:08.447Z"
   },
   {
    "duration": 31,
    "start_time": "2024-06-16T19:38:32.531Z"
   },
   {
    "duration": 564429,
    "start_time": "2024-06-16T19:38:33.263Z"
   },
   {
    "duration": 0,
    "start_time": "2024-06-16T19:47:57.694Z"
   },
   {
    "duration": 0,
    "start_time": "2024-06-16T19:47:57.696Z"
   },
   {
    "duration": 0,
    "start_time": "2024-06-16T19:47:57.697Z"
   },
   {
    "duration": 0,
    "start_time": "2024-06-16T19:47:57.698Z"
   },
   {
    "duration": 0,
    "start_time": "2024-06-16T19:47:57.699Z"
   },
   {
    "duration": 0,
    "start_time": "2024-06-16T19:47:57.700Z"
   },
   {
    "duration": 3,
    "start_time": "2024-06-16T19:48:01.702Z"
   },
   {
    "duration": 1147,
    "start_time": "2024-06-16T19:50:06.672Z"
   },
   {
    "duration": 2967,
    "start_time": "2024-06-16T19:50:07.821Z"
   },
   {
    "duration": 16,
    "start_time": "2024-06-16T19:50:10.789Z"
   },
   {
    "duration": 26,
    "start_time": "2024-06-16T19:50:10.807Z"
   },
   {
    "duration": 5322,
    "start_time": "2024-06-16T19:50:10.834Z"
   },
   {
    "duration": 5386,
    "start_time": "2024-06-16T19:50:16.158Z"
   },
   {
    "duration": 3,
    "start_time": "2024-06-16T19:50:21.545Z"
   },
   {
    "duration": 1299,
    "start_time": "2024-06-16T19:50:21.549Z"
   },
   {
    "duration": 656,
    "start_time": "2024-06-16T19:50:22.849Z"
   },
   {
    "duration": 697,
    "start_time": "2024-06-16T19:50:23.508Z"
   },
   {
    "duration": 731,
    "start_time": "2024-06-16T19:50:24.207Z"
   },
   {
    "duration": 1359,
    "start_time": "2024-06-16T19:50:24.939Z"
   },
   {
    "duration": 18,
    "start_time": "2024-06-16T19:50:26.300Z"
   },
   {
    "duration": 30,
    "start_time": "2024-06-16T19:50:26.319Z"
   },
   {
    "duration": 47,
    "start_time": "2024-06-16T19:50:26.364Z"
   },
   {
    "duration": 19,
    "start_time": "2024-06-16T19:50:26.413Z"
   },
   {
    "duration": 62,
    "start_time": "2024-06-16T19:50:26.434Z"
   },
   {
    "duration": 374,
    "start_time": "2024-06-16T19:50:26.498Z"
   },
   {
    "duration": 102,
    "start_time": "2024-06-16T19:50:26.874Z"
   },
   {
    "duration": 246,
    "start_time": "2024-06-16T19:50:26.978Z"
   },
   {
    "duration": 525,
    "start_time": "2024-06-16T19:50:27.226Z"
   },
   {
    "duration": 3,
    "start_time": "2024-06-16T19:50:27.753Z"
   },
   {
    "duration": 61,
    "start_time": "2024-06-16T19:50:27.757Z"
   },
   {
    "duration": 43,
    "start_time": "2024-06-16T19:50:27.819Z"
   },
   {
    "duration": 3,
    "start_time": "2024-06-16T19:50:27.864Z"
   },
   {
    "duration": 3,
    "start_time": "2024-06-16T19:50:27.868Z"
   },
   {
    "duration": 4,
    "start_time": "2024-06-16T19:50:27.872Z"
   },
   {
    "duration": 3,
    "start_time": "2024-06-16T19:50:27.879Z"
   },
   {
    "duration": 5,
    "start_time": "2024-06-16T19:50:27.883Z"
   },
   {
    "duration": 23,
    "start_time": "2024-06-16T19:50:27.889Z"
   },
   {
    "duration": 2,
    "start_time": "2024-06-16T19:50:27.914Z"
   },
   {
    "duration": 25,
    "start_time": "2024-06-16T19:50:27.918Z"
   },
   {
    "duration": 644,
    "start_time": "2024-06-16T19:50:27.944Z"
   },
   {
    "duration": 155,
    "start_time": "2024-06-16T19:50:28.590Z"
   },
   {
    "duration": 8,
    "start_time": "2024-06-16T19:50:28.747Z"
   },
   {
    "duration": 35,
    "start_time": "2024-06-16T19:50:28.756Z"
   },
   {
    "duration": 2,
    "start_time": "2024-06-16T19:50:28.793Z"
   },
   {
    "duration": 5310,
    "start_time": "2024-06-16T19:50:28.797Z"
   },
   {
    "duration": 0,
    "start_time": "2024-06-16T19:50:34.109Z"
   },
   {
    "duration": 0,
    "start_time": "2024-06-16T19:50:34.111Z"
   },
   {
    "duration": 0,
    "start_time": "2024-06-16T19:50:34.112Z"
   },
   {
    "duration": 0,
    "start_time": "2024-06-16T19:50:34.114Z"
   },
   {
    "duration": 0,
    "start_time": "2024-06-16T19:50:34.115Z"
   },
   {
    "duration": 0,
    "start_time": "2024-06-16T19:50:34.116Z"
   },
   {
    "duration": 0,
    "start_time": "2024-06-16T19:50:34.118Z"
   },
   {
    "duration": 0,
    "start_time": "2024-06-16T19:50:34.120Z"
   },
   {
    "duration": 0,
    "start_time": "2024-06-16T19:50:34.121Z"
   },
   {
    "duration": 0,
    "start_time": "2024-06-16T19:50:34.123Z"
   },
   {
    "duration": 0,
    "start_time": "2024-06-16T19:50:34.124Z"
   },
   {
    "duration": 10,
    "start_time": "2024-06-16T19:51:02.154Z"
   },
   {
    "duration": 121,
    "start_time": "2024-06-16T19:51:07.853Z"
   },
   {
    "duration": 2,
    "start_time": "2024-06-16T19:51:10.455Z"
   },
   {
    "duration": 7182,
    "start_time": "2024-06-16T19:51:11.056Z"
   },
   {
    "duration": 5,
    "start_time": "2024-06-16T19:51:29.512Z"
   },
   {
    "duration": 6,
    "start_time": "2024-06-16T19:51:47.688Z"
   },
   {
    "duration": 3,
    "start_time": "2024-06-16T19:51:54.578Z"
   },
   {
    "duration": 5,
    "start_time": "2024-06-16T19:52:43.984Z"
   },
   {
    "duration": 2,
    "start_time": "2024-06-16T19:53:19.692Z"
   },
   {
    "duration": 3,
    "start_time": "2024-06-16T19:53:20.317Z"
   },
   {
    "duration": 693531,
    "start_time": "2024-06-16T19:53:29.643Z"
   },
   {
    "duration": 5,
    "start_time": "2024-06-16T20:05:03.176Z"
   },
   {
    "duration": 18,
    "start_time": "2024-06-16T20:05:03.182Z"
   },
   {
    "duration": 4,
    "start_time": "2024-06-16T20:05:03.266Z"
   },
   {
    "duration": 9,
    "start_time": "2024-06-16T20:05:03.271Z"
   },
   {
    "duration": 160258,
    "start_time": "2024-06-16T20:05:03.282Z"
   },
   {
    "duration": 0,
    "start_time": "2024-06-16T20:07:43.543Z"
   },
   {
    "duration": 0,
    "start_time": "2024-06-16T20:07:43.544Z"
   },
   {
    "duration": 0,
    "start_time": "2024-06-16T20:07:43.545Z"
   },
   {
    "duration": 4,
    "start_time": "2024-06-16T20:07:58.731Z"
   },
   {
    "duration": 4,
    "start_time": "2024-06-16T20:08:17.679Z"
   },
   {
    "duration": 4,
    "start_time": "2024-06-16T20:08:24.736Z"
   },
   {
    "duration": 5043,
    "start_time": "2024-06-16T20:26:36.273Z"
   },
   {
    "duration": 1930,
    "start_time": "2024-06-16T20:26:41.318Z"
   },
   {
    "duration": 2954,
    "start_time": "2024-06-16T20:26:43.250Z"
   },
   {
    "duration": 16,
    "start_time": "2024-06-16T20:26:46.207Z"
   },
   {
    "duration": 26,
    "start_time": "2024-06-16T20:26:46.224Z"
   },
   {
    "duration": 5250,
    "start_time": "2024-06-16T20:26:46.251Z"
   },
   {
    "duration": 3,
    "start_time": "2024-06-16T20:26:51.502Z"
   },
   {
    "duration": 1280,
    "start_time": "2024-06-16T20:26:51.507Z"
   },
   {
    "duration": 685,
    "start_time": "2024-06-16T20:26:52.788Z"
   },
   {
    "duration": 698,
    "start_time": "2024-06-16T20:26:53.475Z"
   },
   {
    "duration": 679,
    "start_time": "2024-06-16T20:26:54.175Z"
   },
   {
    "duration": 1368,
    "start_time": "2024-06-16T20:26:54.856Z"
   },
   {
    "duration": 18,
    "start_time": "2024-06-16T20:26:56.226Z"
   },
   {
    "duration": 38,
    "start_time": "2024-06-16T20:26:56.246Z"
   },
   {
    "duration": 47,
    "start_time": "2024-06-16T20:26:56.286Z"
   },
   {
    "duration": 31,
    "start_time": "2024-06-16T20:26:56.334Z"
   },
   {
    "duration": 49,
    "start_time": "2024-06-16T20:26:56.366Z"
   },
   {
    "duration": 400,
    "start_time": "2024-06-16T20:26:56.416Z"
   },
   {
    "duration": 99,
    "start_time": "2024-06-16T20:26:56.818Z"
   },
   {
    "duration": 238,
    "start_time": "2024-06-16T20:26:56.919Z"
   },
   {
    "duration": 50,
    "start_time": "2024-06-16T20:26:57.164Z"
   },
   {
    "duration": 17,
    "start_time": "2024-06-16T20:26:57.216Z"
   },
   {
    "duration": 6,
    "start_time": "2024-06-16T20:26:57.235Z"
   },
   {
    "duration": 3,
    "start_time": "2024-06-16T20:26:57.242Z"
   },
   {
    "duration": 18,
    "start_time": "2024-06-16T20:26:57.247Z"
   },
   {
    "duration": 17,
    "start_time": "2024-06-16T20:26:57.266Z"
   },
   {
    "duration": 4,
    "start_time": "2024-06-16T20:26:57.284Z"
   },
   {
    "duration": 23,
    "start_time": "2024-06-16T20:26:57.291Z"
   },
   {
    "duration": 600,
    "start_time": "2024-06-16T20:26:57.315Z"
   },
   {
    "duration": 171,
    "start_time": "2024-06-16T20:26:57.917Z"
   },
   {
    "duration": 10,
    "start_time": "2024-06-16T20:26:58.089Z"
   },
   {
    "duration": 213872,
    "start_time": "2024-06-16T20:27:12.460Z"
   },
   {
    "duration": 0,
    "start_time": "2024-06-16T20:30:46.335Z"
   },
   {
    "duration": 0,
    "start_time": "2024-06-16T20:30:46.336Z"
   },
   {
    "duration": 0,
    "start_time": "2024-06-16T20:30:46.337Z"
   },
   {
    "duration": 2,
    "start_time": "2024-06-16T20:31:28.177Z"
   },
   {
    "duration": 45,
    "start_time": "2024-06-16T20:32:08.745Z"
   },
   {
    "duration": 1282,
    "start_time": "2024-06-16T20:32:11.927Z"
   },
   {
    "duration": 53,
    "start_time": "2024-06-16T20:32:13.211Z"
   },
   {
    "duration": 7488,
    "start_time": "2024-06-16T20:33:02.025Z"
   },
   {
    "duration": 757,
    "start_time": "2024-06-16T20:33:09.516Z"
   },
   {
    "duration": 2949,
    "start_time": "2024-06-16T20:33:10.275Z"
   },
   {
    "duration": 16,
    "start_time": "2024-06-16T20:33:13.226Z"
   },
   {
    "duration": 26,
    "start_time": "2024-06-16T20:33:13.243Z"
   },
   {
    "duration": 5184,
    "start_time": "2024-06-16T20:33:13.271Z"
   },
   {
    "duration": 2,
    "start_time": "2024-06-16T20:33:18.457Z"
   },
   {
    "duration": 1296,
    "start_time": "2024-06-16T20:33:18.464Z"
   },
   {
    "duration": 681,
    "start_time": "2024-06-16T20:33:19.762Z"
   },
   {
    "duration": 663,
    "start_time": "2024-06-16T20:33:20.446Z"
   },
   {
    "duration": 732,
    "start_time": "2024-06-16T20:33:21.110Z"
   },
   {
    "duration": 1361,
    "start_time": "2024-06-16T20:33:21.845Z"
   },
   {
    "duration": 20,
    "start_time": "2024-06-16T20:33:23.207Z"
   },
   {
    "duration": 49,
    "start_time": "2024-06-16T20:33:23.229Z"
   },
   {
    "duration": 48,
    "start_time": "2024-06-16T20:33:23.279Z"
   },
   {
    "duration": 24,
    "start_time": "2024-06-16T20:33:23.328Z"
   },
   {
    "duration": 52,
    "start_time": "2024-06-16T20:33:23.366Z"
   },
   {
    "duration": 390,
    "start_time": "2024-06-16T20:33:23.419Z"
   },
   {
    "duration": 97,
    "start_time": "2024-06-16T20:33:23.811Z"
   },
   {
    "duration": 240,
    "start_time": "2024-06-16T20:33:23.910Z"
   },
   {
    "duration": 61,
    "start_time": "2024-06-16T20:33:24.152Z"
   },
   {
    "duration": 18,
    "start_time": "2024-06-16T20:33:24.214Z"
   },
   {
    "duration": 34,
    "start_time": "2024-06-16T20:33:24.233Z"
   },
   {
    "duration": 18,
    "start_time": "2024-06-16T20:33:24.268Z"
   },
   {
    "duration": 5,
    "start_time": "2024-06-16T20:33:24.287Z"
   },
   {
    "duration": 5,
    "start_time": "2024-06-16T20:33:24.293Z"
   },
   {
    "duration": 5,
    "start_time": "2024-06-16T20:33:24.299Z"
   },
   {
    "duration": 25,
    "start_time": "2024-06-16T20:33:24.307Z"
   },
   {
    "duration": 651,
    "start_time": "2024-06-16T20:33:24.334Z"
   },
   {
    "duration": 152,
    "start_time": "2024-06-16T20:33:24.987Z"
   },
   {
    "duration": 11014,
    "start_time": "2024-06-16T20:33:25.141Z"
   },
   {
    "duration": 0,
    "start_time": "2024-06-16T20:33:36.157Z"
   },
   {
    "duration": 0,
    "start_time": "2024-06-16T20:33:36.159Z"
   },
   {
    "duration": 0,
    "start_time": "2024-06-16T20:33:36.160Z"
   },
   {
    "duration": 10,
    "start_time": "2024-06-16T20:33:38.710Z"
   },
   {
    "duration": 910917,
    "start_time": "2024-06-16T20:33:41.957Z"
   },
   {
    "duration": 4,
    "start_time": "2024-06-16T20:48:52.875Z"
   },
   {
    "duration": 9,
    "start_time": "2024-06-16T20:48:52.881Z"
   },
   {
    "duration": 4,
    "start_time": "2024-06-16T20:48:52.891Z"
   },
   {
    "duration": 621982,
    "start_time": "2024-06-16T20:53:23.287Z"
   },
   {
    "duration": 3,
    "start_time": "2024-06-16T21:03:45.272Z"
   },
   {
    "duration": 29,
    "start_time": "2024-06-16T21:03:45.277Z"
   },
   {
    "duration": 42,
    "start_time": "2024-06-16T21:03:45.308Z"
   },
   {
    "duration": 1683,
    "start_time": "2024-06-16T22:31:32.099Z"
   },
   {
    "duration": 9818,
    "start_time": "2024-06-19T18:08:19.183Z"
   },
   {
    "duration": 1774,
    "start_time": "2024-06-19T18:08:29.003Z"
   },
   {
    "duration": 2880,
    "start_time": "2024-06-19T18:08:36.496Z"
   },
   {
    "duration": 17,
    "start_time": "2024-06-19T18:08:41.046Z"
   },
   {
    "duration": 25,
    "start_time": "2024-06-19T18:08:42.876Z"
   },
   {
    "duration": 6195,
    "start_time": "2024-06-19T18:08:48.684Z"
   },
   {
    "duration": 4,
    "start_time": "2024-06-19T18:09:01.995Z"
   },
   {
    "duration": 1244,
    "start_time": "2024-06-19T18:09:04.221Z"
   },
   {
    "duration": 1128,
    "start_time": "2024-06-19T18:09:22.454Z"
   },
   {
    "duration": 1337,
    "start_time": "2024-06-19T18:09:56.445Z"
   },
   {
    "duration": 680,
    "start_time": "2024-06-19T18:10:06.205Z"
   },
   {
    "duration": 809,
    "start_time": "2024-06-19T18:10:11.239Z"
   },
   {
    "duration": 724,
    "start_time": "2024-06-19T18:10:15.468Z"
   },
   {
    "duration": 1389,
    "start_time": "2024-06-19T18:10:21.080Z"
   },
   {
    "duration": 33,
    "start_time": "2024-06-19T18:10:41.746Z"
   },
   {
    "duration": 4389,
    "start_time": "2024-06-19T18:11:07.420Z"
   },
   {
    "duration": 4786,
    "start_time": "2024-06-19T18:11:42.206Z"
   },
   {
    "duration": 23,
    "start_time": "2024-06-19T18:12:11.638Z"
   },
   {
    "duration": 16,
    "start_time": "2024-06-19T18:12:27.013Z"
   },
   {
    "duration": 862,
    "start_time": "2024-06-19T18:13:39.405Z"
   },
   {
    "duration": 13,
    "start_time": "2024-06-19T18:13:40.383Z"
   },
   {
    "duration": 815,
    "start_time": "2024-06-19T18:14:11.099Z"
   },
   {
    "duration": 19,
    "start_time": "2024-06-19T18:14:13.232Z"
   },
   {
    "duration": 834,
    "start_time": "2024-06-19T18:14:22.526Z"
   },
   {
    "duration": 6,
    "start_time": "2024-06-19T18:16:34.812Z"
   },
   {
    "duration": 90,
    "start_time": "2024-06-19T18:16:47.970Z"
   },
   {
    "duration": 86,
    "start_time": "2024-06-19T18:16:58.546Z"
   },
   {
    "duration": 951,
    "start_time": "2024-06-19T18:17:19.048Z"
   },
   {
    "duration": 14,
    "start_time": "2024-06-19T18:17:29.721Z"
   },
   {
    "duration": 896,
    "start_time": "2024-06-19T18:17:53.500Z"
   },
   {
    "duration": 17,
    "start_time": "2024-06-19T18:17:55.540Z"
   },
   {
    "duration": 107,
    "start_time": "2024-06-19T18:19:04.944Z"
   },
   {
    "duration": 935,
    "start_time": "2024-06-19T18:19:28.086Z"
   },
   {
    "duration": 15,
    "start_time": "2024-06-19T18:19:30.455Z"
   },
   {
    "duration": 44,
    "start_time": "2024-06-19T18:19:38.002Z"
   },
   {
    "duration": 16,
    "start_time": "2024-06-19T18:20:03.068Z"
   },
   {
    "duration": 19,
    "start_time": "2024-06-19T18:20:16.592Z"
   },
   {
    "duration": 108,
    "start_time": "2024-06-19T18:20:26.623Z"
   },
   {
    "duration": 20,
    "start_time": "2024-06-19T18:20:43.594Z"
   },
   {
    "duration": 1039,
    "start_time": "2024-06-19T18:20:59.924Z"
   },
   {
    "duration": 1677,
    "start_time": "2024-06-19T18:21:03.945Z"
   },
   {
    "duration": 123,
    "start_time": "2024-06-19T18:21:10.339Z"
   },
   {
    "duration": 998,
    "start_time": "2024-06-19T18:21:37.178Z"
   },
   {
    "duration": 107,
    "start_time": "2024-06-19T18:21:43.949Z"
   },
   {
    "duration": 1580,
    "start_time": "2024-06-19T18:22:25.424Z"
   },
   {
    "duration": 922,
    "start_time": "2024-06-19T18:22:38.898Z"
   },
   {
    "duration": 12,
    "start_time": "2024-06-19T18:23:15.151Z"
   },
   {
    "duration": 10,
    "start_time": "2024-06-19T18:23:19.027Z"
   },
   {
    "duration": 31,
    "start_time": "2024-06-19T18:23:40.555Z"
   },
   {
    "duration": 31,
    "start_time": "2024-06-19T18:23:47.844Z"
   },
   {
    "duration": 31,
    "start_time": "2024-06-19T18:23:56.151Z"
   },
   {
    "duration": 31,
    "start_time": "2024-06-19T18:25:19.266Z"
   },
   {
    "duration": 6,
    "start_time": "2024-06-19T18:25:47.735Z"
   },
   {
    "duration": 6,
    "start_time": "2024-06-19T18:25:55.154Z"
   },
   {
    "duration": 53,
    "start_time": "2024-06-19T18:26:10.856Z"
   },
   {
    "duration": 83,
    "start_time": "2024-06-19T18:27:44.334Z"
   },
   {
    "duration": 98,
    "start_time": "2024-06-19T18:27:46.955Z"
   },
   {
    "duration": 17,
    "start_time": "2024-06-19T18:28:03.460Z"
   },
   {
    "duration": 6158,
    "start_time": "2024-06-19T18:28:10.541Z"
   },
   {
    "duration": 2,
    "start_time": "2024-06-19T18:28:36.836Z"
   },
   {
    "duration": 1273,
    "start_time": "2024-06-19T18:28:37.379Z"
   },
   {
    "duration": 706,
    "start_time": "2024-06-19T18:28:43.529Z"
   },
   {
    "duration": 1031,
    "start_time": "2024-06-19T18:28:44.237Z"
   },
   {
    "duration": 684,
    "start_time": "2024-06-19T18:28:45.269Z"
   },
   {
    "duration": 4326,
    "start_time": "2024-06-19T18:28:49.904Z"
   },
   {
    "duration": 16,
    "start_time": "2024-06-19T18:29:01.182Z"
   },
   {
    "duration": 26,
    "start_time": "2024-06-19T18:30:40.315Z"
   },
   {
    "duration": 44,
    "start_time": "2024-06-19T18:30:48.685Z"
   },
   {
    "duration": 19,
    "start_time": "2024-06-19T18:30:49.806Z"
   },
   {
    "duration": 49,
    "start_time": "2024-06-19T18:32:25.979Z"
   },
   {
    "duration": 247,
    "start_time": "2024-06-19T18:33:10.476Z"
   },
   {
    "duration": 585,
    "start_time": "2024-06-19T18:34:25.975Z"
   },
   {
    "duration": 23,
    "start_time": "2024-06-19T18:36:52.151Z"
   },
   {
    "duration": 18,
    "start_time": "2024-06-19T18:36:54.798Z"
   },
   {
    "duration": 371,
    "start_time": "2024-06-19T18:37:00.094Z"
   },
   {
    "duration": 77,
    "start_time": "2024-06-19T18:37:01.092Z"
   },
   {
    "duration": 293,
    "start_time": "2024-06-19T18:37:08.810Z"
   },
   {
    "duration": 513,
    "start_time": "2024-06-19T18:37:19.759Z"
   },
   {
    "duration": 23,
    "start_time": "2024-06-19T18:38:17.531Z"
   },
   {
    "duration": 890,
    "start_time": "2024-06-19T18:38:21.807Z"
   },
   {
    "duration": 47,
    "start_time": "2024-06-19T18:38:42.265Z"
   },
   {
    "duration": 12,
    "start_time": "2024-06-19T18:38:46.156Z"
   },
   {
    "duration": 4,
    "start_time": "2024-06-19T18:39:09.100Z"
   },
   {
    "duration": 3,
    "start_time": "2024-06-19T18:39:22.015Z"
   },
   {
    "duration": 2,
    "start_time": "2024-06-19T18:39:25.449Z"
   },
   {
    "duration": 2,
    "start_time": "2024-06-19T18:39:40.427Z"
   },
   {
    "duration": 3,
    "start_time": "2024-06-19T18:40:10.430Z"
   },
   {
    "duration": 14,
    "start_time": "2024-06-19T18:40:11.200Z"
   },
   {
    "duration": 377,
    "start_time": "2024-06-19T18:40:15.141Z"
   },
   {
    "duration": 94,
    "start_time": "2024-06-19T18:40:16.177Z"
   },
   {
    "duration": 10,
    "start_time": "2024-06-19T18:40:18.766Z"
   },
   {
    "duration": 4,
    "start_time": "2024-06-19T18:43:39.083Z"
   },
   {
    "duration": 14864,
    "start_time": "2024-06-19T18:43:44.109Z"
   },
   {
    "duration": 3336160,
    "start_time": "2024-06-19T18:44:03.812Z"
   },
   {
    "duration": 0,
    "start_time": "2024-06-19T19:39:39.975Z"
   },
   {
    "duration": 0,
    "start_time": "2024-06-19T19:39:39.977Z"
   },
   {
    "duration": 0,
    "start_time": "2024-06-19T19:39:39.978Z"
   },
   {
    "duration": 0,
    "start_time": "2024-06-19T19:39:39.980Z"
   },
   {
    "duration": 9,
    "start_time": "2024-06-19T19:39:43.394Z"
   },
   {
    "duration": 18,
    "start_time": "2024-06-19T19:40:05.213Z"
   },
   {
    "duration": 27,
    "start_time": "2024-06-19T19:40:20.356Z"
   },
   {
    "duration": 5055,
    "start_time": "2024-06-19T19:42:23.694Z"
   },
   {
    "duration": 1398,
    "start_time": "2024-06-19T19:42:28.751Z"
   },
   {
    "duration": 1094,
    "start_time": "2024-06-19T19:42:30.151Z"
   },
   {
    "duration": 25,
    "start_time": "2024-06-19T19:42:31.247Z"
   },
   {
    "duration": 161,
    "start_time": "2024-06-19T19:42:31.274Z"
   },
   {
    "duration": 105,
    "start_time": "2024-06-19T19:42:31.436Z"
   },
   {
    "duration": 34,
    "start_time": "2024-06-19T19:42:31.542Z"
   },
   {
    "duration": 5518,
    "start_time": "2024-06-19T19:42:31.578Z"
   },
   {
    "duration": 3,
    "start_time": "2024-06-19T19:42:37.098Z"
   },
   {
    "duration": 1372,
    "start_time": "2024-06-19T19:42:37.103Z"
   },
   {
    "duration": 716,
    "start_time": "2024-06-19T19:42:38.477Z"
   },
   {
    "duration": 713,
    "start_time": "2024-06-19T19:42:39.195Z"
   },
   {
    "duration": 699,
    "start_time": "2024-06-19T19:42:39.910Z"
   },
   {
    "duration": 4524,
    "start_time": "2024-06-19T19:42:40.611Z"
   },
   {
    "duration": 687,
    "start_time": "2024-06-19T19:42:45.137Z"
   },
   {
    "duration": 22,
    "start_time": "2024-06-19T19:42:45.826Z"
   },
   {
    "duration": 34,
    "start_time": "2024-06-19T19:42:45.850Z"
   },
   {
    "duration": 21,
    "start_time": "2024-06-19T19:42:45.886Z"
   },
   {
    "duration": 59,
    "start_time": "2024-06-19T19:42:45.908Z"
   },
   {
    "duration": 19,
    "start_time": "2024-06-19T19:42:45.968Z"
   },
   {
    "duration": 46,
    "start_time": "2024-06-19T19:42:45.988Z"
   },
   {
    "duration": 468,
    "start_time": "2024-06-19T19:42:46.035Z"
   },
   {
    "duration": 92,
    "start_time": "2024-06-19T19:42:46.505Z"
   },
   {
    "duration": 508,
    "start_time": "2024-06-19T19:42:46.599Z"
   },
   {
    "duration": 59,
    "start_time": "2024-06-19T19:42:47.109Z"
   },
   {
    "duration": 15,
    "start_time": "2024-06-19T19:42:47.169Z"
   },
   {
    "duration": 12,
    "start_time": "2024-06-19T19:42:47.186Z"
   },
   {
    "duration": 3,
    "start_time": "2024-06-19T19:42:47.201Z"
   },
   {
    "duration": 20,
    "start_time": "2024-06-19T19:42:47.205Z"
   },
   {
    "duration": 7,
    "start_time": "2024-06-19T19:42:47.227Z"
   },
   {
    "duration": 4,
    "start_time": "2024-06-19T19:42:47.235Z"
   },
   {
    "duration": 15,
    "start_time": "2024-06-19T19:42:47.241Z"
   },
   {
    "duration": 397,
    "start_time": "2024-06-19T19:42:47.258Z"
   },
   {
    "duration": 97,
    "start_time": "2024-06-19T19:42:47.657Z"
   },
   {
    "duration": 15,
    "start_time": "2024-06-19T19:42:47.756Z"
   },
   {
    "duration": 424277,
    "start_time": "2024-06-19T19:42:47.773Z"
   },
   {
    "duration": 0,
    "start_time": "2024-06-19T19:49:52.052Z"
   },
   {
    "duration": 0,
    "start_time": "2024-06-19T19:49:52.053Z"
   },
   {
    "duration": 0,
    "start_time": "2024-06-19T19:49:52.055Z"
   },
   {
    "duration": 0,
    "start_time": "2024-06-19T19:49:52.056Z"
   },
   {
    "duration": 0,
    "start_time": "2024-06-19T19:49:52.065Z"
   },
   {
    "duration": 0,
    "start_time": "2024-06-19T19:49:52.066Z"
   },
   {
    "duration": 0,
    "start_time": "2024-06-19T19:49:52.067Z"
   },
   {
    "duration": 0,
    "start_time": "2024-06-19T19:49:52.068Z"
   },
   {
    "duration": 0,
    "start_time": "2024-06-19T19:49:52.070Z"
   },
   {
    "duration": 477611,
    "start_time": "2024-06-19T19:49:54.961Z"
   },
   {
    "duration": 2748380,
    "start_time": "2024-06-19T19:58:02.705Z"
   },
   {
    "duration": 0,
    "start_time": "2024-06-19T20:43:51.088Z"
   },
   {
    "duration": 0,
    "start_time": "2024-06-19T20:43:51.089Z"
   },
   {
    "duration": 0,
    "start_time": "2024-06-19T20:43:51.091Z"
   },
   {
    "duration": 0,
    "start_time": "2024-06-19T20:43:51.092Z"
   },
   {
    "duration": 11,
    "start_time": "2024-06-19T20:44:00.734Z"
   },
   {
    "duration": 97946,
    "start_time": "2024-06-19T20:44:12.438Z"
   },
   {
    "duration": 0,
    "start_time": "2024-06-19T20:45:50.387Z"
   },
   {
    "duration": 61123,
    "start_time": "2024-06-19T20:46:04.971Z"
   },
   {
    "duration": 54639,
    "start_time": "2024-06-19T20:47:07.843Z"
   },
   {
    "duration": 201848,
    "start_time": "2024-06-19T20:48:20.431Z"
   },
   {
    "duration": 3792047,
    "start_time": "2024-06-19T20:51:50.227Z"
   },
   {
    "duration": 3,
    "start_time": "2024-06-19T21:55:02.279Z"
   },
   {
    "duration": 41,
    "start_time": "2024-06-19T21:55:02.285Z"
   },
   {
    "duration": 53,
    "start_time": "2024-06-19T21:55:02.328Z"
   },
   {
    "duration": 0,
    "start_time": "2024-06-19T21:55:02.382Z"
   },
   {
    "duration": 0,
    "start_time": "2024-06-19T21:55:02.384Z"
   },
   {
    "duration": 0,
    "start_time": "2024-06-19T21:55:02.385Z"
   },
   {
    "duration": 0,
    "start_time": "2024-06-19T21:55:02.386Z"
   },
   {
    "duration": 231760,
    "start_time": "2024-06-19T21:55:24.627Z"
   },
   {
    "duration": 95,
    "start_time": "2024-06-19T21:59:16.389Z"
   },
   {
    "duration": 3,
    "start_time": "2024-06-19T21:59:48.571Z"
   },
   {
    "duration": 60323,
    "start_time": "2024-06-19T21:59:57.594Z"
   },
   {
    "duration": 9,
    "start_time": "2024-06-19T22:00:57.920Z"
   },
   {
    "duration": 0,
    "start_time": "2024-06-19T22:00:57.931Z"
   },
   {
    "duration": 4,
    "start_time": "2024-06-19T22:01:27.636Z"
   },
   {
    "duration": 3,
    "start_time": "2024-06-19T22:01:37.884Z"
   },
   {
    "duration": 61464,
    "start_time": "2024-06-19T22:02:30.928Z"
   },
   {
    "duration": 6,
    "start_time": "2024-06-19T22:03:32.394Z"
   },
   {
    "duration": 14,
    "start_time": "2024-06-19T22:03:32.402Z"
   },
   {
    "duration": 2632,
    "start_time": "2024-06-19T22:03:32.418Z"
   },
   {
    "duration": 5,
    "start_time": "2024-06-19T22:03:35.051Z"
   },
   {
    "duration": 2682,
    "start_time": "2024-06-19T22:04:19.051Z"
   },
   {
    "duration": 6,
    "start_time": "2024-06-19T22:05:09.855Z"
   },
   {
    "duration": 4,
    "start_time": "2024-06-19T22:05:20.734Z"
   },
   {
    "duration": 5,
    "start_time": "2024-06-19T22:05:44.181Z"
   },
   {
    "duration": 66617,
    "start_time": "2024-06-19T22:09:24.463Z"
   },
   {
    "duration": 3,
    "start_time": "2024-06-19T22:10:31.082Z"
   },
   {
    "duration": 10047,
    "start_time": "2024-06-19T22:10:36.288Z"
   },
   {
    "duration": 3,
    "start_time": "2024-06-19T22:10:46.336Z"
   },
   {
    "duration": 4,
    "start_time": "2024-06-19T22:10:55.076Z"
   },
   {
    "duration": 429,
    "start_time": "2024-06-19T22:12:49.752Z"
   },
   {
    "duration": 4,
    "start_time": "2024-06-19T22:13:16.314Z"
   },
   {
    "duration": 4,
    "start_time": "2024-06-19T22:13:17.216Z"
   },
   {
    "duration": 5155,
    "start_time": "2024-06-19T22:17:53.973Z"
   },
   {
    "duration": 1306,
    "start_time": "2024-06-19T22:17:59.130Z"
   },
   {
    "duration": 1058,
    "start_time": "2024-06-19T22:18:00.438Z"
   },
   {
    "duration": 20,
    "start_time": "2024-06-19T22:18:01.499Z"
   },
   {
    "duration": 250,
    "start_time": "2024-06-19T22:18:01.520Z"
   },
   {
    "duration": 139,
    "start_time": "2024-06-19T22:18:01.774Z"
   },
   {
    "duration": 30,
    "start_time": "2024-06-19T22:18:01.915Z"
   },
   {
    "duration": 5601,
    "start_time": "2024-06-19T22:18:01.947Z"
   },
   {
    "duration": 3,
    "start_time": "2024-06-19T22:18:07.550Z"
   },
   {
    "duration": 1375,
    "start_time": "2024-06-19T22:18:07.555Z"
   },
   {
    "duration": 695,
    "start_time": "2024-06-19T22:18:08.932Z"
   },
   {
    "duration": 672,
    "start_time": "2024-06-19T22:18:09.628Z"
   },
   {
    "duration": 725,
    "start_time": "2024-06-19T22:18:10.301Z"
   },
   {
    "duration": 4443,
    "start_time": "2024-06-19T22:18:11.028Z"
   },
   {
    "duration": 693,
    "start_time": "2024-06-19T22:18:15.472Z"
   },
   {
    "duration": 19,
    "start_time": "2024-06-19T22:18:16.167Z"
   },
   {
    "duration": 24,
    "start_time": "2024-06-19T22:18:16.188Z"
   },
   {
    "duration": 19,
    "start_time": "2024-06-19T22:18:16.214Z"
   },
   {
    "duration": 60,
    "start_time": "2024-06-19T22:18:16.235Z"
   },
   {
    "duration": 19,
    "start_time": "2024-06-19T22:18:16.297Z"
   },
   {
    "duration": 64,
    "start_time": "2024-06-19T22:18:16.317Z"
   },
   {
    "duration": 473,
    "start_time": "2024-06-19T22:18:16.382Z"
   },
   {
    "duration": 87,
    "start_time": "2024-06-19T22:18:16.856Z"
   },
   {
    "duration": 528,
    "start_time": "2024-06-19T22:18:16.945Z"
   },
   {
    "duration": 48,
    "start_time": "2024-06-19T22:18:17.474Z"
   },
   {
    "duration": 16,
    "start_time": "2024-06-19T22:18:17.523Z"
   },
   {
    "duration": 30,
    "start_time": "2024-06-19T22:18:17.541Z"
   },
   {
    "duration": 3,
    "start_time": "2024-06-19T22:18:17.574Z"
   },
   {
    "duration": 3,
    "start_time": "2024-06-19T22:18:17.578Z"
   },
   {
    "duration": 4,
    "start_time": "2024-06-19T22:18:17.582Z"
   },
   {
    "duration": 10,
    "start_time": "2024-06-19T22:18:17.588Z"
   },
   {
    "duration": 16,
    "start_time": "2024-06-19T22:18:17.600Z"
   },
   {
    "duration": 379,
    "start_time": "2024-06-19T22:18:17.618Z"
   },
   {
    "duration": 102,
    "start_time": "2024-06-19T22:18:17.999Z"
   },
   {
    "duration": 11,
    "start_time": "2024-06-19T22:18:18.103Z"
   },
   {
    "duration": 46,
    "start_time": "2024-06-20T08:40:03.594Z"
   },
   {
    "duration": 9636,
    "start_time": "2024-06-20T08:40:10.271Z"
   },
   {
    "duration": 1517,
    "start_time": "2024-06-20T08:40:19.909Z"
   },
   {
    "duration": 2927,
    "start_time": "2024-06-20T08:40:21.428Z"
   },
   {
    "duration": 16,
    "start_time": "2024-06-20T08:40:24.357Z"
   },
   {
    "duration": 114,
    "start_time": "2024-06-20T08:40:24.375Z"
   },
   {
    "duration": 101,
    "start_time": "2024-06-20T08:40:24.491Z"
   },
   {
    "duration": 25,
    "start_time": "2024-06-20T08:40:24.594Z"
   },
   {
    "duration": 5363,
    "start_time": "2024-06-20T08:40:24.620Z"
   },
   {
    "duration": 3,
    "start_time": "2024-06-20T08:40:29.985Z"
   },
   {
    "duration": 1418,
    "start_time": "2024-06-20T08:40:29.990Z"
   },
   {
    "duration": 725,
    "start_time": "2024-06-20T08:40:31.410Z"
   },
   {
    "duration": 692,
    "start_time": "2024-06-20T08:40:32.136Z"
   },
   {
    "duration": 4576,
    "start_time": "2024-06-20T08:40:32.830Z"
   },
   {
    "duration": 685,
    "start_time": "2024-06-20T08:40:37.408Z"
   },
   {
    "duration": 23,
    "start_time": "2024-06-20T08:40:38.094Z"
   },
   {
    "duration": 45,
    "start_time": "2024-06-20T08:40:38.118Z"
   },
   {
    "duration": 19,
    "start_time": "2024-06-20T08:40:38.164Z"
   },
   {
    "duration": 98,
    "start_time": "2024-06-20T08:40:38.185Z"
   },
   {
    "duration": 22,
    "start_time": "2024-06-20T08:40:38.284Z"
   },
   {
    "duration": 51,
    "start_time": "2024-06-20T08:40:38.307Z"
   },
   {
    "duration": 363,
    "start_time": "2024-06-20T08:40:38.360Z"
   },
   {
    "duration": 85,
    "start_time": "2024-06-20T08:40:38.725Z"
   },
   {
    "duration": 578,
    "start_time": "2024-06-20T08:40:38.812Z"
   },
   {
    "duration": 53,
    "start_time": "2024-06-20T08:40:39.392Z"
   },
   {
    "duration": 14,
    "start_time": "2024-06-20T08:40:39.447Z"
   },
   {
    "duration": 2,
    "start_time": "2024-06-20T08:40:39.462Z"
   },
   {
    "duration": 3,
    "start_time": "2024-06-20T08:40:39.466Z"
   },
   {
    "duration": 4,
    "start_time": "2024-06-20T08:40:39.472Z"
   },
   {
    "duration": 13,
    "start_time": "2024-06-20T08:40:39.477Z"
   },
   {
    "duration": 5,
    "start_time": "2024-06-20T08:40:39.491Z"
   },
   {
    "duration": 18,
    "start_time": "2024-06-20T08:40:39.497Z"
   },
   {
    "duration": 393,
    "start_time": "2024-06-20T08:40:39.517Z"
   },
   {
    "duration": 98,
    "start_time": "2024-06-20T08:40:39.912Z"
   },
   {
    "duration": 10,
    "start_time": "2024-06-20T08:40:40.012Z"
   },
   {
    "duration": 79236,
    "start_time": "2024-06-20T08:40:40.023Z"
   },
   {
    "duration": 84,
    "start_time": "2024-06-20T08:41:59.261Z"
   },
   {
    "duration": 6,
    "start_time": "2024-06-20T08:41:59.347Z"
   },
   {
    "duration": 6028,
    "start_time": "2024-06-20T08:41:59.354Z"
   },
   {
    "duration": 3,
    "start_time": "2024-06-20T08:42:05.446Z"
   },
   {
    "duration": 65472,
    "start_time": "2024-06-20T08:42:05.451Z"
   },
   {
    "duration": 4,
    "start_time": "2024-06-20T08:43:10.925Z"
   },
   {
    "duration": 9806,
    "start_time": "2024-06-20T08:43:10.946Z"
   },
   {
    "duration": 3,
    "start_time": "2024-06-20T08:43:20.753Z"
   },
   {
    "duration": 413,
    "start_time": "2024-06-20T08:43:20.757Z"
   },
   {
    "duration": 76,
    "start_time": "2024-06-20T08:43:21.171Z"
   },
   {
    "duration": 14,
    "start_time": "2024-06-20T08:43:21.248Z"
   },
   {
    "duration": 61,
    "start_time": "2024-06-21T09:28:57.587Z"
   },
   {
    "duration": 10339,
    "start_time": "2024-06-21T09:35:48.990Z"
   },
   {
    "duration": 1571,
    "start_time": "2024-06-21T09:35:59.331Z"
   },
   {
    "duration": 2975,
    "start_time": "2024-06-21T09:36:00.904Z"
   },
   {
    "duration": 17,
    "start_time": "2024-06-21T09:36:03.881Z"
   },
   {
    "duration": 142,
    "start_time": "2024-06-21T09:36:03.900Z"
   },
   {
    "duration": 102,
    "start_time": "2024-06-21T09:36:04.044Z"
   },
   {
    "duration": 30,
    "start_time": "2024-06-21T09:36:04.148Z"
   },
   {
    "duration": 5569,
    "start_time": "2024-06-21T09:36:04.180Z"
   },
   {
    "duration": 3,
    "start_time": "2024-06-21T09:36:09.751Z"
   },
   {
    "duration": 1452,
    "start_time": "2024-06-21T09:36:09.756Z"
   },
   {
    "duration": 697,
    "start_time": "2024-06-21T09:36:11.210Z"
   },
   {
    "duration": 776,
    "start_time": "2024-06-21T09:36:11.908Z"
   },
   {
    "duration": 910,
    "start_time": "2024-06-21T09:36:12.685Z"
   },
   {
    "duration": 0,
    "start_time": "2024-06-21T09:36:13.597Z"
   },
   {
    "duration": 0,
    "start_time": "2024-06-21T09:36:13.598Z"
   },
   {
    "duration": 0,
    "start_time": "2024-06-21T09:36:13.599Z"
   },
   {
    "duration": 0,
    "start_time": "2024-06-21T09:36:13.600Z"
   },
   {
    "duration": 0,
    "start_time": "2024-06-21T09:36:13.600Z"
   },
   {
    "duration": 0,
    "start_time": "2024-06-21T09:36:13.601Z"
   },
   {
    "duration": 0,
    "start_time": "2024-06-21T09:36:13.602Z"
   },
   {
    "duration": 0,
    "start_time": "2024-06-21T09:36:13.603Z"
   },
   {
    "duration": 0,
    "start_time": "2024-06-21T09:36:13.604Z"
   },
   {
    "duration": 0,
    "start_time": "2024-06-21T09:36:13.605Z"
   },
   {
    "duration": 0,
    "start_time": "2024-06-21T09:36:13.606Z"
   },
   {
    "duration": 0,
    "start_time": "2024-06-21T09:36:13.607Z"
   },
   {
    "duration": 0,
    "start_time": "2024-06-21T09:36:13.608Z"
   },
   {
    "duration": 0,
    "start_time": "2024-06-21T09:36:13.609Z"
   },
   {
    "duration": 0,
    "start_time": "2024-06-21T09:36:13.610Z"
   },
   {
    "duration": 0,
    "start_time": "2024-06-21T09:36:13.611Z"
   },
   {
    "duration": 0,
    "start_time": "2024-06-21T09:36:13.612Z"
   },
   {
    "duration": 0,
    "start_time": "2024-06-21T09:36:13.614Z"
   },
   {
    "duration": 0,
    "start_time": "2024-06-21T09:36:13.615Z"
   },
   {
    "duration": 0,
    "start_time": "2024-06-21T09:36:13.616Z"
   },
   {
    "duration": 0,
    "start_time": "2024-06-21T09:36:13.617Z"
   },
   {
    "duration": 0,
    "start_time": "2024-06-21T09:36:13.645Z"
   },
   {
    "duration": 0,
    "start_time": "2024-06-21T09:36:13.646Z"
   },
   {
    "duration": 0,
    "start_time": "2024-06-21T09:36:13.647Z"
   },
   {
    "duration": 0,
    "start_time": "2024-06-21T09:36:13.648Z"
   },
   {
    "duration": 0,
    "start_time": "2024-06-21T09:36:13.649Z"
   },
   {
    "duration": 0,
    "start_time": "2024-06-21T09:36:13.650Z"
   },
   {
    "duration": 0,
    "start_time": "2024-06-21T09:36:13.651Z"
   },
   {
    "duration": 0,
    "start_time": "2024-06-21T09:36:13.652Z"
   },
   {
    "duration": 0,
    "start_time": "2024-06-21T09:36:13.653Z"
   },
   {
    "duration": 0,
    "start_time": "2024-06-21T09:36:13.654Z"
   },
   {
    "duration": 0,
    "start_time": "2024-06-21T09:36:13.655Z"
   },
   {
    "duration": 0,
    "start_time": "2024-06-21T09:36:13.656Z"
   },
   {
    "duration": 4,
    "start_time": "2024-06-21T09:36:54.247Z"
   },
   {
    "duration": 33,
    "start_time": "2024-06-21T09:37:05.084Z"
   },
   {
    "duration": 796,
    "start_time": "2024-06-21T09:37:17.700Z"
   },
   {
    "duration": 36,
    "start_time": "2024-06-21T09:37:34.265Z"
   },
   {
    "duration": 70,
    "start_time": "2024-06-21T09:37:45.424Z"
   },
   {
    "duration": 205,
    "start_time": "2024-06-21T09:37:54.119Z"
   },
   {
    "duration": 204,
    "start_time": "2024-06-21T09:38:01.789Z"
   },
   {
    "duration": 205,
    "start_time": "2024-06-21T09:38:05.082Z"
   },
   {
    "duration": 58,
    "start_time": "2024-06-21T09:38:35.275Z"
   },
   {
    "duration": 4409,
    "start_time": "2024-06-21T09:38:45.597Z"
   },
   {
    "duration": 4008,
    "start_time": "2024-06-21T09:39:21.129Z"
   },
   {
    "duration": 1578,
    "start_time": "2024-06-21T09:40:54.569Z"
   },
   {
    "duration": 35,
    "start_time": "2024-06-21T09:41:39.159Z"
   },
   {
    "duration": 3,
    "start_time": "2024-06-21T09:42:20.839Z"
   },
   {
    "duration": 5013,
    "start_time": "2024-06-21T09:42:48.109Z"
   },
   {
    "duration": 1350,
    "start_time": "2024-06-21T09:42:53.125Z"
   },
   {
    "duration": 992,
    "start_time": "2024-06-21T09:42:54.477Z"
   },
   {
    "duration": 17,
    "start_time": "2024-06-21T09:42:55.471Z"
   },
   {
    "duration": 119,
    "start_time": "2024-06-21T09:42:55.490Z"
   },
   {
    "duration": 111,
    "start_time": "2024-06-21T09:42:55.610Z"
   },
   {
    "duration": 31,
    "start_time": "2024-06-21T09:42:55.723Z"
   },
   {
    "duration": 5481,
    "start_time": "2024-06-21T09:42:55.756Z"
   },
   {
    "duration": 3,
    "start_time": "2024-06-21T09:43:01.245Z"
   },
   {
    "duration": 1447,
    "start_time": "2024-06-21T09:43:01.250Z"
   },
   {
    "duration": 681,
    "start_time": "2024-06-21T09:43:02.698Z"
   },
   {
    "duration": 761,
    "start_time": "2024-06-21T09:43:03.381Z"
   },
   {
    "duration": 1541,
    "start_time": "2024-06-21T09:43:04.145Z"
   },
   {
    "duration": 647,
    "start_time": "2024-06-21T09:43:05.688Z"
   },
   {
    "duration": 26,
    "start_time": "2024-06-21T09:43:06.337Z"
   },
   {
    "duration": 23,
    "start_time": "2024-06-21T09:43:06.364Z"
   },
   {
    "duration": 21,
    "start_time": "2024-06-21T09:43:06.389Z"
   },
   {
    "duration": 50,
    "start_time": "2024-06-21T09:43:06.411Z"
   },
   {
    "duration": 18,
    "start_time": "2024-06-21T09:43:06.462Z"
   },
   {
    "duration": 57,
    "start_time": "2024-06-21T09:43:06.482Z"
   },
   {
    "duration": 367,
    "start_time": "2024-06-21T09:43:06.541Z"
   },
   {
    "duration": 83,
    "start_time": "2024-06-21T09:43:06.909Z"
   },
   {
    "duration": 512,
    "start_time": "2024-06-21T09:43:06.994Z"
   },
   {
    "duration": 58,
    "start_time": "2024-06-21T09:43:07.508Z"
   },
   {
    "duration": 16,
    "start_time": "2024-06-21T09:43:07.567Z"
   },
   {
    "duration": 4,
    "start_time": "2024-06-21T09:43:07.584Z"
   },
   {
    "duration": 7,
    "start_time": "2024-06-21T09:43:07.589Z"
   },
   {
    "duration": 7,
    "start_time": "2024-06-21T09:43:07.599Z"
   },
   {
    "duration": 20,
    "start_time": "2024-06-21T09:43:07.607Z"
   },
   {
    "duration": 15,
    "start_time": "2024-06-21T09:43:07.629Z"
   },
   {
    "duration": 22,
    "start_time": "2024-06-21T09:43:07.646Z"
   },
   {
    "duration": 367,
    "start_time": "2024-06-21T09:43:07.669Z"
   },
   {
    "duration": 93,
    "start_time": "2024-06-21T09:43:08.038Z"
   },
   {
    "duration": 14,
    "start_time": "2024-06-21T09:43:08.132Z"
   },
   {
    "duration": 51904,
    "start_time": "2024-06-21T09:43:08.148Z"
   },
   {
    "duration": 2,
    "start_time": "2024-06-21T09:44:00.054Z"
   },
   {
    "duration": 133,
    "start_time": "2024-06-21T09:44:00.058Z"
   },
   {
    "duration": 6362,
    "start_time": "2024-06-21T09:44:00.193Z"
   },
   {
    "duration": 4,
    "start_time": "2024-06-21T09:44:06.557Z"
   },
   {
    "duration": 60427,
    "start_time": "2024-06-21T09:44:06.562Z"
   },
   {
    "duration": 3,
    "start_time": "2024-06-21T09:45:06.991Z"
   },
   {
    "duration": 7769,
    "start_time": "2024-06-21T09:45:06.995Z"
   },
   {
    "duration": 3,
    "start_time": "2024-06-21T09:45:14.766Z"
   },
   {
    "duration": 386,
    "start_time": "2024-06-21T09:45:14.770Z"
   },
   {
    "duration": 4,
    "start_time": "2024-06-21T09:45:15.158Z"
   },
   {
    "duration": 76,
    "start_time": "2024-06-21T09:45:15.163Z"
   }
  ],
  "kernelspec": {
   "display_name": "Python 3 (ipykernel)",
   "language": "python",
   "name": "python3"
  },
  "language_info": {
   "codemirror_mode": {
    "name": "ipython",
    "version": 3
   },
   "file_extension": ".py",
   "mimetype": "text/x-python",
   "name": "python",
   "nbconvert_exporter": "python",
   "pygments_lexer": "ipython3",
   "version": "3.11.5"
  },
  "toc": {
   "base_numbering": 1,
   "nav_menu": {},
   "number_sections": true,
   "sideBar": true,
   "skip_h1_title": true,
   "title_cell": "Table of Contents",
   "title_sidebar": "Contents",
   "toc_cell": false,
   "toc_position": {
    "height": "calc(100% - 180px)",
    "left": "10px",
    "top": "150px",
    "width": "265.6px"
   },
   "toc_section_display": true,
   "toc_window_display": true
  }
 },
 "nbformat": 4,
 "nbformat_minor": 2
}
